{
 "cells": [
  {
   "cell_type": "code",
   "execution_count": null,
   "metadata": {},
   "outputs": [],
   "source": [
    "import os\n",
    "import random\n",
    "\n",
    "import numpy as np\n",
    "import matplotlib.pyplot as plt\n",
    "import pandas as pd\n",
    "import seaborn as sns\n",
    "import pyarrow.parquet as pq\n",
    "from sentence_transformers import SentenceTransformer"
   ]
  },
  {
   "cell_type": "code",
   "execution_count": null,
   "metadata": {
    "tags": [
     "parameters"
    ]
   },
   "outputs": [],
   "source": [
    "# Parameters\n",
    "MODEL_NAME: str = \"all-MiniLM-L6-v2\"\n",
    "POOLING_STRATEGY: str = \"max\"\n",
    "OWNER: str = \"sentence-transformers\""
   ]
  },
  {
   "cell_type": "code",
   "execution_count": null,
   "metadata": {},
   "outputs": [],
   "source": [
    "CLEAN_DATA_PATH = os.path.join(\"..\", \"data\", \"healthhub_small_clean\")\n",
    "OUTPUT_CM_PATH = os.path.join(\n",
    "    \"..\",\n",
    "    \"artifacts\",\n",
    "    \"outputs\",\n",
    "    f\"{MODEL_NAME}_{POOLING_STRATEGY}_confusion_matrix.png\",\n",
    ")\n",
    "\n",
    "CLEANED_EMBEDDING_LIST_PATH = os.path.join(\n",
    "    CLEAN_DATA_PATH,\n",
    "    f\"healthhub_{MODEL_NAME}_{POOLING_STRATEGY}_embeddings_small_clean.parquet\",\n",
    ")\n",
    "\n",
    "OUTPUT_SIM_PATH = os.path.join(\n",
    "    \"..\",\n",
    "    \"artifacts\",\n",
    "    \"outputs\",\n",
    "    f\"{MODEL_NAME}_{POOLING_STRATEGY}_similarity_score.csv\",\n",
    ")"
   ]
  },
  {
   "cell_type": "markdown",
   "metadata": {},
   "source": [
    "## Load Embeddings Dataframe"
   ]
  },
  {
   "cell_type": "code",
   "execution_count": null,
   "metadata": {},
   "outputs": [],
   "source": [
    "embeddings_table = pq.read_table(CLEANED_EMBEDDING_LIST_PATH)\n",
    "embeddings_df = embeddings_table.to_pandas()\n",
    "embeddings_df.head()"
   ]
  },
  {
   "cell_type": "markdown",
   "metadata": {},
   "source": [
    "## Load Ground Truth Dataframe"
   ]
  },
  {
   "cell_type": "code",
   "execution_count": null,
   "metadata": {},
   "outputs": [],
   "source": [
    "ground_df = pd.read_excel(\n",
    "    os.path.join(\n",
    "        \"..\", \"data\", \"Synapxe Content Prioritisation - Live Healthy_020724.xlsx\"\n",
    "    ),\n",
    "    sheet_name=\"All Live Healthy\",\n",
    "    index_col=False,\n",
    ")\n",
    "\n",
    "ground_df.head()"
   ]
  },
  {
   "cell_type": "code",
   "execution_count": null,
   "metadata": {},
   "outputs": [],
   "source": [
    "merge_df = pd.merge(\n",
    "    embeddings_df, ground_df, how=\"left\", left_on=\"doc_source\", right_on=\"URL\"\n",
    ")\n",
    "merge_df = merge_df[[*embeddings_df.columns, \"Combine Group ID\", \"Page Title\"]]\n",
    "merge_df = merge_df[merge_df[\"Combine Group ID\"].notna()]\n",
    "merge_df = merge_df.sort_values(by=\"Combine Group ID\").reset_index(drop=True)\n",
    "merge_df[\"Combine Group ID\"] = merge_df[\"Combine Group ID\"].astype(int)"
   ]
  },
  {
   "cell_type": "code",
   "execution_count": null,
   "metadata": {},
   "outputs": [],
   "source": [
    "model = SentenceTransformer(f'{OWNER}/{MODEL_NAME}')"
   ]
  },
  {
   "cell_type": "code",
   "execution_count": null,
   "metadata": {},
   "outputs": [],
   "source": [
    "embedding_col = f\"{MODEL_NAME}_{POOLING_STRATEGY}_embeddings\"\n",
    "\n",
    "# Get the embeddings to compute the similarities\n",
    "embeddings_series = merge_df[embedding_col]\n",
    "embeddings = np.vstack(embeddings_series)\n",
    "\n",
    "print(embeddings.shape)  # (num_documents, embedding_dim)"
   ]
  },
  {
   "cell_type": "code",
   "execution_count": null,
   "metadata": {},
   "outputs": [],
   "source": [
    "# Calculate the embedding similarities\n",
    "similarities = model.similarity(embeddings, embeddings)\n",
    "\n",
    "print(similarities.shape)  # (num_documents, num_documents)"
   ]
  },
  {
   "cell_type": "code",
   "execution_count": null,
   "metadata": {},
   "outputs": [],
   "source": [
    "# Function to darken a hex color\n",
    "def darken_hex_color(hex_color, factor=0.7):\n",
    "    # Ensure factor is between 0 and 1\n",
    "    factor = max(0, min(1, factor))\n",
    "\n",
    "    # Convert hex color to RGB\n",
    "    r = int(hex_color[1:3], 16)\n",
    "    g = int(hex_color[3:5], 16)\n",
    "    b = int(hex_color[5:7], 16)\n",
    "\n",
    "    # Darken the color\n",
    "    r = int(r * factor)\n",
    "    g = int(g * factor)\n",
    "    b = int(b * factor)\n",
    "\n",
    "    # Convert RGB back to hex\n",
    "    darkened_color = f\"#{r:02x}{g:02x}{b:02x}\".upper()\n",
    "\n",
    "    return darkened_color"
   ]
  },
  {
   "cell_type": "code",
   "execution_count": null,
   "metadata": {},
   "outputs": [],
   "source": [
    "article_titles = merge_df.loc[:, \"doc_title\"].tolist()\n",
    "\n",
    "start = 0\n",
    "end = 20\n",
    "\n",
    "cutoff_similarities = similarities[start:end, start:end]\n",
    "cutoff_article_titles = article_titles[start:end]\n",
    "\n",
    "# Generate random colours\n",
    "hexadecimal_alphabets = \"0123456789ABCDEF\"\n",
    "ground_truth_cluster_ids = merge_df.iloc[start:end][\"Combine Group ID\"].unique()\n",
    "colours = {\n",
    "    id: darken_hex_color(\n",
    "        \"#\" + \"\".join([random.choice(hexadecimal_alphabets) for _ in range(6)])\n",
    "    )\n",
    "    for id in ground_truth_cluster_ids\n",
    "}\n",
    "\n",
    "\n",
    "plt.subplots(figsize=(20, 18))\n",
    "ax = sns.heatmap(\n",
    "    cutoff_similarities,\n",
    "    xticklabels=cutoff_article_titles,\n",
    "    yticklabels=cutoff_article_titles,\n",
    "    annot=True,\n",
    "    fmt=\".2g\",\n",
    ")\n",
    "\n",
    "for x_tick_label, y_tick_label in zip(\n",
    "    ax.axes.get_xticklabels(), ax.axes.get_yticklabels()\n",
    "):\n",
    "\n",
    "    ground_truth_cluster_id = (\n",
    "        merge_df[merge_df[\"doc_title\"] == y_tick_label.get_text()][\"Combine Group ID\"]\n",
    "        .values[0]\n",
    "        .astype(int)\n",
    "    )\n",
    "    colour = colours[ground_truth_cluster_id]\n",
    "    y_tick_label.set_color(colour)\n",
    "    x_tick_label.set_color(colour)\n",
    "\n",
    "plt.tight_layout()\n",
    "plt.show()"
   ]
  },
  {
   "cell_type": "code",
   "execution_count": null,
   "metadata": {},
   "outputs": [],
   "source": [
    "ax.figure.savefig(OUTPUT_CM_PATH, dpi=400)"
   ]
  },
  {
   "cell_type": "code",
   "execution_count": null,
   "metadata": {},
   "outputs": [],
   "source": [
    "sim_df = pd.DataFrame(similarities.numpy())"
   ]
  },
  {
   "cell_type": "code",
   "execution_count": null,
   "metadata": {},
   "outputs": [],
   "source": [
    "sim_df.index = merge_df['Page Title']\n",
    "sim_df.columns = merge_df['Page Title']"
   ]
  },
  {
   "cell_type": "code",
   "execution_count": null,
   "metadata": {},
   "outputs": [],
   "source": [
    "sim_df.to_csv(OUTPUT_SIM_PATH, encoding='utf-8-sig')"
   ]
  },
  {
   "cell_type": "code",
   "execution_count": null,
   "metadata": {},
   "outputs": [],
   "source": []
  }
 ],
 "metadata": {
  "kernelspec": {
   "display_name": "mining",
   "language": "python",
   "name": "python3"
  },
  "language_info": {
   "codemirror_mode": {
    "name": "ipython",
    "version": 3
   },
   "file_extension": ".py",
   "mimetype": "text/x-python",
   "name": "python",
   "nbconvert_exporter": "python",
   "pygments_lexer": "ipython3",
   "version": "3.11.5"
  }
 },
 "nbformat": 4,
 "nbformat_minor": 2
}
