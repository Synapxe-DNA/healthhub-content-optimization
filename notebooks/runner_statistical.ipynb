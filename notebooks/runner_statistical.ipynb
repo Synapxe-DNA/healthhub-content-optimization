{
 "cells": [
  {
   "cell_type": "code",
   "execution_count": null,
   "metadata": {},
   "outputs": [],
   "source": [
    "import os\n",
    "\n",
    "import papermill as pm\n",
    "from logger import logger"
   ]
  },
  {
   "cell_type": "code",
   "execution_count": null,
   "metadata": {},
   "outputs": [],
   "source": [
    "notebook = \"emb_sim_statistical.ipynb\"\n",
    "pm.inspect_notebook(notebook)"
   ]
  },
  {
   "cell_type": "code",
   "execution_count": null,
   "metadata": {},
   "outputs": [],
   "source": [
    "method = \"lda\"\n",
    "# kwargs = {\"max_features\": 384}\n",
    "kwargs = {\"n_components\": 384, \"random_state\": 42}  # for LSA and LDA only\n",
    "\n",
    "for metric in [\"cosine\", \"euclidean\", \"dot\", \"manhattan\"]:\n",
    "    logger.info(\n",
    "        f\"Running {notebook} for {method} with kwargs: {', '.join([f'{k}={v}' for k, v in kwargs.items()])} and {metric}\"\n",
    "    )\n",
    "    pm.execute_notebook(\n",
    "        input_path=\"emb_sim_statistical.ipynb\",\n",
    "        output_path=os.path.join(\n",
    "            \"..\",\n",
    "            \"artifacts\",\n",
    "            \"notebooks\",\n",
    "            f\"{method}_{'_'.join([f'{k}_{v}' for k, v in kwargs.items()])}_{metric}_emd.ipynb\",\n",
    "        ),\n",
    "        parameters={\"METHOD\": method, \"KWARGS\": kwargs, \"METRIC\": metric},\n",
    "    )"
   ]
  },
  {
   "cell_type": "code",
   "execution_count": null,
   "metadata": {},
   "outputs": [],
   "source": []
  }
 ],
 "metadata": {
  "kernelspec": {
   "display_name": "mining",
   "language": "python",
   "name": "python3"
  },
  "language_info": {
   "codemirror_mode": {
    "name": "ipython",
    "version": 3
   },
   "file_extension": ".py",
   "mimetype": "text/x-python",
   "name": "python",
   "nbconvert_exporter": "python",
   "pygments_lexer": "ipython3",
   "version": "3.12.3"
  }
 },
 "nbformat": 4,
 "nbformat_minor": 2
}
