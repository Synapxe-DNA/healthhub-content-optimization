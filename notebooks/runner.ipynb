{
 "cells": [
  {
   "cell_type": "code",
   "execution_count": 4,
   "metadata": {},
   "outputs": [],
   "source": [
    "import os\n",
    "import papermill as pm\n",
    "from logger import logger"
   ]
  },
  {
   "cell_type": "markdown",
   "metadata": {},
   "source": [
    "## Generate Embeddings"
   ]
  },
  {
   "cell_type": "code",
   "execution_count": 5,
   "metadata": {},
   "outputs": [
    {
     "data": {
      "text/plain": [
       "{'CONTRIBUTOR': {'name': 'CONTRIBUTOR',\n",
       "  'inferred_type_name': 'str',\n",
       "  'default': '\"Health Promotion Board\"',\n",
       "  'help': ''},\n",
       " 'CATEGORY': {'name': 'CATEGORY',\n",
       "  'inferred_type_name': 'str',\n",
       "  'default': '\"live-healthy\"',\n",
       "  'help': ''},\n",
       " 'MODEL_NAME': {'name': 'MODEL_NAME',\n",
       "  'inferred_type_name': 'str',\n",
       "  'default': '\"all-MiniLM-L6-v2\"',\n",
       "  'help': ''},\n",
       " 'POOLING_STRATEGY': {'name': 'POOLING_STRATEGY',\n",
       "  'inferred_type_name': 'str',\n",
       "  'default': '\"max\"',\n",
       "  'help': ''},\n",
       " 'OWNER': {'name': 'OWNER',\n",
       "  'inferred_type_name': 'str',\n",
       "  'default': '\"sentence-transformers\"',\n",
       "  'help': ''}}"
      ]
     },
     "execution_count": 5,
     "metadata": {},
     "output_type": "execute_result"
    }
   ],
   "source": [
    "notebook = \"embeddings.ipynb\"\n",
    "pm.inspect_notebook(notebook)"
   ]
  },
  {
   "cell_type": "code",
   "execution_count": null,
   "metadata": {},
   "outputs": [],
   "source": [
    "# model_name = \"all-MiniLM-L6-v2\"\n",
    "# model_name = \"all-mpnet-base-v2\"\n",
    "model_name = \"bge-large-en-v1.5\"\n",
    "owner_name = \"BAAI\"\n",
    "\n",
    "for strategy in [\"mean\"]:\n",
    "    logger.info(\n",
    "        f\"Running {notebook} for {model_name} model with {strategy} pooling strategy\"\n",
    "    )\n",
    "    pm.execute_notebook(\n",
    "        input_path=\"embeddings.ipynb\",\n",
    "        output_path=os.path.join(\n",
    "            \"..\",\n",
    "            \"artifacts\",\n",
    "            \"notebooks\",\n",
    "            f\"{model_name}_{strategy}_emb.ipynb\",\n",
    "        ),\n",
    "        parameters={\n",
    "            \"MODEL_NAME\": model_name,\n",
    "            \"POOLING_STRATEGY\": strategy,\n",
    "            \"OWNER\": owner_name,\n",
    "        },\n",
    "    )"
   ]
  },
  {
   "cell_type": "markdown",
   "metadata": {},
   "source": [
    "## Evaluate Similarities"
   ]
  },
  {
   "cell_type": "code",
   "execution_count": null,
   "metadata": {},
   "outputs": [],
   "source": [
    "notebook = \"similarity.ipynb\"\n",
    "pm.inspect_notebook(notebook)"
   ]
  },
  {
   "cell_type": "code",
   "execution_count": null,
   "metadata": {},
   "outputs": [],
   "source": [
    "# model_name = \"all-MiniLM-L6-v2\"\n",
    "# model_name = \"all-mpnet-base-v2\"\n",
    "\n",
    "for strategy in [\"mean\"]:\n",
    "    logger.info(\n",
    "        f\"Running {notebook} for {model_name} model with {strategy} pooling strategy\"\n",
    "    )\n",
    "    pm.execute_notebook(\n",
    "        input_path=\"similarity.ipynb\",\n",
    "        output_path=os.path.join(\n",
    "            \"..\",\n",
    "            \"artifacts\",\n",
    "            \"notebooks\",\n",
    "            f\"{model_name}_{strategy}_sim.ipynb\",\n",
    "        ),\n",
    "        parameters={\n",
    "            \"MODEL_NAME\": model_name,\n",
    "            \"POOLING_STRATEGY\": strategy,\n",
    "            \"OWNER\": owner_name,\n",
    "        },\n",
    "    )"
   ]
  },
  {
   "cell_type": "markdown",
   "metadata": {},
   "source": [
    "### Clustering and Graph Visualisation"
   ]
  },
  {
   "cell_type": "code",
   "execution_count": 27,
   "metadata": {},
   "outputs": [
    {
     "data": {
      "text/plain": [
       "{'EMBEDDING_MODEL': {'name': 'EMBEDDING_MODEL',\n",
       "  'inferred_type_name': 'str',\n",
       "  'default': \"'tfidf'\",\n",
       "  'help': ''}}"
      ]
     },
     "execution_count": 27,
     "metadata": {},
     "output_type": "execute_result"
    }
   ],
   "source": [
    "notebook = \"construct_graph.ipynb\"\n",
    "pm.inspect_notebook(notebook)"
   ]
  },
  {
   "cell_type": "code",
   "execution_count": 28,
   "metadata": {},
   "outputs": [
    {
     "name": "stderr",
     "output_type": "stream",
     "text": [
      "2024-06-14 11:27:04,485 - Running construct_graph.ipynb for tfidf model\n",
      "Executing: 100%|██████████| 18/18 [00:09<00:00,  1.84cell/s]\n",
      "2024-06-14 11:27:14,303 - Running construct_graph.ipynb for mxbai-embed-large-v1 model\n",
      "Executing: 100%|██████████| 18/18 [00:09<00:00,  1.91cell/s]\n",
      "2024-06-14 11:27:23,786 - Running construct_graph.ipynb for bge-large-en-v1.5-quant model\n",
      "Executing: 100%|██████████| 18/18 [00:12<00:00,  1.47cell/s]\n",
      "2024-06-14 11:27:36,128 - Running construct_graph.ipynb for bge-large-en-v1.5 model\n",
      "Executing: 100%|██████████| 18/18 [00:12<00:00,  1.41cell/s]\n"
     ]
    }
   ],
   "source": [
    "for em_model in [\n",
    "    \"tfidf\",\n",
    "    \"mxbai-embed-large-v1\",\n",
    "    \"bge-large-en-v1.5-quant\",\n",
    "    \"bge-large-en-v1.5\",\n",
    "]:\n",
    "    logger.info(f\"Running {notebook} for {em_model} model\")\n",
    "    pm.execute_notebook(\n",
    "        input_path=notebook,\n",
    "        output_path=os.path.join(\n",
    "            \"..\",\n",
    "            \"artifacts\",\n",
    "            \"notebooks\",\n",
    "            f\"{em_model}_construct_graph.ipynb\",\n",
    "        ),\n",
    "        parameters={\"EMBEDDING_MODEL\": em_model},\n",
    "    )"
   ]
  },
  {
   "cell_type": "code",
   "execution_count": 29,
   "metadata": {},
   "outputs": [
    {
     "data": {
      "text/plain": [
       "{'EMBEDDING_MODEL': {'name': 'EMBEDDING_MODEL',\n",
       "  'inferred_type_name': 'None',\n",
       "  'default': \"'tfidf'\",\n",
       "  'help': ''}}"
      ]
     },
     "execution_count": 29,
     "metadata": {},
     "output_type": "execute_result"
    }
   ],
   "source": [
    "notebook = \"clusterviz.ipynb\"\n",
    "pm.inspect_notebook(notebook)"
   ]
  },
  {
   "cell_type": "code",
   "execution_count": 31,
   "metadata": {},
   "outputs": [
    {
     "name": "stderr",
     "output_type": "stream",
     "text": [
      "2024-06-14 11:28:58,876 - Running clusterviz.ipynb for tfidf model\n",
      "Executing: 100%|██████████| 15/15 [00:03<00:00,  4.76cell/s]\n",
      "2024-06-14 11:29:02,047 - Running clusterviz.ipynb for mxbai-embed-large-v1 model\n",
      "Executing: 100%|██████████| 15/15 [00:02<00:00,  5.70cell/s]\n",
      "2024-06-14 11:29:04,681 - Running clusterviz.ipynb for bge-large-en-v1.5-quant model\n",
      "Executing: 100%|██████████| 15/15 [00:03<00:00,  4.38cell/s]\n",
      "2024-06-14 11:29:08,132 - Running clusterviz.ipynb for bge-large-en-v1.5 model\n",
      "Executing: 100%|██████████| 15/15 [00:02<00:00,  5.89cell/s]\n"
     ]
    }
   ],
   "source": [
    "for em_model in [\n",
    "    \"tfidf\",\n",
    "    \"mxbai-embed-large-v1\",\n",
    "    \"bge-large-en-v1.5-quant\",\n",
    "    \"bge-large-en-v1.5\",\n",
    "]:\n",
    "    logger.info(f\"Running {notebook} for {em_model} model\")\n",
    "    pm.execute_notebook(\n",
    "        input_path=notebook,\n",
    "        output_path=os.path.join(\n",
    "            \"..\",\n",
    "            \"artifacts\",\n",
    "            \"notebooks\",\n",
    "            f\"{em_model}_clusterviz.ipynb\",\n",
    "        ),\n",
    "        parameters={\"EMBEDDING_MODEL\": em_model},\n",
    "    )"
   ]
  }
 ],
 "metadata": {
  "kernelspec": {
   "display_name": "mining",
   "language": "python",
   "name": "python3"
  },
  "language_info": {
   "codemirror_mode": {
    "name": "ipython",
    "version": 3
   },
   "file_extension": ".py",
   "mimetype": "text/x-python",
   "name": "python",
   "nbconvert_exporter": "python",
   "pygments_lexer": "ipython3",
   "version": "3.10.11"
  },
  "nbdime-conflicts": {
   "local_diff": [
    {
     "key": "language_info",
     "op": "add",
     "value": {
      "codemirror_mode": {
       "name": "ipython",
       "version": 3
      },
      "file_extension": ".py",
      "mimetype": "text/x-python",
      "name": "python",
      "nbconvert_exporter": "python",
      "pygments_lexer": "ipython3",
      "version": "3.12.3"
     }
    }
   ],
   "remote_diff": [
    {
     "key": "language_info",
     "op": "add",
     "value": {
      "codemirror_mode": {
       "name": "ipython",
       "version": 3
      },
      "file_extension": ".py",
      "mimetype": "text/x-python",
      "name": "python",
      "nbconvert_exporter": "python",
      "pygments_lexer": "ipython3",
      "version": "3.11.5"
     }
    }
   ]
  }
 },
 "nbformat": 4,
 "nbformat_minor": 2
}
