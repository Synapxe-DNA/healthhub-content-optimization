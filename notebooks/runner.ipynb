{
 "cells": [
  {
   "cell_type": "code",
   "execution_count": 4,
   "metadata": {},
   "outputs": [],
   "source": [
    "import os\n",
    "\n",
    "import pandas as pd\n",
    "import papermill as pm\n",
    "from logger import logger"
   ]
  },
  {
   "cell_type": "markdown",
   "metadata": {},
   "source": [
    "## Generate Embeddings"
   ]
  },
  {
   "cell_type": "code",
   "execution_count": 2,
   "metadata": {},
   "outputs": [
    {
     "data": {
      "text/plain": [
       "{'CONTRIBUTOR': {'name': 'CONTRIBUTOR',\n",
       "  'inferred_type_name': 'str',\n",
       "  'default': '\"Health Promotion Board\"',\n",
       "  'help': ''},\n",
       " 'CATEGORY': {'name': 'CATEGORY',\n",
       "  'inferred_type_name': 'str',\n",
       "  'default': '\"live-healthy\"',\n",
       "  'help': ''},\n",
       " 'MODEL_NAME': {'name': 'MODEL_NAME',\n",
       "  'inferred_type_name': 'str',\n",
       "  'default': '\"all-MiniLM-L6-v2\"',\n",
       "  'help': ''},\n",
       " 'POOLING_STRATEGY': {'name': 'POOLING_STRATEGY',\n",
       "  'inferred_type_name': 'str',\n",
       "  'default': '\"max\"',\n",
       "  'help': ''},\n",
       " 'OWNER': {'name': 'OWNER',\n",
       "  'inferred_type_name': 'str',\n",
       "  'default': '\"sentence-transformers\"',\n",
       "  'help': ''}}"
      ]
     },
     "execution_count": 2,
     "metadata": {},
     "output_type": "execute_result"
    }
   ],
   "source": [
    "notebook = \"embeddings.ipynb\"\n",
    "pm.inspect_notebook(notebook)"
   ]
  },
  {
   "cell_type": "code",
   "execution_count": 3,
   "metadata": {},
   "outputs": [
    {
     "name": "stderr",
     "output_type": "stream",
     "text": [
      "2024-06-20 18:31:08,858 - Running embeddings.ipynb for bge-large-en-v1.5 model with mean pooling strategy\n",
      "/Users/lyndon/healthhub-content-optimization/.venv/lib/python3.11/site-packages/tqdm/auto.py:21: TqdmWarning: IProgress not found. Please update jupyter and ipywidgets. See https://ipywidgets.readthedocs.io/en/stable/user_install.html\n",
      "  from .autonotebook import tqdm as notebook_tqdm\n",
      "Executing: 100%|██████████| 18/18 [04:42<00:00, 15.69s/cell]\n"
     ]
    }
   ],
   "source": [
    "# model_name = \"all-MiniLM-L6-v2\"\n",
    "# model_name = \"all-mpnet-base-v2\"\n",
    "model_name = \"bge-large-en-v1.5\"\n",
    "owner_name = \"BAAI\"\n",
    "\n",
    "for strategy in [\"mean\"]:\n",
    "    logger.info(\n",
    "        f\"Running {notebook} for {model_name} model with {strategy} pooling strategy\"\n",
    "    )\n",
    "    pm.execute_notebook(\n",
    "        input_path=\"embeddings.ipynb\",\n",
    "        output_path=os.path.join(\n",
    "            \"..\",\n",
    "            \"artifacts\",\n",
    "            \"notebooks\",\n",
    "            f\"{model_name}_{strategy}_emb.ipynb\",\n",
    "        ),\n",
    "        parameters={\n",
    "            \"MODEL_NAME\": model_name,\n",
    "            \"POOLING_STRATEGY\": strategy,\n",
    "            \"OWNER\": owner_name,\n",
    "        },\n",
    "    )"
   ]
  },
  {
   "cell_type": "markdown",
   "metadata": {},
   "source": [
    "## Evaluate Similarities"
   ]
  },
  {
   "cell_type": "code",
   "execution_count": 4,
   "metadata": {},
   "outputs": [
    {
     "data": {
      "text/plain": [
       "{'MODEL_NAME': {'name': 'MODEL_NAME',\n",
       "  'inferred_type_name': 'str',\n",
       "  'default': '\"all-MiniLM-L6-v2\"',\n",
       "  'help': ''},\n",
       " 'POOLING_STRATEGY': {'name': 'POOLING_STRATEGY',\n",
       "  'inferred_type_name': 'str',\n",
       "  'default': '\"max\"',\n",
       "  'help': ''},\n",
       " 'OWNER': {'name': 'OWNER',\n",
       "  'inferred_type_name': 'str',\n",
       "  'default': '\"sentence-transformers\"',\n",
       "  'help': ''},\n",
       " 'METHOD': {'name': 'METHOD',\n",
       "  'inferred_type_name': 'str',\n",
       "  'default': '\"contextual_nn_based_embeddings\"',\n",
       "  'help': ''}}"
      ]
     },
     "execution_count": 4,
     "metadata": {},
     "output_type": "execute_result"
    }
   ],
   "source": [
    "notebook = \"similarity.ipynb\"\n",
    "pm.inspect_notebook(notebook)"
   ]
  },
  {
   "cell_type": "code",
   "execution_count": 9,
   "metadata": {},
   "outputs": [
    {
     "name": "stderr",
     "output_type": "stream",
     "text": [
      "2024-06-20 18:47:39,995 - Running similarity.ipynb for all-MiniLM-L6-v2 model with mean pooling strategy\n",
      "Executing: 100%|██████████| 18/18 [00:13<00:00,  1.38cell/s]\n"
     ]
    }
   ],
   "source": [
    "method = \"contextual_nn_based_embeddings\"\n",
    "model_name = \"all-MiniLM-L6-v2\"\n",
    "# model_name = \"all-mpnet-base-v2\"\n",
    "owner_name = \"sentence-transformers\"\n",
    "\n",
    "for strategy in [\"mean\"]:\n",
    "    logger.info(\n",
    "        f\"Running {notebook} for {model_name} model with {strategy} pooling strategy\"\n",
    "    )\n",
    "    pm.execute_notebook(\n",
    "        input_path=\"similarity.ipynb\",\n",
    "        output_path=os.path.join(\n",
    "            \"..\",\n",
    "            \"artifacts\",\n",
    "            \"notebooks\",\n",
    "            f\"{model_name}_{strategy}_sim.ipynb\",\n",
    "        ),\n",
    "        parameters={\n",
    "            \"MODEL_NAME\": model_name,\n",
    "            \"POOLING_STRATEGY\": strategy,\n",
    "            \"OWNER\": owner_name,\n",
    "            \"METHOD\": method,\n",
    "        },\n",
    "    )"
   ]
  },
  {
   "cell_type": "markdown",
   "metadata": {},
   "source": [
    "### Clustering and Graph Visualisation"
   ]
  },
  {
   "cell_type": "code",
   "execution_count": 10,
   "metadata": {},
   "outputs": [
    {
     "data": {
      "text/plain": [
       "{'EMBEDDING_MODEL': {'name': 'EMBEDDING_MODEL',\n",
       "  'inferred_type_name': 'str',\n",
       "  'default': '\"tfidf\"',\n",
       "  'help': ''}}"
      ]
     },
     "execution_count": 10,
     "metadata": {},
     "output_type": "execute_result"
    }
   ],
   "source": [
    "notebook = \"construct_graph.ipynb\"\n",
    "pm.inspect_notebook(notebook)"
   ]
  },
  {
   "cell_type": "code",
   "execution_count": 14,
   "metadata": {},
   "outputs": [],
   "source": [
    "variation_list = []"
   ]
  },
  {
   "cell_type": "code",
   "execution_count": null,
   "metadata": {},
   "outputs": [],
   "source": [
    "# Include models manually if it doesn't fall under statistical, contextual or sbert embedding method, such as doc2vec, glove embeddings\n",
    "variation_list = [\n",
    "    # \"d2v\",\n",
    "    # \"glove\"\n",
    "]"
   ]
  },
  {
   "cell_type": "code",
   "execution_count": 16,
   "metadata": {},
   "outputs": [
    {
     "name": "stdout",
     "output_type": "stream",
     "text": [
      "sbert_embeddings: ['stsb-mpnet-base-v2_mean', 'all-mpnet-base-v2_mean']\n",
      "statistical_vector_based_embeddings: ['bow_cosine', 'bow_euclidean', 'bow_dot', 'bow_manhattan', 'tfidf_cosine', 'tfidf_euclidean', 'tfidf_dot', 'tfidf_manhattan', 'lsa_cosine', 'lsa_euclidean', 'lsa_dot', 'lsa_manhattan', 'lda_cosine', 'lda_euclidean', 'lda_dot', 'lda_manhattan']\n",
      "contextual_nn_based_embeddings: ['bge-large-en-v1.5_mean', 'all-MiniLM-L6-v2_mean']\n"
     ]
    },
    {
     "data": {
      "text/plain": [
       "['stsb-mpnet-base-v2_mean',\n",
       " 'all-mpnet-base-v2_mean',\n",
       " 'bow_cosine',\n",
       " 'bow_euclidean',\n",
       " 'bow_dot',\n",
       " 'bow_manhattan',\n",
       " 'tfidf_cosine',\n",
       " 'tfidf_euclidean',\n",
       " 'tfidf_dot',\n",
       " 'tfidf_manhattan',\n",
       " 'lsa_cosine',\n",
       " 'lsa_euclidean',\n",
       " 'lsa_dot',\n",
       " 'lsa_manhattan',\n",
       " 'lda_cosine',\n",
       " 'lda_euclidean',\n",
       " 'lda_dot',\n",
       " 'lda_manhattan',\n",
       " 'bge-large-en-v1.5_mean',\n",
       " 'all-MiniLM-L6-v2_mean',\n",
       " 'stsb-mpnet-base-v2_mean',\n",
       " 'all-mpnet-base-v2_mean',\n",
       " 'bow_cosine',\n",
       " 'bow_euclidean',\n",
       " 'bow_dot',\n",
       " 'bow_manhattan',\n",
       " 'tfidf_cosine',\n",
       " 'tfidf_euclidean',\n",
       " 'tfidf_dot',\n",
       " 'tfidf_manhattan',\n",
       " 'lsa_cosine',\n",
       " 'lsa_euclidean',\n",
       " 'lsa_dot',\n",
       " 'lsa_manhattan',\n",
       " 'lda_cosine',\n",
       " 'lda_euclidean',\n",
       " 'lda_dot',\n",
       " 'lda_manhattan',\n",
       " 'bge-large-en-v1.5_mean',\n",
       " 'all-MiniLM-L6-v2_mean']"
      ]
     },
     "execution_count": 16,
     "metadata": {},
     "output_type": "execute_result"
    }
   ],
   "source": [
    "methods_list = [\"test\", \"sbert_embeddings\", \"statistical_vector_based_embeddings\", \"contextual_nn_based_embeddings\"]\n",
    "directory = \"../artifacts/outputs/\"\n",
    "\n",
    "for method in methods_list:\n",
    "    input_file = f\"{directory}/{method}_similarity_score.xlsx\"\n",
    "    if os.path.isfile(input_file):\n",
    "        excel = pd.ExcelFile(input_file)\n",
    "        print(f\"{method}: {excel.sheet_names}\")\n",
    "        for sheet_name in excel.sheet_names:\n",
    "            df = pd.read_excel(input_file, sheet_name=sheet_name)\n",
    "            # output_file = f\"{directory}/{sheet_name}_similarity_score.csv\"\n",
    "            # df.to_csv(output_file, index=False)\n",
    "        variation_list.extend(excel.sheet_names)\n",
    "\n",
    "variation_list"
   ]
  },
  {
   "cell_type": "code",
   "execution_count": 14,
   "metadata": {},
   "outputs": [
    {
     "name": "stderr",
     "output_type": "stream",
     "text": [
      "2024-06-20 19:00:52,746 - Running construct_graph.ipynb for bge-large-en-v1.5_mean model\n",
      "Executing: 100%|██████████| 21/21 [00:08<00:00,  2.40cell/s]\n",
      "2024-06-20 19:01:01,536 - Running construct_graph.ipynb for all-MiniLM-L6-v2_mean model\n",
      "Executing: 100%|██████████| 21/21 [00:08<00:00,  2.60cell/s]\n"
     ]
    }
   ],
   "source": [
    "for em_model in variation_list:\n",
    "    logger.info(f\"Running {notebook} for {em_model} model\")\n",
    "    pm.execute_notebook(\n",
    "        input_path=notebook,\n",
    "        output_path=os.path.join(\n",
    "            \"..\",\n",
    "            \"artifacts\",\n",
    "            \"notebooks\",\n",
    "            f\"{em_model}_construct_graph.ipynb\",\n",
    "        ),\n",
    "        parameters={\"EMBEDDING_MODEL\": em_model},\n",
    "    )"
   ]
  },
  {
   "cell_type": "code",
   "execution_count": 15,
   "metadata": {},
   "outputs": [
    {
     "data": {
      "text/plain": [
       "{'EMBEDDING_MODEL': {'name': 'EMBEDDING_MODEL',\n",
       "  'inferred_type_name': 'None',\n",
       "  'default': '\"tfidf\"',\n",
       "  'help': ''}}"
      ]
     },
     "execution_count": 15,
     "metadata": {},
     "output_type": "execute_result"
    }
   ],
   "source": [
    "notebook = \"clusterviz.ipynb\"\n",
    "pm.inspect_notebook(notebook)"
   ]
  },
  {
   "cell_type": "code",
   "execution_count": 16,
   "metadata": {},
   "outputs": [
    {
     "name": "stderr",
     "output_type": "stream",
     "text": [
      "2024-06-20 19:01:20,175 - Running clusterviz.ipynb for bge-large-en-v1.5_mean model\n",
      "Executing: 100%|██████████| 15/15 [00:01<00:00,  9.43cell/s]\n",
      "2024-06-20 19:01:21,773 - Running clusterviz.ipynb for all-MiniLM-L6-v2_mean model\n",
      "Executing: 100%|██████████| 15/15 [00:01<00:00,  9.76cell/s]\n"
     ]
    }
   ],
   "source": [
    "for em_model in variation_list:\n",
    "    logger.info(f\"Running {notebook} for {em_model} model\")\n",
    "    pm.execute_notebook(\n",
    "        input_path=notebook,\n",
    "        output_path=os.path.join(\n",
    "            \"..\",\n",
    "            \"artifacts\",\n",
    "            \"notebooks\",\n",
    "            f\"{em_model}_clusterviz.ipynb\",\n",
    "        ),\n",
    "        parameters={\"EMBEDDING_MODEL\": em_model},\n",
    "    )"
   ]
  }
 ],
 "metadata": {
  "kernelspec": {
   "display_name": "mining",
   "language": "python",
   "name": "python3"
  },
  "language_info": {
   "codemirror_mode": {
    "name": "ipython",
    "version": 3
   },
   "file_extension": ".py",
   "mimetype": "text/x-python",
   "name": "python",
   "nbconvert_exporter": "python",
   "pygments_lexer": "ipython3",
   "version": "3.12.3"
  },
  "nbdime-conflicts": {
   "local_diff": [
    {
     "key": "language_info",
     "op": "add",
     "value": {
      "codemirror_mode": {
       "name": "ipython",
       "version": 3
      },
      "file_extension": ".py",
      "mimetype": "text/x-python",
      "name": "python",
      "nbconvert_exporter": "python",
      "pygments_lexer": "ipython3",
      "version": "3.12.3"
     }
    }
   ],
   "remote_diff": [
    {
     "key": "language_info",
     "op": "add",
     "value": {
      "codemirror_mode": {
       "name": "ipython",
       "version": 3
      },
      "file_extension": ".py",
      "mimetype": "text/x-python",
      "name": "python",
      "nbconvert_exporter": "python",
      "pygments_lexer": "ipython3",
      "version": "3.11.5"
     }
    }
   ]
  }
 },
 "nbformat": 4,
 "nbformat_minor": 2
}
