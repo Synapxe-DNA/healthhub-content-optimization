{
 "cells": [
  {
   "cell_type": "code",
   "execution_count": 1,
   "metadata": {},
   "outputs": [],
   "source": [
    "import os\n",
    "\n",
    "import papermill as pm\n",
    "from logger import logger\n",
    "\n",
    "import pandas as pd"
   ]
  },
  {
   "cell_type": "markdown",
   "metadata": {},
   "source": [
    "## Generate Embeddings"
   ]
  },
  {
   "cell_type": "code",
   "execution_count": null,
   "metadata": {},
   "outputs": [],
   "source": [
    "notebook = \"embeddings.ipynb\"\n",
    "pm.inspect_notebook(notebook)"
   ]
  },
  {
   "cell_type": "code",
   "execution_count": null,
   "metadata": {},
   "outputs": [],
   "source": [
    "# model_name = \"all-MiniLM-L6-v2\"\n",
    "# model_name = \"all-mpnet-base-v2\"\n",
    "model_name = \"bge-large-en-v1.5\"\n",
    "owner_name = \"BAAI\"\n",
    "\n",
    "for strategy in [\"mean\"]:\n",
    "    logger.info(\n",
    "        f\"Running {notebook} for {model_name} model with {strategy} pooling strategy\"\n",
    "    )\n",
    "    pm.execute_notebook(\n",
    "        input_path=\"embeddings.ipynb\",\n",
    "        output_path=os.path.join(\n",
    "            \"..\",\n",
    "            \"artifacts\",\n",
    "            \"notebooks\",\n",
    "            f\"{model_name}_{strategy}_emb.ipynb\",\n",
    "        ),\n",
    "        parameters={\n",
    "            \"MODEL_NAME\": model_name,\n",
    "            \"POOLING_STRATEGY\": strategy,\n",
    "            \"OWNER\": owner_name,\n",
    "        },\n",
    "    )"
   ]
  },
  {
   "cell_type": "markdown",
   "metadata": {},
   "source": [
    "## Evaluate Similarities"
   ]
  },
  {
   "cell_type": "code",
   "execution_count": null,
   "metadata": {},
   "outputs": [],
   "source": [
    "notebook = \"similarity.ipynb\"\n",
    "pm.inspect_notebook(notebook)"
   ]
  },
  {
   "cell_type": "code",
   "execution_count": null,
   "metadata": {},
   "outputs": [],
   "source": [
    "# model_name = \"all-MiniLM-L6-v2\"\n",
    "# model_name = \"all-mpnet-base-v2\"\n",
    "\n",
    "for strategy in [\"mean\"]:\n",
    "    logger.info(\n",
    "        f\"Running {notebook} for {model_name} model with {strategy} pooling strategy\"\n",
    "    )\n",
    "    pm.execute_notebook(\n",
    "        input_path=\"similarity.ipynb\",\n",
    "        output_path=os.path.join(\n",
    "            \"..\",\n",
    "            \"artifacts\",\n",
    "            \"notebooks\",\n",
    "            f\"{model_name}_{strategy}_sim.ipynb\",\n",
    "        ),\n",
    "        parameters={\n",
    "            \"MODEL_NAME\": model_name,\n",
    "            \"POOLING_STRATEGY\": strategy,\n",
    "            \"OWNER\": owner_name,\n",
    "        },\n",
    "    )"
   ]
  },
  {
   "cell_type": "markdown",
   "metadata": {},
   "source": [
    "### Clustering and Graph Visualisation"
   ]
  },
  {
   "cell_type": "code",
   "execution_count": 2,
   "metadata": {},
   "outputs": [
    {
     "data": {
      "text/plain": [
       "{'EMBEDDING_MODEL': {'name': 'EMBEDDING_MODEL',\n",
       "  'inferred_type_name': 'str',\n",
       "  'default': '\"tfidf\"',\n",
       "  'help': ''}}"
      ]
     },
     "execution_count": 2,
     "metadata": {},
     "output_type": "execute_result"
    }
   ],
   "source": [
    "notebook = \"construct_graph.ipynb\"\n",
    "pm.inspect_notebook(notebook)"
   ]
  },
  {
   "cell_type": "code",
   "execution_count": 3,
   "metadata": {},
   "outputs": [],
   "source": [
    "directory = \"../artifacts/outputs/\"\n",
    "\n",
    "input_file = f\"{directory}/statistical_vector_based_embeddings_similarity_scores.xlsx\"\n",
    "excel = pd.ExcelFile(input_file)\n",
    "\n",
    "for sheet_name in excel.sheet_names:\n",
    "    df = pd.read_excel(input_file, sheet_name=sheet_name)\n",
    "    output_file = f\"{directory}/{sheet_name}_mean_similarity_score.csv\"\n",
    "    df.to_csv(output_file, index=False)"
   ]
  },
  {
   "cell_type": "code",
   "execution_count": 4,
   "metadata": {},
   "outputs": [
    {
     "data": {
      "text/plain": [
       "['tfidf',\n",
       " 'mxbai-embed-large-v1',\n",
       " 'bge-large-en-v1.5-quant',\n",
       " 'bge-large-en-v1.5',\n",
       " 'd2v',\n",
       " 'bow_cosine',\n",
       " 'bow_euclidean',\n",
       " 'bow_dot',\n",
       " 'bow_manhattan',\n",
       " 'tfidf_cosine',\n",
       " 'tfidf_euclidean',\n",
       " 'tfidf_dot',\n",
       " 'tfidf_manhattan',\n",
       " 'lsa_cosine',\n",
       " 'lsa_euclidean',\n",
       " 'lsa_dot',\n",
       " 'lsa_manhattan',\n",
       " 'lda_cosine',\n",
       " 'lda_euclidean',\n",
       " 'lda_dot',\n",
       " 'lda_manhattan']"
      ]
     },
     "execution_count": 4,
     "metadata": {},
     "output_type": "execute_result"
    }
   ],
   "source": [
    "variation_list = [\n",
    "    \"tfidf\",\n",
    "    \"mxbai-embed-large-v1\",\n",
    "    \"bge-large-en-v1.5-quant\",\n",
    "    \"bge-large-en-v1.5\",\n",
    "    \"d2v\",\n",
    "]\n",
    "\n",
    "variation_list.extend(excel.sheet_names)\n",
    "variation_list"
   ]
  },
  {
   "cell_type": "code",
   "execution_count": 5,
   "metadata": {},
   "outputs": [
    {
     "name": "stderr",
     "output_type": "stream",
     "text": [
      "2024-06-20 14:08:33,655 - Running construct_graph.ipynb for tfidf model\n",
      "c:\\Users\\DNA_A\\hsx\\healthhub-content-optimization\\.venv\\Lib\\site-packages\\tqdm\\auto.py:21: TqdmWarning: IProgress not found. Please update jupyter and ipywidgets. See https://ipywidgets.readthedocs.io/en/stable/user_install.html\n",
      "  from .autonotebook import tqdm as notebook_tqdm\n",
      "Executing: 100%|██████████| 21/21 [00:11<00:00,  1.83cell/s]\n",
      "2024-06-20 14:08:45,531 - Running construct_graph.ipynb for mxbai-embed-large-v1 model\n",
      "Executing: 100%|██████████| 21/21 [00:10<00:00,  1.97cell/s]\n",
      "2024-06-20 14:08:56,253 - Running construct_graph.ipynb for bge-large-en-v1.5-quant model\n",
      "Executing: 100%|██████████| 21/21 [00:11<00:00,  1.87cell/s]\n",
      "2024-06-20 14:09:07,550 - Running construct_graph.ipynb for bge-large-en-v1.5 model\n",
      "Executing: 100%|██████████| 21/21 [00:17<00:00,  1.18cell/s]\n",
      "2024-06-20 14:09:25,546 - Running construct_graph.ipynb for d2v model\n",
      "Executing: 100%|██████████| 21/21 [00:11<00:00,  1.77cell/s]\n",
      "2024-06-20 14:09:37,466 - Running construct_graph.ipynb for bow_cosine model\n",
      "Executing: 100%|██████████| 21/21 [00:18<00:00,  1.13cell/s]\n",
      "2024-06-20 14:09:56,164 - Running construct_graph.ipynb for bow_euclidean model\n",
      "Executing: 100%|██████████| 21/21 [00:17<00:00,  1.22cell/s]\n",
      "2024-06-20 14:10:13,768 - Running construct_graph.ipynb for bow_dot model\n",
      "Executing: 100%|██████████| 21/21 [00:11<00:00,  1.79cell/s]\n",
      "2024-06-20 14:10:25,695 - Running construct_graph.ipynb for bow_manhattan model\n",
      "Executing: 100%|██████████| 21/21 [00:11<00:00,  1.87cell/s]\n",
      "2024-06-20 14:10:36,982 - Running construct_graph.ipynb for tfidf_cosine model\n",
      "Executing: 100%|██████████| 21/21 [00:11<00:00,  1.87cell/s]\n",
      "2024-06-20 14:10:48,314 - Running construct_graph.ipynb for tfidf_euclidean model\n",
      "Executing: 100%|██████████| 21/21 [00:10<00:00,  1.92cell/s]\n",
      "2024-06-20 14:10:59,330 - Running construct_graph.ipynb for tfidf_dot model\n",
      "Executing: 100%|██████████| 21/21 [00:10<00:00,  1.92cell/s]\n",
      "2024-06-20 14:11:10,344 - Running construct_graph.ipynb for tfidf_manhattan model\n",
      "Executing: 100%|██████████| 21/21 [00:11<00:00,  1.89cell/s]\n",
      "2024-06-20 14:11:21,496 - Running construct_graph.ipynb for lsa_cosine model\n",
      "Executing: 100%|██████████| 21/21 [00:10<00:00,  1.92cell/s]\n",
      "2024-06-20 14:11:32,512 - Running construct_graph.ipynb for lsa_euclidean model\n",
      "Executing: 100%|██████████| 21/21 [00:11<00:00,  1.85cell/s]\n",
      "2024-06-20 14:11:43,962 - Running construct_graph.ipynb for lsa_dot model\n",
      "Executing: 100%|██████████| 21/21 [00:11<00:00,  1.80cell/s]\n",
      "2024-06-20 14:11:55,696 - Running construct_graph.ipynb for lsa_manhattan model\n",
      "Executing: 100%|██████████| 21/21 [00:17<00:00,  1.18cell/s]\n",
      "2024-06-20 14:12:13,592 - Running construct_graph.ipynb for lda_cosine model\n",
      "Executing: 100%|██████████| 21/21 [00:12<00:00,  1.69cell/s]\n",
      "2024-06-20 14:12:26,156 - Running construct_graph.ipynb for lda_euclidean model\n",
      "Executing: 100%|██████████| 21/21 [00:15<00:00,  1.37cell/s]\n",
      "2024-06-20 14:12:41,612 - Running construct_graph.ipynb for lda_dot model\n",
      "Executing: 100%|██████████| 21/21 [00:11<00:00,  1.76cell/s]\n",
      "2024-06-20 14:12:53,624 - Running construct_graph.ipynb for lda_manhattan model\n",
      "Executing: 100%|██████████| 21/21 [00:18<00:00,  1.12cell/s]\n"
     ]
    }
   ],
   "source": [
    "for em_model in variation_list:\n",
    "    logger.info(f\"Running {notebook} for {em_model} model\")\n",
    "    pm.execute_notebook(\n",
    "        input_path=notebook,\n",
    "        output_path=os.path.join(\n",
    "            \"..\",\n",
    "            \"artifacts\",\n",
    "            \"notebooks\",\n",
    "            f\"{em_model}_construct_graph.ipynb\",\n",
    "        ),\n",
    "        parameters={\"EMBEDDING_MODEL\": em_model},\n",
    "    )"
   ]
  },
  {
   "cell_type": "code",
   "execution_count": 8,
   "metadata": {},
   "outputs": [
    {
     "data": {
      "text/plain": [
       "{'EMBEDDING_MODEL': {'name': 'EMBEDDING_MODEL',\n",
       "  'inferred_type_name': 'None',\n",
       "  'default': '\"tfidf\"',\n",
       "  'help': ''}}"
      ]
     },
     "execution_count": 8,
     "metadata": {},
     "output_type": "execute_result"
    }
   ],
   "source": [
    "notebook = \"clusterviz.ipynb\"\n",
    "pm.inspect_notebook(notebook)"
   ]
  },
  {
   "cell_type": "code",
   "execution_count": 9,
   "metadata": {},
   "outputs": [
    {
     "name": "stderr",
     "output_type": "stream",
     "text": [
      "2024-06-20 14:18:17,265 - Running clusterviz.ipynb for tfidf model\n",
      "Executing: 100%|██████████| 15/15 [00:02<00:00,  5.32cell/s]\n",
      "2024-06-20 14:18:20,096 - Running clusterviz.ipynb for mxbai-embed-large-v1 model\n",
      "Executing: 100%|██████████| 15/15 [00:02<00:00,  6.36cell/s]\n",
      "2024-06-20 14:18:22,455 - Running clusterviz.ipynb for bge-large-en-v1.5-quant model\n",
      "Executing: 100%|██████████| 15/15 [00:02<00:00,  5.19cell/s]\n",
      "2024-06-20 14:18:25,349 - Running clusterviz.ipynb for bge-large-en-v1.5 model\n",
      "Executing: 100%|██████████| 15/15 [00:02<00:00,  6.50cell/s]\n",
      "2024-06-20 14:18:27,658 - Running clusterviz.ipynb for d2v model\n",
      "Executing: 100%|██████████| 15/15 [00:02<00:00,  6.59cell/s]\n",
      "2024-06-20 14:18:29,933 - Running clusterviz.ipynb for bow_cosine model\n",
      "Executing: 100%|██████████| 15/15 [00:02<00:00,  6.29cell/s]\n",
      "2024-06-20 14:18:32,320 - Running clusterviz.ipynb for bow_euclidean model\n",
      "Executing: 100%|██████████| 15/15 [00:04<00:00,  3.48cell/s]\n",
      "2024-06-20 14:18:36,651 - Running clusterviz.ipynb for bow_dot model\n",
      "Executing: 100%|██████████| 15/15 [00:02<00:00,  5.48cell/s]\n",
      "2024-06-20 14:18:39,405 - Running clusterviz.ipynb for bow_manhattan model\n",
      "Executing: 100%|██████████| 15/15 [00:08<00:00,  1.87cell/s]\n",
      "2024-06-20 14:18:47,454 - Running clusterviz.ipynb for tfidf_cosine model\n",
      "Executing: 100%|██████████| 15/15 [00:02<00:00,  6.25cell/s]\n",
      "2024-06-20 14:18:49,869 - Running clusterviz.ipynb for tfidf_euclidean model\n",
      "Executing: 100%|██████████| 15/15 [00:02<00:00,  6.30cell/s]\n",
      "2024-06-20 14:18:52,252 - Running clusterviz.ipynb for tfidf_dot model\n",
      "Executing: 100%|██████████| 15/15 [00:02<00:00,  6.24cell/s]\n",
      "2024-06-20 14:18:54,688 - Running clusterviz.ipynb for tfidf_manhattan model\n",
      "Executing: 100%|██████████| 15/15 [00:02<00:00,  5.98cell/s]\n",
      "2024-06-20 14:18:57,212 - Running clusterviz.ipynb for lsa_cosine model\n",
      "Executing: 100%|██████████| 15/15 [00:03<00:00,  4.67cell/s]\n",
      "2024-06-20 14:19:00,440 - Running clusterviz.ipynb for lsa_euclidean model\n",
      "Executing: 100%|██████████| 15/15 [00:02<00:00,  6.27cell/s]\n",
      "2024-06-20 14:19:02,852 - Running clusterviz.ipynb for lsa_dot model\n",
      "Executing: 100%|██████████| 15/15 [00:02<00:00,  6.17cell/s]\n",
      "2024-06-20 14:19:05,297 - Running clusterviz.ipynb for lsa_manhattan model\n",
      "Executing: 100%|██████████| 15/15 [00:03<00:00,  4.95cell/s]\n",
      "2024-06-20 14:19:08,333 - Running clusterviz.ipynb for lda_cosine model\n",
      "Executing: 100%|██████████| 15/15 [00:07<00:00,  1.90cell/s]\n",
      "2024-06-20 14:19:16,260 - Running clusterviz.ipynb for lda_euclidean model\n",
      "Executing: 100%|██████████| 15/15 [00:05<00:00,  2.93cell/s]\n",
      "2024-06-20 14:19:21,392 - Running clusterviz.ipynb for lda_dot model\n",
      "Executing: 100%|██████████| 15/15 [00:08<00:00,  1.83cell/s]\n",
      "2024-06-20 14:19:29,614 - Running clusterviz.ipynb for lda_manhattan model\n",
      "Executing: 100%|██████████| 15/15 [00:10<00:00,  1.44cell/s]\n"
     ]
    }
   ],
   "source": [
    "for em_model in variation_list:\n",
    "    logger.info(f\"Running {notebook} for {em_model} model\")\n",
    "    pm.execute_notebook(\n",
    "        input_path=notebook,\n",
    "        output_path=os.path.join(\n",
    "            \"..\",\n",
    "            \"artifacts\",\n",
    "            \"notebooks\",\n",
    "            f\"{em_model}_clusterviz.ipynb\",\n",
    "        ),\n",
    "        parameters={\"EMBEDDING_MODEL\": em_model},\n",
    "    )"
   ]
  }
 ],
 "metadata": {
  "kernelspec": {
   "display_name": "mining",
   "language": "python",
   "name": "python3"
  },
  "language_info": {
   "codemirror_mode": {
    "name": "ipython",
    "version": 3
   },
   "file_extension": ".py",
   "mimetype": "text/x-python",
   "name": "python",
   "nbconvert_exporter": "python",
   "pygments_lexer": "ipython3",
   "version": "3.11.6"
  },
  "nbdime-conflicts": {
   "local_diff": [
    {
     "key": "language_info",
     "op": "add",
     "value": {
      "codemirror_mode": {
       "name": "ipython",
       "version": 3
      },
      "file_extension": ".py",
      "mimetype": "text/x-python",
      "name": "python",
      "nbconvert_exporter": "python",
      "pygments_lexer": "ipython3",
      "version": "3.12.3"
     }
    }
   ],
   "remote_diff": [
    {
     "key": "language_info",
     "op": "add",
     "value": {
      "codemirror_mode": {
       "name": "ipython",
       "version": 3
      },
      "file_extension": ".py",
      "mimetype": "text/x-python",
      "name": "python",
      "nbconvert_exporter": "python",
      "pygments_lexer": "ipython3",
      "version": "3.11.5"
     }
    }
   ]
  }
 },
 "nbformat": 4,
 "nbformat_minor": 2
}
