{
 "cells": [
  {
   "cell_type": "code",
   "execution_count": null,
   "metadata": {},
   "outputs": [],
   "source": [
    "import os\n",
    "import papermill as pm\n",
    "from logger import logger"
   ]
  },
  {
   "cell_type": "markdown",
   "metadata": {},
   "source": [
    "## Generate Embeddings"
   ]
  },
  {
   "cell_type": "code",
   "execution_count": null,
   "metadata": {},
   "outputs": [],
   "source": [
    "notebook = \"embeddings.ipynb\"\n",
    "pm.inspect_notebook(notebook)"
   ]
  },
  {
   "cell_type": "code",
   "execution_count": null,
   "metadata": {},
   "outputs": [],
   "source": [
    "# model_name = \"all-MiniLM-L6-v2\"\n",
    "# model_name = \"all-mpnet-base-v2\"\n",
    "model_name = \"bge-large-en-v1.5\"\n",
    "owner_name = 'BAAI'\n",
    "\n",
    "for strategy in [\"mean\"]:\n",
    "    logger.info(\n",
    "        f\"Running {notebook} for {model_name} model with {strategy} pooling strategy\"\n",
    "    )\n",
    "    pm.execute_notebook(\n",
    "        input_path=\"embeddings.ipynb\",\n",
    "        output_path=os.path.join(\n",
    "            \"..\",\n",
    "            \"artifacts\",\n",
    "            \"notebooks\",\n",
    "            f'{model_name}_{strategy}_emb.ipynb',\n",
    "        ),\n",
    "        parameters={\"MODEL_NAME\": model_name, \"POOLING_STRATEGY\": strategy, \"OWNER\":owner_name},\n",
    "    )"
   ]
  },
  {
   "cell_type": "markdown",
   "metadata": {},
   "source": [
    "## Evaluate Similarities"
   ]
  },
  {
   "cell_type": "code",
   "execution_count": null,
   "metadata": {},
   "outputs": [],
   "source": [
    "notebook = \"similarity.ipynb\"\n",
    "pm.inspect_notebook(notebook)"
   ]
  },
  {
   "cell_type": "code",
   "execution_count": null,
   "metadata": {},
   "outputs": [],
   "source": [
    "# model_name = \"all-MiniLM-L6-v2\"\n",
    "# model_name = \"all-mpnet-base-v2\"\n",
    "\n",
    "for strategy in [\"mean\"]:\n",
    "    logger.info(\n",
    "        f\"Running {notebook} for {model_name} model with {strategy} pooling strategy\"\n",
    "    )\n",
    "    pm.execute_notebook(\n",
    "        input_path=\"similarity.ipynb\",\n",
    "        output_path=os.path.join(\n",
    "            \"..\",\n",
    "            \"artifacts\",\n",
    "            \"notebooks\",\n",
    "            f\"{model_name}_{strategy}_sim.ipynb\",\n",
    "        ),\n",
    "        parameters={\"MODEL_NAME\": model_name, \"POOLING_STRATEGY\": strategy,\"OWNER\":owner_name},\n",
    "    )"
   ]
  },
  {
   "cell_type": "code",
   "execution_count": null,
   "metadata": {},
   "outputs": [],
   "source": []
  }
 ],
 "metadata": {
  "kernelspec": {
   "display_name": "mining",
   "language": "python",
   "name": "python3"
  },
  "nbdime-conflicts": {
   "local_diff": [
    {
     "key": "language_info",
     "op": "add",
     "value": {
      "codemirror_mode": {
       "name": "ipython",
       "version": 3
      },
      "file_extension": ".py",
      "mimetype": "text/x-python",
      "name": "python",
      "nbconvert_exporter": "python",
      "pygments_lexer": "ipython3",
      "version": "3.12.3"
     }
    }
   ],
   "remote_diff": [
    {
     "key": "language_info",
     "op": "add",
     "value": {
      "codemirror_mode": {
       "name": "ipython",
       "version": 3
      },
      "file_extension": ".py",
      "mimetype": "text/x-python",
      "name": "python",
      "nbconvert_exporter": "python",
      "pygments_lexer": "ipython3",
      "version": "3.11.5"
     }
    }
   ]
  }
 },
 "nbformat": 4,
 "nbformat_minor": 2
}
