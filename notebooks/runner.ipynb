{
 "cells": [
  {
   "cell_type": "code",
   "execution_count": null,
   "metadata": {},
   "outputs": [],
   "source": [
    "import os\n",
    "import papermill as pm\n",
    "from logger import logger"
   ]
  },
  {
   "cell_type": "markdown",
   "metadata": {},
   "source": [
    "## Generate Embeddings"
   ]
  },
  {
   "cell_type": "code",
   "execution_count": null,
   "metadata": {},
   "outputs": [
    {
     "name": "stderr",
     "output_type": "stream",
     "text": [
      "<<<<<<< local <removed>\n"
     ]
    },
    {
     "name": "stderr",
     "output_type": "stream",
     "text": [
      "=======\n"
     ]
    },
    {
     "data": {
      "text/plain": [
       "{'CONTRIBUTOR': {'name': 'CONTRIBUTOR',\n",
       "  'inferred_type_name': 'str',\n",
       "  'default': '\"Health Promotion Board\"',\n",
       "  'help': ''},\n",
       " 'CATEGORY': {'name': 'CATEGORY',\n",
       "  'inferred_type_name': 'str',\n",
       "  'default': '\"live-healthy\"',\n",
       "  'help': ''},\n",
       " 'MODEL_NAME': {'name': 'MODEL_NAME',\n",
       "  'inferred_type_name': 'str',\n",
       "  'default': '\"all-MiniLM-L6-v2\"',\n",
       "  'help': ''},\n",
       " 'POOLING_STRATEGY': {'name': 'POOLING_STRATEGY',\n",
       "  'inferred_type_name': 'str',\n",
       "  'default': '\"max\"',\n",
       "  'help': ''},\n",
       " 'OWNER': {'name': 'OWNER',\n",
       "  'inferred_type_name': 'str',\n",
       "  'default': '\"sentence-transformers\"',\n",
       "  'help': ''}}"
      ]
     },
     "execution_count": 2,
     "metadata": {},
     "output_type": "execute_result"
    },
    {
     "name": "stderr",
     "output_type": "stream",
     "text": [
      ">>>>>>> remote <modified: text/plain>\n"
     ]
    }
   ],
   "source": [
    "notebook = \"embeddings.ipynb\"\n",
    "pm.inspect_notebook(notebook)"
   ]
  },
  {
   "cell_type": "code",
   "execution_count": null,
   "metadata": {},
   "outputs": [
    {
     "name": "stderr",
     "output_type": "stream",
     "text": [
      "2024-06-12 16:14:57,272 - Running embeddings.ipynb for bge-large-en-v1.5 model with mean pooling strategy\n",
      "/Users/lyndon/healthhub-content-optimization/.venv/lib/python3.11/site-packages/tqdm/auto.py:21: TqdmWarning: IProgress not found. Please update jupyter and ipywidgets. See https://ipywidgets.readthedocs.io/en/stable/user_install.html\n",
      "  from .autonotebook import tqdm as notebook_tqdm\n",
      "Executing: 100%|██████████| 18/18 [05:05<00:00, 16.95s/cell]\n"
     ]
    }
   ],
   "source": [
    "# model_name = \"all-MiniLM-L6-v2\"\n",
    "# model_name = \"all-mpnet-base-v2\"\n",
    "model_name = \"bge-large-en-v1.5\"\n",
    "owner_name = 'BAAI'\n",
    "\n",
    "for strategy in [\"mean\"]:\n",
    "    logger.info(\n",
    "        f\"Running {notebook} for {model_name} model with {strategy} pooling strategy\"\n",
    "    )\n",
    "    pm.execute_notebook(\n",
    "        input_path=\"embeddings.ipynb\",\n",
    "        output_path=os.path.join(\n",
    "            \"..\",\n",
    "            \"artifacts\",\n",
    "            \"notebooks\",\n",
    "            f'{model_name}_{strategy}_emb.ipynb',\n",
    "        ),\n",
    "        parameters={\"MODEL_NAME\": model_name, \"POOLING_STRATEGY\": strategy, \"OWNER\":owner_name},\n",
    "    )"
   ]
  },
  {
   "cell_type": "markdown",
   "metadata": {},
   "source": [
    "## Evaluate Similarities"
   ]
  },
  {
   "cell_type": "code",
   "execution_count": null,
   "metadata": {},
   "outputs": [
    {
     "name": "stderr",
     "output_type": "stream",
     "text": [
      "<<<<<<< local <removed>\n"
     ]
    },
    {
     "name": "stderr",
     "output_type": "stream",
     "text": [
      "=======\n"
     ]
    },
    {
     "data": {
      "text/plain": [
       "{'MODEL_NAME': {'name': 'MODEL_NAME',\n",
       "  'inferred_type_name': 'str',\n",
       "  'default': '\"all-MiniLM-L6-v2\"',\n",
       "  'help': ''},\n",
       " 'POOLING_STRATEGY': {'name': 'POOLING_STRATEGY',\n",
       "  'inferred_type_name': 'str',\n",
       "  'default': '\"max\"',\n",
       "  'help': ''},\n",
       " 'OWNER': {'name': 'OWNER',\n",
       "  'inferred_type_name': 'str',\n",
       "  'default': '\"sentence-transformers\"',\n",
       "  'help': ''}}"
      ]
     },
     "execution_count": 4,
     "metadata": {},
     "output_type": "execute_result"
    },
    {
     "name": "stderr",
     "output_type": "stream",
     "text": [
      ">>>>>>> remote <modified: text/plain>\n"
     ]
    }
   ],
   "source": [
    "notebook = \"similarity.ipynb\"\n",
    "pm.inspect_notebook(notebook)"
   ]
  },
  {
   "cell_type": "code",
   "execution_count": null,
   "metadata": {},
   "outputs": [
    {
     "name": "stderr",
     "output_type": "stream",
     "text": [
      "2024-06-12 15:24:30,393 - Running similarity.ipynb for BAAI/bge-large-en-v1.5 model with mean pooling strategy\n",
      "Black encountered an error, skipping formatting (module 'black' has no attribute 'FileMode')\n",
      "Executing: 100%|██████████| 16/16 [00:17<00:00,  1.12s/cell]\n"
     ]
    }
   ],
   "source": [
    "# model_name = \"all-MiniLM-L6-v2\"\n",
    "# model_name = \"all-mpnet-base-v2\"\n",
    "\n",
    "for strategy in [\"mean\"]:\n",
    "    logger.info(\n",
    "        f\"Running {notebook} for {model_name} model with {strategy} pooling strategy\"\n",
    "    )\n",
    "    pm.execute_notebook(\n",
    "        input_path=\"similarity.ipynb\",\n",
    "        output_path=os.path.join(\n",
    "            \"..\",\n",
    "            \"artifacts\",\n",
    "            \"notebooks\",\n",
    "            f\"{model_name}_{strategy}_sim.ipynb\",\n",
    "        ),\n",
    "        parameters={\"MODEL_NAME\": model_name, \"POOLING_STRATEGY\": strategy,\"OWNER\":owner_name},\n",
    "    )"
   ]
  },
  {
   "cell_type": "code",
   "execution_count": null,
   "metadata": {},
   "outputs": [],
   "source": []
  }
 ],
 "metadata": {
  "kernelspec": {
   "display_name": "mining",
   "language": "python",
   "name": "python3"
  },
  "language_info": {
   "codemirror_mode": {
    "name": "ipython",
    "version": 3
   },
   "file_extension": ".py",
   "mimetype": "text/x-python",
   "name": "python",
   "nbconvert_exporter": "python",
   "pygments_lexer": "ipython3",
   "version": "3.11.5"
  }
 },
 "nbformat": 4,
 "nbformat_minor": 2
}
