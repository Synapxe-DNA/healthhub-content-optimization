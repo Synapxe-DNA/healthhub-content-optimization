{
 "cells": [
  {
   "cell_type": "code",
   "execution_count": null,
   "metadata": {},
   "outputs": [],
   "source": [
    "import os\n",
    "\n",
    "import pandas as pd\n",
    "import papermill as pm\n",
    "from logger import logger"
   ]
  },
  {
   "cell_type": "markdown",
   "metadata": {},
   "source": [
    "## Generate Embeddings"
   ]
  },
  {
   "cell_type": "code",
   "execution_count": null,
   "metadata": {},
   "outputs": [],
   "source": [
    "notebook = \"embeddings.ipynb\"\n",
    "pm.inspect_notebook(notebook)"
   ]
  },
  {
   "cell_type": "code",
   "execution_count": null,
   "metadata": {},
   "outputs": [],
   "source": [
    "# model_name = \"all-MiniLM-L6-v2\"\n",
    "# model_name = \"all-mpnet-base-v2\"\n",
    "model_name = \"bge-large-en-v1.5\"\n",
    "owner_name = \"BAAI\"\n",
    "\n",
    "for strategy in [\"mean\"]:\n",
    "    logger.info(\n",
    "        f\"Running {notebook} for {model_name} model with {strategy} pooling strategy\"\n",
    "    )\n",
    "    pm.execute_notebook(\n",
    "        input_path=\"embeddings.ipynb\",\n",
    "        output_path=os.path.join(\n",
    "            \"..\",\n",
    "            \"artifacts\",\n",
    "            \"notebooks\",\n",
    "            f\"{model_name}_{strategy}_emb.ipynb\",\n",
    "        ),\n",
    "        parameters={\n",
    "            \"MODEL_NAME\": model_name,\n",
    "            \"POOLING_STRATEGY\": strategy,\n",
    "            \"OWNER\": owner_name,\n",
    "        },\n",
    "    )"
   ]
  },
  {
   "cell_type": "markdown",
   "metadata": {},
   "source": [
    "## Evaluate Similarities"
   ]
  },
  {
   "cell_type": "code",
   "execution_count": null,
   "metadata": {},
   "outputs": [],
   "source": [
    "notebook = \"similarity.ipynb\"\n",
    "pm.inspect_notebook(notebook)"
   ]
  },
  {
   "cell_type": "code",
   "execution_count": null,
   "metadata": {},
   "outputs": [],
   "source": [
    "method = \"contextual_nn_based_embeddings\"\n",
    "model_name = \"all-MiniLM-L6-v2\"\n",
    "# model_name = \"all-mpnet-base-v2\"\n",
    "owner_name = \"sentence-transformers\"\n",
    "\n",
    "for strategy in [\"mean\"]:\n",
    "    logger.info(\n",
    "        f\"Running {notebook} for {model_name} model with {strategy} pooling strategy\"\n",
    "    )\n",
    "    pm.execute_notebook(\n",
    "        input_path=\"similarity.ipynb\",\n",
    "        output_path=os.path.join(\n",
    "            \"..\",\n",
    "            \"artifacts\",\n",
    "            \"notebooks\",\n",
    "            f\"{model_name}_{strategy}_sim.ipynb\",\n",
    "        ),\n",
    "        parameters={\n",
    "            \"MODEL_NAME\": model_name,\n",
    "            \"POOLING_STRATEGY\": strategy,\n",
    "            \"OWNER\": owner_name,\n",
    "            \"METHOD\": method,\n",
    "        },\n",
    "    )"
   ]
  },
  {
   "cell_type": "markdown",
   "metadata": {},
   "source": [
    "### Clustering and Graph Visualisation"
   ]
  },
  {
   "cell_type": "code",
   "execution_count": null,
   "metadata": {},
   "outputs": [],
   "source": [
    "notebook = \"construct_graph.ipynb\"\n",
    "pm.inspect_notebook(notebook)"
   ]
  },
  {
   "cell_type": "code",
   "execution_count": null,
   "metadata": {},
   "outputs": [],
   "source": [
    "variation_list = []"
   ]
  },
  {
   "cell_type": "code",
   "execution_count": null,
   "metadata": {},
   "outputs": [],
   "source": [
    "# Include models manually if it doesn't fall under statistical, contextual or sbert embedding method, such as doc2vec, glove embeddings\n",
    "variation_list = [\n",
    "    # \"d2v\",\n",
    "    # \"glove\"\n",
    "]"
   ]
  },
  {
   "cell_type": "code",
   "execution_count": null,
   "metadata": {},
   "outputs": [],
   "source": [
    "methods_list = [\n",
    "    \"sbert_embeddings\",\n",
    "    \"statistical_vector_based_embeddings\",\n",
    "    \"contextual_nn_based_embeddings\",\n",
    "]\n",
    "directory = \"../artifacts/outputs/\"\n",
    "\n",
    "for method in methods_list:\n",
    "    input_file = f\"{directory}/{method}_similarity_score.xlsx\"\n",
    "    if os.path.isfile(input_file):\n",
    "        excel = pd.ExcelFile(input_file)\n",
    "        print(f\"{method}: {excel.sheet_names}\")\n",
    "        for sheet_name in excel.sheet_names:\n",
    "            df = pd.read_excel(input_file, sheet_name=sheet_name)\n",
    "            output_file = f\"{directory}/{sheet_name}_similarity_score.csv\"\n",
    "            df.to_csv(output_file, index=False)\n",
    "        variation_list.extend(excel.sheet_names)\n",
    "\n",
    "variation_list"
   ]
  },
  {
   "cell_type": "code",
   "execution_count": null,
   "metadata": {},
   "outputs": [],
   "source": [
    "for em_model in variation_list:\n",
    "    logger.info(f\"Running {notebook} for {em_model} model\")\n",
    "    pm.execute_notebook(\n",
    "        input_path=notebook,\n",
    "        output_path=os.path.join(\n",
    "            \"..\",\n",
    "            \"artifacts\",\n",
    "            \"notebooks\",\n",
    "            f\"{em_model}_construct_graph.ipynb\",\n",
    "        ),\n",
    "        parameters={\"EMBEDDING_MODEL\": em_model},\n",
    "    )"
   ]
  },
  {
   "cell_type": "code",
   "execution_count": null,
   "metadata": {},
   "outputs": [],
   "source": [
    "notebook = \"clusterviz.ipynb\"\n",
    "pm.inspect_notebook(notebook)"
   ]
  },
  {
   "cell_type": "code",
   "execution_count": null,
   "metadata": {},
   "outputs": [],
   "source": [
    "for em_model in variation_list:\n",
    "    logger.info(f\"Running {notebook} for {em_model} model\")\n",
    "    pm.execute_notebook(\n",
    "        input_path=notebook,\n",
    "        output_path=os.path.join(\n",
    "            \"..\",\n",
    "            \"artifacts\",\n",
    "            \"notebooks\",\n",
    "            f\"{em_model}_clusterviz.ipynb\",\n",
    "        ),\n",
    "        parameters={\"EMBEDDING_MODEL\": em_model},\n",
    "    )"
   ]
  }
 ],
 "metadata": {
  "kernelspec": {
   "display_name": "mining",
   "language": "python",
   "name": "python3"
  },
  "language_info": {
   "codemirror_mode": {
    "name": "ipython",
    "version": 3
   },
   "file_extension": ".py",
   "mimetype": "text/x-python",
   "name": "python",
   "nbconvert_exporter": "python",
   "pygments_lexer": "ipython3",
   "version": "3.11.6"
  },
  "nbdime-conflicts": {
   "local_diff": [
    {
     "key": "language_info",
     "op": "add",
     "value": {
      "codemirror_mode": {
       "name": "ipython",
       "version": 3
      },
      "file_extension": ".py",
      "mimetype": "text/x-python",
      "name": "python",
      "nbconvert_exporter": "python",
      "pygments_lexer": "ipython3",
      "version": "3.12.3"
     }
    }
   ],
   "remote_diff": [
    {
     "key": "language_info",
     "op": "add",
     "value": {
      "codemirror_mode": {
       "name": "ipython",
       "version": 3
      },
      "file_extension": ".py",
      "mimetype": "text/x-python",
      "name": "python",
      "nbconvert_exporter": "python",
      "pygments_lexer": "ipython3",
      "version": "3.11.5"
     }
    }
   ]
  }
 },
 "nbformat": 4,
 "nbformat_minor": 2
}
