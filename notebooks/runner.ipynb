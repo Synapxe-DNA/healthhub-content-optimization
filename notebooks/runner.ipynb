{
 "cells": [
  {
   "cell_type": "code",
   "execution_count": 9,
   "metadata": {},
   "outputs": [],
   "source": [
    "import os\n",
    "import papermill as pm\n",
    "from logger import logger"
   ]
  },
  {
   "cell_type": "markdown",
   "metadata": {},
   "source": [
    "## Generate Embeddings"
   ]
  },
  {
   "cell_type": "code",
   "execution_count": 10,
   "metadata": {},
   "outputs": [
    {
     "data": {
      "text/plain": [
       "{'CONTRIBUTOR': {'name': 'CONTRIBUTOR',\n",
       "  'inferred_type_name': 'str',\n",
       "  'default': '\"Health Promotion Board\"',\n",
       "  'help': ''},\n",
       " 'CATEGORY': {'name': 'CATEGORY',\n",
       "  'inferred_type_name': 'str',\n",
       "  'default': '\"live-healthy\"',\n",
       "  'help': ''},\n",
       " 'MODEL_NAME': {'name': 'MODEL_NAME',\n",
       "  'inferred_type_name': 'str',\n",
       "  'default': '\"all-MiniLM-L6-v2\"',\n",
       "  'help': ''},\n",
       " 'POOLING_STRATEGY': {'name': 'POOLING_STRATEGY',\n",
       "  'inferred_type_name': 'str',\n",
       "  'default': '\"max\"',\n",
       "  'help': ''},\n",
       " 'OWNER': {'name': 'OWNER',\n",
       "  'inferred_type_name': 'str',\n",
       "  'default': '\"sentence-transformers\"',\n",
       "  'help': ''}}"
      ]
     },
     "execution_count": 10,
     "metadata": {},
     "output_type": "execute_result"
    }
   ],
   "source": [
    "notebook = \"embeddings.ipynb\"\n",
    "pm.inspect_notebook(notebook)"
   ]
  },
  {
   "cell_type": "code",
   "execution_count": 11,
   "metadata": {},
   "outputs": [
    {
     "name": "stderr",
     "output_type": "stream",
     "text": [
      "2024-06-13 10:04:31,041 - Running embeddings.ipynb for bge-large-en-v1.5 model with mean pooling strategy\n",
      "Executing: 100%|██████████| 18/18 [04:40<00:00, 15.60s/cell]\n"
     ]
    }
   ],
   "source": [
    "# model_name = \"all-MiniLM-L6-v2\"\n",
    "# model_name = \"all-mpnet-base-v2\"\n",
    "model_name = \"bge-large-en-v1.5\"\n",
    "owner_name = 'BAAI'\n",
    "\n",
    "for strategy in [\"mean\"]:\n",
    "    logger.info(\n",
    "        f\"Running {notebook} for {model_name} model with {strategy} pooling strategy\"\n",
    "    )\n",
    "    pm.execute_notebook(\n",
    "        input_path=\"embeddings.ipynb\",\n",
    "        output_path=os.path.join(\n",
    "            \"..\",\n",
    "            \"artifacts\",\n",
    "            \"notebooks\",\n",
    "            f'{model_name}_{strategy}_emb.ipynb',\n",
    "        ),\n",
    "        parameters={\"MODEL_NAME\": model_name, \"POOLING_STRATEGY\": strategy, \"OWNER\":owner_name},\n",
    "    )"
   ]
  },
  {
   "cell_type": "markdown",
   "metadata": {},
   "source": [
    "## Evaluate Similarities"
   ]
  },
  {
   "cell_type": "code",
   "execution_count": 14,
   "metadata": {},
   "outputs": [
    {
     "data": {
      "text/plain": [
       "{'MODEL_NAME': {'name': 'MODEL_NAME',\n",
       "  'inferred_type_name': 'str',\n",
       "  'default': '\"all-MiniLM-L6-v2\"',\n",
       "  'help': ''},\n",
       " 'POOLING_STRATEGY': {'name': 'POOLING_STRATEGY',\n",
       "  'inferred_type_name': 'str',\n",
       "  'default': '\"max\"',\n",
       "  'help': ''},\n",
       " 'OWNER': {'name': 'OWNER',\n",
       "  'inferred_type_name': 'str',\n",
       "  'default': '\"sentence-transformers\"',\n",
       "  'help': ''}}"
      ]
     },
     "execution_count": 14,
     "metadata": {},
     "output_type": "execute_result"
    }
   ],
   "source": [
    "notebook = \"similarity.ipynb\"\n",
    "pm.inspect_notebook(notebook)"
   ]
  },
  {
   "cell_type": "code",
   "execution_count": 15,
   "metadata": {},
   "outputs": [
    {
     "name": "stderr",
     "output_type": "stream",
     "text": [
      "2024-06-13 10:13:10,835 - Running similarity.ipynb for bge-large-en-v1.5 model with mean pooling strategy\n",
      "Executing: 100%|██████████| 19/19 [00:15<00:00,  1.20cell/s]\n"
     ]
    }
   ],
   "source": [
    "# model_name = \"all-MiniLM-L6-v2\"\n",
    "# model_name = \"all-mpnet-base-v2\"\n",
    "\n",
    "for strategy in [\"mean\"]:\n",
    "    logger.info(\n",
    "        f\"Running {notebook} for {model_name} model with {strategy} pooling strategy\"\n",
    "    )\n",
    "    pm.execute_notebook(\n",
    "        input_path=\"similarity.ipynb\",\n",
    "        output_path=os.path.join(\n",
    "            \"..\",\n",
    "            \"artifacts\",\n",
    "            \"notebooks\",\n",
    "            f\"{model_name}_{strategy}_sim.ipynb\",\n",
    "        ),\n",
    "        parameters={\"MODEL_NAME\": model_name, \"POOLING_STRATEGY\": strategy,\"OWNER\":owner_name},\n",
    "    )"
   ]
  },
  {
   "cell_type": "code",
   "execution_count": null,
   "metadata": {},
   "outputs": [],
   "source": []
  }
 ],
 "metadata": {
  "kernelspec": {
   "display_name": "mining",
   "language": "python",
   "name": "python3"
  },
  "language_info": {
   "codemirror_mode": {
    "name": "ipython",
    "version": 3
   },
   "file_extension": ".py",
   "mimetype": "text/x-python",
   "name": "python",
   "nbconvert_exporter": "python",
   "pygments_lexer": "ipython3",
   "version": "3.11.5"
  }
 },
 "nbformat": 4,
 "nbformat_minor": 2
}
