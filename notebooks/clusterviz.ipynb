{
 "cells": [
  {
   "cell_type": "code",
   "execution_count": 72,
   "metadata": {},
   "outputs": [],
   "source": [
    "import os\n",
    "import pickle\n",
    "import random\n",
    "\n",
    "import networkx as nx\n",
    "import numpy as np\n",
    "import pandas as pd\n",
    "import plotly.graph_objects as go\n",
    "\n",
    "os.environ[\"TOKENIZERS_PARALLELISM\"] = \"false\""
   ]
  },
  {
   "cell_type": "markdown",
   "metadata": {},
   "source": [
    "### Papermill parameters"
   ]
  },
  {
   "cell_type": "code",
   "execution_count": 73,
   "metadata": {
    "tags": [
     "parameters"
    ]
   },
   "outputs": [],
   "source": [
    "EMBEDDING_MODEL = \"tfidf\""
   ]
  },
  {
   "cell_type": "code",
   "execution_count": 74,
   "metadata": {},
   "outputs": [],
   "source": [
    "INPUT_GRAPH_PATH = os.path.join(\n",
    "    \"..\",\n",
    "    \"artifacts\",\n",
    "    \"outputs\",\n",
    "    EMBEDDING_MODEL + \"_graph\",\n",
    ")\n",
    "\n",
    "INPUT_CSV_PATH = os.path.join(\n",
    "    \"..\",\n",
    "    \"artifacts\",\n",
    "    \"outputs\",\n",
    "    f\"{EMBEDDING_MODEL}_graph_louvain_cluster.csv\",\n",
    ")\n",
    "\n",
    "OUTPUT_GRAPH_PATH = os.path.join(\n",
    "    \"..\",\n",
    "    \"artifacts\",\n",
    "    \"outputs\",\n",
    "    EMBEDDING_MODEL + \"_graph_plot.html\",\n",
    ")"
   ]
  },
  {
   "cell_type": "markdown",
   "metadata": {},
   "source": [
    "### Load graph"
   ]
  },
  {
   "cell_type": "code",
   "execution_count": 75,
   "metadata": {},
   "outputs": [],
   "source": [
    "graph = pickle.load(open(INPUT_GRAPH_PATH, \"rb\"))\n",
    "pred_df = pd.read_csv(INPUT_CSV_PATH)\n",
    "threshold = graph.graph[\"threshold\"]"
   ]
  },
  {
   "cell_type": "code",
   "execution_count": 76,
   "metadata": {},
   "outputs": [],
   "source": [
    "weight_values = nx.get_edge_attributes(graph, \"weight\")\n",
    "positions = nx.spring_layout(graph)\n",
    "nx.set_node_attributes(graph, name=\"position\", values=positions)"
   ]
  },
  {
   "cell_type": "markdown",
   "metadata": {},
   "source": [
    "### Edges"
   ]
  },
  {
   "cell_type": "code",
   "execution_count": 77,
   "metadata": {},
   "outputs": [],
   "source": [
    "edge_x = []\n",
    "edge_y = []\n",
    "weights = []\n",
    "avg_x, avg_y = [], []\n",
    "\n",
    "# Loop through the edges\n",
    "for edge in graph.edges():\n",
    "    node1 = graph.nodes[edge[0]][\"URL\"]\n",
    "    node2 = graph.nodes[edge[1]][\"URL\"]\n",
    "    if (\n",
    "        pred_df.loc[pred_df[\"URL\"] == node1, \"cluster_label\"].values[0]\n",
    "        == pred_df.loc[pred_df[\"URL\"] == node2, \"cluster_label\"].values[0]\n",
    "    ):\n",
    "        # Get the x and y coordinates of the first and second nodes\n",
    "        # that has an edge (connection) between them\n",
    "        x0, y0 = graph.nodes[edge[0]][\"position\"]\n",
    "        x1, y1 = graph.nodes[edge[1]][\"position\"]\n",
    "\n",
    "        # Store the coordinates\n",
    "        edge_x.append(x0)\n",
    "        edge_x.append(x1)\n",
    "        edge_x.append(None)\n",
    "\n",
    "        edge_y.append(y0)\n",
    "        edge_y.append(y1)\n",
    "        edge_y.append(None)\n",
    "\n",
    "        # Store the x and y coordinates of the centre of the edge\n",
    "        avg_x.append(np.mean([x0, x1]))\n",
    "        avg_y.append(np.mean([y0, y1]))\n",
    "\n",
    "        # Store the weight of the edge (accessed by the URLs of the nodes)\n",
    "        weights.append(f\"{edge[0]}, {edge[1]}: {weight_values[(edge[0], edge[1])]}\")\n",
    "\n",
    "edge_trace = go.Scatter(\n",
    "    x=edge_x,\n",
    "    y=edge_y,\n",
    "    opacity=0.7,\n",
    "    line=dict(width=2, color=\"White\"),\n",
    "    hoverinfo=\"text\",\n",
    "    mode=\"lines\",\n",
    ")\n",
    "\n",
    "edge_trace.text = weights"
   ]
  },
  {
   "cell_type": "markdown",
   "metadata": {},
   "source": [
    "### Nodes"
   ]
  },
  {
   "cell_type": "code",
   "execution_count": 78,
   "metadata": {},
   "outputs": [],
   "source": [
    "# Create a color mapping dictionary for each groundtruth cluster\n",
    "\n",
    "random.seed(123)\n",
    "node_cluster = [id for id in pred_df[\"Combine Group ID\"].unique() if str(id) != \"nan\"]\n",
    "cluster_colors = {}\n",
    "for cluster_id in set(node_cluster):\n",
    "    color = (random.randint(0, 255), random.randint(0, 255), random.randint(0, 255))\n",
    "    hex_color = \"#%02x%02x%02x\" % color\n",
    "    cluster_colors[str(cluster_id)] = hex_color"
   ]
  },
  {
   "cell_type": "code",
   "execution_count": 79,
   "metadata": {},
   "outputs": [],
   "source": [
    "node_x = []\n",
    "node_y = []\n",
    "\n",
    "# Loop through the nodes\n",
    "for node in graph.nodes():\n",
    "    # Get x and y coordinates of the node\n",
    "    x, y = graph.nodes[node][\"position\"]\n",
    "\n",
    "    # Store the coordinates\n",
    "    node_x.append(x)\n",
    "    node_y.append(y)\n",
    "\n",
    "# Generate the sizes for each nodes\n",
    "sizes = [15] * len(graph.nodes)\n",
    "\n",
    "node_trace = go.Scatter(\n",
    "    x=node_x,\n",
    "    y=node_y,\n",
    "    mode=\"markers\",\n",
    "    hoverinfo=\"text\",\n",
    "    marker=dict(\n",
    "        # showscale=True,\n",
    "        line=dict(color=\"White\"),\n",
    "        # colorscale options\n",
    "        #'Greys' | 'YlGnBu' | 'Greens' | 'YlOrRd' | 'Bluered' | 'RdBu' |\n",
    "        #'Reds' | 'Blues' | 'Picnic' | 'Rainbow' | 'Portland' | 'Jet' |\n",
    "        #'Hot' | 'Blackbody' | 'Earth' | 'Electric' | 'Viridis' |\n",
    "        # colorscale=\"Picnic\",\n",
    "        reversescale=False,\n",
    "        color=[],\n",
    "        opacity=0.9,\n",
    "        size=sizes,\n",
    "        # colorbar=dict(\n",
    "        #     thickness=15, title=\"Ground Truth\", xanchor=\"left\", titleside=\"right\"\n",
    "        # ),\n",
    "        line_width=2,\n",
    "    ),\n",
    ")\n",
    "\n",
    "invisible_similarity_trace = go.Scatter(\n",
    "    x=avg_x,\n",
    "    y=avg_y,\n",
    "    mode=\"markers\",\n",
    "    hoverinfo=\"text\",\n",
    "    marker=dict(\n",
    "        color=[],\n",
    "        opacity=0,\n",
    "    ),\n",
    ")\n",
    "\n",
    "invisible_similarity_trace.text = weights"
   ]
  },
  {
   "cell_type": "code",
   "execution_count": 80,
   "metadata": {},
   "outputs": [],
   "source": [
    "node_cluster = []  # contains the pred cluster labels for each node\n",
    "node_text = []  # contains the title\n",
    "\n",
    "for node, adjacencies in enumerate(graph.adjacency()):\n",
    "    cluster_id = graph.nodes[adjacencies[0]][\"Combine Group ID\"]  # get cluster id\n",
    "    node_cluster.append(cluster_colors[str(cluster_id)])\n",
    "    node_text.append(f\"{adjacencies[0]} [Ground Truth: {str(int(cluster_id))}]\")\n",
    "\n",
    "node_trace.marker.color = node_cluster\n",
    "node_trace.text = node_text"
   ]
  },
  {
   "cell_type": "code",
   "execution_count": 81,
   "metadata": {},
   "outputs": [],
   "source": [
    "fig = go.Figure(\n",
    "    data=[edge_trace, node_trace, invisible_similarity_trace],\n",
    "    layout=go.Layout(\n",
    "        title=f\"Network Graph of Document Embeddings ({EMBEDDING_MODEL}, Threshold={threshold})\",\n",
    "        template=\"plotly_dark\",\n",
    "        titlefont_size=20,\n",
    "        showlegend=False,\n",
    "        hovermode=\"closest\",\n",
    "        margin=dict(b=20, l=5, r=5, t=40),\n",
    "        annotations=[\n",
    "            dict(\n",
    "                text=\"Adapted from: <a href='https://plotly.com/ipython-notebooks/network-graphs/'> https://plotly.com/ipython-notebooks/network-graphs/</a>\",\n",
    "                showarrow=False,\n",
    "                xref=\"paper\",\n",
    "                yref=\"paper\",\n",
    "                x=0.005,\n",
    "                y=-0.002,\n",
    "            )\n",
    "        ],\n",
    "        xaxis=dict(showgrid=False, zeroline=False, showticklabels=False),\n",
    "        yaxis=dict(showgrid=False, zeroline=False, showticklabels=False),\n",
    "    ),\n",
    ")\n",
    "\n",
    "visualise_path = os.path.join(\"cluster_visualise\", EMBEDDING_MODEL)\n",
    "\n",
    "if not os.path.exists(visualise_path):\n",
    "    # Create a new directory because it does not exist\n",
    "    os.makedirs(visualise_path)\n",
    "\n",
    "\n",
    "filename = OUTPUT_GRAPH_PATH\n",
    "fig.write_html(filename)"
   ]
  }
 ],
 "metadata": {
  "kernelspec": {
   "display_name": "mining",
   "language": "python",
   "name": "python3"
  },
  "language_info": {
   "codemirror_mode": {
    "name": "ipython",
    "version": 3
   },
   "file_extension": ".py",
   "mimetype": "text/x-python",
   "name": "python",
   "nbconvert_exporter": "python",
   "pygments_lexer": "ipython3",
   "version": "3.10.11"
  }
 },
 "nbformat": 4,
 "nbformat_minor": 2
}
