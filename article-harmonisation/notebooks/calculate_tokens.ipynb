{
 "cells": [
  {
   "cell_type": "code",
   "id": "initial_id",
   "metadata": {
    "collapsed": true
   },
   "source": [
    "import numpy as np\n",
    "import pandas as pd\n",
    "import plotly.express as px\n",
    "import tiktoken"
   ],
   "outputs": [],
   "execution_count": null
  },
  {
   "metadata": {},
   "cell_type": "code",
   "source": [
    "# Costs per 1000 tokens\n",
    "models_costs = {\n",
    "    \"gpt-3.5-turbo-0125\": {\"inputs\": 0.0005, \"outputs\": 0.0015},\n",
    "    \"gpt-4o-mini\": {\"inputs\": 0.15 / 1000, \"outputs\": 0.60 / 1000},\n",
    "}"
   ],
   "id": "c480059249d21a86",
   "outputs": [],
   "execution_count": null
  },
  {
   "metadata": {},
   "cell_type": "code",
   "source": [
    "merged_data = pd.read_parquet(\"../data/merged_data.parquet\")\n",
    "\n",
    "display(merged_data)"
   ],
   "id": "46a1010b63c80b43",
   "outputs": [],
   "execution_count": null
  },
  {
   "metadata": {},
   "cell_type": "code",
   "source": [
    "df_keep = merged_data[~merged_data[\"to_remove\"]]\n",
    "\n",
    "display(df_keep)"
   ],
   "id": "fe84f21b9add2b1c",
   "outputs": [],
   "execution_count": null
  },
  {
   "metadata": {},
   "cell_type": "code",
   "source": [
    "relevant_categories = [\n",
    "    \"cost-and-financing\",\n",
    "    \"live-healthy-articles\",\n",
    "    \"diseases-and-conditions\",\n",
    "    \"medical-care-and-facilities\",\n",
    "    \"support-group-and-others\",\n",
    "]\n",
    "\n",
    "df_keep = df_keep[df_keep[\"content_category\"].isin(relevant_categories)]\n",
    "\n",
    "display(df_keep)"
   ],
   "id": "807ea587daee9966",
   "outputs": [],
   "execution_count": null
  },
  {
   "metadata": {},
   "cell_type": "code",
   "source": [
    "df_extracted = df_keep[\n",
    "    [\n",
    "        \"id\",\n",
    "        \"content_name\",\n",
    "        \"title\",\n",
    "        \"article_category_names\",\n",
    "        \"full_url\",\n",
    "        \"friendly_url\",\n",
    "        \"category_description\",\n",
    "        \"content_category\",\n",
    "        \"content_body\",\n",
    "        \"pr_name\",\n",
    "        \"has_table\",\n",
    "        \"has_image\",\n",
    "        \"related_sections\",\n",
    "        \"extracted_tables\",\n",
    "        \"extracted_links\",\n",
    "        \"extracted_headers\",\n",
    "        \"extracted_img_alt_text\",\n",
    "        \"extracted_content_body\",\n",
    "    ]\n",
    "]\n",
    "\n",
    "display(df_extracted)"
   ],
   "id": "d48d1c52b60d6369",
   "outputs": [],
   "execution_count": null
  },
  {
   "metadata": {},
   "cell_type": "code",
   "source": [
    "def num_tokens_from_string(string: str, encoding_name: str = \"cl100k_base\") -> int:\n",
    "    \"\"\"Return the number of tokens in a string.\"\"\"\n",
    "    encoding = tiktoken.get_encoding(encoding_name)\n",
    "    num_tokens = len(encoding.encode(string))\n",
    "    return num_tokens\n",
    "\n",
    "\n",
    "df_extracted.loc[:, \"num_tokens\"] = df_extracted[\"extracted_content_body\"].apply(\n",
    "    lambda x: num_tokens_from_string(x)\n",
    ")\n",
    "\n",
    "display(df_extracted.sort_values(by=[\"num_tokens\"], ascending=False))"
   ],
   "id": "ef857550d3832d8e",
   "outputs": [],
   "execution_count": null
  },
  {
   "metadata": {},
   "cell_type": "code",
   "source": [
    "fig = px.histogram(df_extracted, x=\"num_tokens\", nbins=100)\n",
    "fig.update_layout(\n",
    "    title_text=\"Token Count distribution for Extracted Article Content\",\n",
    "    xaxis_title_text=\"Token Count\",\n",
    "    yaxis_title_text=\"Count\",\n",
    "    bargap=0.1,\n",
    ")\n",
    "# fig.add_vline(x=lower_threshold, line_dash=\"dash\", line_color=\"firebrick\")\n",
    "# fig.add_vline(x=upper_threshold, line_dash=\"dash\", line_color=\"firebrick\")\n",
    "fig.show()"
   ],
   "id": "1f5721dbb2d9069d",
   "outputs": [],
   "execution_count": null
  },
  {
   "metadata": {},
   "cell_type": "code",
   "source": [
    "df_extracted.loc[:, \"log_num_tokens\"] = np.log(df_extracted[\"num_tokens\"])"
   ],
   "id": "d953ea52feaac25d",
   "outputs": [],
   "execution_count": null
  },
  {
   "metadata": {},
   "cell_type": "code",
   "source": [
    "fig = px.histogram(df_extracted, x=\"log_num_tokens\", nbins=100)\n",
    "fig.update_layout(\n",
    "    title_text=\"Token Count distribution for Extracted Article Content\",\n",
    "    xaxis_title_text=\"Token Count\",\n",
    "    yaxis_title_text=\"Count\",\n",
    "    bargap=0.1,\n",
    ")\n",
    "# fig.add_vline(x=lower_threshold, line_dash=\"dash\", line_color=\"firebrick\")\n",
    "# fig.add_vline(x=upper_threshold, line_dash=\"dash\", line_color=\"firebrick\")\n",
    "fig.show()"
   ],
   "id": "d0d3367fee7e375d",
   "outputs": [],
   "execution_count": null
  },
  {
   "metadata": {},
   "cell_type": "code",
   "source": "",
   "id": "8bd4925edc197d1b",
   "outputs": [],
   "execution_count": null
  }
 ],
 "metadata": {
  "kernelspec": {
   "display_name": "Python 3",
   "language": "python",
   "name": "python3"
  },
  "language_info": {
   "codemirror_mode": {
    "name": "ipython",
    "version": 2
   },
   "file_extension": ".py",
   "mimetype": "text/x-python",
   "name": "python",
   "nbconvert_exporter": "python",
   "pygments_lexer": "ipython2",
   "version": "2.7.6"
  }
 },
 "nbformat": 4,
 "nbformat_minor": 5
}
