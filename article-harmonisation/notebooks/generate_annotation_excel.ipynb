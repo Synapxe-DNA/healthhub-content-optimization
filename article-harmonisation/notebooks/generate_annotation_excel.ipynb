{
 "cells": [
  {
   "cell_type": "code",
   "id": "initial_id",
   "metadata": {
    "collapsed": true
   },
   "source": [
    "from glob import glob\n",
    "\n",
    "import pandas as pd"
   ],
   "outputs": [],
   "execution_count": null
  },
  {
   "metadata": {},
   "cell_type": "code",
   "source": [
    "filepaths = sorted(glob(\"../data/optimization_checks/agentic_response_*.parquet\"))\n",
    "latest_fpath = filepaths[-1]\n",
    "print(f\"Filepath: {latest_fpath}\")"
   ],
   "id": "584b7be7584c7048",
   "outputs": [],
   "execution_count": null
  },
  {
   "metadata": {},
   "cell_type": "code",
   "source": [
    "df_evaluated = pd.read_parquet(latest_fpath)\n",
    "\n",
    "display(df_evaluated)  # noqa: F821"
   ],
   "id": "c4c7fdd750bd9e37",
   "outputs": [],
   "execution_count": null
  },
  {
   "metadata": {},
   "cell_type": "code",
   "source": [
    "# df_evaluated.to_excel(f\"../data/optimization_checks/agentic_response.xlsx\", index=False)"
   ],
   "id": "ee31f79ee67fba",
   "outputs": [],
   "execution_count": null
  },
  {
   "metadata": {},
   "cell_type": "markdown",
   "source": "## Load User Annotation Files (Clustering and Post HH Annotation)",
   "id": "9a877485a1a1e546"
  },
  {
   "metadata": {},
   "cell_type": "code",
   "source": [
    "df_clusters = pd.read_excel(\"../data/marked_articles/final_predicted_clusters.xlsx\")\n",
    "\n",
    "display(df_clusters)  # noqa: F821"
   ],
   "id": "d3dda981ab37736d",
   "outputs": [],
   "execution_count": null
  },
  {
   "metadata": {},
   "cell_type": "code",
   "source": [
    "idx_individual = list(df_clusters[df_clusters[\"group_keywords\"].isna()].id)\n",
    "\n",
    "print(idx_individual)"
   ],
   "id": "b03ff2fe7e6aefc5",
   "outputs": [],
   "execution_count": null
  },
  {
   "metadata": {},
   "cell_type": "code",
   "source": [
    "df_post_annotation = pd.read_excel(\n",
    "    \"../data/marked_articles/post-HH annotation (articles marked individual for optimisation check).xlsx\"\n",
    ")\n",
    "\n",
    "display(df_post_annotation)  # noqa: F821"
   ],
   "id": "d9176f06d6f8d716",
   "outputs": [],
   "execution_count": null
  },
  {
   "metadata": {},
   "cell_type": "code",
   "source": [
    "idx_combined = idx_individual + list(df_post_annotation.article_id)\n",
    "\n",
    "print(len(idx_combined), idx_combined)"
   ],
   "id": "eb86b13dc7932705",
   "outputs": [],
   "execution_count": null
  },
  {
   "metadata": {},
   "cell_type": "code",
   "source": "",
   "id": "85c6ad42dd4b6aa8",
   "outputs": [],
   "execution_count": null
  }
 ],
 "metadata": {
  "kernelspec": {
   "display_name": "Python 3",
   "language": "python",
   "name": "python3"
  },
  "language_info": {
   "codemirror_mode": {
    "name": "ipython",
    "version": 2
   },
   "file_extension": ".py",
   "mimetype": "text/x-python",
   "name": "python",
   "nbconvert_exporter": "python",
   "pygments_lexer": "ipython2",
   "version": "2.7.6"
  }
 },
 "nbformat": 4,
 "nbformat_minor": 5
}
