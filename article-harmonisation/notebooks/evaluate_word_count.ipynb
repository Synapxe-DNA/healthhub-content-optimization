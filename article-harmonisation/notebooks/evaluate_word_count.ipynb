{
 "cells": [
  {
   "cell_type": "code",
   "id": "40198381",
   "metadata": {},
   "source": [
    "import re\n",
    "\n",
    "import numpy as np\n",
    "import pandas as pd\n",
    "import plotly.express as px"
   ],
   "outputs": [],
   "execution_count": null
  },
  {
   "cell_type": "code",
   "id": "cea33abf",
   "metadata": {},
   "source": [
    "# Load dataframe from `data` directory\n",
    "merged_data = pd.read_parquet(\"../data/merged_data.parquet\")\n",
    "\n",
    "display(merged_data)  # noqa: F821"
   ],
   "outputs": [],
   "execution_count": null
  },
  {
   "cell_type": "code",
   "id": "01bbb0e8",
   "metadata": {},
   "source": [
    "df_keep = merged_data[~merged_data[\"to_remove\"]]\n",
    "\n",
    "display(df_keep)  # noqa: F821"
   ],
   "outputs": [],
   "execution_count": null
  },
  {
   "cell_type": "code",
   "id": "2fcc1a5b",
   "metadata": {},
   "source": [
    "relevant_categories = [\n",
    "    \"cost-and-financing\",\n",
    "    \"live-healthy-articles\",\n",
    "    \"diseases-and-conditions\",\n",
    "    \"medical-care-and-facilities\",\n",
    "    \"support-group-and-others\",\n",
    "]\n",
    "\n",
    "df_keep = df_keep[df_keep[\"content_category\"].isin(relevant_categories)]\n",
    "\n",
    "display(df_keep)  # noqa: F821"
   ],
   "outputs": [],
   "execution_count": null
  },
  {
   "cell_type": "code",
   "id": "5e1a01b5",
   "metadata": {},
   "source": [
    "print(df_keep.columns)"
   ],
   "outputs": [],
   "execution_count": null
  },
  {
   "cell_type": "code",
   "id": "d2ea8b90",
   "metadata": {},
   "source": [
    "df_extracted = df_keep[\n",
    "    [\n",
    "        \"id\",\n",
    "        \"content_name\",\n",
    "        \"title\",\n",
    "        \"article_category_names\",\n",
    "        \"full_url\",\n",
    "        # \"friendly_url\",\n",
    "        # \"category_description\",\n",
    "        \"content_category\",\n",
    "        # \"content_body\",\n",
    "        \"pr_name\",\n",
    "        # \"has_table\",\n",
    "        # \"has_image\",\n",
    "        # \"related_sections\",\n",
    "        # \"extracted_tables\",\n",
    "        # \"extracted_raw_html_tables\",\n",
    "        # \"extracted_links\",\n",
    "        # \"extracted_headers\",\n",
    "        # \"extracted_images\",\n",
    "        \"extracted_content_body\",\n",
    "        \"l1_mappings\",\n",
    "        \"l2_mappings\",\n",
    "    ]\n",
    "]\n",
    "\n",
    "display(df_extracted)  # noqa: F821"
   ],
   "outputs": [],
   "execution_count": null
  },
  {
   "cell_type": "code",
   "id": "cc4939e0",
   "metadata": {},
   "source": [
    "def calculate_word_count(text: str) -> int:\n",
    "    # print(len(list(filter(lambda x: len(x.strip()) > 0, text.split()))))\n",
    "    # print(len(re.findall(r\"\\w+\", text)))\n",
    "    # print(len(re.findall(r\"\\w+\", text)) == len(list(filter(lambda x: len(x.strip()) > 0, text.split()))), end=\"\\n\\n\")\n",
    "    return len(re.findall(r\"\\w+\", text))\n",
    "\n",
    "\n",
    "df_extracted.loc[:, \"word_count\"] = df_extracted[\"extracted_content_body\"].apply(\n",
    "    calculate_word_count\n",
    ")\n",
    "\n",
    "display(df_extracted)  # noqa: F821"
   ],
   "outputs": [],
   "execution_count": null
  },
  {
   "cell_type": "code",
   "id": "059e7636",
   "metadata": {},
   "source": [
    "df_extracted.loc[:, \"log_word_count\"] = np.log(df_extracted[\"word_count\"])\n",
    "\n",
    "display(df_extracted)  # noqa: F821"
   ],
   "outputs": [],
   "execution_count": null
  },
  {
   "cell_type": "code",
   "id": "a0bf016d",
   "metadata": {
    "jupyter": {
     "is_executing": true
    }
   },
   "source": [
    "fig = px.box(\n",
    "    df_extracted,\n",
    "    x=\"word_count\",\n",
    "    color=\"content_category\",\n",
    "    hover_data=df_extracted.columns,\n",
    ")\n",
    "fig.update_layout(\n",
    "    title_text=\"Word Count Box Plot for Extracted Article Content\",\n",
    "    xaxis_title_text=\"Word Count\",\n",
    "    yaxis_title_text=\"Count\",\n",
    "    bargap=0.1,\n",
    ")\n",
    "\n",
    "fig.show()"
   ],
   "outputs": [],
   "execution_count": null
  },
  {
   "cell_type": "code",
   "id": "52939dd1",
   "metadata": {
    "jupyter": {
     "is_executing": true
    }
   },
   "source": [
    "fig = px.histogram(\n",
    "    df_extracted,\n",
    "    x=\"word_count\",\n",
    "    color=\"content_category\",\n",
    "    facet_row=\"content_category\",\n",
    "    nbins=40,\n",
    "    width=1000,\n",
    "    height=1280,\n",
    ")\n",
    "fig.for_each_annotation(lambda a: a.update(text=a.text.split(\"=\")[1]))\n",
    "fig.update_layout(\n",
    "    title_text=\"Word Count distribution for Extracted Article Content\",\n",
    "    xaxis_title_text=\"Word Count\",\n",
    "    yaxis_title_text=\"Count\",\n",
    "    bargap=0.1,\n",
    ")\n",
    "fig.show()"
   ],
   "outputs": [],
   "execution_count": null
  },
  {
   "cell_type": "code",
   "id": "d544029a",
   "metadata": {},
   "source": [
    "fig = px.histogram(\n",
    "    df_extracted,\n",
    "    x=\"log_word_count\",\n",
    "    color=\"content_category\",\n",
    "    facet_row=\"content_category\",\n",
    "    nbins=40,\n",
    "    width=1000,\n",
    "    height=1280,\n",
    ")\n",
    "fig.for_each_annotation(lambda a: a.update(text=a.text.split(\"=\")[1]))\n",
    "fig.update_layout(\n",
    "    title_text=\"Log Word Count distribution for Extracted Article Content\",\n",
    "    xaxis_title_text=\"Log Word Count\",\n",
    "    yaxis_title_text=\"Count\",\n",
    "    bargap=0.1,\n",
    ")\n",
    "fig.show()"
   ],
   "outputs": [],
   "execution_count": null
  },
  {
   "cell_type": "code",
   "id": "9c591b5f",
   "metadata": {},
   "source": [
    "for category in relevant_categories:\n",
    "    df_content = df_extracted[df_extracted[\"content_category\"] == category]\n",
    "    print(\n",
    "        f\"Distribution of Word Count for {category}: {df_content.shape[0]} articles\",\n",
    "        df_content[\"word_count\"].quantile(\n",
    "            [0.001, 0.021, 0.159, 0.25, 0.5, 0.75, 0.841, 0.977, 0.999]\n",
    "        ),\n",
    "        end=\"\\n\\n\",\n",
    "        sep=\"\\n\",\n",
    "    )"
   ],
   "outputs": [],
   "execution_count": null
  },
  {
   "metadata": {},
   "cell_type": "code",
   "source": [
    "df_hpb = df_extracted[df_extracted[\"pr_name\"] == \"Health Promotion Board\"]\n",
    "\n",
    "display(df_hpb)  # noqa: F821"
   ],
   "id": "7bd0e84528546e2e",
   "outputs": [],
   "execution_count": null
  },
  {
   "metadata": {},
   "cell_type": "code",
   "source": [
    "for category in relevant_categories:\n",
    "    df_content = df_hpb[df_hpb[\"content_category\"] == category]\n",
    "    print(\n",
    "        f\"Distribution of Word Count for {category}: {df_content.shape[0]} articles\",\n",
    "        df_content[\"word_count\"].quantile(\n",
    "            [0.001, 0.021, 0.159, 0.25, 0.5, 0.75, 0.841, 0.977, 0.999]\n",
    "        ),\n",
    "        end=\"\\n\\n\",\n",
    "        sep=\"\\n\",\n",
    "    )"
   ],
   "id": "8a327e51fb0f583a",
   "outputs": [],
   "execution_count": null
  },
  {
   "metadata": {},
   "cell_type": "code",
   "source": [
    "def flag_below_word_count(content_category: str, text: str) -> bool:\n",
    "    word_count_threshold_dict = {\n",
    "        \"cost-and-financing\": 267,\n",
    "        \"live-healthy-articles\": 413,\n",
    "        \"diseases-and-conditions\": 368,\n",
    "        \"medical-care-and-facilities\": 202,\n",
    "        \"support-group-and-others\": 213,\n",
    "    }\n",
    "    word_count = len(text.split())\n",
    "    # Flag articles based on the provided threshold. Otherwise, flag articles below 300 words\n",
    "    threshold = word_count_threshold_dict.get(content_category, 300)\n",
    "    if word_count < threshold:\n",
    "        return True\n",
    "    else:\n",
    "        return False\n",
    "\n",
    "\n",
    "df_hpb.loc[:, \"flag_below_word_count\"] = df_hpb.apply(\n",
    "    lambda x: flag_below_word_count(x[\"content_category\"], x[\"extracted_content_body\"]),\n",
    "    axis=1,\n",
    ")\n",
    "\n",
    "display(df_hpb)  # noqa: F821"
   ],
   "id": "9b0b2161ab3bf798",
   "outputs": [],
   "execution_count": null
  },
  {
   "metadata": {},
   "cell_type": "code",
   "source": [
    "df_hpb_flagged = df_hpb[df_hpb[\"flag_below_word_count\"]]\n",
    "\n",
    "display(df_hpb_flagged)  # noqa: F821"
   ],
   "id": "2fd56b829c7fc250",
   "outputs": [],
   "execution_count": null
  },
  {
   "metadata": {},
   "cell_type": "code",
   "source": [
    "print(df_hpb_flagged[\"content_category\"].value_counts())"
   ],
   "id": "8bb17da0dca9922d",
   "outputs": [],
   "execution_count": null
  },
  {
   "metadata": {},
   "cell_type": "code",
   "source": "",
   "id": "6b6b77a7d47ec383",
   "outputs": [],
   "execution_count": null
  }
 ],
 "metadata": {
  "kernelspec": {
   "display_name": "Python 3 (ipykernel)",
   "language": "python",
   "name": "python3"
  },
  "language_info": {
   "codemirror_mode": {
    "name": "ipython",
    "version": 3
   },
   "file_extension": ".py",
   "mimetype": "text/x-python",
   "name": "python",
   "nbconvert_exporter": "python",
   "pygments_lexer": "ipython3",
   "version": "3.11.9"
  }
 },
 "nbformat": 4,
 "nbformat_minor": 5
}
