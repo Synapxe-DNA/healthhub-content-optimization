{
 "cells": [
  {
   "cell_type": "markdown",
   "id": "e26fa252",
   "metadata": {},
   "source": [
    "## Import Relevant Libraries"
   ]
  },
  {
   "cell_type": "code",
   "execution_count": 1,
   "id": "9ca24f8a",
   "metadata": {
    "ExecuteTime": {
     "end_time": "2024-08-19T09:32:21.043159Z",
     "start_time": "2024-08-19T09:32:20.544624Z"
    }
   },
   "outputs": [],
   "source": [
    "import math\n",
    "import re\n",
    "import string\n",
    "from functools import reduce\n",
    "from typing import Union\n",
    "\n",
    "import pandas as pd\n",
    "import plotly.express as px"
   ]
  },
  {
   "cell_type": "code",
   "execution_count": 2,
   "id": "150fee29",
   "metadata": {
    "ExecuteTime": {
     "end_time": "2024-08-19T09:32:21.343535Z",
     "start_time": "2024-08-19T09:32:21.053955Z"
    }
   },
   "outputs": [
    {
     "data": {
      "text/html": [
       "<pre style=\"white-space:pre;overflow-x:auto;line-height:normal;font-family:Menlo,'DejaVu Sans Mono',consolas,'Courier New',monospace\"><span style=\"color: #7fbfbf; text-decoration-color: #7fbfbf\">[08/19/24 17:32:21] </span><span style=\"color: #000080; text-decoration-color: #000080\">INFO    </span> Registered line magic <span style=\"color: #008000; text-decoration-color: #008000\">'%reload_kedro'</span>                                   <a href=\"file:///Users/issacj/Desktop/Synapxe/healthhub-content-optimization/env/lib/python3.11/site-packages/kedro/ipython/__init__.py\" target=\"_blank\"><span style=\"color: #7f7f7f; text-decoration-color: #7f7f7f\">__init__.py</span></a><span style=\"color: #7f7f7f; text-decoration-color: #7f7f7f\">:</span><a href=\"file:///Users/issacj/Desktop/Synapxe/healthhub-content-optimization/env/lib/python3.11/site-packages/kedro/ipython/__init__.py#58\" target=\"_blank\"><span style=\"color: #7f7f7f; text-decoration-color: #7f7f7f\">58</span></a>\n",
       "</pre>\n"
      ],
      "text/plain": [
       "\u001b[2;36m[08/19/24 17:32:21]\u001b[0m\u001b[2;36m \u001b[0m\u001b[34mINFO    \u001b[0m Registered line magic \u001b[32m'%reload_kedro'\u001b[0m                                   \u001b]8;id=171732;file:///Users/issacj/Desktop/Synapxe/healthhub-content-optimization/env/lib/python3.11/site-packages/kedro/ipython/__init__.py\u001b\\\u001b[2m__init__.py\u001b[0m\u001b]8;;\u001b\\\u001b[2m:\u001b[0m\u001b]8;id=48138;file:///Users/issacj/Desktop/Synapxe/healthhub-content-optimization/env/lib/python3.11/site-packages/kedro/ipython/__init__.py#58\u001b\\\u001b[2m58\u001b[0m\u001b]8;;\u001b\\\n"
      ]
     },
     "metadata": {},
     "output_type": "display_data"
    },
    {
     "data": {
      "text/html": [
       "<pre style=\"white-space:pre;overflow-x:auto;line-height:normal;font-family:Menlo,'DejaVu Sans Mono',consolas,'Courier New',monospace\"><span style=\"color: #7fbfbf; text-decoration-color: #7fbfbf\">                    </span><span style=\"color: #000080; text-decoration-color: #000080\">INFO    </span> Registered line magic <span style=\"color: #008000; text-decoration-color: #008000\">'%load_node'</span>                                      <a href=\"file:///Users/issacj/Desktop/Synapxe/healthhub-content-optimization/env/lib/python3.11/site-packages/kedro/ipython/__init__.py\" target=\"_blank\"><span style=\"color: #7f7f7f; text-decoration-color: #7f7f7f\">__init__.py</span></a><span style=\"color: #7f7f7f; text-decoration-color: #7f7f7f\">:</span><a href=\"file:///Users/issacj/Desktop/Synapxe/healthhub-content-optimization/env/lib/python3.11/site-packages/kedro/ipython/__init__.py#60\" target=\"_blank\"><span style=\"color: #7f7f7f; text-decoration-color: #7f7f7f\">60</span></a>\n",
       "</pre>\n"
      ],
      "text/plain": [
       "\u001b[2;36m                   \u001b[0m\u001b[2;36m \u001b[0m\u001b[34mINFO    \u001b[0m Registered line magic \u001b[32m'%load_node'\u001b[0m                                      \u001b]8;id=52801;file:///Users/issacj/Desktop/Synapxe/healthhub-content-optimization/env/lib/python3.11/site-packages/kedro/ipython/__init__.py\u001b\\\u001b[2m__init__.py\u001b[0m\u001b]8;;\u001b\\\u001b[2m:\u001b[0m\u001b]8;id=266036;file:///Users/issacj/Desktop/Synapxe/healthhub-content-optimization/env/lib/python3.11/site-packages/kedro/ipython/__init__.py#60\u001b\\\u001b[2m60\u001b[0m\u001b]8;;\u001b\\\n"
      ]
     },
     "metadata": {},
     "output_type": "display_data"
    },
    {
     "data": {
      "text/html": [
       "<pre style=\"white-space:pre;overflow-x:auto;line-height:normal;font-family:Menlo,'DejaVu Sans Mono',consolas,'Courier New',monospace\"><span style=\"color: #7fbfbf; text-decoration-color: #7fbfbf\">                    </span><span style=\"color: #800000; text-decoration-color: #800000\">WARNING </span> Kedro extension was registered but couldn't find a Kedro project. Make  <a href=\"file:///Users/issacj/Desktop/Synapxe/healthhub-content-optimization/env/lib/python3.11/site-packages/kedro/ipython/__init__.py\" target=\"_blank\"><span style=\"color: #7f7f7f; text-decoration-color: #7f7f7f\">__init__.py</span></a><span style=\"color: #7f7f7f; text-decoration-color: #7f7f7f\">:</span><a href=\"file:///Users/issacj/Desktop/Synapxe/healthhub-content-optimization/env/lib/python3.11/site-packages/kedro/ipython/__init__.py#63\" target=\"_blank\"><span style=\"color: #7f7f7f; text-decoration-color: #7f7f7f\">63</span></a>\n",
       "<span style=\"color: #7fbfbf; text-decoration-color: #7fbfbf\">                    </span>         sure you run <span style=\"color: #008000; text-decoration-color: #008000\">'%reload_kedro &lt;project_root&gt;'</span>.                            <span style=\"color: #7f7f7f; text-decoration-color: #7f7f7f\">              </span>\n",
       "</pre>\n"
      ],
      "text/plain": [
       "\u001b[2;36m                   \u001b[0m\u001b[2;36m \u001b[0m\u001b[31mWARNING \u001b[0m Kedro extension was registered but couldn't find a Kedro project. Make  \u001b]8;id=14195;file:///Users/issacj/Desktop/Synapxe/healthhub-content-optimization/env/lib/python3.11/site-packages/kedro/ipython/__init__.py\u001b\\\u001b[2m__init__.py\u001b[0m\u001b]8;;\u001b\\\u001b[2m:\u001b[0m\u001b]8;id=16766;file:///Users/issacj/Desktop/Synapxe/healthhub-content-optimization/env/lib/python3.11/site-packages/kedro/ipython/__init__.py#63\u001b\\\u001b[2m63\u001b[0m\u001b]8;;\u001b\\\n",
       "\u001b[2;36m                    \u001b[0m         sure you run \u001b[32m'%reload_kedro \u001b[0m\u001b[32m<\u001b[0m\u001b[32mproject_root\u001b[0m\u001b[32m>\u001b[0m\u001b[32m'\u001b[0m.                            \u001b[2m              \u001b[0m\n"
      ]
     },
     "metadata": {},
     "output_type": "display_data"
    }
   ],
   "source": [
    "%load_ext kedro.ipython"
   ]
  },
  {
   "cell_type": "code",
   "execution_count": 3,
   "id": "a5d50c64",
   "metadata": {
    "ExecuteTime": {
     "end_time": "2024-08-19T09:32:21.718280Z",
     "start_time": "2024-08-19T09:32:21.581922Z"
    }
   },
   "outputs": [
    {
     "data": {
      "text/html": [
       "<pre style=\"white-space:pre;overflow-x:auto;line-height:normal;font-family:Menlo,'DejaVu Sans Mono',consolas,'Courier New',monospace\"></pre>\n"
      ],
      "text/plain": []
     },
     "metadata": {},
     "output_type": "display_data"
    },
    {
     "data": {
      "text/html": [
       "<div>\n",
       "<style scoped>\n",
       "    .dataframe tbody tr th:only-of-type {\n",
       "        vertical-align: middle;\n",
       "    }\n",
       "\n",
       "    .dataframe tbody tr th {\n",
       "        vertical-align: top;\n",
       "    }\n",
       "\n",
       "    .dataframe thead th {\n",
       "        text-align: right;\n",
       "    }\n",
       "</style>\n",
       "<table border=\"1\" class=\"dataframe\">\n",
       "  <thead>\n",
       "    <tr style=\"text-align: right;\">\n",
       "      <th></th>\n",
       "      <th>id</th>\n",
       "      <th>content_name</th>\n",
       "      <th>title</th>\n",
       "      <th>article_category_names</th>\n",
       "      <th>cover_image_url</th>\n",
       "      <th>full_url</th>\n",
       "      <th>full_url2</th>\n",
       "      <th>friendly_url</th>\n",
       "      <th>category_description</th>\n",
       "      <th>content_body</th>\n",
       "      <th>...</th>\n",
       "      <th>has_image</th>\n",
       "      <th>related_sections</th>\n",
       "      <th>extracted_tables</th>\n",
       "      <th>extracted_raw_html_tables</th>\n",
       "      <th>extracted_links</th>\n",
       "      <th>extracted_headers</th>\n",
       "      <th>extracted_images</th>\n",
       "      <th>extracted_content_body</th>\n",
       "      <th>l1_mappings</th>\n",
       "      <th>l2_mappings</th>\n",
       "    </tr>\n",
       "  </thead>\n",
       "  <tbody>\n",
       "    <tr>\n",
       "      <th>0</th>\n",
       "      <td>1435040</td>\n",
       "      <td>Breast Screening Subsidies in Singapore</td>\n",
       "      <td>Breast Screening Subsidies in Singapore</td>\n",
       "      <td>Conditions and Illnesses,</td>\n",
       "      <td>https://ch-api.healthhub.sg/api/public/content...</td>\n",
       "      <td>https://www.healthhub.sg/a-z/costs-and-financi...</td>\n",
       "      <td>www.healthhub.sg/a-z/costs-and-financing/breas...</td>\n",
       "      <td>breast-cancer-screening-subsidies</td>\n",
       "      <td>Here’s all you need to know about breast cance...</td>\n",
       "      <td>b'&lt;div class=\"ExternalClass07C58E0D957B4AA7B14...</td>\n",
       "      <td>...</td>\n",
       "      <td>False</td>\n",
       "      <td>[Cancer Facts You Cannot Ignore]</td>\n",
       "      <td>[[[National Healthcare Group (NHG) Polyclinics...</td>\n",
       "      <td>[&lt;table cellspacing=\"0\" class=\"ms-rteTable-def...</td>\n",
       "      <td>[[Cancer Facts You Cannot Ignore, https://www....</td>\n",
       "      <td>[[Breast Cancer Screening, h2], [Subsidy for M...</td>\n",
       "      <td>[]</td>\n",
       "      <td>Breast cancer is the number one cancer among w...</td>\n",
       "      <td>Support &amp; Tools</td>\n",
       "      <td>Cost and Financing</td>\n",
       "    </tr>\n",
       "    <tr>\n",
       "      <th>1</th>\n",
       "      <td>1435071</td>\n",
       "      <td>Marriage and Parenthood Schemes</td>\n",
       "      <td>Marriage and Parenthood Schemes</td>\n",
       "      <td>Body Care,</td>\n",
       "      <td>https://ch-api.healthhub.sg/api/public/content...</td>\n",
       "      <td>https://www.healthhub.sg/a-z/costs-and-financi...</td>\n",
       "      <td>www.healthhub.sg/a-z/costs-and-financing/marri...</td>\n",
       "      <td>marriage_parenthood_scheme</td>\n",
       "      <td>New parents and couples looking to conceive ca...</td>\n",
       "      <td>b'&lt;div class=\"ExternalClassE1D82270F17241E4955...</td>\n",
       "      <td>...</td>\n",
       "      <td>False</td>\n",
       "      <td>[MediSave, Baby Bonus - What You Need to Know,...</td>\n",
       "      <td>[[[Delivery Procedure, No. of Days of Hospital...</td>\n",
       "      <td>[&lt;table style=\"font-weight:400;margin-left:aut...</td>\n",
       "      <td>[[How to Submit Claims, https://crms.moh.gov.s...</td>\n",
       "      <td>[[MediSave Maternity Package, h2], [Examples o...</td>\n",
       "      <td>[]</td>\n",
       "      <td>MediSave Maternity Package\\nWith the MediSave ...</td>\n",
       "      <td>None</td>\n",
       "      <td>None</td>\n",
       "    </tr>\n",
       "    <tr>\n",
       "      <th>2</th>\n",
       "      <td>1434993</td>\n",
       "      <td>MediSave</td>\n",
       "      <td>MediSave</td>\n",
       "      <td>Alerts and Advisories,</td>\n",
       "      <td>https://ch-api.healthhub.sg/api/public/content...</td>\n",
       "      <td>https://www.healthhub.sg/a-z/costs-and-financi...</td>\n",
       "      <td>www.healthhub.sg/a-z/costs-and-financing/medisave</td>\n",
       "      <td>medisave</td>\n",
       "      <td>MediSave is the national medical savings schem...</td>\n",
       "      <td>b'&lt;div class=\"ExternalClass67AD25F1F8B64B349E5...</td>\n",
       "      <td>...</td>\n",
       "      <td>False</td>\n",
       "      <td>[A Way to Reduce Outpatient Cost for Chronic D...</td>\n",
       "      <td>None</td>\n",
       "      <td>None</td>\n",
       "      <td>[[A Way to Reduce Outpatient Cost for Chronics...</td>\n",
       "      <td>[[, h2], [What is MediSave?, h2], [Contributin...</td>\n",
       "      <td>[]</td>\n",
       "      <td>What is MediSave?\\nMediSave, introduced in Apr...</td>\n",
       "      <td>None</td>\n",
       "      <td>None</td>\n",
       "    </tr>\n",
       "    <tr>\n",
       "      <th>3</th>\n",
       "      <td>1435031</td>\n",
       "      <td>Hospital Bills Financial Assistance in Singapore</td>\n",
       "      <td>Hospital Bills Financial Assistance in Singapore</td>\n",
       "      <td>Body Care,</td>\n",
       "      <td>https://ch-api.healthhub.sg/api/public/content...</td>\n",
       "      <td>https://www.healthhub.sg/a-z/costs-and-financi...</td>\n",
       "      <td>www.healthhub.sg/a-z/costs-and-financing/finan...</td>\n",
       "      <td>financial-assistance-for-local-patients-in-sin...</td>\n",
       "      <td>Having trouble paying your medical bill? Here’...</td>\n",
       "      <td>b'&lt;div class=\"ExternalClassE335708125E743FDAA3...</td>\n",
       "      <td>...</td>\n",
       "      <td>False</td>\n",
       "      <td>[]</td>\n",
       "      <td>None</td>\n",
       "      <td>None</td>\n",
       "      <td>[[Medifund, https://www.healthhub.sg/a-z/costs...</td>\n",
       "      <td>[[Medifund: Hospital Bill Payment Assistance, ...</td>\n",
       "      <td>[]</td>\n",
       "      <td>Patients or family members who have difficulty...</td>\n",
       "      <td>None</td>\n",
       "      <td>None</td>\n",
       "    </tr>\n",
       "    <tr>\n",
       "      <th>4</th>\n",
       "      <td>1435043</td>\n",
       "      <td>Community Health Assist Scheme (CHAS) Singapore</td>\n",
       "      <td>Community Health Assist Scheme (CHAS) Singapore</td>\n",
       "      <td>Alerts and Advisories,</td>\n",
       "      <td>https://ch-api.healthhub.sg/api/public/content...</td>\n",
       "      <td>https://www.healthhub.sg/a-z/costs-and-financi...</td>\n",
       "      <td>www.healthhub.sg/a-z/costs-and-financing/chas</td>\n",
       "      <td>chas</td>\n",
       "      <td>With a CHAS card, all Singapore citizens can r...</td>\n",
       "      <td>b'&lt;h2&gt;What is the Community Health Assist Sche...</td>\n",
       "      <td>...</td>\n",
       "      <td>True</td>\n",
       "      <td>[All Pioneer Generation (PG) and Merdeka Gener...</td>\n",
       "      <td>[[[CHAS Criteria, CHAS Green, CHAS Orange, CHA...</td>\n",
       "      <td>[&lt;table&gt;&lt;tbody&gt;&lt;tr&gt;&lt;td&gt;&lt;strong&gt;CHAS Criteria&lt;/...</td>\n",
       "      <td>[[www.chas.sg/apply, https://www.chas.sg/apply...</td>\n",
       "      <td>[[What is the Community Health Assist Scheme (...</td>\n",
       "      <td>[[chas blue card, https://ch-api.healthhub.sg/...</td>\n",
       "      <td>What is the Community Health Assist Scheme (CH...</td>\n",
       "      <td>None</td>\n",
       "      <td>None</td>\n",
       "    </tr>\n",
       "    <tr>\n",
       "      <th>...</th>\n",
       "      <td>...</td>\n",
       "      <td>...</td>\n",
       "      <td>...</td>\n",
       "      <td>...</td>\n",
       "      <td>...</td>\n",
       "      <td>...</td>\n",
       "      <td>...</td>\n",
       "      <td>...</td>\n",
       "      <td>...</td>\n",
       "      <td>...</td>\n",
       "      <td>...</td>\n",
       "      <td>...</td>\n",
       "      <td>...</td>\n",
       "      <td>...</td>\n",
       "      <td>...</td>\n",
       "      <td>...</td>\n",
       "      <td>...</td>\n",
       "      <td>...</td>\n",
       "      <td>...</td>\n",
       "      <td>...</td>\n",
       "      <td>...</td>\n",
       "    </tr>\n",
       "    <tr>\n",
       "      <th>2608</th>\n",
       "      <td>1440763</td>\n",
       "      <td>Heart Failure Transitional Care Programme</td>\n",
       "      <td>Heart Failure Transitional Care Programme</td>\n",
       "      <td>Conditions and Illnesses,</td>\n",
       "      <td>https://ch-api.healthhub.sg/api/public/content...</td>\n",
       "      <td>https://www.healthhub.sg/a-z/support-groups-an...</td>\n",
       "      <td>www.healthhub.sg/a-z/support-groups-and-others...</td>\n",
       "      <td>transitional-care-programme-for-heart-failure</td>\n",
       "      <td>The team from NUHCS gives support to heart fai...</td>\n",
       "      <td>b'&lt;div class=\"ExternalClassFC126593610D4F0587A...</td>\n",
       "      <td>...</td>\n",
       "      <td>True</td>\n",
       "      <td>[]</td>\n",
       "      <td>None</td>\n",
       "      <td>None</td>\n",
       "      <td>[[charles_wu@nuhs.edu.sg, mailto: charles_wu@n...</td>\n",
       "      <td>[[Transitional Care for Heart Failure Patients...</td>\n",
       "      <td>[[Transitional care, amongst other things, pro...</td>\n",
       "      <td>Heart failure is the leading cause of rehospit...</td>\n",
       "      <td>None</td>\n",
       "      <td>None</td>\n",
       "    </tr>\n",
       "    <tr>\n",
       "      <th>2609</th>\n",
       "      <td>1440791</td>\n",
       "      <td>Brain and Head Injury Support Groups</td>\n",
       "      <td>Brain and Head Injury Support Groups</td>\n",
       "      <td>Alerts and Advisories,</td>\n",
       "      <td>https://ch-api.healthhub.sg/api/public/content...</td>\n",
       "      <td>https://www.healthhub.sg/a-z/support-groups-an...</td>\n",
       "      <td>www.healthhub.sg/a-z/support-groups-and-others...</td>\n",
       "      <td>2015-NNI-support-group</td>\n",
       "      <td>Read on for a list of brain injury support gro...</td>\n",
       "      <td>b'&lt;div class=\"ExternalClass7C92735B78174928B28...</td>\n",
       "      <td>...</td>\n",
       "      <td>False</td>\n",
       "      <td>[]</td>\n",
       "      <td>None</td>\n",
       "      <td>None</td>\n",
       "      <td>[[here, https://www.nni.com.sg/patient-care/br...</td>\n",
       "      <td>[[, h2], [Brain Tumour Society (Singapore), h2...</td>\n",
       "      <td>[]</td>\n",
       "      <td>Brain Tumour Society (Singapore)\\nThe Brain Tu...</td>\n",
       "      <td>None</td>\n",
       "      <td>None</td>\n",
       "    </tr>\n",
       "    <tr>\n",
       "      <th>2610</th>\n",
       "      <td>1440768</td>\n",
       "      <td>Ambulatory Nutrition Support</td>\n",
       "      <td>Ambulatory Nutrition Support</td>\n",
       "      <td>Conditions and Illnesses,</td>\n",
       "      <td>https://ch-api.healthhub.sg/api/public/content...</td>\n",
       "      <td>https://www.healthhub.sg/a-z/support-groups-an...</td>\n",
       "      <td>www.healthhub.sg/a-z/support-groups-and-others...</td>\n",
       "      <td>ambulatory-nutrition-support</td>\n",
       "      <td>Read about the ambulatory support benefits one...</td>\n",
       "      <td>b'&lt;div class=\"ExternalClass3FABAC9D59A64BCAB96...</td>\n",
       "      <td>...</td>\n",
       "      <td>False</td>\n",
       "      <td>[]</td>\n",
       "      <td>None</td>\n",
       "      <td>None</td>\n",
       "      <td>[[Nutrition and Dietetics, https://www.healthh...</td>\n",
       "      <td>[[The Importance of Ambulatory Nutrition Suppo...</td>\n",
       "      <td>[]</td>\n",
       "      <td>The Importance of Ambulatory Nutrition Support...</td>\n",
       "      <td>None</td>\n",
       "      <td>None</td>\n",
       "    </tr>\n",
       "    <tr>\n",
       "      <th>2611</th>\n",
       "      <td>1440766</td>\n",
       "      <td>LapBandits Support Group (Singapore)</td>\n",
       "      <td>LapBandits Support Group (Singapore)</td>\n",
       "      <td>Body Care,</td>\n",
       "      <td>https://ch-api.healthhub.sg/api/public/content...</td>\n",
       "      <td>https://www.healthhub.sg/a-z/support-groups-an...</td>\n",
       "      <td>www.healthhub.sg/a-z/support-groups-and-others...</td>\n",
       "      <td>singapore-lapbandits-support-group</td>\n",
       "      <td>Have you just undergone bariatric surgery for ...</td>\n",
       "      <td>b'&lt;div class=\"ExternalClassA4C749C7DB7647FBB6D...</td>\n",
       "      <td>...</td>\n",
       "      <td>False</td>\n",
       "      <td>[]</td>\n",
       "      <td>None</td>\n",
       "      <td>None</td>\n",
       "      <td>[]</td>\n",
       "      <td>[[About Khoo Teck Puat Hospitals LapBandits Su...</td>\n",
       "      <td>[]</td>\n",
       "      <td>About Khoo Teck Puat Hospitals LapBandits Supp...</td>\n",
       "      <td>None</td>\n",
       "      <td>None</td>\n",
       "    </tr>\n",
       "    <tr>\n",
       "      <th>2612</th>\n",
       "      <td>1440762</td>\n",
       "      <td>Cardiac Rehabilitation Support Group</td>\n",
       "      <td>Cardiac Rehabilitation Support Group</td>\n",
       "      <td>Conditions and Illnesses,</td>\n",
       "      <td>https://ch-api.healthhub.sg/api/public/content...</td>\n",
       "      <td>https://www.healthhub.sg/a-z/support-groups-an...</td>\n",
       "      <td>www.healthhub.sg/a-z/support-groups-and-others...</td>\n",
       "      <td>cardiac-rehabilitation-support-group-local-exe...</td>\n",
       "      <td>Looking to improve your caregiving skills for ...</td>\n",
       "      <td>b'&lt;div class=\"ExternalClassD4367205B11F4638BFF...</td>\n",
       "      <td>...</td>\n",
       "      <td>False</td>\n",
       "      <td>[]</td>\n",
       "      <td>None</td>\n",
       "      <td>None</td>\n",
       "      <td>[]</td>\n",
       "      <td>[[Cardiac Rehabilitation Support Group Activit...</td>\n",
       "      <td>[]</td>\n",
       "      <td>If you are caring for a loved one with cardiov...</td>\n",
       "      <td>None</td>\n",
       "      <td>None</td>\n",
       "    </tr>\n",
       "  </tbody>\n",
       "</table>\n",
       "<p>2613 rows × 39 columns</p>\n",
       "</div>"
      ],
      "text/plain": [
       "\n",
       "           id                                      content_name  \\\n",
       "\u001b[1;36m0\u001b[0m     \u001b[1;36m1435040\u001b[0m           Breast Screening Subsidies in Singapore   \n",
       "\u001b[1;36m1\u001b[0m     \u001b[1;36m1435071\u001b[0m                   Marriage and Parenthood Schemes   \n",
       "\u001b[1;36m2\u001b[0m     \u001b[1;36m1434993\u001b[0m                                          MediSave   \n",
       "\u001b[1;36m3\u001b[0m     \u001b[1;36m1435031\u001b[0m  Hospital Bills Financial Assistance in Singapore   \n",
       "\u001b[1;36m4\u001b[0m     \u001b[1;36m1435043\u001b[0m   Community Health Assist Scheme \u001b[1m(\u001b[0mCHAS\u001b[1m)\u001b[0m Singapore   \n",
       "\u001b[33m...\u001b[0m       \u001b[33m...\u001b[0m                                               \u001b[33m...\u001b[0m   \n",
       "\u001b[1;36m2608\u001b[0m  \u001b[1;36m1440763\u001b[0m         Heart Failure Transitional Care Programme   \n",
       "\u001b[1;36m2609\u001b[0m  \u001b[1;36m1440791\u001b[0m              Brain and Head Injury Support Groups   \n",
       "\u001b[1;36m2610\u001b[0m  \u001b[1;36m1440768\u001b[0m                      Ambulatory Nutrition Support   \n",
       "\u001b[1;36m2611\u001b[0m  \u001b[1;36m1440766\u001b[0m              LapBandits Support Group \u001b[1m(\u001b[0mSingapore\u001b[1m)\u001b[0m   \n",
       "\u001b[1;36m2612\u001b[0m  \u001b[1;36m1440762\u001b[0m              Cardiac Rehabilitation Support Group   \n",
       "\n",
       "                                                 title  \\\n",
       "\u001b[1;36m0\u001b[0m              Breast Screening Subsidies in Singapore   \n",
       "\u001b[1;36m1\u001b[0m                      Marriage and Parenthood Schemes   \n",
       "\u001b[1;36m2\u001b[0m                                             MediSave   \n",
       "\u001b[1;36m3\u001b[0m     Hospital Bills Financial Assistance in Singapore   \n",
       "\u001b[1;36m4\u001b[0m      Community Health Assist Scheme \u001b[1m(\u001b[0mCHAS\u001b[1m)\u001b[0m Singapore   \n",
       "\u001b[33m...\u001b[0m                                                \u001b[33m...\u001b[0m   \n",
       "\u001b[1;36m2608\u001b[0m         Heart Failure Transitional Care Programme   \n",
       "\u001b[1;36m2609\u001b[0m              Brain and Head Injury Support Groups   \n",
       "\u001b[1;36m2610\u001b[0m                      Ambulatory Nutrition Support   \n",
       "\u001b[1;36m2611\u001b[0m              LapBandits Support Group \u001b[1m(\u001b[0mSingapore\u001b[1m)\u001b[0m   \n",
       "\u001b[1;36m2612\u001b[0m              Cardiac Rehabilitation Support Group   \n",
       "\n",
       "         article_category_names  \\\n",
       "\u001b[1;36m0\u001b[0m     Conditions and Illnesses,   \n",
       "\u001b[1;36m1\u001b[0m                    Body Care,   \n",
       "\u001b[1;36m2\u001b[0m        Alerts and Advisories,   \n",
       "\u001b[1;36m3\u001b[0m                    Body Care,   \n",
       "\u001b[1;36m4\u001b[0m        Alerts and Advisories,   \n",
       "\u001b[33m...\u001b[0m                         \u001b[33m...\u001b[0m   \n",
       "\u001b[1;36m2608\u001b[0m  Conditions and Illnesses,   \n",
       "\u001b[1;36m2609\u001b[0m     Alerts and Advisories,   \n",
       "\u001b[1;36m2610\u001b[0m  Conditions and Illnesses,   \n",
       "\u001b[1;36m2611\u001b[0m                 Body Care,   \n",
       "\u001b[1;36m2612\u001b[0m  Conditions and Illnesses,   \n",
       "\n",
       "                                        cover_image_url  \\\n",
       "\u001b[1;36m0\u001b[0m     \u001b[4;94mhttps://ch-api.healthhub.sg/api/public/content...\u001b[0m   \n",
       "\u001b[1;36m1\u001b[0m     \u001b[4;94mhttps://ch-api.healthhub.sg/api/public/content...\u001b[0m   \n",
       "\u001b[1;36m2\u001b[0m     \u001b[4;94mhttps://ch-api.healthhub.sg/api/public/content...\u001b[0m   \n",
       "\u001b[1;36m3\u001b[0m     \u001b[4;94mhttps://ch-api.healthhub.sg/api/public/content...\u001b[0m   \n",
       "\u001b[1;36m4\u001b[0m     \u001b[4;94mhttps://ch-api.healthhub.sg/api/public/content...\u001b[0m   \n",
       "\u001b[33m...\u001b[0m                                                 \u001b[33m...\u001b[0m   \n",
       "\u001b[1;36m2608\u001b[0m  \u001b[4;94mhttps://ch-api.healthhub.sg/api/public/content...\u001b[0m   \n",
       "\u001b[1;36m2609\u001b[0m  \u001b[4;94mhttps://ch-api.healthhub.sg/api/public/content...\u001b[0m   \n",
       "\u001b[1;36m2610\u001b[0m  \u001b[4;94mhttps://ch-api.healthhub.sg/api/public/content...\u001b[0m   \n",
       "\u001b[1;36m2611\u001b[0m  \u001b[4;94mhttps://ch-api.healthhub.sg/api/public/content...\u001b[0m   \n",
       "\u001b[1;36m2612\u001b[0m  \u001b[4;94mhttps://ch-api.healthhub.sg/api/public/content...\u001b[0m   \n",
       "\n",
       "                                               full_url  \\\n",
       "\u001b[1;36m0\u001b[0m     \u001b[4;94mhttps://www.healthhub.sg/a-z/costs-and-financi...\u001b[0m   \n",
       "\u001b[1;36m1\u001b[0m     \u001b[4;94mhttps://www.healthhub.sg/a-z/costs-and-financi...\u001b[0m   \n",
       "\u001b[1;36m2\u001b[0m     \u001b[4;94mhttps://www.healthhub.sg/a-z/costs-and-financi...\u001b[0m   \n",
       "\u001b[1;36m3\u001b[0m     \u001b[4;94mhttps://www.healthhub.sg/a-z/costs-and-financi...\u001b[0m   \n",
       "\u001b[1;36m4\u001b[0m     \u001b[4;94mhttps://www.healthhub.sg/a-z/costs-and-financi...\u001b[0m   \n",
       "\u001b[33m...\u001b[0m                                                 \u001b[33m...\u001b[0m   \n",
       "\u001b[1;36m2608\u001b[0m  \u001b[4;94mhttps://www.healthhub.sg/a-z/support-groups-an...\u001b[0m   \n",
       "\u001b[1;36m2609\u001b[0m  \u001b[4;94mhttps://www.healthhub.sg/a-z/support-groups-an...\u001b[0m   \n",
       "\u001b[1;36m2610\u001b[0m  \u001b[4;94mhttps://www.healthhub.sg/a-z/support-groups-an...\u001b[0m   \n",
       "\u001b[1;36m2611\u001b[0m  \u001b[4;94mhttps://www.healthhub.sg/a-z/support-groups-an...\u001b[0m   \n",
       "\u001b[1;36m2612\u001b[0m  \u001b[4;94mhttps://www.healthhub.sg/a-z/support-groups-an...\u001b[0m   \n",
       "\n",
       "                                              full_url2  \\\n",
       "\u001b[1;36m0\u001b[0m     www.healthhub.sg/a-z/costs-and-financing/breas\u001b[33m...\u001b[0m   \n",
       "\u001b[1;36m1\u001b[0m     www.healthhub.sg/a-z/costs-and-financing/marri\u001b[33m...\u001b[0m   \n",
       "\u001b[1;36m2\u001b[0m     www.healthhub.sg/a-z/costs-and-financing/medisave   \n",
       "\u001b[1;36m3\u001b[0m     www.healthhub.sg/a-z/costs-and-financing/finan\u001b[33m...\u001b[0m   \n",
       "\u001b[1;36m4\u001b[0m         www.healthhub.sg/a-z/costs-and-financing/chas   \n",
       "\u001b[33m...\u001b[0m                                                 \u001b[33m...\u001b[0m   \n",
       "\u001b[1;36m2608\u001b[0m  www.healthhub.sg/a-z/support-groups-and-others\u001b[33m...\u001b[0m   \n",
       "\u001b[1;36m2609\u001b[0m  www.healthhub.sg/a-z/support-groups-and-others\u001b[33m...\u001b[0m   \n",
       "\u001b[1;36m2610\u001b[0m  www.healthhub.sg/a-z/support-groups-and-others\u001b[33m...\u001b[0m   \n",
       "\u001b[1;36m2611\u001b[0m  www.healthhub.sg/a-z/support-groups-and-others\u001b[33m...\u001b[0m   \n",
       "\u001b[1;36m2612\u001b[0m  www.healthhub.sg/a-z/support-groups-and-others\u001b[33m...\u001b[0m   \n",
       "\n",
       "                                           friendly_url  \\\n",
       "\u001b[1;36m0\u001b[0m                     breast-cancer-screening-subsidies   \n",
       "\u001b[1;36m1\u001b[0m                            marriage_parenthood_scheme   \n",
       "\u001b[1;36m2\u001b[0m                                              medisave   \n",
       "\u001b[1;36m3\u001b[0m     financial-assistance-for-local-patients-in-sin\u001b[33m...\u001b[0m   \n",
       "\u001b[1;36m4\u001b[0m                                                  chas   \n",
       "\u001b[33m...\u001b[0m                                                 \u001b[33m...\u001b[0m   \n",
       "\u001b[1;36m2608\u001b[0m      transitional-care-programme-for-heart-failure   \n",
       "\u001b[1;36m2609\u001b[0m                             \u001b[1;36m2015\u001b[0m-NNI-support-group   \n",
       "\u001b[1;36m2610\u001b[0m                       ambulatory-nutrition-support   \n",
       "\u001b[1;36m2611\u001b[0m                 singapore-lapbandits-support-group   \n",
       "\u001b[1;36m2612\u001b[0m  cardiac-rehabilitation-support-group-local-exe\u001b[33m...\u001b[0m   \n",
       "\n",
       "                                   category_description  \\\n",
       "\u001b[1;36m0\u001b[0m     Here’s all you need to know about breast cance\u001b[33m...\u001b[0m   \n",
       "\u001b[1;36m1\u001b[0m     New parents and couples looking to conceive ca\u001b[33m...\u001b[0m   \n",
       "\u001b[1;36m2\u001b[0m     MediSave is the national medical savings schem\u001b[33m...\u001b[0m   \n",
       "\u001b[1;36m3\u001b[0m     Having trouble paying your medical bill? Here’\u001b[33m...\u001b[0m   \n",
       "\u001b[1;36m4\u001b[0m     With a CHAS card, all Singapore citizens can r\u001b[33m...\u001b[0m   \n",
       "\u001b[33m...\u001b[0m                                                 \u001b[33m...\u001b[0m   \n",
       "\u001b[1;36m2608\u001b[0m  The team from NUHCS gives support to heart fai\u001b[33m...\u001b[0m   \n",
       "\u001b[1;36m2609\u001b[0m  Read on for a list of brain injury support gro\u001b[33m...\u001b[0m   \n",
       "\u001b[1;36m2610\u001b[0m  Read about the ambulatory support benefits one\u001b[33m...\u001b[0m   \n",
       "\u001b[1;36m2611\u001b[0m  Have you just undergone bariatric surgery for \u001b[33m...\u001b[0m   \n",
       "\u001b[1;36m2612\u001b[0m  Looking to improve your caregiving skills for \u001b[33m...\u001b[0m   \n",
       "\n",
       "                                           content_body  \u001b[33m...\u001b[0m has_image  \\\n",
       "\u001b[1;36m0\u001b[0m     b'\u001b[1m<\u001b[0m\u001b[1;95mdiv\u001b[0m\u001b[39m \u001b[0m\u001b[33mclass\u001b[0m\u001b[39m=\u001b[0m\u001b[35m\"ExternalClass07C58E0D957B4AA7B14\u001b[0m\u001b[33m...\u001b[0m\u001b[39m  \u001b[0m\u001b[33m...\u001b[0m\u001b[39m     \u001b[0m\u001b[3;91mFalse\u001b[0m\u001b[39m   \u001b[0m\n",
       "\u001b[1;36m1\u001b[0m\u001b[39m     b'<div \u001b[0m\u001b[33mclass\u001b[0m\u001b[39m=\u001b[0m\u001b[35m\"ExternalClassE1D82270F17241E4955\u001b[0m\u001b[33m...\u001b[0m\u001b[39m  \u001b[0m\u001b[33m...\u001b[0m\u001b[39m     \u001b[0m\u001b[3;91mFalse\u001b[0m\u001b[39m   \u001b[0m\n",
       "\u001b[1;36m2\u001b[0m\u001b[39m     b'<div \u001b[0m\u001b[33mclass\u001b[0m\u001b[39m=\u001b[0m\u001b[35m\"ExternalClass67AD25F1F8B64B349E5\u001b[0m\u001b[33m...\u001b[0m\u001b[39m  \u001b[0m\u001b[33m...\u001b[0m\u001b[39m     \u001b[0m\u001b[3;91mFalse\u001b[0m\u001b[39m   \u001b[0m\n",
       "\u001b[1;36m3\u001b[0m\u001b[39m     b'<div \u001b[0m\u001b[33mclass\u001b[0m\u001b[39m=\u001b[0m\u001b[35m\"ExternalClassE335708125E743FDAA3\u001b[0m\u001b[33m...\u001b[0m\u001b[39m  \u001b[0m\u001b[33m...\u001b[0m\u001b[39m     \u001b[0m\u001b[3;91mFalse\u001b[0m\u001b[39m   \u001b[0m\n",
       "\u001b[1;36m4\u001b[0m\u001b[39m     b'<h2>What is the Community Health Assist Sche\u001b[0m\u001b[33m...\u001b[0m\u001b[39m  \u001b[0m\u001b[33m...\u001b[0m\u001b[39m      \u001b[0m\u001b[3;92mTrue\u001b[0m\u001b[39m   \u001b[0m\n",
       "\u001b[33m...\u001b[0m\u001b[39m                                                 \u001b[0m\u001b[33m...\u001b[0m\u001b[39m  \u001b[0m\u001b[33m...\u001b[0m\u001b[39m       \u001b[0m\u001b[33m...\u001b[0m\u001b[39m   \u001b[0m\n",
       "\u001b[1;36m2608\u001b[0m\u001b[39m  b'<div \u001b[0m\u001b[33mclass\u001b[0m\u001b[39m=\u001b[0m\u001b[35m\"ExternalClassFC126593610D4F0587A\u001b[0m\u001b[33m...\u001b[0m\u001b[39m  \u001b[0m\u001b[33m...\u001b[0m\u001b[39m      \u001b[0m\u001b[3;92mTrue\u001b[0m\u001b[39m   \u001b[0m\n",
       "\u001b[1;36m2609\u001b[0m\u001b[39m  b'<div \u001b[0m\u001b[33mclass\u001b[0m\u001b[39m=\u001b[0m\u001b[35m\"ExternalClass7C92735B78174928B28\u001b[0m\u001b[33m...\u001b[0m\u001b[39m  \u001b[0m\u001b[33m...\u001b[0m\u001b[39m     \u001b[0m\u001b[3;91mFalse\u001b[0m\u001b[39m   \u001b[0m\n",
       "\u001b[1;36m2610\u001b[0m\u001b[39m  b'<div \u001b[0m\u001b[33mclass\u001b[0m\u001b[39m=\u001b[0m\u001b[35m\"ExternalClass3FABAC9D59A64BCAB96\u001b[0m\u001b[33m...\u001b[0m\u001b[39m  \u001b[0m\u001b[33m...\u001b[0m\u001b[39m     \u001b[0m\u001b[3;91mFalse\u001b[0m\u001b[39m   \u001b[0m\n",
       "\u001b[1;36m2611\u001b[0m\u001b[39m  b'<div \u001b[0m\u001b[33mclass\u001b[0m\u001b[39m=\u001b[0m\u001b[35m\"ExternalClassA4C749C7DB7647FBB6D\u001b[0m\u001b[33m...\u001b[0m\u001b[39m  \u001b[0m\u001b[33m...\u001b[0m\u001b[39m     \u001b[0m\u001b[3;91mFalse\u001b[0m\u001b[39m   \u001b[0m\n",
       "\u001b[1;36m2612\u001b[0m\u001b[39m  b'<div \u001b[0m\u001b[33mclass\u001b[0m\u001b[39m=\u001b[0m\u001b[35m\"ExternalClassD4367205B11F4638BFF\u001b[0m\u001b[33m...\u001b[0m\u001b[39m  \u001b[0m\u001b[33m...\u001b[0m\u001b[39m     \u001b[0m\u001b[3;91mFalse\u001b[0m\u001b[39m   \u001b[0m\n",
       "\n",
       "\u001b[39m                                       related_sections  \\\u001b[0m\n",
       "\u001b[1;36m0\u001b[0m\u001b[39m                      \u001b[0m\u001b[1;39m[\u001b[0m\u001b[39mCancer Facts You Cannot Ignore\u001b[0m\u001b[1;39m]\u001b[0m\u001b[39m   \u001b[0m\n",
       "\u001b[1;36m1\u001b[0m\u001b[39m     \u001b[0m\u001b[1;39m[\u001b[0m\u001b[39mMediSave, Baby Bonus - What You Need to Know,\u001b[0m\u001b[33m...\u001b[0m\u001b[39m   \u001b[0m\n",
       "\u001b[1;36m2\u001b[0m\u001b[39m     \u001b[0m\u001b[1;39m[\u001b[0m\u001b[39mA Way to Reduce Outpatient Cost for Chronic D\u001b[0m\u001b[33m...\u001b[0m\u001b[39m   \u001b[0m\n",
       "\u001b[1;36m3\u001b[0m\u001b[39m                                                    \u001b[0m\u001b[1;39m[\u001b[0m\u001b[1;39m]\u001b[0m\u001b[39m   \u001b[0m\n",
       "\u001b[1;36m4\u001b[0m\u001b[39m     \u001b[0m\u001b[1;39m[\u001b[0m\u001b[39mAll Pioneer Generation \u001b[0m\u001b[1;39m(\u001b[0m\u001b[39mPG\u001b[0m\u001b[1;39m)\u001b[0m\u001b[39m and Merdeka Gener\u001b[0m\u001b[33m...\u001b[0m\u001b[39m   \u001b[0m\n",
       "\u001b[33m...\u001b[0m\u001b[39m                                                 \u001b[0m\u001b[33m...\u001b[0m\u001b[39m   \u001b[0m\n",
       "\u001b[1;36m2608\u001b[0m\u001b[39m                                                 \u001b[0m\u001b[1;39m[\u001b[0m\u001b[1;39m]\u001b[0m\u001b[39m   \u001b[0m\n",
       "\u001b[1;36m2609\u001b[0m\u001b[39m                                                 \u001b[0m\u001b[1;39m[\u001b[0m\u001b[1;39m]\u001b[0m\u001b[39m   \u001b[0m\n",
       "\u001b[1;36m2610\u001b[0m\u001b[39m                                                 \u001b[0m\u001b[1;39m[\u001b[0m\u001b[1;39m]\u001b[0m\u001b[39m   \u001b[0m\n",
       "\u001b[1;36m2611\u001b[0m\u001b[39m                                                 \u001b[0m\u001b[1;39m[\u001b[0m\u001b[1;39m]\u001b[0m\u001b[39m   \u001b[0m\n",
       "\u001b[1;36m2612\u001b[0m\u001b[39m                                                 \u001b[0m\u001b[1;39m[\u001b[0m\u001b[1;39m]\u001b[0m\u001b[39m   \u001b[0m\n",
       "\n",
       "\u001b[39m                                       extracted_tables  \\\u001b[0m\n",
       "\u001b[1;36m0\u001b[0m\u001b[39m     \u001b[0m\u001b[1;39m[\u001b[0m\u001b[1;39m[\u001b[0m\u001b[1;39m[\u001b[0m\u001b[39mNational Healthcare Group \u001b[0m\u001b[1;39m(\u001b[0m\u001b[39mNHG\u001b[0m\u001b[1;39m)\u001b[0m\u001b[39m Polyclinics\u001b[0m\u001b[33m...\u001b[0m\u001b[39m   \u001b[0m\n",
       "\u001b[1;36m1\u001b[0m\u001b[39m     \u001b[0m\u001b[1;39m[\u001b[0m\u001b[1;39m[\u001b[0m\u001b[1;39m[\u001b[0m\u001b[39mDelivery Procedure, No. of Days of Hospital\u001b[0m\u001b[33m...\u001b[0m\u001b[39m   \u001b[0m\n",
       "\u001b[1;36m2\u001b[0m\u001b[39m                                                  \u001b[0m\u001b[3;35mNone\u001b[0m\u001b[39m   \u001b[0m\n",
       "\u001b[1;36m3\u001b[0m\u001b[39m                                                  \u001b[0m\u001b[3;35mNone\u001b[0m\u001b[39m   \u001b[0m\n",
       "\u001b[1;36m4\u001b[0m\u001b[39m     \u001b[0m\u001b[1;39m[\u001b[0m\u001b[1;39m[\u001b[0m\u001b[1;39m[\u001b[0m\u001b[39mCHAS Criteria, CHAS Green, CHAS Orange, CHA\u001b[0m\u001b[33m...\u001b[0m\u001b[39m   \u001b[0m\n",
       "\u001b[33m...\u001b[0m\u001b[39m                                                 \u001b[0m\u001b[33m...\u001b[0m\u001b[39m   \u001b[0m\n",
       "\u001b[1;36m2608\u001b[0m\u001b[39m                                               \u001b[0m\u001b[3;35mNone\u001b[0m\u001b[39m   \u001b[0m\n",
       "\u001b[1;36m2609\u001b[0m\u001b[39m                                               \u001b[0m\u001b[3;35mNone\u001b[0m\u001b[39m   \u001b[0m\n",
       "\u001b[1;36m2610\u001b[0m\u001b[39m                                               \u001b[0m\u001b[3;35mNone\u001b[0m\u001b[39m   \u001b[0m\n",
       "\u001b[1;36m2611\u001b[0m\u001b[39m                                               \u001b[0m\u001b[3;35mNone\u001b[0m\u001b[39m   \u001b[0m\n",
       "\u001b[1;36m2612\u001b[0m\u001b[39m                                               \u001b[0m\u001b[3;35mNone\u001b[0m\u001b[39m   \u001b[0m\n",
       "\n",
       "\u001b[39m                              extracted_raw_html_tables  \\\u001b[0m\n",
       "\u001b[1;36m0\u001b[0m\u001b[39m     \u001b[0m\u001b[1;39m[\u001b[0m\u001b[39m<table \u001b[0m\u001b[33mcellspacing\u001b[0m\u001b[39m=\u001b[0m\u001b[32m\"0\"\u001b[0m\u001b[39m \u001b[0m\u001b[33mclass\u001b[0m\u001b[39m=\u001b[0m\u001b[35m\"ms\u001b[0m\u001b[39m-rteTable-def\u001b[0m\u001b[33m...\u001b[0m\u001b[39m   \u001b[0m\n",
       "\u001b[1;36m1\u001b[0m\u001b[39m     \u001b[0m\u001b[1;39m[\u001b[0m\u001b[39m<table \u001b[0m\u001b[33mstyle\u001b[0m\u001b[39m=\u001b[0m\u001b[35m\"font\u001b[0m\u001b[39m-weight:\u001b[0m\u001b[1;36m400\u001b[0m\u001b[39m;margin-left:aut\u001b[0m\u001b[33m...\u001b[0m\u001b[39m   \u001b[0m\n",
       "\u001b[1;36m2\u001b[0m\u001b[39m                                                  \u001b[0m\u001b[3;35mNone\u001b[0m\u001b[39m   \u001b[0m\n",
       "\u001b[1;36m3\u001b[0m\u001b[39m                                                  \u001b[0m\u001b[3;35mNone\u001b[0m\u001b[39m   \u001b[0m\n",
       "\u001b[1;36m4\u001b[0m\u001b[39m     \u001b[0m\u001b[1;39m[\u001b[0m\u001b[39m<table><tbody><tr><td><strong\u001b[0m\u001b[1m>\u001b[0mCHAS Criteria<\u001b[35m/\u001b[0m\u001b[95m...\u001b[0m   \n",
       "\u001b[33m...\u001b[0m                                                 \u001b[33m...\u001b[0m   \n",
       "\u001b[1;36m2608\u001b[0m                                               \u001b[3;35mNone\u001b[0m   \n",
       "\u001b[1;36m2609\u001b[0m                                               \u001b[3;35mNone\u001b[0m   \n",
       "\u001b[1;36m2610\u001b[0m                                               \u001b[3;35mNone\u001b[0m   \n",
       "\u001b[1;36m2611\u001b[0m                                               \u001b[3;35mNone\u001b[0m   \n",
       "\u001b[1;36m2612\u001b[0m                                               \u001b[3;35mNone\u001b[0m   \n",
       "\n",
       "                                        extracted_links  \\\n",
       "\u001b[1;36m0\u001b[0m     \u001b[1m[\u001b[0m\u001b[1m[\u001b[0mCancer Facts You Cannot Ignore, \u001b[4;94mhttps://www....\u001b[0m   \n",
       "\u001b[1;36m1\u001b[0m     \u001b[1m[\u001b[0m\u001b[1m[\u001b[0mHow to Submit Claims, \u001b[4;94mhttps://crms.moh.gov.s...\u001b[0m   \n",
       "\u001b[1;36m2\u001b[0m     \u001b[1m[\u001b[0m\u001b[1m[\u001b[0mA Way to Reduce Outpatient Cost for Chronics\u001b[33m...\u001b[0m   \n",
       "\u001b[1;36m3\u001b[0m     \u001b[1m[\u001b[0m\u001b[1m[\u001b[0mMedifund, \u001b[4;94mhttps://www.healthhub.sg/a-z/costs...\u001b[0m   \n",
       "\u001b[1;36m4\u001b[0m     \u001b[1m[\u001b[0m\u001b[1m[\u001b[0mwww.chas.sg/apply, \u001b[4;94mhttps://www.chas.sg/apply...\u001b[0m   \n",
       "\u001b[33m...\u001b[0m                                                 \u001b[33m...\u001b[0m   \n",
       "\u001b[1;36m2608\u001b[0m  \u001b[1m[\u001b[0m\u001b[1m[\u001b[0mcharles_wu@nuhs.edu.sg, mailto: charles_wu@n\u001b[33m...\u001b[0m   \n",
       "\u001b[1;36m2609\u001b[0m  \u001b[1m[\u001b[0m\u001b[1m[\u001b[0mhere, \u001b[4;94mhttps://www.nni.com.sg/patient-care/br...\u001b[0m   \n",
       "\u001b[1;36m2610\u001b[0m  \u001b[1m[\u001b[0m\u001b[1m[\u001b[0mNutrition and Dietetics, \u001b[4;94mhttps://www.healthh...\u001b[0m   \n",
       "\u001b[1;36m2611\u001b[0m                                                 \u001b[1m[\u001b[0m\u001b[1m]\u001b[0m   \n",
       "\u001b[1;36m2612\u001b[0m                                                 \u001b[1m[\u001b[0m\u001b[1m]\u001b[0m   \n",
       "\n",
       "                                      extracted_headers  \\\n",
       "\u001b[1;36m0\u001b[0m     \u001b[1m[\u001b[0m\u001b[1m[\u001b[0mBreast Cancer Screening, h2\u001b[1m]\u001b[0m, \u001b[1m[\u001b[0mSubsidy for M\u001b[33m...\u001b[0m   \n",
       "\u001b[1;36m1\u001b[0m     \u001b[1m[\u001b[0m\u001b[1m[\u001b[0mMediSave Maternity Package, h2\u001b[1m]\u001b[0m, \u001b[1m[\u001b[0mExamples o\u001b[33m...\u001b[0m   \n",
       "\u001b[1;36m2\u001b[0m     \u001b[1m[\u001b[0m\u001b[1m[\u001b[0m, h2\u001b[1m]\u001b[0m, \u001b[1m[\u001b[0mWhat is MediSave?, h2\u001b[1m]\u001b[0m, \u001b[1m[\u001b[0mContributin\u001b[33m...\u001b[0m   \n",
       "\u001b[1;36m3\u001b[0m     \u001b[1m[\u001b[0m\u001b[1m[\u001b[0mMedifund: Hospital Bill Payment Assistance, \u001b[33m...\u001b[0m   \n",
       "\u001b[1;36m4\u001b[0m     \u001b[1m[\u001b[0m\u001b[1m[\u001b[0mWhat is the Community Health Assist Scheme \u001b[1m(\u001b[0m\u001b[33m...\u001b[0m   \n",
       "\u001b[33m...\u001b[0m                                                 \u001b[33m...\u001b[0m   \n",
       "\u001b[1;36m2608\u001b[0m  \u001b[1m[\u001b[0m\u001b[1m[\u001b[0mTransitional Care for Heart Failure Patients\u001b[33m...\u001b[0m   \n",
       "\u001b[1;36m2609\u001b[0m  \u001b[1m[\u001b[0m\u001b[1m[\u001b[0m, h2\u001b[1m]\u001b[0m, \u001b[1m[\u001b[0mBrain Tumour Society \u001b[1m(\u001b[0mSingapore\u001b[1m)\u001b[0m, h2\u001b[33m...\u001b[0m   \n",
       "\u001b[1;36m2610\u001b[0m  \u001b[1m[\u001b[0m\u001b[1m[\u001b[0mThe Importance of Ambulatory Nutrition Suppo\u001b[33m...\u001b[0m   \n",
       "\u001b[1;36m2611\u001b[0m  \u001b[1m[\u001b[0m\u001b[1m[\u001b[0mAbout Khoo Teck Puat Hospitals LapBandits Su\u001b[33m...\u001b[0m   \n",
       "\u001b[1;36m2612\u001b[0m  \u001b[1m[\u001b[0m\u001b[1m[\u001b[0mCardiac Rehabilitation Support Group Activit\u001b[33m...\u001b[0m   \n",
       "\n",
       "                                       extracted_images  \\\n",
       "\u001b[1;36m0\u001b[0m                                                    \u001b[1m[\u001b[0m\u001b[1m]\u001b[0m   \n",
       "\u001b[1;36m1\u001b[0m                                                    \u001b[1m[\u001b[0m\u001b[1m]\u001b[0m   \n",
       "\u001b[1;36m2\u001b[0m                                                    \u001b[1m[\u001b[0m\u001b[1m]\u001b[0m   \n",
       "\u001b[1;36m3\u001b[0m                                                    \u001b[1m[\u001b[0m\u001b[1m]\u001b[0m   \n",
       "\u001b[1;36m4\u001b[0m     \u001b[1m[\u001b[0m\u001b[1m[\u001b[0mchas blue card, \u001b[4;94mhttps://ch-api.healthhub.sg/...\u001b[0m   \n",
       "\u001b[33m...\u001b[0m                                                 \u001b[33m...\u001b[0m   \n",
       "\u001b[1;36m2608\u001b[0m  \u001b[1m[\u001b[0m\u001b[1m[\u001b[0mTransitional care, amongst other things, pro\u001b[33m...\u001b[0m   \n",
       "\u001b[1;36m2609\u001b[0m                                                 \u001b[1m[\u001b[0m\u001b[1m]\u001b[0m   \n",
       "\u001b[1;36m2610\u001b[0m                                                 \u001b[1m[\u001b[0m\u001b[1m]\u001b[0m   \n",
       "\u001b[1;36m2611\u001b[0m                                                 \u001b[1m[\u001b[0m\u001b[1m]\u001b[0m   \n",
       "\u001b[1;36m2612\u001b[0m                                                 \u001b[1m[\u001b[0m\u001b[1m]\u001b[0m   \n",
       "\n",
       "                                 extracted_content_body      l1_mappings  \\\n",
       "\u001b[1;36m0\u001b[0m     Breast cancer is the number one cancer among w\u001b[33m...\u001b[0m  Support & Tools   \n",
       "\u001b[1;36m1\u001b[0m     MediSave Maternity Package\\nWith the MediSave \u001b[33m...\u001b[0m             \u001b[3;35mNone\u001b[0m   \n",
       "\u001b[1;36m2\u001b[0m     What is MediSave?\\nMediSave, introduced in Apr\u001b[33m...\u001b[0m             \u001b[3;35mNone\u001b[0m   \n",
       "\u001b[1;36m3\u001b[0m     Patients or family members who have difficulty\u001b[33m...\u001b[0m             \u001b[3;35mNone\u001b[0m   \n",
       "\u001b[1;36m4\u001b[0m     What is the Community Health Assist Scheme \u001b[1m(\u001b[0mCH\u001b[33m...\u001b[0m             \u001b[3;35mNone\u001b[0m   \n",
       "\u001b[33m...\u001b[0m                                                 \u001b[33m...\u001b[0m              \u001b[33m...\u001b[0m   \n",
       "\u001b[1;36m2608\u001b[0m  Heart failure is the leading cause of rehospit\u001b[33m...\u001b[0m             \u001b[3;35mNone\u001b[0m   \n",
       "\u001b[1;36m2609\u001b[0m  Brain Tumour Society \u001b[1m(\u001b[0mSingapore\u001b[1m)\u001b[0m\\nThe Brain Tu\u001b[33m...\u001b[0m             \u001b[3;35mNone\u001b[0m   \n",
       "\u001b[1;36m2610\u001b[0m  The Importance of Ambulatory Nutrition Support\u001b[33m...\u001b[0m             \u001b[3;35mNone\u001b[0m   \n",
       "\u001b[1;36m2611\u001b[0m  About Khoo Teck Puat Hospitals LapBandits Supp\u001b[33m...\u001b[0m             \u001b[3;35mNone\u001b[0m   \n",
       "\u001b[1;36m2612\u001b[0m  If you are caring for a loved one with cardiov\u001b[33m...\u001b[0m             \u001b[3;35mNone\u001b[0m   \n",
       "\n",
       "             l2_mappings  \n",
       "\u001b[1;36m0\u001b[0m     Cost and Financing  \n",
       "\u001b[1;36m1\u001b[0m                   \u001b[3;35mNone\u001b[0m  \n",
       "\u001b[1;36m2\u001b[0m                   \u001b[3;35mNone\u001b[0m  \n",
       "\u001b[1;36m3\u001b[0m                   \u001b[3;35mNone\u001b[0m  \n",
       "\u001b[1;36m4\u001b[0m                   \u001b[3;35mNone\u001b[0m  \n",
       "\u001b[33m...\u001b[0m                  \u001b[33m...\u001b[0m  \n",
       "\u001b[1;36m2608\u001b[0m                \u001b[3;35mNone\u001b[0m  \n",
       "\u001b[1;36m2609\u001b[0m                \u001b[3;35mNone\u001b[0m  \n",
       "\u001b[1;36m2610\u001b[0m                \u001b[3;35mNone\u001b[0m  \n",
       "\u001b[1;36m2611\u001b[0m                \u001b[3;35mNone\u001b[0m  \n",
       "\u001b[1;36m2612\u001b[0m                \u001b[3;35mNone\u001b[0m  \n",
       "\n",
       "\u001b[1m[\u001b[0m\u001b[1;36m2613\u001b[0m rows x \u001b[1;36m39\u001b[0m columns\u001b[1m]\u001b[0m"
      ]
     },
     "metadata": {},
     "output_type": "display_data"
    }
   ],
   "source": [
    "merged_data = pd.read_parquet(\"../data/merged_data.parquet\")\n",
    "\n",
    "display(merged_data)  # noqa: F821"
   ]
  },
  {
   "cell_type": "code",
   "execution_count": 4,
   "id": "5584d8ca",
   "metadata": {
    "ExecuteTime": {
     "end_time": "2024-08-19T09:32:21.768671Z",
     "start_time": "2024-08-19T09:32:21.732984Z"
    }
   },
   "outputs": [
    {
     "data": {
      "text/html": [
       "<pre style=\"white-space:pre;overflow-x:auto;line-height:normal;font-family:Menlo,'DejaVu Sans Mono',consolas,'Courier New',monospace\"></pre>\n"
      ],
      "text/plain": []
     },
     "metadata": {},
     "output_type": "display_data"
    },
    {
     "data": {
      "text/html": [
       "<div>\n",
       "<style scoped>\n",
       "    .dataframe tbody tr th:only-of-type {\n",
       "        vertical-align: middle;\n",
       "    }\n",
       "\n",
       "    .dataframe tbody tr th {\n",
       "        vertical-align: top;\n",
       "    }\n",
       "\n",
       "    .dataframe thead th {\n",
       "        text-align: right;\n",
       "    }\n",
       "</style>\n",
       "<table border=\"1\" class=\"dataframe\">\n",
       "  <thead>\n",
       "    <tr style=\"text-align: right;\">\n",
       "      <th></th>\n",
       "      <th>id</th>\n",
       "      <th>content_name</th>\n",
       "      <th>title</th>\n",
       "      <th>article_category_names</th>\n",
       "      <th>cover_image_url</th>\n",
       "      <th>full_url</th>\n",
       "      <th>full_url2</th>\n",
       "      <th>friendly_url</th>\n",
       "      <th>category_description</th>\n",
       "      <th>content_body</th>\n",
       "      <th>...</th>\n",
       "      <th>has_image</th>\n",
       "      <th>related_sections</th>\n",
       "      <th>extracted_tables</th>\n",
       "      <th>extracted_raw_html_tables</th>\n",
       "      <th>extracted_links</th>\n",
       "      <th>extracted_headers</th>\n",
       "      <th>extracted_images</th>\n",
       "      <th>extracted_content_body</th>\n",
       "      <th>l1_mappings</th>\n",
       "      <th>l2_mappings</th>\n",
       "    </tr>\n",
       "  </thead>\n",
       "  <tbody>\n",
       "    <tr>\n",
       "      <th>0</th>\n",
       "      <td>1435040</td>\n",
       "      <td>Breast Screening Subsidies in Singapore</td>\n",
       "      <td>Breast Screening Subsidies in Singapore</td>\n",
       "      <td>Conditions and Illnesses,</td>\n",
       "      <td>https://ch-api.healthhub.sg/api/public/content...</td>\n",
       "      <td>https://www.healthhub.sg/a-z/costs-and-financi...</td>\n",
       "      <td>www.healthhub.sg/a-z/costs-and-financing/breas...</td>\n",
       "      <td>breast-cancer-screening-subsidies</td>\n",
       "      <td>Here’s all you need to know about breast cance...</td>\n",
       "      <td>b'&lt;div class=\"ExternalClass07C58E0D957B4AA7B14...</td>\n",
       "      <td>...</td>\n",
       "      <td>False</td>\n",
       "      <td>[Cancer Facts You Cannot Ignore]</td>\n",
       "      <td>[[[National Healthcare Group (NHG) Polyclinics...</td>\n",
       "      <td>[&lt;table cellspacing=\"0\" class=\"ms-rteTable-def...</td>\n",
       "      <td>[[Cancer Facts You Cannot Ignore, https://www....</td>\n",
       "      <td>[[Breast Cancer Screening, h2], [Subsidy for M...</td>\n",
       "      <td>[]</td>\n",
       "      <td>Breast cancer is the number one cancer among w...</td>\n",
       "      <td>Support &amp; Tools</td>\n",
       "      <td>Cost and Financing</td>\n",
       "    </tr>\n",
       "    <tr>\n",
       "      <th>1</th>\n",
       "      <td>1435071</td>\n",
       "      <td>Marriage and Parenthood Schemes</td>\n",
       "      <td>Marriage and Parenthood Schemes</td>\n",
       "      <td>Body Care,</td>\n",
       "      <td>https://ch-api.healthhub.sg/api/public/content...</td>\n",
       "      <td>https://www.healthhub.sg/a-z/costs-and-financi...</td>\n",
       "      <td>www.healthhub.sg/a-z/costs-and-financing/marri...</td>\n",
       "      <td>marriage_parenthood_scheme</td>\n",
       "      <td>New parents and couples looking to conceive ca...</td>\n",
       "      <td>b'&lt;div class=\"ExternalClassE1D82270F17241E4955...</td>\n",
       "      <td>...</td>\n",
       "      <td>False</td>\n",
       "      <td>[MediSave, Baby Bonus - What You Need to Know,...</td>\n",
       "      <td>[[[Delivery Procedure, No. of Days of Hospital...</td>\n",
       "      <td>[&lt;table style=\"font-weight:400;margin-left:aut...</td>\n",
       "      <td>[[How to Submit Claims, https://crms.moh.gov.s...</td>\n",
       "      <td>[[MediSave Maternity Package, h2], [Examples o...</td>\n",
       "      <td>[]</td>\n",
       "      <td>MediSave Maternity Package\\nWith the MediSave ...</td>\n",
       "      <td>None</td>\n",
       "      <td>None</td>\n",
       "    </tr>\n",
       "    <tr>\n",
       "      <th>2</th>\n",
       "      <td>1434993</td>\n",
       "      <td>MediSave</td>\n",
       "      <td>MediSave</td>\n",
       "      <td>Alerts and Advisories,</td>\n",
       "      <td>https://ch-api.healthhub.sg/api/public/content...</td>\n",
       "      <td>https://www.healthhub.sg/a-z/costs-and-financi...</td>\n",
       "      <td>www.healthhub.sg/a-z/costs-and-financing/medisave</td>\n",
       "      <td>medisave</td>\n",
       "      <td>MediSave is the national medical savings schem...</td>\n",
       "      <td>b'&lt;div class=\"ExternalClass67AD25F1F8B64B349E5...</td>\n",
       "      <td>...</td>\n",
       "      <td>False</td>\n",
       "      <td>[A Way to Reduce Outpatient Cost for Chronic D...</td>\n",
       "      <td>None</td>\n",
       "      <td>None</td>\n",
       "      <td>[[A Way to Reduce Outpatient Cost for Chronics...</td>\n",
       "      <td>[[, h2], [What is MediSave?, h2], [Contributin...</td>\n",
       "      <td>[]</td>\n",
       "      <td>What is MediSave?\\nMediSave, introduced in Apr...</td>\n",
       "      <td>None</td>\n",
       "      <td>None</td>\n",
       "    </tr>\n",
       "    <tr>\n",
       "      <th>3</th>\n",
       "      <td>1435031</td>\n",
       "      <td>Hospital Bills Financial Assistance in Singapore</td>\n",
       "      <td>Hospital Bills Financial Assistance in Singapore</td>\n",
       "      <td>Body Care,</td>\n",
       "      <td>https://ch-api.healthhub.sg/api/public/content...</td>\n",
       "      <td>https://www.healthhub.sg/a-z/costs-and-financi...</td>\n",
       "      <td>www.healthhub.sg/a-z/costs-and-financing/finan...</td>\n",
       "      <td>financial-assistance-for-local-patients-in-sin...</td>\n",
       "      <td>Having trouble paying your medical bill? Here’...</td>\n",
       "      <td>b'&lt;div class=\"ExternalClassE335708125E743FDAA3...</td>\n",
       "      <td>...</td>\n",
       "      <td>False</td>\n",
       "      <td>[]</td>\n",
       "      <td>None</td>\n",
       "      <td>None</td>\n",
       "      <td>[[Medifund, https://www.healthhub.sg/a-z/costs...</td>\n",
       "      <td>[[Medifund: Hospital Bill Payment Assistance, ...</td>\n",
       "      <td>[]</td>\n",
       "      <td>Patients or family members who have difficulty...</td>\n",
       "      <td>None</td>\n",
       "      <td>None</td>\n",
       "    </tr>\n",
       "    <tr>\n",
       "      <th>4</th>\n",
       "      <td>1435043</td>\n",
       "      <td>Community Health Assist Scheme (CHAS) Singapore</td>\n",
       "      <td>Community Health Assist Scheme (CHAS) Singapore</td>\n",
       "      <td>Alerts and Advisories,</td>\n",
       "      <td>https://ch-api.healthhub.sg/api/public/content...</td>\n",
       "      <td>https://www.healthhub.sg/a-z/costs-and-financi...</td>\n",
       "      <td>www.healthhub.sg/a-z/costs-and-financing/chas</td>\n",
       "      <td>chas</td>\n",
       "      <td>With a CHAS card, all Singapore citizens can r...</td>\n",
       "      <td>b'&lt;h2&gt;What is the Community Health Assist Sche...</td>\n",
       "      <td>...</td>\n",
       "      <td>True</td>\n",
       "      <td>[All Pioneer Generation (PG) and Merdeka Gener...</td>\n",
       "      <td>[[[CHAS Criteria, CHAS Green, CHAS Orange, CHA...</td>\n",
       "      <td>[&lt;table&gt;&lt;tbody&gt;&lt;tr&gt;&lt;td&gt;&lt;strong&gt;CHAS Criteria&lt;/...</td>\n",
       "      <td>[[www.chas.sg/apply, https://www.chas.sg/apply...</td>\n",
       "      <td>[[What is the Community Health Assist Scheme (...</td>\n",
       "      <td>[[chas blue card, https://ch-api.healthhub.sg/...</td>\n",
       "      <td>What is the Community Health Assist Scheme (CH...</td>\n",
       "      <td>None</td>\n",
       "      <td>None</td>\n",
       "    </tr>\n",
       "    <tr>\n",
       "      <th>...</th>\n",
       "      <td>...</td>\n",
       "      <td>...</td>\n",
       "      <td>...</td>\n",
       "      <td>...</td>\n",
       "      <td>...</td>\n",
       "      <td>...</td>\n",
       "      <td>...</td>\n",
       "      <td>...</td>\n",
       "      <td>...</td>\n",
       "      <td>...</td>\n",
       "      <td>...</td>\n",
       "      <td>...</td>\n",
       "      <td>...</td>\n",
       "      <td>...</td>\n",
       "      <td>...</td>\n",
       "      <td>...</td>\n",
       "      <td>...</td>\n",
       "      <td>...</td>\n",
       "      <td>...</td>\n",
       "      <td>...</td>\n",
       "      <td>...</td>\n",
       "    </tr>\n",
       "    <tr>\n",
       "      <th>2607</th>\n",
       "      <td>1440774</td>\n",
       "      <td>Breast Cancer Support Groups</td>\n",
       "      <td>Breast Cancer Support Groups</td>\n",
       "      <td>Conditions and Illnesses,</td>\n",
       "      <td>https://ch-api.healthhub.sg/api/public/content...</td>\n",
       "      <td>https://www.healthhub.sg/a-z/support-groups-an...</td>\n",
       "      <td>www.healthhub.sg/a-z/support-groups-and-others...</td>\n",
       "      <td>Breast-cancer-support-group-singapore</td>\n",
       "      <td>Learn how breast cancer support groups help br...</td>\n",
       "      <td>b'&lt;div class=\"ExternalClassE9019B25CD2A40F3948...</td>\n",
       "      <td>...</td>\n",
       "      <td>False</td>\n",
       "      <td>[]</td>\n",
       "      <td>None</td>\n",
       "      <td>None</td>\n",
       "      <td>[[here, https://www.ncis.com.sg/events/Pages/E...</td>\n",
       "      <td>[[Breast Cancer Support at NCIS, h2], [Our Mis...</td>\n",
       "      <td>[]</td>\n",
       "      <td>NCIS Breast Support Group provides knowledge, ...</td>\n",
       "      <td>None</td>\n",
       "      <td>None</td>\n",
       "    </tr>\n",
       "    <tr>\n",
       "      <th>2608</th>\n",
       "      <td>1440763</td>\n",
       "      <td>Heart Failure Transitional Care Programme</td>\n",
       "      <td>Heart Failure Transitional Care Programme</td>\n",
       "      <td>Conditions and Illnesses,</td>\n",
       "      <td>https://ch-api.healthhub.sg/api/public/content...</td>\n",
       "      <td>https://www.healthhub.sg/a-z/support-groups-an...</td>\n",
       "      <td>www.healthhub.sg/a-z/support-groups-and-others...</td>\n",
       "      <td>transitional-care-programme-for-heart-failure</td>\n",
       "      <td>The team from NUHCS gives support to heart fai...</td>\n",
       "      <td>b'&lt;div class=\"ExternalClassFC126593610D4F0587A...</td>\n",
       "      <td>...</td>\n",
       "      <td>True</td>\n",
       "      <td>[]</td>\n",
       "      <td>None</td>\n",
       "      <td>None</td>\n",
       "      <td>[[charles_wu@nuhs.edu.sg, mailto: charles_wu@n...</td>\n",
       "      <td>[[Transitional Care for Heart Failure Patients...</td>\n",
       "      <td>[[Transitional care, amongst other things, pro...</td>\n",
       "      <td>Heart failure is the leading cause of rehospit...</td>\n",
       "      <td>None</td>\n",
       "      <td>None</td>\n",
       "    </tr>\n",
       "    <tr>\n",
       "      <th>2609</th>\n",
       "      <td>1440791</td>\n",
       "      <td>Brain and Head Injury Support Groups</td>\n",
       "      <td>Brain and Head Injury Support Groups</td>\n",
       "      <td>Alerts and Advisories,</td>\n",
       "      <td>https://ch-api.healthhub.sg/api/public/content...</td>\n",
       "      <td>https://www.healthhub.sg/a-z/support-groups-an...</td>\n",
       "      <td>www.healthhub.sg/a-z/support-groups-and-others...</td>\n",
       "      <td>2015-NNI-support-group</td>\n",
       "      <td>Read on for a list of brain injury support gro...</td>\n",
       "      <td>b'&lt;div class=\"ExternalClass7C92735B78174928B28...</td>\n",
       "      <td>...</td>\n",
       "      <td>False</td>\n",
       "      <td>[]</td>\n",
       "      <td>None</td>\n",
       "      <td>None</td>\n",
       "      <td>[[here, https://www.nni.com.sg/patient-care/br...</td>\n",
       "      <td>[[, h2], [Brain Tumour Society (Singapore), h2...</td>\n",
       "      <td>[]</td>\n",
       "      <td>Brain Tumour Society (Singapore)\\nThe Brain Tu...</td>\n",
       "      <td>None</td>\n",
       "      <td>None</td>\n",
       "    </tr>\n",
       "    <tr>\n",
       "      <th>2610</th>\n",
       "      <td>1440768</td>\n",
       "      <td>Ambulatory Nutrition Support</td>\n",
       "      <td>Ambulatory Nutrition Support</td>\n",
       "      <td>Conditions and Illnesses,</td>\n",
       "      <td>https://ch-api.healthhub.sg/api/public/content...</td>\n",
       "      <td>https://www.healthhub.sg/a-z/support-groups-an...</td>\n",
       "      <td>www.healthhub.sg/a-z/support-groups-and-others...</td>\n",
       "      <td>ambulatory-nutrition-support</td>\n",
       "      <td>Read about the ambulatory support benefits one...</td>\n",
       "      <td>b'&lt;div class=\"ExternalClass3FABAC9D59A64BCAB96...</td>\n",
       "      <td>...</td>\n",
       "      <td>False</td>\n",
       "      <td>[]</td>\n",
       "      <td>None</td>\n",
       "      <td>None</td>\n",
       "      <td>[[Nutrition and Dietetics, https://www.healthh...</td>\n",
       "      <td>[[The Importance of Ambulatory Nutrition Suppo...</td>\n",
       "      <td>[]</td>\n",
       "      <td>The Importance of Ambulatory Nutrition Support...</td>\n",
       "      <td>None</td>\n",
       "      <td>None</td>\n",
       "    </tr>\n",
       "    <tr>\n",
       "      <th>2612</th>\n",
       "      <td>1440762</td>\n",
       "      <td>Cardiac Rehabilitation Support Group</td>\n",
       "      <td>Cardiac Rehabilitation Support Group</td>\n",
       "      <td>Conditions and Illnesses,</td>\n",
       "      <td>https://ch-api.healthhub.sg/api/public/content...</td>\n",
       "      <td>https://www.healthhub.sg/a-z/support-groups-an...</td>\n",
       "      <td>www.healthhub.sg/a-z/support-groups-and-others...</td>\n",
       "      <td>cardiac-rehabilitation-support-group-local-exe...</td>\n",
       "      <td>Looking to improve your caregiving skills for ...</td>\n",
       "      <td>b'&lt;div class=\"ExternalClassD4367205B11F4638BFF...</td>\n",
       "      <td>...</td>\n",
       "      <td>False</td>\n",
       "      <td>[]</td>\n",
       "      <td>None</td>\n",
       "      <td>None</td>\n",
       "      <td>[]</td>\n",
       "      <td>[[Cardiac Rehabilitation Support Group Activit...</td>\n",
       "      <td>[]</td>\n",
       "      <td>If you are caring for a loved one with cardiov...</td>\n",
       "      <td>None</td>\n",
       "      <td>None</td>\n",
       "    </tr>\n",
       "  </tbody>\n",
       "</table>\n",
       "<p>2325 rows × 39 columns</p>\n",
       "</div>"
      ],
      "text/plain": [
       "\n",
       "           id                                      content_name  \\\n",
       "\u001b[1;36m0\u001b[0m     \u001b[1;36m1435040\u001b[0m           Breast Screening Subsidies in Singapore   \n",
       "\u001b[1;36m1\u001b[0m     \u001b[1;36m1435071\u001b[0m                   Marriage and Parenthood Schemes   \n",
       "\u001b[1;36m2\u001b[0m     \u001b[1;36m1434993\u001b[0m                                          MediSave   \n",
       "\u001b[1;36m3\u001b[0m     \u001b[1;36m1435031\u001b[0m  Hospital Bills Financial Assistance in Singapore   \n",
       "\u001b[1;36m4\u001b[0m     \u001b[1;36m1435043\u001b[0m   Community Health Assist Scheme \u001b[1m(\u001b[0mCHAS\u001b[1m)\u001b[0m Singapore   \n",
       "\u001b[33m...\u001b[0m       \u001b[33m...\u001b[0m                                               \u001b[33m...\u001b[0m   \n",
       "\u001b[1;36m2607\u001b[0m  \u001b[1;36m1440774\u001b[0m                      Breast Cancer Support Groups   \n",
       "\u001b[1;36m2608\u001b[0m  \u001b[1;36m1440763\u001b[0m         Heart Failure Transitional Care Programme   \n",
       "\u001b[1;36m2609\u001b[0m  \u001b[1;36m1440791\u001b[0m              Brain and Head Injury Support Groups   \n",
       "\u001b[1;36m2610\u001b[0m  \u001b[1;36m1440768\u001b[0m                      Ambulatory Nutrition Support   \n",
       "\u001b[1;36m2612\u001b[0m  \u001b[1;36m1440762\u001b[0m              Cardiac Rehabilitation Support Group   \n",
       "\n",
       "                                                 title  \\\n",
       "\u001b[1;36m0\u001b[0m              Breast Screening Subsidies in Singapore   \n",
       "\u001b[1;36m1\u001b[0m                      Marriage and Parenthood Schemes   \n",
       "\u001b[1;36m2\u001b[0m                                             MediSave   \n",
       "\u001b[1;36m3\u001b[0m     Hospital Bills Financial Assistance in Singapore   \n",
       "\u001b[1;36m4\u001b[0m      Community Health Assist Scheme \u001b[1m(\u001b[0mCHAS\u001b[1m)\u001b[0m Singapore   \n",
       "\u001b[33m...\u001b[0m                                                \u001b[33m...\u001b[0m   \n",
       "\u001b[1;36m2607\u001b[0m                      Breast Cancer Support Groups   \n",
       "\u001b[1;36m2608\u001b[0m         Heart Failure Transitional Care Programme   \n",
       "\u001b[1;36m2609\u001b[0m              Brain and Head Injury Support Groups   \n",
       "\u001b[1;36m2610\u001b[0m                      Ambulatory Nutrition Support   \n",
       "\u001b[1;36m2612\u001b[0m              Cardiac Rehabilitation Support Group   \n",
       "\n",
       "         article_category_names  \\\n",
       "\u001b[1;36m0\u001b[0m     Conditions and Illnesses,   \n",
       "\u001b[1;36m1\u001b[0m                    Body Care,   \n",
       "\u001b[1;36m2\u001b[0m        Alerts and Advisories,   \n",
       "\u001b[1;36m3\u001b[0m                    Body Care,   \n",
       "\u001b[1;36m4\u001b[0m        Alerts and Advisories,   \n",
       "\u001b[33m...\u001b[0m                         \u001b[33m...\u001b[0m   \n",
       "\u001b[1;36m2607\u001b[0m  Conditions and Illnesses,   \n",
       "\u001b[1;36m2608\u001b[0m  Conditions and Illnesses,   \n",
       "\u001b[1;36m2609\u001b[0m     Alerts and Advisories,   \n",
       "\u001b[1;36m2610\u001b[0m  Conditions and Illnesses,   \n",
       "\u001b[1;36m2612\u001b[0m  Conditions and Illnesses,   \n",
       "\n",
       "                                        cover_image_url  \\\n",
       "\u001b[1;36m0\u001b[0m     \u001b[4;94mhttps://ch-api.healthhub.sg/api/public/content...\u001b[0m   \n",
       "\u001b[1;36m1\u001b[0m     \u001b[4;94mhttps://ch-api.healthhub.sg/api/public/content...\u001b[0m   \n",
       "\u001b[1;36m2\u001b[0m     \u001b[4;94mhttps://ch-api.healthhub.sg/api/public/content...\u001b[0m   \n",
       "\u001b[1;36m3\u001b[0m     \u001b[4;94mhttps://ch-api.healthhub.sg/api/public/content...\u001b[0m   \n",
       "\u001b[1;36m4\u001b[0m     \u001b[4;94mhttps://ch-api.healthhub.sg/api/public/content...\u001b[0m   \n",
       "\u001b[33m...\u001b[0m                                                 \u001b[33m...\u001b[0m   \n",
       "\u001b[1;36m2607\u001b[0m  \u001b[4;94mhttps://ch-api.healthhub.sg/api/public/content...\u001b[0m   \n",
       "\u001b[1;36m2608\u001b[0m  \u001b[4;94mhttps://ch-api.healthhub.sg/api/public/content...\u001b[0m   \n",
       "\u001b[1;36m2609\u001b[0m  \u001b[4;94mhttps://ch-api.healthhub.sg/api/public/content...\u001b[0m   \n",
       "\u001b[1;36m2610\u001b[0m  \u001b[4;94mhttps://ch-api.healthhub.sg/api/public/content...\u001b[0m   \n",
       "\u001b[1;36m2612\u001b[0m  \u001b[4;94mhttps://ch-api.healthhub.sg/api/public/content...\u001b[0m   \n",
       "\n",
       "                                               full_url  \\\n",
       "\u001b[1;36m0\u001b[0m     \u001b[4;94mhttps://www.healthhub.sg/a-z/costs-and-financi...\u001b[0m   \n",
       "\u001b[1;36m1\u001b[0m     \u001b[4;94mhttps://www.healthhub.sg/a-z/costs-and-financi...\u001b[0m   \n",
       "\u001b[1;36m2\u001b[0m     \u001b[4;94mhttps://www.healthhub.sg/a-z/costs-and-financi...\u001b[0m   \n",
       "\u001b[1;36m3\u001b[0m     \u001b[4;94mhttps://www.healthhub.sg/a-z/costs-and-financi...\u001b[0m   \n",
       "\u001b[1;36m4\u001b[0m     \u001b[4;94mhttps://www.healthhub.sg/a-z/costs-and-financi...\u001b[0m   \n",
       "\u001b[33m...\u001b[0m                                                 \u001b[33m...\u001b[0m   \n",
       "\u001b[1;36m2607\u001b[0m  \u001b[4;94mhttps://www.healthhub.sg/a-z/support-groups-an...\u001b[0m   \n",
       "\u001b[1;36m2608\u001b[0m  \u001b[4;94mhttps://www.healthhub.sg/a-z/support-groups-an...\u001b[0m   \n",
       "\u001b[1;36m2609\u001b[0m  \u001b[4;94mhttps://www.healthhub.sg/a-z/support-groups-an...\u001b[0m   \n",
       "\u001b[1;36m2610\u001b[0m  \u001b[4;94mhttps://www.healthhub.sg/a-z/support-groups-an...\u001b[0m   \n",
       "\u001b[1;36m2612\u001b[0m  \u001b[4;94mhttps://www.healthhub.sg/a-z/support-groups-an...\u001b[0m   \n",
       "\n",
       "                                              full_url2  \\\n",
       "\u001b[1;36m0\u001b[0m     www.healthhub.sg/a-z/costs-and-financing/breas\u001b[33m...\u001b[0m   \n",
       "\u001b[1;36m1\u001b[0m     www.healthhub.sg/a-z/costs-and-financing/marri\u001b[33m...\u001b[0m   \n",
       "\u001b[1;36m2\u001b[0m     www.healthhub.sg/a-z/costs-and-financing/medisave   \n",
       "\u001b[1;36m3\u001b[0m     www.healthhub.sg/a-z/costs-and-financing/finan\u001b[33m...\u001b[0m   \n",
       "\u001b[1;36m4\u001b[0m         www.healthhub.sg/a-z/costs-and-financing/chas   \n",
       "\u001b[33m...\u001b[0m                                                 \u001b[33m...\u001b[0m   \n",
       "\u001b[1;36m2607\u001b[0m  www.healthhub.sg/a-z/support-groups-and-others\u001b[33m...\u001b[0m   \n",
       "\u001b[1;36m2608\u001b[0m  www.healthhub.sg/a-z/support-groups-and-others\u001b[33m...\u001b[0m   \n",
       "\u001b[1;36m2609\u001b[0m  www.healthhub.sg/a-z/support-groups-and-others\u001b[33m...\u001b[0m   \n",
       "\u001b[1;36m2610\u001b[0m  www.healthhub.sg/a-z/support-groups-and-others\u001b[33m...\u001b[0m   \n",
       "\u001b[1;36m2612\u001b[0m  www.healthhub.sg/a-z/support-groups-and-others\u001b[33m...\u001b[0m   \n",
       "\n",
       "                                           friendly_url  \\\n",
       "\u001b[1;36m0\u001b[0m                     breast-cancer-screening-subsidies   \n",
       "\u001b[1;36m1\u001b[0m                            marriage_parenthood_scheme   \n",
       "\u001b[1;36m2\u001b[0m                                              medisave   \n",
       "\u001b[1;36m3\u001b[0m     financial-assistance-for-local-patients-in-sin\u001b[33m...\u001b[0m   \n",
       "\u001b[1;36m4\u001b[0m                                                  chas   \n",
       "\u001b[33m...\u001b[0m                                                 \u001b[33m...\u001b[0m   \n",
       "\u001b[1;36m2607\u001b[0m              Breast-cancer-support-group-singapore   \n",
       "\u001b[1;36m2608\u001b[0m      transitional-care-programme-for-heart-failure   \n",
       "\u001b[1;36m2609\u001b[0m                             \u001b[1;36m2015\u001b[0m-NNI-support-group   \n",
       "\u001b[1;36m2610\u001b[0m                       ambulatory-nutrition-support   \n",
       "\u001b[1;36m2612\u001b[0m  cardiac-rehabilitation-support-group-local-exe\u001b[33m...\u001b[0m   \n",
       "\n",
       "                                   category_description  \\\n",
       "\u001b[1;36m0\u001b[0m     Here’s all you need to know about breast cance\u001b[33m...\u001b[0m   \n",
       "\u001b[1;36m1\u001b[0m     New parents and couples looking to conceive ca\u001b[33m...\u001b[0m   \n",
       "\u001b[1;36m2\u001b[0m     MediSave is the national medical savings schem\u001b[33m...\u001b[0m   \n",
       "\u001b[1;36m3\u001b[0m     Having trouble paying your medical bill? Here’\u001b[33m...\u001b[0m   \n",
       "\u001b[1;36m4\u001b[0m     With a CHAS card, all Singapore citizens can r\u001b[33m...\u001b[0m   \n",
       "\u001b[33m...\u001b[0m                                                 \u001b[33m...\u001b[0m   \n",
       "\u001b[1;36m2607\u001b[0m  Learn how breast cancer support groups help br\u001b[33m...\u001b[0m   \n",
       "\u001b[1;36m2608\u001b[0m  The team from NUHCS gives support to heart fai\u001b[33m...\u001b[0m   \n",
       "\u001b[1;36m2609\u001b[0m  Read on for a list of brain injury support gro\u001b[33m...\u001b[0m   \n",
       "\u001b[1;36m2610\u001b[0m  Read about the ambulatory support benefits one\u001b[33m...\u001b[0m   \n",
       "\u001b[1;36m2612\u001b[0m  Looking to improve your caregiving skills for \u001b[33m...\u001b[0m   \n",
       "\n",
       "                                           content_body  \u001b[33m...\u001b[0m has_image  \\\n",
       "\u001b[1;36m0\u001b[0m     b'\u001b[1m<\u001b[0m\u001b[1;95mdiv\u001b[0m\u001b[39m \u001b[0m\u001b[33mclass\u001b[0m\u001b[39m=\u001b[0m\u001b[35m\"ExternalClass07C58E0D957B4AA7B14\u001b[0m\u001b[33m...\u001b[0m\u001b[39m  \u001b[0m\u001b[33m...\u001b[0m\u001b[39m     \u001b[0m\u001b[3;91mFalse\u001b[0m\u001b[39m   \u001b[0m\n",
       "\u001b[1;36m1\u001b[0m\u001b[39m     b'<div \u001b[0m\u001b[33mclass\u001b[0m\u001b[39m=\u001b[0m\u001b[35m\"ExternalClassE1D82270F17241E4955\u001b[0m\u001b[33m...\u001b[0m\u001b[39m  \u001b[0m\u001b[33m...\u001b[0m\u001b[39m     \u001b[0m\u001b[3;91mFalse\u001b[0m\u001b[39m   \u001b[0m\n",
       "\u001b[1;36m2\u001b[0m\u001b[39m     b'<div \u001b[0m\u001b[33mclass\u001b[0m\u001b[39m=\u001b[0m\u001b[35m\"ExternalClass67AD25F1F8B64B349E5\u001b[0m\u001b[33m...\u001b[0m\u001b[39m  \u001b[0m\u001b[33m...\u001b[0m\u001b[39m     \u001b[0m\u001b[3;91mFalse\u001b[0m\u001b[39m   \u001b[0m\n",
       "\u001b[1;36m3\u001b[0m\u001b[39m     b'<div \u001b[0m\u001b[33mclass\u001b[0m\u001b[39m=\u001b[0m\u001b[35m\"ExternalClassE335708125E743FDAA3\u001b[0m\u001b[33m...\u001b[0m\u001b[39m  \u001b[0m\u001b[33m...\u001b[0m\u001b[39m     \u001b[0m\u001b[3;91mFalse\u001b[0m\u001b[39m   \u001b[0m\n",
       "\u001b[1;36m4\u001b[0m\u001b[39m     b'<h2>What is the Community Health Assist Sche\u001b[0m\u001b[33m...\u001b[0m\u001b[39m  \u001b[0m\u001b[33m...\u001b[0m\u001b[39m      \u001b[0m\u001b[3;92mTrue\u001b[0m\u001b[39m   \u001b[0m\n",
       "\u001b[33m...\u001b[0m\u001b[39m                                                 \u001b[0m\u001b[33m...\u001b[0m\u001b[39m  \u001b[0m\u001b[33m...\u001b[0m\u001b[39m       \u001b[0m\u001b[33m...\u001b[0m\u001b[39m   \u001b[0m\n",
       "\u001b[1;36m2607\u001b[0m\u001b[39m  b'<div \u001b[0m\u001b[33mclass\u001b[0m\u001b[39m=\u001b[0m\u001b[35m\"ExternalClassE9019B25CD2A40F3948\u001b[0m\u001b[33m...\u001b[0m\u001b[39m  \u001b[0m\u001b[33m...\u001b[0m\u001b[39m     \u001b[0m\u001b[3;91mFalse\u001b[0m\u001b[39m   \u001b[0m\n",
       "\u001b[1;36m2608\u001b[0m\u001b[39m  b'<div \u001b[0m\u001b[33mclass\u001b[0m\u001b[39m=\u001b[0m\u001b[35m\"ExternalClassFC126593610D4F0587A\u001b[0m\u001b[33m...\u001b[0m\u001b[39m  \u001b[0m\u001b[33m...\u001b[0m\u001b[39m      \u001b[0m\u001b[3;92mTrue\u001b[0m\u001b[39m   \u001b[0m\n",
       "\u001b[1;36m2609\u001b[0m\u001b[39m  b'<div \u001b[0m\u001b[33mclass\u001b[0m\u001b[39m=\u001b[0m\u001b[35m\"ExternalClass7C92735B78174928B28\u001b[0m\u001b[33m...\u001b[0m\u001b[39m  \u001b[0m\u001b[33m...\u001b[0m\u001b[39m     \u001b[0m\u001b[3;91mFalse\u001b[0m\u001b[39m   \u001b[0m\n",
       "\u001b[1;36m2610\u001b[0m\u001b[39m  b'<div \u001b[0m\u001b[33mclass\u001b[0m\u001b[39m=\u001b[0m\u001b[35m\"ExternalClass3FABAC9D59A64BCAB96\u001b[0m\u001b[33m...\u001b[0m\u001b[39m  \u001b[0m\u001b[33m...\u001b[0m\u001b[39m     \u001b[0m\u001b[3;91mFalse\u001b[0m\u001b[39m   \u001b[0m\n",
       "\u001b[1;36m2612\u001b[0m\u001b[39m  b'<div \u001b[0m\u001b[33mclass\u001b[0m\u001b[39m=\u001b[0m\u001b[35m\"ExternalClassD4367205B11F4638BFF\u001b[0m\u001b[33m...\u001b[0m\u001b[39m  \u001b[0m\u001b[33m...\u001b[0m\u001b[39m     \u001b[0m\u001b[3;91mFalse\u001b[0m\u001b[39m   \u001b[0m\n",
       "\n",
       "\u001b[39m                                       related_sections  \\\u001b[0m\n",
       "\u001b[1;36m0\u001b[0m\u001b[39m                      \u001b[0m\u001b[1;39m[\u001b[0m\u001b[39mCancer Facts You Cannot Ignore\u001b[0m\u001b[1;39m]\u001b[0m\u001b[39m   \u001b[0m\n",
       "\u001b[1;36m1\u001b[0m\u001b[39m     \u001b[0m\u001b[1;39m[\u001b[0m\u001b[39mMediSave, Baby Bonus - What You Need to Know,\u001b[0m\u001b[33m...\u001b[0m\u001b[39m   \u001b[0m\n",
       "\u001b[1;36m2\u001b[0m\u001b[39m     \u001b[0m\u001b[1;39m[\u001b[0m\u001b[39mA Way to Reduce Outpatient Cost for Chronic D\u001b[0m\u001b[33m...\u001b[0m\u001b[39m   \u001b[0m\n",
       "\u001b[1;36m3\u001b[0m\u001b[39m                                                    \u001b[0m\u001b[1;39m[\u001b[0m\u001b[1;39m]\u001b[0m\u001b[39m   \u001b[0m\n",
       "\u001b[1;36m4\u001b[0m\u001b[39m     \u001b[0m\u001b[1;39m[\u001b[0m\u001b[39mAll Pioneer Generation \u001b[0m\u001b[1;39m(\u001b[0m\u001b[39mPG\u001b[0m\u001b[1;39m)\u001b[0m\u001b[39m and Merdeka Gener\u001b[0m\u001b[33m...\u001b[0m\u001b[39m   \u001b[0m\n",
       "\u001b[33m...\u001b[0m\u001b[39m                                                 \u001b[0m\u001b[33m...\u001b[0m\u001b[39m   \u001b[0m\n",
       "\u001b[1;36m2607\u001b[0m\u001b[39m                                                 \u001b[0m\u001b[1;39m[\u001b[0m\u001b[1;39m]\u001b[0m\u001b[39m   \u001b[0m\n",
       "\u001b[1;36m2608\u001b[0m\u001b[39m                                                 \u001b[0m\u001b[1;39m[\u001b[0m\u001b[1;39m]\u001b[0m\u001b[39m   \u001b[0m\n",
       "\u001b[1;36m2609\u001b[0m\u001b[39m                                                 \u001b[0m\u001b[1;39m[\u001b[0m\u001b[1;39m]\u001b[0m\u001b[39m   \u001b[0m\n",
       "\u001b[1;36m2610\u001b[0m\u001b[39m                                                 \u001b[0m\u001b[1;39m[\u001b[0m\u001b[1;39m]\u001b[0m\u001b[39m   \u001b[0m\n",
       "\u001b[1;36m2612\u001b[0m\u001b[39m                                                 \u001b[0m\u001b[1;39m[\u001b[0m\u001b[1;39m]\u001b[0m\u001b[39m   \u001b[0m\n",
       "\n",
       "\u001b[39m                                       extracted_tables  \\\u001b[0m\n",
       "\u001b[1;36m0\u001b[0m\u001b[39m     \u001b[0m\u001b[1;39m[\u001b[0m\u001b[1;39m[\u001b[0m\u001b[1;39m[\u001b[0m\u001b[39mNational Healthcare Group \u001b[0m\u001b[1;39m(\u001b[0m\u001b[39mNHG\u001b[0m\u001b[1;39m)\u001b[0m\u001b[39m Polyclinics\u001b[0m\u001b[33m...\u001b[0m\u001b[39m   \u001b[0m\n",
       "\u001b[1;36m1\u001b[0m\u001b[39m     \u001b[0m\u001b[1;39m[\u001b[0m\u001b[1;39m[\u001b[0m\u001b[1;39m[\u001b[0m\u001b[39mDelivery Procedure, No. of Days of Hospital\u001b[0m\u001b[33m...\u001b[0m\u001b[39m   \u001b[0m\n",
       "\u001b[1;36m2\u001b[0m\u001b[39m                                                  \u001b[0m\u001b[3;35mNone\u001b[0m\u001b[39m   \u001b[0m\n",
       "\u001b[1;36m3\u001b[0m\u001b[39m                                                  \u001b[0m\u001b[3;35mNone\u001b[0m\u001b[39m   \u001b[0m\n",
       "\u001b[1;36m4\u001b[0m\u001b[39m     \u001b[0m\u001b[1;39m[\u001b[0m\u001b[1;39m[\u001b[0m\u001b[1;39m[\u001b[0m\u001b[39mCHAS Criteria, CHAS Green, CHAS Orange, CHA\u001b[0m\u001b[33m...\u001b[0m\u001b[39m   \u001b[0m\n",
       "\u001b[33m...\u001b[0m\u001b[39m                                                 \u001b[0m\u001b[33m...\u001b[0m\u001b[39m   \u001b[0m\n",
       "\u001b[1;36m2607\u001b[0m\u001b[39m                                               \u001b[0m\u001b[3;35mNone\u001b[0m\u001b[39m   \u001b[0m\n",
       "\u001b[1;36m2608\u001b[0m\u001b[39m                                               \u001b[0m\u001b[3;35mNone\u001b[0m\u001b[39m   \u001b[0m\n",
       "\u001b[1;36m2609\u001b[0m\u001b[39m                                               \u001b[0m\u001b[3;35mNone\u001b[0m\u001b[39m   \u001b[0m\n",
       "\u001b[1;36m2610\u001b[0m\u001b[39m                                               \u001b[0m\u001b[3;35mNone\u001b[0m\u001b[39m   \u001b[0m\n",
       "\u001b[1;36m2612\u001b[0m\u001b[39m                                               \u001b[0m\u001b[3;35mNone\u001b[0m\u001b[39m   \u001b[0m\n",
       "\n",
       "\u001b[39m                              extracted_raw_html_tables  \\\u001b[0m\n",
       "\u001b[1;36m0\u001b[0m\u001b[39m     \u001b[0m\u001b[1;39m[\u001b[0m\u001b[39m<table \u001b[0m\u001b[33mcellspacing\u001b[0m\u001b[39m=\u001b[0m\u001b[32m\"0\"\u001b[0m\u001b[39m \u001b[0m\u001b[33mclass\u001b[0m\u001b[39m=\u001b[0m\u001b[35m\"ms\u001b[0m\u001b[39m-rteTable-def\u001b[0m\u001b[33m...\u001b[0m\u001b[39m   \u001b[0m\n",
       "\u001b[1;36m1\u001b[0m\u001b[39m     \u001b[0m\u001b[1;39m[\u001b[0m\u001b[39m<table \u001b[0m\u001b[33mstyle\u001b[0m\u001b[39m=\u001b[0m\u001b[35m\"font\u001b[0m\u001b[39m-weight:\u001b[0m\u001b[1;36m400\u001b[0m\u001b[39m;margin-left:aut\u001b[0m\u001b[33m...\u001b[0m\u001b[39m   \u001b[0m\n",
       "\u001b[1;36m2\u001b[0m\u001b[39m                                                  \u001b[0m\u001b[3;35mNone\u001b[0m\u001b[39m   \u001b[0m\n",
       "\u001b[1;36m3\u001b[0m\u001b[39m                                                  \u001b[0m\u001b[3;35mNone\u001b[0m\u001b[39m   \u001b[0m\n",
       "\u001b[1;36m4\u001b[0m\u001b[39m     \u001b[0m\u001b[1;39m[\u001b[0m\u001b[39m<table><tbody><tr><td><strong\u001b[0m\u001b[1m>\u001b[0mCHAS Criteria<\u001b[35m/\u001b[0m\u001b[95m...\u001b[0m   \n",
       "\u001b[33m...\u001b[0m                                                 \u001b[33m...\u001b[0m   \n",
       "\u001b[1;36m2607\u001b[0m                                               \u001b[3;35mNone\u001b[0m   \n",
       "\u001b[1;36m2608\u001b[0m                                               \u001b[3;35mNone\u001b[0m   \n",
       "\u001b[1;36m2609\u001b[0m                                               \u001b[3;35mNone\u001b[0m   \n",
       "\u001b[1;36m2610\u001b[0m                                               \u001b[3;35mNone\u001b[0m   \n",
       "\u001b[1;36m2612\u001b[0m                                               \u001b[3;35mNone\u001b[0m   \n",
       "\n",
       "                                        extracted_links  \\\n",
       "\u001b[1;36m0\u001b[0m     \u001b[1m[\u001b[0m\u001b[1m[\u001b[0mCancer Facts You Cannot Ignore, \u001b[4;94mhttps://www....\u001b[0m   \n",
       "\u001b[1;36m1\u001b[0m     \u001b[1m[\u001b[0m\u001b[1m[\u001b[0mHow to Submit Claims, \u001b[4;94mhttps://crms.moh.gov.s...\u001b[0m   \n",
       "\u001b[1;36m2\u001b[0m     \u001b[1m[\u001b[0m\u001b[1m[\u001b[0mA Way to Reduce Outpatient Cost for Chronics\u001b[33m...\u001b[0m   \n",
       "\u001b[1;36m3\u001b[0m     \u001b[1m[\u001b[0m\u001b[1m[\u001b[0mMedifund, \u001b[4;94mhttps://www.healthhub.sg/a-z/costs...\u001b[0m   \n",
       "\u001b[1;36m4\u001b[0m     \u001b[1m[\u001b[0m\u001b[1m[\u001b[0mwww.chas.sg/apply, \u001b[4;94mhttps://www.chas.sg/apply...\u001b[0m   \n",
       "\u001b[33m...\u001b[0m                                                 \u001b[33m...\u001b[0m   \n",
       "\u001b[1;36m2607\u001b[0m  \u001b[1m[\u001b[0m\u001b[1m[\u001b[0mhere, \u001b[4;94mhttps://www.ncis.com.sg/events/Pages/E...\u001b[0m   \n",
       "\u001b[1;36m2608\u001b[0m  \u001b[1m[\u001b[0m\u001b[1m[\u001b[0mcharles_wu@nuhs.edu.sg, mailto: charles_wu@n\u001b[33m...\u001b[0m   \n",
       "\u001b[1;36m2609\u001b[0m  \u001b[1m[\u001b[0m\u001b[1m[\u001b[0mhere, \u001b[4;94mhttps://www.nni.com.sg/patient-care/br...\u001b[0m   \n",
       "\u001b[1;36m2610\u001b[0m  \u001b[1m[\u001b[0m\u001b[1m[\u001b[0mNutrition and Dietetics, \u001b[4;94mhttps://www.healthh...\u001b[0m   \n",
       "\u001b[1;36m2612\u001b[0m                                                 \u001b[1m[\u001b[0m\u001b[1m]\u001b[0m   \n",
       "\n",
       "                                      extracted_headers  \\\n",
       "\u001b[1;36m0\u001b[0m     \u001b[1m[\u001b[0m\u001b[1m[\u001b[0mBreast Cancer Screening, h2\u001b[1m]\u001b[0m, \u001b[1m[\u001b[0mSubsidy for M\u001b[33m...\u001b[0m   \n",
       "\u001b[1;36m1\u001b[0m     \u001b[1m[\u001b[0m\u001b[1m[\u001b[0mMediSave Maternity Package, h2\u001b[1m]\u001b[0m, \u001b[1m[\u001b[0mExamples o\u001b[33m...\u001b[0m   \n",
       "\u001b[1;36m2\u001b[0m     \u001b[1m[\u001b[0m\u001b[1m[\u001b[0m, h2\u001b[1m]\u001b[0m, \u001b[1m[\u001b[0mWhat is MediSave?, h2\u001b[1m]\u001b[0m, \u001b[1m[\u001b[0mContributin\u001b[33m...\u001b[0m   \n",
       "\u001b[1;36m3\u001b[0m     \u001b[1m[\u001b[0m\u001b[1m[\u001b[0mMedifund: Hospital Bill Payment Assistance, \u001b[33m...\u001b[0m   \n",
       "\u001b[1;36m4\u001b[0m     \u001b[1m[\u001b[0m\u001b[1m[\u001b[0mWhat is the Community Health Assist Scheme \u001b[1m(\u001b[0m\u001b[33m...\u001b[0m   \n",
       "\u001b[33m...\u001b[0m                                                 \u001b[33m...\u001b[0m   \n",
       "\u001b[1;36m2607\u001b[0m  \u001b[1m[\u001b[0m\u001b[1m[\u001b[0mBreast Cancer Support at NCIS, h2\u001b[1m]\u001b[0m, \u001b[1m[\u001b[0mOur Mis\u001b[33m...\u001b[0m   \n",
       "\u001b[1;36m2608\u001b[0m  \u001b[1m[\u001b[0m\u001b[1m[\u001b[0mTransitional Care for Heart Failure Patients\u001b[33m...\u001b[0m   \n",
       "\u001b[1;36m2609\u001b[0m  \u001b[1m[\u001b[0m\u001b[1m[\u001b[0m, h2\u001b[1m]\u001b[0m, \u001b[1m[\u001b[0mBrain Tumour Society \u001b[1m(\u001b[0mSingapore\u001b[1m)\u001b[0m, h2\u001b[33m...\u001b[0m   \n",
       "\u001b[1;36m2610\u001b[0m  \u001b[1m[\u001b[0m\u001b[1m[\u001b[0mThe Importance of Ambulatory Nutrition Suppo\u001b[33m...\u001b[0m   \n",
       "\u001b[1;36m2612\u001b[0m  \u001b[1m[\u001b[0m\u001b[1m[\u001b[0mCardiac Rehabilitation Support Group Activit\u001b[33m...\u001b[0m   \n",
       "\n",
       "                                       extracted_images  \\\n",
       "\u001b[1;36m0\u001b[0m                                                    \u001b[1m[\u001b[0m\u001b[1m]\u001b[0m   \n",
       "\u001b[1;36m1\u001b[0m                                                    \u001b[1m[\u001b[0m\u001b[1m]\u001b[0m   \n",
       "\u001b[1;36m2\u001b[0m                                                    \u001b[1m[\u001b[0m\u001b[1m]\u001b[0m   \n",
       "\u001b[1;36m3\u001b[0m                                                    \u001b[1m[\u001b[0m\u001b[1m]\u001b[0m   \n",
       "\u001b[1;36m4\u001b[0m     \u001b[1m[\u001b[0m\u001b[1m[\u001b[0mchas blue card, \u001b[4;94mhttps://ch-api.healthhub.sg/...\u001b[0m   \n",
       "\u001b[33m...\u001b[0m                                                 \u001b[33m...\u001b[0m   \n",
       "\u001b[1;36m2607\u001b[0m                                                 \u001b[1m[\u001b[0m\u001b[1m]\u001b[0m   \n",
       "\u001b[1;36m2608\u001b[0m  \u001b[1m[\u001b[0m\u001b[1m[\u001b[0mTransitional care, amongst other things, pro\u001b[33m...\u001b[0m   \n",
       "\u001b[1;36m2609\u001b[0m                                                 \u001b[1m[\u001b[0m\u001b[1m]\u001b[0m   \n",
       "\u001b[1;36m2610\u001b[0m                                                 \u001b[1m[\u001b[0m\u001b[1m]\u001b[0m   \n",
       "\u001b[1;36m2612\u001b[0m                                                 \u001b[1m[\u001b[0m\u001b[1m]\u001b[0m   \n",
       "\n",
       "                                 extracted_content_body      l1_mappings  \\\n",
       "\u001b[1;36m0\u001b[0m     Breast cancer is the number one cancer among w\u001b[33m...\u001b[0m  Support & Tools   \n",
       "\u001b[1;36m1\u001b[0m     MediSave Maternity Package\\nWith the MediSave \u001b[33m...\u001b[0m             \u001b[3;35mNone\u001b[0m   \n",
       "\u001b[1;36m2\u001b[0m     What is MediSave?\\nMediSave, introduced in Apr\u001b[33m...\u001b[0m             \u001b[3;35mNone\u001b[0m   \n",
       "\u001b[1;36m3\u001b[0m     Patients or family members who have difficulty\u001b[33m...\u001b[0m             \u001b[3;35mNone\u001b[0m   \n",
       "\u001b[1;36m4\u001b[0m     What is the Community Health Assist Scheme \u001b[1m(\u001b[0mCH\u001b[33m...\u001b[0m             \u001b[3;35mNone\u001b[0m   \n",
       "\u001b[33m...\u001b[0m                                                 \u001b[33m...\u001b[0m              \u001b[33m...\u001b[0m   \n",
       "\u001b[1;36m2607\u001b[0m  NCIS Breast Support Group provides knowledge, \u001b[33m...\u001b[0m             \u001b[3;35mNone\u001b[0m   \n",
       "\u001b[1;36m2608\u001b[0m  Heart failure is the leading cause of rehospit\u001b[33m...\u001b[0m             \u001b[3;35mNone\u001b[0m   \n",
       "\u001b[1;36m2609\u001b[0m  Brain Tumour Society \u001b[1m(\u001b[0mSingapore\u001b[1m)\u001b[0m\\nThe Brain Tu\u001b[33m...\u001b[0m             \u001b[3;35mNone\u001b[0m   \n",
       "\u001b[1;36m2610\u001b[0m  The Importance of Ambulatory Nutrition Support\u001b[33m...\u001b[0m             \u001b[3;35mNone\u001b[0m   \n",
       "\u001b[1;36m2612\u001b[0m  If you are caring for a loved one with cardiov\u001b[33m...\u001b[0m             \u001b[3;35mNone\u001b[0m   \n",
       "\n",
       "             l2_mappings  \n",
       "\u001b[1;36m0\u001b[0m     Cost and Financing  \n",
       "\u001b[1;36m1\u001b[0m                   \u001b[3;35mNone\u001b[0m  \n",
       "\u001b[1;36m2\u001b[0m                   \u001b[3;35mNone\u001b[0m  \n",
       "\u001b[1;36m3\u001b[0m                   \u001b[3;35mNone\u001b[0m  \n",
       "\u001b[1;36m4\u001b[0m                   \u001b[3;35mNone\u001b[0m  \n",
       "\u001b[33m...\u001b[0m                  \u001b[33m...\u001b[0m  \n",
       "\u001b[1;36m2607\u001b[0m                \u001b[3;35mNone\u001b[0m  \n",
       "\u001b[1;36m2608\u001b[0m                \u001b[3;35mNone\u001b[0m  \n",
       "\u001b[1;36m2609\u001b[0m                \u001b[3;35mNone\u001b[0m  \n",
       "\u001b[1;36m2610\u001b[0m                \u001b[3;35mNone\u001b[0m  \n",
       "\u001b[1;36m2612\u001b[0m                \u001b[3;35mNone\u001b[0m  \n",
       "\n",
       "\u001b[1m[\u001b[0m\u001b[1;36m2325\u001b[0m rows x \u001b[1;36m39\u001b[0m columns\u001b[1m]\u001b[0m"
      ]
     },
     "metadata": {},
     "output_type": "display_data"
    }
   ],
   "source": [
    "df_keep = merged_data[~merged_data[\"to_remove\"]]\n",
    "\n",
    "display(df_keep)  # noqa: F821"
   ]
  },
  {
   "cell_type": "code",
   "execution_count": 5,
   "id": "269e3fdf",
   "metadata": {
    "ExecuteTime": {
     "end_time": "2024-08-19T09:32:21.899483Z",
     "start_time": "2024-08-19T09:32:21.828146Z"
    }
   },
   "outputs": [
    {
     "data": {
      "text/html": [
       "<pre style=\"white-space:pre;overflow-x:auto;line-height:normal;font-family:Menlo,'DejaVu Sans Mono',consolas,'Courier New',monospace\"></pre>\n"
      ],
      "text/plain": []
     },
     "metadata": {},
     "output_type": "display_data"
    },
    {
     "data": {
      "text/html": [
       "<div>\n",
       "<style scoped>\n",
       "    .dataframe tbody tr th:only-of-type {\n",
       "        vertical-align: middle;\n",
       "    }\n",
       "\n",
       "    .dataframe tbody tr th {\n",
       "        vertical-align: top;\n",
       "    }\n",
       "\n",
       "    .dataframe thead th {\n",
       "        text-align: right;\n",
       "    }\n",
       "</style>\n",
       "<table border=\"1\" class=\"dataframe\">\n",
       "  <thead>\n",
       "    <tr style=\"text-align: right;\">\n",
       "      <th></th>\n",
       "      <th>id</th>\n",
       "      <th>content_name</th>\n",
       "      <th>title</th>\n",
       "      <th>article_category_names</th>\n",
       "      <th>cover_image_url</th>\n",
       "      <th>full_url</th>\n",
       "      <th>full_url2</th>\n",
       "      <th>friendly_url</th>\n",
       "      <th>category_description</th>\n",
       "      <th>content_body</th>\n",
       "      <th>...</th>\n",
       "      <th>has_image</th>\n",
       "      <th>related_sections</th>\n",
       "      <th>extracted_tables</th>\n",
       "      <th>extracted_raw_html_tables</th>\n",
       "      <th>extracted_links</th>\n",
       "      <th>extracted_headers</th>\n",
       "      <th>extracted_images</th>\n",
       "      <th>extracted_content_body</th>\n",
       "      <th>l1_mappings</th>\n",
       "      <th>l2_mappings</th>\n",
       "    </tr>\n",
       "  </thead>\n",
       "  <tbody>\n",
       "    <tr>\n",
       "      <th>0</th>\n",
       "      <td>1435040</td>\n",
       "      <td>Breast Screening Subsidies in Singapore</td>\n",
       "      <td>Breast Screening Subsidies in Singapore</td>\n",
       "      <td>Conditions and Illnesses,</td>\n",
       "      <td>https://ch-api.healthhub.sg/api/public/content...</td>\n",
       "      <td>https://www.healthhub.sg/a-z/costs-and-financi...</td>\n",
       "      <td>www.healthhub.sg/a-z/costs-and-financing/breas...</td>\n",
       "      <td>breast-cancer-screening-subsidies</td>\n",
       "      <td>Here’s all you need to know about breast cance...</td>\n",
       "      <td>b'&lt;div class=\"ExternalClass07C58E0D957B4AA7B14...</td>\n",
       "      <td>...</td>\n",
       "      <td>False</td>\n",
       "      <td>[Cancer Facts You Cannot Ignore]</td>\n",
       "      <td>[[[National Healthcare Group (NHG) Polyclinics...</td>\n",
       "      <td>[&lt;table cellspacing=\"0\" class=\"ms-rteTable-def...</td>\n",
       "      <td>[[Cancer Facts You Cannot Ignore, https://www....</td>\n",
       "      <td>[[Breast Cancer Screening, h2], [Subsidy for M...</td>\n",
       "      <td>[]</td>\n",
       "      <td>Breast cancer is the number one cancer among w...</td>\n",
       "      <td>Support &amp; Tools</td>\n",
       "      <td>Cost and Financing</td>\n",
       "    </tr>\n",
       "    <tr>\n",
       "      <th>1</th>\n",
       "      <td>1435071</td>\n",
       "      <td>Marriage and Parenthood Schemes</td>\n",
       "      <td>Marriage and Parenthood Schemes</td>\n",
       "      <td>Body Care,</td>\n",
       "      <td>https://ch-api.healthhub.sg/api/public/content...</td>\n",
       "      <td>https://www.healthhub.sg/a-z/costs-and-financi...</td>\n",
       "      <td>www.healthhub.sg/a-z/costs-and-financing/marri...</td>\n",
       "      <td>marriage_parenthood_scheme</td>\n",
       "      <td>New parents and couples looking to conceive ca...</td>\n",
       "      <td>b'&lt;div class=\"ExternalClassE1D82270F17241E4955...</td>\n",
       "      <td>...</td>\n",
       "      <td>False</td>\n",
       "      <td>[MediSave, Baby Bonus - What You Need to Know,...</td>\n",
       "      <td>[[[Delivery Procedure, No. of Days of Hospital...</td>\n",
       "      <td>[&lt;table style=\"font-weight:400;margin-left:aut...</td>\n",
       "      <td>[[How to Submit Claims, https://crms.moh.gov.s...</td>\n",
       "      <td>[[MediSave Maternity Package, h2], [Examples o...</td>\n",
       "      <td>[]</td>\n",
       "      <td>MediSave Maternity Package\\nWith the MediSave ...</td>\n",
       "      <td>None</td>\n",
       "      <td>None</td>\n",
       "    </tr>\n",
       "    <tr>\n",
       "      <th>2</th>\n",
       "      <td>1434993</td>\n",
       "      <td>MediSave</td>\n",
       "      <td>MediSave</td>\n",
       "      <td>Alerts and Advisories,</td>\n",
       "      <td>https://ch-api.healthhub.sg/api/public/content...</td>\n",
       "      <td>https://www.healthhub.sg/a-z/costs-and-financi...</td>\n",
       "      <td>www.healthhub.sg/a-z/costs-and-financing/medisave</td>\n",
       "      <td>medisave</td>\n",
       "      <td>MediSave is the national medical savings schem...</td>\n",
       "      <td>b'&lt;div class=\"ExternalClass67AD25F1F8B64B349E5...</td>\n",
       "      <td>...</td>\n",
       "      <td>False</td>\n",
       "      <td>[A Way to Reduce Outpatient Cost for Chronic D...</td>\n",
       "      <td>None</td>\n",
       "      <td>None</td>\n",
       "      <td>[[A Way to Reduce Outpatient Cost for Chronics...</td>\n",
       "      <td>[[, h2], [What is MediSave?, h2], [Contributin...</td>\n",
       "      <td>[]</td>\n",
       "      <td>What is MediSave?\\nMediSave, introduced in Apr...</td>\n",
       "      <td>None</td>\n",
       "      <td>None</td>\n",
       "    </tr>\n",
       "    <tr>\n",
       "      <th>3</th>\n",
       "      <td>1435031</td>\n",
       "      <td>Hospital Bills Financial Assistance in Singapore</td>\n",
       "      <td>Hospital Bills Financial Assistance in Singapore</td>\n",
       "      <td>Body Care,</td>\n",
       "      <td>https://ch-api.healthhub.sg/api/public/content...</td>\n",
       "      <td>https://www.healthhub.sg/a-z/costs-and-financi...</td>\n",
       "      <td>www.healthhub.sg/a-z/costs-and-financing/finan...</td>\n",
       "      <td>financial-assistance-for-local-patients-in-sin...</td>\n",
       "      <td>Having trouble paying your medical bill? Here’...</td>\n",
       "      <td>b'&lt;div class=\"ExternalClassE335708125E743FDAA3...</td>\n",
       "      <td>...</td>\n",
       "      <td>False</td>\n",
       "      <td>[]</td>\n",
       "      <td>None</td>\n",
       "      <td>None</td>\n",
       "      <td>[[Medifund, https://www.healthhub.sg/a-z/costs...</td>\n",
       "      <td>[[Medifund: Hospital Bill Payment Assistance, ...</td>\n",
       "      <td>[]</td>\n",
       "      <td>Patients or family members who have difficulty...</td>\n",
       "      <td>None</td>\n",
       "      <td>None</td>\n",
       "    </tr>\n",
       "    <tr>\n",
       "      <th>4</th>\n",
       "      <td>1435043</td>\n",
       "      <td>Community Health Assist Scheme (CHAS) Singapore</td>\n",
       "      <td>Community Health Assist Scheme (CHAS) Singapore</td>\n",
       "      <td>Alerts and Advisories,</td>\n",
       "      <td>https://ch-api.healthhub.sg/api/public/content...</td>\n",
       "      <td>https://www.healthhub.sg/a-z/costs-and-financi...</td>\n",
       "      <td>www.healthhub.sg/a-z/costs-and-financing/chas</td>\n",
       "      <td>chas</td>\n",
       "      <td>With a CHAS card, all Singapore citizens can r...</td>\n",
       "      <td>b'&lt;h2&gt;What is the Community Health Assist Sche...</td>\n",
       "      <td>...</td>\n",
       "      <td>True</td>\n",
       "      <td>[All Pioneer Generation (PG) and Merdeka Gener...</td>\n",
       "      <td>[[[CHAS Criteria, CHAS Green, CHAS Orange, CHA...</td>\n",
       "      <td>[&lt;table&gt;&lt;tbody&gt;&lt;tr&gt;&lt;td&gt;&lt;strong&gt;CHAS Criteria&lt;/...</td>\n",
       "      <td>[[www.chas.sg/apply, https://www.chas.sg/apply...</td>\n",
       "      <td>[[What is the Community Health Assist Scheme (...</td>\n",
       "      <td>[[chas blue card, https://ch-api.healthhub.sg/...</td>\n",
       "      <td>What is the Community Health Assist Scheme (CH...</td>\n",
       "      <td>None</td>\n",
       "      <td>None</td>\n",
       "    </tr>\n",
       "    <tr>\n",
       "      <th>...</th>\n",
       "      <td>...</td>\n",
       "      <td>...</td>\n",
       "      <td>...</td>\n",
       "      <td>...</td>\n",
       "      <td>...</td>\n",
       "      <td>...</td>\n",
       "      <td>...</td>\n",
       "      <td>...</td>\n",
       "      <td>...</td>\n",
       "      <td>...</td>\n",
       "      <td>...</td>\n",
       "      <td>...</td>\n",
       "      <td>...</td>\n",
       "      <td>...</td>\n",
       "      <td>...</td>\n",
       "      <td>...</td>\n",
       "      <td>...</td>\n",
       "      <td>...</td>\n",
       "      <td>...</td>\n",
       "      <td>...</td>\n",
       "      <td>...</td>\n",
       "    </tr>\n",
       "    <tr>\n",
       "      <th>2607</th>\n",
       "      <td>1440774</td>\n",
       "      <td>Breast Cancer Support Groups</td>\n",
       "      <td>Breast Cancer Support Groups</td>\n",
       "      <td>Conditions and Illnesses,</td>\n",
       "      <td>https://ch-api.healthhub.sg/api/public/content...</td>\n",
       "      <td>https://www.healthhub.sg/a-z/support-groups-an...</td>\n",
       "      <td>www.healthhub.sg/a-z/support-groups-and-others...</td>\n",
       "      <td>Breast-cancer-support-group-singapore</td>\n",
       "      <td>Learn how breast cancer support groups help br...</td>\n",
       "      <td>b'&lt;div class=\"ExternalClassE9019B25CD2A40F3948...</td>\n",
       "      <td>...</td>\n",
       "      <td>False</td>\n",
       "      <td>[]</td>\n",
       "      <td>None</td>\n",
       "      <td>None</td>\n",
       "      <td>[[here, https://www.ncis.com.sg/events/Pages/E...</td>\n",
       "      <td>[[Breast Cancer Support at NCIS, h2], [Our Mis...</td>\n",
       "      <td>[]</td>\n",
       "      <td>NCIS Breast Support Group provides knowledge, ...</td>\n",
       "      <td>None</td>\n",
       "      <td>None</td>\n",
       "    </tr>\n",
       "    <tr>\n",
       "      <th>2608</th>\n",
       "      <td>1440763</td>\n",
       "      <td>Heart Failure Transitional Care Programme</td>\n",
       "      <td>Heart Failure Transitional Care Programme</td>\n",
       "      <td>Conditions and Illnesses,</td>\n",
       "      <td>https://ch-api.healthhub.sg/api/public/content...</td>\n",
       "      <td>https://www.healthhub.sg/a-z/support-groups-an...</td>\n",
       "      <td>www.healthhub.sg/a-z/support-groups-and-others...</td>\n",
       "      <td>transitional-care-programme-for-heart-failure</td>\n",
       "      <td>The team from NUHCS gives support to heart fai...</td>\n",
       "      <td>b'&lt;div class=\"ExternalClassFC126593610D4F0587A...</td>\n",
       "      <td>...</td>\n",
       "      <td>True</td>\n",
       "      <td>[]</td>\n",
       "      <td>None</td>\n",
       "      <td>None</td>\n",
       "      <td>[[charles_wu@nuhs.edu.sg, mailto: charles_wu@n...</td>\n",
       "      <td>[[Transitional Care for Heart Failure Patients...</td>\n",
       "      <td>[[Transitional care, amongst other things, pro...</td>\n",
       "      <td>Heart failure is the leading cause of rehospit...</td>\n",
       "      <td>None</td>\n",
       "      <td>None</td>\n",
       "    </tr>\n",
       "    <tr>\n",
       "      <th>2609</th>\n",
       "      <td>1440791</td>\n",
       "      <td>Brain and Head Injury Support Groups</td>\n",
       "      <td>Brain and Head Injury Support Groups</td>\n",
       "      <td>Alerts and Advisories,</td>\n",
       "      <td>https://ch-api.healthhub.sg/api/public/content...</td>\n",
       "      <td>https://www.healthhub.sg/a-z/support-groups-an...</td>\n",
       "      <td>www.healthhub.sg/a-z/support-groups-and-others...</td>\n",
       "      <td>2015-NNI-support-group</td>\n",
       "      <td>Read on for a list of brain injury support gro...</td>\n",
       "      <td>b'&lt;div class=\"ExternalClass7C92735B78174928B28...</td>\n",
       "      <td>...</td>\n",
       "      <td>False</td>\n",
       "      <td>[]</td>\n",
       "      <td>None</td>\n",
       "      <td>None</td>\n",
       "      <td>[[here, https://www.nni.com.sg/patient-care/br...</td>\n",
       "      <td>[[, h2], [Brain Tumour Society (Singapore), h2...</td>\n",
       "      <td>[]</td>\n",
       "      <td>Brain Tumour Society (Singapore)\\nThe Brain Tu...</td>\n",
       "      <td>None</td>\n",
       "      <td>None</td>\n",
       "    </tr>\n",
       "    <tr>\n",
       "      <th>2610</th>\n",
       "      <td>1440768</td>\n",
       "      <td>Ambulatory Nutrition Support</td>\n",
       "      <td>Ambulatory Nutrition Support</td>\n",
       "      <td>Conditions and Illnesses,</td>\n",
       "      <td>https://ch-api.healthhub.sg/api/public/content...</td>\n",
       "      <td>https://www.healthhub.sg/a-z/support-groups-an...</td>\n",
       "      <td>www.healthhub.sg/a-z/support-groups-and-others...</td>\n",
       "      <td>ambulatory-nutrition-support</td>\n",
       "      <td>Read about the ambulatory support benefits one...</td>\n",
       "      <td>b'&lt;div class=\"ExternalClass3FABAC9D59A64BCAB96...</td>\n",
       "      <td>...</td>\n",
       "      <td>False</td>\n",
       "      <td>[]</td>\n",
       "      <td>None</td>\n",
       "      <td>None</td>\n",
       "      <td>[[Nutrition and Dietetics, https://www.healthh...</td>\n",
       "      <td>[[The Importance of Ambulatory Nutrition Suppo...</td>\n",
       "      <td>[]</td>\n",
       "      <td>The Importance of Ambulatory Nutrition Support...</td>\n",
       "      <td>None</td>\n",
       "      <td>None</td>\n",
       "    </tr>\n",
       "    <tr>\n",
       "      <th>2612</th>\n",
       "      <td>1440762</td>\n",
       "      <td>Cardiac Rehabilitation Support Group</td>\n",
       "      <td>Cardiac Rehabilitation Support Group</td>\n",
       "      <td>Conditions and Illnesses,</td>\n",
       "      <td>https://ch-api.healthhub.sg/api/public/content...</td>\n",
       "      <td>https://www.healthhub.sg/a-z/support-groups-an...</td>\n",
       "      <td>www.healthhub.sg/a-z/support-groups-and-others...</td>\n",
       "      <td>cardiac-rehabilitation-support-group-local-exe...</td>\n",
       "      <td>Looking to improve your caregiving skills for ...</td>\n",
       "      <td>b'&lt;div class=\"ExternalClassD4367205B11F4638BFF...</td>\n",
       "      <td>...</td>\n",
       "      <td>False</td>\n",
       "      <td>[]</td>\n",
       "      <td>None</td>\n",
       "      <td>None</td>\n",
       "      <td>[]</td>\n",
       "      <td>[[Cardiac Rehabilitation Support Group Activit...</td>\n",
       "      <td>[]</td>\n",
       "      <td>If you are caring for a loved one with cardiov...</td>\n",
       "      <td>None</td>\n",
       "      <td>None</td>\n",
       "    </tr>\n",
       "  </tbody>\n",
       "</table>\n",
       "<p>1514 rows × 39 columns</p>\n",
       "</div>"
      ],
      "text/plain": [
       "\n",
       "           id                                      content_name  \\\n",
       "\u001b[1;36m0\u001b[0m     \u001b[1;36m1435040\u001b[0m           Breast Screening Subsidies in Singapore   \n",
       "\u001b[1;36m1\u001b[0m     \u001b[1;36m1435071\u001b[0m                   Marriage and Parenthood Schemes   \n",
       "\u001b[1;36m2\u001b[0m     \u001b[1;36m1434993\u001b[0m                                          MediSave   \n",
       "\u001b[1;36m3\u001b[0m     \u001b[1;36m1435031\u001b[0m  Hospital Bills Financial Assistance in Singapore   \n",
       "\u001b[1;36m4\u001b[0m     \u001b[1;36m1435043\u001b[0m   Community Health Assist Scheme \u001b[1m(\u001b[0mCHAS\u001b[1m)\u001b[0m Singapore   \n",
       "\u001b[33m...\u001b[0m       \u001b[33m...\u001b[0m                                               \u001b[33m...\u001b[0m   \n",
       "\u001b[1;36m2607\u001b[0m  \u001b[1;36m1440774\u001b[0m                      Breast Cancer Support Groups   \n",
       "\u001b[1;36m2608\u001b[0m  \u001b[1;36m1440763\u001b[0m         Heart Failure Transitional Care Programme   \n",
       "\u001b[1;36m2609\u001b[0m  \u001b[1;36m1440791\u001b[0m              Brain and Head Injury Support Groups   \n",
       "\u001b[1;36m2610\u001b[0m  \u001b[1;36m1440768\u001b[0m                      Ambulatory Nutrition Support   \n",
       "\u001b[1;36m2612\u001b[0m  \u001b[1;36m1440762\u001b[0m              Cardiac Rehabilitation Support Group   \n",
       "\n",
       "                                                 title  \\\n",
       "\u001b[1;36m0\u001b[0m              Breast Screening Subsidies in Singapore   \n",
       "\u001b[1;36m1\u001b[0m                      Marriage and Parenthood Schemes   \n",
       "\u001b[1;36m2\u001b[0m                                             MediSave   \n",
       "\u001b[1;36m3\u001b[0m     Hospital Bills Financial Assistance in Singapore   \n",
       "\u001b[1;36m4\u001b[0m      Community Health Assist Scheme \u001b[1m(\u001b[0mCHAS\u001b[1m)\u001b[0m Singapore   \n",
       "\u001b[33m...\u001b[0m                                                \u001b[33m...\u001b[0m   \n",
       "\u001b[1;36m2607\u001b[0m                      Breast Cancer Support Groups   \n",
       "\u001b[1;36m2608\u001b[0m         Heart Failure Transitional Care Programme   \n",
       "\u001b[1;36m2609\u001b[0m              Brain and Head Injury Support Groups   \n",
       "\u001b[1;36m2610\u001b[0m                      Ambulatory Nutrition Support   \n",
       "\u001b[1;36m2612\u001b[0m              Cardiac Rehabilitation Support Group   \n",
       "\n",
       "         article_category_names  \\\n",
       "\u001b[1;36m0\u001b[0m     Conditions and Illnesses,   \n",
       "\u001b[1;36m1\u001b[0m                    Body Care,   \n",
       "\u001b[1;36m2\u001b[0m        Alerts and Advisories,   \n",
       "\u001b[1;36m3\u001b[0m                    Body Care,   \n",
       "\u001b[1;36m4\u001b[0m        Alerts and Advisories,   \n",
       "\u001b[33m...\u001b[0m                         \u001b[33m...\u001b[0m   \n",
       "\u001b[1;36m2607\u001b[0m  Conditions and Illnesses,   \n",
       "\u001b[1;36m2608\u001b[0m  Conditions and Illnesses,   \n",
       "\u001b[1;36m2609\u001b[0m     Alerts and Advisories,   \n",
       "\u001b[1;36m2610\u001b[0m  Conditions and Illnesses,   \n",
       "\u001b[1;36m2612\u001b[0m  Conditions and Illnesses,   \n",
       "\n",
       "                                        cover_image_url  \\\n",
       "\u001b[1;36m0\u001b[0m     \u001b[4;94mhttps://ch-api.healthhub.sg/api/public/content...\u001b[0m   \n",
       "\u001b[1;36m1\u001b[0m     \u001b[4;94mhttps://ch-api.healthhub.sg/api/public/content...\u001b[0m   \n",
       "\u001b[1;36m2\u001b[0m     \u001b[4;94mhttps://ch-api.healthhub.sg/api/public/content...\u001b[0m   \n",
       "\u001b[1;36m3\u001b[0m     \u001b[4;94mhttps://ch-api.healthhub.sg/api/public/content...\u001b[0m   \n",
       "\u001b[1;36m4\u001b[0m     \u001b[4;94mhttps://ch-api.healthhub.sg/api/public/content...\u001b[0m   \n",
       "\u001b[33m...\u001b[0m                                                 \u001b[33m...\u001b[0m   \n",
       "\u001b[1;36m2607\u001b[0m  \u001b[4;94mhttps://ch-api.healthhub.sg/api/public/content...\u001b[0m   \n",
       "\u001b[1;36m2608\u001b[0m  \u001b[4;94mhttps://ch-api.healthhub.sg/api/public/content...\u001b[0m   \n",
       "\u001b[1;36m2609\u001b[0m  \u001b[4;94mhttps://ch-api.healthhub.sg/api/public/content...\u001b[0m   \n",
       "\u001b[1;36m2610\u001b[0m  \u001b[4;94mhttps://ch-api.healthhub.sg/api/public/content...\u001b[0m   \n",
       "\u001b[1;36m2612\u001b[0m  \u001b[4;94mhttps://ch-api.healthhub.sg/api/public/content...\u001b[0m   \n",
       "\n",
       "                                               full_url  \\\n",
       "\u001b[1;36m0\u001b[0m     \u001b[4;94mhttps://www.healthhub.sg/a-z/costs-and-financi...\u001b[0m   \n",
       "\u001b[1;36m1\u001b[0m     \u001b[4;94mhttps://www.healthhub.sg/a-z/costs-and-financi...\u001b[0m   \n",
       "\u001b[1;36m2\u001b[0m     \u001b[4;94mhttps://www.healthhub.sg/a-z/costs-and-financi...\u001b[0m   \n",
       "\u001b[1;36m3\u001b[0m     \u001b[4;94mhttps://www.healthhub.sg/a-z/costs-and-financi...\u001b[0m   \n",
       "\u001b[1;36m4\u001b[0m     \u001b[4;94mhttps://www.healthhub.sg/a-z/costs-and-financi...\u001b[0m   \n",
       "\u001b[33m...\u001b[0m                                                 \u001b[33m...\u001b[0m   \n",
       "\u001b[1;36m2607\u001b[0m  \u001b[4;94mhttps://www.healthhub.sg/a-z/support-groups-an...\u001b[0m   \n",
       "\u001b[1;36m2608\u001b[0m  \u001b[4;94mhttps://www.healthhub.sg/a-z/support-groups-an...\u001b[0m   \n",
       "\u001b[1;36m2609\u001b[0m  \u001b[4;94mhttps://www.healthhub.sg/a-z/support-groups-an...\u001b[0m   \n",
       "\u001b[1;36m2610\u001b[0m  \u001b[4;94mhttps://www.healthhub.sg/a-z/support-groups-an...\u001b[0m   \n",
       "\u001b[1;36m2612\u001b[0m  \u001b[4;94mhttps://www.healthhub.sg/a-z/support-groups-an...\u001b[0m   \n",
       "\n",
       "                                              full_url2  \\\n",
       "\u001b[1;36m0\u001b[0m     www.healthhub.sg/a-z/costs-and-financing/breas\u001b[33m...\u001b[0m   \n",
       "\u001b[1;36m1\u001b[0m     www.healthhub.sg/a-z/costs-and-financing/marri\u001b[33m...\u001b[0m   \n",
       "\u001b[1;36m2\u001b[0m     www.healthhub.sg/a-z/costs-and-financing/medisave   \n",
       "\u001b[1;36m3\u001b[0m     www.healthhub.sg/a-z/costs-and-financing/finan\u001b[33m...\u001b[0m   \n",
       "\u001b[1;36m4\u001b[0m         www.healthhub.sg/a-z/costs-and-financing/chas   \n",
       "\u001b[33m...\u001b[0m                                                 \u001b[33m...\u001b[0m   \n",
       "\u001b[1;36m2607\u001b[0m  www.healthhub.sg/a-z/support-groups-and-others\u001b[33m...\u001b[0m   \n",
       "\u001b[1;36m2608\u001b[0m  www.healthhub.sg/a-z/support-groups-and-others\u001b[33m...\u001b[0m   \n",
       "\u001b[1;36m2609\u001b[0m  www.healthhub.sg/a-z/support-groups-and-others\u001b[33m...\u001b[0m   \n",
       "\u001b[1;36m2610\u001b[0m  www.healthhub.sg/a-z/support-groups-and-others\u001b[33m...\u001b[0m   \n",
       "\u001b[1;36m2612\u001b[0m  www.healthhub.sg/a-z/support-groups-and-others\u001b[33m...\u001b[0m   \n",
       "\n",
       "                                           friendly_url  \\\n",
       "\u001b[1;36m0\u001b[0m                     breast-cancer-screening-subsidies   \n",
       "\u001b[1;36m1\u001b[0m                            marriage_parenthood_scheme   \n",
       "\u001b[1;36m2\u001b[0m                                              medisave   \n",
       "\u001b[1;36m3\u001b[0m     financial-assistance-for-local-patients-in-sin\u001b[33m...\u001b[0m   \n",
       "\u001b[1;36m4\u001b[0m                                                  chas   \n",
       "\u001b[33m...\u001b[0m                                                 \u001b[33m...\u001b[0m   \n",
       "\u001b[1;36m2607\u001b[0m              Breast-cancer-support-group-singapore   \n",
       "\u001b[1;36m2608\u001b[0m      transitional-care-programme-for-heart-failure   \n",
       "\u001b[1;36m2609\u001b[0m                             \u001b[1;36m2015\u001b[0m-NNI-support-group   \n",
       "\u001b[1;36m2610\u001b[0m                       ambulatory-nutrition-support   \n",
       "\u001b[1;36m2612\u001b[0m  cardiac-rehabilitation-support-group-local-exe\u001b[33m...\u001b[0m   \n",
       "\n",
       "                                   category_description  \\\n",
       "\u001b[1;36m0\u001b[0m     Here’s all you need to know about breast cance\u001b[33m...\u001b[0m   \n",
       "\u001b[1;36m1\u001b[0m     New parents and couples looking to conceive ca\u001b[33m...\u001b[0m   \n",
       "\u001b[1;36m2\u001b[0m     MediSave is the national medical savings schem\u001b[33m...\u001b[0m   \n",
       "\u001b[1;36m3\u001b[0m     Having trouble paying your medical bill? Here’\u001b[33m...\u001b[0m   \n",
       "\u001b[1;36m4\u001b[0m     With a CHAS card, all Singapore citizens can r\u001b[33m...\u001b[0m   \n",
       "\u001b[33m...\u001b[0m                                                 \u001b[33m...\u001b[0m   \n",
       "\u001b[1;36m2607\u001b[0m  Learn how breast cancer support groups help br\u001b[33m...\u001b[0m   \n",
       "\u001b[1;36m2608\u001b[0m  The team from NUHCS gives support to heart fai\u001b[33m...\u001b[0m   \n",
       "\u001b[1;36m2609\u001b[0m  Read on for a list of brain injury support gro\u001b[33m...\u001b[0m   \n",
       "\u001b[1;36m2610\u001b[0m  Read about the ambulatory support benefits one\u001b[33m...\u001b[0m   \n",
       "\u001b[1;36m2612\u001b[0m  Looking to improve your caregiving skills for \u001b[33m...\u001b[0m   \n",
       "\n",
       "                                           content_body  \u001b[33m...\u001b[0m has_image  \\\n",
       "\u001b[1;36m0\u001b[0m     b'\u001b[1m<\u001b[0m\u001b[1;95mdiv\u001b[0m\u001b[39m \u001b[0m\u001b[33mclass\u001b[0m\u001b[39m=\u001b[0m\u001b[35m\"ExternalClass07C58E0D957B4AA7B14\u001b[0m\u001b[33m...\u001b[0m\u001b[39m  \u001b[0m\u001b[33m...\u001b[0m\u001b[39m     \u001b[0m\u001b[3;91mFalse\u001b[0m\u001b[39m   \u001b[0m\n",
       "\u001b[1;36m1\u001b[0m\u001b[39m     b'<div \u001b[0m\u001b[33mclass\u001b[0m\u001b[39m=\u001b[0m\u001b[35m\"ExternalClassE1D82270F17241E4955\u001b[0m\u001b[33m...\u001b[0m\u001b[39m  \u001b[0m\u001b[33m...\u001b[0m\u001b[39m     \u001b[0m\u001b[3;91mFalse\u001b[0m\u001b[39m   \u001b[0m\n",
       "\u001b[1;36m2\u001b[0m\u001b[39m     b'<div \u001b[0m\u001b[33mclass\u001b[0m\u001b[39m=\u001b[0m\u001b[35m\"ExternalClass67AD25F1F8B64B349E5\u001b[0m\u001b[33m...\u001b[0m\u001b[39m  \u001b[0m\u001b[33m...\u001b[0m\u001b[39m     \u001b[0m\u001b[3;91mFalse\u001b[0m\u001b[39m   \u001b[0m\n",
       "\u001b[1;36m3\u001b[0m\u001b[39m     b'<div \u001b[0m\u001b[33mclass\u001b[0m\u001b[39m=\u001b[0m\u001b[35m\"ExternalClassE335708125E743FDAA3\u001b[0m\u001b[33m...\u001b[0m\u001b[39m  \u001b[0m\u001b[33m...\u001b[0m\u001b[39m     \u001b[0m\u001b[3;91mFalse\u001b[0m\u001b[39m   \u001b[0m\n",
       "\u001b[1;36m4\u001b[0m\u001b[39m     b'<h2>What is the Community Health Assist Sche\u001b[0m\u001b[33m...\u001b[0m\u001b[39m  \u001b[0m\u001b[33m...\u001b[0m\u001b[39m      \u001b[0m\u001b[3;92mTrue\u001b[0m\u001b[39m   \u001b[0m\n",
       "\u001b[33m...\u001b[0m\u001b[39m                                                 \u001b[0m\u001b[33m...\u001b[0m\u001b[39m  \u001b[0m\u001b[33m...\u001b[0m\u001b[39m       \u001b[0m\u001b[33m...\u001b[0m\u001b[39m   \u001b[0m\n",
       "\u001b[1;36m2607\u001b[0m\u001b[39m  b'<div \u001b[0m\u001b[33mclass\u001b[0m\u001b[39m=\u001b[0m\u001b[35m\"ExternalClassE9019B25CD2A40F3948\u001b[0m\u001b[33m...\u001b[0m\u001b[39m  \u001b[0m\u001b[33m...\u001b[0m\u001b[39m     \u001b[0m\u001b[3;91mFalse\u001b[0m\u001b[39m   \u001b[0m\n",
       "\u001b[1;36m2608\u001b[0m\u001b[39m  b'<div \u001b[0m\u001b[33mclass\u001b[0m\u001b[39m=\u001b[0m\u001b[35m\"ExternalClassFC126593610D4F0587A\u001b[0m\u001b[33m...\u001b[0m\u001b[39m  \u001b[0m\u001b[33m...\u001b[0m\u001b[39m      \u001b[0m\u001b[3;92mTrue\u001b[0m\u001b[39m   \u001b[0m\n",
       "\u001b[1;36m2609\u001b[0m\u001b[39m  b'<div \u001b[0m\u001b[33mclass\u001b[0m\u001b[39m=\u001b[0m\u001b[35m\"ExternalClass7C92735B78174928B28\u001b[0m\u001b[33m...\u001b[0m\u001b[39m  \u001b[0m\u001b[33m...\u001b[0m\u001b[39m     \u001b[0m\u001b[3;91mFalse\u001b[0m\u001b[39m   \u001b[0m\n",
       "\u001b[1;36m2610\u001b[0m\u001b[39m  b'<div \u001b[0m\u001b[33mclass\u001b[0m\u001b[39m=\u001b[0m\u001b[35m\"ExternalClass3FABAC9D59A64BCAB96\u001b[0m\u001b[33m...\u001b[0m\u001b[39m  \u001b[0m\u001b[33m...\u001b[0m\u001b[39m     \u001b[0m\u001b[3;91mFalse\u001b[0m\u001b[39m   \u001b[0m\n",
       "\u001b[1;36m2612\u001b[0m\u001b[39m  b'<div \u001b[0m\u001b[33mclass\u001b[0m\u001b[39m=\u001b[0m\u001b[35m\"ExternalClassD4367205B11F4638BFF\u001b[0m\u001b[33m...\u001b[0m\u001b[39m  \u001b[0m\u001b[33m...\u001b[0m\u001b[39m     \u001b[0m\u001b[3;91mFalse\u001b[0m\u001b[39m   \u001b[0m\n",
       "\n",
       "\u001b[39m                                       related_sections  \\\u001b[0m\n",
       "\u001b[1;36m0\u001b[0m\u001b[39m                      \u001b[0m\u001b[1;39m[\u001b[0m\u001b[39mCancer Facts You Cannot Ignore\u001b[0m\u001b[1;39m]\u001b[0m\u001b[39m   \u001b[0m\n",
       "\u001b[1;36m1\u001b[0m\u001b[39m     \u001b[0m\u001b[1;39m[\u001b[0m\u001b[39mMediSave, Baby Bonus - What You Need to Know,\u001b[0m\u001b[33m...\u001b[0m\u001b[39m   \u001b[0m\n",
       "\u001b[1;36m2\u001b[0m\u001b[39m     \u001b[0m\u001b[1;39m[\u001b[0m\u001b[39mA Way to Reduce Outpatient Cost for Chronic D\u001b[0m\u001b[33m...\u001b[0m\u001b[39m   \u001b[0m\n",
       "\u001b[1;36m3\u001b[0m\u001b[39m                                                    \u001b[0m\u001b[1;39m[\u001b[0m\u001b[1;39m]\u001b[0m\u001b[39m   \u001b[0m\n",
       "\u001b[1;36m4\u001b[0m\u001b[39m     \u001b[0m\u001b[1;39m[\u001b[0m\u001b[39mAll Pioneer Generation \u001b[0m\u001b[1;39m(\u001b[0m\u001b[39mPG\u001b[0m\u001b[1;39m)\u001b[0m\u001b[39m and Merdeka Gener\u001b[0m\u001b[33m...\u001b[0m\u001b[39m   \u001b[0m\n",
       "\u001b[33m...\u001b[0m\u001b[39m                                                 \u001b[0m\u001b[33m...\u001b[0m\u001b[39m   \u001b[0m\n",
       "\u001b[1;36m2607\u001b[0m\u001b[39m                                                 \u001b[0m\u001b[1;39m[\u001b[0m\u001b[1;39m]\u001b[0m\u001b[39m   \u001b[0m\n",
       "\u001b[1;36m2608\u001b[0m\u001b[39m                                                 \u001b[0m\u001b[1;39m[\u001b[0m\u001b[1;39m]\u001b[0m\u001b[39m   \u001b[0m\n",
       "\u001b[1;36m2609\u001b[0m\u001b[39m                                                 \u001b[0m\u001b[1;39m[\u001b[0m\u001b[1;39m]\u001b[0m\u001b[39m   \u001b[0m\n",
       "\u001b[1;36m2610\u001b[0m\u001b[39m                                                 \u001b[0m\u001b[1;39m[\u001b[0m\u001b[1;39m]\u001b[0m\u001b[39m   \u001b[0m\n",
       "\u001b[1;36m2612\u001b[0m\u001b[39m                                                 \u001b[0m\u001b[1;39m[\u001b[0m\u001b[1;39m]\u001b[0m\u001b[39m   \u001b[0m\n",
       "\n",
       "\u001b[39m                                       extracted_tables  \\\u001b[0m\n",
       "\u001b[1;36m0\u001b[0m\u001b[39m     \u001b[0m\u001b[1;39m[\u001b[0m\u001b[1;39m[\u001b[0m\u001b[1;39m[\u001b[0m\u001b[39mNational Healthcare Group \u001b[0m\u001b[1;39m(\u001b[0m\u001b[39mNHG\u001b[0m\u001b[1;39m)\u001b[0m\u001b[39m Polyclinics\u001b[0m\u001b[33m...\u001b[0m\u001b[39m   \u001b[0m\n",
       "\u001b[1;36m1\u001b[0m\u001b[39m     \u001b[0m\u001b[1;39m[\u001b[0m\u001b[1;39m[\u001b[0m\u001b[1;39m[\u001b[0m\u001b[39mDelivery Procedure, No. of Days of Hospital\u001b[0m\u001b[33m...\u001b[0m\u001b[39m   \u001b[0m\n",
       "\u001b[1;36m2\u001b[0m\u001b[39m                                                  \u001b[0m\u001b[3;35mNone\u001b[0m\u001b[39m   \u001b[0m\n",
       "\u001b[1;36m3\u001b[0m\u001b[39m                                                  \u001b[0m\u001b[3;35mNone\u001b[0m\u001b[39m   \u001b[0m\n",
       "\u001b[1;36m4\u001b[0m\u001b[39m     \u001b[0m\u001b[1;39m[\u001b[0m\u001b[1;39m[\u001b[0m\u001b[1;39m[\u001b[0m\u001b[39mCHAS Criteria, CHAS Green, CHAS Orange, CHA\u001b[0m\u001b[33m...\u001b[0m\u001b[39m   \u001b[0m\n",
       "\u001b[33m...\u001b[0m\u001b[39m                                                 \u001b[0m\u001b[33m...\u001b[0m\u001b[39m   \u001b[0m\n",
       "\u001b[1;36m2607\u001b[0m\u001b[39m                                               \u001b[0m\u001b[3;35mNone\u001b[0m\u001b[39m   \u001b[0m\n",
       "\u001b[1;36m2608\u001b[0m\u001b[39m                                               \u001b[0m\u001b[3;35mNone\u001b[0m\u001b[39m   \u001b[0m\n",
       "\u001b[1;36m2609\u001b[0m\u001b[39m                                               \u001b[0m\u001b[3;35mNone\u001b[0m\u001b[39m   \u001b[0m\n",
       "\u001b[1;36m2610\u001b[0m\u001b[39m                                               \u001b[0m\u001b[3;35mNone\u001b[0m\u001b[39m   \u001b[0m\n",
       "\u001b[1;36m2612\u001b[0m\u001b[39m                                               \u001b[0m\u001b[3;35mNone\u001b[0m\u001b[39m   \u001b[0m\n",
       "\n",
       "\u001b[39m                              extracted_raw_html_tables  \\\u001b[0m\n",
       "\u001b[1;36m0\u001b[0m\u001b[39m     \u001b[0m\u001b[1;39m[\u001b[0m\u001b[39m<table \u001b[0m\u001b[33mcellspacing\u001b[0m\u001b[39m=\u001b[0m\u001b[32m\"0\"\u001b[0m\u001b[39m \u001b[0m\u001b[33mclass\u001b[0m\u001b[39m=\u001b[0m\u001b[35m\"ms\u001b[0m\u001b[39m-rteTable-def\u001b[0m\u001b[33m...\u001b[0m\u001b[39m   \u001b[0m\n",
       "\u001b[1;36m1\u001b[0m\u001b[39m     \u001b[0m\u001b[1;39m[\u001b[0m\u001b[39m<table \u001b[0m\u001b[33mstyle\u001b[0m\u001b[39m=\u001b[0m\u001b[35m\"font\u001b[0m\u001b[39m-weight:\u001b[0m\u001b[1;36m400\u001b[0m\u001b[39m;margin-left:aut\u001b[0m\u001b[33m...\u001b[0m\u001b[39m   \u001b[0m\n",
       "\u001b[1;36m2\u001b[0m\u001b[39m                                                  \u001b[0m\u001b[3;35mNone\u001b[0m\u001b[39m   \u001b[0m\n",
       "\u001b[1;36m3\u001b[0m\u001b[39m                                                  \u001b[0m\u001b[3;35mNone\u001b[0m\u001b[39m   \u001b[0m\n",
       "\u001b[1;36m4\u001b[0m\u001b[39m     \u001b[0m\u001b[1;39m[\u001b[0m\u001b[39m<table><tbody><tr><td><strong\u001b[0m\u001b[1m>\u001b[0mCHAS Criteria<\u001b[35m/\u001b[0m\u001b[95m...\u001b[0m   \n",
       "\u001b[33m...\u001b[0m                                                 \u001b[33m...\u001b[0m   \n",
       "\u001b[1;36m2607\u001b[0m                                               \u001b[3;35mNone\u001b[0m   \n",
       "\u001b[1;36m2608\u001b[0m                                               \u001b[3;35mNone\u001b[0m   \n",
       "\u001b[1;36m2609\u001b[0m                                               \u001b[3;35mNone\u001b[0m   \n",
       "\u001b[1;36m2610\u001b[0m                                               \u001b[3;35mNone\u001b[0m   \n",
       "\u001b[1;36m2612\u001b[0m                                               \u001b[3;35mNone\u001b[0m   \n",
       "\n",
       "                                        extracted_links  \\\n",
       "\u001b[1;36m0\u001b[0m     \u001b[1m[\u001b[0m\u001b[1m[\u001b[0mCancer Facts You Cannot Ignore, \u001b[4;94mhttps://www....\u001b[0m   \n",
       "\u001b[1;36m1\u001b[0m     \u001b[1m[\u001b[0m\u001b[1m[\u001b[0mHow to Submit Claims, \u001b[4;94mhttps://crms.moh.gov.s...\u001b[0m   \n",
       "\u001b[1;36m2\u001b[0m     \u001b[1m[\u001b[0m\u001b[1m[\u001b[0mA Way to Reduce Outpatient Cost for Chronics\u001b[33m...\u001b[0m   \n",
       "\u001b[1;36m3\u001b[0m     \u001b[1m[\u001b[0m\u001b[1m[\u001b[0mMedifund, \u001b[4;94mhttps://www.healthhub.sg/a-z/costs...\u001b[0m   \n",
       "\u001b[1;36m4\u001b[0m     \u001b[1m[\u001b[0m\u001b[1m[\u001b[0mwww.chas.sg/apply, \u001b[4;94mhttps://www.chas.sg/apply...\u001b[0m   \n",
       "\u001b[33m...\u001b[0m                                                 \u001b[33m...\u001b[0m   \n",
       "\u001b[1;36m2607\u001b[0m  \u001b[1m[\u001b[0m\u001b[1m[\u001b[0mhere, \u001b[4;94mhttps://www.ncis.com.sg/events/Pages/E...\u001b[0m   \n",
       "\u001b[1;36m2608\u001b[0m  \u001b[1m[\u001b[0m\u001b[1m[\u001b[0mcharles_wu@nuhs.edu.sg, mailto: charles_wu@n\u001b[33m...\u001b[0m   \n",
       "\u001b[1;36m2609\u001b[0m  \u001b[1m[\u001b[0m\u001b[1m[\u001b[0mhere, \u001b[4;94mhttps://www.nni.com.sg/patient-care/br...\u001b[0m   \n",
       "\u001b[1;36m2610\u001b[0m  \u001b[1m[\u001b[0m\u001b[1m[\u001b[0mNutrition and Dietetics, \u001b[4;94mhttps://www.healthh...\u001b[0m   \n",
       "\u001b[1;36m2612\u001b[0m                                                 \u001b[1m[\u001b[0m\u001b[1m]\u001b[0m   \n",
       "\n",
       "                                      extracted_headers  \\\n",
       "\u001b[1;36m0\u001b[0m     \u001b[1m[\u001b[0m\u001b[1m[\u001b[0mBreast Cancer Screening, h2\u001b[1m]\u001b[0m, \u001b[1m[\u001b[0mSubsidy for M\u001b[33m...\u001b[0m   \n",
       "\u001b[1;36m1\u001b[0m     \u001b[1m[\u001b[0m\u001b[1m[\u001b[0mMediSave Maternity Package, h2\u001b[1m]\u001b[0m, \u001b[1m[\u001b[0mExamples o\u001b[33m...\u001b[0m   \n",
       "\u001b[1;36m2\u001b[0m     \u001b[1m[\u001b[0m\u001b[1m[\u001b[0m, h2\u001b[1m]\u001b[0m, \u001b[1m[\u001b[0mWhat is MediSave?, h2\u001b[1m]\u001b[0m, \u001b[1m[\u001b[0mContributin\u001b[33m...\u001b[0m   \n",
       "\u001b[1;36m3\u001b[0m     \u001b[1m[\u001b[0m\u001b[1m[\u001b[0mMedifund: Hospital Bill Payment Assistance, \u001b[33m...\u001b[0m   \n",
       "\u001b[1;36m4\u001b[0m     \u001b[1m[\u001b[0m\u001b[1m[\u001b[0mWhat is the Community Health Assist Scheme \u001b[1m(\u001b[0m\u001b[33m...\u001b[0m   \n",
       "\u001b[33m...\u001b[0m                                                 \u001b[33m...\u001b[0m   \n",
       "\u001b[1;36m2607\u001b[0m  \u001b[1m[\u001b[0m\u001b[1m[\u001b[0mBreast Cancer Support at NCIS, h2\u001b[1m]\u001b[0m, \u001b[1m[\u001b[0mOur Mis\u001b[33m...\u001b[0m   \n",
       "\u001b[1;36m2608\u001b[0m  \u001b[1m[\u001b[0m\u001b[1m[\u001b[0mTransitional Care for Heart Failure Patients\u001b[33m...\u001b[0m   \n",
       "\u001b[1;36m2609\u001b[0m  \u001b[1m[\u001b[0m\u001b[1m[\u001b[0m, h2\u001b[1m]\u001b[0m, \u001b[1m[\u001b[0mBrain Tumour Society \u001b[1m(\u001b[0mSingapore\u001b[1m)\u001b[0m, h2\u001b[33m...\u001b[0m   \n",
       "\u001b[1;36m2610\u001b[0m  \u001b[1m[\u001b[0m\u001b[1m[\u001b[0mThe Importance of Ambulatory Nutrition Suppo\u001b[33m...\u001b[0m   \n",
       "\u001b[1;36m2612\u001b[0m  \u001b[1m[\u001b[0m\u001b[1m[\u001b[0mCardiac Rehabilitation Support Group Activit\u001b[33m...\u001b[0m   \n",
       "\n",
       "                                       extracted_images  \\\n",
       "\u001b[1;36m0\u001b[0m                                                    \u001b[1m[\u001b[0m\u001b[1m]\u001b[0m   \n",
       "\u001b[1;36m1\u001b[0m                                                    \u001b[1m[\u001b[0m\u001b[1m]\u001b[0m   \n",
       "\u001b[1;36m2\u001b[0m                                                    \u001b[1m[\u001b[0m\u001b[1m]\u001b[0m   \n",
       "\u001b[1;36m3\u001b[0m                                                    \u001b[1m[\u001b[0m\u001b[1m]\u001b[0m   \n",
       "\u001b[1;36m4\u001b[0m     \u001b[1m[\u001b[0m\u001b[1m[\u001b[0mchas blue card, \u001b[4;94mhttps://ch-api.healthhub.sg/...\u001b[0m   \n",
       "\u001b[33m...\u001b[0m                                                 \u001b[33m...\u001b[0m   \n",
       "\u001b[1;36m2607\u001b[0m                                                 \u001b[1m[\u001b[0m\u001b[1m]\u001b[0m   \n",
       "\u001b[1;36m2608\u001b[0m  \u001b[1m[\u001b[0m\u001b[1m[\u001b[0mTransitional care, amongst other things, pro\u001b[33m...\u001b[0m   \n",
       "\u001b[1;36m2609\u001b[0m                                                 \u001b[1m[\u001b[0m\u001b[1m]\u001b[0m   \n",
       "\u001b[1;36m2610\u001b[0m                                                 \u001b[1m[\u001b[0m\u001b[1m]\u001b[0m   \n",
       "\u001b[1;36m2612\u001b[0m                                                 \u001b[1m[\u001b[0m\u001b[1m]\u001b[0m   \n",
       "\n",
       "                                 extracted_content_body      l1_mappings  \\\n",
       "\u001b[1;36m0\u001b[0m     Breast cancer is the number one cancer among w\u001b[33m...\u001b[0m  Support & Tools   \n",
       "\u001b[1;36m1\u001b[0m     MediSave Maternity Package\\nWith the MediSave \u001b[33m...\u001b[0m             \u001b[3;35mNone\u001b[0m   \n",
       "\u001b[1;36m2\u001b[0m     What is MediSave?\\nMediSave, introduced in Apr\u001b[33m...\u001b[0m             \u001b[3;35mNone\u001b[0m   \n",
       "\u001b[1;36m3\u001b[0m     Patients or family members who have difficulty\u001b[33m...\u001b[0m             \u001b[3;35mNone\u001b[0m   \n",
       "\u001b[1;36m4\u001b[0m     What is the Community Health Assist Scheme \u001b[1m(\u001b[0mCH\u001b[33m...\u001b[0m             \u001b[3;35mNone\u001b[0m   \n",
       "\u001b[33m...\u001b[0m                                                 \u001b[33m...\u001b[0m              \u001b[33m...\u001b[0m   \n",
       "\u001b[1;36m2607\u001b[0m  NCIS Breast Support Group provides knowledge, \u001b[33m...\u001b[0m             \u001b[3;35mNone\u001b[0m   \n",
       "\u001b[1;36m2608\u001b[0m  Heart failure is the leading cause of rehospit\u001b[33m...\u001b[0m             \u001b[3;35mNone\u001b[0m   \n",
       "\u001b[1;36m2609\u001b[0m  Brain Tumour Society \u001b[1m(\u001b[0mSingapore\u001b[1m)\u001b[0m\\nThe Brain Tu\u001b[33m...\u001b[0m             \u001b[3;35mNone\u001b[0m   \n",
       "\u001b[1;36m2610\u001b[0m  The Importance of Ambulatory Nutrition Support\u001b[33m...\u001b[0m             \u001b[3;35mNone\u001b[0m   \n",
       "\u001b[1;36m2612\u001b[0m  If you are caring for a loved one with cardiov\u001b[33m...\u001b[0m             \u001b[3;35mNone\u001b[0m   \n",
       "\n",
       "             l2_mappings  \n",
       "\u001b[1;36m0\u001b[0m     Cost and Financing  \n",
       "\u001b[1;36m1\u001b[0m                   \u001b[3;35mNone\u001b[0m  \n",
       "\u001b[1;36m2\u001b[0m                   \u001b[3;35mNone\u001b[0m  \n",
       "\u001b[1;36m3\u001b[0m                   \u001b[3;35mNone\u001b[0m  \n",
       "\u001b[1;36m4\u001b[0m                   \u001b[3;35mNone\u001b[0m  \n",
       "\u001b[33m...\u001b[0m                  \u001b[33m...\u001b[0m  \n",
       "\u001b[1;36m2607\u001b[0m                \u001b[3;35mNone\u001b[0m  \n",
       "\u001b[1;36m2608\u001b[0m                \u001b[3;35mNone\u001b[0m  \n",
       "\u001b[1;36m2609\u001b[0m                \u001b[3;35mNone\u001b[0m  \n",
       "\u001b[1;36m2610\u001b[0m                \u001b[3;35mNone\u001b[0m  \n",
       "\u001b[1;36m2612\u001b[0m                \u001b[3;35mNone\u001b[0m  \n",
       "\n",
       "\u001b[1m[\u001b[0m\u001b[1;36m1514\u001b[0m rows x \u001b[1;36m39\u001b[0m columns\u001b[1m]\u001b[0m"
      ]
     },
     "metadata": {},
     "output_type": "display_data"
    }
   ],
   "source": [
    "relevant_categories = [\n",
    "    \"cost-and-financing\",\n",
    "    \"live-healthy-articles\",\n",
    "    \"diseases-and-conditions\",\n",
    "    \"medical-care-and-facilities\",\n",
    "    \"support-group-and-others\",\n",
    "]\n",
    "\n",
    "df_keep = df_keep[df_keep[\"content_category\"].isin(relevant_categories)]\n",
    "\n",
    "display(df_keep)  # noqa: F821"
   ]
  },
  {
   "cell_type": "code",
   "execution_count": 6,
   "id": "6c677c30",
   "metadata": {
    "ExecuteTime": {
     "end_time": "2024-08-19T09:32:21.964071Z",
     "start_time": "2024-08-19T09:32:21.950417Z"
    }
   },
   "outputs": [
    {
     "data": {
      "text/html": [
       "<pre style=\"white-space:pre;overflow-x:auto;line-height:normal;font-family:Menlo,'DejaVu Sans Mono',consolas,'Courier New',monospace\"></pre>\n"
      ],
      "text/plain": []
     },
     "metadata": {},
     "output_type": "display_data"
    },
    {
     "data": {
      "text/html": [
       "<div>\n",
       "<style scoped>\n",
       "    .dataframe tbody tr th:only-of-type {\n",
       "        vertical-align: middle;\n",
       "    }\n",
       "\n",
       "    .dataframe tbody tr th {\n",
       "        vertical-align: top;\n",
       "    }\n",
       "\n",
       "    .dataframe thead th {\n",
       "        text-align: right;\n",
       "    }\n",
       "</style>\n",
       "<table border=\"1\" class=\"dataframe\">\n",
       "  <thead>\n",
       "    <tr style=\"text-align: right;\">\n",
       "      <th></th>\n",
       "      <th>id</th>\n",
       "      <th>content_name</th>\n",
       "      <th>title</th>\n",
       "      <th>article_category_names</th>\n",
       "      <th>full_url</th>\n",
       "      <th>friendly_url</th>\n",
       "      <th>category_description</th>\n",
       "      <th>content_category</th>\n",
       "      <th>content_body</th>\n",
       "      <th>pr_name</th>\n",
       "      <th>extracted_content_body</th>\n",
       "    </tr>\n",
       "  </thead>\n",
       "  <tbody>\n",
       "    <tr>\n",
       "      <th>0</th>\n",
       "      <td>1435040</td>\n",
       "      <td>Breast Screening Subsidies in Singapore</td>\n",
       "      <td>Breast Screening Subsidies in Singapore</td>\n",
       "      <td>Conditions and Illnesses,</td>\n",
       "      <td>https://www.healthhub.sg/a-z/costs-and-financi...</td>\n",
       "      <td>breast-cancer-screening-subsidies</td>\n",
       "      <td>Here’s all you need to know about breast cance...</td>\n",
       "      <td>cost-and-financing</td>\n",
       "      <td>b'&lt;div class=\"ExternalClass07C58E0D957B4AA7B14...</td>\n",
       "      <td>Health Promotion Board</td>\n",
       "      <td>Breast cancer is the number one cancer among w...</td>\n",
       "    </tr>\n",
       "    <tr>\n",
       "      <th>1</th>\n",
       "      <td>1435071</td>\n",
       "      <td>Marriage and Parenthood Schemes</td>\n",
       "      <td>Marriage and Parenthood Schemes</td>\n",
       "      <td>Body Care,</td>\n",
       "      <td>https://www.healthhub.sg/a-z/costs-and-financi...</td>\n",
       "      <td>marriage_parenthood_scheme</td>\n",
       "      <td>New parents and couples looking to conceive ca...</td>\n",
       "      <td>cost-and-financing</td>\n",
       "      <td>b'&lt;div class=\"ExternalClassE1D82270F17241E4955...</td>\n",
       "      <td>Ministry of Health</td>\n",
       "      <td>MediSave Maternity Package\\nWith the MediSave ...</td>\n",
       "    </tr>\n",
       "    <tr>\n",
       "      <th>2</th>\n",
       "      <td>1434993</td>\n",
       "      <td>MediSave</td>\n",
       "      <td>MediSave</td>\n",
       "      <td>Alerts and Advisories,</td>\n",
       "      <td>https://www.healthhub.sg/a-z/costs-and-financi...</td>\n",
       "      <td>medisave</td>\n",
       "      <td>MediSave is the national medical savings schem...</td>\n",
       "      <td>cost-and-financing</td>\n",
       "      <td>b'&lt;div class=\"ExternalClass67AD25F1F8B64B349E5...</td>\n",
       "      <td>Ministry of Health</td>\n",
       "      <td>What is MediSave?\\nMediSave, introduced in Apr...</td>\n",
       "    </tr>\n",
       "    <tr>\n",
       "      <th>3</th>\n",
       "      <td>1435031</td>\n",
       "      <td>Hospital Bills Financial Assistance in Singapore</td>\n",
       "      <td>Hospital Bills Financial Assistance in Singapore</td>\n",
       "      <td>Body Care,</td>\n",
       "      <td>https://www.healthhub.sg/a-z/costs-and-financi...</td>\n",
       "      <td>financial-assistance-for-local-patients-in-sin...</td>\n",
       "      <td>Having trouble paying your medical bill? Here’...</td>\n",
       "      <td>cost-and-financing</td>\n",
       "      <td>b'&lt;div class=\"ExternalClassE335708125E743FDAA3...</td>\n",
       "      <td>Khoo Teck Puat Hospital</td>\n",
       "      <td>Patients or family members who have difficulty...</td>\n",
       "    </tr>\n",
       "    <tr>\n",
       "      <th>4</th>\n",
       "      <td>1435043</td>\n",
       "      <td>Community Health Assist Scheme (CHAS) Singapore</td>\n",
       "      <td>Community Health Assist Scheme (CHAS) Singapore</td>\n",
       "      <td>Alerts and Advisories,</td>\n",
       "      <td>https://www.healthhub.sg/a-z/costs-and-financi...</td>\n",
       "      <td>chas</td>\n",
       "      <td>With a CHAS card, all Singapore citizens can r...</td>\n",
       "      <td>cost-and-financing</td>\n",
       "      <td>b'&lt;h2&gt;What is the Community Health Assist Sche...</td>\n",
       "      <td>CHAS</td>\n",
       "      <td>What is the Community Health Assist Scheme (CH...</td>\n",
       "    </tr>\n",
       "    <tr>\n",
       "      <th>...</th>\n",
       "      <td>...</td>\n",
       "      <td>...</td>\n",
       "      <td>...</td>\n",
       "      <td>...</td>\n",
       "      <td>...</td>\n",
       "      <td>...</td>\n",
       "      <td>...</td>\n",
       "      <td>...</td>\n",
       "      <td>...</td>\n",
       "      <td>...</td>\n",
       "      <td>...</td>\n",
       "    </tr>\n",
       "    <tr>\n",
       "      <th>2607</th>\n",
       "      <td>1440774</td>\n",
       "      <td>Breast Cancer Support Groups</td>\n",
       "      <td>Breast Cancer Support Groups</td>\n",
       "      <td>Conditions and Illnesses,</td>\n",
       "      <td>https://www.healthhub.sg/a-z/support-groups-an...</td>\n",
       "      <td>Breast-cancer-support-group-singapore</td>\n",
       "      <td>Learn how breast cancer support groups help br...</td>\n",
       "      <td>support-group-and-others</td>\n",
       "      <td>b'&lt;div class=\"ExternalClassE9019B25CD2A40F3948...</td>\n",
       "      <td>National University Cancer Institute, Singapore</td>\n",
       "      <td>NCIS Breast Support Group provides knowledge, ...</td>\n",
       "    </tr>\n",
       "    <tr>\n",
       "      <th>2608</th>\n",
       "      <td>1440763</td>\n",
       "      <td>Heart Failure Transitional Care Programme</td>\n",
       "      <td>Heart Failure Transitional Care Programme</td>\n",
       "      <td>Conditions and Illnesses,</td>\n",
       "      <td>https://www.healthhub.sg/a-z/support-groups-an...</td>\n",
       "      <td>transitional-care-programme-for-heart-failure</td>\n",
       "      <td>The team from NUHCS gives support to heart fai...</td>\n",
       "      <td>support-group-and-others</td>\n",
       "      <td>b'&lt;div class=\"ExternalClassFC126593610D4F0587A...</td>\n",
       "      <td>National University Heart Centre, Singapore</td>\n",
       "      <td>Heart failure is the leading cause of rehospit...</td>\n",
       "    </tr>\n",
       "    <tr>\n",
       "      <th>2609</th>\n",
       "      <td>1440791</td>\n",
       "      <td>Brain and Head Injury Support Groups</td>\n",
       "      <td>Brain and Head Injury Support Groups</td>\n",
       "      <td>Alerts and Advisories,</td>\n",
       "      <td>https://www.healthhub.sg/a-z/support-groups-an...</td>\n",
       "      <td>2015-NNI-support-group</td>\n",
       "      <td>Read on for a list of brain injury support gro...</td>\n",
       "      <td>support-group-and-others</td>\n",
       "      <td>b'&lt;div class=\"ExternalClass7C92735B78174928B28...</td>\n",
       "      <td>National Neuroscience Institute</td>\n",
       "      <td>Brain Tumour Society (Singapore)\\nThe Brain Tu...</td>\n",
       "    </tr>\n",
       "    <tr>\n",
       "      <th>2610</th>\n",
       "      <td>1440768</td>\n",
       "      <td>Ambulatory Nutrition Support</td>\n",
       "      <td>Ambulatory Nutrition Support</td>\n",
       "      <td>Conditions and Illnesses,</td>\n",
       "      <td>https://www.healthhub.sg/a-z/support-groups-an...</td>\n",
       "      <td>ambulatory-nutrition-support</td>\n",
       "      <td>Read about the ambulatory support benefits one...</td>\n",
       "      <td>support-group-and-others</td>\n",
       "      <td>b'&lt;div class=\"ExternalClass3FABAC9D59A64BCAB96...</td>\n",
       "      <td>National University Hospital</td>\n",
       "      <td>The Importance of Ambulatory Nutrition Support...</td>\n",
       "    </tr>\n",
       "    <tr>\n",
       "      <th>2612</th>\n",
       "      <td>1440762</td>\n",
       "      <td>Cardiac Rehabilitation Support Group</td>\n",
       "      <td>Cardiac Rehabilitation Support Group</td>\n",
       "      <td>Conditions and Illnesses,</td>\n",
       "      <td>https://www.healthhub.sg/a-z/support-groups-an...</td>\n",
       "      <td>cardiac-rehabilitation-support-group-local-exe...</td>\n",
       "      <td>Looking to improve your caregiving skills for ...</td>\n",
       "      <td>support-group-and-others</td>\n",
       "      <td>b'&lt;div class=\"ExternalClassD4367205B11F4638BFF...</td>\n",
       "      <td>National University Hospital</td>\n",
       "      <td>If you are caring for a loved one with cardiov...</td>\n",
       "    </tr>\n",
       "  </tbody>\n",
       "</table>\n",
       "<p>1514 rows × 11 columns</p>\n",
       "</div>"
      ],
      "text/plain": [
       "\n",
       "           id                                      content_name  \\\n",
       "\u001b[1;36m0\u001b[0m     \u001b[1;36m1435040\u001b[0m           Breast Screening Subsidies in Singapore   \n",
       "\u001b[1;36m1\u001b[0m     \u001b[1;36m1435071\u001b[0m                   Marriage and Parenthood Schemes   \n",
       "\u001b[1;36m2\u001b[0m     \u001b[1;36m1434993\u001b[0m                                          MediSave   \n",
       "\u001b[1;36m3\u001b[0m     \u001b[1;36m1435031\u001b[0m  Hospital Bills Financial Assistance in Singapore   \n",
       "\u001b[1;36m4\u001b[0m     \u001b[1;36m1435043\u001b[0m   Community Health Assist Scheme \u001b[1m(\u001b[0mCHAS\u001b[1m)\u001b[0m Singapore   \n",
       "\u001b[33m...\u001b[0m       \u001b[33m...\u001b[0m                                               \u001b[33m...\u001b[0m   \n",
       "\u001b[1;36m2607\u001b[0m  \u001b[1;36m1440774\u001b[0m                      Breast Cancer Support Groups   \n",
       "\u001b[1;36m2608\u001b[0m  \u001b[1;36m1440763\u001b[0m         Heart Failure Transitional Care Programme   \n",
       "\u001b[1;36m2609\u001b[0m  \u001b[1;36m1440791\u001b[0m              Brain and Head Injury Support Groups   \n",
       "\u001b[1;36m2610\u001b[0m  \u001b[1;36m1440768\u001b[0m                      Ambulatory Nutrition Support   \n",
       "\u001b[1;36m2612\u001b[0m  \u001b[1;36m1440762\u001b[0m              Cardiac Rehabilitation Support Group   \n",
       "\n",
       "                                                 title  \\\n",
       "\u001b[1;36m0\u001b[0m              Breast Screening Subsidies in Singapore   \n",
       "\u001b[1;36m1\u001b[0m                      Marriage and Parenthood Schemes   \n",
       "\u001b[1;36m2\u001b[0m                                             MediSave   \n",
       "\u001b[1;36m3\u001b[0m     Hospital Bills Financial Assistance in Singapore   \n",
       "\u001b[1;36m4\u001b[0m      Community Health Assist Scheme \u001b[1m(\u001b[0mCHAS\u001b[1m)\u001b[0m Singapore   \n",
       "\u001b[33m...\u001b[0m                                                \u001b[33m...\u001b[0m   \n",
       "\u001b[1;36m2607\u001b[0m                      Breast Cancer Support Groups   \n",
       "\u001b[1;36m2608\u001b[0m         Heart Failure Transitional Care Programme   \n",
       "\u001b[1;36m2609\u001b[0m              Brain and Head Injury Support Groups   \n",
       "\u001b[1;36m2610\u001b[0m                      Ambulatory Nutrition Support   \n",
       "\u001b[1;36m2612\u001b[0m              Cardiac Rehabilitation Support Group   \n",
       "\n",
       "         article_category_names  \\\n",
       "\u001b[1;36m0\u001b[0m     Conditions and Illnesses,   \n",
       "\u001b[1;36m1\u001b[0m                    Body Care,   \n",
       "\u001b[1;36m2\u001b[0m        Alerts and Advisories,   \n",
       "\u001b[1;36m3\u001b[0m                    Body Care,   \n",
       "\u001b[1;36m4\u001b[0m        Alerts and Advisories,   \n",
       "\u001b[33m...\u001b[0m                         \u001b[33m...\u001b[0m   \n",
       "\u001b[1;36m2607\u001b[0m  Conditions and Illnesses,   \n",
       "\u001b[1;36m2608\u001b[0m  Conditions and Illnesses,   \n",
       "\u001b[1;36m2609\u001b[0m     Alerts and Advisories,   \n",
       "\u001b[1;36m2610\u001b[0m  Conditions and Illnesses,   \n",
       "\u001b[1;36m2612\u001b[0m  Conditions and Illnesses,   \n",
       "\n",
       "                                               full_url  \\\n",
       "\u001b[1;36m0\u001b[0m     \u001b[4;94mhttps://www.healthhub.sg/a-z/costs-and-financi...\u001b[0m   \n",
       "\u001b[1;36m1\u001b[0m     \u001b[4;94mhttps://www.healthhub.sg/a-z/costs-and-financi...\u001b[0m   \n",
       "\u001b[1;36m2\u001b[0m     \u001b[4;94mhttps://www.healthhub.sg/a-z/costs-and-financi...\u001b[0m   \n",
       "\u001b[1;36m3\u001b[0m     \u001b[4;94mhttps://www.healthhub.sg/a-z/costs-and-financi...\u001b[0m   \n",
       "\u001b[1;36m4\u001b[0m     \u001b[4;94mhttps://www.healthhub.sg/a-z/costs-and-financi...\u001b[0m   \n",
       "\u001b[33m...\u001b[0m                                                 \u001b[33m...\u001b[0m   \n",
       "\u001b[1;36m2607\u001b[0m  \u001b[4;94mhttps://www.healthhub.sg/a-z/support-groups-an...\u001b[0m   \n",
       "\u001b[1;36m2608\u001b[0m  \u001b[4;94mhttps://www.healthhub.sg/a-z/support-groups-an...\u001b[0m   \n",
       "\u001b[1;36m2609\u001b[0m  \u001b[4;94mhttps://www.healthhub.sg/a-z/support-groups-an...\u001b[0m   \n",
       "\u001b[1;36m2610\u001b[0m  \u001b[4;94mhttps://www.healthhub.sg/a-z/support-groups-an...\u001b[0m   \n",
       "\u001b[1;36m2612\u001b[0m  \u001b[4;94mhttps://www.healthhub.sg/a-z/support-groups-an...\u001b[0m   \n",
       "\n",
       "                                           friendly_url  \\\n",
       "\u001b[1;36m0\u001b[0m                     breast-cancer-screening-subsidies   \n",
       "\u001b[1;36m1\u001b[0m                            marriage_parenthood_scheme   \n",
       "\u001b[1;36m2\u001b[0m                                              medisave   \n",
       "\u001b[1;36m3\u001b[0m     financial-assistance-for-local-patients-in-sin\u001b[33m...\u001b[0m   \n",
       "\u001b[1;36m4\u001b[0m                                                  chas   \n",
       "\u001b[33m...\u001b[0m                                                 \u001b[33m...\u001b[0m   \n",
       "\u001b[1;36m2607\u001b[0m              Breast-cancer-support-group-singapore   \n",
       "\u001b[1;36m2608\u001b[0m      transitional-care-programme-for-heart-failure   \n",
       "\u001b[1;36m2609\u001b[0m                             \u001b[1;36m2015\u001b[0m-NNI-support-group   \n",
       "\u001b[1;36m2610\u001b[0m                       ambulatory-nutrition-support   \n",
       "\u001b[1;36m2612\u001b[0m  cardiac-rehabilitation-support-group-local-exe\u001b[33m...\u001b[0m   \n",
       "\n",
       "                                   category_description  \\\n",
       "\u001b[1;36m0\u001b[0m     Here’s all you need to know about breast cance\u001b[33m...\u001b[0m   \n",
       "\u001b[1;36m1\u001b[0m     New parents and couples looking to conceive ca\u001b[33m...\u001b[0m   \n",
       "\u001b[1;36m2\u001b[0m     MediSave is the national medical savings schem\u001b[33m...\u001b[0m   \n",
       "\u001b[1;36m3\u001b[0m     Having trouble paying your medical bill? Here’\u001b[33m...\u001b[0m   \n",
       "\u001b[1;36m4\u001b[0m     With a CHAS card, all Singapore citizens can r\u001b[33m...\u001b[0m   \n",
       "\u001b[33m...\u001b[0m                                                 \u001b[33m...\u001b[0m   \n",
       "\u001b[1;36m2607\u001b[0m  Learn how breast cancer support groups help br\u001b[33m...\u001b[0m   \n",
       "\u001b[1;36m2608\u001b[0m  The team from NUHCS gives support to heart fai\u001b[33m...\u001b[0m   \n",
       "\u001b[1;36m2609\u001b[0m  Read on for a list of brain injury support gro\u001b[33m...\u001b[0m   \n",
       "\u001b[1;36m2610\u001b[0m  Read about the ambulatory support benefits one\u001b[33m...\u001b[0m   \n",
       "\u001b[1;36m2612\u001b[0m  Looking to improve your caregiving skills for \u001b[33m...\u001b[0m   \n",
       "\n",
       "              content_category  \\\n",
       "\u001b[1;36m0\u001b[0m           cost-and-financing   \n",
       "\u001b[1;36m1\u001b[0m           cost-and-financing   \n",
       "\u001b[1;36m2\u001b[0m           cost-and-financing   \n",
       "\u001b[1;36m3\u001b[0m           cost-and-financing   \n",
       "\u001b[1;36m4\u001b[0m           cost-and-financing   \n",
       "\u001b[33m...\u001b[0m                        \u001b[33m...\u001b[0m   \n",
       "\u001b[1;36m2607\u001b[0m  support-group-and-others   \n",
       "\u001b[1;36m2608\u001b[0m  support-group-and-others   \n",
       "\u001b[1;36m2609\u001b[0m  support-group-and-others   \n",
       "\u001b[1;36m2610\u001b[0m  support-group-and-others   \n",
       "\u001b[1;36m2612\u001b[0m  support-group-and-others   \n",
       "\n",
       "                                           content_body  \\\n",
       "\u001b[1;36m0\u001b[0m     b'\u001b[1m<\u001b[0m\u001b[1;95mdiv\u001b[0m\u001b[39m \u001b[0m\u001b[33mclass\u001b[0m\u001b[39m=\u001b[0m\u001b[35m\"ExternalClass07C58E0D957B4AA7B14\u001b[0m\u001b[33m...\u001b[0m\u001b[39m   \u001b[0m\n",
       "\u001b[1;36m1\u001b[0m\u001b[39m     b'<div \u001b[0m\u001b[33mclass\u001b[0m\u001b[39m=\u001b[0m\u001b[35m\"ExternalClassE1D82270F17241E4955\u001b[0m\u001b[33m...\u001b[0m\u001b[39m   \u001b[0m\n",
       "\u001b[1;36m2\u001b[0m\u001b[39m     b'<div \u001b[0m\u001b[33mclass\u001b[0m\u001b[39m=\u001b[0m\u001b[35m\"ExternalClass67AD25F1F8B64B349E5\u001b[0m\u001b[33m...\u001b[0m\u001b[39m   \u001b[0m\n",
       "\u001b[1;36m3\u001b[0m\u001b[39m     b'<div \u001b[0m\u001b[33mclass\u001b[0m\u001b[39m=\u001b[0m\u001b[35m\"ExternalClassE335708125E743FDAA3\u001b[0m\u001b[33m...\u001b[0m\u001b[39m   \u001b[0m\n",
       "\u001b[1;36m4\u001b[0m\u001b[39m     b'<h2\u001b[0m\u001b[1m>\u001b[0mWhat is the Community Health Assist Sche\u001b[33m...\u001b[0m   \n",
       "\u001b[33m...\u001b[0m                                                 \u001b[33m...\u001b[0m   \n",
       "\u001b[1;36m2607\u001b[0m  b'<div \u001b[33mclass\u001b[0m=\u001b[35m\"ExternalClassE9019B25CD2A40F3948\u001b[0m\u001b[33m...\u001b[0m   \n",
       "\u001b[1;36m2608\u001b[0m  b'<div \u001b[33mclass\u001b[0m=\u001b[35m\"ExternalClassFC126593610D4F0587A\u001b[0m\u001b[33m...\u001b[0m   \n",
       "\u001b[1;36m2609\u001b[0m  b'<div \u001b[33mclass\u001b[0m=\u001b[35m\"ExternalClass7C92735B78174928B28\u001b[0m\u001b[33m...\u001b[0m   \n",
       "\u001b[1;36m2610\u001b[0m  b'<div \u001b[33mclass\u001b[0m=\u001b[35m\"ExternalClass3FABAC9D59A64BCAB96\u001b[0m\u001b[33m...\u001b[0m   \n",
       "\u001b[1;36m2612\u001b[0m  b'<div \u001b[33mclass\u001b[0m=\u001b[35m\"ExternalClassD4367205B11F4638BFF\u001b[0m\u001b[33m...\u001b[0m   \n",
       "\n",
       "                                              pr_name  \\\n",
       "\u001b[1;36m0\u001b[0m                              Health Promotion Board   \n",
       "\u001b[1;36m1\u001b[0m                                  Ministry of Health   \n",
       "\u001b[1;36m2\u001b[0m                                  Ministry of Health   \n",
       "\u001b[1;36m3\u001b[0m                             Khoo Teck Puat Hospital   \n",
       "\u001b[1;36m4\u001b[0m                                                CHAS   \n",
       "\u001b[33m...\u001b[0m                                               \u001b[33m...\u001b[0m   \n",
       "\u001b[1;36m2607\u001b[0m  National University Cancer Institute, Singapore   \n",
       "\u001b[1;36m2608\u001b[0m      National University Heart Centre, Singapore   \n",
       "\u001b[1;36m2609\u001b[0m                  National Neuroscience Institute   \n",
       "\u001b[1;36m2610\u001b[0m                     National University Hospital   \n",
       "\u001b[1;36m2612\u001b[0m                     National University Hospital   \n",
       "\n",
       "                                 extracted_content_body  \n",
       "\u001b[1;36m0\u001b[0m     Breast cancer is the number one cancer among w\u001b[33m...\u001b[0m  \n",
       "\u001b[1;36m1\u001b[0m     MediSave Maternity Package\\nWith the MediSave \u001b[33m...\u001b[0m  \n",
       "\u001b[1;36m2\u001b[0m     What is MediSave?\\nMediSave, introduced in Apr\u001b[33m...\u001b[0m  \n",
       "\u001b[1;36m3\u001b[0m     Patients or family members who have difficulty\u001b[33m...\u001b[0m  \n",
       "\u001b[1;36m4\u001b[0m     What is the Community Health Assist Scheme \u001b[1m(\u001b[0mCH\u001b[33m...\u001b[0m  \n",
       "\u001b[33m...\u001b[0m                                                 \u001b[33m...\u001b[0m  \n",
       "\u001b[1;36m2607\u001b[0m  NCIS Breast Support Group provides knowledge, \u001b[33m...\u001b[0m  \n",
       "\u001b[1;36m2608\u001b[0m  Heart failure is the leading cause of rehospit\u001b[33m...\u001b[0m  \n",
       "\u001b[1;36m2609\u001b[0m  Brain Tumour Society \u001b[1m(\u001b[0mSingapore\u001b[1m)\u001b[0m\\nThe Brain Tu\u001b[33m...\u001b[0m  \n",
       "\u001b[1;36m2610\u001b[0m  The Importance of Ambulatory Nutrition Support\u001b[33m...\u001b[0m  \n",
       "\u001b[1;36m2612\u001b[0m  If you are caring for a loved one with cardiov\u001b[33m...\u001b[0m  \n",
       "\n",
       "\u001b[1m[\u001b[0m\u001b[1;36m1514\u001b[0m rows x \u001b[1;36m11\u001b[0m columns\u001b[1m]\u001b[0m"
      ]
     },
     "metadata": {},
     "output_type": "display_data"
    }
   ],
   "source": [
    "df_extracted = df_keep[\n",
    "    [\n",
    "        \"id\",\n",
    "        \"content_name\",\n",
    "        \"title\",\n",
    "        \"article_category_names\",\n",
    "        \"full_url\",\n",
    "        \"friendly_url\",\n",
    "        \"category_description\",\n",
    "        \"content_category\",\n",
    "        \"content_body\",\n",
    "        \"pr_name\",\n",
    "        # \"has_table\",\n",
    "        # \"has_image\",\n",
    "        # \"related_sections\",\n",
    "        # \"extracted_tables\",\n",
    "        # \"extracted_links\",\n",
    "        # \"extracted_headers\",\n",
    "        # \"extracted_img_alt_text\",\n",
    "        \"extracted_content_body\",\n",
    "    ]\n",
    "]\n",
    "\n",
    "display(df_extracted)  # noqa: F821"
   ]
  },
  {
   "cell_type": "code",
   "execution_count": 7,
   "id": "ee740229",
   "metadata": {
    "ExecuteTime": {
     "end_time": "2024-08-19T09:32:22.040866Z",
     "start_time": "2024-08-19T09:32:22.037324Z"
    }
   },
   "outputs": [],
   "source": [
    "def hemmingway_score(text: str) -> dict[str, Union[str, int]]:\n",
    "    \"\"\"\n",
    "    Calculates the hemmingway score of the given text.\n",
    "\n",
    "    Args:\n",
    "        text (str): The text to be scored.\n",
    "\n",
    "    Returns:\n",
    "        tuple(int, str): Returns a tuple containing the hemmingway score and difficulty of the text\n",
    "    \"\"\"\n",
    "    sentences = []\n",
    "    words = []\n",
    "\n",
    "    # Compile regex to detect punctuations\n",
    "    regex = re.compile(\"[%s]\" % re.escape(string.punctuation))\n",
    "\n",
    "    # Remove all hyperlinks\n",
    "    filtered_text = re.sub(r\"https?:\\/\\/[^\\s]+\", \"\", text)\n",
    "\n",
    "    # Split the extracted text by the newline delimiter\n",
    "    lines = filtered_text.split(\"\\n\")\n",
    "    # Track the sentences in the text\n",
    "    for line in lines:\n",
    "        partial_sentences = re.split(r\"[.!?]\", line)\n",
    "        for sentence in partial_sentences:\n",
    "            sentences.append(sentence.strip())\n",
    "\n",
    "    # Track the words in the text\n",
    "    for sentence in sentences:\n",
    "        sentence_words = sentence.split(\" \")\n",
    "        for word in sentence_words:\n",
    "            word = regex.sub(\"\", word.strip())\n",
    "            words.append(word)\n",
    "\n",
    "    # Filter for empty strings\n",
    "    filtered_sentences = list(filter(lambda x: len(x) > 0, sentences))\n",
    "    filtered_words = list(filter(lambda x: len(x) > 0, words))\n",
    "\n",
    "    # Count the number of sentences, words and letters\n",
    "    num_sentences = len(filtered_sentences)\n",
    "    num_words = len(filtered_words)\n",
    "    num_letters = reduce(lambda x, y: x + y, map(len, words))\n",
    "\n",
    "    # Calculate the Hemmingway Score\n",
    "    score = math.ceil(\n",
    "        4.71 * (num_letters / num_words) + 0.5 * (num_words / num_sentences) - 21.43\n",
    "    )\n",
    "\n",
    "    # Get the reading level of the text based on the calculated score\n",
    "    if score < 10:\n",
    "        level = \"normal\"\n",
    "    elif 10 <= score < 14:\n",
    "        level = \"hard\"\n",
    "    else:\n",
    "        level = \"very hard\"\n",
    "\n",
    "    return {\"score\": score, \"level\": level}"
   ]
  },
  {
   "cell_type": "code",
   "execution_count": 8,
   "id": "ebec2bf5",
   "metadata": {
    "ExecuteTime": {
     "end_time": "2024-08-19T09:32:22.983069Z",
     "start_time": "2024-08-19T09:32:22.114284Z"
    }
   },
   "outputs": [
    {
     "data": {
      "text/html": [
       "<pre style=\"white-space:pre;overflow-x:auto;line-height:normal;font-family:Menlo,'DejaVu Sans Mono',consolas,'Courier New',monospace\"><span style=\"color: #7fbfbf; text-decoration-color: #7fbfbf\">[08/19/24 17:32:22] </span><span style=\"color: #800000; text-decoration-color: #800000\">WARNING </span> <span style=\"color: #800080; text-decoration-color: #800080\">/var/folders/3n/y5_h0fxs0bv2mhb7bf_fpmb80000gn/T/ipykernel_94969/</span><span style=\"color: #ff00ff; text-decoration-color: #ff00ff\">21795</span> <a href=\"file:///opt/homebrew/Cellar/python@3.11/3.11.9_1/Frameworks/Python.framework/Versions/3.11/lib/python3.11/warnings.py\" target=\"_blank\"><span style=\"color: #7f7f7f; text-decoration-color: #7f7f7f\">warnings.py</span></a><span style=\"color: #7f7f7f; text-decoration-color: #7f7f7f\">:</span><a href=\"file:///opt/homebrew/Cellar/python@3.11/3.11.9_1/Frameworks/Python.framework/Versions/3.11/lib/python3.11/warnings.py#110\" target=\"_blank\"><span style=\"color: #7f7f7f; text-decoration-color: #7f7f7f\">110</span></a>\n",
       "<span style=\"color: #7fbfbf; text-decoration-color: #7fbfbf\">                    </span>         <span style=\"color: #ff00ff; text-decoration-color: #ff00ff\">42455.py</span>:<span style=\"color: #008080; text-decoration-color: #008080; font-weight: bold\">44</span>: SettingWithCopyWarning:                                   <span style=\"color: #7f7f7f; text-decoration-color: #7f7f7f\">               </span>\n",
       "<span style=\"color: #7fbfbf; text-decoration-color: #7fbfbf\">                    </span>         A value is trying to be set on a copy of a slice from a DataFrame.     <span style=\"color: #7f7f7f; text-decoration-color: #7f7f7f\">               </span>\n",
       "<span style=\"color: #7fbfbf; text-decoration-color: #7fbfbf\">                    </span>         Try using .loc<span style=\"font-weight: bold\">[</span>row_indexer,col_indexer<span style=\"font-weight: bold\">]</span> = value instead                <span style=\"color: #7f7f7f; text-decoration-color: #7f7f7f\">               </span>\n",
       "<span style=\"color: #7fbfbf; text-decoration-color: #7fbfbf\">                    </span>                                                                                <span style=\"color: #7f7f7f; text-decoration-color: #7f7f7f\">               </span>\n",
       "<span style=\"color: #7fbfbf; text-decoration-color: #7fbfbf\">                    </span>         See the caveats in the documentation:                                  <span style=\"color: #7f7f7f; text-decoration-color: #7f7f7f\">               </span>\n",
       "<span style=\"color: #7fbfbf; text-decoration-color: #7fbfbf\">                    </span>         <span style=\"color: #0000ff; text-decoration-color: #0000ff; text-decoration: underline\">https://pandas.pydata.org/pandas-docs/stable/user_guide/indexing.html#</span> <span style=\"color: #7f7f7f; text-decoration-color: #7f7f7f\">               </span>\n",
       "<span style=\"color: #7fbfbf; text-decoration-color: #7fbfbf\">                    </span>         <span style=\"color: #0000ff; text-decoration-color: #0000ff; text-decoration: underline\">returning-a-view-versus-a-copy</span>                                         <span style=\"color: #7f7f7f; text-decoration-color: #7f7f7f\">               </span>\n",
       "<span style=\"color: #7fbfbf; text-decoration-color: #7fbfbf\">                    </span>           df_extracted<span style=\"font-weight: bold\">[</span><span style=\"color: #008000; text-decoration-color: #008000\">\"readability_score\"</span><span style=\"font-weight: bold\">]</span> =                                  <span style=\"color: #7f7f7f; text-decoration-color: #7f7f7f\">               </span>\n",
       "<span style=\"color: #7fbfbf; text-decoration-color: #7fbfbf\">                    </span>         df_extracted<span style=\"font-weight: bold\">[</span><span style=\"color: #008000; text-decoration-color: #008000\">\"extracted_content_body\"</span><span style=\"font-weight: bold\">]</span><span style=\"color: #800080; text-decoration-color: #800080; font-weight: bold\">.apply</span><span style=\"font-weight: bold\">(</span>                          <span style=\"color: #7f7f7f; text-decoration-color: #7f7f7f\">               </span>\n",
       "<span style=\"color: #7fbfbf; text-decoration-color: #7fbfbf\">                    </span>                                                                                <span style=\"color: #7f7f7f; text-decoration-color: #7f7f7f\">               </span>\n",
       "</pre>\n"
      ],
      "text/plain": [
       "\u001b[2;36m[08/19/24 17:32:22]\u001b[0m\u001b[2;36m \u001b[0m\u001b[31mWARNING \u001b[0m \u001b[35m/var/folders/3n/y5_h0fxs0bv2mhb7bf_fpmb80000gn/T/ipykernel_94969/\u001b[0m\u001b[95m21795\u001b[0m \u001b]8;id=815742;file:///opt/homebrew/Cellar/python@3.11/3.11.9_1/Frameworks/Python.framework/Versions/3.11/lib/python3.11/warnings.py\u001b\\\u001b[2mwarnings.py\u001b[0m\u001b]8;;\u001b\\\u001b[2m:\u001b[0m\u001b]8;id=657594;file:///opt/homebrew/Cellar/python@3.11/3.11.9_1/Frameworks/Python.framework/Versions/3.11/lib/python3.11/warnings.py#110\u001b\\\u001b[2m110\u001b[0m\u001b]8;;\u001b\\\n",
       "\u001b[2;36m                    \u001b[0m         \u001b[95m42455.py\u001b[0m:\u001b[1;36m44\u001b[0m: SettingWithCopyWarning:                                   \u001b[2m               \u001b[0m\n",
       "\u001b[2;36m                    \u001b[0m         A value is trying to be set on a copy of a slice from a DataFrame.     \u001b[2m               \u001b[0m\n",
       "\u001b[2;36m                    \u001b[0m         Try using .loc\u001b[1m[\u001b[0mrow_indexer,col_indexer\u001b[1m]\u001b[0m = value instead                \u001b[2m               \u001b[0m\n",
       "\u001b[2;36m                    \u001b[0m                                                                                \u001b[2m               \u001b[0m\n",
       "\u001b[2;36m                    \u001b[0m         See the caveats in the documentation:                                  \u001b[2m               \u001b[0m\n",
       "\u001b[2;36m                    \u001b[0m         \u001b[4;94mhttps://pandas.pydata.org/pandas-docs/stable/user_guide/indexing.html#\u001b[0m \u001b[2m               \u001b[0m\n",
       "\u001b[2;36m                    \u001b[0m         \u001b[4;94mreturning-a-view-versus-a-copy\u001b[0m                                         \u001b[2m               \u001b[0m\n",
       "\u001b[2;36m                    \u001b[0m           df_extracted\u001b[1m[\u001b[0m\u001b[32m\"readability_score\"\u001b[0m\u001b[1m]\u001b[0m =                                  \u001b[2m               \u001b[0m\n",
       "\u001b[2;36m                    \u001b[0m         df_extracted\u001b[1m[\u001b[0m\u001b[32m\"extracted_content_body\"\u001b[0m\u001b[1m]\u001b[0m\u001b[1;35m.apply\u001b[0m\u001b[1m(\u001b[0m                          \u001b[2m               \u001b[0m\n",
       "\u001b[2;36m                    \u001b[0m                                                                                \u001b[2m               \u001b[0m\n"
      ]
     },
     "metadata": {},
     "output_type": "display_data"
    },
    {
     "data": {
      "text/html": [
       "<pre style=\"white-space:pre;overflow-x:auto;line-height:normal;font-family:Menlo,'DejaVu Sans Mono',consolas,'Courier New',monospace\"><span style=\"color: #7fbfbf; text-decoration-color: #7fbfbf\">                    </span><span style=\"color: #800000; text-decoration-color: #800000\">WARNING </span> <span style=\"color: #800080; text-decoration-color: #800080\">/var/folders/3n/y5_h0fxs0bv2mhb7bf_fpmb80000gn/T/ipykernel_94969/</span><span style=\"color: #ff00ff; text-decoration-color: #ff00ff\">21795</span> <a href=\"file:///opt/homebrew/Cellar/python@3.11/3.11.9_1/Frameworks/Python.framework/Versions/3.11/lib/python3.11/warnings.py\" target=\"_blank\"><span style=\"color: #7f7f7f; text-decoration-color: #7f7f7f\">warnings.py</span></a><span style=\"color: #7f7f7f; text-decoration-color: #7f7f7f\">:</span><a href=\"file:///opt/homebrew/Cellar/python@3.11/3.11.9_1/Frameworks/Python.framework/Versions/3.11/lib/python3.11/warnings.py#110\" target=\"_blank\"><span style=\"color: #7f7f7f; text-decoration-color: #7f7f7f\">110</span></a>\n",
       "<span style=\"color: #7fbfbf; text-decoration-color: #7fbfbf\">                    </span>         <span style=\"color: #ff00ff; text-decoration-color: #ff00ff\">42455.py</span>:<span style=\"color: #008080; text-decoration-color: #008080; font-weight: bold\">47</span>: SettingWithCopyWarning:                                   <span style=\"color: #7f7f7f; text-decoration-color: #7f7f7f\">               </span>\n",
       "<span style=\"color: #7fbfbf; text-decoration-color: #7fbfbf\">                    </span>         A value is trying to be set on a copy of a slice from a DataFrame.     <span style=\"color: #7f7f7f; text-decoration-color: #7f7f7f\">               </span>\n",
       "<span style=\"color: #7fbfbf; text-decoration-color: #7fbfbf\">                    </span>         Try using .loc<span style=\"font-weight: bold\">[</span>row_indexer,col_indexer<span style=\"font-weight: bold\">]</span> = value instead                <span style=\"color: #7f7f7f; text-decoration-color: #7f7f7f\">               </span>\n",
       "<span style=\"color: #7fbfbf; text-decoration-color: #7fbfbf\">                    </span>                                                                                <span style=\"color: #7f7f7f; text-decoration-color: #7f7f7f\">               </span>\n",
       "<span style=\"color: #7fbfbf; text-decoration-color: #7fbfbf\">                    </span>         See the caveats in the documentation:                                  <span style=\"color: #7f7f7f; text-decoration-color: #7f7f7f\">               </span>\n",
       "<span style=\"color: #7fbfbf; text-decoration-color: #7fbfbf\">                    </span>         <span style=\"color: #0000ff; text-decoration-color: #0000ff; text-decoration: underline\">https://pandas.pydata.org/pandas-docs/stable/user_guide/indexing.html#</span> <span style=\"color: #7f7f7f; text-decoration-color: #7f7f7f\">               </span>\n",
       "<span style=\"color: #7fbfbf; text-decoration-color: #7fbfbf\">                    </span>         <span style=\"color: #0000ff; text-decoration-color: #0000ff; text-decoration: underline\">returning-a-view-versus-a-copy</span>                                         <span style=\"color: #7f7f7f; text-decoration-color: #7f7f7f\">               </span>\n",
       "<span style=\"color: #7fbfbf; text-decoration-color: #7fbfbf\">                    </span>           df_extracted<span style=\"font-weight: bold\">[</span><span style=\"color: #008000; text-decoration-color: #008000\">\"reading_level\"</span><span style=\"font-weight: bold\">]</span> =                                      <span style=\"color: #7f7f7f; text-decoration-color: #7f7f7f\">               </span>\n",
       "<span style=\"color: #7fbfbf; text-decoration-color: #7fbfbf\">                    </span>         df_extracted<span style=\"font-weight: bold\">[</span><span style=\"color: #008000; text-decoration-color: #008000\">\"extracted_content_body\"</span><span style=\"font-weight: bold\">]</span><span style=\"color: #800080; text-decoration-color: #800080; font-weight: bold\">.apply</span><span style=\"font-weight: bold\">(</span>                          <span style=\"color: #7f7f7f; text-decoration-color: #7f7f7f\">               </span>\n",
       "<span style=\"color: #7fbfbf; text-decoration-color: #7fbfbf\">                    </span>                                                                                <span style=\"color: #7f7f7f; text-decoration-color: #7f7f7f\">               </span>\n",
       "</pre>\n"
      ],
      "text/plain": [
       "\u001b[2;36m                   \u001b[0m\u001b[2;36m \u001b[0m\u001b[31mWARNING \u001b[0m \u001b[35m/var/folders/3n/y5_h0fxs0bv2mhb7bf_fpmb80000gn/T/ipykernel_94969/\u001b[0m\u001b[95m21795\u001b[0m \u001b]8;id=226689;file:///opt/homebrew/Cellar/python@3.11/3.11.9_1/Frameworks/Python.framework/Versions/3.11/lib/python3.11/warnings.py\u001b\\\u001b[2mwarnings.py\u001b[0m\u001b]8;;\u001b\\\u001b[2m:\u001b[0m\u001b]8;id=989263;file:///opt/homebrew/Cellar/python@3.11/3.11.9_1/Frameworks/Python.framework/Versions/3.11/lib/python3.11/warnings.py#110\u001b\\\u001b[2m110\u001b[0m\u001b]8;;\u001b\\\n",
       "\u001b[2;36m                    \u001b[0m         \u001b[95m42455.py\u001b[0m:\u001b[1;36m47\u001b[0m: SettingWithCopyWarning:                                   \u001b[2m               \u001b[0m\n",
       "\u001b[2;36m                    \u001b[0m         A value is trying to be set on a copy of a slice from a DataFrame.     \u001b[2m               \u001b[0m\n",
       "\u001b[2;36m                    \u001b[0m         Try using .loc\u001b[1m[\u001b[0mrow_indexer,col_indexer\u001b[1m]\u001b[0m = value instead                \u001b[2m               \u001b[0m\n",
       "\u001b[2;36m                    \u001b[0m                                                                                \u001b[2m               \u001b[0m\n",
       "\u001b[2;36m                    \u001b[0m         See the caveats in the documentation:                                  \u001b[2m               \u001b[0m\n",
       "\u001b[2;36m                    \u001b[0m         \u001b[4;94mhttps://pandas.pydata.org/pandas-docs/stable/user_guide/indexing.html#\u001b[0m \u001b[2m               \u001b[0m\n",
       "\u001b[2;36m                    \u001b[0m         \u001b[4;94mreturning-a-view-versus-a-copy\u001b[0m                                         \u001b[2m               \u001b[0m\n",
       "\u001b[2;36m                    \u001b[0m           df_extracted\u001b[1m[\u001b[0m\u001b[32m\"reading_level\"\u001b[0m\u001b[1m]\u001b[0m =                                      \u001b[2m               \u001b[0m\n",
       "\u001b[2;36m                    \u001b[0m         df_extracted\u001b[1m[\u001b[0m\u001b[32m\"extracted_content_body\"\u001b[0m\u001b[1m]\u001b[0m\u001b[1;35m.apply\u001b[0m\u001b[1m(\u001b[0m                          \u001b[2m               \u001b[0m\n",
       "\u001b[2;36m                    \u001b[0m                                                                                \u001b[2m               \u001b[0m\n"
      ]
     },
     "metadata": {},
     "output_type": "display_data"
    },
    {
     "data": {
      "text/html": [
       "<pre style=\"white-space:pre;overflow-x:auto;line-height:normal;font-family:Menlo,'DejaVu Sans Mono',consolas,'Courier New',monospace\"><span style=\"color: #7fbfbf; text-decoration-color: #7fbfbf\">                    </span><span style=\"color: #800000; text-decoration-color: #800000\">WARNING </span> <span style=\"color: #800080; text-decoration-color: #800080\">/var/folders/3n/y5_h0fxs0bv2mhb7bf_fpmb80000gn/T/ipykernel_94969/</span><span style=\"color: #ff00ff; text-decoration-color: #ff00ff\">21795</span> <a href=\"file:///opt/homebrew/Cellar/python@3.11/3.11.9_1/Frameworks/Python.framework/Versions/3.11/lib/python3.11/warnings.py\" target=\"_blank\"><span style=\"color: #7f7f7f; text-decoration-color: #7f7f7f\">warnings.py</span></a><span style=\"color: #7f7f7f; text-decoration-color: #7f7f7f\">:</span><a href=\"file:///opt/homebrew/Cellar/python@3.11/3.11.9_1/Frameworks/Python.framework/Versions/3.11/lib/python3.11/warnings.py#110\" target=\"_blank\"><span style=\"color: #7f7f7f; text-decoration-color: #7f7f7f\">110</span></a>\n",
       "<span style=\"color: #7fbfbf; text-decoration-color: #7fbfbf\">                    </span>         <span style=\"color: #ff00ff; text-decoration-color: #ff00ff\">42455.py</span>:<span style=\"color: #008080; text-decoration-color: #008080; font-weight: bold\">50</span>: SettingWithCopyWarning:                                   <span style=\"color: #7f7f7f; text-decoration-color: #7f7f7f\">               </span>\n",
       "<span style=\"color: #7fbfbf; text-decoration-color: #7fbfbf\">                    </span>         A value is trying to be set on a copy of a slice from a DataFrame.     <span style=\"color: #7f7f7f; text-decoration-color: #7f7f7f\">               </span>\n",
       "<span style=\"color: #7fbfbf; text-decoration-color: #7fbfbf\">                    </span>         Try using .loc<span style=\"font-weight: bold\">[</span>row_indexer,col_indexer<span style=\"font-weight: bold\">]</span> = value instead                <span style=\"color: #7f7f7f; text-decoration-color: #7f7f7f\">               </span>\n",
       "<span style=\"color: #7fbfbf; text-decoration-color: #7fbfbf\">                    </span>                                                                                <span style=\"color: #7f7f7f; text-decoration-color: #7f7f7f\">               </span>\n",
       "<span style=\"color: #7fbfbf; text-decoration-color: #7fbfbf\">                    </span>         See the caveats in the documentation:                                  <span style=\"color: #7f7f7f; text-decoration-color: #7f7f7f\">               </span>\n",
       "<span style=\"color: #7fbfbf; text-decoration-color: #7fbfbf\">                    </span>         <span style=\"color: #0000ff; text-decoration-color: #0000ff; text-decoration: underline\">https://pandas.pydata.org/pandas-docs/stable/user_guide/indexing.html#</span> <span style=\"color: #7f7f7f; text-decoration-color: #7f7f7f\">               </span>\n",
       "<span style=\"color: #7fbfbf; text-decoration-color: #7fbfbf\">                    </span>         <span style=\"color: #0000ff; text-decoration-color: #0000ff; text-decoration: underline\">returning-a-view-versus-a-copy</span>                                         <span style=\"color: #7f7f7f; text-decoration-color: #7f7f7f\">               </span>\n",
       "<span style=\"color: #7fbfbf; text-decoration-color: #7fbfbf\">                    </span>           df_extracted<span style=\"font-weight: bold\">[</span><span style=\"color: #008000; text-decoration-color: #008000\">\"word_count\"</span><span style=\"font-weight: bold\">]</span> =                                         <span style=\"color: #7f7f7f; text-decoration-color: #7f7f7f\">               </span>\n",
       "<span style=\"color: #7fbfbf; text-decoration-color: #7fbfbf\">                    </span>         df_extracted<span style=\"font-weight: bold\">[</span><span style=\"color: #008000; text-decoration-color: #008000\">\"extracted_content_body\"</span><span style=\"font-weight: bold\">]</span><span style=\"color: #800080; text-decoration-color: #800080; font-weight: bold\">.apply</span><span style=\"font-weight: bold\">(</span>                          <span style=\"color: #7f7f7f; text-decoration-color: #7f7f7f\">               </span>\n",
       "<span style=\"color: #7fbfbf; text-decoration-color: #7fbfbf\">                    </span>                                                                                <span style=\"color: #7f7f7f; text-decoration-color: #7f7f7f\">               </span>\n",
       "</pre>\n"
      ],
      "text/plain": [
       "\u001b[2;36m                   \u001b[0m\u001b[2;36m \u001b[0m\u001b[31mWARNING \u001b[0m \u001b[35m/var/folders/3n/y5_h0fxs0bv2mhb7bf_fpmb80000gn/T/ipykernel_94969/\u001b[0m\u001b[95m21795\u001b[0m \u001b]8;id=933312;file:///opt/homebrew/Cellar/python@3.11/3.11.9_1/Frameworks/Python.framework/Versions/3.11/lib/python3.11/warnings.py\u001b\\\u001b[2mwarnings.py\u001b[0m\u001b]8;;\u001b\\\u001b[2m:\u001b[0m\u001b]8;id=344646;file:///opt/homebrew/Cellar/python@3.11/3.11.9_1/Frameworks/Python.framework/Versions/3.11/lib/python3.11/warnings.py#110\u001b\\\u001b[2m110\u001b[0m\u001b]8;;\u001b\\\n",
       "\u001b[2;36m                    \u001b[0m         \u001b[95m42455.py\u001b[0m:\u001b[1;36m50\u001b[0m: SettingWithCopyWarning:                                   \u001b[2m               \u001b[0m\n",
       "\u001b[2;36m                    \u001b[0m         A value is trying to be set on a copy of a slice from a DataFrame.     \u001b[2m               \u001b[0m\n",
       "\u001b[2;36m                    \u001b[0m         Try using .loc\u001b[1m[\u001b[0mrow_indexer,col_indexer\u001b[1m]\u001b[0m = value instead                \u001b[2m               \u001b[0m\n",
       "\u001b[2;36m                    \u001b[0m                                                                                \u001b[2m               \u001b[0m\n",
       "\u001b[2;36m                    \u001b[0m         See the caveats in the documentation:                                  \u001b[2m               \u001b[0m\n",
       "\u001b[2;36m                    \u001b[0m         \u001b[4;94mhttps://pandas.pydata.org/pandas-docs/stable/user_guide/indexing.html#\u001b[0m \u001b[2m               \u001b[0m\n",
       "\u001b[2;36m                    \u001b[0m         \u001b[4;94mreturning-a-view-versus-a-copy\u001b[0m                                         \u001b[2m               \u001b[0m\n",
       "\u001b[2;36m                    \u001b[0m           df_extracted\u001b[1m[\u001b[0m\u001b[32m\"word_count\"\u001b[0m\u001b[1m]\u001b[0m =                                         \u001b[2m               \u001b[0m\n",
       "\u001b[2;36m                    \u001b[0m         df_extracted\u001b[1m[\u001b[0m\u001b[32m\"extracted_content_body\"\u001b[0m\u001b[1m]\u001b[0m\u001b[1;35m.apply\u001b[0m\u001b[1m(\u001b[0m                          \u001b[2m               \u001b[0m\n",
       "\u001b[2;36m                    \u001b[0m                                                                                \u001b[2m               \u001b[0m\n"
      ]
     },
     "metadata": {},
     "output_type": "display_data"
    },
    {
     "data": {
      "text/html": [
       "<pre style=\"white-space:pre;overflow-x:auto;line-height:normal;font-family:Menlo,'DejaVu Sans Mono',consolas,'Courier New',monospace\"></pre>\n"
      ],
      "text/plain": []
     },
     "metadata": {},
     "output_type": "display_data"
    },
    {
     "data": {
      "text/html": [
       "<div>\n",
       "<style scoped>\n",
       "    .dataframe tbody tr th:only-of-type {\n",
       "        vertical-align: middle;\n",
       "    }\n",
       "\n",
       "    .dataframe tbody tr th {\n",
       "        vertical-align: top;\n",
       "    }\n",
       "\n",
       "    .dataframe thead th {\n",
       "        text-align: right;\n",
       "    }\n",
       "</style>\n",
       "<table border=\"1\" class=\"dataframe\">\n",
       "  <thead>\n",
       "    <tr style=\"text-align: right;\">\n",
       "      <th></th>\n",
       "      <th>id</th>\n",
       "      <th>content_name</th>\n",
       "      <th>title</th>\n",
       "      <th>article_category_names</th>\n",
       "      <th>full_url</th>\n",
       "      <th>friendly_url</th>\n",
       "      <th>category_description</th>\n",
       "      <th>content_category</th>\n",
       "      <th>content_body</th>\n",
       "      <th>pr_name</th>\n",
       "      <th>extracted_content_body</th>\n",
       "      <th>readability_score</th>\n",
       "      <th>reading_level</th>\n",
       "      <th>word_count</th>\n",
       "    </tr>\n",
       "  </thead>\n",
       "  <tbody>\n",
       "    <tr>\n",
       "      <th>0</th>\n",
       "      <td>1435040</td>\n",
       "      <td>Breast Screening Subsidies in Singapore</td>\n",
       "      <td>Breast Screening Subsidies in Singapore</td>\n",
       "      <td>Conditions and Illnesses,</td>\n",
       "      <td>https://www.healthhub.sg/a-z/costs-and-financi...</td>\n",
       "      <td>breast-cancer-screening-subsidies</td>\n",
       "      <td>Here’s all you need to know about breast cance...</td>\n",
       "      <td>cost-and-financing</td>\n",
       "      <td>b'&lt;div class=\"ExternalClass07C58E0D957B4AA7B14...</td>\n",
       "      <td>Health Promotion Board</td>\n",
       "      <td>Breast cancer is the number one cancer among w...</td>\n",
       "      <td>9</td>\n",
       "      <td>normal</td>\n",
       "      <td>563</td>\n",
       "    </tr>\n",
       "    <tr>\n",
       "      <th>1</th>\n",
       "      <td>1435071</td>\n",
       "      <td>Marriage and Parenthood Schemes</td>\n",
       "      <td>Marriage and Parenthood Schemes</td>\n",
       "      <td>Body Care,</td>\n",
       "      <td>https://www.healthhub.sg/a-z/costs-and-financi...</td>\n",
       "      <td>marriage_parenthood_scheme</td>\n",
       "      <td>New parents and couples looking to conceive ca...</td>\n",
       "      <td>cost-and-financing</td>\n",
       "      <td>b'&lt;div class=\"ExternalClassE1D82270F17241E4955...</td>\n",
       "      <td>Ministry of Health</td>\n",
       "      <td>MediSave Maternity Package\\nWith the MediSave ...</td>\n",
       "      <td>11</td>\n",
       "      <td>hard</td>\n",
       "      <td>873</td>\n",
       "    </tr>\n",
       "    <tr>\n",
       "      <th>2</th>\n",
       "      <td>1434993</td>\n",
       "      <td>MediSave</td>\n",
       "      <td>MediSave</td>\n",
       "      <td>Alerts and Advisories,</td>\n",
       "      <td>https://www.healthhub.sg/a-z/costs-and-financi...</td>\n",
       "      <td>medisave</td>\n",
       "      <td>MediSave is the national medical savings schem...</td>\n",
       "      <td>cost-and-financing</td>\n",
       "      <td>b'&lt;div class=\"ExternalClass67AD25F1F8B64B349E5...</td>\n",
       "      <td>Ministry of Health</td>\n",
       "      <td>What is MediSave?\\nMediSave, introduced in Apr...</td>\n",
       "      <td>10</td>\n",
       "      <td>hard</td>\n",
       "      <td>366</td>\n",
       "    </tr>\n",
       "    <tr>\n",
       "      <th>3</th>\n",
       "      <td>1435031</td>\n",
       "      <td>Hospital Bills Financial Assistance in Singapore</td>\n",
       "      <td>Hospital Bills Financial Assistance in Singapore</td>\n",
       "      <td>Body Care,</td>\n",
       "      <td>https://www.healthhub.sg/a-z/costs-and-financi...</td>\n",
       "      <td>financial-assistance-for-local-patients-in-sin...</td>\n",
       "      <td>Having trouble paying your medical bill? Here’...</td>\n",
       "      <td>cost-and-financing</td>\n",
       "      <td>b'&lt;div class=\"ExternalClassE335708125E743FDAA3...</td>\n",
       "      <td>Khoo Teck Puat Hospital</td>\n",
       "      <td>Patients or family members who have difficulty...</td>\n",
       "      <td>14</td>\n",
       "      <td>very hard</td>\n",
       "      <td>324</td>\n",
       "    </tr>\n",
       "    <tr>\n",
       "      <th>4</th>\n",
       "      <td>1435043</td>\n",
       "      <td>Community Health Assist Scheme (CHAS) Singapore</td>\n",
       "      <td>Community Health Assist Scheme (CHAS) Singapore</td>\n",
       "      <td>Alerts and Advisories,</td>\n",
       "      <td>https://www.healthhub.sg/a-z/costs-and-financi...</td>\n",
       "      <td>chas</td>\n",
       "      <td>With a CHAS card, all Singapore citizens can r...</td>\n",
       "      <td>cost-and-financing</td>\n",
       "      <td>b'&lt;h2&gt;What is the Community Health Assist Sche...</td>\n",
       "      <td>CHAS</td>\n",
       "      <td>What is the Community Health Assist Scheme (CH...</td>\n",
       "      <td>9</td>\n",
       "      <td>normal</td>\n",
       "      <td>567</td>\n",
       "    </tr>\n",
       "    <tr>\n",
       "      <th>...</th>\n",
       "      <td>...</td>\n",
       "      <td>...</td>\n",
       "      <td>...</td>\n",
       "      <td>...</td>\n",
       "      <td>...</td>\n",
       "      <td>...</td>\n",
       "      <td>...</td>\n",
       "      <td>...</td>\n",
       "      <td>...</td>\n",
       "      <td>...</td>\n",
       "      <td>...</td>\n",
       "      <td>...</td>\n",
       "      <td>...</td>\n",
       "      <td>...</td>\n",
       "    </tr>\n",
       "    <tr>\n",
       "      <th>2607</th>\n",
       "      <td>1440774</td>\n",
       "      <td>Breast Cancer Support Groups</td>\n",
       "      <td>Breast Cancer Support Groups</td>\n",
       "      <td>Conditions and Illnesses,</td>\n",
       "      <td>https://www.healthhub.sg/a-z/support-groups-an...</td>\n",
       "      <td>Breast-cancer-support-group-singapore</td>\n",
       "      <td>Learn how breast cancer support groups help br...</td>\n",
       "      <td>support-group-and-others</td>\n",
       "      <td>b'&lt;div class=\"ExternalClassE9019B25CD2A40F3948...</td>\n",
       "      <td>National University Cancer Institute, Singapore</td>\n",
       "      <td>NCIS Breast Support Group provides knowledge, ...</td>\n",
       "      <td>12</td>\n",
       "      <td>hard</td>\n",
       "      <td>224</td>\n",
       "    </tr>\n",
       "    <tr>\n",
       "      <th>2608</th>\n",
       "      <td>1440763</td>\n",
       "      <td>Heart Failure Transitional Care Programme</td>\n",
       "      <td>Heart Failure Transitional Care Programme</td>\n",
       "      <td>Conditions and Illnesses,</td>\n",
       "      <td>https://www.healthhub.sg/a-z/support-groups-an...</td>\n",
       "      <td>transitional-care-programme-for-heart-failure</td>\n",
       "      <td>The team from NUHCS gives support to heart fai...</td>\n",
       "      <td>support-group-and-others</td>\n",
       "      <td>b'&lt;div class=\"ExternalClassFC126593610D4F0587A...</td>\n",
       "      <td>National University Heart Centre, Singapore</td>\n",
       "      <td>Heart failure is the leading cause of rehospit...</td>\n",
       "      <td>12</td>\n",
       "      <td>hard</td>\n",
       "      <td>398</td>\n",
       "    </tr>\n",
       "    <tr>\n",
       "      <th>2609</th>\n",
       "      <td>1440791</td>\n",
       "      <td>Brain and Head Injury Support Groups</td>\n",
       "      <td>Brain and Head Injury Support Groups</td>\n",
       "      <td>Alerts and Advisories,</td>\n",
       "      <td>https://www.healthhub.sg/a-z/support-groups-an...</td>\n",
       "      <td>2015-NNI-support-group</td>\n",
       "      <td>Read on for a list of brain injury support gro...</td>\n",
       "      <td>support-group-and-others</td>\n",
       "      <td>b'&lt;div class=\"ExternalClass7C92735B78174928B28...</td>\n",
       "      <td>National Neuroscience Institute</td>\n",
       "      <td>Brain Tumour Society (Singapore)\\nThe Brain Tu...</td>\n",
       "      <td>7</td>\n",
       "      <td>normal</td>\n",
       "      <td>542</td>\n",
       "    </tr>\n",
       "    <tr>\n",
       "      <th>2610</th>\n",
       "      <td>1440768</td>\n",
       "      <td>Ambulatory Nutrition Support</td>\n",
       "      <td>Ambulatory Nutrition Support</td>\n",
       "      <td>Conditions and Illnesses,</td>\n",
       "      <td>https://www.healthhub.sg/a-z/support-groups-an...</td>\n",
       "      <td>ambulatory-nutrition-support</td>\n",
       "      <td>Read about the ambulatory support benefits one...</td>\n",
       "      <td>support-group-and-others</td>\n",
       "      <td>b'&lt;div class=\"ExternalClass3FABAC9D59A64BCAB96...</td>\n",
       "      <td>National University Hospital</td>\n",
       "      <td>The Importance of Ambulatory Nutrition Support...</td>\n",
       "      <td>12</td>\n",
       "      <td>hard</td>\n",
       "      <td>317</td>\n",
       "    </tr>\n",
       "    <tr>\n",
       "      <th>2612</th>\n",
       "      <td>1440762</td>\n",
       "      <td>Cardiac Rehabilitation Support Group</td>\n",
       "      <td>Cardiac Rehabilitation Support Group</td>\n",
       "      <td>Conditions and Illnesses,</td>\n",
       "      <td>https://www.healthhub.sg/a-z/support-groups-an...</td>\n",
       "      <td>cardiac-rehabilitation-support-group-local-exe...</td>\n",
       "      <td>Looking to improve your caregiving skills for ...</td>\n",
       "      <td>support-group-and-others</td>\n",
       "      <td>b'&lt;div class=\"ExternalClassD4367205B11F4638BFF...</td>\n",
       "      <td>National University Hospital</td>\n",
       "      <td>If you are caring for a loved one with cardiov...</td>\n",
       "      <td>8</td>\n",
       "      <td>normal</td>\n",
       "      <td>113</td>\n",
       "    </tr>\n",
       "  </tbody>\n",
       "</table>\n",
       "<p>1514 rows × 14 columns</p>\n",
       "</div>"
      ],
      "text/plain": [
       "\n",
       "           id                                      content_name  \\\n",
       "\u001b[1;36m0\u001b[0m     \u001b[1;36m1435040\u001b[0m           Breast Screening Subsidies in Singapore   \n",
       "\u001b[1;36m1\u001b[0m     \u001b[1;36m1435071\u001b[0m                   Marriage and Parenthood Schemes   \n",
       "\u001b[1;36m2\u001b[0m     \u001b[1;36m1434993\u001b[0m                                          MediSave   \n",
       "\u001b[1;36m3\u001b[0m     \u001b[1;36m1435031\u001b[0m  Hospital Bills Financial Assistance in Singapore   \n",
       "\u001b[1;36m4\u001b[0m     \u001b[1;36m1435043\u001b[0m   Community Health Assist Scheme \u001b[1m(\u001b[0mCHAS\u001b[1m)\u001b[0m Singapore   \n",
       "\u001b[33m...\u001b[0m       \u001b[33m...\u001b[0m                                               \u001b[33m...\u001b[0m   \n",
       "\u001b[1;36m2607\u001b[0m  \u001b[1;36m1440774\u001b[0m                      Breast Cancer Support Groups   \n",
       "\u001b[1;36m2608\u001b[0m  \u001b[1;36m1440763\u001b[0m         Heart Failure Transitional Care Programme   \n",
       "\u001b[1;36m2609\u001b[0m  \u001b[1;36m1440791\u001b[0m              Brain and Head Injury Support Groups   \n",
       "\u001b[1;36m2610\u001b[0m  \u001b[1;36m1440768\u001b[0m                      Ambulatory Nutrition Support   \n",
       "\u001b[1;36m2612\u001b[0m  \u001b[1;36m1440762\u001b[0m              Cardiac Rehabilitation Support Group   \n",
       "\n",
       "                                                 title  \\\n",
       "\u001b[1;36m0\u001b[0m              Breast Screening Subsidies in Singapore   \n",
       "\u001b[1;36m1\u001b[0m                      Marriage and Parenthood Schemes   \n",
       "\u001b[1;36m2\u001b[0m                                             MediSave   \n",
       "\u001b[1;36m3\u001b[0m     Hospital Bills Financial Assistance in Singapore   \n",
       "\u001b[1;36m4\u001b[0m      Community Health Assist Scheme \u001b[1m(\u001b[0mCHAS\u001b[1m)\u001b[0m Singapore   \n",
       "\u001b[33m...\u001b[0m                                                \u001b[33m...\u001b[0m   \n",
       "\u001b[1;36m2607\u001b[0m                      Breast Cancer Support Groups   \n",
       "\u001b[1;36m2608\u001b[0m         Heart Failure Transitional Care Programme   \n",
       "\u001b[1;36m2609\u001b[0m              Brain and Head Injury Support Groups   \n",
       "\u001b[1;36m2610\u001b[0m                      Ambulatory Nutrition Support   \n",
       "\u001b[1;36m2612\u001b[0m              Cardiac Rehabilitation Support Group   \n",
       "\n",
       "         article_category_names  \\\n",
       "\u001b[1;36m0\u001b[0m     Conditions and Illnesses,   \n",
       "\u001b[1;36m1\u001b[0m                    Body Care,   \n",
       "\u001b[1;36m2\u001b[0m        Alerts and Advisories,   \n",
       "\u001b[1;36m3\u001b[0m                    Body Care,   \n",
       "\u001b[1;36m4\u001b[0m        Alerts and Advisories,   \n",
       "\u001b[33m...\u001b[0m                         \u001b[33m...\u001b[0m   \n",
       "\u001b[1;36m2607\u001b[0m  Conditions and Illnesses,   \n",
       "\u001b[1;36m2608\u001b[0m  Conditions and Illnesses,   \n",
       "\u001b[1;36m2609\u001b[0m     Alerts and Advisories,   \n",
       "\u001b[1;36m2610\u001b[0m  Conditions and Illnesses,   \n",
       "\u001b[1;36m2612\u001b[0m  Conditions and Illnesses,   \n",
       "\n",
       "                                               full_url  \\\n",
       "\u001b[1;36m0\u001b[0m     \u001b[4;94mhttps://www.healthhub.sg/a-z/costs-and-financi...\u001b[0m   \n",
       "\u001b[1;36m1\u001b[0m     \u001b[4;94mhttps://www.healthhub.sg/a-z/costs-and-financi...\u001b[0m   \n",
       "\u001b[1;36m2\u001b[0m     \u001b[4;94mhttps://www.healthhub.sg/a-z/costs-and-financi...\u001b[0m   \n",
       "\u001b[1;36m3\u001b[0m     \u001b[4;94mhttps://www.healthhub.sg/a-z/costs-and-financi...\u001b[0m   \n",
       "\u001b[1;36m4\u001b[0m     \u001b[4;94mhttps://www.healthhub.sg/a-z/costs-and-financi...\u001b[0m   \n",
       "\u001b[33m...\u001b[0m                                                 \u001b[33m...\u001b[0m   \n",
       "\u001b[1;36m2607\u001b[0m  \u001b[4;94mhttps://www.healthhub.sg/a-z/support-groups-an...\u001b[0m   \n",
       "\u001b[1;36m2608\u001b[0m  \u001b[4;94mhttps://www.healthhub.sg/a-z/support-groups-an...\u001b[0m   \n",
       "\u001b[1;36m2609\u001b[0m  \u001b[4;94mhttps://www.healthhub.sg/a-z/support-groups-an...\u001b[0m   \n",
       "\u001b[1;36m2610\u001b[0m  \u001b[4;94mhttps://www.healthhub.sg/a-z/support-groups-an...\u001b[0m   \n",
       "\u001b[1;36m2612\u001b[0m  \u001b[4;94mhttps://www.healthhub.sg/a-z/support-groups-an...\u001b[0m   \n",
       "\n",
       "                                           friendly_url  \\\n",
       "\u001b[1;36m0\u001b[0m                     breast-cancer-screening-subsidies   \n",
       "\u001b[1;36m1\u001b[0m                            marriage_parenthood_scheme   \n",
       "\u001b[1;36m2\u001b[0m                                              medisave   \n",
       "\u001b[1;36m3\u001b[0m     financial-assistance-for-local-patients-in-sin\u001b[33m...\u001b[0m   \n",
       "\u001b[1;36m4\u001b[0m                                                  chas   \n",
       "\u001b[33m...\u001b[0m                                                 \u001b[33m...\u001b[0m   \n",
       "\u001b[1;36m2607\u001b[0m              Breast-cancer-support-group-singapore   \n",
       "\u001b[1;36m2608\u001b[0m      transitional-care-programme-for-heart-failure   \n",
       "\u001b[1;36m2609\u001b[0m                             \u001b[1;36m2015\u001b[0m-NNI-support-group   \n",
       "\u001b[1;36m2610\u001b[0m                       ambulatory-nutrition-support   \n",
       "\u001b[1;36m2612\u001b[0m  cardiac-rehabilitation-support-group-local-exe\u001b[33m...\u001b[0m   \n",
       "\n",
       "                                   category_description  \\\n",
       "\u001b[1;36m0\u001b[0m     Here’s all you need to know about breast cance\u001b[33m...\u001b[0m   \n",
       "\u001b[1;36m1\u001b[0m     New parents and couples looking to conceive ca\u001b[33m...\u001b[0m   \n",
       "\u001b[1;36m2\u001b[0m     MediSave is the national medical savings schem\u001b[33m...\u001b[0m   \n",
       "\u001b[1;36m3\u001b[0m     Having trouble paying your medical bill? Here’\u001b[33m...\u001b[0m   \n",
       "\u001b[1;36m4\u001b[0m     With a CHAS card, all Singapore citizens can r\u001b[33m...\u001b[0m   \n",
       "\u001b[33m...\u001b[0m                                                 \u001b[33m...\u001b[0m   \n",
       "\u001b[1;36m2607\u001b[0m  Learn how breast cancer support groups help br\u001b[33m...\u001b[0m   \n",
       "\u001b[1;36m2608\u001b[0m  The team from NUHCS gives support to heart fai\u001b[33m...\u001b[0m   \n",
       "\u001b[1;36m2609\u001b[0m  Read on for a list of brain injury support gro\u001b[33m...\u001b[0m   \n",
       "\u001b[1;36m2610\u001b[0m  Read about the ambulatory support benefits one\u001b[33m...\u001b[0m   \n",
       "\u001b[1;36m2612\u001b[0m  Looking to improve your caregiving skills for \u001b[33m...\u001b[0m   \n",
       "\n",
       "              content_category  \\\n",
       "\u001b[1;36m0\u001b[0m           cost-and-financing   \n",
       "\u001b[1;36m1\u001b[0m           cost-and-financing   \n",
       "\u001b[1;36m2\u001b[0m           cost-and-financing   \n",
       "\u001b[1;36m3\u001b[0m           cost-and-financing   \n",
       "\u001b[1;36m4\u001b[0m           cost-and-financing   \n",
       "\u001b[33m...\u001b[0m                        \u001b[33m...\u001b[0m   \n",
       "\u001b[1;36m2607\u001b[0m  support-group-and-others   \n",
       "\u001b[1;36m2608\u001b[0m  support-group-and-others   \n",
       "\u001b[1;36m2609\u001b[0m  support-group-and-others   \n",
       "\u001b[1;36m2610\u001b[0m  support-group-and-others   \n",
       "\u001b[1;36m2612\u001b[0m  support-group-and-others   \n",
       "\n",
       "                                           content_body  \\\n",
       "\u001b[1;36m0\u001b[0m     b'\u001b[1m<\u001b[0m\u001b[1;95mdiv\u001b[0m\u001b[39m \u001b[0m\u001b[33mclass\u001b[0m\u001b[39m=\u001b[0m\u001b[35m\"ExternalClass07C58E0D957B4AA7B14\u001b[0m\u001b[33m...\u001b[0m\u001b[39m   \u001b[0m\n",
       "\u001b[1;36m1\u001b[0m\u001b[39m     b'<div \u001b[0m\u001b[33mclass\u001b[0m\u001b[39m=\u001b[0m\u001b[35m\"ExternalClassE1D82270F17241E4955\u001b[0m\u001b[33m...\u001b[0m\u001b[39m   \u001b[0m\n",
       "\u001b[1;36m2\u001b[0m\u001b[39m     b'<div \u001b[0m\u001b[33mclass\u001b[0m\u001b[39m=\u001b[0m\u001b[35m\"ExternalClass67AD25F1F8B64B349E5\u001b[0m\u001b[33m...\u001b[0m\u001b[39m   \u001b[0m\n",
       "\u001b[1;36m3\u001b[0m\u001b[39m     b'<div \u001b[0m\u001b[33mclass\u001b[0m\u001b[39m=\u001b[0m\u001b[35m\"ExternalClassE335708125E743FDAA3\u001b[0m\u001b[33m...\u001b[0m\u001b[39m   \u001b[0m\n",
       "\u001b[1;36m4\u001b[0m\u001b[39m     b'<h2\u001b[0m\u001b[1m>\u001b[0mWhat is the Community Health Assist Sche\u001b[33m...\u001b[0m   \n",
       "\u001b[33m...\u001b[0m                                                 \u001b[33m...\u001b[0m   \n",
       "\u001b[1;36m2607\u001b[0m  b'<div \u001b[33mclass\u001b[0m=\u001b[35m\"ExternalClassE9019B25CD2A40F3948\u001b[0m\u001b[33m...\u001b[0m   \n",
       "\u001b[1;36m2608\u001b[0m  b'<div \u001b[33mclass\u001b[0m=\u001b[35m\"ExternalClassFC126593610D4F0587A\u001b[0m\u001b[33m...\u001b[0m   \n",
       "\u001b[1;36m2609\u001b[0m  b'<div \u001b[33mclass\u001b[0m=\u001b[35m\"ExternalClass7C92735B78174928B28\u001b[0m\u001b[33m...\u001b[0m   \n",
       "\u001b[1;36m2610\u001b[0m  b'<div \u001b[33mclass\u001b[0m=\u001b[35m\"ExternalClass3FABAC9D59A64BCAB96\u001b[0m\u001b[33m...\u001b[0m   \n",
       "\u001b[1;36m2612\u001b[0m  b'<div \u001b[33mclass\u001b[0m=\u001b[35m\"ExternalClassD4367205B11F4638BFF\u001b[0m\u001b[33m...\u001b[0m   \n",
       "\n",
       "                                              pr_name  \\\n",
       "\u001b[1;36m0\u001b[0m                              Health Promotion Board   \n",
       "\u001b[1;36m1\u001b[0m                                  Ministry of Health   \n",
       "\u001b[1;36m2\u001b[0m                                  Ministry of Health   \n",
       "\u001b[1;36m3\u001b[0m                             Khoo Teck Puat Hospital   \n",
       "\u001b[1;36m4\u001b[0m                                                CHAS   \n",
       "\u001b[33m...\u001b[0m                                               \u001b[33m...\u001b[0m   \n",
       "\u001b[1;36m2607\u001b[0m  National University Cancer Institute, Singapore   \n",
       "\u001b[1;36m2608\u001b[0m      National University Heart Centre, Singapore   \n",
       "\u001b[1;36m2609\u001b[0m                  National Neuroscience Institute   \n",
       "\u001b[1;36m2610\u001b[0m                     National University Hospital   \n",
       "\u001b[1;36m2612\u001b[0m                     National University Hospital   \n",
       "\n",
       "                                 extracted_content_body  readability_score  \\\n",
       "\u001b[1;36m0\u001b[0m     Breast cancer is the number one cancer among w\u001b[33m...\u001b[0m                  \u001b[1;36m9\u001b[0m   \n",
       "\u001b[1;36m1\u001b[0m     MediSave Maternity Package\\nWith the MediSave \u001b[33m...\u001b[0m                 \u001b[1;36m11\u001b[0m   \n",
       "\u001b[1;36m2\u001b[0m     What is MediSave?\\nMediSave, introduced in Apr\u001b[33m...\u001b[0m                 \u001b[1;36m10\u001b[0m   \n",
       "\u001b[1;36m3\u001b[0m     Patients or family members who have difficulty\u001b[33m...\u001b[0m                 \u001b[1;36m14\u001b[0m   \n",
       "\u001b[1;36m4\u001b[0m     What is the Community Health Assist Scheme \u001b[1m(\u001b[0mCH\u001b[33m...\u001b[0m                  \u001b[1;36m9\u001b[0m   \n",
       "\u001b[33m...\u001b[0m                                                 \u001b[33m...\u001b[0m                \u001b[33m...\u001b[0m   \n",
       "\u001b[1;36m2607\u001b[0m  NCIS Breast Support Group provides knowledge, \u001b[33m...\u001b[0m                 \u001b[1;36m12\u001b[0m   \n",
       "\u001b[1;36m2608\u001b[0m  Heart failure is the leading cause of rehospit\u001b[33m...\u001b[0m                 \u001b[1;36m12\u001b[0m   \n",
       "\u001b[1;36m2609\u001b[0m  Brain Tumour Society \u001b[1m(\u001b[0mSingapore\u001b[1m)\u001b[0m\\nThe Brain Tu\u001b[33m...\u001b[0m                  \u001b[1;36m7\u001b[0m   \n",
       "\u001b[1;36m2610\u001b[0m  The Importance of Ambulatory Nutrition Support\u001b[33m...\u001b[0m                 \u001b[1;36m12\u001b[0m   \n",
       "\u001b[1;36m2612\u001b[0m  If you are caring for a loved one with cardiov\u001b[33m...\u001b[0m                  \u001b[1;36m8\u001b[0m   \n",
       "\n",
       "     reading_level  word_count  \n",
       "\u001b[1;36m0\u001b[0m           normal         \u001b[1;36m563\u001b[0m  \n",
       "\u001b[1;36m1\u001b[0m             hard         \u001b[1;36m873\u001b[0m  \n",
       "\u001b[1;36m2\u001b[0m             hard         \u001b[1;36m366\u001b[0m  \n",
       "\u001b[1;36m3\u001b[0m        very hard         \u001b[1;36m324\u001b[0m  \n",
       "\u001b[1;36m4\u001b[0m           normal         \u001b[1;36m567\u001b[0m  \n",
       "\u001b[33m...\u001b[0m            \u001b[33m...\u001b[0m         \u001b[33m...\u001b[0m  \n",
       "\u001b[1;36m2607\u001b[0m          hard         \u001b[1;36m224\u001b[0m  \n",
       "\u001b[1;36m2608\u001b[0m          hard         \u001b[1;36m398\u001b[0m  \n",
       "\u001b[1;36m2609\u001b[0m        normal         \u001b[1;36m542\u001b[0m  \n",
       "\u001b[1;36m2610\u001b[0m          hard         \u001b[1;36m317\u001b[0m  \n",
       "\u001b[1;36m2612\u001b[0m        normal         \u001b[1;36m113\u001b[0m  \n",
       "\n",
       "\u001b[1m[\u001b[0m\u001b[1;36m1514\u001b[0m rows x \u001b[1;36m14\u001b[0m columns\u001b[1m]\u001b[0m"
      ]
     },
     "metadata": {},
     "output_type": "display_data"
    }
   ],
   "source": [
    "def calculate_score(text):\n",
    "    metrics = hemmingway_score(text)\n",
    "    return metrics[\"score\"]\n",
    "\n",
    "\n",
    "def calculate_level(text):\n",
    "    metrics = hemmingway_score(text)\n",
    "    return metrics[\"level\"]\n",
    "\n",
    "\n",
    "def calculate_word_count(text):\n",
    "    sentences = []\n",
    "    words = []\n",
    "\n",
    "    # Compile regex to detect punctuations\n",
    "    regex = re.compile(\"[%s]\" % re.escape(string.punctuation))\n",
    "\n",
    "    # Remove all hyperlinks\n",
    "    filtered_text = re.sub(r\"https?:\\/\\/[^\\s]+\", \"\", text)\n",
    "\n",
    "    # Split the extracted text by the newline delimiter\n",
    "    lines = filtered_text.split(\"\\n\")\n",
    "    # Track the sentences in the text\n",
    "    for line in lines:\n",
    "        partial_sentences = re.split(r\"[.!?]\", line)\n",
    "        for sentence in partial_sentences:\n",
    "            sentences.append(sentence.strip())\n",
    "\n",
    "    # Track the words in the text\n",
    "    for sentence in sentences:\n",
    "        sentence_words = sentence.split(\" \")\n",
    "        for word in sentence_words:\n",
    "            word = regex.sub(\"\", word.strip())\n",
    "            words.append(word)\n",
    "\n",
    "    # Filter for empty strings\n",
    "    filtered_words = list(filter(lambda x: len(x) > 0, words))\n",
    "\n",
    "    # Count the number of words\n",
    "    num_words = len(filtered_words)\n",
    "    return num_words\n",
    "\n",
    "\n",
    "df_extracted[\"readability_score\"] = df_extracted[\"extracted_content_body\"].apply(\n",
    "    calculate_score\n",
    ")\n",
    "df_extracted[\"reading_level\"] = df_extracted[\"extracted_content_body\"].apply(\n",
    "    calculate_level\n",
    ")\n",
    "df_extracted[\"word_count\"] = df_extracted[\"extracted_content_body\"].apply(\n",
    "    calculate_word_count\n",
    ")\n",
    "display(df_extracted)  # noqa: F821"
   ]
  },
  {
   "cell_type": "code",
   "execution_count": null,
   "id": "7f200eac",
   "metadata": {
    "ExecuteTime": {
     "start_time": "2024-08-19T09:32:22.990684Z"
    },
    "jupyter": {
     "is_executing": true
    }
   },
   "outputs": [],
   "source": [
    "fig = px.histogram(df_extracted, x=\"readability_score\", nbins=20)\n",
    "fig.update_layout(\n",
    "    title_text=\"Readability Score distribution for Extracted Article Content\",\n",
    "    xaxis_title_text=\"Readability Score\",\n",
    "    yaxis_title_text=\"Count\",\n",
    "    bargap=0.5,\n",
    ")\n",
    "lower_threshold = 10\n",
    "upper_threshold = 14\n",
    "fig.add_vline(x=lower_threshold, line_dash=\"dash\", line_color=\"firebrick\")\n",
    "fig.add_vline(x=upper_threshold, line_dash=\"dash\", line_color=\"red\")\n",
    "fig.show()"
   ]
  },
  {
   "cell_type": "code",
   "execution_count": 25,
   "id": "6b7b6dc1",
   "metadata": {
    "ExecuteTime": {
     "end_time": "2024-08-14T22:02:54.113991Z",
     "start_time": "2024-08-14T22:02:54.110291Z"
    }
   },
   "outputs": [
    {
     "name": "stdout",
     "output_type": "stream",
     "text": [
      "content_category\n",
      "live-healthy-articles          1112\n",
      "diseases-and-conditions         310\n",
      "medical-care-and-facilities      57\n",
      "cost-and-financing               23\n",
      "support-group-and-others         12\n",
      "Name: id, dtype: int64\n"
     ]
    }
   ],
   "source": [
    "print(\n",
    "    df_extracted.groupby([\"content_category\"])[\"id\"]\n",
    "    .count()\n",
    "    .sort_values(ascending=False)\n",
    ")"
   ]
  },
  {
   "cell_type": "code",
   "execution_count": 26,
   "id": "ec0112bc",
   "metadata": {
    "ExecuteTime": {
     "end_time": "2024-08-14T22:02:54.817782Z",
     "start_time": "2024-08-14T22:02:54.814604Z"
    }
   },
   "outputs": [
    {
     "name": "stdout",
     "output_type": "stream",
     "text": [
      "pr_name\n",
      "Health Promotion Board                             671\n",
      "KK Women's and Children's Hospital                 260\n",
      "National Healthcare Group                          108\n",
      "Agency for Integrated Care                          43\n",
      "Changi General Hospital                             40\n",
      "National University Hospital                        36\n",
      "JurongHealth                                        34\n",
      "Tan Tock Seng Hospital                              33\n",
      "SingHealth                                          33\n",
      "Khoo Teck Puat Hospital                             26\n",
      "Institute of Mental Health                          18\n",
      "Stroke Services Improvement Team                    18\n",
      "Singapore General Hospital                          18\n",
      "National Skin Centre                                18\n",
      "Health Sciences Authority                           16\n",
      "Ministry of Health                                  16\n",
      "Singapore Dental Health Foundation                  15\n",
      "Alexandra Health System                             14\n",
      "National University Cancer Institute, Singapore      8\n",
      "National Heart Centre Singapore                      7\n",
      "National University Heart Centre, Singapore          7\n",
      "Sengkang General Hospital                            6\n",
      "National Cancer Centre Singapore                     6\n",
      "Singapore National Eye Centre                        5\n",
      "National Neuroscience Institute                      4\n",
      "Woodlands Health Campus                              4\n",
      "National Dental Centre Singapore                     3\n",
      "NHG Polyclinics                                      1\n",
      "CHAS                                                 1\n",
      "Name: id, dtype: int64\n"
     ]
    }
   ],
   "source": [
    "print(df_extracted.groupby([\"pr_name\"])[\"id\"].count().sort_values(ascending=False))"
   ]
  },
  {
   "cell_type": "code",
   "execution_count": 27,
   "id": "586e75ba",
   "metadata": {
    "ExecuteTime": {
     "end_time": "2024-08-14T22:02:55.286424Z",
     "start_time": "2024-08-14T22:02:55.283457Z"
    }
   },
   "outputs": [
    {
     "name": "stdout",
     "output_type": "stream",
     "text": [
      "article_category_names\n",
      "Conditions and Illnesses,                                                                                                    326\n",
      "Body Care,                                                                                                                   251\n",
      "Food and Nutrition,                                                                                                          218\n",
      "Exercise and Fitness,                                                                                                        122\n",
      "Mind and Balance,                                                                                                             87\n",
      "                                                                                                                            ... \n",
      "Body Care,Food and Nutrition,Exercise and Fitness,Mind and Balance,                                                            1\n",
      "Exercise and Fitness,Senior Health and Caregiving,                                                                             1\n",
      "Food and Nutrition,Body Care,                                                                                                  1\n",
      "Food and Nutrition,Child and Teen Health,Exercise and Fitness,                                                                 1\n",
      "Exercise and Fitness,Mind and Balance,Conditions and Illnesses,Senior Health and Caregiving,Food and Nutrition,Body Care,      1\n",
      "Name: id, Length: 69, dtype: int64\n"
     ]
    }
   ],
   "source": [
    "print(\n",
    "    df_extracted.groupby([\"article_category_names\"])[\"id\"]\n",
    "    .count()\n",
    "    .sort_values(ascending=False)\n",
    ")"
   ]
  },
  {
   "cell_type": "code",
   "execution_count": 28,
   "id": "d7a46e40",
   "metadata": {
    "ExecuteTime": {
     "end_time": "2024-08-14T22:02:55.848743Z",
     "start_time": "2024-08-14T22:02:55.845204Z"
    }
   },
   "outputs": [
    {
     "name": "stdout",
     "output_type": "stream",
     "text": [
      "title\n",
      "Coronary Artery Disease                                                                 2\n",
      "\"The Talk\": What to say to your Teen about Sex and Sexuality                            1\n",
      "Physiotherapy Treatment                                                                 1\n",
      "Prediabetes                                                                             1\n",
      "Pre-pregnancy Vaccination                                                               1\n",
      "                                                                                       ..\n",
      "Eye Care - Is AI The Future?                                                            1\n",
      "External Ear Infection (Otitis Externa)                                                 1\n",
      "Exploring Indian Grocery Stores in Singapore - Finding Fresh and Healthy Ingredients    1\n",
      "Exploring Delicious and Nutritious Vegetarian Delights from Indian Cuisine              1\n",
      "“Mornings Are the Best Time to Exercise” and Other Myths                                1\n",
      "Name: id, Length: 1513, dtype: int64\n"
     ]
    }
   ],
   "source": [
    "print(df_extracted.groupby([\"title\"])[\"id\"].count().sort_values(ascending=False))"
   ]
  },
  {
   "cell_type": "code",
   "execution_count": 29,
   "id": "3e4c48bd",
   "metadata": {
    "ExecuteTime": {
     "end_time": "2024-08-14T22:02:56.321231Z",
     "start_time": "2024-08-14T22:02:56.317810Z"
    }
   },
   "outputs": [
    {
     "name": "stdout",
     "output_type": "stream",
     "text": [
      "content_name\n",
      "Coronary Artery Disease                                         2\n",
      "\"The Talk\": What to say to your Teen about Sex and Sexuality    1\n",
      "Pregnancy Complications                                         1\n",
      "Premature Babies – Breast Milk Advice                           1\n",
      "Pregnant with Twins – Double Joy or Double Trouble?             1\n",
      "                                                               ..\n",
      "Fad Diets: Are They Effective Weight Loss Diets?                1\n",
      "Facts on Tobacco Smoking and Tobacco Products                   1\n",
      "Facts and Myths About Healthy Ageing                            1\n",
      "FAQs About Antenatal Scans                                      1\n",
      "“Mornings Are the Best Time to Exercise” and Other Myths        1\n",
      "Name: id, Length: 1513, dtype: int64\n"
     ]
    }
   ],
   "source": [
    "print(df_extracted.groupby([\"content_name\"])[\"id\"].count().sort_values(ascending=False))"
   ]
  },
  {
   "cell_type": "code",
   "execution_count": 30,
   "id": "12cb6a0c",
   "metadata": {
    "ExecuteTime": {
     "end_time": "2024-08-14T22:02:56.752056Z",
     "start_time": "2024-08-14T22:02:56.748642Z"
    }
   },
   "outputs": [
    {
     "name": "stdout",
     "output_type": "stream",
     "text": [
      "reading_level\n",
      "normal       1193\n",
      "hard          295\n",
      "very hard      26\n",
      "Name: id, dtype: int64\n"
     ]
    }
   ],
   "source": [
    "print(\n",
    "    df_extracted.groupby([\"reading_level\"])[\"id\"].count().sort_values(ascending=False)\n",
    ")"
   ]
  },
  {
   "cell_type": "code",
   "execution_count": 31,
   "id": "fbd0bff6",
   "metadata": {
    "ExecuteTime": {
     "end_time": "2024-08-14T22:02:58.296708Z",
     "start_time": "2024-08-14T22:02:57.293973Z"
    }
   },
   "outputs": [
    {
     "data": {
      "text/html": [
       "<pre style=\"white-space:pre;overflow-x:auto;line-height:normal;font-family:Menlo,'DejaVu Sans Mono',consolas,'Courier New',monospace\"><span style=\"color: #7fbfbf; text-decoration-color: #7fbfbf\">[08/15/24 06:02:57] </span><span style=\"color: #800000; text-decoration-color: #800000\">WARNING </span> <span style=\"color: #800080; text-decoration-color: #800080\">/var/folders/3n/y5_h0fxs0bv2mhb7bf_fpmb80000gn/T/ipykernel_38213/</span><span style=\"color: #ff00ff; text-decoration-color: #ff00ff\">22364</span> <a href=\"file:///opt/homebrew/Cellar/python@3.11/3.11.9_1/Frameworks/Python.framework/Versions/3.11/lib/python3.11/warnings.py\" target=\"_blank\"><span style=\"color: #7f7f7f; text-decoration-color: #7f7f7f\">warnings.py</span></a><span style=\"color: #7f7f7f; text-decoration-color: #7f7f7f\">:</span><a href=\"file:///opt/homebrew/Cellar/python@3.11/3.11.9_1/Frameworks/Python.framework/Versions/3.11/lib/python3.11/warnings.py#110\" target=\"_blank\"><span style=\"color: #7f7f7f; text-decoration-color: #7f7f7f\">110</span></a>\n",
       "<span style=\"color: #7fbfbf; text-decoration-color: #7fbfbf\">                    </span>         <span style=\"color: #ff00ff; text-decoration-color: #ff00ff\">26008.py</span>:<span style=\"color: #008080; text-decoration-color: #008080; font-weight: bold\">1</span>: SettingWithCopyWarning:                                    <span style=\"color: #7f7f7f; text-decoration-color: #7f7f7f\">               </span>\n",
       "<span style=\"color: #7fbfbf; text-decoration-color: #7fbfbf\">                    </span>                                                                                <span style=\"color: #7f7f7f; text-decoration-color: #7f7f7f\">               </span>\n",
       "<span style=\"color: #7fbfbf; text-decoration-color: #7fbfbf\">                    </span>                                                                                <span style=\"color: #7f7f7f; text-decoration-color: #7f7f7f\">               </span>\n",
       "<span style=\"color: #7fbfbf; text-decoration-color: #7fbfbf\">                    </span>         A value is trying to be set on a copy of a slice from a DataFrame.     <span style=\"color: #7f7f7f; text-decoration-color: #7f7f7f\">               </span>\n",
       "<span style=\"color: #7fbfbf; text-decoration-color: #7fbfbf\">                    </span>         Try using .loc<span style=\"font-weight: bold\">[</span>row_indexer,col_indexer<span style=\"font-weight: bold\">]</span> = value instead                <span style=\"color: #7f7f7f; text-decoration-color: #7f7f7f\">               </span>\n",
       "<span style=\"color: #7fbfbf; text-decoration-color: #7fbfbf\">                    </span>                                                                                <span style=\"color: #7f7f7f; text-decoration-color: #7f7f7f\">               </span>\n",
       "<span style=\"color: #7fbfbf; text-decoration-color: #7fbfbf\">                    </span>         See the caveats in the documentation:                                  <span style=\"color: #7f7f7f; text-decoration-color: #7f7f7f\">               </span>\n",
       "<span style=\"color: #7fbfbf; text-decoration-color: #7fbfbf\">                    </span>         <span style=\"color: #0000ff; text-decoration-color: #0000ff; text-decoration: underline\">https://pandas.pydata.org/pandas-docs/stable/user_guide/indexing.html#</span> <span style=\"color: #7f7f7f; text-decoration-color: #7f7f7f\">               </span>\n",
       "<span style=\"color: #7fbfbf; text-decoration-color: #7fbfbf\">                    </span>         <span style=\"color: #0000ff; text-decoration-color: #0000ff; text-decoration: underline\">returning-a-view-versus-a-copy</span>                                         <span style=\"color: #7f7f7f; text-decoration-color: #7f7f7f\">               </span>\n",
       "<span style=\"color: #7fbfbf; text-decoration-color: #7fbfbf\">                    </span>                                                                                <span style=\"color: #7f7f7f; text-decoration-color: #7f7f7f\">               </span>\n",
       "<span style=\"color: #7fbfbf; text-decoration-color: #7fbfbf\">                    </span>                                                                                <span style=\"color: #7f7f7f; text-decoration-color: #7f7f7f\">               </span>\n",
       "</pre>\n"
      ],
      "text/plain": [
       "\u001b[2;36m[08/15/24 06:02:57]\u001b[0m\u001b[2;36m \u001b[0m\u001b[31mWARNING \u001b[0m \u001b[35m/var/folders/3n/y5_h0fxs0bv2mhb7bf_fpmb80000gn/T/ipykernel_38213/\u001b[0m\u001b[95m22364\u001b[0m \u001b]8;id=246810;file:///opt/homebrew/Cellar/python@3.11/3.11.9_1/Frameworks/Python.framework/Versions/3.11/lib/python3.11/warnings.py\u001b\\\u001b[2mwarnings.py\u001b[0m\u001b]8;;\u001b\\\u001b[2m:\u001b[0m\u001b]8;id=789114;file:///opt/homebrew/Cellar/python@3.11/3.11.9_1/Frameworks/Python.framework/Versions/3.11/lib/python3.11/warnings.py#110\u001b\\\u001b[2m110\u001b[0m\u001b]8;;\u001b\\\n",
       "\u001b[2;36m                    \u001b[0m         \u001b[95m26008.py\u001b[0m:\u001b[1;36m1\u001b[0m: SettingWithCopyWarning:                                    \u001b[2m               \u001b[0m\n",
       "\u001b[2;36m                    \u001b[0m                                                                                \u001b[2m               \u001b[0m\n",
       "\u001b[2;36m                    \u001b[0m                                                                                \u001b[2m               \u001b[0m\n",
       "\u001b[2;36m                    \u001b[0m         A value is trying to be set on a copy of a slice from a DataFrame.     \u001b[2m               \u001b[0m\n",
       "\u001b[2;36m                    \u001b[0m         Try using .loc\u001b[1m[\u001b[0mrow_indexer,col_indexer\u001b[1m]\u001b[0m = value instead                \u001b[2m               \u001b[0m\n",
       "\u001b[2;36m                    \u001b[0m                                                                                \u001b[2m               \u001b[0m\n",
       "\u001b[2;36m                    \u001b[0m         See the caveats in the documentation:                                  \u001b[2m               \u001b[0m\n",
       "\u001b[2;36m                    \u001b[0m         \u001b[4;94mhttps://pandas.pydata.org/pandas-docs/stable/user_guide/indexing.html#\u001b[0m \u001b[2m               \u001b[0m\n",
       "\u001b[2;36m                    \u001b[0m         \u001b[4;94mreturning-a-view-versus-a-copy\u001b[0m                                         \u001b[2m               \u001b[0m\n",
       "\u001b[2;36m                    \u001b[0m                                                                                \u001b[2m               \u001b[0m\n",
       "\u001b[2;36m                    \u001b[0m                                                                                \u001b[2m               \u001b[0m\n"
      ]
     },
     "metadata": {},
     "output_type": "display_data"
    }
   ],
   "source": [
    "df_extracted[\"reading_level_hard\"] = df_extracted[\"readability_score\"] >= 10\n",
    "\n",
    "df_extracted.to_excel(\"../data/hard_articles.xlsx\", index=False)"
   ]
  },
  {
   "cell_type": "code",
   "execution_count": 32,
   "id": "98b31983",
   "metadata": {
    "ExecuteTime": {
     "end_time": "2024-08-14T22:02:58.314434Z",
     "start_time": "2024-08-14T22:02:58.297841Z"
    }
   },
   "outputs": [
    {
     "data": {
      "text/html": [
       "<pre style=\"white-space:pre;overflow-x:auto;line-height:normal;font-family:Menlo,'DejaVu Sans Mono',consolas,'Courier New',monospace\"></pre>\n"
      ],
      "text/plain": []
     },
     "metadata": {},
     "output_type": "display_data"
    },
    {
     "data": {
      "text/html": [
       "<div>\n",
       "<style scoped>\n",
       "    .dataframe tbody tr th:only-of-type {\n",
       "        vertical-align: middle;\n",
       "    }\n",
       "\n",
       "    .dataframe tbody tr th {\n",
       "        vertical-align: top;\n",
       "    }\n",
       "\n",
       "    .dataframe thead th {\n",
       "        text-align: right;\n",
       "    }\n",
       "</style>\n",
       "<table border=\"1\" class=\"dataframe\">\n",
       "  <thead>\n",
       "    <tr style=\"text-align: right;\">\n",
       "      <th></th>\n",
       "      <th>id</th>\n",
       "      <th>content_name</th>\n",
       "      <th>title</th>\n",
       "      <th>article_category_names</th>\n",
       "      <th>full_url</th>\n",
       "      <th>friendly_url</th>\n",
       "      <th>category_description</th>\n",
       "      <th>content_category</th>\n",
       "      <th>content_body</th>\n",
       "      <th>pr_name</th>\n",
       "      <th>extracted_content_body</th>\n",
       "      <th>readability_score</th>\n",
       "      <th>reading_level</th>\n",
       "      <th>word_count</th>\n",
       "      <th>reading_level_hard</th>\n",
       "    </tr>\n",
       "  </thead>\n",
       "  <tbody>\n",
       "    <tr>\n",
       "      <th>0</th>\n",
       "      <td>1435040</td>\n",
       "      <td>Breast Screening Subsidies in Singapore</td>\n",
       "      <td>Breast Screening Subsidies in Singapore</td>\n",
       "      <td>Conditions and Illnesses,</td>\n",
       "      <td>https://www.healthhub.sg/a-z/costs-and-financi...</td>\n",
       "      <td>breast-cancer-screening-subsidies</td>\n",
       "      <td>Here’s all you need to know about breast cance...</td>\n",
       "      <td>cost-and-financing</td>\n",
       "      <td>b'&lt;div class=\"ExternalClass07C58E0D957B4AA7B14...</td>\n",
       "      <td>Health Promotion Board</td>\n",
       "      <td>Breast cancer is the number one cancer among w...</td>\n",
       "      <td>9</td>\n",
       "      <td>normal</td>\n",
       "      <td>563</td>\n",
       "      <td>False</td>\n",
       "    </tr>\n",
       "    <tr>\n",
       "      <th>28</th>\n",
       "      <td>1437742</td>\n",
       "      <td>Preventing HPV infection: HPV Vaccination</td>\n",
       "      <td>Preventing HPV infection: HPV Vaccination</td>\n",
       "      <td>Sexual Health and Relationships,Child and Teen...</td>\n",
       "      <td>https://www.healthhub.sg/a-z/diseases-and-cond...</td>\n",
       "      <td>faqs-on-hpv-and-hpv-immunisation</td>\n",
       "      <td>The Human Papillomavirus (HPV) vaccine or HPV ...</td>\n",
       "      <td>diseases-and-conditions</td>\n",
       "      <td>b'&lt;div class=\"ExternalClass50E49E9021B24103B87...</td>\n",
       "      <td>Health Promotion Board</td>\n",
       "      <td>About HPV and its link to Cervical Cancer\\n\\nW...</td>\n",
       "      <td>10</td>\n",
       "      <td>hard</td>\n",
       "      <td>2042</td>\n",
       "      <td>True</td>\n",
       "    </tr>\n",
       "    <tr>\n",
       "      <th>29</th>\n",
       "      <td>1437732</td>\n",
       "      <td>Fever in Children</td>\n",
       "      <td>Fever in Children</td>\n",
       "      <td>Conditions and Illnesses,</td>\n",
       "      <td>https://www.healthhub.sg/a-z/diseases-and-cond...</td>\n",
       "      <td>common-childhood-conditions-fever</td>\n",
       "      <td>Spot the symptoms of fever in your child and l...</td>\n",
       "      <td>diseases-and-conditions</td>\n",
       "      <td>b'&lt;div class=\"ExternalClassA0AA5FCB88FC42E4AEF...</td>\n",
       "      <td>Health Promotion Board</td>\n",
       "      <td>What is a Fever in a Child?\\nA normal, healthy...</td>\n",
       "      <td>6</td>\n",
       "      <td>normal</td>\n",
       "      <td>942</td>\n",
       "      <td>False</td>\n",
       "    </tr>\n",
       "    <tr>\n",
       "      <th>30</th>\n",
       "      <td>1437433</td>\n",
       "      <td>Hand, Foot, and Mouth Disease</td>\n",
       "      <td>Hand, Foot, and Mouth Disease</td>\n",
       "      <td>None</td>\n",
       "      <td>https://www.healthhub.sg/a-z/diseases-and-cond...</td>\n",
       "      <td>hfmd</td>\n",
       "      <td>Hand, Foot, and Mouth Disease is present all y...</td>\n",
       "      <td>diseases-and-conditions</td>\n",
       "      <td>b'&lt;div class=\"ExternalClassB1300026922048DE830...</td>\n",
       "      <td>Health Promotion Board</td>\n",
       "      <td>Hand, Foot, and Mouth Disease (HFMD) is caused...</td>\n",
       "      <td>7</td>\n",
       "      <td>normal</td>\n",
       "      <td>834</td>\n",
       "      <td>False</td>\n",
       "    </tr>\n",
       "    <tr>\n",
       "      <th>32</th>\n",
       "      <td>1437894</td>\n",
       "      <td>Cervical Cancer</td>\n",
       "      <td>Cervical Cancer</td>\n",
       "      <td>Body Care,</td>\n",
       "      <td>https://www.healthhub.sg/a-z/diseases-and-cond...</td>\n",
       "      <td>topic_cervical_cancer</td>\n",
       "      <td>Cervical cancer is the 10th most common cancer...</td>\n",
       "      <td>diseases-and-conditions</td>\n",
       "      <td>b'&lt;div class=\"ExternalClass4A8C8F03738343228D5...</td>\n",
       "      <td>Health Promotion Board</td>\n",
       "      <td>The best protection against cervical cancer is...</td>\n",
       "      <td>9</td>\n",
       "      <td>normal</td>\n",
       "      <td>714</td>\n",
       "      <td>False</td>\n",
       "    </tr>\n",
       "    <tr>\n",
       "      <th>...</th>\n",
       "      <td>...</td>\n",
       "      <td>...</td>\n",
       "      <td>...</td>\n",
       "      <td>...</td>\n",
       "      <td>...</td>\n",
       "      <td>...</td>\n",
       "      <td>...</td>\n",
       "      <td>...</td>\n",
       "      <td>...</td>\n",
       "      <td>...</td>\n",
       "      <td>...</td>\n",
       "      <td>...</td>\n",
       "      <td>...</td>\n",
       "      <td>...</td>\n",
       "      <td>...</td>\n",
       "    </tr>\n",
       "    <tr>\n",
       "      <th>1519</th>\n",
       "      <td>1445673</td>\n",
       "      <td>Healthy Food for Kids and Teens</td>\n",
       "      <td>Healthy Food for Kids and Teens</td>\n",
       "      <td>Food and Nutrition,</td>\n",
       "      <td>https://www.healthhub.sg/live-healthy/a-health...</td>\n",
       "      <td>A Healthy Food Foundation - for Kids and Teens</td>\n",
       "      <td>Good nutrition for kids plays an important rol...</td>\n",
       "      <td>live-healthy-articles</td>\n",
       "      <td>b'&lt;div class=\"ExternalClass7D45F77CD3864AB0BEE...</td>\n",
       "      <td>Health Promotion Board</td>\n",
       "      <td>Meeting nutritional needs of kids and teenager...</td>\n",
       "      <td>7</td>\n",
       "      <td>normal</td>\n",
       "      <td>867</td>\n",
       "      <td>False</td>\n",
       "    </tr>\n",
       "    <tr>\n",
       "      <th>1520</th>\n",
       "      <td>1445358</td>\n",
       "      <td>How to Study Difficult Subjects</td>\n",
       "      <td>How to Study Difficult Subjects</td>\n",
       "      <td>Mind and Balance,</td>\n",
       "      <td>https://www.healthhub.sg/live-healthy/how_to_s...</td>\n",
       "      <td>how_to_study_difficult_subjects</td>\n",
       "      <td>Your brain is a muscle. You can train it too!</td>\n",
       "      <td>live-healthy-articles</td>\n",
       "      <td>b'&lt;div class=\"ExternalClass7A329CBEFD0645DE957...</td>\n",
       "      <td>Health Promotion Board</td>\n",
       "      <td>So you're pretty happy with the way you've bee...</td>\n",
       "      <td>11</td>\n",
       "      <td>hard</td>\n",
       "      <td>886</td>\n",
       "      <td>True</td>\n",
       "    </tr>\n",
       "    <tr>\n",
       "      <th>1521</th>\n",
       "      <td>1445601</td>\n",
       "      <td>Daily Calcium Intake - For Greater Bone Strength</td>\n",
       "      <td>Daily Calcium Intake - For Greater Bone Strength</td>\n",
       "      <td>Food and Nutrition,</td>\n",
       "      <td>https://www.healthhub.sg/live-healthy/calcium-...</td>\n",
       "      <td>Calcium - For Greater Bone Strength</td>\n",
       "      <td>Eating foods high in calcium or calcium-rich f...</td>\n",
       "      <td>live-healthy-articles</td>\n",
       "      <td>b'&lt;div class=\"ExternalClass99E1081248974CC5B9D...</td>\n",
       "      <td>Health Promotion Board</td>\n",
       "      <td>Bones hold up the tissues of your body, giving...</td>\n",
       "      <td>9</td>\n",
       "      <td>normal</td>\n",
       "      <td>742</td>\n",
       "      <td>False</td>\n",
       "    </tr>\n",
       "    <tr>\n",
       "      <th>1537</th>\n",
       "      <td>1439100</td>\n",
       "      <td>Paediatric Dentistry: Child’s First Encounter</td>\n",
       "      <td>Paediatric Dentistry: Child’s First Encounter</td>\n",
       "      <td>Body Care,</td>\n",
       "      <td>https://www.healthhub.sg/a-z/medical-and-care-...</td>\n",
       "      <td>Paediatric-dentistry-child-first-visit-dentist</td>\n",
       "      <td>Your Child’s First Visit to the Dentist</td>\n",
       "      <td>medical-care-and-facilities</td>\n",
       "      <td>b'&lt;div class=\"ExternalClassAEE367D5B82A455BA8F...</td>\n",
       "      <td>Health Promotion Board</td>\n",
       "      <td>Wondering if your child needs to visit a paedi...</td>\n",
       "      <td>8</td>\n",
       "      <td>normal</td>\n",
       "      <td>440</td>\n",
       "      <td>False</td>\n",
       "    </tr>\n",
       "    <tr>\n",
       "      <th>1538</th>\n",
       "      <td>1439066</td>\n",
       "      <td>Baby Friendly Hospital Initiative</td>\n",
       "      <td>Baby Friendly Hospital Initiative</td>\n",
       "      <td>Pregnancy and Infant Health,</td>\n",
       "      <td>https://www.healthhub.sg/a-z/medical-and-care-...</td>\n",
       "      <td>baby-friendly-hospital-initiative</td>\n",
       "      <td>The Baby Friendly Hospital Initiative (BFHI) s...</td>\n",
       "      <td>medical-care-and-facilities</td>\n",
       "      <td>b'&lt;div class=\"ExternalClassF3707967027D4E3388E...</td>\n",
       "      <td>Health Promotion Board</td>\n",
       "      <td>The Baby Friendly Hospital Initiative (BFHI) i...</td>\n",
       "      <td>11</td>\n",
       "      <td>hard</td>\n",
       "      <td>1272</td>\n",
       "      <td>True</td>\n",
       "    </tr>\n",
       "  </tbody>\n",
       "</table>\n",
       "<p>671 rows × 15 columns</p>\n",
       "</div>"
      ],
      "text/plain": [
       "\n",
       "           id                                      content_name  \\\n",
       "\u001b[1;36m0\u001b[0m     \u001b[1;36m1435040\u001b[0m           Breast Screening Subsidies in Singapore   \n",
       "\u001b[1;36m28\u001b[0m    \u001b[1;36m1437742\u001b[0m         Preventing HPV infection: HPV Vaccination   \n",
       "\u001b[1;36m29\u001b[0m    \u001b[1;36m1437732\u001b[0m                                 Fever in Children   \n",
       "\u001b[1;36m30\u001b[0m    \u001b[1;36m1437433\u001b[0m                     Hand, Foot, and Mouth Disease   \n",
       "\u001b[1;36m32\u001b[0m    \u001b[1;36m1437894\u001b[0m                                   Cervical Cancer   \n",
       "\u001b[33m...\u001b[0m       \u001b[33m...\u001b[0m                                               \u001b[33m...\u001b[0m   \n",
       "\u001b[1;36m1519\u001b[0m  \u001b[1;36m1445673\u001b[0m                   Healthy Food for Kids and Teens   \n",
       "\u001b[1;36m1520\u001b[0m  \u001b[1;36m1445358\u001b[0m                   How to Study Difficult Subjects   \n",
       "\u001b[1;36m1521\u001b[0m  \u001b[1;36m1445601\u001b[0m  Daily Calcium Intake - For Greater Bone Strength   \n",
       "\u001b[1;36m1537\u001b[0m  \u001b[1;36m1439100\u001b[0m     Paediatric Dentistry: Child’s First Encounter   \n",
       "\u001b[1;36m1538\u001b[0m  \u001b[1;36m1439066\u001b[0m                 Baby Friendly Hospital Initiative   \n",
       "\n",
       "                                                 title  \\\n",
       "\u001b[1;36m0\u001b[0m              Breast Screening Subsidies in Singapore   \n",
       "\u001b[1;36m28\u001b[0m           Preventing HPV infection: HPV Vaccination   \n",
       "\u001b[1;36m29\u001b[0m                                   Fever in Children   \n",
       "\u001b[1;36m30\u001b[0m                       Hand, Foot, and Mouth Disease   \n",
       "\u001b[1;36m32\u001b[0m                                     Cervical Cancer   \n",
       "\u001b[33m...\u001b[0m                                                \u001b[33m...\u001b[0m   \n",
       "\u001b[1;36m1519\u001b[0m                   Healthy Food for Kids and Teens   \n",
       "\u001b[1;36m1520\u001b[0m                   How to Study Difficult Subjects   \n",
       "\u001b[1;36m1521\u001b[0m  Daily Calcium Intake - For Greater Bone Strength   \n",
       "\u001b[1;36m1537\u001b[0m     Paediatric Dentistry: Child’s First Encounter   \n",
       "\u001b[1;36m1538\u001b[0m                 Baby Friendly Hospital Initiative   \n",
       "\n",
       "                                 article_category_names  \\\n",
       "\u001b[1;36m0\u001b[0m                             Conditions and Illnesses,   \n",
       "\u001b[1;36m28\u001b[0m    Sexual Health and Relationships,Child and Teen\u001b[33m...\u001b[0m   \n",
       "\u001b[1;36m29\u001b[0m                            Conditions and Illnesses,   \n",
       "\u001b[1;36m30\u001b[0m                                                 \u001b[3;35mNone\u001b[0m   \n",
       "\u001b[1;36m32\u001b[0m                                           Body Care,   \n",
       "\u001b[33m...\u001b[0m                                                 \u001b[33m...\u001b[0m   \n",
       "\u001b[1;36m1519\u001b[0m                                Food and Nutrition,   \n",
       "\u001b[1;36m1520\u001b[0m                                  Mind and Balance,   \n",
       "\u001b[1;36m1521\u001b[0m                                Food and Nutrition,   \n",
       "\u001b[1;36m1537\u001b[0m                                         Body Care,   \n",
       "\u001b[1;36m1538\u001b[0m                       Pregnancy and Infant Health,   \n",
       "\n",
       "                                               full_url  \\\n",
       "\u001b[1;36m0\u001b[0m     \u001b[4;94mhttps://www.healthhub.sg/a-z/costs-and-financi...\u001b[0m   \n",
       "\u001b[1;36m28\u001b[0m    \u001b[4;94mhttps://www.healthhub.sg/a-z/diseases-and-cond...\u001b[0m   \n",
       "\u001b[1;36m29\u001b[0m    \u001b[4;94mhttps://www.healthhub.sg/a-z/diseases-and-cond...\u001b[0m   \n",
       "\u001b[1;36m30\u001b[0m    \u001b[4;94mhttps://www.healthhub.sg/a-z/diseases-and-cond...\u001b[0m   \n",
       "\u001b[1;36m32\u001b[0m    \u001b[4;94mhttps://www.healthhub.sg/a-z/diseases-and-cond...\u001b[0m   \n",
       "\u001b[33m...\u001b[0m                                                 \u001b[33m...\u001b[0m   \n",
       "\u001b[1;36m1519\u001b[0m  \u001b[4;94mhttps://www.healthhub.sg/live-healthy/a-health...\u001b[0m   \n",
       "\u001b[1;36m1520\u001b[0m  \u001b[4;94mhttps://www.healthhub.sg/live-healthy/how_to_s...\u001b[0m   \n",
       "\u001b[1;36m1521\u001b[0m  \u001b[4;94mhttps://www.healthhub.sg/live-healthy/calcium-...\u001b[0m   \n",
       "\u001b[1;36m1537\u001b[0m  \u001b[4;94mhttps://www.healthhub.sg/a-z/medical-and-care-...\u001b[0m   \n",
       "\u001b[1;36m1538\u001b[0m  \u001b[4;94mhttps://www.healthhub.sg/a-z/medical-and-care-...\u001b[0m   \n",
       "\n",
       "                                        friendly_url  \\\n",
       "\u001b[1;36m0\u001b[0m                  breast-cancer-screening-subsidies   \n",
       "\u001b[1;36m28\u001b[0m                  faqs-on-hpv-and-hpv-immunisation   \n",
       "\u001b[1;36m29\u001b[0m                 common-childhood-conditions-fever   \n",
       "\u001b[1;36m30\u001b[0m                                              hfmd   \n",
       "\u001b[1;36m32\u001b[0m                             topic_cervical_cancer   \n",
       "\u001b[33m...\u001b[0m                                              \u001b[33m...\u001b[0m   \n",
       "\u001b[1;36m1519\u001b[0m  A Healthy Food Foundation - for Kids and Teens   \n",
       "\u001b[1;36m1520\u001b[0m                 how_to_study_difficult_subjects   \n",
       "\u001b[1;36m1521\u001b[0m             Calcium - For Greater Bone Strength   \n",
       "\u001b[1;36m1537\u001b[0m  Paediatric-dentistry-child-first-visit-dentist   \n",
       "\u001b[1;36m1538\u001b[0m               baby-friendly-hospital-initiative   \n",
       "\n",
       "                                   category_description  \\\n",
       "\u001b[1;36m0\u001b[0m     Here’s all you need to know about breast cance\u001b[33m...\u001b[0m   \n",
       "\u001b[1;36m28\u001b[0m    The Human Papillomavirus \u001b[1m(\u001b[0mHPV\u001b[1m)\u001b[0m vaccine or HPV \u001b[33m...\u001b[0m   \n",
       "\u001b[1;36m29\u001b[0m    Spot the symptoms of fever in your child and l\u001b[33m...\u001b[0m   \n",
       "\u001b[1;36m30\u001b[0m    Hand, Foot, and Mouth Disease is present all y\u001b[33m...\u001b[0m   \n",
       "\u001b[1;36m32\u001b[0m    Cervical cancer is the 10th most common cancer\u001b[33m...\u001b[0m   \n",
       "\u001b[33m...\u001b[0m                                                 \u001b[33m...\u001b[0m   \n",
       "\u001b[1;36m1519\u001b[0m  Good nutrition for kids plays an important rol\u001b[33m...\u001b[0m   \n",
       "\u001b[1;36m1520\u001b[0m      Your brain is a muscle. You can train it too!   \n",
       "\u001b[1;36m1521\u001b[0m  Eating foods high in calcium or calcium-rich f\u001b[33m...\u001b[0m   \n",
       "\u001b[1;36m1537\u001b[0m            Your Child’s First Visit to the Dentist   \n",
       "\u001b[1;36m1538\u001b[0m  The Baby Friendly Hospital Initiative \u001b[1m(\u001b[0mBFHI\u001b[1m)\u001b[0m s\u001b[33m...\u001b[0m   \n",
       "\n",
       "                 content_category  \\\n",
       "\u001b[1;36m0\u001b[0m              cost-and-financing   \n",
       "\u001b[1;36m28\u001b[0m        diseases-and-conditions   \n",
       "\u001b[1;36m29\u001b[0m        diseases-and-conditions   \n",
       "\u001b[1;36m30\u001b[0m        diseases-and-conditions   \n",
       "\u001b[1;36m32\u001b[0m        diseases-and-conditions   \n",
       "\u001b[33m...\u001b[0m                           \u001b[33m...\u001b[0m   \n",
       "\u001b[1;36m1519\u001b[0m        live-healthy-articles   \n",
       "\u001b[1;36m1520\u001b[0m        live-healthy-articles   \n",
       "\u001b[1;36m1521\u001b[0m        live-healthy-articles   \n",
       "\u001b[1;36m1537\u001b[0m  medical-care-and-facilities   \n",
       "\u001b[1;36m1538\u001b[0m  medical-care-and-facilities   \n",
       "\n",
       "                                           content_body  \\\n",
       "\u001b[1;36m0\u001b[0m     b'<div \u001b[33mclass\u001b[0m=\u001b[35m\"ExternalClass07C58E0D957B4AA7B14\u001b[0m\u001b[33m...\u001b[0m   \n",
       "\u001b[1;36m28\u001b[0m    b'<div \u001b[33mclass\u001b[0m=\u001b[35m\"ExternalClass50E49E9021B24103B87\u001b[0m\u001b[33m...\u001b[0m   \n",
       "\u001b[1;36m29\u001b[0m    b'<div \u001b[33mclass\u001b[0m=\u001b[35m\"ExternalClassA0AA5FCB88FC42E4AEF\u001b[0m\u001b[33m...\u001b[0m   \n",
       "\u001b[1;36m30\u001b[0m    b'<div \u001b[33mclass\u001b[0m=\u001b[35m\"ExternalClassB1300026922048DE830\u001b[0m\u001b[33m...\u001b[0m   \n",
       "\u001b[1;36m32\u001b[0m    b'<div \u001b[33mclass\u001b[0m=\u001b[35m\"ExternalClass4A8C8F03738343228D5\u001b[0m\u001b[33m...\u001b[0m   \n",
       "\u001b[33m...\u001b[0m                                                 \u001b[33m...\u001b[0m   \n",
       "\u001b[1;36m1519\u001b[0m  b'<div \u001b[33mclass\u001b[0m=\u001b[35m\"ExternalClass7D45F77CD3864AB0BEE\u001b[0m\u001b[33m...\u001b[0m   \n",
       "\u001b[1;36m1520\u001b[0m  b'<div \u001b[33mclass\u001b[0m=\u001b[35m\"ExternalClass7A329CBEFD0645DE957\u001b[0m\u001b[33m...\u001b[0m   \n",
       "\u001b[1;36m1521\u001b[0m  b'<div \u001b[33mclass\u001b[0m=\u001b[35m\"ExternalClass99E1081248974CC5B9D\u001b[0m\u001b[33m...\u001b[0m   \n",
       "\u001b[1;36m1537\u001b[0m  b'<div \u001b[33mclass\u001b[0m=\u001b[35m\"ExternalClassAEE367D5B82A455BA8F\u001b[0m\u001b[33m...\u001b[0m   \n",
       "\u001b[1;36m1538\u001b[0m  b'<div \u001b[33mclass\u001b[0m=\u001b[35m\"ExternalClassF3707967027D4E3388E\u001b[0m\u001b[33m...\u001b[0m   \n",
       "\n",
       "                     pr_name  \\\n",
       "\u001b[1;36m0\u001b[0m     Health Promotion Board   \n",
       "\u001b[1;36m28\u001b[0m    Health Promotion Board   \n",
       "\u001b[1;36m29\u001b[0m    Health Promotion Board   \n",
       "\u001b[1;36m30\u001b[0m    Health Promotion Board   \n",
       "\u001b[1;36m32\u001b[0m    Health Promotion Board   \n",
       "\u001b[33m...\u001b[0m                      \u001b[33m...\u001b[0m   \n",
       "\u001b[1;36m1519\u001b[0m  Health Promotion Board   \n",
       "\u001b[1;36m1520\u001b[0m  Health Promotion Board   \n",
       "\u001b[1;36m1521\u001b[0m  Health Promotion Board   \n",
       "\u001b[1;36m1537\u001b[0m  Health Promotion Board   \n",
       "\u001b[1;36m1538\u001b[0m  Health Promotion Board   \n",
       "\n",
       "                                 extracted_content_body  readability_score  \\\n",
       "\u001b[1;36m0\u001b[0m     Breast cancer is the number one cancer among w\u001b[33m...\u001b[0m                  \u001b[1;36m9\u001b[0m   \n",
       "\u001b[1;36m28\u001b[0m    About HPV and its link to Cervical Cancer\\n\\nW\u001b[33m...\u001b[0m                 \u001b[1;36m10\u001b[0m   \n",
       "\u001b[1;36m29\u001b[0m    What is a Fever in a Child?\\nA normal, healthy\u001b[33m...\u001b[0m                  \u001b[1;36m6\u001b[0m   \n",
       "\u001b[1;36m30\u001b[0m    Hand, Foot, and Mouth Disease \u001b[1m(\u001b[0mHFMD\u001b[1m)\u001b[0m is caused\u001b[33m...\u001b[0m                  \u001b[1;36m7\u001b[0m   \n",
       "\u001b[1;36m32\u001b[0m    The best protection against cervical cancer is\u001b[33m...\u001b[0m                  \u001b[1;36m9\u001b[0m   \n",
       "\u001b[33m...\u001b[0m                                                 \u001b[33m...\u001b[0m                \u001b[33m...\u001b[0m   \n",
       "\u001b[1;36m1519\u001b[0m  Meeting nutritional needs of kids and teenager\u001b[33m...\u001b[0m                  \u001b[1;36m7\u001b[0m   \n",
       "\u001b[1;36m1520\u001b[0m  So you're pretty happy with the way you've bee\u001b[33m...\u001b[0m                 \u001b[1;36m11\u001b[0m   \n",
       "\u001b[1;36m1521\u001b[0m  Bones hold up the tissues of your body, giving\u001b[33m...\u001b[0m                  \u001b[1;36m9\u001b[0m   \n",
       "\u001b[1;36m1537\u001b[0m  Wondering if your child needs to visit a paedi\u001b[33m...\u001b[0m                  \u001b[1;36m8\u001b[0m   \n",
       "\u001b[1;36m1538\u001b[0m  The Baby Friendly Hospital Initiative \u001b[1m(\u001b[0mBFHI\u001b[1m)\u001b[0m i\u001b[33m...\u001b[0m                 \u001b[1;36m11\u001b[0m   \n",
       "\n",
       "     reading_level  word_count  reading_level_hard  \n",
       "\u001b[1;36m0\u001b[0m           normal         \u001b[1;36m563\u001b[0m               \u001b[3;91mFalse\u001b[0m  \n",
       "\u001b[1;36m28\u001b[0m            hard        \u001b[1;36m2042\u001b[0m                \u001b[3;92mTrue\u001b[0m  \n",
       "\u001b[1;36m29\u001b[0m          normal         \u001b[1;36m942\u001b[0m               \u001b[3;91mFalse\u001b[0m  \n",
       "\u001b[1;36m30\u001b[0m          normal         \u001b[1;36m834\u001b[0m               \u001b[3;91mFalse\u001b[0m  \n",
       "\u001b[1;36m32\u001b[0m          normal         \u001b[1;36m714\u001b[0m               \u001b[3;91mFalse\u001b[0m  \n",
       "\u001b[33m...\u001b[0m            \u001b[33m...\u001b[0m         \u001b[33m...\u001b[0m                 \u001b[33m...\u001b[0m  \n",
       "\u001b[1;36m1519\u001b[0m        normal         \u001b[1;36m867\u001b[0m               \u001b[3;91mFalse\u001b[0m  \n",
       "\u001b[1;36m1520\u001b[0m          hard         \u001b[1;36m886\u001b[0m                \u001b[3;92mTrue\u001b[0m  \n",
       "\u001b[1;36m1521\u001b[0m        normal         \u001b[1;36m742\u001b[0m               \u001b[3;91mFalse\u001b[0m  \n",
       "\u001b[1;36m1537\u001b[0m        normal         \u001b[1;36m440\u001b[0m               \u001b[3;91mFalse\u001b[0m  \n",
       "\u001b[1;36m1538\u001b[0m          hard        \u001b[1;36m1272\u001b[0m                \u001b[3;92mTrue\u001b[0m  \n",
       "\n",
       "\u001b[1m[\u001b[0m\u001b[1;36m671\u001b[0m rows x \u001b[1;36m15\u001b[0m columns\u001b[1m]\u001b[0m"
      ]
     },
     "metadata": {},
     "output_type": "display_data"
    }
   ],
   "source": [
    "df_hpb = df_extracted[df_extracted[\"pr_name\"] == \"Health Promotion Board\"]\n",
    "\n",
    "display(df_hpb)  # noqa: F821"
   ]
  },
  {
   "cell_type": "code",
   "execution_count": 33,
   "id": "093e96f8",
   "metadata": {
    "ExecuteTime": {
     "end_time": "2024-08-14T22:02:58.324085Z",
     "start_time": "2024-08-14T22:02:58.320327Z"
    }
   },
   "outputs": [
    {
     "name": "stdout",
     "output_type": "stream",
     "text": [
      "<class 'pandas.core.frame.DataFrame'>\n",
      "Index: 671 entries, 0 to 1538\n",
      "Data columns (total 15 columns):\n",
      " #   Column                  Non-Null Count  Dtype \n",
      "---  ------                  --------------  ----- \n",
      " 0   id                      671 non-null    int64 \n",
      " 1   content_name            671 non-null    object\n",
      " 2   title                   671 non-null    object\n",
      " 3   article_category_names  611 non-null    object\n",
      " 4   full_url                671 non-null    object\n",
      " 5   friendly_url            671 non-null    object\n",
      " 6   category_description    670 non-null    object\n",
      " 7   content_category        671 non-null    object\n",
      " 8   content_body            671 non-null    object\n",
      " 9   pr_name                 671 non-null    object\n",
      " 10  extracted_content_body  671 non-null    object\n",
      " 11  readability_score       671 non-null    int64 \n",
      " 12  reading_level           671 non-null    object\n",
      " 13  word_count              671 non-null    int64 \n",
      " 14  reading_level_hard      671 non-null    bool  \n",
      "dtypes: bool(1), int64(3), object(11)\n",
      "memory usage: 79.3+ KB\n"
     ]
    }
   ],
   "source": [
    "df_hpb.info()"
   ]
  },
  {
   "cell_type": "code",
   "execution_count": 34,
   "id": "b8c60c7a",
   "metadata": {
    "ExecuteTime": {
     "end_time": "2024-08-14T22:02:58.903913Z",
     "start_time": "2024-08-14T22:02:58.896626Z"
    }
   },
   "outputs": [
    {
     "data": {
      "text/html": [
       "<pre style=\"white-space:pre;overflow-x:auto;line-height:normal;font-family:Menlo,'DejaVu Sans Mono',consolas,'Courier New',monospace\"></pre>\n"
      ],
      "text/plain": []
     },
     "metadata": {},
     "output_type": "display_data"
    },
    {
     "data": {
      "text/html": [
       "<div>\n",
       "<style scoped>\n",
       "    .dataframe tbody tr th:only-of-type {\n",
       "        vertical-align: middle;\n",
       "    }\n",
       "\n",
       "    .dataframe tbody tr th {\n",
       "        vertical-align: top;\n",
       "    }\n",
       "\n",
       "    .dataframe thead th {\n",
       "        text-align: right;\n",
       "    }\n",
       "</style>\n",
       "<table border=\"1\" class=\"dataframe\">\n",
       "  <thead>\n",
       "    <tr style=\"text-align: right;\">\n",
       "      <th></th>\n",
       "      <th>id</th>\n",
       "      <th>readability_score</th>\n",
       "      <th>word_count</th>\n",
       "    </tr>\n",
       "  </thead>\n",
       "  <tbody>\n",
       "    <tr>\n",
       "      <th>count</th>\n",
       "      <td>6.710000e+02</td>\n",
       "      <td>671.000000</td>\n",
       "      <td>671.000000</td>\n",
       "    </tr>\n",
       "    <tr>\n",
       "      <th>mean</th>\n",
       "      <td>1.444031e+06</td>\n",
       "      <td>7.201192</td>\n",
       "      <td>772.995529</td>\n",
       "    </tr>\n",
       "    <tr>\n",
       "      <th>std</th>\n",
       "      <td>2.053035e+03</td>\n",
       "      <td>1.918426</td>\n",
       "      <td>424.190585</td>\n",
       "    </tr>\n",
       "    <tr>\n",
       "      <th>min</th>\n",
       "      <td>1.435040e+06</td>\n",
       "      <td>0.000000</td>\n",
       "      <td>12.000000</td>\n",
       "    </tr>\n",
       "    <tr>\n",
       "      <th>25%</th>\n",
       "      <td>1.443050e+06</td>\n",
       "      <td>6.000000</td>\n",
       "      <td>496.000000</td>\n",
       "    </tr>\n",
       "    <tr>\n",
       "      <th>50%</th>\n",
       "      <td>1.444615e+06</td>\n",
       "      <td>7.000000</td>\n",
       "      <td>716.000000</td>\n",
       "    </tr>\n",
       "    <tr>\n",
       "      <th>75%</th>\n",
       "      <td>1.445410e+06</td>\n",
       "      <td>8.000000</td>\n",
       "      <td>979.000000</td>\n",
       "    </tr>\n",
       "    <tr>\n",
       "      <th>max</th>\n",
       "      <td>1.446100e+06</td>\n",
       "      <td>17.000000</td>\n",
       "      <td>2817.000000</td>\n",
       "    </tr>\n",
       "  </tbody>\n",
       "</table>\n",
       "</div>"
      ],
      "text/plain": [
       "\n",
       "                 id  readability_score   word_count\n",
       "count  \u001b[1;36m6.710000e+02\u001b[0m         \u001b[1;36m671.000000\u001b[0m   \u001b[1;36m671.000000\u001b[0m\n",
       "mean   \u001b[1;36m1.444031e+06\u001b[0m           \u001b[1;36m7.201192\u001b[0m   \u001b[1;36m772.995529\u001b[0m\n",
       "std    \u001b[1;36m2.053035e+03\u001b[0m           \u001b[1;36m1.918426\u001b[0m   \u001b[1;36m424.190585\u001b[0m\n",
       "min    \u001b[1;36m1.435040e+06\u001b[0m           \u001b[1;36m0.000000\u001b[0m    \u001b[1;36m12.000000\u001b[0m\n",
       "\u001b[1;36m25\u001b[0m%    \u001b[1;36m1.443050e+06\u001b[0m           \u001b[1;36m6.000000\u001b[0m   \u001b[1;36m496.000000\u001b[0m\n",
       "\u001b[1;36m50\u001b[0m%    \u001b[1;36m1.444615e+06\u001b[0m           \u001b[1;36m7.000000\u001b[0m   \u001b[1;36m716.000000\u001b[0m\n",
       "\u001b[1;36m75\u001b[0m%    \u001b[1;36m1.445410e+06\u001b[0m           \u001b[1;36m8.000000\u001b[0m   \u001b[1;36m979.000000\u001b[0m\n",
       "max    \u001b[1;36m1.446100e+06\u001b[0m          \u001b[1;36m17.000000\u001b[0m  \u001b[1;36m2817.000000\u001b[0m"
      ]
     },
     "execution_count": 34,
     "metadata": {},
     "output_type": "execute_result"
    }
   ],
   "source": [
    "df_hpb.describe()"
   ]
  },
  {
   "cell_type": "code",
   "execution_count": 35,
   "id": "446c5076",
   "metadata": {
    "ExecuteTime": {
     "end_time": "2024-08-14T22:02:59.512558Z",
     "start_time": "2024-08-14T22:02:59.509541Z"
    }
   },
   "outputs": [
    {
     "name": "stdout",
     "output_type": "stream",
     "text": [
      "reading_level\n",
      "normal       607\n",
      "hard          60\n",
      "very hard      4\n",
      "Name: id, dtype: int64\n"
     ]
    }
   ],
   "source": [
    "print(df_hpb.groupby([\"reading_level\"])[\"id\"].count().sort_values(ascending=False))"
   ]
  },
  {
   "cell_type": "code",
   "execution_count": 36,
   "id": "a7f788a4",
   "metadata": {
    "ExecuteTime": {
     "end_time": "2024-08-14T22:03:00.101341Z",
     "start_time": "2024-08-14T22:03:00.058399Z"
    }
   },
   "outputs": [
    {
     "data": {
      "application/vnd.plotly.v1+json": {
       "config": {
        "plotlyServerURL": "https://plot.ly"
       },
       "data": [
        {
         "customdata": [
          [
           1435040,
           "https://www.healthhub.sg/a-z/costs-and-financing/breast-cancer-screening-subsidies"
          ]
         ],
         "hovertemplate": "content_category=cost-and-financing<br>word_count=%{x}<br>readability_score=%{y}<br>id=%{customdata[0]}<br>full_url=%{customdata[1]}<extra></extra>",
         "legendgroup": "cost-and-financing",
         "marker": {
          "color": "#636efa",
          "symbol": "circle"
         },
         "mode": "markers",
         "name": "cost-and-financing",
         "orientation": "v",
         "showlegend": true,
         "type": "scatter",
         "x": [
          563
         ],
         "xaxis": "x",
         "y": [
          9
         ],
         "yaxis": "y"
        },
        {
         "customdata": [
          [
           1437742,
           "https://www.healthhub.sg/a-z/diseases-and-conditions/faqs-on-hpv-and-hpv-immunisation"
          ],
          [
           1437732,
           "https://www.healthhub.sg/a-z/diseases-and-conditions/common-childhood-conditions-fever"
          ],
          [
           1437433,
           "https://www.healthhub.sg/a-z/diseases-and-conditions/hfmd"
          ],
          [
           1437894,
           "https://www.healthhub.sg/a-z/diseases-and-conditions/topic_cervical_cancer"
          ],
          [
           1437295,
           "https://www.healthhub.sg/a-z/diseases-and-conditions/topics_influenza"
          ],
          [
           1437509,
           "https://www.healthhub.sg/a-z/diseases-and-conditions/herpes"
          ],
          [
           1437337,
           "https://www.healthhub.sg/a-z/diseases-and-conditions/breastcancer"
          ],
          [
           1437477,
           "https://www.healthhub.sg/a-z/diseases-and-conditions/HepatitisB"
          ],
          [
           1437643,
           "https://www.healthhub.sg/a-z/diseases-and-conditions/top-10-common-childhood-conditions-ehb"
          ],
          [
           1437896,
           "https://www.healthhub.sg/a-z/diseases-and-conditions/topics_chickenpox"
          ],
          [
           1437303,
           "https://www.healthhub.sg/a-z/diseases-and-conditions/topic_pneumonia"
          ],
          [
           1437716,
           "https://www.healthhub.sg/a-z/diseases-and-conditions/pocket-guide-to-diabetes"
          ],
          [
           1437357,
           "https://www.healthhub.sg/a-z/diseases-and-conditions/colorectalcancer"
          ],
          [
           1437342,
           "https://www.healthhub.sg/a-z/diseases-and-conditions/colic"
          ],
          [
           1437734,
           "https://www.healthhub.sg/a-z/diseases-and-conditions/common-childhood-conditions-diarrhoea"
          ],
          [
           1437405,
           "https://www.healthhub.sg/a-z/diseases-and-conditions/genitalherpes"
          ],
          [
           1437728,
           "https://www.healthhub.sg/a-z/diseases-and-conditions/common-childhood-conditions-coughs-and-colds"
          ],
          [
           1437661,
           "https://www.healthhub.sg/a-z/diseases-and-conditions/measles"
          ],
          [
           1437465,
           "https://www.healthhub.sg/a-z/diseases-and-conditions/HepatitisA"
          ],
          [
           1437304,
           "https://www.healthhub.sg/a-z/diseases-and-conditions/topic_mumps"
          ],
          [
           1437738,
           "https://www.healthhub.sg/a-z/diseases-and-conditions/common-childhood-conditions-constipation"
          ],
          [
           1437890,
           "https://www.healthhub.sg/a-z/diseases-and-conditions/guide_to_understanding_molar_incisor_hypomineralisation"
          ],
          [
           1437735,
           "https://www.healthhub.sg/a-z/diseases-and-conditions/common-childhood-illnesses-asthma"
          ],
          [
           1437884,
           "https://www.healthhub.sg/a-z/diseases-and-conditions/guide_to_understanding_leongs_premolars"
          ],
          [
           1437301,
           "https://www.healthhub.sg/a-z/diseases-and-conditions/topic_pneumococcal_disease"
          ],
          [
           1437510,
           "https://www.healthhub.sg/a-z/diseases-and-conditions/topics_avian_flu_H5N1"
          ],
          [
           1437513,
           "https://www.healthhub.sg/a-z/diseases-and-conditions/chlamydia"
          ],
          [
           1437429,
           "https://www.healthhub.sg/a-z/diseases-and-conditions/gonorrhoea"
          ],
          [
           1437507,
           "https://www.healthhub.sg/a-z/diseases-and-conditions/foodpoisoning"
          ],
          [
           1437740,
           "https://www.healthhub.sg/a-z/diseases-and-conditions/common-childhood-injuries-a-child-safe-home"
          ],
          [
           1437331,
           "https://www.healthhub.sg/a-z/diseases-and-conditions/topics_hiv_aids"
          ],
          [
           1437462,
           "https://www.healthhub.sg/a-z/diseases-and-conditions/topics_baby_bottle_tooth_decay"
          ],
          [
           1437892,
           "https://www.healthhub.sg/a-z/diseases-and-conditions/rubella"
          ],
          [
           1437338,
           "https://www.healthhub.sg/a-z/diseases-and-conditions/bruises_HPB"
          ],
          [
           1437898,
           "https://www.healthhub.sg/a-z/diseases-and-conditions/topics_tooth_decay"
          ],
          [
           1437341,
           "https://www.healthhub.sg/a-z/diseases-and-conditions/burns"
          ],
          [
           1437888,
           "https://www.healthhub.sg/a-z/diseases-and-conditions/stress"
          ],
          [
           1437501,
           "https://www.healthhub.sg/a-z/diseases-and-conditions/examplesofinfectiousdiseases_pdf"
          ],
          [
           1437308,
           "https://www.healthhub.sg/a-z/diseases-and-conditions/topic_sars"
          ],
          [
           1437505,
           "https://www.healthhub.sg/a-z/diseases-and-conditions/birdfluinfluenzaah7n8faq"
          ],
          [
           1437726,
           "https://www.healthhub.sg/a-z/diseases-and-conditions/common-childhood-conditions-gastroenteritis"
          ],
          [
           1437886,
           "https://www.healthhub.sg/a-z/diseases-and-conditions/syphilis"
          ]
         ],
         "hovertemplate": "content_category=diseases-and-conditions<br>word_count=%{x}<br>readability_score=%{y}<br>id=%{customdata[0]}<br>full_url=%{customdata[1]}<extra></extra>",
         "legendgroup": "diseases-and-conditions",
         "marker": {
          "color": "#EF553B",
          "symbol": "circle"
         },
         "mode": "markers",
         "name": "diseases-and-conditions",
         "orientation": "v",
         "showlegend": true,
         "type": "scatter",
         "x": [
          2042,
          942,
          834,
          714,
          1612,
          602,
          727,
          961,
          1304,
          837,
          876,
          220,
          752,
          552,
          210,
          641,
          682,
          793,
          461,
          423,
          772,
          178,
          1202,
          223,
          762,
          438,
          756,
          871,
          227,
          941,
          2414,
          807,
          576,
          305,
          411,
          1209,
          403,
          776,
          542,
          354,
          719,
          1036
         ],
         "xaxis": "x",
         "y": [
          10,
          6,
          7,
          9,
          9,
          9,
          8,
          8,
          6,
          11,
          10,
          7,
          9,
          8,
          6,
          9,
          9,
          10,
          8,
          10,
          7,
          6,
          8,
          6,
          11,
          9,
          11,
          11,
          8,
          7,
          8,
          9,
          9,
          8,
          9,
          6,
          7,
          9,
          6,
          10,
          9,
          10
         ],
         "yaxis": "y"
        },
        {
         "customdata": [
          [
           1444475,
           "https://www.healthhub.sg/live-healthy/weight_putting_me_at_risk_of_health_problems"
          ],
          [
           1445137,
           "https://www.healthhub.sg/live-healthy/meal-ideas-month-7"
          ],
          [
           1445282,
           "https://www.healthhub.sg/live-healthy/seniors-need-more-protein"
          ],
          [
           1443111,
           "https://www.healthhub.sg/live-healthy/how-much-to-eat-at-each-meal"
          ],
          [
           1443987,
           "https://www.healthhub.sg/live-healthy/all-you-need-to-know-about-vaccinations"
          ],
          [
           1444951,
           "https://www.healthhub.sg/live-healthy/Early-Nutrition-Baby-Switching-Cows-Milk"
          ],
          [
           1442668,
           "https://www.healthhub.sg/live-healthy/the-oily-truth"
          ],
          [
           1444820,
           "https://www.healthhub.sg/live-healthy/recommended_dietary_allowances"
          ],
          [
           1445263,
           "https://www.healthhub.sg/live-healthy/lets-get-real-about-vaping"
          ],
          [
           1444912,
           "https://www.healthhub.sg/live-healthy/is-it-possible-to-overfeed-my-baby"
          ],
          [
           1444919,
           "https://www.healthhub.sg/live-healthy/guide-to-infant-medication"
          ],
          [
           1442828,
           "https://www.healthhub.sg/live-healthy/baby-getting-ready-for-solids"
          ],
          [
           1445136,
           "https://www.healthhub.sg/live-healthy/getting-baby-started-on-solids"
          ],
          [
           1442923,
           "https://www.healthhub.sg/live-healthy/if-you-think-that-thin-people-dont-get-diabetes-think-again"
          ],
          [
           1442691,
           "https://www.healthhub.sg/live-healthy/pregnancy-feeding-your-baby-breastfeeding"
          ],
          [
           1442335,
           "https://www.healthhub.sg/live-healthy/build_healthy_food_foundation"
          ],
          [
           1444886,
           "https://www.healthhub.sg/live-healthy/is-my-baby-constipated"
          ],
          [
           1445148,
           "https://www.healthhub.sg/live-healthy/meal-ideas-month-10"
          ],
          [
           1443089,
           "https://www.healthhub.sg/live-healthy/plan-your-meals-with-my-healthy-plate"
          ],
          [
           1444898,
           "https://www.healthhub.sg/live-healthy/baby-stools-are-watery-what-to-do"
          ],
          [
           1442801,
           "https://www.healthhub.sg/live-healthy/baby-common-infant-problems-and-conditions"
          ],
          [
           1445479,
           "https://www.healthhub.sg/live-healthy/health_screening_for_primary_school"
          ],
          [
           1442600,
           "https://www.healthhub.sg/live-healthy/9-health-hazards-of-electronic-devices-for-kids"
          ],
          [
           1445336,
           "https://www.healthhub.sg/live-healthy/make_healthier_choice"
          ],
          [
           1442805,
           "https://www.healthhub.sg/live-healthy/baby-immunisation-inject-to-protect"
          ],
          [
           1445251,
           "https://www.healthhub.sg/live-healthy/mens-health-sudden-weight-gain"
          ],
          [
           1445324,
           "https://www.healthhub.sg/live-healthy/surviving-sleep-deprivation-with-a-baby"
          ],
          [
           1445643,
           "https://www.healthhub.sg/live-healthy/gettingsupportstis"
          ],
          [
           1445277,
           "https://www.healthhub.sg/live-healthy/why_protein_is_important"
          ],
          [
           1445178,
           "https://www.healthhub.sg/live-healthy/nutrition-for-pre-schoolers-month37-48"
          ],
          [
           1446031,
           "https://www.healthhub.sg/live-healthy/the-best-refreshment"
          ],
          [
           1445310,
           "https://www.healthhub.sg/live-healthy/the-beginners-guide-to-taking-care-of-your-baby-0-6-months"
          ],
          [
           1443701,
           "https://www.healthhub.sg/live-healthy/babys_first_food_journey"
          ],
          [
           1443490,
           "https://www.healthhub.sg/live-healthy/eating-light-at-a-hawker-centre-is-possible"
          ],
          [
           1443083,
           "https://www.healthhub.sg/live-healthy/my-goal-for-this-month"
          ],
          [
           1444946,
           "https://www.healthhub.sg/live-healthy/guide-to-common-infant-conditions"
          ],
          [
           1443584,
           "https://www.healthhub.sg/live-healthy/dietary_guidelines_adults"
          ],
          [
           1445421,
           "https://www.healthhub.sg/live-healthy/have_I_got_a_friend_in_you"
          ],
          [
           1445372,
           "https://www.healthhub.sg/live-healthy/keeping_fit_the_fun_way"
          ],
          [
           1445042,
           "https://www.healthhub.sg/live-healthy/child-fifth-year-what-is-child-bmi"
          ],
          [
           1445959,
           "https://www.healthhub.sg/live-healthy/guide_your_growing_baby"
          ],
          [
           1442389,
           "https://www.healthhub.sg/live-healthy/cut-100-calories-from-each-meal-every-day--without-going-hungry"
          ],
          [
           1445682,
           "https://www.healthhub.sg/live-healthy/mental_health_social_intelligence"
          ],
          [
           1445594,
           "https://www.healthhub.sg/live-healthy/sleep"
          ],
          [
           1445564,
           "https://www.healthhub.sg/live-healthy/headinjuries_inchildren"
          ],
          [
           1445505,
           "https://www.healthhub.sg/live-healthy/TypesOfActivities"
          ],
          [
           1443217,
           "https://www.healthhub.sg/live-healthy/the-importance-of-building-up-your-core"
          ],
          [
           1442515,
           "https://www.healthhub.sg/live-healthy/finding-ease-for-old-knees"
          ],
          [
           1445162,
           "https://www.healthhub.sg/live-healthy/meal-ideas-month-12"
          ],
          [
           1443524,
           "https://www.healthhub.sg/live-healthy/healthy-start-for-your-pregnancy"
          ],
          [
           1445553,
           "https://www.healthhub.sg/live-healthy/buildingasupportivenetwork"
          ],
          [
           1445996,
           "https://www.healthhub.sg/live-healthy/youre-movable-in-your-cubicle"
          ],
          [
           1445484,
           "https://www.healthhub.sg/live-healthy/health_screening_for_secondary_school"
          ],
          [
           1442498,
           "https://www.healthhub.sg/live-healthy/eat-more-and-lose-weight"
          ],
          [
           1446066,
           "https://www.healthhub.sg/live-healthy/i-love-coffee-i-love-tea"
          ],
          [
           1445074,
           "https://www.healthhub.sg/live-healthy/should-i-take-my-child-to-er"
          ],
          [
           1445167,
           "https://www.healthhub.sg/live-healthy/nutrition-for-toddlers-12-24-months"
          ],
          [
           1443212,
           "https://www.healthhub.sg/live-healthy/keep-fit-while-waiting-in-line"
          ],
          [
           1445359,
           "https://www.healthhub.sg/live-healthy/healthyhawkerfood"
          ],
          [
           1445591,
           "https://www.healthhub.sg/live-healthy/mythsandmisconceptionsaboutdepression"
          ],
          [
           1442859,
           "https://www.healthhub.sg/live-healthy/baby-nutrition-for-your-toddler"
          ],
          [
           1444915,
           "https://www.healthhub.sg/live-healthy/tiding-over-teething"
          ],
          [
           1442849,
           "https://www.healthhub.sg/live-healthy/whats-making-me-itchy-down-there"
          ],
          [
           1444848,
           "https://www.healthhub.sg/live-healthy/10-Essentials-for-Mental-Well-Being"
          ],
          [
           1444089,
           "https://www.healthhub.sg/live-healthy/7-reasons-why-your-babys-crying"
          ],
          [
           1446000,
           "https://www.healthhub.sg/live-healthy/alcohol-and-health-set-your-drinking-limits"
          ],
          [
           1442395,
           "https://www.healthhub.sg/live-healthy/lower-calorie-hawker-foods"
          ],
          [
           1444353,
           "https://www.healthhub.sg/live-healthy/smoking-alcohol-and-drugs---why-teens-get-hooked-on-this-triple-threat"
          ],
          [
           1442719,
           "https://www.healthhub.sg/live-healthy/pregnancy-labour-and-delivery-what-to-expect"
          ],
          [
           1444056,
           "https://www.healthhub.sg/live-healthy/healthy_cooking"
          ],
          [
           1444585,
           "https://www.healthhub.sg/live-healthy/makan-matters-whats-a-healthy-diet"
          ],
          [
           1444505,
           "https://www.healthhub.sg/live-healthy/dont-play-play-reaching-exercise-goals-safely"
          ],
          [
           1442484,
           "https://www.healthhub.sg/live-healthy/more-fibre-for-a-fit-and-fabulous-you"
          ],
          [
           1443070,
           "https://www.healthhub.sg/live-healthy/what-is-the-glycaemic-index"
          ],
          [
           1442782,
           "https://www.healthhub.sg/live-healthy/baby-care-of-your-newborn-to-have-and-to-hold"
          ],
          [
           1444451,
           "https://www.healthhub.sg/live-healthy/food-to-fuel-your-workouts"
          ],
          [
           1442997,
           "https://www.healthhub.sg/live-healthy/fun-fruity-facts"
          ],
          [
           1445302,
           "https://www.healthhub.sg/live-healthy/about-lower-sodium-salt"
          ],
          [
           1444393,
           "https://www.healthhub.sg/live-healthy/seeing-green--unwind-with-nature"
          ],
          [
           1445144,
           "https://www.healthhub.sg/live-healthy/meal-ideas-month-8"
          ],
          [
           1445747,
           "https://www.healthhub.sg/live-healthy/differencesbetweenchildandadultbmi"
          ],
          [
           1445249,
           "https://www.healthhub.sg/live-healthy/when-do-baby-teeth-start-falling-out"
          ],
          [
           1443088,
           "https://www.healthhub.sg/live-healthy/the-gi-values-of-common-foods"
          ],
          [
           1444565,
           "https://www.healthhub.sg/live-healthy/whole_grains_wise_choice"
          ],
          [
           1444852,
           "https://www.healthhub.sg/live-healthy/brown_rice_paradise"
          ],
          [
           1442686,
           "https://www.healthhub.sg/live-healthy/diabetes-are-you-at-risk"
          ],
          [
           1442637,
           "https://www.healthhub.sg/live-healthy/pregnancy-tests-for-me-and-my-baby"
          ],
          [
           1445143,
           "https://www.healthhub.sg/live-healthy/meal-ideas-month-9"
          ],
          [
           1445755,
           "https://www.healthhub.sg/live-healthy/mens-health-focus-on-smoking-and-drinking"
          ],
          [
           1443475,
           "https://www.healthhub.sg/live-healthy/banish-nasty-nibbles-with-healthy-snacks"
          ],
          [
           1445512,
           "https://www.healthhub.sg/live-healthy/abcs_of_falls"
          ],
          [
           1444944,
           "https://www.healthhub.sg/live-healthy/guide-to-toddler-medication"
          ],
          [
           1445090,
           "https://www.healthhub.sg/live-healthy/my-child-is-too-short-for-his-age-what-should-i-do"
          ],
          [
           1445147,
           "https://www.healthhub.sg/live-healthy/meal-ideas-month-11"
          ],
          [
           1443002,
           "https://www.healthhub.sg/live-healthy/mushrooms-mushrooms"
          ],
          [
           1442694,
           "https://www.healthhub.sg/live-healthy/pregnancy-gearing-up-for-birth"
          ],
          [
           1445534,
           "https://www.healthhub.sg/live-healthy/boosting_childs_mental_wellbeing"
          ],
          [
           1445586,
           "https://www.healthhub.sg/live-healthy/warningsignsof_dementia"
          ],
          [
           1445689,
           "https://www.healthhub.sg/live-healthy/quittips"
          ],
          [
           1445686,
           "https://www.healthhub.sg/live-healthy/questions_smoking"
          ],
          [
           1445881,
           "https://www.healthhub.sg/live-healthy/morning-sickness-should-you-be-worried"
          ],
          [
           1445947,
           "https://www.healthhub.sg/live-healthy/sugar-rush"
          ],
          [
           1444895,
           "https://www.healthhub.sg/live-healthy/help-my-baby-is-coughing-and-wheezing"
          ],
          [
           1444503,
           "https://www.healthhub.sg/live-healthy/eat-the-rainbow-to-beat-the-blues"
          ],
          [
           1445942,
           "https://www.healthhub.sg/live-healthy/mental-wellbeing"
          ],
          [
           1446021,
           "https://www.healthhub.sg/live-healthy/energy-boosting-breakfasts"
          ],
          [
           1443130,
           "https://www.healthhub.sg/live-healthy/eat-your-veggies"
          ],
          [
           1443357,
           "https://www.healthhub.sg/live-healthy/tips-on-fall-prevention"
          ],
          [
           1445402,
           "https://www.healthhub.sg/live-healthy/facts_tobacco_products"
          ],
          [
           1445342,
           "https://www.healthhub.sg/live-healthy/dealing_with_cyber-bullies"
          ],
          [
           1444538,
           "https://www.healthhub.sg/live-healthy/exercise-vs-diet"
          ],
          [
           1446074,
           "https://www.healthhub.sg/live-healthy/will-running-solve-my-pot-belly-problem"
          ],
          [
           1444636,
           "https://www.healthhub.sg/live-healthy/should-kids-sleep-in-when-schools-out"
          ],
          [
           1445425,
           "https://www.healthhub.sg/live-healthy/breathe_in_the_air"
          ],
          [
           1442711,
           "https://www.healthhub.sg/live-healthy/pregnancy-what-happens-in-the-third-trimester"
          ],
          [
           1445298,
           "https://www.healthhub.sg/live-healthy/influenza_vaccine_for_your_child"
          ],
          [
           1443254,
           "https://www.healthhub.sg/live-healthy/run-from-chronic-illnesses"
          ],
          [
           1443586,
           "https://www.healthhub.sg/live-healthy/yawn-im-having-a-food-coma"
          ],
          [
           1445172,
           "https://www.healthhub.sg/live-healthy/nutrition-for-toddlers-25-36-months-old"
          ],
          [
           1445320,
           "https://www.healthhub.sg/live-healthy/get_active_lifestyle_guide"
          ],
          [
           1443171,
           "https://www.healthhub.sg/live-healthy/getting-high-on-team-sports"
          ],
          [
           1443039,
           "https://www.healthhub.sg/live-healthy/carbohydrates-and-diabetes"
          ],
          [
           1442681,
           "https://www.healthhub.sg/live-healthy/low-in-energy-you-could-be-low-in-iron"
          ],
          [
           1444584,
           "https://www.healthhub.sg/live-healthy/start-your-year-end-vacation-with-a-flu-jab"
          ],
          [
           1445412,
           "https://www.healthhub.sg/live-healthy/debunking_10_nutrition_myths"
          ],
          [
           1442755,
           "https://www.healthhub.sg/live-healthy/helping-youth-fight-depression"
          ],
          [
           1445332,
           "https://www.healthhub.sg/live-healthy/the-postpartum-weight-loss-journey"
          ],
          [
           1442687,
           "https://www.healthhub.sg/live-healthy/smart_ways_fill_up_fruits_veggies"
          ],
          [
           1445729,
           "https://www.healthhub.sg/live-healthy/yourguidetounderstandingdementia_pdf"
          ],
          [
           1446088,
           "https://www.healthhub.sg/live-healthy/how-to-get-to-10000-steps-a-day--the-easy-way"
          ],
          [
           1445698,
           "https://www.healthhub.sg/live-healthy/getting_support"
          ],
          [
           1444512,
           "https://www.healthhub.sg/live-healthy/work-out-from-home-build-your-endurance"
          ],
          [
           1444973,
           "https://www.healthhub.sg/live-healthy/Ready-Steady-Wean-How-To-Move-Baby-Onto-Solids"
          ],
          [
           1445704,
           "https://www.healthhub.sg/live-healthy/Eating-and-living-well"
          ],
          [
           1443007,
           "https://www.healthhub.sg/live-healthy/get-vaccinated"
          ],
          [
           1445776,
           "https://www.healthhub.sg/live-healthy/7-tricks-for-surviving-the-food-court-at-lunchtime"
          ],
          [
           1445954,
           "https://www.healthhub.sg/live-healthy/pregnancy-what-happens-in-the-first-trimester"
          ],
          [
           1442975,
           "https://www.healthhub.sg/live-healthy/5-local-games-to-bring-you-back-in-time"
          ],
          [
           1445772,
           "https://www.healthhub.sg/live-healthy/keeping-bones-strong"
          ],
          [
           1443024,
           "https://www.healthhub.sg/live-healthy/ways_to_live_healthy"
          ],
          [
           1445117,
           "https://www.healthhub.sg/live-healthy/child-bigger-than-average-but-active-should-i-be-worried"
          ],
          [
           1442558,
           "https://www.healthhub.sg/live-healthy/8-quick-things-you-can-do-to-de-stress-right-now"
          ],
          [
           1445043,
           "https://www.healthhub.sg/live-healthy/child-sixth-year-what-to-eat"
          ],
          [
           1445216,
           "https://www.healthhub.sg/live-healthy/know-your-servings-photo-guide"
          ],
          [
           1444952,
           "https://www.healthhub.sg/live-healthy/Beat-Diabetes-with-These-4-Simple-Steps"
          ],
          [
           1445166,
           "https://www.healthhub.sg/live-healthy/guide-to-oral-care-for-toddler"
          ],
          [
           1445663,
           "https://www.healthhub.sg/live-healthy/Whole-grains"
          ],
          [
           1442789,
           "https://www.healthhub.sg/live-healthy/help-ah-gong-and-ah-ma-age-well-with-healthy-eating"
          ],
          [
           1445354,
           "https://www.healthhub.sg/live-healthy/healthy-meals-in-pre-schools-programme"
          ],
          [
           1445326,
           "https://www.healthhub.sg/live-healthy/what-to-eat-while-breastfeeding"
          ],
          [
           1442802,
           "https://www.healthhub.sg/live-healthy/baby-time-to-unwind"
          ],
          [
           1445595,
           "https://www.healthhub.sg/live-healthy/Healthy-meals-in-school"
          ],
          [
           1444530,
           "https://www.healthhub.sg/live-healthy/say-hello-to-4ds-and-goodbye-to-smoking"
          ],
          [
           1444747,
           "https://www.healthhub.sg/live-healthy/soya_unique_plant_protein"
          ],
          [
           1445884,
           "https://www.healthhub.sg/live-healthy/when-to-sound-the-alarm-on-your-pregnancy"
          ],
          [
           1445603,
           "https://www.healthhub.sg/live-healthy/benefits-of-fruit-and-vegetables"
          ],
          [
           1444553,
           "https://www.healthhub.sg/live-healthy/move-more-live-longer"
          ],
          [
           1445071,
           "https://www.healthhub.sg/live-healthy/my-child-eats-nuggets-and-junk-food-what-should-i-do"
          ],
          [
           1442553,
           "https://www.healthhub.sg/live-healthy/healthy-snacks-for-kids"
          ],
          [
           1445194,
           "https://www.healthhub.sg/live-healthy/eye-care-for-pre-schooler"
          ],
          [
           1446096,
           "https://www.healthhub.sg/live-healthy/ladies-lifting-weights-wont-make-you-look-masculine"
          ],
          [
           1445092,
           "https://www.healthhub.sg/live-healthy/tea_old_beverage_full_of_benefits"
          ],
          [
           1443026,
           "https://www.healthhub.sg/live-healthy/5-healthier-cbd-lunchtime-dining-options"
          ],
          [
           1445737,
           "https://www.healthhub.sg/live-healthy/Smoke-free-teens"
          ],
          [
           1444590,
           "https://www.healthhub.sg/live-healthy/5-ways-to-psych-yourself-for-a-mammogram"
          ],
          [
           1446081,
           "https://www.healthhub.sg/live-healthy/ideas-for-an-active-weekend"
          ],
          [
           1444496,
           "https://www.healthhub.sg/live-healthy/ideas-for-an-active-weekend"
          ],
          [
           1443082,
           "https://www.healthhub.sg/live-healthy/understandinganxiety"
          ],
          [
           1446045,
           "https://www.healthhub.sg/live-healthy/help-your-child-cope-with-puberty-and-self-esteem"
          ],
          [
           1444499,
           "https://www.healthhub.sg/live-healthy/from-goreng-to-grill-healthier-cooking-methods"
          ],
          [
           1445328,
           "https://www.healthhub.sg/live-healthy/the-beginners-guide-to-taking-care-of-your-toddler-19-24-months"
          ],
          [
           1442571,
           "https://www.healthhub.sg/live-healthy/pregnancy-being-fit-when-pregnant"
          ],
          [
           1444632,
           "https://www.healthhub.sg/live-healthy/nuts_about_nuts"
          ],
          [
           1445876,
           "https://www.healthhub.sg/live-healthy/dont-toast-to-your-babys-health"
          ],
          [
           1445506,
           "https://www.healthhub.sg/live-healthy/150minutes"
          ],
          [
           1442458,
           "https://www.healthhub.sg/live-healthy/help-your-child-untangle-from-the-web"
          ],
          [
           1443393,
           "https://www.healthhub.sg/live-healthy/hidden-sugars-and-diabetes"
          ],
          [
           1444941,
           "https://www.healthhub.sg/live-healthy/screen-time-infants-baby-toddlers"
          ],
          [
           1445986,
           "https://www.healthhub.sg/live-healthy/burn-calories-while-watching-tv"
          ],
          [
           1445217,
           "https://www.healthhub.sg/live-healthy/does-my-baby-have-allergies"
          ],
          [
           1442947,
           "https://www.healthhub.sg/live-healthy/growing-kid-help-your-child-smile-for-life"
          ],
          [
           1442664,
           "https://www.healthhub.sg/live-healthy/pregnancy-antenatal-postnatal-services-support-helplines"
          ],
          [
           1443913,
           "https://www.healthhub.sg/live-healthy/healthy-and-delicious-meals-in-school-canteens"
          ],
          [
           1445220,
           "https://www.healthhub.sg/live-healthy/Cut-the-sweet-tallk-4-ways-to-slash-sugar-from-your-diet"
          ],
          [
           1442741,
           "https://www.healthhub.sg/live-healthy/building-resilience-in-your-child"
          ],
          [
           1445674,
           "https://www.healthhub.sg/live-healthy/mentalhealth_resilience"
          ],
          [
           1445547,
           "https://www.healthhub.sg/live-healthy/reduceyourriskofdevelopingdementia"
          ],
          [
           1445319,
           "https://www.healthhub.sg/live-healthy/saying_no"
          ],
          [
           1443302,
           "https://www.healthhub.sg/live-healthy/talking-to-teen-about-sex-and-sexuality"
          ],
          [
           1444446,
           "https://www.healthhub.sg/live-healthy/work-out-from-home-get-stronger"
          ],
          [
           1445573,
           "https://www.healthhub.sg/live-healthy/dentalcheckupsforteens"
          ],
          [
           1446090,
           "https://www.healthhub.sg/live-healthy/the-a-z-guide-to-an-active-lifestyle"
          ],
          [
           1442786,
           "https://www.healthhub.sg/live-healthy/mindful-about-mindfulness"
          ],
          [
           1442722,
           "https://www.healthhub.sg/live-healthy/pregnancy-first-days-of-our-lives-with-baby"
          ],
          [
           1443688,
           "https://www.healthhub.sg/live-healthy/6-blood-tests-every-mum-to-be-undergoes"
          ],
          [
           1443256,
           "https://www.healthhub.sg/live-healthy/rewire-after-you-retire"
          ],
          [
           1443526,
           "https://www.healthhub.sg/live-healthy/healthy-start-for-your-baby"
          ],
          [
           1445568,
           "https://www.healthhub.sg/live-healthy/helpsomeonequitsmoking"
          ],
          [
           1442829,
           "https://www.healthhub.sg/live-healthy/baby-smile-a-little-smile"
          ],
          [
           1445415,
           "https://www.healthhub.sg/live-healthy/sorry_no_coffee_in_this_coffeeshop"
          ],
          [
           1442932,
           "https://www.healthhub.sg/live-healthy/growing-kid-healthy-eyes-clear-vision"
          ],
          [
           1444336,
           "https://www.healthhub.sg/live-healthy/happy-with-healthier-food"
          ],
          [
           1442761,
           "https://www.healthhub.sg/live-healthy/be-a-master-of-stress"
          ],
          [
           1445721,
           "https://www.healthhub.sg/live-healthy/Tobacco-and-tax"
          ],
          [
           1444379,
           "https://www.healthhub.sg/live-healthy/6-smoke-free-ways-to-deal-with-emotions"
          ],
          [
           1444622,
           "https://www.healthhub.sg/live-healthy/my-loved-one-has-dementia--what-do-i-do"
          ],
          [
           1444347,
           "https://www.healthhub.sg/live-healthy/busting-the-myths-of-mental-illness"
          ],
          [
           1442951,
           "https://www.healthhub.sg/live-healthy/healthy-pre-school-accreditation-framework"
          ],
          [
           1442843,
           "https://www.healthhub.sg/live-healthy/baby-activities-for-6-12-months-lets-play-mummy"
          ],
          [
           1443323,
           "https://www.healthhub.sg/live-healthy/role-in-sexuality-education"
          ],
          [
           1444536,
           "https://www.healthhub.sg/live-healthy/real-or-not-busting-exercise-myths"
          ],
          [
           1445843,
           "https://www.healthhub.sg/live-healthy/getting-started-on-health-qigong"
          ],
          [
           1443020,
           "https://www.healthhub.sg/live-healthy/growing-kid-is-my-child-developing-well"
          ],
          [
           1442776,
           "https://www.healthhub.sg/live-healthy/are-you-getting-quality-sleep"
          ],
          [
           1445097,
           "https://www.healthhub.sg/live-healthy/help-my-baby-is-a-fussy-eater"
          ],
          [
           1445406,
           "https://www.healthhub.sg/live-healthy/3_tips_to_lose_weight_the_right_way"
          ],
          [
           1445061,
           "https://www.healthhub.sg/live-healthy/fun-workouts-lazy-girls-singapore"
          ],
          [
           1445120,
           "https://www.healthhub.sg/live-healthy/should-i-let-child-choose-what-food-to-eat"
          ],
          [
           1445854,
           "https://www.healthhub.sg/live-healthy/get-up-and-go---tips-to-get-started-on-your-exercise-journey"
          ],
          [
           1444098,
           "https://www.healthhub.sg/live-healthy/tips_cooking_whole_grains"
          ],
          [
           1445551,
           "https://www.healthhub.sg/live-healthy/healthy_selfesteem_for_your_child"
          ],
          [
           1442644,
           "https://www.healthhub.sg/live-healthy/pregnancy-what-happens-in-the-second-trimester"
          ],
          [
           1445777,
           "https://www.healthhub.sg/live-healthy/the-nudge-to-budge-why-you-should-step-out-of-that-chair"
          ],
          [
           1442736,
           "https://www.healthhub.sg/live-healthy/help-support-wife-pregnancy"
          ],
          [
           1444606,
           "https://www.healthhub.sg/live-healthy/gradual-reduction-in-a-nutshell"
          ],
          [
           1445774,
           "https://www.healthhub.sg/live-healthy/say-siu-dai-instead"
          ],
          [
           1442663,
           "https://www.healthhub.sg/live-healthy/pregnancy-talk-of-the-class-antenatal-class"
          ],
          [
           1444414,
           "https://www.healthhub.sg/live-healthy/plainly-good-ways-to-make-water-tasty"
          ],
          [
           1443116,
           "https://www.healthhub.sg/live-healthy/healthy-20-meals-for-the-entire-family"
          ],
          [
           1444439,
           "https://www.healthhub.sg/live-healthy/boosting-your-self-esteem"
          ],
          [
           1444881,
           "https://www.healthhub.sg/live-healthy/is-my-child-having-a-cold"
          ],
          [
           1442605,
           "https://www.healthhub.sg/live-healthy/how-well-do-you-know-your-sugar"
          ],
          [
           1445763,
           "https://www.healthhub.sg/live-healthy/fancy-footwork-working-out-around-singapore"
          ],
          [
           1445669,
           "https://www.healthhub.sg/live-healthy/babysfirstyearbrain"
          ],
          [
           1443351,
           "https://www.healthhub.sg/live-healthy/nutrition-counts-for-your-growing-child"
          ],
          [
           1443356,
           "https://www.healthhub.sg/live-healthy/lets-get-saucy"
          ],
          [
           1445265,
           "https://www.healthhub.sg/live-healthy/5-things-to-start-doing-now-that-transfat-has-been-banned"
          ],
          [
           1443400,
           "https://www.healthhub.sg/live-healthy/does-red-meat-cause-diabetes"
          ],
          [
           1444300,
           "https://www.healthhub.sg/live-healthy/catch-up-on-calcium"
          ],
          [
           1445300,
           "https://www.healthhub.sg/live-healthy/does_my_child_need_antibiotics"
          ],
          [
           1445738,
           "https://www.healthhub.sg/live-healthy/Fitness fun for kids"
          ],
          [
           1445626,
           "https://www.healthhub.sg/live-healthy/bondingwithyourteenager"
          ],
          [
           1444172,
           "https://www.healthhub.sg/live-healthy/beat_lunch_hour_rush"
          ],
          [
           1445699,
           "https://www.healthhub.sg/live-healthy/smoking_habitoraddiction"
          ],
          [
           1445293,
           "https://www.healthhub.sg/live-healthy/understanding-abdominal-obesity"
          ],
          [
           1443305,
           "https://www.healthhub.sg/live-healthy/cooking_for_health_quickneasy"
          ],
          [
           1442713,
           "https://www.healthhub.sg/live-healthy/dont-let-baby-fat-follow-you-to-adulthood"
          ],
          [
           1442650,
           "https://www.healthhub.sg/live-healthy/shopping-for-fruit-and-veggies"
          ],
          [
           1444319,
           "https://www.healthhub.sg/live-healthy/pasta-fiesta-which-is-healthier"
          ],
          [
           1445678,
           "https://www.healthhub.sg/live-healthy/mental_health_emotional_intelligence_pdf"
          ],
          [
           1443631,
           "https://www.healthhub.sg/live-healthy/good_eye_care_habits"
          ],
          [
           1442921,
           "https://www.healthhub.sg/live-healthy/growing-kid-children-see-children-do"
          ],
          [
           1443370,
           "https://www.healthhub.sg/live-healthy/move-in-your-time"
          ],
          [
           1443094,
           "https://www.healthhub.sg/live-healthy/Stay-Active-with-Diabetes"
          ],
          [
           1442891,
           "https://www.healthhub.sg/live-healthy/cute-bentos-for-kids"
          ],
          [
           1445637,
           "https://www.healthhub.sg/live-healthy/getyourbodybeachready"
          ],
          [
           1446057,
           "https://www.healthhub.sg/live-healthy/how-to-talk-to-your-kids-about-sex"
          ],
          [
           1442844,
           "https://www.healthhub.sg/live-healthy/baby-when-allergies-occur"
          ],
          [
           1444140,
           "https://www.healthhub.sg/live-healthy/restaurant_guide_healthier_eating"
          ],
          [
           1444969,
           "https://www.healthhub.sg/live-healthy/my-child-is-still-sucking-his-thumb"
          ],
          [
           1445533,
           "https://www.healthhub.sg/live-healthy/howtoquit"
          ],
          [
           1442617,
           "https://www.healthhub.sg/live-healthy/pregnancy-coping-with-the-unexpected-pregnancy-complications"
          ],
          [
           1442785,
           "https://www.healthhub.sg/live-healthy/baby-mummys-off-to-work"
          ],
          [
           1444592,
           "https://www.healthhub.sg/live-healthy/5-fast-facts-about-nicotine-replacement-therapy"
          ],
          [
           1442929,
           "https://www.healthhub.sg/live-healthy/growing-kid-raising-healthy-kids"
          ],
          [
           1446020,
           "https://www.healthhub.sg/live-healthy/bring-the-gift-of-smoke-free-living-home"
          ],
          [
           1443433,
           "https://www.healthhub.sg/live-healthy/ageing-socially-and-gracefully"
          ],
          [
           1442481,
           "https://www.healthhub.sg/live-healthy/8-personal-hygiene-boo-boos-you-dont-wanna-make"
          ],
          [
           1442979,
           "https://www.healthhub.sg/live-healthy/the-surprising-health-benefits-of-walking"
          ],
          [
           1445163,
           "https://www.healthhub.sg/live-healthy/guide-to-common-toddler-conditions"
          ],
          [
           1443093,
           "https://www.healthhub.sg/live-healthy/why-are-whole-grains-good-for-diabetes"
          ],
          [
           1444469,
           "https://www.healthhub.sg/live-healthy/work-out-from-home-stretch-your-flexibility"
          ],
          [
           1445070,
           "https://www.healthhub.sg/live-healthy/should-i-switch-baby-to-low-fat-milk"
          ],
          [
           1445363,
           "https://www.healthhub.sg/live-healthy/no_gym_membership_1"
          ],
          [
           1442877,
           "https://www.healthhub.sg/live-healthy/is-an-activity-tracker-necessary"
          ],
          [
           1442690,
           "https://www.healthhub.sg/live-healthy/pregnancy-thinking-ahead"
          ],
          [
           1443003,
           "https://www.healthhub.sg/live-healthy/how-to-order-healthier-drinks"
          ],
          [
           1445525,
           "https://www.healthhub.sg/live-healthy/know_how_to_fight_flu"
          ],
          [
           1445488,
           "https://www.healthhub.sg/live-healthy/deal_with_peer_pressure_media"
          ],
          [
           1445517,
           "https://www.healthhub.sg/live-healthy/Manage Weight Healthily"
          ],
          [
           1444562,
           "https://www.healthhub.sg/live-healthy/how-much-to-eat-perfecting-portions"
          ],
          [
           1442818,
           "https://www.healthhub.sg/live-healthy/falls_prevention_programme"
          ],
          [
           1445330,
           "https://www.healthhub.sg/live-healthy/toddlers-and-physical-activity-what-you-need-to-know"
          ],
          [
           1444615,
           "https://www.healthhub.sg/live-healthy/vegetarian_guide_eating_right"
          ],
          [
           1445338,
           "https://www.healthhub.sg/live-healthy/reading_food_labels_making_sense_fine_print"
          ],
          [
           1444447,
           "https://www.healthhub.sg/live-healthy/dont-forget-your-form"
          ],
          [
           1443392,
           "https://www.healthhub.sg/live-healthy/dont-lose-sleep-over-diabetes"
          ],
          [
           1444566,
           "https://www.healthhub.sg/live-healthy/yum-seng-how-to-order-healthier-drinks"
          ],
          [
           1445315,
           "https://www.healthhub.sg/live-healthy/the-beginners-guide-to-taking-care-of-your-baby-7-12-months"
          ],
          [
           1442810,
           "https://www.healthhub.sg/live-healthy/baby-up-and-about-safely"
          ],
          [
           1442539,
           "https://www.healthhub.sg/live-healthy/pregnancy-a-to-z-of-pregnancy-health"
          ],
          [
           1442998,
           "https://www.healthhub.sg/live-healthy/healthy-eating-for-life"
          ],
          [
           1445924,
           "https://www.healthhub.sg/live-healthy/building-strong-family-ties"
          ],
          [
           1445419,
           "https://www.healthhub.sg/live-healthy/help_is_my_friend_abusing_substances"
          ],
          [
           1445690,
           "https://www.healthhub.sg/live-healthy/responsible_drinking_guide"
          ],
          [
           1444607,
           "https://www.healthhub.sg/live-healthy/learn-the-way-of-the-cold-turkey"
          ],
          [
           1445559,
           "https://www.healthhub.sg/live-healthy/child_choking"
          ],
          [
           1442364,
           "https://www.healthhub.sg/live-healthy/squeezing-in-time-to-get-fit"
          ],
          [
           1443397,
           "https://www.healthhub.sg/live-healthy/diabetes-and-high-blood-cholesterol"
          ],
          [
           1445734,
           "https://www.healthhub.sg/live-healthy/physicalactivity_akeytohealthyageing_pdf"
          ],
          [
           1442907,
           "https://www.healthhub.sg/live-healthy/cultivating-healthy-habits-in-your-preschool-child"
          ],
          [
           1445760,
           "https://www.healthhub.sg/live-healthy/you-are-what-you-eat"
          ],
          [
           1442901,
           "https://www.healthhub.sg/live-healthy/baby-coping-with-your-2-year-old-when-a-firm-hand-is-needed"
          ],
          [
           1444580,
           "https://www.healthhub.sg/live-healthy/steady-balancing-meals-with-my-healthy-plate"
          ],
          [
           1443038,
           "https://www.healthhub.sg/live-healthy/daydreaming-kids-wondering-or-wandering-minds"
          ],
          [
           1444554,
           "https://www.healthhub.sg/live-healthy/10k-ok-how-to-move-more-in-everyday-life"
          ],
          [
           1442856,
           "https://www.healthhub.sg/live-healthy/baby-your-baby-needs-soft-skills-too"
          ],
          [
           1444894,
           "https://www.healthhub.sg/live-healthy/what-are-common-food-allergies"
          ],
          [
           1445695,
           "https://www.healthhub.sg/live-healthy/Drinking"
          ],
          [
           1444467,
           "https://www.healthhub.sg/live-healthy/weather-the-withdrawal"
          ],
          [
           1445131,
           "https://www.healthhub.sg/live-healthy/organic_food_better_or_not"
          ],
          [
           1445620,
           "https://www.healthhub.sg/live-healthy/benefitsofquitting"
          ],
          [
           1443327,
           "https://www.healthhub.sg/live-healthy/spice-up-your-life-dried-and-tested"
          ],
          [
           1446038,
           "https://www.healthhub.sg/live-healthy/energy-balance-the-only-diet-that-really-works"
          ],
          [
           1445433,
           "https://www.healthhub.sg/live-healthy/leading_healthy_Happy_lives"
          ],
          [
           1445555,
           "https://www.healthhub.sg/live-healthy/environmentaltobaccosmoke"
          ],
          [
           1445259,
           "https://www.healthhub.sg/live-healthy/steering-your-teen-away-from-drugs"
          ],
          [
           1444883,
           "https://www.healthhub.sg/live-healthy/when-will-my-baby-get-his-first-tooth"
          ],
          [
           1443462,
           "https://www.healthhub.sg/live-healthy/choosing-healthier-festive-foods-hari-raya-and-deepavali"
          ],
          [
           1445720,
           "https://www.healthhub.sg/live-healthy/Mumps"
          ],
          [
           1444940,
           "https://www.healthhub.sg/live-healthy/guide-to-toddler-eye-care"
          ],
          [
           1446004,
           "https://www.healthhub.sg/live-healthy/is-it-healthier-to-go-vegetarian"
          ],
          [
           1445030,
           "https://www.healthhub.sg/live-healthy/child-fourth-year-mind-your-portions"
          ],
          [
           1444985,
           "https://www.healthhub.sg/live-healthy/Antimicrobial-Resistance-All-You-Need-to-Know"
          ],
          [
           1444500,
           "https://www.healthhub.sg/live-healthy/desserts-durian-diet-busting-diabetes-myths"
          ],
          [
           1445389,
           "https://www.healthhub.sg/live-healthy/sexual_health_guide"
          ],
          [
           1442903,
           "https://www.healthhub.sg/live-healthy/baby-daddy-you-are-important"
          ],
          [
           1443535,
           "https://www.healthhub.sg/live-healthy/are-e-cigarettes-harmful"
          ],
          [
           1445341,
           "https://www.healthhub.sg/live-healthy/grocery_shopping_budget"
          ],
          [
           1443143,
           "https://www.healthhub.sg/live-healthy/add-a-healthy-pop-to-your-favourite-dishes"
          ],
          [
           1442993,
           "https://www.healthhub.sg/live-healthy/growing-kid-mum-dad-where-do-i-come-from"
          ],
          [
           1442806,
           "https://www.healthhub.sg/live-healthy/baby-help-your-baby-develop"
          ],
          [
           1443069,
           "https://www.healthhub.sg/live-healthy/losing-weight-with-diabetes"
          ],
          [
           1444413,
           "https://www.healthhub.sg/live-healthy/get-your-heart-pumping"
          ],
          [
           1442412,
           "https://www.healthhub.sg/live-healthy/the-ultimate-20-minute-workout"
          ],
          [
           1442525,
           "https://www.healthhub.sg/live-healthy/age-well-by-eating-well"
          ],
          [
           1445668,
           "https://www.healthhub.sg/live-healthy/positivementalwellbeing"
          ],
          [
           1442884,
           "https://www.healthhub.sg/live-healthy/baby-placing-your-child-in-a-child-care-centre"
          ],
          [
           1444595,
           "https://www.healthhub.sg/live-healthy/are-you-keeping-up-with-health-screening"
          ],
          [
           1444385,
           "https://www.healthhub.sg/live-healthy/beatstressguide"
          ],
          [
           1442573,
           "https://www.healthhub.sg/live-healthy/look-what-i-brought-for-recess"
          ],
          [
           1445579,
           "https://www.healthhub.sg/live-healthy/keepingyourhomepoisonfree"
          ],
          [
           1442709,
           "https://www.healthhub.sg/live-healthy/pregnancy-recharged-and-ready-for-baby"
          ],
          [
           1442621,
           "https://www.healthhub.sg/live-healthy/6-tips-to-make-brushing-teeth-fun-for-kids"
          ],
          [
           1443859,
           "https://www.healthhub.sg/live-healthy/gals_guide_model_eating"
          ],
          [
           1444107,
           "https://www.healthhub.sg/live-healthy/4-reasons-you-keep-going-to-the-loo"
          ],
          [
           1445193,
           "https://www.healthhub.sg/live-healthy/oral-care-for-pre-schooler"
          ],
          [
           1444452,
           "https://www.healthhub.sg/live-healthy/work-out-from-home-find-your-balance"
          ],
          [
           1445530,
           "https://www.healthhub.sg/live-healthy/Healthy-Weight-Loss"
          ],
          [
           1444221,
           "https://www.healthhub.sg/live-healthy/survive_hawker_paradise"
          ],
          [
           1443161,
           "https://www.healthhub.sg/live-healthy/the-drop-of-life---six-reasons-to-drink-water"
          ],
          [
           1445015,
           "https://www.healthhub.sg/live-healthy/power_up_sports_nutrition"
          ],
          [
           1445317,
           "https://www.healthhub.sg/live-healthy/the-beginners-guide-to-taking-care-of-your-baby-13-18-months"
          ],
          [
           1443415,
           "https://www.healthhub.sg/live-healthy/gamify-your-exercise-with-virtual-reality-sports"
          ],
          [
           1442483,
           "https://www.healthhub.sg/live-healthy/sneak-tweaks-for-healthy-baked-treats"
          ],
          [
           1445767,
           "https://www.healthhub.sg/live-healthy/raising-kids-with-healthy-minds"
          ],
          [
           1445581,
           "https://www.healthhub.sg/live-healthy/keepthoselittlehandsclean"
          ],
          [
           1445416,
           "https://www.healthhub.sg/live-healthy/getsmart_debunking_drug_myths"
          ],
          [
           1442934,
           "https://www.healthhub.sg/live-healthy/the-draw-to-exercise"
          ],
          [
           1443053,
           "https://www.healthhub.sg/live-healthy/travelling-with-diabetes"
          ],
          [
           1443178,
           "https://www.healthhub.sg/live-healthy/surprisingly-healthy-activities-fun-with-friends"
          ],
          [
           1445570,
           "https://www.healthhub.sg/live-healthy/Physical Activity"
          ],
          [
           1444389,
           "https://www.healthhub.sg/live-healthy/how-to-deal-with-cravings-after-quitting"
          ],
          [
           1442647,
           "https://www.healthhub.sg/live-healthy/pregnancy-glow-as-baby-grows"
          ],
          [
           1445104,
           "https://www.healthhub.sg/live-healthy/help-my-child-wont-let-me-brush-her-teeth"
          ],
          [
           1443369,
           "https://www.healthhub.sg/live-healthy/step-right-up"
          ],
          [
           1445480,
           "https://www.healthhub.sg/live-healthy/singapore_on_a_shoestring"
          ],
          [
           1443325,
           "https://www.healthhub.sg/live-healthy/spice-up-your-life-get-fresh-with-herbs"
          ],
          [
           1445345,
           "https://www.healthhub.sg/live-healthy/guys_guide_eat_well_look_good"
          ],
          [
           1445538,
           "https://www.healthhub.sg/live-healthy/travellersurvivalguide"
          ],
          [
           1445764,
           "https://www.healthhub.sg/live-healthy/pushing-your-weight-around"
          ],
          [
           1445066,
           "https://www.healthhub.sg/live-healthy/fun-free-fitness-exercise-class-singapore-health-promotion-board"
          ],
          [
           1445548,
           "https://www.healthhub.sg/live-healthy/doineedadentalspecialist"
          ],
          [
           1442957,
           "https://www.healthhub.sg/live-healthy/growing-kid-keep-germs-away"
          ],
          [
           1442680,
           "https://www.healthhub.sg/live-healthy/sit-up-straight-darling"
          ],
          [
           1443557,
           "https://www.healthhub.sg/live-healthy/mental-toughness-is-like-a-fruit-bowl"
          ],
          [
           1445213,
           "https://www.healthhub.sg/live-healthy/nutrition-for-preschoolers-61-72-months"
          ],
          [
           1445019,
           "https://www.healthhub.sg/live-healthy/baby-first-year-tooth-fairy-to-do-list"
          ],
          [
           1442873,
           "https://www.healthhub.sg/live-healthy/baby-lets-go-mummy"
          ],
          [
           1442916,
           "https://www.healthhub.sg/live-healthy/baby-creating-a-happy-home-for-your-child"
          ],
          [
           1445088,
           "https://www.healthhub.sg/live-healthy/my-child-is-in-75-percentile-bmi-is-that-good"
          ],
          [
           1444334,
           "https://www.healthhub.sg/live-healthy/easy-travel-preparations"
          ],
          [
           1444581,
           "https://www.healthhub.sg/live-healthy/no-wholegrain-no-gain"
          ],
          [
           1442928,
           "https://www.healthhub.sg/live-healthy/growing-kid-books-for-your-growing-child-toddler-and-preschooler"
          ],
          [
           1445703,
           "https://www.healthhub.sg/live-healthy/Binge-drinking-dangers"
          ],
          [
           1444418,
           "https://www.healthhub.sg/live-healthy/build-your-quitting-game-plan"
          ],
          [
           1444303,
           "https://www.healthhub.sg/live-healthy/thrive-not-just-survive-at-the-workplace"
          ],
          [
           1444315,
           "https://www.healthhub.sg/live-healthy/halt-the-salt-sweetie"
          ],
          [
           1445711,
           "https://www.healthhub.sg/live-healthy/primarylessons_inoralcare"
          ],
          [
           1445021,
           "https://www.healthhub.sg/live-healthy/baby-first-year-keep-eyes-on-vision"
          ],
          [
           1445585,
           "https://www.healthhub.sg/live-healthy/managingmentalillness"
          ],
          [
           1444511,
           "https://www.healthhub.sg/live-healthy/lets-get-fit-together"
          ],
          [
           1445255,
           "https://www.healthhub.sg/live-healthy/how-to-care-for-your-teeth-when-you-have-braces"
          ],
          [
           1442905,
           "https://www.healthhub.sg/live-healthy/baby-washy-washy-clean"
          ],
          [
           1443419,
           "https://www.healthhub.sg/live-healthy/exam-stress-busting-tips"
          ],
          [
           1444557,
           "https://www.healthhub.sg/live-healthy/healthy-home-meals-on-a-budget"
          ],
          [
           1445516,
           "https://www.healthhub.sg/live-healthy/combatingfalls"
          ],
          [
           1443054,
           "https://www.healthhub.sg/live-healthy/why-do-i-need-insulin-injections"
          ],
          [
           1445769,
           "https://www.healthhub.sg/live-healthy/dementia-role-reversal-who-is-the-carer-now"
          ],
          [
           1445399,
           "https://www.healthhub.sg/live-healthy/5_reasons_to_keep_exercising"
          ],
          [
           1445964,
           "https://www.healthhub.sg/live-healthy/pregnancy-im-going-to-be-a-mum"
          ],
          [
           1445582,
           "https://www.healthhub.sg/live-healthy/happy_and_lasting_relationships"
          ],
          [
           1444921,
           "https://www.healthhub.sg/live-healthy/can-i-let-my-1-year-old-play-on-the-tablet"
          ],
          [
           1443513,
           "https://www.healthhub.sg/live-healthy/choosing-healthier-festive-foods-christmas-and-chinese-new-year"
          ],
          [
           1442394,
           "https://www.healthhub.sg/live-healthy/a-caregivers-guide-planning-a-well-balanced-diet"
          ],
          [
           1445170,
           "https://www.healthhub.sg/live-healthy/activity-ideas-to-get-tot-moving"
          ],
          [
           1445560,
           "https://www.healthhub.sg/live-healthy/preventfalls"
          ],
          [
           1443389,
           "https://www.healthhub.sg/live-healthy/diabetes-and-heart-disease"
          ],
          [
           1445724,
           "https://www.healthhub.sg/live-healthy/Type-2-Screening-tests"
          ],
          [
           1444676,
           "https://www.healthhub.sg/live-healthy/4-things-you-can-do-to-keep-your-teens-sober"
          ],
          [
           1445577,
           "https://www.healthhub.sg/live-healthy/howdangerousisrubella"
          ],
          [
           1445437,
           "https://www.healthhub.sg/live-healthy/eight_auspicious_foods"
          ],
          [
           1442594,
           "https://www.healthhub.sg/live-healthy/10-hidden-sugar-bombshells-in-your-diet"
          ],
          [
           1445062,
           "https://www.healthhub.sg/live-healthy/small-lifestyle-changes-exercise"
          ],
          [
           1442879,
           "https://www.healthhub.sg/live-healthy/not-safe-for-work--poor-office-hygiene"
          ],
          [
           1445529,
           "https://www.healthhub.sg/live-healthy/Healthy-Weight"
          ],
          [
           1444644,
           "https://www.healthhub.sg/live-healthy/think-smoking-relieves-stress-think-again"
          ],
          [
           1443430,
           "https://www.healthhub.sg/live-healthy/hikes-with-spellbinding-views"
          ],
          [
           1445871,
           "https://www.healthhub.sg/live-healthy/a-healthy-life-begins-in-the-womb"
          ],
          [
           1445098,
           "https://www.healthhub.sg/live-healthy/my-child-wont-eat-veggies-what-can-i-do"
          ],
          [
           1443446,
           "https://www.healthhub.sg/live-healthy/dance-your-way-to-health"
          ],
          [
           1445239,
           "https://www.healthhub.sg/live-healthy/healthy-brain"
          ],
          [
           1445407,
           "https://www.healthhub.sg/live-healthy/how_to_survive_chinese_new_year_feasts"
          ],
          [
           1443612,
           "https://www.healthhub.sg/live-healthy/eye_care_60s_beyond"
          ],
          [
           1443042,
           "https://www.healthhub.sg/live-healthy/check-list-for-pregnancy-with-diabetes"
          ],
          [
           1444899,
           "https://www.healthhub.sg/live-healthy/my-baby-is-a-fussy-eater-what-should-i-do"
          ],
          [
           1444993,
           "https://www.healthhub.sg/live-healthy/Prevent-development-of-diabetes-prediabetes"
          ],
          [
           1442388,
           "https://www.healthhub.sg/live-healthy/5-myths-and-facts-about-metabolism"
          ],
          [
           1445633,
           "https://www.healthhub.sg/live-healthy/broccoli-with-assorted-mushroom"
          ],
          [
           1445648,
           "https://www.healthhub.sg/live-healthy/aidswhatwomenshouldknow"
          ],
          [
           1442765,
           "https://www.healthhub.sg/live-healthy/baby-babys-here-whats-next"
          ],
          [
           1443304,
           "https://www.healthhub.sg/live-healthy/guilt-free-treats-for-kids"
          ],
          [
           1446100,
           "https://www.healthhub.sg/live-healthy/collagen-hotpot-is-it-a-crock-of-lies"
          ],
          [
           1446034,
           "https://www.healthhub.sg/live-healthy/caring-for-dementia-patients-handle-feelings-with-care"
          ],
          [
           1444653,
           "https://www.healthhub.sg/live-healthy/life-is-better-when-youre-sober"
          ],
          [
           1443420,
           "https://www.healthhub.sg/live-healthy/diabetes-and-stress-problems"
          ],
          [
           1444972,
           "https://www.healthhub.sg/live-healthy/how-can-i-prevent-tooth-decay-in-my-child"
          ],
          [
           1444927,
           "https://www.healthhub.sg/live-healthy/should-i-put-juice-in-a-sippy-cup"
          ],
          [
           1444996,
           "https://www.healthhub.sg/live-healthy/baby-third-year-bite-sized-reminders"
          ],
          [
           1443047,
           "https://www.healthhub.sg/live-healthy/watch-over-your-eyes"
          ],
          [
           1445828,
           "https://www.healthhub.sg/live-healthy/fish-bee-hoon-soup"
          ],
          [
           1444366,
           "https://www.healthhub.sg/live-healthy/wanted-new-non-smoking-friends"
          ],
          [
           1446037,
           "https://www.healthhub.sg/live-healthy/contact-lenses-the-dos-and-donts-for-your-teenager"
          ],
          [
           1444435,
           "https://www.healthhub.sg/live-healthy/keep-it-up-staying-smoke-free"
          ],
          [
           1442855,
           "https://www.healthhub.sg/live-healthy/baby-safe-home-for-your-baby"
          ],
          [
           1445346,
           "https://www.healthhub.sg/live-healthy/manage_weight_healthy_way"
          ],
          [
           1443300,
           "https://www.healthhub.sg/live-healthy/nurturing-self-esteem"
          ],
          [
           1444292,
           "https://www.healthhub.sg/live-healthy/7-habits-of-highly-resilient-families"
          ],
          [
           1445625,
           "https://www.healthhub.sg/live-healthy/mee-siam"
          ],
          [
           1445651,
           "https://www.healthhub.sg/live-healthy/rice-pudding-yogurt-sauce"
          ],
          [
           1443124,
           "https://www.healthhub.sg/live-healthy/disconnect-to-reconnect-why-a-social-media-detox-might-be-good-for-you"
          ],
          [
           1444368,
           "https://www.healthhub.sg/live-healthy/exercise-its-easier-than-you-think"
          ],
          [
           1445204,
           "https://www.healthhub.sg/live-healthy/nutrition-for-preschoolers-49-60-month"
          ],
          [
           1442769,
           "https://www.healthhub.sg/live-healthy/baby-has-come-home-dealing-with-changes"
          ],
          [
           1445385,
           "https://www.healthhub.sg/live-healthy/6_ways_to_make_exam_stress_work_for_you"
          ],
          [
           1444472,
           "https://www.healthhub.sg/live-healthy/stubbing-out-myths-about-quitting"
          ],
          [
           1444588,
           "https://www.healthhub.sg/live-healthy/grandma-grandpa-lets-get-moving"
          ],
          [
           1442875,
           "https://www.healthhub.sg/live-healthy/h-team"
          ],
          [
           1444465,
           "https://www.healthhub.sg/live-healthy/just-keep-moving-just-keep-moving"
          ],
          [
           1443387,
           "https://www.healthhub.sg/live-healthy/coping-with-diabetes-and-depression"
          ],
          [
           1445873,
           "https://www.healthhub.sg/live-healthy/creating-a-loving-relationship-for-your-child-and-your-newborn"
          ],
          [
           1444542,
           "https://www.healthhub.sg/live-healthy/walk-the-malls-shop-till-you-drop-kilos"
          ],
          [
           1443128,
           "https://www.healthhub.sg/live-healthy/when-the-brain-is-ill"
          ],
          [
           1443596,
           "https://www.healthhub.sg/live-healthy/no-time-to-exercise-no-problem"
          ],
          [
           1442770,
           "https://www.healthhub.sg/live-healthy/eating-for-healthy-ageing"
          ],
          [
           1442636,
           "https://www.healthhub.sg/live-healthy/pregnancy-when-exposed-to-infections"
          ],
          [
           1444870,
           "https://www.healthhub.sg/live-healthy/how-can-i-get-my-baby-to-sleep-well-and-safely"
          ],
          [
           1445047,
           "https://www.healthhub.sg/live-healthy/child-sixth-year-healthy-screen-habits"
          ],
          [
           1445350,
           "https://www.healthhub.sg/live-healthy/the_science_of_happiness"
          ],
          [
           1444866,
           "https://www.healthhub.sg/live-healthy/help-my-baby-wont-stop-crying"
          ],
          [
           1444917,
           "https://www.healthhub.sg/live-healthy/does-my-baby-need-to-see-a-dentist"
          ],
          [
           1443534,
           "https://www.healthhub.sg/live-healthy/healthy-start-for-your-growing-kid"
          ],
          [
           1444928,
           "https://www.healthhub.sg/live-healthy/stress_can_be_good_for_you"
          ],
          [
           1445681,
           "https://www.healthhub.sg/live-healthy/Alcohol--hazards-and-benefits"
          ],
          [
           1443043,
           "https://www.healthhub.sg/live-healthy/when-you-have-diabetes-use-this-checklist"
          ],
          [
           1444561,
           "https://www.healthhub.sg/live-healthy/time-saving-tips-for-healthy-chefs"
          ],
          [
           1445376,
           "https://www.healthhub.sg/live-healthy/get_a_pal_burn_those_cals"
          ],
          [
           1444321,
           "https://www.healthhub.sg/live-healthy/keep-teeth-in-check"
          ],
          [
           1444652,
           "https://www.healthhub.sg/live-healthy/is-your-child-eating-healthy-meals-at-preschool"
          ],
          [
           1445130,
           "https://www.healthhub.sg/live-healthy/will-my-child-outgrow-his-baby-fat"
          ],
          [
           1442882,
           "https://www.healthhub.sg/live-healthy/baby-keeping-your-child-safe"
          ],
          [
           1445206,
           "https://www.healthhub.sg/live-healthy/activity-ideas-to-get-6-year-old-moving"
          ],
          [
           1442974,
           "https://www.healthhub.sg/live-healthy/growing-kid-smoke-free-environment-for-a-healthier-family"
          ],
          [
           1443911,
           "https://www.healthhub.sg/live-healthy/never-too-early-to-keep-dementia-at-bay"
          ],
          [
           1443405,
           "https://www.healthhub.sg/live-healthy/being-hospitalised-when-you-have-diabetes"
          ],
          [
           1445759,
           "https://www.healthhub.sg/live-healthy/who-says-healthy-food-cant-taste-good"
          ],
          [
           1444317,
           "https://www.healthhub.sg/live-healthy/eat_to_win_school_canteen"
          ],
          [
           1443436,
           "https://www.healthhub.sg/live-healthy/10000-steps-a-day-go-shopping-or-a-holiday"
          ],
          [
           1445191,
           "https://www.healthhub.sg/live-healthy/activity-ideas-to-get-5-year-old-moving"
          ],
          [
           1445173,
           "https://www.healthhub.sg/live-healthy/activity-ideas-to-get-3-year-old-moving"
          ],
          [
           1444558,
           "https://www.healthhub.sg/live-healthy/how-to-have-your-kueh-and-eat-it"
          ],
          [
           1443097,
           "https://www.healthhub.sg/live-healthy/quit-smoking-tips-for-people-with-diabetes"
          ],
          [
           1445116,
           "https://www.healthhub.sg/live-healthy/giving-dessert-as-reward-how-to-undo-it"
          ],
          [
           1445266,
           "https://www.healthhub.sg/live-healthy/12-ways-to-spruce-up-your-health-at-home"
          ],
          [
           1445495,
           "https://www.healthhub.sg/live-healthy/protect_yourself_others_against_flu"
          ],
          [
           1445717,
           "https://www.healthhub.sg/live-healthy/differentspectaclelenses"
          ],
          [
           1442499,
           "https://www.healthhub.sg/live-healthy/she-hits-the-gym-five-times-a-week-for-a-healthier-body"
          ],
          [
           1445121,
           "https://www.healthhub.sg/live-healthy/child-always-hungry-never-stops-eating-what-to-do"
          ],
          [
           1446092,
           "https://www.healthhub.sg/live-healthy/how-to-communicate-with-a-loved-one-with-dementia"
          ],
          [
           1442952,
           "https://www.healthhub.sg/live-healthy/reduce-your-risk-of-stroke-and-act-fast-when-stroke-occurs"
          ],
          [
           1442654,
           "https://www.healthhub.sg/live-healthy/healthy-eating-in-school-and-at-home"
          ],
          [
           1445065,
           "https://www.healthhub.sg/live-healthy/post-ord-fitness-classes-build-muscle-lose-fat-dad-bod"
          ],
          [
           1445542,
           "https://www.healthhub.sg/live-healthy/loving_and_accepting_yourself"
          ],
          [
           1445036,
           "https://www.healthhub.sg/live-healthy/child-fourth-year-birthday-party-survival-guide"
          ],
          [
           1446048,
           "https://www.healthhub.sg/live-healthy/find-the-beat-and-move-your-feet"
          ],
          [
           1443250,
           "https://www.healthhub.sg/live-healthy/play-to-win"
          ],
          [
           1444495,
           "https://www.healthhub.sg/live-healthy/chew-on-mindless-eating"
          ],
          [
           1444394,
           "https://www.healthhub.sg/live-healthy/its-the-little-things"
          ],
          [
           1442561,
           "https://www.healthhub.sg/live-healthy/stepping-up-to-the-challenge"
          ],
          [
           1444527,
           "https://www.healthhub.sg/live-healthy/healthier-happier-richer-this-is-you-smoke-free"
          ],
          [
           1444391,
           "https://www.healthhub.sg/live-healthy/look-on-the-bright-side-managing-setbacks"
          ],
          [
           1443009,
           "https://www.healthhub.sg/live-healthy/7-outdoor-spots-to-bring-your-family-and-catch-pokemon"
          ],
          [
           1443894,
           "https://www.healthhub.sg/live-healthy/man_enough_healthy_eating"
          ],
          [
           1445017,
           "https://www.healthhub.sg/live-healthy/baby-first-year-go-steady-with-solids"
          ],
          [
           1445274,
           "https://www.healthhub.sg/live-healthy/10-ways-seniors-stay-healthy-at-home"
          ],
          [
           1445798,
           "https://www.healthhub.sg/live-healthy/mee-goreng"
          ],
          [
           1444409,
           "https://www.healthhub.sg/live-healthy/kacang-puteh-and-other-healthy-snacks-to-pack"
          ],
          [
           1443048,
           "https://www.healthhub.sg/live-healthy/beat-the-flu-when-you-have-diabetes"
          ],
          [
           1444531,
           "https://www.healthhub.sg/live-healthy/weigh-to-go-quit-smoking-without-weight-gain"
          ],
          [
           1445394,
           "https://www.healthhub.sg/live-healthy/awkward_turtle"
          ],
          [
           1444478,
           "https://www.healthhub.sg/live-healthy/shake-up-old-habits-to-stub-out"
          ],
          [
           1444516,
           "https://www.healthhub.sg/live-healthy/healthy-on-holiday-tips-to-stay-fit-when-travelling"
          ],
          [
           1444411,
           "https://www.healthhub.sg/live-healthy/cooking-good-healthier-cookware"
          ],
          [
           1444471,
           "https://www.healthhub.sg/live-healthy/know-your-enemy-identify-and-avoid-triggers"
          ],
          [
           1445105,
           "https://www.healthhub.sg/live-healthy/the-dinner-table-is-a-battlefield-what-can-i-do"
          ],
          [
           1444658,
           "https://www.healthhub.sg/live-healthy/survive-situations-without-drinking"
          ],
          [
           1445049,
           "https://www.healthhub.sg/live-healthy/child-fifth-year-preparing-for-preschool"
          ],
          [
           1445075,
           "https://www.healthhub.sg/live-healthy/should-i-let-child-decide-or-build-fixed-routine"
          ],
          [
           1442339,
           "https://www.healthhub.sg/live-healthy/3-trails-to-hit-this-weekend-for-a-dose-of-fitness-and-heritage"
          ],
          [
           1443248,
           "https://www.healthhub.sg/live-healthy/why-cant-i-manage-my-weight"
          ],
          [
           1445189,
           "https://www.healthhub.sg/live-healthy/activity-ideas-to-get-pre-schooler-moving"
          ],
          [
           1445566,
           "https://www.healthhub.sg/live-healthy/toystoryonsafety"
          ],
          [
           1442991,
           "https://www.healthhub.sg/live-healthy/growing-kid-growing-up-safe"
          ],
          [
           1445751,
           "https://www.healthhub.sg/live-healthy/childbmi_healthproblems"
          ],
          [
           1443558,
           "https://www.healthhub.sg/live-healthy/drowning"
          ],
          [
           1442410,
           "https://www.healthhub.sg/live-healthy/healthy-eating--by-winner-of-masterchef-asia"
          ],
          [
           1444490,
           "https://www.healthhub.sg/live-healthy/hit-the-trails-for-fitness-and-culture"
          ],
          [
           1445212,
           "https://www.healthhub.sg/live-healthy/baby-first-year-bite-sized-reminders"
          ],
          [
           1445951,
           "https://www.healthhub.sg/live-healthy/a-healthier-way-to-feast"
          ],
          [
           1445236,
           "https://www.healthhub.sg/live-healthy/Get-your-kids-eating-healthy-this-christmas"
          ],
          [
           1444959,
           "https://www.healthhub.sg/live-healthy/toast_to_health_christmas_new_year"
          ],
          [
           1445956,
           "https://www.healthhub.sg/live-healthy/sweetening-your-cny-without-the-added-sugar"
          ],
          [
           1445968,
           "https://www.healthhub.sg/live-healthy/tools-for-terrific-teeth"
          ],
          [
           1444350,
           "https://www.healthhub.sg/live-healthy/a-thousand-ways-to-walk-10000-steps"
          ],
          [
           1443142,
           "https://www.healthhub.sg/live-healthy/surprisingly-healthy-activities-go-solo"
          ],
          [
           1445889,
           "https://www.healthhub.sg/live-healthy/you-wouldnt-trust-a-stranger"
          ],
          [
           1445634,
           "https://www.healthhub.sg/live-healthy/honey-ginger-steamed-egg"
          ],
          [
           1445476,
           "https://www.healthhub.sg/live-healthy/school_is_back_are_you_ready"
          ],
          [
           1445789,
           "https://www.healthhub.sg/live-healthy/Top-10-tips-to-dine-healthily-this-festive-season"
          ],
          [
           1445471,
           "https://www.healthhub.sg/live-healthy/adventuretime"
          ],
          [
           1442474,
           "https://www.healthhub.sg/live-healthy/she-lost-30-kilos-to-fit-into-her-old-clothes"
          ],
          [
           1445950,
           "https://www.healthhub.sg/live-healthy/stay-fit-tips-for-chinese-new-year"
          ],
          [
           1445273,
           "https://www.healthhub.sg/live-healthy/9-ways-healthy-happy-telecommuter"
          ],
          [
           1444633,
           "https://www.healthhub.sg/live-healthy/get-your-zs-to-ace-your-game"
          ],
          [
           1445294,
           "https://www.healthhub.sg/live-healthy/habits-to-fight-belly-fat"
          ],
          [
           1445869,
           "https://www.healthhub.sg/live-healthy/pint-of-no-return"
          ],
          [
           1445970,
           "https://www.healthhub.sg/live-healthy/how-to-survive-the-festive-period-of-overindulgence"
          ],
          [
           1445379,
           "https://www.healthhub.sg/live-healthy/one_week_make_it_count"
          ],
          [
           1444879,
           "https://www.healthhub.sg/live-healthy/spring_to_health_CNY"
          ],
          [
           1444987,
           "https://www.healthhub.sg/live-healthy/Eating-healthy-during-deepavali"
          ],
          [
           1445429,
           "https://www.healthhub.sg/live-healthy/dont_be_a_party_pooper"
          ],
          [
           1445712,
           "https://www.healthhub.sg/live-healthy/singaporecombatsinfectiousdiseaseswithlegislation"
          ],
          [
           1445428,
           "https://www.healthhub.sg/live-healthy/why-cant_i_stop_drinking"
          ],
          [
           1445958,
           "https://www.healthhub.sg/live-healthy/auspiciously-delicious-dishes"
          ],
          [
           1444997,
           "https://www.healthhub.sg/live-healthy/child-fifth-year-bite-sized-reminders"
          ],
          [
           1445027,
           "https://www.healthhub.sg/live-healthy/baby-second-year-eat-play-love"
          ],
          [
           1445024,
           "https://www.healthhub.sg/live-healthy/baby-second-year-protect-smile"
          ],
          [
           1445543,
           "https://www.healthhub.sg/live-healthy/child-obesity-causes"
          ],
          [
           1444337,
           "https://www.healthhub.sg/live-healthy/mozzie-woes-dengue"
          ],
          [
           1445002,
           "https://www.healthhub.sg/live-healthy/child-sixth-year-bite-sized-reminders"
          ],
          [
           1444872,
           "https://www.healthhub.sg/live-healthy/is-my-baby's-spit-up-normal"
          ],
          [
           1444991,
           "https://www.healthhub.sg/live-healthy/baby-second-year-bite-sized-reminders"
          ],
          [
           1443375,
           "https://www.healthhub.sg/live-healthy/stay-active-as-you-travel"
          ],
          [
           1445000,
           "https://www.healthhub.sg/live-healthy/child-fourth-year-bite-sized-reminders"
          ],
          [
           1442351,
           "https://www.healthhub.sg/live-healthy/4-ways-to-motivate-your-loved-ones-to-exercise"
          ],
          [
           1444492,
           "https://www.healthhub.sg/live-healthy/Vaping-is-not-smoking-and-Other-Tobacco-Myths"
          ],
          [
           1443220,
           "https://www.healthhub.sg/live-healthy/how-to-get-your-parents-to-get-moving"
          ],
          [
           1445513,
           "https://www.healthhub.sg/live-healthy/Physical-Activity-Benefits"
          ],
          [
           1445475,
           "https://www.healthhub.sg/live-healthy/being_a_helping_hand"
          ],
          [
           1445725,
           "https://www.healthhub.sg/live-healthy/Child-fractures"
          ],
          [
           1445750,
           "https://www.healthhub.sg/live-healthy/Healthy-eating-and-fitness"
          ],
          [
           1445247,
           "https://www.healthhub.sg/live-healthy/mens-health-uncle-to-hunkle-bro-bonding"
          ],
          [
           1444381,
           "https://www.healthhub.sg/live-healthy/9-reasons-smokers-are-grateful-theyve-quit"
          ],
          [
           1445260,
           "https://www.healthhub.sg/live-healthy/move-it-feel-young"
          ],
          [
           1442640,
           "https://www.healthhub.sg/live-healthy/pregnancy-someone-call-the-doc"
          ],
          [
           1445286,
           "https://www.healthhub.sg/live-healthy/healthy-balanced-diet-plan"
          ],
          [
           1444526,
           "https://www.healthhub.sg/live-healthy/whats-your-reason-to-stub-out"
          ],
          [
           1444610,
           "https://www.healthhub.sg/live-healthy/slip-ups-dos-and-donts"
          ],
          [
           1445521,
           "https://www.healthhub.sg/live-healthy/Weight-Matters---Staying-Positive"
          ],
          [
           1445707,
           "https://www.healthhub.sg/live-healthy/wholegrain-for-children"
          ],
          [
           1442384,
           "https://www.healthhub.sg/live-healthy/blogger-kenneth-lees-amazing-weight-loss-journey"
          ],
          [
           1444611,
           "https://www.healthhub.sg/live-healthy/use-this-coupon-get-support-from-your-loved-ones"
          ],
          [
           1444922,
           "https://www.healthhub.sg/live-healthy/howdoibrushmychildsteeth"
          ],
          [
           1445291,
           "https://www.healthhub.sg/live-healthy/balanced-diet-qqh-concept"
          ],
          [
           1444440,
           "https://www.healthhub.sg/live-healthy/diabetes-whats-the-big-deal"
          ],
          [
           1445659,
           "https://www.healthhub.sg/live-healthy/beehoon-chicken-bolognaise"
          ],
          [
           1444614,
           "https://www.healthhub.sg/live-healthy/10-ways-to-stay-smoke-free"
          ],
          [
           1444518,
           "https://www.healthhub.sg/live-healthy/6_tips_to_manage_weight"
          ],
          [
           1445235,
           "https://www.healthhub.sg/live-healthy/lunchtime-office-workouts-15-minute-hiit"
          ],
          [
           1445352,
           "https://www.healthhub.sg/live-healthy/how_to_study_smart"
          ],
          [
           1444619,
           "https://www.healthhub.sg/live-healthy/all-i-want-for-christmas-7-exercise-gadgets"
          ],
          [
           1445746,
           "https://www.healthhub.sg/live-healthy/How-to-ask-for-a-medical-report"
          ],
          [
           1444343,
           "https://www.healthhub.sg/live-healthy/corporate-challenge-steps-and-initiatives"
          ],
          [
           1445269,
           "https://www.healthhub.sg/live-healthy/7-great-ways-bond-with-kids-home"
          ],
          [
           1445307,
           "https://www.healthhub.sg/live-healthy/cooking-healthy-for-deepavali"
          ],
          [
           1445880,
           "https://www.healthhub.sg/live-healthy/not-a-perfect-world"
          ],
          [
           1445642,
           "https://www.healthhub.sg/live-healthy/warm-tofu-salad"
          ],
          [
           1445306,
           "https://www.healthhub.sg/live-healthy/tips-healthy-deepavali-eating-host-or-guest"
          ],
          [
           1445527,
           "https://www.healthhub.sg/live-healthy/Weight-Loss-Myths"
          ],
          [
           1442468,
           "https://www.healthhub.sg/live-healthy/losing-weight-by-eating-well"
          ],
          [
           1445733,
           "https://www.healthhub.sg/live-healthy/barberstattooistshairdressersbeauticians_pdf"
          ],
          [
           1443540,
           "https://www.healthhub.sg/live-healthy/quitting-after-seventeen-years-can-it-be-done"
          ],
          [
           1442503,
           "https://www.healthhub.sg/live-healthy/choosing-what-he-eats-is-helping-him-lose-the-kilos"
          ],
          [
           1445665,
           "https://www.healthhub.sg/live-healthy/pan-fried-potato-patties"
          ],
          [
           1445646,
           "https://www.healthhub.sg/live-healthy/apple-seafood-brown-rice"
          ],
          [
           1445630,
           "https://www.healthhub.sg/live-healthy/grilled-teriyaki-chicken"
          ],
          [
           1445655,
           "https://www.healthhub.sg/live-healthy/multi-grain-chicken-sandwich"
          ],
          [
           1445638,
           "https://www.healthhub.sg/live-healthy/awinnerneverquits"
          ],
          [
           1445657,
           "https://www.healthhub.sg/live-healthy/nasi-liwet-brown-rice"
          ],
          [
           1445653,
           "https://www.healthhub.sg/live-healthy/mixed-rice-cabbage-roll"
          ],
          [
           1445677,
           "https://www.healthhub.sg/live-healthy/What-to-Eat-to-Lower-Blood-Pressure"
          ],
          [
           1445556,
           "https://www.healthhub.sg/live-healthy/getting-the-fats-right"
          ],
          [
           1445661,
           "https://www.healthhub.sg/live-healthy/kashmiri-pulao"
          ],
          [
           1445673,
           "https://www.healthhub.sg/live-healthy/a-healthy-food-foundation-for-kids-and-teens"
          ],
          [
           1445358,
           "https://www.healthhub.sg/live-healthy/how_to_study_difficult_subjects"
          ],
          [
           1445601,
           "https://www.healthhub.sg/live-healthy/calcium-for-greater-bone-strength"
          ]
         ],
         "hovertemplate": "content_category=live-healthy-articles<br>word_count=%{x}<br>readability_score=%{y}<br>id=%{customdata[0]}<br>full_url=%{customdata[1]}<extra></extra>",
         "legendgroup": "live-healthy-articles",
         "marker": {
          "color": "#00cc96",
          "symbol": "circle"
         },
         "mode": "markers",
         "name": "live-healthy-articles",
         "orientation": "v",
         "showlegend": true,
         "type": "scatter",
         "x": [
          714,
          944,
          1258,
          1074,
          542,
          798,
          1009,
          138,
          2067,
          474,
          483,
          1191,
          1979,
          425,
          2817,
          1151,
          450,
          1151,
          713,
          466,
          1464,
          965,
          1569,
          1599,
          1286,
          2163,
          1173,
          363,
          1563,
          1028,
          726,
          1805,
          1039,
          636,
          636,
          1805,
          1327,
          661,
          1010,
          450,
          1051,
          525,
          656,
          1255,
          603,
          469,
          694,
          1413,
          1258,
          197,
          616,
          1216,
          667,
          463,
          1425,
          840,
          1107,
          874,
          612,
          815,
          694,
          619,
          639,
          1221,
          728,
          1019,
          471,
          1055,
          1599,
          225,
          1242,
          735,
          1125,
          1250,
          1305,
          613,
          725,
          716,
          466,
          940,
          286,
          1092,
          113,
          633,
          1167,
          542,
          1281,
          1051,
          750,
          671,
          404,
          529,
          444,
          1247,
          1126,
          911,
          933,
          826,
          1247,
          1465,
          517,
          1094,
          413,
          471,
          248,
          1059,
          845,
          1142,
          2226,
          678,
          776,
          850,
          934,
          631,
          290,
          886,
          815,
          721,
          1331,
          916,
          814,
          293,
          735,
          953,
          1721,
          1018,
          1309,
          730,
          748,
          556,
          341,
          757,
          566,
          334,
          1097,
          1472,
          278,
          1057,
          1486,
          941,
          777,
          1547,
          353,
          73,
          894,
          1248,
          628,
          848,
          435,
          876,
          1285,
          419,
          839,
          572,
          488,
          791,
          656,
          691,
          238,
          954,
          816,
          563,
          726,
          873,
          788,
          868,
          603,
          970,
          1956,
          688,
          1743,
          612,
          445,
          523,
          372,
          885,
          769,
          831,
          750,
          721,
          1373,
          379,
          652,
          725,
          1640,
          639,
          557,
          1008,
          1460,
          973,
          680,
          917,
          1563,
          1693,
          495,
          1249,
          207,
          1942,
          998,
          549,
          1090,
          546,
          1181,
          1176,
          731,
          1063,
          722,
          278,
          925,
          247,
          679,
          538,
          1057,
          910,
          934,
          421,
          583,
          631,
          695,
          1002,
          745,
          220,
          949,
          1136,
          218,
          826,
          331,
          520,
          991,
          1801,
          442,
          835,
          1156,
          244,
          748,
          651,
          980,
          970,
          267,
          636,
          1818,
          722,
          1011,
          449,
          1140,
          1242,
          742,
          1328,
          345,
          590,
          509,
          846,
          823,
          703,
          733,
          623,
          669,
          909,
          1281,
          674,
          560,
          802,
          1200,
          349,
          1845,
          1598,
          857,
          2133,
          1055,
          1559,
          374,
          540,
          467,
          791,
          942,
          717,
          809,
          618,
          679,
          1483,
          470,
          692,
          801,
          828,
          1068,
          441,
          746,
          772,
          2289,
          649,
          1033,
          1421,
          769,
          473,
          431,
          325,
          355,
          972,
          642,
          439,
          57,
          1181,
          1336,
          572,
          898,
          665,
          681,
          436,
          710,
          700,
          642,
          169,
          339,
          700,
          910,
          835,
          727,
          327,
          673,
          632,
          635,
          1360,
          541,
          1273,
          588,
          620,
          1259,
          1093,
          1667,
          946,
          677,
          577,
          744,
          778,
          869,
          1109,
          293,
          1026,
          1029,
          1874,
          1114,
          795,
          595,
          603,
          802,
          456,
          1114,
          641,
          1650,
          1117,
          704,
          1241,
          1586,
          727,
          1130,
          1268,
          874,
          557,
          705,
          528,
          612,
          607,
          654,
          978,
          368,
          706,
          497,
          54,
          1254,
          854,
          1266,
          923,
          304,
          1170,
          767,
          889,
          1163,
          15,
          1254,
          1078,
          584,
          327,
          562,
          26,
          907,
          907,
          1029,
          417,
          594,
          16,
          936,
          672,
          803,
          544,
          906,
          472,
          523,
          391,
          1446,
          1013,
          835,
          238,
          351,
          550,
          700,
          983,
          341,
          514,
          648,
          1062,
          785,
          1436,
          160,
          1394,
          670,
          830,
          807,
          882,
          375,
          488,
          777,
          393,
          591,
          571,
          481,
          406,
          721,
          380,
          231,
          635,
          537,
          679,
          510,
          851,
          753,
          627,
          535,
          444,
          23,
          385,
          86,
          851,
          462,
          725,
          526,
          1482,
          630,
          882,
          404,
          149,
          1087,
          566,
          1116,
          1424,
          1068,
          766,
          881,
          420,
          628,
          644,
          744,
          122,
          795,
          417,
          1044,
          578,
          498,
          164,
          1110,
          500,
          188,
          266,
          1037,
          1488,
          223,
          845,
          880,
          284,
          757,
          527,
          1125,
          749,
          806,
          937,
          690,
          1341,
          701,
          574,
          784,
          901,
          502,
          657,
          528,
          1832,
          393,
          398,
          863,
          543,
          703,
          77,
          98,
          926,
          544,
          494,
          476,
          833,
          608,
          770,
          383,
          727,
          587,
          878,
          1206,
          23,
          1483,
          84,
          509,
          432,
          573,
          401,
          596,
          667,
          603,
          530,
          623,
          683,
          428,
          397,
          989,
          923,
          891,
          421,
          781,
          118,
          589,
          502,
          480,
          26,
          1200,
          471,
          1766,
          908,
          438,
          1244,
          641,
          408,
          172,
          432,
          442,
          704,
          640,
          1037,
          2546,
          836,
          953,
          578,
          1173,
          685,
          939,
          510,
          366,
          670,
          611,
          89,
          12,
          26,
          86,
          1044,
          245,
          15,
          395,
          15,
          443,
          18,
          592,
          752,
          965,
          691,
          465,
          547,
          1428,
          2539,
          737,
          528,
          406,
          1295,
          648,
          101,
          626,
          882,
          404,
          92,
          435,
          1351,
          589,
          125,
          169,
          768,
          608,
          609,
          789,
          385,
          775,
          944,
          816,
          608,
          260,
          634,
          458,
          530,
          43,
          1026,
          520,
          231,
          206,
          250,
          150,
          413,
          135,
          177,
          989,
          995,
          226,
          867,
          886,
          742
         ],
         "xaxis": "x",
         "y": [
          6,
          6,
          9,
          8,
          9,
          8,
          8,
          11,
          8,
          4,
          6,
          5,
          5,
          5,
          7,
          6,
          6,
          6,
          4,
          8,
          5,
          10,
          6,
          9,
          9,
          6,
          8,
          8,
          10,
          6,
          6,
          9,
          8,
          6,
          6,
          6,
          9,
          6,
          8,
          6,
          6,
          8,
          8,
          3,
          7,
          8,
          7,
          8,
          6,
          8,
          9,
          6,
          11,
          7,
          7,
          6,
          7,
          7,
          6,
          8,
          6,
          4,
          8,
          5,
          5,
          7,
          6,
          6,
          7,
          6,
          8,
          6,
          7,
          4,
          5,
          6,
          8,
          10,
          7,
          6,
          8,
          8,
          3,
          9,
          7,
          8,
          9,
          7,
          5,
          7,
          9,
          6,
          9,
          6,
          6,
          6,
          6,
          8,
          7,
          8,
          9,
          8,
          7,
          6,
          5,
          7,
          8,
          7,
          10,
          9,
          10,
          10,
          6,
          8,
          7,
          13,
          10,
          5,
          7,
          9,
          8,
          7,
          7,
          7,
          9,
          8,
          9,
          6,
          8,
          4,
          10,
          7,
          8,
          9,
          10,
          7,
          6,
          5,
          6,
          8,
          7,
          5,
          7,
          5,
          9,
          5,
          8,
          7,
          7,
          10,
          5,
          11,
          7,
          7,
          9,
          7,
          8,
          7,
          7,
          8,
          10,
          9,
          11,
          7,
          5,
          9,
          8,
          7,
          8,
          6,
          8,
          7,
          7,
          8,
          9,
          7,
          6,
          7,
          7,
          7,
          7,
          8,
          8,
          8,
          7,
          9,
          6,
          9,
          8,
          6,
          7,
          7,
          6,
          7,
          9,
          8,
          6,
          7,
          8,
          10,
          7,
          6,
          5,
          14,
          8,
          7,
          8,
          9,
          6,
          7,
          7,
          10,
          11,
          5,
          8,
          6,
          7,
          7,
          9,
          6,
          8,
          5,
          5,
          8,
          5,
          7,
          8,
          6,
          3,
          6,
          5,
          6,
          8,
          9,
          7,
          7,
          7,
          4,
          9,
          13,
          7,
          9,
          7,
          8,
          9,
          5,
          9,
          6,
          6,
          10,
          7,
          5,
          7,
          6,
          8,
          7,
          6,
          7,
          7,
          5,
          8,
          9,
          8,
          7,
          6,
          8,
          8,
          6,
          6,
          7,
          6,
          6,
          9,
          8,
          8,
          8,
          6,
          7,
          10,
          7,
          6,
          7,
          9,
          9,
          7,
          9,
          4,
          6,
          9,
          7,
          7,
          8,
          10,
          8,
          6,
          5,
          8,
          8,
          9,
          10,
          6,
          7,
          7,
          5,
          7,
          7,
          9,
          6,
          6,
          7,
          10,
          8,
          6,
          7,
          8,
          9,
          8,
          6,
          8,
          8,
          6,
          9,
          7,
          12,
          6,
          9,
          7,
          10,
          8,
          8,
          5,
          6,
          6,
          9,
          5,
          7,
          10,
          8,
          7,
          5,
          6,
          9,
          7,
          8,
          7,
          7,
          6,
          5,
          8,
          6,
          6,
          9,
          11,
          8,
          8,
          6,
          7,
          7,
          7,
          7,
          4,
          9,
          5,
          7,
          5,
          6,
          8,
          4,
          7,
          8,
          7,
          8,
          17,
          6,
          6,
          7,
          7,
          4,
          8,
          7,
          7,
          8,
          8,
          5,
          9,
          5,
          7,
          8,
          9,
          5,
          10,
          8,
          8,
          4,
          7,
          2,
          7,
          9,
          9,
          7,
          8,
          8,
          7,
          6,
          10,
          6,
          6,
          7,
          10,
          7,
          8,
          9,
          7,
          7,
          5,
          6,
          8,
          6,
          11,
          7,
          8,
          7,
          8,
          7,
          6,
          6,
          8,
          7,
          2,
          4,
          7,
          6,
          11,
          6,
          6,
          7,
          8,
          6,
          5,
          7,
          4,
          7,
          10,
          7,
          6,
          7,
          7,
          7,
          2,
          2,
          6,
          5,
          7,
          7,
          8,
          6,
          7,
          6,
          7,
          6,
          5,
          6,
          9,
          9,
          9,
          8,
          4,
          6,
          9,
          5,
          7,
          7,
          5,
          8,
          5,
          6,
          7,
          7,
          8,
          8,
          7,
          6,
          8,
          6,
          10,
          6,
          7,
          8,
          5,
          5,
          8,
          5,
          7,
          6,
          5,
          7,
          9,
          7,
          7,
          10,
          8,
          8,
          6,
          7,
          8,
          4,
          6,
          6,
          8,
          9,
          6,
          7,
          7,
          4,
          6,
          5,
          6,
          5,
          7,
          6,
          6,
          8,
          5,
          5,
          7,
          8,
          7,
          6,
          9,
          6,
          6,
          7,
          6,
          11,
          7,
          8,
          7,
          6,
          8,
          9,
          6,
          7,
          7,
          3,
          4,
          7,
          2,
          7,
          6,
          8,
          8,
          7,
          7,
          5,
          8,
          7,
          7,
          9,
          7,
          10,
          8,
          15,
          5,
          12,
          0,
          2,
          7,
          9,
          8,
          10,
          4,
          3,
          9,
          7,
          8,
          10,
          7,
          7,
          10,
          5,
          8,
          7,
          6,
          7,
          8,
          11,
          6,
          4,
          6,
          5,
          8,
          5,
          7,
          10,
          7,
          2,
          3,
          9,
          7,
          7,
          10,
          6,
          13,
          7,
          10,
          8,
          4,
          8,
          9,
          8,
          14,
          8,
          9,
          3,
          2,
          3,
          4,
          9,
          0,
          2,
          8,
          6,
          3,
          7,
          11,
          9
         ],
         "yaxis": "y"
        },
        {
         "customdata": [
          [
           1439100,
           "https://www.healthhub.sg/a-z/medical-and-care-facilities/Paediatric-dentistry-child-first-visit-dentist"
          ],
          [
           1439066,
           "https://www.healthhub.sg/a-z/medical-and-care-facilities/baby-friendly-hospital-initiative"
          ]
         ],
         "hovertemplate": "content_category=medical-care-and-facilities<br>word_count=%{x}<br>readability_score=%{y}<br>id=%{customdata[0]}<br>full_url=%{customdata[1]}<extra></extra>",
         "legendgroup": "medical-care-and-facilities",
         "marker": {
          "color": "#ab63fa",
          "symbol": "circle"
         },
         "mode": "markers",
         "name": "medical-care-and-facilities",
         "orientation": "v",
         "showlegend": true,
         "type": "scatter",
         "x": [
          440,
          1272
         ],
         "xaxis": "x",
         "y": [
          8,
          11
         ],
         "yaxis": "y"
        }
       ],
       "layout": {
        "legend": {
         "title": {
          "text": "content_category"
         },
         "tracegroupgap": 0
        },
        "margin": {
         "t": 60
        },
        "shapes": [
         {
          "line": {
           "color": "firebrick",
           "dash": "dash"
          },
          "type": "line",
          "x0": 0,
          "x1": 1,
          "xref": "x domain",
          "y0": 10,
          "y1": 10,
          "yref": "y"
         },
         {
          "line": {
           "color": "red",
           "dash": "dash"
          },
          "type": "line",
          "x0": 0,
          "x1": 1,
          "xref": "x domain",
          "y0": 14,
          "y1": 14,
          "yref": "y"
         }
        ],
        "template": {
         "data": {
          "bar": [
           {
            "error_x": {
             "color": "#f2f5fa"
            },
            "error_y": {
             "color": "#f2f5fa"
            },
            "marker": {
             "line": {
              "color": "rgb(17,17,17)",
              "width": 0.5
             },
             "pattern": {
              "fillmode": "overlay",
              "size": 10,
              "solidity": 0.2
             }
            },
            "type": "bar"
           }
          ],
          "barpolar": [
           {
            "marker": {
             "line": {
              "color": "rgb(17,17,17)",
              "width": 0.5
             },
             "pattern": {
              "fillmode": "overlay",
              "size": 10,
              "solidity": 0.2
             }
            },
            "type": "barpolar"
           }
          ],
          "carpet": [
           {
            "aaxis": {
             "endlinecolor": "#A2B1C6",
             "gridcolor": "#506784",
             "linecolor": "#506784",
             "minorgridcolor": "#506784",
             "startlinecolor": "#A2B1C6"
            },
            "baxis": {
             "endlinecolor": "#A2B1C6",
             "gridcolor": "#506784",
             "linecolor": "#506784",
             "minorgridcolor": "#506784",
             "startlinecolor": "#A2B1C6"
            },
            "type": "carpet"
           }
          ],
          "choropleth": [
           {
            "colorbar": {
             "outlinewidth": 0,
             "ticks": ""
            },
            "type": "choropleth"
           }
          ],
          "contour": [
           {
            "colorbar": {
             "outlinewidth": 0,
             "ticks": ""
            },
            "colorscale": [
             [
              0,
              "#0d0887"
             ],
             [
              0.1111111111111111,
              "#46039f"
             ],
             [
              0.2222222222222222,
              "#7201a8"
             ],
             [
              0.3333333333333333,
              "#9c179e"
             ],
             [
              0.4444444444444444,
              "#bd3786"
             ],
             [
              0.5555555555555556,
              "#d8576b"
             ],
             [
              0.6666666666666666,
              "#ed7953"
             ],
             [
              0.7777777777777778,
              "#fb9f3a"
             ],
             [
              0.8888888888888888,
              "#fdca26"
             ],
             [
              1,
              "#f0f921"
             ]
            ],
            "type": "contour"
           }
          ],
          "contourcarpet": [
           {
            "colorbar": {
             "outlinewidth": 0,
             "ticks": ""
            },
            "type": "contourcarpet"
           }
          ],
          "heatmap": [
           {
            "colorbar": {
             "outlinewidth": 0,
             "ticks": ""
            },
            "colorscale": [
             [
              0,
              "#0d0887"
             ],
             [
              0.1111111111111111,
              "#46039f"
             ],
             [
              0.2222222222222222,
              "#7201a8"
             ],
             [
              0.3333333333333333,
              "#9c179e"
             ],
             [
              0.4444444444444444,
              "#bd3786"
             ],
             [
              0.5555555555555556,
              "#d8576b"
             ],
             [
              0.6666666666666666,
              "#ed7953"
             ],
             [
              0.7777777777777778,
              "#fb9f3a"
             ],
             [
              0.8888888888888888,
              "#fdca26"
             ],
             [
              1,
              "#f0f921"
             ]
            ],
            "type": "heatmap"
           }
          ],
          "heatmapgl": [
           {
            "colorbar": {
             "outlinewidth": 0,
             "ticks": ""
            },
            "colorscale": [
             [
              0,
              "#0d0887"
             ],
             [
              0.1111111111111111,
              "#46039f"
             ],
             [
              0.2222222222222222,
              "#7201a8"
             ],
             [
              0.3333333333333333,
              "#9c179e"
             ],
             [
              0.4444444444444444,
              "#bd3786"
             ],
             [
              0.5555555555555556,
              "#d8576b"
             ],
             [
              0.6666666666666666,
              "#ed7953"
             ],
             [
              0.7777777777777778,
              "#fb9f3a"
             ],
             [
              0.8888888888888888,
              "#fdca26"
             ],
             [
              1,
              "#f0f921"
             ]
            ],
            "type": "heatmapgl"
           }
          ],
          "histogram": [
           {
            "marker": {
             "pattern": {
              "fillmode": "overlay",
              "size": 10,
              "solidity": 0.2
             }
            },
            "type": "histogram"
           }
          ],
          "histogram2d": [
           {
            "colorbar": {
             "outlinewidth": 0,
             "ticks": ""
            },
            "colorscale": [
             [
              0,
              "#0d0887"
             ],
             [
              0.1111111111111111,
              "#46039f"
             ],
             [
              0.2222222222222222,
              "#7201a8"
             ],
             [
              0.3333333333333333,
              "#9c179e"
             ],
             [
              0.4444444444444444,
              "#bd3786"
             ],
             [
              0.5555555555555556,
              "#d8576b"
             ],
             [
              0.6666666666666666,
              "#ed7953"
             ],
             [
              0.7777777777777778,
              "#fb9f3a"
             ],
             [
              0.8888888888888888,
              "#fdca26"
             ],
             [
              1,
              "#f0f921"
             ]
            ],
            "type": "histogram2d"
           }
          ],
          "histogram2dcontour": [
           {
            "colorbar": {
             "outlinewidth": 0,
             "ticks": ""
            },
            "colorscale": [
             [
              0,
              "#0d0887"
             ],
             [
              0.1111111111111111,
              "#46039f"
             ],
             [
              0.2222222222222222,
              "#7201a8"
             ],
             [
              0.3333333333333333,
              "#9c179e"
             ],
             [
              0.4444444444444444,
              "#bd3786"
             ],
             [
              0.5555555555555556,
              "#d8576b"
             ],
             [
              0.6666666666666666,
              "#ed7953"
             ],
             [
              0.7777777777777778,
              "#fb9f3a"
             ],
             [
              0.8888888888888888,
              "#fdca26"
             ],
             [
              1,
              "#f0f921"
             ]
            ],
            "type": "histogram2dcontour"
           }
          ],
          "mesh3d": [
           {
            "colorbar": {
             "outlinewidth": 0,
             "ticks": ""
            },
            "type": "mesh3d"
           }
          ],
          "parcoords": [
           {
            "line": {
             "colorbar": {
              "outlinewidth": 0,
              "ticks": ""
             }
            },
            "type": "parcoords"
           }
          ],
          "pie": [
           {
            "automargin": true,
            "type": "pie"
           }
          ],
          "scatter": [
           {
            "marker": {
             "line": {
              "color": "#283442"
             }
            },
            "type": "scatter"
           }
          ],
          "scatter3d": [
           {
            "line": {
             "colorbar": {
              "outlinewidth": 0,
              "ticks": ""
             }
            },
            "marker": {
             "colorbar": {
              "outlinewidth": 0,
              "ticks": ""
             }
            },
            "type": "scatter3d"
           }
          ],
          "scattercarpet": [
           {
            "marker": {
             "colorbar": {
              "outlinewidth": 0,
              "ticks": ""
             }
            },
            "type": "scattercarpet"
           }
          ],
          "scattergeo": [
           {
            "marker": {
             "colorbar": {
              "outlinewidth": 0,
              "ticks": ""
             }
            },
            "type": "scattergeo"
           }
          ],
          "scattergl": [
           {
            "marker": {
             "line": {
              "color": "#283442"
             }
            },
            "type": "scattergl"
           }
          ],
          "scattermapbox": [
           {
            "marker": {
             "colorbar": {
              "outlinewidth": 0,
              "ticks": ""
             }
            },
            "type": "scattermapbox"
           }
          ],
          "scatterpolar": [
           {
            "marker": {
             "colorbar": {
              "outlinewidth": 0,
              "ticks": ""
             }
            },
            "type": "scatterpolar"
           }
          ],
          "scatterpolargl": [
           {
            "marker": {
             "colorbar": {
              "outlinewidth": 0,
              "ticks": ""
             }
            },
            "type": "scatterpolargl"
           }
          ],
          "scatterternary": [
           {
            "marker": {
             "colorbar": {
              "outlinewidth": 0,
              "ticks": ""
             }
            },
            "type": "scatterternary"
           }
          ],
          "surface": [
           {
            "colorbar": {
             "outlinewidth": 0,
             "ticks": ""
            },
            "colorscale": [
             [
              0,
              "#0d0887"
             ],
             [
              0.1111111111111111,
              "#46039f"
             ],
             [
              0.2222222222222222,
              "#7201a8"
             ],
             [
              0.3333333333333333,
              "#9c179e"
             ],
             [
              0.4444444444444444,
              "#bd3786"
             ],
             [
              0.5555555555555556,
              "#d8576b"
             ],
             [
              0.6666666666666666,
              "#ed7953"
             ],
             [
              0.7777777777777778,
              "#fb9f3a"
             ],
             [
              0.8888888888888888,
              "#fdca26"
             ],
             [
              1,
              "#f0f921"
             ]
            ],
            "type": "surface"
           }
          ],
          "table": [
           {
            "cells": {
             "fill": {
              "color": "#506784"
             },
             "line": {
              "color": "rgb(17,17,17)"
             }
            },
            "header": {
             "fill": {
              "color": "#2a3f5f"
             },
             "line": {
              "color": "rgb(17,17,17)"
             }
            },
            "type": "table"
           }
          ]
         },
         "layout": {
          "annotationdefaults": {
           "arrowcolor": "#f2f5fa",
           "arrowhead": 0,
           "arrowwidth": 1
          },
          "autotypenumbers": "strict",
          "coloraxis": {
           "colorbar": {
            "outlinewidth": 0,
            "ticks": ""
           }
          },
          "colorscale": {
           "diverging": [
            [
             0,
             "#8e0152"
            ],
            [
             0.1,
             "#c51b7d"
            ],
            [
             0.2,
             "#de77ae"
            ],
            [
             0.3,
             "#f1b6da"
            ],
            [
             0.4,
             "#fde0ef"
            ],
            [
             0.5,
             "#f7f7f7"
            ],
            [
             0.6,
             "#e6f5d0"
            ],
            [
             0.7,
             "#b8e186"
            ],
            [
             0.8,
             "#7fbc41"
            ],
            [
             0.9,
             "#4d9221"
            ],
            [
             1,
             "#276419"
            ]
           ],
           "sequential": [
            [
             0,
             "#0d0887"
            ],
            [
             0.1111111111111111,
             "#46039f"
            ],
            [
             0.2222222222222222,
             "#7201a8"
            ],
            [
             0.3333333333333333,
             "#9c179e"
            ],
            [
             0.4444444444444444,
             "#bd3786"
            ],
            [
             0.5555555555555556,
             "#d8576b"
            ],
            [
             0.6666666666666666,
             "#ed7953"
            ],
            [
             0.7777777777777778,
             "#fb9f3a"
            ],
            [
             0.8888888888888888,
             "#fdca26"
            ],
            [
             1,
             "#f0f921"
            ]
           ],
           "sequentialminus": [
            [
             0,
             "#0d0887"
            ],
            [
             0.1111111111111111,
             "#46039f"
            ],
            [
             0.2222222222222222,
             "#7201a8"
            ],
            [
             0.3333333333333333,
             "#9c179e"
            ],
            [
             0.4444444444444444,
             "#bd3786"
            ],
            [
             0.5555555555555556,
             "#d8576b"
            ],
            [
             0.6666666666666666,
             "#ed7953"
            ],
            [
             0.7777777777777778,
             "#fb9f3a"
            ],
            [
             0.8888888888888888,
             "#fdca26"
            ],
            [
             1,
             "#f0f921"
            ]
           ]
          },
          "colorway": [
           "#636efa",
           "#EF553B",
           "#00cc96",
           "#ab63fa",
           "#FFA15A",
           "#19d3f3",
           "#FF6692",
           "#B6E880",
           "#FF97FF",
           "#FECB52"
          ],
          "font": {
           "color": "#f2f5fa"
          },
          "geo": {
           "bgcolor": "rgb(17,17,17)",
           "lakecolor": "rgb(17,17,17)",
           "landcolor": "rgb(17,17,17)",
           "showlakes": true,
           "showland": true,
           "subunitcolor": "#506784"
          },
          "hoverlabel": {
           "align": "left"
          },
          "hovermode": "closest",
          "mapbox": {
           "style": "dark"
          },
          "paper_bgcolor": "rgb(17,17,17)",
          "plot_bgcolor": "rgb(17,17,17)",
          "polar": {
           "angularaxis": {
            "gridcolor": "#506784",
            "linecolor": "#506784",
            "ticks": ""
           },
           "bgcolor": "rgb(17,17,17)",
           "radialaxis": {
            "gridcolor": "#506784",
            "linecolor": "#506784",
            "ticks": ""
           }
          },
          "scene": {
           "xaxis": {
            "backgroundcolor": "rgb(17,17,17)",
            "gridcolor": "#506784",
            "gridwidth": 2,
            "linecolor": "#506784",
            "showbackground": true,
            "ticks": "",
            "zerolinecolor": "#C8D4E3"
           },
           "yaxis": {
            "backgroundcolor": "rgb(17,17,17)",
            "gridcolor": "#506784",
            "gridwidth": 2,
            "linecolor": "#506784",
            "showbackground": true,
            "ticks": "",
            "zerolinecolor": "#C8D4E3"
           },
           "zaxis": {
            "backgroundcolor": "rgb(17,17,17)",
            "gridcolor": "#506784",
            "gridwidth": 2,
            "linecolor": "#506784",
            "showbackground": true,
            "ticks": "",
            "zerolinecolor": "#C8D4E3"
           }
          },
          "shapedefaults": {
           "line": {
            "color": "#f2f5fa"
           }
          },
          "sliderdefaults": {
           "bgcolor": "#C8D4E3",
           "bordercolor": "rgb(17,17,17)",
           "borderwidth": 1,
           "tickwidth": 0
          },
          "ternary": {
           "aaxis": {
            "gridcolor": "#506784",
            "linecolor": "#506784",
            "ticks": ""
           },
           "baxis": {
            "gridcolor": "#506784",
            "linecolor": "#506784",
            "ticks": ""
           },
           "bgcolor": "rgb(17,17,17)",
           "caxis": {
            "gridcolor": "#506784",
            "linecolor": "#506784",
            "ticks": ""
           }
          },
          "title": {
           "x": 0.05
          },
          "updatemenudefaults": {
           "bgcolor": "#506784",
           "borderwidth": 0
          },
          "xaxis": {
           "automargin": true,
           "gridcolor": "#283442",
           "linecolor": "#506784",
           "ticks": "",
           "title": {
            "standoff": 15
           },
           "zerolinecolor": "#283442",
           "zerolinewidth": 2
          },
          "yaxis": {
           "automargin": true,
           "gridcolor": "#283442",
           "linecolor": "#506784",
           "ticks": "",
           "title": {
            "standoff": 15
           },
           "zerolinecolor": "#283442",
           "zerolinewidth": 2
          }
         }
        },
        "title": {
         "text": "Scatter Plot of Word Count and Readability Score"
        },
        "xaxis": {
         "anchor": "y",
         "domain": [
          0,
          1
         ],
         "title": {
          "text": "Word Count"
         }
        },
        "yaxis": {
         "anchor": "x",
         "domain": [
          0,
          1
         ],
         "title": {
          "text": "Hemmingway score"
         }
        }
       }
      },
      "text/html": [
       "<div>                            <div id=\"f3172971-7c27-451d-ac5d-c22db01f63a4\" class=\"plotly-graph-div\" style=\"height:525px; width:100%;\"></div>            <script type=\"text/javascript\">                require([\"plotly\"], function(Plotly) {                    window.PLOTLYENV=window.PLOTLYENV || {};                                    if (document.getElementById(\"f3172971-7c27-451d-ac5d-c22db01f63a4\")) {                    Plotly.newPlot(                        \"f3172971-7c27-451d-ac5d-c22db01f63a4\",                        [{\"customdata\":[[1435040,\"https:\\u002f\\u002fwww.healthhub.sg\\u002fa-z\\u002fcosts-and-financing\\u002fbreast-cancer-screening-subsidies\"]],\"hovertemplate\":\"content_category=cost-and-financing\\u003cbr\\u003eword_count=%{x}\\u003cbr\\u003ereadability_score=%{y}\\u003cbr\\u003eid=%{customdata[0]}\\u003cbr\\u003efull_url=%{customdata[1]}\\u003cextra\\u003e\\u003c\\u002fextra\\u003e\",\"legendgroup\":\"cost-and-financing\",\"marker\":{\"color\":\"#636efa\",\"symbol\":\"circle\"},\"mode\":\"markers\",\"name\":\"cost-and-financing\",\"orientation\":\"v\",\"showlegend\":true,\"x\":[563],\"xaxis\":\"x\",\"y\":[9],\"yaxis\":\"y\",\"type\":\"scatter\"},{\"customdata\":[[1437742,\"https:\\u002f\\u002fwww.healthhub.sg\\u002fa-z\\u002fdiseases-and-conditions\\u002ffaqs-on-hpv-and-hpv-immunisation\"],[1437732,\"https:\\u002f\\u002fwww.healthhub.sg\\u002fa-z\\u002fdiseases-and-conditions\\u002fcommon-childhood-conditions-fever\"],[1437433,\"https:\\u002f\\u002fwww.healthhub.sg\\u002fa-z\\u002fdiseases-and-conditions\\u002fhfmd\"],[1437894,\"https:\\u002f\\u002fwww.healthhub.sg\\u002fa-z\\u002fdiseases-and-conditions\\u002ftopic_cervical_cancer\"],[1437295,\"https:\\u002f\\u002fwww.healthhub.sg\\u002fa-z\\u002fdiseases-and-conditions\\u002ftopics_influenza\"],[1437509,\"https:\\u002f\\u002fwww.healthhub.sg\\u002fa-z\\u002fdiseases-and-conditions\\u002fherpes\"],[1437337,\"https:\\u002f\\u002fwww.healthhub.sg\\u002fa-z\\u002fdiseases-and-conditions\\u002fbreastcancer\"],[1437477,\"https:\\u002f\\u002fwww.healthhub.sg\\u002fa-z\\u002fdiseases-and-conditions\\u002fHepatitisB\"],[1437643,\"https:\\u002f\\u002fwww.healthhub.sg\\u002fa-z\\u002fdiseases-and-conditions\\u002ftop-10-common-childhood-conditions-ehb\"],[1437896,\"https:\\u002f\\u002fwww.healthhub.sg\\u002fa-z\\u002fdiseases-and-conditions\\u002ftopics_chickenpox\"],[1437303,\"https:\\u002f\\u002fwww.healthhub.sg\\u002fa-z\\u002fdiseases-and-conditions\\u002ftopic_pneumonia\"],[1437716,\"https:\\u002f\\u002fwww.healthhub.sg\\u002fa-z\\u002fdiseases-and-conditions\\u002fpocket-guide-to-diabetes\"],[1437357,\"https:\\u002f\\u002fwww.healthhub.sg\\u002fa-z\\u002fdiseases-and-conditions\\u002fcolorectalcancer\"],[1437342,\"https:\\u002f\\u002fwww.healthhub.sg\\u002fa-z\\u002fdiseases-and-conditions\\u002fcolic\"],[1437734,\"https:\\u002f\\u002fwww.healthhub.sg\\u002fa-z\\u002fdiseases-and-conditions\\u002fcommon-childhood-conditions-diarrhoea\"],[1437405,\"https:\\u002f\\u002fwww.healthhub.sg\\u002fa-z\\u002fdiseases-and-conditions\\u002fgenitalherpes\"],[1437728,\"https:\\u002f\\u002fwww.healthhub.sg\\u002fa-z\\u002fdiseases-and-conditions\\u002fcommon-childhood-conditions-coughs-and-colds\"],[1437661,\"https:\\u002f\\u002fwww.healthhub.sg\\u002fa-z\\u002fdiseases-and-conditions\\u002fmeasles\"],[1437465,\"https:\\u002f\\u002fwww.healthhub.sg\\u002fa-z\\u002fdiseases-and-conditions\\u002fHepatitisA\"],[1437304,\"https:\\u002f\\u002fwww.healthhub.sg\\u002fa-z\\u002fdiseases-and-conditions\\u002ftopic_mumps\"],[1437738,\"https:\\u002f\\u002fwww.healthhub.sg\\u002fa-z\\u002fdiseases-and-conditions\\u002fcommon-childhood-conditions-constipation\"],[1437890,\"https:\\u002f\\u002fwww.healthhub.sg\\u002fa-z\\u002fdiseases-and-conditions\\u002fguide_to_understanding_molar_incisor_hypomineralisation\"],[1437735,\"https:\\u002f\\u002fwww.healthhub.sg\\u002fa-z\\u002fdiseases-and-conditions\\u002fcommon-childhood-illnesses-asthma\"],[1437884,\"https:\\u002f\\u002fwww.healthhub.sg\\u002fa-z\\u002fdiseases-and-conditions\\u002fguide_to_understanding_leongs_premolars\"],[1437301,\"https:\\u002f\\u002fwww.healthhub.sg\\u002fa-z\\u002fdiseases-and-conditions\\u002ftopic_pneumococcal_disease\"],[1437510,\"https:\\u002f\\u002fwww.healthhub.sg\\u002fa-z\\u002fdiseases-and-conditions\\u002ftopics_avian_flu_H5N1\"],[1437513,\"https:\\u002f\\u002fwww.healthhub.sg\\u002fa-z\\u002fdiseases-and-conditions\\u002fchlamydia\"],[1437429,\"https:\\u002f\\u002fwww.healthhub.sg\\u002fa-z\\u002fdiseases-and-conditions\\u002fgonorrhoea\"],[1437507,\"https:\\u002f\\u002fwww.healthhub.sg\\u002fa-z\\u002fdiseases-and-conditions\\u002ffoodpoisoning\"],[1437740,\"https:\\u002f\\u002fwww.healthhub.sg\\u002fa-z\\u002fdiseases-and-conditions\\u002fcommon-childhood-injuries-a-child-safe-home\"],[1437331,\"https:\\u002f\\u002fwww.healthhub.sg\\u002fa-z\\u002fdiseases-and-conditions\\u002ftopics_hiv_aids\"],[1437462,\"https:\\u002f\\u002fwww.healthhub.sg\\u002fa-z\\u002fdiseases-and-conditions\\u002ftopics_baby_bottle_tooth_decay\"],[1437892,\"https:\\u002f\\u002fwww.healthhub.sg\\u002fa-z\\u002fdiseases-and-conditions\\u002frubella\"],[1437338,\"https:\\u002f\\u002fwww.healthhub.sg\\u002fa-z\\u002fdiseases-and-conditions\\u002fbruises_HPB\"],[1437898,\"https:\\u002f\\u002fwww.healthhub.sg\\u002fa-z\\u002fdiseases-and-conditions\\u002ftopics_tooth_decay\"],[1437341,\"https:\\u002f\\u002fwww.healthhub.sg\\u002fa-z\\u002fdiseases-and-conditions\\u002fburns\"],[1437888,\"https:\\u002f\\u002fwww.healthhub.sg\\u002fa-z\\u002fdiseases-and-conditions\\u002fstress\"],[1437501,\"https:\\u002f\\u002fwww.healthhub.sg\\u002fa-z\\u002fdiseases-and-conditions\\u002fexamplesofinfectiousdiseases_pdf\"],[1437308,\"https:\\u002f\\u002fwww.healthhub.sg\\u002fa-z\\u002fdiseases-and-conditions\\u002ftopic_sars\"],[1437505,\"https:\\u002f\\u002fwww.healthhub.sg\\u002fa-z\\u002fdiseases-and-conditions\\u002fbirdfluinfluenzaah7n8faq\"],[1437726,\"https:\\u002f\\u002fwww.healthhub.sg\\u002fa-z\\u002fdiseases-and-conditions\\u002fcommon-childhood-conditions-gastroenteritis\"],[1437886,\"https:\\u002f\\u002fwww.healthhub.sg\\u002fa-z\\u002fdiseases-and-conditions\\u002fsyphilis\"]],\"hovertemplate\":\"content_category=diseases-and-conditions\\u003cbr\\u003eword_count=%{x}\\u003cbr\\u003ereadability_score=%{y}\\u003cbr\\u003eid=%{customdata[0]}\\u003cbr\\u003efull_url=%{customdata[1]}\\u003cextra\\u003e\\u003c\\u002fextra\\u003e\",\"legendgroup\":\"diseases-and-conditions\",\"marker\":{\"color\":\"#EF553B\",\"symbol\":\"circle\"},\"mode\":\"markers\",\"name\":\"diseases-and-conditions\",\"orientation\":\"v\",\"showlegend\":true,\"x\":[2042,942,834,714,1612,602,727,961,1304,837,876,220,752,552,210,641,682,793,461,423,772,178,1202,223,762,438,756,871,227,941,2414,807,576,305,411,1209,403,776,542,354,719,1036],\"xaxis\":\"x\",\"y\":[10,6,7,9,9,9,8,8,6,11,10,7,9,8,6,9,9,10,8,10,7,6,8,6,11,9,11,11,8,7,8,9,9,8,9,6,7,9,6,10,9,10],\"yaxis\":\"y\",\"type\":\"scatter\"},{\"customdata\":[[1444475,\"https:\\u002f\\u002fwww.healthhub.sg\\u002flive-healthy\\u002fweight_putting_me_at_risk_of_health_problems\"],[1445137,\"https:\\u002f\\u002fwww.healthhub.sg\\u002flive-healthy\\u002fmeal-ideas-month-7\"],[1445282,\"https:\\u002f\\u002fwww.healthhub.sg\\u002flive-healthy\\u002fseniors-need-more-protein\"],[1443111,\"https:\\u002f\\u002fwww.healthhub.sg\\u002flive-healthy\\u002fhow-much-to-eat-at-each-meal\"],[1443987,\"https:\\u002f\\u002fwww.healthhub.sg\\u002flive-healthy\\u002fall-you-need-to-know-about-vaccinations\"],[1444951,\"https:\\u002f\\u002fwww.healthhub.sg\\u002flive-healthy\\u002fEarly-Nutrition-Baby-Switching-Cows-Milk\"],[1442668,\"https:\\u002f\\u002fwww.healthhub.sg\\u002flive-healthy\\u002fthe-oily-truth\"],[1444820,\"https:\\u002f\\u002fwww.healthhub.sg\\u002flive-healthy\\u002frecommended_dietary_allowances\"],[1445263,\"https:\\u002f\\u002fwww.healthhub.sg\\u002flive-healthy\\u002flets-get-real-about-vaping\"],[1444912,\"https:\\u002f\\u002fwww.healthhub.sg\\u002flive-healthy\\u002fis-it-possible-to-overfeed-my-baby\"],[1444919,\"https:\\u002f\\u002fwww.healthhub.sg\\u002flive-healthy\\u002fguide-to-infant-medication\"],[1442828,\"https:\\u002f\\u002fwww.healthhub.sg\\u002flive-healthy\\u002fbaby-getting-ready-for-solids\"],[1445136,\"https:\\u002f\\u002fwww.healthhub.sg\\u002flive-healthy\\u002fgetting-baby-started-on-solids\"],[1442923,\"https:\\u002f\\u002fwww.healthhub.sg\\u002flive-healthy\\u002fif-you-think-that-thin-people-dont-get-diabetes-think-again\"],[1442691,\"https:\\u002f\\u002fwww.healthhub.sg\\u002flive-healthy\\u002fpregnancy-feeding-your-baby-breastfeeding\"],[1442335,\"https:\\u002f\\u002fwww.healthhub.sg\\u002flive-healthy\\u002fbuild_healthy_food_foundation\"],[1444886,\"https:\\u002f\\u002fwww.healthhub.sg\\u002flive-healthy\\u002fis-my-baby-constipated\"],[1445148,\"https:\\u002f\\u002fwww.healthhub.sg\\u002flive-healthy\\u002fmeal-ideas-month-10\"],[1443089,\"https:\\u002f\\u002fwww.healthhub.sg\\u002flive-healthy\\u002fplan-your-meals-with-my-healthy-plate\"],[1444898,\"https:\\u002f\\u002fwww.healthhub.sg\\u002flive-healthy\\u002fbaby-stools-are-watery-what-to-do\"],[1442801,\"https:\\u002f\\u002fwww.healthhub.sg\\u002flive-healthy\\u002fbaby-common-infant-problems-and-conditions\"],[1445479,\"https:\\u002f\\u002fwww.healthhub.sg\\u002flive-healthy\\u002fhealth_screening_for_primary_school\"],[1442600,\"https:\\u002f\\u002fwww.healthhub.sg\\u002flive-healthy\\u002f9-health-hazards-of-electronic-devices-for-kids\"],[1445336,\"https:\\u002f\\u002fwww.healthhub.sg\\u002flive-healthy\\u002fmake_healthier_choice\"],[1442805,\"https:\\u002f\\u002fwww.healthhub.sg\\u002flive-healthy\\u002fbaby-immunisation-inject-to-protect\"],[1445251,\"https:\\u002f\\u002fwww.healthhub.sg\\u002flive-healthy\\u002fmens-health-sudden-weight-gain\"],[1445324,\"https:\\u002f\\u002fwww.healthhub.sg\\u002flive-healthy\\u002fsurviving-sleep-deprivation-with-a-baby\"],[1445643,\"https:\\u002f\\u002fwww.healthhub.sg\\u002flive-healthy\\u002fgettingsupportstis\"],[1445277,\"https:\\u002f\\u002fwww.healthhub.sg\\u002flive-healthy\\u002fwhy_protein_is_important\"],[1445178,\"https:\\u002f\\u002fwww.healthhub.sg\\u002flive-healthy\\u002fnutrition-for-pre-schoolers-month37-48\"],[1446031,\"https:\\u002f\\u002fwww.healthhub.sg\\u002flive-healthy\\u002fthe-best-refreshment\"],[1445310,\"https:\\u002f\\u002fwww.healthhub.sg\\u002flive-healthy\\u002fthe-beginners-guide-to-taking-care-of-your-baby-0-6-months\"],[1443701,\"https:\\u002f\\u002fwww.healthhub.sg\\u002flive-healthy\\u002fbabys_first_food_journey\"],[1443490,\"https:\\u002f\\u002fwww.healthhub.sg\\u002flive-healthy\\u002feating-light-at-a-hawker-centre-is-possible\"],[1443083,\"https:\\u002f\\u002fwww.healthhub.sg\\u002flive-healthy\\u002fmy-goal-for-this-month\"],[1444946,\"https:\\u002f\\u002fwww.healthhub.sg\\u002flive-healthy\\u002fguide-to-common-infant-conditions\"],[1443584,\"https:\\u002f\\u002fwww.healthhub.sg\\u002flive-healthy\\u002fdietary_guidelines_adults\"],[1445421,\"https:\\u002f\\u002fwww.healthhub.sg\\u002flive-healthy\\u002fhave_I_got_a_friend_in_you\"],[1445372,\"https:\\u002f\\u002fwww.healthhub.sg\\u002flive-healthy\\u002fkeeping_fit_the_fun_way\"],[1445042,\"https:\\u002f\\u002fwww.healthhub.sg\\u002flive-healthy\\u002fchild-fifth-year-what-is-child-bmi\"],[1445959,\"https:\\u002f\\u002fwww.healthhub.sg\\u002flive-healthy\\u002fguide_your_growing_baby\"],[1442389,\"https:\\u002f\\u002fwww.healthhub.sg\\u002flive-healthy\\u002fcut-100-calories-from-each-meal-every-day--without-going-hungry\"],[1445682,\"https:\\u002f\\u002fwww.healthhub.sg\\u002flive-healthy\\u002fmental_health_social_intelligence\"],[1445594,\"https:\\u002f\\u002fwww.healthhub.sg\\u002flive-healthy\\u002fsleep\"],[1445564,\"https:\\u002f\\u002fwww.healthhub.sg\\u002flive-healthy\\u002fheadinjuries_inchildren\"],[1445505,\"https:\\u002f\\u002fwww.healthhub.sg\\u002flive-healthy\\u002fTypesOfActivities\"],[1443217,\"https:\\u002f\\u002fwww.healthhub.sg\\u002flive-healthy\\u002fthe-importance-of-building-up-your-core\"],[1442515,\"https:\\u002f\\u002fwww.healthhub.sg\\u002flive-healthy\\u002ffinding-ease-for-old-knees\"],[1445162,\"https:\\u002f\\u002fwww.healthhub.sg\\u002flive-healthy\\u002fmeal-ideas-month-12\"],[1443524,\"https:\\u002f\\u002fwww.healthhub.sg\\u002flive-healthy\\u002fhealthy-start-for-your-pregnancy\"],[1445553,\"https:\\u002f\\u002fwww.healthhub.sg\\u002flive-healthy\\u002fbuildingasupportivenetwork\"],[1445996,\"https:\\u002f\\u002fwww.healthhub.sg\\u002flive-healthy\\u002fyoure-movable-in-your-cubicle\"],[1445484,\"https:\\u002f\\u002fwww.healthhub.sg\\u002flive-healthy\\u002fhealth_screening_for_secondary_school\"],[1442498,\"https:\\u002f\\u002fwww.healthhub.sg\\u002flive-healthy\\u002feat-more-and-lose-weight\"],[1446066,\"https:\\u002f\\u002fwww.healthhub.sg\\u002flive-healthy\\u002fi-love-coffee-i-love-tea\"],[1445074,\"https:\\u002f\\u002fwww.healthhub.sg\\u002flive-healthy\\u002fshould-i-take-my-child-to-er\"],[1445167,\"https:\\u002f\\u002fwww.healthhub.sg\\u002flive-healthy\\u002fnutrition-for-toddlers-12-24-months\"],[1443212,\"https:\\u002f\\u002fwww.healthhub.sg\\u002flive-healthy\\u002fkeep-fit-while-waiting-in-line\"],[1445359,\"https:\\u002f\\u002fwww.healthhub.sg\\u002flive-healthy\\u002fhealthyhawkerfood\"],[1445591,\"https:\\u002f\\u002fwww.healthhub.sg\\u002flive-healthy\\u002fmythsandmisconceptionsaboutdepression\"],[1442859,\"https:\\u002f\\u002fwww.healthhub.sg\\u002flive-healthy\\u002fbaby-nutrition-for-your-toddler\"],[1444915,\"https:\\u002f\\u002fwww.healthhub.sg\\u002flive-healthy\\u002ftiding-over-teething\"],[1442849,\"https:\\u002f\\u002fwww.healthhub.sg\\u002flive-healthy\\u002fwhats-making-me-itchy-down-there\"],[1444848,\"https:\\u002f\\u002fwww.healthhub.sg\\u002flive-healthy\\u002f10-Essentials-for-Mental-Well-Being\"],[1444089,\"https:\\u002f\\u002fwww.healthhub.sg\\u002flive-healthy\\u002f7-reasons-why-your-babys-crying\"],[1446000,\"https:\\u002f\\u002fwww.healthhub.sg\\u002flive-healthy\\u002falcohol-and-health-set-your-drinking-limits\"],[1442395,\"https:\\u002f\\u002fwww.healthhub.sg\\u002flive-healthy\\u002flower-calorie-hawker-foods\"],[1444353,\"https:\\u002f\\u002fwww.healthhub.sg\\u002flive-healthy\\u002fsmoking-alcohol-and-drugs---why-teens-get-hooked-on-this-triple-threat\"],[1442719,\"https:\\u002f\\u002fwww.healthhub.sg\\u002flive-healthy\\u002fpregnancy-labour-and-delivery-what-to-expect\"],[1444056,\"https:\\u002f\\u002fwww.healthhub.sg\\u002flive-healthy\\u002fhealthy_cooking\"],[1444585,\"https:\\u002f\\u002fwww.healthhub.sg\\u002flive-healthy\\u002fmakan-matters-whats-a-healthy-diet\"],[1444505,\"https:\\u002f\\u002fwww.healthhub.sg\\u002flive-healthy\\u002fdont-play-play-reaching-exercise-goals-safely\"],[1442484,\"https:\\u002f\\u002fwww.healthhub.sg\\u002flive-healthy\\u002fmore-fibre-for-a-fit-and-fabulous-you\"],[1443070,\"https:\\u002f\\u002fwww.healthhub.sg\\u002flive-healthy\\u002fwhat-is-the-glycaemic-index\"],[1442782,\"https:\\u002f\\u002fwww.healthhub.sg\\u002flive-healthy\\u002fbaby-care-of-your-newborn-to-have-and-to-hold\"],[1444451,\"https:\\u002f\\u002fwww.healthhub.sg\\u002flive-healthy\\u002ffood-to-fuel-your-workouts\"],[1442997,\"https:\\u002f\\u002fwww.healthhub.sg\\u002flive-healthy\\u002ffun-fruity-facts\"],[1445302,\"https:\\u002f\\u002fwww.healthhub.sg\\u002flive-healthy\\u002fabout-lower-sodium-salt\"],[1444393,\"https:\\u002f\\u002fwww.healthhub.sg\\u002flive-healthy\\u002fseeing-green--unwind-with-nature\"],[1445144,\"https:\\u002f\\u002fwww.healthhub.sg\\u002flive-healthy\\u002fmeal-ideas-month-8\"],[1445747,\"https:\\u002f\\u002fwww.healthhub.sg\\u002flive-healthy\\u002fdifferencesbetweenchildandadultbmi\"],[1445249,\"https:\\u002f\\u002fwww.healthhub.sg\\u002flive-healthy\\u002fwhen-do-baby-teeth-start-falling-out\"],[1443088,\"https:\\u002f\\u002fwww.healthhub.sg\\u002flive-healthy\\u002fthe-gi-values-of-common-foods\"],[1444565,\"https:\\u002f\\u002fwww.healthhub.sg\\u002flive-healthy\\u002fwhole_grains_wise_choice\"],[1444852,\"https:\\u002f\\u002fwww.healthhub.sg\\u002flive-healthy\\u002fbrown_rice_paradise\"],[1442686,\"https:\\u002f\\u002fwww.healthhub.sg\\u002flive-healthy\\u002fdiabetes-are-you-at-risk\"],[1442637,\"https:\\u002f\\u002fwww.healthhub.sg\\u002flive-healthy\\u002fpregnancy-tests-for-me-and-my-baby\"],[1445143,\"https:\\u002f\\u002fwww.healthhub.sg\\u002flive-healthy\\u002fmeal-ideas-month-9\"],[1445755,\"https:\\u002f\\u002fwww.healthhub.sg\\u002flive-healthy\\u002fmens-health-focus-on-smoking-and-drinking\"],[1443475,\"https:\\u002f\\u002fwww.healthhub.sg\\u002flive-healthy\\u002fbanish-nasty-nibbles-with-healthy-snacks\"],[1445512,\"https:\\u002f\\u002fwww.healthhub.sg\\u002flive-healthy\\u002fabcs_of_falls\"],[1444944,\"https:\\u002f\\u002fwww.healthhub.sg\\u002flive-healthy\\u002fguide-to-toddler-medication\"],[1445090,\"https:\\u002f\\u002fwww.healthhub.sg\\u002flive-healthy\\u002fmy-child-is-too-short-for-his-age-what-should-i-do\"],[1445147,\"https:\\u002f\\u002fwww.healthhub.sg\\u002flive-healthy\\u002fmeal-ideas-month-11\"],[1443002,\"https:\\u002f\\u002fwww.healthhub.sg\\u002flive-healthy\\u002fmushrooms-mushrooms\"],[1442694,\"https:\\u002f\\u002fwww.healthhub.sg\\u002flive-healthy\\u002fpregnancy-gearing-up-for-birth\"],[1445534,\"https:\\u002f\\u002fwww.healthhub.sg\\u002flive-healthy\\u002fboosting_childs_mental_wellbeing\"],[1445586,\"https:\\u002f\\u002fwww.healthhub.sg\\u002flive-healthy\\u002fwarningsignsof_dementia\"],[1445689,\"https:\\u002f\\u002fwww.healthhub.sg\\u002flive-healthy\\u002fquittips\"],[1445686,\"https:\\u002f\\u002fwww.healthhub.sg\\u002flive-healthy\\u002fquestions_smoking\"],[1445881,\"https:\\u002f\\u002fwww.healthhub.sg\\u002flive-healthy\\u002fmorning-sickness-should-you-be-worried\"],[1445947,\"https:\\u002f\\u002fwww.healthhub.sg\\u002flive-healthy\\u002fsugar-rush\"],[1444895,\"https:\\u002f\\u002fwww.healthhub.sg\\u002flive-healthy\\u002fhelp-my-baby-is-coughing-and-wheezing\"],[1444503,\"https:\\u002f\\u002fwww.healthhub.sg\\u002flive-healthy\\u002feat-the-rainbow-to-beat-the-blues\"],[1445942,\"https:\\u002f\\u002fwww.healthhub.sg\\u002flive-healthy\\u002fmental-wellbeing\"],[1446021,\"https:\\u002f\\u002fwww.healthhub.sg\\u002flive-healthy\\u002fenergy-boosting-breakfasts\"],[1443130,\"https:\\u002f\\u002fwww.healthhub.sg\\u002flive-healthy\\u002feat-your-veggies\"],[1443357,\"https:\\u002f\\u002fwww.healthhub.sg\\u002flive-healthy\\u002ftips-on-fall-prevention\"],[1445402,\"https:\\u002f\\u002fwww.healthhub.sg\\u002flive-healthy\\u002ffacts_tobacco_products\"],[1445342,\"https:\\u002f\\u002fwww.healthhub.sg\\u002flive-healthy\\u002fdealing_with_cyber-bullies\"],[1444538,\"https:\\u002f\\u002fwww.healthhub.sg\\u002flive-healthy\\u002fexercise-vs-diet\"],[1446074,\"https:\\u002f\\u002fwww.healthhub.sg\\u002flive-healthy\\u002fwill-running-solve-my-pot-belly-problem\"],[1444636,\"https:\\u002f\\u002fwww.healthhub.sg\\u002flive-healthy\\u002fshould-kids-sleep-in-when-schools-out\"],[1445425,\"https:\\u002f\\u002fwww.healthhub.sg\\u002flive-healthy\\u002fbreathe_in_the_air\"],[1442711,\"https:\\u002f\\u002fwww.healthhub.sg\\u002flive-healthy\\u002fpregnancy-what-happens-in-the-third-trimester\"],[1445298,\"https:\\u002f\\u002fwww.healthhub.sg\\u002flive-healthy\\u002finfluenza_vaccine_for_your_child\"],[1443254,\"https:\\u002f\\u002fwww.healthhub.sg\\u002flive-healthy\\u002frun-from-chronic-illnesses\"],[1443586,\"https:\\u002f\\u002fwww.healthhub.sg\\u002flive-healthy\\u002fyawn-im-having-a-food-coma\"],[1445172,\"https:\\u002f\\u002fwww.healthhub.sg\\u002flive-healthy\\u002fnutrition-for-toddlers-25-36-months-old\"],[1445320,\"https:\\u002f\\u002fwww.healthhub.sg\\u002flive-healthy\\u002fget_active_lifestyle_guide\"],[1443171,\"https:\\u002f\\u002fwww.healthhub.sg\\u002flive-healthy\\u002fgetting-high-on-team-sports\"],[1443039,\"https:\\u002f\\u002fwww.healthhub.sg\\u002flive-healthy\\u002fcarbohydrates-and-diabetes\"],[1442681,\"https:\\u002f\\u002fwww.healthhub.sg\\u002flive-healthy\\u002flow-in-energy-you-could-be-low-in-iron\"],[1444584,\"https:\\u002f\\u002fwww.healthhub.sg\\u002flive-healthy\\u002fstart-your-year-end-vacation-with-a-flu-jab\"],[1445412,\"https:\\u002f\\u002fwww.healthhub.sg\\u002flive-healthy\\u002fdebunking_10_nutrition_myths\"],[1442755,\"https:\\u002f\\u002fwww.healthhub.sg\\u002flive-healthy\\u002fhelping-youth-fight-depression\"],[1445332,\"https:\\u002f\\u002fwww.healthhub.sg\\u002flive-healthy\\u002fthe-postpartum-weight-loss-journey\"],[1442687,\"https:\\u002f\\u002fwww.healthhub.sg\\u002flive-healthy\\u002fsmart_ways_fill_up_fruits_veggies\"],[1445729,\"https:\\u002f\\u002fwww.healthhub.sg\\u002flive-healthy\\u002fyourguidetounderstandingdementia_pdf\"],[1446088,\"https:\\u002f\\u002fwww.healthhub.sg\\u002flive-healthy\\u002fhow-to-get-to-10000-steps-a-day--the-easy-way\"],[1445698,\"https:\\u002f\\u002fwww.healthhub.sg\\u002flive-healthy\\u002fgetting_support\"],[1444512,\"https:\\u002f\\u002fwww.healthhub.sg\\u002flive-healthy\\u002fwork-out-from-home-build-your-endurance\"],[1444973,\"https:\\u002f\\u002fwww.healthhub.sg\\u002flive-healthy\\u002fReady-Steady-Wean-How-To-Move-Baby-Onto-Solids\"],[1445704,\"https:\\u002f\\u002fwww.healthhub.sg\\u002flive-healthy\\u002fEating-and-living-well\"],[1443007,\"https:\\u002f\\u002fwww.healthhub.sg\\u002flive-healthy\\u002fget-vaccinated\"],[1445776,\"https:\\u002f\\u002fwww.healthhub.sg\\u002flive-healthy\\u002f7-tricks-for-surviving-the-food-court-at-lunchtime\"],[1445954,\"https:\\u002f\\u002fwww.healthhub.sg\\u002flive-healthy\\u002fpregnancy-what-happens-in-the-first-trimester\"],[1442975,\"https:\\u002f\\u002fwww.healthhub.sg\\u002flive-healthy\\u002f5-local-games-to-bring-you-back-in-time\"],[1445772,\"https:\\u002f\\u002fwww.healthhub.sg\\u002flive-healthy\\u002fkeeping-bones-strong\"],[1443024,\"https:\\u002f\\u002fwww.healthhub.sg\\u002flive-healthy\\u002fways_to_live_healthy\"],[1445117,\"https:\\u002f\\u002fwww.healthhub.sg\\u002flive-healthy\\u002fchild-bigger-than-average-but-active-should-i-be-worried\"],[1442558,\"https:\\u002f\\u002fwww.healthhub.sg\\u002flive-healthy\\u002f8-quick-things-you-can-do-to-de-stress-right-now\"],[1445043,\"https:\\u002f\\u002fwww.healthhub.sg\\u002flive-healthy\\u002fchild-sixth-year-what-to-eat\"],[1445216,\"https:\\u002f\\u002fwww.healthhub.sg\\u002flive-healthy\\u002fknow-your-servings-photo-guide\"],[1444952,\"https:\\u002f\\u002fwww.healthhub.sg\\u002flive-healthy\\u002fBeat-Diabetes-with-These-4-Simple-Steps\"],[1445166,\"https:\\u002f\\u002fwww.healthhub.sg\\u002flive-healthy\\u002fguide-to-oral-care-for-toddler\"],[1445663,\"https:\\u002f\\u002fwww.healthhub.sg\\u002flive-healthy\\u002fWhole-grains\"],[1442789,\"https:\\u002f\\u002fwww.healthhub.sg\\u002flive-healthy\\u002fhelp-ah-gong-and-ah-ma-age-well-with-healthy-eating\"],[1445354,\"https:\\u002f\\u002fwww.healthhub.sg\\u002flive-healthy\\u002fhealthy-meals-in-pre-schools-programme\"],[1445326,\"https:\\u002f\\u002fwww.healthhub.sg\\u002flive-healthy\\u002fwhat-to-eat-while-breastfeeding\"],[1442802,\"https:\\u002f\\u002fwww.healthhub.sg\\u002flive-healthy\\u002fbaby-time-to-unwind\"],[1445595,\"https:\\u002f\\u002fwww.healthhub.sg\\u002flive-healthy\\u002fHealthy-meals-in-school\"],[1444530,\"https:\\u002f\\u002fwww.healthhub.sg\\u002flive-healthy\\u002fsay-hello-to-4ds-and-goodbye-to-smoking\"],[1444747,\"https:\\u002f\\u002fwww.healthhub.sg\\u002flive-healthy\\u002fsoya_unique_plant_protein\"],[1445884,\"https:\\u002f\\u002fwww.healthhub.sg\\u002flive-healthy\\u002fwhen-to-sound-the-alarm-on-your-pregnancy\"],[1445603,\"https:\\u002f\\u002fwww.healthhub.sg\\u002flive-healthy\\u002fbenefits-of-fruit-and-vegetables\"],[1444553,\"https:\\u002f\\u002fwww.healthhub.sg\\u002flive-healthy\\u002fmove-more-live-longer\"],[1445071,\"https:\\u002f\\u002fwww.healthhub.sg\\u002flive-healthy\\u002fmy-child-eats-nuggets-and-junk-food-what-should-i-do\"],[1442553,\"https:\\u002f\\u002fwww.healthhub.sg\\u002flive-healthy\\u002fhealthy-snacks-for-kids\"],[1445194,\"https:\\u002f\\u002fwww.healthhub.sg\\u002flive-healthy\\u002feye-care-for-pre-schooler\"],[1446096,\"https:\\u002f\\u002fwww.healthhub.sg\\u002flive-healthy\\u002fladies-lifting-weights-wont-make-you-look-masculine\"],[1445092,\"https:\\u002f\\u002fwww.healthhub.sg\\u002flive-healthy\\u002ftea_old_beverage_full_of_benefits\"],[1443026,\"https:\\u002f\\u002fwww.healthhub.sg\\u002flive-healthy\\u002f5-healthier-cbd-lunchtime-dining-options\"],[1445737,\"https:\\u002f\\u002fwww.healthhub.sg\\u002flive-healthy\\u002fSmoke-free-teens\"],[1444590,\"https:\\u002f\\u002fwww.healthhub.sg\\u002flive-healthy\\u002f5-ways-to-psych-yourself-for-a-mammogram\"],[1446081,\"https:\\u002f\\u002fwww.healthhub.sg\\u002flive-healthy\\u002fideas-for-an-active-weekend\"],[1444496,\"https:\\u002f\\u002fwww.healthhub.sg\\u002flive-healthy\\u002fideas-for-an-active-weekend\"],[1443082,\"https:\\u002f\\u002fwww.healthhub.sg\\u002flive-healthy\\u002funderstandinganxiety\"],[1446045,\"https:\\u002f\\u002fwww.healthhub.sg\\u002flive-healthy\\u002fhelp-your-child-cope-with-puberty-and-self-esteem\"],[1444499,\"https:\\u002f\\u002fwww.healthhub.sg\\u002flive-healthy\\u002ffrom-goreng-to-grill-healthier-cooking-methods\"],[1445328,\"https:\\u002f\\u002fwww.healthhub.sg\\u002flive-healthy\\u002fthe-beginners-guide-to-taking-care-of-your-toddler-19-24-months\"],[1442571,\"https:\\u002f\\u002fwww.healthhub.sg\\u002flive-healthy\\u002fpregnancy-being-fit-when-pregnant\"],[1444632,\"https:\\u002f\\u002fwww.healthhub.sg\\u002flive-healthy\\u002fnuts_about_nuts\"],[1445876,\"https:\\u002f\\u002fwww.healthhub.sg\\u002flive-healthy\\u002fdont-toast-to-your-babys-health\"],[1445506,\"https:\\u002f\\u002fwww.healthhub.sg\\u002flive-healthy\\u002f150minutes\"],[1442458,\"https:\\u002f\\u002fwww.healthhub.sg\\u002flive-healthy\\u002fhelp-your-child-untangle-from-the-web\"],[1443393,\"https:\\u002f\\u002fwww.healthhub.sg\\u002flive-healthy\\u002fhidden-sugars-and-diabetes\"],[1444941,\"https:\\u002f\\u002fwww.healthhub.sg\\u002flive-healthy\\u002fscreen-time-infants-baby-toddlers\"],[1445986,\"https:\\u002f\\u002fwww.healthhub.sg\\u002flive-healthy\\u002fburn-calories-while-watching-tv\"],[1445217,\"https:\\u002f\\u002fwww.healthhub.sg\\u002flive-healthy\\u002fdoes-my-baby-have-allergies\"],[1442947,\"https:\\u002f\\u002fwww.healthhub.sg\\u002flive-healthy\\u002fgrowing-kid-help-your-child-smile-for-life\"],[1442664,\"https:\\u002f\\u002fwww.healthhub.sg\\u002flive-healthy\\u002fpregnancy-antenatal-postnatal-services-support-helplines\"],[1443913,\"https:\\u002f\\u002fwww.healthhub.sg\\u002flive-healthy\\u002fhealthy-and-delicious-meals-in-school-canteens\"],[1445220,\"https:\\u002f\\u002fwww.healthhub.sg\\u002flive-healthy\\u002fCut-the-sweet-tallk-4-ways-to-slash-sugar-from-your-diet\"],[1442741,\"https:\\u002f\\u002fwww.healthhub.sg\\u002flive-healthy\\u002fbuilding-resilience-in-your-child\"],[1445674,\"https:\\u002f\\u002fwww.healthhub.sg\\u002flive-healthy\\u002fmentalhealth_resilience\"],[1445547,\"https:\\u002f\\u002fwww.healthhub.sg\\u002flive-healthy\\u002freduceyourriskofdevelopingdementia\"],[1445319,\"https:\\u002f\\u002fwww.healthhub.sg\\u002flive-healthy\\u002fsaying_no\"],[1443302,\"https:\\u002f\\u002fwww.healthhub.sg\\u002flive-healthy\\u002ftalking-to-teen-about-sex-and-sexuality\"],[1444446,\"https:\\u002f\\u002fwww.healthhub.sg\\u002flive-healthy\\u002fwork-out-from-home-get-stronger\"],[1445573,\"https:\\u002f\\u002fwww.healthhub.sg\\u002flive-healthy\\u002fdentalcheckupsforteens\"],[1446090,\"https:\\u002f\\u002fwww.healthhub.sg\\u002flive-healthy\\u002fthe-a-z-guide-to-an-active-lifestyle\"],[1442786,\"https:\\u002f\\u002fwww.healthhub.sg\\u002flive-healthy\\u002fmindful-about-mindfulness\"],[1442722,\"https:\\u002f\\u002fwww.healthhub.sg\\u002flive-healthy\\u002fpregnancy-first-days-of-our-lives-with-baby\"],[1443688,\"https:\\u002f\\u002fwww.healthhub.sg\\u002flive-healthy\\u002f6-blood-tests-every-mum-to-be-undergoes\"],[1443256,\"https:\\u002f\\u002fwww.healthhub.sg\\u002flive-healthy\\u002frewire-after-you-retire\"],[1443526,\"https:\\u002f\\u002fwww.healthhub.sg\\u002flive-healthy\\u002fhealthy-start-for-your-baby\"],[1445568,\"https:\\u002f\\u002fwww.healthhub.sg\\u002flive-healthy\\u002fhelpsomeonequitsmoking\"],[1442829,\"https:\\u002f\\u002fwww.healthhub.sg\\u002flive-healthy\\u002fbaby-smile-a-little-smile\"],[1445415,\"https:\\u002f\\u002fwww.healthhub.sg\\u002flive-healthy\\u002fsorry_no_coffee_in_this_coffeeshop\"],[1442932,\"https:\\u002f\\u002fwww.healthhub.sg\\u002flive-healthy\\u002fgrowing-kid-healthy-eyes-clear-vision\"],[1444336,\"https:\\u002f\\u002fwww.healthhub.sg\\u002flive-healthy\\u002fhappy-with-healthier-food\"],[1442761,\"https:\\u002f\\u002fwww.healthhub.sg\\u002flive-healthy\\u002fbe-a-master-of-stress\"],[1445721,\"https:\\u002f\\u002fwww.healthhub.sg\\u002flive-healthy\\u002fTobacco-and-tax\"],[1444379,\"https:\\u002f\\u002fwww.healthhub.sg\\u002flive-healthy\\u002f6-smoke-free-ways-to-deal-with-emotions\"],[1444622,\"https:\\u002f\\u002fwww.healthhub.sg\\u002flive-healthy\\u002fmy-loved-one-has-dementia--what-do-i-do\"],[1444347,\"https:\\u002f\\u002fwww.healthhub.sg\\u002flive-healthy\\u002fbusting-the-myths-of-mental-illness\"],[1442951,\"https:\\u002f\\u002fwww.healthhub.sg\\u002flive-healthy\\u002fhealthy-pre-school-accreditation-framework\"],[1442843,\"https:\\u002f\\u002fwww.healthhub.sg\\u002flive-healthy\\u002fbaby-activities-for-6-12-months-lets-play-mummy\"],[1443323,\"https:\\u002f\\u002fwww.healthhub.sg\\u002flive-healthy\\u002frole-in-sexuality-education\"],[1444536,\"https:\\u002f\\u002fwww.healthhub.sg\\u002flive-healthy\\u002freal-or-not-busting-exercise-myths\"],[1445843,\"https:\\u002f\\u002fwww.healthhub.sg\\u002flive-healthy\\u002fgetting-started-on-health-qigong\"],[1443020,\"https:\\u002f\\u002fwww.healthhub.sg\\u002flive-healthy\\u002fgrowing-kid-is-my-child-developing-well\"],[1442776,\"https:\\u002f\\u002fwww.healthhub.sg\\u002flive-healthy\\u002fare-you-getting-quality-sleep\"],[1445097,\"https:\\u002f\\u002fwww.healthhub.sg\\u002flive-healthy\\u002fhelp-my-baby-is-a-fussy-eater\"],[1445406,\"https:\\u002f\\u002fwww.healthhub.sg\\u002flive-healthy\\u002f3_tips_to_lose_weight_the_right_way\"],[1445061,\"https:\\u002f\\u002fwww.healthhub.sg\\u002flive-healthy\\u002ffun-workouts-lazy-girls-singapore\"],[1445120,\"https:\\u002f\\u002fwww.healthhub.sg\\u002flive-healthy\\u002fshould-i-let-child-choose-what-food-to-eat\"],[1445854,\"https:\\u002f\\u002fwww.healthhub.sg\\u002flive-healthy\\u002fget-up-and-go---tips-to-get-started-on-your-exercise-journey\"],[1444098,\"https:\\u002f\\u002fwww.healthhub.sg\\u002flive-healthy\\u002ftips_cooking_whole_grains\"],[1445551,\"https:\\u002f\\u002fwww.healthhub.sg\\u002flive-healthy\\u002fhealthy_selfesteem_for_your_child\"],[1442644,\"https:\\u002f\\u002fwww.healthhub.sg\\u002flive-healthy\\u002fpregnancy-what-happens-in-the-second-trimester\"],[1445777,\"https:\\u002f\\u002fwww.healthhub.sg\\u002flive-healthy\\u002fthe-nudge-to-budge-why-you-should-step-out-of-that-chair\"],[1442736,\"https:\\u002f\\u002fwww.healthhub.sg\\u002flive-healthy\\u002fhelp-support-wife-pregnancy\"],[1444606,\"https:\\u002f\\u002fwww.healthhub.sg\\u002flive-healthy\\u002fgradual-reduction-in-a-nutshell\"],[1445774,\"https:\\u002f\\u002fwww.healthhub.sg\\u002flive-healthy\\u002fsay-siu-dai-instead\"],[1442663,\"https:\\u002f\\u002fwww.healthhub.sg\\u002flive-healthy\\u002fpregnancy-talk-of-the-class-antenatal-class\"],[1444414,\"https:\\u002f\\u002fwww.healthhub.sg\\u002flive-healthy\\u002fplainly-good-ways-to-make-water-tasty\"],[1443116,\"https:\\u002f\\u002fwww.healthhub.sg\\u002flive-healthy\\u002fhealthy-20-meals-for-the-entire-family\"],[1444439,\"https:\\u002f\\u002fwww.healthhub.sg\\u002flive-healthy\\u002fboosting-your-self-esteem\"],[1444881,\"https:\\u002f\\u002fwww.healthhub.sg\\u002flive-healthy\\u002fis-my-child-having-a-cold\"],[1442605,\"https:\\u002f\\u002fwww.healthhub.sg\\u002flive-healthy\\u002fhow-well-do-you-know-your-sugar\"],[1445763,\"https:\\u002f\\u002fwww.healthhub.sg\\u002flive-healthy\\u002ffancy-footwork-working-out-around-singapore\"],[1445669,\"https:\\u002f\\u002fwww.healthhub.sg\\u002flive-healthy\\u002fbabysfirstyearbrain\"],[1443351,\"https:\\u002f\\u002fwww.healthhub.sg\\u002flive-healthy\\u002fnutrition-counts-for-your-growing-child\"],[1443356,\"https:\\u002f\\u002fwww.healthhub.sg\\u002flive-healthy\\u002flets-get-saucy\"],[1445265,\"https:\\u002f\\u002fwww.healthhub.sg\\u002flive-healthy\\u002f5-things-to-start-doing-now-that-transfat-has-been-banned\"],[1443400,\"https:\\u002f\\u002fwww.healthhub.sg\\u002flive-healthy\\u002fdoes-red-meat-cause-diabetes\"],[1444300,\"https:\\u002f\\u002fwww.healthhub.sg\\u002flive-healthy\\u002fcatch-up-on-calcium\"],[1445300,\"https:\\u002f\\u002fwww.healthhub.sg\\u002flive-healthy\\u002fdoes_my_child_need_antibiotics\"],[1445738,\"https:\\u002f\\u002fwww.healthhub.sg\\u002flive-healthy\\u002fFitness fun for kids\"],[1445626,\"https:\\u002f\\u002fwww.healthhub.sg\\u002flive-healthy\\u002fbondingwithyourteenager\"],[1444172,\"https:\\u002f\\u002fwww.healthhub.sg\\u002flive-healthy\\u002fbeat_lunch_hour_rush\"],[1445699,\"https:\\u002f\\u002fwww.healthhub.sg\\u002flive-healthy\\u002fsmoking_habitoraddiction\"],[1445293,\"https:\\u002f\\u002fwww.healthhub.sg\\u002flive-healthy\\u002funderstanding-abdominal-obesity\"],[1443305,\"https:\\u002f\\u002fwww.healthhub.sg\\u002flive-healthy\\u002fcooking_for_health_quickneasy\"],[1442713,\"https:\\u002f\\u002fwww.healthhub.sg\\u002flive-healthy\\u002fdont-let-baby-fat-follow-you-to-adulthood\"],[1442650,\"https:\\u002f\\u002fwww.healthhub.sg\\u002flive-healthy\\u002fshopping-for-fruit-and-veggies\"],[1444319,\"https:\\u002f\\u002fwww.healthhub.sg\\u002flive-healthy\\u002fpasta-fiesta-which-is-healthier\"],[1445678,\"https:\\u002f\\u002fwww.healthhub.sg\\u002flive-healthy\\u002fmental_health_emotional_intelligence_pdf\"],[1443631,\"https:\\u002f\\u002fwww.healthhub.sg\\u002flive-healthy\\u002fgood_eye_care_habits\"],[1442921,\"https:\\u002f\\u002fwww.healthhub.sg\\u002flive-healthy\\u002fgrowing-kid-children-see-children-do\"],[1443370,\"https:\\u002f\\u002fwww.healthhub.sg\\u002flive-healthy\\u002fmove-in-your-time\"],[1443094,\"https:\\u002f\\u002fwww.healthhub.sg\\u002flive-healthy\\u002fStay-Active-with-Diabetes\"],[1442891,\"https:\\u002f\\u002fwww.healthhub.sg\\u002flive-healthy\\u002fcute-bentos-for-kids\"],[1445637,\"https:\\u002f\\u002fwww.healthhub.sg\\u002flive-healthy\\u002fgetyourbodybeachready\"],[1446057,\"https:\\u002f\\u002fwww.healthhub.sg\\u002flive-healthy\\u002fhow-to-talk-to-your-kids-about-sex\"],[1442844,\"https:\\u002f\\u002fwww.healthhub.sg\\u002flive-healthy\\u002fbaby-when-allergies-occur\"],[1444140,\"https:\\u002f\\u002fwww.healthhub.sg\\u002flive-healthy\\u002frestaurant_guide_healthier_eating\"],[1444969,\"https:\\u002f\\u002fwww.healthhub.sg\\u002flive-healthy\\u002fmy-child-is-still-sucking-his-thumb\"],[1445533,\"https:\\u002f\\u002fwww.healthhub.sg\\u002flive-healthy\\u002fhowtoquit\"],[1442617,\"https:\\u002f\\u002fwww.healthhub.sg\\u002flive-healthy\\u002fpregnancy-coping-with-the-unexpected-pregnancy-complications\"],[1442785,\"https:\\u002f\\u002fwww.healthhub.sg\\u002flive-healthy\\u002fbaby-mummys-off-to-work\"],[1444592,\"https:\\u002f\\u002fwww.healthhub.sg\\u002flive-healthy\\u002f5-fast-facts-about-nicotine-replacement-therapy\"],[1442929,\"https:\\u002f\\u002fwww.healthhub.sg\\u002flive-healthy\\u002fgrowing-kid-raising-healthy-kids\"],[1446020,\"https:\\u002f\\u002fwww.healthhub.sg\\u002flive-healthy\\u002fbring-the-gift-of-smoke-free-living-home\"],[1443433,\"https:\\u002f\\u002fwww.healthhub.sg\\u002flive-healthy\\u002fageing-socially-and-gracefully\"],[1442481,\"https:\\u002f\\u002fwww.healthhub.sg\\u002flive-healthy\\u002f8-personal-hygiene-boo-boos-you-dont-wanna-make\"],[1442979,\"https:\\u002f\\u002fwww.healthhub.sg\\u002flive-healthy\\u002fthe-surprising-health-benefits-of-walking\"],[1445163,\"https:\\u002f\\u002fwww.healthhub.sg\\u002flive-healthy\\u002fguide-to-common-toddler-conditions\"],[1443093,\"https:\\u002f\\u002fwww.healthhub.sg\\u002flive-healthy\\u002fwhy-are-whole-grains-good-for-diabetes\"],[1444469,\"https:\\u002f\\u002fwww.healthhub.sg\\u002flive-healthy\\u002fwork-out-from-home-stretch-your-flexibility\"],[1445070,\"https:\\u002f\\u002fwww.healthhub.sg\\u002flive-healthy\\u002fshould-i-switch-baby-to-low-fat-milk\"],[1445363,\"https:\\u002f\\u002fwww.healthhub.sg\\u002flive-healthy\\u002fno_gym_membership_1\"],[1442877,\"https:\\u002f\\u002fwww.healthhub.sg\\u002flive-healthy\\u002fis-an-activity-tracker-necessary\"],[1442690,\"https:\\u002f\\u002fwww.healthhub.sg\\u002flive-healthy\\u002fpregnancy-thinking-ahead\"],[1443003,\"https:\\u002f\\u002fwww.healthhub.sg\\u002flive-healthy\\u002fhow-to-order-healthier-drinks\"],[1445525,\"https:\\u002f\\u002fwww.healthhub.sg\\u002flive-healthy\\u002fknow_how_to_fight_flu\"],[1445488,\"https:\\u002f\\u002fwww.healthhub.sg\\u002flive-healthy\\u002fdeal_with_peer_pressure_media\"],[1445517,\"https:\\u002f\\u002fwww.healthhub.sg\\u002flive-healthy\\u002fManage Weight Healthily\"],[1444562,\"https:\\u002f\\u002fwww.healthhub.sg\\u002flive-healthy\\u002fhow-much-to-eat-perfecting-portions\"],[1442818,\"https:\\u002f\\u002fwww.healthhub.sg\\u002flive-healthy\\u002ffalls_prevention_programme\"],[1445330,\"https:\\u002f\\u002fwww.healthhub.sg\\u002flive-healthy\\u002ftoddlers-and-physical-activity-what-you-need-to-know\"],[1444615,\"https:\\u002f\\u002fwww.healthhub.sg\\u002flive-healthy\\u002fvegetarian_guide_eating_right\"],[1445338,\"https:\\u002f\\u002fwww.healthhub.sg\\u002flive-healthy\\u002freading_food_labels_making_sense_fine_print\"],[1444447,\"https:\\u002f\\u002fwww.healthhub.sg\\u002flive-healthy\\u002fdont-forget-your-form\"],[1443392,\"https:\\u002f\\u002fwww.healthhub.sg\\u002flive-healthy\\u002fdont-lose-sleep-over-diabetes\"],[1444566,\"https:\\u002f\\u002fwww.healthhub.sg\\u002flive-healthy\\u002fyum-seng-how-to-order-healthier-drinks\"],[1445315,\"https:\\u002f\\u002fwww.healthhub.sg\\u002flive-healthy\\u002fthe-beginners-guide-to-taking-care-of-your-baby-7-12-months\"],[1442810,\"https:\\u002f\\u002fwww.healthhub.sg\\u002flive-healthy\\u002fbaby-up-and-about-safely\"],[1442539,\"https:\\u002f\\u002fwww.healthhub.sg\\u002flive-healthy\\u002fpregnancy-a-to-z-of-pregnancy-health\"],[1442998,\"https:\\u002f\\u002fwww.healthhub.sg\\u002flive-healthy\\u002fhealthy-eating-for-life\"],[1445924,\"https:\\u002f\\u002fwww.healthhub.sg\\u002flive-healthy\\u002fbuilding-strong-family-ties\"],[1445419,\"https:\\u002f\\u002fwww.healthhub.sg\\u002flive-healthy\\u002fhelp_is_my_friend_abusing_substances\"],[1445690,\"https:\\u002f\\u002fwww.healthhub.sg\\u002flive-healthy\\u002fresponsible_drinking_guide\"],[1444607,\"https:\\u002f\\u002fwww.healthhub.sg\\u002flive-healthy\\u002flearn-the-way-of-the-cold-turkey\"],[1445559,\"https:\\u002f\\u002fwww.healthhub.sg\\u002flive-healthy\\u002fchild_choking\"],[1442364,\"https:\\u002f\\u002fwww.healthhub.sg\\u002flive-healthy\\u002fsqueezing-in-time-to-get-fit\"],[1443397,\"https:\\u002f\\u002fwww.healthhub.sg\\u002flive-healthy\\u002fdiabetes-and-high-blood-cholesterol\"],[1445734,\"https:\\u002f\\u002fwww.healthhub.sg\\u002flive-healthy\\u002fphysicalactivity_akeytohealthyageing_pdf\"],[1442907,\"https:\\u002f\\u002fwww.healthhub.sg\\u002flive-healthy\\u002fcultivating-healthy-habits-in-your-preschool-child\"],[1445760,\"https:\\u002f\\u002fwww.healthhub.sg\\u002flive-healthy\\u002fyou-are-what-you-eat\"],[1442901,\"https:\\u002f\\u002fwww.healthhub.sg\\u002flive-healthy\\u002fbaby-coping-with-your-2-year-old-when-a-firm-hand-is-needed\"],[1444580,\"https:\\u002f\\u002fwww.healthhub.sg\\u002flive-healthy\\u002fsteady-balancing-meals-with-my-healthy-plate\"],[1443038,\"https:\\u002f\\u002fwww.healthhub.sg\\u002flive-healthy\\u002fdaydreaming-kids-wondering-or-wandering-minds\"],[1444554,\"https:\\u002f\\u002fwww.healthhub.sg\\u002flive-healthy\\u002f10k-ok-how-to-move-more-in-everyday-life\"],[1442856,\"https:\\u002f\\u002fwww.healthhub.sg\\u002flive-healthy\\u002fbaby-your-baby-needs-soft-skills-too\"],[1444894,\"https:\\u002f\\u002fwww.healthhub.sg\\u002flive-healthy\\u002fwhat-are-common-food-allergies\"],[1445695,\"https:\\u002f\\u002fwww.healthhub.sg\\u002flive-healthy\\u002fDrinking\"],[1444467,\"https:\\u002f\\u002fwww.healthhub.sg\\u002flive-healthy\\u002fweather-the-withdrawal\"],[1445131,\"https:\\u002f\\u002fwww.healthhub.sg\\u002flive-healthy\\u002forganic_food_better_or_not\"],[1445620,\"https:\\u002f\\u002fwww.healthhub.sg\\u002flive-healthy\\u002fbenefitsofquitting\"],[1443327,\"https:\\u002f\\u002fwww.healthhub.sg\\u002flive-healthy\\u002fspice-up-your-life-dried-and-tested\"],[1446038,\"https:\\u002f\\u002fwww.healthhub.sg\\u002flive-healthy\\u002fenergy-balance-the-only-diet-that-really-works\"],[1445433,\"https:\\u002f\\u002fwww.healthhub.sg\\u002flive-healthy\\u002fleading_healthy_Happy_lives\"],[1445555,\"https:\\u002f\\u002fwww.healthhub.sg\\u002flive-healthy\\u002fenvironmentaltobaccosmoke\"],[1445259,\"https:\\u002f\\u002fwww.healthhub.sg\\u002flive-healthy\\u002fsteering-your-teen-away-from-drugs\"],[1444883,\"https:\\u002f\\u002fwww.healthhub.sg\\u002flive-healthy\\u002fwhen-will-my-baby-get-his-first-tooth\"],[1443462,\"https:\\u002f\\u002fwww.healthhub.sg\\u002flive-healthy\\u002fchoosing-healthier-festive-foods-hari-raya-and-deepavali\"],[1445720,\"https:\\u002f\\u002fwww.healthhub.sg\\u002flive-healthy\\u002fMumps\"],[1444940,\"https:\\u002f\\u002fwww.healthhub.sg\\u002flive-healthy\\u002fguide-to-toddler-eye-care\"],[1446004,\"https:\\u002f\\u002fwww.healthhub.sg\\u002flive-healthy\\u002fis-it-healthier-to-go-vegetarian\"],[1445030,\"https:\\u002f\\u002fwww.healthhub.sg\\u002flive-healthy\\u002fchild-fourth-year-mind-your-portions\"],[1444985,\"https:\\u002f\\u002fwww.healthhub.sg\\u002flive-healthy\\u002fAntimicrobial-Resistance-All-You-Need-to-Know\"],[1444500,\"https:\\u002f\\u002fwww.healthhub.sg\\u002flive-healthy\\u002fdesserts-durian-diet-busting-diabetes-myths\"],[1445389,\"https:\\u002f\\u002fwww.healthhub.sg\\u002flive-healthy\\u002fsexual_health_guide\"],[1442903,\"https:\\u002f\\u002fwww.healthhub.sg\\u002flive-healthy\\u002fbaby-daddy-you-are-important\"],[1443535,\"https:\\u002f\\u002fwww.healthhub.sg\\u002flive-healthy\\u002fare-e-cigarettes-harmful\"],[1445341,\"https:\\u002f\\u002fwww.healthhub.sg\\u002flive-healthy\\u002fgrocery_shopping_budget\"],[1443143,\"https:\\u002f\\u002fwww.healthhub.sg\\u002flive-healthy\\u002fadd-a-healthy-pop-to-your-favourite-dishes\"],[1442993,\"https:\\u002f\\u002fwww.healthhub.sg\\u002flive-healthy\\u002fgrowing-kid-mum-dad-where-do-i-come-from\"],[1442806,\"https:\\u002f\\u002fwww.healthhub.sg\\u002flive-healthy\\u002fbaby-help-your-baby-develop\"],[1443069,\"https:\\u002f\\u002fwww.healthhub.sg\\u002flive-healthy\\u002flosing-weight-with-diabetes\"],[1444413,\"https:\\u002f\\u002fwww.healthhub.sg\\u002flive-healthy\\u002fget-your-heart-pumping\"],[1442412,\"https:\\u002f\\u002fwww.healthhub.sg\\u002flive-healthy\\u002fthe-ultimate-20-minute-workout\"],[1442525,\"https:\\u002f\\u002fwww.healthhub.sg\\u002flive-healthy\\u002fage-well-by-eating-well\"],[1445668,\"https:\\u002f\\u002fwww.healthhub.sg\\u002flive-healthy\\u002fpositivementalwellbeing\"],[1442884,\"https:\\u002f\\u002fwww.healthhub.sg\\u002flive-healthy\\u002fbaby-placing-your-child-in-a-child-care-centre\"],[1444595,\"https:\\u002f\\u002fwww.healthhub.sg\\u002flive-healthy\\u002fare-you-keeping-up-with-health-screening\"],[1444385,\"https:\\u002f\\u002fwww.healthhub.sg\\u002flive-healthy\\u002fbeatstressguide\"],[1442573,\"https:\\u002f\\u002fwww.healthhub.sg\\u002flive-healthy\\u002flook-what-i-brought-for-recess\"],[1445579,\"https:\\u002f\\u002fwww.healthhub.sg\\u002flive-healthy\\u002fkeepingyourhomepoisonfree\"],[1442709,\"https:\\u002f\\u002fwww.healthhub.sg\\u002flive-healthy\\u002fpregnancy-recharged-and-ready-for-baby\"],[1442621,\"https:\\u002f\\u002fwww.healthhub.sg\\u002flive-healthy\\u002f6-tips-to-make-brushing-teeth-fun-for-kids\"],[1443859,\"https:\\u002f\\u002fwww.healthhub.sg\\u002flive-healthy\\u002fgals_guide_model_eating\"],[1444107,\"https:\\u002f\\u002fwww.healthhub.sg\\u002flive-healthy\\u002f4-reasons-you-keep-going-to-the-loo\"],[1445193,\"https:\\u002f\\u002fwww.healthhub.sg\\u002flive-healthy\\u002foral-care-for-pre-schooler\"],[1444452,\"https:\\u002f\\u002fwww.healthhub.sg\\u002flive-healthy\\u002fwork-out-from-home-find-your-balance\"],[1445530,\"https:\\u002f\\u002fwww.healthhub.sg\\u002flive-healthy\\u002fHealthy-Weight-Loss\"],[1444221,\"https:\\u002f\\u002fwww.healthhub.sg\\u002flive-healthy\\u002fsurvive_hawker_paradise\"],[1443161,\"https:\\u002f\\u002fwww.healthhub.sg\\u002flive-healthy\\u002fthe-drop-of-life---six-reasons-to-drink-water\"],[1445015,\"https:\\u002f\\u002fwww.healthhub.sg\\u002flive-healthy\\u002fpower_up_sports_nutrition\"],[1445317,\"https:\\u002f\\u002fwww.healthhub.sg\\u002flive-healthy\\u002fthe-beginners-guide-to-taking-care-of-your-baby-13-18-months\"],[1443415,\"https:\\u002f\\u002fwww.healthhub.sg\\u002flive-healthy\\u002fgamify-your-exercise-with-virtual-reality-sports\"],[1442483,\"https:\\u002f\\u002fwww.healthhub.sg\\u002flive-healthy\\u002fsneak-tweaks-for-healthy-baked-treats\"],[1445767,\"https:\\u002f\\u002fwww.healthhub.sg\\u002flive-healthy\\u002fraising-kids-with-healthy-minds\"],[1445581,\"https:\\u002f\\u002fwww.healthhub.sg\\u002flive-healthy\\u002fkeepthoselittlehandsclean\"],[1445416,\"https:\\u002f\\u002fwww.healthhub.sg\\u002flive-healthy\\u002fgetsmart_debunking_drug_myths\"],[1442934,\"https:\\u002f\\u002fwww.healthhub.sg\\u002flive-healthy\\u002fthe-draw-to-exercise\"],[1443053,\"https:\\u002f\\u002fwww.healthhub.sg\\u002flive-healthy\\u002ftravelling-with-diabetes\"],[1443178,\"https:\\u002f\\u002fwww.healthhub.sg\\u002flive-healthy\\u002fsurprisingly-healthy-activities-fun-with-friends\"],[1445570,\"https:\\u002f\\u002fwww.healthhub.sg\\u002flive-healthy\\u002fPhysical Activity\"],[1444389,\"https:\\u002f\\u002fwww.healthhub.sg\\u002flive-healthy\\u002fhow-to-deal-with-cravings-after-quitting\"],[1442647,\"https:\\u002f\\u002fwww.healthhub.sg\\u002flive-healthy\\u002fpregnancy-glow-as-baby-grows\"],[1445104,\"https:\\u002f\\u002fwww.healthhub.sg\\u002flive-healthy\\u002fhelp-my-child-wont-let-me-brush-her-teeth\"],[1443369,\"https:\\u002f\\u002fwww.healthhub.sg\\u002flive-healthy\\u002fstep-right-up\"],[1445480,\"https:\\u002f\\u002fwww.healthhub.sg\\u002flive-healthy\\u002fsingapore_on_a_shoestring\"],[1443325,\"https:\\u002f\\u002fwww.healthhub.sg\\u002flive-healthy\\u002fspice-up-your-life-get-fresh-with-herbs\"],[1445345,\"https:\\u002f\\u002fwww.healthhub.sg\\u002flive-healthy\\u002fguys_guide_eat_well_look_good\"],[1445538,\"https:\\u002f\\u002fwww.healthhub.sg\\u002flive-healthy\\u002ftravellersurvivalguide\"],[1445764,\"https:\\u002f\\u002fwww.healthhub.sg\\u002flive-healthy\\u002fpushing-your-weight-around\"],[1445066,\"https:\\u002f\\u002fwww.healthhub.sg\\u002flive-healthy\\u002ffun-free-fitness-exercise-class-singapore-health-promotion-board\"],[1445548,\"https:\\u002f\\u002fwww.healthhub.sg\\u002flive-healthy\\u002fdoineedadentalspecialist\"],[1442957,\"https:\\u002f\\u002fwww.healthhub.sg\\u002flive-healthy\\u002fgrowing-kid-keep-germs-away\"],[1442680,\"https:\\u002f\\u002fwww.healthhub.sg\\u002flive-healthy\\u002fsit-up-straight-darling\"],[1443557,\"https:\\u002f\\u002fwww.healthhub.sg\\u002flive-healthy\\u002fmental-toughness-is-like-a-fruit-bowl\"],[1445213,\"https:\\u002f\\u002fwww.healthhub.sg\\u002flive-healthy\\u002fnutrition-for-preschoolers-61-72-months\"],[1445019,\"https:\\u002f\\u002fwww.healthhub.sg\\u002flive-healthy\\u002fbaby-first-year-tooth-fairy-to-do-list\"],[1442873,\"https:\\u002f\\u002fwww.healthhub.sg\\u002flive-healthy\\u002fbaby-lets-go-mummy\"],[1442916,\"https:\\u002f\\u002fwww.healthhub.sg\\u002flive-healthy\\u002fbaby-creating-a-happy-home-for-your-child\"],[1445088,\"https:\\u002f\\u002fwww.healthhub.sg\\u002flive-healthy\\u002fmy-child-is-in-75-percentile-bmi-is-that-good\"],[1444334,\"https:\\u002f\\u002fwww.healthhub.sg\\u002flive-healthy\\u002feasy-travel-preparations\"],[1444581,\"https:\\u002f\\u002fwww.healthhub.sg\\u002flive-healthy\\u002fno-wholegrain-no-gain\"],[1442928,\"https:\\u002f\\u002fwww.healthhub.sg\\u002flive-healthy\\u002fgrowing-kid-books-for-your-growing-child-toddler-and-preschooler\"],[1445703,\"https:\\u002f\\u002fwww.healthhub.sg\\u002flive-healthy\\u002fBinge-drinking-dangers\"],[1444418,\"https:\\u002f\\u002fwww.healthhub.sg\\u002flive-healthy\\u002fbuild-your-quitting-game-plan\"],[1444303,\"https:\\u002f\\u002fwww.healthhub.sg\\u002flive-healthy\\u002fthrive-not-just-survive-at-the-workplace\"],[1444315,\"https:\\u002f\\u002fwww.healthhub.sg\\u002flive-healthy\\u002fhalt-the-salt-sweetie\"],[1445711,\"https:\\u002f\\u002fwww.healthhub.sg\\u002flive-healthy\\u002fprimarylessons_inoralcare\"],[1445021,\"https:\\u002f\\u002fwww.healthhub.sg\\u002flive-healthy\\u002fbaby-first-year-keep-eyes-on-vision\"],[1445585,\"https:\\u002f\\u002fwww.healthhub.sg\\u002flive-healthy\\u002fmanagingmentalillness\"],[1444511,\"https:\\u002f\\u002fwww.healthhub.sg\\u002flive-healthy\\u002flets-get-fit-together\"],[1445255,\"https:\\u002f\\u002fwww.healthhub.sg\\u002flive-healthy\\u002fhow-to-care-for-your-teeth-when-you-have-braces\"],[1442905,\"https:\\u002f\\u002fwww.healthhub.sg\\u002flive-healthy\\u002fbaby-washy-washy-clean\"],[1443419,\"https:\\u002f\\u002fwww.healthhub.sg\\u002flive-healthy\\u002fexam-stress-busting-tips\"],[1444557,\"https:\\u002f\\u002fwww.healthhub.sg\\u002flive-healthy\\u002fhealthy-home-meals-on-a-budget\"],[1445516,\"https:\\u002f\\u002fwww.healthhub.sg\\u002flive-healthy\\u002fcombatingfalls\"],[1443054,\"https:\\u002f\\u002fwww.healthhub.sg\\u002flive-healthy\\u002fwhy-do-i-need-insulin-injections\"],[1445769,\"https:\\u002f\\u002fwww.healthhub.sg\\u002flive-healthy\\u002fdementia-role-reversal-who-is-the-carer-now\"],[1445399,\"https:\\u002f\\u002fwww.healthhub.sg\\u002flive-healthy\\u002f5_reasons_to_keep_exercising\"],[1445964,\"https:\\u002f\\u002fwww.healthhub.sg\\u002flive-healthy\\u002fpregnancy-im-going-to-be-a-mum\"],[1445582,\"https:\\u002f\\u002fwww.healthhub.sg\\u002flive-healthy\\u002fhappy_and_lasting_relationships\"],[1444921,\"https:\\u002f\\u002fwww.healthhub.sg\\u002flive-healthy\\u002fcan-i-let-my-1-year-old-play-on-the-tablet\"],[1443513,\"https:\\u002f\\u002fwww.healthhub.sg\\u002flive-healthy\\u002fchoosing-healthier-festive-foods-christmas-and-chinese-new-year\"],[1442394,\"https:\\u002f\\u002fwww.healthhub.sg\\u002flive-healthy\\u002fa-caregivers-guide-planning-a-well-balanced-diet\"],[1445170,\"https:\\u002f\\u002fwww.healthhub.sg\\u002flive-healthy\\u002factivity-ideas-to-get-tot-moving\"],[1445560,\"https:\\u002f\\u002fwww.healthhub.sg\\u002flive-healthy\\u002fpreventfalls\"],[1443389,\"https:\\u002f\\u002fwww.healthhub.sg\\u002flive-healthy\\u002fdiabetes-and-heart-disease\"],[1445724,\"https:\\u002f\\u002fwww.healthhub.sg\\u002flive-healthy\\u002fType-2-Screening-tests\"],[1444676,\"https:\\u002f\\u002fwww.healthhub.sg\\u002flive-healthy\\u002f4-things-you-can-do-to-keep-your-teens-sober\"],[1445577,\"https:\\u002f\\u002fwww.healthhub.sg\\u002flive-healthy\\u002fhowdangerousisrubella\"],[1445437,\"https:\\u002f\\u002fwww.healthhub.sg\\u002flive-healthy\\u002feight_auspicious_foods\"],[1442594,\"https:\\u002f\\u002fwww.healthhub.sg\\u002flive-healthy\\u002f10-hidden-sugar-bombshells-in-your-diet\"],[1445062,\"https:\\u002f\\u002fwww.healthhub.sg\\u002flive-healthy\\u002fsmall-lifestyle-changes-exercise\"],[1442879,\"https:\\u002f\\u002fwww.healthhub.sg\\u002flive-healthy\\u002fnot-safe-for-work--poor-office-hygiene\"],[1445529,\"https:\\u002f\\u002fwww.healthhub.sg\\u002flive-healthy\\u002fHealthy-Weight\"],[1444644,\"https:\\u002f\\u002fwww.healthhub.sg\\u002flive-healthy\\u002fthink-smoking-relieves-stress-think-again\"],[1443430,\"https:\\u002f\\u002fwww.healthhub.sg\\u002flive-healthy\\u002fhikes-with-spellbinding-views\"],[1445871,\"https:\\u002f\\u002fwww.healthhub.sg\\u002flive-healthy\\u002fa-healthy-life-begins-in-the-womb\"],[1445098,\"https:\\u002f\\u002fwww.healthhub.sg\\u002flive-healthy\\u002fmy-child-wont-eat-veggies-what-can-i-do\"],[1443446,\"https:\\u002f\\u002fwww.healthhub.sg\\u002flive-healthy\\u002fdance-your-way-to-health\"],[1445239,\"https:\\u002f\\u002fwww.healthhub.sg\\u002flive-healthy\\u002fhealthy-brain\"],[1445407,\"https:\\u002f\\u002fwww.healthhub.sg\\u002flive-healthy\\u002fhow_to_survive_chinese_new_year_feasts\"],[1443612,\"https:\\u002f\\u002fwww.healthhub.sg\\u002flive-healthy\\u002feye_care_60s_beyond\"],[1443042,\"https:\\u002f\\u002fwww.healthhub.sg\\u002flive-healthy\\u002fcheck-list-for-pregnancy-with-diabetes\"],[1444899,\"https:\\u002f\\u002fwww.healthhub.sg\\u002flive-healthy\\u002fmy-baby-is-a-fussy-eater-what-should-i-do\"],[1444993,\"https:\\u002f\\u002fwww.healthhub.sg\\u002flive-healthy\\u002fPrevent-development-of-diabetes-prediabetes\"],[1442388,\"https:\\u002f\\u002fwww.healthhub.sg\\u002flive-healthy\\u002f5-myths-and-facts-about-metabolism\"],[1445633,\"https:\\u002f\\u002fwww.healthhub.sg\\u002flive-healthy\\u002fbroccoli-with-assorted-mushroom\"],[1445648,\"https:\\u002f\\u002fwww.healthhub.sg\\u002flive-healthy\\u002faidswhatwomenshouldknow\"],[1442765,\"https:\\u002f\\u002fwww.healthhub.sg\\u002flive-healthy\\u002fbaby-babys-here-whats-next\"],[1443304,\"https:\\u002f\\u002fwww.healthhub.sg\\u002flive-healthy\\u002fguilt-free-treats-for-kids\"],[1446100,\"https:\\u002f\\u002fwww.healthhub.sg\\u002flive-healthy\\u002fcollagen-hotpot-is-it-a-crock-of-lies\"],[1446034,\"https:\\u002f\\u002fwww.healthhub.sg\\u002flive-healthy\\u002fcaring-for-dementia-patients-handle-feelings-with-care\"],[1444653,\"https:\\u002f\\u002fwww.healthhub.sg\\u002flive-healthy\\u002flife-is-better-when-youre-sober\"],[1443420,\"https:\\u002f\\u002fwww.healthhub.sg\\u002flive-healthy\\u002fdiabetes-and-stress-problems\"],[1444972,\"https:\\u002f\\u002fwww.healthhub.sg\\u002flive-healthy\\u002fhow-can-i-prevent-tooth-decay-in-my-child\"],[1444927,\"https:\\u002f\\u002fwww.healthhub.sg\\u002flive-healthy\\u002fshould-i-put-juice-in-a-sippy-cup\"],[1444996,\"https:\\u002f\\u002fwww.healthhub.sg\\u002flive-healthy\\u002fbaby-third-year-bite-sized-reminders\"],[1443047,\"https:\\u002f\\u002fwww.healthhub.sg\\u002flive-healthy\\u002fwatch-over-your-eyes\"],[1445828,\"https:\\u002f\\u002fwww.healthhub.sg\\u002flive-healthy\\u002ffish-bee-hoon-soup\"],[1444366,\"https:\\u002f\\u002fwww.healthhub.sg\\u002flive-healthy\\u002fwanted-new-non-smoking-friends\"],[1446037,\"https:\\u002f\\u002fwww.healthhub.sg\\u002flive-healthy\\u002fcontact-lenses-the-dos-and-donts-for-your-teenager\"],[1444435,\"https:\\u002f\\u002fwww.healthhub.sg\\u002flive-healthy\\u002fkeep-it-up-staying-smoke-free\"],[1442855,\"https:\\u002f\\u002fwww.healthhub.sg\\u002flive-healthy\\u002fbaby-safe-home-for-your-baby\"],[1445346,\"https:\\u002f\\u002fwww.healthhub.sg\\u002flive-healthy\\u002fmanage_weight_healthy_way\"],[1443300,\"https:\\u002f\\u002fwww.healthhub.sg\\u002flive-healthy\\u002fnurturing-self-esteem\"],[1444292,\"https:\\u002f\\u002fwww.healthhub.sg\\u002flive-healthy\\u002f7-habits-of-highly-resilient-families\"],[1445625,\"https:\\u002f\\u002fwww.healthhub.sg\\u002flive-healthy\\u002fmee-siam\"],[1445651,\"https:\\u002f\\u002fwww.healthhub.sg\\u002flive-healthy\\u002frice-pudding-yogurt-sauce\"],[1443124,\"https:\\u002f\\u002fwww.healthhub.sg\\u002flive-healthy\\u002fdisconnect-to-reconnect-why-a-social-media-detox-might-be-good-for-you\"],[1444368,\"https:\\u002f\\u002fwww.healthhub.sg\\u002flive-healthy\\u002fexercise-its-easier-than-you-think\"],[1445204,\"https:\\u002f\\u002fwww.healthhub.sg\\u002flive-healthy\\u002fnutrition-for-preschoolers-49-60-month\"],[1442769,\"https:\\u002f\\u002fwww.healthhub.sg\\u002flive-healthy\\u002fbaby-has-come-home-dealing-with-changes\"],[1445385,\"https:\\u002f\\u002fwww.healthhub.sg\\u002flive-healthy\\u002f6_ways_to_make_exam_stress_work_for_you\"],[1444472,\"https:\\u002f\\u002fwww.healthhub.sg\\u002flive-healthy\\u002fstubbing-out-myths-about-quitting\"],[1444588,\"https:\\u002f\\u002fwww.healthhub.sg\\u002flive-healthy\\u002fgrandma-grandpa-lets-get-moving\"],[1442875,\"https:\\u002f\\u002fwww.healthhub.sg\\u002flive-healthy\\u002fh-team\"],[1444465,\"https:\\u002f\\u002fwww.healthhub.sg\\u002flive-healthy\\u002fjust-keep-moving-just-keep-moving\"],[1443387,\"https:\\u002f\\u002fwww.healthhub.sg\\u002flive-healthy\\u002fcoping-with-diabetes-and-depression\"],[1445873,\"https:\\u002f\\u002fwww.healthhub.sg\\u002flive-healthy\\u002fcreating-a-loving-relationship-for-your-child-and-your-newborn\"],[1444542,\"https:\\u002f\\u002fwww.healthhub.sg\\u002flive-healthy\\u002fwalk-the-malls-shop-till-you-drop-kilos\"],[1443128,\"https:\\u002f\\u002fwww.healthhub.sg\\u002flive-healthy\\u002fwhen-the-brain-is-ill\"],[1443596,\"https:\\u002f\\u002fwww.healthhub.sg\\u002flive-healthy\\u002fno-time-to-exercise-no-problem\"],[1442770,\"https:\\u002f\\u002fwww.healthhub.sg\\u002flive-healthy\\u002feating-for-healthy-ageing\"],[1442636,\"https:\\u002f\\u002fwww.healthhub.sg\\u002flive-healthy\\u002fpregnancy-when-exposed-to-infections\"],[1444870,\"https:\\u002f\\u002fwww.healthhub.sg\\u002flive-healthy\\u002fhow-can-i-get-my-baby-to-sleep-well-and-safely\"],[1445047,\"https:\\u002f\\u002fwww.healthhub.sg\\u002flive-healthy\\u002fchild-sixth-year-healthy-screen-habits\"],[1445350,\"https:\\u002f\\u002fwww.healthhub.sg\\u002flive-healthy\\u002fthe_science_of_happiness\"],[1444866,\"https:\\u002f\\u002fwww.healthhub.sg\\u002flive-healthy\\u002fhelp-my-baby-wont-stop-crying\"],[1444917,\"https:\\u002f\\u002fwww.healthhub.sg\\u002flive-healthy\\u002fdoes-my-baby-need-to-see-a-dentist\"],[1443534,\"https:\\u002f\\u002fwww.healthhub.sg\\u002flive-healthy\\u002fhealthy-start-for-your-growing-kid\"],[1444928,\"https:\\u002f\\u002fwww.healthhub.sg\\u002flive-healthy\\u002fstress_can_be_good_for_you\"],[1445681,\"https:\\u002f\\u002fwww.healthhub.sg\\u002flive-healthy\\u002fAlcohol--hazards-and-benefits\"],[1443043,\"https:\\u002f\\u002fwww.healthhub.sg\\u002flive-healthy\\u002fwhen-you-have-diabetes-use-this-checklist\"],[1444561,\"https:\\u002f\\u002fwww.healthhub.sg\\u002flive-healthy\\u002ftime-saving-tips-for-healthy-chefs\"],[1445376,\"https:\\u002f\\u002fwww.healthhub.sg\\u002flive-healthy\\u002fget_a_pal_burn_those_cals\"],[1444321,\"https:\\u002f\\u002fwww.healthhub.sg\\u002flive-healthy\\u002fkeep-teeth-in-check\"],[1444652,\"https:\\u002f\\u002fwww.healthhub.sg\\u002flive-healthy\\u002fis-your-child-eating-healthy-meals-at-preschool\"],[1445130,\"https:\\u002f\\u002fwww.healthhub.sg\\u002flive-healthy\\u002fwill-my-child-outgrow-his-baby-fat\"],[1442882,\"https:\\u002f\\u002fwww.healthhub.sg\\u002flive-healthy\\u002fbaby-keeping-your-child-safe\"],[1445206,\"https:\\u002f\\u002fwww.healthhub.sg\\u002flive-healthy\\u002factivity-ideas-to-get-6-year-old-moving\"],[1442974,\"https:\\u002f\\u002fwww.healthhub.sg\\u002flive-healthy\\u002fgrowing-kid-smoke-free-environment-for-a-healthier-family\"],[1443911,\"https:\\u002f\\u002fwww.healthhub.sg\\u002flive-healthy\\u002fnever-too-early-to-keep-dementia-at-bay\"],[1443405,\"https:\\u002f\\u002fwww.healthhub.sg\\u002flive-healthy\\u002fbeing-hospitalised-when-you-have-diabetes\"],[1445759,\"https:\\u002f\\u002fwww.healthhub.sg\\u002flive-healthy\\u002fwho-says-healthy-food-cant-taste-good\"],[1444317,\"https:\\u002f\\u002fwww.healthhub.sg\\u002flive-healthy\\u002feat_to_win_school_canteen\"],[1443436,\"https:\\u002f\\u002fwww.healthhub.sg\\u002flive-healthy\\u002f10000-steps-a-day-go-shopping-or-a-holiday\"],[1445191,\"https:\\u002f\\u002fwww.healthhub.sg\\u002flive-healthy\\u002factivity-ideas-to-get-5-year-old-moving\"],[1445173,\"https:\\u002f\\u002fwww.healthhub.sg\\u002flive-healthy\\u002factivity-ideas-to-get-3-year-old-moving\"],[1444558,\"https:\\u002f\\u002fwww.healthhub.sg\\u002flive-healthy\\u002fhow-to-have-your-kueh-and-eat-it\"],[1443097,\"https:\\u002f\\u002fwww.healthhub.sg\\u002flive-healthy\\u002fquit-smoking-tips-for-people-with-diabetes\"],[1445116,\"https:\\u002f\\u002fwww.healthhub.sg\\u002flive-healthy\\u002fgiving-dessert-as-reward-how-to-undo-it\"],[1445266,\"https:\\u002f\\u002fwww.healthhub.sg\\u002flive-healthy\\u002f12-ways-to-spruce-up-your-health-at-home\"],[1445495,\"https:\\u002f\\u002fwww.healthhub.sg\\u002flive-healthy\\u002fprotect_yourself_others_against_flu\"],[1445717,\"https:\\u002f\\u002fwww.healthhub.sg\\u002flive-healthy\\u002fdifferentspectaclelenses\"],[1442499,\"https:\\u002f\\u002fwww.healthhub.sg\\u002flive-healthy\\u002fshe-hits-the-gym-five-times-a-week-for-a-healthier-body\"],[1445121,\"https:\\u002f\\u002fwww.healthhub.sg\\u002flive-healthy\\u002fchild-always-hungry-never-stops-eating-what-to-do\"],[1446092,\"https:\\u002f\\u002fwww.healthhub.sg\\u002flive-healthy\\u002fhow-to-communicate-with-a-loved-one-with-dementia\"],[1442952,\"https:\\u002f\\u002fwww.healthhub.sg\\u002flive-healthy\\u002freduce-your-risk-of-stroke-and-act-fast-when-stroke-occurs\"],[1442654,\"https:\\u002f\\u002fwww.healthhub.sg\\u002flive-healthy\\u002fhealthy-eating-in-school-and-at-home\"],[1445065,\"https:\\u002f\\u002fwww.healthhub.sg\\u002flive-healthy\\u002fpost-ord-fitness-classes-build-muscle-lose-fat-dad-bod\"],[1445542,\"https:\\u002f\\u002fwww.healthhub.sg\\u002flive-healthy\\u002floving_and_accepting_yourself\"],[1445036,\"https:\\u002f\\u002fwww.healthhub.sg\\u002flive-healthy\\u002fchild-fourth-year-birthday-party-survival-guide\"],[1446048,\"https:\\u002f\\u002fwww.healthhub.sg\\u002flive-healthy\\u002ffind-the-beat-and-move-your-feet\"],[1443250,\"https:\\u002f\\u002fwww.healthhub.sg\\u002flive-healthy\\u002fplay-to-win\"],[1444495,\"https:\\u002f\\u002fwww.healthhub.sg\\u002flive-healthy\\u002fchew-on-mindless-eating\"],[1444394,\"https:\\u002f\\u002fwww.healthhub.sg\\u002flive-healthy\\u002fits-the-little-things\"],[1442561,\"https:\\u002f\\u002fwww.healthhub.sg\\u002flive-healthy\\u002fstepping-up-to-the-challenge\"],[1444527,\"https:\\u002f\\u002fwww.healthhub.sg\\u002flive-healthy\\u002fhealthier-happier-richer-this-is-you-smoke-free\"],[1444391,\"https:\\u002f\\u002fwww.healthhub.sg\\u002flive-healthy\\u002flook-on-the-bright-side-managing-setbacks\"],[1443009,\"https:\\u002f\\u002fwww.healthhub.sg\\u002flive-healthy\\u002f7-outdoor-spots-to-bring-your-family-and-catch-pokemon\"],[1443894,\"https:\\u002f\\u002fwww.healthhub.sg\\u002flive-healthy\\u002fman_enough_healthy_eating\"],[1445017,\"https:\\u002f\\u002fwww.healthhub.sg\\u002flive-healthy\\u002fbaby-first-year-go-steady-with-solids\"],[1445274,\"https:\\u002f\\u002fwww.healthhub.sg\\u002flive-healthy\\u002f10-ways-seniors-stay-healthy-at-home\"],[1445798,\"https:\\u002f\\u002fwww.healthhub.sg\\u002flive-healthy\\u002fmee-goreng\"],[1444409,\"https:\\u002f\\u002fwww.healthhub.sg\\u002flive-healthy\\u002fkacang-puteh-and-other-healthy-snacks-to-pack\"],[1443048,\"https:\\u002f\\u002fwww.healthhub.sg\\u002flive-healthy\\u002fbeat-the-flu-when-you-have-diabetes\"],[1444531,\"https:\\u002f\\u002fwww.healthhub.sg\\u002flive-healthy\\u002fweigh-to-go-quit-smoking-without-weight-gain\"],[1445394,\"https:\\u002f\\u002fwww.healthhub.sg\\u002flive-healthy\\u002fawkward_turtle\"],[1444478,\"https:\\u002f\\u002fwww.healthhub.sg\\u002flive-healthy\\u002fshake-up-old-habits-to-stub-out\"],[1444516,\"https:\\u002f\\u002fwww.healthhub.sg\\u002flive-healthy\\u002fhealthy-on-holiday-tips-to-stay-fit-when-travelling\"],[1444411,\"https:\\u002f\\u002fwww.healthhub.sg\\u002flive-healthy\\u002fcooking-good-healthier-cookware\"],[1444471,\"https:\\u002f\\u002fwww.healthhub.sg\\u002flive-healthy\\u002fknow-your-enemy-identify-and-avoid-triggers\"],[1445105,\"https:\\u002f\\u002fwww.healthhub.sg\\u002flive-healthy\\u002fthe-dinner-table-is-a-battlefield-what-can-i-do\"],[1444658,\"https:\\u002f\\u002fwww.healthhub.sg\\u002flive-healthy\\u002fsurvive-situations-without-drinking\"],[1445049,\"https:\\u002f\\u002fwww.healthhub.sg\\u002flive-healthy\\u002fchild-fifth-year-preparing-for-preschool\"],[1445075,\"https:\\u002f\\u002fwww.healthhub.sg\\u002flive-healthy\\u002fshould-i-let-child-decide-or-build-fixed-routine\"],[1442339,\"https:\\u002f\\u002fwww.healthhub.sg\\u002flive-healthy\\u002f3-trails-to-hit-this-weekend-for-a-dose-of-fitness-and-heritage\"],[1443248,\"https:\\u002f\\u002fwww.healthhub.sg\\u002flive-healthy\\u002fwhy-cant-i-manage-my-weight\"],[1445189,\"https:\\u002f\\u002fwww.healthhub.sg\\u002flive-healthy\\u002factivity-ideas-to-get-pre-schooler-moving\"],[1445566,\"https:\\u002f\\u002fwww.healthhub.sg\\u002flive-healthy\\u002ftoystoryonsafety\"],[1442991,\"https:\\u002f\\u002fwww.healthhub.sg\\u002flive-healthy\\u002fgrowing-kid-growing-up-safe\"],[1445751,\"https:\\u002f\\u002fwww.healthhub.sg\\u002flive-healthy\\u002fchildbmi_healthproblems\"],[1443558,\"https:\\u002f\\u002fwww.healthhub.sg\\u002flive-healthy\\u002fdrowning\"],[1442410,\"https:\\u002f\\u002fwww.healthhub.sg\\u002flive-healthy\\u002fhealthy-eating--by-winner-of-masterchef-asia\"],[1444490,\"https:\\u002f\\u002fwww.healthhub.sg\\u002flive-healthy\\u002fhit-the-trails-for-fitness-and-culture\"],[1445212,\"https:\\u002f\\u002fwww.healthhub.sg\\u002flive-healthy\\u002fbaby-first-year-bite-sized-reminders\"],[1445951,\"https:\\u002f\\u002fwww.healthhub.sg\\u002flive-healthy\\u002fa-healthier-way-to-feast\"],[1445236,\"https:\\u002f\\u002fwww.healthhub.sg\\u002flive-healthy\\u002fGet-your-kids-eating-healthy-this-christmas\"],[1444959,\"https:\\u002f\\u002fwww.healthhub.sg\\u002flive-healthy\\u002ftoast_to_health_christmas_new_year\"],[1445956,\"https:\\u002f\\u002fwww.healthhub.sg\\u002flive-healthy\\u002fsweetening-your-cny-without-the-added-sugar\"],[1445968,\"https:\\u002f\\u002fwww.healthhub.sg\\u002flive-healthy\\u002ftools-for-terrific-teeth\"],[1444350,\"https:\\u002f\\u002fwww.healthhub.sg\\u002flive-healthy\\u002fa-thousand-ways-to-walk-10000-steps\"],[1443142,\"https:\\u002f\\u002fwww.healthhub.sg\\u002flive-healthy\\u002fsurprisingly-healthy-activities-go-solo\"],[1445889,\"https:\\u002f\\u002fwww.healthhub.sg\\u002flive-healthy\\u002fyou-wouldnt-trust-a-stranger\"],[1445634,\"https:\\u002f\\u002fwww.healthhub.sg\\u002flive-healthy\\u002fhoney-ginger-steamed-egg\"],[1445476,\"https:\\u002f\\u002fwww.healthhub.sg\\u002flive-healthy\\u002fschool_is_back_are_you_ready\"],[1445789,\"https:\\u002f\\u002fwww.healthhub.sg\\u002flive-healthy\\u002fTop-10-tips-to-dine-healthily-this-festive-season\"],[1445471,\"https:\\u002f\\u002fwww.healthhub.sg\\u002flive-healthy\\u002fadventuretime\"],[1442474,\"https:\\u002f\\u002fwww.healthhub.sg\\u002flive-healthy\\u002fshe-lost-30-kilos-to-fit-into-her-old-clothes\"],[1445950,\"https:\\u002f\\u002fwww.healthhub.sg\\u002flive-healthy\\u002fstay-fit-tips-for-chinese-new-year\"],[1445273,\"https:\\u002f\\u002fwww.healthhub.sg\\u002flive-healthy\\u002f9-ways-healthy-happy-telecommuter\"],[1444633,\"https:\\u002f\\u002fwww.healthhub.sg\\u002flive-healthy\\u002fget-your-zs-to-ace-your-game\"],[1445294,\"https:\\u002f\\u002fwww.healthhub.sg\\u002flive-healthy\\u002fhabits-to-fight-belly-fat\"],[1445869,\"https:\\u002f\\u002fwww.healthhub.sg\\u002flive-healthy\\u002fpint-of-no-return\"],[1445970,\"https:\\u002f\\u002fwww.healthhub.sg\\u002flive-healthy\\u002fhow-to-survive-the-festive-period-of-overindulgence\"],[1445379,\"https:\\u002f\\u002fwww.healthhub.sg\\u002flive-healthy\\u002fone_week_make_it_count\"],[1444879,\"https:\\u002f\\u002fwww.healthhub.sg\\u002flive-healthy\\u002fspring_to_health_CNY\"],[1444987,\"https:\\u002f\\u002fwww.healthhub.sg\\u002flive-healthy\\u002fEating-healthy-during-deepavali\"],[1445429,\"https:\\u002f\\u002fwww.healthhub.sg\\u002flive-healthy\\u002fdont_be_a_party_pooper\"],[1445712,\"https:\\u002f\\u002fwww.healthhub.sg\\u002flive-healthy\\u002fsingaporecombatsinfectiousdiseaseswithlegislation\"],[1445428,\"https:\\u002f\\u002fwww.healthhub.sg\\u002flive-healthy\\u002fwhy-cant_i_stop_drinking\"],[1445958,\"https:\\u002f\\u002fwww.healthhub.sg\\u002flive-healthy\\u002fauspiciously-delicious-dishes\"],[1444997,\"https:\\u002f\\u002fwww.healthhub.sg\\u002flive-healthy\\u002fchild-fifth-year-bite-sized-reminders\"],[1445027,\"https:\\u002f\\u002fwww.healthhub.sg\\u002flive-healthy\\u002fbaby-second-year-eat-play-love\"],[1445024,\"https:\\u002f\\u002fwww.healthhub.sg\\u002flive-healthy\\u002fbaby-second-year-protect-smile\"],[1445543,\"https:\\u002f\\u002fwww.healthhub.sg\\u002flive-healthy\\u002fchild-obesity-causes\"],[1444337,\"https:\\u002f\\u002fwww.healthhub.sg\\u002flive-healthy\\u002fmozzie-woes-dengue\"],[1445002,\"https:\\u002f\\u002fwww.healthhub.sg\\u002flive-healthy\\u002fchild-sixth-year-bite-sized-reminders\"],[1444872,\"https:\\u002f\\u002fwww.healthhub.sg\\u002flive-healthy\\u002fis-my-baby's-spit-up-normal\"],[1444991,\"https:\\u002f\\u002fwww.healthhub.sg\\u002flive-healthy\\u002fbaby-second-year-bite-sized-reminders\"],[1443375,\"https:\\u002f\\u002fwww.healthhub.sg\\u002flive-healthy\\u002fstay-active-as-you-travel\"],[1445000,\"https:\\u002f\\u002fwww.healthhub.sg\\u002flive-healthy\\u002fchild-fourth-year-bite-sized-reminders\"],[1442351,\"https:\\u002f\\u002fwww.healthhub.sg\\u002flive-healthy\\u002f4-ways-to-motivate-your-loved-ones-to-exercise\"],[1444492,\"https:\\u002f\\u002fwww.healthhub.sg\\u002flive-healthy\\u002fVaping-is-not-smoking-and-Other-Tobacco-Myths\"],[1443220,\"https:\\u002f\\u002fwww.healthhub.sg\\u002flive-healthy\\u002fhow-to-get-your-parents-to-get-moving\"],[1445513,\"https:\\u002f\\u002fwww.healthhub.sg\\u002flive-healthy\\u002fPhysical-Activity-Benefits\"],[1445475,\"https:\\u002f\\u002fwww.healthhub.sg\\u002flive-healthy\\u002fbeing_a_helping_hand\"],[1445725,\"https:\\u002f\\u002fwww.healthhub.sg\\u002flive-healthy\\u002fChild-fractures\"],[1445750,\"https:\\u002f\\u002fwww.healthhub.sg\\u002flive-healthy\\u002fHealthy-eating-and-fitness\"],[1445247,\"https:\\u002f\\u002fwww.healthhub.sg\\u002flive-healthy\\u002fmens-health-uncle-to-hunkle-bro-bonding\"],[1444381,\"https:\\u002f\\u002fwww.healthhub.sg\\u002flive-healthy\\u002f9-reasons-smokers-are-grateful-theyve-quit\"],[1445260,\"https:\\u002f\\u002fwww.healthhub.sg\\u002flive-healthy\\u002fmove-it-feel-young\"],[1442640,\"https:\\u002f\\u002fwww.healthhub.sg\\u002flive-healthy\\u002fpregnancy-someone-call-the-doc\"],[1445286,\"https:\\u002f\\u002fwww.healthhub.sg\\u002flive-healthy\\u002fhealthy-balanced-diet-plan\"],[1444526,\"https:\\u002f\\u002fwww.healthhub.sg\\u002flive-healthy\\u002fwhats-your-reason-to-stub-out\"],[1444610,\"https:\\u002f\\u002fwww.healthhub.sg\\u002flive-healthy\\u002fslip-ups-dos-and-donts\"],[1445521,\"https:\\u002f\\u002fwww.healthhub.sg\\u002flive-healthy\\u002fWeight-Matters---Staying-Positive\"],[1445707,\"https:\\u002f\\u002fwww.healthhub.sg\\u002flive-healthy\\u002fwholegrain-for-children\"],[1442384,\"https:\\u002f\\u002fwww.healthhub.sg\\u002flive-healthy\\u002fblogger-kenneth-lees-amazing-weight-loss-journey\"],[1444611,\"https:\\u002f\\u002fwww.healthhub.sg\\u002flive-healthy\\u002fuse-this-coupon-get-support-from-your-loved-ones\"],[1444922,\"https:\\u002f\\u002fwww.healthhub.sg\\u002flive-healthy\\u002fhowdoibrushmychildsteeth\"],[1445291,\"https:\\u002f\\u002fwww.healthhub.sg\\u002flive-healthy\\u002fbalanced-diet-qqh-concept\"],[1444440,\"https:\\u002f\\u002fwww.healthhub.sg\\u002flive-healthy\\u002fdiabetes-whats-the-big-deal\"],[1445659,\"https:\\u002f\\u002fwww.healthhub.sg\\u002flive-healthy\\u002fbeehoon-chicken-bolognaise\"],[1444614,\"https:\\u002f\\u002fwww.healthhub.sg\\u002flive-healthy\\u002f10-ways-to-stay-smoke-free\"],[1444518,\"https:\\u002f\\u002fwww.healthhub.sg\\u002flive-healthy\\u002f6_tips_to_manage_weight\"],[1445235,\"https:\\u002f\\u002fwww.healthhub.sg\\u002flive-healthy\\u002flunchtime-office-workouts-15-minute-hiit\"],[1445352,\"https:\\u002f\\u002fwww.healthhub.sg\\u002flive-healthy\\u002fhow_to_study_smart\"],[1444619,\"https:\\u002f\\u002fwww.healthhub.sg\\u002flive-healthy\\u002fall-i-want-for-christmas-7-exercise-gadgets\"],[1445746,\"https:\\u002f\\u002fwww.healthhub.sg\\u002flive-healthy\\u002fHow-to-ask-for-a-medical-report\"],[1444343,\"https:\\u002f\\u002fwww.healthhub.sg\\u002flive-healthy\\u002fcorporate-challenge-steps-and-initiatives\"],[1445269,\"https:\\u002f\\u002fwww.healthhub.sg\\u002flive-healthy\\u002f7-great-ways-bond-with-kids-home\"],[1445307,\"https:\\u002f\\u002fwww.healthhub.sg\\u002flive-healthy\\u002fcooking-healthy-for-deepavali\"],[1445880,\"https:\\u002f\\u002fwww.healthhub.sg\\u002flive-healthy\\u002fnot-a-perfect-world\"],[1445642,\"https:\\u002f\\u002fwww.healthhub.sg\\u002flive-healthy\\u002fwarm-tofu-salad\"],[1445306,\"https:\\u002f\\u002fwww.healthhub.sg\\u002flive-healthy\\u002ftips-healthy-deepavali-eating-host-or-guest\"],[1445527,\"https:\\u002f\\u002fwww.healthhub.sg\\u002flive-healthy\\u002fWeight-Loss-Myths\"],[1442468,\"https:\\u002f\\u002fwww.healthhub.sg\\u002flive-healthy\\u002flosing-weight-by-eating-well\"],[1445733,\"https:\\u002f\\u002fwww.healthhub.sg\\u002flive-healthy\\u002fbarberstattooistshairdressersbeauticians_pdf\"],[1443540,\"https:\\u002f\\u002fwww.healthhub.sg\\u002flive-healthy\\u002fquitting-after-seventeen-years-can-it-be-done\"],[1442503,\"https:\\u002f\\u002fwww.healthhub.sg\\u002flive-healthy\\u002fchoosing-what-he-eats-is-helping-him-lose-the-kilos\"],[1445665,\"https:\\u002f\\u002fwww.healthhub.sg\\u002flive-healthy\\u002fpan-fried-potato-patties\"],[1445646,\"https:\\u002f\\u002fwww.healthhub.sg\\u002flive-healthy\\u002fapple-seafood-brown-rice\"],[1445630,\"https:\\u002f\\u002fwww.healthhub.sg\\u002flive-healthy\\u002fgrilled-teriyaki-chicken\"],[1445655,\"https:\\u002f\\u002fwww.healthhub.sg\\u002flive-healthy\\u002fmulti-grain-chicken-sandwich\"],[1445638,\"https:\\u002f\\u002fwww.healthhub.sg\\u002flive-healthy\\u002fawinnerneverquits\"],[1445657,\"https:\\u002f\\u002fwww.healthhub.sg\\u002flive-healthy\\u002fnasi-liwet-brown-rice\"],[1445653,\"https:\\u002f\\u002fwww.healthhub.sg\\u002flive-healthy\\u002fmixed-rice-cabbage-roll\"],[1445677,\"https:\\u002f\\u002fwww.healthhub.sg\\u002flive-healthy\\u002fWhat-to-Eat-to-Lower-Blood-Pressure\"],[1445556,\"https:\\u002f\\u002fwww.healthhub.sg\\u002flive-healthy\\u002fgetting-the-fats-right\"],[1445661,\"https:\\u002f\\u002fwww.healthhub.sg\\u002flive-healthy\\u002fkashmiri-pulao\"],[1445673,\"https:\\u002f\\u002fwww.healthhub.sg\\u002flive-healthy\\u002fa-healthy-food-foundation-for-kids-and-teens\"],[1445358,\"https:\\u002f\\u002fwww.healthhub.sg\\u002flive-healthy\\u002fhow_to_study_difficult_subjects\"],[1445601,\"https:\\u002f\\u002fwww.healthhub.sg\\u002flive-healthy\\u002fcalcium-for-greater-bone-strength\"]],\"hovertemplate\":\"content_category=live-healthy-articles\\u003cbr\\u003eword_count=%{x}\\u003cbr\\u003ereadability_score=%{y}\\u003cbr\\u003eid=%{customdata[0]}\\u003cbr\\u003efull_url=%{customdata[1]}\\u003cextra\\u003e\\u003c\\u002fextra\\u003e\",\"legendgroup\":\"live-healthy-articles\",\"marker\":{\"color\":\"#00cc96\",\"symbol\":\"circle\"},\"mode\":\"markers\",\"name\":\"live-healthy-articles\",\"orientation\":\"v\",\"showlegend\":true,\"x\":[714,944,1258,1074,542,798,1009,138,2067,474,483,1191,1979,425,2817,1151,450,1151,713,466,1464,965,1569,1599,1286,2163,1173,363,1563,1028,726,1805,1039,636,636,1805,1327,661,1010,450,1051,525,656,1255,603,469,694,1413,1258,197,616,1216,667,463,1425,840,1107,874,612,815,694,619,639,1221,728,1019,471,1055,1599,225,1242,735,1125,1250,1305,613,725,716,466,940,286,1092,113,633,1167,542,1281,1051,750,671,404,529,444,1247,1126,911,933,826,1247,1465,517,1094,413,471,248,1059,845,1142,2226,678,776,850,934,631,290,886,815,721,1331,916,814,293,735,953,1721,1018,1309,730,748,556,341,757,566,334,1097,1472,278,1057,1486,941,777,1547,353,73,894,1248,628,848,435,876,1285,419,839,572,488,791,656,691,238,954,816,563,726,873,788,868,603,970,1956,688,1743,612,445,523,372,885,769,831,750,721,1373,379,652,725,1640,639,557,1008,1460,973,680,917,1563,1693,495,1249,207,1942,998,549,1090,546,1181,1176,731,1063,722,278,925,247,679,538,1057,910,934,421,583,631,695,1002,745,220,949,1136,218,826,331,520,991,1801,442,835,1156,244,748,651,980,970,267,636,1818,722,1011,449,1140,1242,742,1328,345,590,509,846,823,703,733,623,669,909,1281,674,560,802,1200,349,1845,1598,857,2133,1055,1559,374,540,467,791,942,717,809,618,679,1483,470,692,801,828,1068,441,746,772,2289,649,1033,1421,769,473,431,325,355,972,642,439,57,1181,1336,572,898,665,681,436,710,700,642,169,339,700,910,835,727,327,673,632,635,1360,541,1273,588,620,1259,1093,1667,946,677,577,744,778,869,1109,293,1026,1029,1874,1114,795,595,603,802,456,1114,641,1650,1117,704,1241,1586,727,1130,1268,874,557,705,528,612,607,654,978,368,706,497,54,1254,854,1266,923,304,1170,767,889,1163,15,1254,1078,584,327,562,26,907,907,1029,417,594,16,936,672,803,544,906,472,523,391,1446,1013,835,238,351,550,700,983,341,514,648,1062,785,1436,160,1394,670,830,807,882,375,488,777,393,591,571,481,406,721,380,231,635,537,679,510,851,753,627,535,444,23,385,86,851,462,725,526,1482,630,882,404,149,1087,566,1116,1424,1068,766,881,420,628,644,744,122,795,417,1044,578,498,164,1110,500,188,266,1037,1488,223,845,880,284,757,527,1125,749,806,937,690,1341,701,574,784,901,502,657,528,1832,393,398,863,543,703,77,98,926,544,494,476,833,608,770,383,727,587,878,1206,23,1483,84,509,432,573,401,596,667,603,530,623,683,428,397,989,923,891,421,781,118,589,502,480,26,1200,471,1766,908,438,1244,641,408,172,432,442,704,640,1037,2546,836,953,578,1173,685,939,510,366,670,611,89,12,26,86,1044,245,15,395,15,443,18,592,752,965,691,465,547,1428,2539,737,528,406,1295,648,101,626,882,404,92,435,1351,589,125,169,768,608,609,789,385,775,944,816,608,260,634,458,530,43,1026,520,231,206,250,150,413,135,177,989,995,226,867,886,742],\"xaxis\":\"x\",\"y\":[6,6,9,8,9,8,8,11,8,4,6,5,5,5,7,6,6,6,4,8,5,10,6,9,9,6,8,8,10,6,6,9,8,6,6,6,9,6,8,6,6,8,8,3,7,8,7,8,6,8,9,6,11,7,7,6,7,7,6,8,6,4,8,5,5,7,6,6,7,6,8,6,7,4,5,6,8,10,7,6,8,8,3,9,7,8,9,7,5,7,9,6,9,6,6,6,6,8,7,8,9,8,7,6,5,7,8,7,10,9,10,10,6,8,7,13,10,5,7,9,8,7,7,7,9,8,9,6,8,4,10,7,8,9,10,7,6,5,6,8,7,5,7,5,9,5,8,7,7,10,5,11,7,7,9,7,8,7,7,8,10,9,11,7,5,9,8,7,8,6,8,7,7,8,9,7,6,7,7,7,7,8,8,8,7,9,6,9,8,6,7,7,6,7,9,8,6,7,8,10,7,6,5,14,8,7,8,9,6,7,7,10,11,5,8,6,7,7,9,6,8,5,5,8,5,7,8,6,3,6,5,6,8,9,7,7,7,4,9,13,7,9,7,8,9,5,9,6,6,10,7,5,7,6,8,7,6,7,7,5,8,9,8,7,6,8,8,6,6,7,6,6,9,8,8,8,6,7,10,7,6,7,9,9,7,9,4,6,9,7,7,8,10,8,6,5,8,8,9,10,6,7,7,5,7,7,9,6,6,7,10,8,6,7,8,9,8,6,8,8,6,9,7,12,6,9,7,10,8,8,5,6,6,9,5,7,10,8,7,5,6,9,7,8,7,7,6,5,8,6,6,9,11,8,8,6,7,7,7,7,4,9,5,7,5,6,8,4,7,8,7,8,17,6,6,7,7,4,8,7,7,8,8,5,9,5,7,8,9,5,10,8,8,4,7,2,7,9,9,7,8,8,7,6,10,6,6,7,10,7,8,9,7,7,5,6,8,6,11,7,8,7,8,7,6,6,8,7,2,4,7,6,11,6,6,7,8,6,5,7,4,7,10,7,6,7,7,7,2,2,6,5,7,7,8,6,7,6,7,6,5,6,9,9,9,8,4,6,9,5,7,7,5,8,5,6,7,7,8,8,7,6,8,6,10,6,7,8,5,5,8,5,7,6,5,7,9,7,7,10,8,8,6,7,8,4,6,6,8,9,6,7,7,4,6,5,6,5,7,6,6,8,5,5,7,8,7,6,9,6,6,7,6,11,7,8,7,6,8,9,6,7,7,3,4,7,2,7,6,8,8,7,7,5,8,7,7,9,7,10,8,15,5,12,0,2,7,9,8,10,4,3,9,7,8,10,7,7,10,5,8,7,6,7,8,11,6,4,6,5,8,5,7,10,7,2,3,9,7,7,10,6,13,7,10,8,4,8,9,8,14,8,9,3,2,3,4,9,0,2,8,6,3,7,11,9],\"yaxis\":\"y\",\"type\":\"scatter\"},{\"customdata\":[[1439100,\"https:\\u002f\\u002fwww.healthhub.sg\\u002fa-z\\u002fmedical-and-care-facilities\\u002fPaediatric-dentistry-child-first-visit-dentist\"],[1439066,\"https:\\u002f\\u002fwww.healthhub.sg\\u002fa-z\\u002fmedical-and-care-facilities\\u002fbaby-friendly-hospital-initiative\"]],\"hovertemplate\":\"content_category=medical-care-and-facilities\\u003cbr\\u003eword_count=%{x}\\u003cbr\\u003ereadability_score=%{y}\\u003cbr\\u003eid=%{customdata[0]}\\u003cbr\\u003efull_url=%{customdata[1]}\\u003cextra\\u003e\\u003c\\u002fextra\\u003e\",\"legendgroup\":\"medical-care-and-facilities\",\"marker\":{\"color\":\"#ab63fa\",\"symbol\":\"circle\"},\"mode\":\"markers\",\"name\":\"medical-care-and-facilities\",\"orientation\":\"v\",\"showlegend\":true,\"x\":[440,1272],\"xaxis\":\"x\",\"y\":[8,11],\"yaxis\":\"y\",\"type\":\"scatter\"}],                        {\"template\":{\"data\":{\"histogram2dcontour\":[{\"type\":\"histogram2dcontour\",\"colorbar\":{\"outlinewidth\":0,\"ticks\":\"\"},\"colorscale\":[[0.0,\"#0d0887\"],[0.1111111111111111,\"#46039f\"],[0.2222222222222222,\"#7201a8\"],[0.3333333333333333,\"#9c179e\"],[0.4444444444444444,\"#bd3786\"],[0.5555555555555556,\"#d8576b\"],[0.6666666666666666,\"#ed7953\"],[0.7777777777777778,\"#fb9f3a\"],[0.8888888888888888,\"#fdca26\"],[1.0,\"#f0f921\"]]}],\"choropleth\":[{\"type\":\"choropleth\",\"colorbar\":{\"outlinewidth\":0,\"ticks\":\"\"}}],\"histogram2d\":[{\"type\":\"histogram2d\",\"colorbar\":{\"outlinewidth\":0,\"ticks\":\"\"},\"colorscale\":[[0.0,\"#0d0887\"],[0.1111111111111111,\"#46039f\"],[0.2222222222222222,\"#7201a8\"],[0.3333333333333333,\"#9c179e\"],[0.4444444444444444,\"#bd3786\"],[0.5555555555555556,\"#d8576b\"],[0.6666666666666666,\"#ed7953\"],[0.7777777777777778,\"#fb9f3a\"],[0.8888888888888888,\"#fdca26\"],[1.0,\"#f0f921\"]]}],\"heatmap\":[{\"type\":\"heatmap\",\"colorbar\":{\"outlinewidth\":0,\"ticks\":\"\"},\"colorscale\":[[0.0,\"#0d0887\"],[0.1111111111111111,\"#46039f\"],[0.2222222222222222,\"#7201a8\"],[0.3333333333333333,\"#9c179e\"],[0.4444444444444444,\"#bd3786\"],[0.5555555555555556,\"#d8576b\"],[0.6666666666666666,\"#ed7953\"],[0.7777777777777778,\"#fb9f3a\"],[0.8888888888888888,\"#fdca26\"],[1.0,\"#f0f921\"]]}],\"heatmapgl\":[{\"type\":\"heatmapgl\",\"colorbar\":{\"outlinewidth\":0,\"ticks\":\"\"},\"colorscale\":[[0.0,\"#0d0887\"],[0.1111111111111111,\"#46039f\"],[0.2222222222222222,\"#7201a8\"],[0.3333333333333333,\"#9c179e\"],[0.4444444444444444,\"#bd3786\"],[0.5555555555555556,\"#d8576b\"],[0.6666666666666666,\"#ed7953\"],[0.7777777777777778,\"#fb9f3a\"],[0.8888888888888888,\"#fdca26\"],[1.0,\"#f0f921\"]]}],\"contourcarpet\":[{\"type\":\"contourcarpet\",\"colorbar\":{\"outlinewidth\":0,\"ticks\":\"\"}}],\"contour\":[{\"type\":\"contour\",\"colorbar\":{\"outlinewidth\":0,\"ticks\":\"\"},\"colorscale\":[[0.0,\"#0d0887\"],[0.1111111111111111,\"#46039f\"],[0.2222222222222222,\"#7201a8\"],[0.3333333333333333,\"#9c179e\"],[0.4444444444444444,\"#bd3786\"],[0.5555555555555556,\"#d8576b\"],[0.6666666666666666,\"#ed7953\"],[0.7777777777777778,\"#fb9f3a\"],[0.8888888888888888,\"#fdca26\"],[1.0,\"#f0f921\"]]}],\"surface\":[{\"type\":\"surface\",\"colorbar\":{\"outlinewidth\":0,\"ticks\":\"\"},\"colorscale\":[[0.0,\"#0d0887\"],[0.1111111111111111,\"#46039f\"],[0.2222222222222222,\"#7201a8\"],[0.3333333333333333,\"#9c179e\"],[0.4444444444444444,\"#bd3786\"],[0.5555555555555556,\"#d8576b\"],[0.6666666666666666,\"#ed7953\"],[0.7777777777777778,\"#fb9f3a\"],[0.8888888888888888,\"#fdca26\"],[1.0,\"#f0f921\"]]}],\"mesh3d\":[{\"type\":\"mesh3d\",\"colorbar\":{\"outlinewidth\":0,\"ticks\":\"\"}}],\"scatter\":[{\"marker\":{\"line\":{\"color\":\"#283442\"}},\"type\":\"scatter\"}],\"parcoords\":[{\"type\":\"parcoords\",\"line\":{\"colorbar\":{\"outlinewidth\":0,\"ticks\":\"\"}}}],\"scatterpolargl\":[{\"type\":\"scatterpolargl\",\"marker\":{\"colorbar\":{\"outlinewidth\":0,\"ticks\":\"\"}}}],\"bar\":[{\"error_x\":{\"color\":\"#f2f5fa\"},\"error_y\":{\"color\":\"#f2f5fa\"},\"marker\":{\"line\":{\"color\":\"rgb(17,17,17)\",\"width\":0.5},\"pattern\":{\"fillmode\":\"overlay\",\"size\":10,\"solidity\":0.2}},\"type\":\"bar\"}],\"scattergeo\":[{\"type\":\"scattergeo\",\"marker\":{\"colorbar\":{\"outlinewidth\":0,\"ticks\":\"\"}}}],\"scatterpolar\":[{\"type\":\"scatterpolar\",\"marker\":{\"colorbar\":{\"outlinewidth\":0,\"ticks\":\"\"}}}],\"histogram\":[{\"marker\":{\"pattern\":{\"fillmode\":\"overlay\",\"size\":10,\"solidity\":0.2}},\"type\":\"histogram\"}],\"scattergl\":[{\"marker\":{\"line\":{\"color\":\"#283442\"}},\"type\":\"scattergl\"}],\"scatter3d\":[{\"type\":\"scatter3d\",\"line\":{\"colorbar\":{\"outlinewidth\":0,\"ticks\":\"\"}},\"marker\":{\"colorbar\":{\"outlinewidth\":0,\"ticks\":\"\"}}}],\"scattermapbox\":[{\"type\":\"scattermapbox\",\"marker\":{\"colorbar\":{\"outlinewidth\":0,\"ticks\":\"\"}}}],\"scatterternary\":[{\"type\":\"scatterternary\",\"marker\":{\"colorbar\":{\"outlinewidth\":0,\"ticks\":\"\"}}}],\"scattercarpet\":[{\"type\":\"scattercarpet\",\"marker\":{\"colorbar\":{\"outlinewidth\":0,\"ticks\":\"\"}}}],\"carpet\":[{\"aaxis\":{\"endlinecolor\":\"#A2B1C6\",\"gridcolor\":\"#506784\",\"linecolor\":\"#506784\",\"minorgridcolor\":\"#506784\",\"startlinecolor\":\"#A2B1C6\"},\"baxis\":{\"endlinecolor\":\"#A2B1C6\",\"gridcolor\":\"#506784\",\"linecolor\":\"#506784\",\"minorgridcolor\":\"#506784\",\"startlinecolor\":\"#A2B1C6\"},\"type\":\"carpet\"}],\"table\":[{\"cells\":{\"fill\":{\"color\":\"#506784\"},\"line\":{\"color\":\"rgb(17,17,17)\"}},\"header\":{\"fill\":{\"color\":\"#2a3f5f\"},\"line\":{\"color\":\"rgb(17,17,17)\"}},\"type\":\"table\"}],\"barpolar\":[{\"marker\":{\"line\":{\"color\":\"rgb(17,17,17)\",\"width\":0.5},\"pattern\":{\"fillmode\":\"overlay\",\"size\":10,\"solidity\":0.2}},\"type\":\"barpolar\"}],\"pie\":[{\"automargin\":true,\"type\":\"pie\"}]},\"layout\":{\"autotypenumbers\":\"strict\",\"colorway\":[\"#636efa\",\"#EF553B\",\"#00cc96\",\"#ab63fa\",\"#FFA15A\",\"#19d3f3\",\"#FF6692\",\"#B6E880\",\"#FF97FF\",\"#FECB52\"],\"font\":{\"color\":\"#f2f5fa\"},\"hovermode\":\"closest\",\"hoverlabel\":{\"align\":\"left\"},\"paper_bgcolor\":\"rgb(17,17,17)\",\"plot_bgcolor\":\"rgb(17,17,17)\",\"polar\":{\"bgcolor\":\"rgb(17,17,17)\",\"angularaxis\":{\"gridcolor\":\"#506784\",\"linecolor\":\"#506784\",\"ticks\":\"\"},\"radialaxis\":{\"gridcolor\":\"#506784\",\"linecolor\":\"#506784\",\"ticks\":\"\"}},\"ternary\":{\"bgcolor\":\"rgb(17,17,17)\",\"aaxis\":{\"gridcolor\":\"#506784\",\"linecolor\":\"#506784\",\"ticks\":\"\"},\"baxis\":{\"gridcolor\":\"#506784\",\"linecolor\":\"#506784\",\"ticks\":\"\"},\"caxis\":{\"gridcolor\":\"#506784\",\"linecolor\":\"#506784\",\"ticks\":\"\"}},\"coloraxis\":{\"colorbar\":{\"outlinewidth\":0,\"ticks\":\"\"}},\"colorscale\":{\"sequential\":[[0.0,\"#0d0887\"],[0.1111111111111111,\"#46039f\"],[0.2222222222222222,\"#7201a8\"],[0.3333333333333333,\"#9c179e\"],[0.4444444444444444,\"#bd3786\"],[0.5555555555555556,\"#d8576b\"],[0.6666666666666666,\"#ed7953\"],[0.7777777777777778,\"#fb9f3a\"],[0.8888888888888888,\"#fdca26\"],[1.0,\"#f0f921\"]],\"sequentialminus\":[[0.0,\"#0d0887\"],[0.1111111111111111,\"#46039f\"],[0.2222222222222222,\"#7201a8\"],[0.3333333333333333,\"#9c179e\"],[0.4444444444444444,\"#bd3786\"],[0.5555555555555556,\"#d8576b\"],[0.6666666666666666,\"#ed7953\"],[0.7777777777777778,\"#fb9f3a\"],[0.8888888888888888,\"#fdca26\"],[1.0,\"#f0f921\"]],\"diverging\":[[0,\"#8e0152\"],[0.1,\"#c51b7d\"],[0.2,\"#de77ae\"],[0.3,\"#f1b6da\"],[0.4,\"#fde0ef\"],[0.5,\"#f7f7f7\"],[0.6,\"#e6f5d0\"],[0.7,\"#b8e186\"],[0.8,\"#7fbc41\"],[0.9,\"#4d9221\"],[1,\"#276419\"]]},\"xaxis\":{\"gridcolor\":\"#283442\",\"linecolor\":\"#506784\",\"ticks\":\"\",\"title\":{\"standoff\":15},\"zerolinecolor\":\"#283442\",\"automargin\":true,\"zerolinewidth\":2},\"yaxis\":{\"gridcolor\":\"#283442\",\"linecolor\":\"#506784\",\"ticks\":\"\",\"title\":{\"standoff\":15},\"zerolinecolor\":\"#283442\",\"automargin\":true,\"zerolinewidth\":2},\"scene\":{\"xaxis\":{\"backgroundcolor\":\"rgb(17,17,17)\",\"gridcolor\":\"#506784\",\"linecolor\":\"#506784\",\"showbackground\":true,\"ticks\":\"\",\"zerolinecolor\":\"#C8D4E3\",\"gridwidth\":2},\"yaxis\":{\"backgroundcolor\":\"rgb(17,17,17)\",\"gridcolor\":\"#506784\",\"linecolor\":\"#506784\",\"showbackground\":true,\"ticks\":\"\",\"zerolinecolor\":\"#C8D4E3\",\"gridwidth\":2},\"zaxis\":{\"backgroundcolor\":\"rgb(17,17,17)\",\"gridcolor\":\"#506784\",\"linecolor\":\"#506784\",\"showbackground\":true,\"ticks\":\"\",\"zerolinecolor\":\"#C8D4E3\",\"gridwidth\":2}},\"shapedefaults\":{\"line\":{\"color\":\"#f2f5fa\"}},\"annotationdefaults\":{\"arrowcolor\":\"#f2f5fa\",\"arrowhead\":0,\"arrowwidth\":1},\"geo\":{\"bgcolor\":\"rgb(17,17,17)\",\"landcolor\":\"rgb(17,17,17)\",\"subunitcolor\":\"#506784\",\"showland\":true,\"showlakes\":true,\"lakecolor\":\"rgb(17,17,17)\"},\"title\":{\"x\":0.05},\"updatemenudefaults\":{\"bgcolor\":\"#506784\",\"borderwidth\":0},\"sliderdefaults\":{\"bgcolor\":\"#C8D4E3\",\"borderwidth\":1,\"bordercolor\":\"rgb(17,17,17)\",\"tickwidth\":0},\"mapbox\":{\"style\":\"dark\"}}},\"xaxis\":{\"anchor\":\"y\",\"domain\":[0.0,1.0],\"title\":{\"text\":\"Word Count\"}},\"yaxis\":{\"anchor\":\"x\",\"domain\":[0.0,1.0],\"title\":{\"text\":\"Hemmingway score\"}},\"legend\":{\"title\":{\"text\":\"content_category\"},\"tracegroupgap\":0},\"margin\":{\"t\":60},\"title\":{\"text\":\"Scatter Plot of Word Count and Readability Score\"},\"shapes\":[{\"line\":{\"color\":\"firebrick\",\"dash\":\"dash\"},\"type\":\"line\",\"x0\":0,\"x1\":1,\"xref\":\"x domain\",\"y0\":10,\"y1\":10,\"yref\":\"y\"},{\"line\":{\"color\":\"red\",\"dash\":\"dash\"},\"type\":\"line\",\"x0\":0,\"x1\":1,\"xref\":\"x domain\",\"y0\":14,\"y1\":14,\"yref\":\"y\"}]},                        {\"responsive\": true}                    ).then(function(){\n",
       "                            \n",
       "var gd = document.getElementById('f3172971-7c27-451d-ac5d-c22db01f63a4');\n",
       "var x = new MutationObserver(function (mutations, observer) {{\n",
       "        var display = window.getComputedStyle(gd).display;\n",
       "        if (!display || display === 'none') {{\n",
       "            console.log([gd, 'removed!']);\n",
       "            Plotly.purge(gd);\n",
       "            observer.disconnect();\n",
       "        }}\n",
       "}});\n",
       "\n",
       "// Listen for the removal of the full notebook cells\n",
       "var notebookContainer = gd.closest('#notebook-container');\n",
       "if (notebookContainer) {{\n",
       "    x.observe(notebookContainer, {childList: true});\n",
       "}}\n",
       "\n",
       "// Listen for the clearing of the current output cell\n",
       "var outputEl = gd.closest('.output');\n",
       "if (outputEl) {{\n",
       "    x.observe(outputEl, {childList: true});\n",
       "}}\n",
       "\n",
       "                        })                };                });            </script>        </div>"
      ]
     },
     "metadata": {},
     "output_type": "display_data"
    }
   ],
   "source": [
    "fig = px.scatter(\n",
    "    df_hpb,\n",
    "    x=\"word_count\",\n",
    "    y=\"readability_score\",\n",
    "    color=\"content_category\",\n",
    "    hover_data=[\"id\", \"full_url\"],\n",
    ")\n",
    "fig.update_layout(\n",
    "    title_text=\"Scatter Plot of Word Count and Readability Score\",\n",
    "    xaxis_title_text=\"Word Count\",\n",
    "    yaxis_title_text=\"Hemmingway score\",\n",
    ")\n",
    "lower_threshold = 10\n",
    "upper_threshold = 14\n",
    "fig.add_hline(y=lower_threshold, line_dash=\"dash\", line_color=\"firebrick\")\n",
    "fig.add_hline(y=upper_threshold, line_dash=\"dash\", line_color=\"red\")\n",
    "fig.show()"
   ]
  },
  {
   "cell_type": "code",
   "execution_count": 37,
   "id": "a8a4503b",
   "metadata": {
    "ExecuteTime": {
     "end_time": "2024-08-14T22:03:05.090571Z",
     "start_time": "2024-08-14T22:03:05.088526Z"
    }
   },
   "outputs": [],
   "source": [
    "# df_hpb.to_excel(\"../data/hard_articles_hpb.xlsx\", index=False)"
   ]
  },
  {
   "cell_type": "markdown",
   "id": "116e25bf5eb3717a",
   "metadata": {},
   "source": [
    "## Evaluating Articles with 0 Readability"
   ]
  },
  {
   "cell_type": "code",
   "execution_count": 38,
   "id": "1b26ee23a2c32927",
   "metadata": {
    "ExecuteTime": {
     "end_time": "2024-08-14T22:03:06.159368Z",
     "start_time": "2024-08-14T22:03:06.149339Z"
    }
   },
   "outputs": [
    {
     "data": {
      "text/html": [
       "<pre style=\"white-space:pre;overflow-x:auto;line-height:normal;font-family:Menlo,'DejaVu Sans Mono',consolas,'Courier New',monospace\"></pre>\n"
      ],
      "text/plain": []
     },
     "metadata": {},
     "output_type": "display_data"
    },
    {
     "data": {
      "text/html": [
       "<div>\n",
       "<style scoped>\n",
       "    .dataframe tbody tr th:only-of-type {\n",
       "        vertical-align: middle;\n",
       "    }\n",
       "\n",
       "    .dataframe tbody tr th {\n",
       "        vertical-align: top;\n",
       "    }\n",
       "\n",
       "    .dataframe thead th {\n",
       "        text-align: right;\n",
       "    }\n",
       "</style>\n",
       "<table border=\"1\" class=\"dataframe\">\n",
       "  <thead>\n",
       "    <tr style=\"text-align: right;\">\n",
       "      <th></th>\n",
       "      <th>id</th>\n",
       "      <th>content_name</th>\n",
       "      <th>title</th>\n",
       "      <th>article_category_names</th>\n",
       "      <th>full_url</th>\n",
       "      <th>friendly_url</th>\n",
       "      <th>category_description</th>\n",
       "      <th>content_category</th>\n",
       "      <th>content_body</th>\n",
       "      <th>pr_name</th>\n",
       "      <th>extracted_content_body</th>\n",
       "      <th>readability_score</th>\n",
       "      <th>reading_level</th>\n",
       "      <th>word_count</th>\n",
       "      <th>reading_level_hard</th>\n",
       "    </tr>\n",
       "  </thead>\n",
       "  <tbody>\n",
       "    <tr>\n",
       "      <th>1340</th>\n",
       "      <td>1444997</td>\n",
       "      <td>Child’s Fifth Year: Bite-sized Reminders for M...</td>\n",
       "      <td>Child’s Fifth Year: Bite-sized Reminders for M...</td>\n",
       "      <td>Child and Teen Health,</td>\n",
       "      <td>https://www.healthhub.sg/live-healthy/child-fi...</td>\n",
       "      <td>child-fifth-year-bite-sized-reminders</td>\n",
       "      <td>Quick reminders and tips to help care for your...</td>\n",
       "      <td>live-healthy-articles</td>\n",
       "      <td>b'&lt;div class=\"ExternalClassC057C8CF3DD74F2F89E...</td>\n",
       "      <td>Health Promotion Board</td>\n",
       "      <td>Read these next:\\n- Know Your Child's BMI\\n- T...</td>\n",
       "      <td>0</td>\n",
       "      <td>normal</td>\n",
       "      <td>12</td>\n",
       "      <td>False</td>\n",
       "    </tr>\n",
       "    <tr>\n",
       "      <th>1505</th>\n",
       "      <td>1445657</td>\n",
       "      <td>Nasi Liwet with Brown Rice</td>\n",
       "      <td>Nasi Liwet with Brown Rice</td>\n",
       "      <td>Food and Nutrition,</td>\n",
       "      <td>https://www.healthhub.sg/live-healthy/nasi-liw...</td>\n",
       "      <td>nasi-liwet-brown-rice</td>\n",
       "      <td>An all time favourite wrapped in fragrant bana...</td>\n",
       "      <td>live-healthy-articles</td>\n",
       "      <td>b'&lt;div class=\"ExternalClass4DDCC326F4504BB3912...</td>\n",
       "      <td>Health Promotion Board</td>\n",
       "      <td>Ingredients\\n(4 Servings)\\n- 300g Fairprice Br...</td>\n",
       "      <td>0</td>\n",
       "      <td>normal</td>\n",
       "      <td>135</td>\n",
       "      <td>False</td>\n",
       "    </tr>\n",
       "  </tbody>\n",
       "</table>\n",
       "</div>"
      ],
      "text/plain": [
       "\n",
       "           id                                       content_name  \\\n",
       "\u001b[1;36m1340\u001b[0m  \u001b[1;36m1444997\u001b[0m  Child’s Fifth Year: Bite-sized Reminders for M\u001b[33m...\u001b[0m   \n",
       "\u001b[1;36m1505\u001b[0m  \u001b[1;36m1445657\u001b[0m                         Nasi Liwet with Brown Rice   \n",
       "\n",
       "                                                  title  \\\n",
       "\u001b[1;36m1340\u001b[0m  Child’s Fifth Year: Bite-sized Reminders for M\u001b[33m...\u001b[0m   \n",
       "\u001b[1;36m1505\u001b[0m                         Nasi Liwet with Brown Rice   \n",
       "\n",
       "      article_category_names  \\\n",
       "\u001b[1;36m1340\u001b[0m  Child and Teen Health,   \n",
       "\u001b[1;36m1505\u001b[0m     Food and Nutrition,   \n",
       "\n",
       "                                               full_url  \\\n",
       "\u001b[1;36m1340\u001b[0m  \u001b[4;94mhttps://www.healthhub.sg/live-healthy/child-fi...\u001b[0m   \n",
       "\u001b[1;36m1505\u001b[0m  \u001b[4;94mhttps://www.healthhub.sg/live-healthy/nasi-liw...\u001b[0m   \n",
       "\n",
       "                               friendly_url  \\\n",
       "\u001b[1;36m1340\u001b[0m  child-fifth-year-bite-sized-reminders   \n",
       "\u001b[1;36m1505\u001b[0m                  nasi-liwet-brown-rice   \n",
       "\n",
       "                                   category_description  \\\n",
       "\u001b[1;36m1340\u001b[0m  Quick reminders and tips to help care for your\u001b[33m...\u001b[0m   \n",
       "\u001b[1;36m1505\u001b[0m  An all time favourite wrapped in fragrant bana\u001b[33m...\u001b[0m   \n",
       "\n",
       "           content_category  \\\n",
       "\u001b[1;36m1340\u001b[0m  live-healthy-articles   \n",
       "\u001b[1;36m1505\u001b[0m  live-healthy-articles   \n",
       "\n",
       "                                           content_body  \\\n",
       "\u001b[1;36m1340\u001b[0m  b'<div \u001b[33mclass\u001b[0m=\u001b[35m\"ExternalClassC057C8CF3DD74F2F89E\u001b[0m\u001b[33m...\u001b[0m   \n",
       "\u001b[1;36m1505\u001b[0m  b'<div \u001b[33mclass\u001b[0m=\u001b[35m\"ExternalClass4DDCC326F4504BB3912\u001b[0m\u001b[33m...\u001b[0m   \n",
       "\n",
       "                     pr_name  \\\n",
       "\u001b[1;36m1340\u001b[0m  Health Promotion Board   \n",
       "\u001b[1;36m1505\u001b[0m  Health Promotion Board   \n",
       "\n",
       "                                 extracted_content_body  readability_score  \\\n",
       "\u001b[1;36m1340\u001b[0m  Read these next:\\n- Know Your Child's BMI\\n- T\u001b[33m...\u001b[0m                  \u001b[1;36m0\u001b[0m   \n",
       "\u001b[1;36m1505\u001b[0m  Ingredients\\\u001b[1;35mn\u001b[0m\u001b[1m(\u001b[0m\u001b[1;36m4\u001b[0m Servings\u001b[1m)\u001b[0m\\n- 300g Fairprice Br\u001b[33m...\u001b[0m                  \u001b[1;36m0\u001b[0m   \n",
       "\n",
       "     reading_level  word_count  reading_level_hard  \n",
       "\u001b[1;36m1340\u001b[0m        normal          \u001b[1;36m12\u001b[0m               \u001b[3;91mFalse\u001b[0m  \n",
       "\u001b[1;36m1505\u001b[0m        normal         \u001b[1;36m135\u001b[0m               \u001b[3;91mFalse\u001b[0m  "
      ]
     },
     "metadata": {},
     "output_type": "display_data"
    }
   ],
   "source": [
    "df_hpb_zero = df_extracted[df_extracted[\"readability_score\"] == 0]\n",
    "\n",
    "display(df_hpb_zero)  # noqa: F821"
   ]
  },
  {
   "cell_type": "code",
   "execution_count": 44,
   "id": "cd1da0c5dd8aa96d",
   "metadata": {
    "ExecuteTime": {
     "end_time": "2024-08-14T22:06:50.485002Z",
     "start_time": "2024-08-14T22:06:50.482602Z"
    }
   },
   "outputs": [
    {
     "name": "stdout",
     "output_type": "stream",
     "text": [
      "Article ID: 1444997\n",
      "Article URL: https://www.healthhub.sg/live-healthy/child-fifth-year-bite-sized-reminders\n",
      "Read these next:\n",
      "- Know Your Child's BMI\n",
      "- The Toy Story on Safety\n",
      "\n",
      "Article ID: 1445657\n",
      "Article URL: https://www.healthhub.sg/live-healthy/nasi-liwet-brown-rice\n",
      "Ingredients\n",
      "(4 Servings)\n",
      "- 300g Fairprice Brown Unpolished Rice\n",
      "- 30g Nestle Nasi Goreng Paste\n",
      "- 2 eggs\n",
      "- 1 tsp olive oil\n",
      "- 1/4 tsp salt\n",
      "- 1/4 tsp pepper\n",
      "\n",
      "Method\n",
      "1. Steam rice until cooked.\n",
      "2. Remove rice and mix with maggi Nasi Goreng Paste and season with pepper.\n",
      "3. Beat 2 eggs well and add a pinch of salt and pepper.\n",
      "4. Heat 1 teaspoon of cooking oil and pour in the egg mixture to make a thin omelette.\n",
      "5. Roll the omelette and cut it thinly and mix it with rice.\n",
      "6. Clean the banana leaf and put the rice in the middle of the banana leaf and roll it up securing with toothpicks.\n",
      "7. Grill the wrapped rice in banana leaf in an oven for 5 to 10 minutes until fragrant.\n",
      "8. Ready to be served.\n",
      "\n"
     ]
    }
   ],
   "source": [
    "for i in range(0, len(df_hpb_zero)):\n",
    "    print(\"Article ID:\", df_hpb_zero[\"id\"].iloc[i])\n",
    "    print(\"Article URL:\", df_hpb_zero[\"full_url\"].iloc[i])\n",
    "    print(df_hpb_zero[\"extracted_content_body\"].iloc[i], end=\"\\n\\n\")"
   ]
  },
  {
   "cell_type": "code",
   "execution_count": null,
   "id": "ae9c1111560a17bf",
   "metadata": {},
   "outputs": [],
   "source": []
  }
 ],
 "metadata": {
  "kernelspec": {
   "display_name": "Python 3 (ipykernel)",
   "language": "python",
   "name": "python3"
  },
  "language_info": {
   "codemirror_mode": {
    "name": "ipython",
    "version": 3
   },
   "file_extension": ".py",
   "mimetype": "text/x-python",
   "name": "python",
   "nbconvert_exporter": "python",
   "pygments_lexer": "ipython3",
   "version": "3.11.9"
  }
 },
 "nbformat": 4,
 "nbformat_minor": 5
}
