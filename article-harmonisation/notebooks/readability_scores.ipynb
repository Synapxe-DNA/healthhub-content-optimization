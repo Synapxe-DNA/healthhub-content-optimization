{
 "cells": [
  {
   "cell_type": "code",
   "id": "initial_id",
   "metadata": {
    "collapsed": true
   },
   "source": [
    "import math\n",
    "import re\n",
    "import string\n",
    "from functools import reduce\n",
    "from typing import Union\n",
    "\n",
    "import pandas as pd"
   ],
   "outputs": [],
   "execution_count": null
  },
  {
   "metadata": {},
   "cell_type": "code",
   "source": [
    "%load_ext kedro.ipython"
   ],
   "id": "e4bef48cb5f07db",
   "outputs": [],
   "execution_count": null
  },
  {
   "metadata": {},
   "cell_type": "code",
   "source": [
    "merged_data = pd.read_parquet(\"../data/merged_data.parquet\")\n",
    "\n",
    "display(merged_data)"
   ],
   "id": "197753b7a2f2d3ca",
   "outputs": [],
   "execution_count": null
  },
  {
   "metadata": {},
   "cell_type": "code",
   "source": [
    "df_keep = merged_data[~merged_data[\"to_remove\"]]\n",
    "\n",
    "display(df_keep)"
   ],
   "id": "2c411293da5a0234",
   "outputs": [],
   "execution_count": null
  },
  {
   "metadata": {},
   "cell_type": "code",
   "source": [
    "relevant_categories = [\n",
    "    \"cost-and-financing\",\n",
    "    \"live-healthy-articles\",\n",
    "    \"diseases-and-conditions\",\n",
    "    \"medical-care-and-facilities\",\n",
    "    \"support-group-and-others\",\n",
    "]\n",
    "\n",
    "df_keep = df_keep[df_keep[\"content_category\"].isin(relevant_categories)]\n",
    "\n",
    "display(df_keep)"
   ],
   "id": "9ce2cf6fd494b9",
   "outputs": [],
   "execution_count": null
  },
  {
   "metadata": {},
   "cell_type": "code",
   "source": [
    "df_extracted = df_keep[\n",
    "    [\n",
    "        \"id\",\n",
    "        \"content_name\",\n",
    "        \"title\",\n",
    "        \"article_category_names\",\n",
    "        \"full_url\",\n",
    "        \"friendly_url\",\n",
    "        \"category_description\",\n",
    "        \"content_category\",\n",
    "        \"content_body\",\n",
    "        \"pr_name\",\n",
    "        \"has_table\",\n",
    "        \"has_image\",\n",
    "        \"related_sections\",\n",
    "        \"extracted_tables\",\n",
    "        \"extracted_links\",\n",
    "        \"extracted_headers\",\n",
    "        \"extracted_img_alt_text\",\n",
    "        \"extracted_content_body\",\n",
    "    ]\n",
    "]\n",
    "\n",
    "display(df_extracted)"
   ],
   "id": "2f5d55016aeac3ab",
   "outputs": [],
   "execution_count": null
  },
  {
   "metadata": {},
   "cell_type": "code",
   "source": [
    "def hemmingway_score(text: str) -> dict[str, Union[str, int]]:\n",
    "    \"\"\"\n",
    "    Calculates the hemmingway score of the given text.\n",
    "\n",
    "    Args:\n",
    "        text (str): The text to be scored.\n",
    "\n",
    "    Returns:\n",
    "        tuple(int, str): Returns a tuple containing the hemmingway score and difficulty of the text\n",
    "    \"\"\"\n",
    "    sentences = []\n",
    "    words = []\n",
    "\n",
    "    # Compile regex to detect punctuations\n",
    "    regex = re.compile(\"[%s]\" % re.escape(string.punctuation))\n",
    "\n",
    "    # Remove all hyperlinks\n",
    "    filtered_text = re.sub(r\"https?:\\/\\/[^\\s]+\", \"\", text)\n",
    "\n",
    "    # Split the extracted text by the newline delimiter\n",
    "    lines = filtered_text.split(\"\\n\")\n",
    "    # Track the sentences in the text\n",
    "    for line in lines:\n",
    "        partial_sentences = re.split(r\"[.!?]\", line)\n",
    "        for sentence in partial_sentences:\n",
    "            sentences.append(sentence.strip())\n",
    "\n",
    "    # Track the words in the text\n",
    "    for sentence in sentences:\n",
    "        sentence_words = sentence.split(\" \")\n",
    "        for word in sentence_words:\n",
    "            word = regex.sub(\"\", word.strip())\n",
    "            words.append(word)\n",
    "\n",
    "    # Filter for empty strings\n",
    "    filtered_sentences = list(filter(lambda x: len(x) > 0, sentences))\n",
    "    filtered_words = list(filter(lambda x: len(x) > 0, words))\n",
    "\n",
    "    # Count the number of sentences, words and letters\n",
    "    num_sentences = len(filtered_sentences)\n",
    "    num_words = len(filtered_words)\n",
    "    num_letters = reduce(lambda x, y: x + y, map(len, words))\n",
    "\n",
    "    # Calculate the Hemmingway Score\n",
    "    score = math.ceil(\n",
    "        4.71 * (num_letters / num_words) + 0.5 * (num_words / num_sentences) - 21.43\n",
    "    )\n",
    "\n",
    "    # Get the reading level of the text based on the calculated score\n",
    "    if score < 10:\n",
    "        level = \"normal\"\n",
    "    elif 10 <= score < 14:\n",
    "        level = \"hard\"\n",
    "    else:\n",
    "        level = \"very hard\"\n",
    "\n",
    "    return {\"score\": score, \"level\": level}"
   ],
   "id": "afea6b02ae352c30",
   "outputs": [],
   "execution_count": null
  },
  {
   "metadata": {},
   "cell_type": "code",
   "source": [
    "def calculate_score(text):\n",
    "    metrics = hemmingway_score(text)\n",
    "    return metrics[\"score\"]\n",
    "\n",
    "\n",
    "def calculate_level(text):\n",
    "    metrics = hemmingway_score(text)\n",
    "    return metrics[\"level\"]\n",
    "\n",
    "\n",
    "df_extracted[\"readability_score\"] = df_extracted[\"extracted_content_body\"].apply(\n",
    "    calculate_score\n",
    ")\n",
    "df_extracted[\"reading_level\"] = df_extracted[\"extracted_content_body\"].apply(\n",
    "    calculate_level\n",
    ")\n",
    "display(df_extracted)"
   ],
   "id": "1ec772b4a8b96d65",
   "outputs": [],
   "execution_count": null
  },
  {
   "metadata": {},
   "cell_type": "code",
   "source": [
    "print(\n",
    "    df_extracted.groupby([\"content_category\"])[\"id\"]\n",
    "    .count()\n",
    "    .sort_values(ascending=False)\n",
    ")"
   ],
   "id": "1b2f9da36137124a",
   "outputs": [],
   "execution_count": null
  },
  {
   "metadata": {},
   "cell_type": "code",
   "source": [
    "print(df_extracted.groupby([\"pr_name\"])[\"id\"].count().sort_values(ascending=False))"
   ],
   "id": "33990a8ccfe64f18",
   "outputs": [],
   "execution_count": null
  },
  {
   "metadata": {},
   "cell_type": "code",
   "source": [
    "print(\n",
    "    df_extracted.groupby([\"article_category_names\"])[\"id\"]\n",
    "    .count()\n",
    "    .sort_values(ascending=False)\n",
    ")"
   ],
   "id": "e22a4a78912de576",
   "outputs": [],
   "execution_count": null
  },
  {
   "metadata": {},
   "cell_type": "code",
   "source": [
    "print(df_extracted.groupby([\"title\"])[\"id\"].count().sort_values(ascending=False))"
   ],
   "id": "c294f0dc4fd433ed",
   "outputs": [],
   "execution_count": null
  },
  {
   "metadata": {},
   "cell_type": "code",
   "source": [
    "print(df_extracted.groupby([\"content_name\"])[\"id\"].count().sort_values(ascending=False))"
   ],
   "id": "df304a0958bed95c",
   "outputs": [],
   "execution_count": null
  },
  {
   "metadata": {},
   "cell_type": "code",
   "source": [
    "print(\n",
    "    df_extracted.groupby([\"reading_level\"])[\"id\"].count().sort_values(ascending=False)\n",
    ")"
   ],
   "id": "ffeb846f4425f68d",
   "outputs": [],
   "execution_count": null
  },
  {
   "metadata": {},
   "cell_type": "code",
   "source": [
    "df_hpb = df_extracted[df_extracted[\"pr_name\"] == \"Health Promotion Board\"]\n",
    "\n",
    "display(df_hpb)"
   ],
   "id": "c8896c560935bfa5",
   "outputs": [],
   "execution_count": null
  },
  {
   "metadata": {},
   "cell_type": "code",
   "source": [
    "print(df_hpb.groupby([\"reading_level\"])[\"id\"].count().sort_values(ascending=False))"
   ],
   "id": "ca9279665d839873",
   "outputs": [],
   "execution_count": null
  },
  {
   "metadata": {},
   "cell_type": "code",
   "source": "",
   "id": "8a85873d623e6478",
   "outputs": [],
   "execution_count": null
  }
 ],
 "metadata": {
  "kernelspec": {
   "display_name": "Python 3",
   "language": "python",
   "name": "python3"
  },
  "language_info": {
   "codemirror_mode": {
    "name": "ipython",
    "version": 2
   },
   "file_extension": ".py",
   "mimetype": "text/x-python",
   "name": "python",
   "nbconvert_exporter": "python",
   "pygments_lexer": "ipython2",
   "version": "2.7.6"
  }
 },
 "nbformat": 4,
 "nbformat_minor": 5
}
