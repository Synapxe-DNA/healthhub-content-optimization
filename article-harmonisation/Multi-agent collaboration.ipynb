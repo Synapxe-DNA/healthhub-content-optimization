{
 "cells": [
  {
   "cell_type": "code",
   "execution_count": 1,
   "metadata": {},
   "outputs": [],
   "source": [
    "import os\n",
    "\n",
    "import dotenv\n",
    "\n",
    "dotenv.load_dotenv()\n",
    "os.environ[\"LANGCHAIN_API_KEY\"] = os.getenv(\"LANGCHAIN_API_KEY\", \"\")\n",
    "os.environ[\"HUGGINGFACEHUB_API_TOKEN\"] = os.getenv(\"HUGGINGFACEHUB_API_TOKEN\", \"\")\n",
    "os.environ[\"LANGCHAIN_TRACING_V2\"] = \"true\"\n",
    "os.environ[\"LANGCHAIN_PROJECT\"] = \"Multi-agent Collaboration\""
   ]
  },
  {
   "cell_type": "code",
   "execution_count": 2,
   "metadata": {},
   "outputs": [],
   "source": [
    "from langchain_core.messages import BaseMessage\n",
    "from langchain_core.prompts import ChatPromptTemplate, MessagesPlaceholder\n",
    "\n",
    "\n",
    "def create_agent(llm, tools, system_message: str):\n",
    "    \"\"\"Create an agent.\"\"\"\n",
    "    prompt = ChatPromptTemplate.from_messages(\n",
    "        [\n",
    "            (\n",
    "                \"system\",\n",
    "                \"You are a helpful AI assistant, collaborating with other assistants.\"\n",
    "                \" Use the provided tools to progress towards answering the question.\"\n",
    "                \" If you are unable to fully answer, that's OK, another assistant with different tools \"\n",
    "                \" will help where you left off. Execute what you can to make progress.\"\n",
    "                \" If you or any of the other assistants have the final answer or deliverable,\"\n",
    "                \" prefix your response with FINAL ANSWER so the team knows to stop.\"\n",
    "                \" You have access to the following tools: {tool_names}.\\n{system_message}\",\n",
    "            ),\n",
    "            MessagesPlaceholder(variable_name=\"messages\"),\n",
    "        ]\n",
    "    )\n",
    "    prompt = prompt.partial(system_message=system_message)\n",
    "    prompt = prompt.partial(tool_names=\", \".join([tool.name for tool in tools]))\n",
    "\n",
    "    return prompt | llm.bind_tools(tools)"
   ]
  },
  {
   "cell_type": "code",
   "execution_count": 3,
   "metadata": {},
   "outputs": [],
   "source": [
    "from langchain_core.tools import tool\n",
    "\n",
    "\n",
    "# create a tool\n",
    "@tool\n",
    "def get_the_secret_fact() -> str:\n",
    "    \"\"\"Returns the secret fact.\"\"\"\n",
    "    return \"The secret fact is: A baby llama is called a 'Cria'.\""
   ]
  },
  {
   "cell_type": "code",
   "execution_count": 4,
   "metadata": {},
   "outputs": [],
   "source": [
    "import operator\n",
    "from typing import Annotated, Sequence, TypedDict\n",
    "\n",
    "\n",
    "# This defines the object that is passed between each node\n",
    "# in the graph. We will create different nodes for each agent and tool\n",
    "class AgentState(TypedDict):\n",
    "    messages: Annotated[Sequence[BaseMessage], operator.add]\n",
    "    sender: str"
   ]
  },
  {
   "cell_type": "code",
   "execution_count": 5,
   "metadata": {},
   "outputs": [],
   "source": [
    "# import functools\n",
    "\n",
    "# from langchain_core.messages import AIMessage\n",
    "# from langchain_huggingface import HuggingFaceEndpoint\n",
    "\n",
    "\n",
    "# # Helper function to create a node for a given agent\n",
    "# def agent_node(state, agent, name):\n",
    "#     result = agent.invoke(state)\n",
    "#     # We convert the agent output into a format that is suitable to append to the global state\n",
    "#     if isinstance(result, ToolMessage):\n",
    "#         pass\n",
    "#     else:\n",
    "#         result = AIMessage(**result.dict(exclude={\"type\", \"name\"}), name=name)\n",
    "#     return {\n",
    "#         \"messages\": [result],\n",
    "#         # Since we have a strict workflow, we can\n",
    "#         # track the sender so we know who to pass to next.\n",
    "#         \"sender\": name,\n",
    "#     }\n",
    "\n",
    "\n",
    "# llm = HuggingFaceEndpoint(\n",
    "#     endpoint_url=\"meta-llama/Meta-Llama-3-8B-Instruct\", max_new_tokens=3000\n",
    "# )\n",
    "\n",
    "# # Research agent and node\n",
    "# research_agent = create_agent(\n",
    "#     llm,\n",
    "#     [get_the_secret_fact],\n",
    "#     system_message=\"You should provide accurate data for the chart_generator to use.\",\n",
    "# )\n",
    "# research_node = functools.partial(agent_node, agent=research_agent, name=\"Researcher\")\n",
    "\n",
    "# # chart_generator\n",
    "# chart_agent = create_agent(\n",
    "#     llm,\n",
    "#     [],\n",
    "#     system_message=\"Any charts you display will be visible by the user.\",\n",
    "# )\n",
    "# chart_node = functools.partial(agent_node, agent=chart_agent, name=\"chart_generator\")"
   ]
  }
 ],
 "metadata": {
  "kernelspec": {
   "display_name": "hh_venv",
   "language": "python",
   "name": "python3"
  },
  "language_info": {
   "codemirror_mode": {
    "name": "ipython",
    "version": 3
   },
   "file_extension": ".py",
   "mimetype": "text/x-python",
   "name": "python",
   "nbconvert_exporter": "python",
   "pygments_lexer": "ipython3",
   "version": "3.12.3"
  }
 },
 "nbformat": 4,
 "nbformat_minor": 2
}
