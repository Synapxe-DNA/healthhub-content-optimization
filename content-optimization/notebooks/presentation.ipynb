{
 "cells": [
  {
   "cell_type": "code",
   "execution_count": 1,
   "metadata": {},
   "outputs": [
    {
     "data": {
      "text/html": [
       "<pre style=\"white-space:pre;overflow-x:auto;line-height:normal;font-family:Menlo,'DejaVu Sans Mono',consolas,'Courier New',monospace\"><span style=\"color: #7fbfbf; text-decoration-color: #7fbfbf\">[07/01/24 15:41:23] </span><span style=\"color: #000080; text-decoration-color: #000080\">INFO    </span> Registered line magic <span style=\"color: #008000; text-decoration-color: #008000\">'%reload_kedro'</span>                                   <a href=\"file:///opt/anaconda3/envs/content-opt/lib/python3.12/site-packages/kedro/ipython/__init__.py\" target=\"_blank\"><span style=\"color: #7f7f7f; text-decoration-color: #7f7f7f\">__init__.py</span></a><span style=\"color: #7f7f7f; text-decoration-color: #7f7f7f\">:</span><a href=\"file:///opt/anaconda3/envs/content-opt/lib/python3.12/site-packages/kedro/ipython/__init__.py#58\" target=\"_blank\"><span style=\"color: #7f7f7f; text-decoration-color: #7f7f7f\">58</span></a>\n",
       "</pre>\n"
      ],
      "text/plain": [
       "\u001b[2;36m[07/01/24 15:41:23]\u001b[0m\u001b[2;36m \u001b[0m\u001b[34mINFO    \u001b[0m Registered line magic \u001b[32m'%reload_kedro'\u001b[0m                                   \u001b]8;id=121492;file:///opt/anaconda3/envs/content-opt/lib/python3.12/site-packages/kedro/ipython/__init__.py\u001b\\\u001b[2m__init__.py\u001b[0m\u001b]8;;\u001b\\\u001b[2m:\u001b[0m\u001b]8;id=567832;file:///opt/anaconda3/envs/content-opt/lib/python3.12/site-packages/kedro/ipython/__init__.py#58\u001b\\\u001b[2m58\u001b[0m\u001b]8;;\u001b\\\n"
      ]
     },
     "metadata": {},
     "output_type": "display_data"
    },
    {
     "data": {
      "text/html": [
       "<pre style=\"white-space:pre;overflow-x:auto;line-height:normal;font-family:Menlo,'DejaVu Sans Mono',consolas,'Courier New',monospace\"><span style=\"color: #7fbfbf; text-decoration-color: #7fbfbf\">                    </span><span style=\"color: #000080; text-decoration-color: #000080\">INFO    </span> Registered line magic <span style=\"color: #008000; text-decoration-color: #008000\">'%load_node'</span>                                      <a href=\"file:///opt/anaconda3/envs/content-opt/lib/python3.12/site-packages/kedro/ipython/__init__.py\" target=\"_blank\"><span style=\"color: #7f7f7f; text-decoration-color: #7f7f7f\">__init__.py</span></a><span style=\"color: #7f7f7f; text-decoration-color: #7f7f7f\">:</span><a href=\"file:///opt/anaconda3/envs/content-opt/lib/python3.12/site-packages/kedro/ipython/__init__.py#60\" target=\"_blank\"><span style=\"color: #7f7f7f; text-decoration-color: #7f7f7f\">60</span></a>\n",
       "</pre>\n"
      ],
      "text/plain": [
       "\u001b[2;36m                   \u001b[0m\u001b[2;36m \u001b[0m\u001b[34mINFO    \u001b[0m Registered line magic \u001b[32m'%load_node'\u001b[0m                                      \u001b]8;id=407062;file:///opt/anaconda3/envs/content-opt/lib/python3.12/site-packages/kedro/ipython/__init__.py\u001b\\\u001b[2m__init__.py\u001b[0m\u001b]8;;\u001b\\\u001b[2m:\u001b[0m\u001b]8;id=149380;file:///opt/anaconda3/envs/content-opt/lib/python3.12/site-packages/kedro/ipython/__init__.py#60\u001b\\\u001b[2m60\u001b[0m\u001b]8;;\u001b\\\n"
      ]
     },
     "metadata": {},
     "output_type": "display_data"
    },
    {
     "data": {
      "text/html": [
       "<pre style=\"white-space:pre;overflow-x:auto;line-height:normal;font-family:Menlo,'DejaVu Sans Mono',consolas,'Courier New',monospace\"><span style=\"color: #7fbfbf; text-decoration-color: #7fbfbf\">                    </span><span style=\"color: #000080; text-decoration-color: #000080\">INFO    </span> Resolved project path as: <span style=\"color: #800080; text-decoration-color: #800080\">/Users/wilsvenleong/Downloads/</span><span style=\"color: #ff00ff; text-decoration-color: #ff00ff\">Learning</span>       <a href=\"file:///opt/anaconda3/envs/content-opt/lib/python3.12/site-packages/kedro/ipython/__init__.py\" target=\"_blank\"><span style=\"color: #7f7f7f; text-decoration-color: #7f7f7f\">__init__.py</span></a><span style=\"color: #7f7f7f; text-decoration-color: #7f7f7f\">:</span><a href=\"file:///opt/anaconda3/envs/content-opt/lib/python3.12/site-packages/kedro/ipython/__init__.py#171\" target=\"_blank\"><span style=\"color: #7f7f7f; text-decoration-color: #7f7f7f\">171</span></a>\n",
       "<span style=\"color: #7fbfbf; text-decoration-color: #7fbfbf\">                    </span>         Materials/healthhub-content-optimization/content-optimization.         <span style=\"color: #7f7f7f; text-decoration-color: #7f7f7f\">               </span>\n",
       "<span style=\"color: #7fbfbf; text-decoration-color: #7fbfbf\">                    </span>         To set a different path, run <span style=\"color: #008000; text-decoration-color: #008000\">'%reload_kedro &lt;project_root&gt;'</span>            <span style=\"color: #7f7f7f; text-decoration-color: #7f7f7f\">               </span>\n",
       "</pre>\n"
      ],
      "text/plain": [
       "\u001b[2;36m                   \u001b[0m\u001b[2;36m \u001b[0m\u001b[34mINFO    \u001b[0m Resolved project path as: \u001b[35m/Users/wilsvenleong/Downloads/\u001b[0m\u001b[95mLearning\u001b[0m       \u001b]8;id=73968;file:///opt/anaconda3/envs/content-opt/lib/python3.12/site-packages/kedro/ipython/__init__.py\u001b\\\u001b[2m__init__.py\u001b[0m\u001b]8;;\u001b\\\u001b[2m:\u001b[0m\u001b]8;id=933881;file:///opt/anaconda3/envs/content-opt/lib/python3.12/site-packages/kedro/ipython/__init__.py#171\u001b\\\u001b[2m171\u001b[0m\u001b]8;;\u001b\\\n",
       "\u001b[2;36m                    \u001b[0m         Materials/healthhub-content-optimization/content-optimization.         \u001b[2m               \u001b[0m\n",
       "\u001b[2;36m                    \u001b[0m         To set a different path, run \u001b[32m'%reload_kedro \u001b[0m\u001b[32m<\u001b[0m\u001b[32mproject_root\u001b[0m\u001b[32m>\u001b[0m\u001b[32m'\u001b[0m            \u001b[2m               \u001b[0m\n"
      ]
     },
     "metadata": {},
     "output_type": "display_data"
    },
    {
     "data": {
      "text/html": [
       "<pre style=\"white-space:pre;overflow-x:auto;line-height:normal;font-family:Menlo,'DejaVu Sans Mono',consolas,'Courier New',monospace\"><span style=\"color: #7fbfbf; text-decoration-color: #7fbfbf\">[07/01/24 15:41:24] </span><span style=\"color: #000080; text-decoration-color: #000080\">INFO    </span> Kedro project Content Optimization                                     <a href=\"file:///opt/anaconda3/envs/content-opt/lib/python3.12/site-packages/kedro/ipython/__init__.py\" target=\"_blank\"><span style=\"color: #7f7f7f; text-decoration-color: #7f7f7f\">__init__.py</span></a><span style=\"color: #7f7f7f; text-decoration-color: #7f7f7f\">:</span><a href=\"file:///opt/anaconda3/envs/content-opt/lib/python3.12/site-packages/kedro/ipython/__init__.py#141\" target=\"_blank\"><span style=\"color: #7f7f7f; text-decoration-color: #7f7f7f\">141</span></a>\n",
       "</pre>\n"
      ],
      "text/plain": [
       "\u001b[2;36m[07/01/24 15:41:24]\u001b[0m\u001b[2;36m \u001b[0m\u001b[34mINFO    \u001b[0m Kedro project Content Optimization                                     \u001b]8;id=857917;file:///opt/anaconda3/envs/content-opt/lib/python3.12/site-packages/kedro/ipython/__init__.py\u001b\\\u001b[2m__init__.py\u001b[0m\u001b]8;;\u001b\\\u001b[2m:\u001b[0m\u001b]8;id=960870;file:///opt/anaconda3/envs/content-opt/lib/python3.12/site-packages/kedro/ipython/__init__.py#141\u001b\\\u001b[2m141\u001b[0m\u001b]8;;\u001b\\\n"
      ]
     },
     "metadata": {},
     "output_type": "display_data"
    },
    {
     "data": {
      "text/html": [
       "<pre style=\"white-space:pre;overflow-x:auto;line-height:normal;font-family:Menlo,'DejaVu Sans Mono',consolas,'Courier New',monospace\"><span style=\"color: #7fbfbf; text-decoration-color: #7fbfbf\">                    </span><span style=\"color: #000080; text-decoration-color: #000080\">INFO    </span> Defined global variable <span style=\"color: #008000; text-decoration-color: #008000\">'context'</span>, <span style=\"color: #008000; text-decoration-color: #008000\">'session'</span>, <span style=\"color: #008000; text-decoration-color: #008000\">'catalog'</span> and            <a href=\"file:///opt/anaconda3/envs/content-opt/lib/python3.12/site-packages/kedro/ipython/__init__.py\" target=\"_blank\"><span style=\"color: #7f7f7f; text-decoration-color: #7f7f7f\">__init__.py</span></a><span style=\"color: #7f7f7f; text-decoration-color: #7f7f7f\">:</span><a href=\"file:///opt/anaconda3/envs/content-opt/lib/python3.12/site-packages/kedro/ipython/__init__.py#142\" target=\"_blank\"><span style=\"color: #7f7f7f; text-decoration-color: #7f7f7f\">142</span></a>\n",
       "<span style=\"color: #7fbfbf; text-decoration-color: #7fbfbf\">                    </span>         <span style=\"color: #008000; text-decoration-color: #008000\">'pipelines'</span>                                                            <span style=\"color: #7f7f7f; text-decoration-color: #7f7f7f\">               </span>\n",
       "</pre>\n"
      ],
      "text/plain": [
       "\u001b[2;36m                   \u001b[0m\u001b[2;36m \u001b[0m\u001b[34mINFO    \u001b[0m Defined global variable \u001b[32m'context'\u001b[0m, \u001b[32m'session'\u001b[0m, \u001b[32m'catalog'\u001b[0m and            \u001b]8;id=565166;file:///opt/anaconda3/envs/content-opt/lib/python3.12/site-packages/kedro/ipython/__init__.py\u001b\\\u001b[2m__init__.py\u001b[0m\u001b]8;;\u001b\\\u001b[2m:\u001b[0m\u001b]8;id=325159;file:///opt/anaconda3/envs/content-opt/lib/python3.12/site-packages/kedro/ipython/__init__.py#142\u001b\\\u001b[2m142\u001b[0m\u001b]8;;\u001b\\\n",
       "\u001b[2;36m                    \u001b[0m         \u001b[32m'pipelines'\u001b[0m                                                            \u001b[2m               \u001b[0m\n"
      ]
     },
     "metadata": {},
     "output_type": "display_data"
    },
    {
     "data": {
      "text/html": [
       "<pre style=\"white-space:pre;overflow-x:auto;line-height:normal;font-family:Menlo,'DejaVu Sans Mono',consolas,'Courier New',monospace\"><span style=\"color: #7fbfbf; text-decoration-color: #7fbfbf\">                    </span><span style=\"color: #000080; text-decoration-color: #000080\">INFO    </span> Registered line magic <span style=\"color: #008000; text-decoration-color: #008000\">'run_viz'</span>                                        <a href=\"file:///opt/anaconda3/envs/content-opt/lib/python3.12/site-packages/kedro/ipython/__init__.py\" target=\"_blank\"><span style=\"color: #7f7f7f; text-decoration-color: #7f7f7f\">__init__.py</span></a><span style=\"color: #7f7f7f; text-decoration-color: #7f7f7f\">:</span><a href=\"file:///opt/anaconda3/envs/content-opt/lib/python3.12/site-packages/kedro/ipython/__init__.py#148\" target=\"_blank\"><span style=\"color: #7f7f7f; text-decoration-color: #7f7f7f\">148</span></a>\n",
       "</pre>\n"
      ],
      "text/plain": [
       "\u001b[2;36m                   \u001b[0m\u001b[2;36m \u001b[0m\u001b[34mINFO    \u001b[0m Registered line magic \u001b[32m'run_viz'\u001b[0m                                        \u001b]8;id=715093;file:///opt/anaconda3/envs/content-opt/lib/python3.12/site-packages/kedro/ipython/__init__.py\u001b\\\u001b[2m__init__.py\u001b[0m\u001b]8;;\u001b\\\u001b[2m:\u001b[0m\u001b]8;id=591872;file:///opt/anaconda3/envs/content-opt/lib/python3.12/site-packages/kedro/ipython/__init__.py#148\u001b\\\u001b[2m148\u001b[0m\u001b]8;;\u001b\\\n"
      ]
     },
     "metadata": {},
     "output_type": "display_data"
    }
   ],
   "source": [
    "%load_ext kedro.ipython"
   ]
  },
  {
   "cell_type": "code",
   "execution_count": 2,
   "metadata": {},
   "outputs": [],
   "source": [
    "import re\n",
    "\n",
    "import pandas as pd"
   ]
  },
  {
   "cell_type": "code",
   "execution_count": 3,
   "metadata": {},
   "outputs": [
    {
     "data": {
      "text/html": [
       "<pre style=\"white-space:pre;overflow-x:auto;line-height:normal;font-family:Menlo,'DejaVu Sans Mono',consolas,'Courier New',monospace\"></pre>\n"
      ],
      "text/plain": []
     },
     "metadata": {},
     "output_type": "display_data"
    },
    {
     "data": {
      "text/plain": [
       "\n",
       "\u001b[1m[\u001b[0m\n",
       "    \u001b[32m'all_contents'\u001b[0m,\n",
       "    \u001b[32m'all_contents_standardized'\u001b[0m,\n",
       "    \u001b[32m'all_contents_extracted'\u001b[0m,\n",
       "    \u001b[32m'all_extracted_text'\u001b[0m,\n",
       "    \u001b[32m'merged_data'\u001b[0m,\n",
       "    \u001b[32m'raw_word_counts'\u001b[0m,\n",
       "    \u001b[32m'log_word_counts'\u001b[0m,\n",
       "    \u001b[32m'flag_for_removal_by_type'\u001b[0m,\n",
       "    \u001b[32m'parameters'\u001b[0m,\n",
       "    \u001b[32m'params:columns_to_keep'\u001b[0m,\n",
       "    \u001b[32m'params:columns_to_keep.cost-and-financing'\u001b[0m,\n",
       "    \u001b[32m'params:columns_to_keep.diseases-and-conditions'\u001b[0m,\n",
       "    \u001b[32m'params:columns_to_keep.health-statistics'\u001b[0m,\n",
       "    \u001b[32m'params:columns_to_keep.live-healthy-articles'\u001b[0m,\n",
       "    \u001b[32m'params:columns_to_keep.medical-care-and-facilities'\u001b[0m,\n",
       "    \u001b[32m'params:columns_to_keep.medications'\u001b[0m,\n",
       "    \u001b[32m'params:columns_to_keep.program-sub-pages'\u001b[0m,\n",
       "    \u001b[32m'params:columns_to_keep.programs'\u001b[0m,\n",
       "    \u001b[32m'params:columns_to_keep.support-group-and-others'\u001b[0m,\n",
       "    \u001b[32m'params:columns_to_add'\u001b[0m,\n",
       "    \u001b[32m'params:columns_to_add.health-statistics'\u001b[0m,\n",
       "    \u001b[32m'params:columns_to_add.medications'\u001b[0m,\n",
       "    \u001b[32m'params:columns_to_add.program-sub-pages'\u001b[0m,\n",
       "    \u001b[32m'params:columns_to_add.programs'\u001b[0m,\n",
       "    \u001b[32m'params:default_columns'\u001b[0m,\n",
       "    \u001b[32m'params:word_count_cutoff'\u001b[0m\n",
       "\u001b[1m]\u001b[0m"
      ]
     },
     "execution_count": 3,
     "metadata": {},
     "output_type": "execute_result"
    }
   ],
   "source": [
    "# ruff: noqa: F821\n",
    "catalog.list()"
   ]
  },
  {
   "cell_type": "code",
   "execution_count": 4,
   "metadata": {},
   "outputs": [
    {
     "data": {
      "text/html": [
       "<pre style=\"white-space:pre;overflow-x:auto;line-height:normal;font-family:Menlo,'DejaVu Sans Mono',consolas,'Courier New',monospace\"><span style=\"color: #7fbfbf; text-decoration-color: #7fbfbf\">                    </span><span style=\"color: #000080; text-decoration-color: #000080\">INFO    </span> Loading data from <span style=\"color: #ff8700; text-decoration-color: #ff8700\">merged_data</span> <span style=\"font-weight: bold\">(</span>ParquetDataset<span style=\"font-weight: bold\">)</span><span style=\"color: #808000; text-decoration-color: #808000\">...</span>                  <a href=\"file:///opt/anaconda3/envs/content-opt/lib/python3.12/site-packages/kedro/io/data_catalog.py\" target=\"_blank\"><span style=\"color: #7f7f7f; text-decoration-color: #7f7f7f\">data_catalog.py</span></a><span style=\"color: #7f7f7f; text-decoration-color: #7f7f7f\">:</span><a href=\"file:///opt/anaconda3/envs/content-opt/lib/python3.12/site-packages/kedro/io/data_catalog.py#508\" target=\"_blank\"><span style=\"color: #7f7f7f; text-decoration-color: #7f7f7f\">508</span></a>\n",
       "</pre>\n"
      ],
      "text/plain": [
       "\u001b[2;36m                   \u001b[0m\u001b[2;36m \u001b[0m\u001b[34mINFO    \u001b[0m Loading data from \u001b[38;5;208mmerged_data\u001b[0m \u001b[1m(\u001b[0mParquetDataset\u001b[1m)\u001b[0m\u001b[33m...\u001b[0m                  \u001b]8;id=732570;file:///opt/anaconda3/envs/content-opt/lib/python3.12/site-packages/kedro/io/data_catalog.py\u001b\\\u001b[2mdata_catalog.py\u001b[0m\u001b]8;;\u001b\\\u001b[2m:\u001b[0m\u001b]8;id=990877;file:///opt/anaconda3/envs/content-opt/lib/python3.12/site-packages/kedro/io/data_catalog.py#508\u001b\\\u001b[2m508\u001b[0m\u001b]8;;\u001b\\\n"
      ]
     },
     "metadata": {},
     "output_type": "display_data"
    },
    {
     "data": {
      "text/html": [
       "<pre style=\"white-space:pre;overflow-x:auto;line-height:normal;font-family:Menlo,'DejaVu Sans Mono',consolas,'Courier New',monospace\"></pre>\n"
      ],
      "text/plain": []
     },
     "metadata": {},
     "output_type": "display_data"
    },
    {
     "data": {
      "text/html": [
       "<div>\n",
       "<style scoped>\n",
       "    .dataframe tbody tr th:only-of-type {\n",
       "        vertical-align: middle;\n",
       "    }\n",
       "\n",
       "    .dataframe tbody tr th {\n",
       "        vertical-align: top;\n",
       "    }\n",
       "\n",
       "    .dataframe thead th {\n",
       "        text-align: right;\n",
       "    }\n",
       "</style>\n",
       "<table border=\"1\" class=\"dataframe\">\n",
       "  <thead>\n",
       "    <tr style=\"text-align: right;\">\n",
       "      <th></th>\n",
       "      <th>id</th>\n",
       "      <th>content_name</th>\n",
       "      <th>title</th>\n",
       "      <th>article_category_names</th>\n",
       "      <th>cover_image_url</th>\n",
       "      <th>full_url</th>\n",
       "      <th>full_url2</th>\n",
       "      <th>friendly_url</th>\n",
       "      <th>category_description</th>\n",
       "      <th>content_body</th>\n",
       "      <th>...</th>\n",
       "      <th>percentage_total_views</th>\n",
       "      <th>cumulative_percentage_total_views</th>\n",
       "      <th>content_category</th>\n",
       "      <th>to_remove</th>\n",
       "      <th>has_table</th>\n",
       "      <th>has_image</th>\n",
       "      <th>related_sections</th>\n",
       "      <th>extracted_links</th>\n",
       "      <th>extracted_headers</th>\n",
       "      <th>extracted_content_body</th>\n",
       "    </tr>\n",
       "  </thead>\n",
       "  <tbody>\n",
       "    <tr>\n",
       "      <th>0</th>\n",
       "      <td>1435040</td>\n",
       "      <td>Breast Screening Subsidies in Singapore</td>\n",
       "      <td>Breast Screening Subsidies in Singapore</td>\n",
       "      <td>Conditions and Illnesses,</td>\n",
       "      <td>https://ch-api.healthhub.sg/api/public/content...</td>\n",
       "      <td>https://www.healthhub.sg/a-z/costs-and-financi...</td>\n",
       "      <td>www.healthhub.sg/a-z/costs-and-financing/breas...</td>\n",
       "      <td>breast-cancer-screening-subsidies</td>\n",
       "      <td>Here’s all you need to know about breast cance...</td>\n",
       "      <td>&lt;div class=\"ExternalClass07C58E0D957B4AA7B14FC...</td>\n",
       "      <td>...</td>\n",
       "      <td>0.216244</td>\n",
       "      <td>0.216244</td>\n",
       "      <td>cost-and-financing</td>\n",
       "      <td>False</td>\n",
       "      <td>True</td>\n",
       "      <td>False</td>\n",
       "      <td>[Cancer Facts You Cannot Ignore]</td>\n",
       "      <td>[[Cancer Facts You Cannot Ignore, https://www....</td>\n",
       "      <td>[[Breast Cancer Screening, h2], [Subsidy for M...</td>\n",
       "      <td>Breast cancer is the number one cancer among w...</td>\n",
       "    </tr>\n",
       "    <tr>\n",
       "      <th>1</th>\n",
       "      <td>1435071</td>\n",
       "      <td>Marriage and Parenthood Schemes</td>\n",
       "      <td>Marriage and Parenthood Schemes</td>\n",
       "      <td>Body Care,</td>\n",
       "      <td>https://ch-api.healthhub.sg/api/public/content...</td>\n",
       "      <td>https://www.healthhub.sg/a-z/costs-and-financi...</td>\n",
       "      <td>www.healthhub.sg/a-z/costs-and-financing/marri...</td>\n",
       "      <td>marriage_parenthood_scheme</td>\n",
       "      <td>New parents and couples looking to conceive ca...</td>\n",
       "      <td>&lt;div class=\"ExternalClassE1D82270F17241E495537...</td>\n",
       "      <td>...</td>\n",
       "      <td>0.111180</td>\n",
       "      <td>0.327423</td>\n",
       "      <td>cost-and-financing</td>\n",
       "      <td>False</td>\n",
       "      <td>True</td>\n",
       "      <td>False</td>\n",
       "      <td>[MediSave, Baby Bonus What You Need to Know, I...</td>\n",
       "      <td>[[How to Submit Claims, https://crms.moh.gov.s...</td>\n",
       "      <td>[[MediSave Maternity Package, h2], [Examples o...</td>\n",
       "      <td>MediSave Maternity Package\\nWith the MediSave ...</td>\n",
       "    </tr>\n",
       "    <tr>\n",
       "      <th>2</th>\n",
       "      <td>1434993</td>\n",
       "      <td>MediSave</td>\n",
       "      <td>MediSave</td>\n",
       "      <td>Alerts &amp; Advisories,</td>\n",
       "      <td>https://ch-api.healthhub.sg/api/public/content...</td>\n",
       "      <td>https://www.healthhub.sg/a-z/costs-and-financi...</td>\n",
       "      <td>www.healthhub.sg/a-z/costs-and-financing/medisave</td>\n",
       "      <td>medisave</td>\n",
       "      <td>MediSave is the national medical savings schem...</td>\n",
       "      <td>&lt;div class=\"ExternalClass67AD25F1F8B64B349E515...</td>\n",
       "      <td>...</td>\n",
       "      <td>0.063847</td>\n",
       "      <td>0.391271</td>\n",
       "      <td>cost-and-financing</td>\n",
       "      <td>False</td>\n",
       "      <td>False</td>\n",
       "      <td>False</td>\n",
       "      <td>[A Way to Reduce Outpatient Cost for Chronic D...</td>\n",
       "      <td>[[A Way to Reduce Outpatient Cost for Chronics...</td>\n",
       "      <td>[[, h2], [What is MediSave?, h2], [Contributin...</td>\n",
       "      <td>What is MediSave?\\nMediSave, introduced in Apr...</td>\n",
       "    </tr>\n",
       "    <tr>\n",
       "      <th>3</th>\n",
       "      <td>1435031</td>\n",
       "      <td>Hospital Bills Financial Assistance in Singapore</td>\n",
       "      <td>Hospital Bills Financial Assistance in Singapore</td>\n",
       "      <td>Body Care,</td>\n",
       "      <td>https://ch-api.healthhub.sg/api/public/content...</td>\n",
       "      <td>https://www.healthhub.sg/a-z/costs-and-financi...</td>\n",
       "      <td>www.healthhub.sg/a-z/costs-and-financing/finan...</td>\n",
       "      <td>financial-assistance-for-local-patients-in-sin...</td>\n",
       "      <td>Having trouble paying your medical bill? Here’...</td>\n",
       "      <td>&lt;div class=\"ExternalClassE335708125E743FDAA331...</td>\n",
       "      <td>...</td>\n",
       "      <td>0.061297</td>\n",
       "      <td>0.452568</td>\n",
       "      <td>cost-and-financing</td>\n",
       "      <td>False</td>\n",
       "      <td>False</td>\n",
       "      <td>False</td>\n",
       "      <td>[]</td>\n",
       "      <td>[[Medifund, https://www.healthhub.sg/a-z/costs...</td>\n",
       "      <td>[[Medifund: Hospital Bill Payment Assistance, ...</td>\n",
       "      <td>Patients or family members who have difficulty...</td>\n",
       "    </tr>\n",
       "    <tr>\n",
       "      <th>4</th>\n",
       "      <td>1435043</td>\n",
       "      <td>Community Health Assist Scheme (CHAS) Singapore</td>\n",
       "      <td>Community Health Assist Scheme (CHAS) Singapore</td>\n",
       "      <td>Alerts and Advisories,</td>\n",
       "      <td>https://ch-api.healthhub.sg/api/public/content...</td>\n",
       "      <td>https://www.healthhub.sg/a-z/costs-and-financi...</td>\n",
       "      <td>www.healthhub.sg/a-z/costs-and-financing/chas</td>\n",
       "      <td>chas</td>\n",
       "      <td>With a CHAS card, all Singapore citizens can r...</td>\n",
       "      <td>&lt;h2&gt;What is the Community Health Assist Scheme...</td>\n",
       "      <td>...</td>\n",
       "      <td>0.060281</td>\n",
       "      <td>0.512849</td>\n",
       "      <td>cost-and-financing</td>\n",
       "      <td>False</td>\n",
       "      <td>True</td>\n",
       "      <td>True</td>\n",
       "      <td>[All Pioneer Generation (PG) and Merdeka Gener...</td>\n",
       "      <td>[[www.chas.sg/apply, https://www.chas.sg/apply...</td>\n",
       "      <td>[[What is the Community Health Assist Scheme (...</td>\n",
       "      <td>What is the Community Health Assist Scheme (CH...</td>\n",
       "    </tr>\n",
       "    <tr>\n",
       "      <th>...</th>\n",
       "      <td>...</td>\n",
       "      <td>...</td>\n",
       "      <td>...</td>\n",
       "      <td>...</td>\n",
       "      <td>...</td>\n",
       "      <td>...</td>\n",
       "      <td>...</td>\n",
       "      <td>...</td>\n",
       "      <td>...</td>\n",
       "      <td>...</td>\n",
       "      <td>...</td>\n",
       "      <td>...</td>\n",
       "      <td>...</td>\n",
       "      <td>...</td>\n",
       "      <td>...</td>\n",
       "      <td>...</td>\n",
       "      <td>...</td>\n",
       "      <td>...</td>\n",
       "      <td>...</td>\n",
       "      <td>...</td>\n",
       "      <td>...</td>\n",
       "    </tr>\n",
       "    <tr>\n",
       "      <th>2608</th>\n",
       "      <td>1440763</td>\n",
       "      <td>Heart Failure Transitional Care Programme</td>\n",
       "      <td>Heart Failure Transitional Care Programme</td>\n",
       "      <td>Conditions and Illnesses,</td>\n",
       "      <td>https://ch-api.healthhub.sg/api/public/content...</td>\n",
       "      <td>https://www.healthhub.sg/a-z/support-groups-an...</td>\n",
       "      <td>www.healthhub.sg/a-z/support-groups-and-others...</td>\n",
       "      <td>transitional-care-programme-for-heart-failure</td>\n",
       "      <td>The team from NUHCS gives support to heart fai...</td>\n",
       "      <td>&lt;div class=\"ExternalClassFC126593610D4F0587A4B...</td>\n",
       "      <td>...</td>\n",
       "      <td>0.035071</td>\n",
       "      <td>0.880618</td>\n",
       "      <td>support-group-and-others</td>\n",
       "      <td>False</td>\n",
       "      <td>False</td>\n",
       "      <td>True</td>\n",
       "      <td>[]</td>\n",
       "      <td>[[charles_wu@nuhs.edu.sg, mailto: charles_wu@n...</td>\n",
       "      <td>[[Transitional Care for Heart Failure Patients...</td>\n",
       "      <td>Heart failure is the leading cause of rehospit...</td>\n",
       "    </tr>\n",
       "    <tr>\n",
       "      <th>2609</th>\n",
       "      <td>1440791</td>\n",
       "      <td>Brain and Head Injury Support Groups</td>\n",
       "      <td>Brain and Head Injury Support Groups</td>\n",
       "      <td>Alerts &amp; Advisories,</td>\n",
       "      <td>https://ch-api.healthhub.sg/api/public/content...</td>\n",
       "      <td>https://www.healthhub.sg/a-z/support-groups-an...</td>\n",
       "      <td>www.healthhub.sg/a-z/support-groups-and-others...</td>\n",
       "      <td>2015-NNI-support-group</td>\n",
       "      <td>Read on for a list of brain injury support gro...</td>\n",
       "      <td>&lt;div class=\"ExternalClass7C92735B78174928B287D...</td>\n",
       "      <td>...</td>\n",
       "      <td>0.033794</td>\n",
       "      <td>0.914412</td>\n",
       "      <td>support-group-and-others</td>\n",
       "      <td>False</td>\n",
       "      <td>False</td>\n",
       "      <td>False</td>\n",
       "      <td>[]</td>\n",
       "      <td>[[here, https://www.nni.com.sg/patient-care/br...</td>\n",
       "      <td>[[, h2], [Brain Tumour Society (Singapore)\\n, ...</td>\n",
       "      <td>Brain Tumour Society (Singapore)\\nThe Brain Tu...</td>\n",
       "    </tr>\n",
       "    <tr>\n",
       "      <th>2610</th>\n",
       "      <td>1440768</td>\n",
       "      <td>Ambulatory Nutrition Support</td>\n",
       "      <td>Ambulatory Nutrition Support</td>\n",
       "      <td>Conditions and Illnesses,</td>\n",
       "      <td>https://ch-api.healthhub.sg/api/public/content...</td>\n",
       "      <td>https://www.healthhub.sg/a-z/support-groups-an...</td>\n",
       "      <td>www.healthhub.sg/a-z/support-groups-and-others...</td>\n",
       "      <td>ambulatory-nutrition-support</td>\n",
       "      <td>Read about the ambulatory support benefits one...</td>\n",
       "      <td>&lt;div class=\"ExternalClass3FABAC9D59A64BCAB96D3...</td>\n",
       "      <td>...</td>\n",
       "      <td>0.029962</td>\n",
       "      <td>0.944373</td>\n",
       "      <td>support-group-and-others</td>\n",
       "      <td>False</td>\n",
       "      <td>False</td>\n",
       "      <td>False</td>\n",
       "      <td>[]</td>\n",
       "      <td>[[\\nNutrition and Dietetics, https://www.healt...</td>\n",
       "      <td>[[The Importance of Ambulatory Nutrition Suppo...</td>\n",
       "      <td>The Importance of Ambulatory Nutrition Support...</td>\n",
       "    </tr>\n",
       "    <tr>\n",
       "      <th>2611</th>\n",
       "      <td>1440766</td>\n",
       "      <td>LapBandits Support Group (Singapore)</td>\n",
       "      <td>LapBandits Support Group (Singapore)</td>\n",
       "      <td>Body Care,</td>\n",
       "      <td>https://ch-api.healthhub.sg/api/public/content...</td>\n",
       "      <td>https://www.healthhub.sg/a-z/support-groups-an...</td>\n",
       "      <td>www.healthhub.sg/a-z/support-groups-and-others...</td>\n",
       "      <td>singapore-lapbandits-support-group</td>\n",
       "      <td>Have you just undergone bariatric surgery for ...</td>\n",
       "      <td>&lt;div class=\"ExternalClassA4C749C7DB7647FBB6DEB...</td>\n",
       "      <td>...</td>\n",
       "      <td>0.028684</td>\n",
       "      <td>0.973058</td>\n",
       "      <td>support-group-and-others</td>\n",
       "      <td>True</td>\n",
       "      <td>False</td>\n",
       "      <td>False</td>\n",
       "      <td>[]</td>\n",
       "      <td>[]</td>\n",
       "      <td>[[About Khoo Teck Puat Hospital’s LapBandits S...</td>\n",
       "      <td>About Khoo Teck Puat Hospitals LapBandits Supp...</td>\n",
       "    </tr>\n",
       "    <tr>\n",
       "      <th>2612</th>\n",
       "      <td>1440762</td>\n",
       "      <td>Cardiac Rehabilitation Support Group</td>\n",
       "      <td>Cardiac Rehabilitation Support Group</td>\n",
       "      <td>Conditions and Illnesses,</td>\n",
       "      <td>https://ch-api.healthhub.sg/api/public/content...</td>\n",
       "      <td>https://www.healthhub.sg/a-z/support-groups-an...</td>\n",
       "      <td>www.healthhub.sg/a-z/support-groups-and-others...</td>\n",
       "      <td>cardiac-rehabilitation-support-group-local-exe...</td>\n",
       "      <td>Looking to improve your caregiving skills for ...</td>\n",
       "      <td>&lt;div class=\"ExternalClassD4367205B11F4638BFF1F...</td>\n",
       "      <td>...</td>\n",
       "      <td>0.026942</td>\n",
       "      <td>1.000000</td>\n",
       "      <td>support-group-and-others</td>\n",
       "      <td>False</td>\n",
       "      <td>False</td>\n",
       "      <td>False</td>\n",
       "      <td>[]</td>\n",
       "      <td>[]</td>\n",
       "      <td>[[Cardiac Rehabilitation Support Group Activit...</td>\n",
       "      <td>If you are caring for a loved one with cardiov...</td>\n",
       "    </tr>\n",
       "  </tbody>\n",
       "</table>\n",
       "<p>2613 rows × 33 columns</p>\n",
       "</div>"
      ],
      "text/plain": [
       "\n",
       "           id                                      content_name  \\\n",
       "\u001b[1;36m0\u001b[0m     \u001b[1;36m1435040\u001b[0m           Breast Screening Subsidies in Singapore   \n",
       "\u001b[1;36m1\u001b[0m     \u001b[1;36m1435071\u001b[0m                   Marriage and Parenthood Schemes   \n",
       "\u001b[1;36m2\u001b[0m     \u001b[1;36m1434993\u001b[0m                                          MediSave   \n",
       "\u001b[1;36m3\u001b[0m     \u001b[1;36m1435031\u001b[0m  Hospital Bills Financial Assistance in Singapore   \n",
       "\u001b[1;36m4\u001b[0m     \u001b[1;36m1435043\u001b[0m   Community Health Assist Scheme \u001b[1m(\u001b[0mCHAS\u001b[1m)\u001b[0m Singapore   \n",
       "\u001b[33m...\u001b[0m       \u001b[33m...\u001b[0m                                               \u001b[33m...\u001b[0m   \n",
       "\u001b[1;36m2608\u001b[0m  \u001b[1;36m1440763\u001b[0m         Heart Failure Transitional Care Programme   \n",
       "\u001b[1;36m2609\u001b[0m  \u001b[1;36m1440791\u001b[0m              Brain and Head Injury Support Groups   \n",
       "\u001b[1;36m2610\u001b[0m  \u001b[1;36m1440768\u001b[0m                      Ambulatory Nutrition Support   \n",
       "\u001b[1;36m2611\u001b[0m  \u001b[1;36m1440766\u001b[0m              LapBandits Support Group \u001b[1m(\u001b[0mSingapore\u001b[1m)\u001b[0m   \n",
       "\u001b[1;36m2612\u001b[0m  \u001b[1;36m1440762\u001b[0m              Cardiac Rehabilitation Support Group   \n",
       "\n",
       "                                                 title  \\\n",
       "\u001b[1;36m0\u001b[0m              Breast Screening Subsidies in Singapore   \n",
       "\u001b[1;36m1\u001b[0m                      Marriage and Parenthood Schemes   \n",
       "\u001b[1;36m2\u001b[0m                                             MediSave   \n",
       "\u001b[1;36m3\u001b[0m     Hospital Bills Financial Assistance in Singapore   \n",
       "\u001b[1;36m4\u001b[0m      Community Health Assist Scheme \u001b[1m(\u001b[0mCHAS\u001b[1m)\u001b[0m Singapore   \n",
       "\u001b[33m...\u001b[0m                                                \u001b[33m...\u001b[0m   \n",
       "\u001b[1;36m2608\u001b[0m         Heart Failure Transitional Care Programme   \n",
       "\u001b[1;36m2609\u001b[0m              Brain and Head Injury Support Groups   \n",
       "\u001b[1;36m2610\u001b[0m                      Ambulatory Nutrition Support   \n",
       "\u001b[1;36m2611\u001b[0m              LapBandits Support Group \u001b[1m(\u001b[0mSingapore\u001b[1m)\u001b[0m   \n",
       "\u001b[1;36m2612\u001b[0m              Cardiac Rehabilitation Support Group   \n",
       "\n",
       "         article_category_names  \\\n",
       "\u001b[1;36m0\u001b[0m     Conditions and Illnesses,   \n",
       "\u001b[1;36m1\u001b[0m                    Body Care,   \n",
       "\u001b[1;36m2\u001b[0m          Alerts & Advisories,   \n",
       "\u001b[1;36m3\u001b[0m                    Body Care,   \n",
       "\u001b[1;36m4\u001b[0m        Alerts and Advisories,   \n",
       "\u001b[33m...\u001b[0m                         \u001b[33m...\u001b[0m   \n",
       "\u001b[1;36m2608\u001b[0m  Conditions and Illnesses,   \n",
       "\u001b[1;36m2609\u001b[0m       Alerts & Advisories,   \n",
       "\u001b[1;36m2610\u001b[0m  Conditions and Illnesses,   \n",
       "\u001b[1;36m2611\u001b[0m                 Body Care,   \n",
       "\u001b[1;36m2612\u001b[0m  Conditions and Illnesses,   \n",
       "\n",
       "                                        cover_image_url  \\\n",
       "\u001b[1;36m0\u001b[0m     \u001b[4;94mhttps://ch-api.healthhub.sg/api/public/content...\u001b[0m   \n",
       "\u001b[1;36m1\u001b[0m     \u001b[4;94mhttps://ch-api.healthhub.sg/api/public/content...\u001b[0m   \n",
       "\u001b[1;36m2\u001b[0m     \u001b[4;94mhttps://ch-api.healthhub.sg/api/public/content...\u001b[0m   \n",
       "\u001b[1;36m3\u001b[0m     \u001b[4;94mhttps://ch-api.healthhub.sg/api/public/content...\u001b[0m   \n",
       "\u001b[1;36m4\u001b[0m     \u001b[4;94mhttps://ch-api.healthhub.sg/api/public/content...\u001b[0m   \n",
       "\u001b[33m...\u001b[0m                                                 \u001b[33m...\u001b[0m   \n",
       "\u001b[1;36m2608\u001b[0m  \u001b[4;94mhttps://ch-api.healthhub.sg/api/public/content...\u001b[0m   \n",
       "\u001b[1;36m2609\u001b[0m  \u001b[4;94mhttps://ch-api.healthhub.sg/api/public/content...\u001b[0m   \n",
       "\u001b[1;36m2610\u001b[0m  \u001b[4;94mhttps://ch-api.healthhub.sg/api/public/content...\u001b[0m   \n",
       "\u001b[1;36m2611\u001b[0m  \u001b[4;94mhttps://ch-api.healthhub.sg/api/public/content...\u001b[0m   \n",
       "\u001b[1;36m2612\u001b[0m  \u001b[4;94mhttps://ch-api.healthhub.sg/api/public/content...\u001b[0m   \n",
       "\n",
       "                                               full_url  \\\n",
       "\u001b[1;36m0\u001b[0m     \u001b[4;94mhttps://www.healthhub.sg/a-z/costs-and-financi...\u001b[0m   \n",
       "\u001b[1;36m1\u001b[0m     \u001b[4;94mhttps://www.healthhub.sg/a-z/costs-and-financi...\u001b[0m   \n",
       "\u001b[1;36m2\u001b[0m     \u001b[4;94mhttps://www.healthhub.sg/a-z/costs-and-financi...\u001b[0m   \n",
       "\u001b[1;36m3\u001b[0m     \u001b[4;94mhttps://www.healthhub.sg/a-z/costs-and-financi...\u001b[0m   \n",
       "\u001b[1;36m4\u001b[0m     \u001b[4;94mhttps://www.healthhub.sg/a-z/costs-and-financi...\u001b[0m   \n",
       "\u001b[33m...\u001b[0m                                                 \u001b[33m...\u001b[0m   \n",
       "\u001b[1;36m2608\u001b[0m  \u001b[4;94mhttps://www.healthhub.sg/a-z/support-groups-an...\u001b[0m   \n",
       "\u001b[1;36m2609\u001b[0m  \u001b[4;94mhttps://www.healthhub.sg/a-z/support-groups-an...\u001b[0m   \n",
       "\u001b[1;36m2610\u001b[0m  \u001b[4;94mhttps://www.healthhub.sg/a-z/support-groups-an...\u001b[0m   \n",
       "\u001b[1;36m2611\u001b[0m  \u001b[4;94mhttps://www.healthhub.sg/a-z/support-groups-an...\u001b[0m   \n",
       "\u001b[1;36m2612\u001b[0m  \u001b[4;94mhttps://www.healthhub.sg/a-z/support-groups-an...\u001b[0m   \n",
       "\n",
       "                                              full_url2  \\\n",
       "\u001b[1;36m0\u001b[0m     www.healthhub.sg/a-z/costs-and-financing/breas\u001b[33m...\u001b[0m   \n",
       "\u001b[1;36m1\u001b[0m     www.healthhub.sg/a-z/costs-and-financing/marri\u001b[33m...\u001b[0m   \n",
       "\u001b[1;36m2\u001b[0m     www.healthhub.sg/a-z/costs-and-financing/medisave   \n",
       "\u001b[1;36m3\u001b[0m     www.healthhub.sg/a-z/costs-and-financing/finan\u001b[33m...\u001b[0m   \n",
       "\u001b[1;36m4\u001b[0m         www.healthhub.sg/a-z/costs-and-financing/chas   \n",
       "\u001b[33m...\u001b[0m                                                 \u001b[33m...\u001b[0m   \n",
       "\u001b[1;36m2608\u001b[0m  www.healthhub.sg/a-z/support-groups-and-others\u001b[33m...\u001b[0m   \n",
       "\u001b[1;36m2609\u001b[0m  www.healthhub.sg/a-z/support-groups-and-others\u001b[33m...\u001b[0m   \n",
       "\u001b[1;36m2610\u001b[0m  www.healthhub.sg/a-z/support-groups-and-others\u001b[33m...\u001b[0m   \n",
       "\u001b[1;36m2611\u001b[0m  www.healthhub.sg/a-z/support-groups-and-others\u001b[33m...\u001b[0m   \n",
       "\u001b[1;36m2612\u001b[0m  www.healthhub.sg/a-z/support-groups-and-others\u001b[33m...\u001b[0m   \n",
       "\n",
       "                                           friendly_url  \\\n",
       "\u001b[1;36m0\u001b[0m                     breast-cancer-screening-subsidies   \n",
       "\u001b[1;36m1\u001b[0m                            marriage_parenthood_scheme   \n",
       "\u001b[1;36m2\u001b[0m                                              medisave   \n",
       "\u001b[1;36m3\u001b[0m     financial-assistance-for-local-patients-in-sin\u001b[33m...\u001b[0m   \n",
       "\u001b[1;36m4\u001b[0m                                                  chas   \n",
       "\u001b[33m...\u001b[0m                                                 \u001b[33m...\u001b[0m   \n",
       "\u001b[1;36m2608\u001b[0m      transitional-care-programme-for-heart-failure   \n",
       "\u001b[1;36m2609\u001b[0m                             \u001b[1;36m2015\u001b[0m-NNI-support-group   \n",
       "\u001b[1;36m2610\u001b[0m                       ambulatory-nutrition-support   \n",
       "\u001b[1;36m2611\u001b[0m                 singapore-lapbandits-support-group   \n",
       "\u001b[1;36m2612\u001b[0m  cardiac-rehabilitation-support-group-local-exe\u001b[33m...\u001b[0m   \n",
       "\n",
       "                                   category_description  \\\n",
       "\u001b[1;36m0\u001b[0m     Here’s all you need to know about breast cance\u001b[33m...\u001b[0m   \n",
       "\u001b[1;36m1\u001b[0m     New parents and couples looking to conceive ca\u001b[33m...\u001b[0m   \n",
       "\u001b[1;36m2\u001b[0m     MediSave is the national medical savings schem\u001b[33m...\u001b[0m   \n",
       "\u001b[1;36m3\u001b[0m     Having trouble paying your medical bill? Here’\u001b[33m...\u001b[0m   \n",
       "\u001b[1;36m4\u001b[0m     With a CHAS card, all Singapore citizens can r\u001b[33m...\u001b[0m   \n",
       "\u001b[33m...\u001b[0m                                                 \u001b[33m...\u001b[0m   \n",
       "\u001b[1;36m2608\u001b[0m  The team from NUHCS gives support to heart fai\u001b[33m...\u001b[0m   \n",
       "\u001b[1;36m2609\u001b[0m  Read on for a list of brain injury support gro\u001b[33m...\u001b[0m   \n",
       "\u001b[1;36m2610\u001b[0m  Read about the ambulatory support benefits one\u001b[33m...\u001b[0m   \n",
       "\u001b[1;36m2611\u001b[0m  Have you just undergone bariatric surgery for \u001b[33m...\u001b[0m   \n",
       "\u001b[1;36m2612\u001b[0m  Looking to improve your caregiving skills for \u001b[33m...\u001b[0m   \n",
       "\n",
       "                                           content_body  \u001b[33m...\u001b[0m  \\\n",
       "\u001b[1;36m0\u001b[0m     \u001b[1m<\u001b[0m\u001b[1;95mdiv\u001b[0m\u001b[39m \u001b[0m\u001b[33mclass\u001b[0m\u001b[39m=\u001b[0m\u001b[35m\"ExternalClass07C58E0D957B4AA7B14FC\u001b[0m\u001b[33m...\u001b[0m\u001b[39m  \u001b[0m\u001b[33m...\u001b[0m\u001b[39m   \u001b[0m\n",
       "\u001b[1;36m1\u001b[0m\u001b[39m     <div \u001b[0m\u001b[33mclass\u001b[0m\u001b[39m=\u001b[0m\u001b[35m\"ExternalClassE1D82270F17241E495537\u001b[0m\u001b[33m...\u001b[0m\u001b[39m  \u001b[0m\u001b[33m...\u001b[0m\u001b[39m   \u001b[0m\n",
       "\u001b[1;36m2\u001b[0m\u001b[39m     <div \u001b[0m\u001b[33mclass\u001b[0m\u001b[39m=\u001b[0m\u001b[35m\"ExternalClass67AD25F1F8B64B349E515\u001b[0m\u001b[33m...\u001b[0m\u001b[39m  \u001b[0m\u001b[33m...\u001b[0m\u001b[39m   \u001b[0m\n",
       "\u001b[1;36m3\u001b[0m\u001b[39m     <div \u001b[0m\u001b[33mclass\u001b[0m\u001b[39m=\u001b[0m\u001b[35m\"ExternalClassE335708125E743FDAA331\u001b[0m\u001b[33m...\u001b[0m\u001b[39m  \u001b[0m\u001b[33m...\u001b[0m\u001b[39m   \u001b[0m\n",
       "\u001b[1;36m4\u001b[0m\u001b[39m     <h2\u001b[0m\u001b[1m>\u001b[0mWhat is the Community Health Assist Scheme\u001b[33m...\u001b[0m  \u001b[33m...\u001b[0m   \n",
       "\u001b[33m...\u001b[0m                                                 \u001b[33m...\u001b[0m  \u001b[33m...\u001b[0m   \n",
       "\u001b[1;36m2608\u001b[0m  <div \u001b[33mclass\u001b[0m=\u001b[35m\"ExternalClassFC126593610D4F0587A4B\u001b[0m\u001b[33m...\u001b[0m  \u001b[33m...\u001b[0m   \n",
       "\u001b[1;36m2609\u001b[0m  <div \u001b[33mclass\u001b[0m=\u001b[35m\"ExternalClass7C92735B78174928B287D\u001b[0m\u001b[33m...\u001b[0m  \u001b[33m...\u001b[0m   \n",
       "\u001b[1;36m2610\u001b[0m  <div \u001b[33mclass\u001b[0m=\u001b[35m\"ExternalClass3FABAC9D59A64BCAB96D3\u001b[0m\u001b[33m...\u001b[0m  \u001b[33m...\u001b[0m   \n",
       "\u001b[1;36m2611\u001b[0m  <div \u001b[33mclass\u001b[0m=\u001b[35m\"ExternalClassA4C749C7DB7647FBB6DEB\u001b[0m\u001b[33m...\u001b[0m  \u001b[33m...\u001b[0m   \n",
       "\u001b[1;36m2612\u001b[0m  <div \u001b[33mclass\u001b[0m=\u001b[35m\"ExternalClassD4367205B11F4638BFF1F\u001b[0m\u001b[33m...\u001b[0m  \u001b[33m...\u001b[0m   \n",
       "\n",
       "     percentage_total_views cumulative_percentage_total_views  \\\n",
       "\u001b[1;36m0\u001b[0m                  \u001b[1;36m0.216244\u001b[0m                          \u001b[1;36m0.216244\u001b[0m   \n",
       "\u001b[1;36m1\u001b[0m                  \u001b[1;36m0.111180\u001b[0m                          \u001b[1;36m0.327423\u001b[0m   \n",
       "\u001b[1;36m2\u001b[0m                  \u001b[1;36m0.063847\u001b[0m                          \u001b[1;36m0.391271\u001b[0m   \n",
       "\u001b[1;36m3\u001b[0m                  \u001b[1;36m0.061297\u001b[0m                          \u001b[1;36m0.452568\u001b[0m   \n",
       "\u001b[1;36m4\u001b[0m                  \u001b[1;36m0.060281\u001b[0m                          \u001b[1;36m0.512849\u001b[0m   \n",
       "\u001b[33m...\u001b[0m                     \u001b[33m...\u001b[0m                               \u001b[33m...\u001b[0m   \n",
       "\u001b[1;36m2608\u001b[0m               \u001b[1;36m0.035071\u001b[0m                          \u001b[1;36m0.880618\u001b[0m   \n",
       "\u001b[1;36m2609\u001b[0m               \u001b[1;36m0.033794\u001b[0m                          \u001b[1;36m0.914412\u001b[0m   \n",
       "\u001b[1;36m2610\u001b[0m               \u001b[1;36m0.029962\u001b[0m                          \u001b[1;36m0.944373\u001b[0m   \n",
       "\u001b[1;36m2611\u001b[0m               \u001b[1;36m0.028684\u001b[0m                          \u001b[1;36m0.973058\u001b[0m   \n",
       "\u001b[1;36m2612\u001b[0m               \u001b[1;36m0.026942\u001b[0m                          \u001b[1;36m1.000000\u001b[0m   \n",
       "\n",
       "              content_category to_remove has_table  has_image  \\\n",
       "\u001b[1;36m0\u001b[0m           cost-and-financing     \u001b[3;91mFalse\u001b[0m      \u001b[3;92mTrue\u001b[0m      \u001b[3;91mFalse\u001b[0m   \n",
       "\u001b[1;36m1\u001b[0m           cost-and-financing     \u001b[3;91mFalse\u001b[0m      \u001b[3;92mTrue\u001b[0m      \u001b[3;91mFalse\u001b[0m   \n",
       "\u001b[1;36m2\u001b[0m           cost-and-financing     \u001b[3;91mFalse\u001b[0m     \u001b[3;91mFalse\u001b[0m      \u001b[3;91mFalse\u001b[0m   \n",
       "\u001b[1;36m3\u001b[0m           cost-and-financing     \u001b[3;91mFalse\u001b[0m     \u001b[3;91mFalse\u001b[0m      \u001b[3;91mFalse\u001b[0m   \n",
       "\u001b[1;36m4\u001b[0m           cost-and-financing     \u001b[3;91mFalse\u001b[0m      \u001b[3;92mTrue\u001b[0m       \u001b[3;92mTrue\u001b[0m   \n",
       "\u001b[33m...\u001b[0m                        \u001b[33m...\u001b[0m       \u001b[33m...\u001b[0m       \u001b[33m...\u001b[0m        \u001b[33m...\u001b[0m   \n",
       "\u001b[1;36m2608\u001b[0m  support-group-and-others     \u001b[3;91mFalse\u001b[0m     \u001b[3;91mFalse\u001b[0m       \u001b[3;92mTrue\u001b[0m   \n",
       "\u001b[1;36m2609\u001b[0m  support-group-and-others     \u001b[3;91mFalse\u001b[0m     \u001b[3;91mFalse\u001b[0m      \u001b[3;91mFalse\u001b[0m   \n",
       "\u001b[1;36m2610\u001b[0m  support-group-and-others     \u001b[3;91mFalse\u001b[0m     \u001b[3;91mFalse\u001b[0m      \u001b[3;91mFalse\u001b[0m   \n",
       "\u001b[1;36m2611\u001b[0m  support-group-and-others      \u001b[3;92mTrue\u001b[0m     \u001b[3;91mFalse\u001b[0m      \u001b[3;91mFalse\u001b[0m   \n",
       "\u001b[1;36m2612\u001b[0m  support-group-and-others     \u001b[3;91mFalse\u001b[0m     \u001b[3;91mFalse\u001b[0m      \u001b[3;91mFalse\u001b[0m   \n",
       "\n",
       "                                       related_sections  \\\n",
       "\u001b[1;36m0\u001b[0m                      \u001b[1m[\u001b[0mCancer Facts You Cannot Ignore\u001b[1m]\u001b[0m   \n",
       "\u001b[1;36m1\u001b[0m     \u001b[1m[\u001b[0mMediSave, Baby Bonus What You Need to Know, I\u001b[33m...\u001b[0m   \n",
       "\u001b[1;36m2\u001b[0m     \u001b[1m[\u001b[0mA Way to Reduce Outpatient Cost for Chronic D\u001b[33m...\u001b[0m   \n",
       "\u001b[1;36m3\u001b[0m                                                    \u001b[1m[\u001b[0m\u001b[1m]\u001b[0m   \n",
       "\u001b[1;36m4\u001b[0m     \u001b[1m[\u001b[0mAll Pioneer Generation \u001b[1m(\u001b[0mPG\u001b[1m)\u001b[0m and Merdeka Gener\u001b[33m...\u001b[0m   \n",
       "\u001b[33m...\u001b[0m                                                 \u001b[33m...\u001b[0m   \n",
       "\u001b[1;36m2608\u001b[0m                                                 \u001b[1m[\u001b[0m\u001b[1m]\u001b[0m   \n",
       "\u001b[1;36m2609\u001b[0m                                                 \u001b[1m[\u001b[0m\u001b[1m]\u001b[0m   \n",
       "\u001b[1;36m2610\u001b[0m                                                 \u001b[1m[\u001b[0m\u001b[1m]\u001b[0m   \n",
       "\u001b[1;36m2611\u001b[0m                                                 \u001b[1m[\u001b[0m\u001b[1m]\u001b[0m   \n",
       "\u001b[1;36m2612\u001b[0m                                                 \u001b[1m[\u001b[0m\u001b[1m]\u001b[0m   \n",
       "\n",
       "                                        extracted_links  \\\n",
       "\u001b[1;36m0\u001b[0m     \u001b[1m[\u001b[0m\u001b[1m[\u001b[0mCancer Facts You Cannot Ignore, \u001b[4;94mhttps://www....\u001b[0m   \n",
       "\u001b[1;36m1\u001b[0m     \u001b[1m[\u001b[0m\u001b[1m[\u001b[0mHow to Submit Claims, \u001b[4;94mhttps://crms.moh.gov.s...\u001b[0m   \n",
       "\u001b[1;36m2\u001b[0m     \u001b[1m[\u001b[0m\u001b[1m[\u001b[0mA Way to Reduce Outpatient Cost for Chronics\u001b[33m...\u001b[0m   \n",
       "\u001b[1;36m3\u001b[0m     \u001b[1m[\u001b[0m\u001b[1m[\u001b[0mMedifund, \u001b[4;94mhttps://www.healthhub.sg/a-z/costs...\u001b[0m   \n",
       "\u001b[1;36m4\u001b[0m     \u001b[1m[\u001b[0m\u001b[1m[\u001b[0mwww.chas.sg/apply, \u001b[4;94mhttps://www.chas.sg/apply...\u001b[0m   \n",
       "\u001b[33m...\u001b[0m                                                 \u001b[33m...\u001b[0m   \n",
       "\u001b[1;36m2608\u001b[0m  \u001b[1m[\u001b[0m\u001b[1m[\u001b[0mcharles_wu@nuhs.edu.sg, mailto: charles_wu@n\u001b[33m...\u001b[0m   \n",
       "\u001b[1;36m2609\u001b[0m  \u001b[1m[\u001b[0m\u001b[1m[\u001b[0mhere, \u001b[4;94mhttps://www.nni.com.sg/patient-care/br...\u001b[0m   \n",
       "\u001b[1;36m2610\u001b[0m  \u001b[1m[\u001b[0m\u001b[1m[\u001b[0m\\nNutrition and Dietetics, \u001b[4;94mhttps://www.healt...\u001b[0m   \n",
       "\u001b[1;36m2611\u001b[0m                                                 \u001b[1m[\u001b[0m\u001b[1m]\u001b[0m   \n",
       "\u001b[1;36m2612\u001b[0m                                                 \u001b[1m[\u001b[0m\u001b[1m]\u001b[0m   \n",
       "\n",
       "                                      extracted_headers  \\\n",
       "\u001b[1;36m0\u001b[0m     \u001b[1m[\u001b[0m\u001b[1m[\u001b[0mBreast Cancer Screening, h2\u001b[1m]\u001b[0m, \u001b[1m[\u001b[0mSubsidy for M\u001b[33m...\u001b[0m   \n",
       "\u001b[1;36m1\u001b[0m     \u001b[1m[\u001b[0m\u001b[1m[\u001b[0mMediSave Maternity Package, h2\u001b[1m]\u001b[0m, \u001b[1m[\u001b[0mExamples o\u001b[33m...\u001b[0m   \n",
       "\u001b[1;36m2\u001b[0m     \u001b[1m[\u001b[0m\u001b[1m[\u001b[0m, h2\u001b[1m]\u001b[0m, \u001b[1m[\u001b[0mWhat is MediSave?, h2\u001b[1m]\u001b[0m, \u001b[1m[\u001b[0mContributin\u001b[33m...\u001b[0m   \n",
       "\u001b[1;36m3\u001b[0m     \u001b[1m[\u001b[0m\u001b[1m[\u001b[0mMedifund: Hospital Bill Payment Assistance, \u001b[33m...\u001b[0m   \n",
       "\u001b[1;36m4\u001b[0m     \u001b[1m[\u001b[0m\u001b[1m[\u001b[0mWhat is the Community Health Assist Scheme \u001b[1m(\u001b[0m\u001b[33m...\u001b[0m   \n",
       "\u001b[33m...\u001b[0m                                                 \u001b[33m...\u001b[0m   \n",
       "\u001b[1;36m2608\u001b[0m  \u001b[1m[\u001b[0m\u001b[1m[\u001b[0mTransitional Care for Heart Failure Patients\u001b[33m...\u001b[0m   \n",
       "\u001b[1;36m2609\u001b[0m  \u001b[1m[\u001b[0m\u001b[1m[\u001b[0m, h2\u001b[1m]\u001b[0m, \u001b[1m[\u001b[0mBrain Tumour Society \u001b[1m(\u001b[0mSingapore\u001b[1m)\u001b[0m\\n, \u001b[33m...\u001b[0m   \n",
       "\u001b[1;36m2610\u001b[0m  \u001b[1m[\u001b[0m\u001b[1m[\u001b[0mThe Importance of Ambulatory Nutrition Suppo\u001b[33m...\u001b[0m   \n",
       "\u001b[1;36m2611\u001b[0m  \u001b[1m[\u001b[0m\u001b[1m[\u001b[0mAbout Khoo Teck Puat Hospital’s LapBandits S\u001b[33m...\u001b[0m   \n",
       "\u001b[1;36m2612\u001b[0m  \u001b[1m[\u001b[0m\u001b[1m[\u001b[0mCardiac Rehabilitation Support Group Activit\u001b[33m...\u001b[0m   \n",
       "\n",
       "                                 extracted_content_body  \n",
       "\u001b[1;36m0\u001b[0m     Breast cancer is the number one cancer among w\u001b[33m...\u001b[0m  \n",
       "\u001b[1;36m1\u001b[0m     MediSave Maternity Package\\nWith the MediSave \u001b[33m...\u001b[0m  \n",
       "\u001b[1;36m2\u001b[0m     What is MediSave?\\nMediSave, introduced in Apr\u001b[33m...\u001b[0m  \n",
       "\u001b[1;36m3\u001b[0m     Patients or family members who have difficulty\u001b[33m...\u001b[0m  \n",
       "\u001b[1;36m4\u001b[0m     What is the Community Health Assist Scheme \u001b[1m(\u001b[0mCH\u001b[33m...\u001b[0m  \n",
       "\u001b[33m...\u001b[0m                                                 \u001b[33m...\u001b[0m  \n",
       "\u001b[1;36m2608\u001b[0m  Heart failure is the leading cause of rehospit\u001b[33m...\u001b[0m  \n",
       "\u001b[1;36m2609\u001b[0m  Brain Tumour Society \u001b[1m(\u001b[0mSingapore\u001b[1m)\u001b[0m\\nThe Brain Tu\u001b[33m...\u001b[0m  \n",
       "\u001b[1;36m2610\u001b[0m  The Importance of Ambulatory Nutrition Support\u001b[33m...\u001b[0m  \n",
       "\u001b[1;36m2611\u001b[0m  About Khoo Teck Puat Hospitals LapBandits Supp\u001b[33m...\u001b[0m  \n",
       "\u001b[1;36m2612\u001b[0m  If you are caring for a loved one with cardiov\u001b[33m...\u001b[0m  \n",
       "\n",
       "\u001b[1m[\u001b[0m\u001b[1;36m2613\u001b[0m rows x \u001b[1;36m33\u001b[0m columns\u001b[1m]\u001b[0m"
      ]
     },
     "execution_count": 4,
     "metadata": {},
     "output_type": "execute_result"
    }
   ],
   "source": [
    "# ruff: noqa: F821\n",
    "merged_data = catalog.load(\"merged_data\")\n",
    "merged_data"
   ]
  },
  {
   "cell_type": "code",
   "execution_count": 5,
   "metadata": {},
   "outputs": [
    {
     "data": {
      "text/html": [
       "<pre style=\"white-space:pre;overflow-x:auto;line-height:normal;font-family:Menlo,'DejaVu Sans Mono',consolas,'Courier New',monospace\"></pre>\n"
      ],
      "text/plain": []
     },
     "metadata": {},
     "output_type": "display_data"
    },
    {
     "data": {
      "text/plain": [
       "\n",
       "content_category\n",
       "live-healthy-articles          \u001b[1;36m1155\u001b[0m\n",
       "medications                     \u001b[1;36m579\u001b[0m\n",
       "program-sub-pages               \u001b[1;36m350\u001b[0m\n",
       "diseases-and-conditions         \u001b[1;36m325\u001b[0m\n",
       "programs                         \u001b[1;36m89\u001b[0m\n",
       "medical-care-and-facilities      \u001b[1;36m59\u001b[0m\n",
       "cost-and-financing               \u001b[1;36m27\u001b[0m\n",
       "health-statistics                \u001b[1;36m15\u001b[0m\n",
       "support-group-and-others         \u001b[1;36m14\u001b[0m\n",
       "Name: count, dtype: int64"
      ]
     },
     "execution_count": 5,
     "metadata": {},
     "output_type": "execute_result"
    }
   ],
   "source": [
    "merged_data[\"content_category\"].value_counts().sort_values(ascending=False)"
   ]
  },
  {
   "cell_type": "code",
   "execution_count": 6,
   "metadata": {},
   "outputs": [
    {
     "data": {
      "text/html": [
       "<pre style=\"white-space:pre;overflow-x:auto;line-height:normal;font-family:Menlo,'DejaVu Sans Mono',consolas,'Courier New',monospace\"></pre>\n"
      ],
      "text/plain": []
     },
     "metadata": {},
     "output_type": "display_data"
    },
    {
     "data": {
      "text/plain": [
       "\n",
       "content_category\n",
       "program-sub-pages              \u001b[1;36m213\u001b[0m\n",
       "programs                        \u001b[1;36m70\u001b[0m\n",
       "live-healthy-articles           \u001b[1;36m45\u001b[0m\n",
       "diseases-and-conditions         \u001b[1;36m16\u001b[0m\n",
       "health-statistics                \u001b[1;36m8\u001b[0m\n",
       "medications                      \u001b[1;36m7\u001b[0m\n",
       "cost-and-financing               \u001b[1;36m4\u001b[0m\n",
       "medical-care-and-facilities      \u001b[1;36m2\u001b[0m\n",
       "support-group-and-others         \u001b[1;36m2\u001b[0m\n",
       "Name: count, dtype: int64"
      ]
     },
     "execution_count": 6,
     "metadata": {},
     "output_type": "execute_result"
    }
   ],
   "source": [
    "merged_data.groupby(by=\"content_category\")[\"to_remove\"].value_counts().loc[\n",
    "    :, True\n",
    "].sort_values(ascending=False)"
   ]
  },
  {
   "cell_type": "code",
   "execution_count": 7,
   "metadata": {},
   "outputs": [
    {
     "data": {
      "text/html": [
       "<pre style=\"white-space:pre;overflow-x:auto;line-height:normal;font-family:Menlo,'DejaVu Sans Mono',consolas,'Courier New',monospace\"></pre>\n"
      ],
      "text/plain": []
     },
     "metadata": {},
     "output_type": "display_data"
    },
    {
     "data": {
      "text/plain": [
       "\n",
       "content_category\n",
       "programs                       \u001b[1;36m78.65\u001b[0m\n",
       "program-sub-pages              \u001b[1;36m60.86\u001b[0m\n",
       "health-statistics              \u001b[1;36m53.33\u001b[0m\n",
       "cost-and-financing             \u001b[1;36m14.81\u001b[0m\n",
       "support-group-and-others       \u001b[1;36m14.29\u001b[0m\n",
       "diseases-and-conditions         \u001b[1;36m4.92\u001b[0m\n",
       "live-healthy-articles           \u001b[1;36m3.90\u001b[0m\n",
       "medical-care-and-facilities     \u001b[1;36m3.39\u001b[0m\n",
       "medications                     \u001b[1;36m1.21\u001b[0m\n",
       "Name: proportion, dtype: float64"
      ]
     },
     "execution_count": 7,
     "metadata": {},
     "output_type": "execute_result"
    }
   ],
   "source": [
    "(\n",
    "    merged_data.groupby(by=\"content_category\")[\"to_remove\"]\n",
    "    .value_counts(normalize=True)\n",
    "    .loc[:, True]\n",
    "    .sort_values(ascending=False)\n",
    "    * 100.00\n",
    ").round(2)"
   ]
  },
  {
   "cell_type": "markdown",
   "metadata": {},
   "source": [
    "## NaN"
   ]
  },
  {
   "cell_type": "code",
   "execution_count": 8,
   "metadata": {},
   "outputs": [
    {
     "data": {
      "text/html": [
       "<pre style=\"white-space:pre;overflow-x:auto;line-height:normal;font-family:Menlo,'DejaVu Sans Mono',consolas,'Courier New',monospace\"></pre>\n"
      ],
      "text/plain": []
     },
     "metadata": {},
     "output_type": "display_data"
    },
    {
     "data": {
      "text/plain": [
       "\n",
       "content_category\n",
       "program-sub-pages              \u001b[1;36m6\u001b[0m\n",
       "cost-and-financing             \u001b[1;36m2\u001b[0m\n",
       "programs                       \u001b[1;36m2\u001b[0m\n",
       "medical-care-and-facilities    \u001b[1;36m1\u001b[0m\n",
       "diseases-and-conditions        \u001b[1;36m0\u001b[0m\n",
       "health-statistics              \u001b[1;36m0\u001b[0m\n",
       "live-healthy-articles          \u001b[1;36m0\u001b[0m\n",
       "medications                    \u001b[1;36m0\u001b[0m\n",
       "support-group-and-others       \u001b[1;36m0\u001b[0m\n",
       "Name: content_body, dtype: int64"
      ]
     },
     "execution_count": 8,
     "metadata": {},
     "output_type": "execute_result"
    }
   ],
   "source": [
    "merged_data.groupby(by=\"content_category\")[\"content_body\"].apply(\n",
    "    lambda x: x.isna().sum()\n",
    ").sort_values(ascending=False)"
   ]
  },
  {
   "cell_type": "code",
   "execution_count": 9,
   "metadata": {},
   "outputs": [
    {
     "data": {
      "text/html": [
       "<pre style=\"white-space:pre;overflow-x:auto;line-height:normal;font-family:Menlo,'DejaVu Sans Mono',consolas,'Courier New',monospace\"></pre>\n"
      ],
      "text/plain": []
     },
     "metadata": {},
     "output_type": "display_data"
    },
    {
     "data": {
      "text/html": [
       "<div>\n",
       "<style scoped>\n",
       "    .dataframe tbody tr th:only-of-type {\n",
       "        vertical-align: middle;\n",
       "    }\n",
       "\n",
       "    .dataframe tbody tr th {\n",
       "        vertical-align: top;\n",
       "    }\n",
       "\n",
       "    .dataframe thead th {\n",
       "        text-align: right;\n",
       "    }\n",
       "</style>\n",
       "<table border=\"1\" class=\"dataframe\">\n",
       "  <thead>\n",
       "    <tr style=\"text-align: right;\">\n",
       "      <th></th>\n",
       "      <th>id</th>\n",
       "      <th>content_name</th>\n",
       "      <th>title</th>\n",
       "      <th>article_category_names</th>\n",
       "      <th>cover_image_url</th>\n",
       "      <th>full_url</th>\n",
       "      <th>full_url2</th>\n",
       "      <th>friendly_url</th>\n",
       "      <th>category_description</th>\n",
       "      <th>content_body</th>\n",
       "      <th>...</th>\n",
       "      <th>percentage_total_views</th>\n",
       "      <th>cumulative_percentage_total_views</th>\n",
       "      <th>content_category</th>\n",
       "      <th>to_remove</th>\n",
       "      <th>has_table</th>\n",
       "      <th>has_image</th>\n",
       "      <th>related_sections</th>\n",
       "      <th>extracted_links</th>\n",
       "      <th>extracted_headers</th>\n",
       "      <th>extracted_content_body</th>\n",
       "    </tr>\n",
       "  </thead>\n",
       "  <tbody>\n",
       "    <tr>\n",
       "      <th>24</th>\n",
       "      <td>1468064</td>\n",
       "      <td>1Cost and Financing</td>\n",
       "      <td>1Cost and Financing</td>\n",
       "      <td>None</td>\n",
       "      <td>None</td>\n",
       "      <td>https://www.healthhub.sg/a-z/costs-and-financi...</td>\n",
       "      <td>www.healthhub.sg/a-z/costs-and-financing/1Cost...</td>\n",
       "      <td>1Cost-and-Financing</td>\n",
       "      <td>None</td>\n",
       "      <td>None</td>\n",
       "      <td>...</td>\n",
       "      <td>0.0</td>\n",
       "      <td>1.0</td>\n",
       "      <td>cost-and-financing</td>\n",
       "      <td>True</td>\n",
       "      <td>None</td>\n",
       "      <td>None</td>\n",
       "      <td>None</td>\n",
       "      <td>None</td>\n",
       "      <td>None</td>\n",
       "      <td>None</td>\n",
       "    </tr>\n",
       "    <tr>\n",
       "      <th>26</th>\n",
       "      <td>1468209</td>\n",
       "      <td>1testcnf2</td>\n",
       "      <td>1testcnf2</td>\n",
       "      <td>None</td>\n",
       "      <td>None</td>\n",
       "      <td>https://www.healthhub.sg/a-z/costs-and-financi...</td>\n",
       "      <td>www.healthhub.sg/a-z/costs-and-financing/1test...</td>\n",
       "      <td>1testcnf2</td>\n",
       "      <td>None</td>\n",
       "      <td>None</td>\n",
       "      <td>...</td>\n",
       "      <td>0.0</td>\n",
       "      <td>1.0</td>\n",
       "      <td>cost-and-financing</td>\n",
       "      <td>True</td>\n",
       "      <td>None</td>\n",
       "      <td>None</td>\n",
       "      <td>None</td>\n",
       "      <td>None</td>\n",
       "      <td>None</td>\n",
       "      <td>None</td>\n",
       "    </tr>\n",
       "  </tbody>\n",
       "</table>\n",
       "<p>2 rows × 33 columns</p>\n",
       "</div>"
      ],
      "text/plain": [
       "\n",
       "         id         content_name                title article_category_names  \\\n",
       "\u001b[1;36m24\u001b[0m  \u001b[1;36m1468064\u001b[0m  1Cost and Financing  1Cost and Financing                   \u001b[3;35mNone\u001b[0m   \n",
       "\u001b[1;36m26\u001b[0m  \u001b[1;36m1468209\u001b[0m            1testcnf2            1testcnf2                   \u001b[3;35mNone\u001b[0m   \n",
       "\n",
       "   cover_image_url                                           full_url  \\\n",
       "\u001b[1;36m24\u001b[0m            \u001b[3;35mNone\u001b[0m  \u001b[4;94mhttps://www.healthhub.sg/a-z/costs-and-financi...\u001b[0m   \n",
       "\u001b[1;36m26\u001b[0m            \u001b[3;35mNone\u001b[0m  \u001b[4;94mhttps://www.healthhub.sg/a-z/costs-and-financi...\u001b[0m   \n",
       "\n",
       "                                            full_url2         friendly_url  \\\n",
       "\u001b[1;36m24\u001b[0m  www.healthhub.sg/a-z/costs-and-financing/1Cost\u001b[33m...\u001b[0m  1Cost-and-Financing   \n",
       "\u001b[1;36m26\u001b[0m  www.healthhub.sg/a-z/costs-and-financing/1test\u001b[33m...\u001b[0m            1testcnf2   \n",
       "\n",
       "   category_description content_body  \u001b[33m...\u001b[0m percentage_total_views  \\\n",
       "\u001b[1;36m24\u001b[0m                 \u001b[3;35mNone\u001b[0m         \u001b[3;35mNone\u001b[0m  \u001b[33m...\u001b[0m                    \u001b[1;36m0.0\u001b[0m   \n",
       "\u001b[1;36m26\u001b[0m                 \u001b[3;35mNone\u001b[0m         \u001b[3;35mNone\u001b[0m  \u001b[33m...\u001b[0m                    \u001b[1;36m0.0\u001b[0m   \n",
       "\n",
       "   cumulative_percentage_total_views    content_category to_remove has_table  \\\n",
       "\u001b[1;36m24\u001b[0m                               \u001b[1;36m1.0\u001b[0m  cost-and-financing      \u001b[3;92mTrue\u001b[0m      \u001b[3;35mNone\u001b[0m   \n",
       "\u001b[1;36m26\u001b[0m                               \u001b[1;36m1.0\u001b[0m  cost-and-financing      \u001b[3;92mTrue\u001b[0m      \u001b[3;35mNone\u001b[0m   \n",
       "\n",
       "    has_image  related_sections  extracted_links  extracted_headers  \\\n",
       "\u001b[1;36m24\u001b[0m       \u001b[3;35mNone\u001b[0m              \u001b[3;35mNone\u001b[0m             \u001b[3;35mNone\u001b[0m               \u001b[3;35mNone\u001b[0m   \n",
       "\u001b[1;36m26\u001b[0m       \u001b[3;35mNone\u001b[0m              \u001b[3;35mNone\u001b[0m             \u001b[3;35mNone\u001b[0m               \u001b[3;35mNone\u001b[0m   \n",
       "\n",
       "    extracted_content_body  \n",
       "\u001b[1;36m24\u001b[0m                    \u001b[3;35mNone\u001b[0m  \n",
       "\u001b[1;36m26\u001b[0m                    \u001b[3;35mNone\u001b[0m  \n",
       "\n",
       "\u001b[1m[\u001b[0m\u001b[1;36m2\u001b[0m rows x \u001b[1;36m33\u001b[0m columns\u001b[1m]\u001b[0m"
      ]
     },
     "execution_count": 9,
     "metadata": {},
     "output_type": "execute_result"
    }
   ],
   "source": [
    "content_category = \"cost-and-financing\"\n",
    "\n",
    "merged_data.query(f\"content_category == '{content_category}' and content_body.isna()\")"
   ]
  },
  {
   "cell_type": "markdown",
   "metadata": {},
   "source": [
    "## Excel Error"
   ]
  },
  {
   "cell_type": "code",
   "execution_count": 10,
   "metadata": {},
   "outputs": [
    {
     "data": {
      "text/html": [
       "<pre style=\"white-space:pre;overflow-x:auto;line-height:normal;font-family:Menlo,'DejaVu Sans Mono',consolas,'Courier New',monospace\"></pre>\n"
      ],
      "text/plain": []
     },
     "metadata": {},
     "output_type": "display_data"
    },
    {
     "data": {
      "text/plain": [
       "\n",
       "content_category\n",
       "program-sub-pages              \u001b[1;36m125\u001b[0m\n",
       "programs                        \u001b[1;36m28\u001b[0m\n",
       "diseases-and-conditions          \u001b[1;36m5\u001b[0m\n",
       "live-healthy-articles            \u001b[1;36m4\u001b[0m\n",
       "cost-and-financing               \u001b[1;36m0\u001b[0m\n",
       "health-statistics                \u001b[1;36m0\u001b[0m\n",
       "medical-care-and-facilities      \u001b[1;36m0\u001b[0m\n",
       "medications                      \u001b[1;36m0\u001b[0m\n",
       "support-group-and-others         \u001b[1;36m0\u001b[0m\n",
       "Name: content_body, dtype: int64"
      ]
     },
     "execution_count": 10,
     "metadata": {},
     "output_type": "execute_result"
    }
   ],
   "source": [
    "merged_data.groupby(by=\"content_category\")[\"content_body\"].apply(\n",
    "    lambda x: (x.str.contains(\"Value exceeded maximum cell\")).sum()\n",
    ").sort_values(ascending=False)"
   ]
  },
  {
   "cell_type": "code",
   "execution_count": 11,
   "metadata": {},
   "outputs": [
    {
     "data": {
      "text/html": [
       "<pre style=\"white-space:pre;overflow-x:auto;line-height:normal;font-family:Menlo,'DejaVu Sans Mono',consolas,'Courier New',monospace\"></pre>\n"
      ],
      "text/plain": []
     },
     "metadata": {},
     "output_type": "display_data"
    },
    {
     "data": {
      "text/html": [
       "<div>\n",
       "<style scoped>\n",
       "    .dataframe tbody tr th:only-of-type {\n",
       "        vertical-align: middle;\n",
       "    }\n",
       "\n",
       "    .dataframe tbody tr th {\n",
       "        vertical-align: top;\n",
       "    }\n",
       "\n",
       "    .dataframe thead th {\n",
       "        text-align: right;\n",
       "    }\n",
       "</style>\n",
       "<table border=\"1\" class=\"dataframe\">\n",
       "  <thead>\n",
       "    <tr style=\"text-align: right;\">\n",
       "      <th></th>\n",
       "      <th>id</th>\n",
       "      <th>content_name</th>\n",
       "      <th>title</th>\n",
       "      <th>article_category_names</th>\n",
       "      <th>cover_image_url</th>\n",
       "      <th>full_url</th>\n",
       "      <th>full_url2</th>\n",
       "      <th>friendly_url</th>\n",
       "      <th>category_description</th>\n",
       "      <th>content_body</th>\n",
       "      <th>...</th>\n",
       "      <th>percentage_total_views</th>\n",
       "      <th>cumulative_percentage_total_views</th>\n",
       "      <th>content_category</th>\n",
       "      <th>to_remove</th>\n",
       "      <th>has_table</th>\n",
       "      <th>has_image</th>\n",
       "      <th>related_sections</th>\n",
       "      <th>extracted_links</th>\n",
       "      <th>extracted_headers</th>\n",
       "      <th>extracted_content_body</th>\n",
       "    </tr>\n",
       "  </thead>\n",
       "  <tbody>\n",
       "    <tr>\n",
       "      <th>372</th>\n",
       "      <td>1446016</td>\n",
       "      <td>Nutrition During Pregnancy—Eating Right for Two</td>\n",
       "      <td>Nutrition During Pregnancy—Eating Right for Two</td>\n",
       "      <td>None</td>\n",
       "      <td>https://ch-api.healthhub.sg/api/public/content...</td>\n",
       "      <td>https://www.healthhub.sg/live-healthy/pregnanc...</td>\n",
       "      <td>www.healthhub.sg/live-healthy/pregnancy-nutrit...</td>\n",
       "      <td>pregnancy-nutrition-during-pregnancy-eating-ri...</td>\n",
       "      <td>Can you have a healthy weight gain during preg...</td>\n",
       "      <td>Value exceeded maximum cell size|MaximumCellSi...</td>\n",
       "      <td>...</td>\n",
       "      <td>0.010393</td>\n",
       "      <td>0.082520</td>\n",
       "      <td>live-healthy-articles</td>\n",
       "      <td>True</td>\n",
       "      <td>None</td>\n",
       "      <td>None</td>\n",
       "      <td>None</td>\n",
       "      <td>None</td>\n",
       "      <td>None</td>\n",
       "      <td>None</td>\n",
       "    </tr>\n",
       "    <tr>\n",
       "      <th>378</th>\n",
       "      <td>1444820</td>\n",
       "      <td>Recommended Dietary Allowances</td>\n",
       "      <td>Recommended Dietary Allowances</td>\n",
       "      <td>Food and Nutrition,</td>\n",
       "      <td>https://ch-api.healthhub.sg/api/public/content...</td>\n",
       "      <td>https://www.healthhub.sg/live-healthy/recommen...</td>\n",
       "      <td>www.healthhub.sg/live-healthy/recommended_diet...</td>\n",
       "      <td>recommended_dietary_allowances</td>\n",
       "      <td>The Recommended Dietary Allowances (RDA) refer...</td>\n",
       "      <td>Value exceeded maximum cell size|MaximumCellSi...</td>\n",
       "      <td>...</td>\n",
       "      <td>0.007304</td>\n",
       "      <td>0.130105</td>\n",
       "      <td>live-healthy-articles</td>\n",
       "      <td>True</td>\n",
       "      <td>None</td>\n",
       "      <td>None</td>\n",
       "      <td>None</td>\n",
       "      <td>None</td>\n",
       "      <td>None</td>\n",
       "      <td>None</td>\n",
       "    </tr>\n",
       "    <tr>\n",
       "      <th>403</th>\n",
       "      <td>1445643</td>\n",
       "      <td>Getting Support (for STIs)</td>\n",
       "      <td>Getting Support (for STIs)</td>\n",
       "      <td>Sexual Health and Relationships,</td>\n",
       "      <td>https://ch-api.healthhub.sg/api/public/content...</td>\n",
       "      <td>https://www.healthhub.sg/live-healthy/gettings...</td>\n",
       "      <td>www.healthhub.sg/live-healthy/gettingsupportstis</td>\n",
       "      <td>gettingsupportstis</td>\n",
       "      <td>Do you have questions about sex or sexually tr...</td>\n",
       "      <td>Value exceeded maximum cell size|MaximumCellSi...</td>\n",
       "      <td>...</td>\n",
       "      <td>0.004092</td>\n",
       "      <td>0.261496</td>\n",
       "      <td>live-healthy-articles</td>\n",
       "      <td>True</td>\n",
       "      <td>None</td>\n",
       "      <td>None</td>\n",
       "      <td>None</td>\n",
       "      <td>None</td>\n",
       "      <td>None</td>\n",
       "      <td>None</td>\n",
       "    </tr>\n",
       "    <tr>\n",
       "      <th>625</th>\n",
       "      <td>1446045</td>\n",
       "      <td>Help Your Child Cope With Puberty and Self-esteem</td>\n",
       "      <td>Help Your Child Cope With Puberty and Self-esteem</td>\n",
       "      <td>Mind and Balance,Sexual Health and Relationships,</td>\n",
       "      <td>https://ch-api.healthhub.sg/api/public/content...</td>\n",
       "      <td>https://www.healthhub.sg/live-healthy/help-you...</td>\n",
       "      <td>www.healthhub.sg/live-healthy/help-your-child-...</td>\n",
       "      <td>help-your-child-cope-with-puberty-and-self-esteem</td>\n",
       "      <td>Help your children prepare for this important ...</td>\n",
       "      <td>Value exceeded maximum cell size|MaximumCellSi...</td>\n",
       "      <td>...</td>\n",
       "      <td>0.000983</td>\n",
       "      <td>0.670407</td>\n",
       "      <td>live-healthy-articles</td>\n",
       "      <td>True</td>\n",
       "      <td>None</td>\n",
       "      <td>None</td>\n",
       "      <td>None</td>\n",
       "      <td>None</td>\n",
       "      <td>None</td>\n",
       "      <td>None</td>\n",
       "    </tr>\n",
       "  </tbody>\n",
       "</table>\n",
       "<p>4 rows × 33 columns</p>\n",
       "</div>"
      ],
      "text/plain": [
       "\n",
       "          id                                       content_name  \\\n",
       "\u001b[1;36m372\u001b[0m  \u001b[1;36m1446016\u001b[0m    Nutrition During Pregnancy—Eating Right for Two   \n",
       "\u001b[1;36m378\u001b[0m  \u001b[1;36m1444820\u001b[0m                     Recommended Dietary Allowances   \n",
       "\u001b[1;36m403\u001b[0m  \u001b[1;36m1445643\u001b[0m                         Getting Support \u001b[1m(\u001b[0mfor STIs\u001b[1m)\u001b[0m   \n",
       "\u001b[1;36m625\u001b[0m  \u001b[1;36m1446045\u001b[0m  Help Your Child Cope With Puberty and Self-esteem   \n",
       "\n",
       "                                                 title  \\\n",
       "\u001b[1;36m372\u001b[0m    Nutrition During Pregnancy—Eating Right for Two   \n",
       "\u001b[1;36m378\u001b[0m                     Recommended Dietary Allowances   \n",
       "\u001b[1;36m403\u001b[0m                         Getting Support \u001b[1m(\u001b[0mfor STIs\u001b[1m)\u001b[0m   \n",
       "\u001b[1;36m625\u001b[0m  Help Your Child Cope With Puberty and Self-esteem   \n",
       "\n",
       "                                article_category_names  \\\n",
       "\u001b[1;36m372\u001b[0m                                               \u001b[3;35mNone\u001b[0m   \n",
       "\u001b[1;36m378\u001b[0m                                Food and Nutrition,   \n",
       "\u001b[1;36m403\u001b[0m                   Sexual Health and Relationships,   \n",
       "\u001b[1;36m625\u001b[0m  Mind and Balance,Sexual Health and Relationships,   \n",
       "\n",
       "                                       cover_image_url  \\\n",
       "\u001b[1;36m372\u001b[0m  \u001b[4;94mhttps://ch-api.healthhub.sg/api/public/content...\u001b[0m   \n",
       "\u001b[1;36m378\u001b[0m  \u001b[4;94mhttps://ch-api.healthhub.sg/api/public/content...\u001b[0m   \n",
       "\u001b[1;36m403\u001b[0m  \u001b[4;94mhttps://ch-api.healthhub.sg/api/public/content...\u001b[0m   \n",
       "\u001b[1;36m625\u001b[0m  \u001b[4;94mhttps://ch-api.healthhub.sg/api/public/content...\u001b[0m   \n",
       "\n",
       "                                              full_url  \\\n",
       "\u001b[1;36m372\u001b[0m  \u001b[4;94mhttps://www.healthhub.sg/live-healthy/pregnanc...\u001b[0m   \n",
       "\u001b[1;36m378\u001b[0m  \u001b[4;94mhttps://www.healthhub.sg/live-healthy/recommen...\u001b[0m   \n",
       "\u001b[1;36m403\u001b[0m  \u001b[4;94mhttps://www.healthhub.sg/live-healthy/gettings...\u001b[0m   \n",
       "\u001b[1;36m625\u001b[0m  \u001b[4;94mhttps://www.healthhub.sg/live-healthy/help-you...\u001b[0m   \n",
       "\n",
       "                                             full_url2  \\\n",
       "\u001b[1;36m372\u001b[0m  www.healthhub.sg/live-healthy/pregnancy-nutrit\u001b[33m...\u001b[0m   \n",
       "\u001b[1;36m378\u001b[0m  www.healthhub.sg/live-healthy/recommended_diet\u001b[33m...\u001b[0m   \n",
       "\u001b[1;36m403\u001b[0m   www.healthhub.sg/live-healthy/gettingsupportstis   \n",
       "\u001b[1;36m625\u001b[0m  www.healthhub.sg/live-healthy/help-your-child-\u001b[33m...\u001b[0m   \n",
       "\n",
       "                                          friendly_url  \\\n",
       "\u001b[1;36m372\u001b[0m  pregnancy-nutrition-during-pregnancy-eating-ri\u001b[33m...\u001b[0m   \n",
       "\u001b[1;36m378\u001b[0m                     recommended_dietary_allowances   \n",
       "\u001b[1;36m403\u001b[0m                                 gettingsupportstis   \n",
       "\u001b[1;36m625\u001b[0m  help-your-child-cope-with-puberty-and-self-esteem   \n",
       "\n",
       "                                  category_description  \\\n",
       "\u001b[1;36m372\u001b[0m  Can you have a healthy weight gain during preg\u001b[33m...\u001b[0m   \n",
       "\u001b[1;36m378\u001b[0m  The Recommended Dietary Allowances \u001b[1m(\u001b[0mRDA\u001b[1m)\u001b[0m refer\u001b[33m...\u001b[0m   \n",
       "\u001b[1;36m403\u001b[0m  Do you have questions about sex or sexually tr\u001b[33m...\u001b[0m   \n",
       "\u001b[1;36m625\u001b[0m  Help your children prepare for this important \u001b[33m...\u001b[0m   \n",
       "\n",
       "                                          content_body  \u001b[33m...\u001b[0m  \\\n",
       "\u001b[1;36m372\u001b[0m  Value exceeded maximum cell size|MaximumCellSi\u001b[33m...\u001b[0m  \u001b[33m...\u001b[0m   \n",
       "\u001b[1;36m378\u001b[0m  Value exceeded maximum cell size|MaximumCellSi\u001b[33m...\u001b[0m  \u001b[33m...\u001b[0m   \n",
       "\u001b[1;36m403\u001b[0m  Value exceeded maximum cell size|MaximumCellSi\u001b[33m...\u001b[0m  \u001b[33m...\u001b[0m   \n",
       "\u001b[1;36m625\u001b[0m  Value exceeded maximum cell size|MaximumCellSi\u001b[33m...\u001b[0m  \u001b[33m...\u001b[0m   \n",
       "\n",
       "    percentage_total_views cumulative_percentage_total_views  \\\n",
       "\u001b[1;36m372\u001b[0m               \u001b[1;36m0.010393\u001b[0m                          \u001b[1;36m0.082520\u001b[0m   \n",
       "\u001b[1;36m378\u001b[0m               \u001b[1;36m0.007304\u001b[0m                          \u001b[1;36m0.130105\u001b[0m   \n",
       "\u001b[1;36m403\u001b[0m               \u001b[1;36m0.004092\u001b[0m                          \u001b[1;36m0.261496\u001b[0m   \n",
       "\u001b[1;36m625\u001b[0m               \u001b[1;36m0.000983\u001b[0m                          \u001b[1;36m0.670407\u001b[0m   \n",
       "\n",
       "          content_category to_remove has_table  has_image  related_sections  \\\n",
       "\u001b[1;36m372\u001b[0m  live-healthy-articles      \u001b[3;92mTrue\u001b[0m      \u001b[3;35mNone\u001b[0m       \u001b[3;35mNone\u001b[0m              \u001b[3;35mNone\u001b[0m   \n",
       "\u001b[1;36m378\u001b[0m  live-healthy-articles      \u001b[3;92mTrue\u001b[0m      \u001b[3;35mNone\u001b[0m       \u001b[3;35mNone\u001b[0m              \u001b[3;35mNone\u001b[0m   \n",
       "\u001b[1;36m403\u001b[0m  live-healthy-articles      \u001b[3;92mTrue\u001b[0m      \u001b[3;35mNone\u001b[0m       \u001b[3;35mNone\u001b[0m              \u001b[3;35mNone\u001b[0m   \n",
       "\u001b[1;36m625\u001b[0m  live-healthy-articles      \u001b[3;92mTrue\u001b[0m      \u001b[3;35mNone\u001b[0m       \u001b[3;35mNone\u001b[0m              \u001b[3;35mNone\u001b[0m   \n",
       "\n",
       "     extracted_links  extracted_headers  extracted_content_body  \n",
       "\u001b[1;36m372\u001b[0m             \u001b[3;35mNone\u001b[0m               \u001b[3;35mNone\u001b[0m                    \u001b[3;35mNone\u001b[0m  \n",
       "\u001b[1;36m378\u001b[0m             \u001b[3;35mNone\u001b[0m               \u001b[3;35mNone\u001b[0m                    \u001b[3;35mNone\u001b[0m  \n",
       "\u001b[1;36m403\u001b[0m             \u001b[3;35mNone\u001b[0m               \u001b[3;35mNone\u001b[0m                    \u001b[3;35mNone\u001b[0m  \n",
       "\u001b[1;36m625\u001b[0m             \u001b[3;35mNone\u001b[0m               \u001b[3;35mNone\u001b[0m                    \u001b[3;35mNone\u001b[0m  \n",
       "\n",
       "\u001b[1m[\u001b[0m\u001b[1;36m4\u001b[0m rows x \u001b[1;36m33\u001b[0m columns\u001b[1m]\u001b[0m"
      ]
     },
     "execution_count": 11,
     "metadata": {},
     "output_type": "execute_result"
    }
   ],
   "source": [
    "content_category = \"live-healthy-articles\"\n",
    "\n",
    "# Define the regex pattern\n",
    "pattern = re.compile(r\"(Value exceeded maximum cell)\")\n",
    "\n",
    "\n",
    "# Function to apply regex and return True or False\n",
    "def apply_regex_v1(x):\n",
    "    if pd.isna(x):\n",
    "        return False\n",
    "    return bool(pattern.search(str(x)))\n",
    "\n",
    "\n",
    "filtered = merged_data[merged_data[\"content_body\"].apply(lambda x: apply_regex_v1(x))]\n",
    "filtered.query(f\"content_category == '{content_category}'\")"
   ]
  },
  {
   "cell_type": "code",
   "execution_count": 12,
   "metadata": {},
   "outputs": [
    {
     "data": {
      "text/html": [
       "<pre style=\"white-space:pre;overflow-x:auto;line-height:normal;font-family:Menlo,'DejaVu Sans Mono',consolas,'Courier New',monospace\"></pre>\n"
      ],
      "text/plain": []
     },
     "metadata": {},
     "output_type": "display_data"
    },
    {
     "data": {
      "text/plain": [
       "\n",
       "content_category\n",
       "program-sub-pages          \u001b[1;36m125\u001b[0m\n",
       "programs                    \u001b[1;36m28\u001b[0m\n",
       "diseases-and-conditions      \u001b[1;36m5\u001b[0m\n",
       "live-healthy-articles        \u001b[1;36m4\u001b[0m\n",
       "dtype: int64"
      ]
     },
     "execution_count": 12,
     "metadata": {},
     "output_type": "execute_result"
    }
   ],
   "source": [
    "filtered.groupby(by=\"content_category\").size().sort_values(ascending=False)"
   ]
  },
  {
   "cell_type": "code",
   "execution_count": 13,
   "metadata": {},
   "outputs": [
    {
     "data": {
      "text/html": [
       "<pre style=\"white-space:pre;overflow-x:auto;line-height:normal;font-family:Menlo,'DejaVu Sans Mono',consolas,'Courier New',monospace\"></pre>\n"
      ],
      "text/plain": []
     },
     "metadata": {},
     "output_type": "display_data"
    },
    {
     "data": {
      "text/plain": [
       "\n",
       "content_category\n",
       "program-sub-pages              \u001b[1;36m131\u001b[0m\n",
       "programs                        \u001b[1;36m30\u001b[0m\n",
       "diseases-and-conditions          \u001b[1;36m5\u001b[0m\n",
       "live-healthy-articles            \u001b[1;36m4\u001b[0m\n",
       "cost-and-financing               \u001b[1;36m2\u001b[0m\n",
       "medical-care-and-facilities      \u001b[1;36m1\u001b[0m\n",
       "health-statistics                \u001b[1;36m0\u001b[0m\n",
       "medications                      \u001b[1;36m0\u001b[0m\n",
       "support-group-and-others         \u001b[1;36m0\u001b[0m\n",
       "Name: content_body, dtype: int64"
      ]
     },
     "execution_count": 13,
     "metadata": {},
     "output_type": "execute_result"
    }
   ],
   "source": [
    "# Either NaN or Value exceeded maximum cell\n",
    "merged_data.groupby(by=\"content_category\")[\"content_body\"].apply(\n",
    "    lambda x: (x.isna() | x.str.contains(\"Value exceeded maximum cell\")).sum()\n",
    ").sort_values(ascending=False)"
   ]
  },
  {
   "cell_type": "markdown",
   "metadata": {},
   "source": [
    "## No Tags"
   ]
  },
  {
   "cell_type": "code",
   "execution_count": 14,
   "metadata": {},
   "outputs": [
    {
     "data": {
      "text/html": [
       "<pre style=\"white-space:pre;overflow-x:auto;line-height:normal;font-family:Menlo,'DejaVu Sans Mono',consolas,'Courier New',monospace\"></pre>\n"
      ],
      "text/plain": []
     },
     "metadata": {},
     "output_type": "display_data"
    },
    {
     "data": {
      "text/plain": [
       "\n",
       "content_category\n",
       "program-sub-pages          \u001b[1;36m34\u001b[0m\n",
       "programs                    \u001b[1;36m5\u001b[0m\n",
       "live-healthy-articles       \u001b[1;36m2\u001b[0m\n",
       "cost-and-financing          \u001b[1;36m1\u001b[0m\n",
       "diseases-and-conditions     \u001b[1;36m1\u001b[0m\n",
       "Name: count, dtype: int64"
      ]
     },
     "execution_count": 14,
     "metadata": {},
     "output_type": "execute_result"
    }
   ],
   "source": [
    "# Define the regex pattern\n",
    "pattern = re.compile(r\"(<[div|p|h2].*?>)\")\n",
    "\n",
    "\n",
    "# Function to apply regex and return True or False\n",
    "def apply_regex_v2(x):\n",
    "    if pd.isna(x) or \"Value exceeded maximum cell\" in str(x):\n",
    "        return True\n",
    "    return bool(pattern.search(str(x)))\n",
    "\n",
    "\n",
    "# Group by content_category and apply the regex\n",
    "grouped = merged_data.groupby(by=\"content_category\")[\"content_body\"].apply(\n",
    "    lambda x: ~x.apply(apply_regex_v2)\n",
    ")\n",
    "\n",
    "grouped.groupby(by=\"content_category\").value_counts().loc[:, True].sort_values(\n",
    "    ascending=False\n",
    ")"
   ]
  },
  {
   "cell_type": "markdown",
   "metadata": {},
   "source": [
    "## No Extracted Content"
   ]
  },
  {
   "cell_type": "code",
   "execution_count": 15,
   "metadata": {},
   "outputs": [
    {
     "data": {
      "text/html": [
       "<pre style=\"white-space:pre;overflow-x:auto;line-height:normal;font-family:Menlo,'DejaVu Sans Mono',consolas,'Courier New',monospace\"></pre>\n"
      ],
      "text/plain": []
     },
     "metadata": {},
     "output_type": "display_data"
    },
    {
     "data": {
      "text/plain": [
       "\n",
       "content_category\n",
       "programs                       \u001b[1;36m22\u001b[0m\n",
       "program-sub-pages               \u001b[1;36m8\u001b[0m\n",
       "live-healthy-articles           \u001b[1;36m1\u001b[0m\n",
       "support-group-and-others        \u001b[1;36m1\u001b[0m\n",
       "cost-and-financing              \u001b[1;36m0\u001b[0m\n",
       "diseases-and-conditions         \u001b[1;36m0\u001b[0m\n",
       "health-statistics               \u001b[1;36m0\u001b[0m\n",
       "medical-care-and-facilities     \u001b[1;36m0\u001b[0m\n",
       "medications                     \u001b[1;36m0\u001b[0m\n",
       "Name: extracted_content_body, dtype: int64"
      ]
     },
     "execution_count": 15,
     "metadata": {},
     "output_type": "execute_result"
    }
   ],
   "source": [
    "merged_data.groupby(by=\"content_category\")[\"extracted_content_body\"].apply(\n",
    "    lambda x: (x == \"\").sum()\n",
    ").sort_values(ascending=False)"
   ]
  },
  {
   "cell_type": "code",
   "execution_count": 16,
   "metadata": {},
   "outputs": [
    {
     "data": {
      "text/html": [
       "<pre style=\"white-space:pre;overflow-x:auto;line-height:normal;font-family:Menlo,'DejaVu Sans Mono',consolas,'Courier New',monospace\"></pre>\n"
      ],
      "text/plain": []
     },
     "metadata": {},
     "output_type": "display_data"
    },
    {
     "data": {
      "text/html": [
       "<div>\n",
       "<style scoped>\n",
       "    .dataframe tbody tr th:only-of-type {\n",
       "        vertical-align: middle;\n",
       "    }\n",
       "\n",
       "    .dataframe tbody tr th {\n",
       "        vertical-align: top;\n",
       "    }\n",
       "\n",
       "    .dataframe thead th {\n",
       "        text-align: right;\n",
       "    }\n",
       "</style>\n",
       "<table border=\"1\" class=\"dataframe\">\n",
       "  <thead>\n",
       "    <tr style=\"text-align: right;\">\n",
       "      <th></th>\n",
       "      <th>id</th>\n",
       "      <th>content_name</th>\n",
       "      <th>title</th>\n",
       "      <th>article_category_names</th>\n",
       "      <th>cover_image_url</th>\n",
       "      <th>full_url</th>\n",
       "      <th>full_url2</th>\n",
       "      <th>friendly_url</th>\n",
       "      <th>category_description</th>\n",
       "      <th>content_body</th>\n",
       "      <th>...</th>\n",
       "      <th>percentage_total_views</th>\n",
       "      <th>cumulative_percentage_total_views</th>\n",
       "      <th>content_category</th>\n",
       "      <th>to_remove</th>\n",
       "      <th>has_table</th>\n",
       "      <th>has_image</th>\n",
       "      <th>related_sections</th>\n",
       "      <th>extracted_links</th>\n",
       "      <th>extracted_headers</th>\n",
       "      <th>extracted_content_body</th>\n",
       "    </tr>\n",
       "  </thead>\n",
       "  <tbody>\n",
       "    <tr>\n",
       "      <th>2227</th>\n",
       "      <td>1503039</td>\n",
       "      <td>what-are-vapes</td>\n",
       "      <td>what-are-vapes</td>\n",
       "      <td>None</td>\n",
       "      <td>None</td>\n",
       "      <td>https://www.healthhub.sg/programmes/IQuit/e-ci...</td>\n",
       "      <td>www.healthhub.sg/programmes/IQuit/e-cig/what-a...</td>\n",
       "      <td>what-are-vapes</td>\n",
       "      <td>None</td>\n",
       "      <td>&lt;div style=\"opacity: 0;\"&gt;What are vapes page i...</td>\n",
       "      <td>...</td>\n",
       "      <td>0.001705</td>\n",
       "      <td>0.910522</td>\n",
       "      <td>program-sub-pages</td>\n",
       "      <td>True</td>\n",
       "      <td>False</td>\n",
       "      <td>False</td>\n",
       "      <td>[]</td>\n",
       "      <td>[]</td>\n",
       "      <td>[]</td>\n",
       "      <td></td>\n",
       "    </tr>\n",
       "    <tr>\n",
       "      <th>2243</th>\n",
       "      <td>1503042</td>\n",
       "      <td>what-s-in-the-news</td>\n",
       "      <td>what-s-in-the-news</td>\n",
       "      <td>None</td>\n",
       "      <td>None</td>\n",
       "      <td>https://www.healthhub.sg/programmes/IQuit/e-ci...</td>\n",
       "      <td>www.healthhub.sg/programmes/IQuit/e-cig/what-s...</td>\n",
       "      <td>what-s-in-the-news</td>\n",
       "      <td>None</td>\n",
       "      <td>&lt;div style=\"opacity: 0;\"&gt;What's in the news is...</td>\n",
       "      <td>...</td>\n",
       "      <td>0.001299</td>\n",
       "      <td>0.933910</td>\n",
       "      <td>program-sub-pages</td>\n",
       "      <td>True</td>\n",
       "      <td>False</td>\n",
       "      <td>False</td>\n",
       "      <td>[]</td>\n",
       "      <td>[]</td>\n",
       "      <td>[]</td>\n",
       "      <td></td>\n",
       "    </tr>\n",
       "    <tr>\n",
       "      <th>2258</th>\n",
       "      <td>1434909</td>\n",
       "      <td>Let’s talk about Vascular Dementia_dementia_Le...</td>\n",
       "      <td>Let’s talk about Vascular Dementia</td>\n",
       "      <td>None</td>\n",
       "      <td>None</td>\n",
       "      <td>https://www.healthhub.sg/programmes/AAP/dementia/</td>\n",
       "      <td>www.healthhub.sg/programmes/AAP/dementia/</td>\n",
       "      <td>dementia</td>\n",
       "      <td>Vascular dementia is one of the most common fo...</td>\n",
       "      <td>&lt;div class=\"ExternalClass2E55A9B34B7E47CC926CD...</td>\n",
       "      <td>...</td>\n",
       "      <td>0.001015</td>\n",
       "      <td>0.951042</td>\n",
       "      <td>program-sub-pages</td>\n",
       "      <td>True</td>\n",
       "      <td>False</td>\n",
       "      <td>False</td>\n",
       "      <td>[]</td>\n",
       "      <td>[]</td>\n",
       "      <td>[]</td>\n",
       "      <td></td>\n",
       "    </tr>\n",
       "    <tr>\n",
       "      <th>2364</th>\n",
       "      <td>1434913</td>\n",
       "      <td>MindSG_Caring-For-Ourselves_Level1</td>\n",
       "      <td>MindSG</td>\n",
       "      <td>None</td>\n",
       "      <td>None</td>\n",
       "      <td>https://www.healthhub.sg/programmes/MindSG/Car...</td>\n",
       "      <td>www.healthhub.sg/programmes/MindSG/Caring-For-...</td>\n",
       "      <td>Caring-For-Ourselves</td>\n",
       "      <td>Explore our suite of self-care tools and resou...</td>\n",
       "      <td>&lt;div class=\"ExternalClass6A175BA8870B4B51BA62A...</td>\n",
       "      <td>...</td>\n",
       "      <td>0.000040</td>\n",
       "      <td>1.000000</td>\n",
       "      <td>program-sub-pages</td>\n",
       "      <td>True</td>\n",
       "      <td>False</td>\n",
       "      <td>False</td>\n",
       "      <td>[]</td>\n",
       "      <td>[]</td>\n",
       "      <td>[]</td>\n",
       "      <td></td>\n",
       "    </tr>\n",
       "    <tr>\n",
       "      <th>2374</th>\n",
       "      <td>1435024</td>\n",
       "      <td>Test page_test-page_Level2</td>\n",
       "      <td>Test page</td>\n",
       "      <td>None</td>\n",
       "      <td>None</td>\n",
       "      <td>https://www.healthhub.sg/programmes/parent-hub...</td>\n",
       "      <td>www.healthhub.sg/programmes/parent-hub/activit...</td>\n",
       "      <td>test-page</td>\n",
       "      <td>javascript testing</td>\n",
       "      <td>&lt;img src=\"https://ch-api.healthhub.sg/api/publ...</td>\n",
       "      <td>...</td>\n",
       "      <td>0.000000</td>\n",
       "      <td>1.000000</td>\n",
       "      <td>program-sub-pages</td>\n",
       "      <td>True</td>\n",
       "      <td>False</td>\n",
       "      <td>True</td>\n",
       "      <td>[]</td>\n",
       "      <td>[]</td>\n",
       "      <td>[]</td>\n",
       "      <td></td>\n",
       "    </tr>\n",
       "    <tr>\n",
       "      <th>2414</th>\n",
       "      <td>1434841</td>\n",
       "      <td>MindSG_Caring-For-Others_Level1</td>\n",
       "      <td>MindSG</td>\n",
       "      <td>None</td>\n",
       "      <td>None</td>\n",
       "      <td>https://www.healthhub.sg/programmes/MindSG/Car...</td>\n",
       "      <td>www.healthhub.sg/programmes/MindSG/Caring-For-...</td>\n",
       "      <td>Caring-For-Others</td>\n",
       "      <td>Explore our suite of self-care tools and resou...</td>\n",
       "      <td>&lt;div class=\"ExternalClass951331D026A741A083582...</td>\n",
       "      <td>...</td>\n",
       "      <td>0.000000</td>\n",
       "      <td>1.000000</td>\n",
       "      <td>program-sub-pages</td>\n",
       "      <td>True</td>\n",
       "      <td>False</td>\n",
       "      <td>False</td>\n",
       "      <td>[]</td>\n",
       "      <td>[]</td>\n",
       "      <td>[]</td>\n",
       "      <td></td>\n",
       "    </tr>\n",
       "    <tr>\n",
       "      <th>2436</th>\n",
       "      <td>1434805</td>\n",
       "      <td>Dr Kimberly Douglas_dr-kimberly-douglas_Level3</td>\n",
       "      <td>Dr Kimberly Douglas</td>\n",
       "      <td>None</td>\n",
       "      <td>None</td>\n",
       "      <td>https://www.healthhub.sg/programmes/healthia/d...</td>\n",
       "      <td>www.healthhub.sg/programmes/healthia/dr-kimber...</td>\n",
       "      <td>dr-kimberly-douglas</td>\n",
       "      <td>Healthia - Dr Kimberly Douglas</td>\n",
       "      <td>&lt;div class=\"ExternalClass84A6D93A5F144F208BA91...</td>\n",
       "      <td>...</td>\n",
       "      <td>0.000000</td>\n",
       "      <td>1.000000</td>\n",
       "      <td>program-sub-pages</td>\n",
       "      <td>True</td>\n",
       "      <td>False</td>\n",
       "      <td>True</td>\n",
       "      <td>[]</td>\n",
       "      <td>[[, /programs/Lists/Program Sub Pages/index.ht...</td>\n",
       "      <td>[[Gallery, h4], [Elements, h4], [Pages, h4], [...</td>\n",
       "      <td></td>\n",
       "    </tr>\n",
       "    <tr>\n",
       "      <th>2451</th>\n",
       "      <td>1434777</td>\n",
       "      <td>About Us_about-us_Level1</td>\n",
       "      <td>About Us</td>\n",
       "      <td>None</td>\n",
       "      <td>None</td>\n",
       "      <td>https://www.healthhub.sg/programmes/healthia/a...</td>\n",
       "      <td>www.healthhub.sg/programmes/healthia/about-us/</td>\n",
       "      <td>about-us</td>\n",
       "      <td>Healthia - About Us</td>\n",
       "      <td>&lt;div class=\"ExternalClassC2A19274671044F2A00D1...</td>\n",
       "      <td>...</td>\n",
       "      <td>0.000000</td>\n",
       "      <td>1.000000</td>\n",
       "      <td>program-sub-pages</td>\n",
       "      <td>True</td>\n",
       "      <td>False</td>\n",
       "      <td>True</td>\n",
       "      <td>[]</td>\n",
       "      <td>[[, /programs/Lists/Program Sub Pages/index.ht...</td>\n",
       "      <td>[[Gallery, h4], [Elements, h4], [Pages, h4], [...</td>\n",
       "      <td></td>\n",
       "    </tr>\n",
       "  </tbody>\n",
       "</table>\n",
       "<p>8 rows × 33 columns</p>\n",
       "</div>"
      ],
      "text/plain": [
       "\n",
       "           id                                       content_name  \\\n",
       "\u001b[1;36m2227\u001b[0m  \u001b[1;36m1503039\u001b[0m                                     what-are-vapes   \n",
       "\u001b[1;36m2243\u001b[0m  \u001b[1;36m1503042\u001b[0m                                 what-s-in-the-news   \n",
       "\u001b[1;36m2258\u001b[0m  \u001b[1;36m1434909\u001b[0m  Let’s talk about Vascular Dementia_dementia_Le\u001b[33m...\u001b[0m   \n",
       "\u001b[1;36m2364\u001b[0m  \u001b[1;36m1434913\u001b[0m                 MindSG_Caring-For-Ourselves_Level1   \n",
       "\u001b[1;36m2374\u001b[0m  \u001b[1;36m1435024\u001b[0m                         Test page_test-page_Level2   \n",
       "\u001b[1;36m2414\u001b[0m  \u001b[1;36m1434841\u001b[0m                    MindSG_Caring-For-Others_Level1   \n",
       "\u001b[1;36m2436\u001b[0m  \u001b[1;36m1434805\u001b[0m     Dr Kimberly Douglas_dr-kimberly-douglas_Level3   \n",
       "\u001b[1;36m2451\u001b[0m  \u001b[1;36m1434777\u001b[0m                           About Us_about-us_Level1   \n",
       "\n",
       "                                   title article_category_names  \\\n",
       "\u001b[1;36m2227\u001b[0m                      what-are-vapes                   \u001b[3;35mNone\u001b[0m   \n",
       "\u001b[1;36m2243\u001b[0m                  what-s-in-the-news                   \u001b[3;35mNone\u001b[0m   \n",
       "\u001b[1;36m2258\u001b[0m  Let’s talk about Vascular Dementia                   \u001b[3;35mNone\u001b[0m   \n",
       "\u001b[1;36m2364\u001b[0m                              MindSG                   \u001b[3;35mNone\u001b[0m   \n",
       "\u001b[1;36m2374\u001b[0m                           Test page                   \u001b[3;35mNone\u001b[0m   \n",
       "\u001b[1;36m2414\u001b[0m                              MindSG                   \u001b[3;35mNone\u001b[0m   \n",
       "\u001b[1;36m2436\u001b[0m                 Dr Kimberly Douglas                   \u001b[3;35mNone\u001b[0m   \n",
       "\u001b[1;36m2451\u001b[0m                            About Us                   \u001b[3;35mNone\u001b[0m   \n",
       "\n",
       "     cover_image_url                                           full_url  \\\n",
       "\u001b[1;36m2227\u001b[0m            \u001b[3;35mNone\u001b[0m  \u001b[4;94mhttps://www.healthhub.sg/programmes/IQuit/e-ci...\u001b[0m   \n",
       "\u001b[1;36m2243\u001b[0m            \u001b[3;35mNone\u001b[0m  \u001b[4;94mhttps://www.healthhub.sg/programmes/IQuit/e-ci...\u001b[0m   \n",
       "\u001b[1;36m2258\u001b[0m            \u001b[3;35mNone\u001b[0m  \u001b[4;94mhttps://www.healthhub.sg/programmes/AAP/dementia/\u001b[0m   \n",
       "\u001b[1;36m2364\u001b[0m            \u001b[3;35mNone\u001b[0m  \u001b[4;94mhttps://www.healthhub.sg/programmes/MindSG/Car...\u001b[0m   \n",
       "\u001b[1;36m2374\u001b[0m            \u001b[3;35mNone\u001b[0m  \u001b[4;94mhttps://www.healthhub.sg/programmes/parent-hub...\u001b[0m   \n",
       "\u001b[1;36m2414\u001b[0m            \u001b[3;35mNone\u001b[0m  \u001b[4;94mhttps://www.healthhub.sg/programmes/MindSG/Car...\u001b[0m   \n",
       "\u001b[1;36m2436\u001b[0m            \u001b[3;35mNone\u001b[0m  \u001b[4;94mhttps://www.healthhub.sg/programmes/healthia/d...\u001b[0m   \n",
       "\u001b[1;36m2451\u001b[0m            \u001b[3;35mNone\u001b[0m  \u001b[4;94mhttps://www.healthhub.sg/programmes/healthia/a...\u001b[0m   \n",
       "\n",
       "                                              full_url2          friendly_url  \\\n",
       "\u001b[1;36m2227\u001b[0m  www.healthhub.sg/programmes/IQuit/e-cig/what-a\u001b[33m...\u001b[0m        what-are-vapes   \n",
       "\u001b[1;36m2243\u001b[0m  www.healthhub.sg/programmes/IQuit/e-cig/what-s\u001b[33m...\u001b[0m    what-s-in-the-news   \n",
       "\u001b[1;36m2258\u001b[0m          www.healthhub.sg/programmes/AAP/dementia/              dementia   \n",
       "\u001b[1;36m2364\u001b[0m  www.healthhub.sg/programmes/MindSG/Caring-For-\u001b[33m...\u001b[0m  Caring-For-Ourselves   \n",
       "\u001b[1;36m2374\u001b[0m  www.healthhub.sg/programmes/parent-hub/activit\u001b[33m...\u001b[0m             test-page   \n",
       "\u001b[1;36m2414\u001b[0m  www.healthhub.sg/programmes/MindSG/Caring-For-\u001b[33m...\u001b[0m     Caring-For-Others   \n",
       "\u001b[1;36m2436\u001b[0m  www.healthhub.sg/programmes/healthia/dr-kimber\u001b[33m...\u001b[0m   dr-kimberly-douglas   \n",
       "\u001b[1;36m2451\u001b[0m     www.healthhub.sg/programmes/healthia/about-us/              about-us   \n",
       "\n",
       "                                   category_description  \\\n",
       "\u001b[1;36m2227\u001b[0m                                               \u001b[3;35mNone\u001b[0m   \n",
       "\u001b[1;36m2243\u001b[0m                                               \u001b[3;35mNone\u001b[0m   \n",
       "\u001b[1;36m2258\u001b[0m  Vascular dementia is one of the most common fo\u001b[33m...\u001b[0m   \n",
       "\u001b[1;36m2364\u001b[0m  Explore our suite of self-care tools and resou\u001b[33m...\u001b[0m   \n",
       "\u001b[1;36m2374\u001b[0m                                 javascript testing   \n",
       "\u001b[1;36m2414\u001b[0m  Explore our suite of self-care tools and resou\u001b[33m...\u001b[0m   \n",
       "\u001b[1;36m2436\u001b[0m                     Healthia - Dr Kimberly Douglas   \n",
       "\u001b[1;36m2451\u001b[0m                                Healthia - About Us   \n",
       "\n",
       "                                           content_body  \u001b[33m...\u001b[0m  \\\n",
       "\u001b[1;36m2227\u001b[0m  \u001b[1m<\u001b[0m\u001b[1;95mdiv\u001b[0m\u001b[39m \u001b[0m\u001b[33mstyle\u001b[0m\u001b[39m=\u001b[0m\u001b[32m\"opacity\u001b[0m\u001b[32m: 0;\"\u001b[0m\u001b[39m>What are vapes page i\u001b[0m\u001b[33m...\u001b[0m\u001b[39m  \u001b[0m\u001b[33m...\u001b[0m\u001b[39m   \u001b[0m\n",
       "\u001b[1;36m2243\u001b[0m\u001b[39m  <div \u001b[0m\u001b[33mstyle\u001b[0m\u001b[39m=\u001b[0m\u001b[32m\"opacity\u001b[0m\u001b[32m: 0;\"\u001b[0m\u001b[1m>\u001b[0mWhat's in the news is\u001b[33m...\u001b[0m  \u001b[33m...\u001b[0m   \n",
       "\u001b[1;36m2258\u001b[0m  <div \u001b[33mclass\u001b[0m=\u001b[35m\"ExternalClass2E55A9B34B7E47CC926CD\u001b[0m\u001b[33m...\u001b[0m  \u001b[33m...\u001b[0m   \n",
       "\u001b[1;36m2364\u001b[0m  <div \u001b[33mclass\u001b[0m=\u001b[35m\"ExternalClass6A175BA8870B4B51BA62A\u001b[0m\u001b[33m...\u001b[0m  \u001b[33m...\u001b[0m   \n",
       "\u001b[1;36m2374\u001b[0m  <img \u001b[33msrc\u001b[0m=\u001b[35m\"\u001b[0m\u001b[4;94mhttps\u001b[0m\u001b[4;94m://ch-api.healthhub.sg/api/publ...\u001b[0m  \u001b[33m...\u001b[0m   \n",
       "\u001b[1;36m2414\u001b[0m  <div \u001b[33mclass\u001b[0m=\u001b[35m\"ExternalClass951331D026A741A083582\u001b[0m\u001b[33m...\u001b[0m  \u001b[33m...\u001b[0m   \n",
       "\u001b[1;36m2436\u001b[0m  <div \u001b[33mclass\u001b[0m=\u001b[35m\"ExternalClass84A6D93A5F144F208BA91\u001b[0m\u001b[33m...\u001b[0m  \u001b[33m...\u001b[0m   \n",
       "\u001b[1;36m2451\u001b[0m  <div \u001b[33mclass\u001b[0m=\u001b[35m\"ExternalClassC2A19274671044F2A00D1\u001b[0m\u001b[33m...\u001b[0m  \u001b[33m...\u001b[0m   \n",
       "\n",
       "     percentage_total_views cumulative_percentage_total_views  \\\n",
       "\u001b[1;36m2227\u001b[0m               \u001b[1;36m0.001705\u001b[0m                          \u001b[1;36m0.910522\u001b[0m   \n",
       "\u001b[1;36m2243\u001b[0m               \u001b[1;36m0.001299\u001b[0m                          \u001b[1;36m0.933910\u001b[0m   \n",
       "\u001b[1;36m2258\u001b[0m               \u001b[1;36m0.001015\u001b[0m                          \u001b[1;36m0.951042\u001b[0m   \n",
       "\u001b[1;36m2364\u001b[0m               \u001b[1;36m0.000040\u001b[0m                          \u001b[1;36m1.000000\u001b[0m   \n",
       "\u001b[1;36m2374\u001b[0m               \u001b[1;36m0.000000\u001b[0m                          \u001b[1;36m1.000000\u001b[0m   \n",
       "\u001b[1;36m2414\u001b[0m               \u001b[1;36m0.000000\u001b[0m                          \u001b[1;36m1.000000\u001b[0m   \n",
       "\u001b[1;36m2436\u001b[0m               \u001b[1;36m0.000000\u001b[0m                          \u001b[1;36m1.000000\u001b[0m   \n",
       "\u001b[1;36m2451\u001b[0m               \u001b[1;36m0.000000\u001b[0m                          \u001b[1;36m1.000000\u001b[0m   \n",
       "\n",
       "       content_category to_remove has_table  has_image  related_sections  \\\n",
       "\u001b[1;36m2227\u001b[0m  program-sub-pages      \u001b[3;92mTrue\u001b[0m     \u001b[3;91mFalse\u001b[0m      \u001b[3;91mFalse\u001b[0m                \u001b[1m[\u001b[0m\u001b[1m]\u001b[0m   \n",
       "\u001b[1;36m2243\u001b[0m  program-sub-pages      \u001b[3;92mTrue\u001b[0m     \u001b[3;91mFalse\u001b[0m      \u001b[3;91mFalse\u001b[0m                \u001b[1m[\u001b[0m\u001b[1m]\u001b[0m   \n",
       "\u001b[1;36m2258\u001b[0m  program-sub-pages      \u001b[3;92mTrue\u001b[0m     \u001b[3;91mFalse\u001b[0m      \u001b[3;91mFalse\u001b[0m                \u001b[1m[\u001b[0m\u001b[1m]\u001b[0m   \n",
       "\u001b[1;36m2364\u001b[0m  program-sub-pages      \u001b[3;92mTrue\u001b[0m     \u001b[3;91mFalse\u001b[0m      \u001b[3;91mFalse\u001b[0m                \u001b[1m[\u001b[0m\u001b[1m]\u001b[0m   \n",
       "\u001b[1;36m2374\u001b[0m  program-sub-pages      \u001b[3;92mTrue\u001b[0m     \u001b[3;91mFalse\u001b[0m       \u001b[3;92mTrue\u001b[0m                \u001b[1m[\u001b[0m\u001b[1m]\u001b[0m   \n",
       "\u001b[1;36m2414\u001b[0m  program-sub-pages      \u001b[3;92mTrue\u001b[0m     \u001b[3;91mFalse\u001b[0m      \u001b[3;91mFalse\u001b[0m                \u001b[1m[\u001b[0m\u001b[1m]\u001b[0m   \n",
       "\u001b[1;36m2436\u001b[0m  program-sub-pages      \u001b[3;92mTrue\u001b[0m     \u001b[3;91mFalse\u001b[0m       \u001b[3;92mTrue\u001b[0m                \u001b[1m[\u001b[0m\u001b[1m]\u001b[0m   \n",
       "\u001b[1;36m2451\u001b[0m  program-sub-pages      \u001b[3;92mTrue\u001b[0m     \u001b[3;91mFalse\u001b[0m       \u001b[3;92mTrue\u001b[0m                \u001b[1m[\u001b[0m\u001b[1m]\u001b[0m   \n",
       "\n",
       "                                        extracted_links  \\\n",
       "\u001b[1;36m2227\u001b[0m                                                 \u001b[1m[\u001b[0m\u001b[1m]\u001b[0m   \n",
       "\u001b[1;36m2243\u001b[0m                                                 \u001b[1m[\u001b[0m\u001b[1m]\u001b[0m   \n",
       "\u001b[1;36m2258\u001b[0m                                                 \u001b[1m[\u001b[0m\u001b[1m]\u001b[0m   \n",
       "\u001b[1;36m2364\u001b[0m                                                 \u001b[1m[\u001b[0m\u001b[1m]\u001b[0m   \n",
       "\u001b[1;36m2374\u001b[0m                                                 \u001b[1m[\u001b[0m\u001b[1m]\u001b[0m   \n",
       "\u001b[1;36m2414\u001b[0m                                                 \u001b[1m[\u001b[0m\u001b[1m]\u001b[0m   \n",
       "\u001b[1;36m2436\u001b[0m  \u001b[1m[\u001b[0m\u001b[1m[\u001b[0m, \u001b[35m/programs/Lists/\u001b[0m\u001b[95mProgram\u001b[0m Sub Pages/index.ht\u001b[33m...\u001b[0m   \n",
       "\u001b[1;36m2451\u001b[0m  \u001b[1m[\u001b[0m\u001b[1m[\u001b[0m, \u001b[35m/programs/Lists/\u001b[0m\u001b[95mProgram\u001b[0m Sub Pages/index.ht\u001b[33m...\u001b[0m   \n",
       "\n",
       "                                      extracted_headers  \\\n",
       "\u001b[1;36m2227\u001b[0m                                                 \u001b[1m[\u001b[0m\u001b[1m]\u001b[0m   \n",
       "\u001b[1;36m2243\u001b[0m                                                 \u001b[1m[\u001b[0m\u001b[1m]\u001b[0m   \n",
       "\u001b[1;36m2258\u001b[0m                                                 \u001b[1m[\u001b[0m\u001b[1m]\u001b[0m   \n",
       "\u001b[1;36m2364\u001b[0m                                                 \u001b[1m[\u001b[0m\u001b[1m]\u001b[0m   \n",
       "\u001b[1;36m2374\u001b[0m                                                 \u001b[1m[\u001b[0m\u001b[1m]\u001b[0m   \n",
       "\u001b[1;36m2414\u001b[0m                                                 \u001b[1m[\u001b[0m\u001b[1m]\u001b[0m   \n",
       "\u001b[1;36m2436\u001b[0m  \u001b[1m[\u001b[0m\u001b[1m[\u001b[0mGallery, h4\u001b[1m]\u001b[0m, \u001b[1m[\u001b[0mElements, h4\u001b[1m]\u001b[0m, \u001b[1m[\u001b[0mPages, h4\u001b[1m]\u001b[0m, \u001b[1m[\u001b[0m\u001b[33m...\u001b[0m   \n",
       "\u001b[1;36m2451\u001b[0m  \u001b[1m[\u001b[0m\u001b[1m[\u001b[0mGallery, h4\u001b[1m]\u001b[0m, \u001b[1m[\u001b[0mElements, h4\u001b[1m]\u001b[0m, \u001b[1m[\u001b[0mPages, h4\u001b[1m]\u001b[0m, \u001b[1m[\u001b[0m\u001b[33m...\u001b[0m   \n",
       "\n",
       "      extracted_content_body  \n",
       "\u001b[1;36m2227\u001b[0m                          \n",
       "\u001b[1;36m2243\u001b[0m                          \n",
       "\u001b[1;36m2258\u001b[0m                          \n",
       "\u001b[1;36m2364\u001b[0m                          \n",
       "\u001b[1;36m2374\u001b[0m                          \n",
       "\u001b[1;36m2414\u001b[0m                          \n",
       "\u001b[1;36m2436\u001b[0m                          \n",
       "\u001b[1;36m2451\u001b[0m                          \n",
       "\n",
       "\u001b[1m[\u001b[0m\u001b[1;36m8\u001b[0m rows x \u001b[1;36m33\u001b[0m columns\u001b[1m]\u001b[0m"
      ]
     },
     "execution_count": 16,
     "metadata": {},
     "output_type": "execute_result"
    }
   ],
   "source": [
    "content_category = \"program-sub-pages\"\n",
    "\n",
    "merged_data.query(\n",
    "    f\"content_category == '{content_category}' and extracted_content_body == ''\"\n",
    ")"
   ]
  },
  {
   "cell_type": "markdown",
   "metadata": {},
   "source": [
    "## Below Word Count"
   ]
  },
  {
   "cell_type": "code",
   "execution_count": 17,
   "metadata": {},
   "outputs": [
    {
     "data": {
      "text/html": [
       "<pre style=\"white-space:pre;overflow-x:auto;line-height:normal;font-family:Menlo,'DejaVu Sans Mono',consolas,'Courier New',monospace\"><span style=\"color: #7fbfbf; text-decoration-color: #7fbfbf\">[07/01/24 15:41:25] </span><span style=\"color: #000080; text-decoration-color: #000080\">INFO    </span> Loading data from <span style=\"color: #ff8700; text-decoration-color: #ff8700\">params:word_count_cutoff</span> <span style=\"font-weight: bold\">(</span>MemoryDataset<span style=\"font-weight: bold\">)</span><span style=\"color: #808000; text-decoration-color: #808000\">...</span>      <a href=\"file:///opt/anaconda3/envs/content-opt/lib/python3.12/site-packages/kedro/io/data_catalog.py\" target=\"_blank\"><span style=\"color: #7f7f7f; text-decoration-color: #7f7f7f\">data_catalog.py</span></a><span style=\"color: #7f7f7f; text-decoration-color: #7f7f7f\">:</span><a href=\"file:///opt/anaconda3/envs/content-opt/lib/python3.12/site-packages/kedro/io/data_catalog.py#508\" target=\"_blank\"><span style=\"color: #7f7f7f; text-decoration-color: #7f7f7f\">508</span></a>\n",
       "</pre>\n"
      ],
      "text/plain": [
       "\u001b[2;36m[07/01/24 15:41:25]\u001b[0m\u001b[2;36m \u001b[0m\u001b[34mINFO    \u001b[0m Loading data from \u001b[38;5;208mparams:word_count_cutoff\u001b[0m \u001b[1m(\u001b[0mMemoryDataset\u001b[1m)\u001b[0m\u001b[33m...\u001b[0m      \u001b]8;id=984242;file:///opt/anaconda3/envs/content-opt/lib/python3.12/site-packages/kedro/io/data_catalog.py\u001b\\\u001b[2mdata_catalog.py\u001b[0m\u001b]8;;\u001b\\\u001b[2m:\u001b[0m\u001b]8;id=611772;file:///opt/anaconda3/envs/content-opt/lib/python3.12/site-packages/kedro/io/data_catalog.py#508\u001b\\\u001b[2m508\u001b[0m\u001b]8;;\u001b\\\n"
      ]
     },
     "metadata": {},
     "output_type": "display_data"
    },
    {
     "data": {
      "text/html": [
       "<pre style=\"white-space:pre;overflow-x:auto;line-height:normal;font-family:Menlo,'DejaVu Sans Mono',consolas,'Courier New',monospace\"></pre>\n"
      ],
      "text/plain": []
     },
     "metadata": {},
     "output_type": "display_data"
    },
    {
     "data": {
      "text/plain": [
       "\u001b[1;36m90\u001b[0m"
      ]
     },
     "execution_count": 17,
     "metadata": {},
     "output_type": "execute_result"
    }
   ],
   "source": [
    "# ruff: noqa: F821\n",
    "word_count_cutoff = catalog.load(\"params:word_count_cutoff\")\n",
    "word_count_cutoff"
   ]
  },
  {
   "cell_type": "code",
   "execution_count": 18,
   "metadata": {},
   "outputs": [
    {
     "data": {
      "text/html": [
       "<pre style=\"white-space:pre;overflow-x:auto;line-height:normal;font-family:Menlo,'DejaVu Sans Mono',consolas,'Courier New',monospace\"></pre>\n"
      ],
      "text/plain": []
     },
     "metadata": {},
     "output_type": "display_data"
    },
    {
     "data": {
      "text/plain": [
       "\n",
       "content_category\n",
       "program-sub-pages              \u001b[1;36m40\u001b[0m\n",
       "live-healthy-articles          \u001b[1;36m38\u001b[0m\n",
       "programs                       \u001b[1;36m13\u001b[0m\n",
       "diseases-and-conditions        \u001b[1;36m10\u001b[0m\n",
       "health-statistics               \u001b[1;36m8\u001b[0m\n",
       "medications                     \u001b[1;36m7\u001b[0m\n",
       "cost-and-financing              \u001b[1;36m1\u001b[0m\n",
       "medical-care-and-facilities     \u001b[1;36m1\u001b[0m\n",
       "support-group-and-others        \u001b[1;36m1\u001b[0m\n",
       "dtype: int64"
      ]
     },
     "execution_count": 18,
     "metadata": {},
     "output_type": "execute_result"
    }
   ],
   "source": [
    "tmp = merged_data.query(\"extracted_content_body.notna()\")\n",
    "tmp = tmp[\n",
    "    tmp[\"extracted_content_body\"].apply(\n",
    "        lambda x: len(x.split()) > 0 and len(x.split()) <= word_count_cutoff\n",
    "    )\n",
    "]\n",
    "tmp.groupby(by=\"content_category\").size().sort_values(ascending=False)"
   ]
  },
  {
   "cell_type": "markdown",
   "metadata": {},
   "source": [
    "---"
   ]
  },
  {
   "cell_type": "markdown",
   "metadata": {},
   "source": [
    "## Examples (Excel Error)"
   ]
  },
  {
   "cell_type": "code",
   "execution_count": 19,
   "metadata": {},
   "outputs": [
    {
     "data": {
      "text/html": [
       "<pre style=\"white-space:pre;overflow-x:auto;line-height:normal;font-family:Menlo,'DejaVu Sans Mono',consolas,'Courier New',monospace\"></pre>\n"
      ],
      "text/plain": []
     },
     "metadata": {},
     "output_type": "display_data"
    },
    {
     "data": {
      "text/html": [
       "<div>\n",
       "<style scoped>\n",
       "    .dataframe tbody tr th:only-of-type {\n",
       "        vertical-align: middle;\n",
       "    }\n",
       "\n",
       "    .dataframe tbody tr th {\n",
       "        vertical-align: top;\n",
       "    }\n",
       "\n",
       "    .dataframe thead th {\n",
       "        text-align: right;\n",
       "    }\n",
       "</style>\n",
       "<table border=\"1\" class=\"dataframe\">\n",
       "  <thead>\n",
       "    <tr style=\"text-align: right;\">\n",
       "      <th></th>\n",
       "      <th>id</th>\n",
       "      <th>content_name</th>\n",
       "      <th>title</th>\n",
       "      <th>article_category_names</th>\n",
       "      <th>cover_image_url</th>\n",
       "      <th>full_url</th>\n",
       "      <th>full_url2</th>\n",
       "      <th>friendly_url</th>\n",
       "      <th>category_description</th>\n",
       "      <th>content_body</th>\n",
       "      <th>...</th>\n",
       "      <th>percentage_total_views</th>\n",
       "      <th>cumulative_percentage_total_views</th>\n",
       "      <th>content_category</th>\n",
       "      <th>to_remove</th>\n",
       "      <th>has_table</th>\n",
       "      <th>has_image</th>\n",
       "      <th>related_sections</th>\n",
       "      <th>extracted_links</th>\n",
       "      <th>extracted_headers</th>\n",
       "      <th>extracted_content_body</th>\n",
       "    </tr>\n",
       "  </thead>\n",
       "  <tbody>\n",
       "    <tr>\n",
       "      <th>0</th>\n",
       "      <td>1437331</td>\n",
       "      <td>HIV and AIDS</td>\n",
       "      <td>HIV and AIDS</td>\n",
       "      <td>Conditions and Illnesses,</td>\n",
       "      <td>https://ch-api.healthhub.sg/api/public/content...</td>\n",
       "      <td>https://www.healthhub.sg/a-z/diseases-and-cond...</td>\n",
       "      <td>www.healthhub.sg/a-z/diseases-and-conditions/t...</td>\n",
       "      <td>topics_hiv_aids</td>\n",
       "      <td>With early and effective treatment, people liv...</td>\n",
       "      <td>Value exceeded maximum cell size|MaximumCellSi...</td>\n",
       "      <td>...</td>\n",
       "      <td>0.001856</td>\n",
       "      <td>0.838698</td>\n",
       "      <td>diseases-and-conditions</td>\n",
       "      <td>True</td>\n",
       "      <td>None</td>\n",
       "      <td>None</td>\n",
       "      <td>None</td>\n",
       "      <td>None</td>\n",
       "      <td>None</td>\n",
       "      <td>None</td>\n",
       "    </tr>\n",
       "    <tr>\n",
       "      <th>1</th>\n",
       "      <td>1464135</td>\n",
       "      <td>Returning to Work</td>\n",
       "      <td>Social and Leisure Matters after Stroke: Retur...</td>\n",
       "      <td>None</td>\n",
       "      <td>None</td>\n",
       "      <td>https://www.healthhub.sg/a-z/diseases-and-cond...</td>\n",
       "      <td>www.healthhub.sg/a-z/diseases-and-conditions/s...</td>\n",
       "      <td>stroke_returning_to_work</td>\n",
       "      <td>Post-stroke management tips on returning to wo...</td>\n",
       "      <td>Value exceeded maximum cell size|MaximumCellSi...</td>\n",
       "      <td>...</td>\n",
       "      <td>0.000505</td>\n",
       "      <td>0.994560</td>\n",
       "      <td>diseases-and-conditions</td>\n",
       "      <td>True</td>\n",
       "      <td>None</td>\n",
       "      <td>None</td>\n",
       "      <td>None</td>\n",
       "      <td>None</td>\n",
       "      <td>None</td>\n",
       "      <td>None</td>\n",
       "    </tr>\n",
       "    <tr>\n",
       "      <th>2</th>\n",
       "      <td>1464154</td>\n",
       "      <td>Returning to Work (Chinese)</td>\n",
       "      <td>中风后的社会及休闲活动: 中风后重返职场</td>\n",
       "      <td>None</td>\n",
       "      <td>None</td>\n",
       "      <td>https://www.healthhub.sg/a-z/diseases-and-cond...</td>\n",
       "      <td>www.healthhub.sg/a-z/diseases-and-conditions/s...</td>\n",
       "      <td>stroke_returning_to_work_chinese</td>\n",
       "      <td>Post-stroke management on returning to work</td>\n",
       "      <td>Value exceeded maximum cell size|MaximumCellSi...</td>\n",
       "      <td>...</td>\n",
       "      <td>0.000419</td>\n",
       "      <td>0.997360</td>\n",
       "      <td>diseases-and-conditions</td>\n",
       "      <td>True</td>\n",
       "      <td>None</td>\n",
       "      <td>None</td>\n",
       "      <td>None</td>\n",
       "      <td>None</td>\n",
       "      <td>None</td>\n",
       "      <td>None</td>\n",
       "    </tr>\n",
       "    <tr>\n",
       "      <th>3</th>\n",
       "      <td>1471296</td>\n",
       "      <td>Returning to work (Tamil)</td>\n",
       "      <td>பக்கவாதம் ஏற்பட்டதற்குப் பிறகு உள்ள சமூக மற்று...</td>\n",
       "      <td>None</td>\n",
       "      <td>None</td>\n",
       "      <td>https://www.healthhub.sg/a-z/diseases-and-cond...</td>\n",
       "      <td>www.healthhub.sg/a-z/diseases-and-conditions/s...</td>\n",
       "      <td>stroke_returning_to_work_tamil</td>\n",
       "      <td>Post-stroke tips on returning to work</td>\n",
       "      <td>Value exceeded maximum cell size|MaximumCellSi...</td>\n",
       "      <td>...</td>\n",
       "      <td>0.000398</td>\n",
       "      <td>0.997758</td>\n",
       "      <td>diseases-and-conditions</td>\n",
       "      <td>True</td>\n",
       "      <td>None</td>\n",
       "      <td>None</td>\n",
       "      <td>None</td>\n",
       "      <td>None</td>\n",
       "      <td>None</td>\n",
       "      <td>None</td>\n",
       "    </tr>\n",
       "    <tr>\n",
       "      <th>4</th>\n",
       "      <td>1464163</td>\n",
       "      <td>Returning to Work (Malay)</td>\n",
       "      <td>Kegiatan Sosial dan Masa Lapang selepas Angin ...</td>\n",
       "      <td>None</td>\n",
       "      <td>None</td>\n",
       "      <td>https://www.healthhub.sg/a-z/diseases-and-cond...</td>\n",
       "      <td>www.healthhub.sg/a-z/diseases-and-conditions/s...</td>\n",
       "      <td>stroke_returning_to_work_malay</td>\n",
       "      <td>Post-stroke management tip in returning in work</td>\n",
       "      <td>Value exceeded maximum cell size|MaximumCellSi...</td>\n",
       "      <td>...</td>\n",
       "      <td>0.000358</td>\n",
       "      <td>0.998486</td>\n",
       "      <td>diseases-and-conditions</td>\n",
       "      <td>True</td>\n",
       "      <td>None</td>\n",
       "      <td>None</td>\n",
       "      <td>None</td>\n",
       "      <td>None</td>\n",
       "      <td>None</td>\n",
       "      <td>None</td>\n",
       "    </tr>\n",
       "  </tbody>\n",
       "</table>\n",
       "<p>5 rows × 33 columns</p>\n",
       "</div>"
      ],
      "text/plain": [
       "\n",
       "        id                 content_name  \\\n",
       "\u001b[1;36m0\u001b[0m  \u001b[1;36m1437331\u001b[0m                 HIV and AIDS   \n",
       "\u001b[1;36m1\u001b[0m  \u001b[1;36m1464135\u001b[0m            Returning to Work   \n",
       "\u001b[1;36m2\u001b[0m  \u001b[1;36m1464154\u001b[0m  Returning to Work \u001b[1m(\u001b[0mChinese\u001b[1m)\u001b[0m   \n",
       "\u001b[1;36m3\u001b[0m  \u001b[1;36m1471296\u001b[0m    Returning to work \u001b[1m(\u001b[0mTamil\u001b[1m)\u001b[0m   \n",
       "\u001b[1;36m4\u001b[0m  \u001b[1;36m1464163\u001b[0m    Returning to Work \u001b[1m(\u001b[0mMalay\u001b[1m)\u001b[0m   \n",
       "\n",
       "                                               title  \\\n",
       "\u001b[1;36m0\u001b[0m                                       HIV and AIDS   \n",
       "\u001b[1;36m1\u001b[0m  Social and Leisure Matters after Stroke: Retur\u001b[33m...\u001b[0m   \n",
       "\u001b[1;36m2\u001b[0m                               中风后的社会及休闲活动: 中风后重返职场   \n",
       "\u001b[1;36m3\u001b[0m  பக்கவாதம் ஏற்பட்டதற்குப் பிறகு உள்ள சமூக மற்று\u001b[33m...\u001b[0m   \n",
       "\u001b[1;36m4\u001b[0m  Kegiatan Sosial dan Masa Lapang selepas Angin \u001b[33m...\u001b[0m   \n",
       "\n",
       "      article_category_names  \\\n",
       "\u001b[1;36m0\u001b[0m  Conditions and Illnesses,   \n",
       "\u001b[1;36m1\u001b[0m                       \u001b[3;35mNone\u001b[0m   \n",
       "\u001b[1;36m2\u001b[0m                       \u001b[3;35mNone\u001b[0m   \n",
       "\u001b[1;36m3\u001b[0m                       \u001b[3;35mNone\u001b[0m   \n",
       "\u001b[1;36m4\u001b[0m                       \u001b[3;35mNone\u001b[0m   \n",
       "\n",
       "                                     cover_image_url  \\\n",
       "\u001b[1;36m0\u001b[0m  \u001b[4;94mhttps://ch-api.healthhub.sg/api/public/content...\u001b[0m   \n",
       "\u001b[1;36m1\u001b[0m                                               \u001b[3;35mNone\u001b[0m   \n",
       "\u001b[1;36m2\u001b[0m                                               \u001b[3;35mNone\u001b[0m   \n",
       "\u001b[1;36m3\u001b[0m                                               \u001b[3;35mNone\u001b[0m   \n",
       "\u001b[1;36m4\u001b[0m                                               \u001b[3;35mNone\u001b[0m   \n",
       "\n",
       "                                            full_url  \\\n",
       "\u001b[1;36m0\u001b[0m  \u001b[4;94mhttps://www.healthhub.sg/a-z/diseases-and-cond...\u001b[0m   \n",
       "\u001b[1;36m1\u001b[0m  \u001b[4;94mhttps://www.healthhub.sg/a-z/diseases-and-cond...\u001b[0m   \n",
       "\u001b[1;36m2\u001b[0m  \u001b[4;94mhttps://www.healthhub.sg/a-z/diseases-and-cond...\u001b[0m   \n",
       "\u001b[1;36m3\u001b[0m  \u001b[4;94mhttps://www.healthhub.sg/a-z/diseases-and-cond...\u001b[0m   \n",
       "\u001b[1;36m4\u001b[0m  \u001b[4;94mhttps://www.healthhub.sg/a-z/diseases-and-cond...\u001b[0m   \n",
       "\n",
       "                                           full_url2  \\\n",
       "\u001b[1;36m0\u001b[0m  www.healthhub.sg/a-z/diseases-and-conditions/t\u001b[33m...\u001b[0m   \n",
       "\u001b[1;36m1\u001b[0m  www.healthhub.sg/a-z/diseases-and-conditions/s\u001b[33m...\u001b[0m   \n",
       "\u001b[1;36m2\u001b[0m  www.healthhub.sg/a-z/diseases-and-conditions/s\u001b[33m...\u001b[0m   \n",
       "\u001b[1;36m3\u001b[0m  www.healthhub.sg/a-z/diseases-and-conditions/s\u001b[33m...\u001b[0m   \n",
       "\u001b[1;36m4\u001b[0m  www.healthhub.sg/a-z/diseases-and-conditions/s\u001b[33m...\u001b[0m   \n",
       "\n",
       "                       friendly_url  \\\n",
       "\u001b[1;36m0\u001b[0m                   topics_hiv_aids   \n",
       "\u001b[1;36m1\u001b[0m          stroke_returning_to_work   \n",
       "\u001b[1;36m2\u001b[0m  stroke_returning_to_work_chinese   \n",
       "\u001b[1;36m3\u001b[0m    stroke_returning_to_work_tamil   \n",
       "\u001b[1;36m4\u001b[0m    stroke_returning_to_work_malay   \n",
       "\n",
       "                                category_description  \\\n",
       "\u001b[1;36m0\u001b[0m  With early and effective treatment, people liv\u001b[33m...\u001b[0m   \n",
       "\u001b[1;36m1\u001b[0m  Post-stroke management tips on returning to wo\u001b[33m...\u001b[0m   \n",
       "\u001b[1;36m2\u001b[0m        Post-stroke management on returning to work   \n",
       "\u001b[1;36m3\u001b[0m              Post-stroke tips on returning to work   \n",
       "\u001b[1;36m4\u001b[0m    Post-stroke management tip in returning in work   \n",
       "\n",
       "                                        content_body  \u001b[33m...\u001b[0m  \\\n",
       "\u001b[1;36m0\u001b[0m  Value exceeded maximum cell size|MaximumCellSi\u001b[33m...\u001b[0m  \u001b[33m...\u001b[0m   \n",
       "\u001b[1;36m1\u001b[0m  Value exceeded maximum cell size|MaximumCellSi\u001b[33m...\u001b[0m  \u001b[33m...\u001b[0m   \n",
       "\u001b[1;36m2\u001b[0m  Value exceeded maximum cell size|MaximumCellSi\u001b[33m...\u001b[0m  \u001b[33m...\u001b[0m   \n",
       "\u001b[1;36m3\u001b[0m  Value exceeded maximum cell size|MaximumCellSi\u001b[33m...\u001b[0m  \u001b[33m...\u001b[0m   \n",
       "\u001b[1;36m4\u001b[0m  Value exceeded maximum cell size|MaximumCellSi\u001b[33m...\u001b[0m  \u001b[33m...\u001b[0m   \n",
       "\n",
       "  percentage_total_views cumulative_percentage_total_views  \\\n",
       "\u001b[1;36m0\u001b[0m               \u001b[1;36m0.001856\u001b[0m                          \u001b[1;36m0.838698\u001b[0m   \n",
       "\u001b[1;36m1\u001b[0m               \u001b[1;36m0.000505\u001b[0m                          \u001b[1;36m0.994560\u001b[0m   \n",
       "\u001b[1;36m2\u001b[0m               \u001b[1;36m0.000419\u001b[0m                          \u001b[1;36m0.997360\u001b[0m   \n",
       "\u001b[1;36m3\u001b[0m               \u001b[1;36m0.000398\u001b[0m                          \u001b[1;36m0.997758\u001b[0m   \n",
       "\u001b[1;36m4\u001b[0m               \u001b[1;36m0.000358\u001b[0m                          \u001b[1;36m0.998486\u001b[0m   \n",
       "\n",
       "          content_category to_remove has_table  has_image  related_sections  \\\n",
       "\u001b[1;36m0\u001b[0m  diseases-and-conditions      \u001b[3;92mTrue\u001b[0m      \u001b[3;35mNone\u001b[0m       \u001b[3;35mNone\u001b[0m              \u001b[3;35mNone\u001b[0m   \n",
       "\u001b[1;36m1\u001b[0m  diseases-and-conditions      \u001b[3;92mTrue\u001b[0m      \u001b[3;35mNone\u001b[0m       \u001b[3;35mNone\u001b[0m              \u001b[3;35mNone\u001b[0m   \n",
       "\u001b[1;36m2\u001b[0m  diseases-and-conditions      \u001b[3;92mTrue\u001b[0m      \u001b[3;35mNone\u001b[0m       \u001b[3;35mNone\u001b[0m              \u001b[3;35mNone\u001b[0m   \n",
       "\u001b[1;36m3\u001b[0m  diseases-and-conditions      \u001b[3;92mTrue\u001b[0m      \u001b[3;35mNone\u001b[0m       \u001b[3;35mNone\u001b[0m              \u001b[3;35mNone\u001b[0m   \n",
       "\u001b[1;36m4\u001b[0m  diseases-and-conditions      \u001b[3;92mTrue\u001b[0m      \u001b[3;35mNone\u001b[0m       \u001b[3;35mNone\u001b[0m              \u001b[3;35mNone\u001b[0m   \n",
       "\n",
       "   extracted_links  extracted_headers  extracted_content_body  \n",
       "\u001b[1;36m0\u001b[0m             \u001b[3;35mNone\u001b[0m               \u001b[3;35mNone\u001b[0m                    \u001b[3;35mNone\u001b[0m  \n",
       "\u001b[1;36m1\u001b[0m             \u001b[3;35mNone\u001b[0m               \u001b[3;35mNone\u001b[0m                    \u001b[3;35mNone\u001b[0m  \n",
       "\u001b[1;36m2\u001b[0m             \u001b[3;35mNone\u001b[0m               \u001b[3;35mNone\u001b[0m                    \u001b[3;35mNone\u001b[0m  \n",
       "\u001b[1;36m3\u001b[0m             \u001b[3;35mNone\u001b[0m               \u001b[3;35mNone\u001b[0m                    \u001b[3;35mNone\u001b[0m  \n",
       "\u001b[1;36m4\u001b[0m             \u001b[3;35mNone\u001b[0m               \u001b[3;35mNone\u001b[0m                    \u001b[3;35mNone\u001b[0m  \n",
       "\n",
       "\u001b[1m[\u001b[0m\u001b[1;36m5\u001b[0m rows x \u001b[1;36m33\u001b[0m columns\u001b[1m]\u001b[0m"
      ]
     },
     "execution_count": 19,
     "metadata": {},
     "output_type": "execute_result"
    }
   ],
   "source": [
    "content_category = \"diseases-and-conditions\"\n",
    "\n",
    "tmp = merged_data.query(\n",
    "    f\"content_category == '{content_category}' and content_body.str.contains('Value exceeded maximum cell')\"\n",
    ").reset_index(drop=True)\n",
    "tmp"
   ]
  },
  {
   "cell_type": "code",
   "execution_count": 20,
   "metadata": {},
   "outputs": [
    {
     "data": {
      "text/html": [
       "<pre style=\"white-space:pre;overflow-x:auto;line-height:normal;font-family:Menlo,'DejaVu Sans Mono',consolas,'Courier New',monospace\"></pre>\n"
      ],
      "text/plain": []
     },
     "metadata": {},
     "output_type": "display_data"
    },
    {
     "data": {
      "text/plain": [
       "\n",
       "\u001b[1m[\u001b[0m\n",
       "    \u001b[32m'Value exceeded maximum cell size|MaximumCellSizeReached'\u001b[0m,\n",
       "    \u001b[32m'Value exceeded maximum cell size|MaximumCellSizeReached'\u001b[0m,\n",
       "    \u001b[32m'Value exceeded maximum cell size|MaximumCellSizeReached'\u001b[0m,\n",
       "    \u001b[32m'Value exceeded maximum cell size|MaximumCellSizeReached'\u001b[0m,\n",
       "    \u001b[32m'Value exceeded maximum cell size|MaximumCellSizeReached'\u001b[0m\n",
       "\u001b[1m]\u001b[0m"
      ]
     },
     "execution_count": 20,
     "metadata": {},
     "output_type": "execute_result"
    }
   ],
   "source": [
    "tmp[\"content_body\"].values.tolist()"
   ]
  },
  {
   "cell_type": "code",
   "execution_count": 21,
   "metadata": {},
   "outputs": [
    {
     "data": {
      "text/html": [
       "<pre style=\"white-space:pre;overflow-x:auto;line-height:normal;font-family:Menlo,'DejaVu Sans Mono',consolas,'Courier New',monospace\"></pre>\n"
      ],
      "text/plain": []
     },
     "metadata": {},
     "output_type": "display_data"
    },
    {
     "data": {
      "text/plain": [
       "\n",
       "\u001b[1m[\u001b[0m\n",
       "    \u001b[32m'HIV and AIDS'\u001b[0m,\n",
       "    \u001b[32m'Social and Leisure Matters after Stroke: Returning to Work'\u001b[0m,\n",
       "    \u001b[32m'中风后的社会及休闲活动: 中风后重返职场'\u001b[0m,\n",
       "    \u001b[32m'பக்கவாதம் ஏற்பட்டதற்குப் பிறகு உள்ள சமூக மற்றும் பொழுதுபோக்கு விவகாரங்கள்: வேலைக்குத் திரும்புதல்'\u001b[0m,\n",
       "    \u001b[32m'Kegiatan Sosial dan Masa Lapang selepas Angin Ahmar: Kembali Bekerja Selepas Angin Ahmar'\u001b[0m\n",
       "\u001b[1m]\u001b[0m"
      ]
     },
     "execution_count": 21,
     "metadata": {},
     "output_type": "execute_result"
    }
   ],
   "source": [
    "tmp[\"title\"].values.tolist()"
   ]
  },
  {
   "cell_type": "code",
   "execution_count": 22,
   "metadata": {},
   "outputs": [
    {
     "data": {
      "text/html": [
       "<pre style=\"white-space:pre;overflow-x:auto;line-height:normal;font-family:Menlo,'DejaVu Sans Mono',consolas,'Courier New',monospace\"></pre>\n"
      ],
      "text/plain": []
     },
     "metadata": {},
     "output_type": "display_data"
    },
    {
     "data": {
      "text/plain": [
       "\n",
       "\u001b[1m[\u001b[0m\n",
       "    \u001b[32m'https://www.healthhub.sg/a-z/diseases-and-conditions/topics_hiv_aids'\u001b[0m,\n",
       "    \u001b[32m'https://www.healthhub.sg/a-z/diseases-and-conditions/stroke_returning_to_work'\u001b[0m,\n",
       "    \u001b[32m'https://www.healthhub.sg/a-z/diseases-and-conditions/stroke_returning_to_work_chinese'\u001b[0m,\n",
       "    \u001b[32m'https://www.healthhub.sg/a-z/diseases-and-conditions/stroke_returning_to_work_tamil'\u001b[0m,\n",
       "    \u001b[32m'https://www.healthhub.sg/a-z/diseases-and-conditions/stroke_returning_to_work_malay'\u001b[0m\n",
       "\u001b[1m]\u001b[0m"
      ]
     },
     "execution_count": 22,
     "metadata": {},
     "output_type": "execute_result"
    }
   ],
   "source": [
    "tmp[\"full_url\"].values.tolist()"
   ]
  },
  {
   "cell_type": "markdown",
   "metadata": {},
   "source": [
    "## Examples (No Tags)"
   ]
  },
  {
   "cell_type": "code",
   "execution_count": 23,
   "metadata": {},
   "outputs": [
    {
     "data": {
      "text/html": [
       "<pre style=\"white-space:pre;overflow-x:auto;line-height:normal;font-family:Menlo,'DejaVu Sans Mono',consolas,'Courier New',monospace\"></pre>\n"
      ],
      "text/plain": []
     },
     "metadata": {},
     "output_type": "display_data"
    },
    {
     "data": {
      "text/html": [
       "<div>\n",
       "<style scoped>\n",
       "    .dataframe tbody tr th:only-of-type {\n",
       "        vertical-align: middle;\n",
       "    }\n",
       "\n",
       "    .dataframe tbody tr th {\n",
       "        vertical-align: top;\n",
       "    }\n",
       "\n",
       "    .dataframe thead th {\n",
       "        text-align: right;\n",
       "    }\n",
       "</style>\n",
       "<table border=\"1\" class=\"dataframe\">\n",
       "  <thead>\n",
       "    <tr style=\"text-align: right;\">\n",
       "      <th></th>\n",
       "      <th>id</th>\n",
       "      <th>content_name</th>\n",
       "      <th>title</th>\n",
       "      <th>article_category_names</th>\n",
       "      <th>cover_image_url</th>\n",
       "      <th>full_url</th>\n",
       "      <th>full_url2</th>\n",
       "      <th>friendly_url</th>\n",
       "      <th>category_description</th>\n",
       "      <th>content_body</th>\n",
       "      <th>...</th>\n",
       "      <th>percentage_total_views</th>\n",
       "      <th>cumulative_percentage_total_views</th>\n",
       "      <th>content_category</th>\n",
       "      <th>to_remove</th>\n",
       "      <th>has_table</th>\n",
       "      <th>has_image</th>\n",
       "      <th>related_sections</th>\n",
       "      <th>extracted_links</th>\n",
       "      <th>extracted_headers</th>\n",
       "      <th>extracted_content_body</th>\n",
       "    </tr>\n",
       "  </thead>\n",
       "  <tbody>\n",
       "    <tr>\n",
       "      <th>0</th>\n",
       "      <td>1468614</td>\n",
       "      <td>1test-2</td>\n",
       "      <td>Test Entry</td>\n",
       "      <td>None</td>\n",
       "      <td>None</td>\n",
       "      <td>https://www.healthhub.sg/a-z/costs-and-financi...</td>\n",
       "      <td>www.healthhub.sg/a-z/costs-and-financing/1test-2</td>\n",
       "      <td>1test-2</td>\n",
       "      <td>Sagittis aliquam malesuada bibendum arcu vitae...</td>\n",
       "      <td>Pellentesque habitant morbi tristique senectus...</td>\n",
       "      <td>...</td>\n",
       "      <td>0.0</td>\n",
       "      <td>1.0</td>\n",
       "      <td>cost-and-financing</td>\n",
       "      <td>True</td>\n",
       "      <td>None</td>\n",
       "      <td>None</td>\n",
       "      <td>None</td>\n",
       "      <td>None</td>\n",
       "      <td>None</td>\n",
       "      <td>None</td>\n",
       "    </tr>\n",
       "  </tbody>\n",
       "</table>\n",
       "<p>1 rows × 33 columns</p>\n",
       "</div>"
      ],
      "text/plain": [
       "\n",
       "        id content_name       title article_category_names cover_image_url  \\\n",
       "\u001b[1;36m0\u001b[0m  \u001b[1;36m1468614\u001b[0m      1test-\u001b[1;36m2\u001b[0m  Test Entry                   \u001b[3;35mNone\u001b[0m            \u001b[3;35mNone\u001b[0m   \n",
       "\n",
       "                                            full_url  \\\n",
       "\u001b[1;36m0\u001b[0m  \u001b[4;94mhttps://www.healthhub.sg/a-z/costs-and-financi...\u001b[0m   \n",
       "\n",
       "                                          full_url2 friendly_url  \\\n",
       "\u001b[1;36m0\u001b[0m  www.healthhub.sg/a-z/costs-and-financing/1test-\u001b[1;36m2\u001b[0m      1test-\u001b[1;36m2\u001b[0m   \n",
       "\n",
       "                                category_description  \\\n",
       "\u001b[1;36m0\u001b[0m  Sagittis aliquam malesuada bibendum arcu vitae\u001b[33m...\u001b[0m   \n",
       "\n",
       "                                        content_body  \u001b[33m...\u001b[0m  \\\n",
       "\u001b[1;36m0\u001b[0m  Pellentesque habitant morbi tristique senectus\u001b[33m...\u001b[0m  \u001b[33m...\u001b[0m   \n",
       "\n",
       "  percentage_total_views cumulative_percentage_total_views  \\\n",
       "\u001b[1;36m0\u001b[0m                    \u001b[1;36m0.0\u001b[0m                               \u001b[1;36m1.0\u001b[0m   \n",
       "\n",
       "     content_category to_remove has_table  has_image  related_sections  \\\n",
       "\u001b[1;36m0\u001b[0m  cost-and-financing      \u001b[3;92mTrue\u001b[0m      \u001b[3;35mNone\u001b[0m       \u001b[3;35mNone\u001b[0m              \u001b[3;35mNone\u001b[0m   \n",
       "\n",
       "   extracted_links  extracted_headers  extracted_content_body  \n",
       "\u001b[1;36m0\u001b[0m             \u001b[3;35mNone\u001b[0m               \u001b[3;35mNone\u001b[0m                    \u001b[3;35mNone\u001b[0m  \n",
       "\n",
       "\u001b[1m[\u001b[0m\u001b[1;36m1\u001b[0m rows x \u001b[1;36m33\u001b[0m columns\u001b[1m]\u001b[0m"
      ]
     },
     "execution_count": 23,
     "metadata": {},
     "output_type": "execute_result"
    }
   ],
   "source": [
    "content_category = \"cost-and-financing\"\n",
    "\n",
    "tmp = merged_data.query(\n",
    "    f\"content_category == '{content_category}' and content_body.notna()\"\n",
    ")\n",
    "tmp = tmp[~tmp[\"content_body\"].apply(lambda x: apply_regex_v2(x)).values].reset_index(\n",
    "    drop=True\n",
    ")\n",
    "tmp"
   ]
  },
  {
   "cell_type": "code",
   "execution_count": 24,
   "metadata": {},
   "outputs": [
    {
     "name": "stdout",
     "output_type": "stream",
     "text": [
      "Pellentesque habitant morbi tristique senectus et netus et malesuada fames. Sodales neque sodales ut etiam sit amet nisl purus. Risus at ultrices mi tempus imperdiet nulla. Euismod in pellentesque massa placerat duis ultricies lacus sed.\n"
     ]
    }
   ],
   "source": [
    "print(tmp[\"content_body\"].values.tolist()[0])"
   ]
  },
  {
   "cell_type": "code",
   "execution_count": 25,
   "metadata": {},
   "outputs": [
    {
     "data": {
      "text/html": [
       "<pre style=\"white-space:pre;overflow-x:auto;line-height:normal;font-family:Menlo,'DejaVu Sans Mono',consolas,'Courier New',monospace\"></pre>\n"
      ],
      "text/plain": []
     },
     "metadata": {},
     "output_type": "display_data"
    },
    {
     "data": {
      "text/plain": [
       "\u001b[1m[\u001b[0m\u001b[32m'Test Entry'\u001b[0m\u001b[1m]\u001b[0m"
      ]
     },
     "execution_count": 25,
     "metadata": {},
     "output_type": "execute_result"
    }
   ],
   "source": [
    "tmp[\"title\"].values.tolist()"
   ]
  },
  {
   "cell_type": "code",
   "execution_count": 26,
   "metadata": {},
   "outputs": [
    {
     "data": {
      "text/html": [
       "<pre style=\"white-space:pre;overflow-x:auto;line-height:normal;font-family:Menlo,'DejaVu Sans Mono',consolas,'Courier New',monospace\"></pre>\n"
      ],
      "text/plain": []
     },
     "metadata": {},
     "output_type": "display_data"
    },
    {
     "data": {
      "text/plain": [
       "\u001b[1m[\u001b[0m\u001b[32m'https://www.healthhub.sg/a-z/costs-and-financing/1test-2'\u001b[0m\u001b[1m]\u001b[0m"
      ]
     },
     "execution_count": 26,
     "metadata": {},
     "output_type": "execute_result"
    }
   ],
   "source": [
    "tmp[\"full_url\"].values.tolist()"
   ]
  },
  {
   "cell_type": "markdown",
   "metadata": {},
   "source": [
    "## Examples (No Extracted Content)"
   ]
  },
  {
   "cell_type": "code",
   "execution_count": 27,
   "metadata": {},
   "outputs": [
    {
     "data": {
      "text/html": [
       "<pre style=\"white-space:pre;overflow-x:auto;line-height:normal;font-family:Menlo,'DejaVu Sans Mono',consolas,'Courier New',monospace\"></pre>\n"
      ],
      "text/plain": []
     },
     "metadata": {},
     "output_type": "display_data"
    },
    {
     "data": {
      "text/html": [
       "<div>\n",
       "<style scoped>\n",
       "    .dataframe tbody tr th:only-of-type {\n",
       "        vertical-align: middle;\n",
       "    }\n",
       "\n",
       "    .dataframe tbody tr th {\n",
       "        vertical-align: top;\n",
       "    }\n",
       "\n",
       "    .dataframe thead th {\n",
       "        text-align: right;\n",
       "    }\n",
       "</style>\n",
       "<table border=\"1\" class=\"dataframe\">\n",
       "  <thead>\n",
       "    <tr style=\"text-align: right;\">\n",
       "      <th></th>\n",
       "      <th>id</th>\n",
       "      <th>content_name</th>\n",
       "      <th>title</th>\n",
       "      <th>article_category_names</th>\n",
       "      <th>cover_image_url</th>\n",
       "      <th>full_url</th>\n",
       "      <th>full_url2</th>\n",
       "      <th>friendly_url</th>\n",
       "      <th>category_description</th>\n",
       "      <th>content_body</th>\n",
       "      <th>...</th>\n",
       "      <th>percentage_total_views</th>\n",
       "      <th>cumulative_percentage_total_views</th>\n",
       "      <th>content_category</th>\n",
       "      <th>to_remove</th>\n",
       "      <th>has_table</th>\n",
       "      <th>has_image</th>\n",
       "      <th>related_sections</th>\n",
       "      <th>extracted_links</th>\n",
       "      <th>extracted_headers</th>\n",
       "      <th>extracted_content_body</th>\n",
       "    </tr>\n",
       "  </thead>\n",
       "  <tbody>\n",
       "    <tr>\n",
       "      <th>2603</th>\n",
       "      <td>1440793</td>\n",
       "      <td>HSA: Search for Registered Health Products</td>\n",
       "      <td>HSA: Search for Registered Health Products</td>\n",
       "      <td>None</td>\n",
       "      <td>https://ch-api.healthhub.sg/api/public/content...</td>\n",
       "      <td>https://www.healthhub.sg/a-z/support-groups-an...</td>\n",
       "      <td>www.healthhub.sg/a-z/support-groups-and-others...</td>\n",
       "      <td>registered-health-products</td>\n",
       "      <td>Find out if your Medicine/Medical Devices/Chin...</td>\n",
       "      <td>&lt;div class=\"ExternalClass7EA11F1C5E404F449FD8A...</td>\n",
       "      <td>...</td>\n",
       "      <td>0.065381</td>\n",
       "      <td>0.668331</td>\n",
       "      <td>support-group-and-others</td>\n",
       "      <td>True</td>\n",
       "      <td>False</td>\n",
       "      <td>False</td>\n",
       "      <td>[]</td>\n",
       "      <td>[[Find Out, https://www.healthhub.sg/programme...</td>\n",
       "      <td>[]</td>\n",
       "      <td></td>\n",
       "    </tr>\n",
       "  </tbody>\n",
       "</table>\n",
       "<p>1 rows × 33 columns</p>\n",
       "</div>"
      ],
      "text/plain": [
       "\n",
       "           id                                content_name  \\\n",
       "\u001b[1;36m2603\u001b[0m  \u001b[1;36m1440793\u001b[0m  HSA: Search for Registered Health Products   \n",
       "\n",
       "                                           title article_category_names  \\\n",
       "\u001b[1;36m2603\u001b[0m  HSA: Search for Registered Health Products                   \u001b[3;35mNone\u001b[0m   \n",
       "\n",
       "                                        cover_image_url  \\\n",
       "\u001b[1;36m2603\u001b[0m  \u001b[4;94mhttps://ch-api.healthhub.sg/api/public/content...\u001b[0m   \n",
       "\n",
       "                                               full_url  \\\n",
       "\u001b[1;36m2603\u001b[0m  \u001b[4;94mhttps://www.healthhub.sg/a-z/support-groups-an...\u001b[0m   \n",
       "\n",
       "                                              full_url2  \\\n",
       "\u001b[1;36m2603\u001b[0m  www.healthhub.sg/a-z/support-groups-and-others\u001b[33m...\u001b[0m   \n",
       "\n",
       "                    friendly_url  \\\n",
       "\u001b[1;36m2603\u001b[0m  registered-health-products   \n",
       "\n",
       "                                   category_description  \\\n",
       "\u001b[1;36m2603\u001b[0m  Find out if your Medicine/Medical Devices/Chin\u001b[33m...\u001b[0m   \n",
       "\n",
       "                                           content_body  \u001b[33m...\u001b[0m  \\\n",
       "\u001b[1;36m2603\u001b[0m  <div \u001b[33mclass\u001b[0m=\u001b[35m\"ExternalClass7EA11F1C5E404F449FD8A\u001b[0m\u001b[33m...\u001b[0m  \u001b[33m...\u001b[0m   \n",
       "\n",
       "     percentage_total_views cumulative_percentage_total_views  \\\n",
       "\u001b[1;36m2603\u001b[0m               \u001b[1;36m0.065381\u001b[0m                          \u001b[1;36m0.668331\u001b[0m   \n",
       "\n",
       "              content_category to_remove has_table  has_image  \\\n",
       "\u001b[1;36m2603\u001b[0m  support-group-and-others      \u001b[3;92mTrue\u001b[0m     \u001b[3;91mFalse\u001b[0m      \u001b[3;91mFalse\u001b[0m   \n",
       "\n",
       "      related_sections                                    extracted_links  \\\n",
       "\u001b[1;36m2603\u001b[0m                \u001b[1m[\u001b[0m\u001b[1m]\u001b[0m  \u001b[1m[\u001b[0m\u001b[1m[\u001b[0mFind Out, \u001b[4;94mhttps://www.healthhub.sg/programme...\u001b[0m   \n",
       "\n",
       "      extracted_headers  extracted_content_body  \n",
       "\u001b[1;36m2603\u001b[0m                 \u001b[1m[\u001b[0m\u001b[1m]\u001b[0m                          \n",
       "\n",
       "\u001b[1m[\u001b[0m\u001b[1;36m1\u001b[0m rows x \u001b[1;36m33\u001b[0m columns\u001b[1m]\u001b[0m"
      ]
     },
     "execution_count": 27,
     "metadata": {},
     "output_type": "execute_result"
    }
   ],
   "source": [
    "content_category = \"support-group-and-others\"\n",
    "\n",
    "tmp = merged_data.query(\n",
    "    f\"content_category == '{content_category}' and extracted_content_body == ''\"\n",
    ")\n",
    "tmp"
   ]
  },
  {
   "cell_type": "code",
   "execution_count": 28,
   "metadata": {},
   "outputs": [
    {
     "data": {
      "text/html": [
       "<pre style=\"white-space:pre;overflow-x:auto;line-height:normal;font-family:Menlo,'DejaVu Sans Mono',consolas,'Courier New',monospace\"></pre>\n"
      ],
      "text/plain": []
     },
     "metadata": {},
     "output_type": "display_data"
    },
    {
     "data": {
      "text/plain": [
       "\n",
       "\u001b[1m[\u001b[0m\n",
       "    \u001b[32m'\u001b[0m\u001b[32m<\u001b[0m\u001b[32mdiv\u001b[0m\u001b[32m \u001b[0m\u001b[32mclass\u001b[0m\u001b[32m=\u001b[0m\u001b[32m\"ExternalClass7EA11F1C5E404F449FD8A9A5D1ED4CF0\"\u001b[0m\u001b[32m><p> \\n      <br> \\n   </p><p>\\n      <strong \u001b[0m\u001b[32mstyle\u001b[0m\u001b[32m=\u001b[0m\u001b[32m\"text\u001b[0m\u001b[32m-decoration:underline;color:#43afff;\"> \\n         <a \u001b[0m\u001b[32mhref\u001b[0m\u001b[32m=\u001b[0m\u001b[32m\"https\u001b[0m\u001b[32m://www.healthhub.sg/programmes/hsa\" \u001b[0m\u001b[32mstyle\u001b[0m\u001b[32m=\u001b[0m\u001b[32m\"text\u001b[0m\u001b[32m-decoration:underline;\">Find\\xa0Out</a></strong><strong \u001b[0m\u001b[32mstyle\u001b[0m\u001b[32m=\u001b[0m\u001b[32m\"color\u001b[0m\u001b[32m:#43afff;\"> </strong>if your Medicine/Medical Devices/Chinese Proprietary Medicines are registered/listed in Singapore<br></p><p>\\n      <br>\\n   </p></div>\\n<br>\\n<br\u001b[0m\u001b[32m>\u001b[0m\u001b[32m'\u001b[0m\n",
       "\u001b[1m]\u001b[0m"
      ]
     },
     "execution_count": 28,
     "metadata": {},
     "output_type": "execute_result"
    }
   ],
   "source": [
    "tmp[\"content_body\"].values.tolist()"
   ]
  },
  {
   "cell_type": "code",
   "execution_count": 29,
   "metadata": {},
   "outputs": [
    {
     "data": {
      "text/html": [
       "<pre style=\"white-space:pre;overflow-x:auto;line-height:normal;font-family:Menlo,'DejaVu Sans Mono',consolas,'Courier New',monospace\"></pre>\n"
      ],
      "text/plain": []
     },
     "metadata": {},
     "output_type": "display_data"
    },
    {
     "data": {
      "text/plain": [
       "\u001b[1m[\u001b[0m\u001b[32m'HSA: Search for Registered Health Products'\u001b[0m\u001b[1m]\u001b[0m"
      ]
     },
     "execution_count": 29,
     "metadata": {},
     "output_type": "execute_result"
    }
   ],
   "source": [
    "tmp[\"title\"].values.tolist()"
   ]
  },
  {
   "cell_type": "code",
   "execution_count": 30,
   "metadata": {},
   "outputs": [
    {
     "data": {
      "text/html": [
       "<pre style=\"white-space:pre;overflow-x:auto;line-height:normal;font-family:Menlo,'DejaVu Sans Mono',consolas,'Courier New',monospace\"></pre>\n"
      ],
      "text/plain": []
     },
     "metadata": {},
     "output_type": "display_data"
    },
    {
     "data": {
      "text/plain": [
       "\u001b[1m[\u001b[0m\u001b[32m'https://www.healthhub.sg/a-z/support-groups-and-others/registered-health-products'\u001b[0m\u001b[1m]\u001b[0m"
      ]
     },
     "execution_count": 30,
     "metadata": {},
     "output_type": "execute_result"
    }
   ],
   "source": [
    "tmp[\"full_url\"].values.tolist()"
   ]
  },
  {
   "cell_type": "markdown",
   "metadata": {},
   "source": [
    "## Examples (Below Word Count)"
   ]
  },
  {
   "cell_type": "code",
   "execution_count": 31,
   "metadata": {},
   "outputs": [],
   "source": [
    "tmp = merged_data.query(\"extracted_content_body.notna()\")\n",
    "tmp = tmp[\n",
    "    tmp[\"extracted_content_body\"].apply(\n",
    "        lambda x: len(x.split()) > 0 and len(x.split()) <= word_count_cutoff\n",
    "    )\n",
    "]"
   ]
  },
  {
   "cell_type": "code",
   "execution_count": 32,
   "metadata": {},
   "outputs": [
    {
     "name": "stdout",
     "output_type": "stream",
     "text": [
      "339\n",
      "https://www.healthhub.sg/a-z/diseases-and-conditions/1test\n",
      "EY Test Entry\n",
      "Test Entry - 15/11/2023\n"
     ]
    }
   ],
   "source": [
    "content_category = \"diseases-and-conditions\"\n",
    "\n",
    "sampled = tmp.query(f\"content_category == '{content_category}'\").sample(1)\n",
    "\n",
    "print(sampled.index[0])\n",
    "print(sampled[\"full_url\"].values[0])\n",
    "print(sampled[\"title\"].values[0])\n",
    "print(sampled[\"extracted_content_body\"].values[0])"
   ]
  },
  {
   "cell_type": "code",
   "execution_count": 33,
   "metadata": {},
   "outputs": [
    {
     "data": {
      "text/html": [
       "<pre style=\"white-space:pre;overflow-x:auto;line-height:normal;font-family:Menlo,'DejaVu Sans Mono',consolas,'Courier New',monospace\"></pre>\n"
      ],
      "text/plain": []
     },
     "metadata": {},
     "output_type": "display_data"
    },
    {
     "data": {
      "text/html": [
       "<div>\n",
       "<style scoped>\n",
       "    .dataframe tbody tr th:only-of-type {\n",
       "        vertical-align: middle;\n",
       "    }\n",
       "\n",
       "    .dataframe tbody tr th {\n",
       "        vertical-align: top;\n",
       "    }\n",
       "\n",
       "    .dataframe thead th {\n",
       "        text-align: right;\n",
       "    }\n",
       "</style>\n",
       "<table border=\"1\" class=\"dataframe\">\n",
       "  <thead>\n",
       "    <tr style=\"text-align: right;\">\n",
       "      <th></th>\n",
       "      <th>id</th>\n",
       "      <th>content_name</th>\n",
       "      <th>title</th>\n",
       "      <th>article_category_names</th>\n",
       "      <th>cover_image_url</th>\n",
       "      <th>full_url</th>\n",
       "      <th>full_url2</th>\n",
       "      <th>friendly_url</th>\n",
       "      <th>category_description</th>\n",
       "      <th>content_body</th>\n",
       "      <th>...</th>\n",
       "      <th>percentage_total_views</th>\n",
       "      <th>cumulative_percentage_total_views</th>\n",
       "      <th>content_category</th>\n",
       "      <th>to_remove</th>\n",
       "      <th>has_table</th>\n",
       "      <th>has_image</th>\n",
       "      <th>related_sections</th>\n",
       "      <th>extracted_links</th>\n",
       "      <th>extracted_headers</th>\n",
       "      <th>extracted_content_body</th>\n",
       "    </tr>\n",
       "  </thead>\n",
       "  <tbody>\n",
       "    <tr>\n",
       "      <th>7</th>\n",
       "      <td>1435035</td>\n",
       "      <td>Hospital Bills Estimates in Singapore</td>\n",
       "      <td>Hospital Bills Estimates in Singapore</td>\n",
       "      <td>Conditions and Illnesses,</td>\n",
       "      <td>https://ch-api.healthhub.sg/api/public/content...</td>\n",
       "      <td>https://www.healthhub.sg/a-z/costs-and-financi...</td>\n",
       "      <td>www.healthhub.sg/a-z/costs-and-financing/hospi...</td>\n",
       "      <td>hospital-charges</td>\n",
       "      <td>Manage your healthcare costs by assessing the ...</td>\n",
       "      <td>&lt;div class=\"ExternalClass3990B681758C432A8A905...</td>\n",
       "      <td>...</td>\n",
       "      <td>0.047452</td>\n",
       "      <td>0.660883</td>\n",
       "      <td>cost-and-financing</td>\n",
       "      <td>True</td>\n",
       "      <td>False</td>\n",
       "      <td>False</td>\n",
       "      <td>[]</td>\n",
       "      <td>[[https://moh.gov.sg/cost-financing/bill-estim...</td>\n",
       "      <td>[]</td>\n",
       "      <td>The Ministry of Health publishes hospital bill...</td>\n",
       "    </tr>\n",
       "    <tr>\n",
       "      <th>125</th>\n",
       "      <td>1437417</td>\n",
       "      <td>Hearing Tests</td>\n",
       "      <td>Hearing Tests</td>\n",
       "      <td>None</td>\n",
       "      <td>https://ch-api.healthhub.sg/api/public/content...</td>\n",
       "      <td>https://www.healthhub.sg/a-z/diseases-and-cond...</td>\n",
       "      <td>www.healthhub.sg/a-z/diseases-and-conditions/h...</td>\n",
       "      <td>hearing_test_sgh</td>\n",
       "      <td>A basic hearing test or pure tone audiometry i...</td>\n",
       "      <td>&lt;div class=\"ExternalClassA79F25C288FF433383646...</td>\n",
       "      <td>...</td>\n",
       "      <td>0.002389</td>\n",
       "      <td>0.767962</td>\n",
       "      <td>diseases-and-conditions</td>\n",
       "      <td>True</td>\n",
       "      <td>False</td>\n",
       "      <td>False</td>\n",
       "      <td>[]</td>\n",
       "      <td>[[click here, http://www.singhealth.com.sg/Pat...</td>\n",
       "      <td>[[​Overview , h2]]</td>\n",
       "      <td>Overview\\nA basic hearing test or pure tone au...</td>\n",
       "    </tr>\n",
       "    <tr>\n",
       "      <th>182</th>\n",
       "      <td>1437667</td>\n",
       "      <td>Colonoscopy Procedure</td>\n",
       "      <td>Colonoscopy Procedure</td>\n",
       "      <td>Conditions and Illnesses,</td>\n",
       "      <td>https://ch-api.healthhub.sg/api/public/content...</td>\n",
       "      <td>https://www.healthhub.sg/a-z/diseases-and-cond...</td>\n",
       "      <td>www.healthhub.sg/a-z/diseases-and-conditions/c...</td>\n",
       "      <td>colonoscopy-video</td>\n",
       "      <td>What is a colonoscopy? Get an in-depth look by...</td>\n",
       "      <td>&lt;div class=\"ExternalClass3273C8E7BACB45EE87C06...</td>\n",
       "      <td>...</td>\n",
       "      <td>0.001486</td>\n",
       "      <td>0.876739</td>\n",
       "      <td>diseases-and-conditions</td>\n",
       "      <td>True</td>\n",
       "      <td>False</td>\n",
       "      <td>False</td>\n",
       "      <td>[]</td>\n",
       "      <td>[]</td>\n",
       "      <td>[[What is a Colonoscopy?\\n, h2]]</td>\n",
       "      <td>What is a Colonoscopy?\\nA colonoscopy is a pro...</td>\n",
       "    </tr>\n",
       "    <tr>\n",
       "      <th>297</th>\n",
       "      <td>1437297</td>\n",
       "      <td>Allergies (Child)</td>\n",
       "      <td>Allergies (Child)</td>\n",
       "      <td>None</td>\n",
       "      <td>https://ch-api.healthhub.sg/api/public/content...</td>\n",
       "      <td>https://www.healthhub.sg/a-z/diseases-and-cond...</td>\n",
       "      <td>www.healthhub.sg/a-z/diseases-and-conditions/a...</td>\n",
       "      <td>allergies_child_sgh</td>\n",
       "      <td>Find out what are the common childhood allergi...</td>\n",
       "      <td>&lt;div class=\"ExternalClass1FE95FFA9E1D4B2AAC250...</td>\n",
       "      <td>...</td>\n",
       "      <td>0.000581</td>\n",
       "      <td>0.984935</td>\n",
       "      <td>diseases-and-conditions</td>\n",
       "      <td>True</td>\n",
       "      <td>False</td>\n",
       "      <td>False</td>\n",
       "      <td>[Conjuctivitis, Ringworm, Cough]</td>\n",
       "      <td>[[click here, http://www.singhealth.com.sg/Pat...</td>\n",
       "      <td>[[Overview, h2]]</td>\n",
       "      <td>OverviewAllergies are some of the most common ...</td>\n",
       "    </tr>\n",
       "    <tr>\n",
       "      <th>308</th>\n",
       "      <td>1437335</td>\n",
       "      <td>Chronic Rhinitis</td>\n",
       "      <td>Chronic Rhinitis</td>\n",
       "      <td>None</td>\n",
       "      <td>https://ch-api.healthhub.sg/api/public/content...</td>\n",
       "      <td>https://www.healthhub.sg/a-z/diseases-and-cond...</td>\n",
       "      <td>www.healthhub.sg/a-z/diseases-and-conditions/c...</td>\n",
       "      <td>chronic_rhinitis</td>\n",
       "      <td>Chronic rhinitis causes mucus accumulation and...</td>\n",
       "      <td>&lt;div class=\"ExternalClass4AD22DD1314C45BA95EA6...</td>\n",
       "      <td>...</td>\n",
       "      <td>0.000521</td>\n",
       "      <td>0.990982</td>\n",
       "      <td>diseases-and-conditions</td>\n",
       "      <td>True</td>\n",
       "      <td>False</td>\n",
       "      <td>False</td>\n",
       "      <td>[]</td>\n",
       "      <td>[]</td>\n",
       "      <td>[]</td>\n",
       "      <td>The cavities around nasal passages (sinuses) b...</td>\n",
       "    </tr>\n",
       "  </tbody>\n",
       "</table>\n",
       "<p>5 rows × 33 columns</p>\n",
       "</div>"
      ],
      "text/plain": [
       "\n",
       "          id                           content_name  \\\n",
       "\u001b[1;36m7\u001b[0m    \u001b[1;36m1435035\u001b[0m  Hospital Bills Estimates in Singapore   \n",
       "\u001b[1;36m125\u001b[0m  \u001b[1;36m1437417\u001b[0m                          Hearing Tests   \n",
       "\u001b[1;36m182\u001b[0m  \u001b[1;36m1437667\u001b[0m                  Colonoscopy Procedure   \n",
       "\u001b[1;36m297\u001b[0m  \u001b[1;36m1437297\u001b[0m                      Allergies \u001b[1m(\u001b[0mChild\u001b[1m)\u001b[0m   \n",
       "\u001b[1;36m308\u001b[0m  \u001b[1;36m1437335\u001b[0m                       Chronic Rhinitis   \n",
       "\n",
       "                                     title     article_category_names  \\\n",
       "\u001b[1;36m7\u001b[0m    Hospital Bills Estimates in Singapore  Conditions and Illnesses,   \n",
       "\u001b[1;36m125\u001b[0m                          Hearing Tests                       \u001b[3;35mNone\u001b[0m   \n",
       "\u001b[1;36m182\u001b[0m                  Colonoscopy Procedure  Conditions and Illnesses,   \n",
       "\u001b[1;36m297\u001b[0m                      Allergies \u001b[1m(\u001b[0mChild\u001b[1m)\u001b[0m                       \u001b[3;35mNone\u001b[0m   \n",
       "\u001b[1;36m308\u001b[0m                       Chronic Rhinitis                       \u001b[3;35mNone\u001b[0m   \n",
       "\n",
       "                                       cover_image_url  \\\n",
       "\u001b[1;36m7\u001b[0m    \u001b[4;94mhttps://ch-api.healthhub.sg/api/public/content...\u001b[0m   \n",
       "\u001b[1;36m125\u001b[0m  \u001b[4;94mhttps://ch-api.healthhub.sg/api/public/content...\u001b[0m   \n",
       "\u001b[1;36m182\u001b[0m  \u001b[4;94mhttps://ch-api.healthhub.sg/api/public/content...\u001b[0m   \n",
       "\u001b[1;36m297\u001b[0m  \u001b[4;94mhttps://ch-api.healthhub.sg/api/public/content...\u001b[0m   \n",
       "\u001b[1;36m308\u001b[0m  \u001b[4;94mhttps://ch-api.healthhub.sg/api/public/content...\u001b[0m   \n",
       "\n",
       "                                              full_url  \\\n",
       "\u001b[1;36m7\u001b[0m    \u001b[4;94mhttps://www.healthhub.sg/a-z/costs-and-financi...\u001b[0m   \n",
       "\u001b[1;36m125\u001b[0m  \u001b[4;94mhttps://www.healthhub.sg/a-z/diseases-and-cond...\u001b[0m   \n",
       "\u001b[1;36m182\u001b[0m  \u001b[4;94mhttps://www.healthhub.sg/a-z/diseases-and-cond...\u001b[0m   \n",
       "\u001b[1;36m297\u001b[0m  \u001b[4;94mhttps://www.healthhub.sg/a-z/diseases-and-cond...\u001b[0m   \n",
       "\u001b[1;36m308\u001b[0m  \u001b[4;94mhttps://www.healthhub.sg/a-z/diseases-and-cond...\u001b[0m   \n",
       "\n",
       "                                             full_url2         friendly_url  \\\n",
       "\u001b[1;36m7\u001b[0m    www.healthhub.sg/a-z/costs-and-financing/hospi\u001b[33m...\u001b[0m     hospital-charges   \n",
       "\u001b[1;36m125\u001b[0m  www.healthhub.sg/a-z/diseases-and-conditions/h\u001b[33m...\u001b[0m     hearing_test_sgh   \n",
       "\u001b[1;36m182\u001b[0m  www.healthhub.sg/a-z/diseases-and-conditions/c\u001b[33m...\u001b[0m    colonoscopy-video   \n",
       "\u001b[1;36m297\u001b[0m  www.healthhub.sg/a-z/diseases-and-conditions/a\u001b[33m...\u001b[0m  allergies_child_sgh   \n",
       "\u001b[1;36m308\u001b[0m  www.healthhub.sg/a-z/diseases-and-conditions/c\u001b[33m...\u001b[0m     chronic_rhinitis   \n",
       "\n",
       "                                  category_description  \\\n",
       "\u001b[1;36m7\u001b[0m    Manage your healthcare costs by assessing the \u001b[33m...\u001b[0m   \n",
       "\u001b[1;36m125\u001b[0m  A basic hearing test or pure tone audiometry i\u001b[33m...\u001b[0m   \n",
       "\u001b[1;36m182\u001b[0m  What is a colonoscopy? Get an in-depth look by\u001b[33m...\u001b[0m   \n",
       "\u001b[1;36m297\u001b[0m  Find out what are the common childhood allergi\u001b[33m...\u001b[0m   \n",
       "\u001b[1;36m308\u001b[0m  Chronic rhinitis causes mucus accumulation and\u001b[33m...\u001b[0m   \n",
       "\n",
       "                                          content_body  \u001b[33m...\u001b[0m  \\\n",
       "\u001b[1;36m7\u001b[0m    <div \u001b[33mclass\u001b[0m=\u001b[35m\"ExternalClass3990B681758C432A8A905\u001b[0m\u001b[33m...\u001b[0m  \u001b[33m...\u001b[0m   \n",
       "\u001b[1;36m125\u001b[0m  <div \u001b[33mclass\u001b[0m=\u001b[35m\"ExternalClassA79F25C288FF433383646\u001b[0m\u001b[33m...\u001b[0m  \u001b[33m...\u001b[0m   \n",
       "\u001b[1;36m182\u001b[0m  <div \u001b[33mclass\u001b[0m=\u001b[35m\"ExternalClass3273C8E7BACB45EE87C06\u001b[0m\u001b[33m...\u001b[0m  \u001b[33m...\u001b[0m   \n",
       "\u001b[1;36m297\u001b[0m  <div \u001b[33mclass\u001b[0m=\u001b[35m\"ExternalClass1FE95FFA9E1D4B2AAC250\u001b[0m\u001b[33m...\u001b[0m  \u001b[33m...\u001b[0m   \n",
       "\u001b[1;36m308\u001b[0m  <div \u001b[33mclass\u001b[0m=\u001b[35m\"ExternalClass4AD22DD1314C45BA95EA6\u001b[0m\u001b[33m...\u001b[0m  \u001b[33m...\u001b[0m   \n",
       "\n",
       "    percentage_total_views cumulative_percentage_total_views  \\\n",
       "\u001b[1;36m7\u001b[0m                 \u001b[1;36m0.047452\u001b[0m                          \u001b[1;36m0.660883\u001b[0m   \n",
       "\u001b[1;36m125\u001b[0m               \u001b[1;36m0.002389\u001b[0m                          \u001b[1;36m0.767962\u001b[0m   \n",
       "\u001b[1;36m182\u001b[0m               \u001b[1;36m0.001486\u001b[0m                          \u001b[1;36m0.876739\u001b[0m   \n",
       "\u001b[1;36m297\u001b[0m               \u001b[1;36m0.000581\u001b[0m                          \u001b[1;36m0.984935\u001b[0m   \n",
       "\u001b[1;36m308\u001b[0m               \u001b[1;36m0.000521\u001b[0m                          \u001b[1;36m0.990982\u001b[0m   \n",
       "\n",
       "            content_category to_remove has_table  has_image  \\\n",
       "\u001b[1;36m7\u001b[0m         cost-and-financing      \u001b[3;92mTrue\u001b[0m     \u001b[3;91mFalse\u001b[0m      \u001b[3;91mFalse\u001b[0m   \n",
       "\u001b[1;36m125\u001b[0m  diseases-and-conditions      \u001b[3;92mTrue\u001b[0m     \u001b[3;91mFalse\u001b[0m      \u001b[3;91mFalse\u001b[0m   \n",
       "\u001b[1;36m182\u001b[0m  diseases-and-conditions      \u001b[3;92mTrue\u001b[0m     \u001b[3;91mFalse\u001b[0m      \u001b[3;91mFalse\u001b[0m   \n",
       "\u001b[1;36m297\u001b[0m  diseases-and-conditions      \u001b[3;92mTrue\u001b[0m     \u001b[3;91mFalse\u001b[0m      \u001b[3;91mFalse\u001b[0m   \n",
       "\u001b[1;36m308\u001b[0m  diseases-and-conditions      \u001b[3;92mTrue\u001b[0m     \u001b[3;91mFalse\u001b[0m      \u001b[3;91mFalse\u001b[0m   \n",
       "\n",
       "                     related_sections  \\\n",
       "\u001b[1;36m7\u001b[0m                                  \u001b[1m[\u001b[0m\u001b[1m]\u001b[0m   \n",
       "\u001b[1;36m125\u001b[0m                                \u001b[1m[\u001b[0m\u001b[1m]\u001b[0m   \n",
       "\u001b[1;36m182\u001b[0m                                \u001b[1m[\u001b[0m\u001b[1m]\u001b[0m   \n",
       "\u001b[1;36m297\u001b[0m  \u001b[1m[\u001b[0mConjuctivitis, Ringworm, Cough\u001b[1m]\u001b[0m   \n",
       "\u001b[1;36m308\u001b[0m                                \u001b[1m[\u001b[0m\u001b[1m]\u001b[0m   \n",
       "\n",
       "                                       extracted_links  \\\n",
       "\u001b[1;36m7\u001b[0m    \u001b[1m[\u001b[0m\u001b[1m[\u001b[0m\u001b[4;94mhttps://moh.gov.sg/cost-financing/bill-estim...\u001b[0m   \n",
       "\u001b[1;36m125\u001b[0m  \u001b[1m[\u001b[0m\u001b[1m[\u001b[0mclick here, \u001b[4;94mhttp://www.singhealth.com.sg/Pat...\u001b[0m   \n",
       "\u001b[1;36m182\u001b[0m                                                 \u001b[1m[\u001b[0m\u001b[1m]\u001b[0m   \n",
       "\u001b[1;36m297\u001b[0m  \u001b[1m[\u001b[0m\u001b[1m[\u001b[0mclick here, \u001b[4;94mhttp://www.singhealth.com.sg/Pat...\u001b[0m   \n",
       "\u001b[1;36m308\u001b[0m                                                 \u001b[1m[\u001b[0m\u001b[1m]\u001b[0m   \n",
       "\n",
       "                    extracted_headers  \\\n",
       "\u001b[1;36m7\u001b[0m                                  \u001b[1m[\u001b[0m\u001b[1m]\u001b[0m   \n",
       "\u001b[1;36m125\u001b[0m                \u001b[1m[\u001b[0m\u001b[1m[\u001b[0m​Overview , h2\u001b[1m]\u001b[0m\u001b[1m]\u001b[0m   \n",
       "\u001b[1;36m182\u001b[0m  \u001b[1m[\u001b[0m\u001b[1m[\u001b[0mWhat is a Colonoscopy?\\n, h2\u001b[1m]\u001b[0m\u001b[1m]\u001b[0m   \n",
       "\u001b[1;36m297\u001b[0m                  \u001b[1m[\u001b[0m\u001b[1m[\u001b[0mOverview, h2\u001b[1m]\u001b[0m\u001b[1m]\u001b[0m   \n",
       "\u001b[1;36m308\u001b[0m                                \u001b[1m[\u001b[0m\u001b[1m]\u001b[0m   \n",
       "\n",
       "                                extracted_content_body  \n",
       "\u001b[1;36m7\u001b[0m    The Ministry of Health publishes hospital bill\u001b[33m...\u001b[0m  \n",
       "\u001b[1;36m125\u001b[0m  Overview\\nA basic hearing test or pure tone au\u001b[33m...\u001b[0m  \n",
       "\u001b[1;36m182\u001b[0m  What is a Colonoscopy?\\nA colonoscopy is a pro\u001b[33m...\u001b[0m  \n",
       "\u001b[1;36m297\u001b[0m  OverviewAllergies are some of the most common \u001b[33m...\u001b[0m  \n",
       "\u001b[1;36m308\u001b[0m  The cavities around nasal passages \u001b[1m(\u001b[0msinuses\u001b[1m)\u001b[0m b\u001b[33m...\u001b[0m  \n",
       "\n",
       "\u001b[1m[\u001b[0m\u001b[1;36m5\u001b[0m rows x \u001b[1;36m33\u001b[0m columns\u001b[1m]\u001b[0m"
      ]
     },
     "execution_count": 33,
     "metadata": {},
     "output_type": "execute_result"
    }
   ],
   "source": [
    "selected_content_categories = [\n",
    "    \"live-healthy-articles\",\n",
    "    \"support-group-and-others\",\n",
    "    \"diseases-and-conditions\",\n",
    "    \"cost-and-financing\",\n",
    "    \"medical-care-and-facilities\",\n",
    "]\n",
    "\n",
    "to_save = tmp.query(f\"content_category.isin({selected_content_categories})\")\n",
    "to_save.head()"
   ]
  },
  {
   "cell_type": "markdown",
   "metadata": {},
   "source": [
    "## Save Excel with `type` column for VML"
   ]
  },
  {
   "cell_type": "code",
   "execution_count": 34,
   "metadata": {},
   "outputs": [
    {
     "data": {
      "text/html": [
       "<pre style=\"white-space:pre;overflow-x:auto;line-height:normal;font-family:Menlo,'DejaVu Sans Mono',consolas,'Courier New',monospace\"></pre>\n"
      ],
      "text/plain": []
     },
     "metadata": {},
     "output_type": "display_data"
    },
    {
     "data": {
      "text/plain": [
       "\u001b[1m(\u001b[0m\u001b[1;36m2613\u001b[0m, \u001b[1;36m33\u001b[0m\u001b[1m)\u001b[0m"
      ]
     },
     "execution_count": 34,
     "metadata": {},
     "output_type": "execute_result"
    }
   ],
   "source": [
    "merged_data.shape"
   ]
  },
  {
   "cell_type": "code",
   "execution_count": 35,
   "metadata": {},
   "outputs": [],
   "source": [
    "merged_data[\"type\"] = None"
   ]
  },
  {
   "cell_type": "code",
   "execution_count": 36,
   "metadata": {},
   "outputs": [],
   "source": [
    "na_indexes = merged_data[merged_data[\"content_body\"].isna()].index\n",
    "excel_error_indexes = merged_data.query(\n",
    "    \"content_category.notna() and content_body.str.contains('Value exceeded maximum cell')\"\n",
    ").index\n",
    "no_tags_indexes = merged_data[\n",
    "    ~merged_data.query(\"content_category.notna()\")[\"content_body\"].apply(\n",
    "        lambda x: apply_regex_v2(x)\n",
    "    )\n",
    "].index\n",
    "no_extracted_content = merged_data[merged_data[\"extracted_content_body\"] == \"\"].index\n",
    "\n",
    "# Assuming merged_data is your DataFrame and word_count_cutoff is defined\n",
    "indices = merged_data.query(\"extracted_content_body.notna()\")[\n",
    "    \"extracted_content_body\"\n",
    "].apply(lambda x: len(x.split()) > 0 and len(x.split()) <= word_count_cutoff)\n",
    "# Get the indices of the True values\n",
    "below_word_count_indexes = indices[indices].index"
   ]
  },
  {
   "cell_type": "code",
   "execution_count": 37,
   "metadata": {},
   "outputs": [],
   "source": [
    "merged_data.loc[na_indexes, \"type\"] = \"NaN\"\n",
    "merged_data.loc[excel_error_indexes, \"type\"] = \"Excel Error\"\n",
    "merged_data.loc[no_tags_indexes, \"type\"] = \"No HTML Tags\"\n",
    "merged_data.loc[no_extracted_content, \"type\"] = \"No Extracted Content\"\n",
    "merged_data.loc[below_word_count_indexes, \"type\"] = \"Below Word Count\""
   ]
  },
  {
   "cell_type": "code",
   "execution_count": 38,
   "metadata": {},
   "outputs": [
    {
     "data": {
      "text/html": [
       "<pre style=\"white-space:pre;overflow-x:auto;line-height:normal;font-family:Menlo,'DejaVu Sans Mono',consolas,'Courier New',monospace\"></pre>\n"
      ],
      "text/plain": []
     },
     "metadata": {},
     "output_type": "display_data"
    },
    {
     "data": {
      "text/plain": [
       "\n",
       "type\n",
       "Excel Error             \u001b[1;36m162\u001b[0m\n",
       "Below Word Count        \u001b[1;36m119\u001b[0m\n",
       "No HTML Tags             \u001b[1;36m43\u001b[0m\n",
       "No Extracted Content     \u001b[1;36m32\u001b[0m\n",
       "NaN                      \u001b[1;36m11\u001b[0m\n",
       "Name: count, dtype: int64"
      ]
     },
     "execution_count": 38,
     "metadata": {},
     "output_type": "execute_result"
    }
   ],
   "source": [
    "merged_data[\"type\"].value_counts()"
   ]
  },
  {
   "cell_type": "code",
   "execution_count": 39,
   "metadata": {},
   "outputs": [
    {
     "data": {
      "text/html": [
       "<pre style=\"white-space:pre;overflow-x:auto;line-height:normal;font-family:Menlo,'DejaVu Sans Mono',consolas,'Courier New',monospace\"></pre>\n"
      ],
      "text/plain": []
     },
     "metadata": {},
     "output_type": "display_data"
    },
    {
     "data": {
      "text/plain": [
       "\n",
       "\u001b[1;35mIndex\u001b[0m\u001b[1m(\u001b[0m\u001b[1m[\u001b[0m\u001b[32m'id'\u001b[0m, \u001b[32m'content_name'\u001b[0m, \u001b[32m'title'\u001b[0m, \u001b[32m'article_category_names'\u001b[0m,\n",
       "       \u001b[32m'cover_image_url'\u001b[0m, \u001b[32m'full_url'\u001b[0m, \u001b[32m'full_url2'\u001b[0m, \u001b[32m'friendly_url'\u001b[0m,\n",
       "       \u001b[32m'category_description'\u001b[0m, \u001b[32m'content_body'\u001b[0m, \u001b[32m'keywords'\u001b[0m, \u001b[32m'feature_title'\u001b[0m,\n",
       "       \u001b[32m'pr_name'\u001b[0m, \u001b[32m'alternate_image_text'\u001b[0m, \u001b[32m'date_modified'\u001b[0m, \u001b[32m'number_of_views'\u001b[0m,\n",
       "       \u001b[32m'last_month_view_count'\u001b[0m, \u001b[32m'last_two_months_view'\u001b[0m, \u001b[32m'page_views'\u001b[0m,\n",
       "       \u001b[32m'engagement_rate'\u001b[0m, \u001b[32m'bounce_rate'\u001b[0m, \u001b[32m'exit_rate'\u001b[0m, \u001b[32m'scroll_percentage'\u001b[0m,\n",
       "       \u001b[32m'percentage_total_views'\u001b[0m, \u001b[32m'cumulative_percentage_total_views'\u001b[0m,\n",
       "       \u001b[32m'content_category'\u001b[0m, \u001b[32m'to_remove'\u001b[0m, \u001b[32m'has_table'\u001b[0m, \u001b[32m'has_image'\u001b[0m,\n",
       "       \u001b[32m'related_sections'\u001b[0m, \u001b[32m'extracted_links'\u001b[0m, \u001b[32m'extracted_headers'\u001b[0m,\n",
       "       \u001b[32m'extracted_content_body'\u001b[0m, \u001b[32m'type'\u001b[0m\u001b[1m]\u001b[0m,\n",
       "      \u001b[33mdtype\u001b[0m=\u001b[32m'object'\u001b[0m\u001b[1m)\u001b[0m"
      ]
     },
     "execution_count": 39,
     "metadata": {},
     "output_type": "execute_result"
    }
   ],
   "source": [
    "merged_data.columns"
   ]
  },
  {
   "cell_type": "code",
   "execution_count": 40,
   "metadata": {},
   "outputs": [],
   "source": [
    "to_save = merged_data[\n",
    "    [\n",
    "        \"id\",\n",
    "        \"content_name\",\n",
    "        \"title\",\n",
    "        \"full_url\",\n",
    "        \"content_body\",\n",
    "        \"content_category\",\n",
    "        \"to_remove\",\n",
    "        \"type\",\n",
    "    ]\n",
    "]"
   ]
  },
  {
   "cell_type": "code",
   "execution_count": 41,
   "metadata": {},
   "outputs": [],
   "source": [
    "# ruff: noqa: F821\n",
    "catalog.save(\"flag_for_removal_by_type\", to_save)"
   ]
  },
  {
   "cell_type": "code",
   "execution_count": null,
   "metadata": {},
   "outputs": [],
   "source": []
  }
 ],
 "metadata": {
  "kernelspec": {
   "display_name": "content-opt",
   "language": "python",
   "name": "python3"
  },
  "language_info": {
   "codemirror_mode": {
    "name": "ipython",
    "version": 3
   },
   "file_extension": ".py",
   "mimetype": "text/x-python",
   "name": "python",
   "nbconvert_exporter": "python",
   "pygments_lexer": "ipython3",
   "version": "3.12.4"
  }
 },
 "nbformat": 4,
 "nbformat_minor": 2
}
