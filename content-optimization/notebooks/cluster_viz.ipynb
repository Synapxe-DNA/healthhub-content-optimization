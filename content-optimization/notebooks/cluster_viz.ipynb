{
 "cells": [
  {
   "cell_type": "code",
   "execution_count": 2,
   "metadata": {},
   "outputs": [],
   "source": [
    "import os\n",
    "\n",
    "import pandas as pd\n",
    "import pyvis"
   ]
  },
  {
   "cell_type": "code",
   "execution_count": 7,
   "metadata": {},
   "outputs": [],
   "source": [
    "# Parameters\n",
    "MODEL_NAME: str = \"all-mpnet-base-v2\"\n",
    "CONTRIBUTOR: str = \"Health Promotion Board\"\n",
    "\n",
    "# specify content_category. input 'all' if running across all categories\n",
    "CONTENT_CATEGORY: str = \"live-healthy-articles\""
   ]
  },
  {
   "cell_type": "code",
   "execution_count": 8,
   "metadata": {},
   "outputs": [],
   "source": [
    "NEO4J_FOLDER_PATH = os.path.join(\n",
    "    \"..\",\n",
    "    \"data\",\n",
    "    \"07_model_output\",\n",
    "    f\"{CONTENT_CATEGORY}\",\n",
    "    \"neo4j\",\n",
    ")\n",
    "\n",
    "NEO4J_CLUSTERED_DATA_PATH = os.path.join(\n",
    "    NEO4J_FOLDER_PATH,\n",
    "    f\"{MODEL_NAME}_neo4j_clustered_data.csv\",\n",
    ")\n",
    "\n",
    "NEO4J_UNCLUSTERED_DATA_PATH = os.path.join(\n",
    "    NEO4J_FOLDER_PATH,\n",
    "    f\"{MODEL_NAME}_neo4j_unclustered_data.csv\",\n",
    ")"
   ]
  },
  {
   "cell_type": "code",
   "execution_count": 9,
   "metadata": {},
   "outputs": [],
   "source": [
    "# Function to visualize the result\n",
    "\n",
    "\n",
    "def visualize_result(clustered_df, unclustered_df):\n",
    "    visual_graph = pyvis.network.Network(select_menu=True, filter_menu=True)\n",
    "\n",
    "    # Add nodes-nodes pair\n",
    "    for _, row in clustered_df.iterrows():\n",
    "        # Add nodes\n",
    "        visual_graph.add_node(\n",
    "            row[\"node_1\"],\n",
    "            label=row[\"node_1\"],\n",
    "            title=f\"Ground Truth: {row['node_1_ground_truth']}\\nPredicted: {row['node_1_pred_cluster']}\\nTitle: {row['node_1_title']}\",\n",
    "            group=row[\"node_1_pred_cluster\"],\n",
    "        )\n",
    "        visual_graph.add_node(\n",
    "            row[\"node_2\"],\n",
    "            label=row[\"node_2\"],\n",
    "            title=f\"Ground Truth: {row['node_2_ground_truth']}\\nPredicted: {row['node_2_pred_cluster']}\\nTitle: {row['node_2_title']}\",\n",
    "            group=row[\"node_2_pred_cluster\"],\n",
    "        )\n",
    "\n",
    "        # Add edge\n",
    "        visual_graph.add_edge(\n",
    "            row[\"node_1\"], row[\"node_2\"], title=f\"Edge Weight: {row['edge_weight']}\"\n",
    "        )\n",
    "\n",
    "    # Add solo nodes\n",
    "    for _, row in unclustered_df.iterrows():\n",
    "        visual_graph.add_node(\n",
    "            row[\"node_title\"],\n",
    "            label=row[\"node_title\"],\n",
    "            title=f\"Ground Truth: {row['node_ground_truth']}\\nPredicted: No Community\\nTitle: {row['node_title']}\",\n",
    "        )\n",
    "    visual_graph.show(f\"neo4j_network_{MODEL_NAME}.html\", notebook=False)"
   ]
  },
  {
   "cell_type": "code",
   "execution_count": 10,
   "metadata": {},
   "outputs": [
    {
     "name": "stdout",
     "output_type": "stream",
     "text": [
      "neo4j_network_all-mpnet-base-v2.html\n"
     ]
    }
   ],
   "source": [
    "clustered_df = pd.read_csv(NEO4J_CLUSTERED_DATA_PATH)\n",
    "unclustered_df = pd.read_csv(NEO4J_UNCLUSTERED_DATA_PATH)\n",
    "\n",
    "visualize_result(clustered_df, unclustered_df)"
   ]
  }
 ],
 "metadata": {
  "kernelspec": {
   "display_name": "genai-hh",
   "language": "python",
   "name": "python3"
  },
  "language_info": {
   "codemirror_mode": {
    "name": "ipython",
    "version": 3
   },
   "file_extension": ".py",
   "mimetype": "text/x-python",
   "name": "python",
   "nbconvert_exporter": "python",
   "pygments_lexer": "ipython3",
   "version": "3.12.3"
  }
 },
 "nbformat": 4,
 "nbformat_minor": 2
}
