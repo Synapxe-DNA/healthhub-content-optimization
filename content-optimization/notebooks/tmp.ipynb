{
 "cells": [
  {
   "cell_type": "code",
   "execution_count": 1,
   "metadata": {},
   "outputs": [
    {
     "data": {
      "text/html": [
       "<pre style=\"white-space:pre;overflow-x:auto;line-height:normal;font-family:Menlo,'DejaVu Sans Mono',consolas,'Courier New',monospace\"><span style=\"color: #7fbfbf; text-decoration-color: #7fbfbf\">[06/21/24 09:14:53] </span><span style=\"color: #000080; text-decoration-color: #000080\">INFO    </span> Registered line magic <span style=\"color: #008000; text-decoration-color: #008000\">'%reload_kedro'</span>                                   <a href=\"file:///opt/anaconda3/envs/content-opt/lib/python3.12/site-packages/kedro/ipython/__init__.py\" target=\"_blank\"><span style=\"color: #7f7f7f; text-decoration-color: #7f7f7f\">__init__.py</span></a><span style=\"color: #7f7f7f; text-decoration-color: #7f7f7f\">:</span><a href=\"file:///opt/anaconda3/envs/content-opt/lib/python3.12/site-packages/kedro/ipython/__init__.py#58\" target=\"_blank\"><span style=\"color: #7f7f7f; text-decoration-color: #7f7f7f\">58</span></a>\n",
       "</pre>\n"
      ],
      "text/plain": [
       "\u001b[2;36m[06/21/24 09:14:53]\u001b[0m\u001b[2;36m \u001b[0m\u001b[34mINFO    \u001b[0m Registered line magic \u001b[32m'%reload_kedro'\u001b[0m                                   \u001b]8;id=288939;file:///opt/anaconda3/envs/content-opt/lib/python3.12/site-packages/kedro/ipython/__init__.py\u001b\\\u001b[2m__init__.py\u001b[0m\u001b]8;;\u001b\\\u001b[2m:\u001b[0m\u001b]8;id=923219;file:///opt/anaconda3/envs/content-opt/lib/python3.12/site-packages/kedro/ipython/__init__.py#58\u001b\\\u001b[2m58\u001b[0m\u001b]8;;\u001b\\\n"
      ]
     },
     "metadata": {},
     "output_type": "display_data"
    },
    {
     "data": {
      "text/html": [
       "<pre style=\"white-space:pre;overflow-x:auto;line-height:normal;font-family:Menlo,'DejaVu Sans Mono',consolas,'Courier New',monospace\"><span style=\"color: #7fbfbf; text-decoration-color: #7fbfbf\">                    </span><span style=\"color: #000080; text-decoration-color: #000080\">INFO    </span> Registered line magic <span style=\"color: #008000; text-decoration-color: #008000\">'%load_node'</span>                                      <a href=\"file:///opt/anaconda3/envs/content-opt/lib/python3.12/site-packages/kedro/ipython/__init__.py\" target=\"_blank\"><span style=\"color: #7f7f7f; text-decoration-color: #7f7f7f\">__init__.py</span></a><span style=\"color: #7f7f7f; text-decoration-color: #7f7f7f\">:</span><a href=\"file:///opt/anaconda3/envs/content-opt/lib/python3.12/site-packages/kedro/ipython/__init__.py#60\" target=\"_blank\"><span style=\"color: #7f7f7f; text-decoration-color: #7f7f7f\">60</span></a>\n",
       "</pre>\n"
      ],
      "text/plain": [
       "\u001b[2;36m                   \u001b[0m\u001b[2;36m \u001b[0m\u001b[34mINFO    \u001b[0m Registered line magic \u001b[32m'%load_node'\u001b[0m                                      \u001b]8;id=314947;file:///opt/anaconda3/envs/content-opt/lib/python3.12/site-packages/kedro/ipython/__init__.py\u001b\\\u001b[2m__init__.py\u001b[0m\u001b]8;;\u001b\\\u001b[2m:\u001b[0m\u001b]8;id=341255;file:///opt/anaconda3/envs/content-opt/lib/python3.12/site-packages/kedro/ipython/__init__.py#60\u001b\\\u001b[2m60\u001b[0m\u001b]8;;\u001b\\\n"
      ]
     },
     "metadata": {},
     "output_type": "display_data"
    },
    {
     "data": {
      "text/html": [
       "<pre style=\"white-space:pre;overflow-x:auto;line-height:normal;font-family:Menlo,'DejaVu Sans Mono',consolas,'Courier New',monospace\"><span style=\"color: #7fbfbf; text-decoration-color: #7fbfbf\">                    </span><span style=\"color: #000080; text-decoration-color: #000080\">INFO    </span> Resolved project path as: <span style=\"color: #800080; text-decoration-color: #800080\">/Users/wilsvenleong/Downloads/</span><span style=\"color: #ff00ff; text-decoration-color: #ff00ff\">Learning</span>       <a href=\"file:///opt/anaconda3/envs/content-opt/lib/python3.12/site-packages/kedro/ipython/__init__.py\" target=\"_blank\"><span style=\"color: #7f7f7f; text-decoration-color: #7f7f7f\">__init__.py</span></a><span style=\"color: #7f7f7f; text-decoration-color: #7f7f7f\">:</span><a href=\"file:///opt/anaconda3/envs/content-opt/lib/python3.12/site-packages/kedro/ipython/__init__.py#171\" target=\"_blank\"><span style=\"color: #7f7f7f; text-decoration-color: #7f7f7f\">171</span></a>\n",
       "<span style=\"color: #7fbfbf; text-decoration-color: #7fbfbf\">                    </span>         Materials/healthhub-content-optimization/content-optimization.         <span style=\"color: #7f7f7f; text-decoration-color: #7f7f7f\">               </span>\n",
       "<span style=\"color: #7fbfbf; text-decoration-color: #7fbfbf\">                    </span>         To set a different path, run <span style=\"color: #008000; text-decoration-color: #008000\">'%reload_kedro &lt;project_root&gt;'</span>            <span style=\"color: #7f7f7f; text-decoration-color: #7f7f7f\">               </span>\n",
       "</pre>\n"
      ],
      "text/plain": [
       "\u001b[2;36m                   \u001b[0m\u001b[2;36m \u001b[0m\u001b[34mINFO    \u001b[0m Resolved project path as: \u001b[35m/Users/wilsvenleong/Downloads/\u001b[0m\u001b[95mLearning\u001b[0m       \u001b]8;id=606871;file:///opt/anaconda3/envs/content-opt/lib/python3.12/site-packages/kedro/ipython/__init__.py\u001b\\\u001b[2m__init__.py\u001b[0m\u001b]8;;\u001b\\\u001b[2m:\u001b[0m\u001b]8;id=836107;file:///opt/anaconda3/envs/content-opt/lib/python3.12/site-packages/kedro/ipython/__init__.py#171\u001b\\\u001b[2m171\u001b[0m\u001b]8;;\u001b\\\n",
       "\u001b[2;36m                    \u001b[0m         Materials/healthhub-content-optimization/content-optimization.         \u001b[2m               \u001b[0m\n",
       "\u001b[2;36m                    \u001b[0m         To set a different path, run \u001b[32m'%reload_kedro \u001b[0m\u001b[32m<\u001b[0m\u001b[32mproject_root\u001b[0m\u001b[32m>\u001b[0m\u001b[32m'\u001b[0m            \u001b[2m               \u001b[0m\n"
      ]
     },
     "metadata": {},
     "output_type": "display_data"
    },
    {
     "data": {
      "text/html": [
       "<pre style=\"white-space:pre;overflow-x:auto;line-height:normal;font-family:Menlo,'DejaVu Sans Mono',consolas,'Courier New',monospace\"><span style=\"color: #7fbfbf; text-decoration-color: #7fbfbf\">[06/21/24 09:14:54] </span><span style=\"color: #000080; text-decoration-color: #000080\">INFO    </span> Kedro project Content Optimization                                     <a href=\"file:///opt/anaconda3/envs/content-opt/lib/python3.12/site-packages/kedro/ipython/__init__.py\" target=\"_blank\"><span style=\"color: #7f7f7f; text-decoration-color: #7f7f7f\">__init__.py</span></a><span style=\"color: #7f7f7f; text-decoration-color: #7f7f7f\">:</span><a href=\"file:///opt/anaconda3/envs/content-opt/lib/python3.12/site-packages/kedro/ipython/__init__.py#141\" target=\"_blank\"><span style=\"color: #7f7f7f; text-decoration-color: #7f7f7f\">141</span></a>\n",
       "</pre>\n"
      ],
      "text/plain": [
       "\u001b[2;36m[06/21/24 09:14:54]\u001b[0m\u001b[2;36m \u001b[0m\u001b[34mINFO    \u001b[0m Kedro project Content Optimization                                     \u001b]8;id=700321;file:///opt/anaconda3/envs/content-opt/lib/python3.12/site-packages/kedro/ipython/__init__.py\u001b\\\u001b[2m__init__.py\u001b[0m\u001b]8;;\u001b\\\u001b[2m:\u001b[0m\u001b]8;id=674523;file:///opt/anaconda3/envs/content-opt/lib/python3.12/site-packages/kedro/ipython/__init__.py#141\u001b\\\u001b[2m141\u001b[0m\u001b]8;;\u001b\\\n"
      ]
     },
     "metadata": {},
     "output_type": "display_data"
    },
    {
     "data": {
      "text/html": [
       "<pre style=\"white-space:pre;overflow-x:auto;line-height:normal;font-family:Menlo,'DejaVu Sans Mono',consolas,'Courier New',monospace\"><span style=\"color: #7fbfbf; text-decoration-color: #7fbfbf\">                    </span><span style=\"color: #000080; text-decoration-color: #000080\">INFO    </span> Defined global variable <span style=\"color: #008000; text-decoration-color: #008000\">'context'</span>, <span style=\"color: #008000; text-decoration-color: #008000\">'session'</span>, <span style=\"color: #008000; text-decoration-color: #008000\">'catalog'</span> and            <a href=\"file:///opt/anaconda3/envs/content-opt/lib/python3.12/site-packages/kedro/ipython/__init__.py\" target=\"_blank\"><span style=\"color: #7f7f7f; text-decoration-color: #7f7f7f\">__init__.py</span></a><span style=\"color: #7f7f7f; text-decoration-color: #7f7f7f\">:</span><a href=\"file:///opt/anaconda3/envs/content-opt/lib/python3.12/site-packages/kedro/ipython/__init__.py#142\" target=\"_blank\"><span style=\"color: #7f7f7f; text-decoration-color: #7f7f7f\">142</span></a>\n",
       "<span style=\"color: #7fbfbf; text-decoration-color: #7fbfbf\">                    </span>         <span style=\"color: #008000; text-decoration-color: #008000\">'pipelines'</span>                                                            <span style=\"color: #7f7f7f; text-decoration-color: #7f7f7f\">               </span>\n",
       "</pre>\n"
      ],
      "text/plain": [
       "\u001b[2;36m                   \u001b[0m\u001b[2;36m \u001b[0m\u001b[34mINFO    \u001b[0m Defined global variable \u001b[32m'context'\u001b[0m, \u001b[32m'session'\u001b[0m, \u001b[32m'catalog'\u001b[0m and            \u001b]8;id=15461;file:///opt/anaconda3/envs/content-opt/lib/python3.12/site-packages/kedro/ipython/__init__.py\u001b\\\u001b[2m__init__.py\u001b[0m\u001b]8;;\u001b\\\u001b[2m:\u001b[0m\u001b]8;id=166984;file:///opt/anaconda3/envs/content-opt/lib/python3.12/site-packages/kedro/ipython/__init__.py#142\u001b\\\u001b[2m142\u001b[0m\u001b]8;;\u001b\\\n",
       "\u001b[2;36m                    \u001b[0m         \u001b[32m'pipelines'\u001b[0m                                                            \u001b[2m               \u001b[0m\n"
      ]
     },
     "metadata": {},
     "output_type": "display_data"
    },
    {
     "data": {
      "text/html": [
       "<pre style=\"white-space:pre;overflow-x:auto;line-height:normal;font-family:Menlo,'DejaVu Sans Mono',consolas,'Courier New',monospace\"><span style=\"color: #7fbfbf; text-decoration-color: #7fbfbf\">[06/21/24 09:14:55] </span><span style=\"color: #000080; text-decoration-color: #000080\">INFO    </span> Registered line magic <span style=\"color: #008000; text-decoration-color: #008000\">'run_viz'</span>                                        <a href=\"file:///opt/anaconda3/envs/content-opt/lib/python3.12/site-packages/kedro/ipython/__init__.py\" target=\"_blank\"><span style=\"color: #7f7f7f; text-decoration-color: #7f7f7f\">__init__.py</span></a><span style=\"color: #7f7f7f; text-decoration-color: #7f7f7f\">:</span><a href=\"file:///opt/anaconda3/envs/content-opt/lib/python3.12/site-packages/kedro/ipython/__init__.py#148\" target=\"_blank\"><span style=\"color: #7f7f7f; text-decoration-color: #7f7f7f\">148</span></a>\n",
       "</pre>\n"
      ],
      "text/plain": [
       "\u001b[2;36m[06/21/24 09:14:55]\u001b[0m\u001b[2;36m \u001b[0m\u001b[34mINFO    \u001b[0m Registered line magic \u001b[32m'run_viz'\u001b[0m                                        \u001b]8;id=268039;file:///opt/anaconda3/envs/content-opt/lib/python3.12/site-packages/kedro/ipython/__init__.py\u001b\\\u001b[2m__init__.py\u001b[0m\u001b]8;;\u001b\\\u001b[2m:\u001b[0m\u001b]8;id=699634;file:///opt/anaconda3/envs/content-opt/lib/python3.12/site-packages/kedro/ipython/__init__.py#148\u001b\\\u001b[2m148\u001b[0m\u001b]8;;\u001b\\\n"
      ]
     },
     "metadata": {},
     "output_type": "display_data"
    }
   ],
   "source": [
    "%load_ext kedro.ipython"
   ]
  },
  {
   "cell_type": "code",
   "execution_count": 2,
   "metadata": {},
   "outputs": [
    {
     "data": {
      "text/html": [
       "<pre style=\"white-space:pre;overflow-x:auto;line-height:normal;font-family:Menlo,'DejaVu Sans Mono',consolas,'Courier New',monospace\"></pre>\n"
      ],
      "text/plain": []
     },
     "metadata": {},
     "output_type": "display_data"
    },
    {
     "data": {
      "text/plain": [
       "\u001b[1m[\u001b[0m\u001b[32m'articles_df'\u001b[0m, \u001b[32m'parameters'\u001b[0m\u001b[1m]\u001b[0m"
      ]
     },
     "execution_count": 2,
     "metadata": {},
     "output_type": "execute_result"
    }
   ],
   "source": [
    "# ruff: noqa: F821\n",
    "catalog.list()"
   ]
  },
  {
   "cell_type": "code",
   "execution_count": 3,
   "metadata": {},
   "outputs": [
    {
     "data": {
      "text/html": [
       "<pre style=\"white-space:pre;overflow-x:auto;line-height:normal;font-family:Menlo,'DejaVu Sans Mono',consolas,'Courier New',monospace\"><span style=\"color: #7fbfbf; text-decoration-color: #7fbfbf\">[06/21/24 09:14:56] </span><span style=\"color: #000080; text-decoration-color: #000080\">INFO    </span> Loading data from <span style=\"color: #ff8700; text-decoration-color: #ff8700\">articles_df</span> <span style=\"font-weight: bold\">(</span>ExcelDataset<span style=\"font-weight: bold\">)</span><span style=\"color: #808000; text-decoration-color: #808000\">...</span>                    <a href=\"file:///opt/anaconda3/envs/content-opt/lib/python3.12/site-packages/kedro/io/data_catalog.py\" target=\"_blank\"><span style=\"color: #7f7f7f; text-decoration-color: #7f7f7f\">data_catalog.py</span></a><span style=\"color: #7f7f7f; text-decoration-color: #7f7f7f\">:</span><a href=\"file:///opt/anaconda3/envs/content-opt/lib/python3.12/site-packages/kedro/io/data_catalog.py#508\" target=\"_blank\"><span style=\"color: #7f7f7f; text-decoration-color: #7f7f7f\">508</span></a>\n",
       "</pre>\n"
      ],
      "text/plain": [
       "\u001b[2;36m[06/21/24 09:14:56]\u001b[0m\u001b[2;36m \u001b[0m\u001b[34mINFO    \u001b[0m Loading data from \u001b[38;5;208marticles_df\u001b[0m \u001b[1m(\u001b[0mExcelDataset\u001b[1m)\u001b[0m\u001b[33m...\u001b[0m                    \u001b]8;id=267213;file:///opt/anaconda3/envs/content-opt/lib/python3.12/site-packages/kedro/io/data_catalog.py\u001b\\\u001b[2mdata_catalog.py\u001b[0m\u001b]8;;\u001b\\\u001b[2m:\u001b[0m\u001b]8;id=989636;file:///opt/anaconda3/envs/content-opt/lib/python3.12/site-packages/kedro/io/data_catalog.py#508\u001b\\\u001b[2m508\u001b[0m\u001b]8;;\u001b\\\n"
      ]
     },
     "metadata": {},
     "output_type": "display_data"
    }
   ],
   "source": [
    "# ruff: noqa: F821\n",
    "articles_df = catalog.load(\"articles_df\")"
   ]
  },
  {
   "cell_type": "code",
   "execution_count": 4,
   "metadata": {},
   "outputs": [
    {
     "data": {
      "text/html": [
       "<pre style=\"white-space:pre;overflow-x:auto;line-height:normal;font-family:Menlo,'DejaVu Sans Mono',consolas,'Courier New',monospace\"></pre>\n"
      ],
      "text/plain": []
     },
     "metadata": {},
     "output_type": "display_data"
    },
    {
     "data": {
      "text/plain": [
       "\n",
       "\u001b[1;35mIndex\u001b[0m\u001b[1m(\u001b[0m\u001b[1m[\u001b[0m\u001b[32m'id'\u001b[0m, \u001b[32m'identifier'\u001b[0m, \u001b[32m'Content.Name'\u001b[0m, \u001b[32m'MasterAssetIsContent'\u001b[0m,\n",
       "       \u001b[32m'Content.ExpirationDate'\u001b[0m, \u001b[32m'Content.PublishedOn'\u001b[0m, \u001b[32m'Content.Impact'\u001b[0m,\n",
       "       \u001b[32m'User_Title'\u001b[0m, \u001b[32m'Content.PublicationDate'\u001b[0m, \u001b[32m'Content.Brief'\u001b[0m,\n",
       "       \u001b[33m...\u001b[0m\n",
       "       \u001b[32m'CreatedOn'\u001b[0m, \u001b[32m'ModifiedBy'\u001b[0m, \u001b[32m'ModifiedOn'\u001b[0m, \u001b[32m'Page Views'\u001b[0m,\n",
       "       \u001b[32m'Engagement Rate'\u001b[0m, \u001b[32m'Bounce Rate'\u001b[0m, \u001b[32m'Exit Rate'\u001b[0m, \u001b[32m'Scroll %'\u001b[0m,\n",
       "       \u001b[32m'% of Total Views'\u001b[0m, \u001b[32m'Cumulative % of Total Views'\u001b[0m\u001b[1m]\u001b[0m,\n",
       "      \u001b[33mdtype\u001b[0m=\u001b[32m'object'\u001b[0m, \u001b[33mlength\u001b[0m=\u001b[1;36m533\u001b[0m\u001b[1m)\u001b[0m"
      ]
     },
     "execution_count": 4,
     "metadata": {},
     "output_type": "execute_result"
    }
   ],
   "source": [
    "articles_df.columns"
   ]
  },
  {
   "cell_type": "code",
   "execution_count": 5,
   "metadata": {},
   "outputs": [
    {
     "data": {
      "text/html": [
       "<pre style=\"white-space:pre;overflow-x:auto;line-height:normal;font-family:Menlo,'DejaVu Sans Mono',consolas,'Courier New',monospace\"></pre>\n"
      ],
      "text/plain": []
     },
     "metadata": {},
     "output_type": "display_data"
    },
    {
     "data": {
      "text/html": [
       "<div>\n",
       "<style scoped>\n",
       "    .dataframe tbody tr th:only-of-type {\n",
       "        vertical-align: middle;\n",
       "    }\n",
       "\n",
       "    .dataframe tbody tr th {\n",
       "        vertical-align: top;\n",
       "    }\n",
       "\n",
       "    .dataframe thead th {\n",
       "        text-align: right;\n",
       "    }\n",
       "</style>\n",
       "<table border=\"1\" class=\"dataframe\">\n",
       "  <thead>\n",
       "    <tr style=\"text-align: right;\">\n",
       "      <th></th>\n",
       "      <th>id</th>\n",
       "      <th>identifier</th>\n",
       "      <th>Content.Name</th>\n",
       "      <th>MasterAssetIsContent</th>\n",
       "      <th>Content.ExpirationDate</th>\n",
       "      <th>Content.PublishedOn</th>\n",
       "      <th>Content.Impact</th>\n",
       "      <th>User_Title</th>\n",
       "      <th>Content.PublicationDate</th>\n",
       "      <th>Content.Brief</th>\n",
       "      <th>...</th>\n",
       "      <th>CreatedOn</th>\n",
       "      <th>ModifiedBy</th>\n",
       "      <th>ModifiedOn</th>\n",
       "      <th>Page Views</th>\n",
       "      <th>Engagement Rate</th>\n",
       "      <th>Bounce Rate</th>\n",
       "      <th>Exit Rate</th>\n",
       "      <th>Scroll %</th>\n",
       "      <th>% of Total Views</th>\n",
       "      <th>Cumulative % of Total Views</th>\n",
       "    </tr>\n",
       "  </thead>\n",
       "  <tbody>\n",
       "    <tr>\n",
       "      <th>0</th>\n",
       "      <td>1444475</td>\n",
       "      <td>SP.467d1ac6-93df-43a6-a8da-df5597fdb091</td>\n",
       "      <td>Weight, BMI and Health Problems</td>\n",
       "      <td>NaN</td>\n",
       "      <td>NaN</td>\n",
       "      <td>NaN</td>\n",
       "      <td>NaN</td>\n",
       "      <td>NaN</td>\n",
       "      <td>NaN</td>\n",
       "      <td>NaN</td>\n",
       "      <td>...</td>\n",
       "      <td>2023-09-15T07:36:42.4217758Z</td>\n",
       "      <td>Administrator</td>\n",
       "      <td>2024-04-30T08:57:19.2963609Z</td>\n",
       "      <td>19977</td>\n",
       "      <td>0.690791</td>\n",
       "      <td>0.309209</td>\n",
       "      <td>0.617163</td>\n",
       "      <td>0.362504</td>\n",
       "      <td>0.016884</td>\n",
       "      <td>0.016884</td>\n",
       "    </tr>\n",
       "    <tr>\n",
       "      <th>1</th>\n",
       "      <td>1445137</td>\n",
       "      <td>SP.19cf37a0-ba67-47dc-b5b7-3946cc80fee1</td>\n",
       "      <td>7-month-baby Diet: An Authoritative Guide by O...</td>\n",
       "      <td>NaN</td>\n",
       "      <td>NaN</td>\n",
       "      <td>NaN</td>\n",
       "      <td>NaN</td>\n",
       "      <td>NaN</td>\n",
       "      <td>NaN</td>\n",
       "      <td>NaN</td>\n",
       "      <td>...</td>\n",
       "      <td>2023-09-15T07:45:25.2392525Z</td>\n",
       "      <td>Administrator</td>\n",
       "      <td>2024-04-19T09:09:19.8106542Z</td>\n",
       "      <td>18876</td>\n",
       "      <td>0.688392</td>\n",
       "      <td>0.311608</td>\n",
       "      <td>0.894948</td>\n",
       "      <td>0.383635</td>\n",
       "      <td>0.015953</td>\n",
       "      <td>0.032837</td>\n",
       "    </tr>\n",
       "    <tr>\n",
       "      <th>2</th>\n",
       "      <td>1445282</td>\n",
       "      <td>SP.3c49998f-ec8b-495d-a409-1b5a22f5aa8a</td>\n",
       "      <td>Older Adults Need More Protein</td>\n",
       "      <td>NaN</td>\n",
       "      <td>NaN</td>\n",
       "      <td>NaN</td>\n",
       "      <td>NaN</td>\n",
       "      <td>NaN</td>\n",
       "      <td>NaN</td>\n",
       "      <td>NaN</td>\n",
       "      <td>...</td>\n",
       "      <td>2023-09-15T07:47:44.5198418Z</td>\n",
       "      <td>Administrator</td>\n",
       "      <td>2024-03-25T03:25:24.0622377Z</td>\n",
       "      <td>17431</td>\n",
       "      <td>0.609422</td>\n",
       "      <td>0.390578</td>\n",
       "      <td>0.892413</td>\n",
       "      <td>0.326444</td>\n",
       "      <td>0.014732</td>\n",
       "      <td>0.047569</td>\n",
       "    </tr>\n",
       "    <tr>\n",
       "      <th>3</th>\n",
       "      <td>1445982</td>\n",
       "      <td>SP.e7d66245-62a1-4191-806e-8ba426b5165a</td>\n",
       "      <td>Sexual positions and timing of conception</td>\n",
       "      <td>NaN</td>\n",
       "      <td>NaN</td>\n",
       "      <td>NaN</td>\n",
       "      <td>NaN</td>\n",
       "      <td>NaN</td>\n",
       "      <td>NaN</td>\n",
       "      <td>NaN</td>\n",
       "      <td>...</td>\n",
       "      <td>2023-09-15T08:03:12.2947232Z</td>\n",
       "      <td>Administrator</td>\n",
       "      <td>2023-11-22T10:56:09.2189012Z</td>\n",
       "      <td>16309</td>\n",
       "      <td>0.659301</td>\n",
       "      <td>0.340699</td>\n",
       "      <td>0.925131</td>\n",
       "      <td>0.361488</td>\n",
       "      <td>0.013784</td>\n",
       "      <td>0.061353</td>\n",
       "    </tr>\n",
       "    <tr>\n",
       "      <th>4</th>\n",
       "      <td>1443111</td>\n",
       "      <td>SP.95fcccfa-28a6-4f0c-a578-f71abcf3a4b4</td>\n",
       "      <td>How Much Calories Do I Need A Day?</td>\n",
       "      <td>NaN</td>\n",
       "      <td>NaN</td>\n",
       "      <td>NaN</td>\n",
       "      <td>NaN</td>\n",
       "      <td>NaN</td>\n",
       "      <td>NaN</td>\n",
       "      <td>NaN</td>\n",
       "      <td>...</td>\n",
       "      <td>2023-09-15T07:19:27.5902140Z</td>\n",
       "      <td>nicholas.ong@sg.ey.com</td>\n",
       "      <td>2024-01-12T08:31:41.0382162Z</td>\n",
       "      <td>12748</td>\n",
       "      <td>0.732515</td>\n",
       "      <td>0.267485</td>\n",
       "      <td>0.774573</td>\n",
       "      <td>0.410123</td>\n",
       "      <td>0.010774</td>\n",
       "      <td>0.072127</td>\n",
       "    </tr>\n",
       "  </tbody>\n",
       "</table>\n",
       "<p>5 rows × 533 columns</p>\n",
       "</div>"
      ],
      "text/plain": [
       "\n",
       "        id                               identifier  \\\n",
       "\u001b[1;36m0\u001b[0m  \u001b[1;36m1444475\u001b[0m  SP.\u001b[93m467d1ac6-93df-43a6-a8da-df5597fdb091\u001b[0m   \n",
       "\u001b[1;36m1\u001b[0m  \u001b[1;36m1445137\u001b[0m  SP.\u001b[93m19cf37a0-ba67-47dc-b5b7-3946cc80fee1\u001b[0m   \n",
       "\u001b[1;36m2\u001b[0m  \u001b[1;36m1445282\u001b[0m  SP.\u001b[93m3c49998f-ec8b-495d-a409-1b5a22f5aa8a\u001b[0m   \n",
       "\u001b[1;36m3\u001b[0m  \u001b[1;36m1445982\u001b[0m  SP.\u001b[93me7d66245-62a1-4191-806e-8ba426b5165a\u001b[0m   \n",
       "\u001b[1;36m4\u001b[0m  \u001b[1;36m1443111\u001b[0m  SP.\u001b[93m95fcccfa-28a6-4f0c-a578-f71abcf3a4b4\u001b[0m   \n",
       "\n",
       "                                        Content.Name  MasterAssetIsContent  \\\n",
       "\u001b[1;36m0\u001b[0m                    Weight, BMI and Health Problems                   NaN   \n",
       "\u001b[1;36m1\u001b[0m  \u001b[1;36m7\u001b[0m-month-baby Diet: An Authoritative Guide by O\u001b[33m...\u001b[0m                   NaN   \n",
       "\u001b[1;36m2\u001b[0m                     Older Adults Need More Protein                   NaN   \n",
       "\u001b[1;36m3\u001b[0m          Sexual positions and timing of conception                   NaN   \n",
       "\u001b[1;36m4\u001b[0m                 How Much Calories Do I Need A Day?                   NaN   \n",
       "\n",
       "   Content.ExpirationDate  Content.PublishedOn  Content.Impact  User_Title  \\\n",
       "\u001b[1;36m0\u001b[0m                     NaN                  NaN             NaN         NaN   \n",
       "\u001b[1;36m1\u001b[0m                     NaN                  NaN             NaN         NaN   \n",
       "\u001b[1;36m2\u001b[0m                     NaN                  NaN             NaN         NaN   \n",
       "\u001b[1;36m3\u001b[0m                     NaN                  NaN             NaN         NaN   \n",
       "\u001b[1;36m4\u001b[0m                     NaN                  NaN             NaN         NaN   \n",
       "\n",
       "   Content.PublicationDate  Content.Brief  \u001b[33m...\u001b[0m                     CreatedOn  \\\n",
       "\u001b[1;36m0\u001b[0m                      NaN            NaN  \u001b[33m...\u001b[0m  \u001b[1;36m2023\u001b[0m-\u001b[1;36m09\u001b[0m-15T\u001b[1;92m07:36:42\u001b[0m.4217758Z   \n",
       "\u001b[1;36m1\u001b[0m                      NaN            NaN  \u001b[33m...\u001b[0m  \u001b[1;36m2023\u001b[0m-\u001b[1;36m09\u001b[0m-15T\u001b[1;92m07:45:25\u001b[0m.2392525Z   \n",
       "\u001b[1;36m2\u001b[0m                      NaN            NaN  \u001b[33m...\u001b[0m  \u001b[1;36m2023\u001b[0m-\u001b[1;36m09\u001b[0m-15T\u001b[1;92m07:47:44\u001b[0m.5198418Z   \n",
       "\u001b[1;36m3\u001b[0m                      NaN            NaN  \u001b[33m...\u001b[0m  \u001b[1;36m2023\u001b[0m-\u001b[1;36m09\u001b[0m-15T\u001b[1;92m08:03:12\u001b[0m.2947232Z   \n",
       "\u001b[1;36m4\u001b[0m                      NaN            NaN  \u001b[33m...\u001b[0m  \u001b[1;36m2023\u001b[0m-\u001b[1;36m09\u001b[0m-15T\u001b[1;92m07:19:27\u001b[0m.5902140Z   \n",
       "\n",
       "               ModifiedBy                    ModifiedOn  Page Views  \\\n",
       "\u001b[1;36m0\u001b[0m           Administrator  \u001b[1;36m2024\u001b[0m-\u001b[1;36m04\u001b[0m-30T\u001b[1;92m08:57:19\u001b[0m.2963609Z       \u001b[1;36m19977\u001b[0m   \n",
       "\u001b[1;36m1\u001b[0m           Administrator  \u001b[1;36m2024\u001b[0m-\u001b[1;36m04\u001b[0m-19T\u001b[1;92m09:09:19\u001b[0m.8106542Z       \u001b[1;36m18876\u001b[0m   \n",
       "\u001b[1;36m2\u001b[0m           Administrator  \u001b[1;36m2024\u001b[0m-\u001b[1;36m03\u001b[0m-25T\u001b[1;92m03:25:24\u001b[0m.0622377Z       \u001b[1;36m17431\u001b[0m   \n",
       "\u001b[1;36m3\u001b[0m           Administrator  \u001b[1;36m2023\u001b[0m-\u001b[1;36m11\u001b[0m-22T\u001b[1;92m10:56:09\u001b[0m.2189012Z       \u001b[1;36m16309\u001b[0m   \n",
       "\u001b[1;36m4\u001b[0m  nicholas.ong@sg.ey.com  \u001b[1;36m2024\u001b[0m-\u001b[1;36m01\u001b[0m-12T\u001b[1;92m08:31:41\u001b[0m.0382162Z       \u001b[1;36m12748\u001b[0m   \n",
       "\n",
       "   Engagement Rate  Bounce Rate Exit Rate  Scroll %  % of Total Views  \\\n",
       "\u001b[1;36m0\u001b[0m         \u001b[1;36m0.690791\u001b[0m     \u001b[1;36m0.309209\u001b[0m  \u001b[1;36m0.617163\u001b[0m  \u001b[1;36m0.362504\u001b[0m          \u001b[1;36m0.016884\u001b[0m   \n",
       "\u001b[1;36m1\u001b[0m         \u001b[1;36m0.688392\u001b[0m     \u001b[1;36m0.311608\u001b[0m  \u001b[1;36m0.894948\u001b[0m  \u001b[1;36m0.383635\u001b[0m          \u001b[1;36m0.015953\u001b[0m   \n",
       "\u001b[1;36m2\u001b[0m         \u001b[1;36m0.609422\u001b[0m     \u001b[1;36m0.390578\u001b[0m  \u001b[1;36m0.892413\u001b[0m  \u001b[1;36m0.326444\u001b[0m          \u001b[1;36m0.014732\u001b[0m   \n",
       "\u001b[1;36m3\u001b[0m         \u001b[1;36m0.659301\u001b[0m     \u001b[1;36m0.340699\u001b[0m  \u001b[1;36m0.925131\u001b[0m  \u001b[1;36m0.361488\u001b[0m          \u001b[1;36m0.013784\u001b[0m   \n",
       "\u001b[1;36m4\u001b[0m         \u001b[1;36m0.732515\u001b[0m     \u001b[1;36m0.267485\u001b[0m  \u001b[1;36m0.774573\u001b[0m  \u001b[1;36m0.410123\u001b[0m          \u001b[1;36m0.010774\u001b[0m   \n",
       "\n",
       "   Cumulative % of Total Views  \n",
       "\u001b[1;36m0\u001b[0m                     \u001b[1;36m0.016884\u001b[0m  \n",
       "\u001b[1;36m1\u001b[0m                     \u001b[1;36m0.032837\u001b[0m  \n",
       "\u001b[1;36m2\u001b[0m                     \u001b[1;36m0.047569\u001b[0m  \n",
       "\u001b[1;36m3\u001b[0m                     \u001b[1;36m0.061353\u001b[0m  \n",
       "\u001b[1;36m4\u001b[0m                     \u001b[1;36m0.072127\u001b[0m  \n",
       "\n",
       "\u001b[1m[\u001b[0m\u001b[1;36m5\u001b[0m rows x \u001b[1;36m533\u001b[0m columns\u001b[1m]\u001b[0m"
      ]
     },
     "execution_count": 5,
     "metadata": {},
     "output_type": "execute_result"
    }
   ],
   "source": [
    "articles_df.head()"
   ]
  },
  {
   "cell_type": "code",
   "execution_count": null,
   "metadata": {},
   "outputs": [],
   "source": []
  }
 ],
 "metadata": {
  "kernelspec": {
   "display_name": "content-opt",
   "language": "python",
   "name": "python3"
  },
  "language_info": {
   "codemirror_mode": {
    "name": "ipython",
    "version": 3
   },
   "file_extension": ".py",
   "mimetype": "text/x-python",
   "name": "python",
   "nbconvert_exporter": "python",
   "pygments_lexer": "ipython3",
   "version": "3.12.4"
  }
 },
 "nbformat": 4,
 "nbformat_minor": 2
}
