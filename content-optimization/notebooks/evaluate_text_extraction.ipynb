{
 "cells": [
  {
   "cell_type": "markdown",
   "id": "b8691a6024cd7913",
   "metadata": {},
   "source": [
    "# Monitoring the quality of the extracted text"
   ]
  },
  {
   "cell_type": "markdown",
   "id": "581f2d64f2247756",
   "metadata": {},
   "source": [
    "## Import relevant libraries"
   ]
  },
  {
   "cell_type": "code",
   "execution_count": null,
   "id": "initial_id",
   "metadata": {
    "ExecuteTime": {
     "end_time": "2024-07-05T05:15:36.566029Z",
     "start_time": "2024-07-05T05:15:35.854495Z"
    }
   },
   "outputs": [],
   "source": [
    "import numpy as np\n",
    "import plotly.express as px\n",
    "from bs4 import BeautifulSoup"
   ]
  },
  {
   "cell_type": "markdown",
   "id": "24c84ce3d4a5e682",
   "metadata": {},
   "source": [
    "## Functions to check for nested divs"
   ]
  },
  {
   "cell_type": "code",
   "execution_count": null,
   "id": "24d0e01c6a01f965",
   "metadata": {
    "ExecuteTime": {
     "end_time": "2024-07-05T05:15:36.568808Z",
     "start_time": "2024-07-05T05:15:36.566678Z"
    }
   },
   "outputs": [],
   "source": [
    "def check_nested_divs_recursive(element):\n",
    "    is_nested_div = False\n",
    "\n",
    "    # Check for nested_divs by comparing child and parent name via recursion\n",
    "    if element.name == \"div\" and element.parent.name == \"div\":\n",
    "        is_nested_div = True\n",
    "\n",
    "    # Find all elements\n",
    "    direct_children = element.find_all(\n",
    "        [\"h1\", \"h2\", \"h3\", \"h4\", \"h5\", \"h6\", \"p\", \"ul\", \"ol\", \"div\", \"span\"],\n",
    "        recursive=False,\n",
    "    )\n",
    "    for child in direct_children:\n",
    "        check_nested_div = check_nested_divs_recursive(child)\n",
    "        is_nested_div = is_nested_div or check_nested_div\n",
    "\n",
    "    return is_nested_div"
   ]
  },
  {
   "cell_type": "code",
   "execution_count": null,
   "id": "244818542e606ee8",
   "metadata": {
    "ExecuteTime": {
     "end_time": "2024-07-05T05:15:36.572065Z",
     "start_time": "2024-07-05T05:15:36.570245Z"
    }
   },
   "outputs": [],
   "source": [
    "def check_for_nested_divs(html_content):\n",
    "    if html_content is None:\n",
    "        return False\n",
    "\n",
    "    soup = BeautifulSoup(html_content, \"html.parser\")\n",
    "\n",
    "    has_nested_div = False\n",
    "    for tag in soup.find_all(\n",
    "        [\"h1\", \"h2\", \"h3\", \"h4\", \"h5\", \"h6\", \"p\", \"ul\", \"ol\", \"div\", \"span\"],\n",
    "        recursive=False,\n",
    "    ):\n",
    "        check_nested_div = check_nested_divs_recursive(tag)\n",
    "        has_nested_div = has_nested_div or check_nested_div\n",
    "\n",
    "    # print(f\"\\nHas Nested div: {has_nested_div}\")\n",
    "\n",
    "    return has_nested_div"
   ]
  },
  {
   "cell_type": "code",
   "execution_count": null,
   "id": "5b7fd3434332a3b5",
   "metadata": {
    "ExecuteTime": {
     "end_time": "2024-07-05T05:15:36.574179Z",
     "start_time": "2024-07-05T05:15:36.572553Z"
    }
   },
   "outputs": [],
   "source": [
    "def count_divs(html_content):\n",
    "    if html_content is None:\n",
    "        return False\n",
    "\n",
    "    soup = BeautifulSoup(html_content, \"html.parser\")\n",
    "\n",
    "    count = len(soup.find_all(\"div\", recursive=True))\n",
    "\n",
    "    return count"
   ]
  },
  {
   "cell_type": "markdown",
   "id": "8c4ebf77d174db55",
   "metadata": {
    "jp-MarkdownHeadingCollapsed": true
   },
   "source": [
    "## Load Merged Data from Kedro Catalog"
   ]
  },
  {
   "cell_type": "code",
   "execution_count": null,
   "id": "3f00ffd840dd7bad",
   "metadata": {
    "ExecuteTime": {
     "end_time": "2024-07-05T05:15:37.900190Z",
     "start_time": "2024-07-05T05:15:36.580454Z"
    }
   },
   "outputs": [],
   "source": [
    "%load_ext kedro.ipython"
   ]
  },
  {
   "cell_type": "code",
   "execution_count": null,
   "id": "3a81b61967cd0c02",
   "metadata": {
    "ExecuteTime": {
     "end_time": "2024-07-05T05:15:37.905771Z",
     "start_time": "2024-07-05T05:15:37.900781Z"
    }
   },
   "outputs": [],
   "source": [
    "# ruff: noqa: F821\n",
    "catalog.list()"
   ]
  },
  {
   "cell_type": "code",
   "execution_count": null,
   "id": "cdf1d95d6ff16e42",
   "metadata": {
    "ExecuteTime": {
     "end_time": "2024-07-05T05:15:38.009478Z",
     "start_time": "2024-07-05T05:15:37.906337Z"
    }
   },
   "outputs": [],
   "source": [
    "merged_data = catalog.load(\"merged_data\")\n",
    "\n",
    "display(merged_data)"
   ]
  },
  {
   "cell_type": "markdown",
   "id": "259bc987-7500-471b-9297-ca882dd2fc8a",
   "metadata": {},
   "source": [
    "## Keep only rows where `to_remove` is False"
   ]
  },
  {
   "cell_type": "code",
   "execution_count": null,
   "id": "aeeadc4a25bc60db",
   "metadata": {
    "ExecuteTime": {
     "end_time": "2024-07-05T05:15:44.235488Z",
     "start_time": "2024-07-05T05:15:44.200876Z"
    }
   },
   "outputs": [],
   "source": [
    "df_keep = merged_data[~merged_data[\"to_remove\"]]\n",
    "\n",
    "display(df_keep)"
   ]
  },
  {
   "cell_type": "markdown",
   "id": "4fd2e1ab-94e0-484d-99f8-7fe487cc9ba3",
   "metadata": {},
   "source": [
    "## Keep only relevant Content Categories"
   ]
  },
  {
   "cell_type": "code",
   "execution_count": null,
   "id": "48a7c034-241e-4f63-8f7e-3f905069c017",
   "metadata": {},
   "outputs": [],
   "source": [
    "relevant_categories = [\n",
    "    \"cost-and-financing\",\n",
    "    \"live-healthy-articles\",\n",
    "    \"diseases-and-conditions\",\n",
    "    \"medical-care-and-facilities\",\n",
    "    \"support-group-and-others\",\n",
    "]\n",
    "\n",
    "df_keep = df_keep[df_keep[\"content_category\"].isin(relevant_categories)]\n",
    "\n",
    "display(df_keep)"
   ]
  },
  {
   "cell_type": "markdown",
   "id": "33021b7459602e4c",
   "metadata": {},
   "source": [
    "## Keep Relevant Columns"
   ]
  },
  {
   "cell_type": "code",
   "execution_count": null,
   "id": "7731e6dfae0ba618",
   "metadata": {
    "ExecuteTime": {
     "end_time": "2024-07-05T05:15:44.246282Z",
     "start_time": "2024-07-05T05:15:44.236117Z"
    }
   },
   "outputs": [],
   "source": [
    "df_extracted = df_keep[\n",
    "    [\n",
    "        \"id\",\n",
    "        \"content_name\",\n",
    "        \"full_url\",\n",
    "        \"title\",\n",
    "        \"content_category\",\n",
    "        \"content_body\",\n",
    "        \"extracted_content_body\",\n",
    "    ]\n",
    "]\n",
    "\n",
    "display(df_extracted)"
   ]
  },
  {
   "cell_type": "code",
   "execution_count": null,
   "id": "9463177d-adfc-4164-8915-a799bbbdd840",
   "metadata": {},
   "outputs": [],
   "source": [
    "print(df_extracted.groupby([\"content_category\"])[\"id\"].count())"
   ]
  },
  {
   "cell_type": "markdown",
   "id": "1f594089-85ab-4fd3-9a9a-8f0e10600742",
   "metadata": {},
   "source": [
    "## Count the number of div tags in article"
   ]
  },
  {
   "cell_type": "code",
   "execution_count": null,
   "id": "1acf69e0a615372a",
   "metadata": {
    "ExecuteTime": {
     "end_time": "2024-07-05T05:15:44.036400Z",
     "start_time": "2024-07-05T05:15:41.601029Z"
    },
    "scrolled": true
   },
   "outputs": [],
   "source": [
    "df_extracted[\"div_count\"] = df_extracted.apply(\n",
    "    lambda row: count_divs(row[\"content_body\"]), axis=1\n",
    ")"
   ]
  },
  {
   "cell_type": "code",
   "execution_count": null,
   "id": "0b84debb-ca6a-4c2a-ae51-b26c894f04f1",
   "metadata": {},
   "outputs": [],
   "source": [
    "display(df_extracted)"
   ]
  },
  {
   "cell_type": "code",
   "execution_count": null,
   "id": "c379689cfc025a10",
   "metadata": {
    "ExecuteTime": {
     "end_time": "2024-07-05T05:15:44.200097Z",
     "start_time": "2024-07-05T05:15:44.039076Z"
    }
   },
   "outputs": [],
   "source": [
    "div_count_threshold = 5\n",
    "\n",
    "fig = px.histogram(df_extracted, x=\"div_count\", nbins=40)\n",
    "fig.update_layout(\n",
    "    title_text=\"Article div count distribution\",\n",
    "    xaxis_title_text=\"Div count\",\n",
    "    yaxis_title_text=\"Count\",\n",
    "    bargap=0.1,\n",
    ")\n",
    "\n",
    "fig.add_vline(x=div_count_threshold, line_dash=\"dash\", line_color=\"firebrick\")\n",
    "# fig.add_hline(y=100, line_dash=\"dash\", line_color=\"red\")\n",
    "fig.show()"
   ]
  },
  {
   "cell_type": "code",
   "execution_count": null,
   "id": "f74bfa1a-b2bd-4eed-b616-636be9516266",
   "metadata": {},
   "outputs": [],
   "source": [
    "div_counts_by_category = (\n",
    "    df_extracted[df_extracted[\"div_count\"] >= div_count_threshold]\n",
    "    .groupby([\"content_category\"])[\"div_count\"]\n",
    "    .count()\n",
    ")\n",
    "\n",
    "print(div_counts_by_category)"
   ]
  },
  {
   "cell_type": "markdown",
   "id": "81b80c38-a1e9-403e-a238-7228408c2874",
   "metadata": {},
   "source": [
    "## Check for Nested divs in article"
   ]
  },
  {
   "cell_type": "code",
   "execution_count": null,
   "id": "dc0b207bc923d371",
   "metadata": {
    "ExecuteTime": {
     "end_time": "2024-07-05T05:15:41.565343Z",
     "start_time": "2024-07-05T05:15:38.010163Z"
    }
   },
   "outputs": [],
   "source": [
    "df_extracted[\"has_nested_div\"] = df_extracted.apply(\n",
    "    lambda row: check_for_nested_divs(row[\"content_body\"]), axis=1\n",
    ")\n",
    "\n",
    "display(df_extracted)"
   ]
  },
  {
   "cell_type": "code",
   "execution_count": null,
   "id": "11aa15107a370822",
   "metadata": {
    "ExecuteTime": {
     "end_time": "2024-07-05T05:15:47.517941Z",
     "start_time": "2024-07-05T05:15:47.515981Z"
    }
   },
   "outputs": [],
   "source": [
    "print(df_extracted[\"has_nested_div\"].value_counts())"
   ]
  },
  {
   "cell_type": "code",
   "execution_count": null,
   "id": "e9be68a9-7c0b-4ff7-8eeb-9d54607619d9",
   "metadata": {},
   "outputs": [],
   "source": [
    "df_extracted[\n",
    "    (df_extracted[\"div_count\"] <= div_count_threshold)\n",
    "    & (df_extracted[\"has_nested_div\"])\n",
    "]"
   ]
  },
  {
   "cell_type": "code",
   "execution_count": null,
   "id": "18e801f7-c028-4fc2-a4d1-e9966b053e2d",
   "metadata": {},
   "outputs": [],
   "source": [
    "nested_divs_by_category = (\n",
    "    df_extracted[\n",
    "        (df_extracted[\"div_count\"] <= div_count_threshold)\n",
    "        & (df_extracted[\"has_nested_div\"])\n",
    "    ]\n",
    "    .groupby([\"content_category\"])[\"has_nested_div\"]\n",
    "    .count()\n",
    ")\n",
    "\n",
    "print(nested_divs_by_category)"
   ]
  },
  {
   "cell_type": "markdown",
   "id": "44c71e71-c2b1-48b6-9384-407b409c94b5",
   "metadata": {},
   "source": [
    "## Flag articles by div_count and has_nested_divs"
   ]
  },
  {
   "cell_type": "code",
   "execution_count": null,
   "id": "f1722357-563d-4cfc-8f8d-32042230415a",
   "metadata": {},
   "outputs": [],
   "source": [
    "def flag_articles(df, threshold):\n",
    "    if \"flagged\" not in df.columns:\n",
    "        df[\"flagged\"] = False\n",
    "        df[\"type\"] = None\n",
    "\n",
    "    for ind, row in df.iterrows():\n",
    "        if row[\"div_count\"] >= threshold:\n",
    "            df.at[ind, \"flagged\"] = True\n",
    "            df.at[ind, \"type\"] = \"div count exceeds threshold\"\n",
    "\n",
    "        if row[\"has_nested_div\"]:\n",
    "            df.at[ind, \"flagged\"] = True\n",
    "            if df.at[ind, \"type\"] is None:\n",
    "                df.at[ind, \"type\"] = \"has nested div\"\n",
    "            else:\n",
    "                df.at[ind, \"type\"] = df.at[ind, \"type\"] + \", \" + \"has nested div\"\n",
    "\n",
    "    return df"
   ]
  },
  {
   "cell_type": "code",
   "execution_count": null,
   "id": "6f53cfce-00b7-48fa-a4ea-969b6b123f7f",
   "metadata": {
    "scrolled": true
   },
   "outputs": [],
   "source": [
    "df_flagged = flag_articles(df_extracted, div_count_threshold).sort_values(\n",
    "    by=\"div_count\", ascending=False\n",
    ")"
   ]
  },
  {
   "cell_type": "code",
   "execution_count": null,
   "id": "f8e99da2-9f6d-4244-bbb4-da43b3f0ead5",
   "metadata": {},
   "outputs": [],
   "source": [
    "display(df_flagged[df_flagged[\"flagged\"]])"
   ]
  },
  {
   "cell_type": "code",
   "execution_count": null,
   "id": "3a551d30-caa2-480f-bba2-d92bd471a218",
   "metadata": {},
   "outputs": [],
   "source": [
    "flagged_by_category = (\n",
    "    df_flagged[df_flagged[\"flagged\"]].groupby([\"content_category\"])[\"flagged\"].count()\n",
    ")\n",
    "\n",
    "print(flagged_by_category)"
   ]
  },
  {
   "cell_type": "code",
   "execution_count": null,
   "id": "9f340f3e-023d-4bfa-9ee1-7fbdd5193a07",
   "metadata": {},
   "outputs": [],
   "source": [
    "# df_flagged.to_excel(\"flagged_articles.xlsx\")"
   ]
  },
  {
   "cell_type": "markdown",
   "id": "b72a63f4d7584602",
   "metadata": {},
   "source": [
    "## Inspecting for Poor Text Extraction"
   ]
  },
  {
   "cell_type": "markdown",
   "id": "a3f2ad7a61fc01d9",
   "metadata": {
    "jp-MarkdownHeadingCollapsed": true
   },
   "source": [
    "### Using the Word Count of the Largest Paragraph in each Article as a Heuristic"
   ]
  },
  {
   "cell_type": "code",
   "execution_count": null,
   "id": "462deaed263b0517",
   "metadata": {
    "ExecuteTime": {
     "end_time": "2024-07-05T05:15:47.520676Z",
     "start_time": "2024-07-05T05:15:47.518740Z"
    }
   },
   "outputs": [],
   "source": [
    "def max_paragraph_size(row):\n",
    "    article = row[\"extracted_content_body\"]\n",
    "    if article is None:\n",
    "        return 0\n",
    "\n",
    "    # print(type(article))\n",
    "    paragraphs = article.split(\"\\n\")\n",
    "    if paragraphs is None:\n",
    "        return 0\n",
    "\n",
    "    max_paragraph_size = 0\n",
    "    for paragraph in paragraphs:\n",
    "        paragraph_size = len(paragraph.split())\n",
    "        max_paragraph_size = max(max_paragraph_size, paragraph_size)\n",
    "\n",
    "    return max_paragraph_size"
   ]
  },
  {
   "cell_type": "code",
   "execution_count": null,
   "id": "d96a7176a9ed21e6",
   "metadata": {
    "ExecuteTime": {
     "end_time": "2024-07-05T05:15:47.583664Z",
     "start_time": "2024-07-05T05:15:47.521301Z"
    }
   },
   "outputs": [],
   "source": [
    "df_extracted[\"max_paragraph_size\"] = df_extracted.apply(max_paragraph_size, axis=1)"
   ]
  },
  {
   "cell_type": "code",
   "execution_count": null,
   "id": "5b5aa70e023943f",
   "metadata": {
    "ExecuteTime": {
     "end_time": "2024-07-05T05:15:47.596291Z",
     "start_time": "2024-07-05T05:15:47.584268Z"
    }
   },
   "outputs": [],
   "source": [
    "display(df_extracted)"
   ]
  },
  {
   "cell_type": "markdown",
   "id": "afc4ef3386e0f155",
   "metadata": {
    "jp-MarkdownHeadingCollapsed": true
   },
   "source": [
    "### Visualising the `Max Paragraph Size` of each article (Log-normal)"
   ]
  },
  {
   "cell_type": "code",
   "execution_count": null,
   "id": "e44574ec4c4ee4fa",
   "metadata": {
    "ExecuteTime": {
     "end_time": "2024-07-05T05:15:47.615279Z",
     "start_time": "2024-07-05T05:15:47.597013Z"
    }
   },
   "outputs": [],
   "source": [
    "fig = px.histogram(df_extracted, x=\"max_paragraph_size\", nbins=100)\n",
    "fig.update_layout(\n",
    "    title_text=\"Paragraph word count distribution\",\n",
    "    xaxis_title_text=\"Word count\",\n",
    "    yaxis_title_text=\"Count\",\n",
    "    bargap=0.1,\n",
    ")\n",
    "\n",
    "fig.show()"
   ]
  },
  {
   "cell_type": "markdown",
   "id": "205e5cb996ffae9",
   "metadata": {},
   "source": [
    "#### Inspecting the tails of the distribution"
   ]
  },
  {
   "cell_type": "code",
   "execution_count": null,
   "id": "de8554a39653c04a",
   "metadata": {
    "ExecuteTime": {
     "end_time": "2024-07-05T05:15:47.618929Z",
     "start_time": "2024-07-05T05:15:47.616019Z"
    }
   },
   "outputs": [],
   "source": [
    "print(\n",
    "    df_extracted[\"max_paragraph_size\"].quantile(\n",
    "        [0.001, 0.021, 0.136, 0.5, 0.841, 0.977, 0.999]\n",
    "    )\n",
    ")"
   ]
  },
  {
   "cell_type": "markdown",
   "id": "7bf0450407c30fcc",
   "metadata": {
    "jp-MarkdownHeadingCollapsed": true
   },
   "source": [
    "### Visualising the Normal Distribution using `log_max_paragraph_size`"
   ]
  },
  {
   "cell_type": "code",
   "execution_count": null,
   "id": "dd00d5b056bf5308",
   "metadata": {
    "ExecuteTime": {
     "end_time": "2024-07-05T05:15:47.622974Z",
     "start_time": "2024-07-05T05:15:47.619456Z"
    }
   },
   "outputs": [],
   "source": [
    "df_extracted[\"log_max_paragraph_size\"] = np.log(df_extracted[\"max_paragraph_size\"])"
   ]
  },
  {
   "cell_type": "markdown",
   "id": "e7f09352c0cac682",
   "metadata": {
    "jp-MarkdownHeadingCollapsed": true
   },
   "source": [
    "#### Setting the Lower & Upper Threshold"
   ]
  },
  {
   "cell_type": "code",
   "execution_count": null,
   "id": "93a2e980-d2e8-42ae-9e1d-05945e5870b8",
   "metadata": {
    "ExecuteTime": {
     "end_time": "2024-07-05T05:15:47.624944Z",
     "start_time": "2024-07-05T05:15:47.623513Z"
    }
   },
   "outputs": [],
   "source": [
    "import math"
   ]
  },
  {
   "cell_type": "code",
   "execution_count": null,
   "id": "be4e0b0f3c2406f8",
   "metadata": {
    "ExecuteTime": {
     "end_time": "2024-07-05T05:15:47.627851Z",
     "start_time": "2024-07-05T05:15:47.625516Z"
    }
   },
   "outputs": [],
   "source": [
    "lower_threshold = np.log(\n",
    "    math.ceil(df_extracted[\"max_paragraph_size\"].quantile([0.025]).values[0] / 10) * 10\n",
    ")\n",
    "print(lower_threshold)"
   ]
  },
  {
   "cell_type": "code",
   "execution_count": null,
   "id": "b8c0d45b8e612f44",
   "metadata": {
    "ExecuteTime": {
     "end_time": "2024-07-05T05:15:47.630612Z",
     "start_time": "2024-07-05T05:15:47.628432Z"
    }
   },
   "outputs": [],
   "source": [
    "upper_threshold = np.log(\n",
    "    math.floor(df_extracted[\"max_paragraph_size\"].quantile([0.975]).values[0] / 10) * 10\n",
    ")\n",
    "print(upper_threshold)"
   ]
  },
  {
   "cell_type": "code",
   "execution_count": null,
   "id": "3c355e186fd4d04d",
   "metadata": {
    "ExecuteTime": {
     "end_time": "2024-07-05T05:15:47.656231Z",
     "start_time": "2024-07-05T05:15:47.631128Z"
    },
    "scrolled": true
   },
   "outputs": [],
   "source": [
    "fig = px.histogram(df_extracted, x=\"log_max_paragraph_size\", nbins=100)\n",
    "fig.update_layout(\n",
    "    title_text=f\"log(word_count) distribution for Paragraph: {upper_threshold}\",\n",
    "    xaxis_title_text=\"log(word_count)\",\n",
    "    yaxis_title_text=\"Count\",\n",
    "    bargap=0.1,\n",
    ")\n",
    "fig.add_vline(x=lower_threshold, line_dash=\"dash\", line_color=\"firebrick\")\n",
    "fig.add_vline(x=upper_threshold, line_dash=\"dash\", line_color=\"firebrick\")\n",
    "fig.show()"
   ]
  },
  {
   "cell_type": "code",
   "execution_count": null,
   "id": "a37de35611ed51c2",
   "metadata": {
    "ExecuteTime": {
     "end_time": "2024-07-05T05:15:47.660585Z",
     "start_time": "2024-07-05T05:15:47.656983Z"
    }
   },
   "outputs": [],
   "source": [
    "# Presentation of Percentile for 0, 1, 2, 3 std dev from mean\n",
    "print(\n",
    "    df_extracted[\"log_max_paragraph_size\"].quantile(\n",
    "        [0.001, 0.021, 0.136, 0.5, 0.841, 0.977, 0.999]\n",
    "    )\n",
    ")"
   ]
  },
  {
   "cell_type": "markdown",
   "id": "20cbe01bf5f37622",
   "metadata": {
    "jp-MarkdownHeadingCollapsed": true
   },
   "source": [
    "#### Adding the `percentile` rank for each record"
   ]
  },
  {
   "cell_type": "code",
   "execution_count": null,
   "id": "1763159ddd48526c",
   "metadata": {
    "ExecuteTime": {
     "end_time": "2024-07-05T05:15:47.668294Z",
     "start_time": "2024-07-05T05:15:47.661300Z"
    }
   },
   "outputs": [],
   "source": [
    "df_extracted[\"percentile_rank\"] = df_extracted[\"log_max_paragraph_size\"].rank(\n",
    "    pct=True, ascending=True\n",
    ")"
   ]
  },
  {
   "cell_type": "code",
   "execution_count": null,
   "id": "12e25b3ed4b55304",
   "metadata": {
    "ExecuteTime": {
     "end_time": "2024-07-05T05:15:47.684877Z",
     "start_time": "2024-07-05T05:15:47.669690Z"
    }
   },
   "outputs": [],
   "source": [
    "display(df_extracted)"
   ]
  },
  {
   "cell_type": "markdown",
   "id": "731ad79c-2a23-4931-b711-98ba8affa7ce",
   "metadata": {},
   "source": [
    "### Inspection articles higher than the upper threshold"
   ]
  },
  {
   "cell_type": "code",
   "execution_count": null,
   "id": "bbb210d7ce7038b0",
   "metadata": {
    "ExecuteTime": {
     "end_time": "2024-07-05T05:15:47.689517Z",
     "start_time": "2024-07-05T05:15:47.685396Z"
    }
   },
   "outputs": [],
   "source": [
    "df_inspect_higher = df_extracted[\n",
    "    df_extracted[\"log_max_paragraph_size\"] > upper_threshold\n",
    "]\n",
    "df_inspect_higher.sort_values(by=\"max_paragraph_size\", ascending=False, inplace=True)\n",
    "\n",
    "print(df_inspect_higher.shape)"
   ]
  },
  {
   "cell_type": "code",
   "execution_count": null,
   "id": "69a10d1fdd388ba3",
   "metadata": {
    "ExecuteTime": {
     "end_time": "2024-07-05T05:15:47.729584Z",
     "start_time": "2024-07-05T05:15:47.690055Z"
    },
    "scrolled": true
   },
   "outputs": [],
   "source": [
    "display(df_inspect_higher)"
   ]
  },
  {
   "cell_type": "code",
   "execution_count": null,
   "id": "0fbb53b0-6c41-4620-9daa-c72573e906ce",
   "metadata": {
    "ExecuteTime": {
     "end_time": "2024-07-05T05:15:47.747786Z",
     "start_time": "2024-07-05T05:15:47.730430Z"
    }
   },
   "outputs": [],
   "source": [
    "fig = px.histogram(df_inspect_higher, x=\"max_paragraph_size\", nbins=50)\n",
    "fig.update_layout(\n",
    "    title_text=\"Paragraph word count distribution\",\n",
    "    xaxis_title_text=\"Word count\",\n",
    "    yaxis_title_text=\"Count\",\n",
    "    bargap=0.1,\n",
    ")\n",
    "\n",
    "fig.show()"
   ]
  },
  {
   "cell_type": "code",
   "execution_count": null,
   "id": "3e27b90494e6a9",
   "metadata": {
    "ExecuteTime": {
     "end_time": "2024-07-05T05:15:47.864728Z",
     "start_time": "2024-07-05T05:15:47.748384Z"
    }
   },
   "outputs": [],
   "source": [
    "# Export file to Excel\n",
    "\n",
    "# df_inspect_higher.to_excel(\"inspection.xlsx\")"
   ]
  },
  {
   "cell_type": "markdown",
   "id": "b8af0cd7e3baea0c",
   "metadata": {},
   "source": [
    "#### Remove articles with nested div containers"
   ]
  },
  {
   "cell_type": "code",
   "execution_count": null,
   "id": "256d42df480a7630",
   "metadata": {
    "ExecuteTime": {
     "end_time": "2024-07-05T05:15:47.870440Z",
     "start_time": "2024-07-05T05:15:47.865478Z"
    }
   },
   "outputs": [],
   "source": [
    "df_inspect_higher[\"has_nested_div\"].value_counts()"
   ]
  },
  {
   "cell_type": "code",
   "execution_count": null,
   "id": "a6fc57443e83e30f",
   "metadata": {
    "ExecuteTime": {
     "end_time": "2024-07-05T05:15:47.996235Z",
     "start_time": "2024-07-05T05:15:47.871081Z"
    }
   },
   "outputs": [],
   "source": [
    "df_inspect_higher[\"has_nested_div\"] = df_inspect_higher.apply(\n",
    "    lambda row: check_for_nested_divs(row[\"content_body\"]), axis=1\n",
    ")\n",
    "\n",
    "df_no_nested_divs = df_inspect_higher[~df_inspect_higher[\"has_nested_div\"]]\n",
    "display(\n",
    "    df_no_nested_divs.sort_values(\n",
    "        by=[\"max_paragraph_size\"], ascending=False, inplace=False\n",
    "    )\n",
    ")"
   ]
  },
  {
   "cell_type": "code",
   "execution_count": null,
   "id": "d3e8c31b3c974588",
   "metadata": {
    "ExecuteTime": {
     "end_time": "2024-07-05T05:15:47.998646Z",
     "start_time": "2024-07-05T05:15:47.996810Z"
    }
   },
   "outputs": [],
   "source": [
    "query = df_no_nested_divs\n",
    "extracted_text = query.iloc[0][\"extracted_content_body\"]\n",
    "\n",
    "print(extracted_text)"
   ]
  },
  {
   "cell_type": "code",
   "execution_count": null,
   "id": "5cb5ba1de7f7ed6e",
   "metadata": {
    "ExecuteTime": {
     "end_time": "2024-07-05T05:15:48.000659Z",
     "start_time": "2024-07-05T05:15:47.999113Z"
    }
   },
   "outputs": [],
   "source": [
    "raw_html = query.iloc[0][\"content_body\"]\n",
    "\n",
    "print(raw_html)"
   ]
  },
  {
   "cell_type": "markdown",
   "id": "305cbc22-02ea-473a-9c22-71bc6fd8fced",
   "metadata": {},
   "source": [
    "### Inspection articles below the lower threshold"
   ]
  },
  {
   "cell_type": "code",
   "execution_count": null,
   "id": "b20c575dd8b32030",
   "metadata": {
    "ExecuteTime": {
     "end_time": "2024-07-05T05:15:48.005719Z",
     "start_time": "2024-07-05T05:15:48.001429Z"
    }
   },
   "outputs": [],
   "source": [
    "df_inspect_lower = df_extracted[\n",
    "    df_extracted[\"log_max_paragraph_size\"] < lower_threshold\n",
    "]\n",
    "df_inspect_lower.sort_values(by=\"max_paragraph_size\", ascending=True, inplace=True)\n",
    "\n",
    "print(df_inspect_lower.shape)"
   ]
  },
  {
   "cell_type": "code",
   "execution_count": null,
   "id": "cadfb862b29c88a1",
   "metadata": {
    "ExecuteTime": {
     "end_time": "2024-07-05T05:15:48.052753Z",
     "start_time": "2024-07-05T05:15:48.010504Z"
    },
    "scrolled": true
   },
   "outputs": [],
   "source": [
    "display(df_inspect_lower)"
   ]
  },
  {
   "cell_type": "code",
   "execution_count": null,
   "id": "93129a6d8a66c50",
   "metadata": {
    "ExecuteTime": {
     "end_time": "2024-07-05T05:15:48.057619Z",
     "start_time": "2024-07-05T05:15:48.054489Z"
    },
    "scrolled": true
   },
   "outputs": [],
   "source": [
    "extracted_text = df_inspect_lower.iloc[0][\"extracted_content_body\"]\n",
    "\n",
    "print(extracted_text)"
   ]
  },
  {
   "cell_type": "code",
   "execution_count": null,
   "id": "656835bb22e67ecc",
   "metadata": {
    "ExecuteTime": {
     "end_time": "2024-07-05T05:15:48.060757Z",
     "start_time": "2024-07-05T05:15:48.058467Z"
    },
    "scrolled": true
   },
   "outputs": [],
   "source": [
    "raw_html = df_inspect_lower.iloc[0][\"content_body\"]\n",
    "\n",
    "print(raw_html)"
   ]
  }
 ],
 "metadata": {
  "kernelspec": {
   "display_name": "Python 3 (ipykernel)",
   "language": "python",
   "name": "python3"
  },
  "language_info": {
   "codemirror_mode": {
    "name": "ipython",
    "version": 3
   },
   "file_extension": ".py",
   "mimetype": "text/x-python",
   "name": "python",
   "nbconvert_exporter": "python",
   "pygments_lexer": "ipython3",
   "version": "3.11.9"
  }
 },
 "nbformat": 4,
 "nbformat_minor": 5
}
