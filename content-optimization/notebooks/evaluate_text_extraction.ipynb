{
 "cells": [
  {
   "cell_type": "markdown",
   "id": "d7b6701a",
   "metadata": {},
   "source": [
    "# Monitoring the quality of the extracted text\n"
   ]
  },
  {
   "cell_type": "markdown",
   "id": "b59b3f42",
   "metadata": {},
   "source": [
    "## Import relevant libraries\n"
   ]
  },
  {
   "cell_type": "code",
   "id": "2e417afe",
   "metadata": {},
   "source": [
    "import math\n",
    "\n",
    "import numpy as np\n",
    "import plotly.express as px\n",
    "from bs4 import BeautifulSoup"
   ],
   "outputs": [],
   "execution_count": null
  },
  {
   "cell_type": "markdown",
   "id": "24536792",
   "metadata": {},
   "source": [
    "## Functions to check for nested divs\n"
   ]
  },
  {
   "cell_type": "code",
   "id": "0b2ee76e",
   "metadata": {},
   "source": [
    "def check_nested_divs_recursive(element):\n",
    "    is_nested_div = False\n",
    "\n",
    "    # Check for nested_divs by comparing child and parent name via recursion\n",
    "    if element.name == \"div\" and element.parent.name == \"div\":\n",
    "        is_nested_div = True\n",
    "\n",
    "    # Find all elements\n",
    "    direct_children = element.find_all(\n",
    "        [\"h1\", \"h2\", \"h3\", \"h4\", \"h5\", \"h6\", \"p\", \"ul\", \"ol\", \"div\", \"span\"],\n",
    "        recursive=False,\n",
    "    )\n",
    "    for child in direct_children:\n",
    "        check_nested_div = check_nested_divs_recursive(child)\n",
    "        is_nested_div = is_nested_div or check_nested_div\n",
    "\n",
    "    return is_nested_div"
   ],
   "outputs": [],
   "execution_count": null
  },
  {
   "cell_type": "code",
   "id": "bdaca54c",
   "metadata": {},
   "source": [
    "def check_for_nested_divs(html_content):\n",
    "    if html_content is None:\n",
    "        return False\n",
    "\n",
    "    soup = BeautifulSoup(html_content, \"html.parser\")\n",
    "\n",
    "    has_nested_div = False\n",
    "    for tag in soup.find_all(\n",
    "        [\"h1\", \"h2\", \"h3\", \"h4\", \"h5\", \"h6\", \"p\", \"ul\", \"ol\", \"div\", \"span\"],\n",
    "        recursive=False,\n",
    "    ):\n",
    "        check_nested_div = check_nested_divs_recursive(tag)\n",
    "        has_nested_div = has_nested_div or check_nested_div\n",
    "\n",
    "    # print(f\"\\nHas Nested div: {has_nested_div}\")\n",
    "\n",
    "    return has_nested_div"
   ],
   "outputs": [],
   "execution_count": null
  },
  {
   "cell_type": "code",
   "id": "058d543f",
   "metadata": {},
   "source": [
    "def count_divs(html_content):\n",
    "    if html_content is None:\n",
    "        return False\n",
    "\n",
    "    soup = BeautifulSoup(html_content, \"html.parser\")\n",
    "\n",
    "    count = len(soup.find_all(\"div\", recursive=True))\n",
    "\n",
    "    return count"
   ],
   "outputs": [],
   "execution_count": null
  },
  {
   "cell_type": "markdown",
   "id": "9fdc6d4f",
   "metadata": {},
   "source": [
    "## Load Merged Data from Kedro Catalog\n"
   ]
  },
  {
   "cell_type": "code",
   "id": "217aceb3",
   "metadata": {},
   "source": [
    "%load_ext kedro.ipython"
   ],
   "outputs": [],
   "execution_count": null
  },
  {
   "cell_type": "code",
   "id": "e9165fab",
   "metadata": {},
   "source": [
    "# ruff: noqa: F821\n",
    "catalog.list()"
   ],
   "outputs": [],
   "execution_count": null
  },
  {
   "cell_type": "code",
   "id": "a6640df8",
   "metadata": {},
   "source": [
    "merged_data = catalog.load(\"merged_data\")\n",
    "\n",
    "display(merged_data)"
   ],
   "outputs": [],
   "execution_count": null
  },
  {
   "cell_type": "markdown",
   "id": "8227a115",
   "metadata": {},
   "source": [
    "## Keep only rows where `to_remove` is False\n"
   ]
  },
  {
   "cell_type": "code",
   "id": "bd8801fd",
   "metadata": {},
   "source": [
    "df_keep = merged_data[~merged_data[\"to_remove\"]]\n",
    "\n",
    "display(df_keep)"
   ],
   "outputs": [],
   "execution_count": null
  },
  {
   "cell_type": "markdown",
   "id": "2b2dc6d8",
   "metadata": {},
   "source": [
    "## Keep only relevant Content Categories\n"
   ]
  },
  {
   "cell_type": "code",
   "id": "6e6d2d3a",
   "metadata": {},
   "source": [
    "relevant_categories = [\n",
    "    \"cost-and-financing\",\n",
    "    \"live-healthy-articles\",\n",
    "    \"diseases-and-conditions\",\n",
    "    \"medical-care-and-facilities\",\n",
    "    \"support-group-and-others\",\n",
    "]\n",
    "\n",
    "df_keep = df_keep[df_keep[\"content_category\"].isin(relevant_categories)]\n",
    "\n",
    "display(df_keep)"
   ],
   "outputs": [],
   "execution_count": null
  },
  {
   "cell_type": "markdown",
   "id": "42dfbd7b",
   "metadata": {},
   "source": [
    "## Keep Relevant Columns\n"
   ]
  },
  {
   "cell_type": "code",
   "id": "50a1deed",
   "metadata": {},
   "source": [
    "df_extracted = df_keep[\n",
    "    [\n",
    "        \"id\",\n",
    "        \"content_name\",\n",
    "        \"full_url\",\n",
    "        \"title\",\n",
    "        \"content_category\",\n",
    "        \"content_body\",\n",
    "        \"extracted_content_body\",\n",
    "    ]\n",
    "]\n",
    "\n",
    "display(df_extracted)"
   ],
   "outputs": [],
   "execution_count": null
  },
  {
   "cell_type": "code",
   "id": "8d881065",
   "metadata": {},
   "source": [
    "print(df_extracted.groupby([\"content_category\"])[\"id\"].count())"
   ],
   "outputs": [],
   "execution_count": null
  },
  {
   "cell_type": "markdown",
   "id": "ab16f0f5",
   "metadata": {},
   "source": [
    "## Count the number of div tags in article\n"
   ]
  },
  {
   "cell_type": "code",
   "id": "3dca9919",
   "metadata": {
    "scrolled": true
   },
   "source": [
    "df_extracted[\"div_count\"] = df_extracted.apply(\n",
    "    lambda row: count_divs(row[\"content_body\"]), axis=1\n",
    ")"
   ],
   "outputs": [],
   "execution_count": null
  },
  {
   "cell_type": "code",
   "id": "ffeb8ca8",
   "metadata": {},
   "source": [
    "display(df_extracted)"
   ],
   "outputs": [],
   "execution_count": null
  },
  {
   "cell_type": "code",
   "id": "fc88db5d",
   "metadata": {},
   "source": [
    "div_count_threshold = 5\n",
    "\n",
    "fig = px.histogram(df_extracted, x=\"div_count\", nbins=40)\n",
    "fig.update_layout(\n",
    "    title_text=\"Article div count distribution\",\n",
    "    xaxis_title_text=\"Div count\",\n",
    "    yaxis_title_text=\"Count\",\n",
    "    bargap=0.1,\n",
    ")\n",
    "\n",
    "fig.add_vline(x=div_count_threshold, line_dash=\"dash\", line_color=\"firebrick\")\n",
    "# fig.add_hline(y=100, line_dash=\"dash\", line_color=\"red\")\n",
    "fig.show()"
   ],
   "outputs": [],
   "execution_count": null
  },
  {
   "cell_type": "code",
   "id": "4489a894",
   "metadata": {},
   "source": [
    "div_counts_by_category = (\n",
    "    df_extracted[df_extracted[\"div_count\"] >= div_count_threshold]\n",
    "    .groupby([\"content_category\"])[\"div_count\"]\n",
    "    .count()\n",
    ")\n",
    "\n",
    "print(div_counts_by_category)"
   ],
   "outputs": [],
   "execution_count": null
  },
  {
   "cell_type": "markdown",
   "id": "01f803ee",
   "metadata": {},
   "source": [
    "## Check for Nested divs in article\n"
   ]
  },
  {
   "cell_type": "code",
   "id": "cf0dfb48",
   "metadata": {},
   "source": [
    "df_extracted[\"has_nested_div\"] = df_extracted.apply(\n",
    "    lambda row: check_for_nested_divs(row[\"content_body\"]), axis=1\n",
    ")\n",
    "\n",
    "display(df_extracted)"
   ],
   "outputs": [],
   "execution_count": null
  },
  {
   "cell_type": "code",
   "id": "302299a3",
   "metadata": {},
   "source": [
    "print(df_extracted[\"has_nested_div\"].value_counts())"
   ],
   "outputs": [],
   "execution_count": null
  },
  {
   "cell_type": "code",
   "id": "67a18096",
   "metadata": {},
   "source": [
    "df_extracted[\n",
    "    (df_extracted[\"div_count\"] <= div_count_threshold)\n",
    "    & (df_extracted[\"has_nested_div\"])\n",
    "]"
   ],
   "outputs": [],
   "execution_count": null
  },
  {
   "cell_type": "code",
   "id": "7976c5b6",
   "metadata": {},
   "source": [
    "nested_divs_by_category = (\n",
    "    df_extracted[\n",
    "        (df_extracted[\"div_count\"] <= div_count_threshold)\n",
    "        & (df_extracted[\"has_nested_div\"])\n",
    "    ]\n",
    "    .groupby([\"content_category\"])[\"has_nested_div\"]\n",
    "    .count()\n",
    ")\n",
    "\n",
    "print(nested_divs_by_category)"
   ],
   "outputs": [],
   "execution_count": null
  },
  {
   "cell_type": "markdown",
   "id": "392077a0",
   "metadata": {},
   "source": [
    "## Flag articles by div_count and has_nested_divs\n"
   ]
  },
  {
   "cell_type": "code",
   "id": "c7f781df",
   "metadata": {},
   "source": [
    "def flag_articles(df, threshold):\n",
    "    if \"flagged\" not in df.columns:\n",
    "        df[\"flagged\"] = False\n",
    "        df[\"type\"] = None\n",
    "\n",
    "    for ind, row in df.iterrows():\n",
    "        if row[\"div_count\"] >= threshold:\n",
    "            df.at[ind, \"flagged\"] = True\n",
    "            df.at[ind, \"type\"] = \"div count exceeds threshold\"\n",
    "\n",
    "        if row[\"has_nested_div\"]:\n",
    "            df.at[ind, \"flagged\"] = True\n",
    "            if df.at[ind, \"type\"] is None:\n",
    "                df.at[ind, \"type\"] = \"has nested div\"\n",
    "            else:\n",
    "                df.at[ind, \"type\"] = df.at[ind, \"type\"] + \", \" + \"has nested div\"\n",
    "\n",
    "    return df"
   ],
   "outputs": [],
   "execution_count": null
  },
  {
   "cell_type": "code",
   "id": "0b94b5e0",
   "metadata": {
    "scrolled": true
   },
   "source": [
    "df_flagged = flag_articles(df_extracted, div_count_threshold).sort_values(\n",
    "    by=\"div_count\", ascending=False\n",
    ")"
   ],
   "outputs": [],
   "execution_count": null
  },
  {
   "cell_type": "code",
   "id": "d69721b9",
   "metadata": {},
   "source": [
    "display(df_flagged[df_flagged[\"flagged\"]])"
   ],
   "outputs": [],
   "execution_count": null
  },
  {
   "cell_type": "code",
   "id": "45e2bac8",
   "metadata": {},
   "source": [
    "flagged_by_category = (\n",
    "    df_flagged[df_flagged[\"flagged\"]].groupby([\"content_category\"])[\"flagged\"].count()\n",
    ")\n",
    "\n",
    "print(flagged_by_category)"
   ],
   "outputs": [],
   "execution_count": null
  },
  {
   "cell_type": "code",
   "id": "31460573",
   "metadata": {},
   "source": [
    "# df_flagged.to_excel(\"flagged_articles.xlsx\")"
   ],
   "outputs": [],
   "execution_count": null
  },
  {
   "cell_type": "markdown",
   "id": "a4c7a57e",
   "metadata": {},
   "source": [
    "## Inspecting for Poor Text Extraction\n"
   ]
  },
  {
   "cell_type": "markdown",
   "id": "49748d75",
   "metadata": {},
   "source": [
    "### Using the Word Count of the Largest Paragraph in each Article as a Heuristic\n"
   ]
  },
  {
   "cell_type": "code",
   "id": "2e9e8640",
   "metadata": {},
   "source": [
    "def max_paragraph_size(row):\n",
    "    article = row[\"extracted_content_body\"]\n",
    "    if article is None:\n",
    "        return 0\n",
    "\n",
    "    # print(type(article))\n",
    "    paragraphs = article.split(\"\\n\")\n",
    "    if paragraphs is None:\n",
    "        return 0\n",
    "\n",
    "    max_paragraph_size = 0\n",
    "    for paragraph in paragraphs:\n",
    "        paragraph_size = len(paragraph.split())\n",
    "        max_paragraph_size = max(max_paragraph_size, paragraph_size)\n",
    "\n",
    "    return max_paragraph_size"
   ],
   "outputs": [],
   "execution_count": null
  },
  {
   "cell_type": "code",
   "id": "d4031ca3",
   "metadata": {},
   "source": [
    "df_extracted[\"max_paragraph_size\"] = df_extracted.apply(max_paragraph_size, axis=1)"
   ],
   "outputs": [],
   "execution_count": null
  },
  {
   "cell_type": "code",
   "id": "733eab5e",
   "metadata": {},
   "source": [
    "display(df_extracted)"
   ],
   "outputs": [],
   "execution_count": null
  },
  {
   "cell_type": "markdown",
   "id": "7c7cd15f",
   "metadata": {},
   "source": [
    "### Visualising the `Max Paragraph Size` of each article (Log-normal)\n"
   ]
  },
  {
   "cell_type": "code",
   "id": "fe163183",
   "metadata": {},
   "source": [
    "fig = px.histogram(df_extracted, x=\"max_paragraph_size\", nbins=100)\n",
    "fig.update_layout(\n",
    "    title_text=\"Paragraph word count distribution\",\n",
    "    xaxis_title_text=\"Word count\",\n",
    "    yaxis_title_text=\"Count\",\n",
    "    bargap=0.1,\n",
    ")\n",
    "\n",
    "fig.show()"
   ],
   "outputs": [],
   "execution_count": null
  },
  {
   "cell_type": "markdown",
   "id": "68a77921",
   "metadata": {},
   "source": [
    "#### Inspecting the tails of the distribution\n"
   ]
  },
  {
   "cell_type": "code",
   "id": "ecc1611f",
   "metadata": {},
   "source": [
    "print(\n",
    "    df_extracted[\"max_paragraph_size\"].quantile(\n",
    "        [0.001, 0.021, 0.136, 0.5, 0.841, 0.977, 0.999]\n",
    "    )\n",
    ")"
   ],
   "outputs": [],
   "execution_count": null
  },
  {
   "cell_type": "markdown",
   "id": "563f3d74",
   "metadata": {},
   "source": [
    "### Visualising the Normal Distribution using `log_max_paragraph_size`\n"
   ]
  },
  {
   "cell_type": "code",
   "id": "7b70fe91",
   "metadata": {},
   "source": [
    "df_extracted[\"log_max_paragraph_size\"] = np.log(df_extracted[\"max_paragraph_size\"])"
   ],
   "outputs": [],
   "execution_count": null
  },
  {
   "cell_type": "markdown",
   "id": "5a01d0d1",
   "metadata": {},
   "source": [
    "#### Setting the Lower & Upper Threshold"
   ]
  },
  {
   "cell_type": "code",
   "id": "6a4770a8",
   "metadata": {},
   "source": [
    "import math"
   ],
   "outputs": [],
   "execution_count": null
  },
  {
   "cell_type": "code",
   "id": "7ee056ec",
   "metadata": {},
   "source": [
    "lower_threshold = np.log(\n",
    "    math.ceil(df_extracted[\"max_paragraph_size\"].quantile([0.025]).values[0] / 10) * 10\n",
    ")\n",
    "print(lower_threshold)"
   ],
   "outputs": [],
   "execution_count": null
  },
  {
   "cell_type": "code",
   "id": "42676b4b",
   "metadata": {},
   "source": [
    "upper_threshold = np.log(\n",
    "    math.floor(df_extracted[\"max_paragraph_size\"].quantile([0.975]).values[0] / 10) * 10\n",
    ")\n",
    "print(upper_threshold)"
   ],
   "outputs": [],
   "execution_count": null
  },
  {
   "cell_type": "code",
   "id": "cc312674",
   "metadata": {},
   "source": [
    "fig = px.histogram(df_extracted, x=\"log_max_paragraph_size\", nbins=100)\n",
    "fig.update_layout(\n",
    "    title_text=f\"log(word_count) distribution for Paragraph: {upper_threshold}\",\n",
    "    xaxis_title_text=\"log(word_count)\",\n",
    "    yaxis_title_text=\"Count\",\n",
    "    bargap=0.1,\n",
    ")\n",
    "fig.add_vline(x=lower_threshold, line_dash=\"dash\", line_color=\"firebrick\")\n",
    "fig.add_vline(x=upper_threshold, line_dash=\"dash\", line_color=\"firebrick\")\n",
    "fig.show()"
   ],
   "outputs": [],
   "execution_count": null
  },
  {
   "cell_type": "code",
   "id": "ad0ff95d",
   "metadata": {},
   "source": [
    "# Presentation of Percentile for 0, 1, 2, 3 std dev from mean\n",
    "print(\n",
    "    df_extracted[\"log_max_paragraph_size\"].quantile(\n",
    "        [0.001, 0.021, 0.136, 0.5, 0.841, 0.977, 0.999]\n",
    "    )\n",
    ")"
   ],
   "outputs": [],
   "execution_count": null
  },
  {
   "cell_type": "markdown",
   "id": "22ad009c",
   "metadata": {
    "jp-MarkdownHeadingCollapsed": true
   },
   "source": [
    "#### Adding the `percentile` rank for each record\n"
   ]
  },
  {
   "cell_type": "code",
   "id": "4eca8e4b",
   "metadata": {},
   "source": [
    "df_extracted[\"percentile_rank\"] = df_extracted[\"log_max_paragraph_size\"].rank(\n",
    "    pct=True, ascending=True\n",
    ")"
   ],
   "outputs": [],
   "execution_count": null
  },
  {
   "cell_type": "code",
   "id": "c10bf9be",
   "metadata": {},
   "source": [
    "display(df_extracted)"
   ],
   "outputs": [],
   "execution_count": null
  },
  {
   "cell_type": "markdown",
   "id": "9c4554f6",
   "metadata": {},
   "source": [
    "### Inspection articles higher than the upper threshold\n"
   ]
  },
  {
   "cell_type": "code",
   "id": "454be7a7",
   "metadata": {},
   "source": [
    "df_inspect_higher = df_extracted[\n",
    "    df_extracted[\"log_max_paragraph_size\"] > upper_threshold\n",
    "]\n",
    "df_inspect_higher.sort_values(by=\"max_paragraph_size\", ascending=False, inplace=True)\n",
    "\n",
    "print(df_inspect_higher.shape)"
   ],
   "outputs": [],
   "execution_count": null
  },
  {
   "cell_type": "code",
   "id": "35c3dbcb",
   "metadata": {
    "scrolled": true
   },
   "source": [
    "display(df_inspect_higher)"
   ],
   "outputs": [],
   "execution_count": null
  },
  {
   "cell_type": "code",
   "id": "80172d87",
   "metadata": {},
   "source": [
    "fig = px.histogram(df_inspect_higher, x=\"max_paragraph_size\", nbins=50)\n",
    "fig.update_layout(\n",
    "    title_text=\"Paragraph word count distribution\",\n",
    "    xaxis_title_text=\"Word count\",\n",
    "    yaxis_title_text=\"Count\",\n",
    "    bargap=0.1,\n",
    ")\n",
    "\n",
    "fig.show()"
   ],
   "outputs": [],
   "execution_count": null
  },
  {
   "cell_type": "code",
   "id": "405421ea",
   "metadata": {},
   "source": [
    "# Export file to Excel\n",
    "\n",
    "# df_inspect_higher.to_excel(\"inspection.xlsx\")"
   ],
   "outputs": [],
   "execution_count": null
  },
  {
   "cell_type": "markdown",
   "id": "10d3a58b",
   "metadata": {},
   "source": [
    "#### Remove articles with nested div containers\n"
   ]
  },
  {
   "cell_type": "code",
   "id": "e8523813",
   "metadata": {},
   "source": [
    "df_inspect_higher[\"has_nested_div\"].value_counts()"
   ],
   "outputs": [],
   "execution_count": null
  },
  {
   "cell_type": "code",
   "id": "425cd758",
   "metadata": {},
   "source": [
    "df_inspect_higher[\"has_nested_div\"] = df_inspect_higher.apply(\n",
    "    lambda row: check_for_nested_divs(row[\"content_body\"]), axis=1\n",
    ")\n",
    "\n",
    "df_no_nested_divs = df_inspect_higher[~df_inspect_higher[\"has_nested_div\"]]\n",
    "display(\n",
    "    df_no_nested_divs.sort_values(\n",
    "        by=[\"max_paragraph_size\"], ascending=False, inplace=False\n",
    "    )\n",
    ")"
   ],
   "outputs": [],
   "execution_count": null
  },
  {
   "cell_type": "code",
   "id": "f80d83b7",
   "metadata": {},
   "source": [
    "query = df_no_nested_divs\n",
    "extracted_text = query.iloc[0][\"extracted_content_body\"]\n",
    "\n",
    "print(extracted_text)"
   ],
   "outputs": [],
   "execution_count": null
  },
  {
   "cell_type": "code",
   "id": "a002f5ad",
   "metadata": {},
   "source": [
    "raw_html = query.iloc[0][\"content_body\"]\n",
    "\n",
    "print(raw_html)"
   ],
   "outputs": [],
   "execution_count": null
  },
  {
   "cell_type": "markdown",
   "id": "eb241d3d",
   "metadata": {},
   "source": [
    "### Inspection articles below the lower threshold\n"
   ]
  },
  {
   "cell_type": "code",
   "id": "78c098f4",
   "metadata": {},
   "source": [
    "df_inspect_lower = df_extracted[\n",
    "    df_extracted[\"log_max_paragraph_size\"] < lower_threshold\n",
    "]\n",
    "df_inspect_lower.sort_values(by=\"max_paragraph_size\", ascending=True, inplace=True)\n",
    "\n",
    "print(df_inspect_lower.shape)"
   ],
   "outputs": [],
   "execution_count": null
  },
  {
   "cell_type": "code",
   "id": "ec804c13",
   "metadata": {
    "scrolled": true
   },
   "source": [
    "display(df_inspect_lower)"
   ],
   "outputs": [],
   "execution_count": null
  },
  {
   "cell_type": "code",
   "id": "a8822318",
   "metadata": {
    "scrolled": true
   },
   "source": [
    "extracted_text = df_inspect_lower.iloc[0][\"extracted_content_body\"]\n",
    "\n",
    "print(extracted_text)"
   ],
   "outputs": [],
   "execution_count": null
  },
  {
   "cell_type": "code",
   "id": "46b71abb",
   "metadata": {
    "scrolled": true
   },
   "source": [
    "raw_html = df_inspect_lower.iloc[0][\"content_body\"]\n",
    "\n",
    "print(raw_html)"
   ],
   "outputs": [],
   "execution_count": null
  },
  {
   "cell_type": "code",
   "id": "024348fe",
   "metadata": {},
   "source": [],
   "outputs": [],
   "execution_count": null
  }
 ],
 "metadata": {
  "kernelspec": {
   "display_name": "Python 3 (ipykernel)",
   "language": "python",
   "name": "python3"
  },
  "language_info": {
   "codemirror_mode": {
    "name": "ipython",
    "version": 3
   },
   "file_extension": ".py",
   "mimetype": "text/x-python",
   "name": "python",
   "nbconvert_exporter": "python",
   "pygments_lexer": "ipython3",
   "version": "3.12.4"
  }
 },
 "nbformat": 4,
 "nbformat_minor": 5
}
