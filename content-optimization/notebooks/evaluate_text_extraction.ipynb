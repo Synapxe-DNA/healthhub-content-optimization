{
 "cells": [
  {
   "cell_type": "markdown",
   "id": "b8691a6024cd7913",
   "metadata": {},
   "source": [
    "# Monitoring the quality of the extracted text"
   ]
  },
  {
   "cell_type": "markdown",
   "id": "581f2d64f2247756",
   "metadata": {},
   "source": [
    "## Import relevant libraries"
   ]
  },
  {
   "cell_type": "code",
   "id": "initial_id",
   "metadata": {},
   "source": [
    "import numpy as np\n",
    "import plotly.express as px\n",
    "from bs4 import BeautifulSoup"
   ],
   "outputs": [],
   "execution_count": null
  },
  {
   "cell_type": "markdown",
   "id": "24c84ce3d4a5e682",
   "metadata": {
    "jp-MarkdownHeadingCollapsed": true
   },
   "source": [
    "## Functions to check for nested divs"
   ]
  },
  {
   "cell_type": "code",
   "id": "24d0e01c6a01f965",
   "metadata": {},
   "source": [
    "def check_nested_divs_recursive(element):\n",
    "    is_nested_div = False\n",
    "\n",
    "    # Check for nested_divs by comparing child and parent name via recursion\n",
    "    if element.name == \"div\" and element.parent.name == \"div\":\n",
    "        is_nested_div = True\n",
    "\n",
    "    # Find all elements\n",
    "    direct_children = element.find_all(\n",
    "        [\"h1\", \"h2\", \"h3\", \"h4\", \"h5\", \"h6\", \"p\", \"ul\", \"ol\", \"div\", \"span\"],\n",
    "        recursive=False,\n",
    "    )\n",
    "    for child in direct_children:\n",
    "        check_nested_div = check_nested_divs_recursive(child)\n",
    "        is_nested_div = is_nested_div or check_nested_div\n",
    "\n",
    "    return is_nested_div"
   ],
   "outputs": [],
   "execution_count": null
  },
  {
   "cell_type": "code",
   "id": "244818542e606ee8",
   "metadata": {},
   "source": [
    "def check_for_nested_divs(html_content):\n",
    "    if html_content is None:\n",
    "        return False\n",
    "\n",
    "    soup = BeautifulSoup(html_content, \"html.parser\")\n",
    "\n",
    "    has_nested_div = False\n",
    "    for tag in soup.find_all(\n",
    "        [\"h1\", \"h2\", \"h3\", \"h4\", \"h5\", \"h6\", \"p\", \"ul\", \"ol\", \"div\", \"span\"],\n",
    "        recursive=False,\n",
    "    ):\n",
    "        check_nested_div = check_nested_divs_recursive(tag)\n",
    "        has_nested_div = has_nested_div or check_nested_div\n",
    "\n",
    "    # print(f\"\\nHas Nested div: {has_nested_div}\")\n",
    "\n",
    "    return has_nested_div"
   ],
   "outputs": [],
   "execution_count": null
  },
  {
   "cell_type": "markdown",
   "id": "8c4ebf77d174db55",
   "metadata": {
    "jp-MarkdownHeadingCollapsed": true
   },
   "source": [
    "## Load Merged Data from Kedro Catalog"
   ]
  },
  {
   "cell_type": "code",
   "id": "3f00ffd840dd7bad",
   "metadata": {},
   "source": [
    "%load_ext kedro.ipython"
   ],
   "outputs": [],
   "execution_count": null
  },
  {
   "cell_type": "code",
   "id": "3a81b61967cd0c02",
   "metadata": {},
   "source": [
    "# ruff: noqa: F821\n",
    "catalog.list()"
   ],
   "outputs": [],
   "execution_count": null
  },
  {
   "cell_type": "code",
   "id": "cdf1d95d6ff16e42",
   "metadata": {},
   "source": [
    "merged_data = catalog.load(\"merged_data\")\n",
    "\n",
    "display(merged_data)"
   ],
   "outputs": [],
   "execution_count": null
  },
  {
   "cell_type": "markdown",
   "id": "259bc987-7500-471b-9297-ca882dd2fc8a",
   "metadata": {},
   "source": [
    "### Keep only rows where `to_remove` is False"
   ]
  },
  {
   "cell_type": "code",
   "id": "aeeadc4a25bc60db",
   "metadata": {},
   "source": [
    "df_keep = merged_data[~merged_data[\"to_remove\"]]\n",
    "\n",
    "display(df_keep)"
   ],
   "outputs": [],
   "execution_count": null
  },
  {
   "cell_type": "markdown",
   "id": "33021b7459602e4c",
   "metadata": {
    "jp-MarkdownHeadingCollapsed": true
   },
   "source": [
    "## Keep Relevant Columns"
   ]
  },
  {
   "cell_type": "code",
   "id": "7731e6dfae0ba618",
   "metadata": {},
   "source": [
    "df_extracted = df_keep[\n",
    "    [\n",
    "        \"id\",\n",
    "        \"content_name\",\n",
    "        \"title\",\n",
    "        \"content_category\",\n",
    "        \"content_body\",\n",
    "        \"extracted_content_body\",\n",
    "    ]\n",
    "]  # \"title\", \"full_url\",\n",
    "\n",
    "display(df_extracted)"
   ],
   "outputs": [],
   "execution_count": null
  },
  {
   "cell_type": "markdown",
   "id": "81b80c38-a1e9-403e-a238-7228408c2874",
   "metadata": {
    "jp-MarkdownHeadingCollapsed": true
   },
   "source": [
    "## Check for Nested Divs in Content Body"
   ]
  },
  {
   "cell_type": "code",
   "id": "56895c23c030a4de",
   "metadata": {},
   "source": [
    "df_extracted[\"has_nested_div\"] = df_extracted.apply(\n",
    "    lambda row: check_for_nested_divs(row[\"content_body\"]), axis=1\n",
    ")\n",
    "\n",
    "display(df_extracted[df_extracted[\"has_nested_div\"]])"
   ],
   "outputs": [],
   "execution_count": null
  },
  {
   "cell_type": "code",
   "id": "11aa15107a370822",
   "metadata": {},
   "source": [
    "df_extracted[\"has_nested_div\"].value_counts()"
   ],
   "outputs": [],
   "execution_count": null
  },
  {
   "cell_type": "markdown",
   "id": "b72a63f4d7584602",
   "metadata": {},
   "source": [
    "## Inspecting for Poor Text Extraction"
   ]
  },
  {
   "cell_type": "markdown",
   "id": "a3f2ad7a61fc01d9",
   "metadata": {
    "jp-MarkdownHeadingCollapsed": true
   },
   "source": [
    "### Using the Word Count of the Largest Paragraph in each Article as a Heuristic"
   ]
  },
  {
   "cell_type": "code",
   "id": "462deaed263b0517",
   "metadata": {},
   "source": [
    "def max_paragraph_size(row):\n",
    "    article = row[\"extracted_content_body\"]\n",
    "    if article is None:\n",
    "        return 0\n",
    "\n",
    "    # print(type(article))\n",
    "    paragraphs = article.split(\"\\n\")\n",
    "    if paragraphs is None:\n",
    "        return 0\n",
    "\n",
    "    max_paragraph_size = 0\n",
    "    for paragraph in paragraphs:\n",
    "        paragraph_size = len(paragraph.split())\n",
    "        max_paragraph_size = max(max_paragraph_size, paragraph_size)\n",
    "\n",
    "    return max_paragraph_size"
   ],
   "outputs": [],
   "execution_count": null
  },
  {
   "cell_type": "code",
   "id": "d96a7176a9ed21e6",
   "metadata": {},
   "source": [
    "df_extracted[\"max_paragraph_size\"] = df_extracted.apply(max_paragraph_size, axis=1)"
   ],
   "outputs": [],
   "execution_count": null
  },
  {
   "cell_type": "code",
   "id": "5b5aa70e023943f",
   "metadata": {},
   "source": [
    "display(df_extracted)"
   ],
   "outputs": [],
   "execution_count": null
  },
  {
   "cell_type": "markdown",
   "id": "afc4ef3386e0f155",
   "metadata": {},
   "source": [
    "### Visualisng the `Max Paragraph Size` of each article (Log-normal)"
   ]
  },
  {
   "cell_type": "code",
   "id": "e44574ec4c4ee4fa",
   "metadata": {},
   "source": [
    "fig = px.histogram(df_extracted, x=\"max_paragraph_size\", nbins=100)\n",
    "fig.update_layout(\n",
    "    title_text=\"Paragraph word count distribution\",\n",
    "    xaxis_title_text=\"Word count\",\n",
    "    yaxis_title_text=\"Count\",\n",
    "    bargap=0.1,\n",
    ")\n",
    "\n",
    "fig.show()"
   ],
   "outputs": [],
   "execution_count": null
  },
  {
   "cell_type": "markdown",
   "id": "205e5cb996ffae9",
   "metadata": {},
   "source": [
    "#### Inspecting the tails of the distribution"
   ]
  },
  {
   "cell_type": "code",
   "id": "de8554a39653c04a",
   "metadata": {},
   "source": [
    "print(\n",
    "    df_extracted[\"max_paragraph_size\"].quantile(\n",
    "        [0.001, 0.021, 0.136, 0.5, 0.841, 0.977, 0.999]\n",
    "    )\n",
    ")"
   ],
   "outputs": [],
   "execution_count": null
  },
  {
   "cell_type": "markdown",
   "id": "7bf0450407c30fcc",
   "metadata": {},
   "source": [
    "### Visualising the Normal Distribution using `log_max_paragraph_size`"
   ]
  },
  {
   "cell_type": "code",
   "id": "dd00d5b056bf5308",
   "metadata": {},
   "source": [
    "df_extracted[\"log_max_paragraph_size\"] = np.log(df_extracted[\"max_paragraph_size\"])"
   ],
   "outputs": [],
   "execution_count": null
  },
  {
   "cell_type": "markdown",
   "id": "e7f09352c0cac682",
   "metadata": {},
   "source": [
    "#### Setting the Lower & Upper Threshold"
   ]
  },
  {
   "cell_type": "code",
   "id": "93a2e980-d2e8-42ae-9e1d-05945e5870b8",
   "metadata": {},
   "source": [
    "import math"
   ],
   "outputs": [],
   "execution_count": null
  },
  {
   "cell_type": "code",
   "id": "be4e0b0f3c2406f8",
   "metadata": {},
   "source": [
    "lower_threshold = np.log(\n",
    "    math.ceil(df_extracted[\"max_paragraph_size\"].quantile([0.025]).values[0] / 10) * 10\n",
    ")\n",
    "print(lower_threshold)"
   ],
   "outputs": [],
   "execution_count": null
  },
  {
   "cell_type": "code",
   "id": "b8c0d45b8e612f44",
   "metadata": {},
   "source": [
    "upper_threshold = np.log(\n",
    "    math.floor(df_extracted[\"max_paragraph_size\"].quantile([0.975]).values[0] / 10) * 10\n",
    ")\n",
    "print(upper_threshold)"
   ],
   "outputs": [],
   "execution_count": null
  },
  {
   "cell_type": "code",
   "id": "3c355e186fd4d04d",
   "metadata": {},
   "source": [
    "fig = px.histogram(df_extracted, x=\"log_max_paragraph_size\", nbins=100)\n",
    "fig.update_layout(\n",
    "    title_text=f\"log(word_count) distribution for Paragraph: {upper_threshold}\",\n",
    "    xaxis_title_text=\"log(word_count)\",\n",
    "    yaxis_title_text=\"Count\",\n",
    "    bargap=0.1,\n",
    ")\n",
    "fig.add_vline(x=lower_threshold, line_dash=\"dash\", line_color=\"firebrick\")\n",
    "fig.add_vline(x=upper_threshold, line_dash=\"dash\", line_color=\"firebrick\")\n",
    "fig.show()"
   ],
   "outputs": [],
   "execution_count": null
  },
  {
   "cell_type": "code",
   "id": "a37de35611ed51c2",
   "metadata": {},
   "source": [
    "# Presentation of Percentile for 0, 1, 2, 3 std dev from mean\n",
    "print(\n",
    "    df_extracted[\"log_max_paragraph_size\"].quantile(\n",
    "        [0.001, 0.021, 0.136, 0.5, 0.841, 0.977, 0.999]\n",
    "    )\n",
    ")"
   ],
   "outputs": [],
   "execution_count": null
  },
  {
   "cell_type": "markdown",
   "id": "20cbe01bf5f37622",
   "metadata": {},
   "source": [
    "#### Adding the `percentile` rank for each record"
   ]
  },
  {
   "cell_type": "code",
   "id": "1763159ddd48526c",
   "metadata": {},
   "source": [
    "df_extracted[\"percentile_rank\"] = df_extracted[\"log_max_paragraph_size\"].rank(\n",
    "    pct=True, ascending=True\n",
    ")"
   ],
   "outputs": [],
   "execution_count": null
  },
  {
   "cell_type": "code",
   "id": "12e25b3ed4b55304",
   "metadata": {},
   "source": [
    "display(df_extracted)"
   ],
   "outputs": [],
   "execution_count": null
  },
  {
   "cell_type": "markdown",
   "id": "731ad79c-2a23-4931-b711-98ba8affa7ce",
   "metadata": {},
   "source": "### Inspection articles higher than the upper threshold"
  },
  {
   "cell_type": "code",
   "id": "bbb210d7ce7038b0",
   "metadata": {},
   "source": [
    "df_inspect_higher = df_extracted[\n",
    "    df_extracted[\"log_max_paragraph_size\"] > upper_threshold\n",
    "]\n",
    "df_inspect_higher.sort_values(by=\"max_paragraph_size\", ascending=False, inplace=True)\n",
    "\n",
    "print(df_inspect_higher.shape)"
   ],
   "outputs": [],
   "execution_count": null
  },
  {
   "cell_type": "code",
   "id": "69a10d1fdd388ba3",
   "metadata": {},
   "source": [
    "display(df_inspect_higher)"
   ],
   "outputs": [],
   "execution_count": null
  },
  {
   "cell_type": "code",
   "id": "0fbb53b0-6c41-4620-9daa-c72573e906ce",
   "metadata": {},
   "source": [
    "fig = px.histogram(df_inspect_higher, x=\"max_paragraph_size\", nbins=50)\n",
    "fig.update_layout(\n",
    "    title_text=\"Paragraph word count distribution\",\n",
    "    xaxis_title_text=\"Word count\",\n",
    "    yaxis_title_text=\"Count\",\n",
    "    bargap=0.1,\n",
    ")\n",
    "\n",
    "fig.show()"
   ],
   "outputs": [],
   "execution_count": null
  },
  {
   "cell_type": "code",
   "id": "3e27b90494e6a9",
   "metadata": {},
   "source": [
    "# Export file to Excel\n",
    "\n",
    "# df_inspect_higher.to_excel(\"inspection.xlsx\")"
   ],
   "outputs": [],
   "execution_count": null
  },
  {
   "metadata": {},
   "cell_type": "markdown",
   "source": "#### Remove articles with nested div containers",
   "id": "b8af0cd7e3baea0c"
  },
  {
   "cell_type": "code",
   "id": "a6fc57443e83e30f",
   "metadata": {},
   "source": [
    "df_inspect_higher[\"has_nested_div\"] = df_inspect_higher.apply(\n",
    "    lambda row: check_for_nested_divs(row[\"content_body\"]), axis=1\n",
    ")\n",
    "\n",
    "df_no_nested_divs = df_inspect_higher[~df_inspect_higher[\"has_nested_div\"]]\n",
    "display(\n",
    "    df_no_nested_divs.sort_values(\n",
    "        by=[\"max_paragraph_size\"], ascending=False, inplace=False\n",
    "    )\n",
    ")"
   ],
   "outputs": [],
   "execution_count": null
  },
  {
   "cell_type": "code",
   "id": "256d42df480a7630",
   "metadata": {},
   "source": [
    "df_inspect_higher[\"has_nested_div\"].value_counts()"
   ],
   "outputs": [],
   "execution_count": null
  },
  {
   "cell_type": "code",
   "id": "d3e8c31b3c974588",
   "metadata": {},
   "source": [
    "query = df_no_nested_divs\n",
    "extracted_text = query.iloc[0][\"extracted_content_body\"]\n",
    "\n",
    "print(extracted_text)"
   ],
   "outputs": [],
   "execution_count": null
  },
  {
   "metadata": {},
   "cell_type": "code",
   "source": [
    "raw_html = query.iloc[0][\"content_body\"]\n",
    "\n",
    "print(raw_html)"
   ],
   "id": "5cb5ba1de7f7ed6e",
   "outputs": [],
   "execution_count": null
  },
  {
   "cell_type": "markdown",
   "id": "305cbc22-02ea-473a-9c22-71bc6fd8fced",
   "metadata": {},
   "source": "### Inspection articles below the lower threshold"
  },
  {
   "cell_type": "code",
   "id": "b20c575dd8b32030",
   "metadata": {},
   "source": [
    "df_inspect_lower = df_extracted[\n",
    "    df_extracted[\"log_max_paragraph_size\"] < lower_threshold\n",
    "]\n",
    "df_inspect_lower.sort_values(by=\"max_paragraph_size\", ascending=True, inplace=True)\n",
    "\n",
    "print(df_inspect_lower.shape)"
   ],
   "outputs": [],
   "execution_count": null
  },
  {
   "cell_type": "code",
   "id": "cadfb862b29c88a1",
   "metadata": {},
   "source": "display(df_inspect_lower)",
   "outputs": [],
   "execution_count": null
  },
  {
   "cell_type": "code",
   "id": "93129a6d8a66c50",
   "metadata": {},
   "source": [
    "extracted_text = df_inspect_lower.iloc[0][\"extracted_content_body\"]\n",
    "\n",
    "print(extracted_text)"
   ],
   "outputs": [],
   "execution_count": null
  },
  {
   "metadata": {},
   "cell_type": "code",
   "source": [
    "raw_html = df_inspect_lower.iloc[0][\"content_body\"]\n",
    "\n",
    "print(raw_html)"
   ],
   "id": "656835bb22e67ecc",
   "outputs": [],
   "execution_count": null
  },
  {
   "metadata": {},
   "cell_type": "code",
   "source": "",
   "id": "418fc6d1ea66a848",
   "outputs": [],
   "execution_count": null
  }
 ],
 "metadata": {
  "kernelspec": {
   "display_name": "Python 3 (ipykernel)",
   "language": "python",
   "name": "python3"
  },
  "language_info": {
   "codemirror_mode": {
    "name": "ipython",
    "version": 3
   },
   "file_extension": ".py",
   "mimetype": "text/x-python",
   "name": "python",
   "nbconvert_exporter": "python",
   "pygments_lexer": "ipython3",
   "version": "3.11.9"
  }
 },
 "nbformat": 4,
 "nbformat_minor": 5
}
