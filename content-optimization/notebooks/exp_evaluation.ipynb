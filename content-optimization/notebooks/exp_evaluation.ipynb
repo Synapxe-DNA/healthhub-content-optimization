{
 "cells": [
  {
   "cell_type": "code",
   "execution_count": 1,
   "metadata": {},
   "outputs": [],
   "source": [
    "import os\n",
    "import pickle\n",
    "\n",
    "import pandas as pd\n",
    "import pyvis"
   ]
  },
  {
   "cell_type": "code",
   "execution_count": 46,
   "metadata": {},
   "outputs": [],
   "source": [
    "root_path = r\"C:\\Users\\Joycelyn\\Documents\\Synapxe\\07 GenAI for healthhub\\Github backup\\cluster experiments\\weighted emb vs sim (658)\"\n",
    "emb_path_th_median = os.path.join(root_path, \"nomic_weighted_emb (0.7 body, 0.3 title)\")\n",
    "emb_path_th_09 = os.path.join(\n",
    "    root_path, \"nomic_weighted_emb (0.7 body, 0.3 title) th09\"\n",
    ")\n",
    "\n",
    "\n",
    "with open(os.path.join(emb_path_th_median, \"neo4j_predicted_clusters.pkl\"), \"rb\") as f:\n",
    "    emb_results_median = pickle.load(f)\n",
    "\n",
    "with open(os.path.join(emb_path_th_09, \"neo4j_predicted_clusters.pkl\"), \"rb\") as f:\n",
    "    emb_results_th09 = pickle.load(f)"
   ]
  },
  {
   "cell_type": "markdown",
   "metadata": {},
   "source": [
    "## identify common and unique clusters"
   ]
  },
  {
   "cell_type": "code",
   "execution_count": 47,
   "metadata": {},
   "outputs": [],
   "source": [
    "def find_common_clusters(output1, output2):\n",
    "    clusters1 = {tuple(cluster[\"titles\"]): cluster for cluster in output1}\n",
    "    clusters2 = {tuple(cluster[\"titles\"]): cluster for cluster in output2}\n",
    "\n",
    "    common_titles = set(clusters1.keys()) & set(clusters2.keys())\n",
    "\n",
    "    common_clusters = [clusters1[titles] for titles in common_titles]\n",
    "    df_common_clusters = pd.DataFrame(common_clusters)\n",
    "\n",
    "    df_common_clusters[\"num_articles\"] = df_common_clusters[\"titles\"].apply(\n",
    "        lambda x: len(x)\n",
    "    )\n",
    "\n",
    "    return df_common_clusters\n",
    "\n",
    "\n",
    "def find_different_clusters(output1, output2):\n",
    "    clusters1 = {tuple(cluster[\"titles\"]): cluster for cluster in output1}\n",
    "    clusters2 = {tuple(cluster[\"titles\"]): cluster for cluster in output2}\n",
    "\n",
    "    unique_titles1 = set(clusters1.keys()) - set(clusters2.keys())\n",
    "    unique_titles2 = set(clusters2.keys()) - set(clusters1.keys())\n",
    "\n",
    "    unique_clusters1 = [clusters1[titles] for titles in unique_titles1]\n",
    "    unique_clusters2 = [clusters2[titles] for titles in unique_titles2]\n",
    "\n",
    "    df_unique_clusters1 = pd.DataFrame(unique_clusters1)\n",
    "    df_unique_clusters2 = pd.DataFrame(unique_clusters2)\n",
    "\n",
    "    df_unique_clusters1[\"num_articles\"] = df_unique_clusters1[\"titles\"].apply(\n",
    "        lambda x: len(x)\n",
    "    )\n",
    "    df_unique_clusters2[\"num_articles\"] = df_unique_clusters2[\"titles\"].apply(\n",
    "        lambda x: len(x)\n",
    "    )\n",
    "\n",
    "    return df_unique_clusters1, df_unique_clusters2"
   ]
  },
  {
   "cell_type": "code",
   "execution_count": 65,
   "metadata": {},
   "outputs": [
    {
     "name": "stdout",
     "output_type": "stream",
     "text": [
      "Number of exact same clusters: 10     \n",
      "Number of unique clusters from th=median: 62     \n",
      "Number of unique clusters from th=0.9: 51\n"
     ]
    }
   ],
   "source": [
    "df_common_clusters = find_common_clusters(emb_results_median, emb_results_th09)\n",
    "df_unique_median, df_unique_09 = find_different_clusters(\n",
    "    emb_results_median, emb_results_th09\n",
    ")\n",
    "\n",
    "print(\n",
    "    f\"Number of exact same clusters: {len(df_common_clusters)} \\\n",
    "    \\nNumber of unique clusters from th=median: {len(df_unique_emb)} \\\n",
    "    \\nNumber of unique clusters from th=0.9: {len(df_unique_sim)}\"\n",
    ")"
   ]
  },
  {
   "cell_type": "markdown",
   "metadata": {},
   "source": [
    "## Match unique clusters"
   ]
  },
  {
   "cell_type": "code",
   "execution_count": 92,
   "metadata": {},
   "outputs": [],
   "source": [
    "# match unique clusters\n",
    "# df_unique_median_1 = df_unique_median.copy()\n",
    "# df_unique_09_1 = df_unique_09.copy()\n",
    "\n",
    "\n",
    "# Function to calculate overlap\n",
    "def calculate_overlap(row1, row2):\n",
    "    return len(set(row1) & set(row2))\n",
    "\n",
    "\n",
    "# List to store the matches\n",
    "matches = []\n",
    "\n",
    "for i, row1 in df_unique_median.iterrows():\n",
    "    for j, row2 in df_unique_09.iterrows():\n",
    "        overlap = calculate_overlap(row1[\"titles\"], row2[\"titles\"])\n",
    "        matches.append((i, j, overlap))\n",
    "\n",
    "matches_df = pd.DataFrame(matches, columns=[\"embeddings_index\", \"sim_index\", \"overlap\"])\n",
    "\n",
    "# Identify the pairs with the highest overlap\n",
    "max_matches_df = matches_df.loc[\n",
    "    matches_df.groupby(\"embeddings_index\")[\"overlap\"].idxmax()\n",
    "]\n",
    "# Sort by sim_index and overlap and keep the sim_index with highest overlap\n",
    "max_matches_df = max_matches_df[max_matches_df[\"overlap\"] != 0].sort_values(\n",
    "    [\"sim_index\", \"overlap\"], ascending=[True, False]\n",
    ")\n",
    "max_matches_df = max_matches_df.drop_duplicates(subset=[\"sim_index\"], keep=\"first\")\n",
    "max_matches_df\n",
    "\n",
    "# Prepare data for full outer join\n",
    "df_unique_median[\"key\"] = df_unique_median.index\n",
    "df_unique_09[\"key\"] = df_unique_09.index\n",
    "\n",
    "# Merge the DataFrames using the identified pairs\n",
    "merged_df_1to1 = (\n",
    "    pd.merge(\n",
    "        df_unique_median,\n",
    "        max_matches_df[[\"embeddings_index\", \"sim_index\", \"overlap\"]],\n",
    "        left_index=True,\n",
    "        right_on=\"embeddings_index\",\n",
    "        how=\"outer\",\n",
    "    )\n",
    "    .merge(\n",
    "        df_unique_09,\n",
    "        left_on=\"sim_index\",\n",
    "        right_index=True,\n",
    "        how=\"outer\",\n",
    "        suffixes=(\"_1\", \"_2\"),\n",
    "    )\n",
    "    .drop(columns=[\"embeddings_index\", \"sim_index\", \"key_1\", \"key_2\"])\n",
    ")"
   ]
  },
  {
   "cell_type": "markdown",
   "metadata": {},
   "source": [
    "## match unique clusters (1 to many)"
   ]
  },
  {
   "cell_type": "code",
   "execution_count": 90,
   "metadata": {},
   "outputs": [],
   "source": [
    "# List to store the matches\n",
    "matches = []\n",
    "\n",
    "for i, row1 in df_unique_median.iterrows():\n",
    "    for j, row2 in df_unique_09.iterrows():\n",
    "        overlap = calculate_overlap(row1[\"titles\"], row2[\"titles\"])\n",
    "        matches.append((i, j, overlap))\n",
    "\n",
    "matches_df = pd.DataFrame(matches, columns=[\"embeddings_index\", \"sim_index\", \"overlap\"])\n",
    "matches_df = matches_df[matches_df[\"overlap\"] != 0].sort_values(\n",
    "    [\"embeddings_index\", \"overlap\"], ascending=[True, False]\n",
    ")\n",
    "\n",
    "# Merge the DataFrames using the identified pairs\n",
    "merged_df_1tomany = (\n",
    "    pd.merge(\n",
    "        df_unique_median,\n",
    "        matches_df[[\"embeddings_index\", \"sim_index\", \"overlap\"]],\n",
    "        left_index=True,\n",
    "        right_on=\"embeddings_index\",\n",
    "        how=\"outer\",\n",
    "    )\n",
    "    .merge(\n",
    "        df_unique_09,\n",
    "        left_on=\"sim_index\",\n",
    "        right_index=True,\n",
    "        how=\"outer\",\n",
    "        suffixes=(\"_1\", \"_2\"),\n",
    "    )\n",
    "    .drop(columns=[\"embeddings_index\", \"sim_index\", \"key_1\", \"key_2\"])\n",
    ")"
   ]
  },
  {
   "cell_type": "code",
   "execution_count": 212,
   "metadata": {},
   "outputs": [
    {
     "name": "stdout",
     "output_type": "stream",
     "text": [
      "(62, 5)\n"
     ]
    },
    {
     "data": {
      "text/html": [
       "<div>\n",
       "<style scoped>\n",
       "    .dataframe tbody tr th:only-of-type {\n",
       "        vertical-align: middle;\n",
       "    }\n",
       "\n",
       "    .dataframe tbody tr th {\n",
       "        vertical-align: top;\n",
       "    }\n",
       "\n",
       "    .dataframe thead th {\n",
       "        text-align: right;\n",
       "    }\n",
       "</style>\n",
       "<table border=\"1\" class=\"dataframe\">\n",
       "  <thead>\n",
       "    <tr style=\"text-align: right;\">\n",
       "      <th></th>\n",
       "      <th>cluster</th>\n",
       "      <th>cluster_keywords</th>\n",
       "      <th>num_articles</th>\n",
       "      <th>th0.9 - num_of_clusters</th>\n",
       "      <th>th0.9 - articles size</th>\n",
       "    </tr>\n",
       "  </thead>\n",
       "  <tbody>\n",
       "    <tr>\n",
       "      <th>0</th>\n",
       "      <td>45</td>\n",
       "      <td>[diabetes, insulin, sugar, glucose, hcs]</td>\n",
       "      <td>23</td>\n",
       "      <td>1</td>\n",
       "      <td>2.0</td>\n",
       "    </tr>\n",
       "    <tr>\n",
       "      <th>1</th>\n",
       "      <td>51</td>\n",
       "      <td>[water, glass, waste, drinking, ice]</td>\n",
       "      <td>3</td>\n",
       "      <td>1</td>\n",
       "      <td>2.0</td>\n",
       "    </tr>\n",
       "  </tbody>\n",
       "</table>\n",
       "</div>"
      ],
      "text/plain": [
       "   cluster                          cluster_keywords  num_articles  \\\n",
       "0       45  [diabetes, insulin, sugar, glucose, hcs]            23   \n",
       "1       51      [water, glass, waste, drinking, ice]             3   \n",
       "\n",
       "   th0.9 - num_of_clusters th0.9 - articles size  \n",
       "0                        1                   2.0  \n",
       "1                        1                   2.0  "
      ]
     },
     "execution_count": 212,
     "metadata": {},
     "output_type": "execute_result"
    }
   ],
   "source": [
    "grouped_df = (\n",
    "    merged_df_1tomany.groupby(\"cluster_1\")\n",
    "    .agg(\n",
    "        {\n",
    "            \"cluster_2\": lambda x: x.count(),\n",
    "            \"num_articles_2\": lambda x: x,\n",
    "        }\n",
    "    )\n",
    "    .reset_index()\n",
    ")\n",
    "\n",
    "grouped_merge = pd.merge(\n",
    "    grouped_df,\n",
    "    merged_df_1tomany[[\"cluster_1\", \"cluster_keywords_1\", \"num_articles_1\"]],\n",
    "    left_on=\"cluster_1\",\n",
    "    right_on=\"cluster_1\",\n",
    "    how=\"left\",\n",
    ")\n",
    "grouped_merge = grouped_merge.loc[\n",
    "    :,\n",
    "    [\n",
    "        \"cluster_1\",\n",
    "        \"cluster_keywords_1\",\n",
    "        \"num_articles_1\",\n",
    "        \"cluster_2\",\n",
    "        \"num_articles_2\",\n",
    "    ],\n",
    "]\n",
    "grouped_merge = grouped_merge.rename(\n",
    "    columns={\n",
    "        \"cluster_1\": \"cluster\",\n",
    "        \"cluster_keywords_1\": \"cluster_keywords\",\n",
    "        \"num_articles_1\": \"num_articles\",\n",
    "        \"cluster_2\": \"th0.9 - num_of_clusters\",\n",
    "        \"num_articles_2\": \"th0.9 - articles size\",\n",
    "    }\n",
    ")\n",
    "grouped_merge = grouped_merge.drop_duplicates(subset=[\"cluster\"])\n",
    "print(grouped_merge.shape)\n",
    "grouped_merge.head(2)"
   ]
  },
  {
   "cell_type": "markdown",
   "metadata": {},
   "source": [
    "## Export excel"
   ]
  },
  {
   "cell_type": "code",
   "execution_count": 210,
   "metadata": {},
   "outputs": [],
   "source": [
    "# export dfs\n",
    "save_path = os.path.join(root_path, \"th09_eval.xlsx\")\n",
    "with pd.ExcelWriter(save_path) as writer:\n",
    "    df_common_clusters.to_excel(writer, sheet_name=\"Common Clusters\", index=False)\n",
    "    df_unique_emb.to_excel(writer, sheet_name=\"th=median unique articles\", index=False)\n",
    "    df_unique_sim.to_excel(writer, sheet_name=\"th=0.9 sim unique articles\", index=False)\n",
    "    merged_df_1to1.to_excel(writer, sheet_name=\"match_1to1\", index=False)\n",
    "    merged_df_1tomany.to_excel(writer, sheet_name=\"match_1tomany\", index=False)\n",
    "    grouped_merge.to_excel(writer, sheet_name=\"cluster_change\", index=False)"
   ]
  },
  {
   "cell_type": "markdown",
   "metadata": {},
   "source": [
    "## visualise unique cluster"
   ]
  },
  {
   "cell_type": "code",
   "execution_count": 7,
   "metadata": {},
   "outputs": [],
   "source": [
    "def visualize_result(clustered_df, method: str):\n",
    "    visual_graph = pyvis.network.Network(select_menu=True, filter_menu=True)\n",
    "\n",
    "    # Add nodes-nodes pair\n",
    "    for _, row in clustered_df.iterrows():\n",
    "        # Add nodes\n",
    "        visual_graph.add_node(\n",
    "            row[\"node_1_title\"],\n",
    "            label=row[\"node_1_title\"],\n",
    "            title=f\"\\nPredicted: {row['node_1_pred_cluster']}\\nTitle: {row['node_1_title']}\\nKeywords: {row['node_1_cluster_kws']}\",\n",
    "            group=row[\"node_1_cluster_kws\"],\n",
    "            cluster_num=row[\"node_1_pred_cluster\"],\n",
    "        )\n",
    "        visual_graph.add_node(\n",
    "            row[\"node_2_title\"],\n",
    "            label=row[\"node_2_title\"],\n",
    "            title=f\"\\nPredicted: {row['node_2_pred_cluster']}\\nTitle: {row['node_2_title']}\\nKeywords: {row['node_2_cluster_kws']}\",\n",
    "            group=row[\"node_2_cluster_kws\"],\n",
    "            cluster_num=row[\"node_2_pred_cluster\"],\n",
    "        )\n",
    "\n",
    "        # Add edge\n",
    "        visual_graph.add_edge(\n",
    "            row[\"node_1_title\"],\n",
    "            row[\"node_2_title\"],\n",
    "            title=f\"Edge Weight: {row['edge_weight']}\",\n",
    "        )\n",
    "\n",
    "    visual_graph.show(f\"neo4j_{method}.html\", notebook=False)\n",
    "\n",
    "\n",
    "def get_unique_inter_grp(df):\n",
    "    df = df[df[\"node_1_pred_cluster\"] != df[\"node_2_pred_cluster\"]]\n",
    "    unique_pairs = df[[\"node_1_pred_cluster\", \"node_2_pred_cluster\"]].drop_duplicates()\n",
    "    num_rows_with_unique_pairs = unique_pairs.shape[0]\n",
    "    return num_rows_with_unique_pairs"
   ]
  },
  {
   "cell_type": "code",
   "execution_count": 43,
   "metadata": {},
   "outputs": [],
   "source": [
    "clustered_nodes_emb = pd.read_csv(os.path.join(emb_path, \"neo_4j_clustered_data.csv\"))\n",
    "clustered_nodes_sim = pd.read_csv(os.path.join(sim_path, \"neo_4j_clustered_data.csv\"))"
   ]
  },
  {
   "cell_type": "code",
   "execution_count": 44,
   "metadata": {},
   "outputs": [
    {
     "name": "stdout",
     "output_type": "stream",
     "text": [
      "Number of intergroup connections\n",
      "EMB method: 15\n",
      "SIM method: 35\n",
      "\n",
      "Number of unique interconnected groups\n",
      "EMB method: 7\n",
      "SIM method: 15\n"
     ]
    }
   ],
   "source": [
    "print(\"Number of intergroup connections\")\n",
    "print(f\"EMB method: {len(clustered_nodes_emb[clustered_nodes_emb[\"node_1_pred_cluster\"] != clustered_nodes_emb[\"node_2_pred_cluster\"]])}\")\n",
    "print(f\"SIM method: {len(clustered_nodes_sim[clustered_nodes_sim[\"node_1_pred_cluster\"] != clustered_nodes_sim[\"node_2_pred_cluster\"]])}\")\n",
    "\n",
    "print(\"\n",
    "Number of unique interconnected groups\")\n",
    "print(f\"EMB method: {get_unique_inter_grp(clustered_nodes_emb)}\")\n",
    "print(f\"SIM method: {get_unique_inter_grp(clustered_nodes_sim)}\")"
   ]
  },
  {
   "cell_type": "code",
   "execution_count": 10,
   "metadata": {},
   "outputs": [
    {
     "name": "stdout",
     "output_type": "stream",
     "text": [
      "neo4j_emb.html\n"
     ]
    }
   ],
   "source": [
    "# visualisation for unique emb clusters\n",
    "unique_emb_list = list(df_unique_emb[\"cluster\"])\n",
    "clustered_nodes_emb_filtered = clustered_nodes_emb[\n",
    "    clustered_nodes_emb[\"node_1_pred_cluster\"].isin(unique_emb_list)\n",
    "    & clustered_nodes_emb[\"node_2_pred_cluster\"].isin(unique_emb_list)\n",
    "]\n",
    "visualize_result(clustered_nodes_emb_filtered, \"emb\")"
   ]
  },
  {
   "cell_type": "code",
   "execution_count": 11,
   "metadata": {},
   "outputs": [
    {
     "name": "stdout",
     "output_type": "stream",
     "text": [
      "neo4j_sim.html\n"
     ]
    }
   ],
   "source": [
    "# visualisation for unique sim clusters\n",
    "unique_sim_list = list(df_unique_sim[\"cluster\"])\n",
    "clustered_nodes_sim_filtered = clustered_nodes_sim[\n",
    "    clustered_nodes_sim[\"node_1_pred_cluster\"].isin(unique_sim_list)\n",
    "    & clustered_nodes_sim[\"node_2_pred_cluster\"].isin(unique_sim_list)\n",
    "]\n",
    "visualize_result(clustered_nodes_sim_filtered, \"sim\")"
   ]
  },
  {
   "cell_type": "markdown",
   "metadata": {},
   "source": [
    "## Comparing unique clusters"
   ]
  },
  {
   "cell_type": "code",
   "execution_count": 22,
   "metadata": {},
   "outputs": [
    {
     "name": "stdout",
     "output_type": "stream",
     "text": [
      "Emb cluster size: 41     \n",
      "Sim cluster size: 36     \n",
      "Number of overlap articles: 31\n",
      "\n",
      "Unique articles in EMB cluster:     \n",
      "['Know Your Alcohol Limit: Don’t Be a Party Pooper!', 'Drinking Myths Busted!', 'Responsible Drinking: Know Your Alcohol Limit', 'Staying Sober and Within the Alcohol Limit', 'Ditch Both that Cigarette and Drink!', 'Alcohol — More than Meets the Eye', \"Life is Better When You're Sober\", 'Drinking (or not) to a Healthy Chinese New Year', 'Why is Binge Drinking Bad for You?', 'Alcohol and Health—Set Your Drinking Limits']     \n",
      "\n",
      "Unique articles in SIM cluster:     \n",
      "['Are e-cigarettes harmful?', 'Effects of Secondhand Smoke on Your Child’s Health', '\"Vaping is not smoking\", and Other Tobacco Myths', 'Environmental Tobacco Smoke', 'Smoke-free Environment for a Healthier Family']\n"
     ]
    }
   ],
   "source": [
    "emb_cluster_num = 532\n",
    "sim_cluster_num = 592\n",
    "\n",
    "emb_titles_list = df_unique_emb[df_unique_emb[\"cluster\"] == emb_cluster_num][\n",
    "    \"titles\"\n",
    "].iloc[0]\n",
    "sim_titles_list = df_unique_sim[df_unique_sim[\"cluster\"] == sim_cluster_num][\n",
    "    \"titles\"\n",
    "].iloc[0]\n",
    "\n",
    "emb_set = set(emb_titles_list)\n",
    "sim_set = set(sim_titles_list)\n",
    "common_articles = emb_set.intersection(sim_set)\n",
    "\n",
    "print(\n",
    "    f\"Emb cluster size: {len(emb_titles_list)} \\\n",
    "    \\nSim cluster size: {len(sim_titles_list)} \\\n",
    "    \\nNumber of overlap articles: {len(common_articles)}\"\n",
    ")\n",
    "\n",
    "print(\n",
    "    f\"\\nUnique articles in EMB cluster: \\\n",
    "    \\n{list(emb_set - sim_set)} \\\n",
    "    \\n\\nUnique articles in SIM cluster: \\\n",
    "    \\n{list(sim_set - emb_set)}\"\n",
    ")"
   ]
  },
  {
   "cell_type": "code",
   "execution_count": 23,
   "metadata": {},
   "outputs": [
    {
     "name": "stderr",
     "output_type": "stream",
     "text": [
      "C:\\Users\\Joycelyn\\AppData\\Local\\Temp\\ipykernel_21884\\931935250.py:26: DeprecationWarning: DataFrameGroupBy.apply operated on the grouping columns. This behavior is deprecated, and in a future version of pandas the grouping columns will be excluded from the operation. Either pass `include_groups=False` to exclude the groupings or explicitly select the grouping columns after groupby to silence this warning.\n",
      "  grouped_df = df.groupby('cluster_keywords').apply(lambda x: x)\n"
     ]
    },
    {
     "data": {
      "text/html": [
       "<div>\n",
       "<style scoped>\n",
       "    .dataframe tbody tr th:only-of-type {\n",
       "        vertical-align: middle;\n",
       "    }\n",
       "\n",
       "    .dataframe tbody tr th {\n",
       "        vertical-align: top;\n",
       "    }\n",
       "\n",
       "    .dataframe thead th {\n",
       "        text-align: right;\n",
       "    }\n",
       "</style>\n",
       "<table border=\"1\" class=\"dataframe\">\n",
       "  <thead>\n",
       "    <tr style=\"text-align: right;\">\n",
       "      <th></th>\n",
       "      <th></th>\n",
       "      <th>article_title</th>\n",
       "      <th>cluster_keywords</th>\n",
       "    </tr>\n",
       "    <tr>\n",
       "      <th>cluster_keywords</th>\n",
       "      <th></th>\n",
       "      <th></th>\n",
       "      <th></th>\n",
       "    </tr>\n",
       "  </thead>\n",
       "  <tbody>\n",
       "    <tr>\n",
       "      <th rowspan=\"2\" valign=\"top\">cigarettes, tobacco, shisha, cigarette, vapourisers</th>\n",
       "      <th>0</th>\n",
       "      <td>Are e-cigarettes harmful?</td>\n",
       "      <td>cigarettes, tobacco, shisha, cigarette, vapour...</td>\n",
       "    </tr>\n",
       "    <tr>\n",
       "      <th>2</th>\n",
       "      <td>\"Vaping is not smoking\", and Other Tobacco Myths</td>\n",
       "      <td>cigarettes, tobacco, shisha, cigarette, vapour...</td>\n",
       "    </tr>\n",
       "    <tr>\n",
       "      <th rowspan=\"3\" valign=\"top\">smoke, ets, second, cigarette, third</th>\n",
       "      <th>1</th>\n",
       "      <td>Effects of Secondhand Smoke on Your Child’s He...</td>\n",
       "      <td>smoke, ets, second, cigarette, third</td>\n",
       "    </tr>\n",
       "    <tr>\n",
       "      <th>3</th>\n",
       "      <td>Environmental Tobacco Smoke</td>\n",
       "      <td>smoke, ets, second, cigarette, third</td>\n",
       "    </tr>\n",
       "    <tr>\n",
       "      <th>4</th>\n",
       "      <td>Smoke-free Environment for a Healthier Family</td>\n",
       "      <td>smoke, ets, second, cigarette, third</td>\n",
       "    </tr>\n",
       "  </tbody>\n",
       "</table>\n",
       "</div>"
      ],
      "text/plain": [
       "                                                                                          article_title  \\\n",
       "cluster_keywords                                                                                          \n",
       "cigarettes, tobacco, shisha, cigarette, vapouri... 0                          Are e-cigarettes harmful?   \n",
       "                                                   2   \"Vaping is not smoking\", and Other Tobacco Myths   \n",
       "smoke, ets, second, cigarette, third               1  Effects of Secondhand Smoke on Your Child’s He...   \n",
       "                                                   3                        Environmental Tobacco Smoke   \n",
       "                                                   4      Smoke-free Environment for a Healthier Family   \n",
       "\n",
       "                                                                                       cluster_keywords  \n",
       "cluster_keywords                                                                                         \n",
       "cigarettes, tobacco, shisha, cigarette, vapouri... 0  cigarettes, tobacco, shisha, cigarette, vapour...  \n",
       "                                                   2  cigarettes, tobacco, shisha, cigarette, vapour...  \n",
       "smoke, ets, second, cigarette, third               1               smoke, ets, second, cigarette, third  \n",
       "                                                   3               smoke, ets, second, cigarette, third  \n",
       "                                                   4               smoke, ets, second, cigarette, third  "
      ]
     },
     "execution_count": 23,
     "metadata": {},
     "output_type": "execute_result"
    }
   ],
   "source": [
    "# For unique articles in Weighted SIM cluster\n",
    "article_titles = []\n",
    "clusters = []\n",
    "\n",
    "list_2 = list(sim_set - emb_set)\n",
    "for item in list_2:\n",
    "    # print(item)\n",
    "    filtered_df = df_unique_emb_1[df_unique_emb_1[\"titles\"].apply(lambda x: item in x)]\n",
    "    if filtered_df.empty:\n",
    "        cluster = \"single node\"\n",
    "    else:\n",
    "        cluster = filtered_df[\"cluster_keywords\"].iloc[0]\n",
    "\n",
    "    article_titles.append(item)\n",
    "    clusters.append(cluster)\n",
    "\n",
    "data = {\"article_title\": article_titles, \"cluster_keywords\": clusters}\n",
    "# sorted_df  = df.sort_values(by=\"cluster_keywords\")\n",
    "\n",
    "df = pd.DataFrame(data)\n",
    "df[\"cluster_keywords\"] = df[\"cluster_keywords\"].apply(lambda x: \", \".join(map(str, x)))\n",
    "\n",
    "grouped_df = df.groupby(\"cluster_keywords\").apply(lambda x: x)\n",
    "grouped_df"
   ]
  },
  {
   "cell_type": "code",
   "execution_count": 28,
   "metadata": {},
   "outputs": [
    {
     "name": "stderr",
     "output_type": "stream",
     "text": [
      "C:\\Users\\Joycelyn\\AppData\\Local\\Temp\\ipykernel_21884\\3700555398.py:26: DeprecationWarning: DataFrameGroupBy.apply operated on the grouping columns. This behavior is deprecated, and in a future version of pandas the grouping columns will be excluded from the operation. Either pass `include_groups=False` to exclude the groupings or explicitly select the grouping columns after groupby to silence this warning.\n",
      "  grouped_df = df.groupby('cluster_keywords').apply(lambda x: x)\n"
     ]
    },
    {
     "data": {
      "text/html": [
       "<div>\n",
       "<style scoped>\n",
       "    .dataframe tbody tr th:only-of-type {\n",
       "        vertical-align: middle;\n",
       "    }\n",
       "\n",
       "    .dataframe tbody tr th {\n",
       "        vertical-align: top;\n",
       "    }\n",
       "\n",
       "    .dataframe thead th {\n",
       "        text-align: right;\n",
       "    }\n",
       "</style>\n",
       "<table border=\"1\" class=\"dataframe\">\n",
       "  <thead>\n",
       "    <tr style=\"text-align: right;\">\n",
       "      <th></th>\n",
       "      <th></th>\n",
       "      <th>article_title</th>\n",
       "      <th>cluster_keywords</th>\n",
       "    </tr>\n",
       "    <tr>\n",
       "      <th>cluster_keywords</th>\n",
       "      <th></th>\n",
       "      <th></th>\n",
       "      <th></th>\n",
       "    </tr>\n",
       "  </thead>\n",
       "  <tbody>\n",
       "    <tr>\n",
       "      <th rowspan=\"10\" valign=\"top\">alcohol, drinking, alcoholic, drink, binge</th>\n",
       "      <th>0</th>\n",
       "      <td>Know Your Alcohol Limit: Don’t Be a Party Pooper!</td>\n",
       "      <td>alcohol, drinking, alcoholic, drink, binge</td>\n",
       "    </tr>\n",
       "    <tr>\n",
       "      <th>1</th>\n",
       "      <td>Drinking Myths Busted!</td>\n",
       "      <td>alcohol, drinking, alcoholic, drink, binge</td>\n",
       "    </tr>\n",
       "    <tr>\n",
       "      <th>2</th>\n",
       "      <td>Responsible Drinking: Know Your Alcohol Limit</td>\n",
       "      <td>alcohol, drinking, alcoholic, drink, binge</td>\n",
       "    </tr>\n",
       "    <tr>\n",
       "      <th>3</th>\n",
       "      <td>Staying Sober and Within the Alcohol Limit</td>\n",
       "      <td>alcohol, drinking, alcoholic, drink, binge</td>\n",
       "    </tr>\n",
       "    <tr>\n",
       "      <th>4</th>\n",
       "      <td>Ditch Both that Cigarette and Drink!</td>\n",
       "      <td>alcohol, drinking, alcoholic, drink, binge</td>\n",
       "    </tr>\n",
       "    <tr>\n",
       "      <th>5</th>\n",
       "      <td>Alcohol — More than Meets the Eye</td>\n",
       "      <td>alcohol, drinking, alcoholic, drink, binge</td>\n",
       "    </tr>\n",
       "    <tr>\n",
       "      <th>6</th>\n",
       "      <td>Life is Better When You're Sober</td>\n",
       "      <td>alcohol, drinking, alcoholic, drink, binge</td>\n",
       "    </tr>\n",
       "    <tr>\n",
       "      <th>7</th>\n",
       "      <td>Drinking (or not) to a Healthy Chinese New Year</td>\n",
       "      <td>alcohol, drinking, alcoholic, drink, binge</td>\n",
       "    </tr>\n",
       "    <tr>\n",
       "      <th>8</th>\n",
       "      <td>Why is Binge Drinking Bad for You?</td>\n",
       "      <td>alcohol, drinking, alcoholic, drink, binge</td>\n",
       "    </tr>\n",
       "    <tr>\n",
       "      <th>9</th>\n",
       "      <td>Alcohol and Health—Set Your Drinking Limits</td>\n",
       "      <td>alcohol, drinking, alcoholic, drink, binge</td>\n",
       "    </tr>\n",
       "  </tbody>\n",
       "</table>\n",
       "</div>"
      ],
      "text/plain": [
       "                                                                                  article_title  \\\n",
       "cluster_keywords                                                                                  \n",
       "alcohol, drinking, alcoholic, drink, binge 0  Know Your Alcohol Limit: Don’t Be a Party Pooper!   \n",
       "                                           1                             Drinking Myths Busted!   \n",
       "                                           2      Responsible Drinking: Know Your Alcohol Limit   \n",
       "                                           3         Staying Sober and Within the Alcohol Limit   \n",
       "                                           4               Ditch Both that Cigarette and Drink!   \n",
       "                                           5                  Alcohol — More than Meets the Eye   \n",
       "                                           6                   Life is Better When You're Sober   \n",
       "                                           7    Drinking (or not) to a Healthy Chinese New Year   \n",
       "                                           8                 Why is Binge Drinking Bad for You?   \n",
       "                                           9        Alcohol and Health—Set Your Drinking Limits   \n",
       "\n",
       "                                                                        cluster_keywords  \n",
       "cluster_keywords                                                                          \n",
       "alcohol, drinking, alcoholic, drink, binge 0  alcohol, drinking, alcoholic, drink, binge  \n",
       "                                           1  alcohol, drinking, alcoholic, drink, binge  \n",
       "                                           2  alcohol, drinking, alcoholic, drink, binge  \n",
       "                                           3  alcohol, drinking, alcoholic, drink, binge  \n",
       "                                           4  alcohol, drinking, alcoholic, drink, binge  \n",
       "                                           5  alcohol, drinking, alcoholic, drink, binge  \n",
       "                                           6  alcohol, drinking, alcoholic, drink, binge  \n",
       "                                           7  alcohol, drinking, alcoholic, drink, binge  \n",
       "                                           8  alcohol, drinking, alcoholic, drink, binge  \n",
       "                                           9  alcohol, drinking, alcoholic, drink, binge  "
      ]
     },
     "execution_count": 28,
     "metadata": {},
     "output_type": "execute_result"
    }
   ],
   "source": [
    "# For unique articles in Weighted EMD cluster\n",
    "article_titles = []\n",
    "clusters = []\n",
    "\n",
    "list_1 = list(emb_set - sim_set)\n",
    "for item in list_1:\n",
    "    # print(item)\n",
    "    filtered_df = df_unique_sim_1[df_unique_sim_1[\"titles\"].apply(lambda x: item in x)]\n",
    "    if filtered_df.empty:\n",
    "        cluster = \"single node\"\n",
    "    else:\n",
    "        cluster = filtered_df[\"cluster_keywords\"].iloc[0]\n",
    "\n",
    "    article_titles.append(item)\n",
    "    clusters.append(cluster)\n",
    "\n",
    "data = {\"article_title\": article_titles, \"cluster_keywords\": clusters}\n",
    "# sorted_df  = df.sort_values(by=\"cluster_keywords\")\n",
    "\n",
    "df = pd.DataFrame(data)\n",
    "df[\"cluster_keywords\"] = df[\"cluster_keywords\"].apply(lambda x: \", \".join(map(str, x)))\n",
    "\n",
    "grouped_df = df.groupby(\"cluster_keywords\").apply(lambda x: x)\n",
    "grouped_df"
   ]
  },
  {
   "cell_type": "code",
   "execution_count": 29,
   "metadata": {},
   "outputs": [
    {
     "name": "stdout",
     "output_type": "stream",
     "text": [
      "Know Your Alcohol Limit: Don’t Be a Party Pooper!\n",
      "Drinking Myths Busted!\n",
      "Responsible Drinking: Know Your Alcohol Limit\n",
      "Staying Sober and Within the Alcohol Limit\n",
      "Ditch Both that Cigarette and Drink!\n",
      "Alcohol — More than Meets the Eye\n",
      "Life is Better When You're Sober\n",
      "Drinking (or not) to a Healthy Chinese New Year\n",
      "Why is Binge Drinking Bad for You?\n",
      "Alcohol and Health—Set Your Drinking Limits\n"
     ]
    }
   ],
   "source": [
    "filtered_df = grouped_df[\n",
    "    grouped_df[\"cluster_keywords\"] == \"alcohol, drinking, alcoholic, drink, binge\"\n",
    "]\n",
    "for index, row in filtered_df.iterrows():\n",
    "    print(row[\"article_title\"])"
   ]
  },
  {
   "cell_type": "markdown",
   "metadata": {},
   "source": [
    "## Evaluate single nodes"
   ]
  },
  {
   "cell_type": "code",
   "execution_count": 16,
   "metadata": {},
   "outputs": [
    {
     "data": {
      "text/plain": [
       "'C:\\\\Users\\\\Joycelyn\\\\Documents\\\\Synapxe\\\\07 GenAI for healthhub\\\\Github backup\\\\cluster experiments\\\\weighted emb vs sim (658)\\\\nomic_weighted_emb (0.7 body, 0.3 title)'"
      ]
     },
     "execution_count": 16,
     "metadata": {},
     "output_type": "execute_result"
    }
   ],
   "source": [
    "emb_path"
   ]
  },
  {
   "cell_type": "code",
   "execution_count": 17,
   "metadata": {},
   "outputs": [
    {
     "data": {
      "text/html": [
       "<div>\n",
       "<style scoped>\n",
       "    .dataframe tbody tr th:only-of-type {\n",
       "        vertical-align: middle;\n",
       "    }\n",
       "\n",
       "    .dataframe tbody tr th {\n",
       "        vertical-align: top;\n",
       "    }\n",
       "\n",
       "    .dataframe thead th {\n",
       "        text-align: right;\n",
       "    }\n",
       "</style>\n",
       "<table border=\"1\" class=\"dataframe\">\n",
       "  <thead>\n",
       "    <tr style=\"text-align: right;\">\n",
       "      <th></th>\n",
       "      <th>node_title</th>\n",
       "      <th>node_ground_truth</th>\n",
       "      <th>node_community</th>\n",
       "      <th>node_meta_desc</th>\n",
       "    </tr>\n",
       "  </thead>\n",
       "  <tbody>\n",
       "    <tr>\n",
       "      <th>0</th>\n",
       "      <td>Molar Incisor Hypomineralisation (MIH)</td>\n",
       "      <td>NaN</td>\n",
       "      <td>3</td>\n",
       "      <td>Your Guide to Understanding Molar Incisor Hypo...</td>\n",
       "    </tr>\n",
       "    <tr>\n",
       "      <th>1</th>\n",
       "      <td>Asthma (Common Childhood Illnesses)</td>\n",
       "      <td>NaN</td>\n",
       "      <td>4</td>\n",
       "      <td>Asthma affects about one in five children in S...</td>\n",
       "    </tr>\n",
       "    <tr>\n",
       "      <th>2</th>\n",
       "      <td>Understanding Leong's Premolars (LP)</td>\n",
       "      <td>NaN</td>\n",
       "      <td>5</td>\n",
       "      <td>Your Guide to Understanding Leong's Premolars ...</td>\n",
       "    </tr>\n",
       "    <tr>\n",
       "      <th>3</th>\n",
       "      <td>Chlamydia</td>\n",
       "      <td>NaN</td>\n",
       "      <td>8</td>\n",
       "      <td>Known as a silent disease, early symptoms of c...</td>\n",
       "    </tr>\n",
       "    <tr>\n",
       "      <th>4</th>\n",
       "      <td>Gonorrhoea: Symptoms, Treatment and Prevention</td>\n",
       "      <td>NaN</td>\n",
       "      <td>9</td>\n",
       "      <td>What is gonorrhoea and how is it transmitted? ...</td>\n",
       "    </tr>\n",
       "    <tr>\n",
       "      <th>...</th>\n",
       "      <td>...</td>\n",
       "      <td>...</td>\n",
       "      <td>...</td>\n",
       "      <td>...</td>\n",
       "    </tr>\n",
       "    <tr>\n",
       "      <th>180</th>\n",
       "      <td>Baby Friendly Hospital Initiative</td>\n",
       "      <td>NaN</td>\n",
       "      <td>638</td>\n",
       "      <td>The Baby Friendly Hospital Initiative (BFHI) s...</td>\n",
       "    </tr>\n",
       "    <tr>\n",
       "      <th>181</th>\n",
       "      <td>Hand, Foot, and Mouth Disease</td>\n",
       "      <td>NaN</td>\n",
       "      <td>642</td>\n",
       "      <td>Hand, Foot, and Mouth Disease is present all y...</td>\n",
       "    </tr>\n",
       "    <tr>\n",
       "      <th>182</th>\n",
       "      <td>Breast cancer</td>\n",
       "      <td>NaN</td>\n",
       "      <td>646</td>\n",
       "      <td>Breast cancer is the most common cancer among ...</td>\n",
       "    </tr>\n",
       "    <tr>\n",
       "      <th>183</th>\n",
       "      <td>Colorectal Cancer</td>\n",
       "      <td>NaN</td>\n",
       "      <td>652</td>\n",
       "      <td>&lt;span data-contrast=\"auto\" class=\"TextRun SCXW...</td>\n",
       "    </tr>\n",
       "    <tr>\n",
       "      <th>184</th>\n",
       "      <td>Measles: Symptoms, Treatment, and Prevention</td>\n",
       "      <td>NaN</td>\n",
       "      <td>657</td>\n",
       "      <td>Is that measles or an innocent rash? Learn mor...</td>\n",
       "    </tr>\n",
       "  </tbody>\n",
       "</table>\n",
       "<p>185 rows × 4 columns</p>\n",
       "</div>"
      ],
      "text/plain": [
       "                                         node_title  node_ground_truth  \\\n",
       "0            Molar Incisor Hypomineralisation (MIH)                NaN   \n",
       "1               Asthma (Common Childhood Illnesses)                NaN   \n",
       "2              Understanding Leong's Premolars (LP)                NaN   \n",
       "3                                         Chlamydia                NaN   \n",
       "4    Gonorrhoea: Symptoms, Treatment and Prevention                NaN   \n",
       "..                                              ...                ...   \n",
       "180               Baby Friendly Hospital Initiative                NaN   \n",
       "181                   Hand, Foot, and Mouth Disease                NaN   \n",
       "182                                   Breast cancer                NaN   \n",
       "183                               Colorectal Cancer                NaN   \n",
       "184    Measles: Symptoms, Treatment, and Prevention                NaN   \n",
       "\n",
       "     node_community                                     node_meta_desc  \n",
       "0                 3  Your Guide to Understanding Molar Incisor Hypo...  \n",
       "1                 4  Asthma affects about one in five children in S...  \n",
       "2                 5  Your Guide to Understanding Leong's Premolars ...  \n",
       "3                 8  Known as a silent disease, early symptoms of c...  \n",
       "4                 9  What is gonorrhoea and how is it transmitted? ...  \n",
       "..              ...                                                ...  \n",
       "180             638  The Baby Friendly Hospital Initiative (BFHI) s...  \n",
       "181             642  Hand, Foot, and Mouth Disease is present all y...  \n",
       "182             646  Breast cancer is the most common cancer among ...  \n",
       "183             652  <span data-contrast=\"auto\" class=\"TextRun SCXW...  \n",
       "184             657  Is that measles or an innocent rash? Learn mor...  \n",
       "\n",
       "[185 rows x 4 columns]"
      ]
     },
     "execution_count": 17,
     "metadata": {},
     "output_type": "execute_result"
    }
   ],
   "source": [
    "emb_unclustered = pd.read_csv(os.path.join(emb_path, \"neo_4j_unclustered_data.csv\"))\n",
    "sim_unclustered = pd.read_csv(os.path.join(sim_path, \"neo_4j_unclustered_data.csv\"))\n",
    "\n",
    "emb_unclustered"
   ]
  },
  {
   "cell_type": "code",
   "execution_count": 18,
   "metadata": {},
   "outputs": [],
   "source": [
    "emb_unclustered_list = list(emb_unclustered[\"node_title\"])\n",
    "sim_unclustered_list = list(sim_unclustered[\"node_title\"])"
   ]
  },
  {
   "cell_type": "code",
   "execution_count": 19,
   "metadata": {},
   "outputs": [
    {
     "data": {
      "text/plain": [
       "(153, 32, 31)"
      ]
     },
     "execution_count": 19,
     "metadata": {},
     "output_type": "execute_result"
    }
   ],
   "source": [
    "overlap = set(emb_unclustered_list).intersection(set(sim_unclustered_list))\n",
    "emb_not_overlap = list(set(emb_unclustered_list) - set(sim_unclustered_list))\n",
    "sim_not_overlap = list(set(sim_unclustered_list) - set(emb_unclustered_list))\n",
    "\n",
    "len(overlap), len(emb_not_overlap), len(sim_not_overlap)"
   ]
  },
  {
   "cell_type": "code",
   "execution_count": 20,
   "metadata": {},
   "outputs": [
    {
     "name": "stdout",
     "output_type": "stream",
     "text": [
      "total single nodes (EMB): 185     \n",
      "total single nodes (SIM): 184     \n",
      "number of overlaps: 153\n"
     ]
    }
   ],
   "source": [
    "print(\n",
    "    f\"total single nodes (EMB): {len(emb_unclustered_list)} \\\n",
    "    \\ntotal single nodes (SIM): {len(sim_unclustered_list)} \\\n",
    "    \\nnumber of overlaps: {len(overlap)}\"\n",
    ")"
   ]
  },
  {
   "cell_type": "code",
   "execution_count": 21,
   "metadata": {},
   "outputs": [
    {
     "name": "stdout",
     "output_type": "stream",
     "text": [
      "Why Is Sleep Important for Kids?\n",
      "How to Get in Shape Before Your Beach Holiday\n",
      "6 Blood Tests Every Mum-to-Be Undergoes\n",
      "I’ve Been Giving My Child Dessert as a Reward. How Do I Undo It?\n",
      "Tests for me and my baby\n",
      "Gearing up for birth\n",
      "Diabetes and High Blood Cholesterol\n",
      "Daily Habits To Help Fight The Belly Bulge\n",
      "Gonorrhoea: Symptoms, Treatment and Prevention\n",
      "The Post-Partum Weight Loss Journey\n",
      "Losing Weight When You Have Diabetes\n",
      "How to Get Your Parents to Get Moving and Adopt an Active Lifestyle\n",
      "Dance Your Way To Health\n",
      "5 Ways to Get Your Dad Bod Back into Shape after ORD\n",
      "Breast cancer\n",
      "Exercise at Home: Burn Calories While Watching TV!\n",
      "A Caregiver’s Guide: Planning Healthy Meals and Well-Balanced Diets\n",
      "Older Adults Need More Protein\n",
      "Q&A: Is My Baby's Spit-Up Normal?\n",
      "Asthma (Common Childhood Illnesses)\n",
      "10 Nutrition and Healthy Eating Myths\n",
      "Say No to Drugs, Here and Abroad\n",
      "Say No To Drugs\n",
      "Why Protein Is More Important Than You May Think, And 5 Common Protein Myths\n",
      "How to Care for Your Teeth When You Have Braces\n",
      "My Child Is Short for His Age. What Should I Do?\n",
      "7 Great Ways to Bond With Your Kids at Home\n",
      "Q&A: Can I Let My 1-year-old Play on the Tablet?\n",
      "Feeding your baby: Breastfeeding\n",
      "Diabetes and Heart Disease\n",
      "Being Hospitalised When You have Diabetes\n",
      "Myths and Misconceptions about Depression\n"
     ]
    }
   ],
   "source": [
    "for item in emb_not_overlap:\n",
    "    print(item)"
   ]
  },
  {
   "cell_type": "markdown",
   "metadata": {},
   "source": [
    "## Check category tags"
   ]
  },
  {
   "cell_type": "code",
   "execution_count": 35,
   "metadata": {},
   "outputs": [],
   "source": [
    "from collections import Counter"
   ]
  },
  {
   "cell_type": "code",
   "execution_count": 36,
   "metadata": {},
   "outputs": [
    {
     "name": "stderr",
     "output_type": "stream",
     "text": [
      "C:\\Users\\Joycelyn\\AppData\\Local\\Temp\\ipykernel_21884\\2617507740.py:10: SettingWithCopyWarning: \n",
      "A value is trying to be set on a copy of a slice from a DataFrame.\n",
      "Try using .loc[row_indexer,col_indexer] = value instead\n",
      "\n",
      "See the caveats in the documentation: https://pandas.pydata.org/pandas-docs/stable/user_guide/indexing.html#returning-a-view-versus-a-copy\n",
      "  article_cat_name['article_category_names'] = article_cat_name['article_category_names'].apply(lambda x: x.strip(',') if str(x)!='None' else x)\n",
      "C:\\Users\\Joycelyn\\AppData\\Local\\Temp\\ipykernel_21884\\2617507740.py:11: SettingWithCopyWarning: \n",
      "A value is trying to be set on a copy of a slice from a DataFrame.\n",
      "Try using .loc[row_indexer,col_indexer] = value instead\n",
      "\n",
      "See the caveats in the documentation: https://pandas.pydata.org/pandas-docs/stable/user_guide/indexing.html#returning-a-view-versus-a-copy\n",
      "  article_cat_name['article_category_names'] = article_cat_name['article_category_names'].apply(lambda x: x.split(',') if str(x)!='None' else [None])\n"
     ]
    },
    {
     "data": {
      "text/html": [
       "<div>\n",
       "<style scoped>\n",
       "    .dataframe tbody tr th:only-of-type {\n",
       "        vertical-align: middle;\n",
       "    }\n",
       "\n",
       "    .dataframe tbody tr th {\n",
       "        vertical-align: top;\n",
       "    }\n",
       "\n",
       "    .dataframe thead th {\n",
       "        text-align: right;\n",
       "    }\n",
       "</style>\n",
       "<table border=\"1\" class=\"dataframe\">\n",
       "  <thead>\n",
       "    <tr style=\"text-align: right;\">\n",
       "      <th></th>\n",
       "      <th>cluster</th>\n",
       "      <th>cluster_size</th>\n",
       "      <th>category_value_counts</th>\n",
       "      <th>none_count</th>\n",
       "      <th>article_category_names unique</th>\n",
       "      <th>No. of article_category_names unique</th>\n",
       "    </tr>\n",
       "  </thead>\n",
       "  <tbody>\n",
       "    <tr>\n",
       "      <th>64</th>\n",
       "      <td>620</td>\n",
       "      <td>130</td>\n",
       "      <td>{'Exercise and Fitness': 102, 'Food and Nutrit...</td>\n",
       "      <td>0</td>\n",
       "      <td>[Body Care, Conditions and Illnesses, Exercise...</td>\n",
       "      <td>6</td>\n",
       "    </tr>\n",
       "    <tr>\n",
       "      <th>8</th>\n",
       "      <td>123</td>\n",
       "      <td>106</td>\n",
       "      <td>{'Pregnancy and Infant Health': 24, 'Food and ...</td>\n",
       "      <td>26</td>\n",
       "      <td>[Body Care, Child &amp; Teen Health, Child and Tee...</td>\n",
       "      <td>8</td>\n",
       "    </tr>\n",
       "    <tr>\n",
       "      <th>53</th>\n",
       "      <td>532</td>\n",
       "      <td>82</td>\n",
       "      <td>{'Body Care': 46, 'Mind and Balance': 10, 'Int...</td>\n",
       "      <td>2</td>\n",
       "      <td>[Body Care, Conditions and Illnesses, Food &amp; N...</td>\n",
       "      <td>7</td>\n",
       "    </tr>\n",
       "    <tr>\n",
       "      <th>45</th>\n",
       "      <td>431</td>\n",
       "      <td>68</td>\n",
       "      <td>{'Food and Nutrition': 50, 'Child and Teen Hea...</td>\n",
       "      <td>4</td>\n",
       "      <td>[Body Care, Child and Teen Health, Exercise an...</td>\n",
       "      <td>5</td>\n",
       "    </tr>\n",
       "    <tr>\n",
       "      <th>60</th>\n",
       "      <td>595</td>\n",
       "      <td>62</td>\n",
       "      <td>{'Food and Nutrition': 52, 'Conditions and Ill...</td>\n",
       "      <td>0</td>\n",
       "      <td>[Child and Teen Health, Conditions and Illness...</td>\n",
       "      <td>4</td>\n",
       "    </tr>\n",
       "  </tbody>\n",
       "</table>\n",
       "</div>"
      ],
      "text/plain": [
       "    cluster  cluster_size                              category_value_counts  \\\n",
       "64      620           130  {'Exercise and Fitness': 102, 'Food and Nutrit...   \n",
       "8       123           106  {'Pregnancy and Infant Health': 24, 'Food and ...   \n",
       "53      532            82  {'Body Care': 46, 'Mind and Balance': 10, 'Int...   \n",
       "45      431            68  {'Food and Nutrition': 50, 'Child and Teen Hea...   \n",
       "60      595            62  {'Food and Nutrition': 52, 'Conditions and Ill...   \n",
       "\n",
       "    none_count                      article_category_names unique  \\\n",
       "64           0  [Body Care, Conditions and Illnesses, Exercise...   \n",
       "8           26  [Body Care, Child & Teen Health, Child and Tee...   \n",
       "53           2  [Body Care, Conditions and Illnesses, Food & N...   \n",
       "45           4  [Body Care, Child and Teen Health, Exercise an...   \n",
       "60           0  [Child and Teen Health, Conditions and Illness...   \n",
       "\n",
       "    No. of article_category_names unique  \n",
       "64                                     6  \n",
       "8                                      8  \n",
       "53                                     7  \n",
       "45                                     5  \n",
       "60                                     4  "
      ]
     },
     "execution_count": 36,
     "metadata": {},
     "output_type": "execute_result"
    }
   ],
   "source": [
    "pred_cluster = pd.read_csv(os.path.join(emb_path, \"predicted_cluster.csv\"))\n",
    "filtered_data = pd.read_parquet(\n",
    "    \"../data/03_primary/filtered_data_with_keywords.parquet\"\n",
    ")\n",
    "\n",
    "# Remove cluster size = 1\n",
    "cluster_counts = pred_cluster[\"cluster\"].value_counts()\n",
    "clusters_to_keep = cluster_counts[cluster_counts > 1].index\n",
    "pred_cluster_keep = pred_cluster[pred_cluster[\"cluster\"].isin(clusters_to_keep)]\n",
    "\n",
    "article_cat_name = filtered_data[[\"id\", \"article_category_names\"]]\n",
    "article_cat_name[\"article_category_names\"] = article_cat_name[\n",
    "    \"article_category_names\"\n",
    "].apply(lambda x: x.strip(\",\") if str(x) != \"None\" else x)\n",
    "article_cat_name[\"article_category_names\"] = article_cat_name[\n",
    "    \"article_category_names\"\n",
    "].apply(lambda x: x.split(\",\") if str(x) != \"None\" else [None])\n",
    "\n",
    "pred_cluster_article_cat = pd.merge(\n",
    "    pred_cluster_keep, article_cat_name, how=\"left\", on=[\"id\"]\n",
    ")\n",
    "groupby_article_cat = (\n",
    "    pred_cluster_article_cat.groupby(\"cluster\")\n",
    "    .agg({\"article_category_names\": lambda x: sum(x, []), \"id\": \"count\"})\n",
    "    .reset_index()\n",
    ")\n",
    "\n",
    "groupby_article_cat.columns = [\"cluster\", \"article_category_names\", \"cluster_size\"]\n",
    "\n",
    "\n",
    "def process_category_list(category_list):\n",
    "    count_dict = dict(Counter(category_list))\n",
    "    none_count = count_dict.pop(None, 0)\n",
    "    sorted_dict = dict(\n",
    "        sorted(count_dict.items(), key=lambda item: item[1], reverse=True)\n",
    "    )\n",
    "    return sorted_dict, none_count\n",
    "\n",
    "\n",
    "groupby_article_cat[[\"category_value_counts\", \"none_count\"]] = groupby_article_cat[\n",
    "    \"article_category_names\"\n",
    "].apply(lambda x: pd.Series(process_category_list(x)))\n",
    "groupby_article_cat[\"article_category_names unique\"] = groupby_article_cat[\n",
    "    \"category_value_counts\"\n",
    "].apply(lambda x: sorted(x.keys()))\n",
    "groupby_article_cat[\"No. of article_category_names unique\"] = groupby_article_cat[\n",
    "    \"article_category_names unique\"\n",
    "].apply(len)\n",
    "groupby_article_cat = groupby_article_cat.drop(\"article_category_names\", axis=1)\n",
    "\n",
    "groupby_article_cat.sort_values(\"cluster_size\", ascending=False).head()"
   ]
  },
  {
   "cell_type": "code",
   "execution_count": 37,
   "metadata": {},
   "outputs": [],
   "source": [
    "save_path = os.path.join(emb_path, \"groupby_article_cat.csv\")\n",
    "groupby_article_cat.to_csv(save_path)"
   ]
  },
  {
   "cell_type": "markdown",
   "metadata": {},
   "source": [
    "## End"
   ]
  }
 ],
 "metadata": {
  "kernelspec": {
   "display_name": "genai-hh",
   "language": "python",
   "name": "python3"
  },
  "language_info": {
   "codemirror_mode": {
    "name": "ipython",
    "version": 3
   },
   "file_extension": ".py",
   "mimetype": "text/x-python",
   "name": "python",
   "nbconvert_exporter": "python",
   "pygments_lexer": "ipython3",
   "version": "3.12.3"
  }
 },
 "nbformat": 4,
 "nbformat_minor": 2
}
