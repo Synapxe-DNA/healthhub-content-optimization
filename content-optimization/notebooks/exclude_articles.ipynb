{
 "cells": [
  {
   "cell_type": "code",
   "execution_count": 1,
   "metadata": {},
   "outputs": [],
   "source": [
    "import pandas as pd\n",
    "import os"
   ]
  },
  {
   "cell_type": "code",
   "execution_count": 2,
   "metadata": {},
   "outputs": [
    {
     "data": {
      "text/html": [
       "<pre style=\"white-space:pre;overflow-x:auto;line-height:normal;font-family:Menlo,'DejaVu Sans Mono',consolas,'Courier New',monospace\"><span style=\"color: #7fbfbf; text-decoration-color: #7fbfbf\">[08/23/24 15:16:11] </span><span style=\"color: #000080; text-decoration-color: #000080\">INFO    </span> Using                                                                  <a href=\"file://c:\\Users\\Sixia\\healthhub-content-optimization\\venv\\lib\\site-packages\\kedro\\framework\\project\\__init__.py\" target=\"_blank\"><span style=\"color: #7f7f7f; text-decoration-color: #7f7f7f\">__init__.py</span></a><span style=\"color: #7f7f7f; text-decoration-color: #7f7f7f\">:</span><a href=\"file://c:\\Users\\Sixia\\healthhub-content-optimization\\venv\\lib\\site-packages\\kedro\\framework\\project\\__init__.py#246\" target=\"_blank\"><span style=\"color: #7f7f7f; text-decoration-color: #7f7f7f\">246</span></a>\n",
       "<span style=\"color: #7fbfbf; text-decoration-color: #7fbfbf\">                    </span>         <span style=\"color: #008000; text-decoration-color: #008000\">'c:\\Users\\Sixia\\healthhub-content-optimization\\venv\\lib\\site-packages\\</span> <span style=\"color: #7f7f7f; text-decoration-color: #7f7f7f\">               </span>\n",
       "<span style=\"color: #7fbfbf; text-decoration-color: #7fbfbf\">                    </span>         <span style=\"color: #008000; text-decoration-color: #008000\">kedro\\framework\\project\\rich_logging.yml'</span> as logging configuration.    <span style=\"color: #7f7f7f; text-decoration-color: #7f7f7f\">               </span>\n",
       "</pre>\n"
      ],
      "text/plain": [
       "\u001b[2;36m[08/23/24 15:16:11]\u001b[0m\u001b[2;36m \u001b[0m\u001b[34mINFO    \u001b[0m Using                                                                  \u001b]8;id=973545;file://c:\\Users\\Sixia\\healthhub-content-optimization\\venv\\lib\\site-packages\\kedro\\framework\\project\\__init__.py\u001b\\\u001b[2m__init__.py\u001b[0m\u001b]8;;\u001b\\\u001b[2m:\u001b[0m\u001b]8;id=285267;file://c:\\Users\\Sixia\\healthhub-content-optimization\\venv\\lib\\site-packages\\kedro\\framework\\project\\__init__.py#246\u001b\\\u001b[2m246\u001b[0m\u001b]8;;\u001b\\\n",
       "\u001b[2;36m                    \u001b[0m         \u001b[32m'c:\\Users\\Sixia\\healthhub-content-optimization\\venv\\lib\\site-packages\\\u001b[0m \u001b[2m               \u001b[0m\n",
       "\u001b[2;36m                    \u001b[0m         \u001b[32mkedro\\framework\\project\\rich_logging.yml'\u001b[0m as logging configuration.    \u001b[2m               \u001b[0m\n"
      ]
     },
     "metadata": {},
     "output_type": "display_data"
    },
    {
     "data": {
      "text/html": [
       "<pre style=\"white-space:pre;overflow-x:auto;line-height:normal;font-family:Menlo,'DejaVu Sans Mono',consolas,'Courier New',monospace\"><span style=\"color: #7fbfbf; text-decoration-color: #7fbfbf\">[08/23/24 15:16:12] </span><span style=\"color: #000080; text-decoration-color: #000080\">INFO    </span> Registered line magic <span style=\"color: #008000; text-decoration-color: #008000\">'%reload_kedro'</span>                                   <a href=\"file://c:\\Users\\Sixia\\healthhub-content-optimization\\venv\\lib\\site-packages\\kedro\\ipython\\__init__.py\" target=\"_blank\"><span style=\"color: #7f7f7f; text-decoration-color: #7f7f7f\">__init__.py</span></a><span style=\"color: #7f7f7f; text-decoration-color: #7f7f7f\">:</span><a href=\"file://c:\\Users\\Sixia\\healthhub-content-optimization\\venv\\lib\\site-packages\\kedro\\ipython\\__init__.py#58\" target=\"_blank\"><span style=\"color: #7f7f7f; text-decoration-color: #7f7f7f\">58</span></a>\n",
       "</pre>\n"
      ],
      "text/plain": [
       "\u001b[2;36m[08/23/24 15:16:12]\u001b[0m\u001b[2;36m \u001b[0m\u001b[34mINFO    \u001b[0m Registered line magic \u001b[32m'%reload_kedro'\u001b[0m                                   \u001b]8;id=383926;file://c:\\Users\\Sixia\\healthhub-content-optimization\\venv\\lib\\site-packages\\kedro\\ipython\\__init__.py\u001b\\\u001b[2m__init__.py\u001b[0m\u001b]8;;\u001b\\\u001b[2m:\u001b[0m\u001b]8;id=49394;file://c:\\Users\\Sixia\\healthhub-content-optimization\\venv\\lib\\site-packages\\kedro\\ipython\\__init__.py#58\u001b\\\u001b[2m58\u001b[0m\u001b]8;;\u001b\\\n"
      ]
     },
     "metadata": {},
     "output_type": "display_data"
    },
    {
     "data": {
      "text/html": [
       "<pre style=\"white-space:pre;overflow-x:auto;line-height:normal;font-family:Menlo,'DejaVu Sans Mono',consolas,'Courier New',monospace\"><span style=\"color: #7fbfbf; text-decoration-color: #7fbfbf\">                    </span><span style=\"color: #000080; text-decoration-color: #000080\">INFO    </span> Registered line magic <span style=\"color: #008000; text-decoration-color: #008000\">'%load_node'</span>                                      <a href=\"file://c:\\Users\\Sixia\\healthhub-content-optimization\\venv\\lib\\site-packages\\kedro\\ipython\\__init__.py\" target=\"_blank\"><span style=\"color: #7f7f7f; text-decoration-color: #7f7f7f\">__init__.py</span></a><span style=\"color: #7f7f7f; text-decoration-color: #7f7f7f\">:</span><a href=\"file://c:\\Users\\Sixia\\healthhub-content-optimization\\venv\\lib\\site-packages\\kedro\\ipython\\__init__.py#60\" target=\"_blank\"><span style=\"color: #7f7f7f; text-decoration-color: #7f7f7f\">60</span></a>\n",
       "</pre>\n"
      ],
      "text/plain": [
       "\u001b[2;36m                   \u001b[0m\u001b[2;36m \u001b[0m\u001b[34mINFO    \u001b[0m Registered line magic \u001b[32m'%load_node'\u001b[0m                                      \u001b]8;id=71251;file://c:\\Users\\Sixia\\healthhub-content-optimization\\venv\\lib\\site-packages\\kedro\\ipython\\__init__.py\u001b\\\u001b[2m__init__.py\u001b[0m\u001b]8;;\u001b\\\u001b[2m:\u001b[0m\u001b]8;id=762420;file://c:\\Users\\Sixia\\healthhub-content-optimization\\venv\\lib\\site-packages\\kedro\\ipython\\__init__.py#60\u001b\\\u001b[2m60\u001b[0m\u001b]8;;\u001b\\\n"
      ]
     },
     "metadata": {},
     "output_type": "display_data"
    },
    {
     "data": {
      "text/html": [
       "<pre style=\"white-space:pre;overflow-x:auto;line-height:normal;font-family:Menlo,'DejaVu Sans Mono',consolas,'Courier New',monospace\"><span style=\"color: #7fbfbf; text-decoration-color: #7fbfbf\">                    </span><span style=\"color: #000080; text-decoration-color: #000080\">INFO    </span> Resolved project path as:                                              <a href=\"file://c:\\Users\\Sixia\\healthhub-content-optimization\\venv\\lib\\site-packages\\kedro\\ipython\\__init__.py\" target=\"_blank\"><span style=\"color: #7f7f7f; text-decoration-color: #7f7f7f\">__init__.py</span></a><span style=\"color: #7f7f7f; text-decoration-color: #7f7f7f\">:</span><a href=\"file://c:\\Users\\Sixia\\healthhub-content-optimization\\venv\\lib\\site-packages\\kedro\\ipython\\__init__.py#175\" target=\"_blank\"><span style=\"color: #7f7f7f; text-decoration-color: #7f7f7f\">175</span></a>\n",
       "<span style=\"color: #7fbfbf; text-decoration-color: #7fbfbf\">                    </span>         c:\\Users\\Sixia\\healthhub-content-optimization\\content-optimization.    <span style=\"color: #7f7f7f; text-decoration-color: #7f7f7f\">               </span>\n",
       "<span style=\"color: #7fbfbf; text-decoration-color: #7fbfbf\">                    </span>         To set a different path, run <span style=\"color: #008000; text-decoration-color: #008000\">'%reload_kedro &lt;project_root&gt;'</span>            <span style=\"color: #7f7f7f; text-decoration-color: #7f7f7f\">               </span>\n",
       "</pre>\n"
      ],
      "text/plain": [
       "\u001b[2;36m                   \u001b[0m\u001b[2;36m \u001b[0m\u001b[34mINFO    \u001b[0m Resolved project path as:                                              \u001b]8;id=230669;file://c:\\Users\\Sixia\\healthhub-content-optimization\\venv\\lib\\site-packages\\kedro\\ipython\\__init__.py\u001b\\\u001b[2m__init__.py\u001b[0m\u001b]8;;\u001b\\\u001b[2m:\u001b[0m\u001b]8;id=142754;file://c:\\Users\\Sixia\\healthhub-content-optimization\\venv\\lib\\site-packages\\kedro\\ipython\\__init__.py#175\u001b\\\u001b[2m175\u001b[0m\u001b]8;;\u001b\\\n",
       "\u001b[2;36m                    \u001b[0m         c:\\Users\\Sixia\\healthhub-content-optimization\\content-optimization.    \u001b[2m               \u001b[0m\n",
       "\u001b[2;36m                    \u001b[0m         To set a different path, run \u001b[32m'%reload_kedro \u001b[0m\u001b[32m<\u001b[0m\u001b[32mproject_root\u001b[0m\u001b[32m>\u001b[0m\u001b[32m'\u001b[0m            \u001b[2m               \u001b[0m\n"
      ]
     },
     "metadata": {},
     "output_type": "display_data"
    },
    {
     "data": {
      "text/html": [
       "<pre style=\"white-space:pre;overflow-x:auto;line-height:normal;font-family:Menlo,'DejaVu Sans Mono',consolas,'Courier New',monospace\"><span style=\"color: #7fbfbf; text-decoration-color: #7fbfbf\">[08/23/24 15:16:15] </span><span style=\"color: #000080; text-decoration-color: #000080\">INFO    </span> Kedro project Content Optimization                                     <a href=\"file://c:\\Users\\Sixia\\healthhub-content-optimization\\venv\\lib\\site-packages\\kedro\\ipython\\__init__.py\" target=\"_blank\"><span style=\"color: #7f7f7f; text-decoration-color: #7f7f7f\">__init__.py</span></a><span style=\"color: #7f7f7f; text-decoration-color: #7f7f7f\">:</span><a href=\"file://c:\\Users\\Sixia\\healthhub-content-optimization\\venv\\lib\\site-packages\\kedro\\ipython\\__init__.py#141\" target=\"_blank\"><span style=\"color: #7f7f7f; text-decoration-color: #7f7f7f\">141</span></a>\n",
       "</pre>\n"
      ],
      "text/plain": [
       "\u001b[2;36m[08/23/24 15:16:15]\u001b[0m\u001b[2;36m \u001b[0m\u001b[34mINFO    \u001b[0m Kedro project Content Optimization                                     \u001b]8;id=540878;file://c:\\Users\\Sixia\\healthhub-content-optimization\\venv\\lib\\site-packages\\kedro\\ipython\\__init__.py\u001b\\\u001b[2m__init__.py\u001b[0m\u001b]8;;\u001b\\\u001b[2m:\u001b[0m\u001b]8;id=529960;file://c:\\Users\\Sixia\\healthhub-content-optimization\\venv\\lib\\site-packages\\kedro\\ipython\\__init__.py#141\u001b\\\u001b[2m141\u001b[0m\u001b]8;;\u001b\\\n"
      ]
     },
     "metadata": {},
     "output_type": "display_data"
    },
    {
     "data": {
      "text/html": [
       "<pre style=\"white-space:pre;overflow-x:auto;line-height:normal;font-family:Menlo,'DejaVu Sans Mono',consolas,'Courier New',monospace\"><span style=\"color: #7fbfbf; text-decoration-color: #7fbfbf\">                    </span><span style=\"color: #000080; text-decoration-color: #000080\">INFO    </span> Defined global variable <span style=\"color: #008000; text-decoration-color: #008000\">'context'</span>, <span style=\"color: #008000; text-decoration-color: #008000\">'session'</span>, <span style=\"color: #008000; text-decoration-color: #008000\">'catalog'</span> and            <a href=\"file://c:\\Users\\Sixia\\healthhub-content-optimization\\venv\\lib\\site-packages\\kedro\\ipython\\__init__.py\" target=\"_blank\"><span style=\"color: #7f7f7f; text-decoration-color: #7f7f7f\">__init__.py</span></a><span style=\"color: #7f7f7f; text-decoration-color: #7f7f7f\">:</span><a href=\"file://c:\\Users\\Sixia\\healthhub-content-optimization\\venv\\lib\\site-packages\\kedro\\ipython\\__init__.py#142\" target=\"_blank\"><span style=\"color: #7f7f7f; text-decoration-color: #7f7f7f\">142</span></a>\n",
       "<span style=\"color: #7fbfbf; text-decoration-color: #7fbfbf\">                    </span>         <span style=\"color: #008000; text-decoration-color: #008000\">'pipelines'</span>                                                            <span style=\"color: #7f7f7f; text-decoration-color: #7f7f7f\">               </span>\n",
       "</pre>\n"
      ],
      "text/plain": [
       "\u001b[2;36m                   \u001b[0m\u001b[2;36m \u001b[0m\u001b[34mINFO    \u001b[0m Defined global variable \u001b[32m'context'\u001b[0m, \u001b[32m'session'\u001b[0m, \u001b[32m'catalog'\u001b[0m and            \u001b]8;id=172282;file://c:\\Users\\Sixia\\healthhub-content-optimization\\venv\\lib\\site-packages\\kedro\\ipython\\__init__.py\u001b\\\u001b[2m__init__.py\u001b[0m\u001b]8;;\u001b\\\u001b[2m:\u001b[0m\u001b]8;id=172318;file://c:\\Users\\Sixia\\healthhub-content-optimization\\venv\\lib\\site-packages\\kedro\\ipython\\__init__.py#142\u001b\\\u001b[2m142\u001b[0m\u001b]8;;\u001b\\\n",
       "\u001b[2;36m                    \u001b[0m         \u001b[32m'pipelines'\u001b[0m                                                            \u001b[2m               \u001b[0m\n"
      ]
     },
     "metadata": {},
     "output_type": "display_data"
    },
    {
     "data": {
      "text/html": [
       "<pre style=\"white-space:pre;overflow-x:auto;line-height:normal;font-family:Menlo,'DejaVu Sans Mono',consolas,'Courier New',monospace\"><span style=\"color: #7fbfbf; text-decoration-color: #7fbfbf\">[08/23/24 15:16:20] </span><span style=\"color: #000080; text-decoration-color: #000080\">INFO    </span> Registered line magic <span style=\"color: #008000; text-decoration-color: #008000\">'run_viz'</span>                                        <a href=\"file://c:\\Users\\Sixia\\healthhub-content-optimization\\venv\\lib\\site-packages\\kedro\\ipython\\__init__.py\" target=\"_blank\"><span style=\"color: #7f7f7f; text-decoration-color: #7f7f7f\">__init__.py</span></a><span style=\"color: #7f7f7f; text-decoration-color: #7f7f7f\">:</span><a href=\"file://c:\\Users\\Sixia\\healthhub-content-optimization\\venv\\lib\\site-packages\\kedro\\ipython\\__init__.py#148\" target=\"_blank\"><span style=\"color: #7f7f7f; text-decoration-color: #7f7f7f\">148</span></a>\n",
       "</pre>\n"
      ],
      "text/plain": [
       "\u001b[2;36m[08/23/24 15:16:20]\u001b[0m\u001b[2;36m \u001b[0m\u001b[34mINFO    \u001b[0m Registered line magic \u001b[32m'run_viz'\u001b[0m                                        \u001b]8;id=750607;file://c:\\Users\\Sixia\\healthhub-content-optimization\\venv\\lib\\site-packages\\kedro\\ipython\\__init__.py\u001b\\\u001b[2m__init__.py\u001b[0m\u001b]8;;\u001b\\\u001b[2m:\u001b[0m\u001b]8;id=508297;file://c:\\Users\\Sixia\\healthhub-content-optimization\\venv\\lib\\site-packages\\kedro\\ipython\\__init__.py#148\u001b\\\u001b[2m148\u001b[0m\u001b]8;;\u001b\\\n"
      ]
     },
     "metadata": {},
     "output_type": "display_data"
    }
   ],
   "source": [
    "%load_ext kedro.ipython"
   ]
  },
  {
   "cell_type": "code",
   "execution_count": 3,
   "metadata": {},
   "outputs": [],
   "source": [
    "export_folder_path = r\"..\\data\\08_reporting\"\n",
    "input_folder_path = r\"..\\data\\01_raw\\annotated_contents\""
   ]
  },
  {
   "cell_type": "markdown",
   "metadata": {},
   "source": [
    "### Get IDs for optimisation\n",
    "- Taking into account HH user annotation in `Stage 1 user annotation for HPB_HHcomments_20Aug24.xlsx`\n",
    "- Remove all articles with the comment 'exclude-XXX' in `HH's team's comments` column"
   ]
  },
  {
   "cell_type": "code",
   "execution_count": 4,
   "metadata": {},
   "outputs": [
    {
     "data": {
      "text/html": [
       "<pre style=\"white-space:pre;overflow-x:auto;line-height:normal;font-family:Menlo,'DejaVu Sans Mono',consolas,'Courier New',monospace\"><span style=\"color: #7fbfbf; text-decoration-color: #7fbfbf\">[08/23/24 15:16:21] </span><span style=\"color: #800000; text-decoration-color: #800000\">WARNING </span> c:\\Users\\Sixia\\healthhub-content-optimization\\venv\\lib\\site-packages\\o <a href=\"file://C:\\Users\\Sixia\\AppData\\Local\\Programs\\Python\\Python310\\lib\\warnings.py\" target=\"_blank\"><span style=\"color: #7f7f7f; text-decoration-color: #7f7f7f\">warnings.py</span></a><span style=\"color: #7f7f7f; text-decoration-color: #7f7f7f\">:</span><a href=\"file://C:\\Users\\Sixia\\AppData\\Local\\Programs\\Python\\Python310\\lib\\warnings.py#109\" target=\"_blank\"><span style=\"color: #7f7f7f; text-decoration-color: #7f7f7f\">109</span></a>\n",
       "<span style=\"color: #7fbfbf; text-decoration-color: #7fbfbf\">                    </span>         penpyxl\\worksheet\\_reader.py:<span style=\"color: #008080; text-decoration-color: #008080; font-weight: bold\">329</span>: UserWarning: Data Validation         <span style=\"color: #7f7f7f; text-decoration-color: #7f7f7f\">               </span>\n",
       "<span style=\"color: #7fbfbf; text-decoration-color: #7fbfbf\">                    </span>         extension is not supported and will be removed                         <span style=\"color: #7f7f7f; text-decoration-color: #7f7f7f\">               </span>\n",
       "<span style=\"color: #7fbfbf; text-decoration-color: #7fbfbf\">                    </span>           <span style=\"color: #800080; text-decoration-color: #800080; font-weight: bold\">warn</span><span style=\"font-weight: bold\">(</span>msg<span style=\"font-weight: bold\">)</span>                                                            <span style=\"color: #7f7f7f; text-decoration-color: #7f7f7f\">               </span>\n",
       "<span style=\"color: #7fbfbf; text-decoration-color: #7fbfbf\">                    </span>                                                                                <span style=\"color: #7f7f7f; text-decoration-color: #7f7f7f\">               </span>\n",
       "</pre>\n"
      ],
      "text/plain": [
       "\u001b[2;36m[08/23/24 15:16:21]\u001b[0m\u001b[2;36m \u001b[0m\u001b[31mWARNING \u001b[0m c:\\Users\\Sixia\\healthhub-content-optimization\\venv\\lib\\site-packages\\o \u001b]8;id=968872;file://C:\\Users\\Sixia\\AppData\\Local\\Programs\\Python\\Python310\\lib\\warnings.py\u001b\\\u001b[2mwarnings.py\u001b[0m\u001b]8;;\u001b\\\u001b[2m:\u001b[0m\u001b]8;id=568666;file://C:\\Users\\Sixia\\AppData\\Local\\Programs\\Python\\Python310\\lib\\warnings.py#109\u001b\\\u001b[2m109\u001b[0m\u001b]8;;\u001b\\\n",
       "\u001b[2;36m                    \u001b[0m         penpyxl\\worksheet\\_reader.py:\u001b[1;36m329\u001b[0m: UserWarning: Data Validation         \u001b[2m               \u001b[0m\n",
       "\u001b[2;36m                    \u001b[0m         extension is not supported and will be removed                         \u001b[2m               \u001b[0m\n",
       "\u001b[2;36m                    \u001b[0m           \u001b[1;35mwarn\u001b[0m\u001b[1m(\u001b[0mmsg\u001b[1m)\u001b[0m                                                            \u001b[2m               \u001b[0m\n",
       "\u001b[2;36m                    \u001b[0m                                                                                \u001b[2m               \u001b[0m\n"
      ]
     },
     "metadata": {},
     "output_type": "display_data"
    },
    {
     "name": "stdout",
     "output_type": "stream",
     "text": [
      "\n",
      "Number of articles for optimisation:  244\n",
      "              content category  count\n",
      "0           cost-and-financing      1\n",
      "1      diseases-and-conditions     24\n",
      "2        live-healthy-articles    218\n",
      "3  medical-care-and-facilities      1\n"
     ]
    },
    {
     "data": {
      "text/html": [
       "<pre style=\"white-space:pre;overflow-x:auto;line-height:normal;font-family:Menlo,'DejaVu Sans Mono',consolas,'Courier New',monospace\"><span style=\"color: #800000; text-decoration-color: #800000\">╭─────────────────────────────── </span><span style=\"color: #800000; text-decoration-color: #800000; font-weight: bold\">Traceback </span><span style=\"color: #bf7f7f; text-decoration-color: #bf7f7f; font-weight: bold\">(most recent call last)</span><span style=\"color: #800000; text-decoration-color: #800000\"> ────────────────────────────────╮</span>\n",
       "<span style=\"color: #800000; text-decoration-color: #800000\">│</span> in <span style=\"color: #00ff00; text-decoration-color: #00ff00\">&lt;module&gt;</span>:<span style=\"color: #0000ff; text-decoration-color: #0000ff\">9</span>                                                                                    <span style=\"color: #800000; text-decoration-color: #800000\">│</span>\n",
       "<span style=\"color: #800000; text-decoration-color: #800000\">│</span>                                                                                                  <span style=\"color: #800000; text-decoration-color: #800000\">│</span>\n",
       "<span style=\"color: #800000; text-decoration-color: #800000\">│</span>   <span style=\"color: #7f7f7f; text-decoration-color: #7f7f7f\"> 6 </span>for_optimisation_value_counts = pd.DataFrame(for_optimisation[<span style=\"color: #808000; text-decoration-color: #808000\">'content category'</span>].value_    <span style=\"color: #800000; text-decoration-color: #800000\">│</span>\n",
       "<span style=\"color: #800000; text-decoration-color: #800000\">│</span>   <span style=\"color: #7f7f7f; text-decoration-color: #7f7f7f\"> 7 </span><span style=\"color: #00ffff; text-decoration-color: #00ffff\">print</span>(for_optimisation_value_counts) <span style=\"color: #7f7f7f; text-decoration-color: #7f7f7f\"># to update data_count.xlsx</span>                            <span style=\"color: #800000; text-decoration-color: #800000\">│</span>\n",
       "<span style=\"color: #800000; text-decoration-color: #800000\">│</span>   <span style=\"color: #7f7f7f; text-decoration-color: #7f7f7f\"> 8 </span>                                                                                            <span style=\"color: #800000; text-decoration-color: #800000\">│</span>\n",
       "<span style=\"color: #800000; text-decoration-color: #800000\">│</span> <span style=\"color: #800000; text-decoration-color: #800000\">❱ </span> 9 export_path = os.path.join(folder_path,<span style=\"color: #808000; text-decoration-color: #808000\">'ids_for_optimisation.csv'</span>)                          <span style=\"color: #800000; text-decoration-color: #800000\">│</span>\n",
       "<span style=\"color: #800000; text-decoration-color: #800000\">│</span>   <span style=\"color: #7f7f7f; text-decoration-color: #7f7f7f\">10 </span>for_optimisation_id.to_csv(export_path, index=<span style=\"color: #0000ff; text-decoration-color: #0000ff\">False</span>)                                        <span style=\"color: #800000; text-decoration-color: #800000\">│</span>\n",
       "<span style=\"color: #800000; text-decoration-color: #800000\">│</span>   <span style=\"color: #7f7f7f; text-decoration-color: #7f7f7f\">11 </span>                                                                                            <span style=\"color: #800000; text-decoration-color: #800000\">│</span>\n",
       "<span style=\"color: #800000; text-decoration-color: #800000\">╰──────────────────────────────────────────────────────────────────────────────────────────────────╯</span>\n",
       "<span style=\"color: #ff0000; text-decoration-color: #ff0000; font-weight: bold\">NameError: </span>name <span style=\"color: #008000; text-decoration-color: #008000\">'folder_path'</span> is not defined\n",
       "</pre>\n"
      ],
      "text/plain": [
       "\u001b[31m╭─\u001b[0m\u001b[31m──────────────────────────────\u001b[0m\u001b[31m \u001b[0m\u001b[1;31mTraceback \u001b[0m\u001b[1;2;31m(most recent call last)\u001b[0m\u001b[31m \u001b[0m\u001b[31m───────────────────────────────\u001b[0m\u001b[31m─╮\u001b[0m\n",
       "\u001b[31m│\u001b[0m in \u001b[92m<module>\u001b[0m:\u001b[94m9\u001b[0m                                                                                    \u001b[31m│\u001b[0m\n",
       "\u001b[31m│\u001b[0m                                                                                                  \u001b[31m│\u001b[0m\n",
       "\u001b[31m│\u001b[0m   \u001b[2m 6 \u001b[0mfor_optimisation_value_counts = pd.DataFrame(for_optimisation[\u001b[33m'\u001b[0m\u001b[33mcontent category\u001b[0m\u001b[33m'\u001b[0m].value_    \u001b[31m│\u001b[0m\n",
       "\u001b[31m│\u001b[0m   \u001b[2m 7 \u001b[0m\u001b[96mprint\u001b[0m(for_optimisation_value_counts) \u001b[2m# to update data_count.xlsx\u001b[0m                            \u001b[31m│\u001b[0m\n",
       "\u001b[31m│\u001b[0m   \u001b[2m 8 \u001b[0m                                                                                            \u001b[31m│\u001b[0m\n",
       "\u001b[31m│\u001b[0m \u001b[31m❱ \u001b[0m 9 export_path = os.path.join(folder_path,\u001b[33m'\u001b[0m\u001b[33mids_for_optimisation.csv\u001b[0m\u001b[33m'\u001b[0m)                          \u001b[31m│\u001b[0m\n",
       "\u001b[31m│\u001b[0m   \u001b[2m10 \u001b[0mfor_optimisation_id.to_csv(export_path, index=\u001b[94mFalse\u001b[0m)                                        \u001b[31m│\u001b[0m\n",
       "\u001b[31m│\u001b[0m   \u001b[2m11 \u001b[0m                                                                                            \u001b[31m│\u001b[0m\n",
       "\u001b[31m╰──────────────────────────────────────────────────────────────────────────────────────────────────╯\u001b[0m\n",
       "\u001b[1;91mNameError: \u001b[0mname \u001b[32m'folder_path'\u001b[0m is not defined\n"
      ]
     },
     "metadata": {},
     "output_type": "display_data"
    }
   ],
   "source": [
    "user_annotation = pd.read_excel(input_folder_path+'/Stage 1 user annotation for HPB_HHcomments_20Aug24.xlsx', sheet_name=3)\n",
    "for_optimisation = user_annotation[~user_annotation['HH\\'s team\\'s comments'].fillna('').str.contains('exclude')]\n",
    "\n",
    "for_optimisation_id = for_optimisation[['article_id']]\n",
    "print('\\nNumber of articles for optimisation: ', len(for_optimisation))\n",
    "for_optimisation_value_counts = for_optimisation['content category'].value_counts().reset_index().sort_values('content category')\n",
    "print(for_optimisation_value_counts) # to update data_count.xlsx\n",
    "\n",
    "export_path = os.path.join(export_folder_path,'ids_for_optimisation.csv')\n",
    "for_optimisation_id.to_csv(export_path, index=False)"
   ]
  },
  {
   "cell_type": "markdown",
   "metadata": {},
   "source": [
    "### Get updated blacklist\n",
    "\n",
    "1. Blacklist articles labelled as 'exclude' in `Stage 1 user annotation for HPB_HHcomments_20Aug24.xlsx`\n",
    "2. Blacklist 'Nasi Liwet with Brown Rice' article with 'recipe' as reason"
   ]
  },
  {
   "cell_type": "code",
   "execution_count": null,
   "metadata": {},
   "outputs": [
    {
     "data": {
      "text/html": [
       "<pre style=\"white-space:pre;overflow-x:auto;line-height:normal;font-family:Menlo,'DejaVu Sans Mono',consolas,'Courier New',monospace\"><span style=\"color: #7fbfbf; text-decoration-color: #7fbfbf\">                    </span><span style=\"color: #000080; text-decoration-color: #000080\">INFO    </span> Loading data from params:blacklist <span style=\"font-weight: bold\">(</span>MemoryDataset<span style=\"font-weight: bold\">)</span><span style=\"color: #808000; text-decoration-color: #808000\">...</span>              <a href=\"file://c:\\Users\\Sixia\\healthhub-content-optimization\\venv\\lib\\site-packages\\kedro\\io\\data_catalog.py\" target=\"_blank\"><span style=\"color: #7f7f7f; text-decoration-color: #7f7f7f\">data_catalog.py</span></a><span style=\"color: #7f7f7f; text-decoration-color: #7f7f7f\">:</span><a href=\"file://c:\\Users\\Sixia\\healthhub-content-optimization\\venv\\lib\\site-packages\\kedro\\io\\data_catalog.py#537\" target=\"_blank\"><span style=\"color: #7f7f7f; text-decoration-color: #7f7f7f\">537</span></a>\n",
       "</pre>\n"
      ],
      "text/plain": [
       "\u001b[2;36m                   \u001b[0m\u001b[2;36m \u001b[0m\u001b[34mINFO    \u001b[0m Loading data from params:blacklist \u001b[1m(\u001b[0mMemoryDataset\u001b[1m)\u001b[0m\u001b[33m...\u001b[0m              \u001b]8;id=665918;file://c:\\Users\\Sixia\\healthhub-content-optimization\\venv\\lib\\site-packages\\kedro\\io\\data_catalog.py\u001b\\\u001b[2mdata_catalog.py\u001b[0m\u001b]8;;\u001b\\\u001b[2m:\u001b[0m\u001b]8;id=967793;file://c:\\Users\\Sixia\\healthhub-content-optimization\\venv\\lib\\site-packages\\kedro\\io\\data_catalog.py#537\u001b\\\u001b[2m537\u001b[0m\u001b]8;;\u001b\\\n"
      ]
     },
     "metadata": {},
     "output_type": "display_data"
    },
    {
     "name": "stdout",
     "output_type": "stream",
     "text": [
      "No. of articles to add on for blacklist:  32\n"
     ]
    },
    {
     "data": {
      "text/html": [
       "<pre style=\"white-space:pre;overflow-x:auto;line-height:normal;font-family:Menlo,'DejaVu Sans Mono',consolas,'Courier New',monospace\"><span style=\"color: #7fbfbf; text-decoration-color: #7fbfbf\">                    </span><span style=\"color: #000080; text-decoration-color: #000080\">INFO    </span> Loading data from merged_data <span style=\"font-weight: bold\">(</span>ParquetDataset<span style=\"font-weight: bold\">)</span><span style=\"color: #808000; text-decoration-color: #808000\">...</span>                  <a href=\"file://c:\\Users\\Sixia\\healthhub-content-optimization\\venv\\lib\\site-packages\\kedro\\io\\data_catalog.py\" target=\"_blank\"><span style=\"color: #7f7f7f; text-decoration-color: #7f7f7f\">data_catalog.py</span></a><span style=\"color: #7f7f7f; text-decoration-color: #7f7f7f\">:</span><a href=\"file://c:\\Users\\Sixia\\healthhub-content-optimization\\venv\\lib\\site-packages\\kedro\\io\\data_catalog.py#537\" target=\"_blank\"><span style=\"color: #7f7f7f; text-decoration-color: #7f7f7f\">537</span></a>\n",
       "</pre>\n"
      ],
      "text/plain": [
       "\u001b[2;36m                   \u001b[0m\u001b[2;36m \u001b[0m\u001b[34mINFO    \u001b[0m Loading data from merged_data \u001b[1m(\u001b[0mParquetDataset\u001b[1m)\u001b[0m\u001b[33m...\u001b[0m                  \u001b]8;id=146729;file://c:\\Users\\Sixia\\healthhub-content-optimization\\venv\\lib\\site-packages\\kedro\\io\\data_catalog.py\u001b\\\u001b[2mdata_catalog.py\u001b[0m\u001b]8;;\u001b\\\u001b[2m:\u001b[0m\u001b]8;id=117304;file://c:\\Users\\Sixia\\healthhub-content-optimization\\venv\\lib\\site-packages\\kedro\\io\\data_catalog.py#537\u001b\\\u001b[2m537\u001b[0m\u001b]8;;\u001b\\\n"
      ]
     },
     "metadata": {},
     "output_type": "display_data"
    },
    {
     "name": "stdout",
     "output_type": "stream",
     "text": [
      "           id                       title\n",
      "1505  1445657  Nasi Liwet with Brown Rice\n",
      "\n",
      "Number of articles in blacklist: 40\n"
     ]
    }
   ],
   "source": [
    "# Load current articles that are blacklisted\n",
    "\n",
    "initial_blacklist = catalog.load('params:blacklist')\n",
    "initial_blacklist_df = pd.DataFrame(list(initial_blacklist.items()), columns = ['article_id','remove_type'])\n",
    "\n",
    "# Concat initial blacklist with new blacklist\n",
    "to_exclude = user_annotation[user_annotation['HH\\'s team\\'s comments'].fillna('').str.contains('exclude')]\n",
    "to_exclude = to_exclude[['article_id','HH\\'s team\\'s comments']]\n",
    "to_exclude.columns = ['article_id','remove_type']\n",
    "print('No. of articles to add on for blacklist: ', len(to_exclude))\n",
    "to_exclude['remove_type'] = to_exclude['remove_type'].str.replace('exclude-','')\n",
    "to_exclude['remove_type'] = to_exclude['remove_type'].apply(lambda x: x.title())\n",
    "to_exclude['remove_type'] = to_exclude['remove_type'].str.replace('No Relevant Content And Mainly Link','No relevant content and mainly links')\n",
    "to_exclude['remove_type'] = to_exclude['remove_type'].str.replace('Table Of Contents','Table of Contents')\n",
    "blacklist_update = pd.concat([initial_blacklist_df, to_exclude])\n",
    "\n",
    "# Get article id of nasi liwet \n",
    "merged_data = catalog.load('merged_data')\n",
    "add_on_title_to_blacklist = ['Nasi Liwet with Brown Rice'] \n",
    "add_on_blacklist_lower = [title.lower() for title in add_on_title_to_blacklist]\n",
    "add_on_blacklist_id_title = merged_data[merged_data['title'].str.lower().apply(lambda x: any(blacklist_title in x for blacklist_title in add_on_blacklist_lower))][['id', 'title']]\n",
    "print(add_on_blacklist_id_title)\n",
    "\n",
    "# Label the blacklist reason\n",
    "added_blacklist = {1445657: 'Recipe'}\n",
    "added_blacklist_df = pd.DataFrame(list(added_blacklist.items()), columns = ['article_id','remove_type'])\n",
    "\n",
    "# Update blacklist\n",
    "blacklist_update_2 = pd.concat([blacklist_update, added_blacklist_df])\n",
    "blacklist_update_2.sort_values('remove_type', inplace=True)\n",
    "blacklist_update_2.drop_duplicates('article_id', inplace=True)\n",
    "\n",
    "# Write new blacklist into a txt file\n",
    "export_path = os.path.join(folder_path,'blacklist_update.txt')\n",
    "with open(export_path, 'w') as file:\n",
    "    for i, row in blacklist_update_2.iterrows():\n",
    "        file.write(f\"{row['article_id']}: \\\"{row['remove_type']}\\\"\\n\")\n",
    "\n",
    "print('\\nNumber of articles in blacklist:',blacklist_update_2.shape[0])"
   ]
  },
  {
   "cell_type": "markdown",
   "metadata": {},
   "source": [
    "### Before proceeding:\n",
    "\n",
    "1. Paste the updated blacklist (`blacklist_update.txt`) into `parameters_data_processing.yml`\n",
    "2. Run `kedro run --pipeline=data_processing` to obtain the updated `merged_data.parquet`"
   ]
  },
  {
   "cell_type": "code",
   "execution_count": null,
   "metadata": {},
   "outputs": [
    {
     "data": {
      "text/html": [
       "<pre style=\"white-space:pre;overflow-x:auto;line-height:normal;font-family:Menlo,'DejaVu Sans Mono',consolas,'Courier New',monospace\"><span style=\"color: #7fbfbf; text-decoration-color: #7fbfbf\">[08/23/24 14:26:25] </span><span style=\"color: #000080; text-decoration-color: #000080\">INFO    </span> Resolved project path as:                                              <a href=\"file://c:\\Users\\Sixia\\healthhub-content-optimization\\venv\\lib\\site-packages\\kedro\\ipython\\__init__.py\" target=\"_blank\"><span style=\"color: #7f7f7f; text-decoration-color: #7f7f7f\">__init__.py</span></a><span style=\"color: #7f7f7f; text-decoration-color: #7f7f7f\">:</span><a href=\"file://c:\\Users\\Sixia\\healthhub-content-optimization\\venv\\lib\\site-packages\\kedro\\ipython\\__init__.py#175\" target=\"_blank\"><span style=\"color: #7f7f7f; text-decoration-color: #7f7f7f\">175</span></a>\n",
       "<span style=\"color: #7fbfbf; text-decoration-color: #7fbfbf\">                    </span>         C:\\Users\\Sixia\\healthhub-content-optimization\\content-optimization.    <span style=\"color: #7f7f7f; text-decoration-color: #7f7f7f\">               </span>\n",
       "<span style=\"color: #7fbfbf; text-decoration-color: #7fbfbf\">                    </span>         To set a different path, run <span style=\"color: #008000; text-decoration-color: #008000\">'%reload_kedro &lt;project_root&gt;'</span>            <span style=\"color: #7f7f7f; text-decoration-color: #7f7f7f\">               </span>\n",
       "</pre>\n"
      ],
      "text/plain": [
       "\u001b[2;36m[08/23/24 14:26:25]\u001b[0m\u001b[2;36m \u001b[0m\u001b[34mINFO    \u001b[0m Resolved project path as:                                              \u001b]8;id=417123;file://c:\\Users\\Sixia\\healthhub-content-optimization\\venv\\lib\\site-packages\\kedro\\ipython\\__init__.py\u001b\\\u001b[2m__init__.py\u001b[0m\u001b]8;;\u001b\\\u001b[2m:\u001b[0m\u001b]8;id=543106;file://c:\\Users\\Sixia\\healthhub-content-optimization\\venv\\lib\\site-packages\\kedro\\ipython\\__init__.py#175\u001b\\\u001b[2m175\u001b[0m\u001b]8;;\u001b\\\n",
       "\u001b[2;36m                    \u001b[0m         C:\\Users\\Sixia\\healthhub-content-optimization\\content-optimization.    \u001b[2m               \u001b[0m\n",
       "\u001b[2;36m                    \u001b[0m         To set a different path, run \u001b[32m'%reload_kedro \u001b[0m\u001b[32m<\u001b[0m\u001b[32mproject_root\u001b[0m\u001b[32m>\u001b[0m\u001b[32m'\u001b[0m            \u001b[2m               \u001b[0m\n"
      ]
     },
     "metadata": {},
     "output_type": "display_data"
    },
    {
     "data": {
      "text/html": [
       "<pre style=\"white-space:pre;overflow-x:auto;line-height:normal;font-family:Menlo,'DejaVu Sans Mono',consolas,'Courier New',monospace\"><span style=\"color: #7fbfbf; text-decoration-color: #7fbfbf\">[08/23/24 14:26:26] </span><span style=\"color: #000080; text-decoration-color: #000080\">INFO    </span> Kedro project Content Optimization                                     <a href=\"file://c:\\Users\\Sixia\\healthhub-content-optimization\\venv\\lib\\site-packages\\kedro\\ipython\\__init__.py\" target=\"_blank\"><span style=\"color: #7f7f7f; text-decoration-color: #7f7f7f\">__init__.py</span></a><span style=\"color: #7f7f7f; text-decoration-color: #7f7f7f\">:</span><a href=\"file://c:\\Users\\Sixia\\healthhub-content-optimization\\venv\\lib\\site-packages\\kedro\\ipython\\__init__.py#141\" target=\"_blank\"><span style=\"color: #7f7f7f; text-decoration-color: #7f7f7f\">141</span></a>\n",
       "</pre>\n"
      ],
      "text/plain": [
       "\u001b[2;36m[08/23/24 14:26:26]\u001b[0m\u001b[2;36m \u001b[0m\u001b[34mINFO    \u001b[0m Kedro project Content Optimization                                     \u001b]8;id=476638;file://c:\\Users\\Sixia\\healthhub-content-optimization\\venv\\lib\\site-packages\\kedro\\ipython\\__init__.py\u001b\\\u001b[2m__init__.py\u001b[0m\u001b]8;;\u001b\\\u001b[2m:\u001b[0m\u001b]8;id=506723;file://c:\\Users\\Sixia\\healthhub-content-optimization\\venv\\lib\\site-packages\\kedro\\ipython\\__init__.py#141\u001b\\\u001b[2m141\u001b[0m\u001b]8;;\u001b\\\n"
      ]
     },
     "metadata": {},
     "output_type": "display_data"
    },
    {
     "data": {
      "text/html": [
       "<pre style=\"white-space:pre;overflow-x:auto;line-height:normal;font-family:Menlo,'DejaVu Sans Mono',consolas,'Courier New',monospace\"><span style=\"color: #7fbfbf; text-decoration-color: #7fbfbf\">                    </span><span style=\"color: #000080; text-decoration-color: #000080\">INFO    </span> Defined global variable <span style=\"color: #008000; text-decoration-color: #008000\">'context'</span>, <span style=\"color: #008000; text-decoration-color: #008000\">'session'</span>, <span style=\"color: #008000; text-decoration-color: #008000\">'catalog'</span> and            <a href=\"file://c:\\Users\\Sixia\\healthhub-content-optimization\\venv\\lib\\site-packages\\kedro\\ipython\\__init__.py\" target=\"_blank\"><span style=\"color: #7f7f7f; text-decoration-color: #7f7f7f\">__init__.py</span></a><span style=\"color: #7f7f7f; text-decoration-color: #7f7f7f\">:</span><a href=\"file://c:\\Users\\Sixia\\healthhub-content-optimization\\venv\\lib\\site-packages\\kedro\\ipython\\__init__.py#142\" target=\"_blank\"><span style=\"color: #7f7f7f; text-decoration-color: #7f7f7f\">142</span></a>\n",
       "<span style=\"color: #7fbfbf; text-decoration-color: #7fbfbf\">                    </span>         <span style=\"color: #008000; text-decoration-color: #008000\">'pipelines'</span>                                                            <span style=\"color: #7f7f7f; text-decoration-color: #7f7f7f\">               </span>\n",
       "</pre>\n"
      ],
      "text/plain": [
       "\u001b[2;36m                   \u001b[0m\u001b[2;36m \u001b[0m\u001b[34mINFO    \u001b[0m Defined global variable \u001b[32m'context'\u001b[0m, \u001b[32m'session'\u001b[0m, \u001b[32m'catalog'\u001b[0m and            \u001b]8;id=54255;file://c:\\Users\\Sixia\\healthhub-content-optimization\\venv\\lib\\site-packages\\kedro\\ipython\\__init__.py\u001b\\\u001b[2m__init__.py\u001b[0m\u001b]8;;\u001b\\\u001b[2m:\u001b[0m\u001b]8;id=409760;file://c:\\Users\\Sixia\\healthhub-content-optimization\\venv\\lib\\site-packages\\kedro\\ipython\\__init__.py#142\u001b\\\u001b[2m142\u001b[0m\u001b]8;;\u001b\\\n",
       "\u001b[2;36m                    \u001b[0m         \u001b[32m'pipelines'\u001b[0m                                                            \u001b[2m               \u001b[0m\n"
      ]
     },
     "metadata": {},
     "output_type": "display_data"
    },
    {
     "data": {
      "text/html": [
       "<pre style=\"white-space:pre;overflow-x:auto;line-height:normal;font-family:Menlo,'DejaVu Sans Mono',consolas,'Courier New',monospace\"><span style=\"color: #7fbfbf; text-decoration-color: #7fbfbf\">                    </span><span style=\"color: #000080; text-decoration-color: #000080\">INFO    </span> Registered line magic <span style=\"color: #008000; text-decoration-color: #008000\">'run_viz'</span>                                        <a href=\"file://c:\\Users\\Sixia\\healthhub-content-optimization\\venv\\lib\\site-packages\\kedro\\ipython\\__init__.py\" target=\"_blank\"><span style=\"color: #7f7f7f; text-decoration-color: #7f7f7f\">__init__.py</span></a><span style=\"color: #7f7f7f; text-decoration-color: #7f7f7f\">:</span><a href=\"file://c:\\Users\\Sixia\\healthhub-content-optimization\\venv\\lib\\site-packages\\kedro\\ipython\\__init__.py#148\" target=\"_blank\"><span style=\"color: #7f7f7f; text-decoration-color: #7f7f7f\">148</span></a>\n",
       "</pre>\n"
      ],
      "text/plain": [
       "\u001b[2;36m                   \u001b[0m\u001b[2;36m \u001b[0m\u001b[34mINFO    \u001b[0m Registered line magic \u001b[32m'run_viz'\u001b[0m                                        \u001b]8;id=968677;file://c:\\Users\\Sixia\\healthhub-content-optimization\\venv\\lib\\site-packages\\kedro\\ipython\\__init__.py\u001b\\\u001b[2m__init__.py\u001b[0m\u001b]8;;\u001b\\\u001b[2m:\u001b[0m\u001b]8;id=352620;file://c:\\Users\\Sixia\\healthhub-content-optimization\\venv\\lib\\site-packages\\kedro\\ipython\\__init__.py#148\u001b\\\u001b[2m148\u001b[0m\u001b]8;;\u001b\\\n"
      ]
     },
     "metadata": {},
     "output_type": "display_data"
    }
   ],
   "source": [
    "%reload_kedro"
   ]
  },
  {
   "cell_type": "markdown",
   "metadata": {},
   "source": [
    "### Get Excluded Articles Tab and Data Count"
   ]
  },
  {
   "cell_type": "code",
   "execution_count": null,
   "metadata": {},
   "outputs": [
    {
     "data": {
      "text/html": [
       "<pre style=\"white-space:pre;overflow-x:auto;line-height:normal;font-family:Menlo,'DejaVu Sans Mono',consolas,'Courier New',monospace\"><span style=\"color: #7fbfbf; text-decoration-color: #7fbfbf\">[08/23/24 14:58:35] </span><span style=\"color: #000080; text-decoration-color: #000080\">INFO    </span> Loading data from merged_data <span style=\"font-weight: bold\">(</span>ParquetDataset<span style=\"font-weight: bold\">)</span><span style=\"color: #808000; text-decoration-color: #808000\">...</span>                  <a href=\"file://c:\\Users\\Sixia\\healthhub-content-optimization\\venv\\lib\\site-packages\\kedro\\io\\data_catalog.py\" target=\"_blank\"><span style=\"color: #7f7f7f; text-decoration-color: #7f7f7f\">data_catalog.py</span></a><span style=\"color: #7f7f7f; text-decoration-color: #7f7f7f\">:</span><a href=\"file://c:\\Users\\Sixia\\healthhub-content-optimization\\venv\\lib\\site-packages\\kedro\\io\\data_catalog.py#537\" target=\"_blank\"><span style=\"color: #7f7f7f; text-decoration-color: #7f7f7f\">537</span></a>\n",
       "</pre>\n"
      ],
      "text/plain": [
       "\u001b[2;36m[08/23/24 14:58:35]\u001b[0m\u001b[2;36m \u001b[0m\u001b[34mINFO    \u001b[0m Loading data from merged_data \u001b[1m(\u001b[0mParquetDataset\u001b[1m)\u001b[0m\u001b[33m...\u001b[0m                  \u001b]8;id=793020;file://c:\\Users\\Sixia\\healthhub-content-optimization\\venv\\lib\\site-packages\\kedro\\io\\data_catalog.py\u001b\\\u001b[2mdata_catalog.py\u001b[0m\u001b]8;;\u001b\\\u001b[2m:\u001b[0m\u001b]8;id=238526;file://c:\\Users\\Sixia\\healthhub-content-optimization\\venv\\lib\\site-packages\\kedro\\io\\data_catalog.py#537\u001b\\\u001b[2m537\u001b[0m\u001b]8;;\u001b\\\n"
      ]
     },
     "metadata": {},
     "output_type": "display_data"
    },
    {
     "name": "stdout",
     "output_type": "stream",
     "text": [
      "(704, 39)\n",
      "\n",
      "Value Counts Before Filtering: \n",
      "\n",
      "              content_category  count\n",
      "0           cost-and-financing      1\n",
      "1      diseases-and-conditions     42\n",
      "2        live-healthy-articles    659\n",
      "3  medical-care-and-facilities      2\n",
      "\n",
      "Value Counts of to_remove articles: 75 \n",
      "\n",
      "          content_category  count\n",
      "0  diseases-and-conditions      2\n",
      "1    live-healthy-articles     73\n",
      "\n",
      "\n",
      "Value Counts Before Filtering (Exclude Duplicated):\n",
      "               content_category  count\n",
      "0           cost-and-financing      1\n",
      "1      diseases-and-conditions     42\n",
      "2        live-healthy-articles    656\n",
      "3  medical-care-and-facilities      2\n",
      "\n",
      "\n",
      "Value Counts of to_remove articles (Exclude Duplicated):\n",
      "          content_category  count\n",
      "0  diseases-and-conditions      2\n",
      "1    live-healthy-articles     70\n"
     ]
    }
   ],
   "source": [
    "merged_data = catalog.load('merged_data')\n",
    "merged_data_HPB = merged_data[merged_data['pr_name'].fillna('').str.contains('Health Promotion Board')]\n",
    "to_keep_content_category = ['cost-and-financing','diseases-and-conditions','live-healthy-articles','medical-care-and-facilities','support-group-and-others']\n",
    "merged_data_HPB_cat = merged_data_HPB[merged_data_HPB['content_category'].isin(to_keep_content_category)]\n",
    "print(merged_data_HPB_cat.shape)\n",
    "\n",
    "print('\\nValue Counts Before Filtering: \\n') # data_count.xlsx - 'HPB raw data count in excel'\n",
    "hpb_raw_value_counts = pd.DataFrame(merged_data_HPB_cat.content_category.value_counts()).sort_values('content_category').reset_index()\n",
    "print(hpb_raw_value_counts)\n",
    "to_remove = merged_data_HPB_cat[merged_data_HPB_cat['to_remove'] == True]\n",
    "to_remove_value_counts =  pd.DataFrame(to_remove.content_category.value_counts()).sort_values('content_category').reset_index()\n",
    "\n",
    "print('\\nValue Counts of to_remove articles:',len(to_remove),'\\n') # data_count.xlsx - 'to_remove articles (final)'\n",
    "print(to_remove_value_counts) \n",
    "\n",
    "\n",
    "## Exclude tab to exclude those duplicated URL and content articles (considered backend issues)\n",
    "additional_exclusion_from_excluded_tab = [1444417, 1445629, 1445972] \n",
    "exclude_tab = to_remove[['id','title','full_url','content_category','page_views','article_category_names','remove_type']]\n",
    "exclude_tab = exclude_tab[~exclude_tab.id.isin(additional_exclusion_from_excluded_tab)]\n",
    "exclude_tab_value_counts = pd.DataFrame(exclude_tab.content_category.value_counts()).sort_values('content_category').reset_index()\n",
    "hpb_raw_value_counts_exclude_duplicated = merged_data_HPB_cat[~merged_data_HPB_cat.id.isin(additional_exclusion_from_excluded_tab)].content_category.value_counts()\n",
    "hpb_raw_value_counts_exclude_duplicated = pd.DataFrame(hpb_raw_value_counts_exclude_duplicated).sort_values('content_category').reset_index()\n",
    "print('\\n\\nValue Counts Before Filtering (Exclude Duplicated):\\n', hpb_raw_value_counts_exclude_duplicated)\n",
    "print('\\n\\nValue Counts of to_remove articles (Exclude Duplicated):')\n",
    "print(exclude_tab_value_counts)\n",
    "exclude_tab.to_csv(f'excluded_content_{len(exclude_tab)}articles.csv',index=False)\n"
   ]
  },
  {
   "cell_type": "code",
   "execution_count": null,
   "metadata": {},
   "outputs": [
    {
     "name": "stdout",
     "output_type": "stream",
     "text": [
      "                            remove_type  count\n",
      "0                    Duplicated Content      1\n",
      "1                        Duplicated URL      2\n",
      "2                           Infographic     14\n",
      "3  No relevant content and mainly links      6\n",
      "4                                Recipe     45\n",
      "5                    Services Directory      3\n",
      "6                     Table of Contents      4\n",
      "7                                 Total     75\n"
     ]
    }
   ],
   "source": [
    "# To update in data_count.xlsx - 'HPB only to_remove articles Counts (final)'\n",
    "remove_type_value_counts = pd.DataFrame(to_remove.remove_type.value_counts()).sort_values('remove_type').reset_index()\n",
    "remove_type_value_counts\n",
    "\n",
    "# Add sum row\n",
    "total_sum = remove_type_value_counts['count'].sum()\n",
    "total_row = pd.DataFrame([['Total', total_sum]], columns=['remove_type', 'count'])\n",
    "excluded_tab_article_counts_df = pd.concat([remove_type_value_counts, total_row], ignore_index=True)\n",
    "print(excluded_tab_article_counts_df)"
   ]
  },
  {
   "cell_type": "markdown",
   "metadata": {},
   "source": [
    "### Sent for Clustering Data Count"
   ]
  },
  {
   "cell_type": "code",
   "execution_count": null,
   "metadata": {},
   "outputs": [
    {
     "data": {
      "text/html": [
       "<pre style=\"white-space:pre;overflow-x:auto;line-height:normal;font-family:Menlo,'DejaVu Sans Mono',consolas,'Courier New',monospace\"><span style=\"color: #7fbfbf; text-decoration-color: #7fbfbf\">[08/23/24 14:37:01] </span><span style=\"color: #000080; text-decoration-color: #000080\">INFO    </span> Loading data from filtered_data_with_keywords <span style=\"font-weight: bold\">(</span>ParquetDataset<span style=\"font-weight: bold\">)</span><span style=\"color: #808000; text-decoration-color: #808000\">...</span>  <a href=\"file://c:\\Users\\Sixia\\healthhub-content-optimization\\venv\\lib\\site-packages\\kedro\\io\\data_catalog.py\" target=\"_blank\"><span style=\"color: #7f7f7f; text-decoration-color: #7f7f7f\">data_catalog.py</span></a><span style=\"color: #7f7f7f; text-decoration-color: #7f7f7f\">:</span><a href=\"file://c:\\Users\\Sixia\\healthhub-content-optimization\\venv\\lib\\site-packages\\kedro\\io\\data_catalog.py#537\" target=\"_blank\"><span style=\"color: #7f7f7f; text-decoration-color: #7f7f7f\">537</span></a>\n",
       "</pre>\n"
      ],
      "text/plain": [
       "\u001b[2;36m[08/23/24 14:37:01]\u001b[0m\u001b[2;36m \u001b[0m\u001b[34mINFO    \u001b[0m Loading data from filtered_data_with_keywords \u001b[1m(\u001b[0mParquetDataset\u001b[1m)\u001b[0m\u001b[33m...\u001b[0m  \u001b]8;id=982174;file://c:\\Users\\Sixia\\healthhub-content-optimization\\venv\\lib\\site-packages\\kedro\\io\\data_catalog.py\u001b\\\u001b[2mdata_catalog.py\u001b[0m\u001b]8;;\u001b\\\u001b[2m:\u001b[0m\u001b]8;id=176274;file://c:\\Users\\Sixia\\healthhub-content-optimization\\venv\\lib\\site-packages\\kedro\\io\\data_catalog.py#537\u001b\\\u001b[2m537\u001b[0m\u001b]8;;\u001b\\\n"
      ]
     },
     "metadata": {},
     "output_type": "display_data"
    },
    {
     "name": "stdout",
     "output_type": "stream",
     "text": [
      "No. of articles sent for clustering: 629\n",
      "              content_category  count\n",
      "0           cost-and-financing      1\n",
      "1      diseases-and-conditions     40\n",
      "2        live-healthy-articles    586\n",
      "3  medical-care-and-facilities      2\n"
     ]
    }
   ],
   "source": [
    "filtered_data_with_keywords = catalog.load(\"filtered_data_with_keywords\")\n",
    "print('No. of articles sent for clustering:', len(filtered_data_with_keywords))\n",
    "cluster_value_counts = filtered_data_with_keywords.content_category.value_counts().reset_index().sort_values('content_category')\n",
    "print(cluster_value_counts)"
   ]
  },
  {
   "cell_type": "markdown",
   "metadata": {},
   "source": [
    "### (To Combine) Data Count"
   ]
  },
  {
   "cell_type": "code",
   "execution_count": null,
   "metadata": {},
   "outputs": [],
   "source": [
    "annotation = pd.read_excel(input_folder_path+'/user_annotation_25jul.xlsx', sheet_name=1)\n",
    "annotation_indiv = annotation[(annotation['Action'] == 'Individual') & (annotation['Algorithm remarks'].notna())]\n",
    "\n",
    "first_cluster_result = pd.read_excel(input_folder_path+'/final_predicted_clusters (first iteration).xlsx')\n",
    "first_cluster_result_cluster = first_cluster_result[first_cluster_result['group_keywords'].notna()]\n",
    "\n",
    "# Remove those annotated by HH to be individual articles\n",
    "first_cluster_result_cluster = first_cluster_result_cluster[~first_cluster_result_cluster['id'].isin(annotation_indiv.article_id)]\n",
    "\n",
    "# Remove those in blacklist\n",
    "blacklisted_articles_id = blacklist_update_2['article_id'].to_list()\n",
    "first_cluster_result_cluster = first_cluster_result_cluster[~first_cluster_result_cluster['id'].isin(blacklisted_articles_id)]\n",
    "\n",
    "first_cluster_result_cluster_w_cat = pd.merge(first_cluster_result_cluster,merged_data_HPB_cat[['id','content_category']], how='left', on='id')\n",
    "to_combine_value_counts = first_cluster_result_cluster_w_cat['content_category'].value_counts().reset_index().sort_values('content_category')"
   ]
  },
  {
   "cell_type": "markdown",
   "metadata": {},
   "source": [
    "### Consolidate Data Count"
   ]
  },
  {
   "cell_type": "code",
   "execution_count": null,
   "metadata": {},
   "outputs": [
    {
     "data": {
      "text/html": [
       "<pre style=\"white-space:pre;overflow-x:auto;line-height:normal;font-family:Menlo,'DejaVu Sans Mono',consolas,'Courier New',monospace\"><span style=\"color: #800000; text-decoration-color: #800000\">╭─────────────────────────────── </span><span style=\"color: #800000; text-decoration-color: #800000; font-weight: bold\">Traceback </span><span style=\"color: #bf7f7f; text-decoration-color: #bf7f7f; font-weight: bold\">(most recent call last)</span><span style=\"color: #800000; text-decoration-color: #800000\"> ────────────────────────────────╮</span>\n",
       "<span style=\"color: #800000; text-decoration-color: #800000\">│</span> in <span style=\"color: #00ff00; text-decoration-color: #00ff00\">&lt;module&gt;</span>:<span style=\"color: #0000ff; text-decoration-color: #0000ff\">6</span>                                                                                    <span style=\"color: #800000; text-decoration-color: #800000\">│</span>\n",
       "<span style=\"color: #800000; text-decoration-color: #800000\">│</span>                                                                                                  <span style=\"color: #800000; text-decoration-color: #800000\">│</span>\n",
       "<span style=\"color: #800000; text-decoration-color: #800000\">│</span>   <span style=\"color: #7f7f7f; text-decoration-color: #7f7f7f\">3 </span>to_remove_value_counts.columns=[<span style=\"color: #808000; text-decoration-color: #808000\">'content_category'</span>,<span style=\"color: #808000; text-decoration-color: #808000\">'to_remove articles'</span>]                     <span style=\"color: #800000; text-decoration-color: #800000\">│</span>\n",
       "<span style=\"color: #800000; text-decoration-color: #800000\">│</span>   <span style=\"color: #7f7f7f; text-decoration-color: #7f7f7f\">4 </span>exclude_tab_value_counts.columns=[<span style=\"color: #808000; text-decoration-color: #808000\">'content_category'</span>,<span style=\"color: #808000; text-decoration-color: #808000\">'to_remove articles (Exclude Duplic</span>     <span style=\"color: #800000; text-decoration-color: #800000\">│</span>\n",
       "<span style=\"color: #800000; text-decoration-color: #800000\">│</span>   <span style=\"color: #7f7f7f; text-decoration-color: #7f7f7f\">5 </span>cluster_value_counts.columns=[<span style=\"color: #808000; text-decoration-color: #808000\">'content_category'</span>,<span style=\"color: #808000; text-decoration-color: #808000\">'Sent for Clustering'</span>]                      <span style=\"color: #800000; text-decoration-color: #800000\">│</span>\n",
       "<span style=\"color: #800000; text-decoration-color: #800000\">│</span> <span style=\"color: #800000; text-decoration-color: #800000\">❱ </span>6 to_combine_value_counts.columns=[<span style=\"color: #808000; text-decoration-color: #808000\">'content_category'</span>,<span style=\"color: #808000; text-decoration-color: #808000\">'Articles in clusters identified'</span>]       <span style=\"color: #800000; text-decoration-color: #800000\">│</span>\n",
       "<span style=\"color: #800000; text-decoration-color: #800000\">│</span>   <span style=\"color: #7f7f7f; text-decoration-color: #7f7f7f\">7 </span>for_optimisation_value_counts.columns=[<span style=\"color: #808000; text-decoration-color: #808000\">'content_category'</span>,<span style=\"color: #808000; text-decoration-color: #808000\">'Individual for optimisation'</span>]     <span style=\"color: #800000; text-decoration-color: #800000\">│</span>\n",
       "<span style=\"color: #800000; text-decoration-color: #800000\">│</span>   <span style=\"color: #7f7f7f; text-decoration-color: #7f7f7f\">8 </span>for_optimisation_value_counts                                                                <span style=\"color: #800000; text-decoration-color: #800000\">│</span>\n",
       "<span style=\"color: #800000; text-decoration-color: #800000\">│</span>   <span style=\"color: #7f7f7f; text-decoration-color: #7f7f7f\">9 </span>                                                                                             <span style=\"color: #800000; text-decoration-color: #800000\">│</span>\n",
       "<span style=\"color: #800000; text-decoration-color: #800000\">╰──────────────────────────────────────────────────────────────────────────────────────────────────╯</span>\n",
       "<span style=\"color: #ff0000; text-decoration-color: #ff0000; font-weight: bold\">AttributeError: </span><span style=\"color: #008000; text-decoration-color: #008000\">'list'</span> object has no attribute <span style=\"color: #008000; text-decoration-color: #008000\">'columns'</span>\n",
       "</pre>\n"
      ],
      "text/plain": [
       "\u001b[31m╭─\u001b[0m\u001b[31m──────────────────────────────\u001b[0m\u001b[31m \u001b[0m\u001b[1;31mTraceback \u001b[0m\u001b[1;2;31m(most recent call last)\u001b[0m\u001b[31m \u001b[0m\u001b[31m───────────────────────────────\u001b[0m\u001b[31m─╮\u001b[0m\n",
       "\u001b[31m│\u001b[0m in \u001b[92m<module>\u001b[0m:\u001b[94m6\u001b[0m                                                                                    \u001b[31m│\u001b[0m\n",
       "\u001b[31m│\u001b[0m                                                                                                  \u001b[31m│\u001b[0m\n",
       "\u001b[31m│\u001b[0m   \u001b[2m3 \u001b[0mto_remove_value_counts.columns=[\u001b[33m'\u001b[0m\u001b[33mcontent_category\u001b[0m\u001b[33m'\u001b[0m,\u001b[33m'\u001b[0m\u001b[33mto_remove articles\u001b[0m\u001b[33m'\u001b[0m]                     \u001b[31m│\u001b[0m\n",
       "\u001b[31m│\u001b[0m   \u001b[2m4 \u001b[0mexclude_tab_value_counts.columns=[\u001b[33m'\u001b[0m\u001b[33mcontent_category\u001b[0m\u001b[33m'\u001b[0m,\u001b[33m'\u001b[0m\u001b[33mto_remove articles (Exclude Duplic\u001b[0m     \u001b[31m│\u001b[0m\n",
       "\u001b[31m│\u001b[0m   \u001b[2m5 \u001b[0mcluster_value_counts.columns=[\u001b[33m'\u001b[0m\u001b[33mcontent_category\u001b[0m\u001b[33m'\u001b[0m,\u001b[33m'\u001b[0m\u001b[33mSent for Clustering\u001b[0m\u001b[33m'\u001b[0m]                      \u001b[31m│\u001b[0m\n",
       "\u001b[31m│\u001b[0m \u001b[31m❱ \u001b[0m6 to_combine_value_counts.columns=[\u001b[33m'\u001b[0m\u001b[33mcontent_category\u001b[0m\u001b[33m'\u001b[0m,\u001b[33m'\u001b[0m\u001b[33mArticles in clusters identified\u001b[0m\u001b[33m'\u001b[0m]       \u001b[31m│\u001b[0m\n",
       "\u001b[31m│\u001b[0m   \u001b[2m7 \u001b[0mfor_optimisation_value_counts.columns=[\u001b[33m'\u001b[0m\u001b[33mcontent_category\u001b[0m\u001b[33m'\u001b[0m,\u001b[33m'\u001b[0m\u001b[33mIndividual for optimisation\u001b[0m\u001b[33m'\u001b[0m]     \u001b[31m│\u001b[0m\n",
       "\u001b[31m│\u001b[0m   \u001b[2m8 \u001b[0mfor_optimisation_value_counts                                                                \u001b[31m│\u001b[0m\n",
       "\u001b[31m│\u001b[0m   \u001b[2m9 \u001b[0m                                                                                             \u001b[31m│\u001b[0m\n",
       "\u001b[31m╰──────────────────────────────────────────────────────────────────────────────────────────────────╯\u001b[0m\n",
       "\u001b[1;91mAttributeError: \u001b[0m\u001b[32m'list'\u001b[0m object has no attribute \u001b[32m'columns'\u001b[0m\n"
      ]
     },
     "metadata": {},
     "output_type": "display_data"
    }
   ],
   "source": [
    "hpb_raw_value_counts.columns=['content_category','HPB raw data count in excel']\n",
    "hpb_raw_value_counts_exclude_duplicated.columns=['content_category','HPB raw data count in excel (Excludes Duplicated)']\n",
    "to_remove_value_counts.columns=['content_category','to_remove articles']\n",
    "exclude_tab_value_counts.columns=['content_category','to_remove articles (Exclude Duplicated)']\n",
    "cluster_value_counts.columns=['content_category','Sent for Clustering']\n",
    "to_combine_value_counts.columns=['content_category','Articles in clusters identified']\n",
    "for_optimisation_value_counts.columns=['content_category','Individual for optimisation']\n",
    "for_optimisation_value_counts\n"
   ]
  },
  {
   "cell_type": "code",
   "execution_count": null,
   "metadata": {},
   "outputs": [],
   "source": [
    "pd.concat([hpb_raw_value_counts,to_remove_value_counts,])"
   ]
  }
 ],
 "metadata": {
  "kernelspec": {
   "display_name": "venv",
   "language": "python",
   "name": "python3"
  },
  "language_info": {
   "codemirror_mode": {
    "name": "ipython",
    "version": 3
   },
   "file_extension": ".py",
   "mimetype": "text/x-python",
   "name": "python",
   "nbconvert_exporter": "python",
   "pygments_lexer": "ipython3",
   "version": "3.10.10"
  }
 },
 "nbformat": 4,
 "nbformat_minor": 2
}
