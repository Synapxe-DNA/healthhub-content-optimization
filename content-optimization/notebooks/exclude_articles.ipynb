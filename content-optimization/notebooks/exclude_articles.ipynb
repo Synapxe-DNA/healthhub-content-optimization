{
 "cells": [
  {
   "cell_type": "markdown",
   "metadata": {},
   "source": [
    "##### This notebook exports the updated blacklist based on HH user annotations, along with the IDs of optimization articles and the value counts needed for data_count.xlsx.\n",
    "\n",
    "Before running the notebook, please ensure the following files are located in the `data/01_raw/annotated_contents` directory:\n",
    "\n",
    "- `user_annotation_25jul.xlsx`: Contains annotated remarks on the 'User Annotation (To Combine)' tab provided by the HH team.\n",
    "- `Stage 1 user annotation for HPB_HHcomments_20Aug24.xlsx`: Contains annotated remarks on the 'User Annotation (To Optimize)' tab provided by the HH team.\n",
    "- `final_predicted_clusters (first iteration).xlsx`: The first iteration of clustering results is required since the results may change with each iteration."
   ]
  },
  {
   "cell_type": "code",
   "execution_count": 1,
   "metadata": {},
   "outputs": [],
   "source": [
    "import os\n",
    "\n",
    "import pandas as pd"
   ]
  },
  {
   "cell_type": "code",
   "execution_count": 2,
   "metadata": {},
   "outputs": [
    {
     "data": {
      "text/html": [
       "<pre style=\"white-space:pre;overflow-x:auto;line-height:normal;font-family:Menlo,'DejaVu Sans Mono',consolas,'Courier New',monospace\"><span style=\"color: #7fbfbf; text-decoration-color: #7fbfbf\">[08/28/24 16:28:15] </span><span style=\"color: #000080; text-decoration-color: #000080\">INFO    </span> Using                                                                  <a href=\"file://c:\\Users\\Sixia\\healthhub-content-optimization\\venv\\lib\\site-packages\\kedro\\framework\\project\\__init__.py\" target=\"_blank\"><span style=\"color: #7f7f7f; text-decoration-color: #7f7f7f\">__init__.py</span></a><span style=\"color: #7f7f7f; text-decoration-color: #7f7f7f\">:</span><a href=\"file://c:\\Users\\Sixia\\healthhub-content-optimization\\venv\\lib\\site-packages\\kedro\\framework\\project\\__init__.py#246\" target=\"_blank\"><span style=\"color: #7f7f7f; text-decoration-color: #7f7f7f\">246</span></a>\n",
       "<span style=\"color: #7fbfbf; text-decoration-color: #7fbfbf\">                    </span>         <span style=\"color: #008000; text-decoration-color: #008000\">'c:\\Users\\Sixia\\healthhub-content-optimization\\venv\\lib\\site-packages\\</span> <span style=\"color: #7f7f7f; text-decoration-color: #7f7f7f\">               </span>\n",
       "<span style=\"color: #7fbfbf; text-decoration-color: #7fbfbf\">                    </span>         <span style=\"color: #008000; text-decoration-color: #008000\">kedro\\framework\\project\\rich_logging.yml'</span> as logging configuration.    <span style=\"color: #7f7f7f; text-decoration-color: #7f7f7f\">               </span>\n",
       "</pre>\n"
      ],
      "text/plain": [
       "\u001b[2;36m[08/28/24 16:28:15]\u001b[0m\u001b[2;36m \u001b[0m\u001b[34mINFO    \u001b[0m Using                                                                  \u001b]8;id=10654;file://c:\\Users\\Sixia\\healthhub-content-optimization\\venv\\lib\\site-packages\\kedro\\framework\\project\\__init__.py\u001b\\\u001b[2m__init__.py\u001b[0m\u001b]8;;\u001b\\\u001b[2m:\u001b[0m\u001b]8;id=263854;file://c:\\Users\\Sixia\\healthhub-content-optimization\\venv\\lib\\site-packages\\kedro\\framework\\project\\__init__.py#246\u001b\\\u001b[2m246\u001b[0m\u001b]8;;\u001b\\\n",
       "\u001b[2;36m                    \u001b[0m         \u001b[32m'c:\\Users\\Sixia\\healthhub-content-optimization\\venv\\lib\\site-packages\\\u001b[0m \u001b[2m               \u001b[0m\n",
       "\u001b[2;36m                    \u001b[0m         \u001b[32mkedro\\framework\\project\\rich_logging.yml'\u001b[0m as logging configuration.    \u001b[2m               \u001b[0m\n"
      ]
     },
     "metadata": {},
     "output_type": "display_data"
    },
    {
     "data": {
      "text/html": [
       "<pre style=\"white-space:pre;overflow-x:auto;line-height:normal;font-family:Menlo,'DejaVu Sans Mono',consolas,'Courier New',monospace\"><span style=\"color: #7fbfbf; text-decoration-color: #7fbfbf\">                    </span><span style=\"color: #000080; text-decoration-color: #000080\">INFO    </span> Registered line magic <span style=\"color: #008000; text-decoration-color: #008000\">'%reload_kedro'</span>                                   <a href=\"file://c:\\Users\\Sixia\\healthhub-content-optimization\\venv\\lib\\site-packages\\kedro\\ipython\\__init__.py\" target=\"_blank\"><span style=\"color: #7f7f7f; text-decoration-color: #7f7f7f\">__init__.py</span></a><span style=\"color: #7f7f7f; text-decoration-color: #7f7f7f\">:</span><a href=\"file://c:\\Users\\Sixia\\healthhub-content-optimization\\venv\\lib\\site-packages\\kedro\\ipython\\__init__.py#58\" target=\"_blank\"><span style=\"color: #7f7f7f; text-decoration-color: #7f7f7f\">58</span></a>\n",
       "</pre>\n"
      ],
      "text/plain": [
       "\u001b[2;36m                   \u001b[0m\u001b[2;36m \u001b[0m\u001b[34mINFO    \u001b[0m Registered line magic \u001b[32m'%reload_kedro'\u001b[0m                                   \u001b]8;id=571191;file://c:\\Users\\Sixia\\healthhub-content-optimization\\venv\\lib\\site-packages\\kedro\\ipython\\__init__.py\u001b\\\u001b[2m__init__.py\u001b[0m\u001b]8;;\u001b\\\u001b[2m:\u001b[0m\u001b]8;id=252631;file://c:\\Users\\Sixia\\healthhub-content-optimization\\venv\\lib\\site-packages\\kedro\\ipython\\__init__.py#58\u001b\\\u001b[2m58\u001b[0m\u001b]8;;\u001b\\\n"
      ]
     },
     "metadata": {},
     "output_type": "display_data"
    },
    {
     "data": {
      "text/html": [
       "<pre style=\"white-space:pre;overflow-x:auto;line-height:normal;font-family:Menlo,'DejaVu Sans Mono',consolas,'Courier New',monospace\"><span style=\"color: #7fbfbf; text-decoration-color: #7fbfbf\">                    </span><span style=\"color: #000080; text-decoration-color: #000080\">INFO    </span> Registered line magic <span style=\"color: #008000; text-decoration-color: #008000\">'%load_node'</span>                                      <a href=\"file://c:\\Users\\Sixia\\healthhub-content-optimization\\venv\\lib\\site-packages\\kedro\\ipython\\__init__.py\" target=\"_blank\"><span style=\"color: #7f7f7f; text-decoration-color: #7f7f7f\">__init__.py</span></a><span style=\"color: #7f7f7f; text-decoration-color: #7f7f7f\">:</span><a href=\"file://c:\\Users\\Sixia\\healthhub-content-optimization\\venv\\lib\\site-packages\\kedro\\ipython\\__init__.py#60\" target=\"_blank\"><span style=\"color: #7f7f7f; text-decoration-color: #7f7f7f\">60</span></a>\n",
       "</pre>\n"
      ],
      "text/plain": [
       "\u001b[2;36m                   \u001b[0m\u001b[2;36m \u001b[0m\u001b[34mINFO    \u001b[0m Registered line magic \u001b[32m'%load_node'\u001b[0m                                      \u001b]8;id=51155;file://c:\\Users\\Sixia\\healthhub-content-optimization\\venv\\lib\\site-packages\\kedro\\ipython\\__init__.py\u001b\\\u001b[2m__init__.py\u001b[0m\u001b]8;;\u001b\\\u001b[2m:\u001b[0m\u001b]8;id=317112;file://c:\\Users\\Sixia\\healthhub-content-optimization\\venv\\lib\\site-packages\\kedro\\ipython\\__init__.py#60\u001b\\\u001b[2m60\u001b[0m\u001b]8;;\u001b\\\n"
      ]
     },
     "metadata": {},
     "output_type": "display_data"
    },
    {
     "data": {
      "text/html": [
       "<pre style=\"white-space:pre;overflow-x:auto;line-height:normal;font-family:Menlo,'DejaVu Sans Mono',consolas,'Courier New',monospace\"><span style=\"color: #7fbfbf; text-decoration-color: #7fbfbf\">                    </span><span style=\"color: #000080; text-decoration-color: #000080\">INFO    </span> Resolved project path as:                                              <a href=\"file://c:\\Users\\Sixia\\healthhub-content-optimization\\venv\\lib\\site-packages\\kedro\\ipython\\__init__.py\" target=\"_blank\"><span style=\"color: #7f7f7f; text-decoration-color: #7f7f7f\">__init__.py</span></a><span style=\"color: #7f7f7f; text-decoration-color: #7f7f7f\">:</span><a href=\"file://c:\\Users\\Sixia\\healthhub-content-optimization\\venv\\lib\\site-packages\\kedro\\ipython\\__init__.py#175\" target=\"_blank\"><span style=\"color: #7f7f7f; text-decoration-color: #7f7f7f\">175</span></a>\n",
       "<span style=\"color: #7fbfbf; text-decoration-color: #7fbfbf\">                    </span>         c:\\Users\\Sixia\\healthhub-content-optimization\\content-optimization.    <span style=\"color: #7f7f7f; text-decoration-color: #7f7f7f\">               </span>\n",
       "<span style=\"color: #7fbfbf; text-decoration-color: #7fbfbf\">                    </span>         To set a different path, run <span style=\"color: #008000; text-decoration-color: #008000\">'%reload_kedro &lt;project_root&gt;'</span>            <span style=\"color: #7f7f7f; text-decoration-color: #7f7f7f\">               </span>\n",
       "</pre>\n"
      ],
      "text/plain": [
       "\u001b[2;36m                   \u001b[0m\u001b[2;36m \u001b[0m\u001b[34mINFO    \u001b[0m Resolved project path as:                                              \u001b]8;id=643825;file://c:\\Users\\Sixia\\healthhub-content-optimization\\venv\\lib\\site-packages\\kedro\\ipython\\__init__.py\u001b\\\u001b[2m__init__.py\u001b[0m\u001b]8;;\u001b\\\u001b[2m:\u001b[0m\u001b]8;id=228844;file://c:\\Users\\Sixia\\healthhub-content-optimization\\venv\\lib\\site-packages\\kedro\\ipython\\__init__.py#175\u001b\\\u001b[2m175\u001b[0m\u001b]8;;\u001b\\\n",
       "\u001b[2;36m                    \u001b[0m         c:\\Users\\Sixia\\healthhub-content-optimization\\content-optimization.    \u001b[2m               \u001b[0m\n",
       "\u001b[2;36m                    \u001b[0m         To set a different path, run \u001b[32m'%reload_kedro \u001b[0m\u001b[32m<\u001b[0m\u001b[32mproject_root\u001b[0m\u001b[32m>\u001b[0m\u001b[32m'\u001b[0m            \u001b[2m               \u001b[0m\n"
      ]
     },
     "metadata": {},
     "output_type": "display_data"
    },
    {
     "data": {
      "text/html": [
       "<pre style=\"white-space:pre;overflow-x:auto;line-height:normal;font-family:Menlo,'DejaVu Sans Mono',consolas,'Courier New',monospace\"><span style=\"color: #7fbfbf; text-decoration-color: #7fbfbf\">[08/28/24 16:28:18] </span><span style=\"color: #000080; text-decoration-color: #000080\">INFO    </span> Kedro project Content Optimization                                     <a href=\"file://c:\\Users\\Sixia\\healthhub-content-optimization\\venv\\lib\\site-packages\\kedro\\ipython\\__init__.py\" target=\"_blank\"><span style=\"color: #7f7f7f; text-decoration-color: #7f7f7f\">__init__.py</span></a><span style=\"color: #7f7f7f; text-decoration-color: #7f7f7f\">:</span><a href=\"file://c:\\Users\\Sixia\\healthhub-content-optimization\\venv\\lib\\site-packages\\kedro\\ipython\\__init__.py#141\" target=\"_blank\"><span style=\"color: #7f7f7f; text-decoration-color: #7f7f7f\">141</span></a>\n",
       "</pre>\n"
      ],
      "text/plain": [
       "\u001b[2;36m[08/28/24 16:28:18]\u001b[0m\u001b[2;36m \u001b[0m\u001b[34mINFO    \u001b[0m Kedro project Content Optimization                                     \u001b]8;id=168915;file://c:\\Users\\Sixia\\healthhub-content-optimization\\venv\\lib\\site-packages\\kedro\\ipython\\__init__.py\u001b\\\u001b[2m__init__.py\u001b[0m\u001b]8;;\u001b\\\u001b[2m:\u001b[0m\u001b]8;id=33444;file://c:\\Users\\Sixia\\healthhub-content-optimization\\venv\\lib\\site-packages\\kedro\\ipython\\__init__.py#141\u001b\\\u001b[2m141\u001b[0m\u001b]8;;\u001b\\\n"
      ]
     },
     "metadata": {},
     "output_type": "display_data"
    },
    {
     "data": {
      "text/html": [
       "<pre style=\"white-space:pre;overflow-x:auto;line-height:normal;font-family:Menlo,'DejaVu Sans Mono',consolas,'Courier New',monospace\"><span style=\"color: #7fbfbf; text-decoration-color: #7fbfbf\">                    </span><span style=\"color: #000080; text-decoration-color: #000080\">INFO    </span> Defined global variable <span style=\"color: #008000; text-decoration-color: #008000\">'context'</span>, <span style=\"color: #008000; text-decoration-color: #008000\">'session'</span>, <span style=\"color: #008000; text-decoration-color: #008000\">'catalog'</span> and            <a href=\"file://c:\\Users\\Sixia\\healthhub-content-optimization\\venv\\lib\\site-packages\\kedro\\ipython\\__init__.py\" target=\"_blank\"><span style=\"color: #7f7f7f; text-decoration-color: #7f7f7f\">__init__.py</span></a><span style=\"color: #7f7f7f; text-decoration-color: #7f7f7f\">:</span><a href=\"file://c:\\Users\\Sixia\\healthhub-content-optimization\\venv\\lib\\site-packages\\kedro\\ipython\\__init__.py#142\" target=\"_blank\"><span style=\"color: #7f7f7f; text-decoration-color: #7f7f7f\">142</span></a>\n",
       "<span style=\"color: #7fbfbf; text-decoration-color: #7fbfbf\">                    </span>         <span style=\"color: #008000; text-decoration-color: #008000\">'pipelines'</span>                                                            <span style=\"color: #7f7f7f; text-decoration-color: #7f7f7f\">               </span>\n",
       "</pre>\n"
      ],
      "text/plain": [
       "\u001b[2;36m                   \u001b[0m\u001b[2;36m \u001b[0m\u001b[34mINFO    \u001b[0m Defined global variable \u001b[32m'context'\u001b[0m, \u001b[32m'session'\u001b[0m, \u001b[32m'catalog'\u001b[0m and            \u001b]8;id=839762;file://c:\\Users\\Sixia\\healthhub-content-optimization\\venv\\lib\\site-packages\\kedro\\ipython\\__init__.py\u001b\\\u001b[2m__init__.py\u001b[0m\u001b]8;;\u001b\\\u001b[2m:\u001b[0m\u001b]8;id=379917;file://c:\\Users\\Sixia\\healthhub-content-optimization\\venv\\lib\\site-packages\\kedro\\ipython\\__init__.py#142\u001b\\\u001b[2m142\u001b[0m\u001b]8;;\u001b\\\n",
       "\u001b[2;36m                    \u001b[0m         \u001b[32m'pipelines'\u001b[0m                                                            \u001b[2m               \u001b[0m\n"
      ]
     },
     "metadata": {},
     "output_type": "display_data"
    },
    {
     "data": {
      "text/html": [
       "<pre style=\"white-space:pre;overflow-x:auto;line-height:normal;font-family:Menlo,'DejaVu Sans Mono',consolas,'Courier New',monospace\"><span style=\"color: #7fbfbf; text-decoration-color: #7fbfbf\">[08/28/24 16:28:21] </span><span style=\"color: #000080; text-decoration-color: #000080\">INFO    </span> Registered line magic <span style=\"color: #008000; text-decoration-color: #008000\">'run_viz'</span>                                        <a href=\"file://c:\\Users\\Sixia\\healthhub-content-optimization\\venv\\lib\\site-packages\\kedro\\ipython\\__init__.py\" target=\"_blank\"><span style=\"color: #7f7f7f; text-decoration-color: #7f7f7f\">__init__.py</span></a><span style=\"color: #7f7f7f; text-decoration-color: #7f7f7f\">:</span><a href=\"file://c:\\Users\\Sixia\\healthhub-content-optimization\\venv\\lib\\site-packages\\kedro\\ipython\\__init__.py#148\" target=\"_blank\"><span style=\"color: #7f7f7f; text-decoration-color: #7f7f7f\">148</span></a>\n",
       "</pre>\n"
      ],
      "text/plain": [
       "\u001b[2;36m[08/28/24 16:28:21]\u001b[0m\u001b[2;36m \u001b[0m\u001b[34mINFO    \u001b[0m Registered line magic \u001b[32m'run_viz'\u001b[0m                                        \u001b]8;id=991603;file://c:\\Users\\Sixia\\healthhub-content-optimization\\venv\\lib\\site-packages\\kedro\\ipython\\__init__.py\u001b\\\u001b[2m__init__.py\u001b[0m\u001b]8;;\u001b\\\u001b[2m:\u001b[0m\u001b]8;id=692169;file://c:\\Users\\Sixia\\healthhub-content-optimization\\venv\\lib\\site-packages\\kedro\\ipython\\__init__.py#148\u001b\\\u001b[2m148\u001b[0m\u001b]8;;\u001b\\\n"
      ]
     },
     "metadata": {},
     "output_type": "display_data"
    }
   ],
   "source": [
    "%load_ext kedro.ipython"
   ]
  },
  {
   "cell_type": "code",
   "execution_count": 3,
   "metadata": {},
   "outputs": [],
   "source": [
    "export_folder_path = r\"..\\data\\08_reporting\"\n",
    "input_folder_path = r\"..\\data\\01_raw\\annotated_contents\""
   ]
  },
  {
   "cell_type": "markdown",
   "metadata": {},
   "source": [
    "### Get IDs for optimisation\n",
    "- Take into account HH user annotation in `Stage 1 user annotation for HPB_HHcomments_20Aug24.xlsx`\n",
    "- Remove all articles with the comment 'exclude-XXX' in `HH's team's comments` column"
   ]
  },
  {
   "cell_type": "code",
   "execution_count": 4,
   "metadata": {},
   "outputs": [
    {
     "data": {
      "text/html": [
       "<pre style=\"white-space:pre;overflow-x:auto;line-height:normal;font-family:Menlo,'DejaVu Sans Mono',consolas,'Courier New',monospace\"><span style=\"color: #7fbfbf; text-decoration-color: #7fbfbf\">[08/28/24 16:28:24] </span><span style=\"color: #800000; text-decoration-color: #800000\">WARNING </span> c:\\Users\\Sixia\\healthhub-content-optimization\\venv\\lib\\site-packages\\o <a href=\"file://C:\\Users\\Sixia\\AppData\\Local\\Programs\\Python\\Python310\\lib\\warnings.py\" target=\"_blank\"><span style=\"color: #7f7f7f; text-decoration-color: #7f7f7f\">warnings.py</span></a><span style=\"color: #7f7f7f; text-decoration-color: #7f7f7f\">:</span><a href=\"file://C:\\Users\\Sixia\\AppData\\Local\\Programs\\Python\\Python310\\lib\\warnings.py#109\" target=\"_blank\"><span style=\"color: #7f7f7f; text-decoration-color: #7f7f7f\">109</span></a>\n",
       "<span style=\"color: #7fbfbf; text-decoration-color: #7fbfbf\">                    </span>         penpyxl\\worksheet\\_reader.py:<span style=\"color: #008080; text-decoration-color: #008080; font-weight: bold\">329</span>: UserWarning: Data Validation         <span style=\"color: #7f7f7f; text-decoration-color: #7f7f7f\">               </span>\n",
       "<span style=\"color: #7fbfbf; text-decoration-color: #7fbfbf\">                    </span>         extension is not supported and will be removed                         <span style=\"color: #7f7f7f; text-decoration-color: #7f7f7f\">               </span>\n",
       "<span style=\"color: #7fbfbf; text-decoration-color: #7fbfbf\">                    </span>           <span style=\"color: #800080; text-decoration-color: #800080; font-weight: bold\">warn</span><span style=\"font-weight: bold\">(</span>msg<span style=\"font-weight: bold\">)</span>                                                            <span style=\"color: #7f7f7f; text-decoration-color: #7f7f7f\">               </span>\n",
       "<span style=\"color: #7fbfbf; text-decoration-color: #7fbfbf\">                    </span>                                                                                <span style=\"color: #7f7f7f; text-decoration-color: #7f7f7f\">               </span>\n",
       "</pre>\n"
      ],
      "text/plain": [
       "\u001b[2;36m[08/28/24 16:28:24]\u001b[0m\u001b[2;36m \u001b[0m\u001b[31mWARNING \u001b[0m c:\\Users\\Sixia\\healthhub-content-optimization\\venv\\lib\\site-packages\\o \u001b]8;id=349653;file://C:\\Users\\Sixia\\AppData\\Local\\Programs\\Python\\Python310\\lib\\warnings.py\u001b\\\u001b[2mwarnings.py\u001b[0m\u001b]8;;\u001b\\\u001b[2m:\u001b[0m\u001b]8;id=892164;file://C:\\Users\\Sixia\\AppData\\Local\\Programs\\Python\\Python310\\lib\\warnings.py#109\u001b\\\u001b[2m109\u001b[0m\u001b]8;;\u001b\\\n",
       "\u001b[2;36m                    \u001b[0m         penpyxl\\worksheet\\_reader.py:\u001b[1;36m329\u001b[0m: UserWarning: Data Validation         \u001b[2m               \u001b[0m\n",
       "\u001b[2;36m                    \u001b[0m         extension is not supported and will be removed                         \u001b[2m               \u001b[0m\n",
       "\u001b[2;36m                    \u001b[0m           \u001b[1;35mwarn\u001b[0m\u001b[1m(\u001b[0mmsg\u001b[1m)\u001b[0m                                                            \u001b[2m               \u001b[0m\n",
       "\u001b[2;36m                    \u001b[0m                                                                                \u001b[2m               \u001b[0m\n"
      ]
     },
     "metadata": {},
     "output_type": "display_data"
    },
    {
     "name": "stdout",
     "output_type": "stream",
     "text": [
      "\n",
      "Number of articles for optimisation:  244\n",
      "              content category  count\n",
      "2           cost-and-financing      1\n",
      "1      diseases-and-conditions     24\n",
      "0        live-healthy-articles    218\n",
      "3  medical-care-and-facilities      1\n"
     ]
    }
   ],
   "source": [
    "user_annotation = pd.read_excel(\n",
    "    input_folder_path + \"/Stage 1 user annotation for HPB_HHcomments_20Aug24.xlsx\",\n",
    "    sheet_name=3,\n",
    ")\n",
    "for_optimisation = user_annotation[\n",
    "    ~user_annotation[\"HH's team's comments\"].fillna(\"\").str.contains(\"exclude\")\n",
    "]\n",
    "\n",
    "for_optimisation_id = for_optimisation[[\"article_id\"]]\n",
    "print(\"\\nNumber of articles for optimisation: \", len(for_optimisation))\n",
    "for_optimisation_value_counts = (\n",
    "    for_optimisation[\"content category\"]\n",
    "    .value_counts()\n",
    "    .reset_index()\n",
    "    .sort_values(\"content category\")\n",
    ")\n",
    "print(for_optimisation_value_counts)  # to update data_count.xlsx\n",
    "\n",
    "export_path = os.path.join(export_folder_path, \"ids_for_optimisation.csv\")\n",
    "for_optimisation_id.to_csv(export_path, index=False)"
   ]
  },
  {
   "cell_type": "markdown",
   "metadata": {},
   "source": [
    "### Get updated blacklist\n",
    "\n",
    "1. Blacklist articles labelled as 'exclude' in `Stage 1 user annotation for HPB_HHcomments_20Aug24.xlsx`\n",
    "2. Blacklist 'Nasi Liwet with Brown Rice' article with 'recipe' as the reason"
   ]
  },
  {
   "cell_type": "code",
   "execution_count": 5,
   "metadata": {},
   "outputs": [
    {
     "data": {
      "text/html": [
       "<pre style=\"white-space:pre;overflow-x:auto;line-height:normal;font-family:Menlo,'DejaVu Sans Mono',consolas,'Courier New',monospace\"><span style=\"color: #7fbfbf; text-decoration-color: #7fbfbf\">                    </span><span style=\"color: #000080; text-decoration-color: #000080\">INFO    </span> Loading data from params:blacklist <span style=\"font-weight: bold\">(</span>MemoryDataset<span style=\"font-weight: bold\">)</span><span style=\"color: #808000; text-decoration-color: #808000\">...</span>              <a href=\"file://c:\\Users\\Sixia\\healthhub-content-optimization\\venv\\lib\\site-packages\\kedro\\io\\data_catalog.py\" target=\"_blank\"><span style=\"color: #7f7f7f; text-decoration-color: #7f7f7f\">data_catalog.py</span></a><span style=\"color: #7f7f7f; text-decoration-color: #7f7f7f\">:</span><a href=\"file://c:\\Users\\Sixia\\healthhub-content-optimization\\venv\\lib\\site-packages\\kedro\\io\\data_catalog.py#537\" target=\"_blank\"><span style=\"color: #7f7f7f; text-decoration-color: #7f7f7f\">537</span></a>\n",
       "</pre>\n"
      ],
      "text/plain": [
       "\u001b[2;36m                   \u001b[0m\u001b[2;36m \u001b[0m\u001b[34mINFO    \u001b[0m Loading data from params:blacklist \u001b[1m(\u001b[0mMemoryDataset\u001b[1m)\u001b[0m\u001b[33m...\u001b[0m              \u001b]8;id=964427;file://c:\\Users\\Sixia\\healthhub-content-optimization\\venv\\lib\\site-packages\\kedro\\io\\data_catalog.py\u001b\\\u001b[2mdata_catalog.py\u001b[0m\u001b]8;;\u001b\\\u001b[2m:\u001b[0m\u001b]8;id=331334;file://c:\\Users\\Sixia\\healthhub-content-optimization\\venv\\lib\\site-packages\\kedro\\io\\data_catalog.py#537\u001b\\\u001b[2m537\u001b[0m\u001b]8;;\u001b\\\n"
      ]
     },
     "metadata": {},
     "output_type": "display_data"
    },
    {
     "name": "stdout",
     "output_type": "stream",
     "text": [
      "No. of articles to add on for blacklist:  32\n"
     ]
    },
    {
     "data": {
      "text/html": [
       "<pre style=\"white-space:pre;overflow-x:auto;line-height:normal;font-family:Menlo,'DejaVu Sans Mono',consolas,'Courier New',monospace\"><span style=\"color: #7fbfbf; text-decoration-color: #7fbfbf\">                    </span><span style=\"color: #000080; text-decoration-color: #000080\">INFO    </span> Loading data from merged_data <span style=\"font-weight: bold\">(</span>ParquetDataset<span style=\"font-weight: bold\">)</span><span style=\"color: #808000; text-decoration-color: #808000\">...</span>                  <a href=\"file://c:\\Users\\Sixia\\healthhub-content-optimization\\venv\\lib\\site-packages\\kedro\\io\\data_catalog.py\" target=\"_blank\"><span style=\"color: #7f7f7f; text-decoration-color: #7f7f7f\">data_catalog.py</span></a><span style=\"color: #7f7f7f; text-decoration-color: #7f7f7f\">:</span><a href=\"file://c:\\Users\\Sixia\\healthhub-content-optimization\\venv\\lib\\site-packages\\kedro\\io\\data_catalog.py#537\" target=\"_blank\"><span style=\"color: #7f7f7f; text-decoration-color: #7f7f7f\">537</span></a>\n",
       "</pre>\n"
      ],
      "text/plain": [
       "\u001b[2;36m                   \u001b[0m\u001b[2;36m \u001b[0m\u001b[34mINFO    \u001b[0m Loading data from merged_data \u001b[1m(\u001b[0mParquetDataset\u001b[1m)\u001b[0m\u001b[33m...\u001b[0m                  \u001b]8;id=830533;file://c:\\Users\\Sixia\\healthhub-content-optimization\\venv\\lib\\site-packages\\kedro\\io\\data_catalog.py\u001b\\\u001b[2mdata_catalog.py\u001b[0m\u001b]8;;\u001b\\\u001b[2m:\u001b[0m\u001b]8;id=251823;file://c:\\Users\\Sixia\\healthhub-content-optimization\\venv\\lib\\site-packages\\kedro\\io\\data_catalog.py#537\u001b\\\u001b[2m537\u001b[0m\u001b]8;;\u001b\\\n"
      ]
     },
     "metadata": {},
     "output_type": "display_data"
    },
    {
     "name": "stdout",
     "output_type": "stream",
     "text": [
      "           id                       title\n",
      "1505  1445657  Nasi Liwet with Brown Rice\n",
      "\n",
      "Number of articles in blacklist: 42\n"
     ]
    }
   ],
   "source": [
    "# Load current articles that are blacklisted\n",
    "\n",
    "initial_blacklist = catalog.load(\"params:blacklist\")  # noqa: F821\n",
    "initial_blacklist_df = pd.DataFrame(\n",
    "    list(initial_blacklist.items()), columns=[\"article_id\", \"remove_type\"]\n",
    ")\n",
    "\n",
    "# Concat initial blacklist with new blacklist\n",
    "to_exclude = user_annotation[\n",
    "    user_annotation[\"HH's team's comments\"].fillna(\"\").str.contains(\"exclude\")\n",
    "]\n",
    "to_exclude = to_exclude[[\"article_id\", \"HH's team's comments\"]]\n",
    "to_exclude.columns = [\"article_id\", \"remove_type\"]\n",
    "print(\"No. of articles to add on for blacklist: \", len(to_exclude))\n",
    "to_exclude[\"remove_type\"] = to_exclude[\"remove_type\"].str.replace(\"exclude-\", \"\")\n",
    "to_exclude[\"remove_type\"] = to_exclude[\"remove_type\"].apply(lambda x: x.title())\n",
    "to_exclude[\"remove_type\"] = to_exclude[\"remove_type\"].str.replace(\n",
    "    \"No Relevant Content And Mainly Link\", \"No relevant content and mainly links\"\n",
    ")\n",
    "to_exclude[\"remove_type\"] = to_exclude[\"remove_type\"].str.replace(\n",
    "    \"Table Of Contents\", \"Table of Contents\"\n",
    ")\n",
    "blacklist_update = pd.concat([initial_blacklist_df, to_exclude])\n",
    "\n",
    "# Get article id of nasi liwet\n",
    "add_on_title_to_blacklist = [\"Nasi Liwet with Brown Rice\"]\n",
    "add_on_blacklist_lower = [title.lower() for title in add_on_title_to_blacklist]\n",
    "merged_data = catalog.load(\"merged_data\")  # noqa: F821\n",
    "add_on_blacklist_id_title = merged_data[\n",
    "    merged_data[\"title\"]\n",
    "    .str.lower()\n",
    "    .apply(\n",
    "        lambda x: any(\n",
    "            blacklist_title in x for blacklist_title in add_on_blacklist_lower\n",
    "        )\n",
    "    )\n",
    "][[\"id\", \"title\"]]\n",
    "print(add_on_blacklist_id_title)\n",
    "\n",
    "# Label the blacklist reason\n",
    "added_blacklist = {1445657: \"Recipe\"}\n",
    "added_blacklist_df = pd.DataFrame(\n",
    "    list(added_blacklist.items()), columns=[\"article_id\", \"remove_type\"]\n",
    ")\n",
    "\n",
    "# Update blacklist\n",
    "blacklist_update_2 = pd.concat([blacklist_update, added_blacklist_df])\n",
    "blacklist_update_2.sort_values(\"remove_type\", inplace=True)\n",
    "blacklist_update_2.drop_duplicates(\"article_id\", inplace=True)\n",
    "\n",
    "# Write new blacklist into a txt file\n",
    "export_path = os.path.join(export_folder_path, \"blacklist_update.txt\")\n",
    "with open(export_path, \"w\") as file:\n",
    "    for i, row in blacklist_update_2.iterrows():\n",
    "        file.write(f\"{row['article_id']}: \\\"{row['remove_type']}\\\"\\n\")\n",
    "\n",
    "print(\"\\nNumber of articles in blacklist:\", blacklist_update_2.shape[0])"
   ]
  },
  {
   "cell_type": "markdown",
   "metadata": {},
   "source": [
    "### Before proceeding:\n",
    "\n",
    "1. Paste the updated blacklist (`blacklist_update.txt`) into `parameters_data_processing.yml`\n",
    "2. Run `kedro run --pipeline=data_processing` to obtain the updated `merged_data.parquet`"
   ]
  },
  {
   "cell_type": "code",
   "execution_count": 6,
   "metadata": {},
   "outputs": [
    {
     "data": {
      "text/html": [
       "<pre style=\"white-space:pre;overflow-x:auto;line-height:normal;font-family:Menlo,'DejaVu Sans Mono',consolas,'Courier New',monospace\"><span style=\"color: #7fbfbf; text-decoration-color: #7fbfbf\">                    </span><span style=\"color: #000080; text-decoration-color: #000080\">INFO    </span> Resolved project path as:                                              <a href=\"file://c:\\Users\\Sixia\\healthhub-content-optimization\\venv\\lib\\site-packages\\kedro\\ipython\\__init__.py\" target=\"_blank\"><span style=\"color: #7f7f7f; text-decoration-color: #7f7f7f\">__init__.py</span></a><span style=\"color: #7f7f7f; text-decoration-color: #7f7f7f\">:</span><a href=\"file://c:\\Users\\Sixia\\healthhub-content-optimization\\venv\\lib\\site-packages\\kedro\\ipython\\__init__.py#175\" target=\"_blank\"><span style=\"color: #7f7f7f; text-decoration-color: #7f7f7f\">175</span></a>\n",
       "<span style=\"color: #7fbfbf; text-decoration-color: #7fbfbf\">                    </span>         C:\\Users\\Sixia\\healthhub-content-optimization\\content-optimization.    <span style=\"color: #7f7f7f; text-decoration-color: #7f7f7f\">               </span>\n",
       "<span style=\"color: #7fbfbf; text-decoration-color: #7fbfbf\">                    </span>         To set a different path, run <span style=\"color: #008000; text-decoration-color: #008000\">'%reload_kedro &lt;project_root&gt;'</span>            <span style=\"color: #7f7f7f; text-decoration-color: #7f7f7f\">               </span>\n",
       "</pre>\n"
      ],
      "text/plain": [
       "\u001b[2;36m                   \u001b[0m\u001b[2;36m \u001b[0m\u001b[34mINFO    \u001b[0m Resolved project path as:                                              \u001b]8;id=69272;file://c:\\Users\\Sixia\\healthhub-content-optimization\\venv\\lib\\site-packages\\kedro\\ipython\\__init__.py\u001b\\\u001b[2m__init__.py\u001b[0m\u001b]8;;\u001b\\\u001b[2m:\u001b[0m\u001b]8;id=45364;file://c:\\Users\\Sixia\\healthhub-content-optimization\\venv\\lib\\site-packages\\kedro\\ipython\\__init__.py#175\u001b\\\u001b[2m175\u001b[0m\u001b]8;;\u001b\\\n",
       "\u001b[2;36m                    \u001b[0m         C:\\Users\\Sixia\\healthhub-content-optimization\\content-optimization.    \u001b[2m               \u001b[0m\n",
       "\u001b[2;36m                    \u001b[0m         To set a different path, run \u001b[32m'%reload_kedro \u001b[0m\u001b[32m<\u001b[0m\u001b[32mproject_root\u001b[0m\u001b[32m>\u001b[0m\u001b[32m'\u001b[0m            \u001b[2m               \u001b[0m\n"
      ]
     },
     "metadata": {},
     "output_type": "display_data"
    },
    {
     "data": {
      "text/html": [
       "<pre style=\"white-space:pre;overflow-x:auto;line-height:normal;font-family:Menlo,'DejaVu Sans Mono',consolas,'Courier New',monospace\"><span style=\"color: #7fbfbf; text-decoration-color: #7fbfbf\">[08/28/24 16:28:26] </span><span style=\"color: #000080; text-decoration-color: #000080\">INFO    </span> Kedro project Content Optimization                                     <a href=\"file://c:\\Users\\Sixia\\healthhub-content-optimization\\venv\\lib\\site-packages\\kedro\\ipython\\__init__.py\" target=\"_blank\"><span style=\"color: #7f7f7f; text-decoration-color: #7f7f7f\">__init__.py</span></a><span style=\"color: #7f7f7f; text-decoration-color: #7f7f7f\">:</span><a href=\"file://c:\\Users\\Sixia\\healthhub-content-optimization\\venv\\lib\\site-packages\\kedro\\ipython\\__init__.py#141\" target=\"_blank\"><span style=\"color: #7f7f7f; text-decoration-color: #7f7f7f\">141</span></a>\n",
       "</pre>\n"
      ],
      "text/plain": [
       "\u001b[2;36m[08/28/24 16:28:26]\u001b[0m\u001b[2;36m \u001b[0m\u001b[34mINFO    \u001b[0m Kedro project Content Optimization                                     \u001b]8;id=966534;file://c:\\Users\\Sixia\\healthhub-content-optimization\\venv\\lib\\site-packages\\kedro\\ipython\\__init__.py\u001b\\\u001b[2m__init__.py\u001b[0m\u001b]8;;\u001b\\\u001b[2m:\u001b[0m\u001b]8;id=608963;file://c:\\Users\\Sixia\\healthhub-content-optimization\\venv\\lib\\site-packages\\kedro\\ipython\\__init__.py#141\u001b\\\u001b[2m141\u001b[0m\u001b]8;;\u001b\\\n"
      ]
     },
     "metadata": {},
     "output_type": "display_data"
    },
    {
     "data": {
      "text/html": [
       "<pre style=\"white-space:pre;overflow-x:auto;line-height:normal;font-family:Menlo,'DejaVu Sans Mono',consolas,'Courier New',monospace\"><span style=\"color: #7fbfbf; text-decoration-color: #7fbfbf\">                    </span><span style=\"color: #000080; text-decoration-color: #000080\">INFO    </span> Defined global variable <span style=\"color: #008000; text-decoration-color: #008000\">'context'</span>, <span style=\"color: #008000; text-decoration-color: #008000\">'session'</span>, <span style=\"color: #008000; text-decoration-color: #008000\">'catalog'</span> and            <a href=\"file://c:\\Users\\Sixia\\healthhub-content-optimization\\venv\\lib\\site-packages\\kedro\\ipython\\__init__.py\" target=\"_blank\"><span style=\"color: #7f7f7f; text-decoration-color: #7f7f7f\">__init__.py</span></a><span style=\"color: #7f7f7f; text-decoration-color: #7f7f7f\">:</span><a href=\"file://c:\\Users\\Sixia\\healthhub-content-optimization\\venv\\lib\\site-packages\\kedro\\ipython\\__init__.py#142\" target=\"_blank\"><span style=\"color: #7f7f7f; text-decoration-color: #7f7f7f\">142</span></a>\n",
       "<span style=\"color: #7fbfbf; text-decoration-color: #7fbfbf\">                    </span>         <span style=\"color: #008000; text-decoration-color: #008000\">'pipelines'</span>                                                            <span style=\"color: #7f7f7f; text-decoration-color: #7f7f7f\">               </span>\n",
       "</pre>\n"
      ],
      "text/plain": [
       "\u001b[2;36m                   \u001b[0m\u001b[2;36m \u001b[0m\u001b[34mINFO    \u001b[0m Defined global variable \u001b[32m'context'\u001b[0m, \u001b[32m'session'\u001b[0m, \u001b[32m'catalog'\u001b[0m and            \u001b]8;id=193139;file://c:\\Users\\Sixia\\healthhub-content-optimization\\venv\\lib\\site-packages\\kedro\\ipython\\__init__.py\u001b\\\u001b[2m__init__.py\u001b[0m\u001b]8;;\u001b\\\u001b[2m:\u001b[0m\u001b]8;id=576625;file://c:\\Users\\Sixia\\healthhub-content-optimization\\venv\\lib\\site-packages\\kedro\\ipython\\__init__.py#142\u001b\\\u001b[2m142\u001b[0m\u001b]8;;\u001b\\\n",
       "\u001b[2;36m                    \u001b[0m         \u001b[32m'pipelines'\u001b[0m                                                            \u001b[2m               \u001b[0m\n"
      ]
     },
     "metadata": {},
     "output_type": "display_data"
    },
    {
     "data": {
      "text/html": [
       "<pre style=\"white-space:pre;overflow-x:auto;line-height:normal;font-family:Menlo,'DejaVu Sans Mono',consolas,'Courier New',monospace\"><span style=\"color: #7fbfbf; text-decoration-color: #7fbfbf\">                    </span><span style=\"color: #000080; text-decoration-color: #000080\">INFO    </span> Registered line magic <span style=\"color: #008000; text-decoration-color: #008000\">'run_viz'</span>                                        <a href=\"file://c:\\Users\\Sixia\\healthhub-content-optimization\\venv\\lib\\site-packages\\kedro\\ipython\\__init__.py\" target=\"_blank\"><span style=\"color: #7f7f7f; text-decoration-color: #7f7f7f\">__init__.py</span></a><span style=\"color: #7f7f7f; text-decoration-color: #7f7f7f\">:</span><a href=\"file://c:\\Users\\Sixia\\healthhub-content-optimization\\venv\\lib\\site-packages\\kedro\\ipython\\__init__.py#148\" target=\"_blank\"><span style=\"color: #7f7f7f; text-decoration-color: #7f7f7f\">148</span></a>\n",
       "</pre>\n"
      ],
      "text/plain": [
       "\u001b[2;36m                   \u001b[0m\u001b[2;36m \u001b[0m\u001b[34mINFO    \u001b[0m Registered line magic \u001b[32m'run_viz'\u001b[0m                                        \u001b]8;id=987856;file://c:\\Users\\Sixia\\healthhub-content-optimization\\venv\\lib\\site-packages\\kedro\\ipython\\__init__.py\u001b\\\u001b[2m__init__.py\u001b[0m\u001b]8;;\u001b\\\u001b[2m:\u001b[0m\u001b]8;id=769623;file://c:\\Users\\Sixia\\healthhub-content-optimization\\venv\\lib\\site-packages\\kedro\\ipython\\__init__.py#148\u001b\\\u001b[2m148\u001b[0m\u001b]8;;\u001b\\\n"
      ]
     },
     "metadata": {},
     "output_type": "display_data"
    }
   ],
   "source": [
    "%reload_kedro"
   ]
  },
  {
   "cell_type": "markdown",
   "metadata": {},
   "source": [
    "### Get Excluded Articles Tab and Data Count"
   ]
  },
  {
   "cell_type": "code",
   "execution_count": 22,
   "metadata": {},
   "outputs": [
    {
     "data": {
      "text/html": [
       "<pre style=\"white-space:pre;overflow-x:auto;line-height:normal;font-family:Menlo,'DejaVu Sans Mono',consolas,'Courier New',monospace\"><span style=\"color: #7fbfbf; text-decoration-color: #7fbfbf\">[08/28/24 17:05:49] </span><span style=\"color: #000080; text-decoration-color: #000080\">INFO    </span> Loading data from merged_data <span style=\"font-weight: bold\">(</span>ParquetDataset<span style=\"font-weight: bold\">)</span><span style=\"color: #808000; text-decoration-color: #808000\">...</span>                  <a href=\"file://c:\\Users\\Sixia\\healthhub-content-optimization\\venv\\lib\\site-packages\\kedro\\io\\data_catalog.py\" target=\"_blank\"><span style=\"color: #7f7f7f; text-decoration-color: #7f7f7f\">data_catalog.py</span></a><span style=\"color: #7f7f7f; text-decoration-color: #7f7f7f\">:</span><a href=\"file://c:\\Users\\Sixia\\healthhub-content-optimization\\venv\\lib\\site-packages\\kedro\\io\\data_catalog.py#537\" target=\"_blank\"><span style=\"color: #7f7f7f; text-decoration-color: #7f7f7f\">537</span></a>\n",
       "</pre>\n"
      ],
      "text/plain": [
       "\u001b[2;36m[08/28/24 17:05:49]\u001b[0m\u001b[2;36m \u001b[0m\u001b[34mINFO    \u001b[0m Loading data from merged_data \u001b[1m(\u001b[0mParquetDataset\u001b[1m)\u001b[0m\u001b[33m...\u001b[0m                  \u001b]8;id=905994;file://c:\\Users\\Sixia\\healthhub-content-optimization\\venv\\lib\\site-packages\\kedro\\io\\data_catalog.py\u001b\\\u001b[2mdata_catalog.py\u001b[0m\u001b]8;;\u001b\\\u001b[2m:\u001b[0m\u001b]8;id=291341;file://c:\\Users\\Sixia\\healthhub-content-optimization\\venv\\lib\\site-packages\\kedro\\io\\data_catalog.py#537\u001b\\\u001b[2m537\u001b[0m\u001b]8;;\u001b\\\n"
      ]
     },
     "metadata": {},
     "output_type": "display_data"
    },
    {
     "name": "stdout",
     "output_type": "stream",
     "text": [
      "(704, 39)\n",
      "\n",
      "Value Counts Before Filtering: \n",
      "\n",
      "              content_category  count\n",
      "3           cost-and-financing      1\n",
      "1      diseases-and-conditions     42\n",
      "0        live-healthy-articles    659\n",
      "2  medical-care-and-facilities      2\n",
      "\n",
      "Value Counts of to_remove articles: 76 \n",
      "\n",
      "          content_category  count\n",
      "1  diseases-and-conditions      3\n",
      "0    live-healthy-articles     73\n"
     ]
    },
    {
     "data": {
      "text/html": [
       "<pre style=\"white-space:pre;overflow-x:auto;line-height:normal;font-family:Menlo,'DejaVu Sans Mono',consolas,'Courier New',monospace\"></pre>\n"
      ],
      "text/plain": []
     },
     "metadata": {},
     "output_type": "display_data"
    },
    {
     "data": {
      "text/html": [
       "<div>\n",
       "<style scoped>\n",
       "    .dataframe tbody tr th:only-of-type {\n",
       "        vertical-align: middle;\n",
       "    }\n",
       "\n",
       "    .dataframe tbody tr th {\n",
       "        vertical-align: top;\n",
       "    }\n",
       "\n",
       "    .dataframe thead th {\n",
       "        text-align: right;\n",
       "    }\n",
       "</style>\n",
       "<table border=\"1\" class=\"dataframe\">\n",
       "  <thead>\n",
       "    <tr style=\"text-align: right;\">\n",
       "      <th></th>\n",
       "      <th>id</th>\n",
       "      <th>remove_type</th>\n",
       "    </tr>\n",
       "  </thead>\n",
       "  <tbody>\n",
       "    <tr>\n",
       "      <th>657</th>\n",
       "      <td>1444417</td>\n",
       "      <td>Duplicated URL</td>\n",
       "    </tr>\n",
       "    <tr>\n",
       "      <th>1067</th>\n",
       "      <td>1445629</td>\n",
       "      <td>Duplicated URL</td>\n",
       "    </tr>\n",
       "    <tr>\n",
       "      <th>1370</th>\n",
       "      <td>1445829</td>\n",
       "      <td>Recipe</td>\n",
       "    </tr>\n",
       "    <tr>\n",
       "      <th>1515</th>\n",
       "      <td>1445972</td>\n",
       "      <td>Duplicated Content</td>\n",
       "    </tr>\n",
       "  </tbody>\n",
       "</table>\n",
       "</div>"
      ],
      "text/plain": [
       "\n",
       "           id         remove_type\n",
       "\u001b[1;36m657\u001b[0m   \u001b[1;36m1444417\u001b[0m      Duplicated URL\n",
       "\u001b[1;36m1067\u001b[0m  \u001b[1;36m1445629\u001b[0m      Duplicated URL\n",
       "\u001b[1;36m1370\u001b[0m  \u001b[1;36m1445829\u001b[0m              Recipe\n",
       "\u001b[1;36m1515\u001b[0m  \u001b[1;36m1445972\u001b[0m  Duplicated Content"
      ]
     },
     "metadata": {},
     "output_type": "display_data"
    },
    {
     "name": "stdout",
     "output_type": "stream",
     "text": [
      "\n",
      "\n",
      "Value Counts Before Filtering (Exclude Duplicated):\n",
      "               content_category  count\n",
      "0           cost-and-financing      1\n",
      "1      diseases-and-conditions     42\n",
      "2        live-healthy-articles    655\n",
      "3  medical-care-and-facilities      2\n",
      "\n",
      "\n",
      "Value Counts of to_remove articles (Exclude Duplicated):\n",
      "          content_category  count\n",
      "1  diseases-and-conditions      3\n",
      "0    live-healthy-articles     69\n"
     ]
    }
   ],
   "source": [
    "merged_data = catalog.load(\"merged_data\")  # noqa: F821\n",
    "merged_data_HPB = merged_data[\n",
    "    merged_data[\"pr_name\"].fillna(\"\").str.contains(\"Health Promotion Board\")\n",
    "]\n",
    "to_keep_content_category = [\n",
    "    \"cost-and-financing\",\n",
    "    \"diseases-and-conditions\",\n",
    "    \"live-healthy-articles\",\n",
    "    \"medical-care-and-facilities\",\n",
    "    \"support-group-and-others\",\n",
    "]\n",
    "merged_data_HPB_cat = merged_data_HPB[\n",
    "    merged_data_HPB[\"content_category\"].isin(to_keep_content_category)\n",
    "]\n",
    "print(merged_data_HPB_cat.shape)\n",
    "\n",
    "print(\n",
    "    \"\\nValue Counts Before Filtering: \\n\"\n",
    ")  # data_count.xlsx - 'HPB raw data count in excel'\n",
    "hpb_raw_value_counts = (\n",
    "    merged_data_HPB_cat.content_category.value_counts()\n",
    "    .reset_index()\n",
    "    .sort_values(\"content_category\")\n",
    ")\n",
    "print(hpb_raw_value_counts)\n",
    "to_remove = merged_data_HPB_cat[merged_data_HPB_cat[\"to_remove\"]]\n",
    "to_remove_value_counts = (\n",
    "    to_remove.content_category.value_counts()\n",
    "    .reset_index()\n",
    "    .sort_values(\"content_category\")\n",
    ")\n",
    "\n",
    "print(\n",
    "    \"\\nValue Counts of to_remove articles:\", len(to_remove), \"\\n\"\n",
    ")  # data_count.xlsx - 'to_remove articles (final)'\n",
    "print(to_remove_value_counts)\n",
    "\n",
    "\n",
    "## Exclude tab to exclude those duplicated URL and content articles (considered backend issues)\n",
    "additional_exclusion_from_excluded_tab = [\n",
    "    1444417,\n",
    "    1445629,\n",
    "    1445972,\n",
    "    1445829,\n",
    "]  # 1445829 - sayur lodeh tagged as recipe but is also duplicated\n",
    "exclude_tab = to_remove[\n",
    "    [\n",
    "        \"id\",\n",
    "        \"title\",\n",
    "        \"full_url\",\n",
    "        \"content_category\",\n",
    "        \"page_views\",\n",
    "        \"article_category_names\",\n",
    "        \"remove_type\",\n",
    "    ]\n",
    "]\n",
    "exclude_tab = exclude_tab[~exclude_tab.id.isin(additional_exclusion_from_excluded_tab)]\n",
    "exclude_tab_value_counts = (\n",
    "    exclude_tab.content_category.value_counts()\n",
    "    .reset_index()\n",
    "    .sort_values(\"content_category\")\n",
    ")\n",
    "hpb_raw_value_counts_exclude_duplicated = merged_data_HPB_cat[\n",
    "    ~merged_data_HPB_cat.id.isin(additional_exclusion_from_excluded_tab)\n",
    "].content_category.value_counts()\n",
    "hpb_raw_value_counts_exclude_duplicated = (\n",
    "    pd.DataFrame(hpb_raw_value_counts_exclude_duplicated)\n",
    "    .sort_values(\"content_category\")\n",
    "    .reset_index()\n",
    ")\n",
    "print(\n",
    "    \"\\n\\nValue Counts Before Filtering (Exclude Duplicated):\\n\",\n",
    "    hpb_raw_value_counts_exclude_duplicated,\n",
    ")\n",
    "print(\"\\n\\nValue Counts of to_remove articles (Exclude Duplicated):\")\n",
    "print(exclude_tab_value_counts)\n",
    "export_path = os.path.join(export_folder_path, \"excluded_content_tab.csv\")\n",
    "\n",
    "exclude_tab = exclude_tab[['id','title','full_url','content_category','article_category_names','page_views','remove_type']]\n",
    "exclude_tab.rename(columns={'id':'article_id','full_url':'url','remove_type':'removal_reason'}, inplace=True)\n",
    "exclude_tab.to_csv(export_path, index=False)"
   ]
  },
  {
   "cell_type": "code",
   "execution_count": 8,
   "metadata": {},
   "outputs": [
    {
     "name": "stdout",
     "output_type": "stream",
     "text": [
      "                                         remove_type  count\n",
      "0                                 Duplicated Content      1\n",
      "1                                     Duplicated URL      2\n",
      "2                                        Infographic     14\n",
      "3  LLM is unable to process content due to Azure'...      1\n",
      "4               No relevant content and mainly links      6\n",
      "5                                             Recipe     45\n",
      "6                                 Services Directory      3\n",
      "7                                  Table of Contents      4\n",
      "8                                              Total     76\n"
     ]
    }
   ],
   "source": [
    "# To update in data_count.xlsx - 'HPB only to_remove articles Counts (final)'\n",
    "remove_type_value_counts = (\n",
    "    pd.DataFrame(to_remove.remove_type.value_counts())\n",
    "    .sort_values(\"remove_type\")\n",
    "    .reset_index()\n",
    ")\n",
    "remove_type_value_counts\n",
    "\n",
    "# Add sum row\n",
    "total_sum = remove_type_value_counts[\"count\"].sum()\n",
    "total_row = pd.DataFrame([[\"Total\", total_sum]], columns=[\"remove_type\", \"count\"])\n",
    "remove_type_article_counts_df = pd.concat(\n",
    "    [remove_type_value_counts, total_row], ignore_index=True\n",
    ")\n",
    "print(remove_type_article_counts_df)"
   ]
  },
  {
   "cell_type": "markdown",
   "metadata": {},
   "source": [
    "### Sent for Clustering Data Count"
   ]
  },
  {
   "cell_type": "code",
   "execution_count": 9,
   "metadata": {},
   "outputs": [
    {
     "data": {
      "text/html": [
       "<pre style=\"white-space:pre;overflow-x:auto;line-height:normal;font-family:Menlo,'DejaVu Sans Mono',consolas,'Courier New',monospace\"><span style=\"color: #7fbfbf; text-decoration-color: #7fbfbf\">[08/28/24 16:28:27] </span><span style=\"color: #000080; text-decoration-color: #000080\">INFO    </span> Loading data from filtered_data_with_keywords <span style=\"font-weight: bold\">(</span>ParquetDataset<span style=\"font-weight: bold\">)</span><span style=\"color: #808000; text-decoration-color: #808000\">...</span>  <a href=\"file://c:\\Users\\Sixia\\healthhub-content-optimization\\venv\\lib\\site-packages\\kedro\\io\\data_catalog.py\" target=\"_blank\"><span style=\"color: #7f7f7f; text-decoration-color: #7f7f7f\">data_catalog.py</span></a><span style=\"color: #7f7f7f; text-decoration-color: #7f7f7f\">:</span><a href=\"file://c:\\Users\\Sixia\\healthhub-content-optimization\\venv\\lib\\site-packages\\kedro\\io\\data_catalog.py#537\" target=\"_blank\"><span style=\"color: #7f7f7f; text-decoration-color: #7f7f7f\">537</span></a>\n",
       "</pre>\n"
      ],
      "text/plain": [
       "\u001b[2;36m[08/28/24 16:28:27]\u001b[0m\u001b[2;36m \u001b[0m\u001b[34mINFO    \u001b[0m Loading data from filtered_data_with_keywords \u001b[1m(\u001b[0mParquetDataset\u001b[1m)\u001b[0m\u001b[33m...\u001b[0m  \u001b]8;id=9842;file://c:\\Users\\Sixia\\healthhub-content-optimization\\venv\\lib\\site-packages\\kedro\\io\\data_catalog.py\u001b\\\u001b[2mdata_catalog.py\u001b[0m\u001b]8;;\u001b\\\u001b[2m:\u001b[0m\u001b]8;id=854837;file://c:\\Users\\Sixia\\healthhub-content-optimization\\venv\\lib\\site-packages\\kedro\\io\\data_catalog.py#537\u001b\\\u001b[2m537\u001b[0m\u001b]8;;\u001b\\\n"
      ]
     },
     "metadata": {},
     "output_type": "display_data"
    },
    {
     "name": "stdout",
     "output_type": "stream",
     "text": [
      "No. of articles sent for clustering: 628\n",
      "              content_category  count\n",
      "3           cost-and-financing      1\n",
      "1      diseases-and-conditions     39\n",
      "0        live-healthy-articles    586\n",
      "2  medical-care-and-facilities      2\n"
     ]
    }
   ],
   "source": [
    "filtered_data_with_keywords = catalog.load(\"filtered_data_with_keywords\")  # noqa: F821\n",
    "print(\"No. of articles sent for clustering:\", len(filtered_data_with_keywords))\n",
    "cluster_value_counts = (\n",
    "    filtered_data_with_keywords.content_category.value_counts()\n",
    "    .reset_index()\n",
    "    .sort_values(\"content_category\")\n",
    ")\n",
    "print(cluster_value_counts)"
   ]
  },
  {
   "cell_type": "markdown",
   "metadata": {},
   "source": [
    "### (To Combine) Data Count\n",
    "- NOTE: This uses final_predicted_clusters from the first iteration that is sent to HH for annotation"
   ]
  },
  {
   "cell_type": "code",
   "execution_count": 10,
   "metadata": {},
   "outputs": [],
   "source": [
    "annotation = pd.read_excel(\n",
    "    input_folder_path + \"/user_annotation_25jul.xlsx\", sheet_name=1\n",
    ")\n",
    "annotation_indiv = annotation[\n",
    "    (annotation[\"Action\"] == \"Individual\") & (annotation[\"Algorithm remarks\"].notna())\n",
    "]\n",
    "\n",
    "first_cluster_result = pd.read_excel(\n",
    "    input_folder_path + \"/final_predicted_clusters (first iteration).xlsx\"\n",
    ")\n",
    "first_cluster_result_cluster = first_cluster_result[\n",
    "    first_cluster_result[\"group_keywords\"].notna()\n",
    "]\n",
    "\n",
    "# Remove those annotated by HH to be individual articles\n",
    "first_cluster_result_cluster = first_cluster_result_cluster[\n",
    "    ~first_cluster_result_cluster[\"id\"].isin(annotation_indiv.article_id)\n",
    "]\n",
    "\n",
    "# Remove those in blacklist\n",
    "blacklisted_articles_id = blacklist_update_2[\"article_id\"].to_list()\n",
    "first_cluster_result_cluster = first_cluster_result_cluster[\n",
    "    ~first_cluster_result_cluster[\"id\"].isin(blacklisted_articles_id)\n",
    "]\n",
    "\n",
    "first_cluster_result_cluster_id = first_cluster_result_cluster[\"id\"].to_list()\n",
    "whitelist_id = 1446081\n",
    "first_cluster_result_cluster_id.append(whitelist_id)\n",
    "first_cluster_result_cluster_w_cat = merged_data_HPB_cat[merged_data_HPB_cat.id.isin(first_cluster_result_cluster_id)][[\"id\", \"content_category\"]]\n",
    "to_combine_value_counts = (\n",
    "    first_cluster_result_cluster_w_cat[\"content_category\"]\n",
    "    .value_counts()\n",
    "    .reset_index()\n",
    "    .sort_values(\"content_category\")\n",
    ")"
   ]
  },
  {
   "cell_type": "markdown",
   "metadata": {},
   "source": [
    "### Consolidate Data Count"
   ]
  },
  {
   "cell_type": "code",
   "execution_count": 11,
   "metadata": {},
   "outputs": [],
   "source": [
    "hpb_raw_value_counts.columns = [\"content_category\", \"HPB raw data count in excel\"]\n",
    "hpb_raw_value_counts_exclude_duplicated.columns = [\n",
    "    \"content_category\",\n",
    "    \"HPB raw data count in excel (Excludes Duplicated)\",\n",
    "]\n",
    "to_remove_value_counts.columns = [\"content_category\", \"to_remove articles\"]\n",
    "exclude_tab_value_counts.columns = [\n",
    "    \"content_category\",\n",
    "    \"to_remove articles (Exclude Duplicated)\",\n",
    "]\n",
    "cluster_value_counts.columns = [\"content_category\", \"Sent for Clustering\"]\n",
    "to_combine_value_counts.columns = [\n",
    "    \"content_category\",\n",
    "    \"Articles in clusters identified\",\n",
    "]\n",
    "for_optimisation_value_counts.columns = [\n",
    "    \"content_category\",\n",
    "    \"individual for optimisation\",\n",
    "]"
   ]
  },
  {
   "cell_type": "code",
   "execution_count": 12,
   "metadata": {},
   "outputs": [
    {
     "data": {
      "text/html": [
       "<pre style=\"white-space:pre;overflow-x:auto;line-height:normal;font-family:Menlo,'DejaVu Sans Mono',consolas,'Courier New',monospace\"><span style=\"color: #7fbfbf; text-decoration-color: #7fbfbf\">[08/28/24 16:28:29] </span><span style=\"color: #800000; text-decoration-color: #800000\">WARNING </span> C:\\Users\\Sixia\\AppData\\Local\\Temp\\ipykernel_23988\\<span style=\"color: #008080; text-decoration-color: #008080; font-weight: bold\">4018932954.</span>py:<span style=\"color: #008080; text-decoration-color: #008080; font-weight: bold\">29</span>:    <a href=\"file://C:\\Users\\Sixia\\AppData\\Local\\Programs\\Python\\Python310\\lib\\warnings.py\" target=\"_blank\"><span style=\"color: #7f7f7f; text-decoration-color: #7f7f7f\">warnings.py</span></a><span style=\"color: #7f7f7f; text-decoration-color: #7f7f7f\">:</span><a href=\"file://C:\\Users\\Sixia\\AppData\\Local\\Programs\\Python\\Python310\\lib\\warnings.py#109\" target=\"_blank\"><span style=\"color: #7f7f7f; text-decoration-color: #7f7f7f\">109</span></a>\n",
       "<span style=\"color: #7fbfbf; text-decoration-color: #7fbfbf\">                    </span>         FutureWarning: Downcasting object dtype arrays on .fillna, .ffill,     <span style=\"color: #7f7f7f; text-decoration-color: #7f7f7f\">               </span>\n",
       "<span style=\"color: #7fbfbf; text-decoration-color: #7fbfbf\">                    </span>         .bfill is deprecated and will change in a future version. Call         <span style=\"color: #7f7f7f; text-decoration-color: #7f7f7f\">               </span>\n",
       "<span style=\"color: #7fbfbf; text-decoration-color: #7fbfbf\">                    </span>         <span style=\"color: #800080; text-decoration-color: #800080; font-weight: bold\">result.infer_objects</span><span style=\"font-weight: bold\">(</span><span style=\"color: #808000; text-decoration-color: #808000\">copy</span>=<span style=\"color: #ff0000; text-decoration-color: #ff0000; font-style: italic\">False</span><span style=\"font-weight: bold\">)</span> instead. To opt-in to the future      <span style=\"color: #7f7f7f; text-decoration-color: #7f7f7f\">               </span>\n",
       "<span style=\"color: #7fbfbf; text-decoration-color: #7fbfbf\">                    </span>         behavior, set `<span style=\"color: #800080; text-decoration-color: #800080; font-weight: bold\">pd.set_option</span><span style=\"font-weight: bold\">(</span><span style=\"color: #008000; text-decoration-color: #008000\">'future.no_silent_downcasting'</span>, <span style=\"color: #00ff00; text-decoration-color: #00ff00; font-style: italic\">True</span><span style=\"font-weight: bold\">)</span>`    <span style=\"color: #7f7f7f; text-decoration-color: #7f7f7f\">               </span>\n",
       "<span style=\"color: #7fbfbf; text-decoration-color: #7fbfbf\">                    </span>           combined_df = <span style=\"color: #800080; text-decoration-color: #800080; font-weight: bold\">combined_df.fillna</span><span style=\"font-weight: bold\">(</span><span style=\"color: #008080; text-decoration-color: #008080; font-weight: bold\">0</span><span style=\"font-weight: bold\">)</span>                                  <span style=\"color: #7f7f7f; text-decoration-color: #7f7f7f\">               </span>\n",
       "<span style=\"color: #7fbfbf; text-decoration-color: #7fbfbf\">                    </span>                                                                                <span style=\"color: #7f7f7f; text-decoration-color: #7f7f7f\">               </span>\n",
       "</pre>\n"
      ],
      "text/plain": [
       "\u001b[2;36m[08/28/24 16:28:29]\u001b[0m\u001b[2;36m \u001b[0m\u001b[31mWARNING \u001b[0m C:\\Users\\Sixia\\AppData\\Local\\Temp\\ipykernel_23988\\\u001b[1;36m4018932954.\u001b[0mpy:\u001b[1;36m29\u001b[0m:    \u001b]8;id=166295;file://C:\\Users\\Sixia\\AppData\\Local\\Programs\\Python\\Python310\\lib\\warnings.py\u001b\\\u001b[2mwarnings.py\u001b[0m\u001b]8;;\u001b\\\u001b[2m:\u001b[0m\u001b]8;id=513023;file://C:\\Users\\Sixia\\AppData\\Local\\Programs\\Python\\Python310\\lib\\warnings.py#109\u001b\\\u001b[2m109\u001b[0m\u001b]8;;\u001b\\\n",
       "\u001b[2;36m                    \u001b[0m         FutureWarning: Downcasting object dtype arrays on .fillna, .ffill,     \u001b[2m               \u001b[0m\n",
       "\u001b[2;36m                    \u001b[0m         .bfill is deprecated and will change in a future version. Call         \u001b[2m               \u001b[0m\n",
       "\u001b[2;36m                    \u001b[0m         \u001b[1;35mresult.infer_objects\u001b[0m\u001b[1m(\u001b[0m\u001b[33mcopy\u001b[0m=\u001b[3;91mFalse\u001b[0m\u001b[1m)\u001b[0m instead. To opt-in to the future      \u001b[2m               \u001b[0m\n",
       "\u001b[2;36m                    \u001b[0m         behavior, set `\u001b[1;35mpd.set_option\u001b[0m\u001b[1m(\u001b[0m\u001b[32m'future.no_silent_downcasting'\u001b[0m, \u001b[3;92mTrue\u001b[0m\u001b[1m)\u001b[0m`    \u001b[2m               \u001b[0m\n",
       "\u001b[2;36m                    \u001b[0m           combined_df = \u001b[1;35mcombined_df.fillna\u001b[0m\u001b[1m(\u001b[0m\u001b[1;36m0\u001b[0m\u001b[1m)\u001b[0m                                  \u001b[2m               \u001b[0m\n",
       "\u001b[2;36m                    \u001b[0m                                                                                \u001b[2m               \u001b[0m\n"
      ]
     },
     "metadata": {},
     "output_type": "display_data"
    }
   ],
   "source": [
    "combined_df = pd.concat(\n",
    "    [\n",
    "        hpb_raw_value_counts.set_index(\"content_category\"),\n",
    "        hpb_raw_value_counts_exclude_duplicated.set_index(\"content_category\"),\n",
    "        to_remove_value_counts.set_index(\"content_category\"),\n",
    "        exclude_tab_value_counts.set_index(\"content_category\"),\n",
    "        cluster_value_counts.set_index(\"content_category\"),\n",
    "        to_combine_value_counts.set_index(\"content_category\"),\n",
    "        for_optimisation_value_counts.set_index(\"content_category\"),\n",
    "    ],\n",
    "    axis=1,\n",
    "    join=\"outer\",\n",
    ").reset_index()\n",
    "\n",
    "# Add on the content category 'support group and others' as all are zeros\n",
    "support_grp = {col: 0 for col in combined_df.columns if col != \"content_category\"}\n",
    "support_grp[\"content_category\"] = \"support group and others\"\n",
    "new_row = pd.DataFrame([support_grp])\n",
    "combined_df = pd.concat([combined_df, new_row], ignore_index=True)\n",
    "\n",
    "\n",
    "# Calculate the sum for each numeric column\n",
    "sum_row = combined_df.sum(numeric_only=True)\n",
    "sum_row[\"content_category\"] = \"Total\"\n",
    "sum_row_df = pd.DataFrame(sum_row).T\n",
    "combined_df = pd.concat([combined_df, sum_row_df], ignore_index=True)\n",
    "\n",
    "combined_df[\"content_category\"] = combined_df[\"content_category\"].str.replace(\"-\", \" \")\n",
    "combined_df = combined_df.fillna(0)"
   ]
  },
  {
   "cell_type": "code",
   "execution_count": 13,
   "metadata": {},
   "outputs": [],
   "source": [
    "combined_df.to_csv(export_folder_path + \"/content_category_data_count.csv\", index=False)\n",
    "remove_type_article_counts_df.to_csv(\n",
    "    export_folder_path + \"/remove_type_data_count.csv\", index=False\n",
    ")"
   ]
  }
 ],
 "metadata": {
  "kernelspec": {
   "display_name": "venv",
   "language": "python",
   "name": "python3"
  },
  "language_info": {
   "codemirror_mode": {
    "name": "ipython",
    "version": 3
   },
   "file_extension": ".py",
   "mimetype": "text/x-python",
   "name": "python",
   "nbconvert_exporter": "python",
   "pygments_lexer": "ipython3",
   "version": "3.10.10"
  }
 },
 "nbformat": 4,
 "nbformat_minor": 2
}
