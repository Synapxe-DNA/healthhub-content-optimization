{
 "cells": [
  {
   "cell_type": "markdown",
   "metadata": {},
   "source": [
    "Purpose of this notebook is to perform Keyword Modelling on the smaller groups from `iQuit` to `Get Healthhub Track`\n",
    "\n",
    "Please run `group_program_subpages.ipynb` first to get the relevant excel file to run this notebook.\n",
    "\n",
    "Please check that there's a folder named `topic program subpages` created in this `notebooks` folder in order to store the created excels later on. If not, there is a cell under `Setup` to create the folder.\n",
    "\n",
    "<hr>"
   ]
  },
  {
   "cell_type": "markdown",
   "metadata": {},
   "source": [
    "## Setup"
   ]
  },
  {
   "cell_type": "code",
   "execution_count": 1,
   "metadata": {},
   "outputs": [
    {
     "data": {
      "text/html": [
       "<pre style=\"white-space:pre;overflow-x:auto;line-height:normal;font-family:Menlo,'DejaVu Sans Mono',consolas,'Courier New',monospace\"><span style=\"color: #7fbfbf; text-decoration-color: #7fbfbf\">[09/19/24 08:59:05] </span><span style=\"color: #000080; text-decoration-color: #000080\">INFO    </span> Using                                                                  <a href=\"file://c:\\Users\\hinat\\Desktop\\healthhub-content-optimization\\hhcontentopt-dev\\Lib\\site-packages\\kedro\\framework\\project\\__init__.py\" target=\"_blank\"><span style=\"color: #7f7f7f; text-decoration-color: #7f7f7f\">__init__.py</span></a><span style=\"color: #7f7f7f; text-decoration-color: #7f7f7f\">:</span><a href=\"file://c:\\Users\\hinat\\Desktop\\healthhub-content-optimization\\hhcontentopt-dev\\Lib\\site-packages\\kedro\\framework\\project\\__init__.py#249\" target=\"_blank\"><span style=\"color: #7f7f7f; text-decoration-color: #7f7f7f\">249</span></a>\n",
       "<span style=\"color: #7fbfbf; text-decoration-color: #7fbfbf\">                    </span>         <span style=\"color: #008000; text-decoration-color: #008000\">'c:\\Users\\hinat\\Desktop\\healthhub-content-optimization\\hhcontentopt-de</span> <span style=\"color: #7f7f7f; text-decoration-color: #7f7f7f\">               </span>\n",
       "<span style=\"color: #7fbfbf; text-decoration-color: #7fbfbf\">                    </span>         <span style=\"color: #008000; text-decoration-color: #008000\">v\\Lib\\site-packages\\kedro\\framework\\project\\rich_logging.yml'</span> as       <span style=\"color: #7f7f7f; text-decoration-color: #7f7f7f\">               </span>\n",
       "<span style=\"color: #7fbfbf; text-decoration-color: #7fbfbf\">                    </span>         logging configuration.                                                 <span style=\"color: #7f7f7f; text-decoration-color: #7f7f7f\">               </span>\n",
       "</pre>\n"
      ],
      "text/plain": [
       "\u001b[2;36m[09/19/24 08:59:05]\u001b[0m\u001b[2;36m \u001b[0m\u001b[34mINFO    \u001b[0m Using                                                                  \u001b]8;id=689449;file://c:\\Users\\hinat\\Desktop\\healthhub-content-optimization\\hhcontentopt-dev\\Lib\\site-packages\\kedro\\framework\\project\\__init__.py\u001b\\\u001b[2m__init__.py\u001b[0m\u001b]8;;\u001b\\\u001b[2m:\u001b[0m\u001b]8;id=488428;file://c:\\Users\\hinat\\Desktop\\healthhub-content-optimization\\hhcontentopt-dev\\Lib\\site-packages\\kedro\\framework\\project\\__init__.py#249\u001b\\\u001b[2m249\u001b[0m\u001b]8;;\u001b\\\n",
       "\u001b[2;36m                    \u001b[0m         \u001b[32m'c:\\Users\\hinat\\Desktop\\healthhub-content-optimization\\hhcontentopt-de\u001b[0m \u001b[2m               \u001b[0m\n",
       "\u001b[2;36m                    \u001b[0m         \u001b[32mv\\Lib\\site-packages\\kedro\\framework\\project\\rich_logging.yml'\u001b[0m as       \u001b[2m               \u001b[0m\n",
       "\u001b[2;36m                    \u001b[0m         logging configuration.                                                 \u001b[2m               \u001b[0m\n"
      ]
     },
     "metadata": {},
     "output_type": "display_data"
    },
    {
     "data": {
      "text/html": [
       "<pre style=\"white-space:pre;overflow-x:auto;line-height:normal;font-family:Menlo,'DejaVu Sans Mono',consolas,'Courier New',monospace\"><span style=\"color: #7fbfbf; text-decoration-color: #7fbfbf\">                    </span><span style=\"color: #000080; text-decoration-color: #000080\">INFO    </span> Registered line magic <span style=\"color: #008000; text-decoration-color: #008000\">'%reload_kedro'</span>                                   <a href=\"file://c:\\Users\\hinat\\Desktop\\healthhub-content-optimization\\hhcontentopt-dev\\Lib\\site-packages\\kedro\\ipython\\__init__.py\" target=\"_blank\"><span style=\"color: #7f7f7f; text-decoration-color: #7f7f7f\">__init__.py</span></a><span style=\"color: #7f7f7f; text-decoration-color: #7f7f7f\">:</span><a href=\"file://c:\\Users\\hinat\\Desktop\\healthhub-content-optimization\\hhcontentopt-dev\\Lib\\site-packages\\kedro\\ipython\\__init__.py#58\" target=\"_blank\"><span style=\"color: #7f7f7f; text-decoration-color: #7f7f7f\">58</span></a>\n",
       "</pre>\n"
      ],
      "text/plain": [
       "\u001b[2;36m                   \u001b[0m\u001b[2;36m \u001b[0m\u001b[34mINFO    \u001b[0m Registered line magic \u001b[32m'%reload_kedro'\u001b[0m                                   \u001b]8;id=643746;file://c:\\Users\\hinat\\Desktop\\healthhub-content-optimization\\hhcontentopt-dev\\Lib\\site-packages\\kedro\\ipython\\__init__.py\u001b\\\u001b[2m__init__.py\u001b[0m\u001b]8;;\u001b\\\u001b[2m:\u001b[0m\u001b]8;id=109223;file://c:\\Users\\hinat\\Desktop\\healthhub-content-optimization\\hhcontentopt-dev\\Lib\\site-packages\\kedro\\ipython\\__init__.py#58\u001b\\\u001b[2m58\u001b[0m\u001b]8;;\u001b\\\n"
      ]
     },
     "metadata": {},
     "output_type": "display_data"
    },
    {
     "data": {
      "text/html": [
       "<pre style=\"white-space:pre;overflow-x:auto;line-height:normal;font-family:Menlo,'DejaVu Sans Mono',consolas,'Courier New',monospace\"><span style=\"color: #7fbfbf; text-decoration-color: #7fbfbf\">                    </span><span style=\"color: #000080; text-decoration-color: #000080\">INFO    </span> Registered line magic <span style=\"color: #008000; text-decoration-color: #008000\">'%load_node'</span>                                      <a href=\"file://c:\\Users\\hinat\\Desktop\\healthhub-content-optimization\\hhcontentopt-dev\\Lib\\site-packages\\kedro\\ipython\\__init__.py\" target=\"_blank\"><span style=\"color: #7f7f7f; text-decoration-color: #7f7f7f\">__init__.py</span></a><span style=\"color: #7f7f7f; text-decoration-color: #7f7f7f\">:</span><a href=\"file://c:\\Users\\hinat\\Desktop\\healthhub-content-optimization\\hhcontentopt-dev\\Lib\\site-packages\\kedro\\ipython\\__init__.py#60\" target=\"_blank\"><span style=\"color: #7f7f7f; text-decoration-color: #7f7f7f\">60</span></a>\n",
       "</pre>\n"
      ],
      "text/plain": [
       "\u001b[2;36m                   \u001b[0m\u001b[2;36m \u001b[0m\u001b[34mINFO    \u001b[0m Registered line magic \u001b[32m'%load_node'\u001b[0m                                      \u001b]8;id=626411;file://c:\\Users\\hinat\\Desktop\\healthhub-content-optimization\\hhcontentopt-dev\\Lib\\site-packages\\kedro\\ipython\\__init__.py\u001b\\\u001b[2m__init__.py\u001b[0m\u001b]8;;\u001b\\\u001b[2m:\u001b[0m\u001b]8;id=699881;file://c:\\Users\\hinat\\Desktop\\healthhub-content-optimization\\hhcontentopt-dev\\Lib\\site-packages\\kedro\\ipython\\__init__.py#60\u001b\\\u001b[2m60\u001b[0m\u001b]8;;\u001b\\\n"
      ]
     },
     "metadata": {},
     "output_type": "display_data"
    },
    {
     "data": {
      "text/html": [
       "<pre style=\"white-space:pre;overflow-x:auto;line-height:normal;font-family:Menlo,'DejaVu Sans Mono',consolas,'Courier New',monospace\"><span style=\"color: #7fbfbf; text-decoration-color: #7fbfbf\">                    </span><span style=\"color: #000080; text-decoration-color: #000080\">INFO    </span> Resolved project path as:                                              <a href=\"file://c:\\Users\\hinat\\Desktop\\healthhub-content-optimization\\hhcontentopt-dev\\Lib\\site-packages\\kedro\\ipython\\__init__.py\" target=\"_blank\"><span style=\"color: #7f7f7f; text-decoration-color: #7f7f7f\">__init__.py</span></a><span style=\"color: #7f7f7f; text-decoration-color: #7f7f7f\">:</span><a href=\"file://c:\\Users\\hinat\\Desktop\\healthhub-content-optimization\\hhcontentopt-dev\\Lib\\site-packages\\kedro\\ipython\\__init__.py#175\" target=\"_blank\"><span style=\"color: #7f7f7f; text-decoration-color: #7f7f7f\">175</span></a>\n",
       "<span style=\"color: #7fbfbf; text-decoration-color: #7fbfbf\">                    </span>         c:\\Users\\hinat\\Desktop\\healthhub-content-optimization\\content-optimiza <span style=\"color: #7f7f7f; text-decoration-color: #7f7f7f\">               </span>\n",
       "<span style=\"color: #7fbfbf; text-decoration-color: #7fbfbf\">                    </span>         tion.                                                                  <span style=\"color: #7f7f7f; text-decoration-color: #7f7f7f\">               </span>\n",
       "<span style=\"color: #7fbfbf; text-decoration-color: #7fbfbf\">                    </span>         To set a different path, run <span style=\"color: #008000; text-decoration-color: #008000\">'%reload_kedro &lt;project_root&gt;'</span>            <span style=\"color: #7f7f7f; text-decoration-color: #7f7f7f\">               </span>\n",
       "</pre>\n"
      ],
      "text/plain": [
       "\u001b[2;36m                   \u001b[0m\u001b[2;36m \u001b[0m\u001b[34mINFO    \u001b[0m Resolved project path as:                                              \u001b]8;id=444670;file://c:\\Users\\hinat\\Desktop\\healthhub-content-optimization\\hhcontentopt-dev\\Lib\\site-packages\\kedro\\ipython\\__init__.py\u001b\\\u001b[2m__init__.py\u001b[0m\u001b]8;;\u001b\\\u001b[2m:\u001b[0m\u001b]8;id=250780;file://c:\\Users\\hinat\\Desktop\\healthhub-content-optimization\\hhcontentopt-dev\\Lib\\site-packages\\kedro\\ipython\\__init__.py#175\u001b\\\u001b[2m175\u001b[0m\u001b]8;;\u001b\\\n",
       "\u001b[2;36m                    \u001b[0m         c:\\Users\\hinat\\Desktop\\healthhub-content-optimization\\content-optimiza \u001b[2m               \u001b[0m\n",
       "\u001b[2;36m                    \u001b[0m         tion.                                                                  \u001b[2m               \u001b[0m\n",
       "\u001b[2;36m                    \u001b[0m         To set a different path, run \u001b[32m'%reload_kedro \u001b[0m\u001b[32m<\u001b[0m\u001b[32mproject_root\u001b[0m\u001b[32m>\u001b[0m\u001b[32m'\u001b[0m            \u001b[2m               \u001b[0m\n"
      ]
     },
     "metadata": {},
     "output_type": "display_data"
    },
    {
     "data": {
      "text/html": [
       "<pre style=\"white-space:pre;overflow-x:auto;line-height:normal;font-family:Menlo,'DejaVu Sans Mono',consolas,'Courier New',monospace\"><span style=\"color: #7fbfbf; text-decoration-color: #7fbfbf\">[09/19/24 08:59:12] </span><span style=\"color: #808000; text-decoration-color: #808000\">WARNING </span> c:\\Users\\hinat\\Desktop\\healthhub-content-optimization\\hhcontentopt-dev <span style=\"color: #7f7f7f; text-decoration-color: #7f7f7f\">warnings.py:110</span>\n",
       "<span style=\"color: #7fbfbf; text-decoration-color: #7fbfbf\">                    </span>         \\Lib\\site-packages\\kedro\\framework\\project\\__init__.py:<span style=\"color: #008080; text-decoration-color: #008080; font-weight: bold\">429</span>:            <span style=\"color: #7f7f7f; text-decoration-color: #7f7f7f\">               </span>\n",
       "<span style=\"color: #7fbfbf; text-decoration-color: #7fbfbf\">                    </span>         UserWarning: An error occurred while importing the                     <span style=\"color: #7f7f7f; text-decoration-color: #7f7f7f\">               </span>\n",
       "<span style=\"color: #7fbfbf; text-decoration-color: #7fbfbf\">                    </span>         <span style=\"color: #008000; text-decoration-color: #008000\">'content_optimization.pipelines.azure_rag'</span> module. Nothing defined     <span style=\"color: #7f7f7f; text-decoration-color: #7f7f7f\">               </span>\n",
       "<span style=\"color: #7fbfbf; text-decoration-color: #7fbfbf\">                    </span>         therein will be returned by <span style=\"color: #008000; text-decoration-color: #008000\">'find_pipelines'</span>.                          <span style=\"color: #7f7f7f; text-decoration-color: #7f7f7f\">               </span>\n",
       "<span style=\"color: #7fbfbf; text-decoration-color: #7fbfbf\">                    </span>                                                                                <span style=\"color: #7f7f7f; text-decoration-color: #7f7f7f\">               </span>\n",
       "<span style=\"color: #7fbfbf; text-decoration-color: #7fbfbf\">                    </span>         Traceback <span style=\"font-weight: bold\">(</span>most recent call last<span style=\"font-weight: bold\">)</span>:                                     <span style=\"color: #7f7f7f; text-decoration-color: #7f7f7f\">               </span>\n",
       "<span style=\"color: #7fbfbf; text-decoration-color: #7fbfbf\">                    </span>           File                                                                 <span style=\"color: #7f7f7f; text-decoration-color: #7f7f7f\">               </span>\n",
       "<span style=\"color: #7fbfbf; text-decoration-color: #7fbfbf\">                    </span>         <span style=\"color: #008000; text-decoration-color: #008000\">\"c:\\Users\\hinat\\Desktop\\healthhub-content-optimization\\hhcontentopt-de</span> <span style=\"color: #7f7f7f; text-decoration-color: #7f7f7f\">               </span>\n",
       "<span style=\"color: #7fbfbf; text-decoration-color: #7fbfbf\">                    </span>         <span style=\"color: #008000; text-decoration-color: #008000\">v\\Lib\\site-packages\\kedro\\framework\\project\\__init__.py\"</span>, line <span style=\"color: #008080; text-decoration-color: #008080; font-weight: bold\">421</span>, in <span style=\"color: #7f7f7f; text-decoration-color: #7f7f7f\">               </span>\n",
       "<span style=\"color: #7fbfbf; text-decoration-color: #7fbfbf\">                    </span>         find_pipelines                                                         <span style=\"color: #7f7f7f; text-decoration-color: #7f7f7f\">               </span>\n",
       "<span style=\"color: #7fbfbf; text-decoration-color: #7fbfbf\">                    </span>             pipeline_module = <span style=\"color: #800080; text-decoration-color: #800080; font-weight: bold\">importlib.import_module</span><span style=\"font-weight: bold\">(</span>pipeline_module_name<span style=\"font-weight: bold\">)</span>    <span style=\"color: #7f7f7f; text-decoration-color: #7f7f7f\">               </span>\n",
       "<span style=\"color: #7fbfbf; text-decoration-color: #7fbfbf\">                    </span>                               ^^^^^^^^^^^^^^^^^^^^^^^^^^^^^^^^^^^^^^^^^^^^^    <span style=\"color: #7f7f7f; text-decoration-color: #7f7f7f\">               </span>\n",
       "<span style=\"color: #7fbfbf; text-decoration-color: #7fbfbf\">                    </span>           File <span style=\"color: #008000; text-decoration-color: #008000\">\"C:\\Program </span>                                                    <span style=\"color: #7f7f7f; text-decoration-color: #7f7f7f\">               </span>\n",
       "<span style=\"color: #7fbfbf; text-decoration-color: #7fbfbf\">                    </span>         <span style=\"color: #008000; text-decoration-color: #008000\">Files\\WindowsApps\\PythonSoftwareFoundation.Python.3.11_3.11.2544.0_x64</span> <span style=\"color: #7f7f7f; text-decoration-color: #7f7f7f\">               </span>\n",
       "<span style=\"color: #7fbfbf; text-decoration-color: #7fbfbf\">                    </span>         <span style=\"color: #008000; text-decoration-color: #008000\">__qbz5n2kfra8p0\\Lib\\importlib\\__init__.py\"</span>, line <span style=\"color: #008080; text-decoration-color: #008080; font-weight: bold\">126</span>, in import_module <span style=\"color: #7f7f7f; text-decoration-color: #7f7f7f\">               </span>\n",
       "<span style=\"color: #7fbfbf; text-decoration-color: #7fbfbf\">                    </span>             return <span style=\"color: #800080; text-decoration-color: #800080; font-weight: bold\">_bootstrap._gcd_import</span><span style=\"font-weight: bold\">(</span>name<span style=\"font-weight: bold\">[</span>level:<span style=\"font-weight: bold\">]</span>, package, level<span style=\"font-weight: bold\">)</span>        <span style=\"color: #7f7f7f; text-decoration-color: #7f7f7f\">               </span>\n",
       "<span style=\"color: #7fbfbf; text-decoration-color: #7fbfbf\">                    </span>                    ^^^^^^^^^^^^^^^^^^^^^^^^^^^^^^^^^^^^^^^^^^^^^^^^^^^^        <span style=\"color: #7f7f7f; text-decoration-color: #7f7f7f\">               </span>\n",
       "<span style=\"color: #7fbfbf; text-decoration-color: #7fbfbf\">                    </span>           File <span style=\"color: #008000; text-decoration-color: #008000\">\"&lt;frozen importlib._bootstrap&gt;\"</span><span style=\"color: #000000; text-decoration-color: #000000\">, line </span><span style=\"color: #008080; text-decoration-color: #008080; font-weight: bold\">1204</span><span style=\"color: #000000; text-decoration-color: #000000\">, in _gcd_import</span>      <span style=\"color: #7f7f7f; text-decoration-color: #7f7f7f\">               </span>\n",
       "<span style=\"color: #7fbfbf; text-decoration-color: #7fbfbf\">                    </span>         <span style=\"color: #000000; text-decoration-color: #000000\">  File </span><span style=\"color: #008000; text-decoration-color: #008000\">\"&lt;frozen importlib._bootstrap&gt;\"</span><span style=\"color: #000000; text-decoration-color: #000000\">, line </span><span style=\"color: #008080; text-decoration-color: #008080; font-weight: bold\">1176</span><span style=\"color: #000000; text-decoration-color: #000000\">, in _find_and_load</span>   <span style=\"color: #7f7f7f; text-decoration-color: #7f7f7f\">               </span>\n",
       "<span style=\"color: #7fbfbf; text-decoration-color: #7fbfbf\">                    </span>         <span style=\"color: #000000; text-decoration-color: #000000\">  File </span><span style=\"color: #008000; text-decoration-color: #008000\">\"&lt;frozen importlib._bootstrap&gt;\"</span><span style=\"color: #000000; text-decoration-color: #000000\">, line </span><span style=\"color: #008080; text-decoration-color: #008080; font-weight: bold\">1147</span><span style=\"color: #000000; text-decoration-color: #000000\">, in </span>                 <span style=\"color: #7f7f7f; text-decoration-color: #7f7f7f\">               </span>\n",
       "<span style=\"color: #7fbfbf; text-decoration-color: #7fbfbf\">                    </span>         <span style=\"color: #000000; text-decoration-color: #000000\">_find_and_load_unlocked</span>                                                <span style=\"color: #7f7f7f; text-decoration-color: #7f7f7f\">               </span>\n",
       "<span style=\"color: #7fbfbf; text-decoration-color: #7fbfbf\">                    </span>         <span style=\"color: #000000; text-decoration-color: #000000\">  File </span><span style=\"color: #008000; text-decoration-color: #008000\">\"&lt;frozen importlib._bootstrap&gt;\"</span><span style=\"color: #000000; text-decoration-color: #000000\">, line </span><span style=\"color: #008080; text-decoration-color: #008080; font-weight: bold\">690</span><span style=\"color: #000000; text-decoration-color: #000000\">, in _load_unlocked</span>    <span style=\"color: #7f7f7f; text-decoration-color: #7f7f7f\">               </span>\n",
       "<span style=\"color: #7fbfbf; text-decoration-color: #7fbfbf\">                    </span>         <span style=\"color: #000000; text-decoration-color: #000000\">  File </span><span style=\"color: #008000; text-decoration-color: #008000\">\"&lt;frozen importlib._bootstrap_external&gt;\"</span><span style=\"color: #000000; text-decoration-color: #000000\">, line </span><span style=\"color: #008080; text-decoration-color: #008080; font-weight: bold\">940</span><span style=\"color: #000000; text-decoration-color: #000000\">, in </span>         <span style=\"color: #7f7f7f; text-decoration-color: #7f7f7f\">               </span>\n",
       "<span style=\"color: #7fbfbf; text-decoration-color: #7fbfbf\">                    </span>         <span style=\"color: #000000; text-decoration-color: #000000\">exec_module</span>                                                            <span style=\"color: #7f7f7f; text-decoration-color: #7f7f7f\">               </span>\n",
       "<span style=\"color: #7fbfbf; text-decoration-color: #7fbfbf\">                    </span>         <span style=\"color: #000000; text-decoration-color: #000000\">  File </span><span style=\"color: #008000; text-decoration-color: #008000\">\"&lt;frozen importlib._bootstrap&gt;\"</span><span style=\"color: #000000; text-decoration-color: #000000\">, line </span><span style=\"color: #008080; text-decoration-color: #008080; font-weight: bold\">241</span><span style=\"color: #000000; text-decoration-color: #000000\">, in </span>                  <span style=\"color: #7f7f7f; text-decoration-color: #7f7f7f\">               </span>\n",
       "<span style=\"color: #7fbfbf; text-decoration-color: #7fbfbf\">                    </span>         <span style=\"color: #000000; text-decoration-color: #000000\">_call_with_frames_removed</span>                                              <span style=\"color: #7f7f7f; text-decoration-color: #7f7f7f\">               </span>\n",
       "<span style=\"color: #7fbfbf; text-decoration-color: #7fbfbf\">                    </span>         <span style=\"color: #000000; text-decoration-color: #000000\">  File </span>                                                                <span style=\"color: #7f7f7f; text-decoration-color: #7f7f7f\">               </span>\n",
       "<span style=\"color: #7fbfbf; text-decoration-color: #7fbfbf\">                    </span>         <span style=\"color: #008000; text-decoration-color: #008000\">\"C:\\Users\\hinat\\Desktop\\healthhub-content-optimization\\content-optimiz</span> <span style=\"color: #7f7f7f; text-decoration-color: #7f7f7f\">               </span>\n",
       "<span style=\"color: #7fbfbf; text-decoration-color: #7fbfbf\">                    </span>         <span style=\"color: #008000; text-decoration-color: #008000\">ation\\src\\content_optimization\\pipelines\\azure_rag\\__init__.py\"</span><span style=\"color: #000000; text-decoration-color: #000000\">, line </span> <span style=\"color: #7f7f7f; text-decoration-color: #7f7f7f\">               </span>\n",
       "<span style=\"color: #7fbfbf; text-decoration-color: #7fbfbf\">                    </span>         <span style=\"color: #008080; text-decoration-color: #008080; font-weight: bold\">6</span><span style=\"color: #000000; text-decoration-color: #000000\">, in &lt;module&gt;</span>                                                         <span style=\"color: #7f7f7f; text-decoration-color: #7f7f7f\">               </span>\n",
       "<span style=\"color: #7fbfbf; text-decoration-color: #7fbfbf\">                    </span>         <span style=\"color: #000000; text-decoration-color: #000000\">    from .pipeline import create_pipeline</span>                              <span style=\"color: #7f7f7f; text-decoration-color: #7f7f7f\">               </span>\n",
       "<span style=\"color: #7fbfbf; text-decoration-color: #7fbfbf\">                    </span>         <span style=\"color: #000000; text-decoration-color: #000000\">  File </span>                                                                <span style=\"color: #7f7f7f; text-decoration-color: #7f7f7f\">               </span>\n",
       "<span style=\"color: #7fbfbf; text-decoration-color: #7fbfbf\">                    </span>         <span style=\"color: #008000; text-decoration-color: #008000\">\"C:\\Users\\hinat\\Desktop\\healthhub-content-optimization\\content-optimiz</span> <span style=\"color: #7f7f7f; text-decoration-color: #7f7f7f\">               </span>\n",
       "<span style=\"color: #7fbfbf; text-decoration-color: #7fbfbf\">                    </span>         <span style=\"color: #008000; text-decoration-color: #008000\">ation\\src\\content_optimization\\pipelines\\azure_rag\\pipeline.py\"</span><span style=\"color: #000000; text-decoration-color: #000000\">, line </span> <span style=\"color: #7f7f7f; text-decoration-color: #7f7f7f\">               </span>\n",
       "<span style=\"color: #7fbfbf; text-decoration-color: #7fbfbf\">                    </span>         <span style=\"color: #008080; text-decoration-color: #008080; font-weight: bold\">6</span><span style=\"color: #000000; text-decoration-color: #000000\">, in &lt;module&gt;</span>                                                         <span style=\"color: #7f7f7f; text-decoration-color: #7f7f7f\">               </span>\n",
       "<span style=\"color: #7fbfbf; text-decoration-color: #7fbfbf\">                    </span>         <span style=\"color: #000000; text-decoration-color: #000000\">    from content_optimization.pipelines.azure_rag.nodes import </span><span style=\"color: #000000; text-decoration-color: #000000; font-weight: bold\">(</span>       <span style=\"color: #7f7f7f; text-decoration-color: #7f7f7f\">               </span>\n",
       "<span style=\"color: #7fbfbf; text-decoration-color: #7fbfbf\">                    </span>         <span style=\"color: #000000; text-decoration-color: #000000\">  File </span>                                                                <span style=\"color: #7f7f7f; text-decoration-color: #7f7f7f\">               </span>\n",
       "<span style=\"color: #7fbfbf; text-decoration-color: #7fbfbf\">                    </span>         <span style=\"color: #008000; text-decoration-color: #008000\">\"C:\\Users\\hinat\\Desktop\\healthhub-content-optimization\\content-optimiz</span> <span style=\"color: #7f7f7f; text-decoration-color: #7f7f7f\">               </span>\n",
       "<span style=\"color: #7fbfbf; text-decoration-color: #7fbfbf\">                    </span>         <span style=\"color: #008000; text-decoration-color: #008000\">ation\\src\\content_optimization\\pipelines\\azure_rag\\nodes.py\"</span><span style=\"color: #000000; text-decoration-color: #000000\">, line </span><span style=\"color: #008080; text-decoration-color: #008080; font-weight: bold\">9</span><span style=\"color: #000000; text-decoration-color: #000000\">, </span> <span style=\"color: #7f7f7f; text-decoration-color: #7f7f7f\">               </span>\n",
       "<span style=\"color: #7fbfbf; text-decoration-color: #7fbfbf\">                    </span>         <span style=\"color: #000000; text-decoration-color: #000000\">in &lt;module&gt;</span>                                                            <span style=\"color: #7f7f7f; text-decoration-color: #7f7f7f\">               </span>\n",
       "<span style=\"color: #7fbfbf; text-decoration-color: #7fbfbf\">                    </span>         <span style=\"color: #000000; text-decoration-color: #000000\">    from content_optimization.pipelines.azure_rag.llm_extraction </span>      <span style=\"color: #7f7f7f; text-decoration-color: #7f7f7f\">               </span>\n",
       "<span style=\"color: #7fbfbf; text-decoration-color: #7fbfbf\">                    </span>         <span style=\"color: #000000; text-decoration-color: #000000\">import ask</span>                                                             <span style=\"color: #7f7f7f; text-decoration-color: #7f7f7f\">               </span>\n",
       "<span style=\"color: #7fbfbf; text-decoration-color: #7fbfbf\">                    </span>         <span style=\"color: #000000; text-decoration-color: #000000\">  File </span>                                                                <span style=\"color: #7f7f7f; text-decoration-color: #7f7f7f\">               </span>\n",
       "<span style=\"color: #7fbfbf; text-decoration-color: #7fbfbf\">                    </span>         <span style=\"color: #008000; text-decoration-color: #008000\">\"C:\\Users\\hinat\\Desktop\\healthhub-content-optimization\\content-optimiz</span> <span style=\"color: #7f7f7f; text-decoration-color: #7f7f7f\">               </span>\n",
       "<span style=\"color: #7fbfbf; text-decoration-color: #7fbfbf\">                    </span>         <span style=\"color: #008000; text-decoration-color: #008000\">ation\\src\\content_optimization\\pipelines\\azure_rag\\llm_extraction.py\"</span><span style=\"color: #000000; text-decoration-color: #000000\">,</span> <span style=\"color: #7f7f7f; text-decoration-color: #7f7f7f\">               </span>\n",
       "<span style=\"color: #7fbfbf; text-decoration-color: #7fbfbf\">                    </span>         <span style=\"color: #000000; text-decoration-color: #000000\"> line </span><span style=\"color: #008080; text-decoration-color: #008080; font-weight: bold\">3</span><span style=\"color: #000000; text-decoration-color: #000000\">, in &lt;module</span><span style=\"font-weight: bold\">&gt;</span>                                                   <span style=\"color: #7f7f7f; text-decoration-color: #7f7f7f\">               </span>\n",
       "<span style=\"color: #7fbfbf; text-decoration-color: #7fbfbf\">                    </span>             from azure.identity import DefaultAzureCredential,                 <span style=\"color: #7f7f7f; text-decoration-color: #7f7f7f\">               </span>\n",
       "<span style=\"color: #7fbfbf; text-decoration-color: #7fbfbf\">                    </span>         get_bearer_token_provider                                              <span style=\"color: #7f7f7f; text-decoration-color: #7f7f7f\">               </span>\n",
       "<span style=\"color: #7fbfbf; text-decoration-color: #7fbfbf\">                    </span>         ModuleNotFoundError: No module named <span style=\"color: #008000; text-decoration-color: #008000\">'azure'</span>                           <span style=\"color: #7f7f7f; text-decoration-color: #7f7f7f\">               </span>\n",
       "<span style=\"color: #7fbfbf; text-decoration-color: #7fbfbf\">                    </span>                                                                                <span style=\"color: #7f7f7f; text-decoration-color: #7f7f7f\">               </span>\n",
       "<span style=\"color: #7fbfbf; text-decoration-color: #7fbfbf\">                    </span>           <span style=\"color: #800080; text-decoration-color: #800080; font-weight: bold\">warnings.warn</span><span style=\"font-weight: bold\">(</span>                                                       <span style=\"color: #7f7f7f; text-decoration-color: #7f7f7f\">               </span>\n",
       "<span style=\"color: #7fbfbf; text-decoration-color: #7fbfbf\">                    </span>                                                                                <span style=\"color: #7f7f7f; text-decoration-color: #7f7f7f\">               </span>\n",
       "</pre>\n"
      ],
      "text/plain": [
       "\u001b[2;36m[09/19/24 08:59:12]\u001b[0m\u001b[2;36m \u001b[0m\u001b[33mWARNING \u001b[0m c:\\Users\\hinat\\Desktop\\healthhub-content-optimization\\hhcontentopt-dev \u001b[2mwarnings.py\u001b[0m\u001b[2m:\u001b[0m\u001b[2m110\u001b[0m\n",
       "\u001b[2;36m                    \u001b[0m         \\Lib\\site-packages\\kedro\\framework\\project\\__init__.py:\u001b[1;36m429\u001b[0m:            \u001b[2m               \u001b[0m\n",
       "\u001b[2;36m                    \u001b[0m         UserWarning: An error occurred while importing the                     \u001b[2m               \u001b[0m\n",
       "\u001b[2;36m                    \u001b[0m         \u001b[32m'content_optimization.pipelines.azure_rag'\u001b[0m module. Nothing defined     \u001b[2m               \u001b[0m\n",
       "\u001b[2;36m                    \u001b[0m         therein will be returned by \u001b[32m'find_pipelines'\u001b[0m.                          \u001b[2m               \u001b[0m\n",
       "\u001b[2;36m                    \u001b[0m                                                                                \u001b[2m               \u001b[0m\n",
       "\u001b[2;36m                    \u001b[0m         Traceback \u001b[1m(\u001b[0mmost recent call last\u001b[1m)\u001b[0m:                                     \u001b[2m               \u001b[0m\n",
       "\u001b[2;36m                    \u001b[0m           File                                                                 \u001b[2m               \u001b[0m\n",
       "\u001b[2;36m                    \u001b[0m         \u001b[32m\"c:\\Users\\hinat\\Desktop\\healthhub-content-optimization\\hhcontentopt-de\u001b[0m \u001b[2m               \u001b[0m\n",
       "\u001b[2;36m                    \u001b[0m         \u001b[32mv\\Lib\\site-packages\\kedro\\framework\\project\\__init__.py\"\u001b[0m, line \u001b[1;36m421\u001b[0m, in \u001b[2m               \u001b[0m\n",
       "\u001b[2;36m                    \u001b[0m         find_pipelines                                                         \u001b[2m               \u001b[0m\n",
       "\u001b[2;36m                    \u001b[0m             pipeline_module = \u001b[1;35mimportlib.import_module\u001b[0m\u001b[1m(\u001b[0mpipeline_module_name\u001b[1m)\u001b[0m    \u001b[2m               \u001b[0m\n",
       "\u001b[2;36m                    \u001b[0m                               ^^^^^^^^^^^^^^^^^^^^^^^^^^^^^^^^^^^^^^^^^^^^^    \u001b[2m               \u001b[0m\n",
       "\u001b[2;36m                    \u001b[0m           File \u001b[32m\"C:\\Program \u001b[0m                                                    \u001b[2m               \u001b[0m\n",
       "\u001b[2;36m                    \u001b[0m         \u001b[32mFiles\\WindowsApps\\PythonSoftwareFoundation.Python.3.11_3.11.2544.0_x64\u001b[0m \u001b[2m               \u001b[0m\n",
       "\u001b[2;36m                    \u001b[0m         \u001b[32m__qbz5n2kfra8p0\\Lib\\importlib\\__init__.py\"\u001b[0m, line \u001b[1;36m126\u001b[0m, in import_module \u001b[2m               \u001b[0m\n",
       "\u001b[2;36m                    \u001b[0m             return \u001b[1;35m_bootstrap._gcd_import\u001b[0m\u001b[1m(\u001b[0mname\u001b[1m[\u001b[0mlevel:\u001b[1m]\u001b[0m, package, level\u001b[1m)\u001b[0m        \u001b[2m               \u001b[0m\n",
       "\u001b[2;36m                    \u001b[0m                    ^^^^^^^^^^^^^^^^^^^^^^^^^^^^^^^^^^^^^^^^^^^^^^^^^^^^        \u001b[2m               \u001b[0m\n",
       "\u001b[2;36m                    \u001b[0m           File \u001b[32m\"\u001b[0m\u001b[32m<\u001b[0m\u001b[32mfrozen\u001b[0m\u001b[32m importlib._bootstrap>\"\u001b[0m\u001b[39m, line \u001b[0m\u001b[1;36m1204\u001b[0m\u001b[39m, in _gcd_import\u001b[0m      \u001b[2m               \u001b[0m\n",
       "\u001b[2;36m                    \u001b[0m         \u001b[39m  File \u001b[0m\u001b[32m\"<frozen importlib._bootstrap>\"\u001b[0m\u001b[39m, line \u001b[0m\u001b[1;36m1176\u001b[0m\u001b[39m, in _find_and_load\u001b[0m   \u001b[2m               \u001b[0m\n",
       "\u001b[2;36m                    \u001b[0m         \u001b[39m  File \u001b[0m\u001b[32m\"<frozen importlib._bootstrap>\"\u001b[0m\u001b[39m, line \u001b[0m\u001b[1;36m1147\u001b[0m\u001b[39m, in \u001b[0m                 \u001b[2m               \u001b[0m\n",
       "\u001b[2;36m                    \u001b[0m         \u001b[39m_find_and_load_unlocked\u001b[0m                                                \u001b[2m               \u001b[0m\n",
       "\u001b[2;36m                    \u001b[0m         \u001b[39m  File \u001b[0m\u001b[32m\"<frozen importlib._bootstrap>\"\u001b[0m\u001b[39m, line \u001b[0m\u001b[1;36m690\u001b[0m\u001b[39m, in _load_unlocked\u001b[0m    \u001b[2m               \u001b[0m\n",
       "\u001b[2;36m                    \u001b[0m         \u001b[39m  File \u001b[0m\u001b[32m\"<frozen importlib._bootstrap_external>\"\u001b[0m\u001b[39m, line \u001b[0m\u001b[1;36m940\u001b[0m\u001b[39m, in \u001b[0m         \u001b[2m               \u001b[0m\n",
       "\u001b[2;36m                    \u001b[0m         \u001b[39mexec_module\u001b[0m                                                            \u001b[2m               \u001b[0m\n",
       "\u001b[2;36m                    \u001b[0m         \u001b[39m  File \u001b[0m\u001b[32m\"<frozen importlib._bootstrap>\"\u001b[0m\u001b[39m, line \u001b[0m\u001b[1;36m241\u001b[0m\u001b[39m, in \u001b[0m                  \u001b[2m               \u001b[0m\n",
       "\u001b[2;36m                    \u001b[0m         \u001b[39m_call_with_frames_removed\u001b[0m                                              \u001b[2m               \u001b[0m\n",
       "\u001b[2;36m                    \u001b[0m         \u001b[39m  File \u001b[0m                                                                \u001b[2m               \u001b[0m\n",
       "\u001b[2;36m                    \u001b[0m         \u001b[32m\"C:\\Users\\hinat\\Desktop\\healthhub-content-optimization\\content-optimiz\u001b[0m \u001b[2m               \u001b[0m\n",
       "\u001b[2;36m                    \u001b[0m         \u001b[32mation\\src\\content_optimization\\pipelines\\azure_rag\\__init__.py\"\u001b[0m\u001b[39m, line \u001b[0m \u001b[2m               \u001b[0m\n",
       "\u001b[2;36m                    \u001b[0m         \u001b[1;36m6\u001b[0m\u001b[39m, in <module>\u001b[0m                                                         \u001b[2m               \u001b[0m\n",
       "\u001b[2;36m                    \u001b[0m         \u001b[39m    from .pipeline import create_pipeline\u001b[0m                              \u001b[2m               \u001b[0m\n",
       "\u001b[2;36m                    \u001b[0m         \u001b[39m  File \u001b[0m                                                                \u001b[2m               \u001b[0m\n",
       "\u001b[2;36m                    \u001b[0m         \u001b[32m\"C:\\Users\\hinat\\Desktop\\healthhub-content-optimization\\content-optimiz\u001b[0m \u001b[2m               \u001b[0m\n",
       "\u001b[2;36m                    \u001b[0m         \u001b[32mation\\src\\content_optimization\\pipelines\\azure_rag\\pipeline.py\"\u001b[0m\u001b[39m, line \u001b[0m \u001b[2m               \u001b[0m\n",
       "\u001b[2;36m                    \u001b[0m         \u001b[1;36m6\u001b[0m\u001b[39m, in <module>\u001b[0m                                                         \u001b[2m               \u001b[0m\n",
       "\u001b[2;36m                    \u001b[0m         \u001b[39m    from content_optimization.pipelines.azure_rag.nodes import \u001b[0m\u001b[1;39m(\u001b[0m       \u001b[2m               \u001b[0m\n",
       "\u001b[2;36m                    \u001b[0m         \u001b[39m  File \u001b[0m                                                                \u001b[2m               \u001b[0m\n",
       "\u001b[2;36m                    \u001b[0m         \u001b[32m\"C:\\Users\\hinat\\Desktop\\healthhub-content-optimization\\content-optimiz\u001b[0m \u001b[2m               \u001b[0m\n",
       "\u001b[2;36m                    \u001b[0m         \u001b[32mation\\src\\content_optimization\\pipelines\\azure_rag\\nodes.py\"\u001b[0m\u001b[39m, line \u001b[0m\u001b[1;36m9\u001b[0m\u001b[39m, \u001b[0m \u001b[2m               \u001b[0m\n",
       "\u001b[2;36m                    \u001b[0m         \u001b[39min <module>\u001b[0m                                                            \u001b[2m               \u001b[0m\n",
       "\u001b[2;36m                    \u001b[0m         \u001b[39m    from content_optimization.pipelines.azure_rag.llm_extraction \u001b[0m      \u001b[2m               \u001b[0m\n",
       "\u001b[2;36m                    \u001b[0m         \u001b[39mimport ask\u001b[0m                                                             \u001b[2m               \u001b[0m\n",
       "\u001b[2;36m                    \u001b[0m         \u001b[39m  File \u001b[0m                                                                \u001b[2m               \u001b[0m\n",
       "\u001b[2;36m                    \u001b[0m         \u001b[32m\"C:\\Users\\hinat\\Desktop\\healthhub-content-optimization\\content-optimiz\u001b[0m \u001b[2m               \u001b[0m\n",
       "\u001b[2;36m                    \u001b[0m         \u001b[32mation\\src\\content_optimization\\pipelines\\azure_rag\\llm_extraction.py\"\u001b[0m\u001b[39m,\u001b[0m \u001b[2m               \u001b[0m\n",
       "\u001b[2;36m                    \u001b[0m         \u001b[39m line \u001b[0m\u001b[1;36m3\u001b[0m\u001b[39m, in <module\u001b[0m\u001b[1m>\u001b[0m                                                   \u001b[2m               \u001b[0m\n",
       "\u001b[2;36m                    \u001b[0m             from azure.identity import DefaultAzureCredential,                 \u001b[2m               \u001b[0m\n",
       "\u001b[2;36m                    \u001b[0m         get_bearer_token_provider                                              \u001b[2m               \u001b[0m\n",
       "\u001b[2;36m                    \u001b[0m         ModuleNotFoundError: No module named \u001b[32m'azure'\u001b[0m                           \u001b[2m               \u001b[0m\n",
       "\u001b[2;36m                    \u001b[0m                                                                                \u001b[2m               \u001b[0m\n",
       "\u001b[2;36m                    \u001b[0m           \u001b[1;35mwarnings.warn\u001b[0m\u001b[1m(\u001b[0m                                                       \u001b[2m               \u001b[0m\n",
       "\u001b[2;36m                    \u001b[0m                                                                                \u001b[2m               \u001b[0m\n"
      ]
     },
     "metadata": {},
     "output_type": "display_data"
    },
    {
     "data": {
      "text/html": [
       "<pre style=\"white-space:pre;overflow-x:auto;line-height:normal;font-family:Menlo,'DejaVu Sans Mono',consolas,'Courier New',monospace\"><span style=\"color: #7fbfbf; text-decoration-color: #7fbfbf\">                    </span><span style=\"color: #808000; text-decoration-color: #808000\">WARNING </span> c:\\Users\\hinat\\Desktop\\healthhub-content-optimization\\hhcontentopt-dev <span style=\"color: #7f7f7f; text-decoration-color: #7f7f7f\">warnings.py:110</span>\n",
       "<span style=\"color: #7fbfbf; text-decoration-color: #7fbfbf\">                    </span>         \\Lib\\site-packages\\kedro\\framework\\project\\__init__.py:<span style=\"color: #008080; text-decoration-color: #008080; font-weight: bold\">429</span>:            <span style=\"color: #7f7f7f; text-decoration-color: #7f7f7f\">               </span>\n",
       "<span style=\"color: #7fbfbf; text-decoration-color: #7fbfbf\">                    </span>         UserWarning: An error occurred while importing the                     <span style=\"color: #7f7f7f; text-decoration-color: #7f7f7f\">               </span>\n",
       "<span style=\"color: #7fbfbf; text-decoration-color: #7fbfbf\">                    </span>         <span style=\"color: #008000; text-decoration-color: #008000\">'content_optimization.pipelines.clustering'</span> module. Nothing defined    <span style=\"color: #7f7f7f; text-decoration-color: #7f7f7f\">               </span>\n",
       "<span style=\"color: #7fbfbf; text-decoration-color: #7fbfbf\">                    </span>         therein will be returned by <span style=\"color: #008000; text-decoration-color: #008000\">'find_pipelines'</span>.                          <span style=\"color: #7f7f7f; text-decoration-color: #7f7f7f\">               </span>\n",
       "<span style=\"color: #7fbfbf; text-decoration-color: #7fbfbf\">                    </span>                                                                                <span style=\"color: #7f7f7f; text-decoration-color: #7f7f7f\">               </span>\n",
       "<span style=\"color: #7fbfbf; text-decoration-color: #7fbfbf\">                    </span>         Traceback <span style=\"font-weight: bold\">(</span>most recent call last<span style=\"font-weight: bold\">)</span>:                                     <span style=\"color: #7f7f7f; text-decoration-color: #7f7f7f\">               </span>\n",
       "<span style=\"color: #7fbfbf; text-decoration-color: #7fbfbf\">                    </span>           File                                                                 <span style=\"color: #7f7f7f; text-decoration-color: #7f7f7f\">               </span>\n",
       "<span style=\"color: #7fbfbf; text-decoration-color: #7fbfbf\">                    </span>         <span style=\"color: #008000; text-decoration-color: #008000\">\"c:\\Users\\hinat\\Desktop\\healthhub-content-optimization\\hhcontentopt-de</span> <span style=\"color: #7f7f7f; text-decoration-color: #7f7f7f\">               </span>\n",
       "<span style=\"color: #7fbfbf; text-decoration-color: #7fbfbf\">                    </span>         <span style=\"color: #008000; text-decoration-color: #008000\">v\\Lib\\site-packages\\kedro\\framework\\project\\__init__.py\"</span>, line <span style=\"color: #008080; text-decoration-color: #008080; font-weight: bold\">421</span>, in <span style=\"color: #7f7f7f; text-decoration-color: #7f7f7f\">               </span>\n",
       "<span style=\"color: #7fbfbf; text-decoration-color: #7fbfbf\">                    </span>         find_pipelines                                                         <span style=\"color: #7f7f7f; text-decoration-color: #7f7f7f\">               </span>\n",
       "<span style=\"color: #7fbfbf; text-decoration-color: #7fbfbf\">                    </span>             pipeline_module = <span style=\"color: #800080; text-decoration-color: #800080; font-weight: bold\">importlib.import_module</span><span style=\"font-weight: bold\">(</span>pipeline_module_name<span style=\"font-weight: bold\">)</span>    <span style=\"color: #7f7f7f; text-decoration-color: #7f7f7f\">               </span>\n",
       "<span style=\"color: #7fbfbf; text-decoration-color: #7fbfbf\">                    </span>                               ^^^^^^^^^^^^^^^^^^^^^^^^^^^^^^^^^^^^^^^^^^^^^    <span style=\"color: #7f7f7f; text-decoration-color: #7f7f7f\">               </span>\n",
       "<span style=\"color: #7fbfbf; text-decoration-color: #7fbfbf\">                    </span>           File <span style=\"color: #008000; text-decoration-color: #008000\">\"C:\\Program </span>                                                    <span style=\"color: #7f7f7f; text-decoration-color: #7f7f7f\">               </span>\n",
       "<span style=\"color: #7fbfbf; text-decoration-color: #7fbfbf\">                    </span>         <span style=\"color: #008000; text-decoration-color: #008000\">Files\\WindowsApps\\PythonSoftwareFoundation.Python.3.11_3.11.2544.0_x64</span> <span style=\"color: #7f7f7f; text-decoration-color: #7f7f7f\">               </span>\n",
       "<span style=\"color: #7fbfbf; text-decoration-color: #7fbfbf\">                    </span>         <span style=\"color: #008000; text-decoration-color: #008000\">__qbz5n2kfra8p0\\Lib\\importlib\\__init__.py\"</span>, line <span style=\"color: #008080; text-decoration-color: #008080; font-weight: bold\">126</span>, in import_module <span style=\"color: #7f7f7f; text-decoration-color: #7f7f7f\">               </span>\n",
       "<span style=\"color: #7fbfbf; text-decoration-color: #7fbfbf\">                    </span>             return <span style=\"color: #800080; text-decoration-color: #800080; font-weight: bold\">_bootstrap._gcd_import</span><span style=\"font-weight: bold\">(</span>name<span style=\"font-weight: bold\">[</span>level:<span style=\"font-weight: bold\">]</span>, package, level<span style=\"font-weight: bold\">)</span>        <span style=\"color: #7f7f7f; text-decoration-color: #7f7f7f\">               </span>\n",
       "<span style=\"color: #7fbfbf; text-decoration-color: #7fbfbf\">                    </span>                    ^^^^^^^^^^^^^^^^^^^^^^^^^^^^^^^^^^^^^^^^^^^^^^^^^^^^        <span style=\"color: #7f7f7f; text-decoration-color: #7f7f7f\">               </span>\n",
       "<span style=\"color: #7fbfbf; text-decoration-color: #7fbfbf\">                    </span>           File <span style=\"color: #008000; text-decoration-color: #008000\">\"&lt;frozen importlib._bootstrap&gt;\"</span><span style=\"color: #000000; text-decoration-color: #000000\">, line </span><span style=\"color: #008080; text-decoration-color: #008080; font-weight: bold\">1204</span><span style=\"color: #000000; text-decoration-color: #000000\">, in _gcd_import</span>      <span style=\"color: #7f7f7f; text-decoration-color: #7f7f7f\">               </span>\n",
       "<span style=\"color: #7fbfbf; text-decoration-color: #7fbfbf\">                    </span>         <span style=\"color: #000000; text-decoration-color: #000000\">  File </span><span style=\"color: #008000; text-decoration-color: #008000\">\"&lt;frozen importlib._bootstrap&gt;\"</span><span style=\"color: #000000; text-decoration-color: #000000\">, line </span><span style=\"color: #008080; text-decoration-color: #008080; font-weight: bold\">1176</span><span style=\"color: #000000; text-decoration-color: #000000\">, in _find_and_load</span>   <span style=\"color: #7f7f7f; text-decoration-color: #7f7f7f\">               </span>\n",
       "<span style=\"color: #7fbfbf; text-decoration-color: #7fbfbf\">                    </span>         <span style=\"color: #000000; text-decoration-color: #000000\">  File </span><span style=\"color: #008000; text-decoration-color: #008000\">\"&lt;frozen importlib._bootstrap&gt;\"</span><span style=\"color: #000000; text-decoration-color: #000000\">, line </span><span style=\"color: #008080; text-decoration-color: #008080; font-weight: bold\">1147</span><span style=\"color: #000000; text-decoration-color: #000000\">, in </span>                 <span style=\"color: #7f7f7f; text-decoration-color: #7f7f7f\">               </span>\n",
       "<span style=\"color: #7fbfbf; text-decoration-color: #7fbfbf\">                    </span>         <span style=\"color: #000000; text-decoration-color: #000000\">_find_and_load_unlocked</span>                                                <span style=\"color: #7f7f7f; text-decoration-color: #7f7f7f\">               </span>\n",
       "<span style=\"color: #7fbfbf; text-decoration-color: #7fbfbf\">                    </span>         <span style=\"color: #000000; text-decoration-color: #000000\">  File </span><span style=\"color: #008000; text-decoration-color: #008000\">\"&lt;frozen importlib._bootstrap&gt;\"</span><span style=\"color: #000000; text-decoration-color: #000000\">, line </span><span style=\"color: #008080; text-decoration-color: #008080; font-weight: bold\">690</span><span style=\"color: #000000; text-decoration-color: #000000\">, in _load_unlocked</span>    <span style=\"color: #7f7f7f; text-decoration-color: #7f7f7f\">               </span>\n",
       "<span style=\"color: #7fbfbf; text-decoration-color: #7fbfbf\">                    </span>         <span style=\"color: #000000; text-decoration-color: #000000\">  File </span><span style=\"color: #008000; text-decoration-color: #008000\">\"&lt;frozen importlib._bootstrap_external&gt;\"</span><span style=\"color: #000000; text-decoration-color: #000000\">, line </span><span style=\"color: #008080; text-decoration-color: #008080; font-weight: bold\">940</span><span style=\"color: #000000; text-decoration-color: #000000\">, in </span>         <span style=\"color: #7f7f7f; text-decoration-color: #7f7f7f\">               </span>\n",
       "<span style=\"color: #7fbfbf; text-decoration-color: #7fbfbf\">                    </span>         <span style=\"color: #000000; text-decoration-color: #000000\">exec_module</span>                                                            <span style=\"color: #7f7f7f; text-decoration-color: #7f7f7f\">               </span>\n",
       "<span style=\"color: #7fbfbf; text-decoration-color: #7fbfbf\">                    </span>         <span style=\"color: #000000; text-decoration-color: #000000\">  File </span><span style=\"color: #008000; text-decoration-color: #008000\">\"&lt;frozen importlib._bootstrap&gt;\"</span><span style=\"color: #000000; text-decoration-color: #000000\">, line </span><span style=\"color: #008080; text-decoration-color: #008080; font-weight: bold\">241</span><span style=\"color: #000000; text-decoration-color: #000000\">, in </span>                  <span style=\"color: #7f7f7f; text-decoration-color: #7f7f7f\">               </span>\n",
       "<span style=\"color: #7fbfbf; text-decoration-color: #7fbfbf\">                    </span>         <span style=\"color: #000000; text-decoration-color: #000000\">_call_with_frames_removed</span>                                              <span style=\"color: #7f7f7f; text-decoration-color: #7f7f7f\">               </span>\n",
       "<span style=\"color: #7fbfbf; text-decoration-color: #7fbfbf\">                    </span>         <span style=\"color: #000000; text-decoration-color: #000000\">  File </span>                                                                <span style=\"color: #7f7f7f; text-decoration-color: #7f7f7f\">               </span>\n",
       "<span style=\"color: #7fbfbf; text-decoration-color: #7fbfbf\">                    </span>         <span style=\"color: #008000; text-decoration-color: #008000\">\"C:\\Users\\hinat\\Desktop\\healthhub-content-optimization\\content-optimiz</span> <span style=\"color: #7f7f7f; text-decoration-color: #7f7f7f\">               </span>\n",
       "<span style=\"color: #7fbfbf; text-decoration-color: #7fbfbf\">                    </span>         <span style=\"color: #008000; text-decoration-color: #008000\">ation\\src\\content_optimization\\pipelines\\clustering\\__init__.py\"</span><span style=\"color: #000000; text-decoration-color: #000000\">, line</span> <span style=\"color: #7f7f7f; text-decoration-color: #7f7f7f\">               </span>\n",
       "<span style=\"color: #7fbfbf; text-decoration-color: #7fbfbf\">                    </span>         <span style=\"color: #008080; text-decoration-color: #008080; font-weight: bold\">6</span><span style=\"color: #000000; text-decoration-color: #000000\">, in &lt;module&gt;</span>                                                         <span style=\"color: #7f7f7f; text-decoration-color: #7f7f7f\">               </span>\n",
       "<span style=\"color: #7fbfbf; text-decoration-color: #7fbfbf\">                    </span>         <span style=\"color: #000000; text-decoration-color: #000000\">    from .pipeline import create_pipeline</span>                              <span style=\"color: #7f7f7f; text-decoration-color: #7f7f7f\">               </span>\n",
       "<span style=\"color: #7fbfbf; text-decoration-color: #7fbfbf\">                    </span>         <span style=\"color: #000000; text-decoration-color: #000000\">  File </span>                                                                <span style=\"color: #7f7f7f; text-decoration-color: #7f7f7f\">               </span>\n",
       "<span style=\"color: #7fbfbf; text-decoration-color: #7fbfbf\">                    </span>         <span style=\"color: #008000; text-decoration-color: #008000\">\"C:\\Users\\hinat\\Desktop\\healthhub-content-optimization\\content-optimiz</span> <span style=\"color: #7f7f7f; text-decoration-color: #7f7f7f\">               </span>\n",
       "<span style=\"color: #7fbfbf; text-decoration-color: #7fbfbf\">                    </span>         <span style=\"color: #008000; text-decoration-color: #008000\">ation\\src\\content_optimization\\pipelines\\clustering\\pipeline.py\"</span><span style=\"color: #000000; text-decoration-color: #000000\">, line</span> <span style=\"color: #7f7f7f; text-decoration-color: #7f7f7f\">               </span>\n",
       "<span style=\"color: #7fbfbf; text-decoration-color: #7fbfbf\">                    </span>         <span style=\"color: #008080; text-decoration-color: #008080; font-weight: bold\">6</span><span style=\"color: #000000; text-decoration-color: #000000\">, in &lt;module&gt;</span>                                                         <span style=\"color: #7f7f7f; text-decoration-color: #7f7f7f\">               </span>\n",
       "<span style=\"color: #7fbfbf; text-decoration-color: #7fbfbf\">                    </span>         <span style=\"color: #000000; text-decoration-color: #000000\">    from content_optimization.pipelines.clustering.nodes import </span><span style=\"color: #000000; text-decoration-color: #000000; font-weight: bold\">(</span>      <span style=\"color: #7f7f7f; text-decoration-color: #7f7f7f\">               </span>\n",
       "<span style=\"color: #7fbfbf; text-decoration-color: #7fbfbf\">                    </span>         <span style=\"color: #000000; text-decoration-color: #000000\">  File </span>                                                                <span style=\"color: #7f7f7f; text-decoration-color: #7f7f7f\">               </span>\n",
       "<span style=\"color: #7fbfbf; text-decoration-color: #7fbfbf\">                    </span>         <span style=\"color: #008000; text-decoration-color: #008000\">\"C:\\Users\\hinat\\Desktop\\healthhub-content-optimization\\content-optimiz</span> <span style=\"color: #7f7f7f; text-decoration-color: #7f7f7f\">               </span>\n",
       "<span style=\"color: #7fbfbf; text-decoration-color: #7fbfbf\">                    </span>         <span style=\"color: #008000; text-decoration-color: #008000\">ation\\src\\content_optimization\\pipelines\\clustering\\nodes.py\"</span><span style=\"color: #000000; text-decoration-color: #000000\">, line </span>   <span style=\"color: #7f7f7f; text-decoration-color: #7f7f7f\">               </span>\n",
       "<span style=\"color: #7fbfbf; text-decoration-color: #7fbfbf\">                    </span>         <span style=\"color: #008080; text-decoration-color: #008080; font-weight: bold\">12</span><span style=\"color: #000000; text-decoration-color: #000000\">, in &lt;module</span><span style=\"font-weight: bold\">&gt;</span>                                                        <span style=\"color: #7f7f7f; text-decoration-color: #7f7f7f\">               </span>\n",
       "<span style=\"color: #7fbfbf; text-decoration-color: #7fbfbf\">                    </span>             import pyvis                                                       <span style=\"color: #7f7f7f; text-decoration-color: #7f7f7f\">               </span>\n",
       "<span style=\"color: #7fbfbf; text-decoration-color: #7fbfbf\">                    </span>         ModuleNotFoundError: No module named <span style=\"color: #008000; text-decoration-color: #008000\">'pyvis'</span>                           <span style=\"color: #7f7f7f; text-decoration-color: #7f7f7f\">               </span>\n",
       "<span style=\"color: #7fbfbf; text-decoration-color: #7fbfbf\">                    </span>                                                                                <span style=\"color: #7f7f7f; text-decoration-color: #7f7f7f\">               </span>\n",
       "<span style=\"color: #7fbfbf; text-decoration-color: #7fbfbf\">                    </span>           <span style=\"color: #800080; text-decoration-color: #800080; font-weight: bold\">warnings.warn</span><span style=\"font-weight: bold\">(</span>                                                       <span style=\"color: #7f7f7f; text-decoration-color: #7f7f7f\">               </span>\n",
       "<span style=\"color: #7fbfbf; text-decoration-color: #7fbfbf\">                    </span>                                                                                <span style=\"color: #7f7f7f; text-decoration-color: #7f7f7f\">               </span>\n",
       "</pre>\n"
      ],
      "text/plain": [
       "\u001b[2;36m                   \u001b[0m\u001b[2;36m \u001b[0m\u001b[33mWARNING \u001b[0m c:\\Users\\hinat\\Desktop\\healthhub-content-optimization\\hhcontentopt-dev \u001b[2mwarnings.py\u001b[0m\u001b[2m:\u001b[0m\u001b[2m110\u001b[0m\n",
       "\u001b[2;36m                    \u001b[0m         \\Lib\\site-packages\\kedro\\framework\\project\\__init__.py:\u001b[1;36m429\u001b[0m:            \u001b[2m               \u001b[0m\n",
       "\u001b[2;36m                    \u001b[0m         UserWarning: An error occurred while importing the                     \u001b[2m               \u001b[0m\n",
       "\u001b[2;36m                    \u001b[0m         \u001b[32m'content_optimization.pipelines.clustering'\u001b[0m module. Nothing defined    \u001b[2m               \u001b[0m\n",
       "\u001b[2;36m                    \u001b[0m         therein will be returned by \u001b[32m'find_pipelines'\u001b[0m.                          \u001b[2m               \u001b[0m\n",
       "\u001b[2;36m                    \u001b[0m                                                                                \u001b[2m               \u001b[0m\n",
       "\u001b[2;36m                    \u001b[0m         Traceback \u001b[1m(\u001b[0mmost recent call last\u001b[1m)\u001b[0m:                                     \u001b[2m               \u001b[0m\n",
       "\u001b[2;36m                    \u001b[0m           File                                                                 \u001b[2m               \u001b[0m\n",
       "\u001b[2;36m                    \u001b[0m         \u001b[32m\"c:\\Users\\hinat\\Desktop\\healthhub-content-optimization\\hhcontentopt-de\u001b[0m \u001b[2m               \u001b[0m\n",
       "\u001b[2;36m                    \u001b[0m         \u001b[32mv\\Lib\\site-packages\\kedro\\framework\\project\\__init__.py\"\u001b[0m, line \u001b[1;36m421\u001b[0m, in \u001b[2m               \u001b[0m\n",
       "\u001b[2;36m                    \u001b[0m         find_pipelines                                                         \u001b[2m               \u001b[0m\n",
       "\u001b[2;36m                    \u001b[0m             pipeline_module = \u001b[1;35mimportlib.import_module\u001b[0m\u001b[1m(\u001b[0mpipeline_module_name\u001b[1m)\u001b[0m    \u001b[2m               \u001b[0m\n",
       "\u001b[2;36m                    \u001b[0m                               ^^^^^^^^^^^^^^^^^^^^^^^^^^^^^^^^^^^^^^^^^^^^^    \u001b[2m               \u001b[0m\n",
       "\u001b[2;36m                    \u001b[0m           File \u001b[32m\"C:\\Program \u001b[0m                                                    \u001b[2m               \u001b[0m\n",
       "\u001b[2;36m                    \u001b[0m         \u001b[32mFiles\\WindowsApps\\PythonSoftwareFoundation.Python.3.11_3.11.2544.0_x64\u001b[0m \u001b[2m               \u001b[0m\n",
       "\u001b[2;36m                    \u001b[0m         \u001b[32m__qbz5n2kfra8p0\\Lib\\importlib\\__init__.py\"\u001b[0m, line \u001b[1;36m126\u001b[0m, in import_module \u001b[2m               \u001b[0m\n",
       "\u001b[2;36m                    \u001b[0m             return \u001b[1;35m_bootstrap._gcd_import\u001b[0m\u001b[1m(\u001b[0mname\u001b[1m[\u001b[0mlevel:\u001b[1m]\u001b[0m, package, level\u001b[1m)\u001b[0m        \u001b[2m               \u001b[0m\n",
       "\u001b[2;36m                    \u001b[0m                    ^^^^^^^^^^^^^^^^^^^^^^^^^^^^^^^^^^^^^^^^^^^^^^^^^^^^        \u001b[2m               \u001b[0m\n",
       "\u001b[2;36m                    \u001b[0m           File \u001b[32m\"\u001b[0m\u001b[32m<\u001b[0m\u001b[32mfrozen\u001b[0m\u001b[32m importlib._bootstrap>\"\u001b[0m\u001b[39m, line \u001b[0m\u001b[1;36m1204\u001b[0m\u001b[39m, in _gcd_import\u001b[0m      \u001b[2m               \u001b[0m\n",
       "\u001b[2;36m                    \u001b[0m         \u001b[39m  File \u001b[0m\u001b[32m\"<frozen importlib._bootstrap>\"\u001b[0m\u001b[39m, line \u001b[0m\u001b[1;36m1176\u001b[0m\u001b[39m, in _find_and_load\u001b[0m   \u001b[2m               \u001b[0m\n",
       "\u001b[2;36m                    \u001b[0m         \u001b[39m  File \u001b[0m\u001b[32m\"<frozen importlib._bootstrap>\"\u001b[0m\u001b[39m, line \u001b[0m\u001b[1;36m1147\u001b[0m\u001b[39m, in \u001b[0m                 \u001b[2m               \u001b[0m\n",
       "\u001b[2;36m                    \u001b[0m         \u001b[39m_find_and_load_unlocked\u001b[0m                                                \u001b[2m               \u001b[0m\n",
       "\u001b[2;36m                    \u001b[0m         \u001b[39m  File \u001b[0m\u001b[32m\"<frozen importlib._bootstrap>\"\u001b[0m\u001b[39m, line \u001b[0m\u001b[1;36m690\u001b[0m\u001b[39m, in _load_unlocked\u001b[0m    \u001b[2m               \u001b[0m\n",
       "\u001b[2;36m                    \u001b[0m         \u001b[39m  File \u001b[0m\u001b[32m\"<frozen importlib._bootstrap_external>\"\u001b[0m\u001b[39m, line \u001b[0m\u001b[1;36m940\u001b[0m\u001b[39m, in \u001b[0m         \u001b[2m               \u001b[0m\n",
       "\u001b[2;36m                    \u001b[0m         \u001b[39mexec_module\u001b[0m                                                            \u001b[2m               \u001b[0m\n",
       "\u001b[2;36m                    \u001b[0m         \u001b[39m  File \u001b[0m\u001b[32m\"<frozen importlib._bootstrap>\"\u001b[0m\u001b[39m, line \u001b[0m\u001b[1;36m241\u001b[0m\u001b[39m, in \u001b[0m                  \u001b[2m               \u001b[0m\n",
       "\u001b[2;36m                    \u001b[0m         \u001b[39m_call_with_frames_removed\u001b[0m                                              \u001b[2m               \u001b[0m\n",
       "\u001b[2;36m                    \u001b[0m         \u001b[39m  File \u001b[0m                                                                \u001b[2m               \u001b[0m\n",
       "\u001b[2;36m                    \u001b[0m         \u001b[32m\"C:\\Users\\hinat\\Desktop\\healthhub-content-optimization\\content-optimiz\u001b[0m \u001b[2m               \u001b[0m\n",
       "\u001b[2;36m                    \u001b[0m         \u001b[32mation\\src\\content_optimization\\pipelines\\clustering\\__init__.py\"\u001b[0m\u001b[39m, line\u001b[0m \u001b[2m               \u001b[0m\n",
       "\u001b[2;36m                    \u001b[0m         \u001b[1;36m6\u001b[0m\u001b[39m, in <module>\u001b[0m                                                         \u001b[2m               \u001b[0m\n",
       "\u001b[2;36m                    \u001b[0m         \u001b[39m    from .pipeline import create_pipeline\u001b[0m                              \u001b[2m               \u001b[0m\n",
       "\u001b[2;36m                    \u001b[0m         \u001b[39m  File \u001b[0m                                                                \u001b[2m               \u001b[0m\n",
       "\u001b[2;36m                    \u001b[0m         \u001b[32m\"C:\\Users\\hinat\\Desktop\\healthhub-content-optimization\\content-optimiz\u001b[0m \u001b[2m               \u001b[0m\n",
       "\u001b[2;36m                    \u001b[0m         \u001b[32mation\\src\\content_optimization\\pipelines\\clustering\\pipeline.py\"\u001b[0m\u001b[39m, line\u001b[0m \u001b[2m               \u001b[0m\n",
       "\u001b[2;36m                    \u001b[0m         \u001b[1;36m6\u001b[0m\u001b[39m, in <module>\u001b[0m                                                         \u001b[2m               \u001b[0m\n",
       "\u001b[2;36m                    \u001b[0m         \u001b[39m    from content_optimization.pipelines.clustering.nodes import \u001b[0m\u001b[1;39m(\u001b[0m      \u001b[2m               \u001b[0m\n",
       "\u001b[2;36m                    \u001b[0m         \u001b[39m  File \u001b[0m                                                                \u001b[2m               \u001b[0m\n",
       "\u001b[2;36m                    \u001b[0m         \u001b[32m\"C:\\Users\\hinat\\Desktop\\healthhub-content-optimization\\content-optimiz\u001b[0m \u001b[2m               \u001b[0m\n",
       "\u001b[2;36m                    \u001b[0m         \u001b[32mation\\src\\content_optimization\\pipelines\\clustering\\nodes.py\"\u001b[0m\u001b[39m, line \u001b[0m   \u001b[2m               \u001b[0m\n",
       "\u001b[2;36m                    \u001b[0m         \u001b[1;36m12\u001b[0m\u001b[39m, in <module\u001b[0m\u001b[1m>\u001b[0m                                                        \u001b[2m               \u001b[0m\n",
       "\u001b[2;36m                    \u001b[0m             import pyvis                                                       \u001b[2m               \u001b[0m\n",
       "\u001b[2;36m                    \u001b[0m         ModuleNotFoundError: No module named \u001b[32m'pyvis'\u001b[0m                           \u001b[2m               \u001b[0m\n",
       "\u001b[2;36m                    \u001b[0m                                                                                \u001b[2m               \u001b[0m\n",
       "\u001b[2;36m                    \u001b[0m           \u001b[1;35mwarnings.warn\u001b[0m\u001b[1m(\u001b[0m                                                       \u001b[2m               \u001b[0m\n",
       "\u001b[2;36m                    \u001b[0m                                                                                \u001b[2m               \u001b[0m\n"
      ]
     },
     "metadata": {},
     "output_type": "display_data"
    },
    {
     "data": {
      "text/html": [
       "<pre style=\"white-space:pre;overflow-x:auto;line-height:normal;font-family:Menlo,'DejaVu Sans Mono',consolas,'Courier New',monospace\"><span style=\"color: #7fbfbf; text-decoration-color: #7fbfbf\">[09/19/24 08:59:18] </span><span style=\"color: #808000; text-decoration-color: #808000\">WARNING </span> c:\\Users\\hinat\\Desktop\\healthhub-content-optimization\\hhcontentopt-dev <span style=\"color: #7f7f7f; text-decoration-color: #7f7f7f\">warnings.py:110</span>\n",
       "<span style=\"color: #7fbfbf; text-decoration-color: #7fbfbf\">                    </span>         \\Lib\\site-packages\\tqdm\\auto.py:<span style=\"color: #008080; text-decoration-color: #008080; font-weight: bold\">21</span>: TqdmWarning: IProgress not found.  <span style=\"color: #7f7f7f; text-decoration-color: #7f7f7f\">               </span>\n",
       "<span style=\"color: #7fbfbf; text-decoration-color: #7fbfbf\">                    </span>         Please update jupyter and ipywidgets. See                              <span style=\"color: #7f7f7f; text-decoration-color: #7f7f7f\">               </span>\n",
       "<span style=\"color: #7fbfbf; text-decoration-color: #7fbfbf\">                    </span>         <span style=\"color: #0000ff; text-decoration-color: #0000ff; text-decoration: underline\">https://ipywidgets.readthedocs.io/en/stable/user_install.html</span>          <span style=\"color: #7f7f7f; text-decoration-color: #7f7f7f\">               </span>\n",
       "<span style=\"color: #7fbfbf; text-decoration-color: #7fbfbf\">                    </span>           from .autonotebook import tqdm as notebook_tqdm                      <span style=\"color: #7f7f7f; text-decoration-color: #7f7f7f\">               </span>\n",
       "<span style=\"color: #7fbfbf; text-decoration-color: #7fbfbf\">                    </span>                                                                                <span style=\"color: #7f7f7f; text-decoration-color: #7f7f7f\">               </span>\n",
       "</pre>\n"
      ],
      "text/plain": [
       "\u001b[2;36m[09/19/24 08:59:18]\u001b[0m\u001b[2;36m \u001b[0m\u001b[33mWARNING \u001b[0m c:\\Users\\hinat\\Desktop\\healthhub-content-optimization\\hhcontentopt-dev \u001b[2mwarnings.py\u001b[0m\u001b[2m:\u001b[0m\u001b[2m110\u001b[0m\n",
       "\u001b[2;36m                    \u001b[0m         \\Lib\\site-packages\\tqdm\\auto.py:\u001b[1;36m21\u001b[0m: TqdmWarning: IProgress not found.  \u001b[2m               \u001b[0m\n",
       "\u001b[2;36m                    \u001b[0m         Please update jupyter and ipywidgets. See                              \u001b[2m               \u001b[0m\n",
       "\u001b[2;36m                    \u001b[0m         \u001b[4;94mhttps://ipywidgets.readthedocs.io/en/stable/user_install.html\u001b[0m          \u001b[2m               \u001b[0m\n",
       "\u001b[2;36m                    \u001b[0m           from .autonotebook import tqdm as notebook_tqdm                      \u001b[2m               \u001b[0m\n",
       "\u001b[2;36m                    \u001b[0m                                                                                \u001b[2m               \u001b[0m\n"
      ]
     },
     "metadata": {},
     "output_type": "display_data"
    },
    {
     "name": "stderr",
     "output_type": "stream",
     "text": [
      "[nltk_data] Downloading package punkt_tab to\n",
      "[nltk_data]     C:\\Users\\hinat\\AppData\\Roaming\\nltk_data...\n",
      "[nltk_data]   Package punkt_tab is already up-to-date!\n"
     ]
    },
    {
     "data": {
      "text/html": [
       "<pre style=\"white-space:pre;overflow-x:auto;line-height:normal;font-family:Menlo,'DejaVu Sans Mono',consolas,'Courier New',monospace\"><span style=\"color: #7fbfbf; text-decoration-color: #7fbfbf\">[09/19/24 09:00:20] </span><span style=\"color: #000080; text-decoration-color: #000080\">INFO    </span> Kedro is sending anonymous usage data with the sole purpose of improving <a href=\"file://c:\\Users\\hinat\\Desktop\\healthhub-content-optimization\\hhcontentopt-dev\\Lib\\site-packages\\kedro_telemetry\\plugin.py\" target=\"_blank\"><span style=\"color: #7f7f7f; text-decoration-color: #7f7f7f\">plugin.py</span></a><span style=\"color: #7f7f7f; text-decoration-color: #7f7f7f\">:</span><a href=\"file://c:\\Users\\hinat\\Desktop\\healthhub-content-optimization\\hhcontentopt-dev\\Lib\\site-packages\\kedro_telemetry\\plugin.py#233\" target=\"_blank\"><span style=\"color: #7f7f7f; text-decoration-color: #7f7f7f\">233</span></a>\n",
       "<span style=\"color: #7fbfbf; text-decoration-color: #7fbfbf\">                    </span>         the product. No personal data or IP addresses are stored on our side. If <span style=\"color: #7f7f7f; text-decoration-color: #7f7f7f\">             </span>\n",
       "<span style=\"color: #7fbfbf; text-decoration-color: #7fbfbf\">                    </span>         you want to opt out, set the `KEDRO_DISABLE_TELEMETRY` or `DO_NOT_TRACK` <span style=\"color: #7f7f7f; text-decoration-color: #7f7f7f\">             </span>\n",
       "<span style=\"color: #7fbfbf; text-decoration-color: #7fbfbf\">                    </span>         environment variables, or create a `.telemetry` file in the current      <span style=\"color: #7f7f7f; text-decoration-color: #7f7f7f\">             </span>\n",
       "<span style=\"color: #7fbfbf; text-decoration-color: #7fbfbf\">                    </span>         working directory with the contents `consent: false`. Read more at       <span style=\"color: #7f7f7f; text-decoration-color: #7f7f7f\">             </span>\n",
       "<span style=\"color: #7fbfbf; text-decoration-color: #7fbfbf\">                    </span>         <span style=\"color: #0000ff; text-decoration-color: #0000ff; text-decoration: underline\">https://docs.kedro.org/en/stable/configuration/telemetry.html</span>            <span style=\"color: #7f7f7f; text-decoration-color: #7f7f7f\">             </span>\n",
       "</pre>\n"
      ],
      "text/plain": [
       "\u001b[2;36m[09/19/24 09:00:20]\u001b[0m\u001b[2;36m \u001b[0m\u001b[34mINFO    \u001b[0m Kedro is sending anonymous usage data with the sole purpose of improving \u001b]8;id=780694;file://c:\\Users\\hinat\\Desktop\\healthhub-content-optimization\\hhcontentopt-dev\\Lib\\site-packages\\kedro_telemetry\\plugin.py\u001b\\\u001b[2mplugin.py\u001b[0m\u001b]8;;\u001b\\\u001b[2m:\u001b[0m\u001b]8;id=49494;file://c:\\Users\\hinat\\Desktop\\healthhub-content-optimization\\hhcontentopt-dev\\Lib\\site-packages\\kedro_telemetry\\plugin.py#233\u001b\\\u001b[2m233\u001b[0m\u001b]8;;\u001b\\\n",
       "\u001b[2;36m                    \u001b[0m         the product. No personal data or IP addresses are stored on our side. If \u001b[2m             \u001b[0m\n",
       "\u001b[2;36m                    \u001b[0m         you want to opt out, set the `KEDRO_DISABLE_TELEMETRY` or `DO_NOT_TRACK` \u001b[2m             \u001b[0m\n",
       "\u001b[2;36m                    \u001b[0m         environment variables, or create a `.telemetry` file in the current      \u001b[2m             \u001b[0m\n",
       "\u001b[2;36m                    \u001b[0m         working directory with the contents `consent: false`. Read more at       \u001b[2m             \u001b[0m\n",
       "\u001b[2;36m                    \u001b[0m         \u001b[4;94mhttps://docs.kedro.org/en/stable/configuration/telemetry.html\u001b[0m            \u001b[2m             \u001b[0m\n"
      ]
     },
     "metadata": {},
     "output_type": "display_data"
    },
    {
     "data": {
      "text/html": [
       "<pre style=\"white-space:pre;overflow-x:auto;line-height:normal;font-family:Menlo,'DejaVu Sans Mono',consolas,'Courier New',monospace\"><span style=\"color: #7fbfbf; text-decoration-color: #7fbfbf\">[09/19/24 09:00:21] </span><span style=\"color: #000080; text-decoration-color: #000080\">INFO    </span> Kedro project Content Optimization                                     <a href=\"file://c:\\Users\\hinat\\Desktop\\healthhub-content-optimization\\hhcontentopt-dev\\Lib\\site-packages\\kedro\\ipython\\__init__.py\" target=\"_blank\"><span style=\"color: #7f7f7f; text-decoration-color: #7f7f7f\">__init__.py</span></a><span style=\"color: #7f7f7f; text-decoration-color: #7f7f7f\">:</span><a href=\"file://c:\\Users\\hinat\\Desktop\\healthhub-content-optimization\\hhcontentopt-dev\\Lib\\site-packages\\kedro\\ipython\\__init__.py#141\" target=\"_blank\"><span style=\"color: #7f7f7f; text-decoration-color: #7f7f7f\">141</span></a>\n",
       "</pre>\n"
      ],
      "text/plain": [
       "\u001b[2;36m[09/19/24 09:00:21]\u001b[0m\u001b[2;36m \u001b[0m\u001b[34mINFO    \u001b[0m Kedro project Content Optimization                                     \u001b]8;id=911004;file://c:\\Users\\hinat\\Desktop\\healthhub-content-optimization\\hhcontentopt-dev\\Lib\\site-packages\\kedro\\ipython\\__init__.py\u001b\\\u001b[2m__init__.py\u001b[0m\u001b]8;;\u001b\\\u001b[2m:\u001b[0m\u001b]8;id=274728;file://c:\\Users\\hinat\\Desktop\\healthhub-content-optimization\\hhcontentopt-dev\\Lib\\site-packages\\kedro\\ipython\\__init__.py#141\u001b\\\u001b[2m141\u001b[0m\u001b]8;;\u001b\\\n"
      ]
     },
     "metadata": {},
     "output_type": "display_data"
    },
    {
     "data": {
      "text/html": [
       "<pre style=\"white-space:pre;overflow-x:auto;line-height:normal;font-family:Menlo,'DejaVu Sans Mono',consolas,'Courier New',monospace\"><span style=\"color: #7fbfbf; text-decoration-color: #7fbfbf\">                    </span><span style=\"color: #000080; text-decoration-color: #000080\">INFO    </span> Defined global variable <span style=\"color: #008000; text-decoration-color: #008000\">'context'</span>, <span style=\"color: #008000; text-decoration-color: #008000\">'session'</span>, <span style=\"color: #008000; text-decoration-color: #008000\">'catalog'</span> and            <a href=\"file://c:\\Users\\hinat\\Desktop\\healthhub-content-optimization\\hhcontentopt-dev\\Lib\\site-packages\\kedro\\ipython\\__init__.py\" target=\"_blank\"><span style=\"color: #7f7f7f; text-decoration-color: #7f7f7f\">__init__.py</span></a><span style=\"color: #7f7f7f; text-decoration-color: #7f7f7f\">:</span><a href=\"file://c:\\Users\\hinat\\Desktop\\healthhub-content-optimization\\hhcontentopt-dev\\Lib\\site-packages\\kedro\\ipython\\__init__.py#142\" target=\"_blank\"><span style=\"color: #7f7f7f; text-decoration-color: #7f7f7f\">142</span></a>\n",
       "<span style=\"color: #7fbfbf; text-decoration-color: #7fbfbf\">                    </span>         <span style=\"color: #008000; text-decoration-color: #008000\">'pipelines'</span>                                                            <span style=\"color: #7f7f7f; text-decoration-color: #7f7f7f\">               </span>\n",
       "</pre>\n"
      ],
      "text/plain": [
       "\u001b[2;36m                   \u001b[0m\u001b[2;36m \u001b[0m\u001b[34mINFO    \u001b[0m Defined global variable \u001b[32m'context'\u001b[0m, \u001b[32m'session'\u001b[0m, \u001b[32m'catalog'\u001b[0m and            \u001b]8;id=585706;file://c:\\Users\\hinat\\Desktop\\healthhub-content-optimization\\hhcontentopt-dev\\Lib\\site-packages\\kedro\\ipython\\__init__.py\u001b\\\u001b[2m__init__.py\u001b[0m\u001b]8;;\u001b\\\u001b[2m:\u001b[0m\u001b]8;id=110840;file://c:\\Users\\hinat\\Desktop\\healthhub-content-optimization\\hhcontentopt-dev\\Lib\\site-packages\\kedro\\ipython\\__init__.py#142\u001b\\\u001b[2m142\u001b[0m\u001b]8;;\u001b\\\n",
       "\u001b[2;36m                    \u001b[0m         \u001b[32m'pipelines'\u001b[0m                                                            \u001b[2m               \u001b[0m\n"
      ]
     },
     "metadata": {},
     "output_type": "display_data"
    },
    {
     "data": {
      "text/html": [
       "<pre style=\"white-space:pre;overflow-x:auto;line-height:normal;font-family:Menlo,'DejaVu Sans Mono',consolas,'Courier New',monospace\"><span style=\"color: #7fbfbf; text-decoration-color: #7fbfbf\">[09/19/24 09:00:40] </span><span style=\"color: #000080; text-decoration-color: #000080\">INFO    </span> Registered line magic <span style=\"color: #008000; text-decoration-color: #008000\">'run_viz'</span>                                        <a href=\"file://c:\\Users\\hinat\\Desktop\\healthhub-content-optimization\\hhcontentopt-dev\\Lib\\site-packages\\kedro\\ipython\\__init__.py\" target=\"_blank\"><span style=\"color: #7f7f7f; text-decoration-color: #7f7f7f\">__init__.py</span></a><span style=\"color: #7f7f7f; text-decoration-color: #7f7f7f\">:</span><a href=\"file://c:\\Users\\hinat\\Desktop\\healthhub-content-optimization\\hhcontentopt-dev\\Lib\\site-packages\\kedro\\ipython\\__init__.py#148\" target=\"_blank\"><span style=\"color: #7f7f7f; text-decoration-color: #7f7f7f\">148</span></a>\n",
       "</pre>\n"
      ],
      "text/plain": [
       "\u001b[2;36m[09/19/24 09:00:40]\u001b[0m\u001b[2;36m \u001b[0m\u001b[34mINFO    \u001b[0m Registered line magic \u001b[32m'run_viz'\u001b[0m                                        \u001b]8;id=590801;file://c:\\Users\\hinat\\Desktop\\healthhub-content-optimization\\hhcontentopt-dev\\Lib\\site-packages\\kedro\\ipython\\__init__.py\u001b\\\u001b[2m__init__.py\u001b[0m\u001b]8;;\u001b\\\u001b[2m:\u001b[0m\u001b]8;id=191245;file://c:\\Users\\hinat\\Desktop\\healthhub-content-optimization\\hhcontentopt-dev\\Lib\\site-packages\\kedro\\ipython\\__init__.py#148\u001b\\\u001b[2m148\u001b[0m\u001b]8;;\u001b\\\n"
      ]
     },
     "metadata": {},
     "output_type": "display_data"
    }
   ],
   "source": [
    "%load_ext kedro.ipython"
   ]
  },
  {
   "cell_type": "code",
   "execution_count": 2,
   "metadata": {},
   "outputs": [
    {
     "name": "stderr",
     "output_type": "stream",
     "text": [
      "[nltk_data] Downloading package punkt_tab to\n",
      "[nltk_data]     C:\\Users\\hinat\\AppData\\Roaming\\nltk_data...\n",
      "[nltk_data]   Package punkt_tab is already up-to-date!\n"
     ]
    },
    {
     "data": {
      "text/html": [
       "<pre style=\"white-space:pre;overflow-x:auto;line-height:normal;font-family:Menlo,'DejaVu Sans Mono',consolas,'Courier New',monospace\"></pre>\n"
      ],
      "text/plain": []
     },
     "metadata": {},
     "output_type": "display_data"
    },
    {
     "data": {
      "text/plain": [
       "\u001b[3;92mTrue\u001b[0m"
      ]
     },
     "execution_count": 2,
     "metadata": {},
     "output_type": "execute_result"
    }
   ],
   "source": [
    "from typing import Any\n",
    "\n",
    "import os\n",
    "import nltk\n",
    "import pandas as pd\n",
    "from keybert import KeyBERT\n",
    "from keyphrase_vectorizers import KeyphraseTfidfVectorizer\n",
    "from sklearn.feature_extraction.text import ENGLISH_STOP_WORDS\n",
    "from pytictoc import TicToc\n",
    "\n",
    "nltk.download(\"punkt_tab\")"
   ]
  },
  {
   "cell_type": "code",
   "execution_count": 7,
   "metadata": {},
   "outputs": [
    {
     "name": "stdout",
     "output_type": "stream",
     "text": [
      "Folder already exists: topic program subpages\n",
      "Folder created: topic program subpages/keyBert\n"
     ]
    }
   ],
   "source": [
    "folder_path = ['topic program subpages', 'topic program subpages/keyBert']\n",
    "for folder in folder_path:\n",
    "    if not os.path.exists(folder):\n",
    "        # If it doesn't exist, create the folder\n",
    "        os.makedirs(folder)\n",
    "        print(f\"Folder created: {folder}\")\n",
    "    else:\n",
    "        print(f\"Folder already exists: {folder}\")"
   ]
  },
  {
   "cell_type": "markdown",
   "metadata": {},
   "source": [
    "<hr>\n",
    "\n",
    "## extract_keywords Function"
   ]
  },
  {
   "cell_type": "code",
   "execution_count": 5,
   "metadata": {},
   "outputs": [],
   "source": [
    "def extract_keywords(\n",
    "        df: pd.DataFrame, \n",
    "        model: str, \n",
    "        spacy_pipeline: str, \n",
    "        stop_words: str,\n",
    "        workers: int, \n",
    "        use_mmr: bool, \n",
    "        diversity: float, \n",
    "        top_n: int\n",
    "    ) -> pd.DataFrame:\n",
    "    \"\"\"\n",
    "    Extract keywords using KeyBERT model and return DataFrame with the added `keybert_keywords` column.\n",
    "\n",
    "    Args:\n",
    "        df (pd.DataFrame): The DataFrame containing the nsc content.\n",
    "        model (str): The embedding model to be used in KeyBERT.\n",
    "        spacy_pipeline (str): The spaCy pipeline for part-of-speech tagging.\n",
    "        stop_words (str): The stop words for keyphrase extraction.\n",
    "        use_mmr (bool): Whether to use Maximal Marginal Relevance (MMR).\n",
    "        diversity (float): Diversity parameter for MMR.\n",
    "        top_n (int): Number of top keywords to extract.\n",
    "\n",
    "    Returns:\n",
    "        pd.DataFrame: DataFrame with extracted keywords.\n",
    "    \"\"\"\n",
    "    \n",
    "    # Extract the raw content body text from the nsc DataFrame\n",
    "    docs = df[\"extracted_content_body\"].to_list()\n",
    "    combined_doc = [\"\".join(docs)]\n",
    "    \n",
    "    # Initialize KeyBERT model\n",
    "    kw_model = KeyBERT(model=model)\n",
    "\n",
    "    # Initialize the vectorizer with the specified spaCy pipeline and stop words\n",
    "    vectorizer = KeyphraseTfidfVectorizer(\n",
    "        spacy_pipeline, stop_words=stop_words, workers=workers)\n",
    "\n",
    "    # Marginally more performant\n",
    "    # See: https://github.com/MaartenGr/KeyBERT/issues/156\n",
    "    with TicToc():\n",
    "        counts = vectorizer.fit(combined_doc)\n",
    "        vectorizer.fit = lambda *args, **kwargs: counts\n",
    "\n",
    "        # If keyphrase vectorizer is specified, `keyphrase_ngram_range` is ignored\n",
    "        keywords = kw_model.extract_keywords(\n",
    "            combined_doc,\n",
    "            use_mmr=use_mmr,\n",
    "            diversity=diversity,\n",
    "            top_n=top_n,\n",
    "            vectorizer=vectorizer,\n",
    "        )\n",
    "\n",
    "    print(keywords)\n",
    "\n",
    "    # We iterate through the keywords, and reverse the order of the keywords\n",
    "    # from the closest to the most distant and taking only the keywords themselves,\n",
    "    # ignoring the distances\n",
    "    keywords = [kw[0] for kw in keywords[::-1]]\n",
    "    # Store keywords in new column\n",
    "    filtered_data_with_keywords = df.copy()\n",
    "    filtered_data_with_keywords[f\"keywords_{model}\"] = [keywords] * len(df)\n",
    "\n",
    "    return filtered_data_with_keywords"
   ]
  },
  {
   "cell_type": "markdown",
   "metadata": {},
   "source": [
    "<hr>\n",
    "\n",
    "## 4. NSC"
   ]
  },
  {
   "cell_type": "code",
   "execution_count": 8,
   "metadata": {},
   "outputs": [
    {
     "name": "stdout",
     "output_type": "stream",
     "text": [
      "Elapsed time is 28.291007 seconds.\n",
      "[('wellness challenge', 0.4855), ('little more movement', 0.3441), ('camo 2nd ape tee fog essentials', 0.176), ('booking page', 0.1621), ('touch sensor', 0.1449), ('cabaran langkah', 0.1439), ('high blood pressure', 0.1226), ('general information', 0.1151), ('symptoms', 0.1023), ('incomplete scan progress', 0.0533)]\n"
     ]
    }
   ],
   "source": [
    "# Load the nsc data from the Excel sheet\n",
    "df_nsc = pd.read_excel(r\"program-sub-pages\\cleaned_grouped_programSubpages.xlsx\", sheet_name=\"nsc_concatenated\")\n",
    "df_nsc_with_keywords = extract_keywords(\n",
    "    df=df_nsc,\n",
    "    model=\"all-MiniLM-L6-v2\",  # Example model\n",
    "    spacy_pipeline=\"en_core_web_sm\",  # Example spaCy pipeline\n",
    "    stop_words=\"english\",  # Example stop words\n",
    "    workers=1,\n",
    "    use_mmr=True,  # Whether to use Maximal Marginal Relevance\n",
    "    diversity=0.7,  # Diversity parameter for MMR\n",
    "    top_n=10  # Number of top keywords to extract\n",
    ")\n",
    "\n",
    "# Save the result to CSV\n",
    "df_nsc_with_keywords.to_excel(r\"topic program subpages/keyBert/keyBert_programSubPages_nsc.xlsx\", index=False)"
   ]
  },
  {
   "cell_type": "markdown",
   "metadata": {},
   "source": [
    "<hr>\n",
    "\n",
    "## 5. Let's Move It"
   ]
  },
  {
   "cell_type": "code",
   "execution_count": 9,
   "metadata": {},
   "outputs": [
    {
     "name": "stdout",
     "output_type": "stream",
     "text": [
      "Elapsed time is 18.627127 seconds.\n",
      "[('singapore physical activity guidelines', 0.7504), ('functional balance', 0.2697), ('average age', 0.1871), ('permanent residents', 0.1401), ('excessive pregnancy', 0.1011), ('spags comprehensive information', 0.0193), ('start2move programme', 0.0169), ('different tabs', 0.0046), ('win', -0.0103), ('natural protein sources', -0.0272)]\n"
     ]
    }
   ],
   "source": [
    "# Load the letsMoveIt data from the Excel sheet\n",
    "df_letsMoveIt = pd.read_excel(r\"program-sub-pages\\cleaned_grouped_programSubpages.xlsx\", sheet_name=\"LetsMoveIt_concatenated\")\n",
    "df_letsMoveIt_with_keywords = extract_keywords(\n",
    "    df=df_letsMoveIt,\n",
    "    model=\"all-MiniLM-L6-v2\",  # Example model\n",
    "    spacy_pipeline=\"en_core_web_sm\",  # Example spaCy pipeline\n",
    "    stop_words=\"english\",  # Example stop words\n",
    "    workers=1,\n",
    "    use_mmr=True,  # Whether to use Maximal Marginal Relevance\n",
    "    diversity=0.7,  # Diversity parameter for MMR\n",
    "    top_n=10  # Number of top keywords to extract\n",
    ")\n",
    "\n",
    "# Save the result to CSV\n",
    "df_letsMoveIt_with_keywords.to_excel(r\"topic program subpages/keyBert/keyBert_programSubPages_letsMoveIt.xlsx\", index=False)"
   ]
  },
  {
   "cell_type": "markdown",
   "metadata": {},
   "source": [
    "<hr>\n",
    "\n",
    "## 6. Nutrition Hub"
   ]
  },
  {
   "cell_type": "code",
   "execution_count": 13,
   "metadata": {},
   "outputs": [
    {
     "name": "stdout",
     "output_type": "stream",
     "text": [
      "Elapsed time is 17.139226 seconds.\n",
      "[('sodium intake learn', 0.5219), ('pilot meal log challenge', 0.3749), ('nutribullet blender', 0.3733), ('caloric sweeteners', 0.3565), ('days bonus healthpoints', 0.2807), ('shop healthy passport', 0.1992), ('h365', 0.1445), ('menu labels', 0.1232), ('higher risks', 0.0867), ('scan qr code', 0.0377)]\n"
     ]
    }
   ],
   "source": [
    "# Load the nutritionHub data from the Excel sheet\n",
    "df_nutritionHub = pd.read_excel(r\"program-sub-pages\\cleaned_grouped_programSubpages.xlsx\", sheet_name=\"nutrition_hub_concatenated\")\n",
    "df_nutritionHub_with_keywords = extract_keywords(\n",
    "    df=df_nutritionHub,\n",
    "    model=\"all-MiniLM-L6-v2\",  # Example model\n",
    "    spacy_pipeline=\"en_core_web_sm\",  # Example spaCy pipeline\n",
    "    stop_words=\"english\",  # Example stop words\n",
    "    workers=1,\n",
    "    use_mmr=True,  # Whether to use Maximal Marginal Relevance\n",
    "    diversity=0.7,  # Diversity parameter for MMR\n",
    "    top_n=10  # Number of top keywords to extract\n",
    ")\n",
    "\n",
    "# Save the result to CSV\n",
    "df_nutritionHub_with_keywords.to_excel(r\"topic program subpages/keyBert/keyBert_programSubPages_nutritionHub.xlsx\", index=False)"
   ]
  },
  {
   "cell_type": "markdown",
   "metadata": {},
   "source": [
    "<hr>\n",
    "\n",
    "## 9. Screen for Life"
   ]
  },
  {
   "cell_type": "code",
   "execution_count": 15,
   "metadata": {},
   "outputs": [
    {
     "name": "stdout",
     "output_type": "stream",
     "text": [
      "Elapsed time is 15.409471 seconds.\n",
      "[('screening subsidies', 0.446), ('healthhub web portal', 0.3773), ('emails', 0.3227), ('childs birth information', 0.1887), ('inaccurate results', 0.1739), ('female singapore citizen', 0.1125), ('last mammogramcardiovascular risk', 0.0647), ('prev_step', 0.0392), ('persistent infection', -0.0047), ('heated thin loop wire', -0.0068)]\n"
     ]
    }
   ],
   "source": [
    "# Load the screenForLife data from the Excel sheet\n",
    "df_screenForLife = pd.read_excel(r\"program-sub-pages\\cleaned_grouped_programSubpages.xlsx\", sheet_name=\"screen_for_life_concatenated\")\n",
    "df_screenForLife_with_keywords = extract_keywords(\n",
    "    df=df_screenForLife,\n",
    "    model=\"all-MiniLM-L6-v2\",  # Example model\n",
    "    spacy_pipeline=\"en_core_web_sm\",  # Example spaCy pipeline\n",
    "    stop_words=\"english\",  # Example stop words\n",
    "    workers=1,\n",
    "    use_mmr=True,  # Whether to use Maximal Marginal Relevance\n",
    "    diversity=0.7,  # Diversity parameter for MMR\n",
    "    top_n=10  # Number of top keywords to extract\n",
    ")\n",
    "\n",
    "# Save the result to CSV\n",
    "df_screenForLife_with_keywords.to_csv(r\"topic program subpages/keyBert/keyBert_programSubPages_screenForLife.xlsx\", index=False)"
   ]
  },
  {
   "cell_type": "markdown",
   "metadata": {},
   "source": [
    "## 10. AAP"
   ]
  },
  {
   "cell_type": "code",
   "execution_count": 17,
   "metadata": {},
   "outputs": [
    {
     "name": "stdout",
     "output_type": "stream",
     "text": [
      "Elapsed time is 10.963290 seconds.\n",
      "[('time singpass login', 0.5837), ('live assured', 0.2644), ('new app users', 0.2351), ('step guide', 0.1681), ('health outcomes', 0.1601), ('use ear', 0.1365), ('affordable cost', 0.1049), ('limit alcohol intake', 0.0848), ('stationary march', 0.0368), ('project silver screen', -0.0166)]\n"
     ]
    }
   ],
   "source": [
    "# Load the AAP data from the Excel sheet\n",
    "df_AAP = pd.read_excel(r\"program-sub-pages\\cleaned_grouped_programSubpages.xlsx\", sheet_name=\"AAP_concatenated\")\n",
    "df_AAP_with_keywords = extract_keywords(\n",
    "    df=df_AAP,\n",
    "    model=\"all-MiniLM-L6-v2\",  # Example model\n",
    "    spacy_pipeline=\"en_core_web_sm\",  # Example spaCy pipeline\n",
    "    stop_words=\"english\",  # Example stop words\n",
    "    workers=1,\n",
    "    use_mmr=True,  # Whether to use Maximal Marginal Relevance\n",
    "    diversity=0.7,  # Diversity parameter for MMR\n",
    "    top_n=10  # Number of top keywords to extract\n",
    ")\n",
    "\n",
    "# Save the result to CSV\n",
    "df_AAP_with_keywords.to_csv(r\"topic program subpages/keyBert/keyBert_programSubPages_AAP.xlsx\", index=False)"
   ]
  },
  {
   "cell_type": "markdown",
   "metadata": {},
   "source": [
    "## 11. IQuit"
   ]
  },
  {
   "cell_type": "code",
   "execution_count": 18,
   "metadata": {},
   "outputs": [
    {
     "name": "stdout",
     "output_type": "stream",
     "text": [
      "Elapsed time is 10.167703 seconds.\n",
      "[('quit programme', 0.4609), ('vape_view', 0.3545), ('national population health survey', 0.252), ('tob control', 0.1651), ('online first', 0.1303), ('main difference', 0.1032), ('warehouse raid cna', 0.0488), ('metal nanoparticles tin', 0.0386), ('sweating dizziness', 0.0371), ('causes infertility', 0.0342)]\n"
     ]
    }
   ],
   "source": [
    "# Load the vaping data from the Excel sheet\n",
    "df_vaping = pd.read_excel(r\"program-sub-pages\\cleaned_grouped_programSubpages.xlsx\", sheet_name=\"iquit_concatenated\")\n",
    "df_vaping_with_keywords = extract_keywords(\n",
    "    df=df_vaping,\n",
    "    model=\"all-MiniLM-L6-v2\",  # Example model\n",
    "    spacy_pipeline=\"en_core_web_sm\",  # Example spaCy pipeline\n",
    "    stop_words=\"english\",  # Example stop words\n",
    "    workers=1,\n",
    "    use_mmr=True,  # Whether to use Maximal Marginal Relevance\n",
    "    diversity=0.7,  # Diversity parameter for MMR\n",
    "    top_n=10  # Number of top keywords to extract\n",
    ")\n",
    "\n",
    "# Save the result to CSV\n",
    "df_vaping_with_keywords.to_csv(r\"topic program subpages/keyBert/keyBert_programSubPages_iquit.xlsx\", index=False)"
   ]
  },
  {
   "cell_type": "markdown",
   "metadata": {},
   "source": [
    "## 11. Healthy 365"
   ]
  },
  {
   "cell_type": "code",
   "execution_count": 20,
   "metadata": {},
   "outputs": [
    {
     "name": "stdout",
     "output_type": "stream",
     "text": [
      "Elapsed time is 5.733129 seconds.\n",
      "[('time singpass login', 0.5398), ('enough healthpoints', 0.2978), ('simplygo mobile appsimplygo mobile app', 0.2552), ('multiple hpb evouchers', 0.2378), ('step instructions', 0.18), ('monday', 0.1696), ('retailer vouchers', 0.1486), ('activewallet pin', 0.1432), ('integrated transport hubs islandwide', 0.0166), ('unauthorised sources', -0.0664)]\n"
     ]
    }
   ],
   "source": [
    "# Load the healthy365 data from the Excel sheet\n",
    "df_healthy365 = pd.read_excel(r\"program-sub-pages\\cleaned_grouped_programSubpages.xlsx\", sheet_name=\"healthy365_concatenated\")\n",
    "df_healthy365_with_keywords = extract_keywords(\n",
    "    df=df_healthy365,\n",
    "    model=\"all-MiniLM-L6-v2\",  # Example model\n",
    "    spacy_pipeline=\"en_core_web_sm\",  # Example spaCy pipeline\n",
    "    stop_words=\"english\",  # Example stop words\n",
    "    workers=1,\n",
    "    use_mmr=True,  # Whether to use Maximal Marginal Relevance\n",
    "    diversity=0.7,  # Diversity parameter for MMR\n",
    "    top_n=10  # Number of top keywords to extract\n",
    ")\n",
    "\n",
    "# Save the result to CSV\n",
    "df_healthy365_with_keywords.to_csv(r\"topic program subpages/keyBert/keyBert_programSubPages_healthy365.xlsx\", index=False)"
   ]
  },
  {
   "cell_type": "markdown",
   "metadata": {},
   "source": [
    "## 12. Preventive Health"
   ]
  },
  {
   "cell_type": "code",
   "execution_count": 21,
   "metadata": {},
   "outputs": [
    {
     "name": "stdout",
     "output_type": "stream",
     "text": [
      "Elapsed time is 6.865510 seconds.\n",
      "[('use hand sanitiser', 0.5414), ('health risks', 0.3096), ('peak flu season', 0.2996), ('pulmonary tb', 0.2799), ('faqs', 0.2106), ('hfmd spreads', 0.2037), ('gp clinics', 0.1619), ('ensure toys', 0.1158), ('public surfaces', 0.1114), ('metabolic', 0.04)]\n"
     ]
    }
   ],
   "source": [
    "# Load the preventiveHealth data from the Excel sheet\n",
    "df_preventiveHealth = pd.read_excel(r\"program-sub-pages\\cleaned_grouped_programSubpages.xlsx\", sheet_name=\"preventive_health_concatenated\")\n",
    "df_preventiveHealth_with_keywords = extract_keywords(\n",
    "    df=df_preventiveHealth,\n",
    "    model=\"all-MiniLM-L6-v2\",  # Example model\n",
    "    spacy_pipeline=\"en_core_web_sm\",  # Example spaCy pipeline\n",
    "    stop_words=\"english\",  # Example stop words\n",
    "    workers=1,\n",
    "    use_mmr=True,  # Whether to use Maximal Marginal Relevance\n",
    "    diversity=0.7,  # Diversity parameter for MMR\n",
    "    top_n=10  # Number of top keywords to extract\n",
    ")\n",
    "\n",
    "# Save the result to CSV\n",
    "df_preventiveHealth_with_keywords.to_csv(r\"topic program subpages/keyBert/keyBert_programSubPages_preventiveHealth.xlsx\", index=False)"
   ]
  },
  {
   "cell_type": "markdown",
   "metadata": {},
   "source": [
    "## 13. STI"
   ]
  },
  {
   "cell_type": "code",
   "execution_count": 22,
   "metadata": {},
   "outputs": [
    {
     "name": "stdout",
     "output_type": "stream",
     "text": [
      "Elapsed time is 3.367535 seconds.\n",
      "[('hiv', 0.6392), ('implementation guide', 0.1447), ('weight loss', 0.1322), ('consistent treatment', 0.103), ('start', 0.0647), ('negative test', 0.0572), ('common surfaces', 0.0496), ('powerful impact', 0.0161), ('eligible singapore residents', -0.0313), ('different window periods', -0.0727)]\n"
     ]
    }
   ],
   "source": [
    "# Load the sti data from the Excel sheet\n",
    "df_sti = pd.read_excel(r\"program-sub-pages\\cleaned_grouped_programSubpages.xlsx\", sheet_name=\"sti_concatenated\")\n",
    "df_sti_with_keywords = extract_keywords(\n",
    "    df=df_sti,\n",
    "    model=\"all-MiniLM-L6-v2\",  # Example model\n",
    "    spacy_pipeline=\"en_core_web_sm\",  # Example spaCy pipeline\n",
    "    stop_words=\"english\",  # Example stop words\n",
    "    workers=1,\n",
    "    use_mmr=True,  # Whether to use Maximal Marginal Relevance\n",
    "    diversity=0.7,  # Diversity parameter for MMR\n",
    "    top_n=10  # Number of top keywords to extract\n",
    ")\n",
    "\n",
    "# Save the result to CSV\n",
    "df_sti_with_keywords.to_csv(r\"topic program subpages/keyBert/keyBert_programSubPages_sti.xlsx\", index=False)"
   ]
  }
 ],
 "metadata": {
  "kernelspec": {
   "display_name": "hhcontentopt-dev",
   "language": "python",
   "name": "python3"
  },
  "language_info": {
   "codemirror_mode": {
    "name": "ipython",
    "version": 3
   },
   "file_extension": ".py",
   "mimetype": "text/x-python",
   "name": "python",
   "nbconvert_exporter": "python",
   "pygments_lexer": "ipython3",
   "version": "3.11.9"
  }
 },
 "nbformat": 4,
 "nbformat_minor": 2
}
