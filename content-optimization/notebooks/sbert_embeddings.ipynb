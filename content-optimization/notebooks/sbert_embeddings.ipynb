{
 "cells": [
  {
   "cell_type": "markdown",
   "metadata": {},
   "source": [
    "## Setup"
   ]
  },
  {
   "cell_type": "code",
   "execution_count": 1,
   "metadata": {},
   "outputs": [],
   "source": [
    "%%capture\n",
    "%load_ext kedro.ipython"
   ]
  },
  {
   "cell_type": "code",
   "execution_count": 2,
   "metadata": {},
   "outputs": [
    {
     "data": {
      "text/html": [
       "<pre style=\"white-space:pre;overflow-x:auto;line-height:normal;font-family:Menlo,'DejaVu Sans Mono',consolas,'Courier New',monospace\"><span style=\"color: #7fbfbf; text-decoration-color: #7fbfbf\">[07/01/24 18:16:47] </span><span style=\"color: #800000; text-decoration-color: #800000\">WARNING </span> c:\\Users\\Joycelyn\\anaconda3\\envs\\genai-hh\\Lib\\site-packages\\sentence_t <a href=\"file://c:\\Users\\Joycelyn\\anaconda3\\envs\\genai-hh\\Lib\\warnings.py\" target=\"_blank\"><span style=\"color: #7f7f7f; text-decoration-color: #7f7f7f\">warnings.py</span></a><span style=\"color: #7f7f7f; text-decoration-color: #7f7f7f\">:</span><a href=\"file://c:\\Users\\Joycelyn\\anaconda3\\envs\\genai-hh\\Lib\\warnings.py#110\" target=\"_blank\"><span style=\"color: #7f7f7f; text-decoration-color: #7f7f7f\">110</span></a>\n",
       "<span style=\"color: #7fbfbf; text-decoration-color: #7fbfbf\">                    </span>         ransformers\\cross_encoder\\CrossEncoder.py:<span style=\"color: #008080; text-decoration-color: #008080; font-weight: bold\">11</span>: TqdmWarning: IProgress   <span style=\"color: #7f7f7f; text-decoration-color: #7f7f7f\">               </span>\n",
       "<span style=\"color: #7fbfbf; text-decoration-color: #7fbfbf\">                    </span>         not found. Please update jupyter and ipywidgets. See                   <span style=\"color: #7f7f7f; text-decoration-color: #7f7f7f\">               </span>\n",
       "<span style=\"color: #7fbfbf; text-decoration-color: #7fbfbf\">                    </span>         <span style=\"color: #0000ff; text-decoration-color: #0000ff; text-decoration: underline\">https://ipywidgets.readthedocs.io/en/stable/user_install.html</span>          <span style=\"color: #7f7f7f; text-decoration-color: #7f7f7f\">               </span>\n",
       "<span style=\"color: #7fbfbf; text-decoration-color: #7fbfbf\">                    </span>           from tqdm.autonotebook import tqdm, trange                           <span style=\"color: #7f7f7f; text-decoration-color: #7f7f7f\">               </span>\n",
       "<span style=\"color: #7fbfbf; text-decoration-color: #7fbfbf\">                    </span>                                                                                <span style=\"color: #7f7f7f; text-decoration-color: #7f7f7f\">               </span>\n",
       "</pre>\n"
      ],
      "text/plain": [
       "\u001b[2;36m[07/01/24 18:16:47]\u001b[0m\u001b[2;36m \u001b[0m\u001b[31mWARNING \u001b[0m c:\\Users\\Joycelyn\\anaconda3\\envs\\genai-hh\\Lib\\site-packages\\sentence_t \u001b]8;id=686621;file://c:\\Users\\Joycelyn\\anaconda3\\envs\\genai-hh\\Lib\\warnings.py\u001b\\\u001b[2mwarnings.py\u001b[0m\u001b]8;;\u001b\\\u001b[2m:\u001b[0m\u001b]8;id=797727;file://c:\\Users\\Joycelyn\\anaconda3\\envs\\genai-hh\\Lib\\warnings.py#110\u001b\\\u001b[2m110\u001b[0m\u001b]8;;\u001b\\\n",
       "\u001b[2;36m                    \u001b[0m         ransformers\\cross_encoder\\CrossEncoder.py:\u001b[1;36m11\u001b[0m: TqdmWarning: IProgress   \u001b[2m               \u001b[0m\n",
       "\u001b[2;36m                    \u001b[0m         not found. Please update jupyter and ipywidgets. See                   \u001b[2m               \u001b[0m\n",
       "\u001b[2;36m                    \u001b[0m         \u001b[4;94mhttps://ipywidgets.readthedocs.io/en/stable/user_install.html\u001b[0m          \u001b[2m               \u001b[0m\n",
       "\u001b[2;36m                    \u001b[0m           from tqdm.autonotebook import tqdm, trange                           \u001b[2m               \u001b[0m\n",
       "\u001b[2;36m                    \u001b[0m                                                                                \u001b[2m               \u001b[0m\n"
      ]
     },
     "metadata": {},
     "output_type": "display_data"
    }
   ],
   "source": [
    "import os\n",
    "\n",
    "import numpy as np\n",
    "import pyarrow as pa\n",
    "import pyarrow.parquet as pq\n",
    "from alive_progress import alive_bar\n",
    "from nltk.tokenize import sent_tokenize\n",
    "from sentence_transformers import SentenceTransformer\n",
    "from transformers import AutoTokenizer\n",
    "from transformers.models.bert import BertTokenizerFast"
   ]
  },
  {
   "cell_type": "code",
   "execution_count": 3,
   "metadata": {},
   "outputs": [],
   "source": [
    "# Parameters\n",
    "MODEL_NAME: str = \"multi-qa-mpnet-base-cos-v1\"\n",
    "OWNER: str = \"sentence-transformers\"\n",
    "POOLING_STRATEGY: str = \"mean\"\n",
    "CONTRIBUTOR: str = \"Health Promotion Board\"\n",
    "\n",
    "# specify content_category. input 'all' if running across all categories\n",
    "CONTENT_CATEGORY: str = \"live-healthy-articles\"\n",
    "\n",
    "# adjust accordingly\n",
    "THRESHOLD: float = 0.7"
   ]
  },
  {
   "cell_type": "code",
   "execution_count": 23,
   "metadata": {},
   "outputs": [],
   "source": [
    "INPUT_GROUNDTRUTH_PATH = os.path.join(\n",
    "    \"..\",\n",
    "    \"data\",\n",
    "    \"01_raw\",\n",
    "    \"Synapxe Content Prioritisation - Live Healthy_020724.xlsx\",\n",
    ")\n",
    "\n",
    "# Create main output folder and subfolders\n",
    "OUTPUT_FOLDER_PATH = os.path.join(\n",
    "    \"..\",\n",
    "    \"data\",\n",
    "    \"07_model_output\",\n",
    "    f\"{CONTENT_CATEGORY}\",\n",
    ")\n",
    "\n",
    "if not os.path.exists(OUTPUT_FOLDER_PATH):\n",
    "    os.makedirs(OUTPUT_FOLDER_PATH)\n",
    "\n",
    "# Embeddings output\n",
    "OUTPUT_EMBEDDING_PATH = os.path.join(\n",
    "    OUTPUT_FOLDER_PATH,\n",
    "    f\"{CONTENT_CATEGORY}_{MODEL_NAME}_embeddings.parquet\",\n",
    ")\n",
    "\n",
    "OUTPUT_EMBEDDING_NEO4J_PATH = os.path.join(\n",
    "    OUTPUT_FOLDER_PATH,\n",
    "    f\"{CONTENT_CATEGORY}_{MODEL_NAME}_embeddings_neo4j.pkl\",\n",
    ")"
   ]
  },
  {
   "cell_type": "code",
   "execution_count": 5,
   "metadata": {},
   "outputs": [
    {
     "data": {
      "text/html": [
       "<pre style=\"white-space:pre;overflow-x:auto;line-height:normal;font-family:Menlo,'DejaVu Sans Mono',consolas,'Courier New',monospace\"><span style=\"color: #7fbfbf; text-decoration-color: #7fbfbf\">[07/01/24 18:16:52] </span><span style=\"color: #000080; text-decoration-color: #000080\">INFO    </span> Loading data from <span style=\"color: #ff8700; text-decoration-color: #ff8700\">merged_data</span> <span style=\"font-weight: bold\">(</span>ParquetDataset<span style=\"font-weight: bold\">)</span><span style=\"color: #808000; text-decoration-color: #808000\">...</span>                  <a href=\"file://c:\\Users\\Joycelyn\\anaconda3\\envs\\genai-hh\\Lib\\site-packages\\kedro\\io\\data_catalog.py\" target=\"_blank\"><span style=\"color: #7f7f7f; text-decoration-color: #7f7f7f\">data_catalog.py</span></a><span style=\"color: #7f7f7f; text-decoration-color: #7f7f7f\">:</span><a href=\"file://c:\\Users\\Joycelyn\\anaconda3\\envs\\genai-hh\\Lib\\site-packages\\kedro\\io\\data_catalog.py#508\" target=\"_blank\"><span style=\"color: #7f7f7f; text-decoration-color: #7f7f7f\">508</span></a>\n",
       "</pre>\n"
      ],
      "text/plain": [
       "\u001b[2;36m[07/01/24 18:16:52]\u001b[0m\u001b[2;36m \u001b[0m\u001b[34mINFO    \u001b[0m Loading data from \u001b[38;5;208mmerged_data\u001b[0m \u001b[1m(\u001b[0mParquetDataset\u001b[1m)\u001b[0m\u001b[33m...\u001b[0m                  \u001b]8;id=115102;file://c:\\Users\\Joycelyn\\anaconda3\\envs\\genai-hh\\Lib\\site-packages\\kedro\\io\\data_catalog.py\u001b\\\u001b[2mdata_catalog.py\u001b[0m\u001b]8;;\u001b\\\u001b[2m:\u001b[0m\u001b]8;id=704563;file://c:\\Users\\Joycelyn\\anaconda3\\envs\\genai-hh\\Lib\\site-packages\\kedro\\io\\data_catalog.py#508\u001b\\\u001b[2m508\u001b[0m\u001b]8;;\u001b\\\n"
      ]
     },
     "metadata": {},
     "output_type": "display_data"
    },
    {
     "name": "stdout",
     "output_type": "stream",
     "text": [
      "(2613, 33)\n"
     ]
    },
    {
     "data": {
      "text/html": [
       "<pre style=\"white-space:pre;overflow-x:auto;line-height:normal;font-family:Menlo,'DejaVu Sans Mono',consolas,'Courier New',monospace\"></pre>\n"
      ],
      "text/plain": []
     },
     "metadata": {},
     "output_type": "display_data"
    },
    {
     "data": {
      "text/html": [
       "<div>\n",
       "<style scoped>\n",
       "    .dataframe tbody tr th:only-of-type {\n",
       "        vertical-align: middle;\n",
       "    }\n",
       "\n",
       "    .dataframe tbody tr th {\n",
       "        vertical-align: top;\n",
       "    }\n",
       "\n",
       "    .dataframe thead th {\n",
       "        text-align: right;\n",
       "    }\n",
       "</style>\n",
       "<table border=\"1\" class=\"dataframe\">\n",
       "  <thead>\n",
       "    <tr style=\"text-align: right;\">\n",
       "      <th></th>\n",
       "      <th>id</th>\n",
       "      <th>content_name</th>\n",
       "      <th>title</th>\n",
       "      <th>article_category_names</th>\n",
       "      <th>cover_image_url</th>\n",
       "      <th>full_url</th>\n",
       "      <th>full_url2</th>\n",
       "      <th>friendly_url</th>\n",
       "      <th>category_description</th>\n",
       "      <th>content_body</th>\n",
       "      <th>...</th>\n",
       "      <th>percentage_total_views</th>\n",
       "      <th>cumulative_percentage_total_views</th>\n",
       "      <th>content_category</th>\n",
       "      <th>to_remove</th>\n",
       "      <th>has_table</th>\n",
       "      <th>has_image</th>\n",
       "      <th>related_sections</th>\n",
       "      <th>extracted_links</th>\n",
       "      <th>extracted_headers</th>\n",
       "      <th>extracted_content_body</th>\n",
       "    </tr>\n",
       "  </thead>\n",
       "  <tbody>\n",
       "    <tr>\n",
       "      <th>0</th>\n",
       "      <td>1435040</td>\n",
       "      <td>Breast Screening Subsidies in Singapore</td>\n",
       "      <td>Breast Screening Subsidies in Singapore</td>\n",
       "      <td>Conditions and Illnesses,</td>\n",
       "      <td>https://ch-api.healthhub.sg/api/public/content...</td>\n",
       "      <td>https://www.healthhub.sg/a-z/costs-and-financi...</td>\n",
       "      <td>www.healthhub.sg/a-z/costs-and-financing/breas...</td>\n",
       "      <td>breast-cancer-screening-subsidies</td>\n",
       "      <td>Here’s all you need to know about breast cance...</td>\n",
       "      <td>&lt;div class=\"ExternalClass07C58E0D957B4AA7B14FC...</td>\n",
       "      <td>...</td>\n",
       "      <td>0.216244</td>\n",
       "      <td>0.216244</td>\n",
       "      <td>cost-and-financing</td>\n",
       "      <td>False</td>\n",
       "      <td>True</td>\n",
       "      <td>False</td>\n",
       "      <td>[Cancer Facts You Cannot Ignore]</td>\n",
       "      <td>[[Cancer Facts You Cannot Ignore, https://www....</td>\n",
       "      <td>[[Breast Cancer Screening, h2], [Subsidy for M...</td>\n",
       "      <td>Breast cancer is the number one cancer among w...</td>\n",
       "    </tr>\n",
       "    <tr>\n",
       "      <th>1</th>\n",
       "      <td>1435071</td>\n",
       "      <td>Marriage and Parenthood Schemes</td>\n",
       "      <td>Marriage and Parenthood Schemes</td>\n",
       "      <td>Body Care,</td>\n",
       "      <td>https://ch-api.healthhub.sg/api/public/content...</td>\n",
       "      <td>https://www.healthhub.sg/a-z/costs-and-financi...</td>\n",
       "      <td>www.healthhub.sg/a-z/costs-and-financing/marri...</td>\n",
       "      <td>marriage_parenthood_scheme</td>\n",
       "      <td>New parents and couples looking to conceive ca...</td>\n",
       "      <td>&lt;div class=\"ExternalClassE1D82270F17241E495537...</td>\n",
       "      <td>...</td>\n",
       "      <td>0.111180</td>\n",
       "      <td>0.327423</td>\n",
       "      <td>cost-and-financing</td>\n",
       "      <td>False</td>\n",
       "      <td>True</td>\n",
       "      <td>False</td>\n",
       "      <td>[MediSave, Baby Bonus What You Need to Know, I...</td>\n",
       "      <td>[[How to Submit Claims, https://crms.moh.gov.s...</td>\n",
       "      <td>[[MediSave Maternity Package, h2], [Examples o...</td>\n",
       "      <td>MediSave Maternity Package\\nWith the MediSave ...</td>\n",
       "    </tr>\n",
       "  </tbody>\n",
       "</table>\n",
       "<p>2 rows × 33 columns</p>\n",
       "</div>"
      ],
      "text/plain": [
       "\n",
       "        id                             content_name  \\\n",
       "\u001b[1;36m0\u001b[0m  \u001b[1;36m1435040\u001b[0m  Breast Screening Subsidies in Singapore   \n",
       "\u001b[1;36m1\u001b[0m  \u001b[1;36m1435071\u001b[0m          Marriage and Parenthood Schemes   \n",
       "\n",
       "                                     title     article_category_names  \\\n",
       "\u001b[1;36m0\u001b[0m  Breast Screening Subsidies in Singapore  Conditions and Illnesses,   \n",
       "\u001b[1;36m1\u001b[0m          Marriage and Parenthood Schemes                 Body Care,   \n",
       "\n",
       "                                     cover_image_url  \\\n",
       "\u001b[1;36m0\u001b[0m  \u001b[4;94mhttps://ch-api.healthhub.sg/api/public/content...\u001b[0m   \n",
       "\u001b[1;36m1\u001b[0m  \u001b[4;94mhttps://ch-api.healthhub.sg/api/public/content...\u001b[0m   \n",
       "\n",
       "                                            full_url  \\\n",
       "\u001b[1;36m0\u001b[0m  \u001b[4;94mhttps://www.healthhub.sg/a-z/costs-and-financi...\u001b[0m   \n",
       "\u001b[1;36m1\u001b[0m  \u001b[4;94mhttps://www.healthhub.sg/a-z/costs-and-financi...\u001b[0m   \n",
       "\n",
       "                                           full_url2  \\\n",
       "\u001b[1;36m0\u001b[0m  www.healthhub.sg/a-z/costs-and-financing/breas\u001b[33m...\u001b[0m   \n",
       "\u001b[1;36m1\u001b[0m  www.healthhub.sg/a-z/costs-and-financing/marri\u001b[33m...\u001b[0m   \n",
       "\n",
       "                        friendly_url  \\\n",
       "\u001b[1;36m0\u001b[0m  breast-cancer-screening-subsidies   \n",
       "\u001b[1;36m1\u001b[0m         marriage_parenthood_scheme   \n",
       "\n",
       "                                category_description  \\\n",
       "\u001b[1;36m0\u001b[0m  Here’s all you need to know about breast cance\u001b[33m...\u001b[0m   \n",
       "\u001b[1;36m1\u001b[0m  New parents and couples looking to conceive ca\u001b[33m...\u001b[0m   \n",
       "\n",
       "                                        content_body  \u001b[33m...\u001b[0m  \\\n",
       "\u001b[1;36m0\u001b[0m  <div \u001b[33mclass\u001b[0m=\u001b[35m\"ExternalClass07C58E0D957B4AA7B14FC\u001b[0m\u001b[33m...\u001b[0m  \u001b[33m...\u001b[0m   \n",
       "\u001b[1;36m1\u001b[0m  <div \u001b[33mclass\u001b[0m=\u001b[35m\"ExternalClassE1D82270F17241E495537\u001b[0m\u001b[33m...\u001b[0m  \u001b[33m...\u001b[0m   \n",
       "\n",
       "  percentage_total_views cumulative_percentage_total_views  \\\n",
       "\u001b[1;36m0\u001b[0m               \u001b[1;36m0.216244\u001b[0m                          \u001b[1;36m0.216244\u001b[0m   \n",
       "\u001b[1;36m1\u001b[0m               \u001b[1;36m0.111180\u001b[0m                          \u001b[1;36m0.327423\u001b[0m   \n",
       "\n",
       "     content_category to_remove has_table  has_image  \\\n",
       "\u001b[1;36m0\u001b[0m  cost-and-financing     \u001b[3;91mFalse\u001b[0m      \u001b[3;92mTrue\u001b[0m      \u001b[3;91mFalse\u001b[0m   \n",
       "\u001b[1;36m1\u001b[0m  cost-and-financing     \u001b[3;91mFalse\u001b[0m      \u001b[3;92mTrue\u001b[0m      \u001b[3;91mFalse\u001b[0m   \n",
       "\n",
       "                                    related_sections  \\\n",
       "\u001b[1;36m0\u001b[0m                   \u001b[1m[\u001b[0mCancer Facts You Cannot Ignore\u001b[1m]\u001b[0m   \n",
       "\u001b[1;36m1\u001b[0m  \u001b[1m[\u001b[0mMediSave, Baby Bonus What You Need to Know, I\u001b[33m...\u001b[0m   \n",
       "\n",
       "                                     extracted_links  \\\n",
       "\u001b[1;36m0\u001b[0m  \u001b[1m[\u001b[0m\u001b[1m[\u001b[0mCancer Facts You Cannot Ignore, \u001b[4;94mhttps://www....\u001b[0m   \n",
       "\u001b[1;36m1\u001b[0m  \u001b[1m[\u001b[0m\u001b[1m[\u001b[0mHow to Submit Claims, \u001b[4;94mhttps://crms.moh.gov.s...\u001b[0m   \n",
       "\n",
       "                                   extracted_headers  \\\n",
       "\u001b[1;36m0\u001b[0m  \u001b[1m[\u001b[0m\u001b[1m[\u001b[0mBreast Cancer Screening, h2\u001b[1m]\u001b[0m, \u001b[1m[\u001b[0mSubsidy for M\u001b[33m...\u001b[0m   \n",
       "\u001b[1;36m1\u001b[0m  \u001b[1m[\u001b[0m\u001b[1m[\u001b[0mMediSave Maternity Package, h2\u001b[1m]\u001b[0m, \u001b[1m[\u001b[0mExamples o\u001b[33m...\u001b[0m   \n",
       "\n",
       "                              extracted_content_body  \n",
       "\u001b[1;36m0\u001b[0m  Breast cancer is the number one cancer among w\u001b[33m...\u001b[0m  \n",
       "\u001b[1;36m1\u001b[0m  MediSave Maternity Package\\nWith the MediSave \u001b[33m...\u001b[0m  \n",
       "\n",
       "\u001b[1m[\u001b[0m\u001b[1;36m2\u001b[0m rows x \u001b[1;36m33\u001b[0m columns\u001b[1m]\u001b[0m"
      ]
     },
     "execution_count": 5,
     "metadata": {},
     "output_type": "execute_result"
    }
   ],
   "source": [
    "df = catalog.load(\"merged_data\")  # noqa\n",
    "print(df.shape)\n",
    "df.head(2)"
   ]
  },
  {
   "cell_type": "markdown",
   "metadata": {},
   "source": [
    "## Pre-processing"
   ]
  },
  {
   "cell_type": "code",
   "execution_count": 6,
   "metadata": {},
   "outputs": [
    {
     "name": "stdout",
     "output_type": "stream",
     "text": [
      "(623, 21)\n"
     ]
    },
    {
     "data": {
      "text/html": [
       "<pre style=\"white-space:pre;overflow-x:auto;line-height:normal;font-family:Menlo,'DejaVu Sans Mono',consolas,'Courier New',monospace\"></pre>\n"
      ],
      "text/plain": []
     },
     "metadata": {},
     "output_type": "display_data"
    },
    {
     "data": {
      "text/html": [
       "<div>\n",
       "<style scoped>\n",
       "    .dataframe tbody tr th:only-of-type {\n",
       "        vertical-align: middle;\n",
       "    }\n",
       "\n",
       "    .dataframe tbody tr th {\n",
       "        vertical-align: top;\n",
       "    }\n",
       "\n",
       "    .dataframe thead th {\n",
       "        text-align: right;\n",
       "    }\n",
       "</style>\n",
       "<table border=\"1\" class=\"dataframe\">\n",
       "  <thead>\n",
       "    <tr style=\"text-align: right;\">\n",
       "      <th></th>\n",
       "      <th>id</th>\n",
       "      <th>content_name</th>\n",
       "      <th>title</th>\n",
       "      <th>article_category_names</th>\n",
       "      <th>cover_image_url</th>\n",
       "      <th>full_url</th>\n",
       "      <th>category_description</th>\n",
       "      <th>content_body</th>\n",
       "      <th>keywords</th>\n",
       "      <th>feature_title</th>\n",
       "      <th>...</th>\n",
       "      <th>date_modified</th>\n",
       "      <th>page_views</th>\n",
       "      <th>engagement_rate</th>\n",
       "      <th>content_category</th>\n",
       "      <th>has_table</th>\n",
       "      <th>has_image</th>\n",
       "      <th>related_sections</th>\n",
       "      <th>extracted_links</th>\n",
       "      <th>extracted_headers</th>\n",
       "      <th>extracted_content_body</th>\n",
       "    </tr>\n",
       "  </thead>\n",
       "  <tbody>\n",
       "    <tr>\n",
       "      <th>367</th>\n",
       "      <td>1444475</td>\n",
       "      <td>Weight, BMI and Health Problems</td>\n",
       "      <td>Weight, BMI and Health Problems</td>\n",
       "      <td>Food and Nutrition,</td>\n",
       "      <td>https://ch-api.healthhub.sg/api/public/content...</td>\n",
       "      <td>https://www.healthhub.sg/live-healthy/weight_p...</td>\n",
       "      <td>What’s your Body Mass Index (BMI)? Learn how t...</td>\n",
       "      <td>&lt;div class=\"ExternalClassE93BEC3784C545A286BB8...</td>\n",
       "      <td>PGM_Obesity Prevention,PGM_HealthAmbassador,AG...</td>\n",
       "      <td>BMI and Your Health</td>\n",
       "      <td>...</td>\n",
       "      <td>2023-05-10T09:39:54.0000000Z</td>\n",
       "      <td>19977</td>\n",
       "      <td>0.690791</td>\n",
       "      <td>live-healthy-articles</td>\n",
       "      <td>False</td>\n",
       "      <td>False</td>\n",
       "      <td>[BMI Calculator, What is a Healthy Weight?, An...</td>\n",
       "      <td>[[BMI Calculator, https://www.healthhub.sg/pro...</td>\n",
       "      <td>[[What's a Healthy Body Mass Index?, h2], [Why...</td>\n",
       "      <td>What's a Healthy Body Mass Index?\\nWe have all...</td>\n",
       "    </tr>\n",
       "    <tr>\n",
       "      <th>368</th>\n",
       "      <td>1445137</td>\n",
       "      <td>7-month-baby Diet: An Authoritative Guide by O...</td>\n",
       "      <td>7-month-baby Diet: An Authoritative Guide by O...</td>\n",
       "      <td>Food and Nutrition,</td>\n",
       "      <td>https://ch-api.healthhub.sg/api/public/content...</td>\n",
       "      <td>https://www.healthhub.sg/live-healthy/meal-ide...</td>\n",
       "      <td>Your little one is now 7 months of age. Should...</td>\n",
       "      <td>&lt;div class=\"ExternalClass46E64333542C4D8CBEA23...</td>\n",
       "      <td>None</td>\n",
       "      <td>None</td>\n",
       "      <td>...</td>\n",
       "      <td>2022-11-15T08:35:41.0000000Z</td>\n",
       "      <td>18876</td>\n",
       "      <td>0.688392</td>\n",
       "      <td>live-healthy-articles</td>\n",
       "      <td>True</td>\n",
       "      <td>True</td>\n",
       "      <td>[Nutrition for Your Toddler, No Wholegrain, No...</td>\n",
       "      <td>[[Nutrition for Your Toddler, https://www.heal...</td>\n",
       "      <td>[[Recommended Number of Servings (7 months), h...</td>\n",
       "      <td>By Health Promotion Board in collaboration wit...</td>\n",
       "    </tr>\n",
       "  </tbody>\n",
       "</table>\n",
       "<p>2 rows × 21 columns</p>\n",
       "</div>"
      ],
      "text/plain": [
       "\n",
       "          id                                       content_name  \\\n",
       "\u001b[1;36m367\u001b[0m  \u001b[1;36m1444475\u001b[0m                    Weight, BMI and Health Problems   \n",
       "\u001b[1;36m368\u001b[0m  \u001b[1;36m1445137\u001b[0m  \u001b[1;36m7\u001b[0m-month-baby Diet: An Authoritative Guide by O\u001b[33m...\u001b[0m   \n",
       "\n",
       "                                                 title article_category_names  \\\n",
       "\u001b[1;36m367\u001b[0m                    Weight, BMI and Health Problems    Food and Nutrition,   \n",
       "\u001b[1;36m368\u001b[0m  \u001b[1;36m7\u001b[0m-month-baby Diet: An Authoritative Guide by O\u001b[33m...\u001b[0m    Food and Nutrition,   \n",
       "\n",
       "                                       cover_image_url  \\\n",
       "\u001b[1;36m367\u001b[0m  \u001b[4;94mhttps://ch-api.healthhub.sg/api/public/content...\u001b[0m   \n",
       "\u001b[1;36m368\u001b[0m  \u001b[4;94mhttps://ch-api.healthhub.sg/api/public/content...\u001b[0m   \n",
       "\n",
       "                                              full_url  \\\n",
       "\u001b[1;36m367\u001b[0m  \u001b[4;94mhttps://www.healthhub.sg/live-healthy/weight_p...\u001b[0m   \n",
       "\u001b[1;36m368\u001b[0m  \u001b[4;94mhttps://www.healthhub.sg/live-healthy/meal-ide...\u001b[0m   \n",
       "\n",
       "                                  category_description  \\\n",
       "\u001b[1;36m367\u001b[0m  What’s your Body Mass Index \u001b[1m(\u001b[0mBMI\u001b[1m)\u001b[0m? Learn how t\u001b[33m...\u001b[0m   \n",
       "\u001b[1;36m368\u001b[0m  Your little one is now \u001b[1;36m7\u001b[0m months of age. Should\u001b[33m...\u001b[0m   \n",
       "\n",
       "                                          content_body  \\\n",
       "\u001b[1;36m367\u001b[0m  <div \u001b[33mclass\u001b[0m=\u001b[35m\"ExternalClassE93BEC3784C545A286BB8\u001b[0m\u001b[33m...\u001b[0m   \n",
       "\u001b[1;36m368\u001b[0m  <div \u001b[33mclass\u001b[0m=\u001b[35m\"ExternalClass46E64333542C4D8CBEA23\u001b[0m\u001b[33m...\u001b[0m   \n",
       "\n",
       "                                              keywords        feature_title  \\\n",
       "\u001b[1;36m367\u001b[0m  PGM_Obesity Prevention,PGM_HealthAmbassador,AG\u001b[33m...\u001b[0m  BMI and Your Health   \n",
       "\u001b[1;36m368\u001b[0m                                               \u001b[3;35mNone\u001b[0m                 \u001b[3;35mNone\u001b[0m   \n",
       "\n",
       "     \u001b[33m...\u001b[0m                 date_modified page_views  engagement_rate  \\\n",
       "\u001b[1;36m367\u001b[0m  \u001b[33m...\u001b[0m  \u001b[1;36m2023\u001b[0m-\u001b[1;36m05\u001b[0m-10T\u001b[1;92m09:39:54\u001b[0m.0000000Z      \u001b[1;36m19977\u001b[0m         \u001b[1;36m0.690791\u001b[0m   \n",
       "\u001b[1;36m368\u001b[0m  \u001b[33m...\u001b[0m  \u001b[1;36m2022\u001b[0m-\u001b[1;36m11\u001b[0m-15T\u001b[1;92m08:35:41\u001b[0m.0000000Z      \u001b[1;36m18876\u001b[0m         \u001b[1;36m0.688392\u001b[0m   \n",
       "\n",
       "          content_category has_table has_image  \\\n",
       "\u001b[1;36m367\u001b[0m  live-healthy-articles     \u001b[3;91mFalse\u001b[0m     \u001b[3;91mFalse\u001b[0m   \n",
       "\u001b[1;36m368\u001b[0m  live-healthy-articles      \u001b[3;92mTrue\u001b[0m      \u001b[3;92mTrue\u001b[0m   \n",
       "\n",
       "                                      related_sections  \\\n",
       "\u001b[1;36m367\u001b[0m  \u001b[1m[\u001b[0mBMI Calculator, What is a Healthy Weight?, An\u001b[33m...\u001b[0m   \n",
       "\u001b[1;36m368\u001b[0m  \u001b[1m[\u001b[0mNutrition for Your Toddler, No Wholegrain, No\u001b[33m...\u001b[0m   \n",
       "\n",
       "                                       extracted_links  \\\n",
       "\u001b[1;36m367\u001b[0m  \u001b[1m[\u001b[0m\u001b[1m[\u001b[0mBMI Calculator, \u001b[4;94mhttps://www.healthhub.sg/pro...\u001b[0m   \n",
       "\u001b[1;36m368\u001b[0m  \u001b[1m[\u001b[0m\u001b[1m[\u001b[0mNutrition for Your Toddler, \u001b[4;94mhttps://www.heal...\u001b[0m   \n",
       "\n",
       "                                     extracted_headers  \\\n",
       "\u001b[1;36m367\u001b[0m  \u001b[1m[\u001b[0m\u001b[1m[\u001b[0mWhat's a Healthy Body Mass Index?, h2\u001b[1m]\u001b[0m, \u001b[1m[\u001b[0mWhy\u001b[33m...\u001b[0m   \n",
       "\u001b[1;36m368\u001b[0m  \u001b[1m[\u001b[0m\u001b[1m[\u001b[0mRecommended Number of Servings \u001b[1m(\u001b[0m\u001b[1;36m7\u001b[0m months\u001b[1m)\u001b[0m, h\u001b[33m...\u001b[0m   \n",
       "\n",
       "                                extracted_content_body  \n",
       "\u001b[1;36m367\u001b[0m  What's a Healthy Body Mass Index?\\nWe have all\u001b[33m...\u001b[0m  \n",
       "\u001b[1;36m368\u001b[0m  By Health Promotion Board in collaboration wit\u001b[33m...\u001b[0m  \n",
       "\n",
       "\u001b[1m[\u001b[0m\u001b[1;36m2\u001b[0m rows x \u001b[1;36m21\u001b[0m columns\u001b[1m]\u001b[0m"
      ]
     },
     "execution_count": 6,
     "metadata": {},
     "output_type": "execute_result"
    }
   ],
   "source": [
    "# Filter by contributor, content_category and to_remove\n",
    "if CONTENT_CATEGORY == \"all\":\n",
    "    df_filtered = df[(df[\"pr_name\"] == CONTRIBUTOR) & (~df[\"to_remove\"])]\n",
    "else:\n",
    "    df_filtered = df[\n",
    "        (df[\"content_category\"] == CONTENT_CATEGORY)\n",
    "        & (df[\"pr_name\"] == CONTRIBUTOR)\n",
    "        & (~df[\"to_remove\"])\n",
    "    ]\n",
    "\n",
    "# Keep only required columns\n",
    "cols_to_keep = [\n",
    "    \"id\",\n",
    "    \"content_name\",\n",
    "    \"title\",\n",
    "    \"article_category_names\",\n",
    "    \"cover_image_url\",\n",
    "    \"full_url\",\n",
    "    \"category_description\",\n",
    "    \"content_body\",\n",
    "    \"keywords\",\n",
    "    \"feature_title\",\n",
    "    \"pr_name\",\n",
    "    \"date_modified\",\n",
    "    \"page_views\",\n",
    "    \"engagement_rate\",\n",
    "    \"content_category\",\n",
    "    \"has_table\",\n",
    "    \"has_image\",\n",
    "    \"related_sections\",\n",
    "    \"extracted_links\",\n",
    "    \"extracted_headers\",\n",
    "    \"extracted_content_body\",\n",
    "]\n",
    "\n",
    "df_filtered = df_filtered.loc[:, cols_to_keep]\n",
    "print(df_filtered.shape)\n",
    "df_filtered.head(2)"
   ]
  },
  {
   "cell_type": "markdown",
   "metadata": {},
   "source": [
    "## Data understanding"
   ]
  },
  {
   "cell_type": "code",
   "execution_count": 7,
   "metadata": {},
   "outputs": [
    {
     "data": {
      "text/html": [
       "<pre style=\"white-space:pre;overflow-x:auto;line-height:normal;font-family:Menlo,'DejaVu Sans Mono',consolas,'Courier New',monospace\"></pre>\n"
      ],
      "text/plain": []
     },
     "metadata": {},
     "output_type": "display_data"
    },
    {
     "data": {
      "text/plain": [
       "\n",
       "id                          \u001b[1;36m0\u001b[0m\n",
       "content_name                \u001b[1;36m0\u001b[0m\n",
       "title                       \u001b[1;36m0\u001b[0m\n",
       "article_category_names     \u001b[1;36m58\u001b[0m\n",
       "cover_image_url             \u001b[1;36m7\u001b[0m\n",
       "full_url                    \u001b[1;36m0\u001b[0m\n",
       "category_description        \u001b[1;36m1\u001b[0m\n",
       "content_body                \u001b[1;36m0\u001b[0m\n",
       "keywords                  \u001b[1;36m347\u001b[0m\n",
       "feature_title             \u001b[1;36m257\u001b[0m\n",
       "pr_name                     \u001b[1;36m0\u001b[0m\n",
       "date_modified               \u001b[1;36m0\u001b[0m\n",
       "page_views                  \u001b[1;36m0\u001b[0m\n",
       "engagement_rate             \u001b[1;36m0\u001b[0m\n",
       "content_category            \u001b[1;36m0\u001b[0m\n",
       "has_table                   \u001b[1;36m0\u001b[0m\n",
       "has_image                   \u001b[1;36m0\u001b[0m\n",
       "related_sections            \u001b[1;36m0\u001b[0m\n",
       "extracted_links             \u001b[1;36m0\u001b[0m\n",
       "extracted_headers           \u001b[1;36m0\u001b[0m\n",
       "extracted_content_body      \u001b[1;36m0\u001b[0m\n",
       "dtype: int64"
      ]
     },
     "execution_count": 7,
     "metadata": {},
     "output_type": "execute_result"
    }
   ],
   "source": [
    "df_filtered.isna().sum()"
   ]
  },
  {
   "cell_type": "code",
   "execution_count": 8,
   "metadata": {},
   "outputs": [
    {
     "data": {
      "text/html": [
       "<pre style=\"white-space:pre;overflow-x:auto;line-height:normal;font-family:Menlo,'DejaVu Sans Mono',consolas,'Courier New',monospace\"></pre>\n"
      ],
      "text/plain": []
     },
     "metadata": {},
     "output_type": "display_data"
    },
    {
     "data": {
      "text/plain": [
       "\n",
       "contentname_vs_title\n",
       "\u001b[3;92mTrue\u001b[0m     \u001b[1;36m616\u001b[0m\n",
       "\u001b[3;91mFalse\u001b[0m      \u001b[1;36m7\u001b[0m\n",
       "Name: count, dtype: int64"
      ]
     },
     "execution_count": 8,
     "metadata": {},
     "output_type": "execute_result"
    }
   ],
   "source": [
    "# differences between content_name and title (only 7 are different)\n",
    "df_explore = df_filtered.copy()\n",
    "df_explore[\"contentname_vs_title\"] = df_explore[\"content_name\"] == df_explore[\"title\"]\n",
    "df_explore[\"contentname_vs_title\"].value_counts()"
   ]
  },
  {
   "cell_type": "markdown",
   "metadata": {},
   "source": [
    "To explore similarity embeddings on these columns: <br>\n",
    "1. title, <br>\n",
    "2. article_category_names, <br>\n",
    "3. category_description, <br>\n",
    "4. extracted_content_body <br>"
   ]
  },
  {
   "cell_type": "markdown",
   "metadata": {},
   "source": [
    "## Load embedding model"
   ]
  },
  {
   "cell_type": "code",
   "execution_count": 9,
   "metadata": {},
   "outputs": [
    {
     "data": {
      "text/html": [
       "<pre style=\"white-space:pre;overflow-x:auto;line-height:normal;font-family:Menlo,'DejaVu Sans Mono',consolas,'Courier New',monospace\"><span style=\"color: #7fbfbf; text-decoration-color: #7fbfbf\">[07/01/24 18:16:54] </span><span style=\"color: #800000; text-decoration-color: #800000\">WARNING </span> c:\\Users\\Joycelyn\\anaconda3\\envs\\genai-hh\\Lib\\site-packages\\huggingfac <a href=\"file://c:\\Users\\Joycelyn\\anaconda3\\envs\\genai-hh\\Lib\\warnings.py\" target=\"_blank\"><span style=\"color: #7f7f7f; text-decoration-color: #7f7f7f\">warnings.py</span></a><span style=\"color: #7f7f7f; text-decoration-color: #7f7f7f\">:</span><a href=\"file://c:\\Users\\Joycelyn\\anaconda3\\envs\\genai-hh\\Lib\\warnings.py#110\" target=\"_blank\"><span style=\"color: #7f7f7f; text-decoration-color: #7f7f7f\">110</span></a>\n",
       "<span style=\"color: #7fbfbf; text-decoration-color: #7fbfbf\">                    </span>         e_hub\\file_download.py:<span style=\"color: #008080; text-decoration-color: #008080; font-weight: bold\">1132</span>: FutureWarning: `resume_download` is       <span style=\"color: #7f7f7f; text-decoration-color: #7f7f7f\">               </span>\n",
       "<span style=\"color: #7fbfbf; text-decoration-color: #7fbfbf\">                    </span>         deprecated and will be removed in version <span style=\"color: #008080; text-decoration-color: #008080; font-weight: bold\">1.0</span>.<span style=\"color: #008080; text-decoration-color: #008080; font-weight: bold\">0</span>. Downloads always      <span style=\"color: #7f7f7f; text-decoration-color: #7f7f7f\">               </span>\n",
       "<span style=\"color: #7fbfbf; text-decoration-color: #7fbfbf\">                    </span>         resume when possible. If you want to force a new download, use         <span style=\"color: #7f7f7f; text-decoration-color: #7f7f7f\">               </span>\n",
       "<span style=\"color: #7fbfbf; text-decoration-color: #7fbfbf\">                    </span>         `<span style=\"color: #808000; text-decoration-color: #808000\">force_download</span>=<span style=\"color: #00ff00; text-decoration-color: #00ff00; font-style: italic\">True</span>`.                                                 <span style=\"color: #7f7f7f; text-decoration-color: #7f7f7f\">               </span>\n",
       "<span style=\"color: #7fbfbf; text-decoration-color: #7fbfbf\">                    </span>           <span style=\"color: #800080; text-decoration-color: #800080; font-weight: bold\">warnings.warn</span><span style=\"font-weight: bold\">(</span>                                                       <span style=\"color: #7f7f7f; text-decoration-color: #7f7f7f\">               </span>\n",
       "<span style=\"color: #7fbfbf; text-decoration-color: #7fbfbf\">                    </span>                                                                                <span style=\"color: #7f7f7f; text-decoration-color: #7f7f7f\">               </span>\n",
       "</pre>\n"
      ],
      "text/plain": [
       "\u001b[2;36m[07/01/24 18:16:54]\u001b[0m\u001b[2;36m \u001b[0m\u001b[31mWARNING \u001b[0m c:\\Users\\Joycelyn\\anaconda3\\envs\\genai-hh\\Lib\\site-packages\\huggingfac \u001b]8;id=383346;file://c:\\Users\\Joycelyn\\anaconda3\\envs\\genai-hh\\Lib\\warnings.py\u001b\\\u001b[2mwarnings.py\u001b[0m\u001b]8;;\u001b\\\u001b[2m:\u001b[0m\u001b]8;id=25471;file://c:\\Users\\Joycelyn\\anaconda3\\envs\\genai-hh\\Lib\\warnings.py#110\u001b\\\u001b[2m110\u001b[0m\u001b]8;;\u001b\\\n",
       "\u001b[2;36m                    \u001b[0m         e_hub\\file_download.py:\u001b[1;36m1132\u001b[0m: FutureWarning: `resume_download` is       \u001b[2m               \u001b[0m\n",
       "\u001b[2;36m                    \u001b[0m         deprecated and will be removed in version \u001b[1;36m1.0\u001b[0m.\u001b[1;36m0\u001b[0m. Downloads always      \u001b[2m               \u001b[0m\n",
       "\u001b[2;36m                    \u001b[0m         resume when possible. If you want to force a new download, use         \u001b[2m               \u001b[0m\n",
       "\u001b[2;36m                    \u001b[0m         `\u001b[33mforce_download\u001b[0m=\u001b[3;92mTrue\u001b[0m`.                                                 \u001b[2m               \u001b[0m\n",
       "\u001b[2;36m                    \u001b[0m           \u001b[1;35mwarnings.warn\u001b[0m\u001b[1m(\u001b[0m                                                       \u001b[2m               \u001b[0m\n",
       "\u001b[2;36m                    \u001b[0m                                                                                \u001b[2m               \u001b[0m\n"
      ]
     },
     "metadata": {},
     "output_type": "display_data"
    }
   ],
   "source": [
    "# Load the tokenizer and model\n",
    "sentence_transformer = SentenceTransformer(f\"{OWNER}/{MODEL_NAME}\")\n",
    "tokenizer = AutoTokenizer.from_pretrained(f\"{OWNER}/{MODEL_NAME}\")\n",
    "\n",
    "max_length = sentence_transformer.max_seq_length"
   ]
  },
  {
   "cell_type": "code",
   "execution_count": 10,
   "metadata": {},
   "outputs": [],
   "source": [
    "def split_into_chunks(\n",
    "    sentences: list[str], max_length: int, tokenizer: BertTokenizerFast\n",
    ") -> list[str]:\n",
    "    chunks = []\n",
    "    current_chunk = []\n",
    "    current_length = 0\n",
    "\n",
    "    for sentence in sentences:\n",
    "        # Tokenize the sentence\n",
    "        encoded_sentence = tokenizer(sentence, return_tensors=\"pt\")\n",
    "        num_tokens = encoded_sentence[\"input_ids\"].shape[1]\n",
    "\n",
    "        # If adding the current sentence would exceed max_length, save the current chunk and start a new one\n",
    "        if current_length + num_tokens > max_length:\n",
    "            chunks.append(\" \".join(current_chunk))\n",
    "            current_chunk = []\n",
    "            current_length = 0\n",
    "\n",
    "        current_chunk.append(sentence)\n",
    "        current_length += num_tokens\n",
    "\n",
    "    # Add the last chunk if any\n",
    "    if current_chunk:\n",
    "        chunks.append(\" \".join(current_chunk))\n",
    "\n",
    "    return chunks\n",
    "\n",
    "\n",
    "def pool_embeddings(embeddings: np.ndarray, strategy: str = \"mean\") -> np.ndarray:\n",
    "    if not embeddings:\n",
    "        raise ValueError(\"The embeddings are empty.\")\n",
    "\n",
    "    if strategy == \"mean\":\n",
    "        return np.mean(embeddings, axis=0)\n",
    "    elif strategy == \"max\":\n",
    "        return np.max(embeddings, axis=0)\n",
    "    else:\n",
    "        raise ValueError(\n",
    "            \"Pooling strategy not recognized. The strategy must be either 'average' or 'max'.\"\n",
    "        )"
   ]
  },
  {
   "cell_type": "code",
   "execution_count": 11,
   "metadata": {},
   "outputs": [
    {
     "name": "stdout",
     "output_type": "stream",
     "text": [
      "on 0: title                                                                     \n",
      "on 623: article_category_names                                                   ▅▃▁ 26/2492 [1%] in 2s (~3:34, 11.5/s\n",
      "on 1246: category_description                                                    ▅▇▇ 626/2492 [25%] in 57s (~2:50, 11. ▆█▆ 854/2492 [34%] in 1:14 (~2:22, 11 █▆▄ 873/2492 [35%] in 1:16 (~2:20, 11\n",
      "on 1869: extracted_content_body                                                  ▃▅▇ 1300/2492 [52%] in 1:52 (~1:43, 1 ▂▄▆ 1362/2492 [55%] in 2:00 (~1:39, 1 ▆█▆ 1645/2492 [66%] in 2:41 (~1:23, 1 ▇▇▅ 1646/2492 [66%] in 2:41 (~1:23, 1 ▃▅▇ 1679/2492 [67%] in 2:46 (~1:20, 1 ▇▇▅ 1691/2492 [68%] in 2:48 (~1:19, 1 ▃▅▇ 1742/2492 [70%] in 2:55 (~1:15, 1 █▆▄ 1800/2492 [72%] in 3:04 (~1:11, 9\n",
      "|████████████████████████████████████████| 2492/2492 [100%] in 48:22.1 (0.86/s)  ▆█▆ 1880/2492 [75%] in 4:01 (~1:18, 7 ▂▄▆ 1899/2492 [76%] in 12:29 (~3:54,  ▁▃▅ 1975/2492 [79%] in 19:50 (~5:11,  ▄▂▂ 2004/2492 [80%] in 22:31 (~5:29,  ▄▂▂ 2023/2492 [81%] in 24:06 (~5:35,  ▄▆█ 2040/2492 [82%] in 25:32 (~5:39,  ▇▇▅ 2045/2492 [82%] in 26:00 (~5:41,  ▄▂▂ 2049/2492 [82%] in 26:14 (~5:40,  ▆█▆ 2061/2492 [83%] in 27:27 (~5:44,  ▅▃▁ 2076/2492 [83%] in 28:41 (~5:45,  ▆▄▂ 2077/2492 [83%] in 28:47 (~5:45,  ▇▅▃ 2086/2492 [84%] in 29:26 (~5:44,  ▂▄▆ 2091/2492 [84%] in 29:48 (~5:43,  ▁▃▅ 2103/2492 [84%] in 30:48 (~5:42,  ▂▂▄ 2107/2492 [85%] in 31:08 (~5:41,  ▂▂▄ 2111/2492 [85%] in 31:28 (~5:41,  ▆█▆ 2132/2492 [86%] in 33:19 (~5:37,  ▂▂▄ 2133/2492 [86%] in 33:35 (~5:39,  ▇▅▃ 2135/2492 [86%] in 33:49 (~5:39,  ▁▃▅ 2135/2492 [86%] in 33:53 (~5:40,  ▃▅▇ 2135/2492 [86%] in 33:54 (~5:40,  ▇▅▃ 2140/2492 [86%] in 34:13 (~5:38, \n"
     ]
    }
   ],
   "source": [
    "# Intialise dict to store embeddings for respective columns\n",
    "embedding_dict = {\n",
    "    \"title\": [],\n",
    "    \"article_category_names\": [],\n",
    "    \"category_description\": [],\n",
    "    \"extracted_content_body\": [],\n",
    "}\n",
    "\n",
    "with alive_bar(\n",
    "    (df_filtered[\"id\"].nunique() * len(embedding_dict)), force_tty=True\n",
    ") as bar:\n",
    "    for col_name, embedding_list in embedding_dict.items():\n",
    "        print(col_name)\n",
    "        for id in df_filtered[\"id\"].unique():\n",
    "            text = df_filtered.query(\"id == @id\")[col_name].values[0]\n",
    "\n",
    "            if not text:\n",
    "                # Store empty array\n",
    "                dim = sentence_transformer.get_sentence_embedding_dimension()\n",
    "                embeddings = np.empty((dim,), dtype=np.float32)\n",
    "            else:\n",
    "                # Step 1: Split the article into sentences\n",
    "                sentences = sent_tokenize(text)\n",
    "\n",
    "                # Step 2: Tokenize sentences and split into chunks of max 256 tokens\n",
    "                chunks = split_into_chunks(sentences, max_length, tokenizer)\n",
    "\n",
    "                # Step 3: Encode each chunk to get their embeddings\n",
    "                chunk_embeddings = [\n",
    "                    sentence_transformer.encode(chunk) for chunk in chunks\n",
    "                ]\n",
    "\n",
    "                # Step 4: Aggregate chunk embeddings to form a single embedding for the entire article\n",
    "                embeddings = pool_embeddings(\n",
    "                    chunk_embeddings, strategy=POOLING_STRATEGY\n",
    "                )\n",
    "\n",
    "            indices = df_filtered.query(\"id == @id\").index.values\n",
    "\n",
    "            for _ in range(len(indices)):\n",
    "                embedding_list.append(embeddings)\n",
    "\n",
    "            bar()"
   ]
  },
  {
   "cell_type": "code",
   "execution_count": 12,
   "metadata": {},
   "outputs": [
    {
     "data": {
      "text/html": [
       "<pre style=\"white-space:pre;overflow-x:auto;line-height:normal;font-family:Menlo,'DejaVu Sans Mono',consolas,'Courier New',monospace\"></pre>\n"
      ],
      "text/plain": []
     },
     "metadata": {},
     "output_type": "display_data"
    },
    {
     "data": {
      "text/html": [
       "<div>\n",
       "<style scoped>\n",
       "    .dataframe tbody tr th:only-of-type {\n",
       "        vertical-align: middle;\n",
       "    }\n",
       "\n",
       "    .dataframe tbody tr th {\n",
       "        vertical-align: top;\n",
       "    }\n",
       "\n",
       "    .dataframe thead th {\n",
       "        text-align: right;\n",
       "    }\n",
       "</style>\n",
       "<table border=\"1\" class=\"dataframe\">\n",
       "  <thead>\n",
       "    <tr style=\"text-align: right;\">\n",
       "      <th></th>\n",
       "      <th>id</th>\n",
       "      <th>content_name</th>\n",
       "      <th>title</th>\n",
       "      <th>article_category_names</th>\n",
       "      <th>cover_image_url</th>\n",
       "      <th>full_url</th>\n",
       "      <th>category_description</th>\n",
       "      <th>content_body</th>\n",
       "      <th>keywords</th>\n",
       "      <th>feature_title</th>\n",
       "      <th>...</th>\n",
       "      <th>has_table</th>\n",
       "      <th>has_image</th>\n",
       "      <th>related_sections</th>\n",
       "      <th>extracted_links</th>\n",
       "      <th>extracted_headers</th>\n",
       "      <th>extracted_content_body</th>\n",
       "      <th>title_multi-qa-mpnet-base-cos-v1_embeddings</th>\n",
       "      <th>article_category_names_multi-qa-mpnet-base-cos-v1_embeddings</th>\n",
       "      <th>category_description_multi-qa-mpnet-base-cos-v1_embeddings</th>\n",
       "      <th>extracted_content_body_multi-qa-mpnet-base-cos-v1_embeddings</th>\n",
       "    </tr>\n",
       "  </thead>\n",
       "  <tbody>\n",
       "    <tr>\n",
       "      <th>367</th>\n",
       "      <td>1444475</td>\n",
       "      <td>Weight, BMI and Health Problems</td>\n",
       "      <td>Weight, BMI and Health Problems</td>\n",
       "      <td>Food and Nutrition,</td>\n",
       "      <td>https://ch-api.healthhub.sg/api/public/content...</td>\n",
       "      <td>https://www.healthhub.sg/live-healthy/weight_p...</td>\n",
       "      <td>What’s your Body Mass Index (BMI)? Learn how t...</td>\n",
       "      <td>&lt;div class=\"ExternalClassE93BEC3784C545A286BB8...</td>\n",
       "      <td>PGM_Obesity Prevention,PGM_HealthAmbassador,AG...</td>\n",
       "      <td>BMI and Your Health</td>\n",
       "      <td>...</td>\n",
       "      <td>False</td>\n",
       "      <td>False</td>\n",
       "      <td>[BMI Calculator, What is a Healthy Weight?, An...</td>\n",
       "      <td>[[BMI Calculator, https://www.healthhub.sg/pro...</td>\n",
       "      <td>[[What's a Healthy Body Mass Index?, h2], [Why...</td>\n",
       "      <td>What's a Healthy Body Mass Index?\\nWe have all...</td>\n",
       "      <td>[0.026768425, 0.032185856, 0.011938091, -0.011...</td>\n",
       "      <td>[0.033130124, 0.04989962, -0.023408694, 0.0173...</td>\n",
       "      <td>[0.032101344, 0.038946442, 0.00013390426, -0.0...</td>\n",
       "      <td>[0.028888216, 0.035280235, 0.014185197, 0.0169...</td>\n",
       "    </tr>\n",
       "    <tr>\n",
       "      <th>368</th>\n",
       "      <td>1445137</td>\n",
       "      <td>7-month-baby Diet: An Authoritative Guide by O...</td>\n",
       "      <td>7-month-baby Diet: An Authoritative Guide by O...</td>\n",
       "      <td>Food and Nutrition,</td>\n",
       "      <td>https://ch-api.healthhub.sg/api/public/content...</td>\n",
       "      <td>https://www.healthhub.sg/live-healthy/meal-ide...</td>\n",
       "      <td>Your little one is now 7 months of age. Should...</td>\n",
       "      <td>&lt;div class=\"ExternalClass46E64333542C4D8CBEA23...</td>\n",
       "      <td>None</td>\n",
       "      <td>None</td>\n",
       "      <td>...</td>\n",
       "      <td>True</td>\n",
       "      <td>True</td>\n",
       "      <td>[Nutrition for Your Toddler, No Wholegrain, No...</td>\n",
       "      <td>[[Nutrition for Your Toddler, https://www.heal...</td>\n",
       "      <td>[[Recommended Number of Servings (7 months), h...</td>\n",
       "      <td>By Health Promotion Board in collaboration wit...</td>\n",
       "      <td>[0.025946843, 0.01707308, -0.004286879, -0.029...</td>\n",
       "      <td>[0.033130124, 0.04989962, -0.023408694, 0.0173...</td>\n",
       "      <td>[0.013637194, -0.027155086, 0.0138272345, -0.0...</td>\n",
       "      <td>[-0.0034918329, 0.0077161994, 0.009509856, -0....</td>\n",
       "    </tr>\n",
       "  </tbody>\n",
       "</table>\n",
       "<p>2 rows × 25 columns</p>\n",
       "</div>"
      ],
      "text/plain": [
       "\n",
       "          id                                       content_name  \\\n",
       "\u001b[1;36m367\u001b[0m  \u001b[1;36m1444475\u001b[0m                    Weight, BMI and Health Problems   \n",
       "\u001b[1;36m368\u001b[0m  \u001b[1;36m1445137\u001b[0m  \u001b[1;36m7\u001b[0m-month-baby Diet: An Authoritative Guide by O\u001b[33m...\u001b[0m   \n",
       "\n",
       "                                                 title article_category_names  \\\n",
       "\u001b[1;36m367\u001b[0m                    Weight, BMI and Health Problems    Food and Nutrition,   \n",
       "\u001b[1;36m368\u001b[0m  \u001b[1;36m7\u001b[0m-month-baby Diet: An Authoritative Guide by O\u001b[33m...\u001b[0m    Food and Nutrition,   \n",
       "\n",
       "                                       cover_image_url  \\\n",
       "\u001b[1;36m367\u001b[0m  \u001b[4;94mhttps://ch-api.healthhub.sg/api/public/content...\u001b[0m   \n",
       "\u001b[1;36m368\u001b[0m  \u001b[4;94mhttps://ch-api.healthhub.sg/api/public/content...\u001b[0m   \n",
       "\n",
       "                                              full_url  \\\n",
       "\u001b[1;36m367\u001b[0m  \u001b[4;94mhttps://www.healthhub.sg/live-healthy/weight_p...\u001b[0m   \n",
       "\u001b[1;36m368\u001b[0m  \u001b[4;94mhttps://www.healthhub.sg/live-healthy/meal-ide...\u001b[0m   \n",
       "\n",
       "                                  category_description  \\\n",
       "\u001b[1;36m367\u001b[0m  What’s your Body Mass Index \u001b[1m(\u001b[0mBMI\u001b[1m)\u001b[0m? Learn how t\u001b[33m...\u001b[0m   \n",
       "\u001b[1;36m368\u001b[0m  Your little one is now \u001b[1;36m7\u001b[0m months of age. Should\u001b[33m...\u001b[0m   \n",
       "\n",
       "                                          content_body  \\\n",
       "\u001b[1;36m367\u001b[0m  <div \u001b[33mclass\u001b[0m=\u001b[35m\"ExternalClassE93BEC3784C545A286BB8\u001b[0m\u001b[33m...\u001b[0m   \n",
       "\u001b[1;36m368\u001b[0m  <div \u001b[33mclass\u001b[0m=\u001b[35m\"ExternalClass46E64333542C4D8CBEA23\u001b[0m\u001b[33m...\u001b[0m   \n",
       "\n",
       "                                              keywords        feature_title  \\\n",
       "\u001b[1;36m367\u001b[0m  PGM_Obesity Prevention,PGM_HealthAmbassador,AG\u001b[33m...\u001b[0m  BMI and Your Health   \n",
       "\u001b[1;36m368\u001b[0m                                               \u001b[3;35mNone\u001b[0m                 \u001b[3;35mNone\u001b[0m   \n",
       "\n",
       "     \u001b[33m...\u001b[0m has_table has_image  \\\n",
       "\u001b[1;36m367\u001b[0m  \u001b[33m...\u001b[0m     \u001b[3;91mFalse\u001b[0m     \u001b[3;91mFalse\u001b[0m   \n",
       "\u001b[1;36m368\u001b[0m  \u001b[33m...\u001b[0m      \u001b[3;92mTrue\u001b[0m      \u001b[3;92mTrue\u001b[0m   \n",
       "\n",
       "                                      related_sections  \\\n",
       "\u001b[1;36m367\u001b[0m  \u001b[1m[\u001b[0mBMI Calculator, What is a Healthy Weight?, An\u001b[33m...\u001b[0m   \n",
       "\u001b[1;36m368\u001b[0m  \u001b[1m[\u001b[0mNutrition for Your Toddler, No Wholegrain, No\u001b[33m...\u001b[0m   \n",
       "\n",
       "                                       extracted_links  \\\n",
       "\u001b[1;36m367\u001b[0m  \u001b[1m[\u001b[0m\u001b[1m[\u001b[0mBMI Calculator, \u001b[4;94mhttps://www.healthhub.sg/pro...\u001b[0m   \n",
       "\u001b[1;36m368\u001b[0m  \u001b[1m[\u001b[0m\u001b[1m[\u001b[0mNutrition for Your Toddler, \u001b[4;94mhttps://www.heal...\u001b[0m   \n",
       "\n",
       "                                     extracted_headers  \\\n",
       "\u001b[1;36m367\u001b[0m  \u001b[1m[\u001b[0m\u001b[1m[\u001b[0mWhat's a Healthy Body Mass Index?, h2\u001b[1m]\u001b[0m, \u001b[1m[\u001b[0mWhy\u001b[33m...\u001b[0m   \n",
       "\u001b[1;36m368\u001b[0m  \u001b[1m[\u001b[0m\u001b[1m[\u001b[0mRecommended Number of Servings \u001b[1m(\u001b[0m\u001b[1;36m7\u001b[0m months\u001b[1m)\u001b[0m, h\u001b[33m...\u001b[0m   \n",
       "\n",
       "                                extracted_content_body  \\\n",
       "\u001b[1;36m367\u001b[0m  What's a Healthy Body Mass Index?\\nWe have all\u001b[33m...\u001b[0m   \n",
       "\u001b[1;36m368\u001b[0m  By Health Promotion Board in collaboration wit\u001b[33m...\u001b[0m   \n",
       "\n",
       "           title_multi-qa-mpnet-base-cos-v1_embeddings  \\\n",
       "\u001b[1;36m367\u001b[0m  \u001b[1m[\u001b[0m\u001b[1;36m0.026768425\u001b[0m, \u001b[1;36m0.032185856\u001b[0m, \u001b[1;36m0.011938091\u001b[0m, \u001b[1;36m-0.011\u001b[0m\u001b[33m...\u001b[0m   \n",
       "\u001b[1;36m368\u001b[0m  \u001b[1m[\u001b[0m\u001b[1;36m0.025946843\u001b[0m, \u001b[1;36m0.01707308\u001b[0m, \u001b[1;36m-0.004286879\u001b[0m, \u001b[1;36m-0.029\u001b[0m\u001b[33m...\u001b[0m   \n",
       "\n",
       "    article_category_names_multi-qa-mpnet-base-cos-v1_embeddings  \\\n",
       "\u001b[1;36m367\u001b[0m  \u001b[1m[\u001b[0m\u001b[1;36m0.033130124\u001b[0m, \u001b[1;36m0.04989962\u001b[0m, \u001b[1;36m-0.023408694\u001b[0m, \u001b[1;36m0.0173\u001b[0m\u001b[33m...\u001b[0m             \n",
       "\u001b[1;36m368\u001b[0m  \u001b[1m[\u001b[0m\u001b[1;36m0.033130124\u001b[0m, \u001b[1;36m0.04989962\u001b[0m, \u001b[1;36m-0.023408694\u001b[0m, \u001b[1;36m0.0173\u001b[0m\u001b[33m...\u001b[0m             \n",
       "\n",
       "    category_description_multi-qa-mpnet-base-cos-v1_embeddings  \\\n",
       "\u001b[1;36m367\u001b[0m  \u001b[1m[\u001b[0m\u001b[1;36m0.032101344\u001b[0m, \u001b[1;36m0.038946442\u001b[0m, \u001b[1;36m0.00013390426\u001b[0m, \u001b[1;36m-0.0\u001b[0m\u001b[33m...\u001b[0m           \n",
       "\u001b[1;36m368\u001b[0m  \u001b[1m[\u001b[0m\u001b[1;36m0.013637194\u001b[0m, \u001b[1;36m-0.027155086\u001b[0m, \u001b[1;36m0.0138272345\u001b[0m, \u001b[1;36m-0.0\u001b[0m\u001b[33m...\u001b[0m           \n",
       "\n",
       "    extracted_content_body_multi-qa-mpnet-base-cos-v1_embeddings  \n",
       "\u001b[1;36m367\u001b[0m  \u001b[1m[\u001b[0m\u001b[1;36m0.028888216\u001b[0m, \u001b[1;36m0.035280235\u001b[0m, \u001b[1;36m0.014185197\u001b[0m, \u001b[1;36m0.0169\u001b[0m\u001b[33m...\u001b[0m            \n",
       "\u001b[1;36m368\u001b[0m  \u001b[1m[\u001b[0m\u001b[1;36m-0.0034918329\u001b[0m, \u001b[1;36m0.0077161994\u001b[0m, \u001b[1;36m0.009509856\u001b[0m, \u001b[1;36m-0\u001b[0m\u001b[33m...\u001b[0m.            \n",
       "\n",
       "\u001b[1m[\u001b[0m\u001b[1;36m2\u001b[0m rows x \u001b[1;36m25\u001b[0m columns\u001b[1m]\u001b[0m"
      ]
     },
     "execution_count": 12,
     "metadata": {},
     "output_type": "execute_result"
    }
   ],
   "source": [
    "# Save embeddings in respective columns\n",
    "for col_name, embedding_list in embedding_dict.items():\n",
    "    embedding_col = f\"{col_name}_{MODEL_NAME}_embeddings\"\n",
    "    df_filtered[embedding_col] = embedding_list\n",
    "\n",
    "df_filtered.head(2)"
   ]
  },
  {
   "cell_type": "code",
   "execution_count": 16,
   "metadata": {},
   "outputs": [
    {
     "data": {
      "text/html": [
       "<pre style=\"white-space:pre;overflow-x:auto;line-height:normal;font-family:Menlo,'DejaVu Sans Mono',consolas,'Courier New',monospace\"></pre>\n"
      ],
      "text/plain": []
     },
     "metadata": {},
     "output_type": "display_data"
    },
    {
     "data": {
      "text/plain": [
       "\u001b[32m'..\\\\data\\\\07_model_output\\\\live-healthy-articles\\\\multi-qa-mpnet-base-cos-v1\\\\live-healthy-articles_multi-qa-mpnet-base-cos-v1_embeddings.parquet'\u001b[0m"
      ]
     },
     "execution_count": 16,
     "metadata": {},
     "output_type": "execute_result"
    }
   ],
   "source": [
    "OUTPUT_EMBEDDING_PATH"
   ]
  },
  {
   "cell_type": "code",
   "execution_count": 27,
   "metadata": {},
   "outputs": [],
   "source": [
    "# Save df with embeddings\n",
    "table = pa.Table.from_pandas(df_filtered)\n",
    "pq.write_table(table, OUTPUT_EMBEDDING_PATH)"
   ]
  },
  {
   "cell_type": "code",
   "execution_count": 28,
   "metadata": {},
   "outputs": [],
   "source": [
    "# Save for clustering in neo4j\n",
    "df_neo4j = df_filtered[\n",
    "    [\n",
    "        \"id\",\n",
    "        \"title\",\n",
    "        \"extracted_content_body\",\n",
    "        \"category_description\",\n",
    "        f\"title_{MODEL_NAME}_embeddings\",\n",
    "        f\"article_category_names_{MODEL_NAME}_embeddings\",\n",
    "        f\"category_description_{MODEL_NAME}_embeddings\",\n",
    "        f\"extracted_content_body_{MODEL_NAME}_embeddings\",\n",
    "    ]\n",
    "]\n",
    "df_neo4j = df_neo4j.rename(\n",
    "    columns={\n",
    "        \"extracted_content_body\": \"content\",\n",
    "        \"category_description\": \"meta_description\",\n",
    "        f\"title_{MODEL_NAME}_embeddings\": \"vector_title\",\n",
    "        f\"article_category_names_{MODEL_NAME}_embeddings\": \"vector_article_category_names\",\n",
    "        f\"category_description_{MODEL_NAME}_embeddings\": \"vector_category_description\",\n",
    "        f\"extracted_content_body_{MODEL_NAME}_embeddings\": \"vector_extracted_content_body\",\n",
    "    }\n",
    ")\n",
    "\n",
    "df_neo4j\n",
    "\n",
    "df_neo4j.to_pickle(OUTPUT_EMBEDDING_NEO4J_PATH)"
   ]
  },
  {
   "cell_type": "markdown",
   "metadata": {},
   "source": [
    "## End"
   ]
  }
 ],
 "metadata": {
  "kernelspec": {
   "display_name": "genai-hh",
   "language": "python",
   "name": "python3"
  },
  "language_info": {
   "codemirror_mode": {
    "name": "ipython",
    "version": 3
   },
   "file_extension": ".py",
   "mimetype": "text/x-python",
   "name": "python",
   "nbconvert_exporter": "python",
   "pygments_lexer": "ipython3",
   "version": "3.12.3"
  }
 },
 "nbformat": 4,
 "nbformat_minor": 2
}
