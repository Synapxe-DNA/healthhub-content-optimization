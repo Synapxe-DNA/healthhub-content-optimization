{
 "cells": [
  {
   "cell_type": "code",
   "execution_count": 1,
   "id": "initial_id",
   "metadata": {
    "jupyter": {
     "is_executing": true
    }
   },
   "outputs": [],
   "source": [
    "import re\n",
    "import unicodedata\n",
    "\n",
    "import pandas as pd\n",
    "from bs4 import BeautifulSoup"
   ]
  },
  {
   "cell_type": "code",
   "execution_count": 12,
   "id": "5634030023a9b1f8",
   "metadata": {
    "ExecuteTime": {
     "end_time": "2024-06-26T05:22:37.371483Z",
     "start_time": "2024-06-26T05:22:37.341312Z"
    }
   },
   "outputs": [
    {
     "data": {
      "text/html": [
       "<div>\n",
       "<style scoped>\n",
       "    .dataframe tbody tr th:only-of-type {\n",
       "        vertical-align: middle;\n",
       "    }\n",
       "\n",
       "    .dataframe tbody tr th {\n",
       "        vertical-align: top;\n",
       "    }\n",
       "\n",
       "    .dataframe thead th {\n",
       "        text-align: right;\n",
       "    }\n",
       "</style>\n",
       "<table border=\"1\" class=\"dataframe\">\n",
       "  <thead>\n",
       "    <tr style=\"text-align: right;\">\n",
       "      <th></th>\n",
       "      <th>LiveHealthyArticle_Title</th>\n",
       "      <th>LiveHealthyArticle_Content_Body</th>\n",
       "      <th>extracted_content_body</th>\n",
       "    </tr>\n",
       "  </thead>\n",
       "  <tbody>\n",
       "    <tr>\n",
       "      <th>1117</th>\n",
       "      <td>deLIGHTS for Diabetic Patients</td>\n",
       "      <td>&lt;div class=\"ExternalClass29ABDACF219847128F662...</td>\n",
       "      <td></td>\n",
       "    </tr>\n",
       "  </tbody>\n",
       "</table>\n",
       "</div>"
      ],
      "text/plain": [
       "            LiveHealthyArticle_Title  \\\n",
       "1117  deLIGHTS for Diabetic Patients   \n",
       "\n",
       "                        LiveHealthyArticle_Content_Body extracted_content_body  \n",
       "1117  <div class=\"ExternalClass29ABDACF219847128F662...                         "
      ]
     },
     "metadata": {},
     "output_type": "display_data"
    }
   ],
   "source": [
    "df = pd.read_parquet(\n",
    "    \"../data/02_intermediate/all_contents_extracted/live-healthy-articles.parquet\"\n",
    ")\n",
    "df = df[\n",
    "    [\n",
    "        \"LiveHealthyArticle_Title\",\n",
    "        \"LiveHealthyArticle_Content_Body\",\n",
    "        \"extracted_content_body\",\n",
    "    ]\n",
    "]\n",
    "df_empty = df[df[\"extracted_content_body\"] == \"\"]\n",
    "\n",
    "display(df_empty)"
   ]
  },
  {
   "cell_type": "code",
   "execution_count": 13,
   "id": "131ef82dda4854fd",
   "metadata": {
    "ExecuteTime": {
     "end_time": "2024-06-26T05:22:39.344216Z",
     "start_time": "2024-06-26T05:22:37.949885Z"
    }
   },
   "outputs": [
    {
     "name": "stdout",
     "output_type": "stream",
     "text": [
      "0\n",
      "\n",
      "\n"
     ]
    }
   ],
   "source": [
    "def clean_text(text: str) -> str:\n",
    "    \"\"\"\n",
    "    Cleans the given text by normalizing Unicode characters,\n",
    "    replacing problematic characters, and removing multiple whitespace.\n",
    "\n",
    "    Args:\n",
    "        text (str): The input text to be cleaned.\n",
    "\n",
    "    Returns:\n",
    "        str: The cleaned text with normalized Unicode characters,\n",
    "            problematic characters replaced, and multiple whitespace\n",
    "            replaced with a single space.\n",
    "    \"\"\"\n",
    "    # Normalize Unicode characters\n",
    "    text = unicodedata.normalize(\"NFKD\", text)\n",
    "\n",
    "    # Use ASCII encoding to handle special symbols e.g. copyright \\xa9\n",
    "    text = text.encode(\"ascii\", \"ignore\").decode(\"utf-8\")\n",
    "\n",
    "    # Replace common problematic characters\n",
    "    text = text.replace(\"\\xa0\", \" \")  # non-breaking space\n",
    "    text = text.replace(\"\\u200b\", \"\")  # zero-width space\n",
    "    text = text.replace(\"\\u2028\", \"\\n\")  # line separator\n",
    "    text = text.replace(\"\\u2029\", \"\\n\")  # paragraph separator\n",
    "\n",
    "    # Replace multiple whitespace with single space\n",
    "    text = re.sub(r\"\\s+\", \" \", text)\n",
    "\n",
    "    return text.strip()\n",
    "\n",
    "\n",
    "for ind, html_content in enumerate(df_empty[\"LiveHealthyArticle_Content_Body\"]):\n",
    "    print(ind)\n",
    "    soup = BeautifulSoup(html_content, \"html.parser\")\n",
    "    content = []\n",
    "    if soup.div is not None:\n",
    "        soup.div.unwrap()\n",
    "    # For texts within div\n",
    "    for tag in soup.find_all(\"div\"):\n",
    "        if tag.name == \"div\":\n",
    "            content.append(clean_text(tag.text))\n",
    "    processed_text = \"\\n\".join(content).replace(\"\\n\\n\", \"\\n\").strip()\n",
    "    print(processed_text, end=\"\\n\\n\")"
   ]
  },
  {
   "cell_type": "code",
   "execution_count": 6,
   "id": "73dc05de37456e9",
   "metadata": {
    "ExecuteTime": {
     "end_time": "2024-06-26T05:22:27.680656Z",
     "start_time": "2024-06-26T05:22:27.679264Z"
    }
   },
   "outputs": [],
   "source": []
  }
 ],
 "metadata": {
  "kernelspec": {
   "display_name": "Python 3 (ipykernel)",
   "language": "python",
   "name": "python3"
  },
  "language_info": {
   "codemirror_mode": {
    "name": "ipython",
    "version": 3
   },
   "file_extension": ".py",
   "mimetype": "text/x-python",
   "name": "python",
   "nbconvert_exporter": "python",
   "pygments_lexer": "ipython3",
   "version": "3.11.9"
  }
 },
 "nbformat": 4,
 "nbformat_minor": 5
}
