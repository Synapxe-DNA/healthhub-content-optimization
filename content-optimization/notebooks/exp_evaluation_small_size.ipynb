{
 "cells": [
  {
   "cell_type": "code",
   "execution_count": 1,
   "metadata": {},
   "outputs": [],
   "source": [
    "import pickle\n",
    "import pandas as pd\n",
    "import pyvis\n",
    "import os"
   ]
  },
  {
   "cell_type": "code",
   "execution_count": 3,
   "metadata": {},
   "outputs": [],
   "source": [
    "root_path = r\"C:\\Users\\Joycelyn\\Documents\\Synapxe\\07 GenAI for healthhub\\Github backup\\cluster experiments\\weighted emb vs sim (658)\"\n",
    "emb_path_title = os.path.join(root_path,\"nomic_weighted_emb (0.7 body, 0.3 title)\")\n",
    "emb_path_metadesc = os.path.join(root_path,\"nomic_weighted_emb (0.7 body, 0.3 meta desc)\")\n",
    "\n",
    "with open(os.path.join(emb_path_title,\"neo4j_predicted_clusters.pkl\"), \"rb\") as f:\n",
    "    title_results = pickle.load(f)\n",
    "\n",
    "with open(os.path.join(emb_path_metadesc,\"neo4j_predicted_clusters.pkl\"), \"rb\") as f:\n",
    "    desc_results = pickle.load(f)"
   ]
  },
  {
   "cell_type": "markdown",
   "metadata": {},
   "source": [
    "## Extract clusters <= 5 articles"
   ]
  },
  {
   "cell_type": "code",
   "execution_count": 16,
   "metadata": {},
   "outputs": [
    {
     "name": "stdout",
     "output_type": "stream",
     "text": [
      "(59, 4)\n"
     ]
    }
   ],
   "source": [
    "title_results = pd.DataFrame(title_results)\n",
    "title_results['count'] = title_results['titles'].apply(len)\n",
    "title_results_filtered = title_results[title_results[\"count\"] < 6]\n",
    "print(title_results_filtered.shape)"
   ]
  },
  {
   "cell_type": "code",
   "execution_count": 17,
   "metadata": {},
   "outputs": [
    {
     "name": "stdout",
     "output_type": "stream",
     "text": [
      "(57, 4)\n"
     ]
    }
   ],
   "source": [
    "desc_results = pd.DataFrame(desc_results)\n",
    "desc_results['count'] = desc_results['titles'].apply(len)\n",
    "desc_results_filtered = desc_results[desc_results[\"count\"] < 6]\n",
    "print(desc_results_filtered.shape)"
   ]
  },
  {
   "cell_type": "code",
   "execution_count": 19,
   "metadata": {},
   "outputs": [],
   "source": [
    "save_path = os.path.join(root_path, \"body_with_title_vs_metadesc_size5.xlsx\")\n",
    "with pd.ExcelWriter(save_path) as writer:\n",
    "    title_results_filtered.to_excel(writer, sheet_name='title_results_filtered', index=False)\n",
    "    desc_results_filtered.to_excel(writer, sheet_name='desc_results_filtered', index=False)"
   ]
  },
  {
   "cell_type": "markdown",
   "metadata": {},
   "source": [
    "## Cluster size, bin 5"
   ]
  },
  {
   "cell_type": "code",
   "execution_count": 102,
   "metadata": {},
   "outputs": [],
   "source": [
    "def get_cluster_size(pred_cluster):\n",
    "    grouped_counts = pred_cluster.groupby('cluster').size()\n",
    "    filtered_grouped_counts = grouped_counts[grouped_counts != 1]\n",
    "    bins = range(1, filtered_grouped_counts.max() + 5, 5)\n",
    "    labels = [f\"{i}-{i+4}\" for i in bins[:-1]]\n",
    "    labels[0] = '2-5'\n",
    "    binned_counts = pd.cut(filtered_grouped_counts, bins=bins, labels=labels, right=False)\n",
    "    banded_counts = binned_counts.value_counts().sort_index()\n",
    "    cluster_size_df2 = pd.DataFrame(banded_counts).reset_index().rename(columns={'index':\"Cluster size\",'count':\"Num of clusters\"})\n",
    "    cluster_size_df2 = cluster_size_df2.sort_index().reset_index(drop=True)\n",
    "    return cluster_size_df2"
   ]
  },
  {
   "cell_type": "code",
   "execution_count": 103,
   "metadata": {},
   "outputs": [
    {
     "data": {
      "text/html": [
       "<div>\n",
       "<style scoped>\n",
       "    .dataframe tbody tr th:only-of-type {\n",
       "        vertical-align: middle;\n",
       "    }\n",
       "\n",
       "    .dataframe tbody tr th {\n",
       "        vertical-align: top;\n",
       "    }\n",
       "\n",
       "    .dataframe thead th {\n",
       "        text-align: right;\n",
       "    }\n",
       "</style>\n",
       "<table border=\"1\" class=\"dataframe\">\n",
       "  <thead>\n",
       "    <tr style=\"text-align: right;\">\n",
       "      <th></th>\n",
       "      <th>Cluster size</th>\n",
       "      <th>Num of clusters</th>\n",
       "    </tr>\n",
       "  </thead>\n",
       "  <tbody>\n",
       "    <tr>\n",
       "      <th>0</th>\n",
       "      <td>2-5</td>\n",
       "      <td>58</td>\n",
       "    </tr>\n",
       "    <tr>\n",
       "      <th>1</th>\n",
       "      <td>6-10</td>\n",
       "      <td>3</td>\n",
       "    </tr>\n",
       "  </tbody>\n",
       "</table>\n",
       "</div>"
      ],
      "text/plain": [
       "  Cluster size  Num of clusters\n",
       "0          2-5               58\n",
       "1         6-10                3"
      ]
     },
     "execution_count": 103,
     "metadata": {},
     "output_type": "execute_result"
    }
   ],
   "source": [
    "df = pd.read_csv(r\"C:\\Users\\Joycelyn\\Documents\\Synapxe\\07 GenAI for healthhub\\Github\\healthhub-content-optimization\\content-optimization\\data\\07_model_output\\predicted_cluster.csv\")\n",
    "get_cluster_size(df)"
   ]
  }
 ],
 "metadata": {
  "kernelspec": {
   "display_name": "genai-hh",
   "language": "python",
   "name": "python3"
  },
  "language_info": {
   "codemirror_mode": {
    "name": "ipython",
    "version": 3
   },
   "file_extension": ".py",
   "mimetype": "text/x-python",
   "name": "python",
   "nbconvert_exporter": "python",
   "pygments_lexer": "ipython3",
   "version": "3.12.3"
  }
 },
 "nbformat": 4,
 "nbformat_minor": 2
}
