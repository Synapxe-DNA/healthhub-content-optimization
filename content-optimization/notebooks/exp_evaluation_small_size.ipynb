{
 "cells": [
  {
   "cell_type": "code",
   "execution_count": 1,
   "metadata": {},
   "outputs": [],
   "source": [
    "import pickle\n",
    "import pandas as pd\n",
    "import pyvis\n",
    "import os"
   ]
  },
  {
   "cell_type": "code",
   "execution_count": 3,
   "metadata": {},
   "outputs": [],
   "source": [
    "root_path = r\"C:\\Users\\Joycelyn\\Documents\\Synapxe\\07 GenAI for healthhub\\Github backup\\cluster experiments\\weighted emb vs sim (658)\"\n",
    "emb_path_title = os.path.join(root_path,\"nomic_weighted_emb (0.7 body, 0.3 title)\")\n",
    "emb_path_metadesc = os.path.join(root_path,\"nomic_weighted_emb (0.7 body, 0.3 meta desc)\")\n",
    "\n",
    "with open(os.path.join(emb_path_title,\"neo4j_predicted_clusters.pkl\"), \"rb\") as f:\n",
    "    title_results = pickle.load(f)\n",
    "\n",
    "with open(os.path.join(emb_path_metadesc,\"neo4j_predicted_clusters.pkl\"), \"rb\") as f:\n",
    "    desc_results = pickle.load(f)"
   ]
  },
  {
   "cell_type": "code",
   "execution_count": 16,
   "metadata": {},
   "outputs": [
    {
     "name": "stdout",
     "output_type": "stream",
     "text": [
      "(59, 4)\n"
     ]
    }
   ],
   "source": [
    "title_results = pd.DataFrame(title_results)\n",
    "title_results['count'] = title_results['titles'].apply(len)\n",
    "title_results_filtered = title_results[title_results[\"count\"] < 6]\n",
    "print(title_results_filtered.shape)"
   ]
  },
  {
   "cell_type": "code",
   "execution_count": 17,
   "metadata": {},
   "outputs": [
    {
     "name": "stdout",
     "output_type": "stream",
     "text": [
      "(57, 4)\n"
     ]
    }
   ],
   "source": [
    "desc_results = pd.DataFrame(desc_results)\n",
    "desc_results['count'] = desc_results['titles'].apply(len)\n",
    "desc_results_filtered = desc_results[desc_results[\"count\"] < 6]\n",
    "print(desc_results_filtered.shape)"
   ]
  },
  {
   "cell_type": "code",
   "execution_count": 19,
   "metadata": {},
   "outputs": [],
   "source": [
    "save_path = os.path.join(root_path, \"body_with_title_vs_metadesc_size5.xlsx\")\n",
    "with pd.ExcelWriter(save_path) as writer:\n",
    "    title_results_filtered.to_excel(writer, sheet_name='title_results_filtered', index=False)\n",
    "    desc_results_filtered.to_excel(writer, sheet_name='desc_results_filtered', index=False)"
   ]
  }
 ],
 "metadata": {
  "kernelspec": {
   "display_name": "genai-hh",
   "language": "python",
   "name": "python3"
  },
  "language_info": {
   "codemirror_mode": {
    "name": "ipython",
    "version": 3
   },
   "file_extension": ".py",
   "mimetype": "text/x-python",
   "name": "python",
   "nbconvert_exporter": "python",
   "pygments_lexer": "ipython3",
   "version": "3.12.3"
  }
 },
 "nbformat": 4,
 "nbformat_minor": 2
}
