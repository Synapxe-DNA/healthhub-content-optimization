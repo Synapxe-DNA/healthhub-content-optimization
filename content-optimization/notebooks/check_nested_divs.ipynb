{
 "cells": [
  {
   "cell_type": "code",
   "id": "initial_id",
   "metadata": {
    "collapsed": true
   },
   "source": [
    "import numpy as np\n",
    "import plotly.express as px\n",
    "from bs4 import BeautifulSoup"
   ],
   "outputs": [],
   "execution_count": null
  },
  {
   "cell_type": "code",
   "id": "24d0e01c6a01f965",
   "metadata": {},
   "source": [
    "def check_nested_divs_recursive(element):\n",
    "    is_nested_div = False\n",
    "\n",
    "    # Check for nested_divs by comparing child and parent name via recursion\n",
    "    # print(element.name, element.parent.name)\n",
    "    if element.name == \"div\" and element.parent.name == \"div\":\n",
    "        is_nested_div = True\n",
    "\n",
    "    #\n",
    "    direct_children = element.find_all(\n",
    "        [\"h1\", \"h2\", \"h3\", \"h4\", \"h5\", \"h6\", \"p\", \"ul\", \"ol\", \"div\", \"span\"],\n",
    "        recursive=False,\n",
    "    )\n",
    "    for child in direct_children:\n",
    "        if child.name in [\"div\", \"span\"]:\n",
    "            check_nested_div = check_nested_divs_recursive(child)\n",
    "            is_nested_div = is_nested_div or check_nested_div\n",
    "\n",
    "    return is_nested_div"
   ],
   "outputs": [],
   "execution_count": null
  },
  {
   "cell_type": "code",
   "id": "244818542e606ee8",
   "metadata": {},
   "source": [
    "def check_for_nested_divs(html_content):\n",
    "    if html_content is None:\n",
    "        return False\n",
    "\n",
    "    soup = BeautifulSoup(html_content, \"html.parser\")\n",
    "\n",
    "    has_nested_div = False\n",
    "    for tag in soup.find_all(\n",
    "        [\"h1\", \"h2\", \"h3\", \"h4\", \"h5\", \"h6\", \"p\", \"ul\", \"ol\", \"div\", \"span\"],\n",
    "        recursive=False,\n",
    "    ):\n",
    "        check_nested_div = check_nested_divs_recursive(tag)\n",
    "        has_nested_div = has_nested_div or check_nested_div\n",
    "\n",
    "    print(f\"\\nHas Nested div: {has_nested_div}\")\n",
    "\n",
    "    return has_nested_div"
   ],
   "outputs": [],
   "execution_count": null
  },
  {
   "cell_type": "code",
   "id": "3f00ffd840dd7bad",
   "metadata": {},
   "source": [
    "%load_ext kedro.ipython"
   ],
   "outputs": [],
   "execution_count": null
  },
  {
   "cell_type": "code",
   "id": "3a81b61967cd0c02",
   "metadata": {},
   "source": [
    "# ruff: noqa: F821\n",
    "catalog.list()"
   ],
   "outputs": [],
   "execution_count": null
  },
  {
   "cell_type": "code",
   "id": "cdf1d95d6ff16e42",
   "metadata": {},
   "source": [
    "merged_data = catalog.load(\"merged_data\")\n",
    "\n",
    "display(merged_data)"
   ],
   "outputs": [],
   "execution_count": null
  },
  {
   "cell_type": "code",
   "id": "7731e6dfae0ba618",
   "metadata": {},
   "source": [
    "df_extracted = merged_data[\n",
    "    [\n",
    "        \"id\",\n",
    "        \"content_name\",\n",
    "        \"title\",\n",
    "        \"content_category\",\n",
    "        \"content_body\",\n",
    "        \"extracted_content_body\",\n",
    "    ]\n",
    "]  # \"title\", \"full_url\",\n",
    "\n",
    "display(df_extracted)"
   ],
   "outputs": [],
   "execution_count": null
  },
  {
   "cell_type": "code",
   "id": "462deaed263b0517",
   "metadata": {},
   "source": [
    "def max_paragraph_size(row):\n",
    "    article = row[\"extracted_content_body\"]\n",
    "    if article is None:\n",
    "        return 0\n",
    "\n",
    "    # print(type(article))\n",
    "    paragraphs = article.split(\"\\n\")\n",
    "    if paragraphs is None:\n",
    "        return 0\n",
    "\n",
    "    max_paragraph_size = 0\n",
    "    for paragraph in paragraphs:\n",
    "        paragraph_size = len(paragraph.split())\n",
    "        max_paragraph_size = max(max_paragraph_size, paragraph_size)\n",
    "\n",
    "    return max_paragraph_size\n",
    "\n",
    "\n",
    "df_extracted[\"max_paragraph_size\"] = df_extracted.apply(max_paragraph_size, axis=1)"
   ],
   "outputs": [],
   "execution_count": null
  },
  {
   "cell_type": "code",
   "id": "5b5aa70e023943f",
   "metadata": {},
   "source": [
    "display(df_extracted)"
   ],
   "outputs": [],
   "execution_count": null
  },
  {
   "cell_type": "code",
   "id": "e44574ec4c4ee4fa",
   "metadata": {},
   "source": [
    "fig = px.histogram(df_extracted, x=\"max_paragraph_size\", nbins=100, histnorm=\"percent\")\n",
    "fig.update_layout(\n",
    "    title_text=\"Paragraph word count distribution\",\n",
    "    xaxis_title_text=\"Word count\",\n",
    "    yaxis_title_text=\"Count\",\n",
    "    bargap=0.1,\n",
    ")\n",
    "\n",
    "fig.show()"
   ],
   "outputs": [],
   "execution_count": null
  },
  {
   "cell_type": "code",
   "id": "de8554a39653c04a",
   "metadata": {},
   "source": [
    "print(df_extracted[\"max_paragraph_size\"].quantile([0.5, 0.841, 0.95, 0.977, 0.999]))"
   ],
   "outputs": [],
   "execution_count": null
  },
  {
   "cell_type": "code",
   "id": "dd00d5b056bf5308",
   "metadata": {},
   "source": [
    "df_extracted[\"log_max_paragraph_size\"] = np.log(df_extracted[\"max_paragraph_size\"])"
   ],
   "outputs": [],
   "execution_count": null
  },
  {
   "cell_type": "code",
   "id": "3c355e186fd4d04d",
   "metadata": {},
   "source": [
    "threshold = np.log(df_extracted[\"max_paragraph_size\"].quantile([0.95]).values[0])\n",
    "print(threshold)\n",
    "\n",
    "fig = px.histogram(\n",
    "    df_extracted, x=\"log_max_paragraph_size\", nbins=100, histnorm=\"percent\"\n",
    ")\n",
    "fig.update_layout(\n",
    "    title_text=f\"log(word_count) distribution for Paragraph: {threshold}\",\n",
    "    xaxis_title_text=\"log(word_count)\",\n",
    "    yaxis_title_text=\"Count\",\n",
    "    bargap=0.1,\n",
    ")\n",
    "fig.add_vline(x=threshold, line_dash=\"dash\", line_color=\"firebrick\")\n",
    "fig.show()"
   ],
   "outputs": [],
   "execution_count": null
  },
  {
   "cell_type": "code",
   "id": "a37de35611ed51c2",
   "metadata": {},
   "source": [
    "# Presentation of Percentile for 0, 1, 2, 3 std dev from mean\n",
    "print(\n",
    "    df_extracted[\"log_max_paragraph_size\"].quantile(\n",
    "        [0.5, 0.8, 0.841, 0.95, 0.977, 0.999]\n",
    "    )\n",
    ")"
   ],
   "outputs": [],
   "execution_count": null
  },
  {
   "cell_type": "code",
   "id": "1763159ddd48526c",
   "metadata": {},
   "source": [
    "df_extracted[\"percentile_rank\"] = df_extracted[\"log_max_paragraph_size\"].rank(\n",
    "    pct=True, ascending=True\n",
    ")"
   ],
   "outputs": [],
   "execution_count": null
  },
  {
   "cell_type": "code",
   "id": "12e25b3ed4b55304",
   "metadata": {},
   "source": [
    "display(df_extracted)"
   ],
   "outputs": [],
   "execution_count": null
  },
  {
   "cell_type": "code",
   "id": "bbb210d7ce7038b0",
   "metadata": {},
   "source": [
    "df_inspect = df_extracted[df_extracted[\"log_max_paragraph_size\"] > threshold]\n",
    "df_inspect.sort_values(by=\"max_paragraph_size\", ascending=False, inplace=True)"
   ],
   "outputs": [],
   "execution_count": null
  },
  {
   "cell_type": "code",
   "id": "69a10d1fdd388ba3",
   "metadata": {},
   "source": [
    "display(df_inspect)"
   ],
   "outputs": [],
   "execution_count": null
  },
  {
   "cell_type": "code",
   "id": "56895c23c030a4de",
   "metadata": {},
   "source": [
    "df_extracted[\"has_nested_div\"] = df_extracted.apply(\n",
    "    lambda row: check_for_nested_divs(row[\"content_body\"]), axis=1\n",
    ")\n",
    "\n",
    "display(df_extracted[df_extracted[\"has_nested_div\"]])"
   ],
   "outputs": [],
   "execution_count": null
  },
  {
   "cell_type": "code",
   "id": "9d97ce044fe0b12",
   "metadata": {},
   "source": "display(df_extracted[~df_extracted[\"has_nested_div\"]])",
   "outputs": [],
   "execution_count": null
  },
  {
   "cell_type": "code",
   "id": "11aa15107a370822",
   "metadata": {},
   "source": [
    "df_extracted[\"has_nested_div\"].value_counts()"
   ],
   "outputs": [],
   "execution_count": null
  },
  {
   "cell_type": "code",
   "id": "a6fc57443e83e30f",
   "metadata": {},
   "source": [
    "df_inspect[\"has_nested_div\"] = df_inspect.apply(\n",
    "    lambda row: check_for_nested_divs(row[\"content_body\"]), axis=1\n",
    ")\n",
    "\n",
    "false_check = df_inspect[~df_inspect[\"has_nested_div\"]]\n",
    "display(\n",
    "    false_check.sort_values(by=[\"max_paragraph_size\"], ascending=False, inplace=False)\n",
    ")"
   ],
   "outputs": [],
   "execution_count": null
  },
  {
   "cell_type": "code",
   "id": "256d42df480a7630",
   "metadata": {},
   "source": [
    "df_inspect[\"has_nested_div\"].value_counts()"
   ],
   "outputs": [],
   "execution_count": null
  },
  {
   "cell_type": "code",
   "id": "d3e8c31b3c974588",
   "metadata": {},
   "source": [
    "query = false_check\n",
    "sample = query.iloc[0][\"content_body\"]\n",
    "# print(sample)\n",
    "\n",
    "check_for_nested_divs(sample)"
   ],
   "outputs": [],
   "execution_count": null
  },
  {
   "cell_type": "code",
   "id": "4c209c2f1e5cad1c",
   "metadata": {},
   "source": [],
   "outputs": [],
   "execution_count": null
  }
 ],
 "metadata": {
  "kernelspec": {
   "display_name": "Python 3",
   "language": "python",
   "name": "python3"
  },
  "language_info": {
   "codemirror_mode": {
    "name": "ipython",
    "version": 2
   },
   "file_extension": ".py",
   "mimetype": "text/x-python",
   "name": "python",
   "nbconvert_exporter": "python",
   "pygments_lexer": "ipython2",
   "version": "2.7.6"
  }
 },
 "nbformat": 4,
 "nbformat_minor": 5
}
