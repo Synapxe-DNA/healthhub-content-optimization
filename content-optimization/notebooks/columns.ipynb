{
 "cells": [
  {
   "cell_type": "code",
   "execution_count": 1,
   "metadata": {},
   "outputs": [
    {
     "data": {
      "text/html": [
       "<pre style=\"white-space:pre;overflow-x:auto;line-height:normal;font-family:Menlo,'DejaVu Sans Mono',consolas,'Courier New',monospace\"><span style=\"color: #7fbfbf; text-decoration-color: #7fbfbf\">[06/27/24 18:46:27] </span><span style=\"color: #000080; text-decoration-color: #000080\">INFO    </span> Registered line magic <span style=\"color: #008000; text-decoration-color: #008000\">'%reload_kedro'</span>                                   <a href=\"file:///opt/anaconda3/envs/content-opt/lib/python3.12/site-packages/kedro/ipython/__init__.py\" target=\"_blank\"><span style=\"color: #7f7f7f; text-decoration-color: #7f7f7f\">__init__.py</span></a><span style=\"color: #7f7f7f; text-decoration-color: #7f7f7f\">:</span><a href=\"file:///opt/anaconda3/envs/content-opt/lib/python3.12/site-packages/kedro/ipython/__init__.py#58\" target=\"_blank\"><span style=\"color: #7f7f7f; text-decoration-color: #7f7f7f\">58</span></a>\n",
       "</pre>\n"
      ],
      "text/plain": [
       "\u001b[2;36m[06/27/24 18:46:27]\u001b[0m\u001b[2;36m \u001b[0m\u001b[34mINFO    \u001b[0m Registered line magic \u001b[32m'%reload_kedro'\u001b[0m                                   \u001b]8;id=370114;file:///opt/anaconda3/envs/content-opt/lib/python3.12/site-packages/kedro/ipython/__init__.py\u001b\\\u001b[2m__init__.py\u001b[0m\u001b]8;;\u001b\\\u001b[2m:\u001b[0m\u001b]8;id=631982;file:///opt/anaconda3/envs/content-opt/lib/python3.12/site-packages/kedro/ipython/__init__.py#58\u001b\\\u001b[2m58\u001b[0m\u001b]8;;\u001b\\\n"
      ]
     },
     "metadata": {},
     "output_type": "display_data"
    },
    {
     "data": {
      "text/html": [
       "<pre style=\"white-space:pre;overflow-x:auto;line-height:normal;font-family:Menlo,'DejaVu Sans Mono',consolas,'Courier New',monospace\"><span style=\"color: #7fbfbf; text-decoration-color: #7fbfbf\">                    </span><span style=\"color: #000080; text-decoration-color: #000080\">INFO    </span> Registered line magic <span style=\"color: #008000; text-decoration-color: #008000\">'%load_node'</span>                                      <a href=\"file:///opt/anaconda3/envs/content-opt/lib/python3.12/site-packages/kedro/ipython/__init__.py\" target=\"_blank\"><span style=\"color: #7f7f7f; text-decoration-color: #7f7f7f\">__init__.py</span></a><span style=\"color: #7f7f7f; text-decoration-color: #7f7f7f\">:</span><a href=\"file:///opt/anaconda3/envs/content-opt/lib/python3.12/site-packages/kedro/ipython/__init__.py#60\" target=\"_blank\"><span style=\"color: #7f7f7f; text-decoration-color: #7f7f7f\">60</span></a>\n",
       "</pre>\n"
      ],
      "text/plain": [
       "\u001b[2;36m                   \u001b[0m\u001b[2;36m \u001b[0m\u001b[34mINFO    \u001b[0m Registered line magic \u001b[32m'%load_node'\u001b[0m                                      \u001b]8;id=493180;file:///opt/anaconda3/envs/content-opt/lib/python3.12/site-packages/kedro/ipython/__init__.py\u001b\\\u001b[2m__init__.py\u001b[0m\u001b]8;;\u001b\\\u001b[2m:\u001b[0m\u001b]8;id=320583;file:///opt/anaconda3/envs/content-opt/lib/python3.12/site-packages/kedro/ipython/__init__.py#60\u001b\\\u001b[2m60\u001b[0m\u001b]8;;\u001b\\\n"
      ]
     },
     "metadata": {},
     "output_type": "display_data"
    },
    {
     "data": {
      "text/html": [
       "<pre style=\"white-space:pre;overflow-x:auto;line-height:normal;font-family:Menlo,'DejaVu Sans Mono',consolas,'Courier New',monospace\"><span style=\"color: #7fbfbf; text-decoration-color: #7fbfbf\">                    </span><span style=\"color: #000080; text-decoration-color: #000080\">INFO    </span> Resolved project path as: <span style=\"color: #800080; text-decoration-color: #800080\">/Users/wilsvenleong/Downloads/</span><span style=\"color: #ff00ff; text-decoration-color: #ff00ff\">Learning</span>       <a href=\"file:///opt/anaconda3/envs/content-opt/lib/python3.12/site-packages/kedro/ipython/__init__.py\" target=\"_blank\"><span style=\"color: #7f7f7f; text-decoration-color: #7f7f7f\">__init__.py</span></a><span style=\"color: #7f7f7f; text-decoration-color: #7f7f7f\">:</span><a href=\"file:///opt/anaconda3/envs/content-opt/lib/python3.12/site-packages/kedro/ipython/__init__.py#171\" target=\"_blank\"><span style=\"color: #7f7f7f; text-decoration-color: #7f7f7f\">171</span></a>\n",
       "<span style=\"color: #7fbfbf; text-decoration-color: #7fbfbf\">                    </span>         Materials/healthhub-content-optimization/content-optimization.         <span style=\"color: #7f7f7f; text-decoration-color: #7f7f7f\">               </span>\n",
       "<span style=\"color: #7fbfbf; text-decoration-color: #7fbfbf\">                    </span>         To set a different path, run <span style=\"color: #008000; text-decoration-color: #008000\">'%reload_kedro &lt;project_root&gt;'</span>            <span style=\"color: #7f7f7f; text-decoration-color: #7f7f7f\">               </span>\n",
       "</pre>\n"
      ],
      "text/plain": [
       "\u001b[2;36m                   \u001b[0m\u001b[2;36m \u001b[0m\u001b[34mINFO    \u001b[0m Resolved project path as: \u001b[35m/Users/wilsvenleong/Downloads/\u001b[0m\u001b[95mLearning\u001b[0m       \u001b]8;id=411436;file:///opt/anaconda3/envs/content-opt/lib/python3.12/site-packages/kedro/ipython/__init__.py\u001b\\\u001b[2m__init__.py\u001b[0m\u001b]8;;\u001b\\\u001b[2m:\u001b[0m\u001b]8;id=721756;file:///opt/anaconda3/envs/content-opt/lib/python3.12/site-packages/kedro/ipython/__init__.py#171\u001b\\\u001b[2m171\u001b[0m\u001b]8;;\u001b\\\n",
       "\u001b[2;36m                    \u001b[0m         Materials/healthhub-content-optimization/content-optimization.         \u001b[2m               \u001b[0m\n",
       "\u001b[2;36m                    \u001b[0m         To set a different path, run \u001b[32m'%reload_kedro \u001b[0m\u001b[32m<\u001b[0m\u001b[32mproject_root\u001b[0m\u001b[32m>\u001b[0m\u001b[32m'\u001b[0m            \u001b[2m               \u001b[0m\n"
      ]
     },
     "metadata": {},
     "output_type": "display_data"
    },
    {
     "data": {
      "text/html": [
       "<pre style=\"white-space:pre;overflow-x:auto;line-height:normal;font-family:Menlo,'DejaVu Sans Mono',consolas,'Courier New',monospace\"><span style=\"color: #7fbfbf; text-decoration-color: #7fbfbf\">[06/27/24 18:46:29] </span><span style=\"color: #000080; text-decoration-color: #000080\">INFO    </span> Kedro project Content Optimization                                     <a href=\"file:///opt/anaconda3/envs/content-opt/lib/python3.12/site-packages/kedro/ipython/__init__.py\" target=\"_blank\"><span style=\"color: #7f7f7f; text-decoration-color: #7f7f7f\">__init__.py</span></a><span style=\"color: #7f7f7f; text-decoration-color: #7f7f7f\">:</span><a href=\"file:///opt/anaconda3/envs/content-opt/lib/python3.12/site-packages/kedro/ipython/__init__.py#141\" target=\"_blank\"><span style=\"color: #7f7f7f; text-decoration-color: #7f7f7f\">141</span></a>\n",
       "</pre>\n"
      ],
      "text/plain": [
       "\u001b[2;36m[06/27/24 18:46:29]\u001b[0m\u001b[2;36m \u001b[0m\u001b[34mINFO    \u001b[0m Kedro project Content Optimization                                     \u001b]8;id=532592;file:///opt/anaconda3/envs/content-opt/lib/python3.12/site-packages/kedro/ipython/__init__.py\u001b\\\u001b[2m__init__.py\u001b[0m\u001b]8;;\u001b\\\u001b[2m:\u001b[0m\u001b]8;id=289337;file:///opt/anaconda3/envs/content-opt/lib/python3.12/site-packages/kedro/ipython/__init__.py#141\u001b\\\u001b[2m141\u001b[0m\u001b]8;;\u001b\\\n"
      ]
     },
     "metadata": {},
     "output_type": "display_data"
    },
    {
     "data": {
      "text/html": [
       "<pre style=\"white-space:pre;overflow-x:auto;line-height:normal;font-family:Menlo,'DejaVu Sans Mono',consolas,'Courier New',monospace\"><span style=\"color: #7fbfbf; text-decoration-color: #7fbfbf\">                    </span><span style=\"color: #000080; text-decoration-color: #000080\">INFO    </span> Defined global variable <span style=\"color: #008000; text-decoration-color: #008000\">'context'</span>, <span style=\"color: #008000; text-decoration-color: #008000\">'session'</span>, <span style=\"color: #008000; text-decoration-color: #008000\">'catalog'</span> and            <a href=\"file:///opt/anaconda3/envs/content-opt/lib/python3.12/site-packages/kedro/ipython/__init__.py\" target=\"_blank\"><span style=\"color: #7f7f7f; text-decoration-color: #7f7f7f\">__init__.py</span></a><span style=\"color: #7f7f7f; text-decoration-color: #7f7f7f\">:</span><a href=\"file:///opt/anaconda3/envs/content-opt/lib/python3.12/site-packages/kedro/ipython/__init__.py#142\" target=\"_blank\"><span style=\"color: #7f7f7f; text-decoration-color: #7f7f7f\">142</span></a>\n",
       "<span style=\"color: #7fbfbf; text-decoration-color: #7fbfbf\">                    </span>         <span style=\"color: #008000; text-decoration-color: #008000\">'pipelines'</span>                                                            <span style=\"color: #7f7f7f; text-decoration-color: #7f7f7f\">               </span>\n",
       "</pre>\n"
      ],
      "text/plain": [
       "\u001b[2;36m                   \u001b[0m\u001b[2;36m \u001b[0m\u001b[34mINFO    \u001b[0m Defined global variable \u001b[32m'context'\u001b[0m, \u001b[32m'session'\u001b[0m, \u001b[32m'catalog'\u001b[0m and            \u001b]8;id=139472;file:///opt/anaconda3/envs/content-opt/lib/python3.12/site-packages/kedro/ipython/__init__.py\u001b\\\u001b[2m__init__.py\u001b[0m\u001b]8;;\u001b\\\u001b[2m:\u001b[0m\u001b]8;id=74645;file:///opt/anaconda3/envs/content-opt/lib/python3.12/site-packages/kedro/ipython/__init__.py#142\u001b\\\u001b[2m142\u001b[0m\u001b]8;;\u001b\\\n",
       "\u001b[2;36m                    \u001b[0m         \u001b[32m'pipelines'\u001b[0m                                                            \u001b[2m               \u001b[0m\n"
      ]
     },
     "metadata": {},
     "output_type": "display_data"
    },
    {
     "data": {
      "text/html": [
       "<pre style=\"white-space:pre;overflow-x:auto;line-height:normal;font-family:Menlo,'DejaVu Sans Mono',consolas,'Courier New',monospace\"><span style=\"color: #7fbfbf; text-decoration-color: #7fbfbf\">                    </span><span style=\"color: #000080; text-decoration-color: #000080\">INFO    </span> Registered line magic <span style=\"color: #008000; text-decoration-color: #008000\">'run_viz'</span>                                        <a href=\"file:///opt/anaconda3/envs/content-opt/lib/python3.12/site-packages/kedro/ipython/__init__.py\" target=\"_blank\"><span style=\"color: #7f7f7f; text-decoration-color: #7f7f7f\">__init__.py</span></a><span style=\"color: #7f7f7f; text-decoration-color: #7f7f7f\">:</span><a href=\"file:///opt/anaconda3/envs/content-opt/lib/python3.12/site-packages/kedro/ipython/__init__.py#148\" target=\"_blank\"><span style=\"color: #7f7f7f; text-decoration-color: #7f7f7f\">148</span></a>\n",
       "</pre>\n"
      ],
      "text/plain": [
       "\u001b[2;36m                   \u001b[0m\u001b[2;36m \u001b[0m\u001b[34mINFO    \u001b[0m Registered line magic \u001b[32m'run_viz'\u001b[0m                                        \u001b]8;id=325099;file:///opt/anaconda3/envs/content-opt/lib/python3.12/site-packages/kedro/ipython/__init__.py\u001b\\\u001b[2m__init__.py\u001b[0m\u001b]8;;\u001b\\\u001b[2m:\u001b[0m\u001b]8;id=976394;file:///opt/anaconda3/envs/content-opt/lib/python3.12/site-packages/kedro/ipython/__init__.py#148\u001b\\\u001b[2m148\u001b[0m\u001b]8;;\u001b\\\n"
      ]
     },
     "metadata": {},
     "output_type": "display_data"
    }
   ],
   "source": [
    "%load_ext kedro.ipython"
   ]
  },
  {
   "cell_type": "code",
   "execution_count": 2,
   "metadata": {},
   "outputs": [],
   "source": [
    "import re\n",
    "\n",
    "import pandas as pd\n",
    "from tqdm import tqdm"
   ]
  },
  {
   "cell_type": "code",
   "execution_count": 3,
   "metadata": {},
   "outputs": [
    {
     "data": {
      "text/html": [
       "<pre style=\"white-space:pre;overflow-x:auto;line-height:normal;font-family:Menlo,'DejaVu Sans Mono',consolas,'Courier New',monospace\"></pre>\n"
      ],
      "text/plain": []
     },
     "metadata": {},
     "output_type": "display_data"
    },
    {
     "data": {
      "text/plain": [
       "\n",
       "\u001b[1m[\u001b[0m\n",
       "    \u001b[32m'all_contents'\u001b[0m,\n",
       "    \u001b[32m'all_contents_standardized'\u001b[0m,\n",
       "    \u001b[32m'all_contents_extracted'\u001b[0m,\n",
       "    \u001b[32m'all_extracted_text'\u001b[0m,\n",
       "    \u001b[32m'parameters'\u001b[0m,\n",
       "    \u001b[32m'params:columns_to_keep'\u001b[0m,\n",
       "    \u001b[32m'params:columns_to_keep.cost-and-financing'\u001b[0m,\n",
       "    \u001b[32m'params:columns_to_keep.diseases-and-conditions'\u001b[0m,\n",
       "    \u001b[32m'params:columns_to_keep.health-statistics'\u001b[0m,\n",
       "    \u001b[32m'params:columns_to_keep.live-healthy-articles'\u001b[0m,\n",
       "    \u001b[32m'params:columns_to_keep.medical-care-and-facilities'\u001b[0m,\n",
       "    \u001b[32m'params:columns_to_keep.medications'\u001b[0m,\n",
       "    \u001b[32m'params:columns_to_keep.program-sub-pages'\u001b[0m,\n",
       "    \u001b[32m'params:columns_to_keep.programs'\u001b[0m,\n",
       "    \u001b[32m'params:columns_to_keep.support-group-and-others'\u001b[0m,\n",
       "    \u001b[32m'params:columns_to_add'\u001b[0m,\n",
       "    \u001b[32m'params:columns_to_add.health-statistics'\u001b[0m,\n",
       "    \u001b[32m'params:columns_to_add.medications'\u001b[0m,\n",
       "    \u001b[32m'params:columns_to_add.program-sub-pages'\u001b[0m,\n",
       "    \u001b[32m'params:columns_to_add.programs'\u001b[0m,\n",
       "    \u001b[32m'params:default_columns'\u001b[0m\n",
       "\u001b[1m]\u001b[0m"
      ]
     },
     "execution_count": 3,
     "metadata": {},
     "output_type": "execute_result"
    }
   ],
   "source": [
    "# ruff: noqa: F821\n",
    "catalog.list()"
   ]
  },
  {
   "cell_type": "code",
   "execution_count": 4,
   "metadata": {},
   "outputs": [
    {
     "data": {
      "text/html": [
       "<pre style=\"white-space:pre;overflow-x:auto;line-height:normal;font-family:Menlo,'DejaVu Sans Mono',consolas,'Courier New',monospace\"><span style=\"color: #7fbfbf; text-decoration-color: #7fbfbf\">                    </span><span style=\"color: #000080; text-decoration-color: #000080\">INFO    </span> Loading data from <span style=\"color: #ff8700; text-decoration-color: #ff8700\">all_contents</span> <span style=\"font-weight: bold\">(</span>PartitionedDataset<span style=\"font-weight: bold\">)</span><span style=\"color: #808000; text-decoration-color: #808000\">...</span>             <a href=\"file:///opt/anaconda3/envs/content-opt/lib/python3.12/site-packages/kedro/io/data_catalog.py\" target=\"_blank\"><span style=\"color: #7f7f7f; text-decoration-color: #7f7f7f\">data_catalog.py</span></a><span style=\"color: #7f7f7f; text-decoration-color: #7f7f7f\">:</span><a href=\"file:///opt/anaconda3/envs/content-opt/lib/python3.12/site-packages/kedro/io/data_catalog.py#508\" target=\"_blank\"><span style=\"color: #7f7f7f; text-decoration-color: #7f7f7f\">508</span></a>\n",
       "</pre>\n"
      ],
      "text/plain": [
       "\u001b[2;36m                   \u001b[0m\u001b[2;36m \u001b[0m\u001b[34mINFO    \u001b[0m Loading data from \u001b[38;5;208mall_contents\u001b[0m \u001b[1m(\u001b[0mPartitionedDataset\u001b[1m)\u001b[0m\u001b[33m...\u001b[0m             \u001b]8;id=704629;file:///opt/anaconda3/envs/content-opt/lib/python3.12/site-packages/kedro/io/data_catalog.py\u001b\\\u001b[2mdata_catalog.py\u001b[0m\u001b]8;;\u001b\\\u001b[2m:\u001b[0m\u001b]8;id=207752;file:///opt/anaconda3/envs/content-opt/lib/python3.12/site-packages/kedro/io/data_catalog.py#508\u001b\\\u001b[2m508\u001b[0m\u001b]8;;\u001b\\\n"
      ]
     },
     "metadata": {},
     "output_type": "display_data"
    },
    {
     "data": {
      "text/html": [
       "<pre style=\"white-space:pre;overflow-x:auto;line-height:normal;font-family:Menlo,'DejaVu Sans Mono',consolas,'Courier New',monospace\"></pre>\n"
      ],
      "text/plain": []
     },
     "metadata": {},
     "output_type": "display_data"
    },
    {
     "data": {
      "text/plain": [
       "\n",
       "\u001b[1m{\u001b[0m\n",
       "    \u001b[32m'export-published-cost-and-financing_14062024_data'\u001b[0m: \u001b[1m<\u001b[0m\u001b[1;95mbound\u001b[0m\u001b[39m method AbstractVersionedDataset.load of <kedro_datasets.pandas.excel_dataset.ExcelDataset object at \u001b[0m\u001b[1;36m0x1692ebaa0\u001b[0m\u001b[39m>>,\u001b[0m\n",
       "\u001b[39m    \u001b[0m\u001b[32m'export-published-diseases-and-conditions_13062024_data'\u001b[0m\u001b[39m: <bound method AbstractVersionedDataset.load of <kedro_datasets.pandas.excel_dataset.ExcelDataset object at \u001b[0m\u001b[1;36m0x1692b3b90\u001b[0m\u001b[39m>>,\u001b[0m\n",
       "\u001b[39m    \u001b[0m\u001b[32m'export-published-health-statistics_14062024_data'\u001b[0m\u001b[39m: <bound method AbstractVersionedDataset.load of <kedro_datasets.pandas.excel_dataset.ExcelDataset object at \u001b[0m\u001b[1;36m0x169300a10\u001b[0m\u001b[39m>>,\u001b[0m\n",
       "\u001b[39m    \u001b[0m\u001b[32m'export-published-live-healthy-articles_14062024_data'\u001b[0m\u001b[39m: <bound method AbstractVersionedDataset.load of <kedro_datasets.pandas.excel_dataset.ExcelDataset object at \u001b[0m\u001b[1;36m0x169300560\u001b[0m\u001b[39m>>,\u001b[0m\n",
       "\u001b[39m    \u001b[0m\u001b[32m'export-published-medical-care-and-facilities_14062024_data'\u001b[0m\u001b[39m: <bound method AbstractVersionedDataset.load of <kedro_datasets.pandas.excel_dataset.ExcelDataset object at \u001b[0m\u001b[1;36m0x169266ff0\u001b[0m\u001b[39m>>,\u001b[0m\n",
       "\u001b[39m    \u001b[0m\u001b[32m'export-published-medications_14062024_data'\u001b[0m\u001b[39m: <bound method AbstractVersionedDataset.load of <kedro_datasets.pandas.excel_dataset.ExcelDataset object at \u001b[0m\u001b[1;36m0x1693011f0\u001b[0m\u001b[39m>>,\u001b[0m\n",
       "\u001b[39m    \u001b[0m\u001b[32m'export-published-program-sub-pages_14062024_data'\u001b[0m\u001b[39m: <bound method AbstractVersionedDataset.load of <kedro_datasets.pandas.excel_dataset.ExcelDataset object at \u001b[0m\u001b[1;36m0x169300920\u001b[0m\u001b[39m>>,\u001b[0m\n",
       "\u001b[39m    \u001b[0m\u001b[32m'export-published-programs_14062024_data'\u001b[0m\u001b[39m: <bound method AbstractVersionedDataset.load of <kedro_datasets.pandas.excel_dataset.ExcelDataset object at \u001b[0m\u001b[1;36m0x169301880\u001b[0m\u001b[39m>>,\u001b[0m\n",
       "\u001b[39m    \u001b[0m\u001b[32m'export-published-support-group-and-others_14062024_data'\u001b[0m\u001b[39m: <bound method AbstractVersionedDataset.load of <kedro_datasets.pandas.excel_dataset.ExcelDataset object at \u001b[0m\u001b[1;36m0x169301760\u001b[0m\u001b[39m>\u001b[0m\u001b[1m>\u001b[0m\n",
       "\u001b[1m}\u001b[0m"
      ]
     },
     "execution_count": 4,
     "metadata": {},
     "output_type": "execute_result"
    }
   ],
   "source": [
    "# ruff: noqa: F821\n",
    "all_contents = catalog.load(\"all_contents\")\n",
    "all_contents"
   ]
  },
  {
   "cell_type": "code",
   "execution_count": 5,
   "metadata": {},
   "outputs": [
    {
     "data": {
      "text/html": [
       "<pre style=\"white-space:pre;overflow-x:auto;line-height:normal;font-family:Menlo,'DejaVu Sans Mono',consolas,'Courier New',monospace\"></pre>\n"
      ],
      "text/plain": []
     },
     "metadata": {},
     "output_type": "display_data"
    },
    {
     "data": {
      "text/html": [
       "<div>\n",
       "<style scoped>\n",
       "    .dataframe tbody tr th:only-of-type {\n",
       "        vertical-align: middle;\n",
       "    }\n",
       "\n",
       "    .dataframe tbody tr th {\n",
       "        vertical-align: top;\n",
       "    }\n",
       "\n",
       "    .dataframe thead th {\n",
       "        text-align: right;\n",
       "    }\n",
       "</style>\n",
       "<table border=\"1\" class=\"dataframe\">\n",
       "  <thead>\n",
       "    <tr style=\"text-align: right;\">\n",
       "      <th></th>\n",
       "      <th>id</th>\n",
       "      <th>identifier</th>\n",
       "      <th>Content.Name</th>\n",
       "      <th>MasterAssetIsContent</th>\n",
       "      <th>Content.ExpirationDate</th>\n",
       "      <th>Content.PublishedOn</th>\n",
       "      <th>Content.Impact</th>\n",
       "      <th>User_Title</th>\n",
       "      <th>Content.PublicationDate</th>\n",
       "      <th>Content.Brief</th>\n",
       "      <th>...</th>\n",
       "      <th>CreatedOn</th>\n",
       "      <th>ModifiedBy</th>\n",
       "      <th>ModifiedOn</th>\n",
       "      <th>Page Views</th>\n",
       "      <th>Engagement Rate</th>\n",
       "      <th>Bounce Rate</th>\n",
       "      <th>Exit Rate</th>\n",
       "      <th>Scroll %</th>\n",
       "      <th>% of Total Views</th>\n",
       "      <th>Cumulative % of Total Views</th>\n",
       "    </tr>\n",
       "  </thead>\n",
       "  <tbody>\n",
       "    <tr>\n",
       "      <th>0</th>\n",
       "      <td>1434919</td>\n",
       "      <td>SP.39d39171-a596-431b-8d63-be5cba5dcc7c</td>\n",
       "      <td>MindSG_Sleeping-Well-Adults_Level2</td>\n",
       "      <td>NaN</td>\n",
       "      <td>NaN</td>\n",
       "      <td>NaN</td>\n",
       "      <td>NaN</td>\n",
       "      <td>NaN</td>\n",
       "      <td>NaN</td>\n",
       "      <td>NaN</td>\n",
       "      <td>...</td>\n",
       "      <td>2023-09-15T04:55:43.9098866Z</td>\n",
       "      <td>Administrator</td>\n",
       "      <td>2024-05-31T03:44:36.6078379Z</td>\n",
       "      <td>126283</td>\n",
       "      <td>0.628872</td>\n",
       "      <td>0.371128</td>\n",
       "      <td>0.638210</td>\n",
       "      <td>0.364728</td>\n",
       "      <td>0.118571</td>\n",
       "      <td>0.118571</td>\n",
       "    </tr>\n",
       "    <tr>\n",
       "      <th>1</th>\n",
       "      <td>1480345</td>\n",
       "      <td>oky4AXQkQ8qrcdZ6U9cW9Q</td>\n",
       "      <td>Start2Move</td>\n",
       "      <td>NaN</td>\n",
       "      <td>NaN</td>\n",
       "      <td>NaN</td>\n",
       "      <td>NaN</td>\n",
       "      <td>NaN</td>\n",
       "      <td>NaN</td>\n",
       "      <td>NaN</td>\n",
       "      <td>...</td>\n",
       "      <td>2024-02-01T04:15:46.2559085Z</td>\n",
       "      <td>Administrator</td>\n",
       "      <td>2024-05-07T09:42:13.8718174Z</td>\n",
       "      <td>89264</td>\n",
       "      <td>0.560178</td>\n",
       "      <td>0.439822</td>\n",
       "      <td>0.770242</td>\n",
       "      <td>0.270544</td>\n",
       "      <td>0.083813</td>\n",
       "      <td>0.202384</td>\n",
       "    </tr>\n",
       "    <tr>\n",
       "      <th>2</th>\n",
       "      <td>1435221</td>\n",
       "      <td>SP.db398864-80ac-4423-a65c-af33881256b8</td>\n",
       "      <td>Parent Hub: Student Immunisation And Screening...</td>\n",
       "      <td>NaN</td>\n",
       "      <td>NaN</td>\n",
       "      <td>NaN</td>\n",
       "      <td>NaN</td>\n",
       "      <td>NaN</td>\n",
       "      <td>NaN</td>\n",
       "      <td>NaN</td>\n",
       "      <td>...</td>\n",
       "      <td>2023-09-15T05:03:10.7376301Z</td>\n",
       "      <td>Administrator</td>\n",
       "      <td>2024-05-14T09:04:45.8115068Z</td>\n",
       "      <td>50903</td>\n",
       "      <td>0.715857</td>\n",
       "      <td>0.284143</td>\n",
       "      <td>0.714737</td>\n",
       "      <td>0.357170</td>\n",
       "      <td>0.047795</td>\n",
       "      <td>0.250179</td>\n",
       "    </tr>\n",
       "    <tr>\n",
       "      <th>3</th>\n",
       "      <td>1434809</td>\n",
       "      <td>SP.fc32d20e-5731-46c9-b6af-6095fe938f6f</td>\n",
       "      <td>National Steps Challenge™_tracker-collection_L...</td>\n",
       "      <td>NaN</td>\n",
       "      <td>NaN</td>\n",
       "      <td>NaN</td>\n",
       "      <td>NaN</td>\n",
       "      <td>NaN</td>\n",
       "      <td>NaN</td>\n",
       "      <td>NaN</td>\n",
       "      <td>...</td>\n",
       "      <td>2023-09-15T04:52:39.1977681Z</td>\n",
       "      <td>Administrator</td>\n",
       "      <td>2024-06-11T08:10:53.0536751Z</td>\n",
       "      <td>45627</td>\n",
       "      <td>0.767504</td>\n",
       "      <td>0.232496</td>\n",
       "      <td>0.745974</td>\n",
       "      <td>0.322446</td>\n",
       "      <td>0.042841</td>\n",
       "      <td>0.293020</td>\n",
       "    </tr>\n",
       "    <tr>\n",
       "      <th>4</th>\n",
       "      <td>1435018</td>\n",
       "      <td>SP.5108f2c1-d19d-45de-991f-726dd74a7b92</td>\n",
       "      <td>Reduce Your Salt And Sugar Intake_eat-less_Level1</td>\n",
       "      <td>NaN</td>\n",
       "      <td>NaN</td>\n",
       "      <td>NaN</td>\n",
       "      <td>NaN</td>\n",
       "      <td>NaN</td>\n",
       "      <td>NaN</td>\n",
       "      <td>NaN</td>\n",
       "      <td>...</td>\n",
       "      <td>2023-09-15T04:58:09.1146082Z</td>\n",
       "      <td>Administrator</td>\n",
       "      <td>2024-06-12T04:44:59.6751314Z</td>\n",
       "      <td>42815</td>\n",
       "      <td>0.702730</td>\n",
       "      <td>0.297270</td>\n",
       "      <td>0.645652</td>\n",
       "      <td>0.293242</td>\n",
       "      <td>0.040200</td>\n",
       "      <td>0.333220</td>\n",
       "    </tr>\n",
       "    <tr>\n",
       "      <th>...</th>\n",
       "      <td>...</td>\n",
       "      <td>...</td>\n",
       "      <td>...</td>\n",
       "      <td>...</td>\n",
       "      <td>...</td>\n",
       "      <td>...</td>\n",
       "      <td>...</td>\n",
       "      <td>...</td>\n",
       "      <td>...</td>\n",
       "      <td>...</td>\n",
       "      <td>...</td>\n",
       "      <td>...</td>\n",
       "      <td>...</td>\n",
       "      <td>...</td>\n",
       "      <td>...</td>\n",
       "      <td>...</td>\n",
       "      <td>...</td>\n",
       "      <td>...</td>\n",
       "      <td>...</td>\n",
       "      <td>...</td>\n",
       "      <td>...</td>\n",
       "    </tr>\n",
       "    <tr>\n",
       "      <th>345</th>\n",
       "      <td>1488687</td>\n",
       "      <td>ek5MvWeVRUq8D8vY6p3IXA</td>\n",
       "      <td>testqsb</td>\n",
       "      <td>NaN</td>\n",
       "      <td>NaN</td>\n",
       "      <td>NaN</td>\n",
       "      <td>NaN</td>\n",
       "      <td>NaN</td>\n",
       "      <td>NaN</td>\n",
       "      <td>NaN</td>\n",
       "      <td>...</td>\n",
       "      <td>2024-03-08T07:05:26.8151308Z</td>\n",
       "      <td>Administrator</td>\n",
       "      <td>2024-03-08T07:06:14.1399640Z</td>\n",
       "      <td>0</td>\n",
       "      <td>0.000000</td>\n",
       "      <td>1.000000</td>\n",
       "      <td>0.000000</td>\n",
       "      <td>0.250000</td>\n",
       "      <td>0.000000</td>\n",
       "      <td>1.000000</td>\n",
       "    </tr>\n",
       "    <tr>\n",
       "      <th>346</th>\n",
       "      <td>1434815</td>\n",
       "      <td>SP.9b564d6b-91ab-4b0e-a8a4-cba51896bc7b</td>\n",
       "      <td>level-3_level-3_Level3</td>\n",
       "      <td>NaN</td>\n",
       "      <td>NaN</td>\n",
       "      <td>NaN</td>\n",
       "      <td>NaN</td>\n",
       "      <td>NaN</td>\n",
       "      <td>NaN</td>\n",
       "      <td>NaN</td>\n",
       "      <td>...</td>\n",
       "      <td>2023-09-15T04:52:42.3941203Z</td>\n",
       "      <td>Administrator</td>\n",
       "      <td>2023-11-22T10:50:05.5316882Z</td>\n",
       "      <td>0</td>\n",
       "      <td>0.000000</td>\n",
       "      <td>1.000000</td>\n",
       "      <td>0.000000</td>\n",
       "      <td>0.250000</td>\n",
       "      <td>0.000000</td>\n",
       "      <td>1.000000</td>\n",
       "    </tr>\n",
       "    <tr>\n",
       "      <th>347</th>\n",
       "      <td>1492637</td>\n",
       "      <td>A7Vy2SXiRtqXKptF5pDBAA</td>\n",
       "      <td>testsupportingoutlet</td>\n",
       "      <td>NaN</td>\n",
       "      <td>NaN</td>\n",
       "      <td>NaN</td>\n",
       "      <td>NaN</td>\n",
       "      <td>NaN</td>\n",
       "      <td>NaN</td>\n",
       "      <td>NaN</td>\n",
       "      <td>...</td>\n",
       "      <td>2024-03-27T08:32:55.2353970Z</td>\n",
       "      <td>Administrator</td>\n",
       "      <td>2024-03-27T08:33:41.1161920Z</td>\n",
       "      <td>0</td>\n",
       "      <td>0.000000</td>\n",
       "      <td>1.000000</td>\n",
       "      <td>0.000000</td>\n",
       "      <td>0.250000</td>\n",
       "      <td>0.000000</td>\n",
       "      <td>1.000000</td>\n",
       "    </tr>\n",
       "    <tr>\n",
       "      <th>348</th>\n",
       "      <td>1502338</td>\n",
       "      <td>wuuFMdmDQomPxcs3QDDOEA</td>\n",
       "      <td>testmayend1</td>\n",
       "      <td>NaN</td>\n",
       "      <td>NaN</td>\n",
       "      <td>NaN</td>\n",
       "      <td>NaN</td>\n",
       "      <td>NaN</td>\n",
       "      <td>NaN</td>\n",
       "      <td>NaN</td>\n",
       "      <td>...</td>\n",
       "      <td>2024-05-30T09:39:09.3687411Z</td>\n",
       "      <td>Administrator</td>\n",
       "      <td>2024-05-30T09:40:00.8346675Z</td>\n",
       "      <td>0</td>\n",
       "      <td>0.000000</td>\n",
       "      <td>1.000000</td>\n",
       "      <td>0.000000</td>\n",
       "      <td>0.250000</td>\n",
       "      <td>0.000000</td>\n",
       "      <td>1.000000</td>\n",
       "    </tr>\n",
       "    <tr>\n",
       "      <th>349</th>\n",
       "      <td>1502349</td>\n",
       "      <td>hdxYVRVlRHqmCa83hEgL4Q</td>\n",
       "      <td>testmayend2</td>\n",
       "      <td>NaN</td>\n",
       "      <td>NaN</td>\n",
       "      <td>NaN</td>\n",
       "      <td>NaN</td>\n",
       "      <td>NaN</td>\n",
       "      <td>NaN</td>\n",
       "      <td>NaN</td>\n",
       "      <td>...</td>\n",
       "      <td>2024-05-30T09:40:01.1152421Z</td>\n",
       "      <td>Administrator</td>\n",
       "      <td>2024-05-30T09:41:24.0386090Z</td>\n",
       "      <td>0</td>\n",
       "      <td>0.000000</td>\n",
       "      <td>1.000000</td>\n",
       "      <td>0.000000</td>\n",
       "      <td>0.250000</td>\n",
       "      <td>0.000000</td>\n",
       "      <td>1.000000</td>\n",
       "    </tr>\n",
       "  </tbody>\n",
       "</table>\n",
       "<p>350 rows × 533 columns</p>\n",
       "</div>"
      ],
      "text/plain": [
       "\n",
       "          id                               identifier  \\\n",
       "\u001b[1;36m0\u001b[0m    \u001b[1;36m1434919\u001b[0m  SP.\u001b[93m39d39171-a596-431b-8d63-be5cba5dcc7c\u001b[0m   \n",
       "\u001b[1;36m1\u001b[0m    \u001b[1;36m1480345\u001b[0m                   oky4AXQkQ8qrcdZ6U9cW9Q   \n",
       "\u001b[1;36m2\u001b[0m    \u001b[1;36m1435221\u001b[0m  SP.\u001b[93mdb398864-80ac-4423-a65c-af33881256b8\u001b[0m   \n",
       "\u001b[1;36m3\u001b[0m    \u001b[1;36m1434809\u001b[0m  SP.\u001b[93mfc32d20e-5731-46c9-b6af-6095fe938f6f\u001b[0m   \n",
       "\u001b[1;36m4\u001b[0m    \u001b[1;36m1435018\u001b[0m  SP.\u001b[93m5108f2c1-d19d-45de-991f-726dd74a7b92\u001b[0m   \n",
       "..       \u001b[33m...\u001b[0m                                      \u001b[33m...\u001b[0m   \n",
       "\u001b[1;36m345\u001b[0m  \u001b[1;36m1488687\u001b[0m                   ek5MvWeVRUq8D8vY6p3IXA   \n",
       "\u001b[1;36m346\u001b[0m  \u001b[1;36m1434815\u001b[0m  SP.\u001b[93m9b564d6b-91ab-4b0e-a8a4-cba51896bc7b\u001b[0m   \n",
       "\u001b[1;36m347\u001b[0m  \u001b[1;36m1492637\u001b[0m                   A7Vy2SXiRtqXKptF5pDBAA   \n",
       "\u001b[1;36m348\u001b[0m  \u001b[1;36m1502338\u001b[0m                   wuuFMdmDQomPxcs3QDDOEA   \n",
       "\u001b[1;36m349\u001b[0m  \u001b[1;36m1502349\u001b[0m                   hdxYVRVlRHqmCa83hEgL4Q   \n",
       "\n",
       "                                          Content.Name  MasterAssetIsContent  \\\n",
       "\u001b[1;36m0\u001b[0m                   MindSG_Sleeping-Well-Adults_Level2                   NaN   \n",
       "\u001b[1;36m1\u001b[0m                                           Start2Move                   NaN   \n",
       "\u001b[1;36m2\u001b[0m    Parent Hub: Student Immunisation And Screening\u001b[33m...\u001b[0m                   NaN   \n",
       "\u001b[1;36m3\u001b[0m    National Steps Challenge™_tracker-collection_L\u001b[33m...\u001b[0m                   NaN   \n",
       "\u001b[1;36m4\u001b[0m    Reduce Your Salt And Sugar Intake_eat-less_Level1                   NaN   \n",
       "..                                                 \u001b[33m...\u001b[0m                   \u001b[33m...\u001b[0m   \n",
       "\u001b[1;36m345\u001b[0m                                            testqsb                   NaN   \n",
       "\u001b[1;36m346\u001b[0m                             level-3_level-3_Level3                   NaN   \n",
       "\u001b[1;36m347\u001b[0m                               testsupportingoutlet                   NaN   \n",
       "\u001b[1;36m348\u001b[0m                                        testmayend1                   NaN   \n",
       "\u001b[1;36m349\u001b[0m                                        testmayend2                   NaN   \n",
       "\n",
       "     Content.ExpirationDate  Content.PublishedOn  Content.Impact  User_Title  \\\n",
       "\u001b[1;36m0\u001b[0m                       NaN                  NaN             NaN         NaN   \n",
       "\u001b[1;36m1\u001b[0m                       NaN                  NaN             NaN         NaN   \n",
       "\u001b[1;36m2\u001b[0m                       NaN                  NaN             NaN         NaN   \n",
       "\u001b[1;36m3\u001b[0m                       NaN                  NaN             NaN         NaN   \n",
       "\u001b[1;36m4\u001b[0m                       NaN                  NaN             NaN         NaN   \n",
       "..                      \u001b[33m...\u001b[0m                  \u001b[33m...\u001b[0m             \u001b[33m...\u001b[0m         \u001b[33m...\u001b[0m   \n",
       "\u001b[1;36m345\u001b[0m                     NaN                  NaN             NaN         NaN   \n",
       "\u001b[1;36m346\u001b[0m                     NaN                  NaN             NaN         NaN   \n",
       "\u001b[1;36m347\u001b[0m                     NaN                  NaN             NaN         NaN   \n",
       "\u001b[1;36m348\u001b[0m                     NaN                  NaN             NaN         NaN   \n",
       "\u001b[1;36m349\u001b[0m                     NaN                  NaN             NaN         NaN   \n",
       "\n",
       "     Content.PublicationDate  Content.Brief  \u001b[33m...\u001b[0m  \\\n",
       "\u001b[1;36m0\u001b[0m                        NaN            NaN  \u001b[33m...\u001b[0m   \n",
       "\u001b[1;36m1\u001b[0m                        NaN            NaN  \u001b[33m...\u001b[0m   \n",
       "\u001b[1;36m2\u001b[0m                        NaN            NaN  \u001b[33m...\u001b[0m   \n",
       "\u001b[1;36m3\u001b[0m                        NaN            NaN  \u001b[33m...\u001b[0m   \n",
       "\u001b[1;36m4\u001b[0m                        NaN            NaN  \u001b[33m...\u001b[0m   \n",
       "..                       \u001b[33m...\u001b[0m            \u001b[33m...\u001b[0m  \u001b[33m...\u001b[0m   \n",
       "\u001b[1;36m345\u001b[0m                      NaN            NaN  \u001b[33m...\u001b[0m   \n",
       "\u001b[1;36m346\u001b[0m                      NaN            NaN  \u001b[33m...\u001b[0m   \n",
       "\u001b[1;36m347\u001b[0m                      NaN            NaN  \u001b[33m...\u001b[0m   \n",
       "\u001b[1;36m348\u001b[0m                      NaN            NaN  \u001b[33m...\u001b[0m   \n",
       "\u001b[1;36m349\u001b[0m                      NaN            NaN  \u001b[33m...\u001b[0m   \n",
       "\n",
       "                        CreatedOn     ModifiedBy  \\\n",
       "\u001b[1;36m0\u001b[0m    \u001b[1;36m2023\u001b[0m-\u001b[1;36m09\u001b[0m-15T\u001b[1;92m04:55:43\u001b[0m.9098866Z  Administrator   \n",
       "\u001b[1;36m1\u001b[0m    \u001b[1;36m2024\u001b[0m-\u001b[1;36m02\u001b[0m-01T\u001b[1;92m04:15:46\u001b[0m.2559085Z  Administrator   \n",
       "\u001b[1;36m2\u001b[0m    \u001b[1;36m2023\u001b[0m-\u001b[1;36m09\u001b[0m-15T\u001b[1;92m05:03:10\u001b[0m.7376301Z  Administrator   \n",
       "\u001b[1;36m3\u001b[0m    \u001b[1;36m2023\u001b[0m-\u001b[1;36m09\u001b[0m-15T\u001b[1;92m04:52:39\u001b[0m.1977681Z  Administrator   \n",
       "\u001b[1;36m4\u001b[0m    \u001b[1;36m2023\u001b[0m-\u001b[1;36m09\u001b[0m-15T\u001b[1;92m04:58:09\u001b[0m.1146082Z  Administrator   \n",
       "..                            \u001b[33m...\u001b[0m            \u001b[33m...\u001b[0m   \n",
       "\u001b[1;36m345\u001b[0m  \u001b[1;36m2024\u001b[0m-\u001b[1;36m03\u001b[0m-08T\u001b[1;92m07:05:26\u001b[0m.8151308Z  Administrator   \n",
       "\u001b[1;36m346\u001b[0m  \u001b[1;36m2023\u001b[0m-\u001b[1;36m09\u001b[0m-15T\u001b[1;92m04:52:42\u001b[0m.3941203Z  Administrator   \n",
       "\u001b[1;36m347\u001b[0m  \u001b[1;36m2024\u001b[0m-\u001b[1;36m03\u001b[0m-27T\u001b[1;92m08:32:55\u001b[0m.2353970Z  Administrator   \n",
       "\u001b[1;36m348\u001b[0m  \u001b[1;36m2024\u001b[0m-\u001b[1;36m05\u001b[0m-30T\u001b[1;92m09:39:09\u001b[0m.3687411Z  Administrator   \n",
       "\u001b[1;36m349\u001b[0m  \u001b[1;36m2024\u001b[0m-\u001b[1;36m05\u001b[0m-30T\u001b[1;92m09:40:01\u001b[0m.1152421Z  Administrator   \n",
       "\n",
       "                       ModifiedOn  Page Views  Engagement Rate  Bounce Rate  \\\n",
       "\u001b[1;36m0\u001b[0m    \u001b[1;36m2024\u001b[0m-\u001b[1;36m05\u001b[0m-31T\u001b[1;92m03:44:36\u001b[0m.6078379Z      \u001b[1;36m126283\u001b[0m         \u001b[1;36m0.628872\u001b[0m     \u001b[1;36m0.371128\u001b[0m   \n",
       "\u001b[1;36m1\u001b[0m    \u001b[1;36m2024\u001b[0m-\u001b[1;36m05\u001b[0m-07T\u001b[1;92m09:42:13\u001b[0m.8718174Z       \u001b[1;36m89264\u001b[0m         \u001b[1;36m0.560178\u001b[0m     \u001b[1;36m0.439822\u001b[0m   \n",
       "\u001b[1;36m2\u001b[0m    \u001b[1;36m2024\u001b[0m-\u001b[1;36m05\u001b[0m-14T\u001b[1;92m09:04:45\u001b[0m.8115068Z       \u001b[1;36m50903\u001b[0m         \u001b[1;36m0.715857\u001b[0m     \u001b[1;36m0.284143\u001b[0m   \n",
       "\u001b[1;36m3\u001b[0m    \u001b[1;36m2024\u001b[0m-\u001b[1;36m06\u001b[0m-11T\u001b[1;92m08:10:53\u001b[0m.0536751Z       \u001b[1;36m45627\u001b[0m         \u001b[1;36m0.767504\u001b[0m     \u001b[1;36m0.232496\u001b[0m   \n",
       "\u001b[1;36m4\u001b[0m    \u001b[1;36m2024\u001b[0m-\u001b[1;36m06\u001b[0m-12T\u001b[1;92m04:44:59\u001b[0m.6751314Z       \u001b[1;36m42815\u001b[0m         \u001b[1;36m0.702730\u001b[0m     \u001b[1;36m0.297270\u001b[0m   \n",
       "..                            \u001b[33m...\u001b[0m         \u001b[33m...\u001b[0m              \u001b[33m...\u001b[0m          \u001b[33m...\u001b[0m   \n",
       "\u001b[1;36m345\u001b[0m  \u001b[1;36m2024\u001b[0m-\u001b[1;36m03\u001b[0m-08T\u001b[1;92m07:06:14\u001b[0m.1399640Z           \u001b[1;36m0\u001b[0m         \u001b[1;36m0.000000\u001b[0m     \u001b[1;36m1.000000\u001b[0m   \n",
       "\u001b[1;36m346\u001b[0m  \u001b[1;36m2023\u001b[0m-\u001b[1;36m11\u001b[0m-22T\u001b[1;92m10:50:05\u001b[0m.5316882Z           \u001b[1;36m0\u001b[0m         \u001b[1;36m0.000000\u001b[0m     \u001b[1;36m1.000000\u001b[0m   \n",
       "\u001b[1;36m347\u001b[0m  \u001b[1;36m2024\u001b[0m-\u001b[1;36m03\u001b[0m-27T\u001b[1;92m08:33:41\u001b[0m.1161920Z           \u001b[1;36m0\u001b[0m         \u001b[1;36m0.000000\u001b[0m     \u001b[1;36m1.000000\u001b[0m   \n",
       "\u001b[1;36m348\u001b[0m  \u001b[1;36m2024\u001b[0m-\u001b[1;36m05\u001b[0m-30T\u001b[1;92m09:40:00\u001b[0m.8346675Z           \u001b[1;36m0\u001b[0m         \u001b[1;36m0.000000\u001b[0m     \u001b[1;36m1.000000\u001b[0m   \n",
       "\u001b[1;36m349\u001b[0m  \u001b[1;36m2024\u001b[0m-\u001b[1;36m05\u001b[0m-30T\u001b[1;92m09:41:24\u001b[0m.0386090Z           \u001b[1;36m0\u001b[0m         \u001b[1;36m0.000000\u001b[0m     \u001b[1;36m1.000000\u001b[0m   \n",
       "\n",
       "    Exit Rate  Scroll %  % of Total Views  Cumulative % of Total Views  \n",
       "\u001b[1;36m0\u001b[0m    \u001b[1;36m0.638210\u001b[0m  \u001b[1;36m0.364728\u001b[0m          \u001b[1;36m0.118571\u001b[0m                     \u001b[1;36m0.118571\u001b[0m  \n",
       "\u001b[1;36m1\u001b[0m    \u001b[1;36m0.770242\u001b[0m  \u001b[1;36m0.270544\u001b[0m          \u001b[1;36m0.083813\u001b[0m                     \u001b[1;36m0.202384\u001b[0m  \n",
       "\u001b[1;36m2\u001b[0m    \u001b[1;36m0.714737\u001b[0m  \u001b[1;36m0.357170\u001b[0m          \u001b[1;36m0.047795\u001b[0m                     \u001b[1;36m0.250179\u001b[0m  \n",
       "\u001b[1;36m3\u001b[0m    \u001b[1;36m0.745974\u001b[0m  \u001b[1;36m0.322446\u001b[0m          \u001b[1;36m0.042841\u001b[0m                     \u001b[1;36m0.293020\u001b[0m  \n",
       "\u001b[1;36m4\u001b[0m    \u001b[1;36m0.645652\u001b[0m  \u001b[1;36m0.293242\u001b[0m          \u001b[1;36m0.040200\u001b[0m                     \u001b[1;36m0.333220\u001b[0m  \n",
       "..        \u001b[33m...\u001b[0m       \u001b[33m...\u001b[0m               \u001b[33m...\u001b[0m                          \u001b[33m...\u001b[0m  \n",
       "\u001b[1;36m345\u001b[0m  \u001b[1;36m0.000000\u001b[0m  \u001b[1;36m0.250000\u001b[0m          \u001b[1;36m0.000000\u001b[0m                     \u001b[1;36m1.000000\u001b[0m  \n",
       "\u001b[1;36m346\u001b[0m  \u001b[1;36m0.000000\u001b[0m  \u001b[1;36m0.250000\u001b[0m          \u001b[1;36m0.000000\u001b[0m                     \u001b[1;36m1.000000\u001b[0m  \n",
       "\u001b[1;36m347\u001b[0m  \u001b[1;36m0.000000\u001b[0m  \u001b[1;36m0.250000\u001b[0m          \u001b[1;36m0.000000\u001b[0m                     \u001b[1;36m1.000000\u001b[0m  \n",
       "\u001b[1;36m348\u001b[0m  \u001b[1;36m0.000000\u001b[0m  \u001b[1;36m0.250000\u001b[0m          \u001b[1;36m0.000000\u001b[0m                     \u001b[1;36m1.000000\u001b[0m  \n",
       "\u001b[1;36m349\u001b[0m  \u001b[1;36m0.000000\u001b[0m  \u001b[1;36m0.250000\u001b[0m          \u001b[1;36m0.000000\u001b[0m                     \u001b[1;36m1.000000\u001b[0m  \n",
       "\n",
       "\u001b[1m[\u001b[0m\u001b[1;36m350\u001b[0m rows x \u001b[1;36m533\u001b[0m columns\u001b[1m]\u001b[0m"
      ]
     },
     "execution_count": 5,
     "metadata": {},
     "output_type": "execute_result"
    }
   ],
   "source": [
    "content_category = \"program-sub-pages\"\n",
    "\n",
    "df = all_contents[f\"export-published-{content_category}_14062024_data\"]()\n",
    "df"
   ]
  },
  {
   "cell_type": "markdown",
   "metadata": {},
   "source": [
    "### 1. Remove all columns with `null` values\n"
   ]
  },
  {
   "cell_type": "code",
   "execution_count": 6,
   "metadata": {},
   "outputs": [
    {
     "data": {
      "text/html": [
       "<pre style=\"white-space:pre;overflow-x:auto;line-height:normal;font-family:Menlo,'DejaVu Sans Mono',consolas,'Courier New',monospace\"></pre>\n"
      ],
      "text/plain": []
     },
     "metadata": {},
     "output_type": "display_data"
    },
    {
     "data": {
      "text/plain": [
       "\u001b[1m(\u001b[0m\u001b[1;36m350\u001b[0m, \u001b[1;36m68\u001b[0m\u001b[1m)\u001b[0m"
      ]
     },
     "execution_count": 6,
     "metadata": {},
     "output_type": "execute_result"
    }
   ],
   "source": [
    "# Drop all columns which have only null values\n",
    "df = df.dropna(axis=1, how=\"all\")\n",
    "df.shape"
   ]
  },
  {
   "cell_type": "markdown",
   "metadata": {},
   "source": [
    "### 2. Add back selected columns\n"
   ]
  },
  {
   "cell_type": "code",
   "execution_count": 7,
   "metadata": {},
   "outputs": [
    {
     "data": {
      "text/html": [
       "<pre style=\"white-space:pre;overflow-x:auto;line-height:normal;font-family:Menlo,'DejaVu Sans Mono',consolas,'Courier New',monospace\"><span style=\"color: #7fbfbf; text-decoration-color: #7fbfbf\">[06/27/24 18:46:31] </span><span style=\"color: #000080; text-decoration-color: #000080\">INFO    </span> Loading data from <span style=\"color: #ff8700; text-decoration-color: #ff8700\">params:columns_to_add</span> <span style=\"font-weight: bold\">(</span>MemoryDataset<span style=\"font-weight: bold\">)</span><span style=\"color: #808000; text-decoration-color: #808000\">...</span>         <a href=\"file:///opt/anaconda3/envs/content-opt/lib/python3.12/site-packages/kedro/io/data_catalog.py\" target=\"_blank\"><span style=\"color: #7f7f7f; text-decoration-color: #7f7f7f\">data_catalog.py</span></a><span style=\"color: #7f7f7f; text-decoration-color: #7f7f7f\">:</span><a href=\"file:///opt/anaconda3/envs/content-opt/lib/python3.12/site-packages/kedro/io/data_catalog.py#508\" target=\"_blank\"><span style=\"color: #7f7f7f; text-decoration-color: #7f7f7f\">508</span></a>\n",
       "</pre>\n"
      ],
      "text/plain": [
       "\u001b[2;36m[06/27/24 18:46:31]\u001b[0m\u001b[2;36m \u001b[0m\u001b[34mINFO    \u001b[0m Loading data from \u001b[38;5;208mparams:columns_to_add\u001b[0m \u001b[1m(\u001b[0mMemoryDataset\u001b[1m)\u001b[0m\u001b[33m...\u001b[0m         \u001b]8;id=603949;file:///opt/anaconda3/envs/content-opt/lib/python3.12/site-packages/kedro/io/data_catalog.py\u001b\\\u001b[2mdata_catalog.py\u001b[0m\u001b]8;;\u001b\\\u001b[2m:\u001b[0m\u001b]8;id=350493;file:///opt/anaconda3/envs/content-opt/lib/python3.12/site-packages/kedro/io/data_catalog.py#508\u001b\\\u001b[2m508\u001b[0m\u001b]8;;\u001b\\\n"
      ]
     },
     "metadata": {},
     "output_type": "display_data"
    },
    {
     "data": {
      "text/html": [
       "<pre style=\"white-space:pre;overflow-x:auto;line-height:normal;font-family:Menlo,'DejaVu Sans Mono',consolas,'Courier New',monospace\"></pre>\n"
      ],
      "text/plain": []
     },
     "metadata": {},
     "output_type": "display_data"
    },
    {
     "data": {
      "text/plain": [
       "\n",
       "\u001b[1m[\u001b[0m\n",
       "    \u001b[32m'ProgramSubPages_ArticleCatNames'\u001b[0m,\n",
       "    \u001b[32m'ProgramSubPages_CoverImgUrl'\u001b[0m,\n",
       "    \u001b[32m'ProgramSubPages_DateModified'\u001b[0m,\n",
       "    \u001b[32m'ProgramSubPages_Number_of_Views'\u001b[0m,\n",
       "    \u001b[32m'ProgramSubPages_Lastmonthviewcount'\u001b[0m,\n",
       "    \u001b[32m'ProgramSubPages_LastTwoMonthCount'\u001b[0m\n",
       "\u001b[1m]\u001b[0m"
      ]
     },
     "execution_count": 7,
     "metadata": {},
     "output_type": "execute_result"
    }
   ],
   "source": [
    "# ruff: noqa: F821\n",
    "columns_to_add = catalog.load(\"params:columns_to_add\").get(content_category, None)\n",
    "columns_to_add"
   ]
  },
  {
   "cell_type": "code",
   "execution_count": 8,
   "metadata": {},
   "outputs": [
    {
     "data": {
      "text/html": [
       "<pre style=\"white-space:pre;overflow-x:auto;line-height:normal;font-family:Menlo,'DejaVu Sans Mono',consolas,'Courier New',monospace\"></pre>\n"
      ],
      "text/plain": []
     },
     "metadata": {},
     "output_type": "display_data"
    },
    {
     "data": {
      "text/plain": [
       "\u001b[1m(\u001b[0m\u001b[1;36m350\u001b[0m, \u001b[1;36m74\u001b[0m\u001b[1m)\u001b[0m"
      ]
     },
     "execution_count": 8,
     "metadata": {},
     "output_type": "execute_result"
    }
   ],
   "source": [
    "df = df.reindex(columns=[*df.columns, *columns_to_add])\n",
    "df.shape"
   ]
  },
  {
   "cell_type": "markdown",
   "metadata": {},
   "source": [
    "### 3. Keep columns --> retain the ordering\n"
   ]
  },
  {
   "cell_type": "code",
   "execution_count": 9,
   "metadata": {},
   "outputs": [
    {
     "data": {
      "text/html": [
       "<pre style=\"white-space:pre;overflow-x:auto;line-height:normal;font-family:Menlo,'DejaVu Sans Mono',consolas,'Courier New',monospace\"><span style=\"color: #7fbfbf; text-decoration-color: #7fbfbf\">                    </span><span style=\"color: #000080; text-decoration-color: #000080\">INFO    </span> Loading data from <span style=\"color: #ff8700; text-decoration-color: #ff8700\">params:columns_to_keep</span> <span style=\"font-weight: bold\">(</span>MemoryDataset<span style=\"font-weight: bold\">)</span><span style=\"color: #808000; text-decoration-color: #808000\">...</span>        <a href=\"file:///opt/anaconda3/envs/content-opt/lib/python3.12/site-packages/kedro/io/data_catalog.py\" target=\"_blank\"><span style=\"color: #7f7f7f; text-decoration-color: #7f7f7f\">data_catalog.py</span></a><span style=\"color: #7f7f7f; text-decoration-color: #7f7f7f\">:</span><a href=\"file:///opt/anaconda3/envs/content-opt/lib/python3.12/site-packages/kedro/io/data_catalog.py#508\" target=\"_blank\"><span style=\"color: #7f7f7f; text-decoration-color: #7f7f7f\">508</span></a>\n",
       "</pre>\n"
      ],
      "text/plain": [
       "\u001b[2;36m                   \u001b[0m\u001b[2;36m \u001b[0m\u001b[34mINFO    \u001b[0m Loading data from \u001b[38;5;208mparams:columns_to_keep\u001b[0m \u001b[1m(\u001b[0mMemoryDataset\u001b[1m)\u001b[0m\u001b[33m...\u001b[0m        \u001b]8;id=281476;file:///opt/anaconda3/envs/content-opt/lib/python3.12/site-packages/kedro/io/data_catalog.py\u001b\\\u001b[2mdata_catalog.py\u001b[0m\u001b]8;;\u001b\\\u001b[2m:\u001b[0m\u001b]8;id=576580;file:///opt/anaconda3/envs/content-opt/lib/python3.12/site-packages/kedro/io/data_catalog.py#508\u001b\\\u001b[2m508\u001b[0m\u001b]8;;\u001b\\\n"
      ]
     },
     "metadata": {},
     "output_type": "display_data"
    },
    {
     "data": {
      "text/html": [
       "<pre style=\"white-space:pre;overflow-x:auto;line-height:normal;font-family:Menlo,'DejaVu Sans Mono',consolas,'Courier New',monospace\"></pre>\n"
      ],
      "text/plain": []
     },
     "metadata": {},
     "output_type": "display_data"
    },
    {
     "data": {
      "text/plain": [
       "\n",
       "\u001b[1m[\u001b[0m\n",
       "    \u001b[32m'id'\u001b[0m,\n",
       "    \u001b[32m'Content.Name'\u001b[0m,\n",
       "    \u001b[32m'ProgramSubPages_Title'\u001b[0m,\n",
       "    \u001b[32m'ProgramSubPages_ArticleCatNames'\u001b[0m,\n",
       "    \u001b[32m'ProgramSubPages_CoverImgUrl'\u001b[0m,\n",
       "    \u001b[32m'ProgramSubPages_FullUrl'\u001b[0m,\n",
       "    \u001b[32m'ProgramSubPages_FullUrl2'\u001b[0m,\n",
       "    \u001b[32m'ProgramSubPages_FriendlyUrl'\u001b[0m,\n",
       "    \u001b[32m'ProgramSubPages_CategoryDes'\u001b[0m,\n",
       "    \u001b[32m'ProgramSubPages_Content_Body'\u001b[0m,\n",
       "    \u001b[32m'ProgramSubPages_ENKeywords'\u001b[0m,\n",
       "    \u001b[32m'ProgramSubPages_FeatureTitle'\u001b[0m,\n",
       "    \u001b[32m'ProgramSubPages_PRName'\u001b[0m,\n",
       "    \u001b[32m'ProgramSubPages_AlternateImageText'\u001b[0m,\n",
       "    \u001b[32m'ProgramSubPages_DateModified'\u001b[0m,\n",
       "    \u001b[32m'ProgramSubPages_Number_of_Views'\u001b[0m,\n",
       "    \u001b[32m'ProgramSubPages_Lastmonthviewcount'\u001b[0m,\n",
       "    \u001b[32m'ProgramSubPages_LastTwoMonthCount'\u001b[0m,\n",
       "    \u001b[32m'Page Views'\u001b[0m,\n",
       "    \u001b[32m'Engagement Rate'\u001b[0m,\n",
       "    \u001b[32m'Bounce Rate'\u001b[0m,\n",
       "    \u001b[32m'Exit Rate'\u001b[0m,\n",
       "    \u001b[32m'Scroll %'\u001b[0m,\n",
       "    \u001b[32m'% of Total Views'\u001b[0m,\n",
       "    \u001b[32m'Cumulative % of Total Views'\u001b[0m\n",
       "\u001b[1m]\u001b[0m"
      ]
     },
     "execution_count": 9,
     "metadata": {},
     "output_type": "execute_result"
    }
   ],
   "source": [
    "# ruff: noqa: F821\n",
    "columns_to_keep = catalog.load(\"params:columns_to_keep\").get(content_category, None)\n",
    "columns_to_keep"
   ]
  },
  {
   "cell_type": "code",
   "execution_count": 10,
   "metadata": {},
   "outputs": [
    {
     "data": {
      "text/html": [
       "<pre style=\"white-space:pre;overflow-x:auto;line-height:normal;font-family:Menlo,'DejaVu Sans Mono',consolas,'Courier New',monospace\"></pre>\n"
      ],
      "text/plain": []
     },
     "metadata": {},
     "output_type": "display_data"
    },
    {
     "data": {
      "text/plain": [
       "\u001b[1m(\u001b[0m\u001b[1;36m350\u001b[0m, \u001b[1;36m25\u001b[0m\u001b[1m)\u001b[0m"
      ]
     },
     "execution_count": 10,
     "metadata": {},
     "output_type": "execute_result"
    }
   ],
   "source": [
    "df = df[columns_to_keep]\n",
    "df.shape"
   ]
  },
  {
   "cell_type": "markdown",
   "metadata": {},
   "source": [
    "### 4. Now in a function\n"
   ]
  },
  {
   "cell_type": "code",
   "execution_count": 11,
   "metadata": {},
   "outputs": [],
   "source": [
    "def select_and_rearrange_columns(\n",
    "    df: pd.DataFrame,\n",
    "    columns_to_keep: list[str],\n",
    "    columns_to_add: list[str] | None = None,\n",
    ") -> pd.DataFrame:\n",
    "    # Drop all columns which have only null values\n",
    "    df = df.dropna(axis=1, how=\"all\")\n",
    "\n",
    "    if columns_to_add is not None:\n",
    "        # Add back selected columns which were dropped because they contained only null values\n",
    "        df = df.reindex(columns=[*df.columns, *columns_to_add])\n",
    "\n",
    "    # Rearrange columns to they are in order of `columns_to_keep`\n",
    "    df = df[columns_to_keep]\n",
    "\n",
    "    return df"
   ]
  },
  {
   "cell_type": "code",
   "execution_count": 12,
   "metadata": {},
   "outputs": [
    {
     "data": {
      "text/html": [
       "<pre style=\"white-space:pre;overflow-x:auto;line-height:normal;font-family:Menlo,'DejaVu Sans Mono',consolas,'Courier New',monospace\"><span style=\"color: #7fbfbf; text-decoration-color: #7fbfbf\">                    </span><span style=\"color: #000080; text-decoration-color: #000080\">INFO    </span> Loading data from <span style=\"color: #ff8700; text-decoration-color: #ff8700\">params:columns_to_add</span> <span style=\"font-weight: bold\">(</span>MemoryDataset<span style=\"font-weight: bold\">)</span><span style=\"color: #808000; text-decoration-color: #808000\">...</span>         <a href=\"file:///opt/anaconda3/envs/content-opt/lib/python3.12/site-packages/kedro/io/data_catalog.py\" target=\"_blank\"><span style=\"color: #7f7f7f; text-decoration-color: #7f7f7f\">data_catalog.py</span></a><span style=\"color: #7f7f7f; text-decoration-color: #7f7f7f\">:</span><a href=\"file:///opt/anaconda3/envs/content-opt/lib/python3.12/site-packages/kedro/io/data_catalog.py#508\" target=\"_blank\"><span style=\"color: #7f7f7f; text-decoration-color: #7f7f7f\">508</span></a>\n",
       "</pre>\n"
      ],
      "text/plain": [
       "\u001b[2;36m                   \u001b[0m\u001b[2;36m \u001b[0m\u001b[34mINFO    \u001b[0m Loading data from \u001b[38;5;208mparams:columns_to_add\u001b[0m \u001b[1m(\u001b[0mMemoryDataset\u001b[1m)\u001b[0m\u001b[33m...\u001b[0m         \u001b]8;id=457018;file:///opt/anaconda3/envs/content-opt/lib/python3.12/site-packages/kedro/io/data_catalog.py\u001b\\\u001b[2mdata_catalog.py\u001b[0m\u001b]8;;\u001b\\\u001b[2m:\u001b[0m\u001b]8;id=470558;file:///opt/anaconda3/envs/content-opt/lib/python3.12/site-packages/kedro/io/data_catalog.py#508\u001b\\\u001b[2m508\u001b[0m\u001b]8;;\u001b\\\n"
      ]
     },
     "metadata": {},
     "output_type": "display_data"
    },
    {
     "data": {
      "text/html": [
       "<pre style=\"white-space:pre;overflow-x:auto;line-height:normal;font-family:Menlo,'DejaVu Sans Mono',consolas,'Courier New',monospace\"><span style=\"color: #7fbfbf; text-decoration-color: #7fbfbf\">                    </span><span style=\"color: #000080; text-decoration-color: #000080\">INFO    </span> Loading data from <span style=\"color: #ff8700; text-decoration-color: #ff8700\">params:columns_to_keep</span> <span style=\"font-weight: bold\">(</span>MemoryDataset<span style=\"font-weight: bold\">)</span><span style=\"color: #808000; text-decoration-color: #808000\">...</span>        <a href=\"file:///opt/anaconda3/envs/content-opt/lib/python3.12/site-packages/kedro/io/data_catalog.py\" target=\"_blank\"><span style=\"color: #7f7f7f; text-decoration-color: #7f7f7f\">data_catalog.py</span></a><span style=\"color: #7f7f7f; text-decoration-color: #7f7f7f\">:</span><a href=\"file:///opt/anaconda3/envs/content-opt/lib/python3.12/site-packages/kedro/io/data_catalog.py#508\" target=\"_blank\"><span style=\"color: #7f7f7f; text-decoration-color: #7f7f7f\">508</span></a>\n",
       "</pre>\n"
      ],
      "text/plain": [
       "\u001b[2;36m                   \u001b[0m\u001b[2;36m \u001b[0m\u001b[34mINFO    \u001b[0m Loading data from \u001b[38;5;208mparams:columns_to_keep\u001b[0m \u001b[1m(\u001b[0mMemoryDataset\u001b[1m)\u001b[0m\u001b[33m...\u001b[0m        \u001b]8;id=775417;file:///opt/anaconda3/envs/content-opt/lib/python3.12/site-packages/kedro/io/data_catalog.py\u001b\\\u001b[2mdata_catalog.py\u001b[0m\u001b]8;;\u001b\\\u001b[2m:\u001b[0m\u001b]8;id=659339;file:///opt/anaconda3/envs/content-opt/lib/python3.12/site-packages/kedro/io/data_catalog.py#508\u001b\\\u001b[2m508\u001b[0m\u001b]8;;\u001b\\\n"
      ]
     },
     "metadata": {},
     "output_type": "display_data"
    }
   ],
   "source": [
    "# ruff: noqa: F821\n",
    "columns_to_add_cfg = catalog.load(\"params:columns_to_add\")\n",
    "columns_to_keep_cfg = catalog.load(\"params:columns_to_keep\")"
   ]
  },
  {
   "cell_type": "markdown",
   "metadata": {},
   "source": [
    "### 5. Standardize all columns\n"
   ]
  },
  {
   "cell_type": "code",
   "execution_count": 13,
   "metadata": {},
   "outputs": [
    {
     "name": "stdout",
     "output_type": "stream",
     "text": [
      "Standardizing columns across content categories |███████████████████████████████\n"
     ]
    }
   ],
   "source": [
    "dfs = {}\n",
    "\n",
    "pbar = tqdm(all_contents.items())\n",
    "\n",
    "for filename, partition_func in pbar:\n",
    "    # Get content category from filename\n",
    "    content_category = re.sub(r\"export-published-\", \"\", filename.split(\"_\")[0])\n",
    "    pbar.set_description(f\"Standardizing for {content_category}\")\n",
    "\n",
    "    df = partition_func()\n",
    "\n",
    "    columns_to_add = columns_to_add_cfg.get(content_category, None)\n",
    "    columns_to_keep = columns_to_keep_cfg.get(content_category, None)\n",
    "\n",
    "    dfs[content_category] = select_and_rearrange_columns(\n",
    "        df, columns_to_keep, columns_to_add\n",
    "    )"
   ]
  },
  {
   "cell_type": "code",
   "execution_count": 14,
   "metadata": {},
   "outputs": [
    {
     "name": "stdout",
     "output_type": "stream",
     "text": [
      "25\n",
      "25\n",
      "25\n",
      "25\n",
      "25\n",
      "25\n",
      "25\n",
      "25\n",
      "25\n"
     ]
    }
   ],
   "source": [
    "# Check if we have all the same number of columns — we should\n",
    "for content_category, df in dfs.items():\n",
    "    print(len(df.columns))"
   ]
  },
  {
   "cell_type": "markdown",
   "metadata": {},
   "source": [
    "### 6. Rename columns (standardize naming convention)\n"
   ]
  },
  {
   "cell_type": "code",
   "execution_count": 15,
   "metadata": {},
   "outputs": [
    {
     "data": {
      "text/html": [
       "<pre style=\"white-space:pre;overflow-x:auto;line-height:normal;font-family:Menlo,'DejaVu Sans Mono',consolas,'Courier New',monospace\"><span style=\"color: #7fbfbf; text-decoration-color: #7fbfbf\">[06/27/24 18:46:39] </span><span style=\"color: #000080; text-decoration-color: #000080\">INFO    </span> Loading data from <span style=\"color: #ff8700; text-decoration-color: #ff8700\">params:default_columns</span> <span style=\"font-weight: bold\">(</span>MemoryDataset<span style=\"font-weight: bold\">)</span><span style=\"color: #808000; text-decoration-color: #808000\">...</span>        <a href=\"file:///opt/anaconda3/envs/content-opt/lib/python3.12/site-packages/kedro/io/data_catalog.py\" target=\"_blank\"><span style=\"color: #7f7f7f; text-decoration-color: #7f7f7f\">data_catalog.py</span></a><span style=\"color: #7f7f7f; text-decoration-color: #7f7f7f\">:</span><a href=\"file:///opt/anaconda3/envs/content-opt/lib/python3.12/site-packages/kedro/io/data_catalog.py#508\" target=\"_blank\"><span style=\"color: #7f7f7f; text-decoration-color: #7f7f7f\">508</span></a>\n",
       "</pre>\n"
      ],
      "text/plain": [
       "\u001b[2;36m[06/27/24 18:46:39]\u001b[0m\u001b[2;36m \u001b[0m\u001b[34mINFO    \u001b[0m Loading data from \u001b[38;5;208mparams:default_columns\u001b[0m \u001b[1m(\u001b[0mMemoryDataset\u001b[1m)\u001b[0m\u001b[33m...\u001b[0m        \u001b]8;id=75964;file:///opt/anaconda3/envs/content-opt/lib/python3.12/site-packages/kedro/io/data_catalog.py\u001b\\\u001b[2mdata_catalog.py\u001b[0m\u001b]8;;\u001b\\\u001b[2m:\u001b[0m\u001b]8;id=146423;file:///opt/anaconda3/envs/content-opt/lib/python3.12/site-packages/kedro/io/data_catalog.py#508\u001b\\\u001b[2m508\u001b[0m\u001b]8;;\u001b\\\n"
      ]
     },
     "metadata": {},
     "output_type": "display_data"
    },
    {
     "data": {
      "text/html": [
       "<pre style=\"white-space:pre;overflow-x:auto;line-height:normal;font-family:Menlo,'DejaVu Sans Mono',consolas,'Courier New',monospace\"></pre>\n"
      ],
      "text/plain": []
     },
     "metadata": {},
     "output_type": "display_data"
    },
    {
     "data": {
      "text/plain": [
       "\n",
       "\u001b[1m[\u001b[0m\n",
       "    \u001b[32m'id'\u001b[0m,\n",
       "    \u001b[32m'content_name'\u001b[0m,\n",
       "    \u001b[32m'title'\u001b[0m,\n",
       "    \u001b[32m'article_category_names'\u001b[0m,\n",
       "    \u001b[32m'cover_image_url'\u001b[0m,\n",
       "    \u001b[32m'full_url'\u001b[0m,\n",
       "    \u001b[32m'full_url2'\u001b[0m,\n",
       "    \u001b[32m'friendly_url'\u001b[0m,\n",
       "    \u001b[32m'category_description'\u001b[0m,\n",
       "    \u001b[32m'content_body'\u001b[0m,\n",
       "    \u001b[32m'keywords'\u001b[0m,\n",
       "    \u001b[32m'feature_title'\u001b[0m,\n",
       "    \u001b[32m'pr_name'\u001b[0m,\n",
       "    \u001b[32m'alternate_image_text'\u001b[0m,\n",
       "    \u001b[32m'date_modified'\u001b[0m,\n",
       "    \u001b[32m'number_of_views'\u001b[0m,\n",
       "    \u001b[32m'last_month_view_count'\u001b[0m,\n",
       "    \u001b[32m'last_two_months_view'\u001b[0m,\n",
       "    \u001b[32m'page_views'\u001b[0m,\n",
       "    \u001b[32m'engagement_rate'\u001b[0m,\n",
       "    \u001b[32m'bounce_rate'\u001b[0m,\n",
       "    \u001b[32m'exit_rate'\u001b[0m,\n",
       "    \u001b[32m'scroll_percentage'\u001b[0m,\n",
       "    \u001b[32m'percentage_total_views'\u001b[0m,\n",
       "    \u001b[32m'cumulative_percentage_total_views'\u001b[0m\n",
       "\u001b[1m]\u001b[0m"
      ]
     },
     "execution_count": 15,
     "metadata": {},
     "output_type": "execute_result"
    }
   ],
   "source": [
    "# ruff: noqa: F821\n",
    "default_columns = catalog.load(\"params:default_columns\")\n",
    "default_columns"
   ]
  },
  {
   "cell_type": "code",
   "execution_count": 16,
   "metadata": {},
   "outputs": [
    {
     "name": "stdout",
     "output_type": "stream",
     "text": [
      "cost-and-financing\n",
      "diseases-and-conditions\n",
      "health-statistics\n",
      "live-healthy-articles\n",
      "medical-care-and-facilities\n",
      "medications\n",
      "program-sub-pages\n",
      "programs\n",
      "support-group-and-others\n"
     ]
    }
   ],
   "source": [
    "for content_category, df in dfs.items():\n",
    "    print(content_category)\n",
    "    df.columns = default_columns\n",
    "    # Tag the dataframe with the content category\n",
    "    df[\"content_category\"] = content_category\n",
    "\n",
    "    # Mark articles with no content or with dummy content in `to_remove` column\n",
    "    df[\"to_remove\"] = df[\"content_body\"].apply(\n",
    "        lambda x: (\n",
    "            False if pd.notna(x) and re.search(r\"(<[div|p|h2].*?>)\", str(x)) else True\n",
    "        )\n",
    "    )"
   ]
  },
  {
   "cell_type": "code",
   "execution_count": 17,
   "metadata": {},
   "outputs": [
    {
     "name": "stdout",
     "output_type": "stream",
     "text": [
      "cost-and-financing\n",
      "Index(['id', 'content_name', 'title', 'article_category_names',\n",
      "       'cover_image_url', 'full_url', 'full_url2', 'friendly_url',\n",
      "       'category_description', 'content_body', 'keywords', 'feature_title',\n",
      "       'pr_name', 'alternate_image_text', 'date_modified', 'number_of_views',\n",
      "       'last_month_view_count', 'last_two_months_view', 'page_views',\n",
      "       'engagement_rate', 'bounce_rate', 'exit_rate', 'scroll_percentage',\n",
      "       'percentage_total_views', 'cumulative_percentage_total_views',\n",
      "       'content_category', 'to_remove'],\n",
      "      dtype='object')\n",
      "diseases-and-conditions\n",
      "Index(['id', 'content_name', 'title', 'article_category_names',\n",
      "       'cover_image_url', 'full_url', 'full_url2', 'friendly_url',\n",
      "       'category_description', 'content_body', 'keywords', 'feature_title',\n",
      "       'pr_name', 'alternate_image_text', 'date_modified', 'number_of_views',\n",
      "       'last_month_view_count', 'last_two_months_view', 'page_views',\n",
      "       'engagement_rate', 'bounce_rate', 'exit_rate', 'scroll_percentage',\n",
      "       'percentage_total_views', 'cumulative_percentage_total_views',\n",
      "       'content_category', 'to_remove'],\n",
      "      dtype='object')\n",
      "health-statistics\n",
      "Index(['id', 'content_name', 'title', 'article_category_names',\n",
      "       'cover_image_url', 'full_url', 'full_url2', 'friendly_url',\n",
      "       'category_description', 'content_body', 'keywords', 'feature_title',\n",
      "       'pr_name', 'alternate_image_text', 'date_modified', 'number_of_views',\n",
      "       'last_month_view_count', 'last_two_months_view', 'page_views',\n",
      "       'engagement_rate', 'bounce_rate', 'exit_rate', 'scroll_percentage',\n",
      "       'percentage_total_views', 'cumulative_percentage_total_views',\n",
      "       'content_category', 'to_remove'],\n",
      "      dtype='object')\n",
      "live-healthy-articles\n",
      "Index(['id', 'content_name', 'title', 'article_category_names',\n",
      "       'cover_image_url', 'full_url', 'full_url2', 'friendly_url',\n",
      "       'category_description', 'content_body', 'keywords', 'feature_title',\n",
      "       'pr_name', 'alternate_image_text', 'date_modified', 'number_of_views',\n",
      "       'last_month_view_count', 'last_two_months_view', 'page_views',\n",
      "       'engagement_rate', 'bounce_rate', 'exit_rate', 'scroll_percentage',\n",
      "       'percentage_total_views', 'cumulative_percentage_total_views',\n",
      "       'content_category', 'to_remove'],\n",
      "      dtype='object')\n",
      "medical-care-and-facilities\n",
      "Index(['id', 'content_name', 'title', 'article_category_names',\n",
      "       'cover_image_url', 'full_url', 'full_url2', 'friendly_url',\n",
      "       'category_description', 'content_body', 'keywords', 'feature_title',\n",
      "       'pr_name', 'alternate_image_text', 'date_modified', 'number_of_views',\n",
      "       'last_month_view_count', 'last_two_months_view', 'page_views',\n",
      "       'engagement_rate', 'bounce_rate', 'exit_rate', 'scroll_percentage',\n",
      "       'percentage_total_views', 'cumulative_percentage_total_views',\n",
      "       'content_category', 'to_remove'],\n",
      "      dtype='object')\n",
      "medications\n",
      "Index(['id', 'content_name', 'title', 'article_category_names',\n",
      "       'cover_image_url', 'full_url', 'full_url2', 'friendly_url',\n",
      "       'category_description', 'content_body', 'keywords', 'feature_title',\n",
      "       'pr_name', 'alternate_image_text', 'date_modified', 'number_of_views',\n",
      "       'last_month_view_count', 'last_two_months_view', 'page_views',\n",
      "       'engagement_rate', 'bounce_rate', 'exit_rate', 'scroll_percentage',\n",
      "       'percentage_total_views', 'cumulative_percentage_total_views',\n",
      "       'content_category', 'to_remove'],\n",
      "      dtype='object')\n",
      "program-sub-pages\n",
      "Index(['id', 'content_name', 'title', 'article_category_names',\n",
      "       'cover_image_url', 'full_url', 'full_url2', 'friendly_url',\n",
      "       'category_description', 'content_body', 'keywords', 'feature_title',\n",
      "       'pr_name', 'alternate_image_text', 'date_modified', 'number_of_views',\n",
      "       'last_month_view_count', 'last_two_months_view', 'page_views',\n",
      "       'engagement_rate', 'bounce_rate', 'exit_rate', 'scroll_percentage',\n",
      "       'percentage_total_views', 'cumulative_percentage_total_views',\n",
      "       'content_category', 'to_remove'],\n",
      "      dtype='object')\n",
      "programs\n",
      "Index(['id', 'content_name', 'title', 'article_category_names',\n",
      "       'cover_image_url', 'full_url', 'full_url2', 'friendly_url',\n",
      "       'category_description', 'content_body', 'keywords', 'feature_title',\n",
      "       'pr_name', 'alternate_image_text', 'date_modified', 'number_of_views',\n",
      "       'last_month_view_count', 'last_two_months_view', 'page_views',\n",
      "       'engagement_rate', 'bounce_rate', 'exit_rate', 'scroll_percentage',\n",
      "       'percentage_total_views', 'cumulative_percentage_total_views',\n",
      "       'content_category', 'to_remove'],\n",
      "      dtype='object')\n",
      "support-group-and-others\n",
      "Index(['id', 'content_name', 'title', 'article_category_names',\n",
      "       'cover_image_url', 'full_url', 'full_url2', 'friendly_url',\n",
      "       'category_description', 'content_body', 'keywords', 'feature_title',\n",
      "       'pr_name', 'alternate_image_text', 'date_modified', 'number_of_views',\n",
      "       'last_month_view_count', 'last_two_months_view', 'page_views',\n",
      "       'engagement_rate', 'bounce_rate', 'exit_rate', 'scroll_percentage',\n",
      "       'percentage_total_views', 'cumulative_percentage_total_views',\n",
      "       'content_category', 'to_remove'],\n",
      "      dtype='object')\n"
     ]
    }
   ],
   "source": [
    "for content_category, df in dfs.items():\n",
    "    print(content_category)\n",
    "    print(df.columns)"
   ]
  },
  {
   "cell_type": "code",
   "execution_count": null,
   "metadata": {},
   "outputs": [],
   "source": []
  }
 ],
 "metadata": {
  "kernelspec": {
   "display_name": "content-opt",
   "language": "python",
   "name": "python3"
  },
  "language_info": {
   "codemirror_mode": {
    "name": "ipython",
    "version": 3
   },
   "file_extension": ".py",
   "mimetype": "text/x-python",
   "name": "python",
   "nbconvert_exporter": "python",
   "pygments_lexer": "ipython3",
   "version": "3.12.4"
  }
 },
 "nbformat": 4,
 "nbformat_minor": 2
}
