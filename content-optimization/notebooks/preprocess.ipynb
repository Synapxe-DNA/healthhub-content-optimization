{
 "cells": [
  {
   "cell_type": "code",
   "execution_count": 1,
   "metadata": {},
   "outputs": [
    {
     "data": {
      "text/html": [
       "<pre style=\"white-space:pre;overflow-x:auto;line-height:normal;font-family:Menlo,'DejaVu Sans Mono',consolas,'Courier New',monospace\"><span style=\"color: #7fbfbf; text-decoration-color: #7fbfbf\">[06/24/24 22:52:32] </span><span style=\"color: #000080; text-decoration-color: #000080\">INFO    </span> Registered line magic <span style=\"color: #008000; text-decoration-color: #008000\">'%reload_kedro'</span>                                   <a href=\"file:///opt/anaconda3/envs/content-opt/lib/python3.12/site-packages/kedro/ipython/__init__.py\" target=\"_blank\"><span style=\"color: #7f7f7f; text-decoration-color: #7f7f7f\">__init__.py</span></a><span style=\"color: #7f7f7f; text-decoration-color: #7f7f7f\">:</span><a href=\"file:///opt/anaconda3/envs/content-opt/lib/python3.12/site-packages/kedro/ipython/__init__.py#58\" target=\"_blank\"><span style=\"color: #7f7f7f; text-decoration-color: #7f7f7f\">58</span></a>\n",
       "</pre>\n"
      ],
      "text/plain": [
       "\u001b[2;36m[06/24/24 22:52:32]\u001b[0m\u001b[2;36m \u001b[0m\u001b[34mINFO    \u001b[0m Registered line magic \u001b[32m'%reload_kedro'\u001b[0m                                   \u001b]8;id=325986;file:///opt/anaconda3/envs/content-opt/lib/python3.12/site-packages/kedro/ipython/__init__.py\u001b\\\u001b[2m__init__.py\u001b[0m\u001b]8;;\u001b\\\u001b[2m:\u001b[0m\u001b]8;id=980345;file:///opt/anaconda3/envs/content-opt/lib/python3.12/site-packages/kedro/ipython/__init__.py#58\u001b\\\u001b[2m58\u001b[0m\u001b]8;;\u001b\\\n"
      ]
     },
     "metadata": {},
     "output_type": "display_data"
    },
    {
     "data": {
      "text/html": [
       "<pre style=\"white-space:pre;overflow-x:auto;line-height:normal;font-family:Menlo,'DejaVu Sans Mono',consolas,'Courier New',monospace\"><span style=\"color: #7fbfbf; text-decoration-color: #7fbfbf\">                    </span><span style=\"color: #000080; text-decoration-color: #000080\">INFO    </span> Registered line magic <span style=\"color: #008000; text-decoration-color: #008000\">'%load_node'</span>                                      <a href=\"file:///opt/anaconda3/envs/content-opt/lib/python3.12/site-packages/kedro/ipython/__init__.py\" target=\"_blank\"><span style=\"color: #7f7f7f; text-decoration-color: #7f7f7f\">__init__.py</span></a><span style=\"color: #7f7f7f; text-decoration-color: #7f7f7f\">:</span><a href=\"file:///opt/anaconda3/envs/content-opt/lib/python3.12/site-packages/kedro/ipython/__init__.py#60\" target=\"_blank\"><span style=\"color: #7f7f7f; text-decoration-color: #7f7f7f\">60</span></a>\n",
       "</pre>\n"
      ],
      "text/plain": [
       "\u001b[2;36m                   \u001b[0m\u001b[2;36m \u001b[0m\u001b[34mINFO    \u001b[0m Registered line magic \u001b[32m'%load_node'\u001b[0m                                      \u001b]8;id=553914;file:///opt/anaconda3/envs/content-opt/lib/python3.12/site-packages/kedro/ipython/__init__.py\u001b\\\u001b[2m__init__.py\u001b[0m\u001b]8;;\u001b\\\u001b[2m:\u001b[0m\u001b]8;id=941602;file:///opt/anaconda3/envs/content-opt/lib/python3.12/site-packages/kedro/ipython/__init__.py#60\u001b\\\u001b[2m60\u001b[0m\u001b]8;;\u001b\\\n"
      ]
     },
     "metadata": {},
     "output_type": "display_data"
    },
    {
     "data": {
      "text/html": [
       "<pre style=\"white-space:pre;overflow-x:auto;line-height:normal;font-family:Menlo,'DejaVu Sans Mono',consolas,'Courier New',monospace\"><span style=\"color: #7fbfbf; text-decoration-color: #7fbfbf\">                    </span><span style=\"color: #000080; text-decoration-color: #000080\">INFO    </span> Resolved project path as: <span style=\"color: #800080; text-decoration-color: #800080\">/Users/wilsvenleong/Downloads/</span><span style=\"color: #ff00ff; text-decoration-color: #ff00ff\">Learning</span>       <a href=\"file:///opt/anaconda3/envs/content-opt/lib/python3.12/site-packages/kedro/ipython/__init__.py\" target=\"_blank\"><span style=\"color: #7f7f7f; text-decoration-color: #7f7f7f\">__init__.py</span></a><span style=\"color: #7f7f7f; text-decoration-color: #7f7f7f\">:</span><a href=\"file:///opt/anaconda3/envs/content-opt/lib/python3.12/site-packages/kedro/ipython/__init__.py#171\" target=\"_blank\"><span style=\"color: #7f7f7f; text-decoration-color: #7f7f7f\">171</span></a>\n",
       "<span style=\"color: #7fbfbf; text-decoration-color: #7fbfbf\">                    </span>         Materials/healthhub-content-optimization/content-optimization.         <span style=\"color: #7f7f7f; text-decoration-color: #7f7f7f\">               </span>\n",
       "<span style=\"color: #7fbfbf; text-decoration-color: #7fbfbf\">                    </span>         To set a different path, run <span style=\"color: #008000; text-decoration-color: #008000\">'%reload_kedro &lt;project_root&gt;'</span>            <span style=\"color: #7f7f7f; text-decoration-color: #7f7f7f\">               </span>\n",
       "</pre>\n"
      ],
      "text/plain": [
       "\u001b[2;36m                   \u001b[0m\u001b[2;36m \u001b[0m\u001b[34mINFO    \u001b[0m Resolved project path as: \u001b[35m/Users/wilsvenleong/Downloads/\u001b[0m\u001b[95mLearning\u001b[0m       \u001b]8;id=949790;file:///opt/anaconda3/envs/content-opt/lib/python3.12/site-packages/kedro/ipython/__init__.py\u001b\\\u001b[2m__init__.py\u001b[0m\u001b]8;;\u001b\\\u001b[2m:\u001b[0m\u001b]8;id=471442;file:///opt/anaconda3/envs/content-opt/lib/python3.12/site-packages/kedro/ipython/__init__.py#171\u001b\\\u001b[2m171\u001b[0m\u001b]8;;\u001b\\\n",
       "\u001b[2;36m                    \u001b[0m         Materials/healthhub-content-optimization/content-optimization.         \u001b[2m               \u001b[0m\n",
       "\u001b[2;36m                    \u001b[0m         To set a different path, run \u001b[32m'%reload_kedro \u001b[0m\u001b[32m<\u001b[0m\u001b[32mproject_root\u001b[0m\u001b[32m>\u001b[0m\u001b[32m'\u001b[0m            \u001b[2m               \u001b[0m\n"
      ]
     },
     "metadata": {},
     "output_type": "display_data"
    },
    {
     "data": {
      "text/html": [
       "<pre style=\"white-space:pre;overflow-x:auto;line-height:normal;font-family:Menlo,'DejaVu Sans Mono',consolas,'Courier New',monospace\"><span style=\"color: #7fbfbf; text-decoration-color: #7fbfbf\">[06/24/24 22:52:34] </span><span style=\"color: #000080; text-decoration-color: #000080\">INFO    </span> Kedro project Content Optimization                                     <a href=\"file:///opt/anaconda3/envs/content-opt/lib/python3.12/site-packages/kedro/ipython/__init__.py\" target=\"_blank\"><span style=\"color: #7f7f7f; text-decoration-color: #7f7f7f\">__init__.py</span></a><span style=\"color: #7f7f7f; text-decoration-color: #7f7f7f\">:</span><a href=\"file:///opt/anaconda3/envs/content-opt/lib/python3.12/site-packages/kedro/ipython/__init__.py#141\" target=\"_blank\"><span style=\"color: #7f7f7f; text-decoration-color: #7f7f7f\">141</span></a>\n",
       "</pre>\n"
      ],
      "text/plain": [
       "\u001b[2;36m[06/24/24 22:52:34]\u001b[0m\u001b[2;36m \u001b[0m\u001b[34mINFO    \u001b[0m Kedro project Content Optimization                                     \u001b]8;id=771122;file:///opt/anaconda3/envs/content-opt/lib/python3.12/site-packages/kedro/ipython/__init__.py\u001b\\\u001b[2m__init__.py\u001b[0m\u001b]8;;\u001b\\\u001b[2m:\u001b[0m\u001b]8;id=988777;file:///opt/anaconda3/envs/content-opt/lib/python3.12/site-packages/kedro/ipython/__init__.py#141\u001b\\\u001b[2m141\u001b[0m\u001b]8;;\u001b\\\n"
      ]
     },
     "metadata": {},
     "output_type": "display_data"
    },
    {
     "data": {
      "text/html": [
       "<pre style=\"white-space:pre;overflow-x:auto;line-height:normal;font-family:Menlo,'DejaVu Sans Mono',consolas,'Courier New',monospace\"><span style=\"color: #7fbfbf; text-decoration-color: #7fbfbf\">                    </span><span style=\"color: #000080; text-decoration-color: #000080\">INFO    </span> Defined global variable <span style=\"color: #008000; text-decoration-color: #008000\">'context'</span>, <span style=\"color: #008000; text-decoration-color: #008000\">'session'</span>, <span style=\"color: #008000; text-decoration-color: #008000\">'catalog'</span> and            <a href=\"file:///opt/anaconda3/envs/content-opt/lib/python3.12/site-packages/kedro/ipython/__init__.py\" target=\"_blank\"><span style=\"color: #7f7f7f; text-decoration-color: #7f7f7f\">__init__.py</span></a><span style=\"color: #7f7f7f; text-decoration-color: #7f7f7f\">:</span><a href=\"file:///opt/anaconda3/envs/content-opt/lib/python3.12/site-packages/kedro/ipython/__init__.py#142\" target=\"_blank\"><span style=\"color: #7f7f7f; text-decoration-color: #7f7f7f\">142</span></a>\n",
       "<span style=\"color: #7fbfbf; text-decoration-color: #7fbfbf\">                    </span>         <span style=\"color: #008000; text-decoration-color: #008000\">'pipelines'</span>                                                            <span style=\"color: #7f7f7f; text-decoration-color: #7f7f7f\">               </span>\n",
       "</pre>\n"
      ],
      "text/plain": [
       "\u001b[2;36m                   \u001b[0m\u001b[2;36m \u001b[0m\u001b[34mINFO    \u001b[0m Defined global variable \u001b[32m'context'\u001b[0m, \u001b[32m'session'\u001b[0m, \u001b[32m'catalog'\u001b[0m and            \u001b]8;id=35462;file:///opt/anaconda3/envs/content-opt/lib/python3.12/site-packages/kedro/ipython/__init__.py\u001b\\\u001b[2m__init__.py\u001b[0m\u001b]8;;\u001b\\\u001b[2m:\u001b[0m\u001b]8;id=76634;file:///opt/anaconda3/envs/content-opt/lib/python3.12/site-packages/kedro/ipython/__init__.py#142\u001b\\\u001b[2m142\u001b[0m\u001b]8;;\u001b\\\n",
       "\u001b[2;36m                    \u001b[0m         \u001b[32m'pipelines'\u001b[0m                                                            \u001b[2m               \u001b[0m\n"
      ]
     },
     "metadata": {},
     "output_type": "display_data"
    },
    {
     "data": {
      "text/html": [
       "<pre style=\"white-space:pre;overflow-x:auto;line-height:normal;font-family:Menlo,'DejaVu Sans Mono',consolas,'Courier New',monospace\"><span style=\"color: #7fbfbf; text-decoration-color: #7fbfbf\">[06/24/24 22:52:35] </span><span style=\"color: #000080; text-decoration-color: #000080\">INFO    </span> Registered line magic <span style=\"color: #008000; text-decoration-color: #008000\">'run_viz'</span>                                        <a href=\"file:///opt/anaconda3/envs/content-opt/lib/python3.12/site-packages/kedro/ipython/__init__.py\" target=\"_blank\"><span style=\"color: #7f7f7f; text-decoration-color: #7f7f7f\">__init__.py</span></a><span style=\"color: #7f7f7f; text-decoration-color: #7f7f7f\">:</span><a href=\"file:///opt/anaconda3/envs/content-opt/lib/python3.12/site-packages/kedro/ipython/__init__.py#148\" target=\"_blank\"><span style=\"color: #7f7f7f; text-decoration-color: #7f7f7f\">148</span></a>\n",
       "</pre>\n"
      ],
      "text/plain": [
       "\u001b[2;36m[06/24/24 22:52:35]\u001b[0m\u001b[2;36m \u001b[0m\u001b[34mINFO    \u001b[0m Registered line magic \u001b[32m'run_viz'\u001b[0m                                        \u001b]8;id=176878;file:///opt/anaconda3/envs/content-opt/lib/python3.12/site-packages/kedro/ipython/__init__.py\u001b\\\u001b[2m__init__.py\u001b[0m\u001b]8;;\u001b\\\u001b[2m:\u001b[0m\u001b]8;id=545447;file:///opt/anaconda3/envs/content-opt/lib/python3.12/site-packages/kedro/ipython/__init__.py#148\u001b\\\u001b[2m148\u001b[0m\u001b]8;;\u001b\\\n"
      ]
     },
     "metadata": {},
     "output_type": "display_data"
    }
   ],
   "source": [
    "%load_ext kedro.ipython"
   ]
  },
  {
   "cell_type": "code",
   "execution_count": 2,
   "metadata": {},
   "outputs": [],
   "source": [
    "import re\n",
    "import unicodedata\n",
    "\n",
    "from bs4 import BeautifulSoup"
   ]
  },
  {
   "cell_type": "code",
   "execution_count": 3,
   "metadata": {},
   "outputs": [],
   "source": [
    "def clean_text(text: str) -> str:\n",
    "    # Normalize Unicode characters\n",
    "    text = unicodedata.normalize(\"NFKD\", text)\n",
    "\n",
    "    # Replace common problematic characters\n",
    "    text = text.replace(\"\\xa0\", \" \")  # non-breaking space\n",
    "    text = text.replace(\"\\u200b\", \"\")  # zero-width space\n",
    "    text = text.replace(\"\\u2028\", \"\\n\")  # line separator\n",
    "    text = text.replace(\"\\u2029\", \"\\n\")  # paragraph separator\n",
    "    # Replace multiple whitespace with single space\n",
    "    text = re.sub(r\"\\s+\", \" \", text)\n",
    "    return text.strip()\n",
    "\n",
    "\n",
    "def extract_content(html_content: str) -> str:\n",
    "    soup = BeautifulSoup(html_content, \"html.parser\")\n",
    "\n",
    "    # Find all <br> tags and replace them with newline\n",
    "    for br in soup.find_all(\"br\"):\n",
    "        br.replace_with(\"\\n\")\n",
    "\n",
    "    related_sections = []\n",
    "    read_these_next_ul = None\n",
    "    # Extract \"Related:\" sections and \"Read these next:\" items\n",
    "    for tag in soup.find_all([\"p\", \"ul\"]):\n",
    "        if tag.name == \"p\" and tag.find(\"strong\"):\n",
    "            if \"Related:\" in tag.text:\n",
    "                related_sections.append(re.sub(r\"Related: \", \"\", clean_text(tag.text)))\n",
    "            elif \"Read these next:\" in tag.text:\n",
    "                read_these_next_ul = tag.find_next_sibling(\"ul\")\n",
    "        elif tag == read_these_next_ul:\n",
    "            for li in tag.find_all(\"li\"):\n",
    "                related_sections.append(clean_text(li.text))\n",
    "\n",
    "    # Extract the main content\n",
    "    content = []\n",
    "    for tag in soup.find_all([\"h2\", \"h3\", \"h4\", \"p\", \"ul\", \"ol\"]):\n",
    "        if tag.name in [\"h2\", \"h3\", \"h4\"]:\n",
    "            content.append(clean_text(tag.text))\n",
    "\n",
    "        elif tag.name == \"p\":\n",
    "            # Remove all em tags\n",
    "            for em in tag.find_all(\"em\"):\n",
    "                em.extract()\n",
    "\n",
    "            # Get the remaining text\n",
    "            text = tag.get_text()\n",
    "\n",
    "            # Remove sentences about HealthHub app, Google Play, and Apple Store\n",
    "            if not re.search(\n",
    "                r\"(HealthHub app|Google Play|Apple Store|Parent Hub)\", text\n",
    "            ):\n",
    "                if tag.find(\"strong\"):\n",
    "                    if \"Related:\" in tag.text:\n",
    "                        text = clean_text(tag.text)\n",
    "                        content.append(re.sub(r\"\\n\", \" \", text))\n",
    "\n",
    "                    elif \"Read these next:\" in tag.text:\n",
    "                        content.append(clean_text(tag.text))\n",
    "                else:\n",
    "                    content.append(clean_text(text))\n",
    "\n",
    "        # For unordered lists\n",
    "        elif (\n",
    "            tag.name == \"ul\" and tag.parent.name == \"div\"\n",
    "        ):  # not \"ul\" so we avoid duplicates\n",
    "            for li in tag.find_all(\"li\"):\n",
    "                content.append(\"- \" + clean_text(li.text))\n",
    "\n",
    "        # For ordred lists\n",
    "        elif tag.name == \"ol\":\n",
    "            for i, li in enumerate(tag.find_all(\"li\")):\n",
    "                content.append(f\"{i + 1}. \" + clean_text(li.text))\n",
    "\n",
    "        content.append(\"\")  # Add a blank line after each element\n",
    "\n",
    "    # Remove empty strings from content\n",
    "    content = [c for c in content if c]\n",
    "\n",
    "    return related_sections, \"\\n\".join(content)"
   ]
  },
  {
   "cell_type": "code",
   "execution_count": 4,
   "metadata": {},
   "outputs": [
    {
     "data": {
      "text/html": [
       "<pre style=\"white-space:pre;overflow-x:auto;line-height:normal;font-family:Menlo,'DejaVu Sans Mono',consolas,'Courier New',monospace\"></pre>\n"
      ],
      "text/plain": []
     },
     "metadata": {},
     "output_type": "display_data"
    },
    {
     "data": {
      "text/plain": [
       "\n",
       "\u001b[1m[\u001b[0m\n",
       "    \u001b[32m'all_contents'\u001b[0m,\n",
       "    \u001b[32m'all_contents_extracted'\u001b[0m,\n",
       "    \u001b[32m'all_extracted_text'\u001b[0m,\n",
       "    \u001b[32m'parameters'\u001b[0m,\n",
       "    \u001b[32m'params:content_category'\u001b[0m,\n",
       "    \u001b[32m'params:columns_to_keep'\u001b[0m,\n",
       "    \u001b[32m'params:columns_to_keep.cost-and-financing'\u001b[0m,\n",
       "    \u001b[32m'params:columns_to_keep.diseases-and-conditions'\u001b[0m,\n",
       "    \u001b[32m'params:columns_to_keep.health-statistics'\u001b[0m,\n",
       "    \u001b[32m'params:columns_to_keep.live-healthy-articles'\u001b[0m,\n",
       "    \u001b[32m'params:columns_to_keep.medical-care-and-facilities'\u001b[0m,\n",
       "    \u001b[32m'params:columns_to_keep.medications'\u001b[0m,\n",
       "    \u001b[32m'params:columns_to_keep.program-sub-pages'\u001b[0m,\n",
       "    \u001b[32m'params:columns_to_keep.programs'\u001b[0m,\n",
       "    \u001b[32m'params:columns_to_keep.support-group-and-others'\u001b[0m,\n",
       "    \u001b[32m'params:metadata'\u001b[0m,\n",
       "    \u001b[32m'params:metadata.cost-and-financing'\u001b[0m,\n",
       "    \u001b[32m'params:metadata.cost-and-financing.content_title'\u001b[0m,\n",
       "    \u001b[32m'params:metadata.cost-and-financing.content_body'\u001b[0m,\n",
       "    \u001b[32m'params:metadata.diseases-and-conditions'\u001b[0m,\n",
       "    \u001b[32m'params:metadata.diseases-and-conditions.content_title'\u001b[0m,\n",
       "    \u001b[32m'params:metadata.diseases-and-conditions.content_body'\u001b[0m,\n",
       "    \u001b[32m'params:metadata.health-statistics'\u001b[0m,\n",
       "    \u001b[32m'params:metadata.health-statistics.content_title'\u001b[0m,\n",
       "    \u001b[32m'params:metadata.health-statistics.content_body'\u001b[0m,\n",
       "    \u001b[32m'params:metadata.live-healthy-articles'\u001b[0m,\n",
       "    \u001b[32m'params:metadata.live-healthy-articles.content_title'\u001b[0m,\n",
       "    \u001b[32m'params:metadata.live-healthy-articles.content_body'\u001b[0m,\n",
       "    \u001b[32m'params:metadata.medical-care-and-facilities'\u001b[0m,\n",
       "    \u001b[32m'params:metadata.medical-care-and-facilities.content_title'\u001b[0m,\n",
       "    \u001b[32m'params:metadata.medical-care-and-facilities.content_body'\u001b[0m,\n",
       "    \u001b[32m'params:metadata.medications'\u001b[0m,\n",
       "    \u001b[32m'params:metadata.medications.content_title'\u001b[0m,\n",
       "    \u001b[32m'params:metadata.medications.content_body'\u001b[0m,\n",
       "    \u001b[32m'params:metadata.program-sub-pages'\u001b[0m,\n",
       "    \u001b[32m'params:metadata.program-sub-pages.content_title'\u001b[0m,\n",
       "    \u001b[32m'params:metadata.program-sub-pages.content_body'\u001b[0m,\n",
       "    \u001b[32m'params:metadata.programs'\u001b[0m,\n",
       "    \u001b[32m'params:metadata.programs.content_title'\u001b[0m,\n",
       "    \u001b[32m'params:metadata.programs.content_body'\u001b[0m,\n",
       "    \u001b[32m'params:metadata.support-group-and-others'\u001b[0m,\n",
       "    \u001b[32m'params:metadata.support-group-and-others.content_title'\u001b[0m,\n",
       "    \u001b[32m'params:metadata.support-group-and-others.content_body'\u001b[0m\n",
       "\u001b[1m]\u001b[0m"
      ]
     },
     "execution_count": 4,
     "metadata": {},
     "output_type": "execute_result"
    }
   ],
   "source": [
    "# ruff: noqa: F821\n",
    "catalog.list()"
   ]
  },
  {
   "cell_type": "markdown",
   "metadata": {},
   "source": [
    "### Load all the contents"
   ]
  },
  {
   "cell_type": "code",
   "execution_count": 5,
   "metadata": {},
   "outputs": [
    {
     "data": {
      "text/html": [
       "<pre style=\"white-space:pre;overflow-x:auto;line-height:normal;font-family:Menlo,'DejaVu Sans Mono',consolas,'Courier New',monospace\"><span style=\"color: #7fbfbf; text-decoration-color: #7fbfbf\">[06/24/24 22:52:52] </span><span style=\"color: #000080; text-decoration-color: #000080\">INFO    </span> Loading data from <span style=\"color: #ff8700; text-decoration-color: #ff8700\">all_contents</span> <span style=\"font-weight: bold\">(</span>PartitionedDataset<span style=\"font-weight: bold\">)</span><span style=\"color: #808000; text-decoration-color: #808000\">...</span>             <a href=\"file:///opt/anaconda3/envs/content-opt/lib/python3.12/site-packages/kedro/io/data_catalog.py\" target=\"_blank\"><span style=\"color: #7f7f7f; text-decoration-color: #7f7f7f\">data_catalog.py</span></a><span style=\"color: #7f7f7f; text-decoration-color: #7f7f7f\">:</span><a href=\"file:///opt/anaconda3/envs/content-opt/lib/python3.12/site-packages/kedro/io/data_catalog.py#508\" target=\"_blank\"><span style=\"color: #7f7f7f; text-decoration-color: #7f7f7f\">508</span></a>\n",
       "</pre>\n"
      ],
      "text/plain": [
       "\u001b[2;36m[06/24/24 22:52:52]\u001b[0m\u001b[2;36m \u001b[0m\u001b[34mINFO    \u001b[0m Loading data from \u001b[38;5;208mall_contents\u001b[0m \u001b[1m(\u001b[0mPartitionedDataset\u001b[1m)\u001b[0m\u001b[33m...\u001b[0m             \u001b]8;id=736184;file:///opt/anaconda3/envs/content-opt/lib/python3.12/site-packages/kedro/io/data_catalog.py\u001b\\\u001b[2mdata_catalog.py\u001b[0m\u001b]8;;\u001b\\\u001b[2m:\u001b[0m\u001b]8;id=685538;file:///opt/anaconda3/envs/content-opt/lib/python3.12/site-packages/kedro/io/data_catalog.py#508\u001b\\\u001b[2m508\u001b[0m\u001b]8;;\u001b\\\n"
      ]
     },
     "metadata": {},
     "output_type": "display_data"
    },
    {
     "data": {
      "text/html": [
       "<pre style=\"white-space:pre;overflow-x:auto;line-height:normal;font-family:Menlo,'DejaVu Sans Mono',consolas,'Courier New',monospace\"></pre>\n"
      ],
      "text/plain": []
     },
     "metadata": {},
     "output_type": "display_data"
    },
    {
     "data": {
      "text/plain": [
       "\n",
       "\u001b[1m{\u001b[0m\n",
       "    \u001b[32m'export-published-cost-and-financing_14062024_data.xlsx'\u001b[0m: \u001b[1m<\u001b[0m\u001b[1;95mbound\u001b[0m\u001b[39m method AbstractVersionedDataset.load of <kedro_datasets.pandas.excel_dataset.ExcelDataset object at \u001b[0m\u001b[1;36m0x1679cffb0\u001b[0m\u001b[39m>>,\u001b[0m\n",
       "\u001b[39m    \u001b[0m\u001b[32m'export-published-diseases-and-conditions_13062024_data.xlsx'\u001b[0m\u001b[39m: <bound method AbstractVersionedDataset.load of <kedro_datasets.pandas.excel_dataset.ExcelDataset object at \u001b[0m\u001b[1;36m0x1679cf3e0\u001b[0m\u001b[39m>>,\u001b[0m\n",
       "\u001b[39m    \u001b[0m\u001b[32m'export-published-health-statistics_14062024_data.xlsx'\u001b[0m\u001b[39m: <bound method AbstractVersionedDataset.load of <kedro_datasets.pandas.excel_dataset.ExcelDataset object at \u001b[0m\u001b[1;36m0x1679ce9f0\u001b[0m\u001b[39m>>,\u001b[0m\n",
       "\u001b[39m    \u001b[0m\u001b[32m'export-published-live-healthy-articles_14062024_data.xlsx'\u001b[0m\u001b[39m: <bound method AbstractVersionedDataset.load of <kedro_datasets.pandas.excel_dataset.ExcelDataset object at \u001b[0m\u001b[1;36m0x167a48c20\u001b[0m\u001b[39m>>,\u001b[0m\n",
       "\u001b[39m    \u001b[0m\u001b[32m'export-published-medical-care-and-facilities_14062024_data.xlsx'\u001b[0m\u001b[39m: <bound method AbstractVersionedDataset.load of <kedro_datasets.pandas.excel_dataset.ExcelDataset object at \u001b[0m\u001b[1;36m0x1679ce300\u001b[0m\u001b[39m>>,\u001b[0m\n",
       "\u001b[39m    \u001b[0m\u001b[32m'export-published-medications_14062024_data.xlsx'\u001b[0m\u001b[39m: <bound method AbstractVersionedDataset.load of <kedro_datasets.pandas.excel_dataset.ExcelDataset object at \u001b[0m\u001b[1;36m0x167a48ce0\u001b[0m\u001b[39m>>,\u001b[0m\n",
       "\u001b[39m    \u001b[0m\u001b[32m'export-published-program-sub-pages_14062024_data.xlsx'\u001b[0m\u001b[39m: <bound method AbstractVersionedDataset.load of <kedro_datasets.pandas.excel_dataset.ExcelDataset object at \u001b[0m\u001b[1;36m0x167a48d40\u001b[0m\u001b[39m>>,\u001b[0m\n",
       "\u001b[39m    \u001b[0m\u001b[32m'export-published-programs_14062024_data.xlsx'\u001b[0m\u001b[39m: <bound method AbstractVersionedDataset.load of <kedro_datasets.pandas.excel_dataset.ExcelDataset object at \u001b[0m\u001b[1;36m0x1679ceed0\u001b[0m\u001b[39m>>,\u001b[0m\n",
       "\u001b[39m    \u001b[0m\u001b[32m'export-published-support-group-and-others_14062024_data.xlsx'\u001b[0m\u001b[39m: <bound method AbstractVersionedDataset.load of <kedro_datasets.pandas.excel_dataset.ExcelDataset object at \u001b[0m\u001b[1;36m0x167a48dd0\u001b[0m\u001b[39m>>,\u001b[0m\n",
       "\u001b[39m    \u001b[0m\u001b[32m'~$export-published-support-group-and-others_14062024_data.xlsx'\u001b[0m\u001b[39m: <bound method AbstractVersionedDataset.load of <kedro_datasets.pandas.excel_dataset.ExcelDataset object at \u001b[0m\u001b[1;36m0x167a48e00\u001b[0m\u001b[39m>\u001b[0m\u001b[1m>\u001b[0m\n",
       "\u001b[1m}\u001b[0m"
      ]
     },
     "execution_count": 5,
     "metadata": {},
     "output_type": "execute_result"
    }
   ],
   "source": [
    "# ruff: noqa: F821\n",
    "all_contents = catalog.load(\"all_contents\")\n",
    "all_contents"
   ]
  },
  {
   "cell_type": "markdown",
   "metadata": {},
   "source": [
    "### Load the content category"
   ]
  },
  {
   "cell_type": "code",
   "execution_count": 6,
   "metadata": {},
   "outputs": [
    {
     "data": {
      "text/html": [
       "<pre style=\"white-space:pre;overflow-x:auto;line-height:normal;font-family:Menlo,'DejaVu Sans Mono',consolas,'Courier New',monospace\"><span style=\"color: #7fbfbf; text-decoration-color: #7fbfbf\">[06/24/24 22:52:54] </span><span style=\"color: #000080; text-decoration-color: #000080\">INFO    </span> Loading data from <span style=\"color: #ff8700; text-decoration-color: #ff8700\">params:content_category</span> <span style=\"font-weight: bold\">(</span>MemoryDataset<span style=\"font-weight: bold\">)</span><span style=\"color: #808000; text-decoration-color: #808000\">...</span>       <a href=\"file:///opt/anaconda3/envs/content-opt/lib/python3.12/site-packages/kedro/io/data_catalog.py\" target=\"_blank\"><span style=\"color: #7f7f7f; text-decoration-color: #7f7f7f\">data_catalog.py</span></a><span style=\"color: #7f7f7f; text-decoration-color: #7f7f7f\">:</span><a href=\"file:///opt/anaconda3/envs/content-opt/lib/python3.12/site-packages/kedro/io/data_catalog.py#508\" target=\"_blank\"><span style=\"color: #7f7f7f; text-decoration-color: #7f7f7f\">508</span></a>\n",
       "</pre>\n"
      ],
      "text/plain": [
       "\u001b[2;36m[06/24/24 22:52:54]\u001b[0m\u001b[2;36m \u001b[0m\u001b[34mINFO    \u001b[0m Loading data from \u001b[38;5;208mparams:content_category\u001b[0m \u001b[1m(\u001b[0mMemoryDataset\u001b[1m)\u001b[0m\u001b[33m...\u001b[0m       \u001b]8;id=50120;file:///opt/anaconda3/envs/content-opt/lib/python3.12/site-packages/kedro/io/data_catalog.py\u001b\\\u001b[2mdata_catalog.py\u001b[0m\u001b]8;;\u001b\\\u001b[2m:\u001b[0m\u001b]8;id=864963;file:///opt/anaconda3/envs/content-opt/lib/python3.12/site-packages/kedro/io/data_catalog.py#508\u001b\\\u001b[2m508\u001b[0m\u001b]8;;\u001b\\\n"
      ]
     },
     "metadata": {},
     "output_type": "display_data"
    },
    {
     "data": {
      "text/html": [
       "<pre style=\"white-space:pre;overflow-x:auto;line-height:normal;font-family:Menlo,'DejaVu Sans Mono',consolas,'Courier New',monospace\"></pre>\n"
      ],
      "text/plain": []
     },
     "metadata": {},
     "output_type": "display_data"
    },
    {
     "data": {
      "text/plain": [
       "\u001b[32m'live-healthy-articles'\u001b[0m"
      ]
     },
     "execution_count": 6,
     "metadata": {},
     "output_type": "execute_result"
    }
   ],
   "source": [
    "# ruff: noqa: F821\n",
    "content_category = catalog.load(\"params:content_category\")\n",
    "content_category"
   ]
  },
  {
   "cell_type": "markdown",
   "metadata": {},
   "source": [
    "### Use `content_category` as key to access the corresponding content"
   ]
  },
  {
   "cell_type": "code",
   "execution_count": 7,
   "metadata": {},
   "outputs": [
    {
     "name": "stdout",
     "output_type": "stream",
     "text": [
      "(1155, 60)\n"
     ]
    }
   ],
   "source": [
    "df = all_contents[f\"export-published-{content_category}_14062024_data.xlsx\"]()\n",
    "# Drop all columns which have only null values\n",
    "df = df.dropna(axis=1, how=\"all\")\n",
    "print(df.shape)"
   ]
  },
  {
   "cell_type": "markdown",
   "metadata": {},
   "source": [
    "### View all columns to keep for corresponding content category"
   ]
  },
  {
   "cell_type": "code",
   "execution_count": 8,
   "metadata": {},
   "outputs": [
    {
     "data": {
      "text/html": [
       "<pre style=\"white-space:pre;overflow-x:auto;line-height:normal;font-family:Menlo,'DejaVu Sans Mono',consolas,'Courier New',monospace\"><span style=\"color: #7fbfbf; text-decoration-color: #7fbfbf\">[06/24/24 22:53:33] </span><span style=\"color: #000080; text-decoration-color: #000080\">INFO    </span> Loading data from <span style=\"color: #ff8700; text-decoration-color: #ff8700\">params:columns_to_keep</span> <span style=\"font-weight: bold\">(</span>MemoryDataset<span style=\"font-weight: bold\">)</span><span style=\"color: #808000; text-decoration-color: #808000\">...</span>        <a href=\"file:///opt/anaconda3/envs/content-opt/lib/python3.12/site-packages/kedro/io/data_catalog.py\" target=\"_blank\"><span style=\"color: #7f7f7f; text-decoration-color: #7f7f7f\">data_catalog.py</span></a><span style=\"color: #7f7f7f; text-decoration-color: #7f7f7f\">:</span><a href=\"file:///opt/anaconda3/envs/content-opt/lib/python3.12/site-packages/kedro/io/data_catalog.py#508\" target=\"_blank\"><span style=\"color: #7f7f7f; text-decoration-color: #7f7f7f\">508</span></a>\n",
       "</pre>\n"
      ],
      "text/plain": [
       "\u001b[2;36m[06/24/24 22:53:33]\u001b[0m\u001b[2;36m \u001b[0m\u001b[34mINFO    \u001b[0m Loading data from \u001b[38;5;208mparams:columns_to_keep\u001b[0m \u001b[1m(\u001b[0mMemoryDataset\u001b[1m)\u001b[0m\u001b[33m...\u001b[0m        \u001b]8;id=977866;file:///opt/anaconda3/envs/content-opt/lib/python3.12/site-packages/kedro/io/data_catalog.py\u001b\\\u001b[2mdata_catalog.py\u001b[0m\u001b]8;;\u001b\\\u001b[2m:\u001b[0m\u001b]8;id=610793;file:///opt/anaconda3/envs/content-opt/lib/python3.12/site-packages/kedro/io/data_catalog.py#508\u001b\\\u001b[2m508\u001b[0m\u001b]8;;\u001b\\\n"
      ]
     },
     "metadata": {},
     "output_type": "display_data"
    },
    {
     "data": {
      "text/html": [
       "<pre style=\"white-space:pre;overflow-x:auto;line-height:normal;font-family:Menlo,'DejaVu Sans Mono',consolas,'Courier New',monospace\"></pre>\n"
      ],
      "text/plain": []
     },
     "metadata": {},
     "output_type": "display_data"
    },
    {
     "data": {
      "text/plain": [
       "\n",
       "\u001b[1m{\u001b[0m\n",
       "    \u001b[32m'cost-and-financing'\u001b[0m: \u001b[1m[\u001b[0m\n",
       "        \u001b[32m'id'\u001b[0m,\n",
       "        \u001b[32m'Content.Name'\u001b[0m,\n",
       "        \u001b[32m'CostAndFinancing_Title'\u001b[0m,\n",
       "        \u001b[32m'CostAndFinancing_ArticleCatNames'\u001b[0m,\n",
       "        \u001b[32m'CostAndFinancing_CoverImgUrl'\u001b[0m,\n",
       "        \u001b[32m'CostAndFinancing_FullUrl'\u001b[0m,\n",
       "        \u001b[32m'CostAndFinancing_FullUrl2'\u001b[0m,\n",
       "        \u001b[32m'CostAndFinancing_FriendlyUrl'\u001b[0m,\n",
       "        \u001b[32m'CostAndFinancing_CategoryDesc'\u001b[0m,\n",
       "        \u001b[32m'CostAndFinancing_ContentBody'\u001b[0m,\n",
       "        \u001b[32m'CostAndFinancing_ENKeywords'\u001b[0m,\n",
       "        \u001b[32m'CostAndFinancing_FeatureTitle'\u001b[0m,\n",
       "        \u001b[32m'CostAndFinancing_PRName'\u001b[0m,\n",
       "        \u001b[32m'CostAndFinancing_AlternateImageText'\u001b[0m,\n",
       "        \u001b[32m'CostAndFinancing_DateModified'\u001b[0m,\n",
       "        \u001b[32m'CostAndFinancing_NumberofViews'\u001b[0m,\n",
       "        \u001b[32m'CostAndFinancing_LastMonthViewCount'\u001b[0m,\n",
       "        \u001b[32m'CostAndFinancing_LastTwoMonthsView'\u001b[0m,\n",
       "        \u001b[32m'Page Views'\u001b[0m,\n",
       "        \u001b[32m'Engagement Rate'\u001b[0m,\n",
       "        \u001b[32m'Bounce Rate'\u001b[0m,\n",
       "        \u001b[32m'Exit Rate'\u001b[0m,\n",
       "        \u001b[32m'Scroll %'\u001b[0m,\n",
       "        \u001b[32m'% of Total Views'\u001b[0m,\n",
       "        \u001b[32m'Cumulative % of Total Views'\u001b[0m\n",
       "    \u001b[1m]\u001b[0m,\n",
       "    \u001b[32m'diseases-and-conditions'\u001b[0m: \u001b[1m[\u001b[0m\n",
       "        \u001b[32m'id'\u001b[0m,\n",
       "        \u001b[32m'Content.Name'\u001b[0m,\n",
       "        \u001b[32m'DiseasesCondition_Title'\u001b[0m,\n",
       "        \u001b[32m'DiseasesCondition_ArticleCatNames'\u001b[0m,\n",
       "        \u001b[32m'DiseasesCondition_CoverImgUrl'\u001b[0m,\n",
       "        \u001b[32m'DiseasesCondition_FullUrl'\u001b[0m,\n",
       "        \u001b[32m'DiseasesCondition_FullUrl2'\u001b[0m,\n",
       "        \u001b[32m'DiseasesCondition_FriendlyUrl'\u001b[0m,\n",
       "        \u001b[32m'DiseasesCondition_CategoryDesc'\u001b[0m,\n",
       "        \u001b[32m'DiseasesCondition_ContentBody'\u001b[0m,\n",
       "        \u001b[32m'DiseasesCondition_ENKeywords'\u001b[0m,\n",
       "        \u001b[32m'DiseasesCondition_FeatureTitle'\u001b[0m,\n",
       "        \u001b[32m'DiseasesCondition_PRName'\u001b[0m,\n",
       "        \u001b[32m'DiseasesCondition_AlternateImageText'\u001b[0m,\n",
       "        \u001b[32m'DiseasesCondition_DateModified'\u001b[0m,\n",
       "        \u001b[32m'DiseasesCondition_NumberOfViews'\u001b[0m,\n",
       "        \u001b[32m'DiseasesCondition_LastMonthViewCount'\u001b[0m,\n",
       "        \u001b[32m'DiseasesCondition_LastTwoMonthsView'\u001b[0m,\n",
       "        \u001b[32m'Page Views'\u001b[0m,\n",
       "        \u001b[32m'Engagement Rate'\u001b[0m,\n",
       "        \u001b[32m'Bounce Rate'\u001b[0m,\n",
       "        \u001b[32m'Exit Rate'\u001b[0m,\n",
       "        \u001b[32m'Scroll %'\u001b[0m,\n",
       "        \u001b[32m'% of Total Views'\u001b[0m,\n",
       "        \u001b[32m'Cumulative % of Total Views'\u001b[0m\n",
       "    \u001b[1m]\u001b[0m,\n",
       "    \u001b[32m'health-statistics'\u001b[0m: \u001b[1m[\u001b[0m\n",
       "        \u001b[32m'id'\u001b[0m,\n",
       "        \u001b[32m'Content.Name'\u001b[0m,\n",
       "        \u001b[32m'HealthStatistics_Title'\u001b[0m,\n",
       "        \u001b[32m'HealthStatistics_CoverImgUrl'\u001b[0m,\n",
       "        \u001b[32m'HealthStatistics_FullUrl'\u001b[0m,\n",
       "        \u001b[32m'HealthStatistics_FullUrl2'\u001b[0m,\n",
       "        \u001b[32m'HealthStatistics_FriendlyUrl'\u001b[0m,\n",
       "        \u001b[32m'HealthStatistics_CategoryDesc'\u001b[0m,\n",
       "        \u001b[32m'HealthStatistics_ContentBody'\u001b[0m,\n",
       "        \u001b[32m'HealthStatistics_ENKeywords'\u001b[0m,\n",
       "        \u001b[32m'HealthStatistics_FeatureTitle'\u001b[0m,\n",
       "        \u001b[32m'HealthStatistics_PRName'\u001b[0m,\n",
       "        \u001b[32m'HealthStatistics_AlternateImageText'\u001b[0m,\n",
       "        \u001b[32m'HealthStatistics_DateModified'\u001b[0m,\n",
       "        \u001b[32m'Page Views'\u001b[0m,\n",
       "        \u001b[32m'Engagement Rate'\u001b[0m,\n",
       "        \u001b[32m'Bounce Rate'\u001b[0m,\n",
       "        \u001b[32m'Exit Rate'\u001b[0m,\n",
       "        \u001b[32m'Scroll %'\u001b[0m,\n",
       "        \u001b[32m'% of Total Views'\u001b[0m,\n",
       "        \u001b[32m'Cumulative % of Total Views'\u001b[0m\n",
       "    \u001b[1m]\u001b[0m,\n",
       "    \u001b[32m'live-healthy-articles'\u001b[0m: \u001b[1m[\u001b[0m\n",
       "        \u001b[32m'id'\u001b[0m,\n",
       "        \u001b[32m'Content.Name'\u001b[0m,\n",
       "        \u001b[32m'LiveHealthyArticle_Title'\u001b[0m,\n",
       "        \u001b[32m'LiveHealthyArticle_ArticleCateName'\u001b[0m,\n",
       "        \u001b[32m'LiveHealthyArticle_CoverImgUrl'\u001b[0m,\n",
       "        \u001b[32m'LiveHealthyArticle_FullUrl'\u001b[0m,\n",
       "        \u001b[32m'LiveHealthyArticle_FullUrl2'\u001b[0m,\n",
       "        \u001b[32m'LiveHealthyArticle_FriendlyUrl'\u001b[0m,\n",
       "        \u001b[32m'LiveHealthyArticle_CategoryDes'\u001b[0m,\n",
       "        \u001b[32m'LiveHealthyArticle_Content_Body'\u001b[0m,\n",
       "        \u001b[32m'LiveHealthyArticle_ENKeywords'\u001b[0m,\n",
       "        \u001b[32m'LiveHealthyArticle_FeatureTitle'\u001b[0m,\n",
       "        \u001b[32m'LiveHealthyArticle_PRName'\u001b[0m,\n",
       "        \u001b[32m'LiveHealthyArticle_AlternateImageText'\u001b[0m,\n",
       "        \u001b[32m'LiveHealthyArticle_DateModified'\u001b[0m,\n",
       "        \u001b[32m'LiveHealthyArticle_Number_of_View'\u001b[0m,\n",
       "        \u001b[32m'LiveHealthyArticle_Lastmonthview'\u001b[0m,\n",
       "        \u001b[32m'LiveHealthyArticle_LastTwoMonthsView'\u001b[0m,\n",
       "        \u001b[32m'Page Views'\u001b[0m,\n",
       "        \u001b[32m'Engagement Rate'\u001b[0m,\n",
       "        \u001b[32m'Bounce Rate'\u001b[0m,\n",
       "        \u001b[32m'Exit Rate'\u001b[0m,\n",
       "        \u001b[32m'Scroll %'\u001b[0m,\n",
       "        \u001b[32m'% of Total Views'\u001b[0m,\n",
       "        \u001b[32m'Cumulative % of Total Views'\u001b[0m\n",
       "    \u001b[1m]\u001b[0m,\n",
       "    \u001b[32m'medical-care-and-facilities'\u001b[0m: \u001b[1m[\u001b[0m\n",
       "        \u001b[32m'id'\u001b[0m,\n",
       "        \u001b[32m'Content.Name'\u001b[0m,\n",
       "        \u001b[32m'MedicalCareFaci_Title'\u001b[0m,\n",
       "        \u001b[32m'MedicalCareFaci_ArticleCatNames'\u001b[0m,\n",
       "        \u001b[32m'MedicalCareFaci_CoverImgUrl'\u001b[0m,\n",
       "        \u001b[32m'MedicalCareFaci_FullUrl'\u001b[0m,\n",
       "        \u001b[32m'MedicalCareFaci_FullUrl2'\u001b[0m,\n",
       "        \u001b[32m'MedicalCareFaci_FriendlyUrl'\u001b[0m,\n",
       "        \u001b[32m'MedicalCareFaci_CategoryDesc'\u001b[0m,\n",
       "        \u001b[32m'MedicalCareFaci_ContentBody'\u001b[0m,\n",
       "        \u001b[32m'MedicalCareFaci_ENKeywords'\u001b[0m,\n",
       "        \u001b[32m'MedicalCareFaci_FeatureTitle'\u001b[0m,\n",
       "        \u001b[32m'MedicalCareFaci_PRName'\u001b[0m,\n",
       "        \u001b[32m'MedicalCareFaci_AlternateImageText'\u001b[0m,\n",
       "        \u001b[32m'MedicalCareFaci_DateModified'\u001b[0m,\n",
       "        \u001b[32m'MedicalCareFaci_NumberOfViews'\u001b[0m,\n",
       "        \u001b[32m'MedicalCareFaci_LastMonthViewCount'\u001b[0m,\n",
       "        \u001b[32m'MedicalCareFaci_LastTwoMonthsView'\u001b[0m,\n",
       "        \u001b[32m'Page Views'\u001b[0m,\n",
       "        \u001b[32m'Engagement Rate'\u001b[0m,\n",
       "        \u001b[32m'Bounce Rate'\u001b[0m,\n",
       "        \u001b[32m'Exit Rate'\u001b[0m,\n",
       "        \u001b[32m'Scroll %'\u001b[0m,\n",
       "        \u001b[32m'% of Total Views'\u001b[0m,\n",
       "        \u001b[32m'Cumulative % of Total Views'\u001b[0m\n",
       "    \u001b[1m]\u001b[0m,\n",
       "    \u001b[32m'medications'\u001b[0m: \u001b[1m[\u001b[0m\n",
       "        \u001b[32m'id'\u001b[0m,\n",
       "        \u001b[32m'Content.Name'\u001b[0m,\n",
       "        \u001b[32m'Medication_Title'\u001b[0m,\n",
       "        \u001b[32m'Medication_CoverImgUrl'\u001b[0m,\n",
       "        \u001b[32m'Medication_FullUrl'\u001b[0m,\n",
       "        \u001b[32m'Medication_FullUrl2'\u001b[0m,\n",
       "        \u001b[32m'Medication_FriendlyUrl'\u001b[0m,\n",
       "        \u001b[32m'Medication_CategoryDesc'\u001b[0m,\n",
       "        \u001b[32m'Medication_ContentBody'\u001b[0m,\n",
       "        \u001b[32m'Medication_ENKeywords'\u001b[0m,\n",
       "        \u001b[32m'Medication_FeatureTitle'\u001b[0m,\n",
       "        \u001b[32m'Medication_PRName'\u001b[0m,\n",
       "        \u001b[32m'Medication_AlternateImageText'\u001b[0m,\n",
       "        \u001b[32m'Medication_DateModified'\u001b[0m,\n",
       "        \u001b[32m'Medication_NumberOfViews'\u001b[0m,\n",
       "        \u001b[32m'Page Views'\u001b[0m,\n",
       "        \u001b[32m'Engagement Rate'\u001b[0m,\n",
       "        \u001b[32m'Bounce Rate'\u001b[0m,\n",
       "        \u001b[32m'Exit Rate'\u001b[0m,\n",
       "        \u001b[32m'Scroll %'\u001b[0m,\n",
       "        \u001b[32m'% of Total Views'\u001b[0m,\n",
       "        \u001b[32m'Cumulative % of Total Views'\u001b[0m\n",
       "    \u001b[1m]\u001b[0m,\n",
       "    \u001b[32m'program-sub-pages'\u001b[0m: \u001b[1m[\u001b[0m\n",
       "        \u001b[32m'id'\u001b[0m,\n",
       "        \u001b[32m'Content.Name'\u001b[0m,\n",
       "        \u001b[32m'ProgramSubPages_Title'\u001b[0m,\n",
       "        \u001b[32m'ProgramSubPages_FullUrl'\u001b[0m,\n",
       "        \u001b[32m'ProgramSubPages_FullUrl2'\u001b[0m,\n",
       "        \u001b[32m'ProgramSubPages_FriendlyUrl'\u001b[0m,\n",
       "        \u001b[32m'ProgramSubPages_CategoryDes'\u001b[0m,\n",
       "        \u001b[32m'ProgramSubPages_Content_Body'\u001b[0m,\n",
       "        \u001b[32m'ProgramSubPages_ENKeywords'\u001b[0m,\n",
       "        \u001b[32m'ProgramSubPages_PRName'\u001b[0m,\n",
       "        \u001b[32m'Page Views'\u001b[0m,\n",
       "        \u001b[32m'Engagement Rate'\u001b[0m,\n",
       "        \u001b[32m'Bounce Rate'\u001b[0m,\n",
       "        \u001b[32m'Exit Rate'\u001b[0m,\n",
       "        \u001b[32m'Scroll %'\u001b[0m,\n",
       "        \u001b[32m'% of Total Views'\u001b[0m,\n",
       "        \u001b[32m'Cumulative % of Total Views'\u001b[0m\n",
       "    \u001b[1m]\u001b[0m,\n",
       "    \u001b[32m'programs'\u001b[0m: \u001b[1m[\u001b[0m\n",
       "        \u001b[32m'id'\u001b[0m,\n",
       "        \u001b[32m'Content.Name'\u001b[0m,\n",
       "        \u001b[32m'Programs_Title'\u001b[0m,\n",
       "        \u001b[32m'Programs_ArticleCateNames'\u001b[0m,\n",
       "        \u001b[32m'Programs_CoverImgUrl'\u001b[0m,\n",
       "        \u001b[32m'Programs_FullUrl'\u001b[0m,\n",
       "        \u001b[32m'Programs_FullUrl2'\u001b[0m,\n",
       "        \u001b[32m'Programs_FriendlyUrl'\u001b[0m,\n",
       "        \u001b[32m'Programs_CategoryDes'\u001b[0m,\n",
       "        \u001b[32m'Programs_Content_x0020_Body'\u001b[0m,\n",
       "        \u001b[32m'Programs_ENKeywords'\u001b[0m,\n",
       "        \u001b[32m'Programs_FeatureTitle'\u001b[0m,\n",
       "        \u001b[32m'Programs_PRName'\u001b[0m,\n",
       "        \u001b[32m'Programs_AlternateImageText'\u001b[0m,\n",
       "        \u001b[32m'Programs_Number_of_Views'\u001b[0m,\n",
       "        \u001b[32m'Programs_Lastmonthviewcount'\u001b[0m,\n",
       "        \u001b[32m'Programs_LastTwoMonthsView'\u001b[0m,\n",
       "        \u001b[32m'Page Views'\u001b[0m,\n",
       "        \u001b[32m'Engagement Rate'\u001b[0m,\n",
       "        \u001b[32m'Bounce Rate'\u001b[0m,\n",
       "        \u001b[32m'Exit Rate'\u001b[0m,\n",
       "        \u001b[32m'Scroll %'\u001b[0m,\n",
       "        \u001b[32m'% of Total Views'\u001b[0m,\n",
       "        \u001b[32m'Cumulative % of Total Views'\u001b[0m\n",
       "    \u001b[1m]\u001b[0m,\n",
       "    \u001b[32m'support-group-and-others'\u001b[0m: \u001b[1m[\u001b[0m\n",
       "        \u001b[32m'id'\u001b[0m,\n",
       "        \u001b[32m'Content.Name'\u001b[0m,\n",
       "        \u001b[32m'SupportGroups_Title'\u001b[0m,\n",
       "        \u001b[32m'SupportGroups_ArticleCatNames'\u001b[0m,\n",
       "        \u001b[32m'SupportGroups_CoverImgUrl'\u001b[0m,\n",
       "        \u001b[32m'SupportGroups_FullUrl'\u001b[0m,\n",
       "        \u001b[32m'SupportGroups_FullUrl2'\u001b[0m,\n",
       "        \u001b[32m'SupportGroups_FriendlyUrl'\u001b[0m,\n",
       "        \u001b[32m'SupportGroups_CategoryDesc'\u001b[0m,\n",
       "        \u001b[32m'SupportGroups_ContentBody'\u001b[0m,\n",
       "        \u001b[32m'SupportGroups_ENKeywords'\u001b[0m,\n",
       "        \u001b[32m'SupportGroups_FeatureTitle'\u001b[0m,\n",
       "        \u001b[32m'SupportGroups_PRName'\u001b[0m,\n",
       "        \u001b[32m'SupportGroups_AlternateImageText'\u001b[0m,\n",
       "        \u001b[32m'SupportGroups_DateModified'\u001b[0m,\n",
       "        \u001b[32m'SupportGroups_NumberOfViews'\u001b[0m,\n",
       "        \u001b[32m'SupportGroups_LastMonthViewCount'\u001b[0m,\n",
       "        \u001b[32m'SupportGroups_LastTwoMonthsView'\u001b[0m,\n",
       "        \u001b[32m'Page Views'\u001b[0m,\n",
       "        \u001b[32m'Engagement Rate'\u001b[0m,\n",
       "        \u001b[32m'Bounce Rate'\u001b[0m,\n",
       "        \u001b[32m'Exit Rate'\u001b[0m,\n",
       "        \u001b[32m'Scroll %'\u001b[0m,\n",
       "        \u001b[32m'% of Total Views'\u001b[0m,\n",
       "        \u001b[32m'Cumulative % of Total Views'\u001b[0m\n",
       "    \u001b[1m]\u001b[0m\n",
       "\u001b[1m}\u001b[0m"
      ]
     },
     "execution_count": 8,
     "metadata": {},
     "output_type": "execute_result"
    }
   ],
   "source": [
    "# ruff: noqa: F821\n",
    "columns_to_keep = catalog.load(\"params:columns_to_keep\")\n",
    "columns_to_keep"
   ]
  },
  {
   "cell_type": "markdown",
   "metadata": {},
   "source": [
    "### Get columns to drop corresponding to `content_category`"
   ]
  },
  {
   "cell_type": "code",
   "execution_count": 9,
   "metadata": {},
   "outputs": [
    {
     "data": {
      "text/html": [
       "<pre style=\"white-space:pre;overflow-x:auto;line-height:normal;font-family:Menlo,'DejaVu Sans Mono',consolas,'Courier New',monospace\"></pre>\n"
      ],
      "text/plain": []
     },
     "metadata": {},
     "output_type": "display_data"
    },
    {
     "data": {
      "text/plain": [
       "\n",
       "\u001b[1m[\u001b[0m\n",
       "    \u001b[32m'id'\u001b[0m,\n",
       "    \u001b[32m'Content.Name'\u001b[0m,\n",
       "    \u001b[32m'LiveHealthyArticle_Title'\u001b[0m,\n",
       "    \u001b[32m'LiveHealthyArticle_ArticleCateName'\u001b[0m,\n",
       "    \u001b[32m'LiveHealthyArticle_CoverImgUrl'\u001b[0m,\n",
       "    \u001b[32m'LiveHealthyArticle_FullUrl'\u001b[0m,\n",
       "    \u001b[32m'LiveHealthyArticle_FullUrl2'\u001b[0m,\n",
       "    \u001b[32m'LiveHealthyArticle_FriendlyUrl'\u001b[0m,\n",
       "    \u001b[32m'LiveHealthyArticle_CategoryDes'\u001b[0m,\n",
       "    \u001b[32m'LiveHealthyArticle_Content_Body'\u001b[0m,\n",
       "    \u001b[32m'LiveHealthyArticle_ENKeywords'\u001b[0m,\n",
       "    \u001b[32m'LiveHealthyArticle_FeatureTitle'\u001b[0m,\n",
       "    \u001b[32m'LiveHealthyArticle_PRName'\u001b[0m,\n",
       "    \u001b[32m'LiveHealthyArticle_AlternateImageText'\u001b[0m,\n",
       "    \u001b[32m'LiveHealthyArticle_DateModified'\u001b[0m,\n",
       "    \u001b[32m'LiveHealthyArticle_Number_of_View'\u001b[0m,\n",
       "    \u001b[32m'LiveHealthyArticle_Lastmonthview'\u001b[0m,\n",
       "    \u001b[32m'LiveHealthyArticle_LastTwoMonthsView'\u001b[0m,\n",
       "    \u001b[32m'Page Views'\u001b[0m,\n",
       "    \u001b[32m'Engagement Rate'\u001b[0m,\n",
       "    \u001b[32m'Bounce Rate'\u001b[0m,\n",
       "    \u001b[32m'Exit Rate'\u001b[0m,\n",
       "    \u001b[32m'Scroll %'\u001b[0m,\n",
       "    \u001b[32m'% of Total Views'\u001b[0m,\n",
       "    \u001b[32m'Cumulative % of Total Views'\u001b[0m\n",
       "\u001b[1m]\u001b[0m"
      ]
     },
     "execution_count": 9,
     "metadata": {},
     "output_type": "execute_result"
    }
   ],
   "source": [
    "relevant_columns = columns_to_keep[content_category]\n",
    "relevant_columns"
   ]
  },
  {
   "cell_type": "code",
   "execution_count": 10,
   "metadata": {},
   "outputs": [
    {
     "name": "stdout",
     "output_type": "stream",
     "text": [
      "(1155, 25)\n"
     ]
    }
   ],
   "source": [
    "# Keep all relevant columns\n",
    "df = df[relevant_columns]\n",
    "print(df.shape)"
   ]
  },
  {
   "cell_type": "code",
   "execution_count": 11,
   "metadata": {},
   "outputs": [
    {
     "data": {
      "text/html": [
       "<pre style=\"white-space:pre;overflow-x:auto;line-height:normal;font-family:Menlo,'DejaVu Sans Mono',consolas,'Courier New',monospace\"></pre>\n"
      ],
      "text/plain": []
     },
     "metadata": {},
     "output_type": "display_data"
    },
    {
     "data": {
      "text/plain": [
       "\n",
       "\u001b[1;35mIndex\u001b[0m\u001b[1m(\u001b[0m\u001b[1m[\u001b[0m\u001b[32m'id'\u001b[0m, \u001b[32m'Content.Name'\u001b[0m, \u001b[32m'LiveHealthyArticle_Title'\u001b[0m,\n",
       "       \u001b[32m'LiveHealthyArticle_ArticleCateName'\u001b[0m, \u001b[32m'LiveHealthyArticle_CoverImgUrl'\u001b[0m,\n",
       "       \u001b[32m'LiveHealthyArticle_FullUrl'\u001b[0m, \u001b[32m'LiveHealthyArticle_FullUrl2'\u001b[0m,\n",
       "       \u001b[32m'LiveHealthyArticle_FriendlyUrl'\u001b[0m, \u001b[32m'LiveHealthyArticle_CategoryDes'\u001b[0m,\n",
       "       \u001b[32m'LiveHealthyArticle_Content_Body'\u001b[0m, \u001b[32m'LiveHealthyArticle_ENKeywords'\u001b[0m,\n",
       "       \u001b[32m'LiveHealthyArticle_FeatureTitle'\u001b[0m, \u001b[32m'LiveHealthyArticle_PRName'\u001b[0m,\n",
       "       \u001b[32m'LiveHealthyArticle_AlternateImageText'\u001b[0m,\n",
       "       \u001b[32m'LiveHealthyArticle_DateModified'\u001b[0m, \u001b[32m'LiveHealthyArticle_Number_of_View'\u001b[0m,\n",
       "       \u001b[32m'LiveHealthyArticle_Lastmonthview'\u001b[0m,\n",
       "       \u001b[32m'LiveHealthyArticle_LastTwoMonthsView'\u001b[0m, \u001b[32m'Page Views'\u001b[0m, \u001b[32m'Engagement Rate'\u001b[0m,\n",
       "       \u001b[32m'Bounce Rate'\u001b[0m, \u001b[32m'Exit Rate'\u001b[0m, \u001b[32m'Scroll %'\u001b[0m, \u001b[32m'% of Total Views'\u001b[0m,\n",
       "       \u001b[32m'Cumulative % of Total Views'\u001b[0m\u001b[1m]\u001b[0m,\n",
       "      \u001b[33mdtype\u001b[0m=\u001b[32m'object'\u001b[0m\u001b[1m)\u001b[0m"
      ]
     },
     "execution_count": 11,
     "metadata": {},
     "output_type": "execute_result"
    }
   ],
   "source": [
    "# Remaining columns\n",
    "df.columns"
   ]
  },
  {
   "cell_type": "markdown",
   "metadata": {},
   "source": [
    "### Drop all articles with no content"
   ]
  },
  {
   "cell_type": "code",
   "execution_count": 12,
   "metadata": {},
   "outputs": [
    {
     "name": "stdout",
     "output_type": "stream",
     "text": [
      "(1149, 25)\n"
     ]
    }
   ],
   "source": [
    "df = df[\n",
    "    df[\"LiveHealthyArticle_Content_Body\"].apply(\n",
    "        lambda x: True if re.search(r\"(<[div|p|h2].*?>)\", x) else False\n",
    "    )\n",
    "].reset_index(drop=True)\n",
    "print(df.shape)"
   ]
  },
  {
   "cell_type": "code",
   "execution_count": 13,
   "metadata": {},
   "outputs": [
    {
     "data": {
      "text/html": [
       "<pre style=\"white-space:pre;overflow-x:auto;line-height:normal;font-family:Menlo,'DejaVu Sans Mono',consolas,'Courier New',monospace\"></pre>\n"
      ],
      "text/plain": []
     },
     "metadata": {},
     "output_type": "display_data"
    },
    {
     "data": {
      "text/html": [
       "<div>\n",
       "<style scoped>\n",
       "    .dataframe tbody tr th:only-of-type {\n",
       "        vertical-align: middle;\n",
       "    }\n",
       "\n",
       "    .dataframe tbody tr th {\n",
       "        vertical-align: top;\n",
       "    }\n",
       "\n",
       "    .dataframe thead th {\n",
       "        text-align: right;\n",
       "    }\n",
       "</style>\n",
       "<table border=\"1\" class=\"dataframe\">\n",
       "  <thead>\n",
       "    <tr style=\"text-align: right;\">\n",
       "      <th></th>\n",
       "      <th>id</th>\n",
       "      <th>Content.Name</th>\n",
       "      <th>LiveHealthyArticle_Title</th>\n",
       "      <th>LiveHealthyArticle_ArticleCateName</th>\n",
       "      <th>LiveHealthyArticle_CoverImgUrl</th>\n",
       "      <th>LiveHealthyArticle_FullUrl</th>\n",
       "      <th>LiveHealthyArticle_FullUrl2</th>\n",
       "      <th>LiveHealthyArticle_FriendlyUrl</th>\n",
       "      <th>LiveHealthyArticle_CategoryDes</th>\n",
       "      <th>LiveHealthyArticle_Content_Body</th>\n",
       "      <th>...</th>\n",
       "      <th>LiveHealthyArticle_Number_of_View</th>\n",
       "      <th>LiveHealthyArticle_Lastmonthview</th>\n",
       "      <th>LiveHealthyArticle_LastTwoMonthsView</th>\n",
       "      <th>Page Views</th>\n",
       "      <th>Engagement Rate</th>\n",
       "      <th>Bounce Rate</th>\n",
       "      <th>Exit Rate</th>\n",
       "      <th>Scroll %</th>\n",
       "      <th>% of Total Views</th>\n",
       "      <th>Cumulative % of Total Views</th>\n",
       "    </tr>\n",
       "  </thead>\n",
       "  <tbody>\n",
       "    <tr>\n",
       "      <th>0</th>\n",
       "      <td>1443022</td>\n",
       "      <td>How To Identify And Deal With Depression</td>\n",
       "      <td>How To Identify And Deal With Depression</td>\n",
       "      <td>Conditions and Illnesses,</td>\n",
       "      <td>https://ch-api.healthhub.sg/api/public/content...</td>\n",
       "      <td>https://www.healthhub.sg/live-healthy/how-to-i...</td>\n",
       "      <td>www.healthhub.sg/live-healthy/how-to-identify-...</td>\n",
       "      <td>how-to-identify-and-deal-with-depression</td>\n",
       "      <td>Learn how to spot the signs of depression, get...</td>\n",
       "      <td>&lt;div class=\"ExternalClass46FF4530AAF64858A79C3...</td>\n",
       "      <td>...</td>\n",
       "      <td>27637.0</td>\n",
       "      <td>1100.0</td>\n",
       "      <td>1947.0</td>\n",
       "      <td>1622</td>\n",
       "      <td>0.863296</td>\n",
       "      <td>0.136704</td>\n",
       "      <td>0.549711</td>\n",
       "      <td>0.364365</td>\n",
       "      <td>0.001371</td>\n",
       "      <td>0.575815</td>\n",
       "    </tr>\n",
       "    <tr>\n",
       "      <th>1</th>\n",
       "      <td>1444928</td>\n",
       "      <td>Signs of Stress: Could Stress Be Good for You?</td>\n",
       "      <td>Signs of Stress: Could Stress Be Good for You?</td>\n",
       "      <td>Mind and Balance,</td>\n",
       "      <td>https://ch-api.healthhub.sg/api/public/content...</td>\n",
       "      <td>https://www.healthhub.sg/live-healthy/stress_c...</td>\n",
       "      <td>www.healthhub.sg/live-healthy/stress_can_be_go...</td>\n",
       "      <td>stress_can_be_good_for_you</td>\n",
       "      <td>Stressful situations, whether at school or at ...</td>\n",
       "      <td>&lt;div class=\"ExternalClassA58275AB1DD8443085927...</td>\n",
       "      <td>...</td>\n",
       "      <td>1468.0</td>\n",
       "      <td>129.0</td>\n",
       "      <td>159.0</td>\n",
       "      <td>331</td>\n",
       "      <td>0.883784</td>\n",
       "      <td>0.116216</td>\n",
       "      <td>0.000000</td>\n",
       "      <td>0.306647</td>\n",
       "      <td>0.000280</td>\n",
       "      <td>0.938865</td>\n",
       "    </tr>\n",
       "    <tr>\n",
       "      <th>2</th>\n",
       "      <td>1442901</td>\n",
       "      <td>Coping with your two-year-old: when a firm han...</td>\n",
       "      <td>Coping with your two-year-old: when a firm han...</td>\n",
       "      <td>NaN</td>\n",
       "      <td>https://ch-api.healthhub.sg/api/public/content...</td>\n",
       "      <td>https://www.healthhub.sg/live-healthy/baby-cop...</td>\n",
       "      <td>www.healthhub.sg/live-healthy/baby-coping-with...</td>\n",
       "      <td>baby-coping-with-your-2-year-old-when-a-firm-h...</td>\n",
       "      <td>Your two-year-old can be a handful. But here a...</td>\n",
       "      <td>&lt;div class=\"ExternalClass5E6AB2968188425D9CEDB...</td>\n",
       "      <td>...</td>\n",
       "      <td>295.0</td>\n",
       "      <td>42.0</td>\n",
       "      <td>81.0</td>\n",
       "      <td>650</td>\n",
       "      <td>0.808219</td>\n",
       "      <td>0.191781</td>\n",
       "      <td>0.583815</td>\n",
       "      <td>0.366923</td>\n",
       "      <td>0.000549</td>\n",
       "      <td>0.825824</td>\n",
       "    </tr>\n",
       "    <tr>\n",
       "      <th>3</th>\n",
       "      <td>1445194</td>\n",
       "      <td>Common Eye Conditions in Your Pre-Schooler</td>\n",
       "      <td>Common Eye Conditions in Your Pre-Schooler</td>\n",
       "      <td>Body Care,Child and Teen Health,</td>\n",
       "      <td>https://ch-api.healthhub.sg/api/public/content...</td>\n",
       "      <td>https://www.healthhub.sg/live-healthy/eye-care...</td>\n",
       "      <td>www.healthhub.sg/live-healthy/eye-care-for-pre...</td>\n",
       "      <td>eye-care-for-pre-schooler</td>\n",
       "      <td>Learn about the common eye conditions your chi...</td>\n",
       "      <td>&lt;div class=\"ExternalClass4D426A5EDDCF40BA8C223...</td>\n",
       "      <td>...</td>\n",
       "      <td>0.0</td>\n",
       "      <td>0.0</td>\n",
       "      <td>0.0</td>\n",
       "      <td>1244</td>\n",
       "      <td>0.831234</td>\n",
       "      <td>0.168766</td>\n",
       "      <td>0.531587</td>\n",
       "      <td>0.398513</td>\n",
       "      <td>0.001051</td>\n",
       "      <td>0.655277</td>\n",
       "    </tr>\n",
       "    <tr>\n",
       "      <th>4</th>\n",
       "      <td>1445895</td>\n",
       "      <td>Managing Wandering Dementia Patients</td>\n",
       "      <td>Managing Wandering Dementia Patients</td>\n",
       "      <td>Conditions and Illnesses,</td>\n",
       "      <td>https://ch-api.healthhub.sg/api/public/content...</td>\n",
       "      <td>https://www.healthhub.sg/live-healthy/managing...</td>\n",
       "      <td>www.healthhub.sg/live-healthy/managing-wanderi...</td>\n",
       "      <td>managing-wandering-behaviour-in-dementia</td>\n",
       "      <td>One of your family members has just been diagn...</td>\n",
       "      <td>&lt;div class=\"ExternalClassB401DB0539BD4790885E5...</td>\n",
       "      <td>...</td>\n",
       "      <td>712.0</td>\n",
       "      <td>21.0</td>\n",
       "      <td>32.0</td>\n",
       "      <td>413</td>\n",
       "      <td>0.891648</td>\n",
       "      <td>0.108352</td>\n",
       "      <td>0.199074</td>\n",
       "      <td>0.336562</td>\n",
       "      <td>0.000349</td>\n",
       "      <td>0.912451</td>\n",
       "    </tr>\n",
       "  </tbody>\n",
       "</table>\n",
       "<p>5 rows × 25 columns</p>\n",
       "</div>"
      ],
      "text/plain": [
       "\n",
       "        id                                       Content.Name  \\\n",
       "\u001b[1;36m0\u001b[0m  \u001b[1;36m1443022\u001b[0m           How To Identify And Deal With Depression   \n",
       "\u001b[1;36m1\u001b[0m  \u001b[1;36m1444928\u001b[0m     Signs of Stress: Could Stress Be Good for You?   \n",
       "\u001b[1;36m2\u001b[0m  \u001b[1;36m1442901\u001b[0m  Coping with your two-year-old: when a firm han\u001b[33m...\u001b[0m   \n",
       "\u001b[1;36m3\u001b[0m  \u001b[1;36m1445194\u001b[0m         Common Eye Conditions in Your Pre-Schooler   \n",
       "\u001b[1;36m4\u001b[0m  \u001b[1;36m1445895\u001b[0m               Managing Wandering Dementia Patients   \n",
       "\n",
       "                            LiveHealthyArticle_Title  \\\n",
       "\u001b[1;36m0\u001b[0m           How To Identify And Deal With Depression   \n",
       "\u001b[1;36m1\u001b[0m     Signs of Stress: Could Stress Be Good for You?   \n",
       "\u001b[1;36m2\u001b[0m  Coping with your two-year-old: when a firm han\u001b[33m...\u001b[0m   \n",
       "\u001b[1;36m3\u001b[0m         Common Eye Conditions in Your Pre-Schooler   \n",
       "\u001b[1;36m4\u001b[0m               Managing Wandering Dementia Patients   \n",
       "\n",
       "  LiveHealthyArticle_ArticleCateName  \\\n",
       "\u001b[1;36m0\u001b[0m          Conditions and Illnesses,   \n",
       "\u001b[1;36m1\u001b[0m                  Mind and Balance,   \n",
       "\u001b[1;36m2\u001b[0m                                NaN   \n",
       "\u001b[1;36m3\u001b[0m   Body Care,Child and Teen Health,   \n",
       "\u001b[1;36m4\u001b[0m          Conditions and Illnesses,   \n",
       "\n",
       "                      LiveHealthyArticle_CoverImgUrl  \\\n",
       "\u001b[1;36m0\u001b[0m  \u001b[4;94mhttps://ch-api.healthhub.sg/api/public/content...\u001b[0m   \n",
       "\u001b[1;36m1\u001b[0m  \u001b[4;94mhttps://ch-api.healthhub.sg/api/public/content...\u001b[0m   \n",
       "\u001b[1;36m2\u001b[0m  \u001b[4;94mhttps://ch-api.healthhub.sg/api/public/content...\u001b[0m   \n",
       "\u001b[1;36m3\u001b[0m  \u001b[4;94mhttps://ch-api.healthhub.sg/api/public/content...\u001b[0m   \n",
       "\u001b[1;36m4\u001b[0m  \u001b[4;94mhttps://ch-api.healthhub.sg/api/public/content...\u001b[0m   \n",
       "\n",
       "                          LiveHealthyArticle_FullUrl  \\\n",
       "\u001b[1;36m0\u001b[0m  \u001b[4;94mhttps://www.healthhub.sg/live-healthy/how-to-i...\u001b[0m   \n",
       "\u001b[1;36m1\u001b[0m  \u001b[4;94mhttps://www.healthhub.sg/live-healthy/stress_c...\u001b[0m   \n",
       "\u001b[1;36m2\u001b[0m  \u001b[4;94mhttps://www.healthhub.sg/live-healthy/baby-cop...\u001b[0m   \n",
       "\u001b[1;36m3\u001b[0m  \u001b[4;94mhttps://www.healthhub.sg/live-healthy/eye-care...\u001b[0m   \n",
       "\u001b[1;36m4\u001b[0m  \u001b[4;94mhttps://www.healthhub.sg/live-healthy/managing...\u001b[0m   \n",
       "\n",
       "                         LiveHealthyArticle_FullUrl2  \\\n",
       "\u001b[1;36m0\u001b[0m  www.healthhub.sg/live-healthy/how-to-identify-\u001b[33m...\u001b[0m   \n",
       "\u001b[1;36m1\u001b[0m  www.healthhub.sg/live-healthy/stress_can_be_go\u001b[33m...\u001b[0m   \n",
       "\u001b[1;36m2\u001b[0m  www.healthhub.sg/live-healthy/baby-coping-with\u001b[33m...\u001b[0m   \n",
       "\u001b[1;36m3\u001b[0m  www.healthhub.sg/live-healthy/eye-care-for-pre\u001b[33m...\u001b[0m   \n",
       "\u001b[1;36m4\u001b[0m  www.healthhub.sg/live-healthy/managing-wanderi\u001b[33m...\u001b[0m   \n",
       "\n",
       "                      LiveHealthyArticle_FriendlyUrl  \\\n",
       "\u001b[1;36m0\u001b[0m           how-to-identify-and-deal-with-depression   \n",
       "\u001b[1;36m1\u001b[0m                         stress_can_be_good_for_you   \n",
       "\u001b[1;36m2\u001b[0m  baby-coping-with-your-\u001b[1;36m2\u001b[0m-year-old-when-a-firm-h\u001b[33m...\u001b[0m   \n",
       "\u001b[1;36m3\u001b[0m                          eye-care-for-pre-schooler   \n",
       "\u001b[1;36m4\u001b[0m           managing-wandering-behaviour-in-dementia   \n",
       "\n",
       "                      LiveHealthyArticle_CategoryDes  \\\n",
       "\u001b[1;36m0\u001b[0m  Learn how to spot the signs of depression, get\u001b[33m...\u001b[0m   \n",
       "\u001b[1;36m1\u001b[0m  Stressful situations, whether at school or at \u001b[33m...\u001b[0m   \n",
       "\u001b[1;36m2\u001b[0m  Your two-year-old can be a handful. But here a\u001b[33m...\u001b[0m   \n",
       "\u001b[1;36m3\u001b[0m  Learn about the common eye conditions your chi\u001b[33m...\u001b[0m   \n",
       "\u001b[1;36m4\u001b[0m  One of your family members has just been diagn\u001b[33m...\u001b[0m   \n",
       "\n",
       "                     LiveHealthyArticle_Content_Body  \u001b[33m...\u001b[0m  \\\n",
       "\u001b[1;36m0\u001b[0m  <div \u001b[33mclass\u001b[0m=\u001b[35m\"ExternalClass46FF4530AAF64858A79C3\u001b[0m\u001b[33m...\u001b[0m  \u001b[33m...\u001b[0m   \n",
       "\u001b[1;36m1\u001b[0m  <div \u001b[33mclass\u001b[0m=\u001b[35m\"ExternalClassA58275AB1DD8443085927\u001b[0m\u001b[33m...\u001b[0m  \u001b[33m...\u001b[0m   \n",
       "\u001b[1;36m2\u001b[0m  <div \u001b[33mclass\u001b[0m=\u001b[35m\"ExternalClass5E6AB2968188425D9CEDB\u001b[0m\u001b[33m...\u001b[0m  \u001b[33m...\u001b[0m   \n",
       "\u001b[1;36m3\u001b[0m  <div \u001b[33mclass\u001b[0m=\u001b[35m\"ExternalClass4D426A5EDDCF40BA8C223\u001b[0m\u001b[33m...\u001b[0m  \u001b[33m...\u001b[0m   \n",
       "\u001b[1;36m4\u001b[0m  <div \u001b[33mclass\u001b[0m=\u001b[35m\"ExternalClassB401DB0539BD4790885E5\u001b[0m\u001b[33m...\u001b[0m  \u001b[33m...\u001b[0m   \n",
       "\n",
       "  LiveHealthyArticle_Number_of_View LiveHealthyArticle_Lastmonthview  \\\n",
       "\u001b[1;36m0\u001b[0m                           \u001b[1;36m27637.0\u001b[0m                           \u001b[1;36m1100.0\u001b[0m   \n",
       "\u001b[1;36m1\u001b[0m                            \u001b[1;36m1468.0\u001b[0m                            \u001b[1;36m129.0\u001b[0m   \n",
       "\u001b[1;36m2\u001b[0m                             \u001b[1;36m295.0\u001b[0m                             \u001b[1;36m42.0\u001b[0m   \n",
       "\u001b[1;36m3\u001b[0m                               \u001b[1;36m0.0\u001b[0m                              \u001b[1;36m0.0\u001b[0m   \n",
       "\u001b[1;36m4\u001b[0m                             \u001b[1;36m712.0\u001b[0m                             \u001b[1;36m21.0\u001b[0m   \n",
       "\n",
       "  LiveHealthyArticle_LastTwoMonthsView Page Views Engagement Rate  \\\n",
       "\u001b[1;36m0\u001b[0m                               \u001b[1;36m1947.0\u001b[0m       \u001b[1;36m1622\u001b[0m        \u001b[1;36m0.863296\u001b[0m   \n",
       "\u001b[1;36m1\u001b[0m                                \u001b[1;36m159.0\u001b[0m        \u001b[1;36m331\u001b[0m        \u001b[1;36m0.883784\u001b[0m   \n",
       "\u001b[1;36m2\u001b[0m                                 \u001b[1;36m81.0\u001b[0m        \u001b[1;36m650\u001b[0m        \u001b[1;36m0.808219\u001b[0m   \n",
       "\u001b[1;36m3\u001b[0m                                  \u001b[1;36m0.0\u001b[0m       \u001b[1;36m1244\u001b[0m        \u001b[1;36m0.831234\u001b[0m   \n",
       "\u001b[1;36m4\u001b[0m                                 \u001b[1;36m32.0\u001b[0m        \u001b[1;36m413\u001b[0m        \u001b[1;36m0.891648\u001b[0m   \n",
       "\n",
       "   Bounce Rate  Exit Rate  Scroll %  % of Total Views  \\\n",
       "\u001b[1;36m0\u001b[0m     \u001b[1;36m0.136704\u001b[0m   \u001b[1;36m0.549711\u001b[0m  \u001b[1;36m0.364365\u001b[0m          \u001b[1;36m0.001371\u001b[0m   \n",
       "\u001b[1;36m1\u001b[0m     \u001b[1;36m0.116216\u001b[0m   \u001b[1;36m0.000000\u001b[0m  \u001b[1;36m0.306647\u001b[0m          \u001b[1;36m0.000280\u001b[0m   \n",
       "\u001b[1;36m2\u001b[0m     \u001b[1;36m0.191781\u001b[0m   \u001b[1;36m0.583815\u001b[0m  \u001b[1;36m0.366923\u001b[0m          \u001b[1;36m0.000549\u001b[0m   \n",
       "\u001b[1;36m3\u001b[0m     \u001b[1;36m0.168766\u001b[0m   \u001b[1;36m0.531587\u001b[0m  \u001b[1;36m0.398513\u001b[0m          \u001b[1;36m0.001051\u001b[0m   \n",
       "\u001b[1;36m4\u001b[0m     \u001b[1;36m0.108352\u001b[0m   \u001b[1;36m0.199074\u001b[0m  \u001b[1;36m0.336562\u001b[0m          \u001b[1;36m0.000349\u001b[0m   \n",
       "\n",
       "   Cumulative % of Total Views  \n",
       "\u001b[1;36m0\u001b[0m                     \u001b[1;36m0.575815\u001b[0m  \n",
       "\u001b[1;36m1\u001b[0m                     \u001b[1;36m0.938865\u001b[0m  \n",
       "\u001b[1;36m2\u001b[0m                     \u001b[1;36m0.825824\u001b[0m  \n",
       "\u001b[1;36m3\u001b[0m                     \u001b[1;36m0.655277\u001b[0m  \n",
       "\u001b[1;36m4\u001b[0m                     \u001b[1;36m0.912451\u001b[0m  \n",
       "\n",
       "\u001b[1m[\u001b[0m\u001b[1;36m5\u001b[0m rows x \u001b[1;36m25\u001b[0m columns\u001b[1m]\u001b[0m"
      ]
     },
     "execution_count": 13,
     "metadata": {},
     "output_type": "execute_result"
    }
   ],
   "source": [
    "tmp = df.sample(5, random_state=42).reset_index(drop=True)\n",
    "tmp"
   ]
  },
  {
   "cell_type": "markdown",
   "metadata": {},
   "source": [
    "### Get metadata for corresponding content category"
   ]
  },
  {
   "cell_type": "code",
   "execution_count": 14,
   "metadata": {},
   "outputs": [
    {
     "data": {
      "text/html": [
       "<pre style=\"white-space:pre;overflow-x:auto;line-height:normal;font-family:Menlo,'DejaVu Sans Mono',consolas,'Courier New',monospace\"><span style=\"color: #7fbfbf; text-decoration-color: #7fbfbf\">[06/24/24 22:54:38] </span><span style=\"color: #000080; text-decoration-color: #000080\">INFO    </span> Loading data from <span style=\"color: #ff8700; text-decoration-color: #ff8700\">params:metadata</span> <span style=\"font-weight: bold\">(</span>MemoryDataset<span style=\"font-weight: bold\">)</span><span style=\"color: #808000; text-decoration-color: #808000\">...</span>               <a href=\"file:///opt/anaconda3/envs/content-opt/lib/python3.12/site-packages/kedro/io/data_catalog.py\" target=\"_blank\"><span style=\"color: #7f7f7f; text-decoration-color: #7f7f7f\">data_catalog.py</span></a><span style=\"color: #7f7f7f; text-decoration-color: #7f7f7f\">:</span><a href=\"file:///opt/anaconda3/envs/content-opt/lib/python3.12/site-packages/kedro/io/data_catalog.py#508\" target=\"_blank\"><span style=\"color: #7f7f7f; text-decoration-color: #7f7f7f\">508</span></a>\n",
       "</pre>\n"
      ],
      "text/plain": [
       "\u001b[2;36m[06/24/24 22:54:38]\u001b[0m\u001b[2;36m \u001b[0m\u001b[34mINFO    \u001b[0m Loading data from \u001b[38;5;208mparams:metadata\u001b[0m \u001b[1m(\u001b[0mMemoryDataset\u001b[1m)\u001b[0m\u001b[33m...\u001b[0m               \u001b]8;id=945015;file:///opt/anaconda3/envs/content-opt/lib/python3.12/site-packages/kedro/io/data_catalog.py\u001b\\\u001b[2mdata_catalog.py\u001b[0m\u001b]8;;\u001b\\\u001b[2m:\u001b[0m\u001b]8;id=610965;file:///opt/anaconda3/envs/content-opt/lib/python3.12/site-packages/kedro/io/data_catalog.py#508\u001b\\\u001b[2m508\u001b[0m\u001b]8;;\u001b\\\n"
      ]
     },
     "metadata": {},
     "output_type": "display_data"
    },
    {
     "data": {
      "text/html": [
       "<pre style=\"white-space:pre;overflow-x:auto;line-height:normal;font-family:Menlo,'DejaVu Sans Mono',consolas,'Courier New',monospace\"></pre>\n"
      ],
      "text/plain": []
     },
     "metadata": {},
     "output_type": "display_data"
    },
    {
     "data": {
      "text/plain": [
       "\n",
       "\u001b[1m{\u001b[0m\n",
       "    \u001b[32m'cost-and-financing'\u001b[0m: \u001b[1m{\u001b[0m\n",
       "        \u001b[32m'content_title'\u001b[0m: \u001b[32m'CostAndFinancing_Title'\u001b[0m,\n",
       "        \u001b[32m'content_body'\u001b[0m: \u001b[32m'CostAndFinancing_ContentBody'\u001b[0m\n",
       "    \u001b[1m}\u001b[0m,\n",
       "    \u001b[32m'diseases-and-conditions'\u001b[0m: \u001b[1m{\u001b[0m\n",
       "        \u001b[32m'content_title'\u001b[0m: \u001b[32m'DiseasesCondition_Title'\u001b[0m,\n",
       "        \u001b[32m'content_body'\u001b[0m: \u001b[32m'DiseasesCondition_ContentBody'\u001b[0m\n",
       "    \u001b[1m}\u001b[0m,\n",
       "    \u001b[32m'health-statistics'\u001b[0m: \u001b[1m{\u001b[0m\n",
       "        \u001b[32m'content_title'\u001b[0m: \u001b[32m'HealthStatistics_Title'\u001b[0m,\n",
       "        \u001b[32m'content_body'\u001b[0m: \u001b[32m'HealthStatistics_ContentBody'\u001b[0m\n",
       "    \u001b[1m}\u001b[0m,\n",
       "    \u001b[32m'live-healthy-articles'\u001b[0m: \u001b[1m{\u001b[0m\n",
       "        \u001b[32m'content_title'\u001b[0m: \u001b[32m'LiveHealthyArticle_Title'\u001b[0m,\n",
       "        \u001b[32m'content_body'\u001b[0m: \u001b[32m'LiveHealthyArticle_Content_Body'\u001b[0m\n",
       "    \u001b[1m}\u001b[0m,\n",
       "    \u001b[32m'medical-care-and-facilities'\u001b[0m: \u001b[1m{\u001b[0m\n",
       "        \u001b[32m'content_title'\u001b[0m: \u001b[32m'MedicalCareFaci_Title'\u001b[0m,\n",
       "        \u001b[32m'content_body'\u001b[0m: \u001b[32m'MedicalCareFaci_ContentBody'\u001b[0m\n",
       "    \u001b[1m}\u001b[0m,\n",
       "    \u001b[32m'medications'\u001b[0m: \u001b[1m{\u001b[0m\u001b[32m'content_title'\u001b[0m: \u001b[32m'Medication_Title'\u001b[0m, \u001b[32m'content_body'\u001b[0m: \u001b[32m'Medication_ContentBody'\u001b[0m\u001b[1m}\u001b[0m,\n",
       "    \u001b[32m'program-sub-pages'\u001b[0m: \u001b[1m{\u001b[0m\n",
       "        \u001b[32m'content_title'\u001b[0m: \u001b[32m'ProgramSubPages_Title'\u001b[0m,\n",
       "        \u001b[32m'content_body'\u001b[0m: \u001b[32m'ProgramSubPages_Content_Body'\u001b[0m\n",
       "    \u001b[1m}\u001b[0m,\n",
       "    \u001b[32m'programs'\u001b[0m: \u001b[1m{\u001b[0m\u001b[32m'content_title'\u001b[0m: \u001b[32m'Programs_Title'\u001b[0m, \u001b[32m'content_body'\u001b[0m: \u001b[32m'Programs_Content_x0020_Body'\u001b[0m\u001b[1m}\u001b[0m,\n",
       "    \u001b[32m'support-group-and-others'\u001b[0m: \u001b[1m{\u001b[0m\n",
       "        \u001b[32m'content_title'\u001b[0m: \u001b[32m'SupportGroups_Title'\u001b[0m,\n",
       "        \u001b[32m'content_body'\u001b[0m: \u001b[32m'SupportGroups_ContentBody'\u001b[0m\n",
       "    \u001b[1m}\u001b[0m\n",
       "\u001b[1m}\u001b[0m"
      ]
     },
     "execution_count": 14,
     "metadata": {},
     "output_type": "execute_result"
    }
   ],
   "source": [
    "# ruff: noqa: F821\n",
    "metadata = catalog.load(\"params:metadata\")\n",
    "metadata"
   ]
  },
  {
   "cell_type": "code",
   "execution_count": 15,
   "metadata": {},
   "outputs": [
    {
     "name": "stdout",
     "output_type": "stream",
     "text": [
      "LiveHealthyArticle_Title\n",
      "LiveHealthyArticle_Content_Body\n"
     ]
    }
   ],
   "source": [
    "content_title = metadata[content_category][\"content_title\"]\n",
    "content_body = metadata[content_category][\"content_body\"]\n",
    "\n",
    "print(content_title)\n",
    "print(content_body)"
   ]
  },
  {
   "cell_type": "code",
   "execution_count": 16,
   "metadata": {},
   "outputs": [
    {
     "name": "stdout",
     "output_type": "stream",
     "text": [
      "How To Identify And Deal With Depression\n",
      "Signs of Stress: Could Stress Be Good for You?\n",
      "Coping with your two-year-old: when a firm hand is needed\n",
      "Common Eye Conditions in Your Pre-Schooler\n",
      "Managing Wandering Dementia Patients\n"
     ]
    }
   ],
   "source": [
    "tmp[\"related_sections\"] = None\n",
    "tmp[\"extracted_content_body\"] = None\n",
    "\n",
    "for index, row in tmp.iterrows():\n",
    "    title = row[content_title]\n",
    "    print(title)\n",
    "\n",
    "    html_content = row[content_body]\n",
    "    related_sections, extracted_content_body = extract_content(html_content)\n",
    "\n",
    "    tmp.at[index, \"related_sections\"] = related_sections\n",
    "    tmp.at[index, \"extracted_content_body\"] = extracted_content_body"
   ]
  },
  {
   "cell_type": "code",
   "execution_count": 17,
   "metadata": {},
   "outputs": [
    {
     "data": {
      "text/html": [
       "<pre style=\"white-space:pre;overflow-x:auto;line-height:normal;font-family:Menlo,'DejaVu Sans Mono',consolas,'Courier New',monospace\"></pre>\n"
      ],
      "text/plain": []
     },
     "metadata": {},
     "output_type": "display_data"
    },
    {
     "data": {
      "text/plain": [
       "\n",
       "\u001b[1m[\u001b[0m\n",
       "    \u001b[32m'Myths and Misconceptions About Depression'\u001b[0m,\n",
       "    \u001b[32m'Coping with Depression'\u001b[0m,\n",
       "    \u001b[32m'Be a Master of Stress'\u001b[0m,\n",
       "    \u001b[32m'Feeling Depressed? You Are Not Alone'\u001b[0m,\n",
       "    \u001b[32m'Helping Youth Deal With Depression'\u001b[0m,\n",
       "    \u001b[32m'Myths and Misconceptions About Depression'\u001b[0m\n",
       "\u001b[1m]\u001b[0m"
      ]
     },
     "execution_count": 17,
     "metadata": {},
     "output_type": "execute_result"
    }
   ],
   "source": [
    "tmp.iloc[0][\"related_sections\"]"
   ]
  },
  {
   "cell_type": "code",
   "execution_count": 18,
   "metadata": {},
   "outputs": [
    {
     "data": {
      "text/html": [
       "<pre style=\"white-space:pre;overflow-x:auto;line-height:normal;font-family:Menlo,'DejaVu Sans Mono',consolas,'Courier New',monospace\"></pre>\n"
      ],
      "text/plain": []
     },
     "metadata": {},
     "output_type": "display_data"
    },
    {
     "data": {
      "text/plain": [
       "\u001b[32m'Signs of Depression\\nIt is normal to feel sad when we lose a loved one, fail an exam, or even end a relationship. However, when feelings of sadness is prolonged and affects our daily lives, it is symptomatic of depression.\\nOther signs of depression include:\\n- A loss of interest in activities previously enjoyed\\n- Weight loss or weight gain; or decrease or increase in appetite\\n- Difficulty falling asleep or staying asleep; or sleeping excessively\\n- Feeling agitated or restless\\n- Feeling tired and lacking the energy\\n- Feelings of worthlessness or excessive guilt\\n- Difficulty concentrating or having trouble thinking\\n- Frequent thoughts of death or suicide\\nRelated: Myths and Misconceptions About Depression\\nGetting Help\\nIf you have been constantly feeling sad and experiencing some or all of the symptoms above, it is appropriate to seek professional medical help, especially so if thoughts of death or suicide are present. Do not self-diagnose or self-manage without speaking to a medical professional first. Don\\'t be embarrassed if you need to seek help for your depression. There are professionals out there who can advise you on the best course of action and provide the support you need to make positive changes to your life. Remember you are worth it! We all need a helping hand at times and there is nothing wrong in asking for help.\\nRelated: Coping with Depression\\nWhat You Can Do to Manage Your Mental Wellbeing\\nFollowing your doctor\\'s consult, below are some self-management tips that you can try at home.\\n- Set a routine for yourself and include some basic level of activity throughout the day. This is important to give your life a daily purpose. A morning jog or a brisk walk for example, would help jumpstart your day on a positive note.\\n- Create a daily motto for yourself. This will be your day\\'s inspiration. Some examples would be: \"Life\\'s too short to worry about everything\", \"Let loose and live\", and \"It is another beautiful day\". You could even keep a diary of inspirational quotes; when you come across one, note it down in your diary and read it when you are feeling down.\\n- Choose to engage in an activity that you would normally enjoy even if you don\\'t want to do it. This is to prevent you from losing sense of yourself and thus reducing your activity level to a minimal. It is good to keep busy and occupied.\\n- Try a new activity that you can do with a group of friends or if you prefer, by yourself. Cultivate new interests that will keep you going. You could try indoor rock climbing, pick up a new language, or even explore Singapore’s many museums as they have new events constantly.\\n- Rally social support. Allow your family and friends to help you as. they keep you company on your journey to better mental health.\\n- Don\\'t deny your feelings. The harder you try to suppress or control depression, the more depressed you might get. Avoidance is not the way but acknowledgement and acceptance are the first steps toward recovery.\\n- Get sufficient rest and have regular meals. Without enough rest and a proper diet; you will not have the energy nor the mental capacity to fight this battle.\\n- Use affirmative, positive self-talk. Believe that your life is worth it and that you are worthy as a person no matter what your mind tells you. Know that you are loved, and that your life has meaning even if you might not feel that way at times.\\n- Re-look, re-think and re-set your life\\'s goals. Dream again to rediscover that purpose and meaning in your life which will motivate you to live a more fulfilled life.\\nRead these next:\\n- Be a Master of Stress\\n- Feeling Depressed? You Are Not Alone\\n- Helping Youth Deal With Depression\\n- Myths and Misconceptions About Depression'\u001b[0m"
      ]
     },
     "execution_count": 18,
     "metadata": {},
     "output_type": "execute_result"
    }
   ],
   "source": [
    "tmp.iloc[0][\"extracted_content_body\"]"
   ]
  },
  {
   "cell_type": "code",
   "execution_count": 19,
   "metadata": {},
   "outputs": [
    {
     "data": {
      "text/html": [
       "<pre style=\"white-space:pre;overflow-x:auto;line-height:normal;font-family:Menlo,'DejaVu Sans Mono',consolas,'Courier New',monospace\"></pre>\n"
      ],
      "text/plain": []
     },
     "metadata": {},
     "output_type": "display_data"
    },
    {
     "data": {
      "text/html": [
       "<div>\n",
       "<style scoped>\n",
       "    .dataframe tbody tr th:only-of-type {\n",
       "        vertical-align: middle;\n",
       "    }\n",
       "\n",
       "    .dataframe tbody tr th {\n",
       "        vertical-align: top;\n",
       "    }\n",
       "\n",
       "    .dataframe thead th {\n",
       "        text-align: right;\n",
       "    }\n",
       "</style>\n",
       "<table border=\"1\" class=\"dataframe\">\n",
       "  <thead>\n",
       "    <tr style=\"text-align: right;\">\n",
       "      <th></th>\n",
       "      <th>id</th>\n",
       "      <th>Content.Name</th>\n",
       "      <th>LiveHealthyArticle_Title</th>\n",
       "      <th>LiveHealthyArticle_ArticleCateName</th>\n",
       "      <th>LiveHealthyArticle_CoverImgUrl</th>\n",
       "      <th>LiveHealthyArticle_FullUrl</th>\n",
       "      <th>LiveHealthyArticle_FullUrl2</th>\n",
       "      <th>LiveHealthyArticle_FriendlyUrl</th>\n",
       "      <th>LiveHealthyArticle_CategoryDes</th>\n",
       "      <th>LiveHealthyArticle_Content_Body</th>\n",
       "      <th>...</th>\n",
       "      <th>LiveHealthyArticle_LastTwoMonthsView</th>\n",
       "      <th>Page Views</th>\n",
       "      <th>Engagement Rate</th>\n",
       "      <th>Bounce Rate</th>\n",
       "      <th>Exit Rate</th>\n",
       "      <th>Scroll %</th>\n",
       "      <th>% of Total Views</th>\n",
       "      <th>Cumulative % of Total Views</th>\n",
       "      <th>related_sections</th>\n",
       "      <th>extracted_content_body</th>\n",
       "    </tr>\n",
       "  </thead>\n",
       "  <tbody>\n",
       "    <tr>\n",
       "      <th>0</th>\n",
       "      <td>1443022</td>\n",
       "      <td>How To Identify And Deal With Depression</td>\n",
       "      <td>How To Identify And Deal With Depression</td>\n",
       "      <td>Conditions and Illnesses,</td>\n",
       "      <td>https://ch-api.healthhub.sg/api/public/content...</td>\n",
       "      <td>https://www.healthhub.sg/live-healthy/how-to-i...</td>\n",
       "      <td>www.healthhub.sg/live-healthy/how-to-identify-...</td>\n",
       "      <td>how-to-identify-and-deal-with-depression</td>\n",
       "      <td>Learn how to spot the signs of depression, get...</td>\n",
       "      <td>&lt;div class=\"ExternalClass46FF4530AAF64858A79C3...</td>\n",
       "      <td>...</td>\n",
       "      <td>1947.0</td>\n",
       "      <td>1622</td>\n",
       "      <td>0.863296</td>\n",
       "      <td>0.136704</td>\n",
       "      <td>0.549711</td>\n",
       "      <td>0.364365</td>\n",
       "      <td>0.001371</td>\n",
       "      <td>0.575815</td>\n",
       "      <td>[Myths and Misconceptions About Depression, Co...</td>\n",
       "      <td>Signs of Depression\\nIt is normal to feel sad ...</td>\n",
       "    </tr>\n",
       "    <tr>\n",
       "      <th>1</th>\n",
       "      <td>1444928</td>\n",
       "      <td>Signs of Stress: Could Stress Be Good for You?</td>\n",
       "      <td>Signs of Stress: Could Stress Be Good for You?</td>\n",
       "      <td>Mind and Balance,</td>\n",
       "      <td>https://ch-api.healthhub.sg/api/public/content...</td>\n",
       "      <td>https://www.healthhub.sg/live-healthy/stress_c...</td>\n",
       "      <td>www.healthhub.sg/live-healthy/stress_can_be_go...</td>\n",
       "      <td>stress_can_be_good_for_you</td>\n",
       "      <td>Stressful situations, whether at school or at ...</td>\n",
       "      <td>&lt;div class=\"ExternalClassA58275AB1DD8443085927...</td>\n",
       "      <td>...</td>\n",
       "      <td>159.0</td>\n",
       "      <td>331</td>\n",
       "      <td>0.883784</td>\n",
       "      <td>0.116216</td>\n",
       "      <td>0.000000</td>\n",
       "      <td>0.306647</td>\n",
       "      <td>0.000280</td>\n",
       "      <td>0.938865</td>\n",
       "      <td>[_x000D_ Exam Stress Busting Tips, _x000D_ 6 M...</td>\n",
       "      <td>Stress Can Be Your Friend\\nWhen examinations a...</td>\n",
       "    </tr>\n",
       "    <tr>\n",
       "      <th>2</th>\n",
       "      <td>1442901</td>\n",
       "      <td>Coping with your two-year-old: when a firm han...</td>\n",
       "      <td>Coping with your two-year-old: when a firm han...</td>\n",
       "      <td>NaN</td>\n",
       "      <td>https://ch-api.healthhub.sg/api/public/content...</td>\n",
       "      <td>https://www.healthhub.sg/live-healthy/baby-cop...</td>\n",
       "      <td>www.healthhub.sg/live-healthy/baby-coping-with...</td>\n",
       "      <td>baby-coping-with-your-2-year-old-when-a-firm-h...</td>\n",
       "      <td>Your two-year-old can be a handful. But here a...</td>\n",
       "      <td>&lt;div class=\"ExternalClass5E6AB2968188425D9CEDB...</td>\n",
       "      <td>...</td>\n",
       "      <td>81.0</td>\n",
       "      <td>650</td>\n",
       "      <td>0.808219</td>\n",
       "      <td>0.191781</td>\n",
       "      <td>0.583815</td>\n",
       "      <td>0.366923</td>\n",
       "      <td>0.000549</td>\n",
       "      <td>0.825824</td>\n",
       "      <td>[]</td>\n",
       "      <td>How to Deal with Two Year Old Tantrums?\\nAs ba...</td>\n",
       "    </tr>\n",
       "    <tr>\n",
       "      <th>3</th>\n",
       "      <td>1445194</td>\n",
       "      <td>Common Eye Conditions in Your Pre-Schooler</td>\n",
       "      <td>Common Eye Conditions in Your Pre-Schooler</td>\n",
       "      <td>Body Care,Child and Teen Health,</td>\n",
       "      <td>https://ch-api.healthhub.sg/api/public/content...</td>\n",
       "      <td>https://www.healthhub.sg/live-healthy/eye-care...</td>\n",
       "      <td>www.healthhub.sg/live-healthy/eye-care-for-pre...</td>\n",
       "      <td>eye-care-for-pre-schooler</td>\n",
       "      <td>Learn about the common eye conditions your chi...</td>\n",
       "      <td>&lt;div class=\"ExternalClass4D426A5EDDCF40BA8C223...</td>\n",
       "      <td>...</td>\n",
       "      <td>0.0</td>\n",
       "      <td>1244</td>\n",
       "      <td>0.831234</td>\n",
       "      <td>0.168766</td>\n",
       "      <td>0.531587</td>\n",
       "      <td>0.398513</td>\n",
       "      <td>0.001051</td>\n",
       "      <td>0.655277</td>\n",
       "      <td>[Healthy Eyes, Clear Vision, Different Spectac...</td>\n",
       "      <td>In Singapore, children are also becoming myopi...</td>\n",
       "    </tr>\n",
       "    <tr>\n",
       "      <th>4</th>\n",
       "      <td>1445895</td>\n",
       "      <td>Managing Wandering Dementia Patients</td>\n",
       "      <td>Managing Wandering Dementia Patients</td>\n",
       "      <td>Conditions and Illnesses,</td>\n",
       "      <td>https://ch-api.healthhub.sg/api/public/content...</td>\n",
       "      <td>https://www.healthhub.sg/live-healthy/managing...</td>\n",
       "      <td>www.healthhub.sg/live-healthy/managing-wanderi...</td>\n",
       "      <td>managing-wandering-behaviour-in-dementia</td>\n",
       "      <td>One of your family members has just been diagn...</td>\n",
       "      <td>&lt;div class=\"ExternalClassB401DB0539BD4790885E5...</td>\n",
       "      <td>...</td>\n",
       "      <td>32.0</td>\n",
       "      <td>413</td>\n",
       "      <td>0.891648</td>\n",
       "      <td>0.108352</td>\n",
       "      <td>0.199074</td>\n",
       "      <td>0.336562</td>\n",
       "      <td>0.000349</td>\n",
       "      <td>0.912451</td>\n",
       "      <td>[My Loved One Has Dementia. What Do I Do?]</td>\n",
       "      <td>Wandering is common among people with dementia...</td>\n",
       "    </tr>\n",
       "  </tbody>\n",
       "</table>\n",
       "<p>5 rows × 27 columns</p>\n",
       "</div>"
      ],
      "text/plain": [
       "\n",
       "        id                                       Content.Name  \\\n",
       "\u001b[1;36m0\u001b[0m  \u001b[1;36m1443022\u001b[0m           How To Identify And Deal With Depression   \n",
       "\u001b[1;36m1\u001b[0m  \u001b[1;36m1444928\u001b[0m     Signs of Stress: Could Stress Be Good for You?   \n",
       "\u001b[1;36m2\u001b[0m  \u001b[1;36m1442901\u001b[0m  Coping with your two-year-old: when a firm han\u001b[33m...\u001b[0m   \n",
       "\u001b[1;36m3\u001b[0m  \u001b[1;36m1445194\u001b[0m         Common Eye Conditions in Your Pre-Schooler   \n",
       "\u001b[1;36m4\u001b[0m  \u001b[1;36m1445895\u001b[0m               Managing Wandering Dementia Patients   \n",
       "\n",
       "                            LiveHealthyArticle_Title  \\\n",
       "\u001b[1;36m0\u001b[0m           How To Identify And Deal With Depression   \n",
       "\u001b[1;36m1\u001b[0m     Signs of Stress: Could Stress Be Good for You?   \n",
       "\u001b[1;36m2\u001b[0m  Coping with your two-year-old: when a firm han\u001b[33m...\u001b[0m   \n",
       "\u001b[1;36m3\u001b[0m         Common Eye Conditions in Your Pre-Schooler   \n",
       "\u001b[1;36m4\u001b[0m               Managing Wandering Dementia Patients   \n",
       "\n",
       "  LiveHealthyArticle_ArticleCateName  \\\n",
       "\u001b[1;36m0\u001b[0m          Conditions and Illnesses,   \n",
       "\u001b[1;36m1\u001b[0m                  Mind and Balance,   \n",
       "\u001b[1;36m2\u001b[0m                                NaN   \n",
       "\u001b[1;36m3\u001b[0m   Body Care,Child and Teen Health,   \n",
       "\u001b[1;36m4\u001b[0m          Conditions and Illnesses,   \n",
       "\n",
       "                      LiveHealthyArticle_CoverImgUrl  \\\n",
       "\u001b[1;36m0\u001b[0m  \u001b[4;94mhttps://ch-api.healthhub.sg/api/public/content...\u001b[0m   \n",
       "\u001b[1;36m1\u001b[0m  \u001b[4;94mhttps://ch-api.healthhub.sg/api/public/content...\u001b[0m   \n",
       "\u001b[1;36m2\u001b[0m  \u001b[4;94mhttps://ch-api.healthhub.sg/api/public/content...\u001b[0m   \n",
       "\u001b[1;36m3\u001b[0m  \u001b[4;94mhttps://ch-api.healthhub.sg/api/public/content...\u001b[0m   \n",
       "\u001b[1;36m4\u001b[0m  \u001b[4;94mhttps://ch-api.healthhub.sg/api/public/content...\u001b[0m   \n",
       "\n",
       "                          LiveHealthyArticle_FullUrl  \\\n",
       "\u001b[1;36m0\u001b[0m  \u001b[4;94mhttps://www.healthhub.sg/live-healthy/how-to-i...\u001b[0m   \n",
       "\u001b[1;36m1\u001b[0m  \u001b[4;94mhttps://www.healthhub.sg/live-healthy/stress_c...\u001b[0m   \n",
       "\u001b[1;36m2\u001b[0m  \u001b[4;94mhttps://www.healthhub.sg/live-healthy/baby-cop...\u001b[0m   \n",
       "\u001b[1;36m3\u001b[0m  \u001b[4;94mhttps://www.healthhub.sg/live-healthy/eye-care...\u001b[0m   \n",
       "\u001b[1;36m4\u001b[0m  \u001b[4;94mhttps://www.healthhub.sg/live-healthy/managing...\u001b[0m   \n",
       "\n",
       "                         LiveHealthyArticle_FullUrl2  \\\n",
       "\u001b[1;36m0\u001b[0m  www.healthhub.sg/live-healthy/how-to-identify-\u001b[33m...\u001b[0m   \n",
       "\u001b[1;36m1\u001b[0m  www.healthhub.sg/live-healthy/stress_can_be_go\u001b[33m...\u001b[0m   \n",
       "\u001b[1;36m2\u001b[0m  www.healthhub.sg/live-healthy/baby-coping-with\u001b[33m...\u001b[0m   \n",
       "\u001b[1;36m3\u001b[0m  www.healthhub.sg/live-healthy/eye-care-for-pre\u001b[33m...\u001b[0m   \n",
       "\u001b[1;36m4\u001b[0m  www.healthhub.sg/live-healthy/managing-wanderi\u001b[33m...\u001b[0m   \n",
       "\n",
       "                      LiveHealthyArticle_FriendlyUrl  \\\n",
       "\u001b[1;36m0\u001b[0m           how-to-identify-and-deal-with-depression   \n",
       "\u001b[1;36m1\u001b[0m                         stress_can_be_good_for_you   \n",
       "\u001b[1;36m2\u001b[0m  baby-coping-with-your-\u001b[1;36m2\u001b[0m-year-old-when-a-firm-h\u001b[33m...\u001b[0m   \n",
       "\u001b[1;36m3\u001b[0m                          eye-care-for-pre-schooler   \n",
       "\u001b[1;36m4\u001b[0m           managing-wandering-behaviour-in-dementia   \n",
       "\n",
       "                      LiveHealthyArticle_CategoryDes  \\\n",
       "\u001b[1;36m0\u001b[0m  Learn how to spot the signs of depression, get\u001b[33m...\u001b[0m   \n",
       "\u001b[1;36m1\u001b[0m  Stressful situations, whether at school or at \u001b[33m...\u001b[0m   \n",
       "\u001b[1;36m2\u001b[0m  Your two-year-old can be a handful. But here a\u001b[33m...\u001b[0m   \n",
       "\u001b[1;36m3\u001b[0m  Learn about the common eye conditions your chi\u001b[33m...\u001b[0m   \n",
       "\u001b[1;36m4\u001b[0m  One of your family members has just been diagn\u001b[33m...\u001b[0m   \n",
       "\n",
       "                     LiveHealthyArticle_Content_Body  \u001b[33m...\u001b[0m  \\\n",
       "\u001b[1;36m0\u001b[0m  <div \u001b[33mclass\u001b[0m=\u001b[35m\"ExternalClass46FF4530AAF64858A79C3\u001b[0m\u001b[33m...\u001b[0m  \u001b[33m...\u001b[0m   \n",
       "\u001b[1;36m1\u001b[0m  <div \u001b[33mclass\u001b[0m=\u001b[35m\"ExternalClassA58275AB1DD8443085927\u001b[0m\u001b[33m...\u001b[0m  \u001b[33m...\u001b[0m   \n",
       "\u001b[1;36m2\u001b[0m  <div \u001b[33mclass\u001b[0m=\u001b[35m\"ExternalClass5E6AB2968188425D9CEDB\u001b[0m\u001b[33m...\u001b[0m  \u001b[33m...\u001b[0m   \n",
       "\u001b[1;36m3\u001b[0m  <div \u001b[33mclass\u001b[0m=\u001b[35m\"ExternalClass4D426A5EDDCF40BA8C223\u001b[0m\u001b[33m...\u001b[0m  \u001b[33m...\u001b[0m   \n",
       "\u001b[1;36m4\u001b[0m  <div \u001b[33mclass\u001b[0m=\u001b[35m\"ExternalClassB401DB0539BD4790885E5\u001b[0m\u001b[33m...\u001b[0m  \u001b[33m...\u001b[0m   \n",
       "\n",
       "  LiveHealthyArticle_LastTwoMonthsView Page Views Engagement Rate Bounce Rate  \\\n",
       "\u001b[1;36m0\u001b[0m                               \u001b[1;36m1947.0\u001b[0m       \u001b[1;36m1622\u001b[0m        \u001b[1;36m0.863296\u001b[0m    \u001b[1;36m0.136704\u001b[0m   \n",
       "\u001b[1;36m1\u001b[0m                                \u001b[1;36m159.0\u001b[0m        \u001b[1;36m331\u001b[0m        \u001b[1;36m0.883784\u001b[0m    \u001b[1;36m0.116216\u001b[0m   \n",
       "\u001b[1;36m2\u001b[0m                                 \u001b[1;36m81.0\u001b[0m        \u001b[1;36m650\u001b[0m        \u001b[1;36m0.808219\u001b[0m    \u001b[1;36m0.191781\u001b[0m   \n",
       "\u001b[1;36m3\u001b[0m                                  \u001b[1;36m0.0\u001b[0m       \u001b[1;36m1244\u001b[0m        \u001b[1;36m0.831234\u001b[0m    \u001b[1;36m0.168766\u001b[0m   \n",
       "\u001b[1;36m4\u001b[0m                                 \u001b[1;36m32.0\u001b[0m        \u001b[1;36m413\u001b[0m        \u001b[1;36m0.891648\u001b[0m    \u001b[1;36m0.108352\u001b[0m   \n",
       "\n",
       "  Exit Rate  Scroll %  % of Total Views  Cumulative % of Total Views  \\\n",
       "\u001b[1;36m0\u001b[0m  \u001b[1;36m0.549711\u001b[0m  \u001b[1;36m0.364365\u001b[0m          \u001b[1;36m0.001371\u001b[0m                     \u001b[1;36m0.575815\u001b[0m   \n",
       "\u001b[1;36m1\u001b[0m  \u001b[1;36m0.000000\u001b[0m  \u001b[1;36m0.306647\u001b[0m          \u001b[1;36m0.000280\u001b[0m                     \u001b[1;36m0.938865\u001b[0m   \n",
       "\u001b[1;36m2\u001b[0m  \u001b[1;36m0.583815\u001b[0m  \u001b[1;36m0.366923\u001b[0m          \u001b[1;36m0.000549\u001b[0m                     \u001b[1;36m0.825824\u001b[0m   \n",
       "\u001b[1;36m3\u001b[0m  \u001b[1;36m0.531587\u001b[0m  \u001b[1;36m0.398513\u001b[0m          \u001b[1;36m0.001051\u001b[0m                     \u001b[1;36m0.655277\u001b[0m   \n",
       "\u001b[1;36m4\u001b[0m  \u001b[1;36m0.199074\u001b[0m  \u001b[1;36m0.336562\u001b[0m          \u001b[1;36m0.000349\u001b[0m                     \u001b[1;36m0.912451\u001b[0m   \n",
       "\n",
       "                                    related_sections  \\\n",
       "\u001b[1;36m0\u001b[0m  \u001b[1m[\u001b[0mMyths and Misconceptions About Depression, Co\u001b[33m...\u001b[0m   \n",
       "\u001b[1;36m1\u001b[0m  \u001b[1m[\u001b[0m_x000D_ Exam Stress Busting Tips, _x000D_ \u001b[1;36m6\u001b[0m M\u001b[33m...\u001b[0m   \n",
       "\u001b[1;36m2\u001b[0m                                                 \u001b[1m[\u001b[0m\u001b[1m]\u001b[0m   \n",
       "\u001b[1;36m3\u001b[0m  \u001b[1m[\u001b[0mHealthy Eyes, Clear Vision, Different Spectac\u001b[33m...\u001b[0m   \n",
       "\u001b[1;36m4\u001b[0m         \u001b[1m[\u001b[0mMy Loved One Has Dementia. What Do I Do?\u001b[1m]\u001b[0m   \n",
       "\n",
       "                              extracted_content_body  \n",
       "\u001b[1;36m0\u001b[0m  Signs of Depression\\nIt is normal to feel sad \u001b[33m...\u001b[0m  \n",
       "\u001b[1;36m1\u001b[0m  Stress Can Be Your Friend\\nWhen examinations a\u001b[33m...\u001b[0m  \n",
       "\u001b[1;36m2\u001b[0m  How to Deal with Two Year Old Tantrums?\\nAs ba\u001b[33m...\u001b[0m  \n",
       "\u001b[1;36m3\u001b[0m  In Singapore, children are also becoming myopi\u001b[33m...\u001b[0m  \n",
       "\u001b[1;36m4\u001b[0m  Wandering is common among people with dementia\u001b[33m...\u001b[0m  \n",
       "\n",
       "\u001b[1m[\u001b[0m\u001b[1;36m5\u001b[0m rows x \u001b[1;36m27\u001b[0m columns\u001b[1m]\u001b[0m"
      ]
     },
     "execution_count": 19,
     "metadata": {},
     "output_type": "execute_result"
    }
   ],
   "source": [
    "tmp"
   ]
  },
  {
   "cell_type": "code",
   "execution_count": null,
   "metadata": {},
   "outputs": [],
   "source": []
  }
 ],
 "metadata": {
  "kernelspec": {
   "display_name": "content-opt",
   "language": "python",
   "name": "python3"
  },
  "language_info": {
   "codemirror_mode": {
    "name": "ipython",
    "version": 3
   },
   "file_extension": ".py",
   "mimetype": "text/x-python",
   "name": "python",
   "nbconvert_exporter": "python",
   "pygments_lexer": "ipython3",
   "version": "3.12.4"
  }
 },
 "nbformat": 4,
 "nbformat_minor": 2
}
