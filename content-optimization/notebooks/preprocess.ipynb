{
 "cells": [
  {
   "cell_type": "code",
   "execution_count": 1,
   "metadata": {},
   "outputs": [
    {
     "data": {
      "text/html": [
       "<pre style=\"white-space:pre;overflow-x:auto;line-height:normal;font-family:Menlo,'DejaVu Sans Mono',consolas,'Courier New',monospace\"><span style=\"color: #7fbfbf; text-decoration-color: #7fbfbf\">[06/27/24 13:29:18] </span><span style=\"color: #000080; text-decoration-color: #000080\">INFO    </span> Registered line magic <span style=\"color: #008000; text-decoration-color: #008000\">'%reload_kedro'</span>                                   <a href=\"file:///opt/anaconda3/envs/content-opt/lib/python3.12/site-packages/kedro/ipython/__init__.py\" target=\"_blank\"><span style=\"color: #7f7f7f; text-decoration-color: #7f7f7f\">__init__.py</span></a><span style=\"color: #7f7f7f; text-decoration-color: #7f7f7f\">:</span><a href=\"file:///opt/anaconda3/envs/content-opt/lib/python3.12/site-packages/kedro/ipython/__init__.py#58\" target=\"_blank\"><span style=\"color: #7f7f7f; text-decoration-color: #7f7f7f\">58</span></a>\n",
       "</pre>\n"
      ],
      "text/plain": [
       "\u001b[2;36m[06/27/24 13:29:18]\u001b[0m\u001b[2;36m \u001b[0m\u001b[34mINFO    \u001b[0m Registered line magic \u001b[32m'%reload_kedro'\u001b[0m                                   \u001b]8;id=906494;file:///opt/anaconda3/envs/content-opt/lib/python3.12/site-packages/kedro/ipython/__init__.py\u001b\\\u001b[2m__init__.py\u001b[0m\u001b]8;;\u001b\\\u001b[2m:\u001b[0m\u001b]8;id=579557;file:///opt/anaconda3/envs/content-opt/lib/python3.12/site-packages/kedro/ipython/__init__.py#58\u001b\\\u001b[2m58\u001b[0m\u001b]8;;\u001b\\\n"
      ]
     },
     "metadata": {},
     "output_type": "display_data"
    },
    {
     "data": {
      "text/html": [
       "<pre style=\"white-space:pre;overflow-x:auto;line-height:normal;font-family:Menlo,'DejaVu Sans Mono',consolas,'Courier New',monospace\"><span style=\"color: #7fbfbf; text-decoration-color: #7fbfbf\">                    </span><span style=\"color: #000080; text-decoration-color: #000080\">INFO    </span> Registered line magic <span style=\"color: #008000; text-decoration-color: #008000\">'%load_node'</span>                                      <a href=\"file:///opt/anaconda3/envs/content-opt/lib/python3.12/site-packages/kedro/ipython/__init__.py\" target=\"_blank\"><span style=\"color: #7f7f7f; text-decoration-color: #7f7f7f\">__init__.py</span></a><span style=\"color: #7f7f7f; text-decoration-color: #7f7f7f\">:</span><a href=\"file:///opt/anaconda3/envs/content-opt/lib/python3.12/site-packages/kedro/ipython/__init__.py#60\" target=\"_blank\"><span style=\"color: #7f7f7f; text-decoration-color: #7f7f7f\">60</span></a>\n",
       "</pre>\n"
      ],
      "text/plain": [
       "\u001b[2;36m                   \u001b[0m\u001b[2;36m \u001b[0m\u001b[34mINFO    \u001b[0m Registered line magic \u001b[32m'%load_node'\u001b[0m                                      \u001b]8;id=788792;file:///opt/anaconda3/envs/content-opt/lib/python3.12/site-packages/kedro/ipython/__init__.py\u001b\\\u001b[2m__init__.py\u001b[0m\u001b]8;;\u001b\\\u001b[2m:\u001b[0m\u001b]8;id=762238;file:///opt/anaconda3/envs/content-opt/lib/python3.12/site-packages/kedro/ipython/__init__.py#60\u001b\\\u001b[2m60\u001b[0m\u001b]8;;\u001b\\\n"
      ]
     },
     "metadata": {},
     "output_type": "display_data"
    },
    {
     "data": {
      "text/html": [
       "<pre style=\"white-space:pre;overflow-x:auto;line-height:normal;font-family:Menlo,'DejaVu Sans Mono',consolas,'Courier New',monospace\"><span style=\"color: #7fbfbf; text-decoration-color: #7fbfbf\">                    </span><span style=\"color: #000080; text-decoration-color: #000080\">INFO    </span> Resolved project path as: <span style=\"color: #800080; text-decoration-color: #800080\">/Users/wilsvenleong/Downloads/</span><span style=\"color: #ff00ff; text-decoration-color: #ff00ff\">Learning</span>       <a href=\"file:///opt/anaconda3/envs/content-opt/lib/python3.12/site-packages/kedro/ipython/__init__.py\" target=\"_blank\"><span style=\"color: #7f7f7f; text-decoration-color: #7f7f7f\">__init__.py</span></a><span style=\"color: #7f7f7f; text-decoration-color: #7f7f7f\">:</span><a href=\"file:///opt/anaconda3/envs/content-opt/lib/python3.12/site-packages/kedro/ipython/__init__.py#171\" target=\"_blank\"><span style=\"color: #7f7f7f; text-decoration-color: #7f7f7f\">171</span></a>\n",
       "<span style=\"color: #7fbfbf; text-decoration-color: #7fbfbf\">                    </span>         Materials/healthhub-content-optimization/content-optimization.         <span style=\"color: #7f7f7f; text-decoration-color: #7f7f7f\">               </span>\n",
       "<span style=\"color: #7fbfbf; text-decoration-color: #7fbfbf\">                    </span>         To set a different path, run <span style=\"color: #008000; text-decoration-color: #008000\">'%reload_kedro &lt;project_root&gt;'</span>            <span style=\"color: #7f7f7f; text-decoration-color: #7f7f7f\">               </span>\n",
       "</pre>\n"
      ],
      "text/plain": [
       "\u001b[2;36m                   \u001b[0m\u001b[2;36m \u001b[0m\u001b[34mINFO    \u001b[0m Resolved project path as: \u001b[35m/Users/wilsvenleong/Downloads/\u001b[0m\u001b[95mLearning\u001b[0m       \u001b]8;id=722004;file:///opt/anaconda3/envs/content-opt/lib/python3.12/site-packages/kedro/ipython/__init__.py\u001b\\\u001b[2m__init__.py\u001b[0m\u001b]8;;\u001b\\\u001b[2m:\u001b[0m\u001b]8;id=293182;file:///opt/anaconda3/envs/content-opt/lib/python3.12/site-packages/kedro/ipython/__init__.py#171\u001b\\\u001b[2m171\u001b[0m\u001b]8;;\u001b\\\n",
       "\u001b[2;36m                    \u001b[0m         Materials/healthhub-content-optimization/content-optimization.         \u001b[2m               \u001b[0m\n",
       "\u001b[2;36m                    \u001b[0m         To set a different path, run \u001b[32m'%reload_kedro \u001b[0m\u001b[32m<\u001b[0m\u001b[32mproject_root\u001b[0m\u001b[32m>\u001b[0m\u001b[32m'\u001b[0m            \u001b[2m               \u001b[0m\n"
      ]
     },
     "metadata": {},
     "output_type": "display_data"
    },
    {
     "data": {
      "text/html": [
       "<pre style=\"white-space:pre;overflow-x:auto;line-height:normal;font-family:Menlo,'DejaVu Sans Mono',consolas,'Courier New',monospace\"><span style=\"color: #7fbfbf; text-decoration-color: #7fbfbf\">[06/27/24 13:29:19] </span><span style=\"color: #000080; text-decoration-color: #000080\">INFO    </span> Kedro project Content Optimization                                     <a href=\"file:///opt/anaconda3/envs/content-opt/lib/python3.12/site-packages/kedro/ipython/__init__.py\" target=\"_blank\"><span style=\"color: #7f7f7f; text-decoration-color: #7f7f7f\">__init__.py</span></a><span style=\"color: #7f7f7f; text-decoration-color: #7f7f7f\">:</span><a href=\"file:///opt/anaconda3/envs/content-opt/lib/python3.12/site-packages/kedro/ipython/__init__.py#141\" target=\"_blank\"><span style=\"color: #7f7f7f; text-decoration-color: #7f7f7f\">141</span></a>\n",
       "</pre>\n"
      ],
      "text/plain": [
       "\u001b[2;36m[06/27/24 13:29:19]\u001b[0m\u001b[2;36m \u001b[0m\u001b[34mINFO    \u001b[0m Kedro project Content Optimization                                     \u001b]8;id=515682;file:///opt/anaconda3/envs/content-opt/lib/python3.12/site-packages/kedro/ipython/__init__.py\u001b\\\u001b[2m__init__.py\u001b[0m\u001b]8;;\u001b\\\u001b[2m:\u001b[0m\u001b]8;id=288557;file:///opt/anaconda3/envs/content-opt/lib/python3.12/site-packages/kedro/ipython/__init__.py#141\u001b\\\u001b[2m141\u001b[0m\u001b]8;;\u001b\\\n"
      ]
     },
     "metadata": {},
     "output_type": "display_data"
    },
    {
     "data": {
      "text/html": [
       "<pre style=\"white-space:pre;overflow-x:auto;line-height:normal;font-family:Menlo,'DejaVu Sans Mono',consolas,'Courier New',monospace\"><span style=\"color: #7fbfbf; text-decoration-color: #7fbfbf\">                    </span><span style=\"color: #000080; text-decoration-color: #000080\">INFO    </span> Defined global variable <span style=\"color: #008000; text-decoration-color: #008000\">'context'</span>, <span style=\"color: #008000; text-decoration-color: #008000\">'session'</span>, <span style=\"color: #008000; text-decoration-color: #008000\">'catalog'</span> and            <a href=\"file:///opt/anaconda3/envs/content-opt/lib/python3.12/site-packages/kedro/ipython/__init__.py\" target=\"_blank\"><span style=\"color: #7f7f7f; text-decoration-color: #7f7f7f\">__init__.py</span></a><span style=\"color: #7f7f7f; text-decoration-color: #7f7f7f\">:</span><a href=\"file:///opt/anaconda3/envs/content-opt/lib/python3.12/site-packages/kedro/ipython/__init__.py#142\" target=\"_blank\"><span style=\"color: #7f7f7f; text-decoration-color: #7f7f7f\">142</span></a>\n",
       "<span style=\"color: #7fbfbf; text-decoration-color: #7fbfbf\">                    </span>         <span style=\"color: #008000; text-decoration-color: #008000\">'pipelines'</span>                                                            <span style=\"color: #7f7f7f; text-decoration-color: #7f7f7f\">               </span>\n",
       "</pre>\n"
      ],
      "text/plain": [
       "\u001b[2;36m                   \u001b[0m\u001b[2;36m \u001b[0m\u001b[34mINFO    \u001b[0m Defined global variable \u001b[32m'context'\u001b[0m, \u001b[32m'session'\u001b[0m, \u001b[32m'catalog'\u001b[0m and            \u001b]8;id=195446;file:///opt/anaconda3/envs/content-opt/lib/python3.12/site-packages/kedro/ipython/__init__.py\u001b\\\u001b[2m__init__.py\u001b[0m\u001b]8;;\u001b\\\u001b[2m:\u001b[0m\u001b]8;id=348094;file:///opt/anaconda3/envs/content-opt/lib/python3.12/site-packages/kedro/ipython/__init__.py#142\u001b\\\u001b[2m142\u001b[0m\u001b]8;;\u001b\\\n",
       "\u001b[2;36m                    \u001b[0m         \u001b[32m'pipelines'\u001b[0m                                                            \u001b[2m               \u001b[0m\n"
      ]
     },
     "metadata": {},
     "output_type": "display_data"
    },
    {
     "data": {
      "text/html": [
       "<pre style=\"white-space:pre;overflow-x:auto;line-height:normal;font-family:Menlo,'DejaVu Sans Mono',consolas,'Courier New',monospace\"><span style=\"color: #7fbfbf; text-decoration-color: #7fbfbf\">                    </span><span style=\"color: #000080; text-decoration-color: #000080\">INFO    </span> Registered line magic <span style=\"color: #008000; text-decoration-color: #008000\">'run_viz'</span>                                        <a href=\"file:///opt/anaconda3/envs/content-opt/lib/python3.12/site-packages/kedro/ipython/__init__.py\" target=\"_blank\"><span style=\"color: #7f7f7f; text-decoration-color: #7f7f7f\">__init__.py</span></a><span style=\"color: #7f7f7f; text-decoration-color: #7f7f7f\">:</span><a href=\"file:///opt/anaconda3/envs/content-opt/lib/python3.12/site-packages/kedro/ipython/__init__.py#148\" target=\"_blank\"><span style=\"color: #7f7f7f; text-decoration-color: #7f7f7f\">148</span></a>\n",
       "</pre>\n"
      ],
      "text/plain": [
       "\u001b[2;36m                   \u001b[0m\u001b[2;36m \u001b[0m\u001b[34mINFO    \u001b[0m Registered line magic \u001b[32m'run_viz'\u001b[0m                                        \u001b]8;id=337081;file:///opt/anaconda3/envs/content-opt/lib/python3.12/site-packages/kedro/ipython/__init__.py\u001b\\\u001b[2m__init__.py\u001b[0m\u001b]8;;\u001b\\\u001b[2m:\u001b[0m\u001b]8;id=532065;file:///opt/anaconda3/envs/content-opt/lib/python3.12/site-packages/kedro/ipython/__init__.py#148\u001b\\\u001b[2m148\u001b[0m\u001b]8;;\u001b\\\n"
      ]
     },
     "metadata": {},
     "output_type": "display_data"
    }
   ],
   "source": [
    "%load_ext kedro.ipython"
   ]
  },
  {
   "cell_type": "code",
   "execution_count": 2,
   "metadata": {},
   "outputs": [],
   "source": [
    "import re\n",
    "import unicodedata\n",
    "\n",
    "import pandas as pd\n",
    "from bs4 import BeautifulSoup"
   ]
  },
  {
   "cell_type": "code",
   "execution_count": 3,
   "metadata": {},
   "outputs": [],
   "source": [
    "class HTMLExtractor:\n",
    "    \"\"\"\n",
    "    A class to extract and process various elements from HTML content\n",
    "    using BeautifulSoup.\n",
    "\n",
    "    Attributes:\n",
    "        soup (BeautifulSoup): A BeautifulSoup object.\n",
    "    \"\"\"\n",
    "\n",
    "    def __init__(self, html_content: str):\n",
    "        \"\"\"\n",
    "        Initializes the HTMLExtractor with the given HTML content.\n",
    "\n",
    "        Args:\n",
    "            html_content (str): The HTML content to be processed.\n",
    "        \"\"\"\n",
    "        self.soup = self.preprocess_html(html_content)\n",
    "\n",
    "    @classmethod\n",
    "    def clean_text(cls, text: str) -> str:\n",
    "        \"\"\"\n",
    "        Cleans the given text by normalizing Unicode characters,\n",
    "        handling special symbols, replacing problematic characters,\n",
    "        and removing multiple whitespace.\n",
    "\n",
    "        Args:\n",
    "            text (str): The input text to be cleaned.\n",
    "\n",
    "        Returns:\n",
    "            str: The cleaned text.\n",
    "        \"\"\"\n",
    "        # Normalize Unicode characters\n",
    "        text = unicodedata.normalize(\"NFKD\", text)\n",
    "        # Use ASCII encoding to handle special symbols e.g. copyright \\xa9\n",
    "        text = text.encode(\"ascii\", \"ignore\").decode(\"utf-8\")\n",
    "\n",
    "        # Replace common problematic characters\n",
    "        text = text.replace(\"\\xa0\", \" \")  # non-breaking space\n",
    "        text = text.replace(\"\\u200b\", \"\")  # zero-width space\n",
    "        text = text.replace(\"\\u2028\", \"\\n\")  # line separator\n",
    "        text = text.replace(\"\\u2029\", \"\\n\")  # paragraph separator\n",
    "\n",
    "        # Replace multiple whitespace with single space\n",
    "        text = re.sub(r\"\\s+\", \" \", text)\n",
    "        return text.strip()\n",
    "\n",
    "    @classmethod\n",
    "    def preprocess_html(cls, html_content: str) -> BeautifulSoup:\n",
    "        \"\"\"\n",
    "        Preprocesses the given HTML content by replacing all <br>\n",
    "        tags with newline characters.\n",
    "\n",
    "        Args:\n",
    "            html_content (str): The HTML content to be preprocessed.\n",
    "\n",
    "        Returns:\n",
    "            BeautifulSoup: The preprocessed HTML content as a BeautifulSoup object.\n",
    "        \"\"\"\n",
    "        soup = BeautifulSoup(html_content, \"html.parser\")\n",
    "\n",
    "        # Find all <br> tags and replace them with newline\n",
    "        for br in soup.find_all(\"br\"):\n",
    "            br.replace_with(\"\\n\")\n",
    "\n",
    "        return soup\n",
    "\n",
    "    def extract_related_sections(self) -> list[str]:\n",
    "        \"\"\"\n",
    "        Extracts \"Related:\" sections and \"Read these next:\" items from the HTML content.\n",
    "\n",
    "        Returns:\n",
    "            list[str]: A list of related sections and \"Read these next:\" items.\n",
    "        \"\"\"\n",
    "        related_sections = []\n",
    "        read_these_next_ul = None\n",
    "        # Extract \"Related:\" sections and \"Read these next:\" items\n",
    "        for tag in self.soup.find_all([\"p\", \"ul\"]):\n",
    "            if tag.name == \"p\" and tag.find(\"strong\"):\n",
    "                if \"Related:\" in tag.text:\n",
    "                    related_sections.append(\n",
    "                        re.sub(r\"Related: \", \"\", self.clean_text(tag.text))\n",
    "                    )\n",
    "                elif \"Read these next:\" in tag.text:\n",
    "                    read_these_next_ul = tag.find_next_sibling(\"ul\")\n",
    "            elif tag == read_these_next_ul:\n",
    "                for li in tag.find_all(\"li\"):\n",
    "                    related_sections.append(self.clean_text(li.text))\n",
    "\n",
    "        return related_sections\n",
    "\n",
    "    def extract_text(self) -> str:\n",
    "        \"\"\"\n",
    "        Extracts the main content from the HTML content.\n",
    "\n",
    "        Returns:\n",
    "            str: The main content extracted from the HTML content.\n",
    "\n",
    "        Note:\n",
    "            This function unwraps the HTML content if it is contained in a <div>. It then extracts the\n",
    "            main content by iterating over the tags in the soup. The following tags are considered:\n",
    "\n",
    "                - h1, h2, h3, h4, h5, h6: These tags are treated as key headers and are paragraphed between them.\n",
    "                - p: This tag is treated as a paragraph. <em> tags are removed from the text.\n",
    "                    * If the text does not contain sentences about HealthHub app, Google Play, or Apple Store,\n",
    "                    and it contains a strong tag, it is treated differently based on the text content.\n",
    "                - ul: This tag is treated as an unordered list. If it is the child of a <div>, it is treated as a list.\n",
    "                - ol: This tag is treated as an ordered list.\n",
    "                - div: This tag is treated as a text within a div.\n",
    "\n",
    "            The extracted content is stored in a list and then processed. Double newlines are replaced with single\n",
    "            newlines and whitespace is stripped. If the processed text is empty, the function attempts to extract the\n",
    "            content from the <div> tags.\n",
    "        \"\"\"\n",
    "        # Unwrap if the HTML content is contained in a div\n",
    "        if self.soup.div is not None:\n",
    "            self.soup.div.unwrap()\n",
    "\n",
    "        # Extract the main content\n",
    "        content = []\n",
    "        for tag in self.soup.find_all(\n",
    "            [\"h1\", \"h2\", \"h3\", \"h4\", \"h5\", \"h6\", \"div\", \"p\", \"ul\", \"ol\"]\n",
    "        ):\n",
    "            if tag.name in [\"h1\", \"h2\", \"h3\", \"h4\", \"h5\", \"h6\"]:\n",
    "                # Provide paragraphing between key headers\n",
    "                content.append(\"\\n\")\n",
    "                content.append(self.clean_text(tag.text))\n",
    "\n",
    "            elif tag.name == \"p\":\n",
    "                # Remove all em tags\n",
    "                for em in tag.find_all(\"em\"):\n",
    "                    em.extract()\n",
    "                # Get the remaining text\n",
    "                text = tag.get_text()\n",
    "                # Remove sentences about HealthHub app, Google Play, and Apple Store\n",
    "                if not re.search(\n",
    "                    r\"(HealthHub app|Google Play|Apple Store|Parent Hub|References)\",\n",
    "                    text,\n",
    "                ):\n",
    "                    if tag.find(\"strong\"):\n",
    "                        if \"Related:\" in tag.text:\n",
    "                            text = self.clean_text(tag.text)\n",
    "                            content.append(re.sub(r\"\\n\", \" \", text))\n",
    "                        elif \"Read these next:\" in tag.text:\n",
    "                            content.append(self.clean_text(tag.text))\n",
    "                    else:\n",
    "                        content.append(self.clean_text(text))\n",
    "            # For unordered lists\n",
    "            elif (\n",
    "                tag.name == \"ul\" and tag.parent.name == \"div\"\n",
    "            ):  # not \"ul\" so we avoid duplicates\n",
    "                for li in tag.find_all(\"li\"):\n",
    "                    content.append(\"- \" + self.clean_text(li.text))\n",
    "            # For ordered lists\n",
    "            elif tag.name == \"ol\":\n",
    "                for i, li in enumerate(tag.find_all(\"li\")):\n",
    "                    content.append(f\"{i + 1}. \" + self.clean_text(li.text))\n",
    "            # For texts within div\n",
    "            elif tag.name == \"div\":\n",
    "                content.append(self.clean_text(tag.text))\n",
    "\n",
    "            content.append(\"\")  # Add a blank line after each element\n",
    "\n",
    "        # Remove empty strings from content\n",
    "        content = [c for c in content if c]\n",
    "\n",
    "        # Replace double newlines with single newlines and strip whitespace\n",
    "        processed_text = \"\\n\".join(content).replace(\"\\n\\n\", \"\\n\").strip()\n",
    "\n",
    "        # Edge case - HTML content contained in div tags\n",
    "        if processed_text.strip() == \"\":\n",
    "            content = []\n",
    "            # Unwrap if the HTML content is contained in a div\n",
    "            if self.soup.div is not None:\n",
    "                self.soup.div.unwrap()\n",
    "                # For texts within div\n",
    "                for tag in self.soup.find_all(\"div\"):\n",
    "                    if tag.name == \"div\":\n",
    "                        content.append(self.clean_text(tag.text))\n",
    "\n",
    "                # Replace double newlines with single newlines and strip whitespace\n",
    "                processed_text = \"\\n\".join(content).replace(\"\\n\\n\", \"\\n\").strip()\n",
    "\n",
    "        return processed_text\n",
    "\n",
    "    def extract_links(self) -> list[tuple[str, str]]:\n",
    "        \"\"\"\n",
    "        Extracts the title and URL from all the anchor tags in the HTML content.\n",
    "\n",
    "        Returns:\n",
    "            list[tuple[str, str]]:\n",
    "                A list of tuples containing the title and URL of each anchor tag.\n",
    "        \"\"\"\n",
    "        url_records = []\n",
    "\n",
    "        # Extract title/text and links from anchor tags\n",
    "        for link in self.soup.find_all(\"a\"):\n",
    "            url = link.get(\"href\")\n",
    "            # Ignore footnotes\n",
    "            if url != \"#footnotes\":\n",
    "                text = link.get(\"title\") or link.get_text()\n",
    "                record = text, url\n",
    "                url_records.append(record)\n",
    "\n",
    "        return url_records\n",
    "\n",
    "    def extract_headers(self) -> list[tuple[str, str]]:\n",
    "        \"\"\"\n",
    "        Extracts the headers from the HTML content.\n",
    "\n",
    "        Returns:\n",
    "            list[tuple[str, str]]:\n",
    "                A list of tuples containing the text and tag name of\n",
    "                each header found in the HTML content.\n",
    "        \"\"\"\n",
    "        headers = []\n",
    "\n",
    "        for title in self.soup.find_all([\"h1\", \"h2\", \"h3\", \"h4\", \"h5\", \"h6\"]):\n",
    "            tag = title.name\n",
    "            text = title.get_text()\n",
    "            # Ignore References\n",
    "            if text != \"References\":\n",
    "                record = text, tag\n",
    "                headers.append(record)\n",
    "\n",
    "        return headers"
   ]
  },
  {
   "cell_type": "code",
   "execution_count": 4,
   "metadata": {},
   "outputs": [
    {
     "data": {
      "text/html": [
       "<pre style=\"white-space:pre;overflow-x:auto;line-height:normal;font-family:Menlo,'DejaVu Sans Mono',consolas,'Courier New',monospace\"></pre>\n"
      ],
      "text/plain": []
     },
     "metadata": {},
     "output_type": "display_data"
    },
    {
     "data": {
      "text/plain": [
       "\n",
       "\u001b[1m[\u001b[0m\n",
       "    \u001b[32m'all_contents'\u001b[0m,\n",
       "    \u001b[32m'all_contents_processed'\u001b[0m,\n",
       "    \u001b[32m'all_contents_extracted'\u001b[0m,\n",
       "    \u001b[32m'all_extracted_text'\u001b[0m,\n",
       "    \u001b[32m'parameters'\u001b[0m,\n",
       "    \u001b[32m'params:columns_to_keep'\u001b[0m,\n",
       "    \u001b[32m'params:columns_to_keep.cost-and-financing'\u001b[0m,\n",
       "    \u001b[32m'params:columns_to_keep.diseases-and-conditions'\u001b[0m,\n",
       "    \u001b[32m'params:columns_to_keep.health-statistics'\u001b[0m,\n",
       "    \u001b[32m'params:columns_to_keep.live-healthy-articles'\u001b[0m,\n",
       "    \u001b[32m'params:columns_to_keep.medical-care-and-facilities'\u001b[0m,\n",
       "    \u001b[32m'params:columns_to_keep.medications'\u001b[0m,\n",
       "    \u001b[32m'params:columns_to_keep.program-sub-pages'\u001b[0m,\n",
       "    \u001b[32m'params:columns_to_keep.programs'\u001b[0m,\n",
       "    \u001b[32m'params:columns_to_keep.support-group-and-others'\u001b[0m,\n",
       "    \u001b[32m'params:metadata'\u001b[0m,\n",
       "    \u001b[32m'params:metadata.cost-and-financing'\u001b[0m,\n",
       "    \u001b[32m'params:metadata.cost-and-financing.uuid'\u001b[0m,\n",
       "    \u001b[32m'params:metadata.cost-and-financing.content_title'\u001b[0m,\n",
       "    \u001b[32m'params:metadata.cost-and-financing.content_body'\u001b[0m,\n",
       "    \u001b[32m'params:metadata.diseases-and-conditions'\u001b[0m,\n",
       "    \u001b[32m'params:metadata.diseases-and-conditions.uuid'\u001b[0m,\n",
       "    \u001b[32m'params:metadata.diseases-and-conditions.content_title'\u001b[0m,\n",
       "    \u001b[32m'params:metadata.diseases-and-conditions.content_body'\u001b[0m,\n",
       "    \u001b[32m'params:metadata.health-statistics'\u001b[0m,\n",
       "    \u001b[32m'params:metadata.health-statistics.uuid'\u001b[0m,\n",
       "    \u001b[32m'params:metadata.health-statistics.content_title'\u001b[0m,\n",
       "    \u001b[32m'params:metadata.health-statistics.content_body'\u001b[0m,\n",
       "    \u001b[32m'params:metadata.live-healthy-articles'\u001b[0m,\n",
       "    \u001b[32m'params:metadata.live-healthy-articles.uuid'\u001b[0m,\n",
       "    \u001b[32m'params:metadata.live-healthy-articles.content_title'\u001b[0m,\n",
       "    \u001b[32m'params:metadata.live-healthy-articles.content_body'\u001b[0m,\n",
       "    \u001b[32m'params:metadata.medical-care-and-facilities'\u001b[0m,\n",
       "    \u001b[32m'params:metadata.medical-care-and-facilities.uuid'\u001b[0m,\n",
       "    \u001b[32m'params:metadata.medical-care-and-facilities.content_title'\u001b[0m,\n",
       "    \u001b[32m'params:metadata.medical-care-and-facilities.content_body'\u001b[0m,\n",
       "    \u001b[32m'params:metadata.medications'\u001b[0m,\n",
       "    \u001b[32m'params:metadata.medications.uuid'\u001b[0m,\n",
       "    \u001b[32m'params:metadata.medications.content_title'\u001b[0m,\n",
       "    \u001b[32m'params:metadata.medications.content_body'\u001b[0m,\n",
       "    \u001b[32m'params:metadata.program-sub-pages'\u001b[0m,\n",
       "    \u001b[32m'params:metadata.program-sub-pages.uuid'\u001b[0m,\n",
       "    \u001b[32m'params:metadata.program-sub-pages.content_title'\u001b[0m,\n",
       "    \u001b[32m'params:metadata.program-sub-pages.content_body'\u001b[0m,\n",
       "    \u001b[32m'params:metadata.programs'\u001b[0m,\n",
       "    \u001b[32m'params:metadata.programs.uuid'\u001b[0m,\n",
       "    \u001b[32m'params:metadata.programs.content_title'\u001b[0m,\n",
       "    \u001b[32m'params:metadata.programs.content_body'\u001b[0m,\n",
       "    \u001b[32m'params:metadata.support-group-and-others'\u001b[0m,\n",
       "    \u001b[32m'params:metadata.support-group-and-others.uuid'\u001b[0m,\n",
       "    \u001b[32m'params:metadata.support-group-and-others.content_title'\u001b[0m,\n",
       "    \u001b[32m'params:metadata.support-group-and-others.content_body'\u001b[0m\n",
       "\u001b[1m]\u001b[0m"
      ]
     },
     "execution_count": 4,
     "metadata": {},
     "output_type": "execute_result"
    }
   ],
   "source": [
    "# ruff: noqa: F821\n",
    "catalog.list()"
   ]
  },
  {
   "cell_type": "markdown",
   "metadata": {},
   "source": [
    "### Load all the contents"
   ]
  },
  {
   "cell_type": "code",
   "execution_count": 5,
   "metadata": {},
   "outputs": [
    {
     "data": {
      "text/html": [
       "<pre style=\"white-space:pre;overflow-x:auto;line-height:normal;font-family:Menlo,'DejaVu Sans Mono',consolas,'Courier New',monospace\"><span style=\"color: #7fbfbf; text-decoration-color: #7fbfbf\">                    </span><span style=\"color: #000080; text-decoration-color: #000080\">INFO    </span> Loading data from <span style=\"color: #ff8700; text-decoration-color: #ff8700\">all_contents</span> <span style=\"font-weight: bold\">(</span>PartitionedDataset<span style=\"font-weight: bold\">)</span><span style=\"color: #808000; text-decoration-color: #808000\">...</span>             <a href=\"file:///opt/anaconda3/envs/content-opt/lib/python3.12/site-packages/kedro/io/data_catalog.py\" target=\"_blank\"><span style=\"color: #7f7f7f; text-decoration-color: #7f7f7f\">data_catalog.py</span></a><span style=\"color: #7f7f7f; text-decoration-color: #7f7f7f\">:</span><a href=\"file:///opt/anaconda3/envs/content-opt/lib/python3.12/site-packages/kedro/io/data_catalog.py#508\" target=\"_blank\"><span style=\"color: #7f7f7f; text-decoration-color: #7f7f7f\">508</span></a>\n",
       "</pre>\n"
      ],
      "text/plain": [
       "\u001b[2;36m                   \u001b[0m\u001b[2;36m \u001b[0m\u001b[34mINFO    \u001b[0m Loading data from \u001b[38;5;208mall_contents\u001b[0m \u001b[1m(\u001b[0mPartitionedDataset\u001b[1m)\u001b[0m\u001b[33m...\u001b[0m             \u001b]8;id=310634;file:///opt/anaconda3/envs/content-opt/lib/python3.12/site-packages/kedro/io/data_catalog.py\u001b\\\u001b[2mdata_catalog.py\u001b[0m\u001b]8;;\u001b\\\u001b[2m:\u001b[0m\u001b]8;id=74897;file:///opt/anaconda3/envs/content-opt/lib/python3.12/site-packages/kedro/io/data_catalog.py#508\u001b\\\u001b[2m508\u001b[0m\u001b]8;;\u001b\\\n"
      ]
     },
     "metadata": {},
     "output_type": "display_data"
    },
    {
     "data": {
      "text/html": [
       "<pre style=\"white-space:pre;overflow-x:auto;line-height:normal;font-family:Menlo,'DejaVu Sans Mono',consolas,'Courier New',monospace\"></pre>\n"
      ],
      "text/plain": []
     },
     "metadata": {},
     "output_type": "display_data"
    },
    {
     "data": {
      "text/plain": [
       "\n",
       "\u001b[1m{\u001b[0m\n",
       "    \u001b[32m'export-published-cost-and-financing_14062024_data'\u001b[0m: \u001b[1m<\u001b[0m\u001b[1;95mbound\u001b[0m\u001b[39m method AbstractVersionedDataset.load of <kedro_datasets.pandas.excel_dataset.ExcelDataset object at \u001b[0m\u001b[1;36m0x1181a8c50\u001b[0m\u001b[39m>>,\u001b[0m\n",
       "\u001b[39m    \u001b[0m\u001b[32m'export-published-diseases-and-conditions_13062024_data'\u001b[0m\u001b[39m: <bound method AbstractVersionedDataset.load of <kedro_datasets.pandas.excel_dataset.ExcelDataset object at \u001b[0m\u001b[1;36m0x169ad8c20\u001b[0m\u001b[39m>>,\u001b[0m\n",
       "\u001b[39m    \u001b[0m\u001b[32m'export-published-health-statistics_14062024_data'\u001b[0m\u001b[39m: <bound method AbstractVersionedDataset.load of <kedro_datasets.pandas.excel_dataset.ExcelDataset object at \u001b[0m\u001b[1;36m0x1699e0530\u001b[0m\u001b[39m>>,\u001b[0m\n",
       "\u001b[39m    \u001b[0m\u001b[32m'export-published-live-healthy-articles_14062024_data'\u001b[0m\u001b[39m: <bound method AbstractVersionedDataset.load of <kedro_datasets.pandas.excel_dataset.ExcelDataset object at \u001b[0m\u001b[1;36m0x169aee330\u001b[0m\u001b[39m>>,\u001b[0m\n",
       "\u001b[39m    \u001b[0m\u001b[32m'export-published-medical-care-and-facilities_14062024_data'\u001b[0m\u001b[39m: <bound method AbstractVersionedDataset.load of <kedro_datasets.pandas.excel_dataset.ExcelDataset object at \u001b[0m\u001b[1;36m0x169aeeb10\u001b[0m\u001b[39m>>,\u001b[0m\n",
       "\u001b[39m    \u001b[0m\u001b[32m'export-published-medications_14062024_data'\u001b[0m\u001b[39m: <bound method AbstractVersionedDataset.load of <kedro_datasets.pandas.excel_dataset.ExcelDataset object at \u001b[0m\u001b[1;36m0x16982e1e0\u001b[0m\u001b[39m>>,\u001b[0m\n",
       "\u001b[39m    \u001b[0m\u001b[32m'export-published-program-sub-pages_14062024_data'\u001b[0m\u001b[39m: <bound method AbstractVersionedDataset.load of <kedro_datasets.pandas.excel_dataset.ExcelDataset object at \u001b[0m\u001b[1;36m0x169aed5b0\u001b[0m\u001b[39m>>,\u001b[0m\n",
       "\u001b[39m    \u001b[0m\u001b[32m'export-published-programs_14062024_data'\u001b[0m\u001b[39m: <bound method AbstractVersionedDataset.load of <kedro_datasets.pandas.excel_dataset.ExcelDataset object at \u001b[0m\u001b[1;36m0x169aeee70\u001b[0m\u001b[39m>>,\u001b[0m\n",
       "\u001b[39m    \u001b[0m\u001b[32m'export-published-support-group-and-others_14062024_data'\u001b[0m\u001b[39m: <bound method AbstractVersionedDataset.load of <kedro_datasets.pandas.excel_dataset.ExcelDataset object at \u001b[0m\u001b[1;36m0x169aeef90\u001b[0m\u001b[39m>\u001b[0m\u001b[1m>\u001b[0m\n",
       "\u001b[1m}\u001b[0m"
      ]
     },
     "execution_count": 5,
     "metadata": {},
     "output_type": "execute_result"
    }
   ],
   "source": [
    "# ruff: noqa: F821\n",
    "all_contents = catalog.load(\"all_contents\")\n",
    "all_contents"
   ]
  },
  {
   "cell_type": "markdown",
   "metadata": {},
   "source": [
    "### Load the content category"
   ]
  },
  {
   "cell_type": "code",
   "execution_count": 6,
   "metadata": {},
   "outputs": [],
   "source": [
    "content_category = \"live-healthy-articles\""
   ]
  },
  {
   "cell_type": "markdown",
   "metadata": {},
   "source": [
    "### Use `content_category` as key to access the corresponding content"
   ]
  },
  {
   "cell_type": "code",
   "execution_count": 7,
   "metadata": {},
   "outputs": [
    {
     "name": "stdout",
     "output_type": "stream",
     "text": [
      "(1155, 60)\n"
     ]
    }
   ],
   "source": [
    "df = all_contents[f\"export-published-{content_category}_14062024_data\"]()\n",
    "# Drop all columns which have only null values\n",
    "df = df.dropna(axis=1, how=\"all\")\n",
    "print(df.shape)"
   ]
  },
  {
   "cell_type": "markdown",
   "metadata": {},
   "source": [
    "### View all columns to keep for corresponding content category"
   ]
  },
  {
   "cell_type": "code",
   "execution_count": 8,
   "metadata": {},
   "outputs": [
    {
     "data": {
      "text/html": [
       "<pre style=\"white-space:pre;overflow-x:auto;line-height:normal;font-family:Menlo,'DejaVu Sans Mono',consolas,'Courier New',monospace\"><span style=\"color: #7fbfbf; text-decoration-color: #7fbfbf\">[06/27/24 13:29:25] </span><span style=\"color: #000080; text-decoration-color: #000080\">INFO    </span> Loading data from <span style=\"color: #ff8700; text-decoration-color: #ff8700\">params:columns_to_keep</span> <span style=\"font-weight: bold\">(</span>MemoryDataset<span style=\"font-weight: bold\">)</span><span style=\"color: #808000; text-decoration-color: #808000\">...</span>        <a href=\"file:///opt/anaconda3/envs/content-opt/lib/python3.12/site-packages/kedro/io/data_catalog.py\" target=\"_blank\"><span style=\"color: #7f7f7f; text-decoration-color: #7f7f7f\">data_catalog.py</span></a><span style=\"color: #7f7f7f; text-decoration-color: #7f7f7f\">:</span><a href=\"file:///opt/anaconda3/envs/content-opt/lib/python3.12/site-packages/kedro/io/data_catalog.py#508\" target=\"_blank\"><span style=\"color: #7f7f7f; text-decoration-color: #7f7f7f\">508</span></a>\n",
       "</pre>\n"
      ],
      "text/plain": [
       "\u001b[2;36m[06/27/24 13:29:25]\u001b[0m\u001b[2;36m \u001b[0m\u001b[34mINFO    \u001b[0m Loading data from \u001b[38;5;208mparams:columns_to_keep\u001b[0m \u001b[1m(\u001b[0mMemoryDataset\u001b[1m)\u001b[0m\u001b[33m...\u001b[0m        \u001b]8;id=361730;file:///opt/anaconda3/envs/content-opt/lib/python3.12/site-packages/kedro/io/data_catalog.py\u001b\\\u001b[2mdata_catalog.py\u001b[0m\u001b]8;;\u001b\\\u001b[2m:\u001b[0m\u001b]8;id=890586;file:///opt/anaconda3/envs/content-opt/lib/python3.12/site-packages/kedro/io/data_catalog.py#508\u001b\\\u001b[2m508\u001b[0m\u001b]8;;\u001b\\\n"
      ]
     },
     "metadata": {},
     "output_type": "display_data"
    },
    {
     "data": {
      "text/html": [
       "<pre style=\"white-space:pre;overflow-x:auto;line-height:normal;font-family:Menlo,'DejaVu Sans Mono',consolas,'Courier New',monospace\"></pre>\n"
      ],
      "text/plain": []
     },
     "metadata": {},
     "output_type": "display_data"
    },
    {
     "data": {
      "text/plain": [
       "\n",
       "\u001b[1m{\u001b[0m\n",
       "    \u001b[32m'cost-and-financing'\u001b[0m: \u001b[1m[\u001b[0m\n",
       "        \u001b[32m'id'\u001b[0m,\n",
       "        \u001b[32m'Content.Name'\u001b[0m,\n",
       "        \u001b[32m'CostAndFinancing_Title'\u001b[0m,\n",
       "        \u001b[32m'CostAndFinancing_ArticleCatNames'\u001b[0m,\n",
       "        \u001b[32m'CostAndFinancing_CoverImgUrl'\u001b[0m,\n",
       "        \u001b[32m'CostAndFinancing_FullUrl'\u001b[0m,\n",
       "        \u001b[32m'CostAndFinancing_FullUrl2'\u001b[0m,\n",
       "        \u001b[32m'CostAndFinancing_FriendlyUrl'\u001b[0m,\n",
       "        \u001b[32m'CostAndFinancing_CategoryDesc'\u001b[0m,\n",
       "        \u001b[32m'CostAndFinancing_ContentBody'\u001b[0m,\n",
       "        \u001b[32m'CostAndFinancing_ENKeywords'\u001b[0m,\n",
       "        \u001b[32m'CostAndFinancing_FeatureTitle'\u001b[0m,\n",
       "        \u001b[32m'CostAndFinancing_PRName'\u001b[0m,\n",
       "        \u001b[32m'CostAndFinancing_AlternateImageText'\u001b[0m,\n",
       "        \u001b[32m'CostAndFinancing_DateModified'\u001b[0m,\n",
       "        \u001b[32m'CostAndFinancing_NumberofViews'\u001b[0m,\n",
       "        \u001b[32m'CostAndFinancing_LastMonthViewCount'\u001b[0m,\n",
       "        \u001b[32m'CostAndFinancing_LastTwoMonthsView'\u001b[0m,\n",
       "        \u001b[32m'Page Views'\u001b[0m,\n",
       "        \u001b[32m'Engagement Rate'\u001b[0m,\n",
       "        \u001b[32m'Bounce Rate'\u001b[0m,\n",
       "        \u001b[32m'Exit Rate'\u001b[0m,\n",
       "        \u001b[32m'Scroll %'\u001b[0m,\n",
       "        \u001b[32m'% of Total Views'\u001b[0m,\n",
       "        \u001b[32m'Cumulative % of Total Views'\u001b[0m\n",
       "    \u001b[1m]\u001b[0m,\n",
       "    \u001b[32m'diseases-and-conditions'\u001b[0m: \u001b[1m[\u001b[0m\n",
       "        \u001b[32m'id'\u001b[0m,\n",
       "        \u001b[32m'Content.Name'\u001b[0m,\n",
       "        \u001b[32m'DiseasesCondition_Title'\u001b[0m,\n",
       "        \u001b[32m'DiseasesCondition_ArticleCatNames'\u001b[0m,\n",
       "        \u001b[32m'DiseasesCondition_CoverImgUrl'\u001b[0m,\n",
       "        \u001b[32m'DiseasesCondition_FullUrl'\u001b[0m,\n",
       "        \u001b[32m'DiseasesCondition_FullUrl2'\u001b[0m,\n",
       "        \u001b[32m'DiseasesCondition_FriendlyUrl'\u001b[0m,\n",
       "        \u001b[32m'DiseasesCondition_CategoryDesc'\u001b[0m,\n",
       "        \u001b[32m'DiseasesCondition_ContentBody'\u001b[0m,\n",
       "        \u001b[32m'DiseasesCondition_ENKeywords'\u001b[0m,\n",
       "        \u001b[32m'DiseasesCondition_FeatureTitle'\u001b[0m,\n",
       "        \u001b[32m'DiseasesCondition_PRName'\u001b[0m,\n",
       "        \u001b[32m'DiseasesCondition_AlternateImageText'\u001b[0m,\n",
       "        \u001b[32m'DiseasesCondition_DateModified'\u001b[0m,\n",
       "        \u001b[32m'DiseasesCondition_NumberOfViews'\u001b[0m,\n",
       "        \u001b[32m'DiseasesCondition_LastMonthViewCount'\u001b[0m,\n",
       "        \u001b[32m'DiseasesCondition_LastTwoMonthsView'\u001b[0m,\n",
       "        \u001b[32m'Page Views'\u001b[0m,\n",
       "        \u001b[32m'Engagement Rate'\u001b[0m,\n",
       "        \u001b[32m'Bounce Rate'\u001b[0m,\n",
       "        \u001b[32m'Exit Rate'\u001b[0m,\n",
       "        \u001b[32m'Scroll %'\u001b[0m,\n",
       "        \u001b[32m'% of Total Views'\u001b[0m,\n",
       "        \u001b[32m'Cumulative % of Total Views'\u001b[0m\n",
       "    \u001b[1m]\u001b[0m,\n",
       "    \u001b[32m'health-statistics'\u001b[0m: \u001b[1m[\u001b[0m\n",
       "        \u001b[32m'id'\u001b[0m,\n",
       "        \u001b[32m'Content.Name'\u001b[0m,\n",
       "        \u001b[32m'HealthStatistics_Title'\u001b[0m,\n",
       "        \u001b[32m'HealthStatistics_CoverImgUrl'\u001b[0m,\n",
       "        \u001b[32m'HealthStatistics_FullUrl'\u001b[0m,\n",
       "        \u001b[32m'HealthStatistics_FullUrl2'\u001b[0m,\n",
       "        \u001b[32m'HealthStatistics_FriendlyUrl'\u001b[0m,\n",
       "        \u001b[32m'HealthStatistics_CategoryDesc'\u001b[0m,\n",
       "        \u001b[32m'HealthStatistics_ContentBody'\u001b[0m,\n",
       "        \u001b[32m'HealthStatistics_ENKeywords'\u001b[0m,\n",
       "        \u001b[32m'HealthStatistics_FeatureTitle'\u001b[0m,\n",
       "        \u001b[32m'HealthStatistics_PRName'\u001b[0m,\n",
       "        \u001b[32m'HealthStatistics_AlternateImageText'\u001b[0m,\n",
       "        \u001b[32m'HealthStatistics_DateModified'\u001b[0m,\n",
       "        \u001b[32m'Page Views'\u001b[0m,\n",
       "        \u001b[32m'Engagement Rate'\u001b[0m,\n",
       "        \u001b[32m'Bounce Rate'\u001b[0m,\n",
       "        \u001b[32m'Exit Rate'\u001b[0m,\n",
       "        \u001b[32m'Scroll %'\u001b[0m,\n",
       "        \u001b[32m'% of Total Views'\u001b[0m,\n",
       "        \u001b[32m'Cumulative % of Total Views'\u001b[0m\n",
       "    \u001b[1m]\u001b[0m,\n",
       "    \u001b[32m'live-healthy-articles'\u001b[0m: \u001b[1m[\u001b[0m\n",
       "        \u001b[32m'id'\u001b[0m,\n",
       "        \u001b[32m'Content.Name'\u001b[0m,\n",
       "        \u001b[32m'LiveHealthyArticle_Title'\u001b[0m,\n",
       "        \u001b[32m'LiveHealthyArticle_ArticleCateName'\u001b[0m,\n",
       "        \u001b[32m'LiveHealthyArticle_CoverImgUrl'\u001b[0m,\n",
       "        \u001b[32m'LiveHealthyArticle_FullUrl'\u001b[0m,\n",
       "        \u001b[32m'LiveHealthyArticle_FullUrl2'\u001b[0m,\n",
       "        \u001b[32m'LiveHealthyArticle_FriendlyUrl'\u001b[0m,\n",
       "        \u001b[32m'LiveHealthyArticle_CategoryDes'\u001b[0m,\n",
       "        \u001b[32m'LiveHealthyArticle_Content_Body'\u001b[0m,\n",
       "        \u001b[32m'LiveHealthyArticle_ENKeywords'\u001b[0m,\n",
       "        \u001b[32m'LiveHealthyArticle_FeatureTitle'\u001b[0m,\n",
       "        \u001b[32m'LiveHealthyArticle_PRName'\u001b[0m,\n",
       "        \u001b[32m'LiveHealthyArticle_AlternateImageText'\u001b[0m,\n",
       "        \u001b[32m'LiveHealthyArticle_DateModified'\u001b[0m,\n",
       "        \u001b[32m'LiveHealthyArticle_Number_of_View'\u001b[0m,\n",
       "        \u001b[32m'LiveHealthyArticle_Lastmonthview'\u001b[0m,\n",
       "        \u001b[32m'LiveHealthyArticle_LastTwoMonthsView'\u001b[0m,\n",
       "        \u001b[32m'Page Views'\u001b[0m,\n",
       "        \u001b[32m'Engagement Rate'\u001b[0m,\n",
       "        \u001b[32m'Bounce Rate'\u001b[0m,\n",
       "        \u001b[32m'Exit Rate'\u001b[0m,\n",
       "        \u001b[32m'Scroll %'\u001b[0m,\n",
       "        \u001b[32m'% of Total Views'\u001b[0m,\n",
       "        \u001b[32m'Cumulative % of Total Views'\u001b[0m\n",
       "    \u001b[1m]\u001b[0m,\n",
       "    \u001b[32m'medical-care-and-facilities'\u001b[0m: \u001b[1m[\u001b[0m\n",
       "        \u001b[32m'id'\u001b[0m,\n",
       "        \u001b[32m'Content.Name'\u001b[0m,\n",
       "        \u001b[32m'MedicalCareFaci_Title'\u001b[0m,\n",
       "        \u001b[32m'MedicalCareFaci_ArticleCatNames'\u001b[0m,\n",
       "        \u001b[32m'MedicalCareFaci_CoverImgUrl'\u001b[0m,\n",
       "        \u001b[32m'MedicalCareFaci_FullUrl'\u001b[0m,\n",
       "        \u001b[32m'MedicalCareFaci_FullUrl2'\u001b[0m,\n",
       "        \u001b[32m'MedicalCareFaci_FriendlyUrl'\u001b[0m,\n",
       "        \u001b[32m'MedicalCareFaci_CategoryDesc'\u001b[0m,\n",
       "        \u001b[32m'MedicalCareFaci_ContentBody'\u001b[0m,\n",
       "        \u001b[32m'MedicalCareFaci_ENKeywords'\u001b[0m,\n",
       "        \u001b[32m'MedicalCareFaci_FeatureTitle'\u001b[0m,\n",
       "        \u001b[32m'MedicalCareFaci_PRName'\u001b[0m,\n",
       "        \u001b[32m'MedicalCareFaci_AlternateImageText'\u001b[0m,\n",
       "        \u001b[32m'MedicalCareFaci_DateModified'\u001b[0m,\n",
       "        \u001b[32m'MedicalCareFaci_NumberOfViews'\u001b[0m,\n",
       "        \u001b[32m'MedicalCareFaci_LastMonthViewCount'\u001b[0m,\n",
       "        \u001b[32m'MedicalCareFaci_LastTwoMonthsView'\u001b[0m,\n",
       "        \u001b[32m'Page Views'\u001b[0m,\n",
       "        \u001b[32m'Engagement Rate'\u001b[0m,\n",
       "        \u001b[32m'Bounce Rate'\u001b[0m,\n",
       "        \u001b[32m'Exit Rate'\u001b[0m,\n",
       "        \u001b[32m'Scroll %'\u001b[0m,\n",
       "        \u001b[32m'% of Total Views'\u001b[0m,\n",
       "        \u001b[32m'Cumulative % of Total Views'\u001b[0m\n",
       "    \u001b[1m]\u001b[0m,\n",
       "    \u001b[32m'medications'\u001b[0m: \u001b[1m[\u001b[0m\n",
       "        \u001b[32m'id'\u001b[0m,\n",
       "        \u001b[32m'Content.Name'\u001b[0m,\n",
       "        \u001b[32m'Medication_Title'\u001b[0m,\n",
       "        \u001b[32m'Medication_CoverImgUrl'\u001b[0m,\n",
       "        \u001b[32m'Medication_FullUrl'\u001b[0m,\n",
       "        \u001b[32m'Medication_FullUrl2'\u001b[0m,\n",
       "        \u001b[32m'Medication_FriendlyUrl'\u001b[0m,\n",
       "        \u001b[32m'Medication_CategoryDesc'\u001b[0m,\n",
       "        \u001b[32m'Medication_ContentBody'\u001b[0m,\n",
       "        \u001b[32m'Medication_ENKeywords'\u001b[0m,\n",
       "        \u001b[32m'Medication_FeatureTitle'\u001b[0m,\n",
       "        \u001b[32m'Medication_PRName'\u001b[0m,\n",
       "        \u001b[32m'Medication_AlternateImageText'\u001b[0m,\n",
       "        \u001b[32m'Medication_DateModified'\u001b[0m,\n",
       "        \u001b[32m'Medication_NumberOfViews'\u001b[0m,\n",
       "        \u001b[32m'Page Views'\u001b[0m,\n",
       "        \u001b[32m'Engagement Rate'\u001b[0m,\n",
       "        \u001b[32m'Bounce Rate'\u001b[0m,\n",
       "        \u001b[32m'Exit Rate'\u001b[0m,\n",
       "        \u001b[32m'Scroll %'\u001b[0m,\n",
       "        \u001b[32m'% of Total Views'\u001b[0m,\n",
       "        \u001b[32m'Cumulative % of Total Views'\u001b[0m\n",
       "    \u001b[1m]\u001b[0m,\n",
       "    \u001b[32m'program-sub-pages'\u001b[0m: \u001b[1m[\u001b[0m\n",
       "        \u001b[32m'id'\u001b[0m,\n",
       "        \u001b[32m'Content.Name'\u001b[0m,\n",
       "        \u001b[32m'ProgramSubPages_Title'\u001b[0m,\n",
       "        \u001b[32m'ProgramSubPages_FullUrl'\u001b[0m,\n",
       "        \u001b[32m'ProgramSubPages_FullUrl2'\u001b[0m,\n",
       "        \u001b[32m'ProgramSubPages_FriendlyUrl'\u001b[0m,\n",
       "        \u001b[32m'ProgramSubPages_CategoryDes'\u001b[0m,\n",
       "        \u001b[32m'ProgramSubPages_Content_Body'\u001b[0m,\n",
       "        \u001b[32m'ProgramSubPages_ENKeywords'\u001b[0m,\n",
       "        \u001b[32m'ProgramSubPages_PRName'\u001b[0m,\n",
       "        \u001b[32m'Page Views'\u001b[0m,\n",
       "        \u001b[32m'Engagement Rate'\u001b[0m,\n",
       "        \u001b[32m'Bounce Rate'\u001b[0m,\n",
       "        \u001b[32m'Exit Rate'\u001b[0m,\n",
       "        \u001b[32m'Scroll %'\u001b[0m,\n",
       "        \u001b[32m'% of Total Views'\u001b[0m,\n",
       "        \u001b[32m'Cumulative % of Total Views'\u001b[0m\n",
       "    \u001b[1m]\u001b[0m,\n",
       "    \u001b[32m'programs'\u001b[0m: \u001b[1m[\u001b[0m\n",
       "        \u001b[32m'id'\u001b[0m,\n",
       "        \u001b[32m'Content.Name'\u001b[0m,\n",
       "        \u001b[32m'Programs_Title'\u001b[0m,\n",
       "        \u001b[32m'Programs_ArticleCateNames'\u001b[0m,\n",
       "        \u001b[32m'Programs_CoverImgUrl'\u001b[0m,\n",
       "        \u001b[32m'Programs_FullUrl'\u001b[0m,\n",
       "        \u001b[32m'Programs_FullUrl2'\u001b[0m,\n",
       "        \u001b[32m'Programs_FriendlyUrl'\u001b[0m,\n",
       "        \u001b[32m'Programs_CategoryDes'\u001b[0m,\n",
       "        \u001b[32m'Programs_Content_x0020_Body'\u001b[0m,\n",
       "        \u001b[32m'Programs_ENKeywords'\u001b[0m,\n",
       "        \u001b[32m'Programs_FeatureTitle'\u001b[0m,\n",
       "        \u001b[32m'Programs_PRName'\u001b[0m,\n",
       "        \u001b[32m'Programs_AlternateImageText'\u001b[0m,\n",
       "        \u001b[32m'Programs_Number_of_Views'\u001b[0m,\n",
       "        \u001b[32m'Programs_Lastmonthviewcount'\u001b[0m,\n",
       "        \u001b[32m'Programs_LastTwoMonthsView'\u001b[0m,\n",
       "        \u001b[32m'Page Views'\u001b[0m,\n",
       "        \u001b[32m'Engagement Rate'\u001b[0m,\n",
       "        \u001b[32m'Bounce Rate'\u001b[0m,\n",
       "        \u001b[32m'Exit Rate'\u001b[0m,\n",
       "        \u001b[32m'Scroll %'\u001b[0m,\n",
       "        \u001b[32m'% of Total Views'\u001b[0m,\n",
       "        \u001b[32m'Cumulative % of Total Views'\u001b[0m\n",
       "    \u001b[1m]\u001b[0m,\n",
       "    \u001b[32m'support-group-and-others'\u001b[0m: \u001b[1m[\u001b[0m\n",
       "        \u001b[32m'id'\u001b[0m,\n",
       "        \u001b[32m'Content.Name'\u001b[0m,\n",
       "        \u001b[32m'SupportGroups_Title'\u001b[0m,\n",
       "        \u001b[32m'SupportGroups_ArticleCatNames'\u001b[0m,\n",
       "        \u001b[32m'SupportGroups_CoverImgUrl'\u001b[0m,\n",
       "        \u001b[32m'SupportGroups_FullUrl'\u001b[0m,\n",
       "        \u001b[32m'SupportGroups_FullUrl2'\u001b[0m,\n",
       "        \u001b[32m'SupportGroups_FriendlyUrl'\u001b[0m,\n",
       "        \u001b[32m'SupportGroups_CategoryDesc'\u001b[0m,\n",
       "        \u001b[32m'SupportGroups_ContentBody'\u001b[0m,\n",
       "        \u001b[32m'SupportGroups_ENKeywords'\u001b[0m,\n",
       "        \u001b[32m'SupportGroups_FeatureTitle'\u001b[0m,\n",
       "        \u001b[32m'SupportGroups_PRName'\u001b[0m,\n",
       "        \u001b[32m'SupportGroups_AlternateImageText'\u001b[0m,\n",
       "        \u001b[32m'SupportGroups_DateModified'\u001b[0m,\n",
       "        \u001b[32m'SupportGroups_NumberOfViews'\u001b[0m,\n",
       "        \u001b[32m'SupportGroups_LastMonthViewCount'\u001b[0m,\n",
       "        \u001b[32m'SupportGroups_LastTwoMonthsView'\u001b[0m,\n",
       "        \u001b[32m'Page Views'\u001b[0m,\n",
       "        \u001b[32m'Engagement Rate'\u001b[0m,\n",
       "        \u001b[32m'Bounce Rate'\u001b[0m,\n",
       "        \u001b[32m'Exit Rate'\u001b[0m,\n",
       "        \u001b[32m'Scroll %'\u001b[0m,\n",
       "        \u001b[32m'% of Total Views'\u001b[0m,\n",
       "        \u001b[32m'Cumulative % of Total Views'\u001b[0m\n",
       "    \u001b[1m]\u001b[0m\n",
       "\u001b[1m}\u001b[0m"
      ]
     },
     "execution_count": 8,
     "metadata": {},
     "output_type": "execute_result"
    }
   ],
   "source": [
    "# ruff: noqa: F821\n",
    "columns_to_keep = catalog.load(\"params:columns_to_keep\")\n",
    "columns_to_keep"
   ]
  },
  {
   "cell_type": "markdown",
   "metadata": {},
   "source": [
    "### Get columns to drop corresponding to `content_category`"
   ]
  },
  {
   "cell_type": "code",
   "execution_count": 9,
   "metadata": {},
   "outputs": [
    {
     "data": {
      "text/html": [
       "<pre style=\"white-space:pre;overflow-x:auto;line-height:normal;font-family:Menlo,'DejaVu Sans Mono',consolas,'Courier New',monospace\"></pre>\n"
      ],
      "text/plain": []
     },
     "metadata": {},
     "output_type": "display_data"
    },
    {
     "data": {
      "text/plain": [
       "\n",
       "\u001b[1m[\u001b[0m\n",
       "    \u001b[32m'id'\u001b[0m,\n",
       "    \u001b[32m'Content.Name'\u001b[0m,\n",
       "    \u001b[32m'LiveHealthyArticle_Title'\u001b[0m,\n",
       "    \u001b[32m'LiveHealthyArticle_ArticleCateName'\u001b[0m,\n",
       "    \u001b[32m'LiveHealthyArticle_CoverImgUrl'\u001b[0m,\n",
       "    \u001b[32m'LiveHealthyArticle_FullUrl'\u001b[0m,\n",
       "    \u001b[32m'LiveHealthyArticle_FullUrl2'\u001b[0m,\n",
       "    \u001b[32m'LiveHealthyArticle_FriendlyUrl'\u001b[0m,\n",
       "    \u001b[32m'LiveHealthyArticle_CategoryDes'\u001b[0m,\n",
       "    \u001b[32m'LiveHealthyArticle_Content_Body'\u001b[0m,\n",
       "    \u001b[32m'LiveHealthyArticle_ENKeywords'\u001b[0m,\n",
       "    \u001b[32m'LiveHealthyArticle_FeatureTitle'\u001b[0m,\n",
       "    \u001b[32m'LiveHealthyArticle_PRName'\u001b[0m,\n",
       "    \u001b[32m'LiveHealthyArticle_AlternateImageText'\u001b[0m,\n",
       "    \u001b[32m'LiveHealthyArticle_DateModified'\u001b[0m,\n",
       "    \u001b[32m'LiveHealthyArticle_Number_of_View'\u001b[0m,\n",
       "    \u001b[32m'LiveHealthyArticle_Lastmonthview'\u001b[0m,\n",
       "    \u001b[32m'LiveHealthyArticle_LastTwoMonthsView'\u001b[0m,\n",
       "    \u001b[32m'Page Views'\u001b[0m,\n",
       "    \u001b[32m'Engagement Rate'\u001b[0m,\n",
       "    \u001b[32m'Bounce Rate'\u001b[0m,\n",
       "    \u001b[32m'Exit Rate'\u001b[0m,\n",
       "    \u001b[32m'Scroll %'\u001b[0m,\n",
       "    \u001b[32m'% of Total Views'\u001b[0m,\n",
       "    \u001b[32m'Cumulative % of Total Views'\u001b[0m\n",
       "\u001b[1m]\u001b[0m"
      ]
     },
     "execution_count": 9,
     "metadata": {},
     "output_type": "execute_result"
    }
   ],
   "source": [
    "relevant_columns = columns_to_keep[content_category]\n",
    "relevant_columns"
   ]
  },
  {
   "cell_type": "code",
   "execution_count": 10,
   "metadata": {},
   "outputs": [
    {
     "name": "stdout",
     "output_type": "stream",
     "text": [
      "(1155, 25)\n"
     ]
    }
   ],
   "source": [
    "# Keep all relevant columns\n",
    "df = df[relevant_columns]\n",
    "print(df.shape)"
   ]
  },
  {
   "cell_type": "code",
   "execution_count": 11,
   "metadata": {},
   "outputs": [
    {
     "data": {
      "text/html": [
       "<pre style=\"white-space:pre;overflow-x:auto;line-height:normal;font-family:Menlo,'DejaVu Sans Mono',consolas,'Courier New',monospace\"></pre>\n"
      ],
      "text/plain": []
     },
     "metadata": {},
     "output_type": "display_data"
    },
    {
     "data": {
      "text/plain": [
       "\n",
       "\u001b[1;35mIndex\u001b[0m\u001b[1m(\u001b[0m\u001b[1m[\u001b[0m\u001b[32m'id'\u001b[0m, \u001b[32m'Content.Name'\u001b[0m, \u001b[32m'LiveHealthyArticle_Title'\u001b[0m,\n",
       "       \u001b[32m'LiveHealthyArticle_ArticleCateName'\u001b[0m, \u001b[32m'LiveHealthyArticle_CoverImgUrl'\u001b[0m,\n",
       "       \u001b[32m'LiveHealthyArticle_FullUrl'\u001b[0m, \u001b[32m'LiveHealthyArticle_FullUrl2'\u001b[0m,\n",
       "       \u001b[32m'LiveHealthyArticle_FriendlyUrl'\u001b[0m, \u001b[32m'LiveHealthyArticle_CategoryDes'\u001b[0m,\n",
       "       \u001b[32m'LiveHealthyArticle_Content_Body'\u001b[0m, \u001b[32m'LiveHealthyArticle_ENKeywords'\u001b[0m,\n",
       "       \u001b[32m'LiveHealthyArticle_FeatureTitle'\u001b[0m, \u001b[32m'LiveHealthyArticle_PRName'\u001b[0m,\n",
       "       \u001b[32m'LiveHealthyArticle_AlternateImageText'\u001b[0m,\n",
       "       \u001b[32m'LiveHealthyArticle_DateModified'\u001b[0m, \u001b[32m'LiveHealthyArticle_Number_of_View'\u001b[0m,\n",
       "       \u001b[32m'LiveHealthyArticle_Lastmonthview'\u001b[0m,\n",
       "       \u001b[32m'LiveHealthyArticle_LastTwoMonthsView'\u001b[0m, \u001b[32m'Page Views'\u001b[0m, \u001b[32m'Engagement Rate'\u001b[0m,\n",
       "       \u001b[32m'Bounce Rate'\u001b[0m, \u001b[32m'Exit Rate'\u001b[0m, \u001b[32m'Scroll %'\u001b[0m, \u001b[32m'% of Total Views'\u001b[0m,\n",
       "       \u001b[32m'Cumulative % of Total Views'\u001b[0m\u001b[1m]\u001b[0m,\n",
       "      \u001b[33mdtype\u001b[0m=\u001b[32m'object'\u001b[0m\u001b[1m)\u001b[0m"
      ]
     },
     "execution_count": 11,
     "metadata": {},
     "output_type": "execute_result"
    }
   ],
   "source": [
    "# Remaining columns\n",
    "df.columns"
   ]
  },
  {
   "cell_type": "markdown",
   "metadata": {},
   "source": [
    "### Get metadata for corresponding content category"
   ]
  },
  {
   "cell_type": "code",
   "execution_count": 12,
   "metadata": {},
   "outputs": [
    {
     "data": {
      "text/html": [
       "<pre style=\"white-space:pre;overflow-x:auto;line-height:normal;font-family:Menlo,'DejaVu Sans Mono',consolas,'Courier New',monospace\"><span style=\"color: #7fbfbf; text-decoration-color: #7fbfbf\">[06/27/24 13:29:26] </span><span style=\"color: #000080; text-decoration-color: #000080\">INFO    </span> Loading data from <span style=\"color: #ff8700; text-decoration-color: #ff8700\">params:metadata</span> <span style=\"font-weight: bold\">(</span>MemoryDataset<span style=\"font-weight: bold\">)</span><span style=\"color: #808000; text-decoration-color: #808000\">...</span>               <a href=\"file:///opt/anaconda3/envs/content-opt/lib/python3.12/site-packages/kedro/io/data_catalog.py\" target=\"_blank\"><span style=\"color: #7f7f7f; text-decoration-color: #7f7f7f\">data_catalog.py</span></a><span style=\"color: #7f7f7f; text-decoration-color: #7f7f7f\">:</span><a href=\"file:///opt/anaconda3/envs/content-opt/lib/python3.12/site-packages/kedro/io/data_catalog.py#508\" target=\"_blank\"><span style=\"color: #7f7f7f; text-decoration-color: #7f7f7f\">508</span></a>\n",
       "</pre>\n"
      ],
      "text/plain": [
       "\u001b[2;36m[06/27/24 13:29:26]\u001b[0m\u001b[2;36m \u001b[0m\u001b[34mINFO    \u001b[0m Loading data from \u001b[38;5;208mparams:metadata\u001b[0m \u001b[1m(\u001b[0mMemoryDataset\u001b[1m)\u001b[0m\u001b[33m...\u001b[0m               \u001b]8;id=990158;file:///opt/anaconda3/envs/content-opt/lib/python3.12/site-packages/kedro/io/data_catalog.py\u001b\\\u001b[2mdata_catalog.py\u001b[0m\u001b]8;;\u001b\\\u001b[2m:\u001b[0m\u001b]8;id=990898;file:///opt/anaconda3/envs/content-opt/lib/python3.12/site-packages/kedro/io/data_catalog.py#508\u001b\\\u001b[2m508\u001b[0m\u001b]8;;\u001b\\\n"
      ]
     },
     "metadata": {},
     "output_type": "display_data"
    },
    {
     "data": {
      "text/html": [
       "<pre style=\"white-space:pre;overflow-x:auto;line-height:normal;font-family:Menlo,'DejaVu Sans Mono',consolas,'Courier New',monospace\"></pre>\n"
      ],
      "text/plain": []
     },
     "metadata": {},
     "output_type": "display_data"
    },
    {
     "data": {
      "text/plain": [
       "\n",
       "\u001b[1m{\u001b[0m\n",
       "    \u001b[32m'cost-and-financing'\u001b[0m: \u001b[1m{\u001b[0m\n",
       "        \u001b[32m'uuid'\u001b[0m: \u001b[32m'id'\u001b[0m,\n",
       "        \u001b[32m'content_title'\u001b[0m: \u001b[32m'CostAndFinancing_Title'\u001b[0m,\n",
       "        \u001b[32m'content_body'\u001b[0m: \u001b[32m'CostAndFinancing_ContentBody'\u001b[0m\n",
       "    \u001b[1m}\u001b[0m,\n",
       "    \u001b[32m'diseases-and-conditions'\u001b[0m: \u001b[1m{\u001b[0m\n",
       "        \u001b[32m'uuid'\u001b[0m: \u001b[32m'id'\u001b[0m,\n",
       "        \u001b[32m'content_title'\u001b[0m: \u001b[32m'DiseasesCondition_Title'\u001b[0m,\n",
       "        \u001b[32m'content_body'\u001b[0m: \u001b[32m'DiseasesCondition_ContentBody'\u001b[0m\n",
       "    \u001b[1m}\u001b[0m,\n",
       "    \u001b[32m'health-statistics'\u001b[0m: \u001b[1m{\u001b[0m\n",
       "        \u001b[32m'uuid'\u001b[0m: \u001b[32m'id'\u001b[0m,\n",
       "        \u001b[32m'content_title'\u001b[0m: \u001b[32m'HealthStatistics_Title'\u001b[0m,\n",
       "        \u001b[32m'content_body'\u001b[0m: \u001b[32m'HealthStatistics_ContentBody'\u001b[0m\n",
       "    \u001b[1m}\u001b[0m,\n",
       "    \u001b[32m'live-healthy-articles'\u001b[0m: \u001b[1m{\u001b[0m\n",
       "        \u001b[32m'uuid'\u001b[0m: \u001b[32m'id'\u001b[0m,\n",
       "        \u001b[32m'content_title'\u001b[0m: \u001b[32m'LiveHealthyArticle_Title'\u001b[0m,\n",
       "        \u001b[32m'content_body'\u001b[0m: \u001b[32m'LiveHealthyArticle_Content_Body'\u001b[0m\n",
       "    \u001b[1m}\u001b[0m,\n",
       "    \u001b[32m'medical-care-and-facilities'\u001b[0m: \u001b[1m{\u001b[0m\n",
       "        \u001b[32m'uuid'\u001b[0m: \u001b[32m'id'\u001b[0m,\n",
       "        \u001b[32m'content_title'\u001b[0m: \u001b[32m'MedicalCareFaci_Title'\u001b[0m,\n",
       "        \u001b[32m'content_body'\u001b[0m: \u001b[32m'MedicalCareFaci_ContentBody'\u001b[0m\n",
       "    \u001b[1m}\u001b[0m,\n",
       "    \u001b[32m'medications'\u001b[0m: \u001b[1m{\u001b[0m\n",
       "        \u001b[32m'uuid'\u001b[0m: \u001b[32m'id'\u001b[0m,\n",
       "        \u001b[32m'content_title'\u001b[0m: \u001b[32m'Medication_Title'\u001b[0m,\n",
       "        \u001b[32m'content_body'\u001b[0m: \u001b[32m'Medication_ContentBody'\u001b[0m\n",
       "    \u001b[1m}\u001b[0m,\n",
       "    \u001b[32m'program-sub-pages'\u001b[0m: \u001b[1m{\u001b[0m\n",
       "        \u001b[32m'uuid'\u001b[0m: \u001b[32m'id'\u001b[0m,\n",
       "        \u001b[32m'content_title'\u001b[0m: \u001b[32m'ProgramSubPages_Title'\u001b[0m,\n",
       "        \u001b[32m'content_body'\u001b[0m: \u001b[32m'ProgramSubPages_Content_Body'\u001b[0m\n",
       "    \u001b[1m}\u001b[0m,\n",
       "    \u001b[32m'programs'\u001b[0m: \u001b[1m{\u001b[0m\n",
       "        \u001b[32m'uuid'\u001b[0m: \u001b[32m'id'\u001b[0m,\n",
       "        \u001b[32m'content_title'\u001b[0m: \u001b[32m'Programs_Title'\u001b[0m,\n",
       "        \u001b[32m'content_body'\u001b[0m: \u001b[32m'Programs_Content_x0020_Body'\u001b[0m\n",
       "    \u001b[1m}\u001b[0m,\n",
       "    \u001b[32m'support-group-and-others'\u001b[0m: \u001b[1m{\u001b[0m\n",
       "        \u001b[32m'uuid'\u001b[0m: \u001b[32m'id'\u001b[0m,\n",
       "        \u001b[32m'content_title'\u001b[0m: \u001b[32m'SupportGroups_Title'\u001b[0m,\n",
       "        \u001b[32m'content_body'\u001b[0m: \u001b[32m'SupportGroups_ContentBody'\u001b[0m\n",
       "    \u001b[1m}\u001b[0m\n",
       "\u001b[1m}\u001b[0m"
      ]
     },
     "execution_count": 12,
     "metadata": {},
     "output_type": "execute_result"
    }
   ],
   "source": [
    "# ruff: noqa: F821\n",
    "metadata = catalog.load(\"params:metadata\")\n",
    "metadata"
   ]
  },
  {
   "cell_type": "code",
   "execution_count": 13,
   "metadata": {},
   "outputs": [
    {
     "data": {
      "text/html": [
       "<pre style=\"white-space:pre;overflow-x:auto;line-height:normal;font-family:Menlo,'DejaVu Sans Mono',consolas,'Courier New',monospace\"></pre>\n"
      ],
      "text/plain": []
     },
     "metadata": {},
     "output_type": "display_data"
    },
    {
     "data": {
      "text/plain": [
       "\u001b[32m'LiveHealthyArticle_Content_Body'\u001b[0m"
      ]
     },
     "execution_count": 13,
     "metadata": {},
     "output_type": "execute_result"
    }
   ],
   "source": [
    "content_body = metadata[content_category][\"content_body\"]\n",
    "content_body"
   ]
  },
  {
   "cell_type": "markdown",
   "metadata": {},
   "source": [
    "### Flag all articles with no content"
   ]
  },
  {
   "cell_type": "code",
   "execution_count": 14,
   "metadata": {},
   "outputs": [
    {
     "name": "stdout",
     "output_type": "stream",
     "text": [
      "(1155, 26)\n"
     ]
    }
   ],
   "source": [
    "# Mark articles with no content `to_remove`\n",
    "df[\"to_remove\"] = df[content_body].apply(\n",
    "    lambda x: (\n",
    "        False if pd.notna(x) and re.search(r\"(<[div|p|h2].*?>)\", str(x)) else True\n",
    "    )\n",
    ")\n",
    "print(df.shape)"
   ]
  },
  {
   "cell_type": "markdown",
   "metadata": {},
   "source": [
    "### Sample 5 articles"
   ]
  },
  {
   "cell_type": "code",
   "execution_count": 15,
   "metadata": {},
   "outputs": [
    {
     "data": {
      "text/html": [
       "<pre style=\"white-space:pre;overflow-x:auto;line-height:normal;font-family:Menlo,'DejaVu Sans Mono',consolas,'Courier New',monospace\"></pre>\n"
      ],
      "text/plain": []
     },
     "metadata": {},
     "output_type": "display_data"
    },
    {
     "data": {
      "text/html": [
       "<div>\n",
       "<style scoped>\n",
       "    .dataframe tbody tr th:only-of-type {\n",
       "        vertical-align: middle;\n",
       "    }\n",
       "\n",
       "    .dataframe tbody tr th {\n",
       "        vertical-align: top;\n",
       "    }\n",
       "\n",
       "    .dataframe thead th {\n",
       "        text-align: right;\n",
       "    }\n",
       "</style>\n",
       "<table border=\"1\" class=\"dataframe\">\n",
       "  <thead>\n",
       "    <tr style=\"text-align: right;\">\n",
       "      <th></th>\n",
       "      <th>id</th>\n",
       "      <th>Content.Name</th>\n",
       "      <th>LiveHealthyArticle_Title</th>\n",
       "      <th>LiveHealthyArticle_ArticleCateName</th>\n",
       "      <th>LiveHealthyArticle_CoverImgUrl</th>\n",
       "      <th>LiveHealthyArticle_FullUrl</th>\n",
       "      <th>LiveHealthyArticle_FullUrl2</th>\n",
       "      <th>LiveHealthyArticle_FriendlyUrl</th>\n",
       "      <th>LiveHealthyArticle_CategoryDes</th>\n",
       "      <th>LiveHealthyArticle_Content_Body</th>\n",
       "      <th>...</th>\n",
       "      <th>LiveHealthyArticle_Lastmonthview</th>\n",
       "      <th>LiveHealthyArticle_LastTwoMonthsView</th>\n",
       "      <th>Page Views</th>\n",
       "      <th>Engagement Rate</th>\n",
       "      <th>Bounce Rate</th>\n",
       "      <th>Exit Rate</th>\n",
       "      <th>Scroll %</th>\n",
       "      <th>% of Total Views</th>\n",
       "      <th>Cumulative % of Total Views</th>\n",
       "      <th>to_remove</th>\n",
       "    </tr>\n",
       "  </thead>\n",
       "  <tbody>\n",
       "    <tr>\n",
       "      <th>0</th>\n",
       "      <td>1445429</td>\n",
       "      <td>Know Your Alcohol Limit: Don’t Be a Party Pooper!</td>\n",
       "      <td>Know Your Alcohol Limit: Don’t Be a Party Pooper!</td>\n",
       "      <td>Sexual Health and Relationships,</td>\n",
       "      <td>https://ch-api.healthhub.sg/api/public/content...</td>\n",
       "      <td>https://www.healthhub.sg/live-healthy/dont_be_...</td>\n",
       "      <td>www.healthhub.sg/live-healthy/dont_be_a_party_...</td>\n",
       "      <td>dont_be_a_party_pooper</td>\n",
       "      <td>Everyone enjoys a night of partying. But what ...</td>\n",
       "      <td>&lt;div class=\"ExternalClassFF709E64E1BD479883D08...</td>\n",
       "      <td>...</td>\n",
       "      <td>62.0</td>\n",
       "      <td>95.0</td>\n",
       "      <td>224</td>\n",
       "      <td>0.970954</td>\n",
       "      <td>0.029046</td>\n",
       "      <td>0.166023</td>\n",
       "      <td>0.266741</td>\n",
       "      <td>0.000189</td>\n",
       "      <td>0.986617</td>\n",
       "      <td>False</td>\n",
       "    </tr>\n",
       "    <tr>\n",
       "      <th>1</th>\n",
       "      <td>1442458</td>\n",
       "      <td>Help Your Child Untangle From The Web</td>\n",
       "      <td>Help Your Child Untangle From The Web</td>\n",
       "      <td>Mind and Balance,</td>\n",
       "      <td>https://ch-api.healthhub.sg/api/public/content...</td>\n",
       "      <td>https://www.healthhub.sg/live-healthy/help-you...</td>\n",
       "      <td>www.healthhub.sg/live-healthy/help-your-child-...</td>\n",
       "      <td>help-your-child-untangle-from-the-web</td>\n",
       "      <td>Does your child spend long hours in front of t...</td>\n",
       "      <td>&lt;div class=\"ExternalClassF5D63B3B546A42419922B...</td>\n",
       "      <td>...</td>\n",
       "      <td>171.0</td>\n",
       "      <td>291.0</td>\n",
       "      <td>1140</td>\n",
       "      <td>0.807725</td>\n",
       "      <td>0.192275</td>\n",
       "      <td>0.318612</td>\n",
       "      <td>0.337500</td>\n",
       "      <td>0.000963</td>\n",
       "      <td>0.677177</td>\n",
       "      <td>False</td>\n",
       "    </tr>\n",
       "    <tr>\n",
       "      <th>2</th>\n",
       "      <td>1444585</td>\n",
       "      <td>Makan Matters: What‘s a Balanced Diet?</td>\n",
       "      <td>Makan Matters: What‘s a Balanced Diet?</td>\n",
       "      <td>Food and Nutrition,</td>\n",
       "      <td>https://ch-api.healthhub.sg/api/public/content...</td>\n",
       "      <td>https://www.healthhub.sg/live-healthy/makan-ma...</td>\n",
       "      <td>www.healthhub.sg/live-healthy/makan-matters-wh...</td>\n",
       "      <td>makan-matters-whats-a-healthy-diet</td>\n",
       "      <td>Trying to eat better? Find out what makes a he...</td>\n",
       "      <td>&lt;div class=\"ExternalClassB17BB24F34014C7AAEC3F...</td>\n",
       "      <td>...</td>\n",
       "      <td>0.0</td>\n",
       "      <td>0.0</td>\n",
       "      <td>2434</td>\n",
       "      <td>0.702500</td>\n",
       "      <td>0.297500</td>\n",
       "      <td>0.701918</td>\n",
       "      <td>0.368735</td>\n",
       "      <td>0.002057</td>\n",
       "      <td>0.462499</td>\n",
       "      <td>False</td>\n",
       "    </tr>\n",
       "    <tr>\n",
       "      <th>3</th>\n",
       "      <td>1443659</td>\n",
       "      <td>Preparing for Pregnancy: 3 Things to Do Now Th...</td>\n",
       "      <td>Preparing for Pregnancy: 3 Things to Do Now Th...</td>\n",
       "      <td>Body Care,</td>\n",
       "      <td>https://ch-api.healthhub.sg/api/public/content...</td>\n",
       "      <td>https://www.healthhub.sg/live-healthy/3-things...</td>\n",
       "      <td>www.healthhub.sg/live-healthy/3-things-to-do-n...</td>\n",
       "      <td>3-things-to-do-now-that-youre-pregnant</td>\n",
       "      <td>You've stopped eating raw food and you've also...</td>\n",
       "      <td>&lt;div class=\"ExternalClassA116BA2F83BB43CE9D25E...</td>\n",
       "      <td>...</td>\n",
       "      <td>30.0</td>\n",
       "      <td>41.0</td>\n",
       "      <td>1027</td>\n",
       "      <td>0.710130</td>\n",
       "      <td>0.289870</td>\n",
       "      <td>0.706122</td>\n",
       "      <td>0.346641</td>\n",
       "      <td>0.000868</td>\n",
       "      <td>0.707952</td>\n",
       "      <td>False</td>\n",
       "    </tr>\n",
       "    <tr>\n",
       "      <th>4</th>\n",
       "      <td>1444177</td>\n",
       "      <td>Time to Exercise: Aeroplane (in Four-Point Kne...</td>\n",
       "      <td>Time to Exercise: Aeroplane (in Four-Point Kne...</td>\n",
       "      <td>Exercise &amp; Fitness,</td>\n",
       "      <td>https://ch-api.healthhub.sg/api/public/content...</td>\n",
       "      <td>https://www.healthhub.sg/live-healthy/time-to-...</td>\n",
       "      <td>www.healthhub.sg/live-healthy/time-to-exercise...</td>\n",
       "      <td>time-to-exercise-aeroplane-in-four-point-kneeling</td>\n",
       "      <td>Hey there mum-to-be, let's do some exercise! G...</td>\n",
       "      <td>&lt;div class=\"ExternalClass5A08DDBEC9704AB088788...</td>\n",
       "      <td>...</td>\n",
       "      <td>23.0</td>\n",
       "      <td>23.0</td>\n",
       "      <td>277</td>\n",
       "      <td>0.889251</td>\n",
       "      <td>0.110749</td>\n",
       "      <td>0.298611</td>\n",
       "      <td>0.268051</td>\n",
       "      <td>0.000234</td>\n",
       "      <td>0.961391</td>\n",
       "      <td>False</td>\n",
       "    </tr>\n",
       "  </tbody>\n",
       "</table>\n",
       "<p>5 rows × 26 columns</p>\n",
       "</div>"
      ],
      "text/plain": [
       "\n",
       "        id                                       Content.Name  \\\n",
       "\u001b[1;36m0\u001b[0m  \u001b[1;36m1445429\u001b[0m  Know Your Alcohol Limit: Don’t Be a Party Pooper!   \n",
       "\u001b[1;36m1\u001b[0m  \u001b[1;36m1442458\u001b[0m              Help Your Child Untangle From The Web   \n",
       "\u001b[1;36m2\u001b[0m  \u001b[1;36m1444585\u001b[0m             Makan Matters: What‘s a Balanced Diet?   \n",
       "\u001b[1;36m3\u001b[0m  \u001b[1;36m1443659\u001b[0m  Preparing for Pregnancy: \u001b[1;36m3\u001b[0m Things to Do Now Th\u001b[33m...\u001b[0m   \n",
       "\u001b[1;36m4\u001b[0m  \u001b[1;36m1444177\u001b[0m  Time to Exercise: Aeroplane \u001b[1m(\u001b[0min Four-Point Kne\u001b[33m...\u001b[0m   \n",
       "\n",
       "                            LiveHealthyArticle_Title  \\\n",
       "\u001b[1;36m0\u001b[0m  Know Your Alcohol Limit: Don’t Be a Party Pooper!   \n",
       "\u001b[1;36m1\u001b[0m              Help Your Child Untangle From The Web   \n",
       "\u001b[1;36m2\u001b[0m             Makan Matters: What‘s a Balanced Diet?   \n",
       "\u001b[1;36m3\u001b[0m  Preparing for Pregnancy: \u001b[1;36m3\u001b[0m Things to Do Now Th\u001b[33m...\u001b[0m   \n",
       "\u001b[1;36m4\u001b[0m  Time to Exercise: Aeroplane \u001b[1m(\u001b[0min Four-Point Kne\u001b[33m...\u001b[0m   \n",
       "\n",
       "  LiveHealthyArticle_ArticleCateName  \\\n",
       "\u001b[1;36m0\u001b[0m   Sexual Health and Relationships,   \n",
       "\u001b[1;36m1\u001b[0m                  Mind and Balance,   \n",
       "\u001b[1;36m2\u001b[0m                Food and Nutrition,   \n",
       "\u001b[1;36m3\u001b[0m                         Body Care,   \n",
       "\u001b[1;36m4\u001b[0m                Exercise & Fitness,   \n",
       "\n",
       "                      LiveHealthyArticle_CoverImgUrl  \\\n",
       "\u001b[1;36m0\u001b[0m  \u001b[4;94mhttps://ch-api.healthhub.sg/api/public/content...\u001b[0m   \n",
       "\u001b[1;36m1\u001b[0m  \u001b[4;94mhttps://ch-api.healthhub.sg/api/public/content...\u001b[0m   \n",
       "\u001b[1;36m2\u001b[0m  \u001b[4;94mhttps://ch-api.healthhub.sg/api/public/content...\u001b[0m   \n",
       "\u001b[1;36m3\u001b[0m  \u001b[4;94mhttps://ch-api.healthhub.sg/api/public/content...\u001b[0m   \n",
       "\u001b[1;36m4\u001b[0m  \u001b[4;94mhttps://ch-api.healthhub.sg/api/public/content...\u001b[0m   \n",
       "\n",
       "                          LiveHealthyArticle_FullUrl  \\\n",
       "\u001b[1;36m0\u001b[0m  \u001b[4;94mhttps://www.healthhub.sg/live-healthy/dont_be_...\u001b[0m   \n",
       "\u001b[1;36m1\u001b[0m  \u001b[4;94mhttps://www.healthhub.sg/live-healthy/help-you...\u001b[0m   \n",
       "\u001b[1;36m2\u001b[0m  \u001b[4;94mhttps://www.healthhub.sg/live-healthy/makan-ma...\u001b[0m   \n",
       "\u001b[1;36m3\u001b[0m  \u001b[4;94mhttps://www.healthhub.sg/live-healthy/3-things...\u001b[0m   \n",
       "\u001b[1;36m4\u001b[0m  \u001b[4;94mhttps://www.healthhub.sg/live-healthy/time-to-...\u001b[0m   \n",
       "\n",
       "                         LiveHealthyArticle_FullUrl2  \\\n",
       "\u001b[1;36m0\u001b[0m  www.healthhub.sg/live-healthy/dont_be_a_party_\u001b[33m...\u001b[0m   \n",
       "\u001b[1;36m1\u001b[0m  www.healthhub.sg/live-healthy/help-your-child-\u001b[33m...\u001b[0m   \n",
       "\u001b[1;36m2\u001b[0m  www.healthhub.sg/live-healthy/makan-matters-wh\u001b[33m...\u001b[0m   \n",
       "\u001b[1;36m3\u001b[0m  www.healthhub.sg/live-healthy/\u001b[1;36m3\u001b[0m-things-to-do-n\u001b[33m...\u001b[0m   \n",
       "\u001b[1;36m4\u001b[0m  www.healthhub.sg/live-healthy/time-to-exercise\u001b[33m...\u001b[0m   \n",
       "\n",
       "                      LiveHealthyArticle_FriendlyUrl  \\\n",
       "\u001b[1;36m0\u001b[0m                             dont_be_a_party_pooper   \n",
       "\u001b[1;36m1\u001b[0m              help-your-child-untangle-from-the-web   \n",
       "\u001b[1;36m2\u001b[0m                 makan-matters-whats-a-healthy-diet   \n",
       "\u001b[1;36m3\u001b[0m             \u001b[1;36m3\u001b[0m-things-to-do-now-that-youre-pregnant   \n",
       "\u001b[1;36m4\u001b[0m  time-to-exercise-aeroplane-in-four-point-kneeling   \n",
       "\n",
       "                      LiveHealthyArticle_CategoryDes  \\\n",
       "\u001b[1;36m0\u001b[0m  Everyone enjoys a night of partying. But what \u001b[33m...\u001b[0m   \n",
       "\u001b[1;36m1\u001b[0m  Does your child spend long hours in front of t\u001b[33m...\u001b[0m   \n",
       "\u001b[1;36m2\u001b[0m  Trying to eat better? Find out what makes a he\u001b[33m...\u001b[0m   \n",
       "\u001b[1;36m3\u001b[0m  You've stopped eating raw food and you've also\u001b[33m...\u001b[0m   \n",
       "\u001b[1;36m4\u001b[0m  Hey there mum-to-be, let's do some exercise! G\u001b[33m...\u001b[0m   \n",
       "\n",
       "                     LiveHealthyArticle_Content_Body  \u001b[33m...\u001b[0m  \\\n",
       "\u001b[1;36m0\u001b[0m  <div \u001b[33mclass\u001b[0m=\u001b[35m\"ExternalClassFF709E64E1BD479883D08\u001b[0m\u001b[33m...\u001b[0m  \u001b[33m...\u001b[0m   \n",
       "\u001b[1;36m1\u001b[0m  <div \u001b[33mclass\u001b[0m=\u001b[35m\"ExternalClassF5D63B3B546A42419922B\u001b[0m\u001b[33m...\u001b[0m  \u001b[33m...\u001b[0m   \n",
       "\u001b[1;36m2\u001b[0m  <div \u001b[33mclass\u001b[0m=\u001b[35m\"ExternalClassB17BB24F34014C7AAEC3F\u001b[0m\u001b[33m...\u001b[0m  \u001b[33m...\u001b[0m   \n",
       "\u001b[1;36m3\u001b[0m  <div \u001b[33mclass\u001b[0m=\u001b[35m\"ExternalClassA116BA2F83BB43CE9D25E\u001b[0m\u001b[33m...\u001b[0m  \u001b[33m...\u001b[0m   \n",
       "\u001b[1;36m4\u001b[0m  <div \u001b[33mclass\u001b[0m=\u001b[35m\"ExternalClass5A08DDBEC9704AB088788\u001b[0m\u001b[33m...\u001b[0m  \u001b[33m...\u001b[0m   \n",
       "\n",
       "  LiveHealthyArticle_Lastmonthview LiveHealthyArticle_LastTwoMonthsView  \\\n",
       "\u001b[1;36m0\u001b[0m                             \u001b[1;36m62.0\u001b[0m                                 \u001b[1;36m95.0\u001b[0m   \n",
       "\u001b[1;36m1\u001b[0m                            \u001b[1;36m171.0\u001b[0m                                \u001b[1;36m291.0\u001b[0m   \n",
       "\u001b[1;36m2\u001b[0m                              \u001b[1;36m0.0\u001b[0m                                  \u001b[1;36m0.0\u001b[0m   \n",
       "\u001b[1;36m3\u001b[0m                             \u001b[1;36m30.0\u001b[0m                                 \u001b[1;36m41.0\u001b[0m   \n",
       "\u001b[1;36m4\u001b[0m                             \u001b[1;36m23.0\u001b[0m                                 \u001b[1;36m23.0\u001b[0m   \n",
       "\n",
       "  Page Views Engagement Rate Bounce Rate  Exit Rate  Scroll %  \\\n",
       "\u001b[1;36m0\u001b[0m        \u001b[1;36m224\u001b[0m        \u001b[1;36m0.970954\u001b[0m    \u001b[1;36m0.029046\u001b[0m   \u001b[1;36m0.166023\u001b[0m  \u001b[1;36m0.266741\u001b[0m   \n",
       "\u001b[1;36m1\u001b[0m       \u001b[1;36m1140\u001b[0m        \u001b[1;36m0.807725\u001b[0m    \u001b[1;36m0.192275\u001b[0m   \u001b[1;36m0.318612\u001b[0m  \u001b[1;36m0.337500\u001b[0m   \n",
       "\u001b[1;36m2\u001b[0m       \u001b[1;36m2434\u001b[0m        \u001b[1;36m0.702500\u001b[0m    \u001b[1;36m0.297500\u001b[0m   \u001b[1;36m0.701918\u001b[0m  \u001b[1;36m0.368735\u001b[0m   \n",
       "\u001b[1;36m3\u001b[0m       \u001b[1;36m1027\u001b[0m        \u001b[1;36m0.710130\u001b[0m    \u001b[1;36m0.289870\u001b[0m   \u001b[1;36m0.706122\u001b[0m  \u001b[1;36m0.346641\u001b[0m   \n",
       "\u001b[1;36m4\u001b[0m        \u001b[1;36m277\u001b[0m        \u001b[1;36m0.889251\u001b[0m    \u001b[1;36m0.110749\u001b[0m   \u001b[1;36m0.298611\u001b[0m  \u001b[1;36m0.268051\u001b[0m   \n",
       "\n",
       "   % of Total Views  Cumulative % of Total Views  to_remove  \n",
       "\u001b[1;36m0\u001b[0m          \u001b[1;36m0.000189\u001b[0m                     \u001b[1;36m0.986617\u001b[0m      \u001b[3;91mFalse\u001b[0m  \n",
       "\u001b[1;36m1\u001b[0m          \u001b[1;36m0.000963\u001b[0m                     \u001b[1;36m0.677177\u001b[0m      \u001b[3;91mFalse\u001b[0m  \n",
       "\u001b[1;36m2\u001b[0m          \u001b[1;36m0.002057\u001b[0m                     \u001b[1;36m0.462499\u001b[0m      \u001b[3;91mFalse\u001b[0m  \n",
       "\u001b[1;36m3\u001b[0m          \u001b[1;36m0.000868\u001b[0m                     \u001b[1;36m0.707952\u001b[0m      \u001b[3;91mFalse\u001b[0m  \n",
       "\u001b[1;36m4\u001b[0m          \u001b[1;36m0.000234\u001b[0m                     \u001b[1;36m0.961391\u001b[0m      \u001b[3;91mFalse\u001b[0m  \n",
       "\n",
       "\u001b[1m[\u001b[0m\u001b[1;36m5\u001b[0m rows x \u001b[1;36m26\u001b[0m columns\u001b[1m]\u001b[0m"
      ]
     },
     "execution_count": 15,
     "metadata": {},
     "output_type": "execute_result"
    }
   ],
   "source": [
    "tmp = df.sample(5, random_state=42).reset_index(drop=True)\n",
    "tmp"
   ]
  },
  {
   "cell_type": "code",
   "execution_count": 16,
   "metadata": {},
   "outputs": [
    {
     "data": {
      "text/html": [
       "<pre style=\"white-space:pre;overflow-x:auto;line-height:normal;font-family:Menlo,'DejaVu Sans Mono',consolas,'Courier New',monospace\"></pre>\n"
      ],
      "text/plain": []
     },
     "metadata": {},
     "output_type": "display_data"
    },
    {
     "data": {
      "text/plain": [
       "\u001b[32m'LiveHealthyArticle_Title'\u001b[0m"
      ]
     },
     "execution_count": 16,
     "metadata": {},
     "output_type": "execute_result"
    }
   ],
   "source": [
    "content_title = metadata[content_category][\"content_title\"]\n",
    "content_title"
   ]
  },
  {
   "cell_type": "code",
   "execution_count": 17,
   "metadata": {},
   "outputs": [
    {
     "name": "stdout",
     "output_type": "stream",
     "text": [
      "Know Your Alcohol Limit: Don’t Be a Party Pooper!\n",
      "Help Your Child Untangle From The Web\n",
      "Makan Matters: What‘s a Balanced Diet?\n",
      "Preparing for Pregnancy: 3 Things to Do Now That You're Pregnant\n",
      "Time to Exercise: Aeroplane (in Four-Point Kneeling)\n"
     ]
    }
   ],
   "source": [
    "tmp[\"related_sections\"] = None\n",
    "tmp[\"extracted_content_body\"] = None\n",
    "tmp[\"extracted_links\"] = None\n",
    "tmp[\"extracted_headers\"] = None\n",
    "\n",
    "for index, row in tmp.iterrows():\n",
    "    # Skip extraction for those articles flagged for removal\n",
    "    if row[\"to_remove\"]:\n",
    "        continue\n",
    "\n",
    "    # Replace all forward slashes with hyphens to avoid saving as folders\n",
    "    title = row[content_title]\n",
    "    print(title)\n",
    "\n",
    "    # Get the HTML content\n",
    "    html_content = row[content_body]\n",
    "\n",
    "    # Extract text from HTML using the HTMLExtractor Class\n",
    "    extractor = HTMLExtractor(html_content)\n",
    "    related_sections = extractor.extract_related_sections()\n",
    "    extracted_content_body = extractor.extract_text()\n",
    "    extracted_links = extractor.extract_links()\n",
    "    extracted_headers = extractor.extract_headers()\n",
    "\n",
    "    # Store extracted data into the dataframe\n",
    "    tmp.at[index, \"related_sections\"] = related_sections\n",
    "    tmp.at[index, \"extracted_content_body\"] = extracted_content_body\n",
    "    tmp.at[index, \"extracted_links\"] = extracted_links\n",
    "    tmp.at[index, \"extracted_headers\"] = extracted_headers\n",
    "\n",
    "    # If `extracted_content_body` is empty, we update flag to remove\n",
    "    if extracted_content_body == \"\":\n",
    "        tmp.at[index, \"to_remove\"] = True"
   ]
  },
  {
   "cell_type": "code",
   "execution_count": 18,
   "metadata": {},
   "outputs": [
    {
     "data": {
      "text/html": [
       "<pre style=\"white-space:pre;overflow-x:auto;line-height:normal;font-family:Menlo,'DejaVu Sans Mono',consolas,'Courier New',monospace\"></pre>\n"
      ],
      "text/plain": []
     },
     "metadata": {},
     "output_type": "display_data"
    },
    {
     "data": {
      "text/plain": [
       "\u001b[32m'https://www.healthhub.sg/live-healthy/help-your-child-untangle-from-the-web'\u001b[0m"
      ]
     },
     "execution_count": 18,
     "metadata": {},
     "output_type": "execute_result"
    }
   ],
   "source": [
    "index = 1\n",
    "\n",
    "tmp.iloc[index][\"LiveHealthyArticle_FullUrl\"]"
   ]
  },
  {
   "cell_type": "code",
   "execution_count": 19,
   "metadata": {},
   "outputs": [
    {
     "data": {
      "text/html": [
       "<pre style=\"white-space:pre;overflow-x:auto;line-height:normal;font-family:Menlo,'DejaVu Sans Mono',consolas,'Courier New',monospace\"></pre>\n"
      ],
      "text/plain": []
     },
     "metadata": {},
     "output_type": "display_data"
    },
    {
     "data": {
      "text/plain": [
       "\n",
       "\u001b[1m[\u001b[0m\n",
       "    \u001b[32m'Screen Time'\u001b[0m,\n",
       "    \u001b[32m'Disconnect To Reconnect Why A Social Media Detox Might Be Good For You'\u001b[0m,\n",
       "    \u001b[32m'9 Health Hazards of Electronic Devices for Kids'\u001b[0m,\n",
       "    \u001b[32m'Dealing with Cyber-Bullies'\u001b[0m,\n",
       "    \u001b[32m'It Is Best Your Child Hears It From You'\u001b[0m,\n",
       "    \u001b[32m'Dealing With Cyber Bullies'\u001b[0m,\n",
       "    \u001b[32m'Parent Hub'\u001b[0m,\n",
       "    \u001b[32m'Happy and Lasting Relationships with Children'\u001b[0m,\n",
       "    \u001b[32m'Stuck in the Web'\u001b[0m\n",
       "\u001b[1m]\u001b[0m"
      ]
     },
     "execution_count": 19,
     "metadata": {},
     "output_type": "execute_result"
    }
   ],
   "source": [
    "tmp.iloc[index][\"related_sections\"]"
   ]
  },
  {
   "cell_type": "code",
   "execution_count": 20,
   "metadata": {},
   "outputs": [
    {
     "data": {
      "text/html": [
       "<pre style=\"white-space:pre;overflow-x:auto;line-height:normal;font-family:Menlo,'DejaVu Sans Mono',consolas,'Courier New',monospace\"></pre>\n"
      ],
      "text/plain": []
     },
     "metadata": {},
     "output_type": "display_data"
    },
    {
     "data": {
      "text/plain": [
       "\u001b[32m'Singapore teens are among the most Internet-savvy in the world. Statistics from the Infocomm Development Authority of Singapore show that 99% of teenagers used the Internet in 2014. Their favourite mobile activities are social networking on platforms like Instagram, instant messaging via apps like Snapchat, and sending and receiving emails.\\nOnline activities are enjoyable, so it is easy to spend long hours on the computer. It is normal for your child to want to spend more time on activities that fascinate them, and these interests are often good outlets for learning, creativity and self-expression.\\nBut when any activity becomes the major focus of their life to the point where it becomes harmful physically, mentally or socially your child may have a cyber addiction problem. A 2010 study\u001b[0m\u001b[32m[\u001b[0m\u001b[32m1\u001b[0m\u001b[32m]\u001b[0m\u001b[32m led by the National Institute of Education and the Media Development Authority found that Singaporean youth spend more time than American adolescents on video gaming averaging 20 hours a week, compared to 13 hours for their American counterparts. The same study revealed that nearly 9% of young people in Singapore are pathological gamers who spend 37.5 hours each week playing video games double the time that non-addicts spend.\\nThe National Addictions Management Service \u001b[0m\u001b[32m(\u001b[0m\u001b[32mNAMS\u001b[0m\u001b[32m)\u001b[0m\u001b[32m at the Institute of Mental Health says that while there is nothing wrong with computers and technology, users have to be aware of their potentially addictive nature and set appropriate limits to prevent online activities from becoming a problem.\\nIn its , NAMS highlights some tell-tale signs:\\nNAMS outlines in the resource booklet helpful tools for parents to help their children manage their Internet use. These include identifying specific behaviours that need to be addressed, and pairing them with corresponding rewards; discussing and agreeing on scheduled activities for the week, including Internet and gaming time; as well as creating simple to-do lists to limit computer usage.\\nHere are some useful tips for parents:\\nRelated: Screen Time\\n\\n1. Practise What You Preach\\nAre you guilty of being glued to the mobile phone or gaming device? Be aware of the behaviour youre modelling to your children. Put that gadget away and get the family playing some good ole board games, or whip up a meal together. Plan an active weekend for the kids with these ideas. If theres a good TV show, tune in together and talk about it later Descendants of the Sun, anyone?\\nRelated: Disconnect To Reconnect Why A Social Media Detox Might Be Good For You\\n\\n2. Have Control\\nYoure the parent so youre in charge. Dont yield control of the Internet and electronic devices over to your child. Look into installing parental control software that can block or limit usage. Oh, and hang on to that Wi-Fi password, and make sure never to grant unlimited data to the offsprings mobile plan.\\nRelated: 9 Health Hazards of Electronic Devices for Kids\\n\\n3. Be Understanding\\nStep into the shoes of your teens. Their world is vastly different from yours when kids used to hang out on soccer fields or were out catching spiders. Understand that teens want to feel belonged and may feel pressure to keep up with their peers on their online life. Negotiate appropriate time periods to be online and be firm implementing these rules.\\nRelated: Dealing with Cyber-Bullies\\n\\n4. Be Alert to Danger\\nThe perennial advice of keeping the computer in the living room still applies but with laptops that might be difficult to enforce. Think of keeping Wi-Fi signals strongest in the living room to make it the most attractive place to surf from. Conduct frequent, random checks on web browsing history but be upfront about it. \u001b[0m\u001b[32m(\u001b[0m\u001b[32mOf course, kids are so Internet savvy these days, theyll find a solution quickly, so the onus is on the parents to stay savvy too!\u001b[0m\u001b[32m)\u001b[0m\u001b[32m\\nRelated: It Is Best Your Child Hears It From You\\n\\n5. Set Realistic Rules\\nDont expect your kid to wean off his/her cyber habits overnight. After youve set realistic rules and laid out the consequences, be prepared to implement them.\\nRead these next:\\nReferences Choo, H., Gentile, D. A., Sim, T., Li, D., Khoo, A., Liau, A. K. \u001b[0m\u001b[32m(\u001b[0m\u001b[32mDate\u001b[0m\u001b[32m)\u001b[0m\u001b[32m. Pathological video-gaming among Singaporean youth. Annals Academy of Medicine, 39\u001b[0m\u001b[32m(\u001b[0m\u001b[32m11\u001b[0m\u001b[32m)\u001b[0m\u001b[32m, 822-829. Retrieved March 2016 from https://repository.nie.edu.sg/bitstream/10497/16240/1/AAM-3911-822_a.pdf National Addictions Management Service \u001b[0m\u001b[32m(\u001b[0m\u001b[32mNAMS\u001b[0m\u001b[32m)\u001b[0m\u001b[32m \u001b[0m\u001b[32m(\u001b[0m\u001b[32mn.d.\u001b[0m\u001b[32m)\u001b[0m\u001b[32m. Unplug - Internet Gaming Day Group \u001b[0m\u001b[32m[\u001b[0m\u001b[32mWebsite\u001b[0m\u001b[32m]\u001b[0m\u001b[32m. Retrieved March 2016 from http://www.nams.sg/programmes/Pages/Cybergaming-group.aspx\\n\\nReferences\\n1. Choo, H., Gentile, D. A., Sim, T., Li, D., Khoo, A., Liau, A. K. \u001b[0m\u001b[32m(\u001b[0m\u001b[32mDate\u001b[0m\u001b[32m)\u001b[0m\u001b[32m. Pathological video-gaming among Singaporean youth. Annals Academy of Medicine, 39\u001b[0m\u001b[32m(\u001b[0m\u001b[32m11\u001b[0m\u001b[32m)\u001b[0m\u001b[32m, 822-829. Retrieved March 2016 from https://repository.nie.edu.sg/bitstream/10497/16240/1/AAM-3911-822_a.pdf\\n2. National Addictions Management Service \u001b[0m\u001b[32m(\u001b[0m\u001b[32mNAMS\u001b[0m\u001b[32m)\u001b[0m\u001b[32m \u001b[0m\u001b[32m(\u001b[0m\u001b[32mn.d.\u001b[0m\u001b[32m)\u001b[0m\u001b[32m. Unplug - Internet Gaming Day Group \u001b[0m\u001b[32m[\u001b[0m\u001b[32mWebsite\u001b[0m\u001b[32m]\u001b[0m\u001b[32m. Retrieved March 2016 from http://www.nams.sg/programmes/Pages/Cybergaming-group.aspx'\u001b[0m"
      ]
     },
     "execution_count": 20,
     "metadata": {},
     "output_type": "execute_result"
    }
   ],
   "source": [
    "tmp.iloc[index][\"extracted_content_body\"]"
   ]
  },
  {
   "cell_type": "code",
   "execution_count": 21,
   "metadata": {},
   "outputs": [
    {
     "data": {
      "text/html": [
       "<pre style=\"white-space:pre;overflow-x:auto;line-height:normal;font-family:Menlo,'DejaVu Sans Mono',consolas,'Courier New',monospace\"></pre>\n"
      ],
      "text/plain": []
     },
     "metadata": {},
     "output_type": "display_data"
    },
    {
     "data": {
      "text/plain": [
       "\n",
       "\u001b[1m[\u001b[0m\n",
       "    \u001b[1m(\u001b[0m\n",
       "        \u001b[32m'Screen Time'\u001b[0m,\n",
       "        \u001b[32m'http://www.babybonus.msf.gov.sg/parentingresources/web/Young-Children/YoungChildrenPlay_and_Learning/Screen_Time/Young_Children_Screen_Time'\u001b[0m\n",
       "    \u001b[1m)\u001b[0m,\n",
       "    \u001b[1m(\u001b[0m\u001b[32m'these ideas'\u001b[0m, \u001b[32m'https://www.healthhub.sg/live-healthy/ideas-for-an-active-weekend'\u001b[0m\u001b[1m)\u001b[0m,\n",
       "    \u001b[1m(\u001b[0m\n",
       "        \u001b[32m'Disconnect To Reconnect — Why A Social Media Detox Might Be Good For You'\u001b[0m,\n",
       "        \u001b[32m'https://www.healthhub.sg/live-healthy/disconnect-to-reconnect-why-a-social-media-detox-might-be-good-for-you'\u001b[0m\n",
       "    \u001b[1m)\u001b[0m,\n",
       "    \u001b[1m(\u001b[0m\n",
       "        \u001b[32m'9 Health Hazards of Electronic Devices for Kids'\u001b[0m,\n",
       "        \u001b[32m'https://www.healthhub.sg/live-healthy/9-health-hazards-of-electronic-devices-for-kids'\u001b[0m\n",
       "    \u001b[1m)\u001b[0m,\n",
       "    \u001b[1m(\u001b[0m\n",
       "        \u001b[32m'Dealing with Cyber-Bullies'\u001b[0m,\n",
       "        \u001b[32m'https://www.healthhub.sg/live-healthy/dealing_with_cyber-bullies'\u001b[0m\n",
       "    \u001b[1m)\u001b[0m,\n",
       "    \u001b[1m(\u001b[0m\n",
       "        \u001b[32m'It Is Best Your Child Hears It From You'\u001b[0m,\n",
       "        \u001b[32m'https://www.healthhub.sg/live-healthy/best_your_child_hears_it_from_you'\u001b[0m\n",
       "    \u001b[1m)\u001b[0m,\n",
       "    \u001b[1m(\u001b[0m\n",
       "        \u001b[32m'Visit Parent Hub, for more useful tips and guides to give your child a healthy start.'\u001b[0m,\n",
       "        \u001b[32m'https://www.healthhub.sg/programmes/parent-hub'\u001b[0m\n",
       "    \u001b[1m)\u001b[0m,\n",
       "    \u001b[1m(\u001b[0m\n",
       "        \u001b[32m'Dealing With Cyber Bullies'\u001b[0m,\n",
       "        \u001b[32m'https://www.healthhub.sg/live-healthy/dealing_with_cyber-bullies'\u001b[0m\n",
       "    \u001b[1m)\u001b[0m,\n",
       "    \u001b[1m(\u001b[0m\u001b[32m'Parent Hub'\u001b[0m, \u001b[32m'https://www.healthhub.sg/programmes/parent-hub'\u001b[0m\u001b[1m)\u001b[0m,\n",
       "    \u001b[1m(\u001b[0m\n",
       "        \u001b[32m'Happy and Lasting Relationships with Children'\u001b[0m,\n",
       "        \u001b[32m'https://www.healthhub.sg/live-healthy/happy_and_lasting_relationships'\u001b[0m\n",
       "    \u001b[1m)\u001b[0m,\n",
       "    \u001b[1m(\u001b[0m\u001b[32m'Stuck in the Web'\u001b[0m, \u001b[32m'https://www.healthhub.sg/live-healthy/stuckintheweb'\u001b[0m\u001b[1m)\u001b[0m\n",
       "\u001b[1m]\u001b[0m"
      ]
     },
     "execution_count": 21,
     "metadata": {},
     "output_type": "execute_result"
    }
   ],
   "source": [
    "tmp.iloc[index][\"extracted_links\"]"
   ]
  },
  {
   "cell_type": "code",
   "execution_count": 22,
   "metadata": {},
   "outputs": [
    {
     "data": {
      "text/html": [
       "<pre style=\"white-space:pre;overflow-x:auto;line-height:normal;font-family:Menlo,'DejaVu Sans Mono',consolas,'Courier New',monospace\"></pre>\n"
      ],
      "text/plain": []
     },
     "metadata": {},
     "output_type": "display_data"
    },
    {
     "data": {
      "text/plain": [
       "\n",
       "\u001b[1m[\u001b[0m\n",
       "    \u001b[1m(\u001b[0m\u001b[32m'1. Practise What You Preach'\u001b[0m, \u001b[32m'h2'\u001b[0m\u001b[1m)\u001b[0m,\n",
       "    \u001b[1m(\u001b[0m\u001b[32m'2. Have Control'\u001b[0m, \u001b[32m'h2'\u001b[0m\u001b[1m)\u001b[0m,\n",
       "    \u001b[1m(\u001b[0m\u001b[32m'3. Be Understanding'\u001b[0m, \u001b[32m'h2'\u001b[0m\u001b[1m)\u001b[0m,\n",
       "    \u001b[1m(\u001b[0m\u001b[32m'4. Be Alert to Danger'\u001b[0m, \u001b[32m'h2'\u001b[0m\u001b[1m)\u001b[0m,\n",
       "    \u001b[1m(\u001b[0m\u001b[32m'5. Set Realistic Rules'\u001b[0m, \u001b[32m'h2'\u001b[0m\u001b[1m)\u001b[0m\n",
       "\u001b[1m]\u001b[0m"
      ]
     },
     "execution_count": 22,
     "metadata": {},
     "output_type": "execute_result"
    }
   ],
   "source": [
    "tmp.iloc[index][\"extracted_headers\"]"
   ]
  },
  {
   "cell_type": "code",
   "execution_count": null,
   "metadata": {},
   "outputs": [],
   "source": []
  }
 ],
 "metadata": {
  "kernelspec": {
   "display_name": "content-opt",
   "language": "python",
   "name": "python3"
  },
  "language_info": {
   "codemirror_mode": {
    "name": "ipython",
    "version": 3
   },
   "file_extension": ".py",
   "mimetype": "text/x-python",
   "name": "python",
   "nbconvert_exporter": "python",
   "pygments_lexer": "ipython3",
   "version": "3.12.4"
  }
 },
 "nbformat": 4,
 "nbformat_minor": 2
}
