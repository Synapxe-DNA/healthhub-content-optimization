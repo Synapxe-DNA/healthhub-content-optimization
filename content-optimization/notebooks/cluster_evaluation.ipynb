{
 "cells": [
  {
   "cell_type": "markdown",
   "metadata": {},
   "source": [
    "### Setup"
   ]
  },
  {
   "cell_type": "code",
   "execution_count": 61,
   "metadata": {},
   "outputs": [],
   "source": [
    "%%capture\n",
    "%load_ext kedro.ipython"
   ]
  },
  {
   "cell_type": "code",
   "execution_count": 62,
   "metadata": {},
   "outputs": [],
   "source": [
    "%%capture\n",
    "import logging\n",
    "import os\n",
    "import pickle\n",
    "\n",
    "import pandas as pd\n",
    "from dotenv import load_dotenv\n",
    "from neo4j import GraphDatabase\n",
    "from neo4j.exceptions import DriverError, Neo4jError\n",
    "from sklearn.metrics import completeness_score, homogeneity_score, v_measure_score\n",
    "\n",
    "load_dotenv(r\"..\\conf\\local\\.env\")"
   ]
  },
  {
   "cell_type": "markdown",
   "metadata": {},
   "source": [
    "## Parameters"
   ]
  },
  {
   "cell_type": "code",
   "execution_count": 233,
   "metadata": {},
   "outputs": [],
   "source": [
    "# Parameters\n",
    "MODEL_NAME: str = \"all-mpnet-base-v2\"\n",
    "CONTRIBUTOR: str = \"Health Promotion Board\"\n",
    "\n",
    "# specify content_category. input 'all' if running across all categories\n",
    "CONTENT_CATEGORY: str = \"live-healthy-articles\"\n",
    "\n",
    "# adjust accordingly\n",
    "THRESHOLD: float = 0.7446"
   ]
  },
  {
   "cell_type": "code",
   "execution_count": 234,
   "metadata": {},
   "outputs": [],
   "source": [
    "INPUT_GROUNDTRUTH_PATH = os.path.join(\n",
    "    \"..\",\n",
    "    \"data\",\n",
    "    \"01_raw\",\n",
    "    \"Synapxe Content Prioritisation - Live Healthy_020724.xlsx\",\n",
    ")\n",
    "\n",
    "DATA_FOLDER_PATH = os.path.join(\n",
    "    \"..\",\n",
    "    \"data\",\n",
    "    \"07_model_output\",\n",
    "    f\"{CONTENT_CATEGORY}\",\n",
    ")\n",
    "\n",
    "INPUT_EMBEDDING_NEO4J_PATH = os.path.join(\n",
    "    DATA_FOLDER_PATH,\n",
    "    f\"{CONTENT_CATEGORY}_{MODEL_NAME}_embeddings_neo4j.pkl\",\n",
    ")\n",
    "\n",
    "OUTPUT_PREDICTED_CLUSTER_PATH = os.path.join(\n",
    "    DATA_FOLDER_PATH,\n",
    "    f\"{CONTENT_CATEGORY}__{MODEL_NAME}_predicted_clusters_th{'0'+ str(int(THRESHOLD*100))}.csv\",\n",
    ")\n",
    "\n",
    "OUTPUT_CLUSTER_METRICS_PATH = os.path.join(\n",
    "    DATA_FOLDER_PATH,\n",
    "    f\"{CONTENT_CATEGORY}_compiled_model_variation_metrics.csv\",\n",
    ")\n",
    "\n",
    "NEO4J_FOLDER_PATH = os.path.join(\n",
    "    DATA_FOLDER_PATH,\n",
    "    \"neo4j\",\n",
    ")\n",
    "\n",
    "if not os.path.exists(NEO4J_FOLDER_PATH):\n",
    "    os.makedirs(NEO4J_FOLDER_PATH)"
   ]
  },
  {
   "cell_type": "code",
   "execution_count": null,
   "metadata": {},
   "outputs": [],
   "source": [
    "uri = \"neo4j://localhost:7687\"\n",
    "username = os.getenv(\"neo4j_username\")\n",
    "password = os.getenv(\"neo4j_password\")\n",
    "# driver = GraphDatabase.driver(uri, auth=(username, password))\n",
    "\n",
    "NEO4J = {\n",
    "    \"uri\": uri,\n",
    "    \"auth\": (username, password),\n",
    "    \"database\": CONTENT_CATEGORY,  # create this database in neo4j first\n",
    "}\n",
    "\n",
    "# Test connection\n",
    "with GraphDatabase.driver(**NEO4J) as driver:\n",
    "    try:\n",
    "        driver.verify_connectivity()\n",
    "        print(\"Connection estabilished.\")\n",
    "    except (DriverError, Neo4jError) as exception:\n",
    "        print(exception)"
   ]
  },
  {
   "cell_type": "markdown",
   "metadata": {},
   "source": [
    "## Load files"
   ]
  },
  {
   "cell_type": "code",
   "execution_count": 235,
   "metadata": {},
   "outputs": [
    {
     "data": {
      "text/html": [
       "<pre style=\"white-space:pre;overflow-x:auto;line-height:normal;font-family:Menlo,'DejaVu Sans Mono',consolas,'Courier New',monospace\"><span style=\"color: #7fbfbf; text-decoration-color: #7fbfbf\">[07/03/24 17:52:58] </span><span style=\"color: #000080; text-decoration-color: #000080\">INFO    </span> Loading data from <span style=\"color: #ff8700; text-decoration-color: #ff8700\">merged_data</span> <span style=\"font-weight: bold\">(</span>ParquetDataset<span style=\"font-weight: bold\">)</span><span style=\"color: #808000; text-decoration-color: #808000\">...</span>                  <a href=\"file://c:\\Users\\Joycelyn\\anaconda3\\envs\\genai-hh\\Lib\\site-packages\\kedro\\io\\data_catalog.py\" target=\"_blank\"><span style=\"color: #7f7f7f; text-decoration-color: #7f7f7f\">data_catalog.py</span></a><span style=\"color: #7f7f7f; text-decoration-color: #7f7f7f\">:</span><a href=\"file://c:\\Users\\Joycelyn\\anaconda3\\envs\\genai-hh\\Lib\\site-packages\\kedro\\io\\data_catalog.py#508\" target=\"_blank\"><span style=\"color: #7f7f7f; text-decoration-color: #7f7f7f\">508</span></a>\n",
       "</pre>\n"
      ],
      "text/plain": [
       "\u001b[2;36m[07/03/24 17:52:58]\u001b[0m\u001b[2;36m \u001b[0m\u001b[34mINFO    \u001b[0m Loading data from \u001b[38;5;208mmerged_data\u001b[0m \u001b[1m(\u001b[0mParquetDataset\u001b[1m)\u001b[0m\u001b[33m...\u001b[0m                  \u001b]8;id=592285;file://c:\\Users\\Joycelyn\\anaconda3\\envs\\genai-hh\\Lib\\site-packages\\kedro\\io\\data_catalog.py\u001b\\\u001b[2mdata_catalog.py\u001b[0m\u001b]8;;\u001b\\\u001b[2m:\u001b[0m\u001b]8;id=408146;file://c:\\Users\\Joycelyn\\anaconda3\\envs\\genai-hh\\Lib\\site-packages\\kedro\\io\\data_catalog.py#508\u001b\\\u001b[2m508\u001b[0m\u001b]8;;\u001b\\\n"
      ]
     },
     "metadata": {},
     "output_type": "display_data"
    },
    {
     "name": "stdout",
     "output_type": "stream",
     "text": [
      "(184, 4)\n"
     ]
    },
    {
     "data": {
      "text/html": [
       "<pre style=\"white-space:pre;overflow-x:auto;line-height:normal;font-family:Menlo,'DejaVu Sans Mono',consolas,'Courier New',monospace\"></pre>\n"
      ],
      "text/plain": []
     },
     "metadata": {},
     "output_type": "display_data"
    },
    {
     "data": {
      "text/html": [
       "<div>\n",
       "<style scoped>\n",
       "    .dataframe tbody tr th:only-of-type {\n",
       "        vertical-align: middle;\n",
       "    }\n",
       "\n",
       "    .dataframe tbody tr th {\n",
       "        vertical-align: top;\n",
       "    }\n",
       "\n",
       "    .dataframe thead th {\n",
       "        text-align: right;\n",
       "    }\n",
       "</style>\n",
       "<table border=\"1\" class=\"dataframe\">\n",
       "  <thead>\n",
       "    <tr style=\"text-align: right;\">\n",
       "      <th></th>\n",
       "      <th>id</th>\n",
       "      <th>Page Title</th>\n",
       "      <th>URL</th>\n",
       "      <th>ground_truth_cluster</th>\n",
       "    </tr>\n",
       "  </thead>\n",
       "  <tbody>\n",
       "    <tr>\n",
       "      <th>0</th>\n",
       "      <td>1442828</td>\n",
       "      <td>Getting ready for solids</td>\n",
       "      <td>https://www.healthhub.sg/live-healthy/baby-get...</td>\n",
       "      <td>1.0</td>\n",
       "    </tr>\n",
       "    <tr>\n",
       "      <th>1</th>\n",
       "      <td>1445136</td>\n",
       "      <td>Getting Your Baby Started on Solids</td>\n",
       "      <td>https://www.healthhub.sg/live-healthy/getting-...</td>\n",
       "      <td>1.0</td>\n",
       "    </tr>\n",
       "  </tbody>\n",
       "</table>\n",
       "</div>"
      ],
      "text/plain": [
       "\n",
       "        id                           Page Title  \\\n",
       "\u001b[1;36m0\u001b[0m  \u001b[1;36m1442828\u001b[0m             Getting ready for solids   \n",
       "\u001b[1;36m1\u001b[0m  \u001b[1;36m1445136\u001b[0m  Getting Your Baby Started on Solids   \n",
       "\n",
       "                                                 URL  ground_truth_cluster  \n",
       "\u001b[1;36m0\u001b[0m  \u001b[4;94mhttps://www.healthhub.sg/live-healthy/baby-get...\u001b[0m                   \u001b[1;36m1.0\u001b[0m  \n",
       "\u001b[1;36m1\u001b[0m  \u001b[4;94mhttps://www.healthhub.sg/live-healthy/getting-...\u001b[0m                   \u001b[1;36m1.0\u001b[0m  "
      ]
     },
     "execution_count": 235,
     "metadata": {},
     "output_type": "execute_result"
    }
   ],
   "source": [
    "# Load merged_df data\n",
    "merged_data_df = catalog.load(\"merged_data\")  # noqa\n",
    "\n",
    "# load ground truth data\n",
    "ground_truth = pd.read_excel(INPUT_GROUNDTRUTH_PATH, sheet_name=2)\n",
    "ground_truth = ground_truth[ground_truth[\"Owner\"].str.contains(CONTRIBUTOR)]\n",
    "ground_truth = ground_truth[[\"Page Title\", \"Combine Group ID\", \"URL\"]]\n",
    "ground_truth = ground_truth[ground_truth[\"Combine Group ID\"].notna()]\n",
    "\n",
    "# Extract id from merged_data_df to ground truth\n",
    "ground_truth = pd.merge(\n",
    "    ground_truth, merged_data_df, how=\"inner\", left_on=\"URL\", right_on=\"full_url\"\n",
    ")\n",
    "ground_truth = ground_truth[[\"id\", \"Page Title\", \"URL\", \"Combine Group ID\"]]\n",
    "ground_truth.rename(columns={\"Combine Group ID\": \"ground_truth_cluster\"}, inplace=True)\n",
    "\n",
    "print(ground_truth.shape)\n",
    "ground_truth.head(2)"
   ]
  },
  {
   "cell_type": "code",
   "execution_count": 236,
   "metadata": {},
   "outputs": [
    {
     "name": "stdout",
     "output_type": "stream",
     "text": [
      "(176, 12)\n"
     ]
    },
    {
     "data": {
      "text/html": [
       "<pre style=\"white-space:pre;overflow-x:auto;line-height:normal;font-family:Menlo,'DejaVu Sans Mono',consolas,'Courier New',monospace\"></pre>\n"
      ],
      "text/plain": []
     },
     "metadata": {},
     "output_type": "display_data"
    },
    {
     "data": {
      "text/html": [
       "<div>\n",
       "<style scoped>\n",
       "    .dataframe tbody tr th:only-of-type {\n",
       "        vertical-align: middle;\n",
       "    }\n",
       "\n",
       "    .dataframe tbody tr th {\n",
       "        vertical-align: top;\n",
       "    }\n",
       "\n",
       "    .dataframe thead th {\n",
       "        text-align: right;\n",
       "    }\n",
       "</style>\n",
       "<table border=\"1\" class=\"dataframe\">\n",
       "  <thead>\n",
       "    <tr style=\"text-align: right;\">\n",
       "      <th></th>\n",
       "      <th>id</th>\n",
       "      <th>title</th>\n",
       "      <th>full_url</th>\n",
       "      <th>content</th>\n",
       "      <th>meta_description</th>\n",
       "      <th>vector_title</th>\n",
       "      <th>vector_article_category_names</th>\n",
       "      <th>vector_category_description</th>\n",
       "      <th>vector_extracted_content_body</th>\n",
       "      <th>Page Title</th>\n",
       "      <th>URL</th>\n",
       "      <th>ground_truth_cluster</th>\n",
       "    </tr>\n",
       "  </thead>\n",
       "  <tbody>\n",
       "    <tr>\n",
       "      <th>0</th>\n",
       "      <td>1443987</td>\n",
       "      <td>All You Need to Know About Childhood Immunisat...</td>\n",
       "      <td>https://www.healthhub.sg/live-healthy/all-you-...</td>\n",
       "      <td>Every child in Singapore is vaccinated accordi...</td>\n",
       "      <td>To prevent diseases such as measles and mumps,...</td>\n",
       "      <td>[0.0075735547579824924, -0.047238513827323914,...</td>\n",
       "      <td>[0.06393319368362427, 0.023783838376402855, -0...</td>\n",
       "      <td>[-0.018412871286273003, 0.008014391176402569, ...</td>\n",
       "      <td>[0.02329820767045021, -0.026086032390594482, -...</td>\n",
       "      <td>All You Need to Know About Childhood Immunisat...</td>\n",
       "      <td>https://www.healthhub.sg/live-healthy/all-you-...</td>\n",
       "      <td>16.0</td>\n",
       "    </tr>\n",
       "    <tr>\n",
       "      <th>1</th>\n",
       "      <td>1442828</td>\n",
       "      <td>Getting ready for solids</td>\n",
       "      <td>https://www.healthhub.sg/live-healthy/baby-get...</td>\n",
       "      <td>Weaning Tips\\nThe process of switching an infa...</td>\n",
       "      <td>You have breastfed your baby for 6 months and ...</td>\n",
       "      <td>[0.035273078829050064, 0.03444071486592293, -0...</td>\n",
       "      <td>[-0.0363435372710228, -0.0007167053408920765, ...</td>\n",
       "      <td>[0.02195669896900654, 0.04195531830191612, 0.0...</td>\n",
       "      <td>[0.007204481866210699, 0.01930098980665207, -0...</td>\n",
       "      <td>Getting ready for solids</td>\n",
       "      <td>https://www.healthhub.sg/live-healthy/baby-get...</td>\n",
       "      <td>1.0</td>\n",
       "    </tr>\n",
       "  </tbody>\n",
       "</table>\n",
       "</div>"
      ],
      "text/plain": [
       "\n",
       "        id                                              title  \\\n",
       "\u001b[1;36m0\u001b[0m  \u001b[1;36m1443987\u001b[0m  All You Need to Know About Childhood Immunisat\u001b[33m...\u001b[0m   \n",
       "\u001b[1;36m1\u001b[0m  \u001b[1;36m1442828\u001b[0m                           Getting ready for solids   \n",
       "\n",
       "                                            full_url  \\\n",
       "\u001b[1;36m0\u001b[0m  \u001b[4;94mhttps://www.healthhub.sg/live-healthy/all-you-...\u001b[0m   \n",
       "\u001b[1;36m1\u001b[0m  \u001b[4;94mhttps://www.healthhub.sg/live-healthy/baby-get...\u001b[0m   \n",
       "\n",
       "                                             content  \\\n",
       "\u001b[1;36m0\u001b[0m  Every child in Singapore is vaccinated accordi\u001b[33m...\u001b[0m   \n",
       "\u001b[1;36m1\u001b[0m  Weaning Tips\\nThe process of switching an infa\u001b[33m...\u001b[0m   \n",
       "\n",
       "                                    meta_description  \\\n",
       "\u001b[1;36m0\u001b[0m  To prevent diseases such as measles and mumps,\u001b[33m...\u001b[0m   \n",
       "\u001b[1;36m1\u001b[0m  You have breastfed your baby for \u001b[1;36m6\u001b[0m months and \u001b[33m...\u001b[0m   \n",
       "\n",
       "                                        vector_title  \\\n",
       "\u001b[1;36m0\u001b[0m  \u001b[1m[\u001b[0m\u001b[1;36m0.0075735547579824924\u001b[0m, \u001b[1;36m-0.047238513827323914\u001b[0m,\u001b[33m...\u001b[0m   \n",
       "\u001b[1;36m1\u001b[0m  \u001b[1m[\u001b[0m\u001b[1;36m0.035273078829050064\u001b[0m, \u001b[1;36m0.03444071486592293\u001b[0m, \u001b[1;36m-0\u001b[0m\u001b[33m...\u001b[0m   \n",
       "\n",
       "                       vector_article_category_names  \\\n",
       "\u001b[1;36m0\u001b[0m  \u001b[1m[\u001b[0m\u001b[1;36m0.06393319368362427\u001b[0m, \u001b[1;36m0.023783838376402855\u001b[0m, \u001b[1;36m-0\u001b[0m\u001b[33m...\u001b[0m   \n",
       "\u001b[1;36m1\u001b[0m  \u001b[1m[\u001b[0m\u001b[1;36m-0.0363435372710228\u001b[0m, \u001b[1;36m-0.0007167053408920765\u001b[0m, \u001b[33m...\u001b[0m   \n",
       "\n",
       "                         vector_category_description  \\\n",
       "\u001b[1;36m0\u001b[0m  \u001b[1m[\u001b[0m\u001b[1;36m-0.018412871286273003\u001b[0m, \u001b[1;36m0.008014391176402569\u001b[0m, \u001b[33m...\u001b[0m   \n",
       "\u001b[1;36m1\u001b[0m  \u001b[1m[\u001b[0m\u001b[1;36m0.02195669896900654\u001b[0m, \u001b[1;36m0.04195531830191612\u001b[0m, \u001b[1;36m0.0\u001b[0m\u001b[33m...\u001b[0m   \n",
       "\n",
       "                       vector_extracted_content_body  \\\n",
       "\u001b[1;36m0\u001b[0m  \u001b[1m[\u001b[0m\u001b[1;36m0.02329820767045021\u001b[0m, \u001b[1;36m-0.026086032390594482\u001b[0m, -\u001b[33m...\u001b[0m   \n",
       "\u001b[1;36m1\u001b[0m  \u001b[1m[\u001b[0m\u001b[1;36m0.007204481866210699\u001b[0m, \u001b[1;36m0.01930098980665207\u001b[0m, \u001b[1;36m-0\u001b[0m\u001b[33m...\u001b[0m   \n",
       "\n",
       "                                          Page Title  \\\n",
       "\u001b[1;36m0\u001b[0m  All You Need to Know About Childhood Immunisat\u001b[33m...\u001b[0m   \n",
       "\u001b[1;36m1\u001b[0m                           Getting ready for solids   \n",
       "\n",
       "                                                 URL  ground_truth_cluster  \n",
       "\u001b[1;36m0\u001b[0m  \u001b[4;94mhttps://www.healthhub.sg/live-healthy/all-you-...\u001b[0m                  \u001b[1;36m16.0\u001b[0m  \n",
       "\u001b[1;36m1\u001b[0m  \u001b[4;94mhttps://www.healthhub.sg/live-healthy/baby-get...\u001b[0m                   \u001b[1;36m1.0\u001b[0m  "
      ]
     },
     "execution_count": 236,
     "metadata": {},
     "output_type": "execute_result"
    }
   ],
   "source": [
    "# load embeddings file\n",
    "with open(INPUT_EMBEDDING_NEO4J_PATH, \"rb\") as f:\n",
    "    articles = pickle.load(f)\n",
    "\n",
    "# merge with ground truth\n",
    "articles_df = pd.merge(\n",
    "    articles,\n",
    "    ground_truth,\n",
    "    how=\"inner\",\n",
    "    left_on=\"id\",\n",
    "    right_on=\"id\",\n",
    ")\n",
    "\n",
    "if MODEL_NAME != \"tfidf\":\n",
    "    vector_columns = [col for col in articles_df.columns if \"vector\" in col]\n",
    "    for col in vector_columns:\n",
    "        articles_df[col] = articles_df[col].apply(lambda x: x.tolist())\n",
    "\n",
    "print(articles_df.shape)\n",
    "articles_df.head(2)"
   ]
  },
  {
   "cell_type": "markdown",
   "metadata": {},
   "source": [
    "## Clustering"
   ]
  },
  {
   "cell_type": "code",
   "execution_count": 237,
   "metadata": {},
   "outputs": [
    {
     "data": {
      "text/html": [
       "<pre style=\"white-space:pre;overflow-x:auto;line-height:normal;font-family:Menlo,'DejaVu Sans Mono',consolas,'Courier New',monospace\"></pre>\n"
      ],
      "text/plain": []
     },
     "metadata": {},
     "output_type": "display_data"
    },
    {
     "data": {
      "text/plain": [
       "\u001b[1;35mdict_keys\u001b[0m\u001b[1m(\u001b[0m\u001b[1m[\u001b[0m\u001b[32m'id'\u001b[0m, \u001b[32m'title'\u001b[0m, \u001b[32m'full_url'\u001b[0m, \u001b[32m'content'\u001b[0m, \u001b[32m'meta_description'\u001b[0m, \u001b[32m'vector_title'\u001b[0m, \u001b[32m'vector_article_category_names'\u001b[0m, \u001b[32m'vector_category_description'\u001b[0m, \u001b[32m'vector_extracted_content_body'\u001b[0m, \u001b[32m'Page Title'\u001b[0m, \u001b[32m'URL'\u001b[0m, \u001b[32m'ground_truth_cluster'\u001b[0m\u001b[1m]\u001b[0m\u001b[1m)\u001b[0m"
      ]
     },
     "execution_count": 237,
     "metadata": {},
     "output_type": "execute_result"
    }
   ],
   "source": [
    "documents = articles_df.to_dict(orient=\"records\")\n",
    "documents[0].keys()"
   ]
  },
  {
   "cell_type": "code",
   "execution_count": 238,
   "metadata": {},
   "outputs": [],
   "source": [
    "logging.basicConfig(level=logging.INFO)\n",
    "\n",
    "\n",
    "def clear_db(tx):\n",
    "    logging.info(\"Clearing database\")\n",
    "    tx.run(\"MATCH (n) DETACH DELETE n\")\n",
    "\n",
    "\n",
    "def create_graph_nodes(tx, doc):\n",
    "    # logging.info(\"Create nodes\")\n",
    "    tx.run(\n",
    "        \"\"\"\n",
    "    CREATE (d:Article {\n",
    "        id: $id,\n",
    "        title: $title,\n",
    "        url: $url,\n",
    "        content: $content,\n",
    "        meta_desc: $meta_description,\n",
    "        vector_body: $vector_body,\n",
    "        vector_title: $vector_title,\n",
    "        vector_category: $vector_category,\n",
    "        vector_desc: $vector_desc,\n",
    "        ground_truth: $ground_truth\n",
    "    })\"\"\",\n",
    "        id=doc[\"id\"],\n",
    "        title=doc[\"title\"],\n",
    "        url=doc[\"full_url\"],\n",
    "        content=doc[\"content\"],\n",
    "        meta_description=doc[\"meta_description\"],\n",
    "        vector_title=doc[\"vector_title\"],\n",
    "        vector_category=doc[\"vector_article_category_names\"],\n",
    "        vector_desc=doc[\"vector_category_description\"],\n",
    "        vector_body=doc[\"vector_extracted_content_body\"],\n",
    "        ground_truth=doc[\"ground_truth_cluster\"],\n",
    "    )\n",
    "\n",
    "\n",
    "def create_sim_edges(tx, threshold):\n",
    "    logging.info(\"Create edges\")\n",
    "    tx.run(\n",
    "        \"\"\"\n",
    "    MATCH (a:Article), (b:Article)\n",
    "    WHERE a.id < b.id\n",
    "    WITH a, b, gds.similarity.cosine(a.vector_body, b.vector_body) AS similarity\n",
    "    WHERE similarity > $threshold\n",
    "    CREATE (a)-[:SIMILAR {similarity: similarity}]->(b)\n",
    "    \"\"\",\n",
    "        threshold=threshold,\n",
    "    )\n",
    "\n",
    "\n",
    "def drop_graph_projection(tx):\n",
    "    result = tx.run(\n",
    "        \"\"\"\n",
    "    CALL gds.graph.exists('articleGraph')\n",
    "    YIELD exists\n",
    "    RETURN exists\n",
    "    \"\"\"\n",
    "    )\n",
    "    if result.single()[\"exists\"]:\n",
    "        tx.run(\"CALL gds.graph.drop('articleGraph')\")\n",
    "\n",
    "\n",
    "def create_graph_proj(tx):\n",
    "    # logging.info(\"Create projection\")\n",
    "    tx.run(\n",
    "        \"\"\"\n",
    "           CALL gds.graph.project(\n",
    "            'articleGraph',\n",
    "            'Article',\n",
    "            {\n",
    "                SIMILAR: {\n",
    "                    properties: 'similarity'\n",
    "                }\n",
    "            }\n",
    "           )\n",
    "    \"\"\"\n",
    "    )\n",
    "\n",
    "\n",
    "def detect_community(tx):\n",
    "    # logging.info(\"Detect community\")\n",
    "    tx.run(\n",
    "        \"\"\"\n",
    "        CALL gds.louvain.write(\n",
    "        'articleGraph',\n",
    "        {\n",
    "            writeProperty: 'community'\n",
    "        }\n",
    "        )\n",
    "    \"\"\"\n",
    "    )\n",
    "\n",
    "\n",
    "def return_community(tx):\n",
    "    query = \"\"\"\n",
    "        MATCH (a:Article)\n",
    "        RETURN a.community AS cluster, collect(a.title) AS articles\n",
    "        ORDER BY cluster\n",
    "        \"\"\"\n",
    "    result = tx.run(query)\n",
    "    return [record for record in result]\n",
    "\n",
    "\n",
    "def return_pred_cluster(tx):\n",
    "    query = \"\"\"\n",
    "        MATCH (a:Article)\n",
    "        RETURN a.id, a.title, a.url, a.community AS cluster\n",
    "        ORDER BY a.community\n",
    "        \"\"\"\n",
    "    result = tx.run(query)\n",
    "    return [record for record in result]\n",
    "\n",
    "\n",
    "def count_articles(tx):\n",
    "    query = \"\"\"\n",
    "        MATCH (a:Article)\n",
    "        RETURN a.community AS cluster, count(a) AS articleCount\n",
    "        ORDER BY cluster\n",
    "        \"\"\"\n",
    "    result = tx.run(query)\n",
    "    return [record for record in result]"
   ]
  },
  {
   "cell_type": "code",
   "execution_count": 239,
   "metadata": {},
   "outputs": [
    {
     "data": {
      "text/html": [
       "<pre style=\"white-space:pre;overflow-x:auto;line-height:normal;font-family:Menlo,'DejaVu Sans Mono',consolas,'Courier New',monospace\"><span style=\"color: #7fbfbf; text-decoration-color: #7fbfbf\">[07/03/24 17:53:08] </span><span style=\"color: #800000; text-decoration-color: #800000\">WARNING </span> Received notification from DBMS server: <span style=\"font-weight: bold\">{</span>severity: WARNING<span style=\"font-weight: bold\">}</span> <span style=\"font-weight: bold\">{</span>code:       <a href=\"file://c:\\Users\\Joycelyn\\anaconda3\\envs\\genai-hh\\Lib\\site-packages\\neo4j\\_sync\\work\\result.py\" target=\"_blank\"><span style=\"color: #7f7f7f; text-decoration-color: #7f7f7f\">result.py</span></a><span style=\"color: #7f7f7f; text-decoration-color: #7f7f7f\">:</span><a href=\"file://c:\\Users\\Joycelyn\\anaconda3\\envs\\genai-hh\\Lib\\site-packages\\neo4j\\_sync\\work\\result.py#321\" target=\"_blank\"><span style=\"color: #7f7f7f; text-decoration-color: #7f7f7f\">321</span></a>\n",
       "<span style=\"color: #7fbfbf; text-decoration-color: #7fbfbf\">                    </span>         Neo.ClientNotification.Statement.FeatureDeprecationWarning<span style=\"font-weight: bold\">}</span> <span style=\"font-weight: bold\">{</span>category:   <span style=\"color: #7f7f7f; text-decoration-color: #7f7f7f\">             </span>\n",
       "<span style=\"color: #7fbfbf; text-decoration-color: #7fbfbf\">                    </span>         DEPRECATION<span style=\"font-weight: bold\">}</span> <span style=\"font-weight: bold\">{</span>title: This feature is deprecated and will be removed in   <span style=\"color: #7f7f7f; text-decoration-color: #7f7f7f\">             </span>\n",
       "<span style=\"color: #7fbfbf; text-decoration-color: #7fbfbf\">                    </span>         future versions.<span style=\"font-weight: bold\">}</span> <span style=\"font-weight: bold\">{</span>description: The query used a deprecated field from a <span style=\"color: #7f7f7f; text-decoration-color: #7f7f7f\">             </span>\n",
       "<span style=\"color: #7fbfbf; text-decoration-color: #7fbfbf\">                    </span>         procedure. <span style=\"font-weight: bold\">(</span><span style=\"color: #008000; text-decoration-color: #008000\">'schema'</span> returned by <span style=\"color: #008000; text-decoration-color: #008000\">'gds.graph.drop'</span> is deprecated.<span style=\"font-weight: bold\">)}</span>       <span style=\"color: #7f7f7f; text-decoration-color: #7f7f7f\">             </span>\n",
       "<span style=\"color: #7fbfbf; text-decoration-color: #7fbfbf\">                    </span>         <span style=\"font-weight: bold\">{</span>position: line: <span style=\"color: #008080; text-decoration-color: #008080; font-weight: bold\">1</span>, column: <span style=\"color: #008080; text-decoration-color: #008080; font-weight: bold\">1</span>, offset: <span style=\"color: #008080; text-decoration-color: #008080; font-weight: bold\">0</span><span style=\"font-weight: bold\">}</span> for query: <span style=\"color: #008000; text-decoration-color: #008000\">\"CALL </span>              <span style=\"color: #7f7f7f; text-decoration-color: #7f7f7f\">             </span>\n",
       "<span style=\"color: #7fbfbf; text-decoration-color: #7fbfbf\">                    </span>         <span style=\"color: #008000; text-decoration-color: #008000\">gds.graph.drop('articleGraph')\"</span>                                          <span style=\"color: #7f7f7f; text-decoration-color: #7f7f7f\">             </span>\n",
       "</pre>\n"
      ],
      "text/plain": [
       "\u001b[2;36m[07/03/24 17:53:08]\u001b[0m\u001b[2;36m \u001b[0m\u001b[31mWARNING \u001b[0m Received notification from DBMS server: \u001b[1m{\u001b[0mseverity: WARNING\u001b[1m}\u001b[0m \u001b[1m{\u001b[0mcode:       \u001b]8;id=555656;file://c:\\Users\\Joycelyn\\anaconda3\\envs\\genai-hh\\Lib\\site-packages\\neo4j\\_sync\\work\\result.py\u001b\\\u001b[2mresult.py\u001b[0m\u001b]8;;\u001b\\\u001b[2m:\u001b[0m\u001b]8;id=414510;file://c:\\Users\\Joycelyn\\anaconda3\\envs\\genai-hh\\Lib\\site-packages\\neo4j\\_sync\\work\\result.py#321\u001b\\\u001b[2m321\u001b[0m\u001b]8;;\u001b\\\n",
       "\u001b[2;36m                    \u001b[0m         Neo.ClientNotification.Statement.FeatureDeprecationWarning\u001b[1m}\u001b[0m \u001b[1m{\u001b[0mcategory:   \u001b[2m             \u001b[0m\n",
       "\u001b[2;36m                    \u001b[0m         DEPRECATION\u001b[1m}\u001b[0m \u001b[1m{\u001b[0mtitle: This feature is deprecated and will be removed in   \u001b[2m             \u001b[0m\n",
       "\u001b[2;36m                    \u001b[0m         future versions.\u001b[1m}\u001b[0m \u001b[1m{\u001b[0mdescription: The query used a deprecated field from a \u001b[2m             \u001b[0m\n",
       "\u001b[2;36m                    \u001b[0m         procedure. \u001b[1m(\u001b[0m\u001b[32m'schema'\u001b[0m returned by \u001b[32m'gds.graph.drop'\u001b[0m is deprecated.\u001b[1m)\u001b[0m\u001b[1m}\u001b[0m       \u001b[2m             \u001b[0m\n",
       "\u001b[2;36m                    \u001b[0m         \u001b[1m{\u001b[0mposition: line: \u001b[1;36m1\u001b[0m, column: \u001b[1;36m1\u001b[0m, offset: \u001b[1;36m0\u001b[0m\u001b[1m}\u001b[0m for query: \u001b[32m\"CALL \u001b[0m              \u001b[2m             \u001b[0m\n",
       "\u001b[2;36m                    \u001b[0m         \u001b[32mgds.graph.drop\u001b[0m\u001b[32m(\u001b[0m\u001b[32m'articleGraph'\u001b[0m\u001b[32m)\u001b[0m\u001b[32m\"\u001b[0m                                          \u001b[2m             \u001b[0m\n"
      ]
     },
     "metadata": {},
     "output_type": "display_data"
    }
   ],
   "source": [
    "with GraphDatabase.driver(**NEO4J) as driver:\n",
    "    with driver.session() as session:\n",
    "        session.execute_write(clear_db)  # Clear the database\n",
    "        for doc in documents:\n",
    "            session.execute_write(create_graph_nodes, doc)\n",
    "        session.execute_write(create_sim_edges, THRESHOLD)\n",
    "        session.execute_write(drop_graph_projection)\n",
    "        session.execute_write(create_graph_proj)\n",
    "        session.execute_write(detect_community)\n",
    "        records = session.execute_read(return_community)\n",
    "        pred_cluster = session.execute_read(return_pred_cluster)\n",
    "        articles_count = session.execute_read(count_articles)"
   ]
  },
  {
   "cell_type": "code",
   "execution_count": 240,
   "metadata": {},
   "outputs": [],
   "source": [
    "pred_cluster_df = pd.DataFrame(\n",
    "    pred_cluster, columns=[\"id\", \"title\", \"url\", \"pred_cluster\"]\n",
    ")\n",
    "# pred_cluster_df.to_csv(OUTPUT_PREDICTED_CLUSTER_PATH)\n",
    "\n",
    "cluster_article_count = pd.DataFrame(\n",
    "    articles_count, columns=[\"pred_cluster_number\", \"article_count\"]\n",
    ")"
   ]
  },
  {
   "cell_type": "code",
   "execution_count": 241,
   "metadata": {},
   "outputs": [
    {
     "data": {
      "text/html": [
       "<pre style=\"white-space:pre;overflow-x:auto;line-height:normal;font-family:Menlo,'DejaVu Sans Mono',consolas,'Courier New',monospace\"></pre>\n"
      ],
      "text/plain": []
     },
     "metadata": {},
     "output_type": "display_data"
    },
    {
     "data": {
      "text/html": [
       "<div>\n",
       "<style scoped>\n",
       "    .dataframe tbody tr th:only-of-type {\n",
       "        vertical-align: middle;\n",
       "    }\n",
       "\n",
       "    .dataframe tbody tr th {\n",
       "        vertical-align: top;\n",
       "    }\n",
       "\n",
       "    .dataframe thead th {\n",
       "        text-align: right;\n",
       "    }\n",
       "</style>\n",
       "<table border=\"1\" class=\"dataframe\">\n",
       "  <thead>\n",
       "    <tr style=\"text-align: right;\">\n",
       "      <th></th>\n",
       "      <th>id</th>\n",
       "      <th>Page Title</th>\n",
       "      <th>URL</th>\n",
       "      <th>ground_truth_cluster</th>\n",
       "      <th>pred_cluster</th>\n",
       "    </tr>\n",
       "  </thead>\n",
       "  <tbody>\n",
       "    <tr>\n",
       "      <th>0</th>\n",
       "      <td>1443987</td>\n",
       "      <td>All You Need to Know About Childhood Immunisat...</td>\n",
       "      <td>https://www.healthhub.sg/live-healthy/all-you-...</td>\n",
       "      <td>16</td>\n",
       "      <td>0</td>\n",
       "    </tr>\n",
       "    <tr>\n",
       "      <th>1</th>\n",
       "      <td>1442828</td>\n",
       "      <td>Getting ready for solids</td>\n",
       "      <td>https://www.healthhub.sg/live-healthy/baby-get...</td>\n",
       "      <td>1</td>\n",
       "      <td>2</td>\n",
       "    </tr>\n",
       "  </tbody>\n",
       "</table>\n",
       "</div>"
      ],
      "text/plain": [
       "\n",
       "        id                                         Page Title  \\\n",
       "\u001b[1;36m0\u001b[0m  \u001b[1;36m1443987\u001b[0m  All You Need to Know About Childhood Immunisat\u001b[33m...\u001b[0m   \n",
       "\u001b[1;36m1\u001b[0m  \u001b[1;36m1442828\u001b[0m                           Getting ready for solids   \n",
       "\n",
       "                                                 URL  ground_truth_cluster  \\\n",
       "\u001b[1;36m0\u001b[0m  \u001b[4;94mhttps://www.healthhub.sg/live-healthy/all-you-...\u001b[0m                    \u001b[1;36m16\u001b[0m   \n",
       "\u001b[1;36m1\u001b[0m  \u001b[4;94mhttps://www.healthhub.sg/live-healthy/baby-get...\u001b[0m                     \u001b[1;36m1\u001b[0m   \n",
       "\n",
       "   pred_cluster  \n",
       "\u001b[1;36m0\u001b[0m             \u001b[1;36m0\u001b[0m  \n",
       "\u001b[1;36m1\u001b[0m             \u001b[1;36m2\u001b[0m  "
      ]
     },
     "execution_count": 241,
     "metadata": {},
     "output_type": "execute_result"
    }
   ],
   "source": [
    "results_df = pd.merge(\n",
    "    articles_df, pred_cluster_df, how=\"inner\", left_on=\"id\", right_on=\"id\"\n",
    ")\n",
    "\n",
    "results_df = results_df[\n",
    "    [\"id\", \"Page Title\", \"URL\", \"ground_truth_cluster\", \"pred_cluster\"]\n",
    "]\n",
    "results_df[\"ground_truth_cluster\"] = results_df[\"ground_truth_cluster\"].astype(int)\n",
    "\n",
    "results_df.head(2)"
   ]
  },
  {
   "cell_type": "markdown",
   "metadata": {},
   "source": [
    "### Cluster metrics"
   ]
  },
  {
   "cell_type": "code",
   "execution_count": 242,
   "metadata": {},
   "outputs": [],
   "source": [
    "def get_exact_match(results_df):\n",
    "    pred_cluster_labels = results_df.groupby(\"pred_cluster\")[\"id\"].apply(set).to_list()\n",
    "    ground_cluster_labels = (\n",
    "        results_df.groupby(\"ground_truth_cluster\")[\"id\"].apply(set).to_list()\n",
    "    )\n",
    "    complete_match = [s for s in pred_cluster_labels if s in ground_cluster_labels]\n",
    "\n",
    "    return len(complete_match)\n",
    "\n",
    "\n",
    "def fill_single(series):\n",
    "    max_val = series.max()\n",
    "    fill_in_val = max_val\n",
    "    filled_series = series.copy()\n",
    "    for idx in series[series.isna()].index:\n",
    "        filled_series.at[idx] = fill_in_val + 1\n",
    "        fill_in_val += 1\n",
    "    return filled_series.to_list()\n",
    "\n",
    "\n",
    "def compute_vmeasure(results_df):\n",
    "    ground_truth_labels = fill_single(results_df[\"ground_truth_cluster\"])\n",
    "    predicted_labels = fill_single(results_df[\"pred_cluster\"])\n",
    "    homogeneity = homogeneity_score(ground_truth_labels, predicted_labels)\n",
    "    completeness = completeness_score(ground_truth_labels, predicted_labels)\n",
    "    v_measure = v_measure_score(ground_truth_labels, predicted_labels)\n",
    "\n",
    "    return homogeneity, completeness, v_measure"
   ]
  },
  {
   "cell_type": "code",
   "execution_count": 252,
   "metadata": {},
   "outputs": [],
   "source": [
    "min_count = cluster_article_count[cluster_article_count[\"article_count\"] > 1][\n",
    "    \"article_count\"\n",
    "].min()\n",
    "max_count = cluster_article_count[\"article_count\"].max()\n",
    "num_clusters = (cluster_article_count[\"article_count\"] != 1).sum()\n",
    "unclustered_count = (cluster_article_count[\"article_count\"] == 1).sum()\n",
    "\n",
    "exact_match = get_exact_match(results_df)\n",
    "homogeneity, completeness, v_measure = compute_vmeasure(results_df)\n",
    "\n",
    "data = pd.DataFrame(\n",
    "    {\n",
    "        \"Model\": [MODEL_NAME],\n",
    "        \"Threshold\": [THRESHOLD],\n",
    "        \"Exact cluster match\": [exact_match],\n",
    "        \"Homogeneity\": [round(homogeneity, 4)],\n",
    "        \"Completeness\": [round(completeness, 4)],\n",
    "        \"V-measure\": [round(v_measure, 4)],\n",
    "        \"Number of clusters\": [num_clusters],\n",
    "        \"Min cluster size\": [min_count],\n",
    "        \"Max cluster size\": [max_count],\n",
    "        \"Number of articles not clustered\": [unclustered_count],\n",
    "    }\n",
    ")"
   ]
  },
  {
   "cell_type": "code",
   "execution_count": 253,
   "metadata": {},
   "outputs": [
    {
     "data": {
      "text/html": [
       "<pre style=\"white-space:pre;overflow-x:auto;line-height:normal;font-family:Menlo,'DejaVu Sans Mono',consolas,'Courier New',monospace\"></pre>\n"
      ],
      "text/plain": []
     },
     "metadata": {},
     "output_type": "display_data"
    },
    {
     "data": {
      "text/html": [
       "<div>\n",
       "<style scoped>\n",
       "    .dataframe tbody tr th:only-of-type {\n",
       "        vertical-align: middle;\n",
       "    }\n",
       "\n",
       "    .dataframe tbody tr th {\n",
       "        vertical-align: top;\n",
       "    }\n",
       "\n",
       "    .dataframe thead th {\n",
       "        text-align: right;\n",
       "    }\n",
       "</style>\n",
       "<table border=\"1\" class=\"dataframe\">\n",
       "  <thead>\n",
       "    <tr style=\"text-align: right;\">\n",
       "      <th></th>\n",
       "      <th>Model</th>\n",
       "      <th>Threshold</th>\n",
       "      <th>Exact cluster match</th>\n",
       "      <th>Homogeneity</th>\n",
       "      <th>Completeness</th>\n",
       "      <th>V-measure</th>\n",
       "      <th>Number of clusters</th>\n",
       "      <th>Min cluster size</th>\n",
       "      <th>Max cluster size</th>\n",
       "      <th>Number of articles not clustered</th>\n",
       "    </tr>\n",
       "  </thead>\n",
       "  <tbody>\n",
       "    <tr>\n",
       "      <th>0</th>\n",
       "      <td>all-mpnet-base-v2</td>\n",
       "      <td>0.7446</td>\n",
       "      <td>14</td>\n",
       "      <td>0.8027</td>\n",
       "      <td>0.9075</td>\n",
       "      <td>0.8519</td>\n",
       "      <td>27</td>\n",
       "      <td>2</td>\n",
       "      <td>26</td>\n",
       "      <td>27</td>\n",
       "    </tr>\n",
       "  </tbody>\n",
       "</table>\n",
       "</div>"
      ],
      "text/plain": [
       "\n",
       "               Model  Threshold  Exact cluster match  Homogeneity  \\\n",
       "\u001b[1;36m0\u001b[0m  all-mpnet-base-v2     \u001b[1;36m0.7446\u001b[0m                   \u001b[1;36m14\u001b[0m       \u001b[1;36m0.8027\u001b[0m   \n",
       "\n",
       "   Completeness  V-measure  Number of clusters  Min cluster size  \\\n",
       "\u001b[1;36m0\u001b[0m        \u001b[1;36m0.9075\u001b[0m     \u001b[1;36m0.8519\u001b[0m                  \u001b[1;36m27\u001b[0m                 \u001b[1;36m2\u001b[0m   \n",
       "\n",
       "   Max cluster size  Number of articles not clustered  \n",
       "\u001b[1;36m0\u001b[0m                \u001b[1;36m26\u001b[0m                                \u001b[1;36m27\u001b[0m  "
      ]
     },
     "execution_count": 253,
     "metadata": {},
     "output_type": "execute_result"
    }
   ],
   "source": [
    "data"
   ]
  },
  {
   "cell_type": "code",
   "execution_count": null,
   "metadata": {},
   "outputs": [],
   "source": [
    "if os.path.exists(OUTPUT_CLUSTER_METRICS_PATH):\n",
    "    metrics_df = pd.read_csv(OUTPUT_CLUSTER_METRICS_PATH, index_col=0)\n",
    "else:\n",
    "    metrics_df = pd.DataFrame()\n",
    "\n",
    "metrics_df = pd.concat([metrics_df, data], axis=0)\n",
    "metrics_df.to_csv(OUTPUT_CLUSTER_METRICS_PATH)\n",
    "metrics_df"
   ]
  },
  {
   "cell_type": "markdown",
   "metadata": {},
   "source": [
    "### Cluster visualisation"
   ]
  },
  {
   "cell_type": "code",
   "execution_count": 249,
   "metadata": {},
   "outputs": [],
   "source": [
    "query = \"\"\"\n",
    "MATCH (n)-[r]->(m)\n",
    "RETURN n.id AS node_1_id,\n",
    "    m.id AS node_2_id,\n",
    "    n.title AS node_1_title,\n",
    "    m.title AS node_2_title,\n",
    "    r.similarity AS edge_weight,\n",
    "    n.ground_truth AS node_1_ground_truth,\n",
    "    m.ground_truth AS node_2_ground_truth,\n",
    "    n.community AS node_1_pred_cluster,\n",
    "    m.community AS node_2_pred_cluster\n",
    "\"\"\"\n",
    "# nodes with no relationship\n",
    "query_2 = \"\"\"MATCH (n)\n",
    "WHERE NOT EXISTS ((n)--())\n",
    "RETURN n.title AS node_title,\n",
    "    n.ground_truth AS node_ground_truth,\n",
    "    n.community AS node_community,\n",
    "    n.meta_desc AS node_meta_desc\n",
    "\"\"\"\n",
    "with GraphDatabase.driver(**NEO4J) as driver:\n",
    "    with driver.session() as session:\n",
    "        results = session.run(query)\n",
    "        data = pd.DataFrame(results.data())\n",
    "        results_2 = session.run(query_2)\n",
    "        data_2 = pd.DataFrame(results_2.data())\n",
    "\n",
    "data[\"node_1_title\"] = data[\"node_1_title\"].astype(str)\n",
    "data[\"node_2_title\"] = data[\"node_2_title\"].astype(str)\n",
    "# data = data.dropna(subset=['node_2'])\n",
    "\n",
    "data_2[\"node_community\"] = \"\"\n",
    "\n",
    "# save nodes and edges of clustered and unclustered (single nodes) data for visualisation\n",
    "data.to_csv(\n",
    "    os.path.join(\n",
    "        NEO4J_FOLDER_PATH,\n",
    "        f\"{MODEL_NAME}_neo4j_clustered_data_th{'0'+ str(int(THRESHOLD*100))}.csv\",\n",
    "    )\n",
    ")\n",
    "data_2.to_csv(\n",
    "    os.path.join(\n",
    "        NEO4J_FOLDER_PATH,\n",
    "        f\"{MODEL_NAME}_neo4j_unclustered_data_th{'0'+ str(int(THRESHOLD*100))}.csv\",\n",
    "    )\n",
    ")"
   ]
  },
  {
   "cell_type": "markdown",
   "metadata": {},
   "source": [
    "## End"
   ]
  }
 ],
 "metadata": {
  "kernelspec": {
   "display_name": ".venv",
   "language": "python",
   "name": "python3"
  },
  "language_info": {
   "codemirror_mode": {
    "name": "ipython",
    "version": 3
   },
   "file_extension": ".py",
   "mimetype": "text/x-python",
   "name": "python",
   "nbconvert_exporter": "python",
   "pygments_lexer": "ipython3",
   "version": "3.12.3"
  }
 },
 "nbformat": 4,
 "nbformat_minor": 2
}
