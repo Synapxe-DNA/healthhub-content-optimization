{
 "cells": [
  {
   "cell_type": "markdown",
   "metadata": {},
   "source": [
    "### Setup"
   ]
  },
  {
   "cell_type": "code",
   "execution_count": 1,
   "metadata": {},
   "outputs": [],
   "source": [
    "%%capture\n",
    "%load_ext kedro.ipython"
   ]
  },
  {
   "cell_type": "code",
   "execution_count": 2,
   "metadata": {},
   "outputs": [],
   "source": [
    "%%capture\n",
    "import logging\n",
    "import os\n",
    "import pickle\n",
    "\n",
    "import pandas as pd\n",
    "from dotenv import load_dotenv\n",
    "from neo4j import GraphDatabase\n",
    "from neo4j.exceptions import DriverError, Neo4jError\n",
    "from sklearn.metrics import completeness_score, homogeneity_score, v_measure_score\n",
    "\n",
    "load_dotenv(r\"..\\conf\\local\\.env\")"
   ]
  },
  {
   "cell_type": "code",
   "execution_count": 3,
   "metadata": {},
   "outputs": [],
   "source": [
    "# Parameters\n",
    "MODEL_NAME: str = \"multi-qa-mpnet-base-cos-v1\"\n",
    "CONTRIBUTOR: str = \"Health Promotion Board\"\n",
    "\n",
    "# specify content_category. input 'all' if running across all categories\n",
    "CONTENT_CATEGORY: str = \"live-healthy-articles\"\n",
    "\n",
    "# adjust accordingly\n",
    "THRESHOLD: float = 0.7"
   ]
  },
  {
   "cell_type": "code",
   "execution_count": 4,
   "metadata": {},
   "outputs": [],
   "source": [
    "INPUT_GROUNDTRUTH_PATH = os.path.join(\n",
    "    \"..\",\n",
    "    \"data\",\n",
    "    \"01_raw\",\n",
    "    \"Synapxe Content Prioritisation - Live Healthy_020724.xlsx\",\n",
    ")\n",
    "\n",
    "DATA_FOLDER_PATH = os.path.join(\n",
    "    \"..\",\n",
    "    \"data\",\n",
    "    \"07_model_output\",\n",
    "    f\"{CONTENT_CATEGORY}\",\n",
    ")\n",
    "\n",
    "INPUT_EMBEDDING_NEO4J_PATH = os.path.join(\n",
    "    DATA_FOLDER_PATH,\n",
    "    f\"{CONTENT_CATEGORY}_{MODEL_NAME}_embeddings_neo4j.pkl\",\n",
    ")\n",
    "\n",
    "# Cluster metrics output\n",
    "OUTPUT_CLUSTER_METRICS_PATH = os.path.join(\n",
    "    \"..\",\n",
    "    \"data\",\n",
    "    \"07_model_output\",\n",
    "    f\"{CONTENT_CATEGORY}\",\n",
    "    f\"{CONTENT_CATEGORY}_compiled_model_variation_metrics.csv\",\n",
    ")"
   ]
  },
  {
   "cell_type": "markdown",
   "metadata": {},
   "source": [
    "## Load files"
   ]
  },
  {
   "cell_type": "code",
   "execution_count": 5,
   "metadata": {},
   "outputs": [
    {
     "data": {
      "text/html": [
       "<pre style=\"white-space:pre;overflow-x:auto;line-height:normal;font-family:Menlo,'DejaVu Sans Mono',consolas,'Courier New',monospace\"><span style=\"color: #7fbfbf; text-decoration-color: #7fbfbf\">[07/01/24 19:57:46] </span><span style=\"color: #000080; text-decoration-color: #000080\">INFO    </span> Loading data from <span style=\"color: #ff8700; text-decoration-color: #ff8700\">merged_data</span> <span style=\"font-weight: bold\">(</span>ParquetDataset<span style=\"font-weight: bold\">)</span><span style=\"color: #808000; text-decoration-color: #808000\">...</span>                  <a href=\"file://c:\\Users\\Joycelyn\\anaconda3\\envs\\genai-hh\\Lib\\site-packages\\kedro\\io\\data_catalog.py\" target=\"_blank\"><span style=\"color: #7f7f7f; text-decoration-color: #7f7f7f\">data_catalog.py</span></a><span style=\"color: #7f7f7f; text-decoration-color: #7f7f7f\">:</span><a href=\"file://c:\\Users\\Joycelyn\\anaconda3\\envs\\genai-hh\\Lib\\site-packages\\kedro\\io\\data_catalog.py#508\" target=\"_blank\"><span style=\"color: #7f7f7f; text-decoration-color: #7f7f7f\">508</span></a>\n",
       "</pre>\n"
      ],
      "text/plain": [
       "\u001b[2;36m[07/01/24 19:57:46]\u001b[0m\u001b[2;36m \u001b[0m\u001b[34mINFO    \u001b[0m Loading data from \u001b[38;5;208mmerged_data\u001b[0m \u001b[1m(\u001b[0mParquetDataset\u001b[1m)\u001b[0m\u001b[33m...\u001b[0m                  \u001b]8;id=891211;file://c:\\Users\\Joycelyn\\anaconda3\\envs\\genai-hh\\Lib\\site-packages\\kedro\\io\\data_catalog.py\u001b\\\u001b[2mdata_catalog.py\u001b[0m\u001b]8;;\u001b\\\u001b[2m:\u001b[0m\u001b]8;id=913889;file://c:\\Users\\Joycelyn\\anaconda3\\envs\\genai-hh\\Lib\\site-packages\\kedro\\io\\data_catalog.py#508\u001b\\\u001b[2m508\u001b[0m\u001b]8;;\u001b\\\n"
      ]
     },
     "metadata": {},
     "output_type": "display_data"
    },
    {
     "name": "stdout",
     "output_type": "stream",
     "text": [
      "(184, 4)\n"
     ]
    },
    {
     "data": {
      "text/html": [
       "<pre style=\"white-space:pre;overflow-x:auto;line-height:normal;font-family:Menlo,'DejaVu Sans Mono',consolas,'Courier New',monospace\"></pre>\n"
      ],
      "text/plain": []
     },
     "metadata": {},
     "output_type": "display_data"
    },
    {
     "data": {
      "text/html": [
       "<div>\n",
       "<style scoped>\n",
       "    .dataframe tbody tr th:only-of-type {\n",
       "        vertical-align: middle;\n",
       "    }\n",
       "\n",
       "    .dataframe tbody tr th {\n",
       "        vertical-align: top;\n",
       "    }\n",
       "\n",
       "    .dataframe thead th {\n",
       "        text-align: right;\n",
       "    }\n",
       "</style>\n",
       "<table border=\"1\" class=\"dataframe\">\n",
       "  <thead>\n",
       "    <tr style=\"text-align: right;\">\n",
       "      <th></th>\n",
       "      <th>id</th>\n",
       "      <th>Page Title</th>\n",
       "      <th>URL</th>\n",
       "      <th>ground_truth_cluster</th>\n",
       "    </tr>\n",
       "  </thead>\n",
       "  <tbody>\n",
       "    <tr>\n",
       "      <th>0</th>\n",
       "      <td>1442828</td>\n",
       "      <td>Getting ready for solids</td>\n",
       "      <td>https://www.healthhub.sg/live-healthy/baby-get...</td>\n",
       "      <td>1.0</td>\n",
       "    </tr>\n",
       "    <tr>\n",
       "      <th>1</th>\n",
       "      <td>1445136</td>\n",
       "      <td>Getting Your Baby Started on Solids</td>\n",
       "      <td>https://www.healthhub.sg/live-healthy/getting-...</td>\n",
       "      <td>1.0</td>\n",
       "    </tr>\n",
       "  </tbody>\n",
       "</table>\n",
       "</div>"
      ],
      "text/plain": [
       "\n",
       "        id                           Page Title  \\\n",
       "\u001b[1;36m0\u001b[0m  \u001b[1;36m1442828\u001b[0m             Getting ready for solids   \n",
       "\u001b[1;36m1\u001b[0m  \u001b[1;36m1445136\u001b[0m  Getting Your Baby Started on Solids   \n",
       "\n",
       "                                                 URL  ground_truth_cluster  \n",
       "\u001b[1;36m0\u001b[0m  \u001b[4;94mhttps://www.healthhub.sg/live-healthy/baby-get...\u001b[0m                   \u001b[1;36m1.0\u001b[0m  \n",
       "\u001b[1;36m1\u001b[0m  \u001b[4;94mhttps://www.healthhub.sg/live-healthy/getting-...\u001b[0m                   \u001b[1;36m1.0\u001b[0m  "
      ]
     },
     "execution_count": 5,
     "metadata": {},
     "output_type": "execute_result"
    }
   ],
   "source": [
    "# Load merged_df data\n",
    "merged_data_df = catalog.load(\"merged_data\")  # noqa\n",
    "\n",
    "# load ground truth data\n",
    "ground_truth = pd.read_excel(INPUT_GROUNDTRUTH_PATH, sheet_name=2)\n",
    "ground_truth = ground_truth[ground_truth[\"Owner\"].str.contains(CONTRIBUTOR)]\n",
    "ground_truth = ground_truth[[\"Page Title\", \"Combine Group ID\", \"URL\"]]\n",
    "ground_truth = ground_truth[ground_truth[\"Combine Group ID\"].notna()]\n",
    "\n",
    "# Extract id from merged_data_df to ground truth\n",
    "ground_truth = pd.merge(\n",
    "    ground_truth, merged_data_df, how=\"inner\", left_on=\"URL\", right_on=\"full_url\"\n",
    ")\n",
    "ground_truth = ground_truth[[\"id\", \"Page Title\", \"URL\", \"Combine Group ID\"]]\n",
    "ground_truth.rename(columns={\"Combine Group ID\": \"ground_truth_cluster\"}, inplace=True)\n",
    "\n",
    "print(ground_truth.shape)\n",
    "ground_truth.head(2)"
   ]
  },
  {
   "cell_type": "code",
   "execution_count": 6,
   "metadata": {},
   "outputs": [
    {
     "name": "stdout",
     "output_type": "stream",
     "text": [
      "(176, 11)\n"
     ]
    },
    {
     "data": {
      "text/html": [
       "<pre style=\"white-space:pre;overflow-x:auto;line-height:normal;font-family:Menlo,'DejaVu Sans Mono',consolas,'Courier New',monospace\"></pre>\n"
      ],
      "text/plain": []
     },
     "metadata": {},
     "output_type": "display_data"
    },
    {
     "data": {
      "text/html": [
       "<div>\n",
       "<style scoped>\n",
       "    .dataframe tbody tr th:only-of-type {\n",
       "        vertical-align: middle;\n",
       "    }\n",
       "\n",
       "    .dataframe tbody tr th {\n",
       "        vertical-align: top;\n",
       "    }\n",
       "\n",
       "    .dataframe thead th {\n",
       "        text-align: right;\n",
       "    }\n",
       "</style>\n",
       "<table border=\"1\" class=\"dataframe\">\n",
       "  <thead>\n",
       "    <tr style=\"text-align: right;\">\n",
       "      <th></th>\n",
       "      <th>id</th>\n",
       "      <th>title</th>\n",
       "      <th>content</th>\n",
       "      <th>meta_description</th>\n",
       "      <th>vector_title</th>\n",
       "      <th>vector_article_category_names</th>\n",
       "      <th>vector_category_description</th>\n",
       "      <th>vector_extracted_content_body</th>\n",
       "      <th>Page Title</th>\n",
       "      <th>URL</th>\n",
       "      <th>ground_truth_cluster</th>\n",
       "    </tr>\n",
       "  </thead>\n",
       "  <tbody>\n",
       "    <tr>\n",
       "      <th>0</th>\n",
       "      <td>1443987</td>\n",
       "      <td>All You Need to Know About Childhood Immunisat...</td>\n",
       "      <td>Every child in Singapore is vaccinated accordi...</td>\n",
       "      <td>To prevent diseases such as measles and mumps,...</td>\n",
       "      <td>[0.026093585416674614, -0.08094950020313263, 0...</td>\n",
       "      <td>[0.06738588958978653, 0.01577157713472843, -0....</td>\n",
       "      <td>[-0.030145417898893356, -0.01659725420176983, ...</td>\n",
       "      <td>[0.032343365252017975, -0.04923023656010628, -...</td>\n",
       "      <td>All You Need to Know About Childhood Immunisat...</td>\n",
       "      <td>https://www.healthhub.sg/live-healthy/all-you-...</td>\n",
       "      <td>16.0</td>\n",
       "    </tr>\n",
       "    <tr>\n",
       "      <th>1</th>\n",
       "      <td>1442828</td>\n",
       "      <td>Getting ready for solids</td>\n",
       "      <td>Weaning Tips\\nThe process of switching an infa...</td>\n",
       "      <td>You have breastfed your baby for 6 months and ...</td>\n",
       "      <td>[0.059254396706819534, 0.08260774612426758, -0...</td>\n",
       "      <td>[0.0, 0.0, 0.0, 0.0, 0.0, 0.0, 0.0, 0.0, 0.0, ...</td>\n",
       "      <td>[0.032028209418058395, 0.01828153245151043, 0....</td>\n",
       "      <td>[0.02785884588956833, 0.027463257312774658, 0....</td>\n",
       "      <td>Getting ready for solids</td>\n",
       "      <td>https://www.healthhub.sg/live-healthy/baby-get...</td>\n",
       "      <td>1.0</td>\n",
       "    </tr>\n",
       "  </tbody>\n",
       "</table>\n",
       "</div>"
      ],
      "text/plain": [
       "\n",
       "        id                                              title  \\\n",
       "\u001b[1;36m0\u001b[0m  \u001b[1;36m1443987\u001b[0m  All You Need to Know About Childhood Immunisat\u001b[33m...\u001b[0m   \n",
       "\u001b[1;36m1\u001b[0m  \u001b[1;36m1442828\u001b[0m                           Getting ready for solids   \n",
       "\n",
       "                                             content  \\\n",
       "\u001b[1;36m0\u001b[0m  Every child in Singapore is vaccinated accordi\u001b[33m...\u001b[0m   \n",
       "\u001b[1;36m1\u001b[0m  Weaning Tips\\nThe process of switching an infa\u001b[33m...\u001b[0m   \n",
       "\n",
       "                                    meta_description  \\\n",
       "\u001b[1;36m0\u001b[0m  To prevent diseases such as measles and mumps,\u001b[33m...\u001b[0m   \n",
       "\u001b[1;36m1\u001b[0m  You have breastfed your baby for \u001b[1;36m6\u001b[0m months and \u001b[33m...\u001b[0m   \n",
       "\n",
       "                                        vector_title  \\\n",
       "\u001b[1;36m0\u001b[0m  \u001b[1m[\u001b[0m\u001b[1;36m0.026093585416674614\u001b[0m, \u001b[1;36m-0.08094950020313263\u001b[0m, \u001b[1;36m0\u001b[0m\u001b[33m...\u001b[0m   \n",
       "\u001b[1;36m1\u001b[0m  \u001b[1m[\u001b[0m\u001b[1;36m0.059254396706819534\u001b[0m, \u001b[1;36m0.08260774612426758\u001b[0m, \u001b[1;36m-0\u001b[0m\u001b[33m...\u001b[0m   \n",
       "\n",
       "                       vector_article_category_names  \\\n",
       "\u001b[1;36m0\u001b[0m  \u001b[1m[\u001b[0m\u001b[1;36m0.06738588958978653\u001b[0m, \u001b[1;36m0.01577157713472843\u001b[0m, \u001b[1;36m-0\u001b[0m\u001b[33m...\u001b[0m.   \n",
       "\u001b[1;36m1\u001b[0m  \u001b[1m[\u001b[0m\u001b[1;36m0.0\u001b[0m, \u001b[1;36m0.0\u001b[0m, \u001b[1;36m0.0\u001b[0m, \u001b[1;36m0.0\u001b[0m, \u001b[1;36m0.0\u001b[0m, \u001b[1;36m0.0\u001b[0m, \u001b[1;36m0.0\u001b[0m, \u001b[1;36m0.0\u001b[0m, \u001b[1;36m0.0\u001b[0m, \u001b[33m...\u001b[0m   \n",
       "\n",
       "                         vector_category_description  \\\n",
       "\u001b[1;36m0\u001b[0m  \u001b[1m[\u001b[0m\u001b[1;36m-0.030145417898893356\u001b[0m, \u001b[1;36m-0.01659725420176983\u001b[0m, \u001b[33m...\u001b[0m   \n",
       "\u001b[1;36m1\u001b[0m  \u001b[1m[\u001b[0m\u001b[1;36m0.032028209418058395\u001b[0m, \u001b[1;36m0.01828153245151043\u001b[0m, \u001b[1;36m0\u001b[0m\u001b[33m...\u001b[0m.   \n",
       "\n",
       "                       vector_extracted_content_body  \\\n",
       "\u001b[1;36m0\u001b[0m  \u001b[1m[\u001b[0m\u001b[1;36m0.032343365252017975\u001b[0m, \u001b[1;36m-0.04923023656010628\u001b[0m, -\u001b[33m...\u001b[0m   \n",
       "\u001b[1;36m1\u001b[0m  \u001b[1m[\u001b[0m\u001b[1;36m0.02785884588956833\u001b[0m, \u001b[1;36m0.027463257312774658\u001b[0m, \u001b[1;36m0\u001b[0m\u001b[33m...\u001b[0m.   \n",
       "\n",
       "                                          Page Title  \\\n",
       "\u001b[1;36m0\u001b[0m  All You Need to Know About Childhood Immunisat\u001b[33m...\u001b[0m   \n",
       "\u001b[1;36m1\u001b[0m                           Getting ready for solids   \n",
       "\n",
       "                                                 URL  ground_truth_cluster  \n",
       "\u001b[1;36m0\u001b[0m  \u001b[4;94mhttps://www.healthhub.sg/live-healthy/all-you-...\u001b[0m                  \u001b[1;36m16.0\u001b[0m  \n",
       "\u001b[1;36m1\u001b[0m  \u001b[4;94mhttps://www.healthhub.sg/live-healthy/baby-get...\u001b[0m                   \u001b[1;36m1.0\u001b[0m  "
      ]
     },
     "execution_count": 6,
     "metadata": {},
     "output_type": "execute_result"
    }
   ],
   "source": [
    "# load embeddings file\n",
    "with open(INPUT_EMBEDDING_NEO4J_PATH, \"rb\") as f:\n",
    "    articles = pickle.load(f)\n",
    "\n",
    "# merge with ground truth\n",
    "articles_df = pd.merge(\n",
    "    articles,\n",
    "    ground_truth,\n",
    "    how=\"inner\",\n",
    "    left_on=\"id\",\n",
    "    right_on=\"id\",\n",
    ")\n",
    "\n",
    "vector_columns = [col for col in articles_df.columns if \"vector\" in col]\n",
    "for col in vector_columns:\n",
    "    articles_df[col] = articles_df[col].apply(lambda x: x.tolist())\n",
    "\n",
    "print(articles_df.shape)\n",
    "articles_df.head(2)"
   ]
  },
  {
   "cell_type": "markdown",
   "metadata": {},
   "source": [
    "## Connect to neo4j"
   ]
  },
  {
   "cell_type": "code",
   "execution_count": 7,
   "metadata": {},
   "outputs": [
    {
     "name": "stdout",
     "output_type": "stream",
     "text": [
      "Connection estabilished.\n"
     ]
    }
   ],
   "source": [
    "uri = \"neo4j://localhost:7687\"\n",
    "username = os.getenv(\"neo4j_username\")\n",
    "password = os.getenv(\"neo4j_password\")\n",
    "# driver = GraphDatabase.driver(uri, auth=(username, password))\n",
    "\n",
    "NEO4J = {\n",
    "    \"uri\": uri,\n",
    "    \"auth\": (username, password),\n",
    "    \"database\": CONTENT_CATEGORY,  # create this database in neo4j first\n",
    "}\n",
    "\n",
    "# Test connection\n",
    "with GraphDatabase.driver(**NEO4J) as driver:\n",
    "    try:\n",
    "        driver.verify_connectivity()\n",
    "        print(\"Connection estabilished.\")\n",
    "    except (DriverError, Neo4jError) as exception:\n",
    "        print(exception)"
   ]
  },
  {
   "cell_type": "markdown",
   "metadata": {},
   "source": [
    "## Clustering"
   ]
  },
  {
   "cell_type": "code",
   "execution_count": 8,
   "metadata": {},
   "outputs": [],
   "source": [
    "logging.basicConfig(level=logging.INFO)\n",
    "\n",
    "\n",
    "def clear_db(tx):\n",
    "    logging.info(\"Clearing database\")\n",
    "    tx.run(\"MATCH (n) DETACH DELETE n\")\n",
    "\n",
    "\n",
    "def create_graph_nodes(tx, doc):\n",
    "    # logging.info(\"Create nodes\")\n",
    "    tx.run(\n",
    "        \"\"\"\n",
    "    CREATE (d:Article {\n",
    "        id: $id,\n",
    "        title: $title,\n",
    "        content: $content,\n",
    "        meta_desc: $meta_description,\n",
    "        vector_body: $vector_body,\n",
    "        vector_title: $vector_title,\n",
    "        vector_category: $vector_category,\n",
    "        vector_desc: $vector_desc,\n",
    "        ground_truth: $ground_truth\n",
    "    })\"\"\",\n",
    "        id=doc[\"id\"],\n",
    "        title=doc[\"title\"],\n",
    "        content=doc[\"content\"],\n",
    "        meta_description=doc[\"meta_description\"],\n",
    "        vector_title=doc[\"vector_title\"],\n",
    "        vector_category=doc[\"vector_article_category_names\"],\n",
    "        vector_desc=doc[\"vector_category_description\"],\n",
    "        vector_body=doc[\"vector_extracted_content_body\"],\n",
    "        ground_truth=doc[\"ground_truth_cluster\"],\n",
    "    )\n",
    "\n",
    "\n",
    "def create_sim_edges(tx, threshold):\n",
    "    logging.info(\"Create edges\")\n",
    "    tx.run(\n",
    "        \"\"\"\n",
    "    MATCH (a:Article), (b:Article)\n",
    "    WHERE a.id < b.id\n",
    "    WITH a, b, gds.similarity.cosine(a.vector_body, b.vector_body) AS similarity\n",
    "    WHERE similarity > $threshold\n",
    "    CREATE (a)-[:SIMILAR {similarity: similarity}]->(b)\n",
    "    \"\"\",\n",
    "        threshold=threshold,\n",
    "    )\n",
    "\n",
    "\n",
    "def drop_graph_projection(tx):\n",
    "    result = tx.run(\n",
    "        \"\"\"\n",
    "    CALL gds.graph.exists('articleGraph')\n",
    "    YIELD exists\n",
    "    RETURN exists\n",
    "    \"\"\"\n",
    "    )\n",
    "    if result.single()[\"exists\"]:\n",
    "        tx.run(\"CALL gds.graph.drop('articleGraph')\")\n",
    "\n",
    "\n",
    "def create_graph_proj(tx):\n",
    "    # logging.info(\"Create projection\")\n",
    "    tx.run(\n",
    "        \"\"\"\n",
    "           CALL gds.graph.project(\n",
    "            'articleGraph',\n",
    "            'Article',\n",
    "            {\n",
    "                SIMILAR: {\n",
    "                    properties: 'similarity'\n",
    "                }\n",
    "            }\n",
    "           )\n",
    "    \"\"\"\n",
    "    )\n",
    "\n",
    "\n",
    "def detect_community(tx):\n",
    "    # logging.info(\"Detect community\")\n",
    "    tx.run(\n",
    "        \"\"\"\n",
    "        CALL gds.louvain.write(\n",
    "        'articleGraph',\n",
    "        {\n",
    "            writeProperty: 'community'\n",
    "        }\n",
    "        )\n",
    "    \"\"\"\n",
    "    )\n",
    "\n",
    "\n",
    "def return_community(tx):\n",
    "    query = \"\"\"\n",
    "        MATCH (a:Article)\n",
    "        RETURN a.community AS cluster, collect(a.title) AS articles\n",
    "        ORDER BY cluster\n",
    "        \"\"\"\n",
    "    result = tx.run(query)\n",
    "    return [record for record in result]\n",
    "\n",
    "\n",
    "def return_pred_cluster(tx):\n",
    "    query = \"\"\"\n",
    "        MATCH (a:Article)\n",
    "        RETURN a.id, a.title, a.community AS cluster\n",
    "        ORDER BY a.community\n",
    "        \"\"\"\n",
    "    result = tx.run(query)\n",
    "    return [record for record in result]\n",
    "\n",
    "\n",
    "def count_articles(tx):\n",
    "    query = \"\"\"\n",
    "        MATCH (a:Article)\n",
    "        RETURN a.community AS cluster, count(a) AS articleCount\n",
    "        ORDER BY cluster\n",
    "        \"\"\"\n",
    "    result = tx.run(query)\n",
    "    return [record for record in result]\n",
    "\n",
    "\n",
    "def get_cluster_min_max(neo4j_clusters_df):\n",
    "    value_counts = neo4j_clusters_df[\"number_articles\"].value_counts()\n",
    "    filtered_counts = value_counts[value_counts > 1]\n",
    "    max = filtered_counts.max()\n",
    "    min = filtered_counts.min()\n",
    "    return min, max"
   ]
  },
  {
   "cell_type": "code",
   "execution_count": 9,
   "metadata": {},
   "outputs": [
    {
     "data": {
      "text/html": [
       "<pre style=\"white-space:pre;overflow-x:auto;line-height:normal;font-family:Menlo,'DejaVu Sans Mono',consolas,'Courier New',monospace\"></pre>\n"
      ],
      "text/plain": []
     },
     "metadata": {},
     "output_type": "display_data"
    },
    {
     "data": {
      "text/plain": [
       "\u001b[1;35mdict_keys\u001b[0m\u001b[1m(\u001b[0m\u001b[1m[\u001b[0m\u001b[32m'id'\u001b[0m, \u001b[32m'title'\u001b[0m, \u001b[32m'content'\u001b[0m, \u001b[32m'meta_description'\u001b[0m, \u001b[32m'vector_title'\u001b[0m, \u001b[32m'vector_article_category_names'\u001b[0m, \u001b[32m'vector_category_description'\u001b[0m, \u001b[32m'vector_extracted_content_body'\u001b[0m, \u001b[32m'Page Title'\u001b[0m, \u001b[32m'URL'\u001b[0m, \u001b[32m'ground_truth_cluster'\u001b[0m\u001b[1m]\u001b[0m\u001b[1m)\u001b[0m"
      ]
     },
     "execution_count": 9,
     "metadata": {},
     "output_type": "execute_result"
    }
   ],
   "source": [
    "documents = articles_df.to_dict(orient=\"records\")\n",
    "documents[0].keys()"
   ]
  },
  {
   "cell_type": "code",
   "execution_count": 10,
   "metadata": {},
   "outputs": [
    {
     "data": {
      "text/html": [
       "<pre style=\"white-space:pre;overflow-x:auto;line-height:normal;font-family:Menlo,'DejaVu Sans Mono',consolas,'Courier New',monospace\"><span style=\"color: #7fbfbf; text-decoration-color: #7fbfbf\">[07/01/24 19:58:04] </span><span style=\"color: #800000; text-decoration-color: #800000\">WARNING </span> Received notification from DBMS server: <span style=\"font-weight: bold\">{</span>severity: WARNING<span style=\"font-weight: bold\">}</span> <span style=\"font-weight: bold\">{</span>code:       <a href=\"file://c:\\Users\\Joycelyn\\anaconda3\\envs\\genai-hh\\Lib\\site-packages\\neo4j\\_sync\\work\\result.py\" target=\"_blank\"><span style=\"color: #7f7f7f; text-decoration-color: #7f7f7f\">result.py</span></a><span style=\"color: #7f7f7f; text-decoration-color: #7f7f7f\">:</span><a href=\"file://c:\\Users\\Joycelyn\\anaconda3\\envs\\genai-hh\\Lib\\site-packages\\neo4j\\_sync\\work\\result.py#321\" target=\"_blank\"><span style=\"color: #7f7f7f; text-decoration-color: #7f7f7f\">321</span></a>\n",
       "<span style=\"color: #7fbfbf; text-decoration-color: #7fbfbf\">                    </span>         Neo.ClientNotification.Statement.FeatureDeprecationWarning<span style=\"font-weight: bold\">}</span> <span style=\"font-weight: bold\">{</span>category:   <span style=\"color: #7f7f7f; text-decoration-color: #7f7f7f\">             </span>\n",
       "<span style=\"color: #7fbfbf; text-decoration-color: #7fbfbf\">                    </span>         DEPRECATION<span style=\"font-weight: bold\">}</span> <span style=\"font-weight: bold\">{</span>title: This feature is deprecated and will be removed in   <span style=\"color: #7f7f7f; text-decoration-color: #7f7f7f\">             </span>\n",
       "<span style=\"color: #7fbfbf; text-decoration-color: #7fbfbf\">                    </span>         future versions.<span style=\"font-weight: bold\">}</span> <span style=\"font-weight: bold\">{</span>description: The query used a deprecated field from a <span style=\"color: #7f7f7f; text-decoration-color: #7f7f7f\">             </span>\n",
       "<span style=\"color: #7fbfbf; text-decoration-color: #7fbfbf\">                    </span>         procedure. <span style=\"font-weight: bold\">(</span><span style=\"color: #008000; text-decoration-color: #008000\">'schema'</span> returned by <span style=\"color: #008000; text-decoration-color: #008000\">'gds.graph.drop'</span> is deprecated.<span style=\"font-weight: bold\">)}</span>       <span style=\"color: #7f7f7f; text-decoration-color: #7f7f7f\">             </span>\n",
       "<span style=\"color: #7fbfbf; text-decoration-color: #7fbfbf\">                    </span>         <span style=\"font-weight: bold\">{</span>position: line: <span style=\"color: #008080; text-decoration-color: #008080; font-weight: bold\">1</span>, column: <span style=\"color: #008080; text-decoration-color: #008080; font-weight: bold\">1</span>, offset: <span style=\"color: #008080; text-decoration-color: #008080; font-weight: bold\">0</span><span style=\"font-weight: bold\">}</span> for query: <span style=\"color: #008000; text-decoration-color: #008000\">\"CALL </span>              <span style=\"color: #7f7f7f; text-decoration-color: #7f7f7f\">             </span>\n",
       "<span style=\"color: #7fbfbf; text-decoration-color: #7fbfbf\">                    </span>         <span style=\"color: #008000; text-decoration-color: #008000\">gds.graph.drop('articleGraph')\"</span>                                          <span style=\"color: #7f7f7f; text-decoration-color: #7f7f7f\">             </span>\n",
       "</pre>\n"
      ],
      "text/plain": [
       "\u001b[2;36m[07/01/24 19:58:04]\u001b[0m\u001b[2;36m \u001b[0m\u001b[31mWARNING \u001b[0m Received notification from DBMS server: \u001b[1m{\u001b[0mseverity: WARNING\u001b[1m}\u001b[0m \u001b[1m{\u001b[0mcode:       \u001b]8;id=977083;file://c:\\Users\\Joycelyn\\anaconda3\\envs\\genai-hh\\Lib\\site-packages\\neo4j\\_sync\\work\\result.py\u001b\\\u001b[2mresult.py\u001b[0m\u001b]8;;\u001b\\\u001b[2m:\u001b[0m\u001b]8;id=996571;file://c:\\Users\\Joycelyn\\anaconda3\\envs\\genai-hh\\Lib\\site-packages\\neo4j\\_sync\\work\\result.py#321\u001b\\\u001b[2m321\u001b[0m\u001b]8;;\u001b\\\n",
       "\u001b[2;36m                    \u001b[0m         Neo.ClientNotification.Statement.FeatureDeprecationWarning\u001b[1m}\u001b[0m \u001b[1m{\u001b[0mcategory:   \u001b[2m             \u001b[0m\n",
       "\u001b[2;36m                    \u001b[0m         DEPRECATION\u001b[1m}\u001b[0m \u001b[1m{\u001b[0mtitle: This feature is deprecated and will be removed in   \u001b[2m             \u001b[0m\n",
       "\u001b[2;36m                    \u001b[0m         future versions.\u001b[1m}\u001b[0m \u001b[1m{\u001b[0mdescription: The query used a deprecated field from a \u001b[2m             \u001b[0m\n",
       "\u001b[2;36m                    \u001b[0m         procedure. \u001b[1m(\u001b[0m\u001b[32m'schema'\u001b[0m returned by \u001b[32m'gds.graph.drop'\u001b[0m is deprecated.\u001b[1m)\u001b[0m\u001b[1m}\u001b[0m       \u001b[2m             \u001b[0m\n",
       "\u001b[2;36m                    \u001b[0m         \u001b[1m{\u001b[0mposition: line: \u001b[1;36m1\u001b[0m, column: \u001b[1;36m1\u001b[0m, offset: \u001b[1;36m0\u001b[0m\u001b[1m}\u001b[0m for query: \u001b[32m\"CALL \u001b[0m              \u001b[2m             \u001b[0m\n",
       "\u001b[2;36m                    \u001b[0m         \u001b[32mgds.graph.drop\u001b[0m\u001b[32m(\u001b[0m\u001b[32m'articleGraph'\u001b[0m\u001b[32m)\u001b[0m\u001b[32m\"\u001b[0m                                          \u001b[2m             \u001b[0m\n"
      ]
     },
     "metadata": {},
     "output_type": "display_data"
    }
   ],
   "source": [
    "with GraphDatabase.driver(**NEO4J) as driver:\n",
    "    with driver.session() as session:\n",
    "        session.execute_write(clear_db)  # Clear the database\n",
    "        for doc in documents:\n",
    "            session.execute_write(create_graph_nodes, doc)\n",
    "        session.execute_write(create_sim_edges, THRESHOLD)\n",
    "        session.execute_write(drop_graph_projection)\n",
    "        session.execute_write(create_graph_proj)\n",
    "        session.execute_write(detect_community)\n",
    "        records = session.execute_read(return_community)\n",
    "        pred_cluster = session.execute_read(return_pred_cluster)\n",
    "        articles_count = session.execute_read(count_articles)"
   ]
  },
  {
   "cell_type": "code",
   "execution_count": 11,
   "metadata": {},
   "outputs": [],
   "source": [
    "pred_cluster_df = pd.DataFrame(pred_cluster, columns=[\"id\", \"title\", \"pred_cluster\"])\n",
    "\n",
    "cluster_article_count = pd.DataFrame(\n",
    "    articles_count, columns=[\"pred_cluster_number\", \"article_count\"]\n",
    ")"
   ]
  },
  {
   "cell_type": "code",
   "execution_count": 12,
   "metadata": {},
   "outputs": [
    {
     "data": {
      "text/html": [
       "<pre style=\"white-space:pre;overflow-x:auto;line-height:normal;font-family:Menlo,'DejaVu Sans Mono',consolas,'Courier New',monospace\"></pre>\n"
      ],
      "text/plain": []
     },
     "metadata": {},
     "output_type": "display_data"
    },
    {
     "data": {
      "text/html": [
       "<div>\n",
       "<style scoped>\n",
       "    .dataframe tbody tr th:only-of-type {\n",
       "        vertical-align: middle;\n",
       "    }\n",
       "\n",
       "    .dataframe tbody tr th {\n",
       "        vertical-align: top;\n",
       "    }\n",
       "\n",
       "    .dataframe thead th {\n",
       "        text-align: right;\n",
       "    }\n",
       "</style>\n",
       "<table border=\"1\" class=\"dataframe\">\n",
       "  <thead>\n",
       "    <tr style=\"text-align: right;\">\n",
       "      <th></th>\n",
       "      <th>id</th>\n",
       "      <th>Page Title</th>\n",
       "      <th>URL</th>\n",
       "      <th>ground_truth_cluster</th>\n",
       "      <th>pred_cluster</th>\n",
       "    </tr>\n",
       "  </thead>\n",
       "  <tbody>\n",
       "    <tr>\n",
       "      <th>0</th>\n",
       "      <td>1443987</td>\n",
       "      <td>All You Need to Know About Childhood Immunisat...</td>\n",
       "      <td>https://www.healthhub.sg/live-healthy/all-you-...</td>\n",
       "      <td>16</td>\n",
       "      <td>79</td>\n",
       "    </tr>\n",
       "    <tr>\n",
       "      <th>1</th>\n",
       "      <td>1442828</td>\n",
       "      <td>Getting ready for solids</td>\n",
       "      <td>https://www.healthhub.sg/live-healthy/baby-get...</td>\n",
       "      <td>1</td>\n",
       "      <td>81</td>\n",
       "    </tr>\n",
       "  </tbody>\n",
       "</table>\n",
       "</div>"
      ],
      "text/plain": [
       "\n",
       "        id                                         Page Title  \\\n",
       "\u001b[1;36m0\u001b[0m  \u001b[1;36m1443987\u001b[0m  All You Need to Know About Childhood Immunisat\u001b[33m...\u001b[0m   \n",
       "\u001b[1;36m1\u001b[0m  \u001b[1;36m1442828\u001b[0m                           Getting ready for solids   \n",
       "\n",
       "                                                 URL  ground_truth_cluster  \\\n",
       "\u001b[1;36m0\u001b[0m  \u001b[4;94mhttps://www.healthhub.sg/live-healthy/all-you-...\u001b[0m                    \u001b[1;36m16\u001b[0m   \n",
       "\u001b[1;36m1\u001b[0m  \u001b[4;94mhttps://www.healthhub.sg/live-healthy/baby-get...\u001b[0m                     \u001b[1;36m1\u001b[0m   \n",
       "\n",
       "   pred_cluster  \n",
       "\u001b[1;36m0\u001b[0m            \u001b[1;36m79\u001b[0m  \n",
       "\u001b[1;36m1\u001b[0m            \u001b[1;36m81\u001b[0m  "
      ]
     },
     "execution_count": 12,
     "metadata": {},
     "output_type": "execute_result"
    }
   ],
   "source": [
    "results_df = pd.merge(\n",
    "    articles_df, pred_cluster_df, how=\"inner\", left_on=\"id\", right_on=\"id\"\n",
    ")\n",
    "\n",
    "results_df = results_df[\n",
    "    [\"id\", \"Page Title\", \"URL\", \"ground_truth_cluster\", \"pred_cluster\"]\n",
    "]\n",
    "results_df[\"ground_truth_cluster\"] = results_df[\"ground_truth_cluster\"].astype(int)\n",
    "\n",
    "results_df.head(2)"
   ]
  },
  {
   "cell_type": "markdown",
   "metadata": {},
   "source": [
    "## Cluster metrics"
   ]
  },
  {
   "cell_type": "code",
   "execution_count": 13,
   "metadata": {},
   "outputs": [],
   "source": [
    "def get_exact_match(results_df):\n",
    "    pred_cluster_labels = results_df.groupby(\"pred_cluster\")[\"id\"].apply(set).to_list()\n",
    "    ground_cluster_labels = (\n",
    "        results_df.groupby(\"ground_truth_cluster\")[\"id\"].apply(set).to_list()\n",
    "    )\n",
    "    complete_match = [s for s in pred_cluster_labels if s in ground_cluster_labels]\n",
    "\n",
    "    return len(complete_match)\n",
    "\n",
    "\n",
    "def fill_single(series):\n",
    "    max_val = series.max()\n",
    "    fill_in_val = max_val\n",
    "    filled_series = series.copy()\n",
    "    for idx in series[series.isna()].index:\n",
    "        filled_series.at[idx] = fill_in_val + 1\n",
    "        fill_in_val += 1\n",
    "    return filled_series.to_list()\n",
    "\n",
    "\n",
    "def compute_vmeasure(results_df):\n",
    "    ground_truth_labels = fill_single(results_df[\"ground_truth_cluster\"])\n",
    "    predicted_labels = fill_single(results_df[\"pred_cluster\"])\n",
    "    homogeneity = homogeneity_score(ground_truth_labels, predicted_labels)\n",
    "    completeness = completeness_score(ground_truth_labels, predicted_labels)\n",
    "    v_measure = v_measure_score(ground_truth_labels, predicted_labels)\n",
    "\n",
    "    return homogeneity, completeness, v_measure"
   ]
  },
  {
   "cell_type": "code",
   "execution_count": 14,
   "metadata": {},
   "outputs": [],
   "source": [
    "min_count = cluster_article_count[cluster_article_count[\"article_count\"] > 1][\n",
    "    \"article_count\"\n",
    "].min()\n",
    "max_count = cluster_article_count[\"article_count\"].max()\n",
    "num_clusters = len(cluster_article_count)\n",
    "unclustered_count = (cluster_article_count[\"article_count\"] == 1).sum()\n",
    "\n",
    "exact_match = get_exact_match(results_df)\n",
    "homogeneity, completeness, v_measure = compute_vmeasure(results_df)\n",
    "\n",
    "data = pd.DataFrame(\n",
    "    {\n",
    "        \"Model\": [MODEL_NAME],\n",
    "        \"Threshold\": [THRESHOLD],\n",
    "        \"Exact cluster match\": [exact_match],\n",
    "        \"Homogeneity\": [round(homogeneity, 4)],\n",
    "        \"Completeness\": [round(completeness, 4)],\n",
    "        \"V-measure\": [round(v_measure, 4)],\n",
    "        \"Number of clusters\": [num_clusters],\n",
    "        \"Min cluster size\": [min_count],\n",
    "        \"Max cluster size\": [max_count],\n",
    "        \"Number of articles not clustered\": [unclustered_count],\n",
    "    }\n",
    ")"
   ]
  },
  {
   "cell_type": "code",
   "execution_count": 15,
   "metadata": {},
   "outputs": [
    {
     "data": {
      "text/html": [
       "<pre style=\"white-space:pre;overflow-x:auto;line-height:normal;font-family:Menlo,'DejaVu Sans Mono',consolas,'Courier New',monospace\"></pre>\n"
      ],
      "text/plain": []
     },
     "metadata": {},
     "output_type": "display_data"
    },
    {
     "data": {
      "text/html": [
       "<div>\n",
       "<style scoped>\n",
       "    .dataframe tbody tr th:only-of-type {\n",
       "        vertical-align: middle;\n",
       "    }\n",
       "\n",
       "    .dataframe tbody tr th {\n",
       "        vertical-align: top;\n",
       "    }\n",
       "\n",
       "    .dataframe thead th {\n",
       "        text-align: right;\n",
       "    }\n",
       "</style>\n",
       "<table border=\"1\" class=\"dataframe\">\n",
       "  <thead>\n",
       "    <tr style=\"text-align: right;\">\n",
       "      <th></th>\n",
       "      <th>Model</th>\n",
       "      <th>Threshold</th>\n",
       "      <th>Exact cluster match</th>\n",
       "      <th>Homogeneity</th>\n",
       "      <th>Completeness</th>\n",
       "      <th>V-measure</th>\n",
       "      <th>Number of clusters</th>\n",
       "      <th>Min cluster size</th>\n",
       "      <th>Max cluster size</th>\n",
       "      <th>Number of articles not clustered</th>\n",
       "    </tr>\n",
       "  </thead>\n",
       "  <tbody>\n",
       "    <tr>\n",
       "      <th>0</th>\n",
       "      <td>multi-qa-mpnet-base-cos-v1</td>\n",
       "      <td>0.7</td>\n",
       "      <td>14</td>\n",
       "      <td>0.796</td>\n",
       "      <td>0.8995</td>\n",
       "      <td>0.8446</td>\n",
       "      <td>51</td>\n",
       "      <td>2</td>\n",
       "      <td>23</td>\n",
       "      <td>23</td>\n",
       "    </tr>\n",
       "  </tbody>\n",
       "</table>\n",
       "</div>"
      ],
      "text/plain": [
       "\n",
       "                        Model  Threshold  Exact cluster match  Homogeneity  \\\n",
       "\u001b[1;36m0\u001b[0m  multi-qa-mpnet-base-cos-v1        \u001b[1;36m0.7\u001b[0m                   \u001b[1;36m14\u001b[0m        \u001b[1;36m0.796\u001b[0m   \n",
       "\n",
       "   Completeness  V-measure  Number of clusters  Min cluster size  \\\n",
       "\u001b[1;36m0\u001b[0m        \u001b[1;36m0.8995\u001b[0m     \u001b[1;36m0.8446\u001b[0m                  \u001b[1;36m51\u001b[0m                 \u001b[1;36m2\u001b[0m   \n",
       "\n",
       "   Max cluster size  Number of articles not clustered  \n",
       "\u001b[1;36m0\u001b[0m                \u001b[1;36m23\u001b[0m                                \u001b[1;36m23\u001b[0m  "
      ]
     },
     "execution_count": 15,
     "metadata": {},
     "output_type": "execute_result"
    }
   ],
   "source": [
    "if os.path.exists(OUTPUT_CLUSTER_METRICS_PATH):\n",
    "    metrics_df = pd.read_csv(OUTPUT_CLUSTER_METRICS_PATH, index_col=0)\n",
    "else:\n",
    "    metrics_df = pd.DataFrame()\n",
    "\n",
    "metrics_df = pd.concat([metrics_df, data], axis=1)\n",
    "metrics_df.to_csv(OUTPUT_CLUSTER_METRICS_PATH, index=False)\n",
    "metrics_df"
   ]
  }
 ],
 "metadata": {
  "kernelspec": {
   "display_name": ".venv",
   "language": "python",
   "name": "python3"
  },
  "language_info": {
   "codemirror_mode": {
    "name": "ipython",
    "version": 3
   },
   "file_extension": ".py",
   "mimetype": "text/x-python",
   "name": "python",
   "nbconvert_exporter": "python",
   "pygments_lexer": "ipython3",
   "version": "3.12.3"
  }
 },
 "nbformat": 4,
 "nbformat_minor": 2
}
